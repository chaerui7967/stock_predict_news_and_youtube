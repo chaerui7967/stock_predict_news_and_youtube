{
  "nbformat": 4,
  "nbformat_minor": 0,
  "metadata": {
    "colab": {
      "name": "유튜브 영상에서 스크립트 추출하기.ipynb",
      "provenance": []
    },
    "kernelspec": {
      "name": "python3",
      "display_name": "Python 3"
    }
  },
  "cells": [
    {
      "cell_type": "markdown",
      "metadata": {
        "id": "l-FZlOpEJqTY"
      },
      "source": [
        "# ㅁ OVERVIEW\n",
        "\n",
        "## Youtube 영상에서 스크립트 추출하기 "
      ]
    },
    {
      "cell_type": "markdown",
      "metadata": {
        "id": "odEr1LIXJ14f"
      },
      "source": [
        "# ㅁ Requirements\n",
        "## ㅇ youtube-dl : Youtube 영상 다운로드 라이브러리\n",
        "## ㅇ pysrt : srt 자막 분석 라이브러리"
      ]
    },
    {
      "cell_type": "code",
      "metadata": {
        "id": "zIhP_f-WTEqQ",
        "colab": {
          "base_uri": "https://localhost:8080/",
          "height": 71
        },
        "outputId": "225fcb5d-536f-458f-d18b-66c7935cf0d2"
      },
      "source": [
        "!pip3 install youtube-dl\n",
        "!pip3 install pysrt"
      ],
      "execution_count": null,
      "outputs": [
        {
          "output_type": "stream",
          "text": [
            "Requirement already satisfied: youtube-dl in /usr/local/lib/python3.6/dist-packages (2019.3.1)\n",
            "Requirement already satisfied: pysrt in /usr/local/lib/python3.6/dist-packages (1.1.1)\n",
            "Requirement already satisfied: chardet in /usr/local/lib/python3.6/dist-packages (from pysrt) (3.0.4)\n"
          ],
          "name": "stdout"
        }
      ]
    },
    {
      "cell_type": "markdown",
      "metadata": {
        "id": "tNadRMH_KknK"
      },
      "source": [
        "# ㅁ Google Drive 연결하기\n",
        "1. 아래 코드 실행"
      ]
    },
    {
      "cell_type": "code",
      "metadata": {
        "id": "LybLep0JnyhD",
        "colab": {
          "base_uri": "https://localhost:8080/",
          "height": 127
        },
        "outputId": "93a954b5-2ecf-4306-9e32-310426f6b124"
      },
      "source": [
        "from google.colab import drive\n",
        "drive.mount('/gdrive')"
      ],
      "execution_count": null,
      "outputs": [
        {
          "output_type": "stream",
          "text": [
            "Go to this URL in a browser: https://accounts.google.com/o/oauth2/auth?client_id=947318989803-6bn6qk8qdgf4n4g3pfee6491hc0brc4i.apps.googleusercontent.com&redirect_uri=urn%3Aietf%3Awg%3Aoauth%3A2.0%3Aoob&scope=email%20https%3A%2F%2Fwww.googleapis.com%2Fauth%2Fdocs.test%20https%3A%2F%2Fwww.googleapis.com%2Fauth%2Fdrive%20https%3A%2F%2Fwww.googleapis.com%2Fauth%2Fdrive.photos.readonly%20https%3A%2F%2Fwww.googleapis.com%2Fauth%2Fpeopleapi.readonly&response_type=code\n",
            "\n",
            "Enter your authorization code:\n",
            "··········\n",
            "Mounted at /gdrive\n"
          ],
          "name": "stdout"
        }
      ]
    },
    {
      "cell_type": "markdown",
      "metadata": {
        "id": "zDcnZLZ1MOu3"
      },
      "source": [
        "2. 인증키를 복사 후 입력\n",
        "\n",
        ". ![대체 텍스트](https://i.ibb.co/G7MGkGq/1.png)"
      ]
    },
    {
      "cell_type": "markdown",
      "metadata": {
        "id": "IOR700U6KKtp"
      },
      "source": [
        "# ㅁ Config\n",
        "## ㅇ YOUTUBE_REPO : Youtube 영상 및 자막이 다운로드될 폴더"
      ]
    },
    {
      "cell_type": "code",
      "metadata": {
        "id": "uaQcVEezyNsA"
      },
      "source": [
        "YOUTUBE_REPO='YoutubeRepo'\n",
        "YOUTUBE_REPO_PATH='/gdrive/My Drive/%s'%(YOUTUBE_REPO)\n",
        "\n",
        "import os\n",
        "if not os.path.exists(YOUTUBE_REPO_PATH):\n",
        "  !mkdir '{YOUTUBE_REPO_PATH}'"
      ],
      "execution_count": null,
      "outputs": []
    },
    {
      "cell_type": "markdown",
      "metadata": {
        "id": "BpPb1Pk7M2Tg"
      },
      "source": [
        "# ㅁ Youtube 영상 가져오기 메인 루틴\n",
        "## ㅇ동영상, 자막, 썸네일 가져오기"
      ]
    },
    {
      "cell_type": "code",
      "metadata": {
        "id": "0Ta709GFrG_D"
      },
      "source": [
        "def 동영상가져오기(주소, 자막언어, format_code='best'):\n",
        "  !youtube-dl -f {format_code} -o '{YOUTUBE_REPO_PATH}/%(title)s.%(ext)s'  --min-filesize 50k --ignore-errors --write-all-thumbnails --no-call-home --sub-lang {자막언어} --write-sub --sub-format srt --convert-subtitles srt --write-auto-sub {주소} "
      ],
      "execution_count": null,
      "outputs": []
    },
    {
      "cell_type": "code",
      "metadata": {
        "id": "aeVk_PrYr4f4",
        "colab": {
          "base_uri": "https://localhost:8080/",
          "height": 449
        },
        "outputId": "fe818d81-d786-4f91-fccc-57d8fa152cd7"
      },
      "source": [
        "# url='https://www.youtube.com/watch?v=2FmcHiLCwTU'\n",
        "url='https://www.youtube.com/watch?v=AdQKiK__qSw&t=27s'\n",
        "동영상가져오기(url,'en')\n",
        "동영상가져오기(url,'ko')"
      ],
      "execution_count": null,
      "outputs": [
        {
          "output_type": "stream",
          "text": [
            "[youtube] AdQKiK__qSw: Downloading webpage\n",
            "[youtube] AdQKiK__qSw: Downloading video info webpage\n",
            "\u001b[0;33mWARNING:\u001b[0m video doesn't have subtitles\n",
            "[youtube] AdQKiK__qSw: Looking for automatic captions\n",
            "\u001b[0;33mWARNING:\u001b[0m No subtitle format found matching \"srt\" for language en, using vtt\n",
            "[info] Writing video subtitles to: /gdrive/My Drive/YoutubeRepo/An Introduction to the PhD in Data Science at NYU.en.vtt\n",
            "[youtube] AdQKiK__qSw: Downloading thumbnail ...\n",
            "[youtube] AdQKiK__qSw: Writing thumbnail to: /gdrive/My Drive/YoutubeRepo/An Introduction to the PhD in Data Science at NYU.jpg\n",
            "[download] Destination: /gdrive/My Drive/YoutubeRepo/An Introduction to the PhD in Data Science at NYU.mp4\n",
            "\u001b[K[download] 100% of 38.69MiB in 00:01\n",
            "[ffmpeg] Converting subtitles\n",
            "Deleting original file /gdrive/My Drive/YoutubeRepo/An Introduction to the PhD in Data Science at NYU.en.vtt (pass -k to keep)\n",
            "[youtube] AdQKiK__qSw: Downloading webpage\n",
            "[youtube] AdQKiK__qSw: Downloading video info webpage\n",
            "\u001b[0;33mWARNING:\u001b[0m video doesn't have subtitles\n",
            "[youtube] AdQKiK__qSw: Looking for automatic captions\n",
            "\u001b[0;33mWARNING:\u001b[0m No subtitle format found matching \"srt\" for language ko, using vtt\n",
            "[info] Writing video subtitles to: /gdrive/My Drive/YoutubeRepo/An Introduction to the PhD in Data Science at NYU.ko.vtt\n",
            "[youtube] AdQKiK__qSw: Downloading thumbnail ...\n",
            "[youtube] AdQKiK__qSw: Writing thumbnail to: /gdrive/My Drive/YoutubeRepo/An Introduction to the PhD in Data Science at NYU.jpg\n",
            "[download] /gdrive/My Drive/YoutubeRepo/An Introduction to the PhD in Data Science at NYU.mp4 has already been downloaded\n",
            "\u001b[K[download] 100% of 38.69MiB\n",
            "[ffmpeg] Converting subtitles\n",
            "Deleting original file /gdrive/My Drive/YoutubeRepo/An Introduction to the PhD in Data Science at NYU.ko.vtt (pass -k to keep)\n"
          ],
          "name": "stdout"
        }
      ]
    },
    {
      "cell_type": "code",
      "metadata": {
        "id": "lCl8t86QuOLQ",
        "colab": {
          "base_uri": "https://localhost:8080/",
          "height": 197
        },
        "outputId": "27f7b618-ac2c-49b4-cc08-21e68b994c20"
      },
      "source": [
        "!ls '{YOUTUBE_REPO_PATH}'"
      ],
      "execution_count": null,
      "outputs": [
        {
          "output_type": "stream",
          "text": [
            "'An Introduction to the PhD in Data Science at NYU.en.srt'\n",
            "'An Introduction to the PhD in Data Science at NYU.jpg'\n",
            "'An Introduction to the PhD in Data Science at NYU.ko.srt'\n",
            "'An Introduction to the PhD in Data Science at NYU.mp4'\n",
            "'TensorFlow in 5 Minutes (tutorial).en.srt'\n",
            "'TensorFlow in 5 Minutes (tutorial).en.txt'\n",
            "'TensorFlow in 5 Minutes (tutorial).jpg'\n",
            "'TensorFlow in 5 Minutes (tutorial).ko.srt'\n",
            "'TensorFlow in 5 Minutes (tutorial).ko.txt'\n",
            "'TensorFlow in 5 Minutes (tutorial).mp4'\n"
          ],
          "name": "stdout"
        }
      ]
    },
    {
      "cell_type": "markdown",
      "metadata": {
        "id": "qG1QuIMHP0On"
      },
      "source": [
        "**Google Drive 에 아래와 같이 파일이 생성되어 있음**\n",
        "\n",
        "![대체 텍스트](https://i.ibb.co/BjHdbtb/2.png)"
      ]
    },
    {
      "cell_type": "markdown",
      "metadata": {
        "id": "_gU57OtLNQWA"
      },
      "source": [
        "## ㅇ srt 자막에서 스크립트 추출하기"
      ]
    },
    {
      "cell_type": "code",
      "metadata": {
        "id": "US1C6VEiTffz",
        "colab": {
          "base_uri": "https://localhost:8080/",
          "height": 89
        },
        "outputId": "6366638a-8aeb-4b6e-a64c-eba64dec4bec"
      },
      "source": [
        "import os\n",
        "import glob\n",
        "import pysrt\n",
        "\n",
        "sub_file_list = glob.glob(os.path.join(YOUTUBE_REPO_PATH,\"*.srt\"))\n",
        "# sub_file_list = [\n",
        "#                  \"An Introduction to the PhD in Data Science at NYU.en.srt\"\n",
        "#                  ,\"An Introduction to the PhD in Data Science at NYU.ko.srt\"                 \n",
        "#                 ]\n",
        "\n",
        "sub_file_list = map(lambda x:os.path.join(YOUTUBE_REPO_PATH,x),sub_file_list)\n",
        "\n",
        "for sub_file in sub_file_list:\n",
        "  print(sub_file)\n",
        "  subs = pysrt.open(sub_file)\n",
        "  entire_text = ''\n",
        "  for sub in subs:\n",
        "    text = sub.text\n",
        "    entire_text += sub.text_without_tags + ' '\n",
        "\n",
        "  with open('%s.txt'%(sub_file[:-4]),'w') as f:\n",
        "    f.write(entire_text)\n",
        "  \n"
      ],
      "execution_count": null,
      "outputs": [
        {
          "output_type": "stream",
          "text": [
            "/gdrive/My Drive/YoutubeRepo/TensorFlow in 5 Minutes (tutorial).en.srt\n",
            "/gdrive/My Drive/YoutubeRepo/TensorFlow in 5 Minutes (tutorial).ko.srt\n",
            "/gdrive/My Drive/YoutubeRepo/An Introduction to the PhD in Data Science at NYU.en.srt\n",
            "/gdrive/My Drive/YoutubeRepo/An Introduction to the PhD in Data Science at NYU.ko.srt\n"
          ],
          "name": "stdout"
        }
      ]
    },
    {
      "cell_type": "markdown",
      "metadata": {
        "id": "-y5V-bXKNZUY"
      },
      "source": [
        "## ㅇ 추출된 스크립트 확인하기"
      ]
    },
    {
      "cell_type": "code",
      "metadata": {
        "id": "V4kLzWM0CdsA",
        "colab": {
          "base_uri": "https://localhost:8080/",
          "height": 89
        },
        "outputId": "dd74b2b0-175d-4598-b0e5-992992c91873"
      },
      "source": [
        "with open(os.path.join(YOUTUBE_REPO_PATH,\"An Introduction to the PhD in Data Science at NYU.en.txt\"), \"r\") as f:\n",
        "  text = f.read()\n",
        "  print(text[:300])\n"
      ],
      "execution_count": null,
      "outputs": [
        {
          "output_type": "stream",
          "text": [
            " so NYU is the world's largest so NYU is the world's largest\n",
            "independent research university and was independent research university and was independent research university and was\n",
            "a very early mover in the area of data a very early mover in the area of data a very early mover in the area of data\n",
            "sc\n"
          ],
          "name": "stdout"
        }
      ]
    },
    {
      "cell_type": "markdown",
      "metadata": {
        "id": "xs60qr_bNs74"
      },
      "source": [
        "# ㅁ 추가 내용\n",
        "## ㅇ '동영상가져오기' 함수 파라미터 format_code 에 사용할 수 있는 값 확인"
      ]
    },
    {
      "cell_type": "code",
      "metadata": {
        "id": "On9SB8NDEn6X",
        "colab": {
          "base_uri": "https://localhost:8080/",
          "height": 413
        },
        "outputId": "9e1757e3-4087-4864-bf70-15d64ffdbf45"
      },
      "source": [
        "url = 'https://www.youtube.com/watch?v=n0o1kgBRjh8'\n",
        "!youtube-dl -F {url}"
      ],
      "execution_count": null,
      "outputs": [
        {
          "output_type": "stream",
          "text": [
            "[youtube] n0o1kgBRjh8: Downloading webpage\n",
            "[youtube] n0o1kgBRjh8: Downloading video info webpage\n",
            "[info] Available formats for n0o1kgBRjh8:\n",
            "format code  extension  resolution note\n",
            "249          webm       audio only DASH audio   64k , opus @ 50k, 668.05KiB\n",
            "250          webm       audio only DASH audio   85k , opus @ 70k, 889.99KiB\n",
            "171          webm       audio only DASH audio  115k , vorbis@128k, 1.18MiB\n",
            "140          m4a        audio only DASH audio  127k , m4a_dash container, mp4a.40.2@128k, 1.51MiB\n",
            "251          webm       audio only DASH audio  160k , opus @160k, 1.64MiB\n",
            "278          webm       256x144    144p   97k , webm container, vp9, 30fps, video only, 600.58KiB\n",
            "160          mp4        256x144    144p  109k , avc1.4d400c, 30fps, video only, 377.40KiB\n",
            "242          webm       426x240    240p  239k , vp9, 30fps, video only, 1.04MiB\n",
            "133          mp4        426x240    240p  241k , avc1.4d4015, 30fps, video only, 657.33KiB\n",
            "243          webm       640x360    360p  539k , vp9, 30fps, video only, 1.97MiB\n",
            "134          mp4        640x360    360p  625k , avc1.4d401e, 30fps, video only, 1.42MiB\n",
            "244          webm       854x480    480p  834k , vp9, 30fps, video only, 3.19MiB\n",
            "135          mp4        854x480    480p 1204k , avc1.4d401f, 30fps, video only, 2.54MiB\n",
            "247          webm       1280x720   720p 1741k , vp9, 30fps, video only, 6.48MiB\n",
            "136          mp4        1280x720   720p 2315k , avc1.4d401f, 30fps, video only, 4.57MiB\n",
            "248          webm       1920x1080  1080p 3148k , vp9, 30fps, video only, 12.08MiB\n",
            "137          mp4        1920x1080  1080p 4315k , avc1.640028, 30fps, video only, 8.53MiB\n",
            "18           mp4        640x360    medium  400k , avc1.42001E, mp4a.40.2@ 96k (44100Hz), 4.75MiB (best)\n"
          ],
          "name": "stdout"
        }
      ]
    },
    {
      "cell_type": "code",
      "metadata": {
        "id": "KdUNi6HpCWju",
        "colab": {
          "base_uri": "https://localhost:8080/",
          "height": 197
        },
        "outputId": "cf492cff-d6a7-4864-cfa2-57055948dc0f"
      },
      "source": [
        "동영상가져오기(url,'en',251)"
      ],
      "execution_count": null,
      "outputs": [
        {
          "output_type": "stream",
          "text": [
            "[youtube] n0o1kgBRjh8: Downloading webpage\n",
            "[youtube] n0o1kgBRjh8: Downloading video info webpage\n",
            "\u001b[0;33mWARNING:\u001b[0m video doesn't have subtitles\n",
            "[youtube] n0o1kgBRjh8: Looking for automatic captions\n",
            "\u001b[0;33mWARNING:\u001b[0m Couldn't find automatic captions for n0o1kgBRjh8\n",
            "[youtube] n0o1kgBRjh8: Downloading thumbnail ...\n",
            "[youtube] n0o1kgBRjh8: Writing thumbnail to: /gdrive/My Drive/YoutubeRepo/[piano sheet] 젓가락 행진곡 (Celebrated Chop Waltz) - 아르튀르 드 륄리 (Arthur de Lulli).jpg\n",
            "[download] Destination: /gdrive/My Drive/YoutubeRepo/[piano sheet] 젓가락 행진곡 (Celebrated Chop Waltz) - 아르튀르 드 륄리 (Arthur de Lulli).webm\n",
            "\u001b[K[download] 100% of 1.64MiB in 00:00\n",
            "[ffmpeg] There aren't any subtitles to convert\n"
          ],
          "name": "stdout"
        }
      ]
    },
    {
      "cell_type": "code",
      "metadata": {
        "id": "e7-ogWIsCm0-",
        "colab": {
          "base_uri": "https://localhost:8080/",
          "height": 287
        },
        "outputId": "1e371b1d-4df3-48be-eaff-301b5793b904"
      },
      "source": [
        "!ls -al '{YOUTUBE_REPO_PATH}'"
      ],
      "execution_count": null,
      "outputs": [
        {
          "output_type": "stream",
          "text": [
            "total 57627\n",
            "-rw------- 1 root root    19550 Mar  4 00:03 'An Introduction to the PhD in Data Science at NYU.en.srt'\n",
            "-rw------- 1 root root    11822 Mar  4 00:04 'An Introduction to the PhD in Data Science at NYU.en.txt'\n",
            "-rw------- 1 root root    57518 Mar  4 00:04 'An Introduction to the PhD in Data Science at NYU.jpg'\n",
            "-rw------- 1 root root     7918 Mar  4 00:04 'An Introduction to the PhD in Data Science at NYU.ko.srt'\n",
            "-rw------- 1 root root     4210 Mar  4 00:04 'An Introduction to the PhD in Data Science at NYU.ko.txt'\n",
            "-rw------- 1 root root 40571755 Oct  5  2016 'An Introduction to the PhD in Data Science at NYU.mp4'\n",
            "-rw------- 1 root root   103242 Mar  4 00:11 '[piano sheet] 젓가락 행진곡 (Celebrated Chop Waltz) - 아르튀르 드 륄리 (Arthur de Lulli).jpg'\n",
            "-rw------- 1 root root  1722107 Dec 10  2017 '[piano sheet] 젓가락 행진곡 (Celebrated Chop Waltz) - 아르튀르 드 륄리 (Arthur de Lulli).webm'\n",
            "-rw------- 1 root root     9830 Mar  4 00:03 'TensorFlow in 5 Minutes (tutorial).en.srt'\n",
            "-rw------- 1 root root     6724 Mar  4 00:04 'TensorFlow in 5 Minutes (tutorial).en.txt'\n",
            "-rw------- 1 root root    89446 Mar  4 00:03 'TensorFlow in 5 Minutes (tutorial).jpg'\n",
            "-rw------- 1 root root    14423 Mar  4 00:03 'TensorFlow in 5 Minutes (tutorial).ko.srt'\n",
            "-rw------- 1 root root     8123 Mar  4 00:04 'TensorFlow in 5 Minutes (tutorial).ko.txt'\n",
            "-rw------- 1 root root 16378402 Oct 25 07:15 'TensorFlow in 5 Minutes (tutorial).mp4'\n"
          ],
          "name": "stdout"
        }
      ]
    },
    {
      "cell_type": "code",
      "metadata": {
        "id": "po6vo0PFDTM2",
        "colab": {
          "base_uri": "https://localhost:8080/",
          "height": 541
        },
        "outputId": "e4f767d5-7b9b-4b8e-e56d-cfbcf4c46329"
      },
      "source": [
        "FILE='[piano sheet] 젓가락 행진곡 (Celebrated Chop Waltz) - 아르튀르 드 륄리 (Arthur de Lulli).webm'\n",
        "\n",
        "!ffmpeg -i \"{YOUTUBE_REPO_PATH}/{FILE}\" -vn -ab 128k -ar 44100 -y \"{YOUTUBE_REPO_PATH}/{FILE[:-5]}.mp3\";"
      ],
      "execution_count": null,
      "outputs": [
        {
          "output_type": "stream",
          "text": [
            "ffmpeg version 3.4.4-0ubuntu0.18.04.1 Copyright (c) 2000-2018 the FFmpeg developers\n",
            "  built with gcc 7 (Ubuntu 7.3.0-16ubuntu3)\n",
            "  configuration: --prefix=/usr --extra-version=0ubuntu0.18.04.1 --toolchain=hardened --libdir=/usr/lib/x86_64-linux-gnu --incdir=/usr/include/x86_64-linux-gnu --enable-gpl --disable-stripping --enable-avresample --enable-avisynth --enable-gnutls --enable-ladspa --enable-libass --enable-libbluray --enable-libbs2b --enable-libcaca --enable-libcdio --enable-libflite --enable-libfontconfig --enable-libfreetype --enable-libfribidi --enable-libgme --enable-libgsm --enable-libmp3lame --enable-libmysofa --enable-libopenjpeg --enable-libopenmpt --enable-libopus --enable-libpulse --enable-librubberband --enable-librsvg --enable-libshine --enable-libsnappy --enable-libsoxr --enable-libspeex --enable-libssh --enable-libtheora --enable-libtwolame --enable-libvorbis --enable-libvpx --enable-libwavpack --enable-libwebp --enable-libx265 --enable-libxml2 --enable-libxvid --enable-libzmq --enable-libzvbi --enable-omx --enable-openal --enable-opengl --enable-sdl2 --enable-libdc1394 --enable-libdrm --enable-libiec61883 --enable-chromaprint --enable-frei0r --enable-libopencv --enable-libx264 --enable-shared\n",
            "  libavutil      55. 78.100 / 55. 78.100\n",
            "  libavcodec     57.107.100 / 57.107.100\n",
            "  libavformat    57. 83.100 / 57. 83.100\n",
            "  libavdevice    57. 10.100 / 57. 10.100\n",
            "  libavfilter     6.107.100 /  6.107.100\n",
            "  libavresample   3.  7.  0 /  3.  7.  0\n",
            "  libswscale      4.  8.100 /  4.  8.100\n",
            "  libswresample   2.  9.100 /  2.  9.100\n",
            "  libpostproc    54.  7.100 / 54.  7.100\n",
            "Input #0, matroska,webm, from '/gdrive/My Drive/YoutubeRepo/[piano sheet] 젓가락 행진곡 (Celebrated Chop Waltz) - 아르튀르 드 륄리 (Arthur de Lulli).webm':\n",
            "  Metadata:\n",
            "    encoder         : google/video-file\n",
            "  Duration: 00:01:39.50, start: -0.007000, bitrate: 138 kb/s\n",
            "    Stream #0:0(eng): Audio: opus, 48000 Hz, stereo, fltp (default)\n",
            "Stream mapping:\n",
            "  Stream #0:0 -> #0:0 (opus (native) -> mp3 (libmp3lame))\n",
            "Press [q] to stop, [?] for help\n",
            "Output #0, mp3, to '/gdrive/My Drive/YoutubeRepo/[piano sheet] 젓가락 행진곡 (Celebrated Chop Waltz) - 아르튀르 드 륄리 (Arthur de Lulli).mp3':\n",
            "  Metadata:\n",
            "    TSSE            : Lavf57.83.100\n",
            "    Stream #0:0(eng): Audio: mp3 (libmp3lame), 44100 Hz, stereo, fltp, 128 kb/s (default)\n",
            "    Metadata:\n",
            "      encoder         : Lavc57.107.100 libmp3lame\n",
            "size=    1556kB time=00:01:39.50 bitrate= 128.1kbits/s speed=  24x    \n",
            "video:0kB audio:1555kB subtitle:0kB other streams:0kB global headers:0kB muxing overhead: 0.029012%\n"
          ],
          "name": "stdout"
        }
      ]
    },
    {
      "cell_type": "code",
      "metadata": {
        "id": "gotoFteDDmo_",
        "colab": {
          "base_uri": "https://localhost:8080/",
          "height": 305
        },
        "outputId": "bfdf93d7-a7c6-45b3-c398-f6fb4c11dd43"
      },
      "source": [
        "!ls -al '{YOUTUBE_REPO_PATH}'"
      ],
      "execution_count": null,
      "outputs": [
        {
          "output_type": "stream",
          "text": [
            "total 59183\n",
            "-rw------- 1 root root    19550 Mar  4 00:03 'An Introduction to the PhD in Data Science at NYU.en.srt'\n",
            "-rw------- 1 root root    11822 Mar  4 00:04 'An Introduction to the PhD in Data Science at NYU.en.txt'\n",
            "-rw------- 1 root root    57518 Mar  4 00:04 'An Introduction to the PhD in Data Science at NYU.jpg'\n",
            "-rw------- 1 root root     7918 Mar  4 00:04 'An Introduction to the PhD in Data Science at NYU.ko.srt'\n",
            "-rw------- 1 root root     4210 Mar  4 00:04 'An Introduction to the PhD in Data Science at NYU.ko.txt'\n",
            "-rw------- 1 root root 40571755 Oct  5  2016 'An Introduction to the PhD in Data Science at NYU.mp4'\n",
            "-rw------- 1 root root   103242 Mar  4 00:11 '[piano sheet] 젓가락 행진곡 (Celebrated Chop Waltz) - 아르튀르 드 륄리 (Arthur de Lulli).jpg'\n",
            "-rw------- 1 root root  1592886 Mar  4 00:18 '[piano sheet] 젓가락 행진곡 (Celebrated Chop Waltz) - 아르튀르 드 륄리 (Arthur de Lulli).mp3'\n",
            "-rw------- 1 root root  1722107 Dec 10  2017 '[piano sheet] 젓가락 행진곡 (Celebrated Chop Waltz) - 아르튀르 드 륄리 (Arthur de Lulli).webm'\n",
            "-rw------- 1 root root     9830 Mar  4 00:03 'TensorFlow in 5 Minutes (tutorial).en.srt'\n",
            "-rw------- 1 root root     6724 Mar  4 00:04 'TensorFlow in 5 Minutes (tutorial).en.txt'\n",
            "-rw------- 1 root root    89446 Mar  4 00:03 'TensorFlow in 5 Minutes (tutorial).jpg'\n",
            "-rw------- 1 root root    14423 Mar  4 00:03 'TensorFlow in 5 Minutes (tutorial).ko.srt'\n",
            "-rw------- 1 root root     8123 Mar  4 00:04 'TensorFlow in 5 Minutes (tutorial).ko.txt'\n",
            "-rw------- 1 root root 16378402 Oct 25 07:15 'TensorFlow in 5 Minutes (tutorial).mp4'\n"
          ],
          "name": "stdout"
        }
      ]
    },
    {
      "cell_type": "markdown",
      "metadata": {
        "id": "zjX8waCgOJ3g"
      },
      "source": [
        "## ㅇ 한글 자막을 제공하지 않을 때 번역하기\n",
        "### - TEXTBLOB : 간단하게 번역하기 좋은 모듈"
      ]
    },
    {
      "cell_type": "code",
      "metadata": {
        "id": "VVfiRCJP-8J2",
        "colab": {
          "base_uri": "https://localhost:8080/",
          "height": 71
        },
        "outputId": "a3a580f0-a91a-4f70-d68f-ad1cb9fe2a3a"
      },
      "source": [
        "import nltk\n",
        "nltk.download('punkt')"
      ],
      "execution_count": null,
      "outputs": [
        {
          "output_type": "stream",
          "text": [
            "[nltk_data] Downloading package punkt to /root/nltk_data...\n",
            "[nltk_data]   Unzipping tokenizers/punkt.zip.\n"
          ],
          "name": "stdout"
        },
        {
          "output_type": "execute_result",
          "data": {
            "text/plain": [
              "True"
            ]
          },
          "metadata": {
            "tags": []
          },
          "execution_count": 16
        }
      ]
    },
    {
      "cell_type": "code",
      "metadata": {
        "id": "C2VgNjFI-1_2",
        "colab": {
          "base_uri": "https://localhost:8080/",
          "height": 143
        },
        "outputId": "dcc89a3a-8317-465c-b3c1-c45abd90d8c1"
      },
      "source": [
        "# https://mubaris.com/posts/movie-analysis/\n",
        "from textblob import TextBlob\n",
        "\n",
        "with open(os.path.join(YOUTUBE_REPO_PATH,\"An Introduction to the PhD in Data Science at NYU.en.txt\"), \"r\") as f:\n",
        "  text = f.read()\n",
        "  blob = TextBlob(text)\n",
        "  translated_text = blob.translate(to=\"ko\")  \n",
        "\n",
        "translated_text[:300]"
      ],
      "execution_count": null,
      "outputs": [
        {
          "output_type": "execute_result",
          "data": {
            "text/plain": [
              "TextBlob(\"NYU는 세계에서 가장 큰 규모이므로 NYU는 세계에서 가장 큰 규모입니다.\n",
              "독립 연구 대학이었으며 독립 연구 대학이었으며 독립 연구 대학이었으며\n",
              "데이터 영역에서 매우 초기 이동자 데이터 영역에서 매우 초기 이동자 데이터 영역에서 매우 초기 이동자\n",
              "과학과 첫 번째 과학을 확립하고 첫 번째 과학을 확립하고 첫 번째 과학을 확립했다.\n",
              "데이터 과학에서 석사 프로그램 데이터 과학에서 석사 프로그램 데이터 과학에서 석사 프로그램\n",
              "ph.d 프로그램은 학제 간입니다 ph.d 프로그램은 학제 간 하나의 ph.d 프로그램은 학제 간입니다\n",
              "대학을 가\")"
            ]
          },
          "metadata": {
            "tags": []
          },
          "execution_count": 17
        }
      ]
    }
  ]
}