{
  "nbformat": 4,
  "nbformat_minor": 0,
  "metadata": {
    "colab": {
      "name": "자막추출.ipynb",
      "provenance": [],
      "collapsed_sections": [
        "3IVS1RGE0196"
      ],
      "authorship_tag": "ABX9TyMZv6VH/wfWo/rz3VxK3XXI",
      "include_colab_link": true
    },
    "kernelspec": {
      "name": "python3",
      "display_name": "Python 3"
    },
    "language_info": {
      "name": "python"
    }
  },
  "cells": [
    {
      "cell_type": "markdown",
      "metadata": {
        "id": "view-in-github",
        "colab_type": "text"
      },
      "source": [
        "<a href=\"https://colab.research.google.com/github/chaerui7967/stock_predict_news_and_youtube/blob/master/%EC%9E%90%EB%A7%89%EC%B6%94%EC%B6%9C.ipynb\" target=\"_parent\"><img src=\"https://colab.research.google.com/assets/colab-badge.svg\" alt=\"Open In Colab\"/></a>"
      ]
    },
    {
      "cell_type": "markdown",
      "metadata": {
        "id": "SQeTKd8X0iG1"
      },
      "source": [
        "# Youtube 자막 스크립트 크롤링\n",
        "\n",
        "- 사용 라이브러리\n",
        "  - youtube-dl : Youtube 영상 다운로드 라이브러리\n",
        "  - pysrt : srt 자막 분석 라이브러리"
      ]
    },
    {
      "cell_type": "markdown",
      "metadata": {
        "id": "3IVS1RGE0196"
      },
      "source": [
        "### 라이브러리 다운로드"
      ]
    },
    {
      "cell_type": "code",
      "metadata": {
        "colab": {
          "base_uri": "https://localhost:8080/"
        },
        "id": "4XakB2Hl0f0I",
        "outputId": "df337c42-e5ed-43de-b815-17f8e3eb89b0"
      },
      "source": [
        "!pip3 install youtube-dl\n",
        "!pip3 install pysrt"
      ],
      "execution_count": 1,
      "outputs": [
        {
          "output_type": "stream",
          "text": [
            "Collecting youtube-dl\n",
            "  Downloading youtube_dl-2021.6.6-py2.py3-none-any.whl (1.9 MB)\n",
            "\u001b[K     |████████████████████████████████| 1.9 MB 7.4 MB/s \n",
            "\u001b[?25hInstalling collected packages: youtube-dl\n",
            "Successfully installed youtube-dl-2021.6.6\n",
            "Collecting pysrt\n",
            "  Downloading pysrt-1.1.2.tar.gz (104 kB)\n",
            "\u001b[K     |████████████████████████████████| 104 kB 8.0 MB/s \n",
            "\u001b[?25hRequirement already satisfied: chardet in /usr/local/lib/python3.7/dist-packages (from pysrt) (3.0.4)\n",
            "Building wheels for collected packages: pysrt\n",
            "  Building wheel for pysrt (setup.py) ... \u001b[?25l\u001b[?25hdone\n",
            "  Created wheel for pysrt: filename=pysrt-1.1.2-py3-none-any.whl size=13442 sha256=1753e12214d16af3aa6efe25d9ff76ea169fe80c8a53724222f44ef8062032f7\n",
            "  Stored in directory: /root/.cache/pip/wheels/b2/f8/e8/a26be4111ab5ec931e845777e574d1483b4adddc50d3e591a6\n",
            "Successfully built pysrt\n",
            "Installing collected packages: pysrt\n",
            "Successfully installed pysrt-1.1.2\n"
          ],
          "name": "stdout"
        }
      ]
    },
    {
      "cell_type": "markdown",
      "metadata": {
        "id": "sNDAUYFZ00Ui"
      },
      "source": [
        "## google 드라이브 마운트"
      ]
    },
    {
      "cell_type": "code",
      "metadata": {
        "colab": {
          "base_uri": "https://localhost:8080/"
        },
        "id": "XuzPATXo0wdz",
        "outputId": "4cd593dd-f4d0-4636-956c-5f6c424efc97"
      },
      "source": [
        "from google.colab import drive\n",
        "drive.mount('/gdrive')"
      ],
      "execution_count": 2,
      "outputs": [
        {
          "output_type": "stream",
          "text": [
            "Mounted at /gdrive\n"
          ],
          "name": "stdout"
        }
      ]
    },
    {
      "cell_type": "markdown",
      "metadata": {
        "id": "Dfnmgd4o1apV"
      },
      "source": [
        "## 크롤링 데이터 폴더 생성"
      ]
    },
    {
      "cell_type": "code",
      "metadata": {
        "id": "k6r_Jq_a1dPd"
      },
      "source": [
        "YOUTUBE_REPO='YoutubeRepo'\n",
        "YOUTUBE_REPO_PATH='/gdrive/My Drive/%s'%(YOUTUBE_REPO)\n",
        "\n",
        "import os\n",
        "if not os.path.exists(YOUTUBE_REPO_PATH):  # 이미 있으면 생성 안함\n",
        "  !mkdir '{YOUTUBE_REPO_PATH}'"
      ],
      "execution_count": 3,
      "outputs": []
    },
    {
      "cell_type": "markdown",
      "metadata": {
        "id": "LPrJ3cMm1pg0"
      },
      "source": [
        "## 동영상, 자막, 썸네일 가져오기"
      ]
    },
    {
      "cell_type": "code",
      "metadata": {
        "id": "GDycvaqP1jvW"
      },
      "source": [
        "def 동영상가져오기(주소, 자막언어, format_code='best'):\n",
        "  !youtube-dl -f {format_code} -o '{YOUTUBE_REPO_PATH}/%(title)s.%(ext)s'  --min-filesize 50k --ignore-errors --write-all-thumbnails --no-call-home --sub-lang {자막언어} --write-sub --sub-format srt --convert-subtitles srt --write-auto-sub {주소}"
      ],
      "execution_count": 4,
      "outputs": []
    },
    {
      "cell_type": "code",
      "metadata": {
        "colab": {
          "base_uri": "https://localhost:8080/"
        },
        "id": "sv6nteKl2UYS",
        "outputId": "ae7d00fb-d0fb-4d31-9dea-b3e12661b5cc"
      },
      "source": [
        "url='https://www.youtube.com/watch?v=QE3Ma3wYZ28&list=RDQE3Ma3wYZ28&start_radio=1' \n",
        "# 해당 url의 유튜브 영상, 자막 영상, 썸네일을 가져옴\n",
        "동영상가져오기(url,'ko')"
      ],
      "execution_count": 5,
      "outputs": [
        {
          "output_type": "stream",
          "text": [
            "[youtube] QE3Ma3wYZ28: Downloading webpage\n",
            "[youtube] QE3Ma3wYZ28: Downloading player ee7f98d9\n",
            "\u001b[0;33mWARNING:\u001b[0m No subtitle format found matching \"srt\" for language ko, using vtt\n",
            "[info] Writing video subtitles to: /gdrive/My Drive/YoutubeRepo/백지영 _ 거짓말이라도 해서 널 보고싶어 _ BAEK Z YOUNG _ I still love you a lot _ Live _ 스페셜클립 _ Special Clip.ko.vtt\n",
            "[youtube] QE3Ma3wYZ28: Downloading thumbnail 0 ...\n",
            "[youtube] QE3Ma3wYZ28: Writing thumbnail 0 to: /gdrive/My Drive/YoutubeRepo/백지영 _ 거짓말이라도 해서 널 보고싶어 _ BAEK Z YOUNG _ I still love you a lot _ Live _ 스페셜클립 _ Special Clip.mp4_0.jpg\n",
            "[youtube] QE3Ma3wYZ28: Downloading thumbnail 1 ...\n",
            "[youtube] QE3Ma3wYZ28: Writing thumbnail 1 to: /gdrive/My Drive/YoutubeRepo/백지영 _ 거짓말이라도 해서 널 보고싶어 _ BAEK Z YOUNG _ I still love you a lot _ Live _ 스페셜클립 _ Special Clip.mp4_1.jpg\n",
            "[youtube] QE3Ma3wYZ28: Downloading thumbnail 2 ...\n",
            "[youtube] QE3Ma3wYZ28: Writing thumbnail 2 to: /gdrive/My Drive/YoutubeRepo/백지영 _ 거짓말이라도 해서 널 보고싶어 _ BAEK Z YOUNG _ I still love you a lot _ Live _ 스페셜클립 _ Special Clip.mp4_2.jpg\n",
            "[youtube] QE3Ma3wYZ28: Downloading thumbnail 3 ...\n",
            "[youtube] QE3Ma3wYZ28: Writing thumbnail 3 to: /gdrive/My Drive/YoutubeRepo/백지영 _ 거짓말이라도 해서 널 보고싶어 _ BAEK Z YOUNG _ I still love you a lot _ Live _ 스페셜클립 _ Special Clip.mp4_3.jpg\n",
            "[download] /gdrive/My Drive/YoutubeRepo/백지영 _ 거짓말이라도 해서 널 보고싶어 _ BAEK Z YOUNG _ I still love you a lot _ Live _ 스페셜클립 _ Special Clip.mp4 has already been downloaded\n",
            "\u001b[K[download] 100% of 10.92MiB\n",
            "[ffmpeg] Converting subtitles\n",
            "Deleting original file /gdrive/My Drive/YoutubeRepo/백지영 _ 거짓말이라도 해서 널 보고싶어 _ BAEK Z YOUNG _ I still love you a lot _ Live _ 스페셜클립 _ Special Clip.ko.vtt (pass -k to keep)\n"
          ],
          "name": "stdout"
        }
      ]
    },
    {
      "cell_type": "markdown",
      "metadata": {
        "id": "XQ9njBOz3Dcv"
      },
      "source": [
        "## 자막 스크립트 추출"
      ]
    },
    {
      "cell_type": "code",
      "metadata": {
        "colab": {
          "base_uri": "https://localhost:8080/"
        },
        "id": "NwoNUFcQ2vqU",
        "outputId": "9112a7d0-eeaf-4c94-b173-4f7314db471d"
      },
      "source": [
        "import os\n",
        "import glob\n",
        "import pysrt\n",
        "\n",
        "sub_file_list = glob.glob(os.path.join(YOUTUBE_REPO_PATH,\"*.srt\"))\n",
        "sub_file_list = map(lambda x:os.path.join(YOUTUBE_REPO_PATH,x),sub_file_list)\n",
        "\n",
        "for sub_file in sub_file_list:\n",
        "  a = sub_file.replace(YOUTUBE_REPO_PATH,\"\")[1:-4]\n",
        "  print(sub_file)\n",
        "  subs = pysrt.open(sub_file)\n",
        "  entire_text = ''\n",
        "  for sub in subs:\n",
        "    text = sub.text\n",
        "    entire_text += sub.text_without_tags + ' '\n",
        "\n",
        "  with open('%s.txt'%(sub_file[:-4]),'w') as f:\n",
        "    f.write(entire_text)"
      ],
      "execution_count": 23,
      "outputs": [
        {
          "output_type": "stream",
          "text": [
            "/gdrive/My Drive/YoutubeRepo/백지영 _ 거짓말이라도 해서 널 보고싶어 _ BAEK Z YOUNG _ I still love you a lot _ Live _ 스페셜클립 _ Special Clip.en.srt\n",
            "/gdrive/My Drive/YoutubeRepo/백지영 _ 거짓말이라도 해서 널 보고싶어 _ BAEK Z YOUNG _ I still love you a lot _ Live _ 스페셜클립 _ Special Clip.ko.srt\n"
          ],
          "name": "stdout"
        }
      ]
    },
    {
      "cell_type": "code",
      "metadata": {
        "colab": {
          "base_uri": "https://localhost:8080/",
          "height": 52
        },
        "id": "bxgsSR1U3OEc",
        "outputId": "a0bd62d0-166c-4f61-9a1d-eaab3ac460dd"
      },
      "source": [
        "a"
      ],
      "execution_count": 28,
      "outputs": [
        {
          "output_type": "execute_result",
          "data": {
            "application/vnd.google.colaboratory.intrinsic+json": {
              "type": "string"
            },
            "text/plain": [
              "'백지영 _ 거짓말이라도 해서 널 보고싶어 _ BAEK Z YOUNG _ I still love you a lot _ Live _ 스페셜클립 _ Special Clip.ko'"
            ]
          },
          "metadata": {},
          "execution_count": 28
        }
      ]
    },
    {
      "cell_type": "markdown",
      "metadata": {
        "id": "bgbxv-st46B2"
      },
      "source": [
        "## 추출된 스크립트 확인"
      ]
    },
    {
      "cell_type": "code",
      "metadata": {
        "colab": {
          "base_uri": "https://localhost:8080/"
        },
        "id": "SbK8QkLL45p0",
        "outputId": "86771674-56c0-4150-bb6f-f4bd7b8d8d12"
      },
      "source": [
        "with open(os.path.join(YOUTUBE_REPO_PATH,'%s.txt' %a), \"r\") as f:\n",
        "  text = f.read()\n",
        "  print(text[:300])"
      ],
      "execution_count": 25,
      "outputs": [
        {
          "output_type": "stream",
          "text": [
            " [음악] [음악]\n",
            "내 해감이 연대는 으 내 해감이 연대는 으 내 해감이 연대는 으\n",
            "애니 이렇게 해야 부추도 목 들 그 애니 이렇게 해야 부추도 목 들 그 애니 이렇게 해야 부추도 목 들 그\n",
            "으 얘기 모로 제 얘도 으 얘기 모로 제 얘도 으 얘기 모로 제 얘도\n",
            "때 또 봐 가 포브 10 때 또 봐 가 포브 10 때 또 봐 가 포브 10\n",
            "으 그 외는 마음을 타마 본체는 으 그 외는 마음을 타마 본체는 으 그 외는 마음을 타마 본체는\n",
            "위 이미 끝난거 만에 이제 다시 4 해내는 위 이미 끝난거 만에 이제 다시 4 해내는 위 이미 끝난거 만\n"
          ],
          "name": "stdout"
        }
      ]
    },
    {
      "cell_type": "markdown",
      "metadata": {
        "id": "7CyD2ETH5-Iu"
      },
      "source": [
        "## 한글 스크립트가 없는 영상 번역 후 크롤링"
      ]
    },
    {
      "cell_type": "code",
      "metadata": {
        "colab": {
          "base_uri": "https://localhost:8080/"
        },
        "id": "roVprt2U5Dsr",
        "outputId": "0944ca7d-9b83-43ff-e303-1244682adb17"
      },
      "source": [
        "import nltk\n",
        "nltk.download('punkt')"
      ],
      "execution_count": 26,
      "outputs": [
        {
          "output_type": "stream",
          "text": [
            "[nltk_data] Downloading package punkt to /root/nltk_data...\n",
            "[nltk_data]   Unzipping tokenizers/punkt.zip.\n"
          ],
          "name": "stdout"
        },
        {
          "output_type": "execute_result",
          "data": {
            "text/plain": [
              "True"
            ]
          },
          "metadata": {},
          "execution_count": 26
        }
      ]
    },
    {
      "cell_type": "code",
      "metadata": {
        "colab": {
          "base_uri": "https://localhost:8080/"
        },
        "id": "cod9Kj7i6Eei",
        "outputId": "9de5731d-96c8-4a9f-ecb7-3c62333beb6d"
      },
      "source": [
        "from textblob import TextBlob\n",
        "\n",
        "b = a[:-2]+'en'\n",
        "\n",
        "with open(os.path.join(YOUTUBE_REPO_PATH,'%s.txt' %b), \"r\") as f:\n",
        "  text = f.read()\n",
        "  blob = TextBlob(text)\n",
        "  translated_text = blob.translate(to=\"ko\")  \n",
        "\n",
        "translated_text[:300]"
      ],
      "execution_count": 30,
      "outputs": [
        {
          "output_type": "execute_result",
          "data": {
            "text/plain": [
              "TextBlob(\"[음악] [음악]\n",
              "내 위화감은 이렇고 내 위화감은 이렇고 내 위화감은 이렇고\n",
              "나는 이것을 해야 한다. 내 골파와 내 목구멍에 이것을해야합니다 나는 이것을해야합니다. 내 골파와 내 목구멍에 이것을해야합니다 나는 이것을해야합니다. 내 향신료와 내 목구멍에 이것을해야합니다\n",
              ". 내 아들과 이야기할 때 다시 나를 보자. . 내 아들과 이야기할 때 다시 나를 보자. . 내 아들과 이야기할 때 다시 나를 보자.\n",
              "포 10. 어. 포 10. 어. 포 10. 어.\n",
              "기타. 타마 기타. 타마 엉성한 머리 2 엉성한 머리 2\n",
              "s-oil cf 4 myer \")"
            ]
          },
          "metadata": {},
          "execution_count": 30
        }
      ]
    },
    {
      "cell_type": "code",
      "metadata": {
        "id": "3hEL1Xgm6wFz"
      },
      "source": [
        ""
      ],
      "execution_count": null,
      "outputs": []
    }
  ]
}