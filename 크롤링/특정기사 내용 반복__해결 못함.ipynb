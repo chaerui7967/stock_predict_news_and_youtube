{
 "cells": [
  {
   "cell_type": "code",
   "execution_count": 6,
   "id": "dd50f175-9c03-4886-b892-83b6560139a0",
   "metadata": {
    "collapsed": true,
    "jupyter": {
     "outputs_hidden": true
    },
    "tags": []
   },
   "outputs": [
    {
     "name": "stdout",
     "output_type": "stream",
     "text": [
      "Collecting openpyxl\n",
      "  Using cached openpyxl-3.0.7-py2.py3-none-any.whl (243 kB)\n",
      "Collecting et-xmlfile\n",
      "  Downloading et_xmlfile-1.1.0-py3-none-any.whl (4.7 kB)\n",
      "Installing collected packages: et-xmlfile, openpyxl\n",
      "Successfully installed et-xmlfile-1.1.0 openpyxl-3.0.7\n"
     ]
    }
   ],
   "source": [
    "!pip install openpyxl"
   ]
  },
  {
   "cell_type": "code",
   "execution_count": 5,
   "id": "d32d8b49-a14c-482c-a748-e3cf4810321e",
   "metadata": {
    "collapsed": true,
    "jupyter": {
     "outputs_hidden": true
    },
    "tags": []
   },
   "outputs": [
    {
     "name": "stdout",
     "output_type": "stream",
     "text": [
      "Collecting progressbar\n",
      "  Downloading progressbar-2.5.tar.gz (10 kB)\n",
      "Building wheels for collected packages: progressbar\n",
      "  Building wheel for progressbar (setup.py): started\n",
      "  Building wheel for progressbar (setup.py): finished with status 'done'\n",
      "  Created wheel for progressbar: filename=progressbar-2.5-py3-none-any.whl size=12075 sha256=cf6514b3af9d8bf260d8657a602c0a319ec50026e472ff914cd1784f92e60a19\n",
      "  Stored in directory: c:\\users\\j\\appdata\\local\\pip\\cache\\wheels\\f0\\fd\\1f\\3e35ed57e94cd8ced38dd46771f1f0f94f65fec548659ed855\n",
      "Successfully built progressbar\n",
      "Installing collected packages: progressbar\n",
      "Successfully installed progressbar-2.5\n"
     ]
    }
   ],
   "source": [
    "!pip install progressbar"
   ]
  },
  {
   "cell_type": "code",
   "execution_count": 3,
   "id": "8fcc04f7-b1f9-4ad3-b3a9-53905eaa9a82",
   "metadata": {},
   "outputs": [],
   "source": [
    "import sys, os\n",
    "import requests\n",
    "import selenium\n",
    "from selenium import webdriver\n",
    "import requests\n",
    "from pandas import DataFrame\n",
    "from urllib.request import urlopen\n",
    "from bs4 import BeautifulSoup\n",
    "\n",
    "import re\n",
    "from datetime import datetime\n",
    "import pickle, progressbar, json, glob, time\n",
    "from tqdm import tqdm\n",
    "\n",
    "###### 날짜 저장 ##########\n",
    "date = str(datetime.now())\n",
    "date = date[:date.rfind(':')].replace(' ', '_')\n",
    "date = date.replace(':','시') + '분'\n",
    "\n",
    "sleep_sec = 0.5"
   ]
  },
  {
   "cell_type": "code",
   "execution_count": 14,
   "id": "35441315-bf07-47e6-baa4-28416bae67e7",
   "metadata": {},
   "outputs": [
    {
     "data": {
      "text/plain": [
       "'2021090110'"
      ]
     },
     "execution_count": 14,
     "metadata": {},
     "output_type": "execute_result"
    }
   ],
   "source": [
    "req = requests.get('https://news.mt.co.kr/mtview.php?no=2021090110084869676')\n",
    "soup = BeautifulSoup(req.text, 'html.parser')\n",
    "text2 = soup.find('li', {'class' : 'date'}).text\n",
    "\n",
    "re.sub(r'[^0-9]', '', text2)[:10]"
   ]
  },
  {
   "cell_type": "code",
   "execution_count": 20,
   "id": "3acc3058-1a55-4a56-a77c-158db4eabcdd",
   "metadata": {},
   "outputs": [],
   "source": [
    "res = [0 for i in range(2)]\n",
    "res[0] = re.sub(r'[^0-9]', '', text2)[:10]"
   ]
  },
  {
   "cell_type": "code",
   "execution_count": 21,
   "id": "f9af907a-abcf-43da-bcd2-4303441268b2",
   "metadata": {},
   "outputs": [
    {
     "data": {
      "text/plain": [
       "'2021090110'"
      ]
     },
     "execution_count": 21,
     "metadata": {},
     "output_type": "execute_result"
    }
   ],
   "source": [
    "res[0]"
   ]
  },
  {
   "cell_type": "code",
   "execution_count": 51,
   "id": "9d8889c9-7a90-4037-bddb-67e8a47ac7b4",
   "metadata": {},
   "outputs": [],
   "source": [
    "def cleanhtml(raw_html):\n",
    "  cleanr = re.compile('<.*?>|&([a-z0-9]+|#[0-9]{1,6}|#x[0-9a-f]{1,6});')\n",
    "  cleantext = re.sub(cleanr, '', raw_html)\n",
    "  return cleantext"
   ]
  },
  {
   "cell_type": "code",
   "execution_count": 53,
   "id": "05ea1001-86d0-4d96-a7d9-88f132998698",
   "metadata": {
    "collapsed": true,
    "jupyter": {
     "outputs_hidden": true
    },
    "tags": []
   },
   "outputs": [
    {
     "data": {
      "text/plain": [
       "'샤오미 최고라던 中 소비자들, 삼성 플립3 보더니 \\'반전\\' - 머니투데이        {            \"@context\": \"http://schema.org\",            \"@type\": \"NewsArticle\",            \"@id\": \"https://news.mt.co.kr/mtview.php?no=2021083114085488949\",            \"mainEntityOfPage\":{                \"@type\":\"WebPage\",                \"@id\":\"https://news.mt.co.kr/mtview.php?no=2021083114085488949\"            },            \"headline\": \"샤오미 최고라던 中 소비자들, 삼성 플립3 보더니 반전 - 머니투데이\",            \"image\": {                \"@type\": \"ImageObject\",                \"@id\": \"https://menu.mt.co.kr/new_navi/mtlogo223x223.gif\",                \"url\": \"https://menu.mt.co.kr/new_navi/mtlogo223x223.gif\",                \"height\": 223,                \"width\": 223            },            \"datePublished\": \"2021-09-01T05:30:00+09:00\",            \"dateModified\": \"2021-09-01T05:30:00+09:00\",            \"author\": {                \"@type\": \"Person\",                \"name\": \"이진욱\"        },        \"publisher\": {            \"@type\": \"Organization\",            \"@id\": \"https://www.mt.co.kr/\",            \"name\": \"머니투데이\",            \"logo\": {                \"@type\": \"ImageObject\",                \"url\": \"https://menu.mt.co.kr/common/icon/icon_mt_ea.jpg\",                \"width\": 200            },            \"sameAs\":[\"https://www.facebook.com/mt.co.kr\",\"https://twitter.com/moneytodaynews\"]            },            \"description\": \"폴드3, 플립3 中 흥행 대박 조짐…국내외 흥행으로 폴더블 생산능력 확대폴더블폰 갤럭시Z폴드3(폴드3)·갤럭시Z플립3(플립3)의 흥행 열풍이 삼성전자 스마트폰의 quo...\"        }                    $(document).ready(function () {                                                var subjectTop = $(\\'.view .view_top .subject\\').offset().top + $(\\'.view .view_top .subject\\').outerHeight();                //스크롤시 프로그래시브바 이벤트                $(window).scroll(function () {                    // 추가 190411 성수 //                    var docHeight = $(document).height(),                        windowHeight = $(window).height(),                        scrollPercent;                    // //추가 190411 성수 //                    scrollPercent = $(window).scrollTop() / (docHeight - windowHeight) * 100;                    $(\\'.progressbar\\').width(scrollPercent + \\'%\\');                });                //스크롤시 고정헤더 이벤트                $(window).scroll(function () {                    if (subjectTop < $(window).scrollTop()) {                        $(\\'body\\').addClass(\\'fix_header\\');                    } else {                        $(\\'body\\').removeClass(\\'fix_header\\');                    }                    $(\\'#mt_at_fixheader .gnbbox .amvbox\\').hide();                });                                /*엠티리포트&평창 랜덤*/                var cookie = $.cookie(\\'rdmView\\');                var rdmView = $(\\'.rdm_view\\');                var rdmView2 = $(\\'.rdm_view.spc_menu\\');                if (cookie == \\'value\\') {                    //쿠키값이 존재할때                    $(rdmView).show().css(\\'visibility\\', \\'hidden\\');                    $(rdmView2).hide();                    $(rdmView).css(\\'visibility\\', \\'visible\\').css(\\'position\\', \\'static\\');                    $.cookie(\\'rdmView\\', null);                } else {                    //쿠키값이 없을때                    $(rdmView).hide();                    $(rdmView2).show().css(\\'visibility\\', \\'visible\\').css(\\'position\\', \\'static\\');                    $.cookie(\\'rdmView\\', \\'value\\'); //쿠키생성                }                // 익스플로러 버전이 호환성보기로 나오는 현상 막기                if ($.browser.msie) {                    if ($.browser.version = 9) { // IE 9.x                        $(\\'meta[http-equiv=\"X-UA-Compatible\"]\\').attr(\\'content\\', \\'IE=9\\');                    } else if ($.browser.version = 8) { // IE 8.x                        $(\\'meta[http-equiv=\"X-UA-Compatible\"]\\').attr(\\'content\\', \\'IE=8\\');                    } else {// 머투 기본이 IE8 이상이므로(IE7 이하는 없다는 가정하에) 이외는 IE10 이상으로 간주합니다.                        $(\\'meta[http-equiv=\"X-UA-Compatible\"]\\').attr(\\'content\\', \\'IE=Edge\\');                    }                }                // 상단 3depth 영역 실시간뉴스, 다음 뉴스로 변경                changeTopFlashnews = function () {                    if ($(\\'#topMenuFlashnewsArea  ul li\\').length > 0) {                        if ($(\\'#topMenuFlashnewsArea ul li:visible\\').next().attr(\\'id\\')) {                            var nextShowId = $(\\'#topMenuFlashnewsArea ul li:visible\\').next().attr(\\'id\\');                        } else {                            var nextShowId = \\'topFlashnewsLi0\\';                        }                        $(\\'#topMenuFlashnewsArea ul li\\').hide();                        $(\\'#\\' + nextShowId).show();                    }                }                // 상단 3depth영역 실시간속보 3초에 한번씩 롤링(실시간 속보 데이터가 있을 때만 실행)                initTopFlashnews = function () {                    if ($(\\'#topMenuFlashnewsArea ul li\\').length > 0) {                        changeFlash = setInterval(changeTopFlashnews, 3000);                    }                }                initTopFlashnews(); // 실시간 속보 초기화                // lazy img 클래스 공통사용                $(\".lazyimg\").lazyload();                // mt_idx_spot 부제높이에 따른 클래스 // 161227 추가                var subject = $(\\'#mt2 .mt_idx_spot .cont .con_txt h2.m_subject\\');                if (subject.height() <= 26) {                    $(subject).addClass(\\'tit1\\');                } else {                    $(subject).addClass(\\'tit2\\');                }                setTimeout(\"checkAds();\", 1000);                // 메뉴 이벤트                // 2-3depth 메뉴영역 보임/안보임 초기화                function initTabMenu() {                    var menuAreaId = \\'menu_area_1\\';                    var submenuAreaId = \\'submenu_1_8\\';                    // 해당하는 2 depth 메뉴영역 보이게 함                    $(\\'dd[id^=\"menu_area_\"]\\').hide();                    if (menuAreaId != \\'\\') {                        $(\\'#\\' + menuAreaId).show();                    }                    // 3 depth 서브메뉴가 있으면 보이게 함                    if (submenuAreaId != \\'\\') {                        if ($(\\'#\\' + submenuAreaId).attr(\\'id\\') != \\'undefined\\') {                            $(\\'#\\' + submenuAreaId).show();                        }                    }                }                initTabMenu(); // 메뉴영역 초기화                // 맨 처음 로딩 후, 노출되고 있는 3depth 메뉴 아이디(initTabMenu() 함수 다음에 불러야 함)                var firstViewTabmenu = $(\\'div.gnbbox li[id^=\"tabmenu_\"] a.on\\').parent(\\'li\\').attr(\\'id\\');                var firstViewSubmenu = $(\\'div.gnbbox ul.depth3:visible\\').attr(\\'id\\');                // 마우스에 따른 상단메뉴 영역 변경                $(\\'div.gnbbox li[id^=\"tabmenu_\"]\\').on(\\'mouseover\\', function () {                    var currentTabMenuId = $(this).attr(\\'id\\');                    var thisSubMenuId = currentTabMenuId.replace(\\'tabmenu_\\', \\'submenu_\\');                    if ($(\\'#\\' + thisSubMenuId).length > 0) {                        $(\\'div.gnbbox ul.depth3\\').hide();                        // 메인페이지도 실시간 속보 보여지도록 바뀜                        $(\\'#topMenuFlashnewsArea\\').hide();                        $(\\'#topNoticeArea\\').hide();                        $(\\'#\\' + thisSubMenuId).show();                    } else {                        $(\\'div.gnbbox ul.depth3\\').hide();                        $(\\'#topMenuFlashnewsArea\\').show();                    }                    // 탭메뉴 버튼 on class 변경                    $(\\'div.gnbbox li[id^=\"tabmenu_\"] a.tabtitle\\').removeClass(\\'on\\');                    $(\\'#\\' + currentTabMenuId + \\' a.tabtitle\\').addClass(\\'on\\');                }).on(\\'mouseleave\\', function () {                    if (firstViewSubmenu) {                        $(\\'div.gnbbox ul.depth3\\').hide();                        $(\\'#topMenuFlashnewsArea\\').hide();                        $(\\'#\\' + firstViewSubmenu).show();                    } else {                        $(\\'div.gnbbox ul.depth3\\').hide();                        // 메인페이지도 실시간 속보 보여지도록 바뀜                        $(\\'#topMenuFlashnewsArea\\').show();                    }                    // 탭메뉴 버튼 on class 변경                    $(\\'div.gnbbox li[id^=\"tabmenu_\"] a.tabtitle\\').removeClass(\\'on\\');                    $(\\'#\\' + firstViewTabmenu + \\' a.tabtitle\\').addClass(\\'on\\');                });                $(\\'.gnb\\').children().hover(function () {                    $(this).children(\\'.sec\\').addClass(\\'on\\');                    $(this).find(\\'.snb_group\\').show();                }, function () {                    $(this).children(\\'.sec\\').removeClass(\\'on\\');                    $(this).find(\\'.snb_group\\').hide();                    $(\\'#aTagClass_news\\').addClass(\\'on\\');                });                $(\\'.snb_group\\').children().hover(function () {                    $(this).find(\\'.depth3\\').show().siblings(\\'.tabtitle.child\\').addClass(\\'on\\');                }, function () {                    $(this).find(\\'.depth3\\').hide().siblings(\\'.tabtitle.child\\').removeClass(\\'on\\');                });            });            //end document ready            $(window).resize(function () {                            });            //end resize            //start function            // 함수 : 검색            function HeaderSearchOpen() {                $(\\'#mt_header .schopen\\').hide();                $(\\'#mt_header .search1\\').css(\\'width\\', \\'180\\');                $(\\'#mt_header .search1 fieldset\\').animate({width: \\'show\\'}, 100);            }            // 함수 : 검색            function HeaderSearchClose() {                $(\\'#mt_header .schopen\\').show();                $(\\'#mt_header .search1\\').css(\\'width\\', \\'auto\\');                $(\\'#mt_header .search1 fieldset\\').hide();            }            // 속보창 팝업            function popupFlashnews() {                window.open(\"https://news.mt.co.kr/newsflash/newsflash.html\", \"flashnews\", \\'width=1103,height=745,top=0,left=0,resizable=1,scrollbars=no,toolbar=yes\\');            }            function popupFlashnewsAll() {                window.open(\"https://news.mt.co.kr/newsflash/newsflash.html?sec=all&listType=left\", \"flashnews\", \\'width=1103,height=745,top=0,left=0,resizable=1,scrollbars=no,toolbar=yes\\');            }            //속보창 2            function popupFlashnews2(no) {                window.open(\"https://news.mt.co.kr/newsflash/newsflash.html?no=\" + no, \"flashnews\", \\'width=1103,height=745,top=0,left=0,resizable=1,scrollbars=no,toolbar=yes\\');            }            //속보창 2            function popupFlashnewsNo(flashId, flashSeq) {                window.open(\"https://news.mt.co.kr/newsflash/newsflash.html?sec=all&flashId=\" + flashId + \"&flashSeq=\" + flashSeq, \"flashnews\", \\'width=1103,height=745,top=0,left=0,resizable=1,scrollbars=no,toolbar=yes\\');            }            // 쿠키 생성            function setCookie(cName, cValue, cDay) {                var expire = new Date();                expire.setDate(expire.getDate() + cDay);                cookies = cName + \\'=\\' + (cValue) + \\'; path=/ ; domain=\\' + \\'.mt.co.kr\\'; // 한글 깨짐을 막기위해 escape(cValue)를 합니다.                if (typeof cDay != \\'undefined\\') cookies += \\';expires=\\' + expire.toGMTString() + \\';\\';                document.cookie = cookies;            }            // 쿠키 가져오기            function getCookie(cName) {                cName = cName + \\'=\\';                var cookieData = document.cookie;                var start = cookieData.indexOf(cName);                var cValue = \\'\\';                if (start != -1) {                    start += cName.length;                    var end = cookieData.indexOf(\\';\\', start);                    if (end == -1) end = cookieData.length;                    cValue = cookieData.substring(start, end);                }                return unescape(cValue);            }            function statusChangeCallback(response) {                if (response.status === \\'connected\\' && getCookie(\\'comefrom\\') == \\'\\') {                    get_fb_info();                } else {                    FB.login(function (response) {                        if (response.status === \\'connected\\') {                            get_fb_info();                        } else {                            alert(\\'not connect\\');                        }                    }, {scope: \\'publish_actions,public_profile,user_friends,email\\'});                }            }            // This function is called when someone finishes with the Login            // Button.  See the onlogin handler attached to it in the sample            // code below.            function checkLoginState() {                FB.getLoginStatus(function (response) {                    statusChangeCallback(response);                });            }            window.fbAsyncInit = function () {                FB.init({                    appId: \\'530090113839958\\',                    cookie: true,  // enable cookies to allow the server to access                                   // the session                    xfbml: true,  // parse social plugins on this page                    version: \\'v2.8\\' // use graph api version 2.8                });            };            function get_fb_info() {                FB.api(\\'/me\\', function (response) {                    setCookie(\"comefrom\", \"facebook\", \"0\");                    setCookie(\"facebook_token\", \"\", \"0\");                    setCookie(\"facebook_uid\", response.id, \"0\");                    setCookie(\"screen_name\", response.name, \"0\");                    setCookie(\"t_img\", \"https://graph.facebook.com/\" + response.id + \"/picture?type=small\", \"0\");                    FB.api(                        \"/me/friends?summary=total_count\",                        function (response) {                            if (response && !response.error) {                                setCookie(\"fb_friend_cnt\", response.summary.total_count, \"0\");                            }                        }                    );                    setTimeout(function () {                        window.location.reload();                    }, 1000);                });            }            function checkAds() {                if ($(\".adH\").height() == \"0\") {                    $(\".ad\").css(\\'display\\', \\'none\\');                    //MTCMU-4611                    $(\".issue_package\").css(\\'margin-top\\', \\'30px\\');                }            };            //네비게이션 : 전체 GNB메뉴 버튼            function openAmvbox(_this) {                $(_this).parent().children(\\'.gnbbox .amvbox\\').toggle();            }            //네비게이션 : 전체 GNB메뉴 버튼            function closeAmvbox(_this) {                $(_this).parent(\\'.gnbbox .amvbox\\').toggle();            }            // 즉시실행함수 :            // Load the SDK asynchronously            (function (d, s, id) {                var js, fjs = d.getElementsByTagName(s)[0];                if (d.getElementById(id)) return;                js = d.createElement(s);                js.id = id;                js.src = \"https://connect.facebook.net/en_US/sdk.js\";                fjs.parentNode.insertBefore(js, fjs);            }(document, \\'script\\', \\'facebook-jssdk\\'));            // 즉시실행함수 : google analytics script                        (function (i, s, o, g, r, a, m) {                i[\\'GoogleAnalyticsObject\\'] = r;                i[r] = i[r] || function () {                    (i[r].q = i[r].q || []).push(arguments)                }, i[r].l = 1 * new Date();                a = s.createElement(o),                    m = s.getElementsByTagName(o)[0];                a.async = 1;                a.src = g;                m.parentNode.insertBefore(a, m)            })(window, document, \\'script\\', \\'https://www.google-analytics.com/analytics.js\\', \\'ga\\');            ga(\\'create\\', \\'UA-22186599-19\\', \\'auto\\');            ga(\\'require\\', \\'displayfeatures\\');            ga(\\'require\\', \\'linkid\\', \\'linkid.js\\');            ga(\\'set\\', \\'dimension2\\', \\'2021083114085488949\\');            ga(\\'set\\', \\'dimension1\\', \\'이진욱|\\');            ga(\\'set\\', \\'dimension3\\', \\'2307\\');            ga(\\'set\\', \\'dimension4\\', \\'\\');            ga(\\'set\\', \\'dimension5\\', \\'T0203\\'); //대표분류코드            ga(\\'set\\', \\'dimension6\\', \\'20210901053000\\'); //기사표출일            ga(\\'set\\', \\'dimension7\\', \\'\\'); //기사키워드            ga(\\'send\\', \\'pageview\\');                        // 즉시실행함수 : chartbeat script 2019.01.07 ask -->            (function () {                /** CONFIGURATION START **/                var _sf_async_config = window._sf_async_config = (window._sf_async_config || {});                _sf_async_config.uid = 65854;                _sf_async_config.domain = \\'mt.co.kr\\';                _sf_async_config.flickerControl = false;                _sf_async_config.useCanonical = true;                //_sf_async_config.useCanonicalDomain = true;                _sf_async_config.sections = \\'IT과학\\'; // CHANGE THIS TO YOUR SECTION NAME(s)                _sf_async_config.authors = \\'이진욱\\'; // CHANGE THIS TO YOUR AUTHOR NAME(s)                _sf_async_config.type = \\'정보미디어과학부\\';                _sf_async_config.title = \"샤오미 최고라던 中 소비자들, 삼성 플립3 보더니 ＇반전＇ - 머니투데이\";                /** CONFIGURATION END **/                function loadChartbeat() {                    var e = document.createElement(\\'script\\');                    var n = document.getElementsByTagName(\\'script\\')[0];                    e.type = \\'text/javascript\\';                    e.async = true;                    e.src = \\'//static.chartbeat.com/js/chartbeat.js\\';                    ;                    n.parentNode.insertBefore(e, n);                }                loadChartbeat();            })();        wpts.init(46716);본문영역 바로가기로그인 전체뉴스경제정책증권정치부동산국제경제사회산업IT금융블록체인문화포토포토스페셜그래픽영상MT                                        영상놂                                        - norm머플러전체기사증권뉴스시세/공시코스피코스닥코넥스상승/하락상하한가시가총액거래량상위신규상장주요공시포인트전략펀드펀드IR국내펀드해외펀드유형종합종목대해부베스트리포트\\t\\t\\t\\t\\t\\t\\t투자영상\\t\\t\\t\\t\\t\\tMY스톡정치법률유니콘팩토리\\xa0최신기사칼럼데스크칼럼사내칼럼현장리포트사외칼럼SUCCESSSCIENCE컬쳐박스문화가                                        좋다책이                                        좋다이야기가                                        좋다자동차최신기사신차소식시승기카라이프연예연예스포츠이슈핫이슈전체핫이슈연중기획실시간급상승베스트클릭사람피플MT초대석인터뷰대표선배인사부고MT리포트뉴스경제정책증권정치부동산국제경제사회산업IT금융블록체인문화포토영상전체기사증권뉴스시세/공시포인트전략펀드종목대해부베스트리포트투자영상MY스톡정치 - the300법률 - the L유니콘팩토리최신기사칼럼데스크칼럼사내칼럼현장리포트사외칼럼SUCCESSSCIENCE컬쳐박스자동차최신기사신차소식시승기카라이프연예연예스포츠이슈핫이슈실시간급상승베스트클릭사람VIPVIP OnlyVIP StoryT.O.M투자디렉터런치리포트the LICT  TechCultureFULL TEXT초판/e-신문보기서비스 신청전체보기 닫기속보LNG선 한국 싹쓸이에…中 관영매체 \"장기전 대비\"\"꿈 같았다\"…\\'기적\\' 박정민, 첫사랑 역 윤아에 팬심 폭발\"꼬깔 좀 치워달라\" 요청에 발로 찬 경찰…반말한 운전자코로나 여파로 기업은행 중기대출 200조 넘었다비트린미디어코리아, \\'LED 윈도 디스플레이\\' 선봬 주목10대가 60대 때리며 \"담배사와라\"…허지웅 \"상상 못해본 세상\"\"걱정 안 해도 돼\"…장원영, 코로나 확진 4일 만에 팬들 위로사상 초유의 국회 모독…\\'GSGG\\'라 불러도 분노 않는 사람들씨드모젠, KOLAS 공인시험기관 인증 획득경과원-한국섬유마케팅센터, 섬유산업 발전 업무협약 체결                    $(\\'.nf_list1 .group\\').slick({                        vertical: true,                        arrows: false,                        dots: false,                        infinite: true,                        speed: 500,                        autoplay: true,                        autoplaySpeed: 2000                    });                LNG선 한국 싹쓸이에…中 관영매체 \"장기전 대비\"\"꿈 같았다\"…\\'기적\\' 박정민, 첫사랑 역 윤아에 팬심 폭발\"꼬깔 좀 치워달라\" 요청에 발로 찬 경찰…반말한 운전자코로나 여파로 기업은행 중기대출 200조 넘었다비트린미디어코리아, \\'LED 윈도 디스플레이\\' 선봬 주목10대가 60대 때리며 \"담배사와라\"…허지웅 \"상상 못해본 세상\"\"걱정 안 해도 돼\"…장원영, 코로나 확진 4일 만에 팬들 위로사상 초유의 국회 모독…\\'GSGG\\'라 불러도 분노 않는 사람들씨드모젠, KOLAS 공인시험기관 인증 획득경과원-한국섬유마케팅센터, 섬유산업 발전 업무협약 체결검색창 열기통합검색검색닫기전체뉴스경제정책증권정치부동산국제경제사회산업IT금융블록체인문화포토영상전체기사증권뉴스시세/공시포인트전략펀드종목대해부베스트리포트투자영상MY스톡정치 - the300법률 - the L유니콘팩토리최신기사칼럼데스크칼럼사내칼럼현장리포트사외칼럼SUCCESSSCIENCE컬쳐박스자동차최신기사신차소식시승기카라이프연예연예스포츠이슈핫이슈실시간급상승베스트클릭사람VIPVIP OnlyVIP StoryT.O.M투자디렉터런치리포트the LICT  TechCultureFULL TEXT초판/e-신문보기서비스 신청전체보기 닫기샤오미 최고라던 中 소비자들, 삼성 플립3 보더니 \\'반전\\'sns공유 더보기샤오미 최고라던 中 소비자들, 삼성 플립3 보더니 \\'반전\\'머니투데이이진욱 기자 기자 더보기sns공유 더보기VIEW  47,962  2021.09.01 05:30글자크기글자크기조절가나다라마가나다라마가나다라마가나다라마가나다라마의견 4폴드3, 플립3 中 흥행 대박 조짐…국내외 흥행으로 폴더블 생산능력 확대 12일 서울 서초구 삼성 딜라이트를 찾은 고객들이 새로운 폴더블 스마트폰 갤럭시Z폴드3와 갤럭시Z플립3를 살펴보고 있다. 삼성전자의 갤럭시Z 폴드3와 갤럭시Z플립3는 오는 17일부터 23일까지 국내 사전 판매를 진행하며, 27일 한국, 미국, 유럽을 시작으로 전세계에 순차적으로 출시 예정이다. /사진=이기범 기자 leekb@폴더블폰 갤럭시Z폴드3(폴드3)·갤럭시Z플립3(플립3)의 흥행 열풍이 삼성전자 스마트폰의 \\'무덤\\'으로 통하는 중국까지 이어질까. 국내에서 삼성 스마트폰 최고 사전판매량을 기록한 폴드3·플립3 2종이 내달 10일 중국에서 정식 출시를 앞두고 100만명에 육박하는 구매 대기자를 끌어모았다. 그동안 세계 최대 시장인 중국에서 고전하던 삼성전자가 이번 폴더블폰 출시를 발판 삼아 반등할 수 있을지 주목된다. ━폴더블폰 출시 전 80만명이 \\'찜\\'했다━31일 중국 전자상거래 업체 징둥닷컴에 따르면 삼성전자가 지난 11일 선보인 플립3의 사전 예약 대기자는 62만명에 달했다. 폴드3 구매 대기자는 8만2000명 정도. 알리바바가 운영하는 티몰에서는 29일 기준 플립3과 폴드3 구매 대기자가 각각 10만3000명, 6만5000명 이상으로 나타났다. 두 공식 계정에서만 약 80만명이 구매 의사를 표한 셈이다. 9월 2일부터 9일까지 중국 시장에서 공식 사전 예약 판매를 진행할 예정이라 예약자는 100만명을 넘어설 것으로 예상된다. 정식 판매는 같은달 10일부터다. \\r스마트폰 업계는 놀랍다는 반응이다. 최근 수년간 삼성전자의 스마트폰이 중국에서 출시전부터 이같은 관심을 받은 적이 없기 때문이다. 실제 중국에서 삼성 스마트폰의 존재감은 미미하다. 중국 시장조사업체 시노리서치에 따르면 삼성전자의 올해 상반기 중국 스마트폰 시장 점유율은 0.5%에 불과하다. 지난해 같은 기간 1.2%에서 더 떨어졌다. 중국 스마트폰 시장은 자국 업체들이 장악하고 있다. 오포(22.7%), 비보(19.7%), 샤오미(16.4%)를 비롯해 10위권 내 8곳이 중국업체다. 외산업체중 애플(14.0%)이 그나마 선전하고 있다.\\r삼성전자는 2013년만 해도 중국에서 스마트폰 점유율 1위였다. 그러나 화웨이, 샤오미 등 1세대 제조사에 이어 오포, 비보 등 2세대 제조사가 대폭 성장하며 입지가 좁아졌다. 여기에 고고도 미사일 방어체계(THAAD·사드) 문제 등으로 반한(反韓) 감정까지 불거지면서 점유율은 1% 아래로 쪼그라들었다.  미국 뉴욕주 가든시티(Garden City)에 위치한 \\'삼성 익스피리언스 스토어\\'에서 이용자들이 \\'갤럭시Z폴드3\\'·\\'갤럭시Z플립3\\'를 체험하고 있다./사진=삼성전자 ━폴더블폰으로 中 시장 승부수…삼성, 생산능력 50% 확대 추진 ━업계는 삼성전자가 폴더블폰을 앞세워 세계 최대 시장인 중국에서 전환점을 마련할 수 있을 것으로 본다. 기존 바(bar)형 스마트폰으로 중국 제조사들과 경쟁이 어려운 상황인 만큼, 차세대 폼팩터(외형)인 폴더블폰을 통해 차별성을 높일 수 있다는 판단에서다. \\r삼성전자가 폴더블폰 시장에서 압도적인 기술력을 보유하고 있다는 점도 기대감을 키우는 배경이다. 업계 관계자는 \"중국 소비자들이 스마트폰의 최상위 기종인 폴더블폰에 큰 관심을 갖는 건 삼성에 긍정적인 신호\"라며 \"삼성이 중국 시장에서 폴더블폰 카테고리를 형성한다면 고정 수요를 기대할 수도 있다\"고 말했다. \\r폴드3와 플립3는 중국 뿐 아니라 국내외에서 인기가 높다. 국내에서 지난 17~23일 7일간 진행했던 폴드3와 플립3의 사전 예약 실적은 총 92만대로 삼성 스마트폰 최고 기록을 경신했다. 미국에서는 사전 예약 물량이 올해 갤럭시Z 시리즈 전체 판매량을 넘었고, 인도에서는 사전 예약 첫날인 24일 갤럭시노트20보다  2.7배 많은 물량이 판매됐다. 삼성전자는 폴드3와 플립3의 출시국을 오는 10월까지 130곳으로 늘릴 계획이다. \\r삼성전자의 폴더블폰 생산 능력도 대폭 확대될 전망이다. 삼성전자는 삼성디스플레이 베트남 공장의 폴더블 디스플레이 생산 능력을 50% 이상 확대하는 방안을 검토중이다. 원활한 제품 공급을 위해서다. 업계 관계자는 \"폴더블폰에 대한 수요가 세계적으로 확인된만큼 삼성은 증산을 위해 빠르게 움직일 것\"이라고 말했다.                                                                저작권자 © ‘돈이 보이는 리얼타임 뉴스’ 머니투데이, 무단전재 및 재배포 금지                                공감                                            0%비공감                                            0%adtiveDrawAD(\\'6FFFFFFP\\',\\'6PRLLLLF\\'); -->                        (function(d,a,b,l,e,_) {                        if(d[b]&&d[b].q)return;d[b]=function(){(d[b].q=d[b].q||[]).push(arguments)};e=a.createElement(l);                        e.async=1;e.charset=\\'utf-8\\';e.src=\\'//static.dable.io/dist/plugin.min.js\\';                        _=a.getElementsByTagName(l)[0];_.parentNode.insertBefore(e,_);                        })(window,document,\\'dable\\',\\'script\\');                        dable(\\'setService\\', \\'mt.co.kr\\');                        dable(\\'sendLogOnce\\');                        dable(\\'renderWidget\\', \\'dablewidget_QXeJnWoe\\', {ignore_items: true});                         --> -->머니투데이 댓글 작성을 위해 JavaScript를 활성화해주세요 --> -->머니투데이 주요뉴스단독서울의료원 부지 공공주택 3천호 무산…서울시 \"재검토\"해외선 \\'경범죄자\\'에 채우는 전자발찌, 국내선 유일한 \\'중범죄자\\' 대책\\t\\t\\t\\t\\t\\t[MT리포트/범죄 못막는 전자발찌] ①\\'전자발찌\\'에만 의존하는 재범 방지 대책, 사건 터져도 기존 대책만 반복성범죄 전력이 있는 50대가 위치추적 전자장치(전자발찌)를 훼손하고 여성 2명을 살해한 사건이 발생하면서 주요 범죄자들의 재범 억제 정책이 도마에 올랐다.  사실상 발에 전자발찌를 채워 위치파악만 할 수 있게 한 게 전부인 현행 제도는 교정을 통한 사회복귀를 유도하는 데는 명확한 한계가 있다. 위치파악\\'이라도 제대로 되면 좋겠지만 전자발찌를 끊고 잠적해 열흘 넘게 잠적한 경우도 적지 않아 잠재적 피해자들이 불안에 떠는 게 다...\\t\\t\\t\\t\\t박대출 \"택배대리점주 죽음, 강성 노조 역차별…해법 찾을 것\"샤오미 최고라던 中 소비자들, 삼성 플립3 보더니 \\'반전\\'이수정 \"피의자 인권만 왜 신줏단지 취급하나\"\"투자 대신 예·적금\"…제로금리 고개넘자 통장에 돈 몰렸다코스피, 13거래일만에 3200 회복…50만원 넘긴 크래프톤백신 맞은 여성들, 부정출혈 사례 늘자…당국 \"인과관계 조사\"조민 3등 아닌 24등…부산대 왜 거짓말 했나오토바이 사고낸 할아버지의 황당 요구머지포인트 3주 만에 잠잠한 여론, 왜? --> -->            document.write(\"\");                        var child = document.getElementById( \\'mobonIframe_382290\\' );   // iframe                        function sendMsgToChild( msg ) {              child.contentWindow.postMessage( msg, \\'*\\' );            }                        function scrollEvent(){                var child_content = document.getElementById(\\'mobonDivBanner_382290\\'); // iframe div                var frameTop = window.pageYOffset + child_content.getBoundingClientRect().top;                var scrollTop = window.pageYOffset || document.documentElement.scrollTop;                                if(parseInt(scrollTop) >= parseInt(frameTop - 300)){                    sendMsgToChild( \\'mobonTargetView\\' );                    window.removeEventListener(\\'scroll\\', scrollEvent);                }            }            window.addEventListener(\\'scroll\\', scrollEvent);             $(window).load(function() {                var $lfTbanner_t = $(\\'.leftbn_wrap\\').offset().top;                var $lfTbanner_h = $(\\'.leftbn_wrap\\').outerHeight();                var $cnTbanner_t = $(\\'.article_view .util_box\\').offset().top;                var $cnTbanner_h = $(\\'.article_view .util_box\\').outerHeight();                var $atcTitile_h = $(\\'.view_top .subject\\').height();                var $flTbanner_t;                var $th;                if($atcTitile_h > 46){                    $th = $atcTitile_h - 46;                }else{                    $th = 0;                }                if(($lfTbanner_t+$lfTbanner_h) >= ($cnTbanner_t+$cnTbanner_h)){                    $flTbanner_t = $lfTbanner_h+300;                    $(\\'#mobonDivBanner_382290\\').css(\\'top\\',($flTbanner_t)).css(\\'visibility\\',\\'visible\\'); /* 수정 unset -> visible : ie에서 인식오류 */                }else{                    $flTbanner_t = ($cnTbanner_t+$cnTbanner_h-$th)+300;                    $(\\'#mobonDivBanner_382290\\').css(\\'top\\',($flTbanner_t-384)).css(\\'visibility\\',\\'visible\\'); /* 수정 unset -> visible : ie에서 인식오류 */                }            });        실시간 급상승        9.9        var statisticReal;    var TIMER_SECOND = 100;    var tSecond = TIMER_SECOND;    var title = \\'샤오미 최고라던 中 소비자들, 삼성 플립3 보더니 \\\\\\'반전\\\\\\'\\';    var articletype = \\'m\\';    var articleImg = \\'\\';    var articlecode = \\'\\';    var _url = \"https://m.mt.co.kr/renew/liveReLib.php?type=count&no=2021083114085488949\";    $(document).ready(function () {        statisticReal = new ArticleStatistic6({            articleId: \\'2021083114085488949\\',            articleTitle: title,            type: \\'pagein\\',            articleImg: articleImg,            articleCode: articlecode,            articleType: \\'m\\'        }, {            receivedDataOfList: function (received) {\\t\\t\\t\\t$(\".section-realtimerank\").css(\"display\",\"block\");                $(\\'#rightRealTimeList\\').html(\\'\\');                var intRealTimeCnt = 0;                for (var i = 0; i < received.length; i++) {                    var realTimeId = received[i].article_id;                    var realTImeChk = \\'yes\\';                    $(\\'#rightRealTimeList\\').append(getRealTimeList(received[i]));                    intRealTimeCnt++;                    if (intRealTimeCnt >= 5) {                        break;                    }                }            }        });        runIntervalPartialDataReal();    });    function numberWithCommas(x) {        return x.toString().replace(/\\\\B(?=(\\\\d{3})+(?!\\\\d))/g, \",\");    }    function cutByte(str, len) {        var l = 0;        str = str.replace(//gi, \"\\'\");        str = str.replace(//gi, \"\\'\");        str = str.replace(//gi, \\'\"\\');        str = str.replace(//gi, \\'\"\\');        for (var i = 0; i < str.length; i++) {            l += (str.charCodeAt(i) > 128) ? 2 : 1;            if (l > len) {                return str.substring(0, i);            }        }        return str;    }    function getRealTimeList(obj) {        var url = \\'https://news.mt.co.kr/mtview.php?no=\\' + obj.article_id + \\'&VRT_T\\';        var thumb = obj.article_img || \\'https://menu.mt.co.kr/common/defult_thumnail125x80.png\\';        var count = numberWithCommas(obj.count);        var title = obj.title;        if (count > 999) count = 999;        var title2 = cutByte(title, 65);        var diff = \"\", sortCss = \"\", sortTxt = \"\";        if (obj.gap == \"new\") {            sortCss = \"new\";            diff = \"\";            sortTxt = \"NEW\";        } else {            var _toNum = parseInt(obj.gap);            if (_toNum == 0) {                sortCss = \"st\";                diff = \"\";                sortTxt = \"변동없음\";            } else if (_toNum < 0) {                sortCss = \"dw\";                diff = Math.abs(_toNum);                sortTxt = \"감소\";            } else {                sortCss = \"up\";                diff = _toNum;                sortTxt = \"증가\";            }        }        return \\'\\' +            \\'\\' +            \\'\\' + title2 + \\'\\' +            \\'조회수\\' + count + \\'\\' +            \\'\\' + diff + \\'\\' + sortTxt + \\'\\' +            \\'\\' +            \\'\\';    }    function runIntervalPartialDataReal() {        window.setTimeout(function () {            tSecond = (tSecond > 1) ? tSecond - 1 : TIMER_SECOND;            var strSecondTxt = (tSecond / 10).toFixed(1); // 소수점 자리 한자리 고정            $(\".time_txt1\").text(strSecondTxt);            if (tSecond == TIMER_SECOND) {                statisticReal.getListOfTopArticleReal();            }            runIntervalPartialDataReal();        }, 100);    }베스트클릭종합IT/과학, 헬스20년 전 아내와 닮은 女와 외도한 남편…적반하장 이혼 요구바람나 떠난 전 여친, 카드값 보내달라고 연락…서장훈 \\'분노\\'유병재, 성별 전환 사진 공개…동료들 \"진짜 싫음\" 경악\\'애주가\\' 기안84 \"술 끊는 약 먹고 4일간 죽을 뻔…효과는 컸다\"심수창 \"원정 술자리 파문, 그 선배 누군지 안다…걔가 나쁜 X\"\\'122kg\\' 신기루 19금 목표? \"살 빼면 소파에서 침대로 가서…\"AOA 찬미, \\'군살 제로\\' 보디프로필 공개…다리 근육 \\'깜짝\\'샤오미 최고라던 中 소비자들, 삼성 플립3 보더니 \\'반전\\'델타보다 더 센 거 오나…日서 새 변이 \\'N501S\\' 나타났다\"내 나이만큼 사람 죽일 것\"…최악의 택시 연쇄살인범 온보현이전다음샤오미 최고라던 中 소비자들, 삼성 플립3 보더니 \\'반전\\'\"LG폰 없다, 한국 다시 돌아가자\"…짐 쌌던 그 폰들 돌아온다746만명 몰린 엔씨 \\'블소2\\'…뚜껑 열어보니 주가 폭락, 왜?\\'블소2\\' 이유있는 흥행 참패…\\'현질\\' 세계 1위 韓유저들, 지갑 닫았다삼성이 \\'갤노트\\' 단종하려는 이유 [이진욱의 렛IT고][단독]구글 픽셀폰, 국내 출시추진…\"한국 필수인력 뽑는다\"\"내 코로나19 지원금 얼마?\"…네이버·카카오톡에서 확인한다펄어비스 주가 \\'떡상\\'시킨 \\'도깨비\\'…도대체 무슨 게임?[인싸IT]방통위원장 \"인앱결제법, 플랫폼 규제 세계적 시금석 될 것\"스마트폰 왕좌 노리는 삼성, 폴더블·중저가 \\'쌍끌이 전략\\' 통할까이전다음 -->MT리포트시진핑 큰 그림 뭐기에…빅테크부터 연예인까지 \\'홍색규제\\' 이슈패키지2021 세법개정안제주 멤버십골프장 개소세 감면 올해로 끝삼성이 촉발한 미술품 상속 물납, 여당 신중론에 백지화\"사장님들, 앞으론 간이지급명세서 매달 내세요\"2021 인구이야기 PopCon25억 자산가 \\'부산빠꾸미\\', 그가 부동산 카페 회원수에 집착하는 이유[싱글파이어]파이어족으로 가는 치트키 \"선배들이 전수하는 비법은?\"\"1인가구 1000만 시대, 새로운 시장이 열렸다\"탄소중립으로 가는 길탄소 배출 방치했다간…블랙록·뱅가드가 \"이사회 교체\"\\'작년 1.3조\\' 탄소배출권 시장 해마다 커지는데…기업들은 \\'쓴웃음\\'탄소중립, 제조업 문제라구요? 금융 산업도 \\'발등의 불\\'이전다음\\r\\t//이슈패키지 슬라이드\\r\\t$(\\'.vaslist_p3\\').slick({\\r\\t\\tdots: true,\\r\\t\\tprevArrow: \\'.issue_package .btn_prev\\',\\r\\t\\tnextArrow: \\'.issue_package .btn_next\\',\\r\\t\\tappendDots: \\'.issue_package .btn_dots\\'\\r\\t});\\r -->최신뉴스IT/과학, 헬스마켓\\'포트나이트\\'의 에픽게임즈 CEO \"나는 한국인\" 외친 이유는?주가급락에 놀란 엔씨, \\'블소2\\' 살리기 \\'총력전\\'과기정통부, 산하기관에 보안담당임원(CISO) 선임 의무화조수용 카카오 대표 \"창작 넘어 \\'편집\\'의 시대 온다\"1700만 넘어선 5G 가입자…갤Z·아이폰13 업고 더 는다거래소, 공시 번복 남양유업에 \\'불성실공시법인\\' 지정 예고일진하이솔루스, \\'따상\\' 성공…수소차 타고 날았다전기차·반도체 불똥 튄 현대차 8월 내수·수출 첫 동반감소코스피 7.75p(0.24%) 오른 3207.2, 원/달러 환율 2.3원 내린 1157.2원 마감[스팟]코스피, 7.75p(0.24%) 오른 3207.2 마감 -->오늘의 꿀팁 -->많이 본 뉴스일주일1개월6개월1년20년 전 아내와 닮은 女와 외도한 남편…적반하장 이혼 요구가짜 수산업자와 사진 찍은 배현진의 해명...\"오징어 사기꾼, 제가 잡았다\"\"어머님이랑 한번...\" 20개월 딸 성폭행범이 장모에 보낸 문자공감폭로만 하던 김용호, 폭로 당하니 방송 중단?…\\'룸살롱 녹취\\' 나왔다비공감신부에게 보낸 모친의 편지 본 조국 \"목이 메인다\"\"딸 둔 엄마인데 보기 거북해\"…박수홍 \\'동치미\\' 하차 요구 빗발\"난 돈에 몸파는 놈\"…호스트바 출신 남편, 호텔 숙박비 1000만원전현무, 10년 출연료만 399억…♥이혜성에 \"편히 써\" 카드 줬다공감송가인, 문재인 대통령 부부 만났다…무슨일?비공감신부에게 보낸 모친의 편지 본 조국 \"목이 메인다\"김용호 \"아내 BMW 타고 딴 여자와 모텔\"…최지우 남편 신상 공개\"입은 거야 벗은 거야\"…칸 영화제 \\'노출 경쟁\\' 나선 모델들\"힘들면 가수 그만해\"…박수홍 친형 논란 대비 이선희 가족 일화공감손정민 父 \"쓰러진 아들, \\'그거\\'라고 부른 친구 A…기분 나쁘다\"비공감신부에게 보낸 모친의 편지 본 조국 \"목이 메인다\"서예지가 죽은 새 가리키며 한 말…\"착하다\"→\"소름\" 바뀐 반응\"유부남이랑 ㄱㅅ할 기녀 구해요\"…3만회원 \\'불륜카페 주의보\\'\"네 남친들 다 나랑 잤어, 내가 쓰레기 걸러준 것\"…절친의 고백공감손정민 父 \"쓰러진 아들, \\'그거\\'라고 부른 친구 A…기분 나쁘다\"비공감\\'김연경 인터뷰\\' 유애자 \"이다영, 며느리 삼고 싶다\"…쌍둥이와 \\'돈독\\'오피니언 마중물의 한계 광화문  \\'남양\\'한 홍원식 회장 vs 속타는 직원들 기자수첩 민주당의 언론중재법 \\'촌극\\' 광화문 스타뉴스박하선 측 \"가짜 수산업자와 사적 교류無..허위사실 법적 조치\"MoneyS1~7월 전기차 배터리 시장, LG엔솔 2위… SK이노, 삼성SDI 추월IZE\\'샹치와 텐 링즈의 전설\\' 마블이 그린 빅피처the300사상 초유의 국회 모독…\\'GSGG\\'라 불러도 분노 않는 사람들theL재범 위험에도 형기 마치면 무조건 사회로…보호수용제 힘 받나티타임즈잡스도 못했을 비전을 수익으로 만드는 능력더리더\"코로나 피해 기업 선제적 지원”스타일M\\'♥크러쉬\\' 조이, 초미니로 리폼한 슬립 드레스…\"어디 거?\"\\t//계열사 매체 슬라이드\\t$(\\'.vaslist_p5\\').slick({\\t\\tdots: false\\t});\\t//베스트클릭 슬라이드\\t$(\\'.bestclick_list\\').each(function(){\\t\\tvar btnPrev = $(this).find(\\'.btn_wrap2 .btn_prev\\'); //커스텀 이전 버튼\\t\\tvar btnNext = $(this).find(\\'.btn_wrap2 .btn_next\\'); //커스텀 다음 버튼\\t\\tvar btnDots = $(this).find(\\'.btn_dots\\'); //커스텀 버튼 페이지\\t\\tvar slider = $(this).children(\\'.group\\'); //슬라이더 선택자\\t\\tslider.slick({\\t\\t\\tdots: true,\\t\\t\\tprevArrow: btnPrev,\\t\\t\\tnextArrow: btnNext,\\t\\t\\tappendDots: btnDots\\t\\t});\\t});\\t//베스트클릭, 최신 뉴스, 많이 본 뉴스 탭메뉴 이벤트\\t$(\\'.vtabbox1 li a\\').mouseenter(function(){\\t\\tvtabEvent(this);\\t});\\t//탭메뉴 이벤트 함수\\tfunction vtabEvent(_this){\\t\\tvar vtabli = $(_this).parent(\\'li\\');\\t\\tvar idx = vtabli.index();\\t\\tvar cont_list = $(_this).parents(\\'.vtabbox1\\').next(\\'.vtabcont1\\').children(\\'div\\');\\t\\tvtabli.siblings().children(\\'a\\').removeClass(\\'on\\');\\t\\t$(_this).addClass(\\'on\\');\\t\\tcont_list.hide();\\t\\tcont_list.eq(idx).show();\\t\\tif (cont_list.hasClass(\\'bestclick_list\\'))\\t\\t{\\t\\t\\tcont_list.eq(idx).children(\\'.group\\').get(0).slick.setPosition();\\t\\t}\\t}    .rbw_g1 {        min-height: 210px;    }document.cookie=\\'a6b817bca40b79548b2bb461d0d93240=WyIxIl0=; expires=Thu,02 Sep 2021 08:26:40GMT; path=/; domain=.mt.co.kr; SameSite=None; Secure\\';포토 / 영상5수능 전 마지막 모의평가1942년만에 문 닫는 서울극장17\\'믿고 보는 기적\\'7정해인 \\'섹시한 눈빛\\'2021 u클린 청소년 문화 콘서트 [하이라이트]2021 u클린 청소년 문화 콘서트 \\'노틸러스\\'2021 u클린 청소년 문화 콘서트 \\'드리핀\\'2021 u클린 청소년 문화 콘서트 \\'래원\\'10추석 승차권 100% 비대면 예매 시작32진천 임시숙소 도착한 아프간인들6조이 \\'열애 인정후 첫 인사\\'6방민아-한성민 \\'최선의 삶 홍보왔어요!\\'2021 u클린 청소년 문화 콘서트 \\'알렉사\\'2021 u클린 청소년 문화 콘서트 \\'원호\\'2021 u클린 청소년 문화 콘서트 \\'T1419\\'2021 u클린 청소년 문화 콘서트 \\'로켓펀치\\'10한국땅 밟은 아프간인들318~49살 백신 접종 시작3한준희 감독, \\'D.P.\\' 흥행 성공7재찬-종형-경윤 \\'밝은미소로 인사\\'실제로 보면 너무 예뻐요...BMW 420i 컨버터블 타봤습니다 [고요한시승기-29]스포티지 하이브리드, 요즘 같은 고유가 시대에 이런 패밀리카 없다 [고요한시승기-28]1억원짜리 랜드로버 레인지로버 벨라 디자인은 정말 최강...! 근데 편의기능이? [고요한시승기-27]운 없으면 1년 기다린다는 볼보 XC60 타봤습니다 [고요한시승기-26]이전다음\\r            //이 기사를 본 독자들이 같이본 기사 슬라이드\\r            $(\\'.pv_list\\').slick({\\r                dots: true,\\r                prevArrow: \\'.pv_wrap .btn_prev\\',\\r                nextArrow: \\'.pv_wrap .btn_next\\',\\r                appendDots: \\'.pv_wrap .btn_dots\\'\\r            });\\r\\r            // // On before slide change\\r            $(\\'.pv_list\\').on(\\'afterChange\\', function (event, slick, currentSlide, nextSlide) {\\r                $(\\'.pv_list .lazyimg\\').lazyload({data_attribute: \\'src\\'});\\r            });\\r        \\r    $(document).ready(function () {\\r        $(\\'.lazyimg\\').lazyload({data_attribute: \\'src\\'});\\r    });\\r머니투데이 SERVICE뉴스경제정책증권정치부동산국제경제사회산업IT금융블록체인문화포토영상전체기사증권뉴스시세/공시포인트전략펀드종목대해부베스트리포트MY스톡유니콘팩토리최신기사칼럼데스크칼럼사내칼럼현장리포트사외칼럼SUCCESSSCIENCE컬쳐박스자동차최신기사신차소식시승기카라이프연예연예스포츠이슈핫이슈실시간급상승베스트클릭사람전문지·서비스VIP 머니투데이스타뉴스스타일M스포탈코리아OSEN키플랫폼티타임즈MnB창업MT해양자전거the300thebelltheLMTN노트펫앱어워드이로운넷PIXTA매거진머니S더리더대학경제로피시엘레옹IZE캠페인U클린쿨머니SNSMT페이스북MT트위터MT포스트MT인스타그램MT유튜브네이버TVMT증권 트위터머플러                                    유튜브머플러 네이버TV놂-norm                                    유튜브회사소개\\xa0\\xa0\\xa0\\xa0구독신청\\xa0\\xa0\\xa0\\xa0개인정보처리방침\\xa0\\xa0\\xa0\\xa0청소년보호정책\\xa0\\xa0\\xa0\\xa0이용약관\\xa0\\xa0\\xa0\\xa0광고안내\\xa0\\xa0\\xa0\\xa0제휴안내\\xa0\\xa0\\xa0\\xa0저작권규약\\xa0\\xa0\\xa0\\xa0기사제보\\xa0\\xa0\\xa0\\xa0고충처리서울시 종로구 청계천로 11(서린동, 청계한국빌딩)\\xa0\\xa0\\xa0대표이사/발행인/편집인:박종면\\xa0\\xa0\\xa0등록번호:서울 아01084\\xa0\\xa0\\xa0사업자등록번호:101-81-50419\\xa0\\xa0\\xa0등록일:2009.12.24\\xa0\\xa0\\xa0제호:머니투데이\\xa0\\xa0\\xa0발행일:2000.1.1\\xa0\\xa0\\xa0청소년                보호책임자:신택균\\xa0\\xa0\\xa0대표번호:02-724-7700\\xa0\\xa0\\xa0ISSN 2636-0055            머니투데이의 모든 기사(콘텐츠)는 저작권법의 보호를 받으며, 무단 전재 복사 배포 등을 금지합니다.\\xa0\\xa0\\xa0\\xa0COPYRIGHT © MONEYTODAY ALL RIGHTS RESERVED.    var addFlg = \"\";    $(document).ready(function () {        if (addFlg != \\'false\\') {            containerHeightSetter();        }    });    function containerHeightSetter() {        $(\\'#aside2017\\').css(\\'visibility\\', \\'visible\\');        /*좌우측 배너관련*/        var leftbn_wrap = $(\\'.leftbn_wrap\\');        var rightbn_wrap = $(\\'.rightbn_wrap\\');        var lbw_g1 = $(\\'.leftbn_wrap .lbw_g1\\');        var leftbn_wrap_h = leftbn_wrap.height();        var rightbn_wrap_h = rightbn_wrap.height();        var lbw_g1_h = lbw_g1.height();\\t\\tif (lbw_g1_h == null || lbw_g1_h == undefined ||  lbw_g1_h == \\'undefined\\') {\\t\\t\\tlbw_g1_h = 0;\\t\\t}\\t\\tif(lbw_g1.length > 0){\\t\\t\\t$(\\'.rightbn_wrap .rbw_g1\\').attr(\\'style\\', \\'min-height:\\' + lbw_g1_h + \\'px;\\');\\t/*좌우측 두번째 날개배너 높이 조절*/\\t\\t}else{\\t\\t\\t$(\\'.rightbn_wrap .rbw_g1\\').remove();\\t\\t}        if ((leftbn_wrap.is(\\':visible\\')) && (rightbn_wrap.is(\\':visible\\'))) {\\t/*페이지 가로사이즈 최소값 지정*/            $(\\'html\\').attr(\\'style\\', \\'min-width:1404px;\\');        }        var minHeight = rightbn_wrap_h;        if (leftbn_wrap_h >= rightbn_wrap_h) {            minHeight = leftbn_wrap_h;        }        if ($(\\'.rbw_g2 .bundle\\').length) {            minHeight = minHeight > 1470 ? minHeight : 1470;        }        $(\\'#container\\').css(\\'min-height\\', minHeight + 150);    }        //네이버 로그분석 20160429  코드값수정 20170426 ask    if (!wcs_add) {        var wcs_add = {};    }    wcs_add[\"wa\"] = \"12f81a4b011c99\";    wcs_do();                //함수 : newsViewHeader    function HeaderSearchOpen() {        $(\\'#mt_at_header .schopen\\').hide();        $(\\'#mt_at_header .search1\\').css(\\'width\\', \\'180\\');        $(\\'#mt_at_header .search1 fieldset\\').animate({width: \\'show\\'}, 100);    }    //함수 : newsViewHeader    function HeaderSearchClose() {        $(\\'#mt_at_header .schopen\\').show();        $(\\'#mt_at_header .search1\\').css(\\'width\\', \\'auto\\');        $(\\'#mt_at_header .search1 fieldset\\').hide();    }    //함수 : newsViewHeader    // 사용할 앱의 Javascript 키를 설정해 주세요.        Kakao.init(\\'5c9c20f9d0e6c617906b35b3ad92f048\\');\\t\\t\\t//자바스크립트 api 키값\\t    function loginWithKakao(urls) {        var kakaoUrl = \"https://story.kakao.com/share?url=\" + urls;        var popupOptions = \"width=600, height=460, resizable=no, scrollbars=yes, status=no\";        window.open(kakaoUrl, \"kakaoPop\", popupOptions);    }    //함수 : newsViewHeader(공유)    function showGisaInfo(arg) {        if (arg == 1) {            if ($(\\'#showhiddenGisa\\').val() == 1) {                $(\\'#totalGisaInfo\\').hide();                $(\\'#showhiddenGisa\\').val(2);            } else {                $(\\'#totalGisaInfo\\').show();                $(\\'#showhiddenGisa\\').val(arg);            }        } else if (arg == 2) {            $(\\'#totalGisaInfo\\').hide();            $(\\'#showhiddenGisa\\').val(arg);        }    }    //함수 : rightWingBannerArea    function examPop() {        window.open(\\'//www.mt.co.kr/event/20131106.html\\', \\'exam\\', \\'width=480,height=640,scrollbars=yes\\');    }    function goTweet() {        var txt = \\'샤오미 최고라던 中 소비자들, 삼성 플립3 보더니 ＇반전＇ #MToday\\';        var arg = \\'https://news.mt.co.kr/mtview.php?no=2021083114085488949\\';        window.open(encodeURI(\"https://twitter.com/share?url=\" + arg + \"&text=\") + encodeURIComponent(txt), \"tweetPop\", \"width=486, height=286,scrollbars=yes\");        fb_form.mode.value = \\'tweet\\';        fb_form.target = \\'hiddenframe\\';        fb_form.submit();    }    function goFacebook(arg) {        window.open(\"https://www.facebook.com/sharer.php?u=\" + arg, \"\", \"width=486, height=286\");        fb_form.mode.value = \\'like\\';        fb_form.target = \\'hiddenframe\\';        fb_form.submit();    }    function goNaverBlog() {        var txt = \\'샤오미 최고라던 中 소비자들, 삼성 플립3 보더니 ＇반전＇\\';        var arg = \\'https://news.mt.co.kr/mtview.php?no=2021083114085488949\\';        window.open(encodeURI(\"http://blog.naver.com/openapi/share?url=\" + arg + \"&title=\") + encodeURIComponent(txt), \"naverPop\", \"width=486, height=186,scrollbars=yes\");        fb_form.mode.value = \\'naver\\';        fb_form.target = \\'hiddenframe\\';        fb_form.submit();    }    function goTelegram(urls) {        var telgramUrl = \"https://telegram.me/share/url?url=\" + urls;        var popupOptions = \"width=600, height=520, resizable=no, scrollbars=yes, status=no\";        window.open(telgramUrl, \"Telegram\", popupOptions);    }    function share(type, kind) {        var popName = \\'\\';        var popWidth = 0;        var popHeight = 0;        var txt = \\'샤오미 최고라던 中 소비자들, 삼성 플립3 보더니 ＇반전＇ #MToday\\';        var arg = \\'https://news.mt.co.kr/mtview.php?no=2021083114085488949\\';        var option = \\'width=486, height=286\\';        switch (type) {            case \"fb\":                var popName = \\'facebookPop\\';                option = \"width=486, height=286\";                break;            case \"tw\":                var popName = \\'tweetPop\\';                option = \"width=486, height=286,scrollbars=yes\";                break;            case \"ks\":                var popName = \\'kakaoPop\\';                option = \"width=600, height=460, resizable=no, scrollbars=yes, status=no\";                break;            case \"nb\":                var popName = \\'naverPop\\';                txt = \\'샤오미 최고라던 中 소비자들, 삼성 플립3 보더니 ＇반전＇\\';                option = \"width=486, height=486,scrollbars=yes\";                break;            case \"tg\":                var popName = \\'Telegram\\';                option = \"width=600, height=520, resizable=no, scrollbars=yes, status=no\";            default:                var popName = \\'\\';                break;        }                //구글 태그매니저        window.open(\"https://news.mt.co.kr/share.php?url=\" + encodeURIComponent(arg) + \"&title=\" + encodeURIComponent(txt) + \"&type=\" + type + \"&kind=\" + kind, popName, option);    }    //함수 : 스크롤 이동    function movePst(_this) {        var elmt = _this;        var movePst = $(elmt).offset().top;        console.log(\\'elmt = \\' + elmt);        console.log(\\'movePst = \\' + movePst);        $(window).scrollTop(movePst);    }    (function (d, a, b, l, e, _) {    d[b] = d[b] || function () {        (d[b].q = d[b].q || []).push(arguments)    };    e = a.createElement(l);    e.async = 1;    e.charset = \\'utf-8\\';    e.src = \\'//static.dable.io/dist/plugin.min.js\\';    _ = a.getElementsByTagName(l)[0];    _.parentNode.insertBefore(e, _);})(window, document, \\'dable\\', \\'script\\');dable(\\'setService\\', \\'mt.co.kr\\');    document.domain = \\'mt.co.kr\\';    $(document).ready(function () {        // 이미지 링크 관련 스크립트        // 전체 페이지 로딩 후, 5초 있다가 전체 이미지내의 아이콘 안보이게 합니다.        setTimeout(\"hideImgLinkIcon()\", 5000);        // 아이콘에 마우스 올리면 내용영역이 보입니다.        $(\\'div.spot a.plus\\').on(\\'mouseover\\', function () {            $(this).parent().children(\\'div[id^=\"imgSpotContents_\"]\\').show();        });        // 아이콘 및 내용영역에서 마우스 빠지면 다시 숨김        $(\\'div[id^=\"imgSpotArea_\"]\\').on(\\'mouseleave\\', function () {            $(this).children(\\'div[id^=\"imgSpotContents_\"]\\').hide();        });        // 기사 이미지 위에 마우스 올리거나 내릴 때마다 아이콘 노출 변경        $(\\'td.img\\').on(\\'mouseover\\', function () {            //$(this).children(\\'div.spotlink\\').children(\\'div.spot\\').children(\\'a.plus\\').fadeIn(\\'fast\\');            $(this).children(\\'div.spotlink\\').children(\\'div.spot\\').children(\\'a.plus\\').show();        }).on(\\'mouseout\\', function () {            //$(this).children(\\'div.spotlink\\').children(\\'div.spot\\').children(\\'a.plus\\').fadeOut(\\'fast\\');            $(this).children(\\'div.spotlink\\').children(\\'div.spot\\').children(\\'a.plus\\').hide();        });        // 이미지 링크용 아이콘 모두 숨기기        hideImgLinkIcon = function () {            $(\\'div.spotlink a.plus\\').fadeOut(\\'fast\\');        }        //        agree_spread(\\'2021083114085488949\\');        facebook_tracking();        $(\"#textBody object\").each(function () {            if ($(this).width() > 660) {                $(this).attr(\"width\", \\'660px\\');            }        });        /*2019-01-17*/        var fsize = getCookie(\"fontsize\");        if (fsize == \"\") fsize = 16;        $(\"#ftsize\" + fsize).attr(\\'checked\\', true);        /* 수정 190718 세종 */        if ($(\\'#articleRelnewsFrame\\').length > 0) {            setHframe();            setTimeout(function () {                setHframe();            }, 3000);        }        function setHframe() {            var setHeight = $(\\'#articleRelnewsFrame\\').contents().find(\\'html\\')[0].scrollHeight + \"px\";            $(\\'#articleRelnewsFrame\\').css(\"height\", setHeight);        }        /* //수정 190718 세종 */    });    //end document ready    // 라이브리    window.livereOptions = {        refer: \\'news.mt.co.kr/mtview.php?no=2021083114085488949\\'        , site: \\'\\'    };    (function (d, s) {        var j, e = d.getElementsByTagName(s)[0];        if (typeof LivereTower === \\'function\\') {            return;        }        j = d.createElement(s);        j.src = \\'https://cdn-city.livere.com/js/embed.dist.js\\';        j.async = true;        e.parentNode.insertBefore(j, e);    })(document, \\'script\\');    function goShare(sns, type) {        switch (sns) {            case  \\'fb\\':                shareManager.facebook(sns, type);                break;            case  \\'kl\\':                shareManager.kakaolink(sns, type);                break;            case  \\'klm\\':                shareManager.kakaolinkMe(sns, type);                break;            default:                shareManager.countUpdate(sns);                share(sns, type);                break;        }    }    // 즉시실행함수 : Google Tag Manager    (function (w, d, s, l, i) {        w[l] = w[l] || [];        w[l].push({            \\'gtm.start\\':                new Date().getTime(), event: \\'gtm.js\\'        });        var f = d.getElementsByTagName(s)[0],            j = d.createElement(s), dl = l != \\'dataLayer\\' ? \\'&l=\\' + l : \\'\\';        j.async = true;        j.src =            \\'https://www.googletagmanager.com/gtm.js?id=\\' + i + dl;        f.parentNode.insertBefore(j, f);    })(window, document, \\'script\\', \\'dataLayer\\', \\'GTM-MTNP8LJ\\');    // 함수    function cardImgView(arg) {        var totCnt = \\'1\\';        for (var i = 1; i < totCnt; i++) {            if ($(\"#cardNews\" + i).css(\"display\") != \"none\") {                var currentHotNo = i;                break;            }        }        var maxHotCnt = totCnt - 1;        if (arg == \\'prev\\') {            if (currentHotNo == 1) {                return;            } else if (currentHotNo == 2) {                $(\\'#prevbtn\\').removeClass();                $(\\'#prevbtn\\').attr(\\'class\\', \\'prev noimg\\');            }            var targetHotNo = (currentHotNo == 1) ? maxHotCnt : (currentHotNo - 1);            $(\\'#nextbtn\\').removeClass();            $(\\'#nextbtn\\').attr(\\'class\\', \\'next\\');            $(\\'#prevbtn\\').css(\\'background-image\\', \\'url(https://menu.mt.co.kr/common/button/btn_prev14_on.png)\\');            $(\\'#nextbtn\\').css(\\'background-image\\', \\'url(https://menu.mt.co.kr/common/button/btn_next14.png)\\');        } else {            if (currentHotNo == maxHotCnt) {                return;            } else if (currentHotNo == (maxHotCnt - 1)) {                $(\\'#nextbtn\\').removeClass();                $(\\'#nextbtn\\').attr(\\'class\\', \\'next noimg\\');            }            var targetHotNo = (currentHotNo == maxHotCnt) ? 1 : (currentHotNo + 1);            $(\\'#prevbtn\\').removeClass();            $(\\'#prevbtn\\').attr(\\'class\\', \\'prev\\');            $(\\'#nextbtn\\').css(\\'background-image\\', \\'url(https://menu.mt.co.kr/common/button/btn_next14_on.png)\\');            $(\\'#prevbtn\\').css(\\'background-image\\', \\'url(https://menu.mt.co.kr/common/button/btn_prev14.png)\\');        }        $(\\'#cardNews\\' + currentHotNo).hide();        $(\\'#cardNews\\' + targetHotNo).fadeIn(\\'fast\\');    }    function cardImgbtnChg1(arg) {        if (arg == \\'prev\\') {            $(\\'#prevbtn\\').css(\\'background-image\\', \\'url(https://menu.mt.co.kr/common/button/btn_prev14_on.png)\\');        } else {            $(\\'#nextbtn\\').css(\\'background-image\\', \\'url(https://menu.mt.co.kr/common/button/btn_next14_on.png)\\');        }    }    function cardImgbtnChg2(arg) {        if (arg == \\'prev\\') {            $(\\'#prevbtn\\').css(\\'background-image\\', \\'url(https://menu.mt.co.kr/common/button/btn_prev14.png)\\');        } else {            $(\\'#nextbtn\\').css(\\'background-image\\', \\'url(https://menu.mt.co.kr/common/button/btn_next14.png)\\');        }    }    function facebook_tracking() {        //페이스북 좋아요 버튼 추적        try {            if (FB && FB.Event && FB.Event.subscribe) {                FB.Event.subscribe(\\'edge.create\\', function (targetUrl) {                    fb_form.mode.value = \\'like\\';                    fb_form.target = \\'hiddenframe\\';                    fb_form.submit();                    //_gaq.push([\\'_trackSocial\\', \\'facebook\\', \\'like\\', title, path]);                });                FB.Event.subscribe(\\'edge.remove\\', function (targetUrl) {                    fb_form.mode.value = \\'unlike\\';                    fb_form.target = \\'hiddenframe\\';                    fb_form.submit();                    //_gaq.push([\\'_trackSocial\\', \\'facebook\\', \\'unlike\\', title, path]);                });                FB.Event.subscribe(\\'message.send\\', function (targetUrl) {                    fb_form.mode.value = \\'share\\';                    fb_form.target = \\'hiddenframe\\';                    fb_form.submit();                    //_gaq.push([\\'_trackSocial\\', \\'facebook\\', \\'send\\', title, path]);                });            }        } catch (e) {        }    }    function agree(param, gisa_id) {        var url = \"https://news.mt.co.kr/agree/agree_proc_new.php?param=\" + param + \"&gisa_id=\" + gisa_id + \"&outdate=20210901053000\";        var agflag = getCookie(\"agflag\");        var strstr = agflag.indexOf(gisa_id);        if (strstr == -1) {            $(function () {                $.ajax({                    type: \"GET\",                    url: url,                    data: {query: \"jquery\"},                    success: function (data, textStatus) {                        var serverData = data.split(\\'$\\');                        if (serverData == \"fail\") {                            alert(\\'잠시후에 다시 시도해주세요.\\');                        } else {                            agflag = agflag + \"|\" + gisa_id;                            setCookie(\"agflag\", agflag, \"30\");                            if (param == \"POSITIVE\") {                                alert(\"공감하셨습니다.\");                            } else {                                alert(\"비공감하셨습니다.\");                            }                            $(\"#positveCnt\").html(serverData[0] + \\'%\\');                            $(\"#negativeCnt\").html(serverData[1] + \\'%\\');                        }                    }                });            })        } else {            alert(\"이미 의견이 등록된 기사입니다.\");        }    }    function agree_spread(no) {        var url = \\'https://news.mt.co.kr/agree/agree_spread_new.php?no=\\' + no;        $(function () {            $.ajax({                type: \"GET\",                url: url,                data: {query: \"jquery\"},                success: function (data, textStatus) {                    var serverData = data.split(\\'$\\');                    $(\"#positveCnt\").html(serverData[0] + \\'%\\');                    $(\"#negativeCnt\").html(serverData[1] + \\'%\\');                }            });        })    }    function article_print_mtview(gid, gtype, gb) {        if (!gtype) {            gtype = \\'1\\';        }        //ie는 파람의 gb=\\'\\' 구문 해석 불가        if(typeof gb == \"undefined\" || gb == null){            gb = \\'\\';        }        window.open(\\'https://news.mt.co.kr/newsPrint.html?no=\\' + gid + \\'&type=\\' + gtype + \\'&gubn=\\' + gb, \\'printpop\\', \\'toolbar=0,scrollbars=0,width=760,height=600,scrollbars=yes,resizable=yes,left=0,top=0\\');    }    function article_sendmail_mtview(gid, gtype, gb) {        if (!gtype) {            gtype = \\'1\\';        }        //ie는 파람의 gb=\\'\\' 구문 해석 불가        if(typeof gb == \"undefined\" || gb == null){            gb = \\'\\';        }        if (\\'\\' == \\'\\') {            alert(\"기사 이메일 보내기 기능은 로그인 후 사용하실 수 있습니다.\");            location.href = \\'https://login.mt.co.kr/login.html?qurl64=aHR0cHM6Ly9uZXdzLm10LmNvLmtyL210dmlldy5waHA/bm89MjAyMTA4MzExNDA4NTQ4ODk0OQ==\\';        } else {            window.open(\\'https://news.mt.co.kr/newsEmail.html?no=\\' + gid + \\'&type=\\' + gtype + \\'&gubn=\\' + gb, \\'printpop\\', \\'toolbar=0,scrollbars=0,width=760,height=600,scrollbars=yes,resizable=yes,left=0,top=0\\');        }    }    function downloadPdf(article_no, article_type) {        $(\\'#iframeForPdf\\').attr(\\'src\\', \\'https://login.mt.co.kr/pdf/makeAndDownloadPdf.php?no=\\' + article_no + \\'&type=\\' + article_type);    }    //즉시실행함수 :    window.___gcfg = {lang: \\'ko\\'};    (function () {        var po = document.createElement(\\'script\\');        po.type = \\'text/javascript\\';        po.async = true;        po.src = \\'https://apis.google.com/js/plusone.js\\';        var s = document.getElementsByTagName(\\'script\\')[0];        s.parentNode.insertBefore(po, s);    })();    //기자더보기 스크립트    var listH = $(\\'.view .view_top .view_info .info .newshawk .group .list\\').height();    if (listH > 20) { //기자 리스트가 2줄 이상일경우 버튼 on        $(\\'.btn_newshawk_listmore\\').show();    } else { //기자 리스트가 1줄일경우 버튼 off        $(\\'.btn_newshawk_listmore\\').hide();    }    $(document).on(\\'click\\', \\'.btn_newshawk_listmore\\', function () {        $(this).parent(\\'.newshawk\\').toggleClass(\\'on\\');    });    //sns 공유 마우스 오버 이벤트    $(document).on(\\'mouseenter\\', \\'.btn_sns_more\\', function () {        $(this).parent(\\'.sns_share\\').addClass(\\'on\\');    });    //sns 공유 마우스 리브 이벤트    $(document).on(\\'mouseleave\\', \\'.sns_share.on\\', function () {        $(this).removeClass(\\'on\\');    });    $(document).on(\\'click\\', \\'.sns_share.on .btn_sns_more\\', function () {        $(this).parent(\\'.sns_share\\').removeClass(\\'on\\');    });    //본문 글자크기 변경 이벤트    $(document).on(\\'change\\', \\'input[name=\"ftsize_fnc\"]\\', function () {        var num = $(this).val();        /*2019-01-17*/        setCookie(\"fontsize\", num, 365);        $(\"#textBody\").css(\\'font-size\\', num + \\'px\\');    });    const shareManager = {        init: function () {            this.shareUrl = $(\\'meta[property=\"og:url\"]\\').attr(\\'content\\');            this.shareTitle = $(\\'meta[property=\"og:title\"]\\').attr(\\'content\\');            this.shareDescription = $(\\'meta[property=\"og:description\"]\\').attr(\\'content\\');            this.shareImg = $(\\'meta[property=\"og:image\"]\\').attr(\\'content\\');            // shareManager.initTwitterCallback();        },        kakaolink: function(sns, type){            var shareUrl = shareManager.shareUrl;            var shareTitle = shareManager.shareTitle;            var shareDescription = shareManager.shareDescription;            var shareImg = shareManager.shareImg;            Kakao.Link.sendDefault({                    objectType: \\'feed\\',                    content: {                        title: shareTitle,                        description: shareDescription,                        imageUrl: shareImg,                        link: {                            mobileWebUrl: shareUrl,                            webUrl: shareUrl                        }                    },                    buttons: [                        {                            title: \\'웹으로 보기\\',                            link: {                                mobileWebUrl: shareUrl,                                webUrl: shareUrl                            }                        }                    ]                });        },        kakaolinkMe: function(sns, type){            var shareUrl = shareManager.shareUrl;            var shareTitle = shareManager.shareTitle;            var shareDescription = shareManager.shareDescription;            var shareImg = shareManager.shareImg;            Kakao.Auth.login({                scope: \"PROFILE,TALK_MESSAGE\",                success: function (res) {                    Kakao.API.request({                        url: \\'/v2/api/talk/memo/default/send\\',                        data: {                            template_object: {                                object_type: \"feed\",                                content: {                                    title: shareTitle,                                    description: shareDescription,                                    image_url: shareImg,                                    link: {                                        web_url: shareUrl,                                        mobile_web_url: shareUrl                                    }                                }                            }                        },                        success: function (res) {                            alert(\\'기사가 전송되었습니다.\\');                        },                        fail: function (error) {                            alert(\\'기사를 전송하지 못했습니다. 잠시 후 다시 시도해 주세요.\\')                            //alert(\\'error! \\\\n\\' + JSON.stringify(error));                        }                    })                },                fail: function (error) {                    //console.log(error);                }            });        },        facebook: function (sns, type) {            shareManager.googleTraceScriptInjection();            const href = location.href.replace(/nnews/, \\'news\\');            const optionShare = {                href: href,                method: \\'share\\'            };            const callbackShare = function (response) {                console.log(response);                if (response && !response.error_message) {                    shareManager.pushDataLayer(sns);                    shareManager.countUpdate(sns);                } else if (response !== undefined) {                    alert(\\'facebook share error\\');                }            };            FB.ui(optionShare, callbackShare);        },        initTwitterCallback: function () {            $.getScript(\"//platform.twitter.com/widgets.js\", function () {                function handleTweetEvent(event) {                    console.log(\\'==================================================\\');                    console.log(\\'handleTweetEvent\\', event);                    if (event) {                        console.log(\\'twitter share count update\\');                        shareManager.pushDataLayer(\\'tw\\');                        shareManager.countUpdate(\\'tw\\');                    }                }                twttr.events.bind(\\'tweet\\', handleTweetEvent);            });        },        twitter: function (sns, type) {            shareManager.googleTraceScriptInjection();            const url = encodeURIComponent($(\\'meta[property=\"og:url\"]\\').attr(\\'content\\'));            const title = encodeURIComponent($(\\'meta[name=\"twitter:title\"]\\').attr(\\'content\\'));            snsLink = \\'//twitter.com/share?url=\\' + url + \\'&text=\\' + title;            window.open(snsLink, \\'tweetPop\\', \"width=486, height=286,scrollbars=yes\");        },        googleTraceScriptInjection: function () {            var _gaq = _gaq || [];            _gaq.push([\\'_setAccount\\', \\'UA-22186599-19\\']);            _gaq.push([\\'_trackPageview\\']);            (function () {                var ga = document.createElement(\\'script\\');                ga.type = \\'text/javascript\\';                ga.async = true;                ga.src = (\\'https:\\' === document.location.protocol ? \\'https://ssl\\' : \\'http://www\\') + \\'.google-analytics.com/ga.js\\';                var s = document.getElementsByTagName(\\'script\\')[0];                s.parentNode.insertBefore(ga, s);            })();        },        countUpdate: function (sns) {            fb_form.mode.value = sns;            fb_form.target = \\'hiddenframe\\';            fb_form.submit();        },        pushDataLayer: function (sns) {            //구글 태그매니저            var sns_name = \"\";            switch (sns) {                case \"fb\":                    sns_name = \"페이스북\";                    break;                case \"tw\":                    sns_name = \"트위터\";                    break;                case \"ks\":                    sns_name = \\'카카오스토리\\';                    break;                case \"nb\":                    sns_name = \"네이버\";                    break;                case \"tg\":                    sns_name = \\'텔레그램\\';                    break;                default:                    sns_name = \\'기타\\';                    break;            }            const eventLabel = location.href.replace(/(http|https):\\\\/\\\\/[^\\\\/]+([^\\\\&]+).+/, \\'$2\\');            const pushContent = {                eventLabel: eventLabel,                event: \\'common\\',                eventCategory: \\'SNS공유\\',                eventAction: sns_name,                eventValue: \\'\\'            };            dataLayer.push(pushContent);        }    };    $(\\'document\\').ready(function () {        shareManager.init();    });    //기사면일때 2019.10.17 추가 MTCMUWORK-250    wpts.tag();        <ins class=\\'adsbyadop\\' _adop_zon=\\'ed7c4893-a782-49e2-957f-4156368422b4\\' _adop_type=\\'re\\'             style=\\'display:inline-block;width:0px;height:0px;\\' _page_url=\\'\\'> -->//수정 200304 세종 / iframe 에 style=\\'position:absolute;\\' 추가, 기사면 하단에 발생하는 여백 제거용    document.write(\"\");'"
      ]
     },
     "execution_count": 53,
     "metadata": {},
     "output_type": "execute_result"
    }
   ],
   "source": [
    "html = urlopen('http://news.mt.co.kr/mtview.php?no=2021083114085488949')\n",
    "bsob = BeautifulSoup(html, 'html.parser')\n",
    "cleanhtml(str(bsob)).replace('\\n','')"
   ]
  },
  {
   "cell_type": "code",
   "execution_count": 69,
   "id": "58599bff-0ffd-4afd-82f3-bf59d498a49a",
   "metadata": {},
   "outputs": [],
   "source": [
    "req = requests.get('http://news.mt.co.kr/mtview.php?no=2021083108500081348')\n",
    "req.encoding = None\n",
    "soup = BeautifulSoup(req.text, 'html.parser')"
   ]
  },
  {
   "cell_type": "code",
   "execution_count": 75,
   "id": "6e95fe3f-3b06-4424-a820-06013355345c",
   "metadata": {
    "tags": []
   },
   "outputs": [
    {
     "name": "stdout",
     "output_type": "stream",
     "text": [
      "본문 크롤링에 필요한 함수를 로딩하고 있습니다...\n",
      "----------------------------------------------------------------------------------------------------\n",
      "검색할 언론사 : 머니투데이\n"
     ]
    },
    {
     "name": "stdin",
     "output_type": "stream",
     "text": [
      "검색할 키워드  :  삼성전자\n",
      "수집 뉴스의 수(숫자만 입력) :  20\n"
     ]
    },
    {
     "name": "stdout",
     "output_type": "stream",
     "text": [
      "\n",
      "====================================================================================================\n",
      "\n",
      "브라우저를 실행시킵니다(자동 제어)\n",
      "\n",
      "설정한 언론사를 선택합니다.\n",
      "\n",
      "<경제/IT> 카테고리에서 <머니투데이>를 찾았으므로 탐색을 종료합니다\n"
     ]
    },
    {
     "name": "stderr",
     "output_type": "stream",
     "text": [
      "  0%|                                                                                           | 0/20 [00:00<?, ?it/s]"
     ]
    },
    {
     "name": "stdout",
     "output_type": "stream",
     "text": [
      "\n",
      "크롤링을 시작합니다.\n"
     ]
    },
    {
     "name": "stderr",
     "output_type": "stream",
     "text": [
      "  5%|████▏                                                                              | 1/20 [00:06<01:56,  6.11s/it]"
     ]
    },
    {
     "ename": "StaleElementReferenceException",
     "evalue": "Message: stale element reference: element is not attached to the page document\n  (Session info: chrome=92.0.4515.159)\n",
     "output_type": "error",
     "traceback": [
      "\u001b[1;31m---------------------------------------------------------------------------\u001b[0m",
      "\u001b[1;31mStaleElementReferenceException\u001b[0m            Traceback (most recent call last)",
      "\u001b[1;32m<ipython-input-75-d231461cb552>\u001b[0m in \u001b[0;36m<module>\u001b[1;34m\u001b[0m\n\u001b[0;32m    156\u001b[0m \u001b[1;33m\u001b[0m\u001b[0m\n\u001b[0;32m    157\u001b[0m     \u001b[1;32mfor\u001b[0m \u001b[0mn\u001b[0m \u001b[1;32min\u001b[0m \u001b[0ma_list\u001b[0m\u001b[1;33m[\u001b[0m\u001b[1;33m:\u001b[0m\u001b[0mmin\u001b[0m\u001b[1;33m(\u001b[0m\u001b[0mlen\u001b[0m\u001b[1;33m(\u001b[0m\u001b[0ma_list\u001b[0m\u001b[1;33m)\u001b[0m\u001b[1;33m,\u001b[0m \u001b[0mnews_num\u001b[0m\u001b[1;33m-\u001b[0m\u001b[0midx\u001b[0m\u001b[1;33m+\u001b[0m\u001b[1;36m1\u001b[0m\u001b[1;33m)\u001b[0m\u001b[1;33m]\u001b[0m\u001b[1;33m:\u001b[0m\u001b[1;33m\u001b[0m\u001b[1;33m\u001b[0m\u001b[0m\n\u001b[1;32m--> 158\u001b[1;33m         \u001b[0mn_url\u001b[0m \u001b[1;33m=\u001b[0m \u001b[0mn\u001b[0m\u001b[1;33m.\u001b[0m\u001b[0mget_attribute\u001b[0m\u001b[1;33m(\u001b[0m\u001b[1;34m'href'\u001b[0m\u001b[1;33m)\u001b[0m\u001b[1;33m\u001b[0m\u001b[1;33m\u001b[0m\u001b[0m\n\u001b[0m\u001b[0;32m    159\u001b[0m         news_dict[idx] = {'title' : n.get_attribute('title'), \n\u001b[0;32m    160\u001b[0m                           \u001b[1;34m'url'\u001b[0m \u001b[1;33m:\u001b[0m \u001b[0mn_url\u001b[0m\u001b[1;33m,\u001b[0m\u001b[1;33m\u001b[0m\u001b[1;33m\u001b[0m\u001b[0m\n",
      "\u001b[1;32m~\\anaconda3\\envs\\multi\\lib\\site-packages\\selenium\\webdriver\\remote\\webelement.py\u001b[0m in \u001b[0;36mget_attribute\u001b[1;34m(self, name)\u001b[0m\n\u001b[0;32m    139\u001b[0m             attributeValue = self.parent.execute_script(\n\u001b[0;32m    140\u001b[0m                 \u001b[1;34m\"return (%s).apply(null, arguments);\"\u001b[0m \u001b[1;33m%\u001b[0m \u001b[0mgetAttribute_js\u001b[0m\u001b[1;33m,\u001b[0m\u001b[1;33m\u001b[0m\u001b[1;33m\u001b[0m\u001b[0m\n\u001b[1;32m--> 141\u001b[1;33m                 self, name)\n\u001b[0m\u001b[0;32m    142\u001b[0m         \u001b[1;32melse\u001b[0m\u001b[1;33m:\u001b[0m\u001b[1;33m\u001b[0m\u001b[1;33m\u001b[0m\u001b[0m\n\u001b[0;32m    143\u001b[0m             \u001b[0mresp\u001b[0m \u001b[1;33m=\u001b[0m \u001b[0mself\u001b[0m\u001b[1;33m.\u001b[0m\u001b[0m_execute\u001b[0m\u001b[1;33m(\u001b[0m\u001b[0mCommand\u001b[0m\u001b[1;33m.\u001b[0m\u001b[0mGET_ELEMENT_ATTRIBUTE\u001b[0m\u001b[1;33m,\u001b[0m \u001b[1;33m{\u001b[0m\u001b[1;34m'name'\u001b[0m\u001b[1;33m:\u001b[0m \u001b[0mname\u001b[0m\u001b[1;33m}\u001b[0m\u001b[1;33m)\u001b[0m\u001b[1;33m\u001b[0m\u001b[1;33m\u001b[0m\u001b[0m\n",
      "\u001b[1;32m~\\anaconda3\\envs\\multi\\lib\\site-packages\\selenium\\webdriver\\remote\\webdriver.py\u001b[0m in \u001b[0;36mexecute_script\u001b[1;34m(self, script, *args)\u001b[0m\n\u001b[0;32m    634\u001b[0m         return self.execute(command, {\n\u001b[0;32m    635\u001b[0m             \u001b[1;34m'script'\u001b[0m\u001b[1;33m:\u001b[0m \u001b[0mscript\u001b[0m\u001b[1;33m,\u001b[0m\u001b[1;33m\u001b[0m\u001b[1;33m\u001b[0m\u001b[0m\n\u001b[1;32m--> 636\u001b[1;33m             'args': converted_args})['value']\n\u001b[0m\u001b[0;32m    637\u001b[0m \u001b[1;33m\u001b[0m\u001b[0m\n\u001b[0;32m    638\u001b[0m     \u001b[1;32mdef\u001b[0m \u001b[0mexecute_async_script\u001b[0m\u001b[1;33m(\u001b[0m\u001b[0mself\u001b[0m\u001b[1;33m,\u001b[0m \u001b[0mscript\u001b[0m\u001b[1;33m,\u001b[0m \u001b[1;33m*\u001b[0m\u001b[0margs\u001b[0m\u001b[1;33m)\u001b[0m\u001b[1;33m:\u001b[0m\u001b[1;33m\u001b[0m\u001b[1;33m\u001b[0m\u001b[0m\n",
      "\u001b[1;32m~\\anaconda3\\envs\\multi\\lib\\site-packages\\selenium\\webdriver\\remote\\webdriver.py\u001b[0m in \u001b[0;36mexecute\u001b[1;34m(self, driver_command, params)\u001b[0m\n\u001b[0;32m    319\u001b[0m         \u001b[0mresponse\u001b[0m \u001b[1;33m=\u001b[0m \u001b[0mself\u001b[0m\u001b[1;33m.\u001b[0m\u001b[0mcommand_executor\u001b[0m\u001b[1;33m.\u001b[0m\u001b[0mexecute\u001b[0m\u001b[1;33m(\u001b[0m\u001b[0mdriver_command\u001b[0m\u001b[1;33m,\u001b[0m \u001b[0mparams\u001b[0m\u001b[1;33m)\u001b[0m\u001b[1;33m\u001b[0m\u001b[1;33m\u001b[0m\u001b[0m\n\u001b[0;32m    320\u001b[0m         \u001b[1;32mif\u001b[0m \u001b[0mresponse\u001b[0m\u001b[1;33m:\u001b[0m\u001b[1;33m\u001b[0m\u001b[1;33m\u001b[0m\u001b[0m\n\u001b[1;32m--> 321\u001b[1;33m             \u001b[0mself\u001b[0m\u001b[1;33m.\u001b[0m\u001b[0merror_handler\u001b[0m\u001b[1;33m.\u001b[0m\u001b[0mcheck_response\u001b[0m\u001b[1;33m(\u001b[0m\u001b[0mresponse\u001b[0m\u001b[1;33m)\u001b[0m\u001b[1;33m\u001b[0m\u001b[1;33m\u001b[0m\u001b[0m\n\u001b[0m\u001b[0;32m    322\u001b[0m             response['value'] = self._unwrap_value(\n\u001b[0;32m    323\u001b[0m                 response.get('value', None))\n",
      "\u001b[1;32m~\\anaconda3\\envs\\multi\\lib\\site-packages\\selenium\\webdriver\\remote\\errorhandler.py\u001b[0m in \u001b[0;36mcheck_response\u001b[1;34m(self, response)\u001b[0m\n\u001b[0;32m    240\u001b[0m                 \u001b[0malert_text\u001b[0m \u001b[1;33m=\u001b[0m \u001b[0mvalue\u001b[0m\u001b[1;33m[\u001b[0m\u001b[1;34m'alert'\u001b[0m\u001b[1;33m]\u001b[0m\u001b[1;33m.\u001b[0m\u001b[0mget\u001b[0m\u001b[1;33m(\u001b[0m\u001b[1;34m'text'\u001b[0m\u001b[1;33m)\u001b[0m\u001b[1;33m\u001b[0m\u001b[1;33m\u001b[0m\u001b[0m\n\u001b[0;32m    241\u001b[0m             \u001b[1;32mraise\u001b[0m \u001b[0mexception_class\u001b[0m\u001b[1;33m(\u001b[0m\u001b[0mmessage\u001b[0m\u001b[1;33m,\u001b[0m \u001b[0mscreen\u001b[0m\u001b[1;33m,\u001b[0m \u001b[0mstacktrace\u001b[0m\u001b[1;33m,\u001b[0m \u001b[0malert_text\u001b[0m\u001b[1;33m)\u001b[0m\u001b[1;33m\u001b[0m\u001b[1;33m\u001b[0m\u001b[0m\n\u001b[1;32m--> 242\u001b[1;33m         \u001b[1;32mraise\u001b[0m \u001b[0mexception_class\u001b[0m\u001b[1;33m(\u001b[0m\u001b[0mmessage\u001b[0m\u001b[1;33m,\u001b[0m \u001b[0mscreen\u001b[0m\u001b[1;33m,\u001b[0m \u001b[0mstacktrace\u001b[0m\u001b[1;33m)\u001b[0m\u001b[1;33m\u001b[0m\u001b[1;33m\u001b[0m\u001b[0m\n\u001b[0m\u001b[0;32m    243\u001b[0m \u001b[1;33m\u001b[0m\u001b[0m\n\u001b[0;32m    244\u001b[0m     \u001b[1;32mdef\u001b[0m \u001b[0m_value_or_default\u001b[0m\u001b[1;33m(\u001b[0m\u001b[0mself\u001b[0m\u001b[1;33m,\u001b[0m \u001b[0mobj\u001b[0m\u001b[1;33m,\u001b[0m \u001b[0mkey\u001b[0m\u001b[1;33m,\u001b[0m \u001b[0mdefault\u001b[0m\u001b[1;33m)\u001b[0m\u001b[1;33m:\u001b[0m\u001b[1;33m\u001b[0m\u001b[1;33m\u001b[0m\u001b[0m\n",
      "\u001b[1;31mStaleElementReferenceException\u001b[0m: Message: stale element reference: element is not attached to the page document\n  (Session info: chrome=92.0.4515.159)\n"
     ]
    }
   ],
   "source": [
    "####### 언론사별 본문 위치 태그 파싱 함수 ###########\n",
    "print('본문 크롤링에 필요한 함수를 로딩하고 있습니다...\\n' + '-' * 100)\n",
    "\n",
    "\n",
    "def crawling_main_text(url):\n",
    "\n",
    "    req = requests.get(url)\n",
    "    req.encoding = None\n",
    "    soup = BeautifulSoup(req.text, 'html.parser')\n",
    "    dates = ''\n",
    "    res = [0 for i in range(2)]\n",
    "    \n",
    "    # 연합뉴스\n",
    "    if ('://yna' in url) | ('app.yonhapnews' in url): \n",
    "        main_article = soup.find('div', {'class':'story-news article'})\n",
    "        if main_article == None:\n",
    "            main_article = soup.find('div', {'class' : 'article-txt'})\n",
    "            \n",
    "        text = main_article.text\n",
    "        \n",
    "    # MBC \n",
    "    elif '//imnews.imbc' in url: \n",
    "        text = soup.find('div', {'itemprop' : 'articleBody'}).text\n",
    "        \n",
    "    # 매일경제(미라클), req.encoding = None 설정 필요\n",
    "    elif 'mirakle.mk' in url:\n",
    "        text = soup.find('div', {'class' : 'view_txt'}).text\n",
    "        \n",
    "    # 매일경제, req.encoding = None 설정 필요\n",
    "    elif 'mk.co' in url:\n",
    "        text = cleanhtml(str(soup))\n",
    "        text2 = soup.find('li', {'class' : 'lasttime'}).text\n",
    "        dates = re.sub(r'[^0-9]', '', text2)\n",
    "#         try:\n",
    "#             text = soup.find('div', {'class' : 'article_view'}).text\n",
    "#             text2 = soup.find('li', {'class' : 'lasttime'}).text\n",
    "#             dates = re.sub(r'[^0-9]', '', text2)\n",
    "#         except:\n",
    "#             html = urlopen(url)\n",
    "#             bsob = BeautifulSoup(html, 'html.parser')\n",
    "#             text = cleanhtml(str(bsob)).replace('\\n','')\n",
    "#             text2 = soup.find('li', {'class' : 'lasttime'}).text\n",
    "#             dates = re.sub(r'[^0-9]', '', text2)\n",
    "        \n",
    "    # SBS\n",
    "    elif 'news.sbs' in url:\n",
    "        text = soup.find('div', {'itemprop' : 'articleBody'}).text\n",
    "    \n",
    "    # KBS\n",
    "    elif 'news.kbs' in url:\n",
    "        text = soup.find('div', {'id' : 'cont_newstext'}).text\n",
    "        \n",
    "    # JTBC\n",
    "    elif 'news.jtbc' in url:\n",
    "        text = soup.find('div', {'class' : 'article_content'}).text\n",
    "        \n",
    "    # 머니투데이\n",
    "    elif 'news.mt' in url:\n",
    "        text = soup.find('div', {'class' : 'view_text'}).text\n",
    "        \n",
    "    # 그 외\n",
    "    else:\n",
    "        text == None\n",
    "        \n",
    "    res[0] = text.replace('\\n','').replace('\\r','').replace('<br>','').replace('\\t','')\n",
    "    res[1] = date[:10]\n",
    "    \n",
    "    return res\n",
    "\n",
    "\n",
    "press_nm = '머니투데이'\n",
    "\n",
    "print('검색할 언론사 : {}'.format(press_nm))\n",
    "\n",
    "\n",
    "############### 브라우저를 켜고 검색 키워드 입력 ####################\n",
    "query = input('검색할 키워드  : ')\n",
    "news_num = int(input('수집 뉴스의 수(숫자만 입력) : '))\n",
    "\n",
    "print('\\n' + '=' * 100 + '\\n')\n",
    "\n",
    "print('브라우저를 실행시킵니다(자동 제어)\\n')\n",
    "chrome_path = './webdriver/chromedriver.exe'\n",
    "browser = webdriver.Chrome(chrome_path)\n",
    "\n",
    "news_url = 'https://search.naver.com/search.naver?where=news&query={}'.format(query)\n",
    "browser.get(news_url)\n",
    "time.sleep(sleep_sec)\n",
    "\n",
    "\n",
    "\n",
    "######### 언론사 선택 및 confirm #####################\n",
    "print('설정한 언론사를 선택합니다.\\n')\n",
    "\n",
    "search_opn_btn = browser.find_element_by_xpath('//a[@class=\"btn_option _search_option_open_btn\"]')\n",
    "search_opn_btn.click()\n",
    "time.sleep(sleep_sec)\n",
    "\n",
    "bx_press = browser.find_element_by_xpath('//div[@role=\"listbox\" and @class=\"api_group_option_sort _search_option_detail_wrap\"]//li[@class=\"bx press\"]')\n",
    "\n",
    "# 기준 두번 째(언론사 분류순) 클릭하고 오픈하기\n",
    "press_tablist = bx_press.find_elements_by_xpath('.//div[@role=\"tablist\" and @class=\"option\"]/a')\n",
    "press_tablist[1].click()\n",
    "time.sleep(sleep_sec)\n",
    "\n",
    "# 첫 번째 것(언론사 분류선택)\n",
    "bx_group = bx_press.find_elements_by_xpath('.//div[@class=\"api_select_option type_group _category_select_layer\"]/div[@class=\"select_wrap _root\"]')[0]\n",
    "\n",
    "press_kind_bx = bx_group.find_elements_by_xpath('.//div[@class=\"group_select _list_root\"]')[0]\n",
    "press_kind_btn_list = press_kind_bx.find_elements_by_xpath('.//ul[@role=\"tablist\" and @class=\"lst_item _ul\"]/li/a')\n",
    "\n",
    "\n",
    "for press_kind_btn in press_kind_btn_list:\n",
    "    \n",
    "    # 언론사 종류를 순차적으로 클릭(좌측)\n",
    "    press_kind_btn.click()\n",
    "    time.sleep(sleep_sec)\n",
    "    \n",
    "    # 언론사선택(우측)\n",
    "    press_slct_bx = bx_group.find_elements_by_xpath('.//div[@class=\"group_select _list_root\"]')[1]\n",
    "    # 언론사 선택할 수 있는 클릭 버튼\n",
    "    press_slct_btn_list = press_slct_bx.find_elements_by_xpath('.//ul[@role=\"tablist\" and @class=\"lst_item _ul\"]/li/a')\n",
    "    # 언론사 이름들 추출\n",
    "    press_slct_btn_list_nm = [psl.text for psl in press_slct_btn_list]\n",
    "    \n",
    "    # 언론사 이름 : 언론사 클릭 버튼 인 딕셔너리 생성\n",
    "    press_slct_btn_dict = dict(zip(press_slct_btn_list_nm, press_slct_btn_list))\n",
    "    \n",
    "    # 원하는 언론사가 해당 이름 안에 있는 경우\n",
    "    # 1) 클릭하고\n",
    "    # 2) 더이상 언론사분류선택 탐색 중지\n",
    "    if press_nm in press_slct_btn_dict.keys():\n",
    "        print('<{}> 카테고리에서 <{}>를 찾았으므로 탐색을 종료합니다'.format(press_kind_btn.text, press_nm))\n",
    "        \n",
    "        press_slct_btn_dict[press_nm].click()\n",
    "        time.sleep(sleep_sec)\n",
    "        \n",
    "        break\n",
    "          \n",
    "################ 뉴스 크롤링 ########################\n",
    "\n",
    "print('\\n크롤링을 시작합니다.')\n",
    "# ####동적 제어로 페이지 넘어가며 크롤링\n",
    "news_dict = {}\n",
    "idx = 1\n",
    "cur_page = 1\n",
    "\n",
    "pbar = tqdm(total=news_num ,leave = True)\n",
    "    \n",
    "while idx < news_num:\n",
    "\n",
    "    table = browser.find_element_by_xpath('//ul[@class=\"list_news\"]')\n",
    "    li_list = table.find_elements_by_xpath('./li[contains(@id, \"sp_nws\")]')\n",
    "    area_list = [li.find_element_by_xpath('.//div[@class=\"news_area\"]') for li in li_list]\n",
    "    a_list = [area.find_element_by_xpath('.//a[@class=\"news_tit\"]') for area in area_list]\n",
    " \n",
    "    for n in a_list[:min(len(a_list), news_num-idx+1)]:\n",
    "        n_url = n.get_attribute('href')\n",
    "        news_dict[idx] = {'title' : n.get_attribute('title'), \n",
    "                          'url' : n_url,\n",
    "                          'text' : crawling_main_text(n_url)[0],\n",
    "                          'date' : crawling_main_text(n_url)[1]}\n",
    "        \n",
    "        idx += 1\n",
    "        pbar.update(1)\n",
    "        \n",
    "    if idx < news_num:\n",
    "        cur_page +=1\n",
    "\n",
    "        pages = browser.find_element_by_xpath('//div[@class=\"sc_page_inner\"]')\n",
    "        next_page_url = [p for p in pages.find_elements_by_xpath('.//a') if p.text == str(cur_page)][0].get_attribute('href')\n",
    "\n",
    "        browser.get(next_page_url)\n",
    "        time.sleep(sleep_sec)\n",
    "    else:\n",
    "        pbar.close()\n",
    "        \n",
    "        print('\\n브라우저를 종료합니다.\\n' + '=' * 100)\n",
    "        time.sleep(0.7)\n",
    "        browser.close()\n",
    "        break\n",
    "        \n",
    "#### 데이터 전처리하기 ###################################################### \n",
    "\n",
    "print('데이터프레임 변환\\n')\n",
    "news_df = DataFrame(news_dict).T\n",
    "\n",
    "folder_path = os.getcwd()\n",
    "xlsx_file_name = '네이버뉴스_본문_{}개_{}_{}.xlsx'.format(news_num, query, date)\n",
    "\n",
    "news_df.to_excel(xlsx_file_name)\n",
    "\n",
    "print('엑셀 저장 완료 | 경로 : {}\\\\{}\\n'.format(folder_path, xlsx_file_name))\n",
    "\n",
    "os.startfile(folder_path)\n",
    "\n",
    "print('=' * 100 + '\\n결과물의 일부')\n",
    "news_df"
   ]
  },
  {
   "cell_type": "code",
   "execution_count": 57,
   "id": "348a9836-d071-489b-981e-969135abee57",
   "metadata": {},
   "outputs": [],
   "source": [
    " for n in a_list[:min(len(a_list), news_num-idx+1)]:\n",
    "        n_url = n.get_attribute('href')\n",
    "        news_dict[idx] = {'title' : n.get_attribute('title'), \n",
    "                          'url' : n_url,\n",
    "                          'text' : crawling_main_text(n_url)}\n",
    "        \n",
    "        idx += 1\n",
    "        pbar.update(1)"
   ]
  },
  {
   "cell_type": "code",
   "execution_count": 58,
   "id": "8c71ac8e-ded0-463a-bfc6-5ed5aa21e23c",
   "metadata": {},
   "outputs": [
    {
     "data": {
      "text/plain": [
       "'http://news.mt.co.kr/mtview.php?no=2021083114085488949'"
      ]
     },
     "execution_count": 58,
     "metadata": {},
     "output_type": "execute_result"
    }
   ],
   "source": [
    "news_df['url'][1]"
   ]
  },
  {
   "cell_type": "code",
   "execution_count": 66,
   "id": "3eb36b79-49fc-438e-a572-1017243eea5c",
   "metadata": {},
   "outputs": [
    {
     "data": {
      "text/plain": [
       "'12일 서울 서초구 삼성 딜라이트를 찾은 고객들이 새로운 폴더블 스마트폰 갤럭시Z폴드3와 갤럭시Z플립3를 살펴보고 있다. 삼성전자의 갤럭시Z 폴드3와 갤럭시Z플립3는 오는 17일부터 23일까지 국내 사전 판매를 진행하며, 27일 한국, 미국, 유럽을 시작으로 전세계에 순차적으로 출시 예정이다. /사진=이기범 기자 leekb@한국투자증권은 31일 삼성전자의 폴더블폰 신제품이 인기몰이를 하면서 이에 힌지를 공급하는 KH바텍 (30,900원 2850 10.2%)의 수혜가 예상된다며 KH바텍의 목표주가를 기존 3만원에서 3만6000원으로 올렸다. 투자의견은 \\'매수\\'를 유지했다. KH바텍의 주가는 전날 종가 기준 2만7900원이다. 조철희 연구원은 \"삼성전자는 지난 11일 Z폴드3와 Z플립3를 공개했고, 이에 KH바텍의 주가도 이달 들어 26.2% 상승했다\"고 말했다.조 연구원은 \"삼성전자는 Z폴드3와 Z플립3의 예약판매 수량이 92만대를 기록했다고 밝혔는데 이는 갤럭시 노트 20의 1.3배, S21의 1.8배 수준\"이라고 말했다.Z폴드3와 Z플립3이 국내는 물론 중국, 인도, 미국 등에서도 좋은 시장 반응을 얻고 있는 만큼 한국투자증권은 올해 글로벌 폴더블폰 추정 출하량을 기존 890만대에서 990만대로 상향 조정했다. 삼성 신모델 기준으로는 850만대다. 내년 목표 출하량은 기존 1550만대에서 1750만대로 높였다. 조 연구원은 \"2023년에는 애플이 폴더블폰 시장에 진입해 시장 규모가 3000만대를 가뿐히 넘길 것\"이라며 \"삼성전자는 애플의 진출에 앞서 내년 폴더블폰 출하량을 크게 늘려 시장 선점에 나설 것\"이라고 예상했다. 이어 \"2023년부터 삼성전자와 애플의 양강 체제가 예상된다\"며 \"애플의 2023년 폴더블폰 첫해 출하량은 1500만대 이상이 될 것\"이라고 했다. 조 연구원은 \"KH바텍의 올해와 내년 EPS(주당순이익)를 각각 7.5%와 10.5% 올렸다\"며 \"올해와 내년 영업이익이 각각 전년 대비 591.1%와 103.4% 증가할 것\"이라고 말했다.                                                                <저작권자 © ‘돈이 보이는 리얼타임 뉴스’ 머니투데이, 무단전재 및 재배포 금지>                                공감                                            0%비공감                                            0%'"
      ]
     },
     "execution_count": 66,
     "metadata": {},
     "output_type": "execute_result"
    }
   ],
   "source": [
    "crawling_main_text('http://news.mt.co.kr/mtview.php?no=2021083108500081348')[0]"
   ]
  },
  {
   "cell_type": "code",
   "execution_count": null,
   "id": "6e87d853-ab91-4d8e-be53-edbedc0b7d7a",
   "metadata": {},
   "outputs": [],
   "source": []
  }
 ],
 "metadata": {
  "kernelspec": {
   "display_name": "Python Multi",
   "language": "python",
   "name": "multi"
  },
  "language_info": {
   "codemirror_mode": {
    "name": "ipython",
    "version": 3
   },
   "file_extension": ".py",
   "mimetype": "text/x-python",
   "name": "python",
   "nbconvert_exporter": "python",
   "pygments_lexer": "ipython3",
   "version": "3.7.6"
  }
 },
 "nbformat": 4,
 "nbformat_minor": 5
}
