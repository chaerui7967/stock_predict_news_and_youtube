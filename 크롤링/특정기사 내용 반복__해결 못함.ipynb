{
 "cells": [
  {
   "cell_type": "code",
   "execution_count": 6,
   "id": "dd50f175-9c03-4886-b892-83b6560139a0",
   "metadata": {
    "collapsed": true,
    "jupyter": {
     "outputs_hidden": true
    },
    "tags": []
   },
   "outputs": [
    {
     "name": "stdout",
     "output_type": "stream",
     "text": [
      "Collecting openpyxl\n",
      "  Using cached openpyxl-3.0.7-py2.py3-none-any.whl (243 kB)\n",
      "Collecting et-xmlfile\n",
      "  Downloading et_xmlfile-1.1.0-py3-none-any.whl (4.7 kB)\n",
      "Installing collected packages: et-xmlfile, openpyxl\n",
      "Successfully installed et-xmlfile-1.1.0 openpyxl-3.0.7\n"
     ]
    }
   ],
   "source": [
    "!pip install openpyxl"
   ]
  },
  {
   "cell_type": "code",
   "execution_count": 5,
   "id": "d32d8b49-a14c-482c-a748-e3cf4810321e",
   "metadata": {
    "collapsed": true,
    "jupyter": {
     "outputs_hidden": true
    },
    "tags": []
   },
   "outputs": [
    {
     "name": "stdout",
     "output_type": "stream",
     "text": [
      "Collecting progressbar\n",
      "  Downloading progressbar-2.5.tar.gz (10 kB)\n",
      "Building wheels for collected packages: progressbar\n",
      "  Building wheel for progressbar (setup.py): started\n",
      "  Building wheel for progressbar (setup.py): finished with status 'done'\n",
      "  Created wheel for progressbar: filename=progressbar-2.5-py3-none-any.whl size=12075 sha256=cf6514b3af9d8bf260d8657a602c0a319ec50026e472ff914cd1784f92e60a19\n",
      "  Stored in directory: c:\\users\\j\\appdata\\local\\pip\\cache\\wheels\\f0\\fd\\1f\\3e35ed57e94cd8ced38dd46771f1f0f94f65fec548659ed855\n",
      "Successfully built progressbar\n",
      "Installing collected packages: progressbar\n",
      "Successfully installed progressbar-2.5\n"
     ]
    }
   ],
   "source": [
    "!pip install progressbar"
   ]
  },
  {
   "cell_type": "code",
   "execution_count": 1,
   "id": "8fcc04f7-b1f9-4ad3-b3a9-53905eaa9a82",
   "metadata": {},
   "outputs": [],
   "source": [
    "import sys, os\n",
    "import requests\n",
    "import selenium\n",
    "from selenium import webdriver\n",
    "import requests\n",
    "from pandas import DataFrame\n",
    "from urllib.request import urlopen\n",
    "from bs4 import BeautifulSoup\n",
    "\n",
    "import re\n",
    "from datetime import datetime\n",
    "import pickle, progressbar, json, glob, time\n",
    "from tqdm import tqdm\n",
    "\n",
    "###### 날짜 저장 ##########\n",
    "date = str(datetime.now())\n",
    "date = date[:date.rfind(':')].replace(' ', '_')\n",
    "date = date.replace(':','시') + '분'\n",
    "\n",
    "sleep_sec = 0.5"
   ]
  },
  {
   "cell_type": "code",
   "execution_count": 2,
   "id": "35441315-bf07-47e6-baa4-28416bae67e7",
   "metadata": {
    "collapsed": true,
    "jupyter": {
     "outputs_hidden": true
    },
    "tags": []
   },
   "outputs": [
    {
     "ename": "ConnectionError",
     "evalue": "('Connection aborted.', RemoteDisconnected('Remote end closed connection without response'))",
     "output_type": "error",
     "traceback": [
      "\u001b[1;31m---------------------------------------------------------------------------\u001b[0m",
      "\u001b[1;31mRemoteDisconnected\u001b[0m                        Traceback (most recent call last)",
      "\u001b[1;32m~\\anaconda3\\envs\\multi\\lib\\site-packages\\urllib3\\connectionpool.py\u001b[0m in \u001b[0;36murlopen\u001b[1;34m(self, method, url, body, headers, retries, redirect, assert_same_host, timeout, pool_timeout, release_conn, chunked, body_pos, **response_kw)\u001b[0m\n\u001b[0;32m    705\u001b[0m                 \u001b[0mheaders\u001b[0m\u001b[1;33m=\u001b[0m\u001b[0mheaders\u001b[0m\u001b[1;33m,\u001b[0m\u001b[1;33m\u001b[0m\u001b[1;33m\u001b[0m\u001b[0m\n\u001b[1;32m--> 706\u001b[1;33m                 \u001b[0mchunked\u001b[0m\u001b[1;33m=\u001b[0m\u001b[0mchunked\u001b[0m\u001b[1;33m,\u001b[0m\u001b[1;33m\u001b[0m\u001b[1;33m\u001b[0m\u001b[0m\n\u001b[0m\u001b[0;32m    707\u001b[0m             )\n",
      "\u001b[1;32m~\\anaconda3\\envs\\multi\\lib\\site-packages\\urllib3\\connectionpool.py\u001b[0m in \u001b[0;36m_make_request\u001b[1;34m(self, conn, method, url, timeout, chunked, **httplib_request_kw)\u001b[0m\n\u001b[0;32m    444\u001b[0m                     \u001b[1;31m# Otherwise it looks like a bug in the code.\u001b[0m\u001b[1;33m\u001b[0m\u001b[1;33m\u001b[0m\u001b[1;33m\u001b[0m\u001b[0m\n\u001b[1;32m--> 445\u001b[1;33m                     \u001b[0msix\u001b[0m\u001b[1;33m.\u001b[0m\u001b[0mraise_from\u001b[0m\u001b[1;33m(\u001b[0m\u001b[0me\u001b[0m\u001b[1;33m,\u001b[0m \u001b[1;32mNone\u001b[0m\u001b[1;33m)\u001b[0m\u001b[1;33m\u001b[0m\u001b[1;33m\u001b[0m\u001b[0m\n\u001b[0m\u001b[0;32m    446\u001b[0m         \u001b[1;32mexcept\u001b[0m \u001b[1;33m(\u001b[0m\u001b[0mSocketTimeout\u001b[0m\u001b[1;33m,\u001b[0m \u001b[0mBaseSSLError\u001b[0m\u001b[1;33m,\u001b[0m \u001b[0mSocketError\u001b[0m\u001b[1;33m)\u001b[0m \u001b[1;32mas\u001b[0m \u001b[0me\u001b[0m\u001b[1;33m:\u001b[0m\u001b[1;33m\u001b[0m\u001b[1;33m\u001b[0m\u001b[0m\n",
      "\u001b[1;32m~\\anaconda3\\envs\\multi\\lib\\site-packages\\urllib3\\packages\\six.py\u001b[0m in \u001b[0;36mraise_from\u001b[1;34m(value, from_value)\u001b[0m\n",
      "\u001b[1;32m~\\anaconda3\\envs\\multi\\lib\\site-packages\\urllib3\\connectionpool.py\u001b[0m in \u001b[0;36m_make_request\u001b[1;34m(self, conn, method, url, timeout, chunked, **httplib_request_kw)\u001b[0m\n\u001b[0;32m    439\u001b[0m                 \u001b[1;32mtry\u001b[0m\u001b[1;33m:\u001b[0m\u001b[1;33m\u001b[0m\u001b[1;33m\u001b[0m\u001b[0m\n\u001b[1;32m--> 440\u001b[1;33m                     \u001b[0mhttplib_response\u001b[0m \u001b[1;33m=\u001b[0m \u001b[0mconn\u001b[0m\u001b[1;33m.\u001b[0m\u001b[0mgetresponse\u001b[0m\u001b[1;33m(\u001b[0m\u001b[1;33m)\u001b[0m\u001b[1;33m\u001b[0m\u001b[1;33m\u001b[0m\u001b[0m\n\u001b[0m\u001b[0;32m    441\u001b[0m                 \u001b[1;32mexcept\u001b[0m \u001b[0mBaseException\u001b[0m \u001b[1;32mas\u001b[0m \u001b[0me\u001b[0m\u001b[1;33m:\u001b[0m\u001b[1;33m\u001b[0m\u001b[1;33m\u001b[0m\u001b[0m\n",
      "\u001b[1;32m~\\anaconda3\\envs\\multi\\lib\\http\\client.py\u001b[0m in \u001b[0;36mgetresponse\u001b[1;34m(self)\u001b[0m\n\u001b[0;32m   1343\u001b[0m             \u001b[1;32mtry\u001b[0m\u001b[1;33m:\u001b[0m\u001b[1;33m\u001b[0m\u001b[1;33m\u001b[0m\u001b[0m\n\u001b[1;32m-> 1344\u001b[1;33m                 \u001b[0mresponse\u001b[0m\u001b[1;33m.\u001b[0m\u001b[0mbegin\u001b[0m\u001b[1;33m(\u001b[0m\u001b[1;33m)\u001b[0m\u001b[1;33m\u001b[0m\u001b[1;33m\u001b[0m\u001b[0m\n\u001b[0m\u001b[0;32m   1345\u001b[0m             \u001b[1;32mexcept\u001b[0m \u001b[0mConnectionError\u001b[0m\u001b[1;33m:\u001b[0m\u001b[1;33m\u001b[0m\u001b[1;33m\u001b[0m\u001b[0m\n",
      "\u001b[1;32m~\\anaconda3\\envs\\multi\\lib\\http\\client.py\u001b[0m in \u001b[0;36mbegin\u001b[1;34m(self)\u001b[0m\n\u001b[0;32m    305\u001b[0m         \u001b[1;32mwhile\u001b[0m \u001b[1;32mTrue\u001b[0m\u001b[1;33m:\u001b[0m\u001b[1;33m\u001b[0m\u001b[1;33m\u001b[0m\u001b[0m\n\u001b[1;32m--> 306\u001b[1;33m             \u001b[0mversion\u001b[0m\u001b[1;33m,\u001b[0m \u001b[0mstatus\u001b[0m\u001b[1;33m,\u001b[0m \u001b[0mreason\u001b[0m \u001b[1;33m=\u001b[0m \u001b[0mself\u001b[0m\u001b[1;33m.\u001b[0m\u001b[0m_read_status\u001b[0m\u001b[1;33m(\u001b[0m\u001b[1;33m)\u001b[0m\u001b[1;33m\u001b[0m\u001b[1;33m\u001b[0m\u001b[0m\n\u001b[0m\u001b[0;32m    307\u001b[0m             \u001b[1;32mif\u001b[0m \u001b[0mstatus\u001b[0m \u001b[1;33m!=\u001b[0m \u001b[0mCONTINUE\u001b[0m\u001b[1;33m:\u001b[0m\u001b[1;33m\u001b[0m\u001b[1;33m\u001b[0m\u001b[0m\n",
      "\u001b[1;32m~\\anaconda3\\envs\\multi\\lib\\http\\client.py\u001b[0m in \u001b[0;36m_read_status\u001b[1;34m(self)\u001b[0m\n\u001b[0;32m    274\u001b[0m             \u001b[1;31m# sending a valid response.\u001b[0m\u001b[1;33m\u001b[0m\u001b[1;33m\u001b[0m\u001b[1;33m\u001b[0m\u001b[0m\n\u001b[1;32m--> 275\u001b[1;33m             raise RemoteDisconnected(\"Remote end closed connection without\"\n\u001b[0m\u001b[0;32m    276\u001b[0m                                      \" response\")\n",
      "\u001b[1;31mRemoteDisconnected\u001b[0m: Remote end closed connection without response",
      "\nDuring handling of the above exception, another exception occurred:\n",
      "\u001b[1;31mProtocolError\u001b[0m                             Traceback (most recent call last)",
      "\u001b[1;32m~\\anaconda3\\envs\\multi\\lib\\site-packages\\requests\\adapters.py\u001b[0m in \u001b[0;36msend\u001b[1;34m(self, request, stream, timeout, verify, cert, proxies)\u001b[0m\n\u001b[0;32m    448\u001b[0m                     \u001b[0mretries\u001b[0m\u001b[1;33m=\u001b[0m\u001b[0mself\u001b[0m\u001b[1;33m.\u001b[0m\u001b[0mmax_retries\u001b[0m\u001b[1;33m,\u001b[0m\u001b[1;33m\u001b[0m\u001b[1;33m\u001b[0m\u001b[0m\n\u001b[1;32m--> 449\u001b[1;33m                     \u001b[0mtimeout\u001b[0m\u001b[1;33m=\u001b[0m\u001b[0mtimeout\u001b[0m\u001b[1;33m\u001b[0m\u001b[1;33m\u001b[0m\u001b[0m\n\u001b[0m\u001b[0;32m    450\u001b[0m                 )\n",
      "\u001b[1;32m~\\anaconda3\\envs\\multi\\lib\\site-packages\\urllib3\\connectionpool.py\u001b[0m in \u001b[0;36murlopen\u001b[1;34m(self, method, url, body, headers, retries, redirect, assert_same_host, timeout, pool_timeout, release_conn, chunked, body_pos, **response_kw)\u001b[0m\n\u001b[0;32m    755\u001b[0m             retries = retries.increment(\n\u001b[1;32m--> 756\u001b[1;33m                 \u001b[0mmethod\u001b[0m\u001b[1;33m,\u001b[0m \u001b[0murl\u001b[0m\u001b[1;33m,\u001b[0m \u001b[0merror\u001b[0m\u001b[1;33m=\u001b[0m\u001b[0me\u001b[0m\u001b[1;33m,\u001b[0m \u001b[0m_pool\u001b[0m\u001b[1;33m=\u001b[0m\u001b[0mself\u001b[0m\u001b[1;33m,\u001b[0m \u001b[0m_stacktrace\u001b[0m\u001b[1;33m=\u001b[0m\u001b[0msys\u001b[0m\u001b[1;33m.\u001b[0m\u001b[0mexc_info\u001b[0m\u001b[1;33m(\u001b[0m\u001b[1;33m)\u001b[0m\u001b[1;33m[\u001b[0m\u001b[1;36m2\u001b[0m\u001b[1;33m]\u001b[0m\u001b[1;33m\u001b[0m\u001b[1;33m\u001b[0m\u001b[0m\n\u001b[0m\u001b[0;32m    757\u001b[0m             )\n",
      "\u001b[1;32m~\\anaconda3\\envs\\multi\\lib\\site-packages\\urllib3\\util\\retry.py\u001b[0m in \u001b[0;36mincrement\u001b[1;34m(self, method, url, response, error, _pool, _stacktrace)\u001b[0m\n\u001b[0;32m    531\u001b[0m             \u001b[1;32mif\u001b[0m \u001b[0mread\u001b[0m \u001b[1;32mis\u001b[0m \u001b[1;32mFalse\u001b[0m \u001b[1;32mor\u001b[0m \u001b[1;32mnot\u001b[0m \u001b[0mself\u001b[0m\u001b[1;33m.\u001b[0m\u001b[0m_is_method_retryable\u001b[0m\u001b[1;33m(\u001b[0m\u001b[0mmethod\u001b[0m\u001b[1;33m)\u001b[0m\u001b[1;33m:\u001b[0m\u001b[1;33m\u001b[0m\u001b[1;33m\u001b[0m\u001b[0m\n\u001b[1;32m--> 532\u001b[1;33m                 \u001b[1;32mraise\u001b[0m \u001b[0msix\u001b[0m\u001b[1;33m.\u001b[0m\u001b[0mreraise\u001b[0m\u001b[1;33m(\u001b[0m\u001b[0mtype\u001b[0m\u001b[1;33m(\u001b[0m\u001b[0merror\u001b[0m\u001b[1;33m)\u001b[0m\u001b[1;33m,\u001b[0m \u001b[0merror\u001b[0m\u001b[1;33m,\u001b[0m \u001b[0m_stacktrace\u001b[0m\u001b[1;33m)\u001b[0m\u001b[1;33m\u001b[0m\u001b[1;33m\u001b[0m\u001b[0m\n\u001b[0m\u001b[0;32m    533\u001b[0m             \u001b[1;32melif\u001b[0m \u001b[0mread\u001b[0m \u001b[1;32mis\u001b[0m \u001b[1;32mnot\u001b[0m \u001b[1;32mNone\u001b[0m\u001b[1;33m:\u001b[0m\u001b[1;33m\u001b[0m\u001b[1;33m\u001b[0m\u001b[0m\n",
      "\u001b[1;32m~\\anaconda3\\envs\\multi\\lib\\site-packages\\urllib3\\packages\\six.py\u001b[0m in \u001b[0;36mreraise\u001b[1;34m(tp, value, tb)\u001b[0m\n\u001b[0;32m    768\u001b[0m             \u001b[1;32mif\u001b[0m \u001b[0mvalue\u001b[0m\u001b[1;33m.\u001b[0m\u001b[0m__traceback__\u001b[0m \u001b[1;32mis\u001b[0m \u001b[1;32mnot\u001b[0m \u001b[0mtb\u001b[0m\u001b[1;33m:\u001b[0m\u001b[1;33m\u001b[0m\u001b[1;33m\u001b[0m\u001b[0m\n\u001b[1;32m--> 769\u001b[1;33m                 \u001b[1;32mraise\u001b[0m \u001b[0mvalue\u001b[0m\u001b[1;33m.\u001b[0m\u001b[0mwith_traceback\u001b[0m\u001b[1;33m(\u001b[0m\u001b[0mtb\u001b[0m\u001b[1;33m)\u001b[0m\u001b[1;33m\u001b[0m\u001b[1;33m\u001b[0m\u001b[0m\n\u001b[0m\u001b[0;32m    770\u001b[0m             \u001b[1;32mraise\u001b[0m \u001b[0mvalue\u001b[0m\u001b[1;33m\u001b[0m\u001b[1;33m\u001b[0m\u001b[0m\n",
      "\u001b[1;32m~\\anaconda3\\envs\\multi\\lib\\site-packages\\urllib3\\connectionpool.py\u001b[0m in \u001b[0;36murlopen\u001b[1;34m(self, method, url, body, headers, retries, redirect, assert_same_host, timeout, pool_timeout, release_conn, chunked, body_pos, **response_kw)\u001b[0m\n\u001b[0;32m    705\u001b[0m                 \u001b[0mheaders\u001b[0m\u001b[1;33m=\u001b[0m\u001b[0mheaders\u001b[0m\u001b[1;33m,\u001b[0m\u001b[1;33m\u001b[0m\u001b[1;33m\u001b[0m\u001b[0m\n\u001b[1;32m--> 706\u001b[1;33m                 \u001b[0mchunked\u001b[0m\u001b[1;33m=\u001b[0m\u001b[0mchunked\u001b[0m\u001b[1;33m,\u001b[0m\u001b[1;33m\u001b[0m\u001b[1;33m\u001b[0m\u001b[0m\n\u001b[0m\u001b[0;32m    707\u001b[0m             )\n",
      "\u001b[1;32m~\\anaconda3\\envs\\multi\\lib\\site-packages\\urllib3\\connectionpool.py\u001b[0m in \u001b[0;36m_make_request\u001b[1;34m(self, conn, method, url, timeout, chunked, **httplib_request_kw)\u001b[0m\n\u001b[0;32m    444\u001b[0m                     \u001b[1;31m# Otherwise it looks like a bug in the code.\u001b[0m\u001b[1;33m\u001b[0m\u001b[1;33m\u001b[0m\u001b[1;33m\u001b[0m\u001b[0m\n\u001b[1;32m--> 445\u001b[1;33m                     \u001b[0msix\u001b[0m\u001b[1;33m.\u001b[0m\u001b[0mraise_from\u001b[0m\u001b[1;33m(\u001b[0m\u001b[0me\u001b[0m\u001b[1;33m,\u001b[0m \u001b[1;32mNone\u001b[0m\u001b[1;33m)\u001b[0m\u001b[1;33m\u001b[0m\u001b[1;33m\u001b[0m\u001b[0m\n\u001b[0m\u001b[0;32m    446\u001b[0m         \u001b[1;32mexcept\u001b[0m \u001b[1;33m(\u001b[0m\u001b[0mSocketTimeout\u001b[0m\u001b[1;33m,\u001b[0m \u001b[0mBaseSSLError\u001b[0m\u001b[1;33m,\u001b[0m \u001b[0mSocketError\u001b[0m\u001b[1;33m)\u001b[0m \u001b[1;32mas\u001b[0m \u001b[0me\u001b[0m\u001b[1;33m:\u001b[0m\u001b[1;33m\u001b[0m\u001b[1;33m\u001b[0m\u001b[0m\n",
      "\u001b[1;32m~\\anaconda3\\envs\\multi\\lib\\site-packages\\urllib3\\packages\\six.py\u001b[0m in \u001b[0;36mraise_from\u001b[1;34m(value, from_value)\u001b[0m\n",
      "\u001b[1;32m~\\anaconda3\\envs\\multi\\lib\\site-packages\\urllib3\\connectionpool.py\u001b[0m in \u001b[0;36m_make_request\u001b[1;34m(self, conn, method, url, timeout, chunked, **httplib_request_kw)\u001b[0m\n\u001b[0;32m    439\u001b[0m                 \u001b[1;32mtry\u001b[0m\u001b[1;33m:\u001b[0m\u001b[1;33m\u001b[0m\u001b[1;33m\u001b[0m\u001b[0m\n\u001b[1;32m--> 440\u001b[1;33m                     \u001b[0mhttplib_response\u001b[0m \u001b[1;33m=\u001b[0m \u001b[0mconn\u001b[0m\u001b[1;33m.\u001b[0m\u001b[0mgetresponse\u001b[0m\u001b[1;33m(\u001b[0m\u001b[1;33m)\u001b[0m\u001b[1;33m\u001b[0m\u001b[1;33m\u001b[0m\u001b[0m\n\u001b[0m\u001b[0;32m    441\u001b[0m                 \u001b[1;32mexcept\u001b[0m \u001b[0mBaseException\u001b[0m \u001b[1;32mas\u001b[0m \u001b[0me\u001b[0m\u001b[1;33m:\u001b[0m\u001b[1;33m\u001b[0m\u001b[1;33m\u001b[0m\u001b[0m\n",
      "\u001b[1;32m~\\anaconda3\\envs\\multi\\lib\\http\\client.py\u001b[0m in \u001b[0;36mgetresponse\u001b[1;34m(self)\u001b[0m\n\u001b[0;32m   1343\u001b[0m             \u001b[1;32mtry\u001b[0m\u001b[1;33m:\u001b[0m\u001b[1;33m\u001b[0m\u001b[1;33m\u001b[0m\u001b[0m\n\u001b[1;32m-> 1344\u001b[1;33m                 \u001b[0mresponse\u001b[0m\u001b[1;33m.\u001b[0m\u001b[0mbegin\u001b[0m\u001b[1;33m(\u001b[0m\u001b[1;33m)\u001b[0m\u001b[1;33m\u001b[0m\u001b[1;33m\u001b[0m\u001b[0m\n\u001b[0m\u001b[0;32m   1345\u001b[0m             \u001b[1;32mexcept\u001b[0m \u001b[0mConnectionError\u001b[0m\u001b[1;33m:\u001b[0m\u001b[1;33m\u001b[0m\u001b[1;33m\u001b[0m\u001b[0m\n",
      "\u001b[1;32m~\\anaconda3\\envs\\multi\\lib\\http\\client.py\u001b[0m in \u001b[0;36mbegin\u001b[1;34m(self)\u001b[0m\n\u001b[0;32m    305\u001b[0m         \u001b[1;32mwhile\u001b[0m \u001b[1;32mTrue\u001b[0m\u001b[1;33m:\u001b[0m\u001b[1;33m\u001b[0m\u001b[1;33m\u001b[0m\u001b[0m\n\u001b[1;32m--> 306\u001b[1;33m             \u001b[0mversion\u001b[0m\u001b[1;33m,\u001b[0m \u001b[0mstatus\u001b[0m\u001b[1;33m,\u001b[0m \u001b[0mreason\u001b[0m \u001b[1;33m=\u001b[0m \u001b[0mself\u001b[0m\u001b[1;33m.\u001b[0m\u001b[0m_read_status\u001b[0m\u001b[1;33m(\u001b[0m\u001b[1;33m)\u001b[0m\u001b[1;33m\u001b[0m\u001b[1;33m\u001b[0m\u001b[0m\n\u001b[0m\u001b[0;32m    307\u001b[0m             \u001b[1;32mif\u001b[0m \u001b[0mstatus\u001b[0m \u001b[1;33m!=\u001b[0m \u001b[0mCONTINUE\u001b[0m\u001b[1;33m:\u001b[0m\u001b[1;33m\u001b[0m\u001b[1;33m\u001b[0m\u001b[0m\n",
      "\u001b[1;32m~\\anaconda3\\envs\\multi\\lib\\http\\client.py\u001b[0m in \u001b[0;36m_read_status\u001b[1;34m(self)\u001b[0m\n\u001b[0;32m    274\u001b[0m             \u001b[1;31m# sending a valid response.\u001b[0m\u001b[1;33m\u001b[0m\u001b[1;33m\u001b[0m\u001b[1;33m\u001b[0m\u001b[0m\n\u001b[1;32m--> 275\u001b[1;33m             raise RemoteDisconnected(\"Remote end closed connection without\"\n\u001b[0m\u001b[0;32m    276\u001b[0m                                      \" response\")\n",
      "\u001b[1;31mProtocolError\u001b[0m: ('Connection aborted.', RemoteDisconnected('Remote end closed connection without response'))",
      "\nDuring handling of the above exception, another exception occurred:\n",
      "\u001b[1;31mConnectionError\u001b[0m                           Traceback (most recent call last)",
      "\u001b[1;32m<ipython-input-2-5cb26155b501>\u001b[0m in \u001b[0;36m<module>\u001b[1;34m\u001b[0m\n\u001b[1;32m----> 1\u001b[1;33m \u001b[0mreq\u001b[0m \u001b[1;33m=\u001b[0m \u001b[0mrequests\u001b[0m\u001b[1;33m.\u001b[0m\u001b[0mget\u001b[0m\u001b[1;33m(\u001b[0m\u001b[1;34m'https://news.mt.co.kr/mtview.php?no=2021090110084869676'\u001b[0m\u001b[1;33m)\u001b[0m\u001b[1;33m\u001b[0m\u001b[1;33m\u001b[0m\u001b[0m\n\u001b[0m\u001b[0;32m      2\u001b[0m \u001b[0msoup\u001b[0m \u001b[1;33m=\u001b[0m \u001b[0mBeautifulSoup\u001b[0m\u001b[1;33m(\u001b[0m\u001b[0mreq\u001b[0m\u001b[1;33m.\u001b[0m\u001b[0mtext\u001b[0m\u001b[1;33m,\u001b[0m \u001b[1;34m'html.parser'\u001b[0m\u001b[1;33m)\u001b[0m\u001b[1;33m\u001b[0m\u001b[1;33m\u001b[0m\u001b[0m\n\u001b[0;32m      3\u001b[0m \u001b[0mtext2\u001b[0m \u001b[1;33m=\u001b[0m \u001b[0msoup\u001b[0m\u001b[1;33m.\u001b[0m\u001b[0mfind\u001b[0m\u001b[1;33m(\u001b[0m\u001b[1;34m'li'\u001b[0m\u001b[1;33m,\u001b[0m \u001b[1;33m{\u001b[0m\u001b[1;34m'class'\u001b[0m \u001b[1;33m:\u001b[0m \u001b[1;34m'date'\u001b[0m\u001b[1;33m}\u001b[0m\u001b[1;33m)\u001b[0m\u001b[1;33m.\u001b[0m\u001b[0mtext\u001b[0m\u001b[1;33m\u001b[0m\u001b[1;33m\u001b[0m\u001b[0m\n\u001b[0;32m      4\u001b[0m \u001b[1;33m\u001b[0m\u001b[0m\n\u001b[0;32m      5\u001b[0m \u001b[0mre\u001b[0m\u001b[1;33m.\u001b[0m\u001b[0msub\u001b[0m\u001b[1;33m(\u001b[0m\u001b[1;34mr'[^0-9]'\u001b[0m\u001b[1;33m,\u001b[0m \u001b[1;34m''\u001b[0m\u001b[1;33m,\u001b[0m \u001b[0mtext2\u001b[0m\u001b[1;33m)\u001b[0m\u001b[1;33m[\u001b[0m\u001b[1;33m:\u001b[0m\u001b[1;36m10\u001b[0m\u001b[1;33m]\u001b[0m\u001b[1;33m\u001b[0m\u001b[1;33m\u001b[0m\u001b[0m\n",
      "\u001b[1;32m~\\anaconda3\\envs\\multi\\lib\\site-packages\\requests\\api.py\u001b[0m in \u001b[0;36mget\u001b[1;34m(url, params, **kwargs)\u001b[0m\n\u001b[0;32m     74\u001b[0m \u001b[1;33m\u001b[0m\u001b[0m\n\u001b[0;32m     75\u001b[0m     \u001b[0mkwargs\u001b[0m\u001b[1;33m.\u001b[0m\u001b[0msetdefault\u001b[0m\u001b[1;33m(\u001b[0m\u001b[1;34m'allow_redirects'\u001b[0m\u001b[1;33m,\u001b[0m \u001b[1;32mTrue\u001b[0m\u001b[1;33m)\u001b[0m\u001b[1;33m\u001b[0m\u001b[1;33m\u001b[0m\u001b[0m\n\u001b[1;32m---> 76\u001b[1;33m     \u001b[1;32mreturn\u001b[0m \u001b[0mrequest\u001b[0m\u001b[1;33m(\u001b[0m\u001b[1;34m'get'\u001b[0m\u001b[1;33m,\u001b[0m \u001b[0murl\u001b[0m\u001b[1;33m,\u001b[0m \u001b[0mparams\u001b[0m\u001b[1;33m=\u001b[0m\u001b[0mparams\u001b[0m\u001b[1;33m,\u001b[0m \u001b[1;33m**\u001b[0m\u001b[0mkwargs\u001b[0m\u001b[1;33m)\u001b[0m\u001b[1;33m\u001b[0m\u001b[1;33m\u001b[0m\u001b[0m\n\u001b[0m\u001b[0;32m     77\u001b[0m \u001b[1;33m\u001b[0m\u001b[0m\n\u001b[0;32m     78\u001b[0m \u001b[1;33m\u001b[0m\u001b[0m\n",
      "\u001b[1;32m~\\anaconda3\\envs\\multi\\lib\\site-packages\\requests\\api.py\u001b[0m in \u001b[0;36mrequest\u001b[1;34m(method, url, **kwargs)\u001b[0m\n\u001b[0;32m     59\u001b[0m     \u001b[1;31m# cases, and look like a memory leak in others.\u001b[0m\u001b[1;33m\u001b[0m\u001b[1;33m\u001b[0m\u001b[1;33m\u001b[0m\u001b[0m\n\u001b[0;32m     60\u001b[0m     \u001b[1;32mwith\u001b[0m \u001b[0msessions\u001b[0m\u001b[1;33m.\u001b[0m\u001b[0mSession\u001b[0m\u001b[1;33m(\u001b[0m\u001b[1;33m)\u001b[0m \u001b[1;32mas\u001b[0m \u001b[0msession\u001b[0m\u001b[1;33m:\u001b[0m\u001b[1;33m\u001b[0m\u001b[1;33m\u001b[0m\u001b[0m\n\u001b[1;32m---> 61\u001b[1;33m         \u001b[1;32mreturn\u001b[0m \u001b[0msession\u001b[0m\u001b[1;33m.\u001b[0m\u001b[0mrequest\u001b[0m\u001b[1;33m(\u001b[0m\u001b[0mmethod\u001b[0m\u001b[1;33m=\u001b[0m\u001b[0mmethod\u001b[0m\u001b[1;33m,\u001b[0m \u001b[0murl\u001b[0m\u001b[1;33m=\u001b[0m\u001b[0murl\u001b[0m\u001b[1;33m,\u001b[0m \u001b[1;33m**\u001b[0m\u001b[0mkwargs\u001b[0m\u001b[1;33m)\u001b[0m\u001b[1;33m\u001b[0m\u001b[1;33m\u001b[0m\u001b[0m\n\u001b[0m\u001b[0;32m     62\u001b[0m \u001b[1;33m\u001b[0m\u001b[0m\n\u001b[0;32m     63\u001b[0m \u001b[1;33m\u001b[0m\u001b[0m\n",
      "\u001b[1;32m~\\anaconda3\\envs\\multi\\lib\\site-packages\\requests\\sessions.py\u001b[0m in \u001b[0;36mrequest\u001b[1;34m(self, method, url, params, data, headers, cookies, files, auth, timeout, allow_redirects, proxies, hooks, stream, verify, cert, json)\u001b[0m\n\u001b[0;32m    540\u001b[0m         }\n\u001b[0;32m    541\u001b[0m         \u001b[0msend_kwargs\u001b[0m\u001b[1;33m.\u001b[0m\u001b[0mupdate\u001b[0m\u001b[1;33m(\u001b[0m\u001b[0msettings\u001b[0m\u001b[1;33m)\u001b[0m\u001b[1;33m\u001b[0m\u001b[1;33m\u001b[0m\u001b[0m\n\u001b[1;32m--> 542\u001b[1;33m         \u001b[0mresp\u001b[0m \u001b[1;33m=\u001b[0m \u001b[0mself\u001b[0m\u001b[1;33m.\u001b[0m\u001b[0msend\u001b[0m\u001b[1;33m(\u001b[0m\u001b[0mprep\u001b[0m\u001b[1;33m,\u001b[0m \u001b[1;33m**\u001b[0m\u001b[0msend_kwargs\u001b[0m\u001b[1;33m)\u001b[0m\u001b[1;33m\u001b[0m\u001b[1;33m\u001b[0m\u001b[0m\n\u001b[0m\u001b[0;32m    543\u001b[0m \u001b[1;33m\u001b[0m\u001b[0m\n\u001b[0;32m    544\u001b[0m         \u001b[1;32mreturn\u001b[0m \u001b[0mresp\u001b[0m\u001b[1;33m\u001b[0m\u001b[1;33m\u001b[0m\u001b[0m\n",
      "\u001b[1;32m~\\anaconda3\\envs\\multi\\lib\\site-packages\\requests\\sessions.py\u001b[0m in \u001b[0;36msend\u001b[1;34m(self, request, **kwargs)\u001b[0m\n\u001b[0;32m    653\u001b[0m \u001b[1;33m\u001b[0m\u001b[0m\n\u001b[0;32m    654\u001b[0m         \u001b[1;31m# Send the request\u001b[0m\u001b[1;33m\u001b[0m\u001b[1;33m\u001b[0m\u001b[1;33m\u001b[0m\u001b[0m\n\u001b[1;32m--> 655\u001b[1;33m         \u001b[0mr\u001b[0m \u001b[1;33m=\u001b[0m \u001b[0madapter\u001b[0m\u001b[1;33m.\u001b[0m\u001b[0msend\u001b[0m\u001b[1;33m(\u001b[0m\u001b[0mrequest\u001b[0m\u001b[1;33m,\u001b[0m \u001b[1;33m**\u001b[0m\u001b[0mkwargs\u001b[0m\u001b[1;33m)\u001b[0m\u001b[1;33m\u001b[0m\u001b[1;33m\u001b[0m\u001b[0m\n\u001b[0m\u001b[0;32m    656\u001b[0m \u001b[1;33m\u001b[0m\u001b[0m\n\u001b[0;32m    657\u001b[0m         \u001b[1;31m# Total elapsed time of the request (approximately)\u001b[0m\u001b[1;33m\u001b[0m\u001b[1;33m\u001b[0m\u001b[1;33m\u001b[0m\u001b[0m\n",
      "\u001b[1;32m~\\anaconda3\\envs\\multi\\lib\\site-packages\\requests\\adapters.py\u001b[0m in \u001b[0;36msend\u001b[1;34m(self, request, stream, timeout, verify, cert, proxies)\u001b[0m\n\u001b[0;32m    496\u001b[0m \u001b[1;33m\u001b[0m\u001b[0m\n\u001b[0;32m    497\u001b[0m         \u001b[1;32mexcept\u001b[0m \u001b[1;33m(\u001b[0m\u001b[0mProtocolError\u001b[0m\u001b[1;33m,\u001b[0m \u001b[0msocket\u001b[0m\u001b[1;33m.\u001b[0m\u001b[0merror\u001b[0m\u001b[1;33m)\u001b[0m \u001b[1;32mas\u001b[0m \u001b[0merr\u001b[0m\u001b[1;33m:\u001b[0m\u001b[1;33m\u001b[0m\u001b[1;33m\u001b[0m\u001b[0m\n\u001b[1;32m--> 498\u001b[1;33m             \u001b[1;32mraise\u001b[0m \u001b[0mConnectionError\u001b[0m\u001b[1;33m(\u001b[0m\u001b[0merr\u001b[0m\u001b[1;33m,\u001b[0m \u001b[0mrequest\u001b[0m\u001b[1;33m=\u001b[0m\u001b[0mrequest\u001b[0m\u001b[1;33m)\u001b[0m\u001b[1;33m\u001b[0m\u001b[1;33m\u001b[0m\u001b[0m\n\u001b[0m\u001b[0;32m    499\u001b[0m \u001b[1;33m\u001b[0m\u001b[0m\n\u001b[0;32m    500\u001b[0m         \u001b[1;32mexcept\u001b[0m \u001b[0mMaxRetryError\u001b[0m \u001b[1;32mas\u001b[0m \u001b[0me\u001b[0m\u001b[1;33m:\u001b[0m\u001b[1;33m\u001b[0m\u001b[1;33m\u001b[0m\u001b[0m\n",
      "\u001b[1;31mConnectionError\u001b[0m: ('Connection aborted.', RemoteDisconnected('Remote end closed connection without response'))"
     ]
    }
   ],
   "source": [
    "req = requests.get('https://news.mt.co.kr/mtview.php?no=2021090110084869676')\n",
    "soup = BeautifulSoup(req.text, 'html.parser')\n",
    "text2 = soup.find('li', {'class' : 'date'}).text\n",
    "\n",
    "re.sub(r'[^0-9]', '', text2)[:10]"
   ]
  },
  {
   "cell_type": "code",
   "execution_count": null,
   "id": "3acc3058-1a55-4a56-a77c-158db4eabcdd",
   "metadata": {},
   "outputs": [],
   "source": [
    "res = [0 for i in range(2)]\n",
    "res[0] = re.sub(r'[^0-9]', '', text2)[:10]"
   ]
  },
  {
   "cell_type": "code",
   "execution_count": null,
   "id": "f9af907a-abcf-43da-bcd2-4303441268b2",
   "metadata": {},
   "outputs": [],
   "source": [
    "res[0]"
   ]
  },
  {
   "cell_type": "code",
   "execution_count": 3,
   "id": "9d8889c9-7a90-4037-bddb-67e8a47ac7b4",
   "metadata": {},
   "outputs": [],
   "source": [
    "def cleanhtml(raw_html):\n",
    "  cleanr = re.compile('<.*?>|&([a-z0-9]+|#[0-9]{1,6}|#x[0-9a-f]{1,6});')\n",
    "  cleantext = re.sub(cleanr, '', raw_html)\n",
    "  return cleantext"
   ]
  },
  {
   "cell_type": "code",
   "execution_count": 4,
   "id": "05ea1001-86d0-4d96-a7d9-88f132998698",
   "metadata": {
    "collapsed": true,
    "jupyter": {
     "outputs_hidden": true
    },
    "tags": []
   },
   "outputs": [
    {
     "data": {
      "text/plain": [
       "'샤오미 최고라던 中 소비자들, 삼성 플립3 보더니 \\'반전\\' - 머니투데이        {            \"@context\": \"http://schema.org\",            \"@type\": \"NewsArticle\",            \"@id\": \"https://news.mt.co.kr/mtview.php?no=2021083114085488949\",            \"mainEntityOfPage\":{                \"@type\":\"WebPage\",                \"@id\":\"https://news.mt.co.kr/mtview.php?no=2021083114085488949\"            },            \"headline\": \"샤오미 최고라던 中 소비자들, 삼성 플립3 보더니 반전 - 머니투데이\",            \"image\": {                \"@type\": \"ImageObject\",                \"@id\": \"https://menu.mt.co.kr/new_navi/mtlogo223x223.gif\",                \"url\": \"https://menu.mt.co.kr/new_navi/mtlogo223x223.gif\",                \"height\": 223,                \"width\": 223            },            \"datePublished\": \"2021-09-01T05:30:00+09:00\",            \"dateModified\": \"2021-09-01T05:30:00+09:00\",            \"author\": {                \"@type\": \"Person\",                \"name\": \"이진욱\"        },        \"publisher\": {            \"@type\": \"Organization\",            \"@id\": \"https://www.mt.co.kr/\",            \"name\": \"머니투데이\",            \"logo\": {                \"@type\": \"ImageObject\",                \"url\": \"https://menu.mt.co.kr/common/icon/icon_mt_ea.jpg\",                \"width\": 200            },            \"sameAs\":[\"https://www.facebook.com/mt.co.kr\",\"https://twitter.com/moneytodaynews\"]            },            \"description\": \"폴드3, 플립3 中 흥행 대박 조짐…국내외 흥행으로 폴더블 생산능력 확대폴더블폰 갤럭시Z폴드3(폴드3)·갤럭시Z플립3(플립3)의 흥행 열풍이 삼성전자 스마트폰의 quo...\"        }                    $(document).ready(function () {                                                var subjectTop = $(\\'.view .view_top .subject\\').offset().top + $(\\'.view .view_top .subject\\').outerHeight();                //스크롤시 프로그래시브바 이벤트                $(window).scroll(function () {                    // 추가 190411 성수 //                    var docHeight = $(document).height(),                        windowHeight = $(window).height(),                        scrollPercent;                    // //추가 190411 성수 //                    scrollPercent = $(window).scrollTop() / (docHeight - windowHeight) * 100;                    $(\\'.progressbar\\').width(scrollPercent + \\'%\\');                });                //스크롤시 고정헤더 이벤트                $(window).scroll(function () {                    if (subjectTop < $(window).scrollTop()) {                        $(\\'body\\').addClass(\\'fix_header\\');                    } else {                        $(\\'body\\').removeClass(\\'fix_header\\');                    }                    $(\\'#mt_at_fixheader .gnbbox .amvbox\\').hide();                });                                /*엠티리포트&평창 랜덤*/                var cookie = $.cookie(\\'rdmView\\');                var rdmView = $(\\'.rdm_view\\');                var rdmView2 = $(\\'.rdm_view.spc_menu\\');                if (cookie == \\'value\\') {                    //쿠키값이 존재할때                    $(rdmView).show().css(\\'visibility\\', \\'hidden\\');                    $(rdmView2).hide();                    $(rdmView).css(\\'visibility\\', \\'visible\\').css(\\'position\\', \\'static\\');                    $.cookie(\\'rdmView\\', null);                } else {                    //쿠키값이 없을때                    $(rdmView).hide();                    $(rdmView2).show().css(\\'visibility\\', \\'visible\\').css(\\'position\\', \\'static\\');                    $.cookie(\\'rdmView\\', \\'value\\'); //쿠키생성                }                // 익스플로러 버전이 호환성보기로 나오는 현상 막기                if ($.browser.msie) {                    if ($.browser.version = 9) { // IE 9.x                        $(\\'meta[http-equiv=\"X-UA-Compatible\"]\\').attr(\\'content\\', \\'IE=9\\');                    } else if ($.browser.version = 8) { // IE 8.x                        $(\\'meta[http-equiv=\"X-UA-Compatible\"]\\').attr(\\'content\\', \\'IE=8\\');                    } else {// 머투 기본이 IE8 이상이므로(IE7 이하는 없다는 가정하에) 이외는 IE10 이상으로 간주합니다.                        $(\\'meta[http-equiv=\"X-UA-Compatible\"]\\').attr(\\'content\\', \\'IE=Edge\\');                    }                }                // 상단 3depth 영역 실시간뉴스, 다음 뉴스로 변경                changeTopFlashnews = function () {                    if ($(\\'#topMenuFlashnewsArea  ul li\\').length > 0) {                        if ($(\\'#topMenuFlashnewsArea ul li:visible\\').next().attr(\\'id\\')) {                            var nextShowId = $(\\'#topMenuFlashnewsArea ul li:visible\\').next().attr(\\'id\\');                        } else {                            var nextShowId = \\'topFlashnewsLi0\\';                        }                        $(\\'#topMenuFlashnewsArea ul li\\').hide();                        $(\\'#\\' + nextShowId).show();                    }                }                // 상단 3depth영역 실시간속보 3초에 한번씩 롤링(실시간 속보 데이터가 있을 때만 실행)                initTopFlashnews = function () {                    if ($(\\'#topMenuFlashnewsArea ul li\\').length > 0) {                        changeFlash = setInterval(changeTopFlashnews, 3000);                    }                }                initTopFlashnews(); // 실시간 속보 초기화                // lazy img 클래스 공통사용                $(\".lazyimg\").lazyload();                // mt_idx_spot 부제높이에 따른 클래스 // 161227 추가                var subject = $(\\'#mt2 .mt_idx_spot .cont .con_txt h2.m_subject\\');                if (subject.height() <= 26) {                    $(subject).addClass(\\'tit1\\');                } else {                    $(subject).addClass(\\'tit2\\');                }                setTimeout(\"checkAds();\", 1000);                // 메뉴 이벤트                // 2-3depth 메뉴영역 보임/안보임 초기화                function initTabMenu() {                    var menuAreaId = \\'menu_area_1\\';                    var submenuAreaId = \\'submenu_1_8\\';                    // 해당하는 2 depth 메뉴영역 보이게 함                    $(\\'dd[id^=\"menu_area_\"]\\').hide();                    if (menuAreaId != \\'\\') {                        $(\\'#\\' + menuAreaId).show();                    }                    // 3 depth 서브메뉴가 있으면 보이게 함                    if (submenuAreaId != \\'\\') {                        if ($(\\'#\\' + submenuAreaId).attr(\\'id\\') != \\'undefined\\') {                            $(\\'#\\' + submenuAreaId).show();                        }                    }                }                initTabMenu(); // 메뉴영역 초기화                // 맨 처음 로딩 후, 노출되고 있는 3depth 메뉴 아이디(initTabMenu() 함수 다음에 불러야 함)                var firstViewTabmenu = $(\\'div.gnbbox li[id^=\"tabmenu_\"] a.on\\').parent(\\'li\\').attr(\\'id\\');                var firstViewSubmenu = $(\\'div.gnbbox ul.depth3:visible\\').attr(\\'id\\');                // 마우스에 따른 상단메뉴 영역 변경                $(\\'div.gnbbox li[id^=\"tabmenu_\"]\\').on(\\'mouseover\\', function () {                    var currentTabMenuId = $(this).attr(\\'id\\');                    var thisSubMenuId = currentTabMenuId.replace(\\'tabmenu_\\', \\'submenu_\\');                    if ($(\\'#\\' + thisSubMenuId).length > 0) {                        $(\\'div.gnbbox ul.depth3\\').hide();                        // 메인페이지도 실시간 속보 보여지도록 바뀜                        $(\\'#topMenuFlashnewsArea\\').hide();                        $(\\'#topNoticeArea\\').hide();                        $(\\'#\\' + thisSubMenuId).show();                    } else {                        $(\\'div.gnbbox ul.depth3\\').hide();                        $(\\'#topMenuFlashnewsArea\\').show();                    }                    // 탭메뉴 버튼 on class 변경                    $(\\'div.gnbbox li[id^=\"tabmenu_\"] a.tabtitle\\').removeClass(\\'on\\');                    $(\\'#\\' + currentTabMenuId + \\' a.tabtitle\\').addClass(\\'on\\');                }).on(\\'mouseleave\\', function () {                    if (firstViewSubmenu) {                        $(\\'div.gnbbox ul.depth3\\').hide();                        $(\\'#topMenuFlashnewsArea\\').hide();                        $(\\'#\\' + firstViewSubmenu).show();                    } else {                        $(\\'div.gnbbox ul.depth3\\').hide();                        // 메인페이지도 실시간 속보 보여지도록 바뀜                        $(\\'#topMenuFlashnewsArea\\').show();                    }                    // 탭메뉴 버튼 on class 변경                    $(\\'div.gnbbox li[id^=\"tabmenu_\"] a.tabtitle\\').removeClass(\\'on\\');                    $(\\'#\\' + firstViewTabmenu + \\' a.tabtitle\\').addClass(\\'on\\');                });                $(\\'.gnb\\').children().hover(function () {                    $(this).children(\\'.sec\\').addClass(\\'on\\');                    $(this).find(\\'.snb_group\\').show();                }, function () {                    $(this).children(\\'.sec\\').removeClass(\\'on\\');                    $(this).find(\\'.snb_group\\').hide();                    $(\\'#aTagClass_news\\').addClass(\\'on\\');                });                $(\\'.snb_group\\').children().hover(function () {                    $(this).find(\\'.depth3\\').show().siblings(\\'.tabtitle.child\\').addClass(\\'on\\');                }, function () {                    $(this).find(\\'.depth3\\').hide().siblings(\\'.tabtitle.child\\').removeClass(\\'on\\');                });            });            //end document ready            $(window).resize(function () {                            });            //end resize            //start function            // 함수 : 검색            function HeaderSearchOpen() {                $(\\'#mt_header .schopen\\').hide();                $(\\'#mt_header .search1\\').css(\\'width\\', \\'180\\');                $(\\'#mt_header .search1 fieldset\\').animate({width: \\'show\\'}, 100);            }            // 함수 : 검색            function HeaderSearchClose() {                $(\\'#mt_header .schopen\\').show();                $(\\'#mt_header .search1\\').css(\\'width\\', \\'auto\\');                $(\\'#mt_header .search1 fieldset\\').hide();            }            // 속보창 팝업            function popupFlashnews() {                window.open(\"https://news.mt.co.kr/newsflash/newsflash.html\", \"flashnews\", \\'width=1103,height=745,top=0,left=0,resizable=1,scrollbars=no,toolbar=yes\\');            }            function popupFlashnewsAll() {                window.open(\"https://news.mt.co.kr/newsflash/newsflash.html?sec=all&listType=left\", \"flashnews\", \\'width=1103,height=745,top=0,left=0,resizable=1,scrollbars=no,toolbar=yes\\');            }            //속보창 2            function popupFlashnews2(no) {                window.open(\"https://news.mt.co.kr/newsflash/newsflash.html?no=\" + no, \"flashnews\", \\'width=1103,height=745,top=0,left=0,resizable=1,scrollbars=no,toolbar=yes\\');            }            //속보창 2            function popupFlashnewsNo(flashId, flashSeq) {                window.open(\"https://news.mt.co.kr/newsflash/newsflash.html?sec=all&flashId=\" + flashId + \"&flashSeq=\" + flashSeq, \"flashnews\", \\'width=1103,height=745,top=0,left=0,resizable=1,scrollbars=no,toolbar=yes\\');            }            // 쿠키 생성            function setCookie(cName, cValue, cDay) {                var expire = new Date();                expire.setDate(expire.getDate() + cDay);                cookies = cName + \\'=\\' + (cValue) + \\'; path=/ ; domain=\\' + \\'.mt.co.kr\\'; // 한글 깨짐을 막기위해 escape(cValue)를 합니다.                if (typeof cDay != \\'undefined\\') cookies += \\';expires=\\' + expire.toGMTString() + \\';\\';                document.cookie = cookies;            }            // 쿠키 가져오기            function getCookie(cName) {                cName = cName + \\'=\\';                var cookieData = document.cookie;                var start = cookieData.indexOf(cName);                var cValue = \\'\\';                if (start != -1) {                    start += cName.length;                    var end = cookieData.indexOf(\\';\\', start);                    if (end == -1) end = cookieData.length;                    cValue = cookieData.substring(start, end);                }                return unescape(cValue);            }            function statusChangeCallback(response) {                if (response.status === \\'connected\\' && getCookie(\\'comefrom\\') == \\'\\') {                    get_fb_info();                } else {                    FB.login(function (response) {                        if (response.status === \\'connected\\') {                            get_fb_info();                        } else {                            alert(\\'not connect\\');                        }                    }, {scope: \\'publish_actions,public_profile,user_friends,email\\'});                }            }            // This function is called when someone finishes with the Login            // Button.  See the onlogin handler attached to it in the sample            // code below.            function checkLoginState() {                FB.getLoginStatus(function (response) {                    statusChangeCallback(response);                });            }            window.fbAsyncInit = function () {                FB.init({                    appId: \\'530090113839958\\',                    cookie: true,  // enable cookies to allow the server to access                                   // the session                    xfbml: true,  // parse social plugins on this page                    version: \\'v2.8\\' // use graph api version 2.8                });            };            function get_fb_info() {                FB.api(\\'/me\\', function (response) {                    setCookie(\"comefrom\", \"facebook\", \"0\");                    setCookie(\"facebook_token\", \"\", \"0\");                    setCookie(\"facebook_uid\", response.id, \"0\");                    setCookie(\"screen_name\", response.name, \"0\");                    setCookie(\"t_img\", \"https://graph.facebook.com/\" + response.id + \"/picture?type=small\", \"0\");                    FB.api(                        \"/me/friends?summary=total_count\",                        function (response) {                            if (response && !response.error) {                                setCookie(\"fb_friend_cnt\", response.summary.total_count, \"0\");                            }                        }                    );                    setTimeout(function () {                        window.location.reload();                    }, 1000);                });            }            function checkAds() {                if ($(\".adH\").height() == \"0\") {                    $(\".ad\").css(\\'display\\', \\'none\\');                    //MTCMU-4611                    $(\".issue_package\").css(\\'margin-top\\', \\'30px\\');                }            };            //네비게이션 : 전체 GNB메뉴 버튼            function openAmvbox(_this) {                $(_this).parent().children(\\'.gnbbox .amvbox\\').toggle();            }            //네비게이션 : 전체 GNB메뉴 버튼            function closeAmvbox(_this) {                $(_this).parent(\\'.gnbbox .amvbox\\').toggle();            }            // 즉시실행함수 :            // Load the SDK asynchronously            (function (d, s, id) {                var js, fjs = d.getElementsByTagName(s)[0];                if (d.getElementById(id)) return;                js = d.createElement(s);                js.id = id;                js.src = \"https://connect.facebook.net/en_US/sdk.js\";                fjs.parentNode.insertBefore(js, fjs);            }(document, \\'script\\', \\'facebook-jssdk\\'));            // 즉시실행함수 : google analytics script                        (function (i, s, o, g, r, a, m) {                i[\\'GoogleAnalyticsObject\\'] = r;                i[r] = i[r] || function () {                    (i[r].q = i[r].q || []).push(arguments)                }, i[r].l = 1 * new Date();                a = s.createElement(o),                    m = s.getElementsByTagName(o)[0];                a.async = 1;                a.src = g;                m.parentNode.insertBefore(a, m)            })(window, document, \\'script\\', \\'https://www.google-analytics.com/analytics.js\\', \\'ga\\');            ga(\\'create\\', \\'UA-22186599-19\\', \\'auto\\');            ga(\\'require\\', \\'displayfeatures\\');            ga(\\'require\\', \\'linkid\\', \\'linkid.js\\');            ga(\\'set\\', \\'dimension2\\', \\'2021083114085488949\\');            ga(\\'set\\', \\'dimension1\\', \\'이진욱|\\');            ga(\\'set\\', \\'dimension3\\', \\'2307\\');            ga(\\'set\\', \\'dimension4\\', \\'\\');            ga(\\'set\\', \\'dimension5\\', \\'T0203\\'); //대표분류코드            ga(\\'set\\', \\'dimension6\\', \\'20210901053000\\'); //기사표출일            ga(\\'set\\', \\'dimension7\\', \\'\\'); //기사키워드            ga(\\'send\\', \\'pageview\\');                        // 즉시실행함수 : chartbeat script 2019.01.07 ask -->            (function () {                /** CONFIGURATION START **/                var _sf_async_config = window._sf_async_config = (window._sf_async_config || {});                _sf_async_config.uid = 65854;                _sf_async_config.domain = \\'mt.co.kr\\';                _sf_async_config.flickerControl = false;                _sf_async_config.useCanonical = true;                //_sf_async_config.useCanonicalDomain = true;                _sf_async_config.sections = \\'IT과학\\'; // CHANGE THIS TO YOUR SECTION NAME(s)                _sf_async_config.authors = \\'이진욱\\'; // CHANGE THIS TO YOUR AUTHOR NAME(s)                _sf_async_config.type = \\'정보미디어과학부\\';                _sf_async_config.title = \"샤오미 최고라던 中 소비자들, 삼성 플립3 보더니 ＇반전＇ - 머니투데이\";                /** CONFIGURATION END **/                function loadChartbeat() {                    var e = document.createElement(\\'script\\');                    var n = document.getElementsByTagName(\\'script\\')[0];                    e.type = \\'text/javascript\\';                    e.async = true;                    e.src = \\'//static.chartbeat.com/js/chartbeat.js\\';                    ;                    n.parentNode.insertBefore(e, n);                }                loadChartbeat();            })();        wpts.init(46716);본문영역 바로가기로그인 전체뉴스경제정책증권정치부동산국제경제사회산업IT금융블록체인문화포토포토스페셜그래픽영상MT                                        영상놂                                        - norm머플러전체기사증권뉴스시세/공시코스피코스닥코넥스상승/하락상하한가시가총액거래량상위신규상장주요공시포인트전략펀드펀드IR국내펀드해외펀드유형종합종목대해부베스트리포트\\t\\t\\t\\t\\t\\t\\t투자영상\\t\\t\\t\\t\\t\\tMY스톡정치법률유니콘팩토리\\xa0최신기사칼럼데스크칼럼사내칼럼현장리포트사외칼럼SUCCESSSCIENCE컬쳐박스문화가                                        좋다책이                                        좋다이야기가                                        좋다자동차최신기사신차소식시승기카라이프연예연예스포츠이슈핫이슈전체핫이슈연중기획실시간급상승베스트클릭사람피플MT초대석인터뷰대표선배인사부고MT리포트뉴스경제정책증권정치부동산국제경제사회산업IT금융블록체인문화포토영상전체기사증권뉴스시세/공시포인트전략펀드종목대해부베스트리포트투자영상MY스톡정치 - the300법률 - the L유니콘팩토리최신기사칼럼데스크칼럼사내칼럼현장리포트사외칼럼SUCCESSSCIENCE컬쳐박스자동차최신기사신차소식시승기카라이프연예연예스포츠이슈핫이슈실시간급상승베스트클릭사람VIPVIP OnlyVIP StoryT.O.M투자디렉터런치리포트the LICT  TechCultureFULL TEXT초판/e-신문보기서비스 신청전체보기 닫기속보삼성전기, 장기 성장 궤도 진입…목표가 상향-IBK투자증권포스코, 中감산의지 약화우려 과도… 실적호조 지속-현대차證글로벌 게임사 대표 \"나는 한국인!\" 환호한 이유[IT썰][속보] HMM 노사, 밤샘 협상 끝 \\'극적 타결\\'이은하 \"친분도 없는 마야, 내게 돈봉투 건네…마음 정말 예뻐\"의회난입 사태에 美IT기업 또 소환…\"콘텐츠 책임 있나\"[IT썰]\\'차량 666대\\' 태운 천안 아파트 화재…\"누군가 스프링클러 껐다\"씨젠, 하반기 유럽 진단키트 수요 증가 기대-DS파업이냐, 극적 타결이냐…HMM 노사 밤샘협상에도 진통\\'한동훈 명예훼손\\' 유시민 오늘 2차 공판준비기일…본 재판은 언제                    $(\\'.nf_list1 .group\\').slick({                        vertical: true,                        arrows: false,                        dots: false,                        infinite: true,                        speed: 500,                        autoplay: true,                        autoplaySpeed: 2000                    });                삼성전기, 장기 성장 궤도 진입…목표가 상향-IBK투자증권포스코, 中감산의지 약화우려 과도… 실적호조 지속-현대차證글로벌 게임사 대표 \"나는 한국인!\" 환호한 이유[IT썰][속보] HMM 노사, 밤샘 협상 끝 \\'극적 타결\\'이은하 \"친분도 없는 마야, 내게 돈봉투 건네…마음 정말 예뻐\"의회난입 사태에 美IT기업 또 소환…\"콘텐츠 책임 있나\"[IT썰]\\'차량 666대\\' 태운 천안 아파트 화재…\"누군가 스프링클러 껐다\"씨젠, 하반기 유럽 진단키트 수요 증가 기대-DS파업이냐, 극적 타결이냐…HMM 노사 밤샘협상에도 진통\\'한동훈 명예훼손\\' 유시민 오늘 2차 공판준비기일…본 재판은 언제검색창 열기통합검색검색닫기전체뉴스경제정책증권정치부동산국제경제사회산업IT금융블록체인문화포토영상전체기사증권뉴스시세/공시포인트전략펀드종목대해부베스트리포트투자영상MY스톡정치 - the300법률 - the L유니콘팩토리최신기사칼럼데스크칼럼사내칼럼현장리포트사외칼럼SUCCESSSCIENCE컬쳐박스자동차최신기사신차소식시승기카라이프연예연예스포츠이슈핫이슈실시간급상승베스트클릭사람VIPVIP OnlyVIP StoryT.O.M투자디렉터런치리포트the LICT  TechCultureFULL TEXT초판/e-신문보기서비스 신청전체보기 닫기샤오미 최고라던 中 소비자들, 삼성 플립3 보더니 \\'반전\\'sns공유 더보기샤오미 최고라던 中 소비자들, 삼성 플립3 보더니 \\'반전\\'머니투데이이진욱 기자 기자 더보기sns공유 더보기VIEW  68,276  2021.09.01 05:30글자크기글자크기조절가나다라마가나다라마가나다라마가나다라마가나다라마의견 4폴드3, 플립3 中 흥행 대박 조짐…국내외 흥행으로 폴더블 생산능력 확대 12일 서울 서초구 삼성 딜라이트를 찾은 고객들이 새로운 폴더블 스마트폰 갤럭시Z폴드3와 갤럭시Z플립3를 살펴보고 있다. 삼성전자의 갤럭시Z 폴드3와 갤럭시Z플립3는 오는 17일부터 23일까지 국내 사전 판매를 진행하며, 27일 한국, 미국, 유럽을 시작으로 전세계에 순차적으로 출시 예정이다. /사진=이기범 기자 leekb@폴더블폰 갤럭시Z폴드3(폴드3)·갤럭시Z플립3(플립3)의 흥행 열풍이 삼성전자 스마트폰의 \\'무덤\\'으로 통하는 중국까지 이어질까. 국내에서 삼성 스마트폰 최고 사전판매량을 기록한 폴드3·플립3 2종이 내달 10일 중국에서 정식 출시를 앞두고 100만명에 육박하는 구매 대기자를 끌어모았다. 그동안 세계 최대 시장인 중국에서 고전하던 삼성전자가 이번 폴더블폰 출시를 발판 삼아 반등할 수 있을지 주목된다. ━폴더블폰 출시 전 80만명이 \\'찜\\'했다━31일 중국 전자상거래 업체 징둥닷컴에 따르면 삼성전자가 지난 11일 선보인 플립3의 사전 예약 대기자는 62만명에 달했다. 폴드3 구매 대기자는 8만2000명 정도. 알리바바가 운영하는 티몰에서는 29일 기준 플립3과 폴드3 구매 대기자가 각각 10만3000명, 6만5000명 이상으로 나타났다. 두 공식 계정에서만 약 80만명이 구매 의사를 표한 셈이다. 9월 2일부터 9일까지 중국 시장에서 공식 사전 예약 판매를 진행할 예정이라 예약자는 100만명을 넘어설 것으로 예상된다. 정식 판매는 같은달 10일부터다. \\r스마트폰 업계는 놀랍다는 반응이다. 최근 수년간 삼성전자의 스마트폰이 중국에서 출시전부터 이같은 관심을 받은 적이 없기 때문이다. 실제 중국에서 삼성 스마트폰의 존재감은 미미하다. 중국 시장조사업체 시노리서치에 따르면 삼성전자의 올해 상반기 중국 스마트폰 시장 점유율은 0.5%에 불과하다. 지난해 같은 기간 1.2%에서 더 떨어졌다. 중국 스마트폰 시장은 자국 업체들이 장악하고 있다. 오포(22.7%), 비보(19.7%), 샤오미(16.4%)를 비롯해 10위권 내 8곳이 중국업체다. 외산업체중 애플(14.0%)이 그나마 선전하고 있다.\\r삼성전자는 2013년만 해도 중국에서 스마트폰 점유율 1위였다. 그러나 화웨이, 샤오미 등 1세대 제조사에 이어 오포, 비보 등 2세대 제조사가 대폭 성장하며 입지가 좁아졌다. 여기에 고고도 미사일 방어체계(THAAD·사드) 문제 등으로 반한(反韓) 감정까지 불거지면서 점유율은 1% 아래로 쪼그라들었다.  미국 뉴욕주 가든시티(Garden City)에 위치한 \\'삼성 익스피리언스 스토어\\'에서 이용자들이 \\'갤럭시Z폴드3\\'·\\'갤럭시Z플립3\\'를 체험하고 있다./사진=삼성전자 ━폴더블폰으로 中 시장 승부수…삼성, 생산능력 50% 확대 추진 ━업계는 삼성전자가 폴더블폰을 앞세워 세계 최대 시장인 중국에서 전환점을 마련할 수 있을 것으로 본다. 기존 바(bar)형 스마트폰으로 중국 제조사들과 경쟁이 어려운 상황인 만큼, 차세대 폼팩터(외형)인 폴더블폰을 통해 차별성을 높일 수 있다는 판단에서다. \\r삼성전자가 폴더블폰 시장에서 압도적인 기술력을 보유하고 있다는 점도 기대감을 키우는 배경이다. 업계 관계자는 \"중국 소비자들이 스마트폰의 최상위 기종인 폴더블폰에 큰 관심을 갖는 건 삼성에 긍정적인 신호\"라며 \"삼성이 중국 시장에서 폴더블폰 카테고리를 형성한다면 고정 수요를 기대할 수도 있다\"고 말했다. \\r폴드3와 플립3는 중국 뿐 아니라 국내외에서 인기가 높다. 국내에서 지난 17~23일 7일간 진행했던 폴드3와 플립3의 사전 예약 실적은 총 92만대로 삼성 스마트폰 최고 기록을 경신했다. 미국에서는 사전 예약 물량이 올해 갤럭시Z 시리즈 전체 판매량을 넘었고, 인도에서는 사전 예약 첫날인 24일 갤럭시노트20보다  2.7배 많은 물량이 판매됐다. 삼성전자는 폴드3와 플립3의 출시국을 오는 10월까지 130곳으로 늘릴 계획이다. \\r삼성전자의 폴더블폰 생산 능력도 대폭 확대될 전망이다. 삼성전자는 삼성디스플레이 베트남 공장의 폴더블 디스플레이 생산 능력을 50% 이상 확대하는 방안을 검토중이다. 원활한 제품 공급을 위해서다. 업계 관계자는 \"폴더블폰에 대한 수요가 세계적으로 확인된만큼 삼성은 증산을 위해 빠르게 움직일 것\"이라고 말했다.                                                                저작권자 © ‘돈이 보이는 리얼타임 뉴스’ 머니투데이, 무단전재 및 재배포 금지                                공감                                            0%비공감                                            0%adtiveDrawAD(\\'6FFFFFFP\\',\\'6PRLLLLF\\'); -->                        (function(d,a,b,l,e,_) {                        if(d[b]&&d[b].q)return;d[b]=function(){(d[b].q=d[b].q||[]).push(arguments)};e=a.createElement(l);                        e.async=1;e.charset=\\'utf-8\\';e.src=\\'//static.dable.io/dist/plugin.min.js\\';                        _=a.getElementsByTagName(l)[0];_.parentNode.insertBefore(e,_);                        })(window,document,\\'dable\\',\\'script\\');                        dable(\\'setService\\', \\'mt.co.kr\\');                        dable(\\'sendLogOnce\\');                        dable(\\'renderWidget\\', \\'dablewidget_QXeJnWoe\\', {ignore_items: true});                         --> -->머니투데이 댓글 작성을 위해 JavaScript를 활성화해주세요 --> -->머니투데이 주요뉴스\"대박났어요\"…소시지끼워 조롱받던 갤폴드의 \\'반전 드라마\\'코로나사태 초기 홍남기 질타한 文 \"경제교과서에 머물지 말라\"\\t\\t\\t\\t\\t\\t[the300]강민석 전 청와대 대변인 출간한 책 \\'승부사 문재인\\'...미공개 文대통령 어록문재인 대통령이 지난해 3월 코로나19(COVID-19) 사태 발생 초기 재난지원금 지급에 소극적인 모습을 보인 홍남기 부총리 겸 기획재정부 장관과 김상조 전 청와대 정책실장을 질타한 것으로 알려졌다. 문 대통령은 또 지난해 8월 코로나19 2차 대유행을 촉발한 광화문 집회 참석자 중 일부가 보인 행태에 매우 분노했던 것으로 전해졌다.강민석 전 청와대 대변인은 1일 퇴임 후 1년2개월(2020년 2월~2021년 4월)간의 청와대 생활을 토대로...\\t\\t\\t\\t\\t\\'전자발찌\\' 차나 마나?...올해만 13명 끊었다 \\'관리 구멍\\'공모가 낮춘 카카오페이…관심 몰리는 세 가지 투자 포인트정부-보건노조 \\'새벽 극적합의\\'…의료대란 피했다뉴욕마감\\xa0\"악재 안 통하는 강세장\" 나스닥 장중 최고치속보\\xa0HMM 노사, 밤샘 협상 끝 \\'극적 타결\\'\"지금이 저가 매수 기회\"…증권가 주목하는 \\'위드 코로나\\' 수혜주 어디?에이즈 숨긴 채 동성애 즐긴 30대男, 징역 1년\"공부해서 뭐해요\"…이재용 움직인 한마디지갑 열렸다...소비 회복에 2분기 GDP 0.8%↑ --> -->            document.write(\"\");                        var child = document.getElementById( \\'mobonIframe_382290\\' );   // iframe                        function sendMsgToChild( msg ) {              child.contentWindow.postMessage( msg, \\'*\\' );            }                        function scrollEvent(){                var child_content = document.getElementById(\\'mobonDivBanner_382290\\'); // iframe div                var frameTop = window.pageYOffset + child_content.getBoundingClientRect().top;                var scrollTop = window.pageYOffset || document.documentElement.scrollTop;                                if(parseInt(scrollTop) >= parseInt(frameTop - 300)){                    sendMsgToChild( \\'mobonTargetView\\' );                    window.removeEventListener(\\'scroll\\', scrollEvent);                }            }            window.addEventListener(\\'scroll\\', scrollEvent);             $(window).load(function() {                var $lfTbanner_t = $(\\'.leftbn_wrap\\').offset().top;                var $lfTbanner_h = $(\\'.leftbn_wrap\\').outerHeight();                var $cnTbanner_t = $(\\'.article_view .util_box\\').offset().top;                var $cnTbanner_h = $(\\'.article_view .util_box\\').outerHeight();                var $atcTitile_h = $(\\'.view_top .subject\\').height();                var $flTbanner_t;                var $th;                if($atcTitile_h > 46){                    $th = $atcTitile_h - 46;                }else{                    $th = 0;                }                if(($lfTbanner_t+$lfTbanner_h) >= ($cnTbanner_t+$cnTbanner_h)){                    $flTbanner_t = $lfTbanner_h+300;                    $(\\'#mobonDivBanner_382290\\').css(\\'top\\',($flTbanner_t)).css(\\'visibility\\',\\'visible\\'); /* 수정 unset -> visible : ie에서 인식오류 */                }else{                    $flTbanner_t = ($cnTbanner_t+$cnTbanner_h-$th)+300;                    $(\\'#mobonDivBanner_382290\\').css(\\'top\\',($flTbanner_t-384)).css(\\'visibility\\',\\'visible\\'); /* 수정 unset -> visible : ie에서 인식오류 */                }            });        실시간 급상승        9.9        var statisticReal;    var TIMER_SECOND = 100;    var tSecond = TIMER_SECOND;    var title = \\'샤오미 최고라던 中 소비자들, 삼성 플립3 보더니 \\\\\\'반전\\\\\\'\\';    var articletype = \\'m\\';    var articleImg = \\'\\';    var articlecode = \\'\\';    var _url = \"https://m.mt.co.kr/renew/liveReLib.php?type=count&no=2021083114085488949\";    $(document).ready(function () {        statisticReal = new ArticleStatistic6({            articleId: \\'2021083114085488949\\',            articleTitle: title,            type: \\'pagein\\',            articleImg: articleImg,            articleCode: articlecode,            articleType: \\'m\\'        }, {            receivedDataOfList: function (received) {\\t\\t\\t\\t$(\".section-realtimerank\").css(\"display\",\"block\");                $(\\'#rightRealTimeList\\').html(\\'\\');                var intRealTimeCnt = 0;                for (var i = 0; i < received.length; i++) {                    var realTimeId = received[i].article_id;                    var realTImeChk = \\'yes\\';                    $(\\'#rightRealTimeList\\').append(getRealTimeList(received[i]));                    intRealTimeCnt++;                    if (intRealTimeCnt >= 5) {                        break;                    }                }            }        });        runIntervalPartialDataReal();    });    function numberWithCommas(x) {        return x.toString().replace(/\\\\B(?=(\\\\d{3})+(?!\\\\d))/g, \",\");    }    function cutByte(str, len) {        var l = 0;        str = str.replace(//gi, \"\\'\");        str = str.replace(//gi, \"\\'\");        str = str.replace(//gi, \\'\"\\');        str = str.replace(//gi, \\'\"\\');        for (var i = 0; i < str.length; i++) {            l += (str.charCodeAt(i) > 128) ? 2 : 1;            if (l > len) {                return str.substring(0, i);            }        }        return str;    }    function getRealTimeList(obj) {        var url = \\'https://news.mt.co.kr/mtview.php?no=\\' + obj.article_id + \\'&VRT_T\\';        var thumb = obj.article_img || \\'https://menu.mt.co.kr/common/defult_thumnail125x80.png\\';        var count = numberWithCommas(obj.count);        var title = obj.title;        if (count > 999) count = 999;        var title2 = cutByte(title, 65);        var diff = \"\", sortCss = \"\", sortTxt = \"\";        if (obj.gap == \"new\") {            sortCss = \"new\";            diff = \"\";            sortTxt = \"NEW\";        } else {            var _toNum = parseInt(obj.gap);            if (_toNum == 0) {                sortCss = \"st\";                diff = \"\";                sortTxt = \"변동없음\";            } else if (_toNum < 0) {                sortCss = \"dw\";                diff = Math.abs(_toNum);                sortTxt = \"감소\";            } else {                sortCss = \"up\";                diff = _toNum;                sortTxt = \"증가\";            }        }        return \\'\\' +            \\'\\' +            \\'\\' + title2 + \\'\\' +            \\'조회수\\' + count + \\'\\' +            \\'\\' + diff + \\'\\' + sortTxt + \\'\\' +            \\'\\' +            \\'\\';    }    function runIntervalPartialDataReal() {        window.setTimeout(function () {            tSecond = (tSecond > 1) ? tSecond - 1 : TIMER_SECOND;            var strSecondTxt = (tSecond / 10).toFixed(1); // 소수점 자리 한자리 고정            $(\".time_txt1\").text(strSecondTxt);            if (tSecond == TIMER_SECOND) {                statisticReal.getListOfTopArticleReal();            }            runIntervalPartialDataReal();        }, 100);    }베스트클릭종합IT/과학, 헬스심수창 \"원정 술자리 파문, 그 선배 누군지 안다…걔가 나쁜 X\"\\'122kg\\' 신기루 19금 목표? \"살 빼면 소파에서 침대로 가서…\"유병재, 성별 전환 사진 공개…동료들 \"진짜 싫음\" 경악\\'애주가\\' 기안84 \"술 끊는 약 먹고 4일간 죽을 뻔…효과는 컸다\"샤오미 최고라던 中 소비자들, 삼성 플립3 보더니 \\'반전\\'\"게임 대신 비트코인 채굴\"…월 3500만원 번 美 10대 남매조민 대학 성적 3등 아닌 \\'24등\\'…부산대 왜 거짓말 했나\"내 나이만큼 사람 죽일 것\"…최악의 택시 연쇄살인범 온보현美 학교 토론장에서 옷 벗은 아빠...학부모들은 감동의 박수쳤다\"1억 넣어봐야 고작 91만원\"…이랬던 은행 이자, 슬슬 오른다이전다음샤오미 최고라던 中 소비자들, 삼성 플립3 보더니 \\'반전\\'\"LG폰 없다, 한국 다시 돌아가자\"…짐 쌌던 그 폰들 돌아온다746만명 몰린 엔씨 \\'블소2\\'…뚜껑 열어보니 주가 폭락, 왜?\\'블소2\\' 이유있는 흥행 참패…\\'현질\\' 세계 1위 韓유저들, 지갑 닫았다삼성이 \\'갤노트\\' 단종하려는 이유 [이진욱의 렛IT고][단독]구글 픽셀폰, 국내 출시추진…\"한국 필수인력 뽑는다\"\"내 코로나19 지원금 얼마?\"…네이버·카카오톡에서 확인한다펄어비스 주가 \\'떡상\\'시킨 \\'도깨비\\'…도대체 무슨 게임?[인싸IT]싸이월드 부활은 기약없는데…관계사들의 수상한 움직임방통위원장 \"인앱결제법, 플랫폼 규제 세계적 시금석 될 것\"이전다음 -->MT리포트\\'전자발찌\\' 차나 마나?...올해만 13명 끊었다 \\'관리 구멍\\' 이슈패키지2021 세법개정안제주 멤버십골프장 개소세 감면 올해로 끝삼성이 촉발한 미술품 상속 물납, 여당 신중론에 백지화\"사장님들, 앞으론 간이지급명세서 매달 내세요\"2021 인구이야기 PopCon25억 자산가 \\'부산빠꾸미\\', 그가 부동산 카페 회원수에 집착하는 이유[싱글파이어]파이어족으로 가는 치트키 \"선배들이 전수하는 비법은?\"\"1인가구 1000만 시대, 새로운 시장이 열렸다\"탄소중립으로 가는 길탄소 배출 방치했다간…블랙록·뱅가드가 \"이사회 교체\"\\'작년 1.3조\\' 탄소배출권 시장 해마다 커지는데…기업들은 \\'쓴웃음\\'탄소중립, 제조업 문제라구요? 금융 산업도 \\'발등의 불\\'이전다음\\r\\t//이슈패키지 슬라이드\\r\\t$(\\'.vaslist_p3\\').slick({\\r\\t\\tdots: true,\\r\\t\\tprevArrow: \\'.issue_package .btn_prev\\',\\r\\t\\tnextArrow: \\'.issue_package .btn_next\\',\\r\\t\\tappendDots: \\'.issue_package .btn_dots\\'\\r\\t});\\r -->최신뉴스IT/과학, 헬스마켓글로벌 게임사 대표 \"나는 한국인!\" 환호한 이유[IT썰]의회난입 사태에 美IT기업 또 소환…\"콘텐츠 책임 있나\"[IT썰]\\'3G→LTE\\'에 환호했는데…\\'5배 더 빠른 5G\\'에 불만품는 이유\\'랜섬웨어\\' 대응책 없는 기업이 절반...이미 5곳중 2곳 당했다\"대박났어요\"…소시지끼워 조롱받던 갤폴드의 \\'반전 드라마\\'삼성전기, 장기 성장 궤도 진입…목표가 상향-IBK투자증권씨젠, 하반기 유럽 진단키트 수요 증가 기대-DS파업이냐, 극적 타결이냐…HMM 노사 밤샘협상에도 진통\\'갤럭시 Z\\' 효과에 세경하이테크 목표주가 105% 올렸다쎄미시스코, 최대주주 대상 280억 규모 유상증자 -->오늘의 꿀팁 -->많이 본 뉴스일주일1개월6개월1년20년 전 아내와 닮은 女와 외도한 남편…적반하장 이혼 요구송지효 \"김종국과 사귄 적 있다\"…쿨한 인정에 하하 \\'당황\\'폭로만 하던 김용호, 폭로 당하니 방송 중단?…\\'룸살롱 녹취\\' 나왔다공감신부에게 보낸 모친의 편지 본 조국 \"목이 메인다\"비공감가짜 수산업자와 사진 찍은 배현진의 해명...\"오징어 사기꾼, 제가 잡았다\"폭로만 하던 김용호, 폭로 당하니 방송 중단?…\\'룸살롱 녹취\\' 나왔다바람 피고 가족 버린 아빠, 17년 만에 찾아와 한말이…가세연 \"김용건 \\'사귀지도 않는데 왜 임신 시켰냐\\' 비난 싫었을 것\"공감송가인, 문재인 대통령 부부 만났다…무슨일?비공감\\'김연경 인터뷰\\' 유애자 \"이다영, 며느리 삼고 싶다\"…쌍둥이와 \\'돈독\\'\"짐승도 아니고\"…\\'애로부부\\' 사정없이 남편 뺨 때리는 아내\"힘들면 가수 그만해\"…박수홍 친형 논란 대비 이선희 가족 일화\"입은 거야 벗은 거야\"…칸 영화제 \\'노출 경쟁\\' 나선 모델들공감\"선처 절대 없다\" 박지성, 故유상철 조문 관련 악플러들 고소비공감\"네 남친들 다 나랑 잤어, 내가 쓰레기 걸러준 것\"…절친의 고백\"젖가슴·머리채 부여잡아\" YH사건 현장 사진…봉태규 녹화 중단가세연 \"대치동 유부녀, 입 열면 한예슬 끝나…굉장히 열 받아\"\"유부남이랑 ㄱㅅ할 기녀 구해요\"…3만회원 \\'불륜카페 주의보\\'공감손정민 父 \"쓰러진 아들, \\'그거\\'라고 부른 친구 A…기분 나쁘다\"비공감\"네 남친들 다 나랑 잤어, 내가 쓰레기 걸러준 것\"…절친의 고백오피니언\"미움은 얼마나 멋진 것인가\"  광화문 윤희숙 사퇴가 \\'쇼\\'라 비웃는 이들이 해야 할 일 기자수첩  마중물의 한계 광화문 티타임즈아마존‧쿠팡은 성을 쌓고, 네이버‧쇼피파이는 성을 허문다.더리더\"코로나 피해 기업 선제적 지원”스타일M한선화, 걸친 주얼리만 \\'1800만원대\\'…어디 거?스타뉴스박하선 측 \"가짜 수산업자와 사적 교류無..허위사실 법적 조치\"MoneyS‘뷰티디바이스’로 재도약 노리는 K- 뷰티IZE\\'샹치와 텐 링즈의 전설\\' 마블이 그린 빅피처the300코로나사태 초기 홍남기 질타한 文 \"경제교과서에 머물지 말라\"theL재범 위험에도 형기 마치면 무조건 사회로…보호수용제 힘 받나\\t//계열사 매체 슬라이드\\t$(\\'.vaslist_p5\\').slick({\\t\\tdots: false\\t});\\t//베스트클릭 슬라이드\\t$(\\'.bestclick_list\\').each(function(){\\t\\tvar btnPrev = $(this).find(\\'.btn_wrap2 .btn_prev\\'); //커스텀 이전 버튼\\t\\tvar btnNext = $(this).find(\\'.btn_wrap2 .btn_next\\'); //커스텀 다음 버튼\\t\\tvar btnDots = $(this).find(\\'.btn_dots\\'); //커스텀 버튼 페이지\\t\\tvar slider = $(this).children(\\'.group\\'); //슬라이더 선택자\\t\\tslider.slick({\\t\\t\\tdots: true,\\t\\t\\tprevArrow: btnPrev,\\t\\t\\tnextArrow: btnNext,\\t\\t\\tappendDots: btnDots\\t\\t});\\t});\\t//베스트클릭, 최신 뉴스, 많이 본 뉴스 탭메뉴 이벤트\\t$(\\'.vtabbox1 li a\\').mouseenter(function(){\\t\\tvtabEvent(this);\\t});\\t//탭메뉴 이벤트 함수\\tfunction vtabEvent(_this){\\t\\tvar vtabli = $(_this).parent(\\'li\\');\\t\\tvar idx = vtabli.index();\\t\\tvar cont_list = $(_this).parents(\\'.vtabbox1\\').next(\\'.vtabcont1\\').children(\\'div\\');\\t\\tvtabli.siblings().children(\\'a\\').removeClass(\\'on\\');\\t\\t$(_this).addClass(\\'on\\');\\t\\tcont_list.hide();\\t\\tcont_list.eq(idx).show();\\t\\tif (cont_list.hasClass(\\'bestclick_list\\'))\\t\\t{\\t\\t\\tcont_list.eq(idx).children(\\'.group\\').get(0).slick.setPosition();\\t\\t}\\t}    .rbw_g1 {        min-height: 210px;    }document.cookie=\\'a6b817bca40b79548b2bb461d0d93240=WyIxIl0=; expires=Thu,02 Sep 2021 23:47:38GMT; path=/; domain=.mt.co.kr; SameSite=None; Secure\\';포토 / 영상5수능 전 마지막 모의평가1942년만에 문 닫는 서울극장17\\'믿고 보는 기적\\'7정해인 \\'섹시한 눈빛\\'2021 u클린 청소년 문화 콘서트 [하이라이트]2021 u클린 청소년 문화 콘서트 \\'노틸러스\\'2021 u클린 청소년 문화 콘서트 \\'드리핀\\'2021 u클린 청소년 문화 콘서트 \\'래원\\'10추석 승차권 100% 비대면 예매 시작32진천 임시숙소 도착한 아프간인들6조이 \\'열애 인정후 첫 인사\\'6방민아-한성민 \\'최선의 삶 홍보왔어요!\\'2021 u클린 청소년 문화 콘서트 \\'알렉사\\'2021 u클린 청소년 문화 콘서트 \\'원호\\'2021 u클린 청소년 문화 콘서트 \\'T1419\\'2021 u클린 청소년 문화 콘서트 \\'로켓펀치\\'10한국땅 밟은 아프간인들318~49살 백신 접종 시작3한준희 감독, \\'D.P.\\' 흥행 성공7재찬-종형-경윤 \\'밝은미소로 인사\\'실제로 보면 너무 예뻐요...BMW 420i 컨버터블 타봤습니다 [고요한시승기-29]스포티지 하이브리드, 요즘 같은 고유가 시대에 이런 패밀리카 없다 [고요한시승기-28]1억원짜리 랜드로버 레인지로버 벨라 디자인은 정말 최강...! 근데 편의기능이? [고요한시승기-27]운 없으면 1년 기다린다는 볼보 XC60 타봤습니다 [고요한시승기-26]이전다음\\r            //이 기사를 본 독자들이 같이본 기사 슬라이드\\r            $(\\'.pv_list\\').slick({\\r                dots: true,\\r                prevArrow: \\'.pv_wrap .btn_prev\\',\\r                nextArrow: \\'.pv_wrap .btn_next\\',\\r                appendDots: \\'.pv_wrap .btn_dots\\'\\r            });\\r\\r            // // On before slide change\\r            $(\\'.pv_list\\').on(\\'afterChange\\', function (event, slick, currentSlide, nextSlide) {\\r                $(\\'.pv_list .lazyimg\\').lazyload({data_attribute: \\'src\\'});\\r            });\\r        \\r    $(document).ready(function () {\\r        $(\\'.lazyimg\\').lazyload({data_attribute: \\'src\\'});\\r    });\\r머니투데이 SERVICE뉴스경제정책증권정치부동산국제경제사회산업IT금융블록체인문화포토영상전체기사증권뉴스시세/공시포인트전략펀드종목대해부베스트리포트MY스톡유니콘팩토리최신기사칼럼데스크칼럼사내칼럼현장리포트사외칼럼SUCCESSSCIENCE컬쳐박스자동차최신기사신차소식시승기카라이프연예연예스포츠이슈핫이슈실시간급상승베스트클릭사람전문지·서비스VIP 머니투데이스타뉴스스타일M스포탈코리아OSEN키플랫폼티타임즈MnB창업MT해양자전거the300thebelltheLMTN노트펫앱어워드이로운넷PIXTA매거진머니S더리더대학경제로피시엘레옹IZE캠페인U클린쿨머니SNSMT페이스북MT트위터MT포스트MT인스타그램MT유튜브네이버TVMT증권 트위터머플러                                    유튜브머플러 네이버TV놂-norm                                    유튜브회사소개\\xa0\\xa0\\xa0\\xa0구독신청\\xa0\\xa0\\xa0\\xa0개인정보처리방침\\xa0\\xa0\\xa0\\xa0청소년보호정책\\xa0\\xa0\\xa0\\xa0이용약관\\xa0\\xa0\\xa0\\xa0광고안내\\xa0\\xa0\\xa0\\xa0제휴안내\\xa0\\xa0\\xa0\\xa0저작권규약\\xa0\\xa0\\xa0\\xa0기사제보\\xa0\\xa0\\xa0\\xa0고충처리서울시 종로구 청계천로 11(서린동, 청계한국빌딩)\\xa0\\xa0\\xa0대표이사/발행인/편집인:박종면\\xa0\\xa0\\xa0등록번호:서울 아01084\\xa0\\xa0\\xa0사업자등록번호:101-81-50419\\xa0\\xa0\\xa0등록일:2009.12.24\\xa0\\xa0\\xa0제호:머니투데이\\xa0\\xa0\\xa0발행일:2000.1.1\\xa0\\xa0\\xa0청소년                보호책임자:신택균\\xa0\\xa0\\xa0대표번호:02-724-7700\\xa0\\xa0\\xa0ISSN 2636-0055            머니투데이의 모든 기사(콘텐츠)는 저작권법의 보호를 받으며, 무단 전재 복사 배포 등을 금지합니다.\\xa0\\xa0\\xa0\\xa0COPYRIGHT © MONEYTODAY ALL RIGHTS RESERVED.    var addFlg = \"\";    $(document).ready(function () {        if (addFlg != \\'false\\') {            containerHeightSetter();        }    });    function containerHeightSetter() {        $(\\'#aside2017\\').css(\\'visibility\\', \\'visible\\');        /*좌우측 배너관련*/        var leftbn_wrap = $(\\'.leftbn_wrap\\');        var rightbn_wrap = $(\\'.rightbn_wrap\\');        var lbw_g1 = $(\\'.leftbn_wrap .lbw_g1\\');        var leftbn_wrap_h = leftbn_wrap.height();        var rightbn_wrap_h = rightbn_wrap.height();        var lbw_g1_h = lbw_g1.height();\\t\\tif (lbw_g1_h == null || lbw_g1_h == undefined ||  lbw_g1_h == \\'undefined\\') {\\t\\t\\tlbw_g1_h = 0;\\t\\t}\\t\\tif(lbw_g1.length > 0){\\t\\t\\t$(\\'.rightbn_wrap .rbw_g1\\').attr(\\'style\\', \\'min-height:\\' + lbw_g1_h + \\'px;\\');\\t/*좌우측 두번째 날개배너 높이 조절*/\\t\\t}else{\\t\\t\\t$(\\'.rightbn_wrap .rbw_g1\\').remove();\\t\\t}        if ((leftbn_wrap.is(\\':visible\\')) && (rightbn_wrap.is(\\':visible\\'))) {\\t/*페이지 가로사이즈 최소값 지정*/            $(\\'html\\').attr(\\'style\\', \\'min-width:1404px;\\');        }        var minHeight = rightbn_wrap_h;        if (leftbn_wrap_h >= rightbn_wrap_h) {            minHeight = leftbn_wrap_h;        }        if ($(\\'.rbw_g2 .bundle\\').length) {            minHeight = minHeight > 1470 ? minHeight : 1470;        }        $(\\'#container\\').css(\\'min-height\\', minHeight + 150);    }        //네이버 로그분석 20160429  코드값수정 20170426 ask    if (!wcs_add) {        var wcs_add = {};    }    wcs_add[\"wa\"] = \"12f81a4b011c99\";    wcs_do();                //함수 : newsViewHeader    function HeaderSearchOpen() {        $(\\'#mt_at_header .schopen\\').hide();        $(\\'#mt_at_header .search1\\').css(\\'width\\', \\'180\\');        $(\\'#mt_at_header .search1 fieldset\\').animate({width: \\'show\\'}, 100);    }    //함수 : newsViewHeader    function HeaderSearchClose() {        $(\\'#mt_at_header .schopen\\').show();        $(\\'#mt_at_header .search1\\').css(\\'width\\', \\'auto\\');        $(\\'#mt_at_header .search1 fieldset\\').hide();    }    //함수 : newsViewHeader    // 사용할 앱의 Javascript 키를 설정해 주세요.        Kakao.init(\\'5c9c20f9d0e6c617906b35b3ad92f048\\');\\t\\t\\t//자바스크립트 api 키값\\t    function loginWithKakao(urls) {        var kakaoUrl = \"https://story.kakao.com/share?url=\" + urls;        var popupOptions = \"width=600, height=460, resizable=no, scrollbars=yes, status=no\";        window.open(kakaoUrl, \"kakaoPop\", popupOptions);    }    //함수 : newsViewHeader(공유)    function showGisaInfo(arg) {        if (arg == 1) {            if ($(\\'#showhiddenGisa\\').val() == 1) {                $(\\'#totalGisaInfo\\').hide();                $(\\'#showhiddenGisa\\').val(2);            } else {                $(\\'#totalGisaInfo\\').show();                $(\\'#showhiddenGisa\\').val(arg);            }        } else if (arg == 2) {            $(\\'#totalGisaInfo\\').hide();            $(\\'#showhiddenGisa\\').val(arg);        }    }    //함수 : rightWingBannerArea    function examPop() {        window.open(\\'//www.mt.co.kr/event/20131106.html\\', \\'exam\\', \\'width=480,height=640,scrollbars=yes\\');    }    function goTweet() {        var txt = \\'샤오미 최고라던 中 소비자들, 삼성 플립3 보더니 ＇반전＇ #MToday\\';        var arg = \\'https://news.mt.co.kr/mtview.php?no=2021083114085488949\\';        window.open(encodeURI(\"https://twitter.com/share?url=\" + arg + \"&text=\") + encodeURIComponent(txt), \"tweetPop\", \"width=486, height=286,scrollbars=yes\");        fb_form.mode.value = \\'tweet\\';        fb_form.target = \\'hiddenframe\\';        fb_form.submit();    }    function goFacebook(arg) {        window.open(\"https://www.facebook.com/sharer.php?u=\" + arg, \"\", \"width=486, height=286\");        fb_form.mode.value = \\'like\\';        fb_form.target = \\'hiddenframe\\';        fb_form.submit();    }    function goNaverBlog() {        var txt = \\'샤오미 최고라던 中 소비자들, 삼성 플립3 보더니 ＇반전＇\\';        var arg = \\'https://news.mt.co.kr/mtview.php?no=2021083114085488949\\';        window.open(encodeURI(\"http://blog.naver.com/openapi/share?url=\" + arg + \"&title=\") + encodeURIComponent(txt), \"naverPop\", \"width=486, height=186,scrollbars=yes\");        fb_form.mode.value = \\'naver\\';        fb_form.target = \\'hiddenframe\\';        fb_form.submit();    }    function goTelegram(urls) {        var telgramUrl = \"https://telegram.me/share/url?url=\" + urls;        var popupOptions = \"width=600, height=520, resizable=no, scrollbars=yes, status=no\";        window.open(telgramUrl, \"Telegram\", popupOptions);    }    function share(type, kind) {        var popName = \\'\\';        var popWidth = 0;        var popHeight = 0;        var txt = \\'샤오미 최고라던 中 소비자들, 삼성 플립3 보더니 ＇반전＇ #MToday\\';        var arg = \\'https://news.mt.co.kr/mtview.php?no=2021083114085488949\\';        var option = \\'width=486, height=286\\';        switch (type) {            case \"fb\":                var popName = \\'facebookPop\\';                option = \"width=486, height=286\";                break;            case \"tw\":                var popName = \\'tweetPop\\';                option = \"width=486, height=286,scrollbars=yes\";                break;            case \"ks\":                var popName = \\'kakaoPop\\';                option = \"width=600, height=460, resizable=no, scrollbars=yes, status=no\";                break;            case \"nb\":                var popName = \\'naverPop\\';                txt = \\'샤오미 최고라던 中 소비자들, 삼성 플립3 보더니 ＇반전＇\\';                option = \"width=486, height=486,scrollbars=yes\";                break;            case \"tg\":                var popName = \\'Telegram\\';                option = \"width=600, height=520, resizable=no, scrollbars=yes, status=no\";            default:                var popName = \\'\\';                break;        }                //구글 태그매니저        window.open(\"https://news.mt.co.kr/share.php?url=\" + encodeURIComponent(arg) + \"&title=\" + encodeURIComponent(txt) + \"&type=\" + type + \"&kind=\" + kind, popName, option);    }    //함수 : 스크롤 이동    function movePst(_this) {        var elmt = _this;        var movePst = $(elmt).offset().top;        console.log(\\'elmt = \\' + elmt);        console.log(\\'movePst = \\' + movePst);        $(window).scrollTop(movePst);    }    (function (d, a, b, l, e, _) {    d[b] = d[b] || function () {        (d[b].q = d[b].q || []).push(arguments)    };    e = a.createElement(l);    e.async = 1;    e.charset = \\'utf-8\\';    e.src = \\'//static.dable.io/dist/plugin.min.js\\';    _ = a.getElementsByTagName(l)[0];    _.parentNode.insertBefore(e, _);})(window, document, \\'dable\\', \\'script\\');dable(\\'setService\\', \\'mt.co.kr\\');    document.domain = \\'mt.co.kr\\';    $(document).ready(function () {        // 이미지 링크 관련 스크립트        // 전체 페이지 로딩 후, 5초 있다가 전체 이미지내의 아이콘 안보이게 합니다.        setTimeout(\"hideImgLinkIcon()\", 5000);        // 아이콘에 마우스 올리면 내용영역이 보입니다.        $(\\'div.spot a.plus\\').on(\\'mouseover\\', function () {            $(this).parent().children(\\'div[id^=\"imgSpotContents_\"]\\').show();        });        // 아이콘 및 내용영역에서 마우스 빠지면 다시 숨김        $(\\'div[id^=\"imgSpotArea_\"]\\').on(\\'mouseleave\\', function () {            $(this).children(\\'div[id^=\"imgSpotContents_\"]\\').hide();        });        // 기사 이미지 위에 마우스 올리거나 내릴 때마다 아이콘 노출 변경        $(\\'td.img\\').on(\\'mouseover\\', function () {            //$(this).children(\\'div.spotlink\\').children(\\'div.spot\\').children(\\'a.plus\\').fadeIn(\\'fast\\');            $(this).children(\\'div.spotlink\\').children(\\'div.spot\\').children(\\'a.plus\\').show();        }).on(\\'mouseout\\', function () {            //$(this).children(\\'div.spotlink\\').children(\\'div.spot\\').children(\\'a.plus\\').fadeOut(\\'fast\\');            $(this).children(\\'div.spotlink\\').children(\\'div.spot\\').children(\\'a.plus\\').hide();        });        // 이미지 링크용 아이콘 모두 숨기기        hideImgLinkIcon = function () {            $(\\'div.spotlink a.plus\\').fadeOut(\\'fast\\');        }        //        agree_spread(\\'2021083114085488949\\');        facebook_tracking();        $(\"#textBody object\").each(function () {            if ($(this).width() > 660) {                $(this).attr(\"width\", \\'660px\\');            }        });        /*2019-01-17*/        var fsize = getCookie(\"fontsize\");        if (fsize == \"\") fsize = 16;        $(\"#ftsize\" + fsize).attr(\\'checked\\', true);        /* 수정 190718 세종 */        if ($(\\'#articleRelnewsFrame\\').length > 0) {            setHframe();            setTimeout(function () {                setHframe();            }, 3000);        }        function setHframe() {            var setHeight = $(\\'#articleRelnewsFrame\\').contents().find(\\'html\\')[0].scrollHeight + \"px\";            $(\\'#articleRelnewsFrame\\').css(\"height\", setHeight);        }        /* //수정 190718 세종 */    });    //end document ready    // 라이브리    window.livereOptions = {        refer: \\'news.mt.co.kr/mtview.php?no=2021083114085488949\\'        , site: \\'\\'    };    (function (d, s) {        var j, e = d.getElementsByTagName(s)[0];        if (typeof LivereTower === \\'function\\') {            return;        }        j = d.createElement(s);        j.src = \\'https://cdn-city.livere.com/js/embed.dist.js\\';        j.async = true;        e.parentNode.insertBefore(j, e);    })(document, \\'script\\');    function goShare(sns, type) {        switch (sns) {            case  \\'fb\\':                shareManager.facebook(sns, type);                break;            case  \\'kl\\':                shareManager.kakaolink(sns, type);                break;            case  \\'klm\\':                shareManager.kakaolinkMe(sns, type);                break;            default:                shareManager.countUpdate(sns);                share(sns, type);                break;        }    }    // 즉시실행함수 : Google Tag Manager    (function (w, d, s, l, i) {        w[l] = w[l] || [];        w[l].push({            \\'gtm.start\\':                new Date().getTime(), event: \\'gtm.js\\'        });        var f = d.getElementsByTagName(s)[0],            j = d.createElement(s), dl = l != \\'dataLayer\\' ? \\'&l=\\' + l : \\'\\';        j.async = true;        j.src =            \\'https://www.googletagmanager.com/gtm.js?id=\\' + i + dl;        f.parentNode.insertBefore(j, f);    })(window, document, \\'script\\', \\'dataLayer\\', \\'GTM-MTNP8LJ\\');    // 함수    function cardImgView(arg) {        var totCnt = \\'1\\';        for (var i = 1; i < totCnt; i++) {            if ($(\"#cardNews\" + i).css(\"display\") != \"none\") {                var currentHotNo = i;                break;            }        }        var maxHotCnt = totCnt - 1;        if (arg == \\'prev\\') {            if (currentHotNo == 1) {                return;            } else if (currentHotNo == 2) {                $(\\'#prevbtn\\').removeClass();                $(\\'#prevbtn\\').attr(\\'class\\', \\'prev noimg\\');            }            var targetHotNo = (currentHotNo == 1) ? maxHotCnt : (currentHotNo - 1);            $(\\'#nextbtn\\').removeClass();            $(\\'#nextbtn\\').attr(\\'class\\', \\'next\\');            $(\\'#prevbtn\\').css(\\'background-image\\', \\'url(https://menu.mt.co.kr/common/button/btn_prev14_on.png)\\');            $(\\'#nextbtn\\').css(\\'background-image\\', \\'url(https://menu.mt.co.kr/common/button/btn_next14.png)\\');        } else {            if (currentHotNo == maxHotCnt) {                return;            } else if (currentHotNo == (maxHotCnt - 1)) {                $(\\'#nextbtn\\').removeClass();                $(\\'#nextbtn\\').attr(\\'class\\', \\'next noimg\\');            }            var targetHotNo = (currentHotNo == maxHotCnt) ? 1 : (currentHotNo + 1);            $(\\'#prevbtn\\').removeClass();            $(\\'#prevbtn\\').attr(\\'class\\', \\'prev\\');            $(\\'#nextbtn\\').css(\\'background-image\\', \\'url(https://menu.mt.co.kr/common/button/btn_next14_on.png)\\');            $(\\'#prevbtn\\').css(\\'background-image\\', \\'url(https://menu.mt.co.kr/common/button/btn_prev14.png)\\');        }        $(\\'#cardNews\\' + currentHotNo).hide();        $(\\'#cardNews\\' + targetHotNo).fadeIn(\\'fast\\');    }    function cardImgbtnChg1(arg) {        if (arg == \\'prev\\') {            $(\\'#prevbtn\\').css(\\'background-image\\', \\'url(https://menu.mt.co.kr/common/button/btn_prev14_on.png)\\');        } else {            $(\\'#nextbtn\\').css(\\'background-image\\', \\'url(https://menu.mt.co.kr/common/button/btn_next14_on.png)\\');        }    }    function cardImgbtnChg2(arg) {        if (arg == \\'prev\\') {            $(\\'#prevbtn\\').css(\\'background-image\\', \\'url(https://menu.mt.co.kr/common/button/btn_prev14.png)\\');        } else {            $(\\'#nextbtn\\').css(\\'background-image\\', \\'url(https://menu.mt.co.kr/common/button/btn_next14.png)\\');        }    }    function facebook_tracking() {        //페이스북 좋아요 버튼 추적        try {            if (FB && FB.Event && FB.Event.subscribe) {                FB.Event.subscribe(\\'edge.create\\', function (targetUrl) {                    fb_form.mode.value = \\'like\\';                    fb_form.target = \\'hiddenframe\\';                    fb_form.submit();                    //_gaq.push([\\'_trackSocial\\', \\'facebook\\', \\'like\\', title, path]);                });                FB.Event.subscribe(\\'edge.remove\\', function (targetUrl) {                    fb_form.mode.value = \\'unlike\\';                    fb_form.target = \\'hiddenframe\\';                    fb_form.submit();                    //_gaq.push([\\'_trackSocial\\', \\'facebook\\', \\'unlike\\', title, path]);                });                FB.Event.subscribe(\\'message.send\\', function (targetUrl) {                    fb_form.mode.value = \\'share\\';                    fb_form.target = \\'hiddenframe\\';                    fb_form.submit();                    //_gaq.push([\\'_trackSocial\\', \\'facebook\\', \\'send\\', title, path]);                });            }        } catch (e) {        }    }    function agree(param, gisa_id) {        var url = \"https://news.mt.co.kr/agree/agree_proc_new.php?param=\" + param + \"&gisa_id=\" + gisa_id + \"&outdate=20210901053000\";        var agflag = getCookie(\"agflag\");        var strstr = agflag.indexOf(gisa_id);        if (strstr == -1) {            $(function () {                $.ajax({                    type: \"GET\",                    url: url,                    data: {query: \"jquery\"},                    success: function (data, textStatus) {                        var serverData = data.split(\\'$\\');                        if (serverData == \"fail\") {                            alert(\\'잠시후에 다시 시도해주세요.\\');                        } else {                            agflag = agflag + \"|\" + gisa_id;                            setCookie(\"agflag\", agflag, \"30\");                            if (param == \"POSITIVE\") {                                alert(\"공감하셨습니다.\");                            } else {                                alert(\"비공감하셨습니다.\");                            }                            $(\"#positveCnt\").html(serverData[0] + \\'%\\');                            $(\"#negativeCnt\").html(serverData[1] + \\'%\\');                        }                    }                });            })        } else {            alert(\"이미 의견이 등록된 기사입니다.\");        }    }    function agree_spread(no) {        var url = \\'https://news.mt.co.kr/agree/agree_spread_new.php?no=\\' + no;        $(function () {            $.ajax({                type: \"GET\",                url: url,                data: {query: \"jquery\"},                success: function (data, textStatus) {                    var serverData = data.split(\\'$\\');                    $(\"#positveCnt\").html(serverData[0] + \\'%\\');                    $(\"#negativeCnt\").html(serverData[1] + \\'%\\');                }            });        })    }    function article_print_mtview(gid, gtype, gb) {        if (!gtype) {            gtype = \\'1\\';        }        //ie는 파람의 gb=\\'\\' 구문 해석 불가        if(typeof gb == \"undefined\" || gb == null){            gb = \\'\\';        }        window.open(\\'https://news.mt.co.kr/newsPrint.html?no=\\' + gid + \\'&type=\\' + gtype + \\'&gubn=\\' + gb, \\'printpop\\', \\'toolbar=0,scrollbars=0,width=760,height=600,scrollbars=yes,resizable=yes,left=0,top=0\\');    }    function article_sendmail_mtview(gid, gtype, gb) {        if (!gtype) {            gtype = \\'1\\';        }        //ie는 파람의 gb=\\'\\' 구문 해석 불가        if(typeof gb == \"undefined\" || gb == null){            gb = \\'\\';        }        if (\\'\\' == \\'\\') {            alert(\"기사 이메일 보내기 기능은 로그인 후 사용하실 수 있습니다.\");            location.href = \\'https://login.mt.co.kr/login.html?qurl64=aHR0cHM6Ly9uZXdzLm10LmNvLmtyL210dmlldy5waHA/bm89MjAyMTA4MzExNDA4NTQ4ODk0OQ==\\';        } else {            window.open(\\'https://news.mt.co.kr/newsEmail.html?no=\\' + gid + \\'&type=\\' + gtype + \\'&gubn=\\' + gb, \\'printpop\\', \\'toolbar=0,scrollbars=0,width=760,height=600,scrollbars=yes,resizable=yes,left=0,top=0\\');        }    }    function downloadPdf(article_no, article_type) {        $(\\'#iframeForPdf\\').attr(\\'src\\', \\'https://login.mt.co.kr/pdf/makeAndDownloadPdf.php?no=\\' + article_no + \\'&type=\\' + article_type);    }    //즉시실행함수 :    window.___gcfg = {lang: \\'ko\\'};    (function () {        var po = document.createElement(\\'script\\');        po.type = \\'text/javascript\\';        po.async = true;        po.src = \\'https://apis.google.com/js/plusone.js\\';        var s = document.getElementsByTagName(\\'script\\')[0];        s.parentNode.insertBefore(po, s);    })();    //기자더보기 스크립트    var listH = $(\\'.view .view_top .view_info .info .newshawk .group .list\\').height();    if (listH > 20) { //기자 리스트가 2줄 이상일경우 버튼 on        $(\\'.btn_newshawk_listmore\\').show();    } else { //기자 리스트가 1줄일경우 버튼 off        $(\\'.btn_newshawk_listmore\\').hide();    }    $(document).on(\\'click\\', \\'.btn_newshawk_listmore\\', function () {        $(this).parent(\\'.newshawk\\').toggleClass(\\'on\\');    });    //sns 공유 마우스 오버 이벤트    $(document).on(\\'mouseenter\\', \\'.btn_sns_more\\', function () {        $(this).parent(\\'.sns_share\\').addClass(\\'on\\');    });    //sns 공유 마우스 리브 이벤트    $(document).on(\\'mouseleave\\', \\'.sns_share.on\\', function () {        $(this).removeClass(\\'on\\');    });    $(document).on(\\'click\\', \\'.sns_share.on .btn_sns_more\\', function () {        $(this).parent(\\'.sns_share\\').removeClass(\\'on\\');    });    //본문 글자크기 변경 이벤트    $(document).on(\\'change\\', \\'input[name=\"ftsize_fnc\"]\\', function () {        var num = $(this).val();        /*2019-01-17*/        setCookie(\"fontsize\", num, 365);        $(\"#textBody\").css(\\'font-size\\', num + \\'px\\');    });    const shareManager = {        init: function () {            this.shareUrl = $(\\'meta[property=\"og:url\"]\\').attr(\\'content\\');            this.shareTitle = $(\\'meta[property=\"og:title\"]\\').attr(\\'content\\');            this.shareDescription = $(\\'meta[property=\"og:description\"]\\').attr(\\'content\\');            this.shareImg = $(\\'meta[property=\"og:image\"]\\').attr(\\'content\\');            // shareManager.initTwitterCallback();        },        kakaolink: function(sns, type){            var shareUrl = shareManager.shareUrl;            var shareTitle = shareManager.shareTitle;            var shareDescription = shareManager.shareDescription;            var shareImg = shareManager.shareImg;            Kakao.Link.sendDefault({                    objectType: \\'feed\\',                    content: {                        title: shareTitle,                        description: shareDescription,                        imageUrl: shareImg,                        link: {                            mobileWebUrl: shareUrl,                            webUrl: shareUrl                        }                    },                    buttons: [                        {                            title: \\'웹으로 보기\\',                            link: {                                mobileWebUrl: shareUrl,                                webUrl: shareUrl                            }                        }                    ]                });        },        kakaolinkMe: function(sns, type){            var shareUrl = shareManager.shareUrl;            var shareTitle = shareManager.shareTitle;            var shareDescription = shareManager.shareDescription;            var shareImg = shareManager.shareImg;            Kakao.Auth.login({                scope: \"PROFILE,TALK_MESSAGE\",                success: function (res) {                    Kakao.API.request({                        url: \\'/v2/api/talk/memo/default/send\\',                        data: {                            template_object: {                                object_type: \"feed\",                                content: {                                    title: shareTitle,                                    description: shareDescription,                                    image_url: shareImg,                                    link: {                                        web_url: shareUrl,                                        mobile_web_url: shareUrl                                    }                                }                            }                        },                        success: function (res) {                            alert(\\'기사가 전송되었습니다.\\');                        },                        fail: function (error) {                            alert(\\'기사를 전송하지 못했습니다. 잠시 후 다시 시도해 주세요.\\')                            //alert(\\'error! \\\\n\\' + JSON.stringify(error));                        }                    })                },                fail: function (error) {                    //console.log(error);                }            });        },        facebook: function (sns, type) {            shareManager.googleTraceScriptInjection();            const href = location.href.replace(/nnews/, \\'news\\');            const optionShare = {                href: href,                method: \\'share\\'            };            const callbackShare = function (response) {                console.log(response);                if (response && !response.error_message) {                    shareManager.pushDataLayer(sns);                    shareManager.countUpdate(sns);                } else if (response !== undefined) {                    alert(\\'facebook share error\\');                }            };            FB.ui(optionShare, callbackShare);        },        initTwitterCallback: function () {            $.getScript(\"//platform.twitter.com/widgets.js\", function () {                function handleTweetEvent(event) {                    console.log(\\'==================================================\\');                    console.log(\\'handleTweetEvent\\', event);                    if (event) {                        console.log(\\'twitter share count update\\');                        shareManager.pushDataLayer(\\'tw\\');                        shareManager.countUpdate(\\'tw\\');                    }                }                twttr.events.bind(\\'tweet\\', handleTweetEvent);            });        },        twitter: function (sns, type) {            shareManager.googleTraceScriptInjection();            const url = encodeURIComponent($(\\'meta[property=\"og:url\"]\\').attr(\\'content\\'));            const title = encodeURIComponent($(\\'meta[name=\"twitter:title\"]\\').attr(\\'content\\'));            snsLink = \\'//twitter.com/share?url=\\' + url + \\'&text=\\' + title;            window.open(snsLink, \\'tweetPop\\', \"width=486, height=286,scrollbars=yes\");        },        googleTraceScriptInjection: function () {            var _gaq = _gaq || [];            _gaq.push([\\'_setAccount\\', \\'UA-22186599-19\\']);            _gaq.push([\\'_trackPageview\\']);            (function () {                var ga = document.createElement(\\'script\\');                ga.type = \\'text/javascript\\';                ga.async = true;                ga.src = (\\'https:\\' === document.location.protocol ? \\'https://ssl\\' : \\'http://www\\') + \\'.google-analytics.com/ga.js\\';                var s = document.getElementsByTagName(\\'script\\')[0];                s.parentNode.insertBefore(ga, s);            })();        },        countUpdate: function (sns) {            fb_form.mode.value = sns;            fb_form.target = \\'hiddenframe\\';            fb_form.submit();        },        pushDataLayer: function (sns) {            //구글 태그매니저            var sns_name = \"\";            switch (sns) {                case \"fb\":                    sns_name = \"페이스북\";                    break;                case \"tw\":                    sns_name = \"트위터\";                    break;                case \"ks\":                    sns_name = \\'카카오스토리\\';                    break;                case \"nb\":                    sns_name = \"네이버\";                    break;                case \"tg\":                    sns_name = \\'텔레그램\\';                    break;                default:                    sns_name = \\'기타\\';                    break;            }            const eventLabel = location.href.replace(/(http|https):\\\\/\\\\/[^\\\\/]+([^\\\\&]+).+/, \\'$2\\');            const pushContent = {                eventLabel: eventLabel,                event: \\'common\\',                eventCategory: \\'SNS공유\\',                eventAction: sns_name,                eventValue: \\'\\'            };            dataLayer.push(pushContent);        }    };    $(\\'document\\').ready(function () {        shareManager.init();    });    //기사면일때 2019.10.17 추가 MTCMUWORK-250    wpts.tag();        <ins class=\\'adsbyadop\\' _adop_zon=\\'ed7c4893-a782-49e2-957f-4156368422b4\\' _adop_type=\\'re\\'             style=\\'display:inline-block;width:0px;height:0px;\\' _page_url=\\'\\'> -->//수정 200304 세종 / iframe 에 style=\\'position:absolute;\\' 추가, 기사면 하단에 발생하는 여백 제거용    document.write(\"\");'"
      ]
     },
     "execution_count": 4,
     "metadata": {},
     "output_type": "execute_result"
    }
   ],
   "source": [
    "html = urlopen('http://news.mt.co.kr/mtview.php?no=2021083114085488949')\n",
    "bsob = BeautifulSoup(html, 'html.parser')\n",
    "cleanhtml(str(bsob)).replace('\\n','')"
   ]
  },
  {
   "cell_type": "code",
   "execution_count": 5,
   "id": "58599bff-0ffd-4afd-82f3-bf59d498a49a",
   "metadata": {},
   "outputs": [],
   "source": [
    "req = requests.get('http://news.mt.co.kr/mtview.php?no=2021083108500081348')\n",
    "req.encoding = None\n",
    "soup = BeautifulSoup(req.text, 'html.parser')"
   ]
  },
  {
   "cell_type": "code",
   "execution_count": 6,
   "id": "6e95fe3f-3b06-4424-a820-06013355345c",
   "metadata": {
    "tags": []
   },
   "outputs": [
    {
     "name": "stdout",
     "output_type": "stream",
     "text": [
      "본문 크롤링에 필요한 함수를 로딩하고 있습니다...\n",
      "----------------------------------------------------------------------------------------------------\n",
      "검색할 언론사 : 머니투데이\n"
     ]
    },
    {
     "name": "stdin",
     "output_type": "stream",
     "text": [
      "검색할 키워드  :  삼성\n",
      "수집 뉴스의 수(숫자만 입력) :  10\n"
     ]
    },
    {
     "name": "stdout",
     "output_type": "stream",
     "text": [
      "\n",
      "====================================================================================================\n",
      "\n",
      "브라우저를 실행시킵니다(자동 제어)\n",
      "\n",
      "설정한 언론사를 선택합니다.\n",
      "\n",
      "<경제/IT> 카테고리에서 <머니투데이>를 찾았으므로 탐색을 종료합니다\n"
     ]
    },
    {
     "name": "stderr",
     "output_type": "stream",
     "text": [
      "  0%|                                                                                           | 0/10 [00:00<?, ?it/s]"
     ]
    },
    {
     "name": "stdout",
     "output_type": "stream",
     "text": [
      "\n",
      "크롤링을 시작합니다.\n"
     ]
    },
    {
     "name": "stderr",
     "output_type": "stream",
     "text": [
      "100%|██████████████████████████████████████████████████████████████████████████████████| 10/10 [01:44<00:00, 10.47s/it]\n"
     ]
    },
    {
     "name": "stdout",
     "output_type": "stream",
     "text": [
      "\n",
      "브라우저를 종료합니다.\n",
      "====================================================================================================\n",
      "데이터프레임 변환\n",
      "\n",
      "엑셀 저장 완료 | 경로 : C:\\Users\\j\\stock_predict\\크롤링\\네이버뉴스_본문_10개_삼성_2021-09-02_08시47분.xlsx\n",
      "\n",
      "====================================================================================================\n",
      "결과물의 일부\n"
     ]
    },
    {
     "data": {
      "text/html": [
       "<div>\n",
       "<style scoped>\n",
       "    .dataframe tbody tr th:only-of-type {\n",
       "        vertical-align: middle;\n",
       "    }\n",
       "\n",
       "    .dataframe tbody tr th {\n",
       "        vertical-align: top;\n",
       "    }\n",
       "\n",
       "    .dataframe thead th {\n",
       "        text-align: right;\n",
       "    }\n",
       "</style>\n",
       "<table border=\"1\" class=\"dataframe\">\n",
       "  <thead>\n",
       "    <tr style=\"text-align: right;\">\n",
       "      <th></th>\n",
       "      <th>title</th>\n",
       "      <th>url</th>\n",
       "      <th>text</th>\n",
       "      <th>date</th>\n",
       "    </tr>\n",
       "  </thead>\n",
       "  <tbody>\n",
       "    <tr>\n",
       "      <th>1</th>\n",
       "      <td>샤오미 최고라던 中 소비자들, 삼성 플립3 보더니 '반전'</td>\n",
       "      <td>http://news.mt.co.kr/mtview.php?no=20210831140...</td>\n",
       "      <td>12일 서울 서초구 삼성 딜라이트를 찾은 고객들이 새로운 폴더블 스마트폰 갤럭시Z폴...</td>\n",
       "      <td>2021-09-02</td>\n",
       "    </tr>\n",
       "    <tr>\n",
       "      <th>2</th>\n",
       "      <td>8분기 연속 매출 기록 세우는 파운드리 시장…'공격적 투자' 삼성은?</td>\n",
       "      <td>http://news.mt.co.kr/mtview.php?no=20210901161...</td>\n",
       "      <td>삼성전자 화성 반도체 파운드리사업장 EUV(극자외선) V1 생산라인./사진제공=삼성...</td>\n",
       "      <td>2021-09-02</td>\n",
       "    </tr>\n",
       "    <tr>\n",
       "      <th>3</th>\n",
       "      <td>'없어서 못 사' 삼성 폴더블폰 돌풍…부품株도 '훨훨'</td>\n",
       "      <td>http://news.mt.co.kr/mtview.php?no=20210831161...</td>\n",
       "      <td>삼성전자 (76,800원 100 0.1%)의 폴더블폰 '갤럭시 Z폴드3'와 '갤럭시...</td>\n",
       "      <td>2021-09-02</td>\n",
       "    </tr>\n",
       "    <tr>\n",
       "      <th>4</th>\n",
       "      <td>14개월만에 노사 합의안 나온 르노삼성, 8월 판매 전년比 16.8%↑</td>\n",
       "      <td>http://news.mt.co.kr/mtview.php?no=20210901155...</td>\n",
       "      <td>르노삼성자동차 XM3르노삼성자동차가 지난 8월 전년 동월 대비 16.8% 증가한 8...</td>\n",
       "      <td>2021-09-02</td>\n",
       "    </tr>\n",
       "    <tr>\n",
       "      <th>5</th>\n",
       "      <td>상속 받은 이재용 부회장, 삼성그룹 지분 70% 늘었다</td>\n",
       "      <td>http://news.mt.co.kr/mtview.php?no=20210901103...</td>\n",
       "      <td>[서울=뉴시스] 고범준 기자 = 이재용 삼성전자 부회장. 2021.08.26. b...</td>\n",
       "      <td>2021-09-02</td>\n",
       "    </tr>\n",
       "    <tr>\n",
       "      <th>6</th>\n",
       "      <td>'갤Z플립' 주문 폭주에…삼성, 부품 공급선 확대 나섰다</td>\n",
       "      <td>http://news.mt.co.kr/mtview.php?no=20210901092...</td>\n",
       "      <td>지난달 12일 서울 서초구 삼성 딜라이트를 찾은 고객들이 새로운 폴더블 스마트폰 갤...</td>\n",
       "      <td>2021-09-02</td>\n",
       "    </tr>\n",
       "    <tr>\n",
       "      <th>7</th>\n",
       "      <td>삼성전자, 고려대와 친환경 에너지 연구센터 설립 업무협약</td>\n",
       "      <td>http://news.mt.co.kr/mtview.php?no=20210901101...</td>\n",
       "      <td>이기수 삼성전자 생활가전사업부 부사장(왼쪽)과 김용찬 고려대 공과대학장이 지난 8월...</td>\n",
       "      <td>2021-09-02</td>\n",
       "    </tr>\n",
       "    <tr>\n",
       "      <th>8</th>\n",
       "      <td>KH바텍, 삼성전자 폴더블폰 돌풍 수혜…목표가 ↑-한국투자증권</td>\n",
       "      <td>http://news.mt.co.kr/mtview.php?no=20210831085...</td>\n",
       "      <td>12일 서울 서초구 삼성 딜라이트를 찾은 고객들이 새로운 폴더블 스마트폰 갤럭시Z폴...</td>\n",
       "      <td>2021-09-02</td>\n",
       "    </tr>\n",
       "    <tr>\n",
       "      <th>9</th>\n",
       "      <td>삼성전기, 장기 성장 궤도 진입…목표가 상향-IBK투자증권</td>\n",
       "      <td>http://news.mt.co.kr/mtview.php?no=20210902084...</td>\n",
       "      <td>MTIR sponsorIBK투자증권은 2일 삼성전기 (185,000원 500 0....</td>\n",
       "      <td>2021-09-02</td>\n",
       "    </tr>\n",
       "    <tr>\n",
       "      <th>10</th>\n",
       "      <td>삼성SDI, LG화학 제치고 배터리 대장주 '왕관'…비결은?</td>\n",
       "      <td>http://news.mt.co.kr/mtview.php?no=20210831160...</td>\n",
       "      <td>2020년 인터배터리에 참가한 삼성SDI삼성SDI (788,000원 5000 -0....</td>\n",
       "      <td>2021-09-02</td>\n",
       "    </tr>\n",
       "  </tbody>\n",
       "</table>\n",
       "</div>"
      ],
      "text/plain": [
       "                                      title  \\\n",
       "1          샤오미 최고라던 中 소비자들, 삼성 플립3 보더니 '반전'   \n",
       "2    8분기 연속 매출 기록 세우는 파운드리 시장…'공격적 투자' 삼성은?   \n",
       "3            '없어서 못 사' 삼성 폴더블폰 돌풍…부품株도 '훨훨'   \n",
       "4   14개월만에 노사 합의안 나온 르노삼성, 8월 판매 전년比 16.8%↑   \n",
       "5            상속 받은 이재용 부회장, 삼성그룹 지분 70% 늘었다   \n",
       "6           '갤Z플립' 주문 폭주에…삼성, 부품 공급선 확대 나섰다   \n",
       "7           삼성전자, 고려대와 친환경 에너지 연구센터 설립 업무협약   \n",
       "8        KH바텍, 삼성전자 폴더블폰 돌풍 수혜…목표가 ↑-한국투자증권   \n",
       "9          삼성전기, 장기 성장 궤도 진입…목표가 상향-IBK투자증권   \n",
       "10        삼성SDI, LG화학 제치고 배터리 대장주 '왕관'…비결은?   \n",
       "\n",
       "                                                  url  \\\n",
       "1   http://news.mt.co.kr/mtview.php?no=20210831140...   \n",
       "2   http://news.mt.co.kr/mtview.php?no=20210901161...   \n",
       "3   http://news.mt.co.kr/mtview.php?no=20210831161...   \n",
       "4   http://news.mt.co.kr/mtview.php?no=20210901155...   \n",
       "5   http://news.mt.co.kr/mtview.php?no=20210901103...   \n",
       "6   http://news.mt.co.kr/mtview.php?no=20210901092...   \n",
       "7   http://news.mt.co.kr/mtview.php?no=20210901101...   \n",
       "8   http://news.mt.co.kr/mtview.php?no=20210831085...   \n",
       "9   http://news.mt.co.kr/mtview.php?no=20210902084...   \n",
       "10  http://news.mt.co.kr/mtview.php?no=20210831160...   \n",
       "\n",
       "                                                 text        date  \n",
       "1   12일 서울 서초구 삼성 딜라이트를 찾은 고객들이 새로운 폴더블 스마트폰 갤럭시Z폴...  2021-09-02  \n",
       "2   삼성전자 화성 반도체 파운드리사업장 EUV(극자외선) V1 생산라인./사진제공=삼성...  2021-09-02  \n",
       "3   삼성전자 (76,800원 100 0.1%)의 폴더블폰 '갤럭시 Z폴드3'와 '갤럭시...  2021-09-02  \n",
       "4   르노삼성자동차 XM3르노삼성자동차가 지난 8월 전년 동월 대비 16.8% 증가한 8...  2021-09-02  \n",
       "5    [서울=뉴시스] 고범준 기자 = 이재용 삼성전자 부회장. 2021.08.26. b...  2021-09-02  \n",
       "6   지난달 12일 서울 서초구 삼성 딜라이트를 찾은 고객들이 새로운 폴더블 스마트폰 갤...  2021-09-02  \n",
       "7   이기수 삼성전자 생활가전사업부 부사장(왼쪽)과 김용찬 고려대 공과대학장이 지난 8월...  2021-09-02  \n",
       "8   12일 서울 서초구 삼성 딜라이트를 찾은 고객들이 새로운 폴더블 스마트폰 갤럭시Z폴...  2021-09-02  \n",
       "9    MTIR sponsorIBK투자증권은 2일 삼성전기 (185,000원 500 0....  2021-09-02  \n",
       "10  2020년 인터배터리에 참가한 삼성SDI삼성SDI (788,000원 5000 -0....  2021-09-02  "
      ]
     },
     "execution_count": 6,
     "metadata": {},
     "output_type": "execute_result"
    }
   ],
   "source": [
    "####### 언론사별 본문 위치 태그 파싱 함수 ###########\n",
    "print('본문 크롤링에 필요한 함수를 로딩하고 있습니다...\\n' + '-' * 100)\n",
    "\n",
    "\n",
    "def crawling_main_text(url):\n",
    "\n",
    "    req = requests.get(url)\n",
    "    req.encoding = None\n",
    "    soup = BeautifulSoup(req.text, 'html.parser')\n",
    "    dates = ''\n",
    "    res = [0 for i in range(2)]\n",
    "    \n",
    "    # 연합뉴스\n",
    "    if ('://yna' in url) | ('app.yonhapnews' in url): \n",
    "        main_article = soup.find('div', {'class':'story-news article'})\n",
    "        if main_article == None:\n",
    "            main_article = soup.find('div', {'class' : 'article-txt'})\n",
    "            \n",
    "        text = main_article.text\n",
    "        \n",
    "    # MBC \n",
    "    elif '//imnews.imbc' in url: \n",
    "        text = soup.find('div', {'itemprop' : 'articleBody'}).text\n",
    "        \n",
    "    # 매일경제(미라클), req.encoding = None 설정 필요\n",
    "    elif 'mirakle.mk' in url:\n",
    "        text = soup.find('div', {'class' : 'view_txt'}).text\n",
    "        \n",
    "    # 매일경제, req.encoding = None 설정 필요\n",
    "    elif 'mk.co' in url:\n",
    "        text = cleanhtml(str(soup))\n",
    "        text2 = soup.find('li', {'class' : 'lasttime'}).text\n",
    "        dates = re.sub(r'[^0-9]', '', text2)\n",
    "#         try:\n",
    "#             text = soup.find('div', {'class' : 'article_view'}).text\n",
    "#             text2 = soup.find('li', {'class' : 'lasttime'}).text\n",
    "#             dates = re.sub(r'[^0-9]', '', text2)\n",
    "#         except:\n",
    "#             html = urlopen(url)\n",
    "#             bsob = BeautifulSoup(html, 'html.parser')\n",
    "#             text = cleanhtml(str(bsob)).replace('\\n','')\n",
    "#             text2 = soup.find('li', {'class' : 'lasttime'}).text\n",
    "#             dates = re.sub(r'[^0-9]', '', text2)\n",
    "        \n",
    "    # SBS\n",
    "    elif 'news.sbs' in url:\n",
    "        text = soup.find('div', {'itemprop' : 'articleBody'}).text\n",
    "    \n",
    "    # KBS\n",
    "    elif 'news.kbs' in url:\n",
    "        text = soup.find('div', {'id' : 'cont_newstext'}).text\n",
    "        \n",
    "    # JTBC\n",
    "    elif 'news.jtbc' in url:\n",
    "        text = soup.find('div', {'class' : 'article_content'}).text\n",
    "        \n",
    "    # 머니투데이\n",
    "    elif 'news.mt' in url:\n",
    "        text = soup.find('div', {'class' : 'view_text'}).text\n",
    "        \n",
    "    # 그 외\n",
    "    else:\n",
    "        text == None\n",
    "        \n",
    "    res[0] = text.replace('\\n','').replace('\\r','').replace('<br>','').replace('\\t','')\n",
    "    res[1] = date[:10]\n",
    "    \n",
    "    return res\n",
    "\n",
    "\n",
    "press_nm = '머니투데이'\n",
    "\n",
    "print('검색할 언론사 : {}'.format(press_nm))\n",
    "\n",
    "\n",
    "############### 브라우저를 켜고 검색 키워드 입력 ####################\n",
    "query = input('검색할 키워드  : ')\n",
    "news_num = int(input('수집 뉴스의 수(숫자만 입력) : '))\n",
    "\n",
    "print('\\n' + '=' * 100 + '\\n')\n",
    "\n",
    "print('브라우저를 실행시킵니다(자동 제어)\\n')\n",
    "chrome_path = './webdriver/chromedriver.exe'\n",
    "browser = webdriver.Chrome(chrome_path)\n",
    "\n",
    "news_url = 'https://search.naver.com/search.naver?where=news&query={}'.format(query)\n",
    "browser.get(news_url)\n",
    "time.sleep(sleep_sec)\n",
    "\n",
    "\n",
    "\n",
    "######### 언론사 선택 및 confirm #####################\n",
    "print('설정한 언론사를 선택합니다.\\n')\n",
    "\n",
    "search_opn_btn = browser.find_element_by_xpath('//a[@class=\"btn_option _search_option_open_btn\"]')\n",
    "search_opn_btn.click()\n",
    "time.sleep(sleep_sec)\n",
    "\n",
    "bx_press = browser.find_element_by_xpath('//div[@role=\"listbox\" and @class=\"api_group_option_sort _search_option_detail_wrap\"]//li[@class=\"bx press\"]')\n",
    "\n",
    "# 기준 두번 째(언론사 분류순) 클릭하고 오픈하기\n",
    "press_tablist = bx_press.find_elements_by_xpath('.//div[@role=\"tablist\" and @class=\"option\"]/a')\n",
    "press_tablist[1].click()\n",
    "time.sleep(sleep_sec)\n",
    "\n",
    "# 첫 번째 것(언론사 분류선택)\n",
    "bx_group = bx_press.find_elements_by_xpath('.//div[@class=\"api_select_option type_group _category_select_layer\"]/div[@class=\"select_wrap _root\"]')[0]\n",
    "\n",
    "press_kind_bx = bx_group.find_elements_by_xpath('.//div[@class=\"group_select _list_root\"]')[0]\n",
    "press_kind_btn_list = press_kind_bx.find_elements_by_xpath('.//ul[@role=\"tablist\" and @class=\"lst_item _ul\"]/li/a')\n",
    "\n",
    "\n",
    "for press_kind_btn in press_kind_btn_list:\n",
    "    \n",
    "    # 언론사 종류를 순차적으로 클릭(좌측)\n",
    "    press_kind_btn.click()\n",
    "    time.sleep(sleep_sec)\n",
    "    \n",
    "    # 언론사선택(우측)\n",
    "    press_slct_bx = bx_group.find_elements_by_xpath('.//div[@class=\"group_select _list_root\"]')[1]\n",
    "    # 언론사 선택할 수 있는 클릭 버튼\n",
    "    press_slct_btn_list = press_slct_bx.find_elements_by_xpath('.//ul[@role=\"tablist\" and @class=\"lst_item _ul\"]/li/a')\n",
    "    # 언론사 이름들 추출\n",
    "    press_slct_btn_list_nm = [psl.text for psl in press_slct_btn_list]\n",
    "    \n",
    "    # 언론사 이름 : 언론사 클릭 버튼 인 딕셔너리 생성\n",
    "    press_slct_btn_dict = dict(zip(press_slct_btn_list_nm, press_slct_btn_list))\n",
    "    \n",
    "    # 원하는 언론사가 해당 이름 안에 있는 경우\n",
    "    # 1) 클릭하고\n",
    "    # 2) 더이상 언론사분류선택 탐색 중지\n",
    "    if press_nm in press_slct_btn_dict.keys():\n",
    "        print('<{}> 카테고리에서 <{}>를 찾았으므로 탐색을 종료합니다'.format(press_kind_btn.text, press_nm))\n",
    "        \n",
    "        press_slct_btn_dict[press_nm].click()\n",
    "        time.sleep(sleep_sec)\n",
    "        \n",
    "        break\n",
    "          \n",
    "################ 뉴스 크롤링 ########################\n",
    "\n",
    "print('\\n크롤링을 시작합니다.')\n",
    "# ####동적 제어로 페이지 넘어가며 크롤링\n",
    "news_dict = {}\n",
    "idx = 1\n",
    "cur_page = 1\n",
    "\n",
    "pbar = tqdm(total=news_num ,leave = True)\n",
    "    \n",
    "while idx < news_num:\n",
    "\n",
    "    table = browser.find_element_by_xpath('//ul[@class=\"list_news\"]')\n",
    "    li_list = table.find_elements_by_xpath('./li[contains(@id, \"sp_nws\")]')\n",
    "    area_list = [li.find_element_by_xpath('.//div[@class=\"news_area\"]') for li in li_list]\n",
    "    a_list = [area.find_element_by_xpath('.//a[@class=\"news_tit\"]') for area in area_list]\n",
    " \n",
    "    for n in a_list[:min(len(a_list), news_num-idx+1)]:\n",
    "        n_url = n.get_attribute('href')\n",
    "        news_dict[idx] = {'title' : n.get_attribute('title'), \n",
    "                          'url' : n_url,\n",
    "                          'text' : crawling_main_text(n_url)[0],\n",
    "                          'date' : crawling_main_text(n_url)[1]}\n",
    "        \n",
    "        idx += 1\n",
    "        pbar.update(1)\n",
    "        \n",
    "    if idx < news_num:\n",
    "        cur_page +=1\n",
    "\n",
    "        pages = browser.find_element_by_xpath('//div[@class=\"sc_page_inner\"]')\n",
    "        next_page_url = [p for p in pages.find_elements_by_xpath('.//a') if p.text == str(cur_page)][0].get_attribute('href')\n",
    "\n",
    "        browser.get(next_page_url)\n",
    "        time.sleep(sleep_sec)\n",
    "    else:\n",
    "        pbar.close()\n",
    "        \n",
    "        print('\\n브라우저를 종료합니다.\\n' + '=' * 100)\n",
    "        time.sleep(0.7)\n",
    "        browser.close()\n",
    "        break\n",
    "        \n",
    "#### 데이터 전처리하기 ###################################################### \n",
    "\n",
    "print('데이터프레임 변환\\n')\n",
    "news_df = DataFrame(news_dict).T\n",
    "\n",
    "folder_path = os.getcwd()\n",
    "xlsx_file_name = '네이버뉴스_본문_{}개_{}_{}.xlsx'.format(news_num, query, date)\n",
    "\n",
    "news_df.to_excel(xlsx_file_name)\n",
    "\n",
    "print('엑셀 저장 완료 | 경로 : {}\\\\{}\\n'.format(folder_path, xlsx_file_name))\n",
    "\n",
    "os.startfile(folder_path)\n",
    "\n",
    "print('=' * 100 + '\\n결과물의 일부')\n",
    "news_df"
   ]
  },
  {
   "cell_type": "code",
   "execution_count": 57,
   "id": "348a9836-d071-489b-981e-969135abee57",
   "metadata": {},
   "outputs": [],
   "source": [
    " for n in a_list[:min(len(a_list), news_num-idx+1)]:\n",
    "        n_url = n.get_attribute('href')\n",
    "        news_dict[idx] = {'title' : n.get_attribute('title'), \n",
    "                          'url' : n_url,\n",
    "                          'text' : crawling_main_text(n_url)}\n",
    "        \n",
    "        idx += 1\n",
    "        pbar.update(1)"
   ]
  },
  {
   "cell_type": "code",
   "execution_count": 58,
   "id": "8c71ac8e-ded0-463a-bfc6-5ed5aa21e23c",
   "metadata": {},
   "outputs": [
    {
     "data": {
      "text/plain": [
       "'http://news.mt.co.kr/mtview.php?no=2021083114085488949'"
      ]
     },
     "execution_count": 58,
     "metadata": {},
     "output_type": "execute_result"
    }
   ],
   "source": [
    "news_df['url'][1]"
   ]
  },
  {
   "cell_type": "code",
   "execution_count": 66,
   "id": "3eb36b79-49fc-438e-a572-1017243eea5c",
   "metadata": {},
   "outputs": [
    {
     "data": {
      "text/plain": [
       "'12일 서울 서초구 삼성 딜라이트를 찾은 고객들이 새로운 폴더블 스마트폰 갤럭시Z폴드3와 갤럭시Z플립3를 살펴보고 있다. 삼성전자의 갤럭시Z 폴드3와 갤럭시Z플립3는 오는 17일부터 23일까지 국내 사전 판매를 진행하며, 27일 한국, 미국, 유럽을 시작으로 전세계에 순차적으로 출시 예정이다. /사진=이기범 기자 leekb@한국투자증권은 31일 삼성전자의 폴더블폰 신제품이 인기몰이를 하면서 이에 힌지를 공급하는 KH바텍 (30,900원 2850 10.2%)의 수혜가 예상된다며 KH바텍의 목표주가를 기존 3만원에서 3만6000원으로 올렸다. 투자의견은 \\'매수\\'를 유지했다. KH바텍의 주가는 전날 종가 기준 2만7900원이다. 조철희 연구원은 \"삼성전자는 지난 11일 Z폴드3와 Z플립3를 공개했고, 이에 KH바텍의 주가도 이달 들어 26.2% 상승했다\"고 말했다.조 연구원은 \"삼성전자는 Z폴드3와 Z플립3의 예약판매 수량이 92만대를 기록했다고 밝혔는데 이는 갤럭시 노트 20의 1.3배, S21의 1.8배 수준\"이라고 말했다.Z폴드3와 Z플립3이 국내는 물론 중국, 인도, 미국 등에서도 좋은 시장 반응을 얻고 있는 만큼 한국투자증권은 올해 글로벌 폴더블폰 추정 출하량을 기존 890만대에서 990만대로 상향 조정했다. 삼성 신모델 기준으로는 850만대다. 내년 목표 출하량은 기존 1550만대에서 1750만대로 높였다. 조 연구원은 \"2023년에는 애플이 폴더블폰 시장에 진입해 시장 규모가 3000만대를 가뿐히 넘길 것\"이라며 \"삼성전자는 애플의 진출에 앞서 내년 폴더블폰 출하량을 크게 늘려 시장 선점에 나설 것\"이라고 예상했다. 이어 \"2023년부터 삼성전자와 애플의 양강 체제가 예상된다\"며 \"애플의 2023년 폴더블폰 첫해 출하량은 1500만대 이상이 될 것\"이라고 했다. 조 연구원은 \"KH바텍의 올해와 내년 EPS(주당순이익)를 각각 7.5%와 10.5% 올렸다\"며 \"올해와 내년 영업이익이 각각 전년 대비 591.1%와 103.4% 증가할 것\"이라고 말했다.                                                                <저작권자 © ‘돈이 보이는 리얼타임 뉴스’ 머니투데이, 무단전재 및 재배포 금지>                                공감                                            0%비공감                                            0%'"
      ]
     },
     "execution_count": 66,
     "metadata": {},
     "output_type": "execute_result"
    }
   ],
   "source": [
    "crawling_main_text('http://news.mt.co.kr/mtview.php?no=2021083108500081348')[0]"
   ]
  },
  {
   "cell_type": "code",
   "execution_count": null,
   "id": "6e87d853-ab91-4d8e-be53-edbedc0b7d7a",
   "metadata": {},
   "outputs": [],
   "source": []
  }
 ],
 "metadata": {
  "kernelspec": {
   "display_name": "Python Multi",
   "language": "python",
   "name": "multi"
  },
  "language_info": {
   "codemirror_mode": {
    "name": "ipython",
    "version": 3
   },
   "file_extension": ".py",
   "mimetype": "text/x-python",
   "name": "python",
   "nbconvert_exporter": "python",
   "pygments_lexer": "ipython3",
   "version": "3.7.6"
  }
 },
 "nbformat": 4,
 "nbformat_minor": 5
}
