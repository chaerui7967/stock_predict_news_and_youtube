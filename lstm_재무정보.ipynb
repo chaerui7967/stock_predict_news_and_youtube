{
  "nbformat": 4,
  "nbformat_minor": 5,
  "metadata": {
    "colab": {
      "name": "lstm_재무정보.ipynb",
      "provenance": [],
      "collapsed_sections": [],
      "include_colab_link": true
    },
    "kernelspec": {
      "display_name": "Python 3",
      "language": "python",
      "name": "python3"
    },
    "language_info": {
      "codemirror_mode": {
        "name": "ipython",
        "version": 3
      },
      "file_extension": ".py",
      "mimetype": "text/x-python",
      "name": "python",
      "nbconvert_exporter": "python",
      "pygments_lexer": "ipython3",
      "version": "3.6.9"
    },
    "accelerator": "GPU"
  },
  "cells": [
    {
      "cell_type": "markdown",
      "metadata": {
        "id": "view-in-github",
        "colab_type": "text"
      },
      "source": [
        "<a href=\"https://colab.research.google.com/github/chaerui7967/stock_predict_news_and_youtube/blob/master/lstm_%EC%9E%AC%EB%AC%B4%EC%A0%95%EB%B3%B4.ipynb\" target=\"_parent\"><img src=\"https://colab.research.google.com/assets/colab-badge.svg\" alt=\"Open In Colab\"/></a>"
      ]
    },
    {
      "cell_type": "markdown",
      "metadata": {
        "id": "zJetFXqNQyZ7"
      },
      "source": [
        "# 재무지표를 포함한 lstm 종가 예측"
      ],
      "id": "zJetFXqNQyZ7"
    },
    {
      "cell_type": "code",
      "metadata": {
        "collapsed": true,
        "id": "e1a99245"
      },
      "source": [
        "# 필요 라이브러리 설치\n",
        "!pip install finance-datareader\n",
        "!pip install opendartreader\n",
        "!pip install --upgrade opendartreader"
      ],
      "id": "e1a99245",
      "execution_count": null,
      "outputs": []
    },
    {
      "cell_type": "code",
      "metadata": {
        "id": "1cefa3e5"
      },
      "source": [
        "# 필요 라이브러리\n",
        "import pandas as pd\n",
        "import os\n",
        "import matplotlib.pyplot as plt\n",
        "import seaborn as sns\n",
        "import warnings\n",
        "warnings.filterwarnings('ignore')\n",
        "\n",
        "# 주식가격 로딩\n",
        "import FinanceDataReader as fdr\n",
        "\n",
        "# 재무재표 로딩\n",
        "import OpenDartReader\n",
        "\n",
        "import datetime"
      ],
      "id": "1cefa3e5",
      "execution_count": 8,
      "outputs": []
    },
    {
      "cell_type": "markdown",
      "metadata": {
        "id": "JqAcLOiJQuzw"
      },
      "source": [
        "## 재무 지표 및 주식 데이터 로드"
      ],
      "id": "JqAcLOiJQuzw"
    },
    {
      "cell_type": "code",
      "metadata": {
        "id": "v0gnviaqPpIe"
      },
      "source": [
        "def pro_equ(code, start, end):\n",
        "    # OpenDartReader 사용\n",
        "    api_key = '9b9157d4313a84f3141d73f879c5d239d49bb0ce'\n",
        "    dart = OpenDartReader(api_key)\n",
        "    arr = [] # 재무 정보\n",
        "    index = [] # 계산지표\n",
        "    \n",
        "    # 주식정보\n",
        "    if type(code) != str:\n",
        "        code = str(code).zfill(6)       \n",
        "    \n",
        "    if type(start) != str:\n",
        "        start = str(start)\n",
        "    \n",
        "    if type(end) != str:\n",
        "        end = str(end)\n",
        "        \n",
        "    stock = fdr.DataReader(code, start = str(int(start)+1), end = end)  # 2021 지표 <- 2020,2019 데이터로 만듬\n",
        "    stock = stock.reset_index()\n",
        "    stock['PER'] = 0.1\n",
        "    stock['PBR'] = 0.1\n",
        "    stock['ROE'] = 0.1\n",
        "    stock['ROA'] = 0.1\n",
        "    \n",
        "    #         ------------------------\n",
        "    \n",
        "    small = dart.report('005930', '소액주주', int(datetime.datetime.now().strftime(\"%Y\"))-1, reprt_code=11014)\n",
        "    stock_tot_co = int(small['stock_tot_co'].str.replace(',', '')) # 총 발행 주식 수\n",
        "    \n",
        "    for i in range(int(start[:4]), int(end[:4])):\n",
        "        # https://opendart.fss.or.kr/guide/detail.do?apiGrpCd=DS003&apiId=2019016 --> 입력변수 명 참고\n",
        "        # corp: 종목코드, bsns_year: 사업연도, reprt_code: 보고서코드\n",
        "        # (1분기보고서 : 11013, 반기보고서 : 11012, 3분기보고서 : 11014, 사업보고서 : 11011)\n",
        "        fs_before = dart.finstate_all(corp = code, bsns_year= str(i-1), fs_div='CFS', reprt_code=11011) \n",
        "        fs_present = dart.finstate_all(corp = code, bsns_year= i, fs_div='CFS', reprt_code=11014)\n",
        "\n",
        "        # 자본, 부채는 당기 금액('thstrm_amount') 값을 통해서 구함\n",
        "#         equity = int(fs_present.loc[fs_present['sj_div'].isin(['BS']) & fs_present['account_id'].isin(['ifrs-full_Equity']), 'thstrm_amount'].replace(\",\", \"\")) # 당기자본(자본총계)\n",
        "        equity = int(fs_present.loc[fs_present['sj_div'].isin(['BS']) & fs_present['account_nm'].isin(['자본총계']), 'thstrm_amount'])\n",
        "    \n",
        "#         liability = int(fs_present.loc[fs_present['sj_div'].isin(['BS']) & fs_present['account_id'].isin(['ifrs-full_Liabilities']), 'thstrm_amount'].replace(\",\", \"\")) # 당기부채(부채총계)\n",
        "        liability = int(fs_present.loc[fs_present['sj_div'].isin(['BS']) & fs_present['account_nm'].isin(['부채총계']), 'thstrm_amount'].replace(\",\", \"\"))\n",
        "        # 자산 총계\n",
        "        assets = equity + liability\n",
        "        \n",
        "        # <예시>\n",
        "        # 2019 4분기 ~ 2020 3분기까지의 당기순이익의 합을 구하려면 2019년 4분기 당기순이익과 2020년 1분기 ~ 3분기 당기순이익의 합을 알아여함\n",
        "        # 2020년 1분기 ~ 3분기 당기순이익의 합은 2020년 3분기 손익계산서에서 'thstrm_add_amount' 값을 가져오면 되고\n",
        "        # 2019년 4분기 당기순이익은 2019년 전체 당기순이익에서 2019년 1분기 ~ 3분기 당기순이익의 합을 빼서 구할 수 있음\n",
        "        \n",
        "        # frmtrm_add_amount --> 전기 금액, thstrm_amount ---> 당기 금액, thstrm_add_amount --> 당기 누적금액\n",
        "#         profit_before_3Q = int(fs_present.loc[fs_present['sj_div'].isin(['IS']) & fs_present['account_id'].isin(['ifrs-full_ProfitLossAttributableToOwnersOfParent']), 'frmtrm_add_amount'].replace(\",\", \"\")) # 당기순이익\n",
        "        profit_before_3Q = int(fs_present.loc[fs_present['sj_div'].isin(['IS']) & fs_present['account_nm'].isin(['지배기업의 소유주에게 귀속되는 당기순이익(손실)']), 'frmtrm_add_amount'].replace(\",\", \"\"))\n",
        "        \n",
        "#         profit_before = int(fs_before.loc[fs_before['sj_div'].isin(['IS']) & fs_before['account_id'].isin(['ifrs-full_ProfitLossAttributableToOwnersOfParent']), 'thstrm_amount'].replace(\",\", \"\")) # 당기순이익\n",
        "        profit_before = int(fs_before.loc[fs_before['sj_div'].isin(['IS']) & fs_before['account_nm'].isin(['지배기업의 소유주에게 귀속되는 당기순이익(손실)']), 'thstrm_amount'].replace(\",\", \"\"))\n",
        "        \n",
        "#         profit_present = int(fs_present.loc[fs_present['sj_div'].isin(['IS']) & fs_present['account_id'].isin(['ifrs-full_ProfitLossAttributableToOwnersOfParent']), 'thstrm_add_amount'].replace(\",\", \"\")) # 당기순이익\n",
        "        profit_present = int(fs_present.loc[fs_present['sj_div'].isin(['IS']) & fs_present['account_nm'].isin(['지배기업의 소유주에게 귀속되는 당기순이익(손실)']), 'thstrm_add_amount'].replace(\",\", \"\")) # 당기순이익\n",
        "        \n",
        "        profit = (profit_before-profit_before_3Q) + profit_present\n",
        "        \n",
        "        a = (equity, liability, assets, profit, stock_tot_co) \n",
        "        # 자본총계(당기자본), 부채총계(당기부채), 자산총계, 당기 순이익, 총 발행 주식수\n",
        "        arr.append(a)\n",
        "        \n",
        "#         - PER(주가 수익률) : 주가를 1주당 순이익(EPS)로 나눈 값\n",
        "#         - PBR(주가 순자산 비율) : 주가를 1주당 순자산가치로 나눈 값\n",
        "#         - ROE(자기자본이익률) : 당기순이익을 순자산(자기자본)으로 나눈 값\n",
        "#         - ROA(총자산수익률) : 당기순이익을 자산총액으로 나눈 값\n",
        "        \n",
        "#         print(stock[stock['Date'].dt.year == i]['Close'])\n",
        "            \n",
        "        \n",
        "        ROA = profit/assets\n",
        "        stock.loc[stock['Date'].dt.year == i+1,'ROA'] = ROA\n",
        "        \n",
        "        EPS = profit/stock_tot_co\n",
        "        PER = stock.loc[stock['Date'].dt.year == i+1,'Close']/EPS\n",
        "        \n",
        "#         PER = stock[stock['Date'].dt.year == i+1]['Close']/EPS\n",
        "        \n",
        "        BPS = equity/stock_tot_co\n",
        "        PBR = stock.loc[stock['Date'].dt.year == i+1, 'Close']/BPS\n",
        "#         PBR = stock[stock['Date'].dt.year == i+1]['Close']/BPS\n",
        "        \n",
        "        for i in PER.index:\n",
        "            stock['PER'][i] = PER[i]\n",
        "            stock['PBR'][i] = PBR[i]\n",
        "        \n",
        "        b = (EPS,BPS)\n",
        "        # EPS: 순이익/총발행주식수 --> 개당 이익률?\n",
        "        # BPS: 순자산/총발행 주식수 --> 개당 자산?\n",
        "        \n",
        "        index.append(b)\n",
        "        \n",
        "    stock['ROE'] = stock['PBR']/stock['PER']\n",
        "    \n",
        "    return arr,index, stock"
      ],
      "id": "v0gnviaqPpIe",
      "execution_count": 3,
      "outputs": []
    },
    {
      "cell_type": "code",
      "metadata": {
        "id": "a0e1b87e"
      },
      "source": [
        "end_date = datetime.datetime.now().strftime(\"%Y%m%d\")\n",
        "arr, indexs, df = pro_equ(5930,2017,end_date)"
      ],
      "id": "a0e1b87e",
      "execution_count": 9,
      "outputs": []
    },
    {
      "cell_type": "code",
      "metadata": {
        "colab": {
          "base_uri": "https://localhost:8080/"
        },
        "id": "8f222140",
        "outputId": "1d84e50c-439d-40f8-944a-cd491e9250ce"
      },
      "source": [
        "arr"
      ],
      "id": "8f222140",
      "execution_count": 10,
      "outputs": [
        {
          "output_type": "execute_result",
          "data": {
            "text/plain": [
              "[(210691251000000,\n",
              "  85887328000000,\n",
              "  296578579000000,\n",
              "  36245426000000,\n",
              "  5969782550),\n",
              " (242103160000000,\n",
              "  95092626000000,\n",
              "  337195786000000,\n",
              "  47577132000000,\n",
              "  5969782550),\n",
              " (263442244000000,\n",
              "  89943741000000,\n",
              "  353385985000000,\n",
              "  24607128000000,\n",
              "  5969782550),\n",
              " (276136188000000,\n",
              "  99652554000000,\n",
              "  375788742000000,\n",
              "  24873372000000,\n",
              "  5969782550)]"
            ]
          },
          "metadata": {},
          "execution_count": 10
        }
      ]
    },
    {
      "cell_type": "code",
      "metadata": {
        "colab": {
          "base_uri": "https://localhost:8080/"
        },
        "id": "Gpwg01rFQNpF",
        "outputId": "32628b1a-d751-4de0-97d9-3b39dc7607e2"
      },
      "source": [
        "indexs"
      ],
      "id": "Gpwg01rFQNpF",
      "execution_count": 11,
      "outputs": [
        {
          "output_type": "execute_result",
          "data": {
            "text/plain": [
              "[(6071.481782866614, 35292.952337099785),\n",
              " (7969.659129376496, 40554.77029058621),\n",
              " (4121.947121842822, 44129.28641764347),\n",
              " (4166.54573121763, 46255.65264517047)]"
            ]
          },
          "metadata": {},
          "execution_count": 11
        }
      ]
    },
    {
      "cell_type": "code",
      "metadata": {
        "colab": {
          "base_uri": "https://localhost:8080/",
          "height": 417
        },
        "id": "MSSNNtJIQNkH",
        "outputId": "2c48eeb5-ffd8-45f9-a5f7-e702f9ce4306"
      },
      "source": [
        "df"
      ],
      "id": "MSSNNtJIQNkH",
      "execution_count": 12,
      "outputs": [
        {
          "output_type": "execute_result",
          "data": {
            "text/html": [
              "<div>\n",
              "<style scoped>\n",
              "    .dataframe tbody tr th:only-of-type {\n",
              "        vertical-align: middle;\n",
              "    }\n",
              "\n",
              "    .dataframe tbody tr th {\n",
              "        vertical-align: top;\n",
              "    }\n",
              "\n",
              "    .dataframe thead th {\n",
              "        text-align: right;\n",
              "    }\n",
              "</style>\n",
              "<table border=\"1\" class=\"dataframe\">\n",
              "  <thead>\n",
              "    <tr style=\"text-align: right;\">\n",
              "      <th></th>\n",
              "      <th>Date</th>\n",
              "      <th>Open</th>\n",
              "      <th>High</th>\n",
              "      <th>Low</th>\n",
              "      <th>Close</th>\n",
              "      <th>Volume</th>\n",
              "      <th>Change</th>\n",
              "      <th>PER</th>\n",
              "      <th>PBR</th>\n",
              "      <th>ROE</th>\n",
              "      <th>ROA</th>\n",
              "    </tr>\n",
              "  </thead>\n",
              "  <tbody>\n",
              "    <tr>\n",
              "      <th>0</th>\n",
              "      <td>2018-01-02</td>\n",
              "      <td>51380</td>\n",
              "      <td>51400</td>\n",
              "      <td>50780</td>\n",
              "      <td>51020</td>\n",
              "      <td>169485</td>\n",
              "      <td>0.001177</td>\n",
              "      <td>8.403220</td>\n",
              "      <td>1.445614</td>\n",
              "      <td>0.172031</td>\n",
              "      <td>0.122212</td>\n",
              "    </tr>\n",
              "    <tr>\n",
              "      <th>1</th>\n",
              "      <td>2018-01-03</td>\n",
              "      <td>52540</td>\n",
              "      <td>52560</td>\n",
              "      <td>51420</td>\n",
              "      <td>51620</td>\n",
              "      <td>200270</td>\n",
              "      <td>0.011760</td>\n",
              "      <td>8.502043</td>\n",
              "      <td>1.462615</td>\n",
              "      <td>0.172031</td>\n",
              "      <td>0.122212</td>\n",
              "    </tr>\n",
              "    <tr>\n",
              "      <th>2</th>\n",
              "      <td>2018-01-04</td>\n",
              "      <td>52120</td>\n",
              "      <td>52180</td>\n",
              "      <td>50640</td>\n",
              "      <td>51080</td>\n",
              "      <td>233909</td>\n",
              "      <td>-0.010461</td>\n",
              "      <td>8.413103</td>\n",
              "      <td>1.447314</td>\n",
              "      <td>0.172031</td>\n",
              "      <td>0.122212</td>\n",
              "    </tr>\n",
              "    <tr>\n",
              "      <th>3</th>\n",
              "      <td>2018-01-05</td>\n",
              "      <td>51300</td>\n",
              "      <td>52120</td>\n",
              "      <td>51200</td>\n",
              "      <td>52120</td>\n",
              "      <td>189623</td>\n",
              "      <td>0.020360</td>\n",
              "      <td>8.584395</td>\n",
              "      <td>1.476782</td>\n",
              "      <td>0.172031</td>\n",
              "      <td>0.122212</td>\n",
              "    </tr>\n",
              "    <tr>\n",
              "      <th>4</th>\n",
              "      <td>2018-01-08</td>\n",
              "      <td>52400</td>\n",
              "      <td>52520</td>\n",
              "      <td>51500</td>\n",
              "      <td>52020</td>\n",
              "      <td>167673</td>\n",
              "      <td>-0.001919</td>\n",
              "      <td>8.567925</td>\n",
              "      <td>1.473949</td>\n",
              "      <td>0.172031</td>\n",
              "      <td>0.122212</td>\n",
              "    </tr>\n",
              "    <tr>\n",
              "      <th>...</th>\n",
              "      <td>...</td>\n",
              "      <td>...</td>\n",
              "      <td>...</td>\n",
              "      <td>...</td>\n",
              "      <td>...</td>\n",
              "      <td>...</td>\n",
              "      <td>...</td>\n",
              "      <td>...</td>\n",
              "      <td>...</td>\n",
              "      <td>...</td>\n",
              "      <td>...</td>\n",
              "    </tr>\n",
              "    <tr>\n",
              "      <th>907</th>\n",
              "      <td>2021-09-06</td>\n",
              "      <td>76800</td>\n",
              "      <td>77600</td>\n",
              "      <td>76600</td>\n",
              "      <td>77300</td>\n",
              "      <td>12861180</td>\n",
              "      <td>0.009138</td>\n",
              "      <td>18.552538</td>\n",
              "      <td>1.671147</td>\n",
              "      <td>0.090076</td>\n",
              "      <td>0.066190</td>\n",
              "    </tr>\n",
              "    <tr>\n",
              "      <th>908</th>\n",
              "      <td>2021-09-07</td>\n",
              "      <td>77100</td>\n",
              "      <td>77100</td>\n",
              "      <td>75900</td>\n",
              "      <td>76100</td>\n",
              "      <td>13239401</td>\n",
              "      <td>-0.015524</td>\n",
              "      <td>18.264530</td>\n",
              "      <td>1.645204</td>\n",
              "      <td>0.090076</td>\n",
              "      <td>0.066190</td>\n",
              "    </tr>\n",
              "    <tr>\n",
              "      <th>909</th>\n",
              "      <td>2021-09-08</td>\n",
              "      <td>76000</td>\n",
              "      <td>76400</td>\n",
              "      <td>75600</td>\n",
              "      <td>76300</td>\n",
              "      <td>11798147</td>\n",
              "      <td>0.002628</td>\n",
              "      <td>18.312532</td>\n",
              "      <td>1.649528</td>\n",
              "      <td>0.090076</td>\n",
              "      <td>0.066190</td>\n",
              "    </tr>\n",
              "    <tr>\n",
              "      <th>910</th>\n",
              "      <td>2021-09-09</td>\n",
              "      <td>76400</td>\n",
              "      <td>76600</td>\n",
              "      <td>75000</td>\n",
              "      <td>75300</td>\n",
              "      <td>17600770</td>\n",
              "      <td>-0.013106</td>\n",
              "      <td>18.072525</td>\n",
              "      <td>1.627909</td>\n",
              "      <td>0.090076</td>\n",
              "      <td>0.066190</td>\n",
              "    </tr>\n",
              "    <tr>\n",
              "      <th>911</th>\n",
              "      <td>2021-09-10</td>\n",
              "      <td>75300</td>\n",
              "      <td>75600</td>\n",
              "      <td>74800</td>\n",
              "      <td>75300</td>\n",
              "      <td>8561407</td>\n",
              "      <td>0.000000</td>\n",
              "      <td>18.072525</td>\n",
              "      <td>1.627909</td>\n",
              "      <td>0.090076</td>\n",
              "      <td>0.066190</td>\n",
              "    </tr>\n",
              "  </tbody>\n",
              "</table>\n",
              "<p>912 rows × 11 columns</p>\n",
              "</div>"
            ],
            "text/plain": [
              "          Date   Open   High    Low  ...        PER       PBR       ROE       ROA\n",
              "0   2018-01-02  51380  51400  50780  ...   8.403220  1.445614  0.172031  0.122212\n",
              "1   2018-01-03  52540  52560  51420  ...   8.502043  1.462615  0.172031  0.122212\n",
              "2   2018-01-04  52120  52180  50640  ...   8.413103  1.447314  0.172031  0.122212\n",
              "3   2018-01-05  51300  52120  51200  ...   8.584395  1.476782  0.172031  0.122212\n",
              "4   2018-01-08  52400  52520  51500  ...   8.567925  1.473949  0.172031  0.122212\n",
              "..         ...    ...    ...    ...  ...        ...       ...       ...       ...\n",
              "907 2021-09-06  76800  77600  76600  ...  18.552538  1.671147  0.090076  0.066190\n",
              "908 2021-09-07  77100  77100  75900  ...  18.264530  1.645204  0.090076  0.066190\n",
              "909 2021-09-08  76000  76400  75600  ...  18.312532  1.649528  0.090076  0.066190\n",
              "910 2021-09-09  76400  76600  75000  ...  18.072525  1.627909  0.090076  0.066190\n",
              "911 2021-09-10  75300  75600  74800  ...  18.072525  1.627909  0.090076  0.066190\n",
              "\n",
              "[912 rows x 11 columns]"
            ]
          },
          "metadata": {},
          "execution_count": 12
        }
      ]
    },
    {
      "cell_type": "markdown",
      "metadata": {
        "id": "I9WO7FARRsTP"
      },
      "source": [
        "## 데이터 전처리"
      ],
      "id": "I9WO7FARRsTP"
    },
    {
      "cell_type": "code",
      "metadata": {
        "id": "FaT4pOXpRsED"
      },
      "source": [
        "df1 = df.drop(columns=['Date'],axis = 1)"
      ],
      "id": "FaT4pOXpRsED",
      "execution_count": 14,
      "outputs": []
    },
    {
      "cell_type": "code",
      "metadata": {
        "colab": {
          "base_uri": "https://localhost:8080/"
        },
        "id": "szjcWnMnRsAc",
        "outputId": "55d452d3-4d42-4b60-ae0a-11b1a1104063"
      },
      "source": [
        "from sklearn.preprocessing import MinMaxScaler\n",
        "from sklearn.model_selection import train_test_split\n",
        "\n",
        "scaler = MinMaxScaler()\n",
        "scale_cols = list(df1.columns)\n",
        "# 스케일 후 columns\n",
        "scaled = scaler.fit_transform(df1[scale_cols])\n",
        "scaled"
      ],
      "id": "szjcWnMnRsAc",
      "execution_count": 18,
      "outputs": [
        {
          "output_type": "execute_result",
          "data": {
            "text/plain": [
              "array([[5.68992248e-01, 5.30991736e-01, 5.67374302e-01, ...,\n",
              "        5.00219916e-01, 7.69963641e-01, 7.47891935e-01],\n",
              "       [5.81838317e-01, 5.42975207e-01, 5.74525140e-01, ...,\n",
              "        5.16505779e-01, 7.69963641e-01, 7.47891935e-01],\n",
              "       [5.77187154e-01, 5.39049587e-01, 5.65810056e-01, ...,\n",
              "        5.01848502e-01, 7.69963641e-01, 7.47891935e-01],\n",
              "       ...,\n",
              "       [8.41638981e-01, 7.89256198e-01, 8.44692737e-01, ...,\n",
              "        6.95561175e-01, 1.11022302e-16, 0.00000000e+00],\n",
              "       [8.46068660e-01, 7.91322314e-01, 8.37988827e-01, ...,\n",
              "        6.74851050e-01, 1.11022302e-16, 0.00000000e+00],\n",
              "       [8.33887043e-01, 7.80991736e-01, 8.35754190e-01, ...,\n",
              "        6.74851050e-01, 1.11022302e-16, 0.00000000e+00]])"
            ]
          },
          "metadata": {},
          "execution_count": 18
        }
      ]
    },
    {
      "cell_type": "code",
      "metadata": {
        "colab": {
          "base_uri": "https://localhost:8080/",
          "height": 417
        },
        "id": "qUza0jbtRr91",
        "outputId": "4b66b2bc-1662-49aa-c8c2-3f2a089f4a25"
      },
      "source": [
        "df1 = pd.DataFrame(scaled, columns=scale_cols)\n",
        "df1"
      ],
      "id": "qUza0jbtRr91",
      "execution_count": 19,
      "outputs": [
        {
          "output_type": "execute_result",
          "data": {
            "text/html": [
              "<div>\n",
              "<style scoped>\n",
              "    .dataframe tbody tr th:only-of-type {\n",
              "        vertical-align: middle;\n",
              "    }\n",
              "\n",
              "    .dataframe tbody tr th {\n",
              "        vertical-align: top;\n",
              "    }\n",
              "\n",
              "    .dataframe thead th {\n",
              "        text-align: right;\n",
              "    }\n",
              "</style>\n",
              "<table border=\"1\" class=\"dataframe\">\n",
              "  <thead>\n",
              "    <tr style=\"text-align: right;\">\n",
              "      <th></th>\n",
              "      <th>Open</th>\n",
              "      <th>High</th>\n",
              "      <th>Low</th>\n",
              "      <th>Close</th>\n",
              "      <th>Volume</th>\n",
              "      <th>Change</th>\n",
              "      <th>PER</th>\n",
              "      <th>PBR</th>\n",
              "      <th>ROE</th>\n",
              "      <th>ROA</th>\n",
              "    </tr>\n",
              "  </thead>\n",
              "  <tbody>\n",
              "    <tr>\n",
              "      <th>0</th>\n",
              "      <td>0.568992</td>\n",
              "      <td>0.530992</td>\n",
              "      <td>0.567374</td>\n",
              "      <td>0.253408</td>\n",
              "      <td>0.001877</td>\n",
              "      <td>0.385888</td>\n",
              "      <td>0.216092</td>\n",
              "      <td>0.500220</td>\n",
              "      <td>7.699636e-01</td>\n",
              "      <td>0.747892</td>\n",
              "    </tr>\n",
              "    <tr>\n",
              "      <th>1</th>\n",
              "      <td>0.581838</td>\n",
              "      <td>0.542975</td>\n",
              "      <td>0.574525</td>\n",
              "      <td>0.264613</td>\n",
              "      <td>0.002218</td>\n",
              "      <td>0.448663</td>\n",
              "      <td>0.221857</td>\n",
              "      <td>0.516506</td>\n",
              "      <td>7.699636e-01</td>\n",
              "      <td>0.747892</td>\n",
              "    </tr>\n",
              "    <tr>\n",
              "      <th>2</th>\n",
              "      <td>0.577187</td>\n",
              "      <td>0.539050</td>\n",
              "      <td>0.565810</td>\n",
              "      <td>0.254528</td>\n",
              "      <td>0.002590</td>\n",
              "      <td>0.316851</td>\n",
              "      <td>0.216668</td>\n",
              "      <td>0.501849</td>\n",
              "      <td>7.699636e-01</td>\n",
              "      <td>0.747892</td>\n",
              "    </tr>\n",
              "    <tr>\n",
              "      <th>3</th>\n",
              "      <td>0.568106</td>\n",
              "      <td>0.538430</td>\n",
              "      <td>0.572067</td>\n",
              "      <td>0.273950</td>\n",
              "      <td>0.002100</td>\n",
              "      <td>0.499677</td>\n",
              "      <td>0.226661</td>\n",
              "      <td>0.530077</td>\n",
              "      <td>7.699636e-01</td>\n",
              "      <td>0.747892</td>\n",
              "    </tr>\n",
              "    <tr>\n",
              "      <th>4</th>\n",
              "      <td>0.580288</td>\n",
              "      <td>0.542562</td>\n",
              "      <td>0.575419</td>\n",
              "      <td>0.272082</td>\n",
              "      <td>0.001857</td>\n",
              "      <td>0.367523</td>\n",
              "      <td>0.225700</td>\n",
              "      <td>0.527363</td>\n",
              "      <td>7.699636e-01</td>\n",
              "      <td>0.747892</td>\n",
              "    </tr>\n",
              "    <tr>\n",
              "      <th>...</th>\n",
              "      <td>...</td>\n",
              "      <td>...</td>\n",
              "      <td>...</td>\n",
              "      <td>...</td>\n",
              "      <td>...</td>\n",
              "      <td>...</td>\n",
              "      <td>...</td>\n",
              "      <td>...</td>\n",
              "      <td>...</td>\n",
              "      <td>...</td>\n",
              "    </tr>\n",
              "    <tr>\n",
              "      <th>907</th>\n",
              "      <td>0.850498</td>\n",
              "      <td>0.801653</td>\n",
              "      <td>0.855866</td>\n",
              "      <td>0.744164</td>\n",
              "      <td>0.142418</td>\n",
              "      <td>0.433111</td>\n",
              "      <td>0.808180</td>\n",
              "      <td>0.716271</td>\n",
              "      <td>1.110223e-16</td>\n",
              "      <td>0.000000</td>\n",
              "    </tr>\n",
              "    <tr>\n",
              "      <th>908</th>\n",
              "      <td>0.853821</td>\n",
              "      <td>0.796488</td>\n",
              "      <td>0.848045</td>\n",
              "      <td>0.721755</td>\n",
              "      <td>0.146606</td>\n",
              "      <td>0.286819</td>\n",
              "      <td>0.791378</td>\n",
              "      <td>0.691419</td>\n",
              "      <td>1.110223e-16</td>\n",
              "      <td>0.000000</td>\n",
              "    </tr>\n",
              "    <tr>\n",
              "      <th>909</th>\n",
              "      <td>0.841639</td>\n",
              "      <td>0.789256</td>\n",
              "      <td>0.844693</td>\n",
              "      <td>0.725490</td>\n",
              "      <td>0.130646</td>\n",
              "      <td>0.394494</td>\n",
              "      <td>0.794178</td>\n",
              "      <td>0.695561</td>\n",
              "      <td>1.110223e-16</td>\n",
              "      <td>0.000000</td>\n",
              "    </tr>\n",
              "    <tr>\n",
              "      <th>910</th>\n",
              "      <td>0.846069</td>\n",
              "      <td>0.791322</td>\n",
              "      <td>0.837989</td>\n",
              "      <td>0.706816</td>\n",
              "      <td>0.194901</td>\n",
              "      <td>0.301161</td>\n",
              "      <td>0.780177</td>\n",
              "      <td>0.674851</td>\n",
              "      <td>1.110223e-16</td>\n",
              "      <td>0.000000</td>\n",
              "    </tr>\n",
              "    <tr>\n",
              "      <th>911</th>\n",
              "      <td>0.833887</td>\n",
              "      <td>0.780992</td>\n",
              "      <td>0.835754</td>\n",
              "      <td>0.706816</td>\n",
              "      <td>0.094804</td>\n",
              "      <td>0.378904</td>\n",
              "      <td>0.780177</td>\n",
              "      <td>0.674851</td>\n",
              "      <td>1.110223e-16</td>\n",
              "      <td>0.000000</td>\n",
              "    </tr>\n",
              "  </tbody>\n",
              "</table>\n",
              "<p>912 rows × 10 columns</p>\n",
              "</div>"
            ],
            "text/plain": [
              "         Open      High       Low  ...       PBR           ROE       ROA\n",
              "0    0.568992  0.530992  0.567374  ...  0.500220  7.699636e-01  0.747892\n",
              "1    0.581838  0.542975  0.574525  ...  0.516506  7.699636e-01  0.747892\n",
              "2    0.577187  0.539050  0.565810  ...  0.501849  7.699636e-01  0.747892\n",
              "3    0.568106  0.538430  0.572067  ...  0.530077  7.699636e-01  0.747892\n",
              "4    0.580288  0.542562  0.575419  ...  0.527363  7.699636e-01  0.747892\n",
              "..        ...       ...       ...  ...       ...           ...       ...\n",
              "907  0.850498  0.801653  0.855866  ...  0.716271  1.110223e-16  0.000000\n",
              "908  0.853821  0.796488  0.848045  ...  0.691419  1.110223e-16  0.000000\n",
              "909  0.841639  0.789256  0.844693  ...  0.695561  1.110223e-16  0.000000\n",
              "910  0.846069  0.791322  0.837989  ...  0.674851  1.110223e-16  0.000000\n",
              "911  0.833887  0.780992  0.835754  ...  0.674851  1.110223e-16  0.000000\n",
              "\n",
              "[912 rows x 10 columns]"
            ]
          },
          "metadata": {},
          "execution_count": 19
        }
      ]
    },
    {
      "cell_type": "code",
      "metadata": {
        "colab": {
          "base_uri": "https://localhost:8080/"
        },
        "id": "oBfo4Z1BQPuZ",
        "outputId": "2a56d5c1-2168-4a0b-bf94-5ca2179c3c52"
      },
      "source": [
        "x_train, x_test, y_train, y_test = train_test_split(df1.drop('Close', 1), df1['Close'], test_size=0.2, random_state=0, shuffle=False)\n",
        "\n",
        "x_train.shape, y_train.shape"
      ],
      "id": "oBfo4Z1BQPuZ",
      "execution_count": 20,
      "outputs": [
        {
          "output_type": "execute_result",
          "data": {
            "text/plain": [
              "((729, 9), (729,))"
            ]
          },
          "metadata": {},
          "execution_count": 20
        }
      ]
    },
    {
      "cell_type": "code",
      "metadata": {
        "id": "TrZdsGe_TX7D"
      },
      "source": [
        "import tensorflow as tf\n",
        "\n",
        "def windowed_dataset(series, window_size, batch_size, shuffle):\n",
        "    series = tf.expand_dims(series, axis=-1)\n",
        "    ds = tf.data.Dataset.from_tensor_slices(series)\n",
        "    ds = ds.window(window_size + 1, shift=1, drop_remainder=True)\n",
        "    ds = ds.flat_map(lambda w: w.batch(window_size + 1))\n",
        "    if shuffle:\n",
        "        ds = ds.shuffle(1000)\n",
        "    ds = ds.map(lambda w: (w[:-1], w[-1]))\n",
        "    return ds.batch(batch_size).prefetch(1)\n",
        "\n",
        "WINDOW_SIZE=20\n",
        "BATCH_SIZE=32"
      ],
      "id": "TrZdsGe_TX7D",
      "execution_count": 21,
      "outputs": []
    },
    {
      "cell_type": "code",
      "metadata": {
        "id": "_RQsiiutTc59"
      },
      "source": [
        "# trian_data는 학습용 데이터셋, test_data는 검증용 데이터셋 입니다.\n",
        "train_data = windowed_dataset(y_train, WINDOW_SIZE, BATCH_SIZE, True)\n",
        "test_data = windowed_dataset(y_test, WINDOW_SIZE, BATCH_SIZE, False)"
      ],
      "id": "_RQsiiutTc59",
      "execution_count": 22,
      "outputs": []
    },
    {
      "cell_type": "code",
      "metadata": {
        "colab": {
          "base_uri": "https://localhost:8080/"
        },
        "id": "4a20QTbaTelB",
        "outputId": "5e2094e5-6d4a-4adf-b0ee-7e8bc4daa7b5"
      },
      "source": [
        "# X: (batch_size, window_size, feature)\n",
        "# Y: (batch_size, feature)\n",
        "for data in train_data.take(1):\n",
        "    print(f'데이터셋(X) 구성(batch_size, window_size, feature갯수): {data[0].shape}')\n",
        "    print(f'데이터셋(Y) 구성(batch_size, feature갯수): {data[1].shape}')"
      ],
      "id": "4a20QTbaTelB",
      "execution_count": 23,
      "outputs": [
        {
          "output_type": "stream",
          "name": "stdout",
          "text": [
            "데이터셋(X) 구성(batch_size, window_size, feature갯수): (32, 20, 1)\n",
            "데이터셋(Y) 구성(batch_size, feature갯수): (32, 1)\n"
          ]
        }
      ]
    },
    {
      "cell_type": "code",
      "metadata": {
        "id": "1hNwYQ6vTg9t"
      },
      "source": [
        "from tensorflow.keras.models import Sequential\n",
        "from tensorflow.keras.layers import Dense, LSTM, Conv1D, Lambda\n",
        "from tensorflow.keras.losses import Huber\n",
        "from tensorflow.keras.optimizers import Adam\n",
        "from tensorflow.keras.callbacks import EarlyStopping, ModelCheckpoint\n",
        "\n",
        "\n",
        "model = Sequential()\n",
        "\n",
        "model.add(LSTM(64,\n",
        "               input_shape = (None, 1),\n",
        "               return_sequences= True))\n",
        "model.add(LSTM(64,\n",
        "               input_shape = (None, 1),\n",
        "               return_sequences = False))\n",
        "model.add(Dense(32, activation = 'tanh'))\n",
        "model.add(Dense(1))"
      ],
      "id": "1hNwYQ6vTg9t",
      "execution_count": 32,
      "outputs": []
    },
    {
      "cell_type": "code",
      "metadata": {
        "colab": {
          "base_uri": "https://localhost:8080/"
        },
        "id": "V6ZJbbHsTjgT",
        "outputId": "719214a0-baa1-47fa-c77f-b3330b2e61a5"
      },
      "source": [
        "model.summary()"
      ],
      "id": "V6ZJbbHsTjgT",
      "execution_count": 33,
      "outputs": [
        {
          "output_type": "stream",
          "name": "stdout",
          "text": [
            "Model: \"sequential_1\"\n",
            "_________________________________________________________________\n",
            "Layer (type)                 Output Shape              Param #   \n",
            "=================================================================\n",
            "lstm_2 (LSTM)                (None, None, 64)          16896     \n",
            "_________________________________________________________________\n",
            "lstm_3 (LSTM)                (None, 64)                33024     \n",
            "_________________________________________________________________\n",
            "dense_2 (Dense)              (None, 32)                2080      \n",
            "_________________________________________________________________\n",
            "dense_3 (Dense)              (None, 1)                 33        \n",
            "=================================================================\n",
            "Total params: 52,033\n",
            "Trainable params: 52,033\n",
            "Non-trainable params: 0\n",
            "_________________________________________________________________\n"
          ]
        }
      ]
    },
    {
      "cell_type": "code",
      "metadata": {
        "id": "Xq5EhMGmTleI"
      },
      "source": [
        "loss = Huber()\n",
        "optimizer = Adam(0.0005)\n",
        "model.compile(loss=Huber(), optimizer=optimizer, metrics=['mse'])\n",
        "\n",
        "# earlystopping은 10번 epoch통안 val_loss 개선이 없다면 학습을 멈춥니다.\n",
        "earlystopping = EarlyStopping(monitor='val_loss', patience=10)\n",
        "# val_loss 기준 체크포인터도 생성합니다.\n",
        "filename = os.path.join('tmp', 'ckeckpointer.ckpt')\n",
        "checkpoint = ModelCheckpoint(filename, \n",
        "                             save_weights_only=True, \n",
        "                             save_best_only=True, \n",
        "                             monitor='val_loss', \n",
        "                             verbose=1)"
      ],
      "id": "Xq5EhMGmTleI",
      "execution_count": 34,
      "outputs": []
    },
    {
      "cell_type": "code",
      "metadata": {
        "colab": {
          "base_uri": "https://localhost:8080/"
        },
        "id": "0I_Swk-sT8pb",
        "outputId": "a49c9cfe-480e-48c7-f4d3-8a833276af5f"
      },
      "source": [
        "history = model.fit(train_data, \n",
        "                    validation_data=(test_data), \n",
        "                    epochs=50, \n",
        "                    callbacks=[checkpoint, earlystopping])"
      ],
      "id": "0I_Swk-sT8pb",
      "execution_count": 35,
      "outputs": [
        {
          "output_type": "stream",
          "name": "stdout",
          "text": [
            "Epoch 1/50\n",
            "23/23 [==============================] - 5s 58ms/step - loss: 0.0046 - mse: 0.0092 - val_loss: 0.0179 - val_mse: 0.0358\n",
            "\n",
            "Epoch 00001: val_loss improved from inf to 0.01790, saving model to tmp/ckeckpointer.ckpt\n",
            "Epoch 2/50\n",
            "23/23 [==============================] - 1s 18ms/step - loss: 0.0010 - mse: 0.0020 - val_loss: 6.8662e-04 - val_mse: 0.0014\n",
            "\n",
            "Epoch 00002: val_loss improved from 0.01790 to 0.00069, saving model to tmp/ckeckpointer.ckpt\n",
            "Epoch 3/50\n",
            "23/23 [==============================] - 1s 17ms/step - loss: 7.4851e-04 - mse: 0.0015 - val_loss: 0.0032 - val_mse: 0.0063\n",
            "\n",
            "Epoch 00003: val_loss did not improve from 0.00069\n",
            "Epoch 4/50\n",
            "23/23 [==============================] - 1s 18ms/step - loss: 7.0429e-04 - mse: 0.0014 - val_loss: 0.0030 - val_mse: 0.0059\n",
            "\n",
            "Epoch 00004: val_loss did not improve from 0.00069\n",
            "Epoch 5/50\n",
            "23/23 [==============================] - 1s 17ms/step - loss: 6.6645e-04 - mse: 0.0013 - val_loss: 0.0025 - val_mse: 0.0050\n",
            "\n",
            "Epoch 00005: val_loss did not improve from 0.00069\n",
            "Epoch 6/50\n",
            "23/23 [==============================] - 1s 17ms/step - loss: 6.5201e-04 - mse: 0.0013 - val_loss: 0.0048 - val_mse: 0.0096\n",
            "\n",
            "Epoch 00006: val_loss did not improve from 0.00069\n",
            "Epoch 7/50\n",
            "23/23 [==============================] - 1s 17ms/step - loss: 6.4604e-04 - mse: 0.0013 - val_loss: 0.0037 - val_mse: 0.0073\n",
            "\n",
            "Epoch 00007: val_loss did not improve from 0.00069\n",
            "Epoch 8/50\n",
            "23/23 [==============================] - 1s 18ms/step - loss: 5.9217e-04 - mse: 0.0012 - val_loss: 0.0052 - val_mse: 0.0105\n",
            "\n",
            "Epoch 00008: val_loss did not improve from 0.00069\n",
            "Epoch 9/50\n",
            "23/23 [==============================] - 1s 18ms/step - loss: 6.6828e-04 - mse: 0.0013 - val_loss: 6.1207e-04 - val_mse: 0.0012\n",
            "\n",
            "Epoch 00009: val_loss improved from 0.00069 to 0.00061, saving model to tmp/ckeckpointer.ckpt\n",
            "Epoch 10/50\n",
            "23/23 [==============================] - 1s 18ms/step - loss: 5.9169e-04 - mse: 0.0012 - val_loss: 0.0042 - val_mse: 0.0084\n",
            "\n",
            "Epoch 00010: val_loss did not improve from 0.00061\n",
            "Epoch 11/50\n",
            "23/23 [==============================] - 1s 17ms/step - loss: 5.2178e-04 - mse: 0.0010 - val_loss: 0.0032 - val_mse: 0.0063\n",
            "\n",
            "Epoch 00011: val_loss did not improve from 0.00061\n",
            "Epoch 12/50\n",
            "23/23 [==============================] - 1s 18ms/step - loss: 5.0965e-04 - mse: 0.0010 - val_loss: 0.0027 - val_mse: 0.0055\n",
            "\n",
            "Epoch 00012: val_loss did not improve from 0.00061\n",
            "Epoch 13/50\n",
            "23/23 [==============================] - 1s 18ms/step - loss: 4.8447e-04 - mse: 9.6894e-04 - val_loss: 0.0013 - val_mse: 0.0027\n",
            "\n",
            "Epoch 00013: val_loss did not improve from 0.00061\n",
            "Epoch 14/50\n",
            "23/23 [==============================] - 1s 17ms/step - loss: 4.7485e-04 - mse: 9.4970e-04 - val_loss: 0.0029 - val_mse: 0.0058\n",
            "\n",
            "Epoch 00014: val_loss did not improve from 0.00061\n",
            "Epoch 15/50\n",
            "23/23 [==============================] - 1s 18ms/step - loss: 4.6086e-04 - mse: 9.2173e-04 - val_loss: 0.0014 - val_mse: 0.0028\n",
            "\n",
            "Epoch 00015: val_loss did not improve from 0.00061\n",
            "Epoch 16/50\n",
            "23/23 [==============================] - 1s 18ms/step - loss: 4.4983e-04 - mse: 8.9966e-04 - val_loss: 0.0023 - val_mse: 0.0047\n",
            "\n",
            "Epoch 00016: val_loss did not improve from 0.00061\n",
            "Epoch 17/50\n",
            "23/23 [==============================] - 1s 18ms/step - loss: 4.5213e-04 - mse: 9.0426e-04 - val_loss: 0.0040 - val_mse: 0.0081\n",
            "\n",
            "Epoch 00017: val_loss did not improve from 0.00061\n",
            "Epoch 18/50\n",
            "23/23 [==============================] - 1s 17ms/step - loss: 4.3245e-04 - mse: 8.6490e-04 - val_loss: 0.0063 - val_mse: 0.0125\n",
            "\n",
            "Epoch 00018: val_loss did not improve from 0.00061\n",
            "Epoch 19/50\n",
            "23/23 [==============================] - 1s 19ms/step - loss: 4.2327e-04 - mse: 8.4653e-04 - val_loss: 0.0033 - val_mse: 0.0067\n",
            "\n",
            "Epoch 00019: val_loss did not improve from 0.00061\n"
          ]
        }
      ]
    },
    {
      "cell_type": "code",
      "metadata": {
        "id": "QyV60CSmUiyu"
      },
      "source": [
        "import numpy as np\n"
      ],
      "id": "QyV60CSmUiyu",
      "execution_count": 36,
      "outputs": []
    },
    {
      "cell_type": "code",
      "metadata": {
        "id": "n5R9982KT_A5"
      },
      "source": [
        "model.load_weights(filename)\n",
        "pred = model.predict(test_data)"
      ],
      "id": "n5R9982KT_A5",
      "execution_count": 37,
      "outputs": []
    },
    {
      "cell_type": "code",
      "metadata": {
        "colab": {
          "base_uri": "https://localhost:8080/",
          "height": 537
        },
        "id": "apDTKY_SUNIB",
        "outputId": "2e8439d8-5bd4-4597-a2a9-68e821357a31"
      },
      "source": [
        "plt.figure(figsize=(12, 9))\n",
        "plt.plot(np.asarray(y_test)[20:], label='actual')\n",
        "plt.plot(pred, label='prediction')\n",
        "plt.legend()\n",
        "plt.show()"
      ],
      "id": "apDTKY_SUNIB",
      "execution_count": 38,
      "outputs": [
        {
          "output_type": "display_data",
          "data": {
            "image/png": "[encoded data removed]",
            "text/plain": [
              "<Figure size 864x648 with 1 Axes>"
            ]
          },
          "metadata": {
            "needs_background": "light"
          }
        }
      ]
    },
    {
      "cell_type": "code",
      "metadata": {
        "id": "b34fTWbGUQmM"
      },
      "source": [
        ""
      ],
      "id": "b34fTWbGUQmM",
      "execution_count": null,
      "outputs": []
    }
  ]
}