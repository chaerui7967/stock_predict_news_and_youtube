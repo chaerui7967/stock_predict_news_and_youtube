{
 "cells": [
  {
   "cell_type": "code",
   "execution_count": 36,
   "id": "b37e3a8c",
   "metadata": {},
   "outputs": [],
   "source": [
    "import pandas as pd\n",
    "import numpy as np\n",
    "import warnings\n",
    "warnings.filterwarnings('ignore')"
   ]
  },
  {
   "cell_type": "code",
   "execution_count": null,
   "id": "db3fd296",
   "metadata": {
    "scrolled": true
   },
   "outputs": [],
   "source": [
    "import pymysql\n",
    "\n",
    "# com_list = {'하이닉스' : '000660',\n",
    "#            '현대차' : '005380',\n",
    "#            '삼성전자' : '005930',\n",
    "#            'LG화학' : '051910', '셀트리온' : '068270'}\n",
    "\n",
    "media_list = {'아시아경제_' : 'asia_',\n",
    "             '매일경제_': 'maeil_'\n",
    "             }\n",
    "\n",
    "for m,j in media_list.items():\n",
    "    db = pymysql.connect(\n",
    "        user='root', \n",
    "        passwd='1234', \n",
    "        host='3.35.70.166', \n",
    "        db='proj', \n",
    "        charset = 'utf8'\n",
    "    )\n",
    "\n",
    "    cursor = db.cursor(pymysql.cursors.DictCursor)\n",
    "    sql = \"select * from \"+ j +\"news_craw_068270 where length(date) = 10\"  # date 널값 제외\n",
    "    cursor.execute(sql)\n",
    "\n",
    "    result = cursor.fetchall()\n",
    "    # 데이터 프레임으로 변경\n",
    "    globals() ['df_'+ j] = pd.DataFrame(result)\n",
    "    \n",
    "db.close()\n"
   ]
  },
  {
   "cell_type": "code",
   "execution_count": null,
   "id": "cdc3c1cc",
   "metadata": {},
   "outputs": [],
   "source": [
    "cel_new = pd.concat([df_asia_, df_maeil_])"
   ]
  },
  {
   "cell_type": "code",
   "execution_count": null,
   "id": "71d41f1c",
   "metadata": {},
   "outputs": [],
   "source": [
    "cel_new['year'] = cel_new['date'].str[:4]"
   ]
  },
  {
   "cell_type": "code",
   "execution_count": null,
   "id": "1798c058",
   "metadata": {},
   "outputs": [],
   "source": [
    "cel_new_2021 = cel_new[cel_new['year'] == '2021'].dropna()"
   ]
  },
  {
   "cell_type": "code",
   "execution_count": null,
   "id": "e2e96040",
   "metadata": {},
   "outputs": [],
   "source": [
    "from konlpy.tag import Okt\n",
    "okt = Okt()"
   ]
  },
  {
   "cell_type": "code",
   "execution_count": null,
   "id": "4d258408",
   "metadata": {},
   "outputs": [],
   "source": [
    "cel_new_2021['text'] = cel_new_2021['text'].str.replace('[^가-힣]','')"
   ]
  },
  {
   "cell_type": "code",
   "execution_count": null,
   "id": "7ddfa00f",
   "metadata": {},
   "outputs": [],
   "source": [
    "dir(okt)"
   ]
  },
  {
   "cell_type": "code",
   "execution_count": null,
   "id": "93f5b45b",
   "metadata": {},
   "outputs": [],
   "source": [
    "cel_new_2021['text'].apply(lambda x : okt.nouns(x))"
   ]
  },
  {
   "cell_type": "markdown",
   "id": "12bffb12",
   "metadata": {},
   "source": [
    "## === 셀트리온 사전 정확도 파악 ==="
   ]
  },
  {
   "cell_type": "code",
   "execution_count": 3,
   "id": "549ee2ec",
   "metadata": {},
   "outputs": [],
   "source": [
    "cel_2018p = pd.read_csv('pos_celltrion_2018.csv')\n",
    "cel_2019p = pd.read_csv('pos_celltrion_2019.csv')\n",
    "cel_2020p = pd.read_csv('pos_celltrion_2020.csv')\n",
    "# cel_2021p = pd.read_csv('pro_celltrion_2021.csv')  2021년를 테스트로 사용"
   ]
  },
  {
   "cell_type": "code",
   "execution_count": 4,
   "id": "f2aa58fb",
   "metadata": {},
   "outputs": [],
   "source": [
    "cel_pro = pd.concat([cel_2018p, cel_2019p, cel_2020p])"
   ]
  },
  {
   "cell_type": "code",
   "execution_count": 5,
   "id": "649a4317",
   "metadata": {},
   "outputs": [],
   "source": [
    "cel_2018 = pd.read_csv('neg_celltrion_2018.csv')\n",
    "cel_2019 = pd.read_csv('neg_celltrion_2019.csv')\n",
    "cel_2020 = pd.read_csv('neg_celltrion_2020.csv')\n",
    "# cel_2021 = pd.read_csv('neg_celltrion_2021.csv')  2021년를 테스트로 사용"
   ]
  },
  {
   "cell_type": "code",
   "execution_count": 6,
   "id": "803eef68",
   "metadata": {},
   "outputs": [],
   "source": [
    "cel_neg = pd.concat([cel_2018, cel_2019, cel_2020])"
   ]
  },
  {
   "cell_type": "code",
   "execution_count": 7,
   "id": "8f30be54",
   "metadata": {},
   "outputs": [],
   "source": [
    "# 0.6\n",
    "cel_neg6 = cel_neg[cel_neg['cosine_similarity'] > 0.6]\n",
    "cel_pro6 = cel_pro[cel_pro['cosine_similarity'] > 0.6]"
   ]
  },
  {
   "cell_type": "code",
   "execution_count": 8,
   "id": "7ba800f0",
   "metadata": {},
   "outputs": [],
   "source": [
    "cel_neg_list = list(cel_neg6['news_word'].values)\n",
    "cel_pro_list = list(cel_pro6['news_word'].values)"
   ]
  },
  {
   "cell_type": "code",
   "execution_count": 9,
   "id": "748c6cfd",
   "metadata": {},
   "outputs": [],
   "source": [
    "cel_neg_list = list(set(cel_neg_list))\n",
    "cel_pro_list = list(set(cel_pro_list))"
   ]
  },
  {
   "cell_type": "code",
   "execution_count": 10,
   "id": "5cad617a",
   "metadata": {},
   "outputs": [
    {
     "data": {
      "text/plain": [
       "(21, 77)"
      ]
     },
     "execution_count": 10,
     "metadata": {},
     "output_type": "execute_result"
    }
   ],
   "source": [
    "len(cel_neg_list), len(cel_pro_list)"
   ]
  },
  {
   "cell_type": "code",
   "execution_count": 11,
   "id": "6bf82180",
   "metadata": {
    "scrolled": true
   },
   "outputs": [
    {
     "data": {
      "text/plain": [
       "['조정시기',\n",
       " '메디콕스메디콕스',\n",
       " '퀀텀스탬프',\n",
       " '트윈데믹',\n",
       " '티플랙스티플랙스',\n",
       " '삼륭물산삼륭물산',\n",
       " '자이렘',\n",
       " '단점',\n",
       " '셀루메드셀루메드',\n",
       " '레그단비맙',\n",
       " '밑돌',\n",
       " '스포츠투나잇',\n",
       " '중앙디앤엠',\n",
       " '본격',\n",
       " '휴톡스',\n",
       " '문제',\n",
       " '개선',\n",
       " '쎄미켐동진쎄미켐',\n",
       " '증가',\n",
       " '재택명령',\n",
       " '중거리핵전력조약',\n",
       " '추진',\n",
       " '약세',\n",
       " '것이므',\n",
       " '이뮤노메딕스',\n",
       " '메디프론메디프론',\n",
       " '상쇄하',\n",
       " '밑돈',\n",
       " '휴메딕스휴메딕스',\n",
       " '안트로젠안트로젠',\n",
       " '테믹시스',\n",
       " '잇츠한불잇츠한불',\n",
       " '최선',\n",
       " '웃돌',\n",
       " '리바운딩',\n",
       " '엔투텍엔투텍',\n",
       " '스제약위더스',\n",
       " '텍드림텍',\n",
       " '텍사트인스',\n",
       " '실패',\n",
       " '주요한',\n",
       " '충족',\n",
       " '로슈사',\n",
       " '프럼파스트프',\n",
       " '티플랙스',\n",
       " '롱숏펀드',\n",
       " '권평오',\n",
       " '이노톡스',\n",
       " '밑돈다',\n",
       " '세릍리온',\n",
       " '씽크빅웅진씽크빅',\n",
       " '뷰웍스뷰웍스',\n",
       " '스크리닝하',\n",
       " '젬백스젬백스',\n",
       " '침체',\n",
       " '불황',\n",
       " '특징',\n",
       " '리레이팅',\n",
       " '추동훈',\n",
       " '적극',\n",
       " '앰블린파트너스',\n",
       " '탭앤고',\n",
       " '홍석균',\n",
       " '장점',\n",
       " '듀피젠트',\n",
       " '감소',\n",
       " '토픽스지수',\n",
       " '엠아이텍',\n",
       " '엠에스',\n",
       " '증진',\n",
       " '텔레칩스텔레',\n",
       " '얼머스인베트먼트',\n",
       " '판매승인',\n",
       " '텍오스코텍',\n",
       " '활황',\n",
       " '향상',\n",
       " '콘엘비세미콘']"
      ]
     },
     "execution_count": 11,
     "metadata": {},
     "output_type": "execute_result"
    }
   ],
   "source": [
    "cel_pro_list"
   ]
  },
  {
   "cell_type": "code",
   "execution_count": 12,
   "id": "864af851",
   "metadata": {
    "scrolled": true
   },
   "outputs": [
    {
     "data": {
      "text/plain": [
       "['하락',\n",
       " '급락',\n",
       " '호황',\n",
       " '결함',\n",
       " '부주의',\n",
       " '상승',\n",
       " '소란',\n",
       " '의혹',\n",
       " '성공',\n",
       " '보합',\n",
       " '급등',\n",
       " '위축',\n",
       " '긍적적',\n",
       " '지연',\n",
       " '침체',\n",
       " '불황',\n",
       " '의심',\n",
       " '조처',\n",
       " '정체',\n",
       " '조치',\n",
       " '약화']"
      ]
     },
     "execution_count": 12,
     "metadata": {},
     "output_type": "execute_result"
    }
   ],
   "source": [
    "cel_neg_list"
   ]
  },
  {
   "cell_type": "code",
   "execution_count": 13,
   "id": "509d2eb0",
   "metadata": {},
   "outputs": [],
   "source": [
    "with open('KOSELF_neg.txt', 'r') as f:\n",
    "    ko_neg = f.read()\n",
    "ko_neg = ko_neg.split('\\n')\n",
    "\n",
    "with open('KOSELF_pos.txt', 'r') as f:\n",
    "    ko_pro = f.read()\n",
    "ko_pro = ko_pro.split('\\n')"
   ]
  },
  {
   "cell_type": "code",
   "execution_count": 14,
   "id": "bc640d5f",
   "metadata": {},
   "outputs": [],
   "source": [
    "ko_neg += cel_neg_list\n",
    "ko_pro += cel_pro_list"
   ]
  },
  {
   "cell_type": "code",
   "execution_count": 15,
   "id": "fd8334da",
   "metadata": {},
   "outputs": [
    {
     "data": {
      "text/plain": [
       "(68, 125)"
      ]
     },
     "execution_count": 15,
     "metadata": {},
     "output_type": "execute_result"
    }
   ],
   "source": [
    "len(ko_neg), len(ko_pro)"
   ]
  },
  {
   "cell_type": "code",
   "execution_count": 16,
   "id": "a18cb803",
   "metadata": {},
   "outputs": [],
   "source": [
    "neg=set(ko_neg) - set(ko_pro)\n",
    "pos=set(ko_pro) - set(ko_neg)"
   ]
  },
  {
   "cell_type": "code",
   "execution_count": 17,
   "id": "3254a801",
   "metadata": {},
   "outputs": [
    {
     "data": {
      "text/plain": [
       "(52, 114)"
      ]
     },
     "execution_count": 17,
     "metadata": {},
     "output_type": "execute_result"
    }
   ],
   "source": [
    "len(neg), len(pos)"
   ]
  },
  {
   "cell_type": "code",
   "execution_count": 18,
   "id": "ca290c79",
   "metadata": {},
   "outputs": [],
   "source": [
    "new_cel = pd.read_csv('2021_celltrion.csv')"
   ]
  },
  {
   "cell_type": "code",
   "execution_count": 19,
   "id": "8a30f7ec",
   "metadata": {},
   "outputs": [],
   "source": [
    "new_cel['Tokenization'] = new_cel['Tokenization'].str.split(' ') "
   ]
  },
  {
   "cell_type": "code",
   "execution_count": 22,
   "id": "689c6696",
   "metadata": {
    "scrolled": true
   },
   "outputs": [
    {
     "data": {
      "text/html": [
       "<div>\n",
       "<style scoped>\n",
       "    .dataframe tbody tr th:only-of-type {\n",
       "        vertical-align: middle;\n",
       "    }\n",
       "\n",
       "    .dataframe tbody tr th {\n",
       "        vertical-align: top;\n",
       "    }\n",
       "\n",
       "    .dataframe thead th {\n",
       "        text-align: right;\n",
       "    }\n",
       "</style>\n",
       "<table border=\"1\" class=\"dataframe\">\n",
       "  <thead>\n",
       "    <tr style=\"text-align: right;\">\n",
       "      <th></th>\n",
       "      <th>st_n</th>\n",
       "      <th>st_cd</th>\n",
       "      <th>news</th>\n",
       "      <th>datetime</th>\n",
       "      <th>title</th>\n",
       "      <th>url</th>\n",
       "      <th>text</th>\n",
       "      <th>date</th>\n",
       "      <th>time</th>\n",
       "      <th>Open</th>\n",
       "      <th>High</th>\n",
       "      <th>Low</th>\n",
       "      <th>Close</th>\n",
       "      <th>Volume</th>\n",
       "      <th>Change</th>\n",
       "      <th>UpDown</th>\n",
       "      <th>Extremely_Changed</th>\n",
       "      <th>Tokenization</th>\n",
       "    </tr>\n",
       "  </thead>\n",
       "  <tbody>\n",
       "    <tr>\n",
       "      <th>0</th>\n",
       "      <td>셀트리온</td>\n",
       "      <td>68270</td>\n",
       "      <td>매일경제</td>\n",
       "      <td>2021010106</td>\n",
       "      <td>[돈터뷰] 슈퍼개미에게 묻는다! 사야하는 주식 안되는 주식은?</td>\n",
       "      <td>http://news.mk.co.kr/newsRead.php?no=433&amp;year=...</td>\n",
       "      <td>\\n\\n\\n '보컬'로 알려진 슈퍼개미 김형준 대표는 매일경제 '돈터뷰'에 출연해...</td>\n",
       "      <td>2021-01-04</td>\n",
       "      <td>6</td>\n",
       "      <td>351500</td>\n",
       "      <td>354500</td>\n",
       "      <td>343000</td>\n",
       "      <td>347500</td>\n",
       "      <td>2006483</td>\n",
       "      <td>-0.032033</td>\n",
       "      <td>-1</td>\n",
       "      <td>0</td>\n",
       "      <td>[보컬, 슈퍼, 개미, 김형준, 대표, 매일경제, 돈터뷰, 출연, 자신, 투자, 철...</td>\n",
       "    </tr>\n",
       "    <tr>\n",
       "      <th>1</th>\n",
       "      <td>셀트리온</td>\n",
       "      <td>68270</td>\n",
       "      <td>매일경제</td>\n",
       "      <td>2021010106</td>\n",
       "      <td>[돈터뷰] 슈퍼개미에게 묻는다! 사야하는 주식 안되는 주식은?</td>\n",
       "      <td>http://news.mk.co.kr/newsRead.php?no=433&amp;year=...</td>\n",
       "      <td>\\n\\n\\n '보컬'로 알려진 슈퍼개미 김형준 대표는 매일경제 '돈터뷰'에 출연해...</td>\n",
       "      <td>2021-01-04</td>\n",
       "      <td>6</td>\n",
       "      <td>351500</td>\n",
       "      <td>354500</td>\n",
       "      <td>343000</td>\n",
       "      <td>347500</td>\n",
       "      <td>2006483</td>\n",
       "      <td>-0.032033</td>\n",
       "      <td>-1</td>\n",
       "      <td>0</td>\n",
       "      <td>[보컬, 슈퍼, 개미, 김형준, 대표, 매일경제, 돈터뷰, 출연, 자신, 투자, 철...</td>\n",
       "    </tr>\n",
       "    <tr>\n",
       "      <th>2</th>\n",
       "      <td>셀트리온</td>\n",
       "      <td>68270</td>\n",
       "      <td>매일경제</td>\n",
       "      <td>2021010317</td>\n",
       "      <td>[GS칼텍스배 프로기전] 자비로운 손은 없다</td>\n",
       "      <td>http://news.mk.co.kr/newsRead.php?no=4182&amp;year...</td>\n",
       "      <td>\\n\\n\\n 2020~2021 KB국민은행 바둑리그가 6회전을 넘었다. 간판에 걸린...</td>\n",
       "      <td>2021-01-04</td>\n",
       "      <td>17</td>\n",
       "      <td>351500</td>\n",
       "      <td>354500</td>\n",
       "      <td>343000</td>\n",
       "      <td>347500</td>\n",
       "      <td>2006483</td>\n",
       "      <td>-0.032033</td>\n",
       "      <td>-1</td>\n",
       "      <td>0</td>\n",
       "      <td>[국민은행, 바둑, 리그, 간판, 이름, 마지막, 첫날, 다리, 마지막, 킥스, 연...</td>\n",
       "    </tr>\n",
       "    <tr>\n",
       "      <th>3</th>\n",
       "      <td>셀트리온</td>\n",
       "      <td>68270</td>\n",
       "      <td>매일경제</td>\n",
       "      <td>2021010317</td>\n",
       "      <td>팬데믹 이긴 테슬라…50만대 사상 최대 판매 `질주`</td>\n",
       "      <td>http://news.mk.co.kr/newsRead.php?no=4275&amp;year...</td>\n",
       "      <td>\\n\\n\\n\\n▶ 여기를 누르시면 크게 보실 수 있습니다\\n 일론 머스크 테슬라 최...</td>\n",
       "      <td>2021-01-04</td>\n",
       "      <td>17</td>\n",
       "      <td>351500</td>\n",
       "      <td>354500</td>\n",
       "      <td>343000</td>\n",
       "      <td>347500</td>\n",
       "      <td>2006483</td>\n",
       "      <td>-0.032033</td>\n",
       "      <td>-1</td>\n",
       "      <td>0</td>\n",
       "      <td>[여기, 크게, 머스크, 테슬라, 최고경영자, 지난해, 최고, 작년, 주가, 승률,...</td>\n",
       "    </tr>\n",
       "    <tr>\n",
       "      <th>4</th>\n",
       "      <td>셀트리온</td>\n",
       "      <td>68270</td>\n",
       "      <td>매일경제</td>\n",
       "      <td>2021010317</td>\n",
       "      <td>팬데믹 이긴 테슬라…50만대 사상 최대 판매 `질주`</td>\n",
       "      <td>http://news.mk.co.kr/newsRead.php?no=4275&amp;year...</td>\n",
       "      <td>\\n\\n\\n\\n▶ 여기를 누르시면 크게 보실 수 있습니다\\n 일론 머스크 테슬라 최...</td>\n",
       "      <td>2021-01-04</td>\n",
       "      <td>17</td>\n",
       "      <td>351500</td>\n",
       "      <td>354500</td>\n",
       "      <td>343000</td>\n",
       "      <td>347500</td>\n",
       "      <td>2006483</td>\n",
       "      <td>-0.032033</td>\n",
       "      <td>-1</td>\n",
       "      <td>0</td>\n",
       "      <td>[여기, 크게, 머스크, 테슬라, 최고경영자, 지난해, 최고, 작년, 주가, 승률,...</td>\n",
       "    </tr>\n",
       "    <tr>\n",
       "      <th>...</th>\n",
       "      <td>...</td>\n",
       "      <td>...</td>\n",
       "      <td>...</td>\n",
       "      <td>...</td>\n",
       "      <td>...</td>\n",
       "      <td>...</td>\n",
       "      <td>...</td>\n",
       "      <td>...</td>\n",
       "      <td>...</td>\n",
       "      <td>...</td>\n",
       "      <td>...</td>\n",
       "      <td>...</td>\n",
       "      <td>...</td>\n",
       "      <td>...</td>\n",
       "      <td>...</td>\n",
       "      <td>...</td>\n",
       "      <td>...</td>\n",
       "      <td>...</td>\n",
       "    </tr>\n",
       "    <tr>\n",
       "      <th>1294</th>\n",
       "      <td>셀트리온</td>\n",
       "      <td>68270</td>\n",
       "      <td>아시아경제</td>\n",
       "      <td>2021091310</td>\n",
       "      <td>개인 '나홀로 매도'에 코스피 소폭 하락…추석 앞둔 관망세</td>\n",
       "      <td>https://view.asiae.co.kr/article/2021091310530...</td>\n",
       "      <td>[이미지출처=연합뉴스]썝蹂몃낫湲 븘씠肄[아시아경제 지연진 기자]국내 증시가 13일 ...</td>\n",
       "      <td>2021-09-13</td>\n",
       "      <td>10</td>\n",
       "      <td>266500</td>\n",
       "      <td>267000</td>\n",
       "      <td>260500</td>\n",
       "      <td>262000</td>\n",
       "      <td>505510</td>\n",
       "      <td>-0.020561</td>\n",
       "      <td>-1</td>\n",
       "      <td>0</td>\n",
       "      <td>[이미지, 출처, 연합뉴스, 몃낫, 븘씠, 아시아, 경제, 연진, 기자, 국내, 증...</td>\n",
       "    </tr>\n",
       "    <tr>\n",
       "      <th>1295</th>\n",
       "      <td>셀트리온</td>\n",
       "      <td>68270</td>\n",
       "      <td>아시아경제</td>\n",
       "      <td>2021091314</td>\n",
       "      <td>경기 둔화 우려 부각…코스닥 1% 넘게 하락</td>\n",
       "      <td>https://view.asiae.co.kr/article/2021091314075...</td>\n",
       "      <td>코스피 판 개인, 코스닥서 3000억원 넘게 순매수 [이미지출처=연합뉴스]썝蹂몃낫湲...</td>\n",
       "      <td>2021-09-13</td>\n",
       "      <td>14</td>\n",
       "      <td>266500</td>\n",
       "      <td>267000</td>\n",
       "      <td>260500</td>\n",
       "      <td>262000</td>\n",
       "      <td>505510</td>\n",
       "      <td>-0.020561</td>\n",
       "      <td>-1</td>\n",
       "      <td>0</td>\n",
       "      <td>[코스피, 개인, 코스닥, 매수, 이미지, 출처, 연합뉴스, 몃낫, 븘씠, 아시아,...</td>\n",
       "    </tr>\n",
       "    <tr>\n",
       "      <th>1296</th>\n",
       "      <td>셀트리온</td>\n",
       "      <td>68270</td>\n",
       "      <td>아시아경제</td>\n",
       "      <td>2021091316</td>\n",
       "      <td>관망세 짙은 증시, 혼조 마감…'기관 픽' 코스피 오르고, '개인 픽' 코스닥은 하...</td>\n",
       "      <td>https://view.asiae.co.kr/article/2021091316042...</td>\n",
       "      <td>[이미지출처=연합뉴스]썝蹂몃낫湲 븘씠肄[아시아경제 지연진 기자] ] 13일 국내 증...</td>\n",
       "      <td>2021-09-14</td>\n",
       "      <td>16</td>\n",
       "      <td>261500</td>\n",
       "      <td>265000</td>\n",
       "      <td>260500</td>\n",
       "      <td>263000</td>\n",
       "      <td>416684</td>\n",
       "      <td>0.003817</td>\n",
       "      <td>1</td>\n",
       "      <td>0</td>\n",
       "      <td>[이미지, 출처, 연합뉴스, 몃낫, 븘씠, 아시아, 경제, 연진, 기자, 국내, 증...</td>\n",
       "    </tr>\n",
       "    <tr>\n",
       "      <th>1297</th>\n",
       "      <td>셀트리온</td>\n",
       "      <td>68270</td>\n",
       "      <td>아시아경제</td>\n",
       "      <td>2021091409</td>\n",
       "      <td>강보합 출발 코스피…3150 근접</td>\n",
       "      <td>https://view.asiae.co.kr/article/2021091409334...</td>\n",
       "      <td>코스닥도 1033대로 올라서 코스피가 소폭 상승세로 장을 출발한 14일 오전 서울 ...</td>\n",
       "      <td>2021-09-14</td>\n",
       "      <td>9</td>\n",
       "      <td>261500</td>\n",
       "      <td>265000</td>\n",
       "      <td>260500</td>\n",
       "      <td>263000</td>\n",
       "      <td>416684</td>\n",
       "      <td>0.003817</td>\n",
       "      <td>1</td>\n",
       "      <td>0</td>\n",
       "      <td>[코스닥, 대로, 코스피, 상승세, 출발, 오전, 서울, 중구, 하나은행, 딜링룸,...</td>\n",
       "    </tr>\n",
       "    <tr>\n",
       "      <th>1298</th>\n",
       "      <td>셀트리온</td>\n",
       "      <td>68270</td>\n",
       "      <td>아시아경제</td>\n",
       "      <td>2021091416</td>\n",
       "      <td>외국인·기관 1兆 샀다…코스피·코스닥 모두 반등 마감</td>\n",
       "      <td>https://view.asiae.co.kr/article/2021091416215...</td>\n",
       "      <td>코스피 0.67%, 코스닥 1.1% 상승 마감 14일 서울 중구 명동 하나은행 본점...</td>\n",
       "      <td>2021-09-15</td>\n",
       "      <td>16</td>\n",
       "      <td>266000</td>\n",
       "      <td>275500</td>\n",
       "      <td>265500</td>\n",
       "      <td>272500</td>\n",
       "      <td>576273</td>\n",
       "      <td>0.036122</td>\n",
       "      <td>1</td>\n",
       "      <td>0</td>\n",
       "      <td>[코스피, 코스닥, 상승, 마감, 서울, 중구, 명동, 하나은행, 본점, 딜링룸, ...</td>\n",
       "    </tr>\n",
       "  </tbody>\n",
       "</table>\n",
       "<p>1299 rows × 18 columns</p>\n",
       "</div>"
      ],
      "text/plain": [
       "      st_n  st_cd   news    datetime  \\\n",
       "0     셀트리온  68270   매일경제  2021010106   \n",
       "1     셀트리온  68270   매일경제  2021010106   \n",
       "2     셀트리온  68270   매일경제  2021010317   \n",
       "3     셀트리온  68270   매일경제  2021010317   \n",
       "4     셀트리온  68270   매일경제  2021010317   \n",
       "...    ...    ...    ...         ...   \n",
       "1294  셀트리온  68270  아시아경제  2021091310   \n",
       "1295  셀트리온  68270  아시아경제  2021091314   \n",
       "1296  셀트리온  68270  아시아경제  2021091316   \n",
       "1297  셀트리온  68270  아시아경제  2021091409   \n",
       "1298  셀트리온  68270  아시아경제  2021091416   \n",
       "\n",
       "                                                  title  \\\n",
       "0                    [돈터뷰] 슈퍼개미에게 묻는다! 사야하는 주식 안되는 주식은?   \n",
       "1                    [돈터뷰] 슈퍼개미에게 묻는다! 사야하는 주식 안되는 주식은?   \n",
       "2                              [GS칼텍스배 프로기전] 자비로운 손은 없다   \n",
       "3                         팬데믹 이긴 테슬라…50만대 사상 최대 판매 `질주`   \n",
       "4                         팬데믹 이긴 테슬라…50만대 사상 최대 판매 `질주`   \n",
       "...                                                 ...   \n",
       "1294                   개인 '나홀로 매도'에 코스피 소폭 하락…추석 앞둔 관망세   \n",
       "1295                           경기 둔화 우려 부각…코스닥 1% 넘게 하락   \n",
       "1296  관망세 짙은 증시, 혼조 마감…'기관 픽' 코스피 오르고, '개인 픽' 코스닥은 하...   \n",
       "1297                                 강보합 출발 코스피…3150 근접   \n",
       "1298                      외국인·기관 1兆 샀다…코스피·코스닥 모두 반등 마감   \n",
       "\n",
       "                                                    url  \\\n",
       "0     http://news.mk.co.kr/newsRead.php?no=433&year=...   \n",
       "1     http://news.mk.co.kr/newsRead.php?no=433&year=...   \n",
       "2     http://news.mk.co.kr/newsRead.php?no=4182&year...   \n",
       "3     http://news.mk.co.kr/newsRead.php?no=4275&year...   \n",
       "4     http://news.mk.co.kr/newsRead.php?no=4275&year...   \n",
       "...                                                 ...   \n",
       "1294  https://view.asiae.co.kr/article/2021091310530...   \n",
       "1295  https://view.asiae.co.kr/article/2021091314075...   \n",
       "1296  https://view.asiae.co.kr/article/2021091316042...   \n",
       "1297  https://view.asiae.co.kr/article/2021091409334...   \n",
       "1298  https://view.asiae.co.kr/article/2021091416215...   \n",
       "\n",
       "                                                   text        date  time  \\\n",
       "0      \\n\\n\\n '보컬'로 알려진 슈퍼개미 김형준 대표는 매일경제 '돈터뷰'에 출연해...  2021-01-04     6   \n",
       "1      \\n\\n\\n '보컬'로 알려진 슈퍼개미 김형준 대표는 매일경제 '돈터뷰'에 출연해...  2021-01-04     6   \n",
       "2     \\n\\n\\n 2020~2021 KB국민은행 바둑리그가 6회전을 넘었다. 간판에 걸린...  2021-01-04    17   \n",
       "3     \\n\\n\\n\\n▶ 여기를 누르시면 크게 보실 수 있습니다\\n 일론 머스크 테슬라 최...  2021-01-04    17   \n",
       "4     \\n\\n\\n\\n▶ 여기를 누르시면 크게 보실 수 있습니다\\n 일론 머스크 테슬라 최...  2021-01-04    17   \n",
       "...                                                 ...         ...   ...   \n",
       "1294  [이미지출처=연합뉴스]썝蹂몃낫湲 븘씠肄[아시아경제 지연진 기자]국내 증시가 13일 ...  2021-09-13    10   \n",
       "1295  코스피 판 개인, 코스닥서 3000억원 넘게 순매수 [이미지출처=연합뉴스]썝蹂몃낫湲...  2021-09-13    14   \n",
       "1296  [이미지출처=연합뉴스]썝蹂몃낫湲 븘씠肄[아시아경제 지연진 기자] ] 13일 국내 증...  2021-09-14    16   \n",
       "1297  코스닥도 1033대로 올라서 코스피가 소폭 상승세로 장을 출발한 14일 오전 서울 ...  2021-09-14     9   \n",
       "1298  코스피 0.67%, 코스닥 1.1% 상승 마감 14일 서울 중구 명동 하나은행 본점...  2021-09-15    16   \n",
       "\n",
       "        Open    High     Low   Close   Volume    Change  UpDown  \\\n",
       "0     351500  354500  343000  347500  2006483 -0.032033      -1   \n",
       "1     351500  354500  343000  347500  2006483 -0.032033      -1   \n",
       "2     351500  354500  343000  347500  2006483 -0.032033      -1   \n",
       "3     351500  354500  343000  347500  2006483 -0.032033      -1   \n",
       "4     351500  354500  343000  347500  2006483 -0.032033      -1   \n",
       "...      ...     ...     ...     ...      ...       ...     ...   \n",
       "1294  266500  267000  260500  262000   505510 -0.020561      -1   \n",
       "1295  266500  267000  260500  262000   505510 -0.020561      -1   \n",
       "1296  261500  265000  260500  263000   416684  0.003817       1   \n",
       "1297  261500  265000  260500  263000   416684  0.003817       1   \n",
       "1298  266000  275500  265500  272500   576273  0.036122       1   \n",
       "\n",
       "      Extremely_Changed                                       Tokenization  \n",
       "0                     0  [보컬, 슈퍼, 개미, 김형준, 대표, 매일경제, 돈터뷰, 출연, 자신, 투자, 철...  \n",
       "1                     0  [보컬, 슈퍼, 개미, 김형준, 대표, 매일경제, 돈터뷰, 출연, 자신, 투자, 철...  \n",
       "2                     0  [국민은행, 바둑, 리그, 간판, 이름, 마지막, 첫날, 다리, 마지막, 킥스, 연...  \n",
       "3                     0  [여기, 크게, 머스크, 테슬라, 최고경영자, 지난해, 최고, 작년, 주가, 승률,...  \n",
       "4                     0  [여기, 크게, 머스크, 테슬라, 최고경영자, 지난해, 최고, 작년, 주가, 승률,...  \n",
       "...                 ...                                                ...  \n",
       "1294                  0  [이미지, 출처, 연합뉴스, 몃낫, 븘씠, 아시아, 경제, 연진, 기자, 국내, 증...  \n",
       "1295                  0  [코스피, 개인, 코스닥, 매수, 이미지, 출처, 연합뉴스, 몃낫, 븘씠, 아시아,...  \n",
       "1296                  0  [이미지, 출처, 연합뉴스, 몃낫, 븘씠, 아시아, 경제, 연진, 기자, 국내, 증...  \n",
       "1297                  0  [코스닥, 대로, 코스피, 상승세, 출발, 오전, 서울, 중구, 하나은행, 딜링룸,...  \n",
       "1298                  0  [코스피, 코스닥, 상승, 마감, 서울, 중구, 명동, 하나은행, 본점, 딜링룸, ...  \n",
       "\n",
       "[1299 rows x 18 columns]"
      ]
     },
     "execution_count": 22,
     "metadata": {},
     "output_type": "execute_result"
    }
   ],
   "source": [
    "new_cel"
   ]
  },
  {
   "cell_type": "code",
   "execution_count": 27,
   "id": "5dcae18c",
   "metadata": {},
   "outputs": [],
   "source": [
    "score = new_cel[['st_n','st_cd','news','date','Tokenization','UpDown']]"
   ]
  },
  {
   "cell_type": "code",
   "execution_count": 28,
   "id": "91f45d43",
   "metadata": {
    "collapsed": true
   },
   "outputs": [
    {
     "name": "stderr",
     "output_type": "stream",
     "text": [
      "/usr/local/lib/python3.6/dist-packages/ipykernel_launcher.py:1: SettingWithCopyWarning: \n",
      "A value is trying to be set on a copy of a slice from a DataFrame.\n",
      "Try using .loc[row_indexer,col_indexer] = value instead\n",
      "\n",
      "See the caveats in the documentation: https://pandas.pydata.org/pandas-docs/stable/user_guide/indexing.html#returning-a-view-versus-a-copy\n",
      "  \"\"\"Entry point for launching an IPython kernel.\n",
      "/usr/local/lib/python3.6/dist-packages/ipykernel_launcher.py:2: SettingWithCopyWarning: \n",
      "A value is trying to be set on a copy of a slice from a DataFrame.\n",
      "Try using .loc[row_indexer,col_indexer] = value instead\n",
      "\n",
      "See the caveats in the documentation: https://pandas.pydata.org/pandas-docs/stable/user_guide/indexing.html#returning-a-view-versus-a-copy\n",
      "  \n",
      "/usr/local/lib/python3.6/dist-packages/ipykernel_launcher.py:3: SettingWithCopyWarning: \n",
      "A value is trying to be set on a copy of a slice from a DataFrame.\n",
      "Try using .loc[row_indexer,col_indexer] = value instead\n",
      "\n",
      "See the caveats in the documentation: https://pandas.pydata.org/pandas-docs/stable/user_guide/indexing.html#returning-a-view-versus-a-copy\n",
      "  This is separate from the ipykernel package so we can avoid doing imports until\n",
      "/usr/local/lib/python3.6/dist-packages/ipykernel_launcher.py:4: SettingWithCopyWarning: \n",
      "A value is trying to be set on a copy of a slice from a DataFrame.\n",
      "Try using .loc[row_indexer,col_indexer] = value instead\n",
      "\n",
      "See the caveats in the documentation: https://pandas.pydata.org/pandas-docs/stable/user_guide/indexing.html#returning-a-view-versus-a-copy\n",
      "  after removing the cwd from sys.path.\n",
      "/usr/local/lib/python3.6/dist-packages/ipykernel_launcher.py:5: SettingWithCopyWarning: \n",
      "A value is trying to be set on a copy of a slice from a DataFrame.\n",
      "Try using .loc[row_indexer,col_indexer] = value instead\n",
      "\n",
      "See the caveats in the documentation: https://pandas.pydata.org/pandas-docs/stable/user_guide/indexing.html#returning-a-view-versus-a-copy\n",
      "  \"\"\"\n"
     ]
    }
   ],
   "source": [
    "score['dic'] = 0\n",
    "score['dic_pos'] = 0\n",
    "score['dic_neg'] = 0\n",
    "score['pos_per'] = 0.0\n",
    "score['neg_per'] = 0.0"
   ]
  },
  {
   "cell_type": "code",
   "execution_count": 31,
   "id": "6bf171d4",
   "metadata": {
    "collapsed": true
   },
   "outputs": [
    {
     "name": "stderr",
     "output_type": "stream",
     "text": [
      "/usr/local/lib/python3.6/dist-packages/ipykernel_launcher.py:4: SettingWithCopyWarning: \n",
      "A value is trying to be set on a copy of a slice from a DataFrame\n",
      "\n",
      "See the caveats in the documentation: https://pandas.pydata.org/pandas-docs/stable/user_guide/indexing.html#returning-a-view-versus-a-copy\n",
      "  after removing the cwd from sys.path.\n",
      "/usr/local/lib/python3.6/dist-packages/ipykernel_launcher.py:5: SettingWithCopyWarning: \n",
      "A value is trying to be set on a copy of a slice from a DataFrame\n",
      "\n",
      "See the caveats in the documentation: https://pandas.pydata.org/pandas-docs/stable/user_guide/indexing.html#returning-a-view-versus-a-copy\n",
      "  \"\"\"\n",
      "/usr/local/lib/python3.6/dist-packages/ipykernel_launcher.py:7: SettingWithCopyWarning: \n",
      "A value is trying to be set on a copy of a slice from a DataFrame\n",
      "\n",
      "See the caveats in the documentation: https://pandas.pydata.org/pandas-docs/stable/user_guide/indexing.html#returning-a-view-versus-a-copy\n",
      "  import sys\n",
      "/usr/local/lib/python3.6/dist-packages/ipykernel_launcher.py:8: SettingWithCopyWarning: \n",
      "A value is trying to be set on a copy of a slice from a DataFrame\n",
      "\n",
      "See the caveats in the documentation: https://pandas.pydata.org/pandas-docs/stable/user_guide/indexing.html#returning-a-view-versus-a-copy\n",
      "  \n",
      "/usr/local/lib/python3.6/dist-packages/ipykernel_launcher.py:9: SettingWithCopyWarning: \n",
      "A value is trying to be set on a copy of a slice from a DataFrame\n",
      "\n",
      "See the caveats in the documentation: https://pandas.pydata.org/pandas-docs/stable/user_guide/indexing.html#returning-a-view-versus-a-copy\n",
      "  if __name__ == '__main__':\n",
      "/usr/local/lib/python3.6/dist-packages/ipykernel_launcher.py:10: SettingWithCopyWarning: \n",
      "A value is trying to be set on a copy of a slice from a DataFrame\n",
      "\n",
      "See the caveats in the documentation: https://pandas.pydata.org/pandas-docs/stable/user_guide/indexing.html#returning-a-view-versus-a-copy\n",
      "  # Remove the CWD from sys.path while we load stuff.\n",
      "/usr/local/lib/python3.6/dist-packages/ipykernel_launcher.py:9: RuntimeWarning: invalid value encountered in long_scalars\n",
      "  if __name__ == '__main__':\n",
      "/usr/local/lib/python3.6/dist-packages/ipykernel_launcher.py:10: RuntimeWarning: invalid value encountered in long_scalars\n",
      "  # Remove the CWD from sys.path while we load stuff.\n"
     ]
    }
   ],
   "source": [
    "for i in range(len(score)):\n",
    "    for j in score['Tokenization'].iloc[i]:\n",
    "        if j in neg:\n",
    "            score['dic'].iloc[i] -= 1\n",
    "            score['dic_neg'].iloc[i] += 1\n",
    "        if j in pos:\n",
    "            score['dic'].iloc[i] += 1\n",
    "            score['dic_pos'].iloc[i] += 1\n",
    "    score['pos_per'].iloc[i] = score['dic_pos'].iloc[i] / (score['dic_neg'].iloc[i] + score['dic_pos'].iloc[i])\n",
    "    score['neg_per'].iloc[i] = score['dic_neg'].iloc[i] / (score['dic_neg'].iloc[i] + score['dic_pos'].iloc[i])"
   ]
  },
  {
   "cell_type": "code",
   "execution_count": 32,
   "id": "06c1c1ab",
   "metadata": {},
   "outputs": [
    {
     "data": {
      "text/html": [
       "<div>\n",
       "<style scoped>\n",
       "    .dataframe tbody tr th:only-of-type {\n",
       "        vertical-align: middle;\n",
       "    }\n",
       "\n",
       "    .dataframe tbody tr th {\n",
       "        vertical-align: top;\n",
       "    }\n",
       "\n",
       "    .dataframe thead th {\n",
       "        text-align: right;\n",
       "    }\n",
       "</style>\n",
       "<table border=\"1\" class=\"dataframe\">\n",
       "  <thead>\n",
       "    <tr style=\"text-align: right;\">\n",
       "      <th></th>\n",
       "      <th>st_n</th>\n",
       "      <th>st_cd</th>\n",
       "      <th>news</th>\n",
       "      <th>date</th>\n",
       "      <th>Tokenization</th>\n",
       "      <th>UpDown</th>\n",
       "      <th>dic</th>\n",
       "      <th>dic_pos</th>\n",
       "      <th>dic_neg</th>\n",
       "      <th>pos_per</th>\n",
       "      <th>neg_per</th>\n",
       "    </tr>\n",
       "  </thead>\n",
       "  <tbody>\n",
       "    <tr>\n",
       "      <th>0</th>\n",
       "      <td>셀트리온</td>\n",
       "      <td>68270</td>\n",
       "      <td>매일경제</td>\n",
       "      <td>2021-01-04</td>\n",
       "      <td>[보컬, 슈퍼, 개미, 김형준, 대표, 매일경제, 돈터뷰, 출연, 자신, 투자, 철...</td>\n",
       "      <td>-1</td>\n",
       "      <td>-9</td>\n",
       "      <td>12</td>\n",
       "      <td>21</td>\n",
       "      <td>0.363636</td>\n",
       "      <td>0.636364</td>\n",
       "    </tr>\n",
       "    <tr>\n",
       "      <th>1</th>\n",
       "      <td>셀트리온</td>\n",
       "      <td>68270</td>\n",
       "      <td>매일경제</td>\n",
       "      <td>2021-01-04</td>\n",
       "      <td>[보컬, 슈퍼, 개미, 김형준, 대표, 매일경제, 돈터뷰, 출연, 자신, 투자, 철...</td>\n",
       "      <td>-1</td>\n",
       "      <td>-9</td>\n",
       "      <td>12</td>\n",
       "      <td>21</td>\n",
       "      <td>0.363636</td>\n",
       "      <td>0.636364</td>\n",
       "    </tr>\n",
       "    <tr>\n",
       "      <th>2</th>\n",
       "      <td>셀트리온</td>\n",
       "      <td>68270</td>\n",
       "      <td>매일경제</td>\n",
       "      <td>2021-01-04</td>\n",
       "      <td>[국민은행, 바둑, 리그, 간판, 이름, 마지막, 첫날, 다리, 마지막, 킥스, 연...</td>\n",
       "      <td>-1</td>\n",
       "      <td>0</td>\n",
       "      <td>0</td>\n",
       "      <td>0</td>\n",
       "      <td>NaN</td>\n",
       "      <td>NaN</td>\n",
       "    </tr>\n",
       "    <tr>\n",
       "      <th>3</th>\n",
       "      <td>셀트리온</td>\n",
       "      <td>68270</td>\n",
       "      <td>매일경제</td>\n",
       "      <td>2021-01-04</td>\n",
       "      <td>[여기, 크게, 머스크, 테슬라, 최고경영자, 지난해, 최고, 작년, 주가, 승률,...</td>\n",
       "      <td>-1</td>\n",
       "      <td>-9</td>\n",
       "      <td>9</td>\n",
       "      <td>18</td>\n",
       "      <td>0.333333</td>\n",
       "      <td>0.666667</td>\n",
       "    </tr>\n",
       "    <tr>\n",
       "      <th>4</th>\n",
       "      <td>셀트리온</td>\n",
       "      <td>68270</td>\n",
       "      <td>매일경제</td>\n",
       "      <td>2021-01-04</td>\n",
       "      <td>[여기, 크게, 머스크, 테슬라, 최고경영자, 지난해, 최고, 작년, 주가, 승률,...</td>\n",
       "      <td>-1</td>\n",
       "      <td>-9</td>\n",
       "      <td>9</td>\n",
       "      <td>18</td>\n",
       "      <td>0.333333</td>\n",
       "      <td>0.666667</td>\n",
       "    </tr>\n",
       "    <tr>\n",
       "      <th>...</th>\n",
       "      <td>...</td>\n",
       "      <td>...</td>\n",
       "      <td>...</td>\n",
       "      <td>...</td>\n",
       "      <td>...</td>\n",
       "      <td>...</td>\n",
       "      <td>...</td>\n",
       "      <td>...</td>\n",
       "      <td>...</td>\n",
       "      <td>...</td>\n",
       "      <td>...</td>\n",
       "    </tr>\n",
       "    <tr>\n",
       "      <th>1294</th>\n",
       "      <td>셀트리온</td>\n",
       "      <td>68270</td>\n",
       "      <td>아시아경제</td>\n",
       "      <td>2021-09-13</td>\n",
       "      <td>[이미지, 출처, 연합뉴스, 몃낫, 븘씠, 아시아, 경제, 연진, 기자, 국내, 증...</td>\n",
       "      <td>-1</td>\n",
       "      <td>-7</td>\n",
       "      <td>3</td>\n",
       "      <td>10</td>\n",
       "      <td>0.230769</td>\n",
       "      <td>0.769231</td>\n",
       "    </tr>\n",
       "    <tr>\n",
       "      <th>1295</th>\n",
       "      <td>셀트리온</td>\n",
       "      <td>68270</td>\n",
       "      <td>아시아경제</td>\n",
       "      <td>2021-09-13</td>\n",
       "      <td>[코스피, 개인, 코스닥, 매수, 이미지, 출처, 연합뉴스, 몃낫, 븘씠, 아시아,...</td>\n",
       "      <td>-1</td>\n",
       "      <td>-4</td>\n",
       "      <td>11</td>\n",
       "      <td>15</td>\n",
       "      <td>0.423077</td>\n",
       "      <td>0.576923</td>\n",
       "    </tr>\n",
       "    <tr>\n",
       "      <th>1296</th>\n",
       "      <td>셀트리온</td>\n",
       "      <td>68270</td>\n",
       "      <td>아시아경제</td>\n",
       "      <td>2021-09-14</td>\n",
       "      <td>[이미지, 출처, 연합뉴스, 몃낫, 븘씠, 아시아, 경제, 연진, 기자, 국내, 증...</td>\n",
       "      <td>1</td>\n",
       "      <td>-7</td>\n",
       "      <td>5</td>\n",
       "      <td>12</td>\n",
       "      <td>0.294118</td>\n",
       "      <td>0.705882</td>\n",
       "    </tr>\n",
       "    <tr>\n",
       "      <th>1297</th>\n",
       "      <td>셀트리온</td>\n",
       "      <td>68270</td>\n",
       "      <td>아시아경제</td>\n",
       "      <td>2021-09-14</td>\n",
       "      <td>[코스닥, 대로, 코스피, 상승세, 출발, 오전, 서울, 중구, 하나은행, 딜링룸,...</td>\n",
       "      <td>1</td>\n",
       "      <td>-11</td>\n",
       "      <td>4</td>\n",
       "      <td>15</td>\n",
       "      <td>0.210526</td>\n",
       "      <td>0.789474</td>\n",
       "    </tr>\n",
       "    <tr>\n",
       "      <th>1298</th>\n",
       "      <td>셀트리온</td>\n",
       "      <td>68270</td>\n",
       "      <td>아시아경제</td>\n",
       "      <td>2021-09-15</td>\n",
       "      <td>[코스피, 코스닥, 상승, 마감, 서울, 중구, 명동, 하나은행, 본점, 딜링룸, ...</td>\n",
       "      <td>1</td>\n",
       "      <td>-25</td>\n",
       "      <td>5</td>\n",
       "      <td>30</td>\n",
       "      <td>0.142857</td>\n",
       "      <td>0.857143</td>\n",
       "    </tr>\n",
       "  </tbody>\n",
       "</table>\n",
       "<p>1299 rows × 11 columns</p>\n",
       "</div>"
      ],
      "text/plain": [
       "      st_n  st_cd   news        date  \\\n",
       "0     셀트리온  68270   매일경제  2021-01-04   \n",
       "1     셀트리온  68270   매일경제  2021-01-04   \n",
       "2     셀트리온  68270   매일경제  2021-01-04   \n",
       "3     셀트리온  68270   매일경제  2021-01-04   \n",
       "4     셀트리온  68270   매일경제  2021-01-04   \n",
       "...    ...    ...    ...         ...   \n",
       "1294  셀트리온  68270  아시아경제  2021-09-13   \n",
       "1295  셀트리온  68270  아시아경제  2021-09-13   \n",
       "1296  셀트리온  68270  아시아경제  2021-09-14   \n",
       "1297  셀트리온  68270  아시아경제  2021-09-14   \n",
       "1298  셀트리온  68270  아시아경제  2021-09-15   \n",
       "\n",
       "                                           Tokenization  UpDown  dic  dic_pos  \\\n",
       "0     [보컬, 슈퍼, 개미, 김형준, 대표, 매일경제, 돈터뷰, 출연, 자신, 투자, 철...      -1   -9       12   \n",
       "1     [보컬, 슈퍼, 개미, 김형준, 대표, 매일경제, 돈터뷰, 출연, 자신, 투자, 철...      -1   -9       12   \n",
       "2     [국민은행, 바둑, 리그, 간판, 이름, 마지막, 첫날, 다리, 마지막, 킥스, 연...      -1    0        0   \n",
       "3     [여기, 크게, 머스크, 테슬라, 최고경영자, 지난해, 최고, 작년, 주가, 승률,...      -1   -9        9   \n",
       "4     [여기, 크게, 머스크, 테슬라, 최고경영자, 지난해, 최고, 작년, 주가, 승률,...      -1   -9        9   \n",
       "...                                                 ...     ...  ...      ...   \n",
       "1294  [이미지, 출처, 연합뉴스, 몃낫, 븘씠, 아시아, 경제, 연진, 기자, 국내, 증...      -1   -7        3   \n",
       "1295  [코스피, 개인, 코스닥, 매수, 이미지, 출처, 연합뉴스, 몃낫, 븘씠, 아시아,...      -1   -4       11   \n",
       "1296  [이미지, 출처, 연합뉴스, 몃낫, 븘씠, 아시아, 경제, 연진, 기자, 국내, 증...       1   -7        5   \n",
       "1297  [코스닥, 대로, 코스피, 상승세, 출발, 오전, 서울, 중구, 하나은행, 딜링룸,...       1  -11        4   \n",
       "1298  [코스피, 코스닥, 상승, 마감, 서울, 중구, 명동, 하나은행, 본점, 딜링룸, ...       1  -25        5   \n",
       "\n",
       "      dic_neg   pos_per   neg_per  \n",
       "0          21  0.363636  0.636364  \n",
       "1          21  0.363636  0.636364  \n",
       "2           0       NaN       NaN  \n",
       "3          18  0.333333  0.666667  \n",
       "4          18  0.333333  0.666667  \n",
       "...       ...       ...       ...  \n",
       "1294       10  0.230769  0.769231  \n",
       "1295       15  0.423077  0.576923  \n",
       "1296       12  0.294118  0.705882  \n",
       "1297       15  0.210526  0.789474  \n",
       "1298       30  0.142857  0.857143  \n",
       "\n",
       "[1299 rows x 11 columns]"
      ]
     },
     "execution_count": 32,
     "metadata": {},
     "output_type": "execute_result"
    }
   ],
   "source": [
    "score"
   ]
  },
  {
   "cell_type": "code",
   "execution_count": 33,
   "id": "d11e60ee",
   "metadata": {},
   "outputs": [
    {
     "data": {
      "text/plain": [
       "0.5219399538106235"
      ]
     },
     "execution_count": 33,
     "metadata": {},
     "output_type": "execute_result"
    }
   ],
   "source": [
    "(((score.UpDown >= 0) & (score.dic >= 0)).sum() + ((score.UpDown < 0) & (score.dic < 0)).sum())/len(score)"
   ]
  },
  {
   "cell_type": "code",
   "execution_count": 34,
   "id": "764d0442",
   "metadata": {
    "scrolled": true
   },
   "outputs": [
    {
     "data": {
      "text/plain": [
       "-1    0.584296\n",
       " 1    0.415704\n",
       "Name: UpDown, dtype: float64"
      ]
     },
     "execution_count": 34,
     "metadata": {},
     "output_type": "execute_result"
    }
   ],
   "source": [
    "score.UpDown.value_counts(normalize = True)"
   ]
  },
  {
   "cell_type": "code",
   "execution_count": 35,
   "id": "c2bcd5f8",
   "metadata": {
    "scrolled": true
   },
   "outputs": [
    {
     "data": {
      "text/plain": [
       "count    1299.000000\n",
       "mean       -9.143957\n",
       "std        17.309475\n",
       "min       -74.000000\n",
       "25%       -20.000000\n",
       "50%        -4.000000\n",
       "75%         3.000000\n",
       "max        42.000000\n",
       "Name: dic, dtype: float64"
      ]
     },
     "execution_count": 35,
     "metadata": {},
     "output_type": "execute_result"
    }
   ],
   "source": [
    "score.dic.describe()"
   ]
  },
  {
   "cell_type": "code",
   "execution_count": 77,
   "id": "9aa4e92f",
   "metadata": {},
   "outputs": [
    {
     "data": {
      "text/plain": [
       "261"
      ]
     },
     "execution_count": 77,
     "metadata": {},
     "output_type": "execute_result"
    }
   ],
   "source": [
    "(score.pos_per >= 0.9).sum()"
   ]
  },
  {
   "cell_type": "code",
   "execution_count": 78,
   "id": "6594cec3",
   "metadata": {},
   "outputs": [
    {
     "data": {
      "text/plain": [
       "121"
      ]
     },
     "execution_count": 78,
     "metadata": {},
     "output_type": "execute_result"
    }
   ],
   "source": [
    "((score.pos_per >= 0.9) & (score.UpDown >= 0)).sum()"
   ]
  },
  {
   "cell_type": "code",
   "execution_count": 76,
   "id": "79302842",
   "metadata": {},
   "outputs": [
    {
     "data": {
      "text/plain": [
       "0.46360153256704983"
      ]
     },
     "execution_count": 76,
     "metadata": {},
     "output_type": "execute_result"
    }
   ],
   "source": [
    "((score.pos_per >= 0.9) & (score.UpDown >= 0)).sum() /(score.pos_per >= 0.9).sum()"
   ]
  },
  {
   "cell_type": "code",
   "execution_count": 44,
   "id": "23dc5ce0",
   "metadata": {},
   "outputs": [],
   "source": [
    "score.to_csv('cel_2021_score.csv')"
   ]
  },
  {
   "cell_type": "markdown",
   "id": "92d31c6a",
   "metadata": {},
   "source": [
    "## =====하이닉스 사전 정확도 파악 ======"
   ]
  },
  {
   "cell_type": "code",
   "execution_count": 39,
   "id": "6ed50cd6",
   "metadata": {},
   "outputs": [],
   "source": [
    "hy_2018p = pd.read_csv('pos_sk_2018.csv')\n",
    "hy_2019p = pd.read_csv('pos_sk_2019.csv')\n",
    "hy_2020p = pd.read_csv('pos_sk_2020.csv')\n",
    "# hy_2021p = pd.read_csv('pos_sk_2021.csv')  2021년를 테스트로 사용\n",
    "\n",
    "hy_pro = pd.concat([hy_2018p, hy_2019p, hy_2020p])\n",
    "\n",
    "hy_2018 = pd.read_csv('neg_sk_2018.csv')\n",
    "hy_2019 = pd.read_csv('neg_sk_2019.csv')\n",
    "hy_2020 = pd.read_csv('neg_sk_2020.csv')\n",
    "# hy_2021 = pd.read_csv('neg_sk_2021.csv')  2021년를 테스트로 사용\n",
    "\n",
    "hy_neg = pd.concat([hy_2018, hy_2019, hy_2020])"
   ]
  },
  {
   "cell_type": "code",
   "execution_count": 40,
   "id": "19f79678",
   "metadata": {},
   "outputs": [],
   "source": [
    "# 0.6\n",
    "hy_neg6 = hy_neg[hy_neg['cosine_similarity'] > 0.6]\n",
    "hy_pro6 = hy_pro[hy_pro['cosine_similarity'] > 0.6]\n",
    "\n",
    "hy_neg_list = list(set(hy_neg6['news_word'].values))\n",
    "hy_pro_list = list(set(hy_pro6['news_word'].values))"
   ]
  },
  {
   "cell_type": "code",
   "execution_count": 41,
   "id": "de34df9e",
   "metadata": {},
   "outputs": [
    {
     "data": {
      "text/plain": [
       "(19, 91)"
      ]
     },
     "execution_count": 41,
     "metadata": {},
     "output_type": "execute_result"
    }
   ],
   "source": [
    "len(hy_neg_list), len(hy_pro_list)"
   ]
  },
  {
   "cell_type": "code",
   "execution_count": 42,
   "id": "7b172464",
   "metadata": {},
   "outputs": [],
   "source": [
    "with open('KOSELF_neg.txt', 'r') as f:\n",
    "    ko_neg = f.read()\n",
    "ko_neg = ko_neg.split('\\n')\n",
    "\n",
    "with open('KOSELF_pos.txt', 'r') as f:\n",
    "    ko_pro = f.read()\n",
    "ko_pro = ko_pro.split('\\n')\n",
    "\n",
    "ko_neg += hy_neg_list\n",
    "ko_pro += hy_pro_list\n",
    "\n",
    "# 교집합 제거\n",
    "neg=set(ko_neg) - set(ko_pro)\n",
    "pos=set(ko_pro) - set(ko_neg)"
   ]
  },
  {
   "cell_type": "code",
   "execution_count": 43,
   "id": "c27ee578",
   "metadata": {},
   "outputs": [],
   "source": [
    "new_hy = pd.read_csv('2021_sk.csv')\n",
    "new_hy['Tokenization'] = new_hy['Tokenization'].str.split(' ')\n",
    "\n",
    "score_sk = new_hy[['st_n','st_cd','news','date','Tokenization','UpDown']]\n",
    "\n",
    "score_sk['dic'] = 0\n",
    "score_sk['dic_pos'] = 0\n",
    "score_sk['dic_neg'] = 0\n",
    "score_sk['pos_per'] = 0.0\n",
    "score_sk['neg_per'] = 0.0\n",
    "\n",
    "for i in range(len(score_sk)):\n",
    "    for j in score_sk['Tokenization'].iloc[i]:\n",
    "        if j in neg:\n",
    "            score_sk['dic'].iloc[i] -= 1\n",
    "            score_sk['dic_neg'].iloc[i] += 1\n",
    "        if j in pos:\n",
    "            score_sk['dic'].iloc[i] += 1\n",
    "            score_sk['dic_pos'].iloc[i] += 1\n",
    "    score_sk['pos_per'].iloc[i] = score_sk['dic_pos'].iloc[i] / (score_sk['dic_neg'].iloc[i] + score_sk['dic_pos'].iloc[i])\n",
    "    score_sk['neg_per'].iloc[i] = score_sk['dic_neg'].iloc[i] / (score_sk['dic_neg'].iloc[i] + score_sk['dic_pos'].iloc[i])"
   ]
  },
  {
   "cell_type": "code",
   "execution_count": 45,
   "id": "bae91342",
   "metadata": {},
   "outputs": [
    {
     "data": {
      "text/html": [
       "<div>\n",
       "<style scoped>\n",
       "    .dataframe tbody tr th:only-of-type {\n",
       "        vertical-align: middle;\n",
       "    }\n",
       "\n",
       "    .dataframe tbody tr th {\n",
       "        vertical-align: top;\n",
       "    }\n",
       "\n",
       "    .dataframe thead th {\n",
       "        text-align: right;\n",
       "    }\n",
       "</style>\n",
       "<table border=\"1\" class=\"dataframe\">\n",
       "  <thead>\n",
       "    <tr style=\"text-align: right;\">\n",
       "      <th></th>\n",
       "      <th>st_n</th>\n",
       "      <th>st_cd</th>\n",
       "      <th>news</th>\n",
       "      <th>date</th>\n",
       "      <th>Tokenization</th>\n",
       "      <th>UpDown</th>\n",
       "      <th>dic</th>\n",
       "      <th>dic_pos</th>\n",
       "      <th>dic_neg</th>\n",
       "      <th>pos_per</th>\n",
       "      <th>neg_per</th>\n",
       "    </tr>\n",
       "  </thead>\n",
       "  <tbody>\n",
       "    <tr>\n",
       "      <th>0</th>\n",
       "      <td>sk하이닉스</td>\n",
       "      <td>660</td>\n",
       "      <td>매일경제</td>\n",
       "      <td>2021-01-04</td>\n",
       "      <td>[신년, 기획, 경제, 기상도, 이재용, 삼성, 전자, 부회장, 왼쪽, 지난해, 충...</td>\n",
       "      <td>1</td>\n",
       "      <td>7</td>\n",
       "      <td>7</td>\n",
       "      <td>0</td>\n",
       "      <td>1.000000</td>\n",
       "      <td>0.000000</td>\n",
       "    </tr>\n",
       "    <tr>\n",
       "      <th>1</th>\n",
       "      <td>sk하이닉스</td>\n",
       "      <td>660</td>\n",
       "      <td>매일경제</td>\n",
       "      <td>2021-01-04</td>\n",
       "      <td>[수출, 화물, 컨테이너선, 부산, 출발, 대양, 위기, 기회, 오늘, 한국, 기업...</td>\n",
       "      <td>1</td>\n",
       "      <td>-1</td>\n",
       "      <td>5</td>\n",
       "      <td>6</td>\n",
       "      <td>0.454545</td>\n",
       "      <td>0.545455</td>\n",
       "    </tr>\n",
       "    <tr>\n",
       "      <th>2</th>\n",
       "      <td>sk하이닉스</td>\n",
       "      <td>660</td>\n",
       "      <td>매일경제</td>\n",
       "      <td>2021-01-04</td>\n",
       "      <td>[여기, 크게, 증시, 전문가, 올해, 한국, 증시, 최선호, 종목, 전자, 꼽으면...</td>\n",
       "      <td>1</td>\n",
       "      <td>5</td>\n",
       "      <td>9</td>\n",
       "      <td>4</td>\n",
       "      <td>0.692308</td>\n",
       "      <td>0.307692</td>\n",
       "    </tr>\n",
       "    <tr>\n",
       "      <th>3</th>\n",
       "      <td>sk하이닉스</td>\n",
       "      <td>660</td>\n",
       "      <td>매일경제</td>\n",
       "      <td>2021-01-04</td>\n",
       "      <td>[신년, 기획, 한국, 증시, 코스피, 이후, 허락, 차례, 경신, 돌파, 시도, ...</td>\n",
       "      <td>1</td>\n",
       "      <td>1</td>\n",
       "      <td>2</td>\n",
       "      <td>1</td>\n",
       "      <td>0.666667</td>\n",
       "      <td>0.333333</td>\n",
       "    </tr>\n",
       "    <tr>\n",
       "      <th>4</th>\n",
       "      <td>sk하이닉스</td>\n",
       "      <td>660</td>\n",
       "      <td>매일경제</td>\n",
       "      <td>2021-01-05</td>\n",
       "      <td>[국내, 주요, 대기업, 최고경영자, 신년사, 통해, 새해, 경영, 목표, 코로나,...</td>\n",
       "      <td>1</td>\n",
       "      <td>5</td>\n",
       "      <td>5</td>\n",
       "      <td>0</td>\n",
       "      <td>1.000000</td>\n",
       "      <td>0.000000</td>\n",
       "    </tr>\n",
       "    <tr>\n",
       "      <th>...</th>\n",
       "      <td>...</td>\n",
       "      <td>...</td>\n",
       "      <td>...</td>\n",
       "      <td>...</td>\n",
       "      <td>...</td>\n",
       "      <td>...</td>\n",
       "      <td>...</td>\n",
       "      <td>...</td>\n",
       "      <td>...</td>\n",
       "      <td>...</td>\n",
       "      <td>...</td>\n",
       "    </tr>\n",
       "    <tr>\n",
       "      <th>1930</th>\n",
       "      <td>하이닉스</td>\n",
       "      <td>660</td>\n",
       "      <td>아시아경제</td>\n",
       "      <td>2021-09-15</td>\n",
       "      <td>[이미지, 출처, 연합뉴스, 몃낫, 븘씠, 아시아, 경제, 이민지, 기자, 코스피,...</td>\n",
       "      <td>-1</td>\n",
       "      <td>-30</td>\n",
       "      <td>9</td>\n",
       "      <td>39</td>\n",
       "      <td>0.187500</td>\n",
       "      <td>0.812500</td>\n",
       "    </tr>\n",
       "    <tr>\n",
       "      <th>1931</th>\n",
       "      <td>하이닉스</td>\n",
       "      <td>660</td>\n",
       "      <td>아시아경제</td>\n",
       "      <td>2021-09-15</td>\n",
       "      <td>[동반성, 위원회, 평가, 결과, 발표, 협력, 대상, 공정, 거래, 정착, 상생,...</td>\n",
       "      <td>-1</td>\n",
       "      <td>1</td>\n",
       "      <td>15</td>\n",
       "      <td>14</td>\n",
       "      <td>0.517241</td>\n",
       "      <td>0.482759</td>\n",
       "    </tr>\n",
       "    <tr>\n",
       "      <th>1932</th>\n",
       "      <td>하이닉스</td>\n",
       "      <td>660</td>\n",
       "      <td>아시아경제</td>\n",
       "      <td>2021-09-15</td>\n",
       "      <td>[외국인, 수로, 전환, 부양책, 대감, 증시, 유입, 이미지, 출처, 연합뉴스, ...</td>\n",
       "      <td>-1</td>\n",
       "      <td>-27</td>\n",
       "      <td>1</td>\n",
       "      <td>28</td>\n",
       "      <td>0.034483</td>\n",
       "      <td>0.965517</td>\n",
       "    </tr>\n",
       "    <tr>\n",
       "      <th>1933</th>\n",
       "      <td>하이닉스</td>\n",
       "      <td>660</td>\n",
       "      <td>아시아경제</td>\n",
       "      <td>2021-09-15</td>\n",
       "      <td>[정부, 출연, 연구원, 기술, 창업, 대박, 신화, 속출, 연구원, 일반인, 기업...</td>\n",
       "      <td>-1</td>\n",
       "      <td>5</td>\n",
       "      <td>6</td>\n",
       "      <td>1</td>\n",
       "      <td>0.857143</td>\n",
       "      <td>0.142857</td>\n",
       "    </tr>\n",
       "    <tr>\n",
       "      <th>1934</th>\n",
       "      <td>하이닉스</td>\n",
       "      <td>660</td>\n",
       "      <td>아시아경제</td>\n",
       "      <td>2021-09-16</td>\n",
       "      <td>[마진, 포기, 사이클, 소재, 집중, 나우, 인수, 지속, 가능, 경영, 클린, ...</td>\n",
       "      <td>-1</td>\n",
       "      <td>7</td>\n",
       "      <td>7</td>\n",
       "      <td>0</td>\n",
       "      <td>1.000000</td>\n",
       "      <td>0.000000</td>\n",
       "    </tr>\n",
       "  </tbody>\n",
       "</table>\n",
       "<p>1935 rows × 11 columns</p>\n",
       "</div>"
      ],
      "text/plain": [
       "        st_n  st_cd   news        date  \\\n",
       "0     sk하이닉스    660   매일경제  2021-01-04   \n",
       "1     sk하이닉스    660   매일경제  2021-01-04   \n",
       "2     sk하이닉스    660   매일경제  2021-01-04   \n",
       "3     sk하이닉스    660   매일경제  2021-01-04   \n",
       "4     sk하이닉스    660   매일경제  2021-01-05   \n",
       "...      ...    ...    ...         ...   \n",
       "1930    하이닉스    660  아시아경제  2021-09-15   \n",
       "1931    하이닉스    660  아시아경제  2021-09-15   \n",
       "1932    하이닉스    660  아시아경제  2021-09-15   \n",
       "1933    하이닉스    660  아시아경제  2021-09-15   \n",
       "1934    하이닉스    660  아시아경제  2021-09-16   \n",
       "\n",
       "                                           Tokenization  UpDown  dic  dic_pos  \\\n",
       "0     [신년, 기획, 경제, 기상도, 이재용, 삼성, 전자, 부회장, 왼쪽, 지난해, 충...       1    7        7   \n",
       "1     [수출, 화물, 컨테이너선, 부산, 출발, 대양, 위기, 기회, 오늘, 한국, 기업...       1   -1        5   \n",
       "2     [여기, 크게, 증시, 전문가, 올해, 한국, 증시, 최선호, 종목, 전자, 꼽으면...       1    5        9   \n",
       "3     [신년, 기획, 한국, 증시, 코스피, 이후, 허락, 차례, 경신, 돌파, 시도, ...       1    1        2   \n",
       "4     [국내, 주요, 대기업, 최고경영자, 신년사, 통해, 새해, 경영, 목표, 코로나,...       1    5        5   \n",
       "...                                                 ...     ...  ...      ...   \n",
       "1930  [이미지, 출처, 연합뉴스, 몃낫, 븘씠, 아시아, 경제, 이민지, 기자, 코스피,...      -1  -30        9   \n",
       "1931  [동반성, 위원회, 평가, 결과, 발표, 협력, 대상, 공정, 거래, 정착, 상생,...      -1    1       15   \n",
       "1932  [외국인, 수로, 전환, 부양책, 대감, 증시, 유입, 이미지, 출처, 연합뉴스, ...      -1  -27        1   \n",
       "1933  [정부, 출연, 연구원, 기술, 창업, 대박, 신화, 속출, 연구원, 일반인, 기업...      -1    5        6   \n",
       "1934  [마진, 포기, 사이클, 소재, 집중, 나우, 인수, 지속, 가능, 경영, 클린, ...      -1    7        7   \n",
       "\n",
       "      dic_neg   pos_per   neg_per  \n",
       "0           0  1.000000  0.000000  \n",
       "1           6  0.454545  0.545455  \n",
       "2           4  0.692308  0.307692  \n",
       "3           1  0.666667  0.333333  \n",
       "4           0  1.000000  0.000000  \n",
       "...       ...       ...       ...  \n",
       "1930       39  0.187500  0.812500  \n",
       "1931       14  0.517241  0.482759  \n",
       "1932       28  0.034483  0.965517  \n",
       "1933        1  0.857143  0.142857  \n",
       "1934        0  1.000000  0.000000  \n",
       "\n",
       "[1935 rows x 11 columns]"
      ]
     },
     "execution_count": 45,
     "metadata": {},
     "output_type": "execute_result"
    }
   ],
   "source": [
    "score_sk"
   ]
  },
  {
   "cell_type": "code",
   "execution_count": 93,
   "id": "c615dcda",
   "metadata": {},
   "outputs": [],
   "source": [
    "sss = score_sk[(score_sk.pos_per != 1) & (score_sk.neg_per != 1)]"
   ]
  },
  {
   "cell_type": "code",
   "execution_count": 98,
   "id": "0ee696f5",
   "metadata": {},
   "outputs": [
    {
     "data": {
      "text/plain": [
       "0"
      ]
     },
     "execution_count": 98,
     "metadata": {},
     "output_type": "execute_result"
    }
   ],
   "source": [
    "(sss.pos_per == 0).sum()"
   ]
  },
  {
   "cell_type": "code",
   "execution_count": 94,
   "id": "93e1e02e",
   "metadata": {},
   "outputs": [
    {
     "data": {
      "text/plain": [
       "0"
      ]
     },
     "execution_count": 94,
     "metadata": {},
     "output_type": "execute_result"
    }
   ],
   "source": [
    "(sss.pos_per == 1).sum()"
   ]
  },
  {
   "cell_type": "code",
   "execution_count": 95,
   "id": "4d6abe6d",
   "metadata": {},
   "outputs": [
    {
     "data": {
      "text/plain": [
       "24"
      ]
     },
     "execution_count": 95,
     "metadata": {},
     "output_type": "execute_result"
    }
   ],
   "source": [
    "((sss.pos_per >= 0.9) & (sss.UpDown >= 0)).sum()"
   ]
  },
  {
   "cell_type": "code",
   "execution_count": 96,
   "id": "e565e09e",
   "metadata": {},
   "outputs": [
    {
     "data": {
      "text/plain": [
       "45"
      ]
     },
     "execution_count": 96,
     "metadata": {},
     "output_type": "execute_result"
    }
   ],
   "source": [
    "(sss.pos_per >= 0.9).sum()"
   ]
  },
  {
   "cell_type": "code",
   "execution_count": 113,
   "id": "3c73015e",
   "metadata": {},
   "outputs": [
    {
     "data": {
      "text/html": [
       "<div>\n",
       "<style scoped>\n",
       "    .dataframe tbody tr th:only-of-type {\n",
       "        vertical-align: middle;\n",
       "    }\n",
       "\n",
       "    .dataframe tbody tr th {\n",
       "        vertical-align: top;\n",
       "    }\n",
       "\n",
       "    .dataframe thead th {\n",
       "        text-align: right;\n",
       "    }\n",
       "</style>\n",
       "<table border=\"1\" class=\"dataframe\">\n",
       "  <thead>\n",
       "    <tr style=\"text-align: right;\">\n",
       "      <th></th>\n",
       "      <th>st_n</th>\n",
       "      <th>st_cd</th>\n",
       "      <th>news</th>\n",
       "      <th>date</th>\n",
       "      <th>Tokenization</th>\n",
       "      <th>UpDown</th>\n",
       "      <th>dic</th>\n",
       "      <th>dic_pos</th>\n",
       "      <th>dic_neg</th>\n",
       "      <th>pos_per</th>\n",
       "      <th>neg_per</th>\n",
       "    </tr>\n",
       "  </thead>\n",
       "  <tbody>\n",
       "    <tr>\n",
       "      <th>37</th>\n",
       "      <td>sk하이닉스</td>\n",
       "      <td>660</td>\n",
       "      <td>매일경제</td>\n",
       "      <td>2021-01-15</td>\n",
       "      <td>[여기, 크게, 하이, 투자, 증권, 한국판, 뉴딜, 정책, 구조, 성장, 디지털,...</td>\n",
       "      <td>-1</td>\n",
       "      <td>2</td>\n",
       "      <td>3</td>\n",
       "      <td>1</td>\n",
       "      <td>0.750000</td>\n",
       "      <td>0.250000</td>\n",
       "    </tr>\n",
       "    <tr>\n",
       "      <th>55</th>\n",
       "      <td>sk하이닉스</td>\n",
       "      <td>660</td>\n",
       "      <td>매일경제</td>\n",
       "      <td>2021-01-22</td>\n",
       "      <td>[사진, 용인, 굿모닝, 프레스티지, 여기, 크게, 동안, 용인, 하이닉스, 세계,...</td>\n",
       "      <td>-1</td>\n",
       "      <td>5</td>\n",
       "      <td>6</td>\n",
       "      <td>1</td>\n",
       "      <td>0.857143</td>\n",
       "      <td>0.142857</td>\n",
       "    </tr>\n",
       "    <tr>\n",
       "      <th>66</th>\n",
       "      <td>sk하이닉스</td>\n",
       "      <td>660</td>\n",
       "      <td>매일경제</td>\n",
       "      <td>2021-01-29</td>\n",
       "      <td>[하이닉스, 이천, 연구개발, 센터, 사진, 제공, 하이닉스, 하이닉스, 지난해, ...</td>\n",
       "      <td>-1</td>\n",
       "      <td>13</td>\n",
       "      <td>16</td>\n",
       "      <td>3</td>\n",
       "      <td>0.842105</td>\n",
       "      <td>0.157895</td>\n",
       "    </tr>\n",
       "    <tr>\n",
       "      <th>97</th>\n",
       "      <td>sk하이닉스</td>\n",
       "      <td>660</td>\n",
       "      <td>매일경제</td>\n",
       "      <td>2021-02-08</td>\n",
       "      <td>[세대, 성과급, 논란, 산업, 강타, 직원, 제기, 성과급, 문제, 대해, 하이닉...</td>\n",
       "      <td>-1</td>\n",
       "      <td>10</td>\n",
       "      <td>11</td>\n",
       "      <td>1</td>\n",
       "      <td>0.916667</td>\n",
       "      <td>0.083333</td>\n",
       "    </tr>\n",
       "    <tr>\n",
       "      <th>113</th>\n",
       "      <td>sk하이닉스</td>\n",
       "      <td>660</td>\n",
       "      <td>매일경제</td>\n",
       "      <td>2021-02-17</td>\n",
       "      <td>[쿠팡, 미국, 뉴욕, 증권, 거래소, 상장, 나비효과, 국내, 경쟁, 기업인, 네...</td>\n",
       "      <td>-1</td>\n",
       "      <td>9</td>\n",
       "      <td>10</td>\n",
       "      <td>1</td>\n",
       "      <td>0.909091</td>\n",
       "      <td>0.090909</td>\n",
       "    </tr>\n",
       "    <tr>\n",
       "      <th>...</th>\n",
       "      <td>...</td>\n",
       "      <td>...</td>\n",
       "      <td>...</td>\n",
       "      <td>...</td>\n",
       "      <td>...</td>\n",
       "      <td>...</td>\n",
       "      <td>...</td>\n",
       "      <td>...</td>\n",
       "      <td>...</td>\n",
       "      <td>...</td>\n",
       "      <td>...</td>\n",
       "    </tr>\n",
       "    <tr>\n",
       "      <th>1895</th>\n",
       "      <td>sk하이닉스</td>\n",
       "      <td>660</td>\n",
       "      <td>아시아경제</td>\n",
       "      <td>2021-09-06</td>\n",
       "      <td>[유해, 가스, 스크, 러버, 장비, 판매, 아시아, 경제, 유현, 기자, 반도체,...</td>\n",
       "      <td>-1</td>\n",
       "      <td>17</td>\n",
       "      <td>19</td>\n",
       "      <td>2</td>\n",
       "      <td>0.904762</td>\n",
       "      <td>0.095238</td>\n",
       "    </tr>\n",
       "    <tr>\n",
       "      <th>1897</th>\n",
       "      <td>sk하이닉스</td>\n",
       "      <td>660</td>\n",
       "      <td>아시아경제</td>\n",
       "      <td>2021-09-06</td>\n",
       "      <td>[한솔, 케미칼, 과산화수소, 프리, 커서, 수요, 증가, 수혜, 소재, 부문, 성...</td>\n",
       "      <td>-1</td>\n",
       "      <td>19</td>\n",
       "      <td>20</td>\n",
       "      <td>1</td>\n",
       "      <td>0.952381</td>\n",
       "      <td>0.047619</td>\n",
       "    </tr>\n",
       "    <tr>\n",
       "      <th>1900</th>\n",
       "      <td>sk하이닉스</td>\n",
       "      <td>660</td>\n",
       "      <td>아시아경제</td>\n",
       "      <td>2021-09-07</td>\n",
       "      <td>[건설, 경기도, 용인시, 일원, 힐스테이트, 용인, 둔전역, 순위, 청약, 결과,...</td>\n",
       "      <td>-1</td>\n",
       "      <td>2</td>\n",
       "      <td>3</td>\n",
       "      <td>1</td>\n",
       "      <td>0.750000</td>\n",
       "      <td>0.250000</td>\n",
       "    </tr>\n",
       "    <tr>\n",
       "      <th>1902</th>\n",
       "      <td>sk하이닉스</td>\n",
       "      <td>660</td>\n",
       "      <td>아시아경제</td>\n",
       "      <td>2021-09-07</td>\n",
       "      <td>[넥실, 리스, 정읍, 공장, 폐기물, 재활용, 다른, 사업, 인증, 확대, 추진,...</td>\n",
       "      <td>-1</td>\n",
       "      <td>7</td>\n",
       "      <td>8</td>\n",
       "      <td>1</td>\n",
       "      <td>0.888889</td>\n",
       "      <td>0.111111</td>\n",
       "    </tr>\n",
       "    <tr>\n",
       "      <th>1933</th>\n",
       "      <td>하이닉스</td>\n",
       "      <td>660</td>\n",
       "      <td>아시아경제</td>\n",
       "      <td>2021-09-15</td>\n",
       "      <td>[정부, 출연, 연구원, 기술, 창업, 대박, 신화, 속출, 연구원, 일반인, 기업...</td>\n",
       "      <td>-1</td>\n",
       "      <td>5</td>\n",
       "      <td>6</td>\n",
       "      <td>1</td>\n",
       "      <td>0.857143</td>\n",
       "      <td>0.142857</td>\n",
       "    </tr>\n",
       "  </tbody>\n",
       "</table>\n",
       "<p>192 rows × 11 columns</p>\n",
       "</div>"
      ],
      "text/plain": [
       "        st_n  st_cd   news        date  \\\n",
       "37    sk하이닉스    660   매일경제  2021-01-15   \n",
       "55    sk하이닉스    660   매일경제  2021-01-22   \n",
       "66    sk하이닉스    660   매일경제  2021-01-29   \n",
       "97    sk하이닉스    660   매일경제  2021-02-08   \n",
       "113   sk하이닉스    660   매일경제  2021-02-17   \n",
       "...      ...    ...    ...         ...   \n",
       "1895  sk하이닉스    660  아시아경제  2021-09-06   \n",
       "1897  sk하이닉스    660  아시아경제  2021-09-06   \n",
       "1900  sk하이닉스    660  아시아경제  2021-09-07   \n",
       "1902  sk하이닉스    660  아시아경제  2021-09-07   \n",
       "1933    하이닉스    660  아시아경제  2021-09-15   \n",
       "\n",
       "                                           Tokenization  UpDown  dic  dic_pos  \\\n",
       "37    [여기, 크게, 하이, 투자, 증권, 한국판, 뉴딜, 정책, 구조, 성장, 디지털,...      -1    2        3   \n",
       "55    [사진, 용인, 굿모닝, 프레스티지, 여기, 크게, 동안, 용인, 하이닉스, 세계,...      -1    5        6   \n",
       "66    [하이닉스, 이천, 연구개발, 센터, 사진, 제공, 하이닉스, 하이닉스, 지난해, ...      -1   13       16   \n",
       "97    [세대, 성과급, 논란, 산업, 강타, 직원, 제기, 성과급, 문제, 대해, 하이닉...      -1   10       11   \n",
       "113   [쿠팡, 미국, 뉴욕, 증권, 거래소, 상장, 나비효과, 국내, 경쟁, 기업인, 네...      -1    9       10   \n",
       "...                                                 ...     ...  ...      ...   \n",
       "1895  [유해, 가스, 스크, 러버, 장비, 판매, 아시아, 경제, 유현, 기자, 반도체,...      -1   17       19   \n",
       "1897  [한솔, 케미칼, 과산화수소, 프리, 커서, 수요, 증가, 수혜, 소재, 부문, 성...      -1   19       20   \n",
       "1900  [건설, 경기도, 용인시, 일원, 힐스테이트, 용인, 둔전역, 순위, 청약, 결과,...      -1    2        3   \n",
       "1902  [넥실, 리스, 정읍, 공장, 폐기물, 재활용, 다른, 사업, 인증, 확대, 추진,...      -1    7        8   \n",
       "1933  [정부, 출연, 연구원, 기술, 창업, 대박, 신화, 속출, 연구원, 일반인, 기업...      -1    5        6   \n",
       "\n",
       "      dic_neg   pos_per   neg_per  \n",
       "37          1  0.750000  0.250000  \n",
       "55          1  0.857143  0.142857  \n",
       "66          3  0.842105  0.157895  \n",
       "97          1  0.916667  0.083333  \n",
       "113         1  0.909091  0.090909  \n",
       "...       ...       ...       ...  \n",
       "1895        2  0.904762  0.095238  \n",
       "1897        1  0.952381  0.047619  \n",
       "1900        1  0.750000  0.250000  \n",
       "1902        1  0.888889  0.111111  \n",
       "1933        1  0.857143  0.142857  \n",
       "\n",
       "[192 rows x 11 columns]"
      ]
     },
     "execution_count": 113,
     "metadata": {},
     "output_type": "execute_result"
    }
   ],
   "source": [
    "sss[((sss.pos_per >= 0.7) & (sss.UpDown < 0))]"
   ]
  },
  {
   "cell_type": "code",
   "execution_count": 111,
   "id": "41a0c648",
   "metadata": {},
   "outputs": [
    {
     "data": {
      "text/plain": [
       "count    192.000000\n",
       "mean       1.687500\n",
       "std        1.071404\n",
       "min        1.000000\n",
       "25%        1.000000\n",
       "50%        1.000000\n",
       "75%        2.000000\n",
       "max        7.000000\n",
       "Name: dic_neg, dtype: float64"
      ]
     },
     "execution_count": 111,
     "metadata": {},
     "output_type": "execute_result"
    }
   ],
   "source": [
    "sss[((sss.pos_per >= 0.7) & (sss.UpDown < 0))]['dic_neg'].describe()"
   ]
  },
  {
   "cell_type": "code",
   "execution_count": 110,
   "id": "bde6a18b",
   "metadata": {},
   "outputs": [
    {
     "data": {
      "text/plain": [
       "count    192.000000\n",
       "mean       7.744792\n",
       "std        4.598255\n",
       "min        3.000000\n",
       "25%        4.000000\n",
       "50%        6.000000\n",
       "75%       10.000000\n",
       "max       27.000000\n",
       "Name: dic_pos, dtype: float64"
      ]
     },
     "execution_count": 110,
     "metadata": {},
     "output_type": "execute_result"
    }
   ],
   "source": [
    "sss[((sss.pos_per >= 0.7) & (sss.UpDown < 0))]['dic_pos'].describe()"
   ]
  },
  {
   "cell_type": "code",
   "execution_count": 103,
   "id": "1ecb4fbf",
   "metadata": {},
   "outputs": [
    {
     "data": {
      "text/plain": [
       "0.5333333333333333"
      ]
     },
     "execution_count": 103,
     "metadata": {},
     "output_type": "execute_result"
    }
   ],
   "source": [
    "((sss.pos_per >= 0.9) & (sss.UpDown >= 0)).sum() / (sss.pos_per >= 0.9).sum()"
   ]
  },
  {
   "cell_type": "code",
   "execution_count": 99,
   "id": "5fd45e90",
   "metadata": {},
   "outputs": [
    {
     "data": {
      "text/plain": [
       "0.49351535836177474"
      ]
     },
     "execution_count": 99,
     "metadata": {},
     "output_type": "execute_result"
    }
   ],
   "source": [
    "(((sss.UpDown >= 0) & (sss.dic >= 0)).sum() + ((sss.UpDown < 0) & (sss.dic < 0)).sum())/len(sss)"
   ]
  },
  {
   "cell_type": "code",
   "execution_count": 47,
   "id": "819645e9",
   "metadata": {},
   "outputs": [
    {
     "data": {
      "text/plain": [
       "0.5023255813953489"
      ]
     },
     "execution_count": 47,
     "metadata": {},
     "output_type": "execute_result"
    }
   ],
   "source": [
    "(((score_sk.UpDown >= 0) & (score_sk.dic >= 0)).sum() + ((score_sk.UpDown < 0) & (score_sk.dic < 0)).sum())/len(score_sk)"
   ]
  },
  {
   "cell_type": "code",
   "execution_count": 82,
   "id": "85f010d1",
   "metadata": {},
   "outputs": [
    {
     "data": {
      "text/plain": [
       "-1    1061\n",
       " 1     874\n",
       "Name: UpDown, dtype: int64"
      ]
     },
     "execution_count": 82,
     "metadata": {},
     "output_type": "execute_result"
    }
   ],
   "source": [
    "score_sk.UpDown.value_counts()"
   ]
  },
  {
   "cell_type": "code",
   "execution_count": 49,
   "id": "11e9a35e",
   "metadata": {},
   "outputs": [
    {
     "data": {
      "text/plain": [
       "count    1935.000000\n",
       "mean       -2.038243\n",
       "std         7.672968\n",
       "min       -37.000000\n",
       "25%        -7.000000\n",
       "50%         0.000000\n",
       "75%         3.000000\n",
       "max        50.000000\n",
       "Name: dic, dtype: float64"
      ]
     },
     "execution_count": 49,
     "metadata": {},
     "output_type": "execute_result"
    }
   ],
   "source": [
    "score_sk.dic.describe()"
   ]
  },
  {
   "cell_type": "code",
   "execution_count": 46,
   "id": "30e04f50",
   "metadata": {},
   "outputs": [],
   "source": [
    "score_sk.to_csv('./result/sk_2021_score.csv')"
   ]
  },
  {
   "cell_type": "code",
   "execution_count": 81,
   "id": "bbc6e596",
   "metadata": {},
   "outputs": [
    {
     "data": {
      "text/plain": [
       "1935"
      ]
     },
     "execution_count": 81,
     "metadata": {},
     "output_type": "execute_result"
    }
   ],
   "source": [
    "len(score_sk)"
   ]
  },
  {
   "cell_type": "code",
   "execution_count": 80,
   "id": "bc2e9ada",
   "metadata": {},
   "outputs": [
    {
     "data": {
      "text/plain": [
       "110"
      ]
     },
     "execution_count": 80,
     "metadata": {},
     "output_type": "execute_result"
    }
   ],
   "source": [
    "((score_sk.pos_per == 1) & (score_sk.UpDown < 0)).sum()"
   ]
  },
  {
   "cell_type": "code",
   "execution_count": 75,
   "id": "9314d5a1",
   "metadata": {},
   "outputs": [
    {
     "data": {
      "text/plain": [
       "206"
      ]
     },
     "execution_count": 75,
     "metadata": {},
     "output_type": "execute_result"
    }
   ],
   "source": [
    "(score_sk.pos_per == 1).sum() "
   ]
  },
  {
   "cell_type": "code",
   "execution_count": 65,
   "id": "bfaf4c30",
   "metadata": {},
   "outputs": [
    {
     "data": {
      "text/plain": [
       "0.47808764940239046"
      ]
     },
     "execution_count": 65,
     "metadata": {},
     "output_type": "execute_result"
    }
   ],
   "source": [
    "((score_sk.pos_per >= 0.9) & (score_sk.UpDown >= 0)).sum() /(score_sk.pos_per >= 0.9).sum() "
   ]
  },
  {
   "cell_type": "code",
   "execution_count": 56,
   "id": "5cdea5f6",
   "metadata": {},
   "outputs": [
    {
     "data": {
      "text/plain": [
       "1935"
      ]
     },
     "execution_count": 56,
     "metadata": {},
     "output_type": "execute_result"
    }
   ],
   "source": [
    "len(score_sk)"
   ]
  },
  {
   "cell_type": "code",
   "execution_count": null,
   "id": "8cac606f",
   "metadata": {},
   "outputs": [],
   "source": []
  }
 ],
 "metadata": {
  "kernelspec": {
   "display_name": "Python 3",
   "language": "python",
   "name": "python3"
  },
  "language_info": {
   "codemirror_mode": {
    "name": "ipython",
    "version": 3
   },
   "file_extension": ".py",
   "mimetype": "text/x-python",
   "name": "python",
   "nbconvert_exporter": "python",
   "pygments_lexer": "ipython3",
   "version": "3.6.9"
  }
 },
 "nbformat": 4,
 "nbformat_minor": 5
}
