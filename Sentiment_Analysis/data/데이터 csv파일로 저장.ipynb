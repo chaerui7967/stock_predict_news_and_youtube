{
 "cells": [
  {
   "cell_type": "markdown",
   "id": "518eaeba",
   "metadata": {},
   "source": [
    "## 데이터 로드 및 저장\n",
    "- 000660 : 하이닉스\n",
    "- 005380 : 현대차\n",
    "- 005930 : 삼성전자\n",
    "- 051910 : LG화학"
   ]
  },
  {
   "cell_type": "code",
   "execution_count": 12,
   "id": "6b95b15d",
   "metadata": {},
   "outputs": [],
   "source": [
    "import pymysql\n",
    "import pandas\n",
    "\n",
    "com_list = {'하이닉스' : '000660',\n",
    "           '현대차' : '005380',\n",
    "           '삼성전자' : '005930',\n",
    "           'LG화학' : '051910'}\n",
    "media_list = {'아시아경제_' : 'asia_',\n",
    "             '매일경제_': 'maeil_',\n",
    "             'youtube_한국경제_':'hk_',\n",
    "             'youtube_삼프로_':'sampro_',\n",
    "             'youtube_슈카_':'suka_'}\n",
    "\n",
    "for n,m in media_list.items():\n",
    "    for i,j in com_list.items():\n",
    "\n",
    "        db = pymysql.connect(\n",
    "            user='root', \n",
    "            passwd='1234', \n",
    "            host='3.35.70.166', \n",
    "            db='proj', \n",
    "            charset = 'utf8'\n",
    "        )\n",
    "\n",
    "        cursor = db.cursor(pymysql.cursors.DictCursor)\n",
    "        if 'youtube' in n:\n",
    "            sql = \"select * from youtube_\"+ m + j +\" where length(date) = 10\"\n",
    "        else:\n",
    "            sql = \"select * from \"+ m +\"news_craw_\" + j +\" where length(date) = 10\"  # date 널값 제외\n",
    "        cursor.execute(sql)\n",
    "\n",
    "        result = cursor.fetchall()\n",
    "\n",
    "        # 데이터 프레임으로 변경\n",
    "        df = pandas.DataFrame(result)\n",
    "\n",
    "        # csv 저장\n",
    "        df.to_csv('df_'+ n + i + '.csv', index=False)"
   ]
  },
  {
   "cell_type": "code",
   "execution_count": 24,
   "id": "32e6e5b1",
   "metadata": {},
   "outputs": [],
   "source": [
    "import os, warnings\n",
    "warnings.filterwarnings('ignore')\n",
    "listdata = []"
   ]
  },
  {
   "cell_type": "code",
   "execution_count": 26,
   "id": "51ccafb1",
   "metadata": {},
   "outputs": [
    {
     "name": "stdout",
     "output_type": "stream",
     "text": [
      "df_youtube_슈카삼성전자.csv\n",
      "holidays.csv\n",
      "df_아시아경제_하이닉스.csv\n",
      "df_아시아경제_현대차.csv\n",
      "df_youtube_슈카LG화학.csv\n",
      "df_매일경제_현대차.csv\n",
      "df_youtube_한국경제삼성전자.csv\n",
      "df_youtube_한국경제현대차.csv\n",
      "매일경제_18to21.csv\n",
      "df_youtube_삼프로현대차.csv\n",
      "df_아시아경제_삼성전자.csv\n",
      "df_youtube_삼프로LG화학.csv\n",
      "df_youtube_삼프로삼성전자.csv\n",
      "prec.csv\n",
      "df_youtube_슈카하이닉스.csv\n",
      "df_youtube_한국경제하이닉스.csv\n",
      "df_youtube_삼프로하이닉스.csv\n",
      "df_아시아경제_LG화학.csv\n",
      "df_youtube_한국경제LG화학.csv\n",
      "df_매일경제_삼성전자.csv\n",
      "df_youtube_슈카현대차.csv\n",
      "df_매일경제_하이닉스.csv\n",
      "df_매일경제_LG화학.csv\n"
     ]
    }
   ],
   "source": [
    "for i in os.listdir():\n",
    "    if i[-4:] == '.csv':\n",
    "        listdata.append(i)\n",
    "        print(i)"
   ]
  },
  {
   "cell_type": "code",
   "execution_count": null,
   "id": "d9bbbff4",
   "metadata": {},
   "outputs": [],
   "source": []
  }
 ],
 "metadata": {
  "kernelspec": {
   "display_name": "Python 3",
   "language": "python",
   "name": "python3"
  },
  "language_info": {
   "codemirror_mode": {
    "name": "ipython",
    "version": 3
   },
   "file_extension": ".py",
   "mimetype": "text/x-python",
   "name": "python",
   "nbconvert_exporter": "python",
   "pygments_lexer": "ipython3",
   "version": "3.6.9"
  }
 },
 "nbformat": 4,
 "nbformat_minor": 5
}
