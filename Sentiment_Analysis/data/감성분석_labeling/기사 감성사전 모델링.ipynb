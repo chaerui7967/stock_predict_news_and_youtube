{
 "cells": [
  {
   "cell_type": "code",
   "execution_count": 4,
   "id": "68bb4169",
   "metadata": {},
   "outputs": [
    {
     "data": {
      "text/plain": [
       "(7974, 1500)"
      ]
     },
     "execution_count": 4,
     "metadata": {},
     "output_type": "execute_result"
    }
   ],
   "source": [
    "import pandas as pd \n",
    "\n",
    "df = pd.read_csv('./data/labeling.csv')\n",
    "\n",
    "train = df[:-1500]\n",
    "test = df[-1500:]\n",
    "\n",
    "len(train), len(test)"
   ]
  },
  {
   "cell_type": "code",
   "execution_count": 9,
   "id": "8d6ae52b",
   "metadata": {},
   "outputs": [
    {
     "name": "stdout",
     "output_type": "stream",
     "text": [
      "   label  count\n",
      "0     -1   1356\n",
      "1      0    588\n",
      "2      1   6030\n"
     ]
    },
    {
     "data": {
      "image/png": "[encoded data removed]",
      "text/plain": [
       "<Figure size 432x288 with 1 Axes>"
      ]
     },
     "metadata": {
      "needs_background": "light"
     },
     "output_type": "display_data"
    }
   ],
   "source": [
    "%matplotlib inline \n",
    "import matplotlib.pyplot as plt\n",
    "\n",
    "train['label'].value_counts().plot(kind='bar')\n",
    "print(train.groupby('label').size().reset_index(name='count'))"
   ]
  },
  {
   "cell_type": "code",
   "execution_count": 10,
   "id": "5269209e",
   "metadata": {},
   "outputs": [
    {
     "name": "stdout",
     "output_type": "stream",
     "text": [
      "   label  count\n",
      "0     -1    224\n",
      "1      0     78\n",
      "2      1   1198\n"
     ]
    },
    {
     "data": {
      "image/png": "[encoded data removed]",
      "text/plain": [
       "<Figure size 432x288 with 1 Axes>"
      ]
     },
     "metadata": {
      "needs_background": "light"
     },
     "output_type": "display_data"
    }
   ],
   "source": [
    "test['label'].value_counts().plot(kind='bar')\n",
    "print(test.groupby('label').size().reset_index(name='count'))"
   ]
  },
  {
   "cell_type": "code",
   "execution_count": 11,
   "id": "b0b2cf43",
   "metadata": {},
   "outputs": [],
   "source": [
    "# 불용어 로드\n",
    "url = 'https://raw.githubusercontent.com/chaerui7967/stock_predict_news_and_youtube/master/Sentiment_Analysis/data/stopwords_ver1.txt'\n",
    "stopwords = list(pd.read_csv(url, header=None)[0])"
   ]
  },
  {
   "cell_type": "code",
   "execution_count": null,
   "id": "e74d96c9",
   "metadata": {},
   "outputs": [],
   "source": [
    "import konlpy\n",
    "from konlpy.tag import Okt\n",
    "okt = Okt()\n",
    "X_train = [] \n",
    "for sentence in train['text']: \n",
    "    temp_X = [] \n",
    "    temp_X = okt.morphs(sentence, stem=True) # 토큰화 \n",
    "    temp_X = [word for word in temp_X if not word in stopwords] # 불용어 제거\n",
    "    temp_X = [word for word in temp_X if len(word) > 1] # 불용어 제거 \n",
    "    X_train.append(temp_X) \n",
    "\n",
    "X_test = [] \n",
    "for sentence in test['text']:\n",
    "    temp_X = [] \n",
    "    temp_X = okt.morphs(sentence, stem=True) # 토큰화 \n",
    "    temp_X = [word for word in temp_X if not word in stopwords]\n",
    "    temp_X = [word for word in temp_X if len(word) > 1] # 불용어 제거 \n",
    "    X_test.append(temp_X)"
   ]
  },
  {
   "cell_type": "code",
   "execution_count": null,
   "id": "9d7b4466",
   "metadata": {},
   "outputs": [],
   "source": [
    "print('train', X_train[:3])\n",
    "print('test', X_test[:3])"
   ]
  },
  {
   "cell_type": "code",
   "execution_count": null,
   "id": "1c2ac32b",
   "metadata": {},
   "outputs": [],
   "source": [
    "from keras.preprocessing.text import Tokenizer \n",
    "max_words = 35000\n",
    "tokenizer = Tokenizer(num_words = max_words)\n",
    "tokenizer.fit_on_texts(X_train)\n",
    "X_train = tokenizer.texts_to_sequences(X_train)\n",
    "X_test = tokenizer.texts_to_sequences(X_test)"
   ]
  },
  {
   "cell_type": "code",
   "execution_count": null,
   "id": "c754db8a",
   "metadata": {},
   "outputs": [],
   "source": [
    "print(\"최대 길이 : \", max(len(l) for l in X_train))\n",
    "print(\"평균 길이 : \", sum(map(len, X_train))/ len(X_train))\n",
    "plt.hist([len(s) for s in X_train], bins=50) \n",
    "plt.xlabel('length of Data') \n",
    "plt.ylabel('number of Data') \n",
    "plt.show()\n",
    "\n",
    "\n",
    "print(\"최대 길이 : \", max(len(l) for l in X_test)) \n",
    "print(\"평균 길이 : \", sum(map(len, X_test))/ len(X_test)) \n",
    "plt.hist([len(s) for s in X_test], bins=50) \n",
    "plt.xlabel('length of Data') \n",
    "plt.ylabel('number of Data') \n",
    "plt.show()"
   ]
  },
  {
   "cell_type": "code",
   "execution_count": null,
   "id": "73ce8a90",
   "metadata": {},
   "outputs": [],
   "source": [
    "import numpy as np \n",
    "y_train = [] \n",
    "y_test = [] \n",
    "\n",
    "for i in range(len(train_data['UpDown'])): \n",
    "    if train_data['UpDown'].iloc[i] == 1: \n",
    "        y_train.append([0, 0, 1]) \n",
    "    elif train_data['UpDown'].iloc[i] == 0:\n",
    "        y_train.append([0, 1, 0]) \n",
    "    elif train_data['UpDown'].iloc[i] == -1: \n",
    "        y_train.append([1, 0, 0]) \n",
    "\n",
    "for i in range(len(test_data['UpDown'])): \n",
    "    if test_data['UpDown'].iloc[i] == 1: \n",
    "        y_test.append([0, 0, 1]) \n",
    "    elif test_data['UpDown'].iloc[i] == 0: \n",
    "        y_test.append([0, 1, 0]) \n",
    "    elif test_data['UpDown'].iloc[i] == -1: \n",
    "        y_test.append([1, 0, 0]) \n",
    "\n",
    "y_train = np.array(y_train) \n",
    "y_test = np.array(y_test)"
   ]
  },
  {
   "cell_type": "code",
   "execution_count": null,
   "id": "e6b14b9a",
   "metadata": {},
   "outputs": [],
   "source": [
    "from keras.layers import Embedding, Dense, LSTM \n",
    "from keras.models import Sequential \n",
    "from keras.preprocessing.sequence import pad_sequences \n",
    "\n",
    "max_len = 100 \n",
    "\n",
    "X_train = pad_sequences(X_train, maxlen=max_len)\n",
    "X_test = pad_sequences(X_test, maxlen=max_len)"
   ]
  },
  {
   "cell_type": "code",
   "execution_count": null,
   "id": "30a3c307",
   "metadata": {},
   "outputs": [],
   "source": [
    "model = Sequential() \n",
    "model.add(Embedding(max_words, 100)) \n",
    "model.add(LSTM(128)) \n",
    "model.add(Dense(3, activation='softmax')) \n",
    "\n",
    "model.compile(optimizer='rmsprop', loss='categorical_crossentropy', metrics=['accuracy'])\n",
    "# model.compile(optimizer='adam', loss='categorical_crossentropy', metrics=['accuracy']) "
   ]
  },
  {
   "cell_type": "code",
   "execution_count": null,
   "id": "2998cb31",
   "metadata": {},
   "outputs": [],
   "source": [
    "model.summary()"
   ]
  },
  {
   "cell_type": "code",
   "execution_count": null,
   "id": "88c52de2",
   "metadata": {},
   "outputs": [],
   "source": [
    "history = model.fit(X_train, y_train, epochs=10, batch_size=10, validation_split=0.1)"
   ]
  },
  {
   "cell_type": "code",
   "execution_count": null,
   "id": "5f3d516c",
   "metadata": {},
   "outputs": [],
   "source": [
    "model.evaluate(X_test,y_test)"
   ]
  }
 ],
 "metadata": {
  "kernelspec": {
   "display_name": "Python 3",
   "language": "python",
   "name": "python3"
  },
  "language_info": {
   "codemirror_mode": {
    "name": "ipython",
    "version": 3
   },
   "file_extension": ".py",
   "mimetype": "text/x-python",
   "name": "python",
   "nbconvert_exporter": "python",
   "pygments_lexer": "ipython3",
   "version": "3.6.9"
  }
 },
 "nbformat": 4,
 "nbformat_minor": 5
}
