{
 "cells": [
  {
   "cell_type": "code",
   "execution_count": 1,
   "id": "9341c1c5",
   "metadata": {},
   "outputs": [],
   "source": [
    "with open('./stopwords-ko.txt', 'r') as f:\n",
    "    stopwords = f.read()\n",
    "    \n",
    "stopwords_1 = stopwords.split('\\n')\n",
    "\n",
    "a = ['의','가','이','은','들','는','좀','잘',\n",
    "             '걍','과','도','를','으로','자','에','와','한','하다']"
   ]
  },
  {
   "cell_type": "code",
   "execution_count": 2,
   "id": "b819f519",
   "metadata": {},
   "outputs": [
    {
     "data": {
      "text/plain": [
       "(['도', '는', '걍', '잘', '은', '한', '하다'], 2555)"
      ]
     },
     "execution_count": 2,
     "metadata": {},
     "output_type": "execute_result"
    }
   ],
   "source": [
    "temp_123 = list(set(a) - set(stopwords_1))\n",
    "temp_123, len(stopwords)"
   ]
  },
  {
   "cell_type": "code",
   "execution_count": 3,
   "id": "739ff955",
   "metadata": {},
   "outputs": [
    {
     "data": {
      "text/plain": [
       "2570"
      ]
     },
     "execution_count": 3,
     "metadata": {},
     "output_type": "execute_result"
    }
   ],
   "source": [
    "stopwords += '\\n'\n",
    "stopwords += '\\n'.join(temp_123)\n",
    "len(stopwords)"
   ]
  },
  {
   "cell_type": "code",
   "execution_count": 4,
   "id": "f379ca61",
   "metadata": {},
   "outputs": [],
   "source": [
    "# 불용어 사전\n",
    "with open('./stopwords_ver1.txt', 'w') as f:\n",
    "    a = f.write(stopwords)"
   ]
  },
  {
   "cell_type": "code",
   "execution_count": null,
   "id": "5cf28296",
   "metadata": {},
   "outputs": [],
   "source": []
  }
 ],
 "metadata": {
  "kernelspec": {
   "display_name": "Python 3",
   "language": "python",
   "name": "python3"
  },
  "language_info": {
   "codemirror_mode": {
    "name": "ipython",
    "version": 3
   },
   "file_extension": ".py",
   "mimetype": "text/x-python",
   "name": "python",
   "nbconvert_exporter": "python",
   "pygments_lexer": "ipython3",
   "version": "3.6.9"
  }
 },
 "nbformat": 4,
 "nbformat_minor": 5
}
