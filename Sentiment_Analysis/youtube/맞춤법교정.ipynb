{
 "cells": [
  {
   "cell_type": "code",
   "execution_count": 1,
   "id": "407c61fd-4a52-4268-a426-0384b60bce09",
   "metadata": {},
   "outputs": [],
   "source": [
    "import pandas as pd\n",
    "import numpy as np\n",
    "from hanspell import spell_checker # 500글자 이상의 문장은 검사 불가\n",
    "import re\n",
    "import warnings \n",
    "warnings.filterwarnings('ignore')"
   ]
  },
  {
   "cell_type": "code",
   "execution_count": 31,
   "id": "6a5d5ccc-eb49-453b-b8ba-b5be72e1dcaf",
   "metadata": {},
   "outputs": [
    {
     "name": "stdin",
     "output_type": "stream",
     "text": [
      "path =  C:\\Users\\j\\stock_predict\\.git\\비공개\\result_youtube_token_continue.csv\n"
     ]
    }
   ],
   "source": [
    "path = input('path = ')"
   ]
  },
  {
   "cell_type": "code",
   "execution_count": 33,
   "id": "4a80a605-dac5-4f62-a502-8bc3eb61e971",
   "metadata": {},
   "outputs": [],
   "source": [
    "df = pd.read_csv(path)"
   ]
  },
  {
   "cell_type": "code",
   "execution_count": 34,
   "id": "86c3ff89-bd0a-4604-ab3f-f65aac93d905",
   "metadata": {},
   "outputs": [],
   "source": [
    "df.dropna(inplace=True)"
   ]
  },
  {
   "cell_type": "code",
   "execution_count": 35,
   "id": "ff3ec3c7-5d2d-4f04-82f1-e4cd71d412e6",
   "metadata": {},
   "outputs": [
    {
     "data": {
      "text/plain": [
       "2820"
      ]
     },
     "execution_count": 35,
     "metadata": {},
     "output_type": "execute_result"
    }
   ],
   "source": [
    "len(df)"
   ]
  },
  {
   "cell_type": "code",
   "execution_count": 36,
   "id": "7224f3e5-03e1-4e2c-a401-b872b746b8e3",
   "metadata": {},
   "outputs": [],
   "source": [
    "df1 = df[:10]"
   ]
  },
  {
   "cell_type": "code",
   "execution_count": 39,
   "id": "6fed1ef8-7845-491f-9382-6b08135383f2",
   "metadata": {
    "tags": []
   },
   "outputs": [],
   "source": [
    "for i in range(len(df1)):\n",
    "    temp = df1.token.iloc[i]\n",
    "    checkds = []\n",
    "    for check in temp:\n",
    "        a = spell_checker.check(check).checked\n",
    "        checkds.append(a)\n",
    "    #     print(i,'- spell check')\n",
    "\n",
    "    df1['token'].iloc[i] = checkds"
   ]
  },
  {
   "cell_type": "code",
   "execution_count": null,
   "id": "31f34e6f-f251-478c-8cef-da36c247c96e",
   "metadata": {},
   "outputs": [],
   "source": []
  }
 ],
 "metadata": {
  "kernelspec": {
   "display_name": "Python Multi",
   "language": "python",
   "name": "multi"
  },
  "language_info": {
   "codemirror_mode": {
    "name": "ipython",
    "version": 3
   },
   "file_extension": ".py",
   "mimetype": "text/x-python",
   "name": "python",
   "nbconvert_exporter": "python",
   "pygments_lexer": "ipython3",
   "version": "3.7.6"
  }
 },
 "nbformat": 4,
 "nbformat_minor": 5
}
