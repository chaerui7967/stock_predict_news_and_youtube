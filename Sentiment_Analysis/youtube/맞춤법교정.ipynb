{
 "cells": [
  {
   "cell_type": "code",
   "execution_count": 1,
   "id": "407c61fd-4a52-4268-a426-0384b60bce09",
   "metadata": {},
   "outputs": [],
   "source": [
    "import pandas as pd\n",
    "import numpy as np\n",
    "from hanspell import spell_checker # 500글자 이상의 문장은 검사 불가\n",
    "import re\n",
    "import warnings \n",
    "warnings.filterwarnings('ignore')"
   ]
  },
  {
   "cell_type": "code",
   "execution_count": null,
   "id": "4a80a605-dac5-4f62-a502-8bc3eb61e971",
   "metadata": {},
   "outputs": [],
   "source": [
    "df = pd.read_csv('youtube_token.csv')"
   ]
  },
  {
   "cell_type": "code",
   "execution_count": 25,
   "id": "6fed1ef8-7845-491f-9382-6b08135383f2",
   "metadata": {
    "tags": []
   },
   "outputs": [
    {
     "name": "stdout",
     "output_type": "stream",
     "text": [
      "0 - 완료\n"
     ]
    }
   ],
   "source": [
    "for i in range(len(df))\n",
    "    temp = df.token.iloc[i]\n",
    "    for check in temp:\n",
    "        a = spell_checker.check(check).checked\n",
    "        checked.append(aa)\n",
    "    #     print(i,'- spell check')\n",
    "\n",
    "    aa['token'].iloc[i] = checked\n",
    "    print(i,'- 완료')"
   ]
  },
  {
   "cell_type": "code",
   "execution_count": null,
   "id": "31f34e6f-f251-478c-8cef-da36c247c96e",
   "metadata": {},
   "outputs": [],
   "source": []
  }
 ],
 "metadata": {
  "kernelspec": {
   "display_name": "Python Multi",
   "language": "python",
   "name": "multi"
  },
  "language_info": {
   "codemirror_mode": {
    "name": "ipython",
    "version": 3
   },
   "file_extension": ".py",
   "mimetype": "text/x-python",
   "name": "python",
   "nbconvert_exporter": "python",
   "pygments_lexer": "ipython3",
   "version": "3.7.6"
  }
 },
 "nbformat": 4,
 "nbformat_minor": 5
}
