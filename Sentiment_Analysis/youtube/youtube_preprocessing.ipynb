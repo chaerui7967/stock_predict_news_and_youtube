{
 "cells": [
  {
   "cell_type": "markdown",
   "id": "b20ac017-58d5-44a4-b25e-82662a087f12",
   "metadata": {},
   "source": [
    "## Youtube 스크립트 텍스트 전처리"
   ]
  },
  {
   "cell_type": "code",
   "execution_count": 2,
   "id": "703f3e51-79bc-43ad-b300-522dacbade73",
   "metadata": {},
   "outputs": [],
   "source": [
    "import pandas as pd\n",
    "import numpy as np\n",
    "from hanspell import spell_checker # 500글자 이상의 문장은 검사 불가\n",
    "import re\n",
    "import warnings \n",
    "warnings.filterwarnings('ignore')\n",
    "\n",
    "from konlpy.tag import Okt\n",
    "okt = Okt()"
   ]
  },
  {
   "cell_type": "code",
   "execution_count": 2,
   "id": "016ea9f9-b173-402c-823d-589563fe261d",
   "metadata": {},
   "outputs": [
    {
     "name": "stdout",
     "output_type": "stream",
     "text": [
      "df_hk_000660\n",
      "df_hk_005380\n",
      "df_hk_005930\n",
      "df_hk_051910\n",
      "df_hk_068270\n",
      "df_sampro_000660\n",
      "df_sampro_005380\n",
      "df_sampro_005930\n",
      "df_sampro_051910\n",
      "df_sampro_068270\n",
      "df_suka_000660\n",
      "df_suka_005380\n",
      "df_suka_005930\n",
      "df_suka_051910\n",
      "df_suka_068270\n"
     ]
    }
   ],
   "source": [
    "# db 연동\n",
    "import pymysql\n",
    "\n",
    "com_list = {'하이닉스' : '000660',\n",
    "           '현대차' : '005380',\n",
    "           '삼성전자' : '005930',\n",
    "           'LG화학' : '051910',\n",
    "           '셀트리온' : '068270'}\n",
    "media_list = {'youtube_한국경제_':'hk_',\n",
    "             'youtube_삼프로_':'sampro_',\n",
    "             'youtube_슈카_':'suka_'}\n",
    "df_list = []\n",
    "for n,m in media_list.items():\n",
    "    for i,j in com_list.items():\n",
    "\n",
    "        db = pymysql.connect(\n",
    "            user='root', \n",
    "            passwd='1234', \n",
    "            host='3.35.70.166', \n",
    "            db='proj', \n",
    "            charset = 'utf8'\n",
    "        )\n",
    "\n",
    "        cursor = db.cursor(pymysql.cursors.DictCursor)\n",
    "        sql = \"select * from youtube_\"+ m + j +\" where length(date) = 10\"\n",
    "        \n",
    "        cursor.execute(sql)\n",
    "\n",
    "        result = cursor.fetchall()\n",
    "\n",
    "        # 데이터 프레임으로 변경\n",
    "        globals() ['df_'+ m + j ] = pd.DataFrame(result)\n",
    "        print('df_'+ m + j)\n",
    "        df_list.append(globals() ['df_'+ m + j ])\n",
    "        \n",
    "        db.close()"
   ]
  },
  {
   "cell_type": "code",
   "execution_count": 5,
   "id": "ef0b4d92-e543-45c0-9b47-999659440d07",
   "metadata": {},
   "outputs": [],
   "source": [
    "df1 = pd.concat(df_list)"
   ]
  },
  {
   "cell_type": "code",
   "execution_count": 5,
   "id": "54af42a4-cfeb-4f53-9e5c-6e784bee317b",
   "metadata": {},
   "outputs": [
    {
     "name": "stdin",
     "output_type": "stream",
     "text": [
      "절대 경로 입력 :  C:\\Users\\j\\stock_predict\\.git\\비공개\\youtube_total.csv\n"
     ]
    }
   ],
   "source": [
    "path = input('절대 경로 입력 : ')"
   ]
  },
  {
   "cell_type": "code",
   "execution_count": 6,
   "id": "59c3b4ae-ac55-4485-b5d6-026356a34545",
   "metadata": {},
   "outputs": [],
   "source": [
    "df1 = pd.read_csv(path)"
   ]
  },
  {
   "cell_type": "code",
   "execution_count": 10,
   "id": "5bae547e-1c40-4f03-8852-ac5449dc4269",
   "metadata": {},
   "outputs": [
    {
     "data": {
      "text/html": [
       "<div>\n",
       "<style scoped>\n",
       "    .dataframe tbody tr th:only-of-type {\n",
       "        vertical-align: middle;\n",
       "    }\n",
       "\n",
       "    .dataframe tbody tr th {\n",
       "        vertical-align: top;\n",
       "    }\n",
       "\n",
       "    .dataframe thead th {\n",
       "        text-align: right;\n",
       "    }\n",
       "</style>\n",
       "<table border=\"1\" class=\"dataframe\">\n",
       "  <thead>\n",
       "    <tr style=\"text-align: right;\">\n",
       "      <th></th>\n",
       "      <th>st_n</th>\n",
       "      <th>st_cd</th>\n",
       "      <th>ch_nm</th>\n",
       "      <th>date</th>\n",
       "      <th>title</th>\n",
       "      <th>text</th>\n",
       "      <th>views</th>\n",
       "      <th>length</th>\n",
       "      <th>description</th>\n",
       "      <th>url</th>\n",
       "    </tr>\n",
       "  </thead>\n",
       "  <tbody>\n",
       "    <tr>\n",
       "      <th>0</th>\n",
       "      <td>하이닉스</td>\n",
       "      <td>660</td>\n",
       "      <td>한국경제TV</td>\n",
       "      <td>2021091600</td>\n",
       "      <td>삼성전자·SK하이닉스 비중확대 해야 할 이유(노근창)/ 주식경제 이슈분석 / 한국경제TV</td>\n",
       "      <td>4오랄3십일조를판외국인의지금반도체를향해서는이달들어서조금씩매수를해주고있습니다어떻게해석...</td>\n",
       "      <td>472</td>\n",
       "      <td>941</td>\n",
       "      <td>○ 노근창 (현대차증권 리서치센터장)\\n○ 곽수종 앵커\\n○ 손현정 앵커\\n\\n\\n...</td>\n",
       "      <td>https://www.youtube.com/watch?v=WRdlEVeBsCs</td>\n",
       "    </tr>\n",
       "    <tr>\n",
       "      <th>1</th>\n",
       "      <td>하이닉스</td>\n",
       "      <td>660</td>\n",
       "      <td>한국경제TV</td>\n",
       "      <td>2021081300</td>\n",
       "      <td>삼성전자·SK하이닉스 급락 떨어지는 칼날 잡아라? / 삼성전자, SK하이닉스, 원달...</td>\n",
       "      <td>출발중시오늘도진짜전략로시작하게있는데오늘은타임경제이순조대표모셨습니다어서오세약간64일단...</td>\n",
       "      <td>339119</td>\n",
       "      <td>1268</td>\n",
       "      <td>앵커 : 하경민\\n \\n출연자 : 이승조 다인경제 대표\\n\\n시장이 중요힌 변곡점에...</td>\n",
       "      <td>https://www.youtube.com/watch?v=x7to5CTAU4I</td>\n",
       "    </tr>\n",
       "    <tr>\n",
       "      <th>2</th>\n",
       "      <td>하이닉스</td>\n",
       "      <td>660</td>\n",
       "      <td>한국경제TV</td>\n",
       "      <td>2021081700</td>\n",
       "      <td>삼성전자·SK하이닉스 외국인 매도 이유 분석 / 김선형 L&amp;S 홀딩스 대표 / 증시...</td>\n",
       "      <td>46시장의이슈속에서중장기적로가져가며4종목때그리고포트폴리오전략을함께세워보도록하겠습니다...</td>\n",
       "      <td>22264</td>\n",
       "      <td>569</td>\n",
       "      <td>진행 : 이경은 앵커\\n출연 : 김선형 L&amp;S 홀딩스 대표\\n방송일 : 2021년 ...</td>\n",
       "      <td>https://www.youtube.com/watch?v=Rmqk3OXijGw</td>\n",
       "    </tr>\n",
       "    <tr>\n",
       "      <th>3</th>\n",
       "      <td>하이닉스</td>\n",
       "      <td>660</td>\n",
       "      <td>한국경제TV</td>\n",
       "      <td>2021061400</td>\n",
       "      <td>주가는 횡보지만, SK하이닉스 임원들은 매수 행렬 / 공진단 / 한국경제TV</td>\n",
       "      <td>톡톡놈놈놈놈공시의진단을해보는시간입니다타키온뉴스에조호진대표입니다안녕하세그러세4오늘은하...</td>\n",
       "      <td>6881</td>\n",
       "      <td>177</td>\n",
       "      <td>앵커 : 하경민\\n\\n출연자 : 조호진 타키온뉴스 대표 \\n\\n△타키온 뉴스 구독\\...</td>\n",
       "      <td>https://www.youtube.com/watch?v=vJkyrt2-avs</td>\n",
       "    </tr>\n",
       "    <tr>\n",
       "      <th>4</th>\n",
       "      <td>하이닉스</td>\n",
       "      <td>660</td>\n",
       "      <td>한국경제TV</td>\n",
       "      <td>2021081200</td>\n",
       "      <td>모건스탠리 \"삼성전자, SK하이닉스 팔아라\" 수급전쟁 속 실적 좋은 이 기업 / 삼...</td>\n",
       "      <td>이번프로마케터시간인데시장본을시장을보는안목을키우는그런시간입니다오늘은증권중소성장기업분석...</td>\n",
       "      <td>13570</td>\n",
       "      <td>619</td>\n",
       "      <td>▶ 출연자\\n최성민 앵커 / 글로벌 투자 전략가\\n윤혁진 / SK증권 연구위원\\n\\...</td>\n",
       "      <td>https://www.youtube.com/watch?v=MXO7e-54XgA</td>\n",
       "    </tr>\n",
       "  </tbody>\n",
       "</table>\n",
       "</div>"
      ],
      "text/plain": [
       "   st_n  st_cd   ch_nm        date  \\\n",
       "0  하이닉스    660  한국경제TV  2021091600   \n",
       "1  하이닉스    660  한국경제TV  2021081300   \n",
       "2  하이닉스    660  한국경제TV  2021081700   \n",
       "3  하이닉스    660  한국경제TV  2021061400   \n",
       "4  하이닉스    660  한국경제TV  2021081200   \n",
       "\n",
       "                                               title  \\\n",
       "0  삼성전자·SK하이닉스 비중확대 해야 할 이유(노근창)/ 주식경제 이슈분석 / 한국경제TV   \n",
       "1  삼성전자·SK하이닉스 급락 떨어지는 칼날 잡아라? / 삼성전자, SK하이닉스, 원달...   \n",
       "2  삼성전자·SK하이닉스 외국인 매도 이유 분석 / 김선형 L&S 홀딩스 대표 / 증시...   \n",
       "3         주가는 횡보지만, SK하이닉스 임원들은 매수 행렬 / 공진단 / 한국경제TV   \n",
       "4  모건스탠리 \"삼성전자, SK하이닉스 팔아라\" 수급전쟁 속 실적 좋은 이 기업 / 삼...   \n",
       "\n",
       "                                                text   views  length  \\\n",
       "0  4오랄3십일조를판외국인의지금반도체를향해서는이달들어서조금씩매수를해주고있습니다어떻게해석...     472     941   \n",
       "1  출발중시오늘도진짜전략로시작하게있는데오늘은타임경제이순조대표모셨습니다어서오세약간64일단...  339119    1268   \n",
       "2  46시장의이슈속에서중장기적로가져가며4종목때그리고포트폴리오전략을함께세워보도록하겠습니다...   22264     569   \n",
       "3  톡톡놈놈놈놈공시의진단을해보는시간입니다타키온뉴스에조호진대표입니다안녕하세그러세4오늘은하...    6881     177   \n",
       "4  이번프로마케터시간인데시장본을시장을보는안목을키우는그런시간입니다오늘은증권중소성장기업분석...   13570     619   \n",
       "\n",
       "                                         description  \\\n",
       "0  ○ 노근창 (현대차증권 리서치센터장)\\n○ 곽수종 앵커\\n○ 손현정 앵커\\n\\n\\n...   \n",
       "1  앵커 : 하경민\\n \\n출연자 : 이승조 다인경제 대표\\n\\n시장이 중요힌 변곡점에...   \n",
       "2  진행 : 이경은 앵커\\n출연 : 김선형 L&S 홀딩스 대표\\n방송일 : 2021년 ...   \n",
       "3  앵커 : 하경민\\n\\n출연자 : 조호진 타키온뉴스 대표 \\n\\n△타키온 뉴스 구독\\...   \n",
       "4  ▶ 출연자\\n최성민 앵커 / 글로벌 투자 전략가\\n윤혁진 / SK증권 연구위원\\n\\...   \n",
       "\n",
       "                                           url  \n",
       "0  https://www.youtube.com/watch?v=WRdlEVeBsCs  \n",
       "1  https://www.youtube.com/watch?v=x7to5CTAU4I  \n",
       "2  https://www.youtube.com/watch?v=Rmqk3OXijGw  \n",
       "3  https://www.youtube.com/watch?v=vJkyrt2-avs  \n",
       "4  https://www.youtube.com/watch?v=MXO7e-54XgA  "
      ]
     },
     "execution_count": 10,
     "metadata": {},
     "output_type": "execute_result"
    }
   ],
   "source": [
    "df1.head()"
   ]
  },
  {
   "cell_type": "code",
   "execution_count": 8,
   "id": "1020e098-dbde-451c-b708-d3699a1499e0",
   "metadata": {},
   "outputs": [
    {
     "data": {
      "text/plain": [
       "0       4오랄3십일조를판외국인의지금반도체를향해서는이달들어서조금씩매수를해주고있습니다어떻게해석...\n",
       "1       출발중시오늘도진짜전략로시작하게있는데오늘은타임경제이순조대표모셨습니다어서오세약간64일단...\n",
       "2       46시장의이슈속에서중장기적로가져가며4종목때그리고포트폴리오전략을함께세워보도록하겠습니다...\n",
       "3       톡톡놈놈놈놈공시의진단을해보는시간입니다타키온뉴스에조호진대표입니다안녕하세그러세4오늘은하...\n",
       "4       이번프로마케터시간인데시장본을시장을보는안목을키우는그런시간입니다오늘은증권중소성장기업분석...\n",
       "                              ...                        \n",
       "6406    르3메인얘기는양적만합니다양쪽은얘기를왜하느냐끝날때쯤에들어오시면알게될거에장점와나를알기전...\n",
       "6407    니오기까지는이해를할수있잖여기서격이도그래도좀인간적인집에서그래도나여기서부터약을먹지않고서...\n",
       "6408    가장유명한얘기부터드릴께이해를좀쉽게해야되니까2003년에있었던그룹의소버린공격사태입니다이...\n",
       "6409    르3방송을하다보면은듣는이렇게듣는말니면많이뜨는채팀니면많이뜬곱뭐라그러냐댓글같은겠어그1번...\n",
       "6410    시골쥐님안녕하세1없이많군예안녕하세소리들리죠안녕하세먹프리셀이시죠스피킹님안녕하세잠시만러...\n",
       "Name: text, Length: 6411, dtype: object"
      ]
     },
     "execution_count": 8,
     "metadata": {},
     "output_type": "execute_result"
    }
   ],
   "source": [
    "# 데이터 전처리\n",
    "\n",
    "df1.text = df1.text.str.replace('[으*]','')\n",
    "df1.text = df1.text.str.replace('[\\[\\]]','')\n",
    "df1.text = df1.text.str.replace('음악','')\n",
    "df1.text = df1.text.str.replace('자','')\n",
    "df1.text = df1.text.str.replace('[a-zA-Z]','')\n",
    "df1.text = df1.text.str.replace('[구독*]','')\n",
    "df1.text = df1.text.str.replace('[좋아요]','')\n",
    "df1.text = df1.text.str.replace('[\\s]','')\n",
    "df1.text = df1.text.str.strip() # 앞뒤 공백 제거\n",
    "\n",
    "df1.text "
   ]
  },
  {
   "cell_type": "code",
   "execution_count": 9,
   "id": "0dc6361f-99f1-43ed-bfc8-04dbe2d77e7f",
   "metadata": {
    "tags": []
   },
   "outputs": [
    {
     "name": "stdin",
     "output_type": "stream",
     "text": [
      "koself : 1, blog : 2, sum : 3 3\n"
     ]
    }
   ],
   "source": [
    "# 사전 로딩\n",
    "\n",
    "import codecs\n",
    "\n",
    "positive = [] \n",
    "negative = []\n",
    "posneg = []\n",
    "dic = [('./KOSELF_pos.txt', './KOSELF_neg.txt'),\n",
    "       (\"./positive_words_self.txt\",\"./negative_words_self.txt\"),\n",
    "      ('./sum_pos.txt','./sum_neg.txt')]\n",
    "\n",
    "i = int(input('koself : 1, blog : 2, sum : 3'))-1\n",
    "\n",
    "\n",
    "pos = codecs.open(dic[i][0], 'rb', encoding='UTF-8') \n",
    "\n",
    "while True: \n",
    "    line = pos.readline() \n",
    "    line = line.replace('\\n', '')\n",
    "    line = line.replace('\\r', '')\n",
    "    \n",
    "    if not line: break\n",
    "        \n",
    "    positive.append(line) \n",
    "    posneg.append(line) \n",
    "        \n",
    "pos.close() \n",
    "\n",
    "neg = codecs.open(dic[i][1], 'rb', encoding='UTF-8') \n",
    "while True: \n",
    "    line = neg.readline() \n",
    "    line = line.replace('\\n', '')\n",
    "    line = line.replace('\\r', '')\n",
    "    \n",
    "    if not line: break\n",
    "    \n",
    "    negative.append(line) \n",
    "    posneg.append(line) \n",
    "    \n",
    "neg.close()"
   ]
  },
  {
   "cell_type": "code",
   "execution_count": 4,
   "id": "7399d40c-527a-425a-b71e-3ce43a53acc2",
   "metadata": {},
   "outputs": [],
   "source": [
    "# 불용어\n",
    "url = 'https://raw.githubusercontent.com/chaerui7967/stock_predict_news_and_youtube/master/Sentiment_Analysis/data/stopwords_ver1.txt'\n",
    "stopwords = list(pd.read_csv(url, header=None)[0])"
   ]
  },
  {
   "cell_type": "code",
   "execution_count": 11,
   "id": "f7b74175-5b06-4a45-ac83-afc3c9416f28",
   "metadata": {},
   "outputs": [],
   "source": [
    "df1['token'] = ''"
   ]
  },
  {
   "cell_type": "code",
   "execution_count": 12,
   "id": "305f5690-7ee3-4826-8eab-1ab030c63745",
   "metadata": {},
   "outputs": [],
   "source": [
    "df2 = df1.copy()"
   ]
  },
  {
   "cell_type": "code",
   "execution_count": 12,
   "id": "695be314-bded-467b-951a-2e36a2e8cb75",
   "metadata": {},
   "outputs": [],
   "source": [
    "import sys\n",
    "limit_number = 15000\n",
    "sys.setrecursionlimit(limit_number)"
   ]
  },
  {
   "cell_type": "code",
   "execution_count": 13,
   "id": "660bf6e2-19d2-4616-8eb8-4515b635d484",
   "metadata": {},
   "outputs": [],
   "source": [
    "# test 10개만 빠르게 수행\n",
    "df2 = df1[:10]"
   ]
  },
  {
   "cell_type": "code",
   "execution_count": 14,
   "id": "325420d8-d2eb-4351-b9c5-21dde6424ce3",
   "metadata": {
    "tags": []
   },
   "outputs": [
    {
     "name": "stdout",
     "output_type": "stream",
     "text": [
      "0 - 완료\n",
      "1 - 완료\n",
      "2 - 완료\n",
      "3 - 완료\n",
      "4 - 완료\n",
      "5 - 완료\n",
      "6 - 완료\n",
      "7 - 완료\n",
      "8 - 완료\n",
      "9 - 완료\n"
     ]
    }
   ],
   "source": [
    "# 토큰화\n",
    "for i in range(len(df2)):\n",
    "    temp = []\n",
    "    checked = []\n",
    "    \n",
    "    temp = okt.nouns(df2['text'].iloc[i])\n",
    "    temp = [word for word in temp if not word in stopwords] # 불용어 제거\n",
    "    temp = [word for word in temp if len(word) > 1] # 불용어 제거\n",
    "#     print(i,'번 토큰화, 불용어 제거 완료')\n",
    "    \n",
    "    temp = list(set(temp))\n",
    "#     print(i, ' 중복단어 제거')\n",
    "    for check in temp:\n",
    "        aa = spell_checker.check(check).checked\n",
    "        checked.append(aa)\n",
    "#     print(i,'- spell check')\n",
    "    \n",
    "    df2['token'].iloc[i] = checked\n",
    "    print(i,'- 완료')"
   ]
  },
  {
   "cell_type": "code",
   "execution_count": 17,
   "id": "b99e6e8b-8198-4a98-8ce5-c73b31168b7e",
   "metadata": {
    "collapsed": true,
    "jupyter": {
     "outputs_hidden": true
    },
    "tags": []
   },
   "outputs": [
    {
     "data": {
      "text/html": [
       "<div>\n",
       "<style scoped>\n",
       "    .dataframe tbody tr th:only-of-type {\n",
       "        vertical-align: middle;\n",
       "    }\n",
       "\n",
       "    .dataframe tbody tr th {\n",
       "        vertical-align: top;\n",
       "    }\n",
       "\n",
       "    .dataframe thead th {\n",
       "        text-align: right;\n",
       "    }\n",
       "</style>\n",
       "<table border=\"1\" class=\"dataframe\">\n",
       "  <thead>\n",
       "    <tr style=\"text-align: right;\">\n",
       "      <th></th>\n",
       "      <th>st_n</th>\n",
       "      <th>st_cd</th>\n",
       "      <th>ch_nm</th>\n",
       "      <th>date</th>\n",
       "      <th>title</th>\n",
       "      <th>text</th>\n",
       "      <th>views</th>\n",
       "      <th>length</th>\n",
       "      <th>description</th>\n",
       "      <th>url</th>\n",
       "      <th>token</th>\n",
       "    </tr>\n",
       "  </thead>\n",
       "  <tbody>\n",
       "    <tr>\n",
       "      <th>0</th>\n",
       "      <td>하이닉스</td>\n",
       "      <td>660</td>\n",
       "      <td>한국경제TV</td>\n",
       "      <td>2021091600</td>\n",
       "      <td>삼성전자·SK하이닉스 비중확대 해야 할 이유(노근창)/ 주식경제 이슈분석 / 한국경제TV</td>\n",
       "      <td>4오랄3십일조를판외국인의지금반도체를향해서는이달들어서조금씩매수를해주고있습니다어떻게해석...</td>\n",
       "      <td>472</td>\n",
       "      <td>941</td>\n",
       "      <td>○ 노근창 (현대차증권 리서치센터장)\\n○ 곽수종 앵커\\n○ 손현정 앵커\\n\\n\\n...</td>\n",
       "      <td>https://www.youtube.com/watch?v=WRdlEVeBsCs</td>\n",
       "      <td>[도로, 시작, 인텔, 좀 탑, 재생, 의도, 난징, 출발, 리드, 투하, 재축, ...</td>\n",
       "    </tr>\n",
       "    <tr>\n",
       "      <th>1</th>\n",
       "      <td>하이닉스</td>\n",
       "      <td>660</td>\n",
       "      <td>한국경제TV</td>\n",
       "      <td>2021081300</td>\n",
       "      <td>삼성전자·SK하이닉스 급락 떨어지는 칼날 잡아라? / 삼성전자, SK하이닉스, 원달...</td>\n",
       "      <td>출발중시오늘도진짜전략로시작하게있는데오늘은타임경제이순조대표모셨습니다어서오세약간64일단...</td>\n",
       "      <td>339119</td>\n",
       "      <td>1268</td>\n",
       "      <td>앵커 : 하경민\\n \\n출연자 : 이승조 다인경제 대표\\n\\n시장이 중요힌 변곡점에...</td>\n",
       "      <td>https://www.youtube.com/watch?v=x7to5CTAU4I</td>\n",
       "      <td>[시작, 인텔, 매매, 타가, 는가, 수중, 출발, 투하, 월동, 엑스, 삼바, 사...</td>\n",
       "    </tr>\n",
       "    <tr>\n",
       "      <th>2</th>\n",
       "      <td>하이닉스</td>\n",
       "      <td>660</td>\n",
       "      <td>한국경제TV</td>\n",
       "      <td>2021081700</td>\n",
       "      <td>삼성전자·SK하이닉스 외국인 매도 이유 분석 / 김선형 L&amp;S 홀딩스 대표 / 증시...</td>\n",
       "      <td>46시장의이슈속에서중장기적로가져가며4종목때그리고포트폴리오전략을함께세워보도록하겠습니다...</td>\n",
       "      <td>22264</td>\n",
       "      <td>569</td>\n",
       "      <td>진행 : 이경은 앵커\\n출연 : 김선형 L&amp;S 홀딩스 대표\\n방송일 : 2021년 ...</td>\n",
       "      <td>https://www.youtube.com/watch?v=Rmqk3OXijGw</td>\n",
       "      <td>[시작, 집안, 졸라, 투하, 수출, 노란 거 거, 갈등, 비중, 에이, 정상화, ...</td>\n",
       "    </tr>\n",
       "    <tr>\n",
       "      <th>3</th>\n",
       "      <td>하이닉스</td>\n",
       "      <td>660</td>\n",
       "      <td>한국경제TV</td>\n",
       "      <td>2021061400</td>\n",
       "      <td>주가는 횡보지만, SK하이닉스 임원들은 매수 행렬 / 공진단 / 한국경제TV</td>\n",
       "      <td>톡톡놈놈놈놈공시의진단을해보는시간입니다타키온뉴스에조호진대표입니다안녕하세그러세4오늘은하...</td>\n",
       "      <td>6881</td>\n",
       "      <td>177</td>\n",
       "      <td>앵커 : 하경민\\n\\n출연자 : 조호진 타키온뉴스 대표 \\n\\n△타키온 뉴스 구독\\...</td>\n",
       "      <td>https://www.youtube.com/watch?v=vJkyrt2-avs</td>\n",
       "      <td>[주주, 도로, 동거, 말씀, 뉴스, 중하, 토기, 이내, 알보, 조호진, 포착, ...</td>\n",
       "    </tr>\n",
       "    <tr>\n",
       "      <th>4</th>\n",
       "      <td>하이닉스</td>\n",
       "      <td>660</td>\n",
       "      <td>한국경제TV</td>\n",
       "      <td>2021081200</td>\n",
       "      <td>모건스탠리 \"삼성전자, SK하이닉스 팔아라\" 수급전쟁 속 실적 좋은 이 기업 / 삼...</td>\n",
       "      <td>이번프로마케터시간인데시장본을시장을보는안목을키우는그런시간입니다오늘은증권중소성장기업분석...</td>\n",
       "      <td>13570</td>\n",
       "      <td>619</td>\n",
       "      <td>▶ 출연자\\n최성민 앵커 / 글로벌 투자 전략가\\n윤혁진 / SK증권 연구위원\\n\\...</td>\n",
       "      <td>https://www.youtube.com/watch?v=MXO7e-54XgA</td>\n",
       "      <td>[기분, 로소, 기회, 크게, 소행, 대신, 전략, 어그, 에이미, 탐방, 고기, ...</td>\n",
       "    </tr>\n",
       "  </tbody>\n",
       "</table>\n",
       "</div>"
      ],
      "text/plain": [
       "   st_n  st_cd   ch_nm        date  \\\n",
       "0  하이닉스    660  한국경제TV  2021091600   \n",
       "1  하이닉스    660  한국경제TV  2021081300   \n",
       "2  하이닉스    660  한국경제TV  2021081700   \n",
       "3  하이닉스    660  한국경제TV  2021061400   \n",
       "4  하이닉스    660  한국경제TV  2021081200   \n",
       "\n",
       "                                               title  \\\n",
       "0  삼성전자·SK하이닉스 비중확대 해야 할 이유(노근창)/ 주식경제 이슈분석 / 한국경제TV   \n",
       "1  삼성전자·SK하이닉스 급락 떨어지는 칼날 잡아라? / 삼성전자, SK하이닉스, 원달...   \n",
       "2  삼성전자·SK하이닉스 외국인 매도 이유 분석 / 김선형 L&S 홀딩스 대표 / 증시...   \n",
       "3         주가는 횡보지만, SK하이닉스 임원들은 매수 행렬 / 공진단 / 한국경제TV   \n",
       "4  모건스탠리 \"삼성전자, SK하이닉스 팔아라\" 수급전쟁 속 실적 좋은 이 기업 / 삼...   \n",
       "\n",
       "                                                text   views  length  \\\n",
       "0  4오랄3십일조를판외국인의지금반도체를향해서는이달들어서조금씩매수를해주고있습니다어떻게해석...     472     941   \n",
       "1  출발중시오늘도진짜전략로시작하게있는데오늘은타임경제이순조대표모셨습니다어서오세약간64일단...  339119    1268   \n",
       "2  46시장의이슈속에서중장기적로가져가며4종목때그리고포트폴리오전략을함께세워보도록하겠습니다...   22264     569   \n",
       "3  톡톡놈놈놈놈공시의진단을해보는시간입니다타키온뉴스에조호진대표입니다안녕하세그러세4오늘은하...    6881     177   \n",
       "4  이번프로마케터시간인데시장본을시장을보는안목을키우는그런시간입니다오늘은증권중소성장기업분석...   13570     619   \n",
       "\n",
       "                                         description  \\\n",
       "0  ○ 노근창 (현대차증권 리서치센터장)\\n○ 곽수종 앵커\\n○ 손현정 앵커\\n\\n\\n...   \n",
       "1  앵커 : 하경민\\n \\n출연자 : 이승조 다인경제 대표\\n\\n시장이 중요힌 변곡점에...   \n",
       "2  진행 : 이경은 앵커\\n출연 : 김선형 L&S 홀딩스 대표\\n방송일 : 2021년 ...   \n",
       "3  앵커 : 하경민\\n\\n출연자 : 조호진 타키온뉴스 대표 \\n\\n△타키온 뉴스 구독\\...   \n",
       "4  ▶ 출연자\\n최성민 앵커 / 글로벌 투자 전략가\\n윤혁진 / SK증권 연구위원\\n\\...   \n",
       "\n",
       "                                           url  \\\n",
       "0  https://www.youtube.com/watch?v=WRdlEVeBsCs   \n",
       "1  https://www.youtube.com/watch?v=x7to5CTAU4I   \n",
       "2  https://www.youtube.com/watch?v=Rmqk3OXijGw   \n",
       "3  https://www.youtube.com/watch?v=vJkyrt2-avs   \n",
       "4  https://www.youtube.com/watch?v=MXO7e-54XgA   \n",
       "\n",
       "                                               token  \n",
       "0  [도로, 시작, 인텔, 좀 탑, 재생, 의도, 난징, 출발, 리드, 투하, 재축, ...  \n",
       "1  [시작, 인텔, 매매, 타가, 는가, 수중, 출발, 투하, 월동, 엑스, 삼바, 사...  \n",
       "2  [시작, 집안, 졸라, 투하, 수출, 노란 거 거, 갈등, 비중, 에이, 정상화, ...  \n",
       "3  [주주, 도로, 동거, 말씀, 뉴스, 중하, 토기, 이내, 알보, 조호진, 포착, ...  \n",
       "4  [기분, 로소, 기회, 크게, 소행, 대신, 전략, 어그, 에이미, 탐방, 고기, ...  "
      ]
     },
     "execution_count": 17,
     "metadata": {},
     "output_type": "execute_result"
    }
   ],
   "source": [
    "df2.head()"
   ]
  },
  {
   "cell_type": "code",
   "execution_count": 19,
   "id": "c79855ab-1d09-4c08-b342-5ccd73165a7e",
   "metadata": {},
   "outputs": [
    {
     "data": {
      "text/plain": [
       "6411"
      ]
     },
     "execution_count": 19,
     "metadata": {},
     "output_type": "execute_result"
    }
   ],
   "source": [
    "len(df1)"
   ]
  },
  {
   "cell_type": "code",
   "execution_count": 20,
   "id": "f974d547-b789-43bf-a10b-6aa76caaad6f",
   "metadata": {},
   "outputs": [
    {
     "data": {
      "text/plain": [
       "10"
      ]
     },
     "execution_count": 20,
     "metadata": {},
     "output_type": "execute_result"
    }
   ],
   "source": [
    "(df1.token != '').sum()"
   ]
  },
  {
   "cell_type": "code",
   "execution_count": 42,
   "id": "a4b850fb-f3ec-45ed-9d8d-56597a945adc",
   "metadata": {},
   "outputs": [
    {
     "data": {
      "text/plain": [
       "6110"
      ]
     },
     "execution_count": 42,
     "metadata": {},
     "output_type": "execute_result"
    }
   ],
   "source": [
    "(df2.token == '').sum()"
   ]
  },
  {
   "cell_type": "code",
   "execution_count": 44,
   "id": "b0155e20-68eb-43a7-9414-c08ee5366568",
   "metadata": {},
   "outputs": [],
   "source": [
    "non_count = (df2.token != '').sum()"
   ]
  },
  {
   "cell_type": "code",
   "execution_count": 45,
   "id": "f0736161-7562-494b-9591-60eb1d62a527",
   "metadata": {},
   "outputs": [
    {
     "data": {
      "text/plain": [
       "275"
      ]
     },
     "execution_count": 45,
     "metadata": {},
     "output_type": "execute_result"
    }
   ],
   "source": [
    "non_count"
   ]
  },
  {
   "cell_type": "code",
   "execution_count": 16,
   "id": "769a407f-4f26-4a28-a9b5-3462e4254afc",
   "metadata": {},
   "outputs": [
    {
     "data": {
      "text/plain": [
       "0    [도로, 시작, 인텔, 좀 탑, 재생, 의도, 난징, 출발, 리드, 투하, 재축, ...\n",
       "1    [시작, 인텔, 매매, 타가, 는가, 수중, 출발, 투하, 월동, 엑스, 삼바, 사...\n",
       "2    [시작, 집안, 졸라, 투하, 수출, 노란 거 거, 갈등, 비중, 에이, 정상화, ...\n",
       "3    [주주, 도로, 동거, 말씀, 뉴스, 중하, 토기, 이내, 알보, 조호진, 포착, ...\n",
       "4    [기분, 로소, 기회, 크게, 소행, 대신, 전략, 어그, 에이미, 탐방, 고기, ...\n",
       "5    [시작, 인성, 거품, 어그, 일기, 투하, 비중, 오른쪽, 관련, 기도, 에이, ...\n",
       "6    [모건스탠리, 시작, 특집, 평가, 커서, 증가, 한국, 정적, 정리, 전의, 판단...\n",
       "7    [강세, 가증, 변화, 장형, 크게, 작년, 케어, 개월, 센터, 외국인, 알보, ...\n",
       "8    [딘 채, 어그, 월동, 코스피, 무조건, 차액, 포터, 관련, 상이, 현금, 에이...\n",
       "9    [시작, 인텔, 망치, 평가, 전문가, 안타, 시세, 개월, 영규, 어그, 모시, ...\n",
       "Name: token, dtype: object"
      ]
     },
     "execution_count": 16,
     "metadata": {},
     "output_type": "execute_result"
    }
   ],
   "source": [
    "df2['token'][:10]"
   ]
  },
  {
   "cell_type": "code",
   "execution_count": null,
   "id": "f227f063-0bb0-4b37-8bd6-cd7026528b27",
   "metadata": {
    "tags": []
   },
   "outputs": [],
   "source": [
    "while non_count !=0:\n",
    "    try:\n",
    "        for i in range(non_count,len(df2)):\n",
    "            temp = []\n",
    "            checked = []\n",
    "\n",
    "            temp = okt.nouns(df2['text'].iloc[i])\n",
    "            temp = [word for word in temp if not word in stopwords] # 불용어 제거\n",
    "            temp = [word for word in temp if len(word) > 1] # 불용어 제거\n",
    "        #     print(i,'번 토큰화, 불용어 제거 완료')\n",
    "\n",
    "            temp = list(set(temp))\n",
    "        #     print(i, ' 중복단어 제거')\n",
    "            for check in temp:\n",
    "                aa = spell_checker.check(check).checked\n",
    "                checked.append(aa)\n",
    "        #     print(i,'- spell check')\n",
    "\n",
    "            df2['token'].iloc[i] = checked\n",
    "            print(i,'- 완료')\n",
    "        break\n",
    "    except:\n",
    "        non_count = (df2.token != '').sum()\n",
    "        print(non_count,' 부터 다시시작')"
   ]
  },
  {
   "cell_type": "code",
   "execution_count": null,
   "id": "0695e72d-bb15-445f-81d7-75b9cfd96cab",
   "metadata": {},
   "outputs": [],
   "source": [
    "df2.to_csv('result_df.csv', index=False)"
   ]
  },
  {
   "cell_type": "code",
   "execution_count": null,
   "id": "91c1601c-1537-41b8-89e2-d2e50209f8d2",
   "metadata": {},
   "outputs": [],
   "source": []
  },
  {
   "cell_type": "code",
   "execution_count": null,
   "id": "9a724107-ae84-4e0d-9ce0-4e7a6023abac",
   "metadata": {},
   "outputs": [],
   "source": []
  },
  {
   "cell_type": "code",
   "execution_count": null,
   "id": "11a8b4cb-a06e-4b2e-a272-d49d128fafd7",
   "metadata": {},
   "outputs": [],
   "source": [
    "j = 0\n",
    "label = [0] * len(df2)\n",
    "\n",
    "my_dic = {\"text\":[], \"label\":label}\n",
    "texts = df2.token\n",
    "\n",
    "\n",
    "for df in range(len(df2)):    \n",
    "    txt_data = ','.join(texts[df]).replace(',', ' ')\n",
    "    \n",
    "    my_dic['text'].append(txt_data) \n",
    "\n",
    "    for i in range(len(posneg)): \n",
    "        posflag = False \n",
    "        negflag = False \n",
    "\n",
    "        if i < (len(positive)-1): \n",
    "            if txt_data.find(posneg[i]) != -1: \n",
    "                posflag = True \n",
    "                print(i, \"positive?\",\"테스트 : \",txt_data.find(posneg[i]),\"비교단어 : \", posneg[i], \"인덱스 : \", i) \n",
    "                break\n",
    "\n",
    "        if i > (len(positive)-2): \n",
    "            if txt_data.find(posneg[i]) != -1: \n",
    "                negflag = True \n",
    "                print(i, \"negative?\",\"테스트 : \",txt_data.find(posneg[i]),\"비교단어 : \", posneg[i], \"인덱스 : \", i) \n",
    "                break\n",
    "\n",
    "    if posflag == True: \n",
    "        label[j] = 1 \n",
    "        # print(\"positive\", j) \n",
    "\n",
    "    elif negflag == True: \n",
    "        label[j] = -1 \n",
    "        # print(\"negative\", j) \n",
    "\n",
    "    elif negflag == False and posflag == False: \n",
    "        label[j] = 0 \n",
    "        # print(\"objective\", j) \n",
    "\n",
    "    j = j + 1\n",
    "                \n",
    "my_dic['label'] = label\n",
    "my_df = pd.DataFrame(my_dic)"
   ]
  },
  {
   "cell_type": "code",
   "execution_count": null,
   "id": "3e243bbe-617a-466b-b448-c20607ed544c",
   "metadata": {},
   "outputs": [],
   "source": [
    "my_df"
   ]
  },
  {
   "cell_type": "code",
   "execution_count": null,
   "id": "e34650a7-ac8e-47db-aa14-10e2779b74f7",
   "metadata": {},
   "outputs": [],
   "source": [
    "my_df.label.value_counts()"
   ]
  },
  {
   "cell_type": "code",
   "execution_count": null,
   "id": "096fddd7-b1c5-465a-b58f-fce75c0ce8a4",
   "metadata": {},
   "outputs": [],
   "source": []
  }
 ],
 "metadata": {
  "kernelspec": {
   "display_name": "Python Multi",
   "language": "python",
   "name": "multi"
  },
  "language_info": {
   "codemirror_mode": {
    "name": "ipython",
    "version": 3
   },
   "file_extension": ".py",
   "mimetype": "text/x-python",
   "name": "python",
   "nbconvert_exporter": "python",
   "pygments_lexer": "ipython3",
   "version": "3.7.6"
  }
 },
 "nbformat": 4,
 "nbformat_minor": 5
}
