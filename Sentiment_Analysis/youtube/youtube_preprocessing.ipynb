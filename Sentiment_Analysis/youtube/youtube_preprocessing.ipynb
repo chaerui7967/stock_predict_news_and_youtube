{
 "cells": [
  {
   "cell_type": "markdown",
   "id": "b20ac017-58d5-44a4-b25e-82662a087f12",
   "metadata": {},
   "source": [
    "## Youtube 스크립트 텍스트 전처리"
   ]
  },
  {
   "cell_type": "code",
   "execution_count": 1,
   "id": "703f3e51-79bc-43ad-b300-522dacbade73",
   "metadata": {},
   "outputs": [],
   "source": [
    "import pandas as pd\n",
    "import numpy as np\n",
    "from hanspell import spell_checker # 500글자 이상의 문장은 검사 불가\n",
    "import re\n",
    "import warnings \n",
    "warnings.filterwarnings('ignore')\n",
    "\n",
    "from konlpy.tag import Okt\n",
    "okt = Okt()"
   ]
  },
  {
   "cell_type": "code",
   "execution_count": 2,
   "id": "016ea9f9-b173-402c-823d-589563fe261d",
   "metadata": {},
   "outputs": [
    {
     "name": "stdout",
     "output_type": "stream",
     "text": [
      "df_hk_000660\n",
      "df_hk_005380\n",
      "df_hk_005930\n",
      "df_hk_051910\n",
      "df_hk_068270\n",
      "df_sampro_000660\n",
      "df_sampro_005380\n",
      "df_sampro_005930\n",
      "df_sampro_051910\n",
      "df_sampro_068270\n",
      "df_suka_000660\n",
      "df_suka_005380\n",
      "df_suka_005930\n",
      "df_suka_051910\n",
      "df_suka_068270\n"
     ]
    }
   ],
   "source": [
    "# db 연동\n",
    "import pymysql\n",
    "\n",
    "com_list = {'하이닉스' : '000660',\n",
    "           '현대차' : '005380',\n",
    "           '삼성전자' : '005930',\n",
    "           'LG화학' : '051910',\n",
    "           '셀트리온' : '068270'}\n",
    "media_list = {'youtube_한국경제_':'hk_',\n",
    "             'youtube_삼프로_':'sampro_',\n",
    "             'youtube_슈카_':'suka_'}\n",
    "df_list = []\n",
    "for n,m in media_list.items():\n",
    "    for i,j in com_list.items():\n",
    "\n",
    "        db = pymysql.connect(\n",
    "            user='root', \n",
    "            passwd='1234', \n",
    "            host='3.35.70.166', \n",
    "            db='proj', \n",
    "            charset = 'utf8'\n",
    "        )\n",
    "\n",
    "        cursor = db.cursor(pymysql.cursors.DictCursor)\n",
    "        sql = \"select * from youtube_\"+ m + j +\" where length(date) = 10\"\n",
    "        \n",
    "        cursor.execute(sql)\n",
    "\n",
    "        result = cursor.fetchall()\n",
    "\n",
    "        # 데이터 프레임으로 변경\n",
    "        globals() ['df_'+ m + j ] = pd.DataFrame(result)\n",
    "        print('df_'+ m + j)\n",
    "        df_list.append(globals() ['df_'+ m + j ])\n",
    "        \n",
    "        db.close()"
   ]
  },
  {
   "cell_type": "code",
   "execution_count": 5,
   "id": "ef0b4d92-e543-45c0-9b47-999659440d07",
   "metadata": {},
   "outputs": [],
   "source": [
    "df1 = pd.concat(df_list)"
   ]
  },
  {
   "cell_type": "code",
   "execution_count": 2,
   "id": "54af42a4-cfeb-4f53-9e5c-6e784bee317b",
   "metadata": {},
   "outputs": [
    {
     "name": "stdin",
     "output_type": "stream",
     "text": [
      "절대 경로 입력 :  C:\\Users\\j\\stock_predict\\Sentiment_Analysis\\data\\전처리 전 데이터\\df_youtube_삼프로LG화학.csv\n"
     ]
    }
   ],
   "source": [
    "path = input('절대 경로 입력 : ')"
   ]
  },
  {
   "cell_type": "code",
   "execution_count": 110,
   "id": "59c3b4ae-ac55-4485-b5d6-026356a34545",
   "metadata": {},
   "outputs": [],
   "source": [
    "df1 = pd.read_csv(path)"
   ]
  },
  {
   "cell_type": "code",
   "execution_count": 6,
   "id": "5bae547e-1c40-4f03-8852-ac5449dc4269",
   "metadata": {},
   "outputs": [
    {
     "data": {
      "text/plain": [
       "0      4 오랄 3 십일조를 판 외국인의지금 반도체를 향해서는 이달 들어서조금씩 매수를 해...\n",
       "1      출발 중시 오늘도 진짜 전략으로시작하게 있는데요 오늘은 타임 경제이 순조 대표 모셨...\n",
       "2      4 자 6 시장의 이슈 속에서중장기적으로 가져가며 4종목 때그리고 포트폴리오 전략을...\n",
       "3      톡톡 놈 놈 놈 놈공시의 진단을 해보는 시간입니다 타키온 뉴스에 조호진 대표입니다안...\n",
       "4      자 이번 프로 마케터 시간인데요 시장본을 시장을 보는 안목을 키우는 그런시간입니다 ...\n",
       "                             ...                        \n",
       "192    으 르3메인 얘기는 양적 만합니다 양쪽은 얘기를 왜 하느냐 끝날 때쯤에들어오시면 알...\n",
       "193    아니 오기까지는 이해를 할 수 있잖아요 여기서 격이 도 그래도 좀인간적인 집에서 그...\n",
       "194    [음악]가장 유명한 얘기부터 드릴께요 이해를 좀 쉽게 해야 되니까 2003년에있었던...\n",
       "195    으 르3방송을 하다보면 은 듣는 이렇게 듣는 말 아니면 많이 뜨는 채 팀 아니면많이...\n",
       "196    시골 쥐 님 안녕하세요 으1 으없이 많군요 예안녕하세요 소리 들리죠안녕하세요먹자프리...\n",
       "Name: text, Length: 6385, dtype: object"
      ]
     },
     "execution_count": 6,
     "metadata": {},
     "output_type": "execute_result"
    }
   ],
   "source": [
    "df1.text"
   ]
  },
  {
   "cell_type": "code",
   "execution_count": 7,
   "id": "1020e098-dbde-451c-b708-d3699a1499e0",
   "metadata": {},
   "outputs": [
    {
     "data": {
      "text/plain": [
       "0      4오랄3십일조를판외국인의지금반도체를향해서는이달들어서조금씩매수를해주고있습니다어떻게해석...\n",
       "1      출발중시오늘도진짜전략로시작하게있는데오늘은타임경제이순조대표모셨습니다어서오세약간64일단...\n",
       "2      46시장의이슈속에서중장기적로가져가며4종목때그리고포트폴리오전략을함께세워보도록하겠습니다...\n",
       "3      톡톡놈놈놈놈공시의진단을해보는시간입니다타키온뉴스에조호진대표입니다안녕하세그러세4오늘은하...\n",
       "4      이번프로마케터시간인데시장본을시장을보는안목을키우는그런시간입니다오늘은증권중소성장기업분석...\n",
       "                             ...                        \n",
       "192    르3메인얘기는양적만합니다양쪽은얘기를왜하느냐끝날때쯤에들어오시면알게될거에장점와나를알기전...\n",
       "193    니오기까지는이해를할수있잖여기서격이도그래도좀인간적인집에서그래도나여기서부터약을먹지않고서...\n",
       "194    가장유명한얘기부터드릴께이해를좀쉽게해야되니까2003년에있었던그룹의소버린공격사태입니다이...\n",
       "195    르3방송을하다보면은듣는이렇게듣는말니면많이뜨는채팀니면많이뜬곱뭐라그러냐댓글같은겠어그1번...\n",
       "196    시골쥐님안녕하세1없이많군예안녕하세소리들리죠안녕하세먹프리셀이시죠스피킹님안녕하세잠시만러...\n",
       "Name: text, Length: 6385, dtype: object"
      ]
     },
     "execution_count": 7,
     "metadata": {},
     "output_type": "execute_result"
    }
   ],
   "source": [
    "# 데이터 전처리\n",
    "\n",
    "df1.text = df1.text.str.replace('[으*]','')\n",
    "df1.text = df1.text.str.replace('[\\[\\]]','')\n",
    "df1.text = df1.text.str.replace('음악','')\n",
    "df1.text = df1.text.str.replace('자','')\n",
    "df1.text = df1.text.str.replace('[a-zA-Z]','')\n",
    "df1.text = df1.text.str.replace('[구독*]','')\n",
    "df1.text = df1.text.str.replace('[좋아요]','')\n",
    "df1.text = df1.text.str.replace('[\\s]','')\n",
    "df1.text = df1.text.str.strip() # 앞뒤 공백 제거\n",
    "\n",
    "df1.text "
   ]
  },
  {
   "cell_type": "code",
   "execution_count": 8,
   "id": "0dc6361f-99f1-43ed-bfc8-04dbe2d77e7f",
   "metadata": {
    "tags": []
   },
   "outputs": [
    {
     "name": "stdin",
     "output_type": "stream",
     "text": [
      "koself : 1, blog : 2, sum : 3 3\n"
     ]
    }
   ],
   "source": [
    "# 사전 로딩\n",
    "\n",
    "import codecs\n",
    "\n",
    "positive = [] \n",
    "negative = []\n",
    "posneg = []\n",
    "dic = [('./KOSELF_pos.txt', './KOSELF_neg.txt'),\n",
    "       (\"./positive_words_self.txt\",\"./negative_words_self.txt\"),\n",
    "      ('./sum_pos.txt','./sum_neg.txt')]\n",
    "\n",
    "i = int(input('koself : 1, blog : 2, sum : 3'))-1\n",
    "\n",
    "\n",
    "pos = codecs.open(dic[i][0], 'rb', encoding='UTF-8') \n",
    "\n",
    "while True: \n",
    "    line = pos.readline() \n",
    "    line = line.replace('\\n', '')\n",
    "    line = line.replace('\\r', '')\n",
    "    \n",
    "    if not line: break\n",
    "        \n",
    "    positive.append(line) \n",
    "    posneg.append(line) \n",
    "        \n",
    "pos.close() \n",
    "\n",
    "neg = codecs.open(dic[i][1], 'rb', encoding='UTF-8') \n",
    "while True: \n",
    "    line = neg.readline() \n",
    "    line = line.replace('\\n', '')\n",
    "    line = line.replace('\\r', '')\n",
    "    \n",
    "    if not line: break\n",
    "    \n",
    "    negative.append(line) \n",
    "    posneg.append(line) \n",
    "    \n",
    "neg.close()"
   ]
  },
  {
   "cell_type": "code",
   "execution_count": 9,
   "id": "7399d40c-527a-425a-b71e-3ce43a53acc2",
   "metadata": {},
   "outputs": [],
   "source": [
    "# 불용어\n",
    "url = 'https://raw.githubusercontent.com/chaerui7967/stock_predict_news_and_youtube/master/Sentiment_Analysis/data/stopwords_ver1.txt'\n",
    "stopwords = list(pd.read_csv(url, header=None)[0])"
   ]
  },
  {
   "cell_type": "code",
   "execution_count": 10,
   "id": "f7b74175-5b06-4a45-ac83-afc3c9416f28",
   "metadata": {},
   "outputs": [],
   "source": [
    "df1['token'] = ''"
   ]
  },
  {
   "cell_type": "code",
   "execution_count": 11,
   "id": "305f5690-7ee3-4826-8eab-1ab030c63745",
   "metadata": {},
   "outputs": [],
   "source": [
    "df2 = df1.copy()"
   ]
  },
  {
   "cell_type": "code",
   "execution_count": 12,
   "id": "695be314-bded-467b-951a-2e36a2e8cb75",
   "metadata": {},
   "outputs": [],
   "source": [
    "import sys\n",
    "limit_number = 15000\n",
    "sys.setrecursionlimit(limit_number)"
   ]
  },
  {
   "cell_type": "code",
   "execution_count": 125,
   "id": "660bf6e2-19d2-4616-8eb8-4515b635d484",
   "metadata": {},
   "outputs": [],
   "source": [
    "# # test 10개만 빠르게 수행\n",
    "# df2 = df1[:100]"
   ]
  },
  {
   "cell_type": "code",
   "execution_count": 14,
   "id": "325420d8-d2eb-4351-b9c5-21dde6424ce3",
   "metadata": {
    "collapsed": true,
    "jupyter": {
     "outputs_hidden": true
    },
    "tags": []
   },
   "outputs": [
    {
     "name": "stdout",
     "output_type": "stream",
     "text": [
      "0 - 완료\n",
      "1 - 완료\n",
      "2 - 완료\n",
      "3 - 완료\n",
      "4 - 완료\n",
      "5 - 완료\n",
      "6 - 완료\n",
      "7 - 완료\n",
      "8 - 완료\n",
      "9 - 완료\n",
      "10 - 완료\n",
      "11 - 완료\n",
      "12 - 완료\n",
      "13 - 완료\n",
      "14 - 완료\n",
      "15 - 완료\n",
      "16 - 완료\n",
      "17 - 완료\n",
      "18 - 완료\n",
      "19 - 완료\n",
      "20 - 완료\n",
      "21 - 완료\n",
      "22 - 완료\n",
      "23 - 완료\n",
      "24 - 완료\n",
      "25 - 완료\n",
      "26 - 완료\n",
      "27 - 완료\n",
      "28 - 완료\n",
      "29 - 완료\n",
      "30 - 완료\n",
      "31 - 완료\n",
      "32 - 완료\n",
      "33 - 완료\n",
      "34 - 완료\n",
      "35 - 완료\n",
      "36 - 완료\n",
      "37 - 완료\n",
      "38 - 완료\n",
      "39 - 완료\n",
      "40 - 완료\n",
      "41 - 완료\n",
      "42 - 완료\n",
      "43 - 완료\n",
      "44 - 완료\n",
      "45 - 완료\n",
      "46 - 완료\n",
      "47 - 완료\n",
      "48 - 완료\n",
      "49 - 완료\n",
      "50 - 완료\n",
      "51 - 완료\n",
      "52 - 완료\n",
      "53 - 완료\n",
      "54 - 완료\n",
      "55 - 완료\n",
      "56 - 완료\n",
      "57 - 완료\n",
      "58 - 완료\n",
      "59 - 완료\n",
      "60 - 완료\n",
      "61 - 완료\n",
      "62 - 완료\n",
      "63 - 완료\n",
      "64 - 완료\n",
      "65 - 완료\n",
      "66 - 완료\n",
      "67 - 완료\n",
      "68 - 완료\n",
      "69 - 완료\n",
      "70 - 완료\n",
      "71 - 완료\n",
      "72 - 완료\n",
      "73 - 완료\n",
      "74 - 완료\n",
      "75 - 완료\n",
      "76 - 완료\n",
      "77 - 완료\n",
      "78 - 완료\n",
      "79 - 완료\n",
      "80 - 완료\n",
      "81 - 완료\n",
      "82 - 완료\n",
      "83 - 완료\n",
      "84 - 완료\n",
      "85 - 완료\n",
      "86 - 완료\n",
      "87 - 완료\n",
      "88 - 완료\n",
      "89 - 완료\n",
      "90 - 완료\n",
      "91 - 완료\n",
      "92 - 완료\n",
      "93 - 완료\n",
      "94 - 완료\n",
      "95 - 완료\n",
      "96 - 완료\n",
      "97 - 완료\n",
      "98 - 완료\n",
      "99 - 완료\n",
      "100 - 완료\n",
      "101 - 완료\n",
      "102 - 완료\n",
      "103 - 완료\n",
      "104 - 완료\n",
      "105 - 완료\n",
      "106 - 완료\n",
      "107 - 완료\n",
      "108 - 완료\n",
      "109 - 완료\n",
      "110 - 완료\n",
      "111 - 완료\n",
      "112 - 완료\n",
      "113 - 완료\n",
      "114 - 완료\n",
      "115 - 완료\n",
      "116 - 완료\n",
      "117 - 완료\n",
      "118 - 완료\n",
      "119 - 완료\n",
      "120 - 완료\n",
      "121 - 완료\n",
      "122 - 완료\n",
      "123 - 완료\n",
      "124 - 완료\n",
      "125 - 완료\n",
      "126 - 완료\n",
      "127 - 완료\n",
      "128 - 완료\n",
      "129 - 완료\n",
      "130 - 완료\n",
      "131 - 완료\n",
      "132 - 완료\n",
      "133 - 완료\n",
      "134 - 완료\n",
      "135 - 완료\n",
      "136 - 완료\n",
      "137 - 완료\n",
      "138 - 완료\n",
      "139 - 완료\n",
      "140 - 완료\n",
      "141 - 완료\n",
      "142 - 완료\n",
      "143 - 완료\n",
      "144 - 완료\n",
      "145 - 완료\n",
      "146 - 완료\n",
      "147 - 완료\n",
      "148 - 완료\n",
      "149 - 완료\n",
      "150 - 완료\n",
      "151 - 완료\n",
      "152 - 완료\n",
      "153 - 완료\n",
      "154 - 완료\n",
      "155 - 완료\n",
      "156 - 완료\n",
      "157 - 완료\n",
      "158 - 완료\n",
      "159 - 완료\n",
      "160 - 완료\n",
      "161 - 완료\n",
      "162 - 완료\n",
      "163 - 완료\n",
      "164 - 완료\n",
      "165 - 완료\n",
      "166 - 완료\n",
      "167 - 완료\n",
      "168 - 완료\n",
      "169 - 완료\n",
      "170 - 완료\n",
      "171 - 완료\n",
      "172 - 완료\n",
      "173 - 완료\n",
      "174 - 완료\n",
      "175 - 완료\n",
      "176 - 완료\n",
      "177 - 완료\n",
      "178 - 완료\n",
      "179 - 완료\n",
      "180 - 완료\n",
      "181 - 완료\n",
      "182 - 완료\n",
      "183 - 완료\n",
      "184 - 완료\n",
      "185 - 완료\n",
      "186 - 완료\n",
      "187 - 완료\n",
      "188 - 완료\n",
      "189 - 완료\n",
      "190 - 완료\n",
      "191 - 완료\n",
      "192 - 완료\n",
      "193 - 완료\n",
      "194 - 완료\n",
      "195 - 완료\n",
      "196 - 완료\n",
      "197 - 완료\n",
      "198 - 완료\n",
      "199 - 완료\n",
      "200 - 완료\n",
      "201 - 완료\n",
      "202 - 완료\n",
      "203 - 완료\n",
      "204 - 완료\n",
      "205 - 완료\n",
      "206 - 완료\n",
      "207 - 완료\n",
      "208 - 완료\n",
      "209 - 완료\n",
      "210 - 완료\n",
      "211 - 완료\n",
      "212 - 완료\n",
      "213 - 완료\n",
      "214 - 완료\n",
      "215 - 완료\n",
      "216 - 완료\n",
      "217 - 완료\n",
      "218 - 완료\n",
      "219 - 완료\n",
      "220 - 완료\n",
      "221 - 완료\n",
      "222 - 완료\n",
      "223 - 완료\n",
      "224 - 완료\n",
      "225 - 완료\n",
      "226 - 완료\n",
      "227 - 완료\n",
      "228 - 완료\n",
      "229 - 완료\n",
      "230 - 완료\n",
      "231 - 완료\n",
      "232 - 완료\n",
      "233 - 완료\n",
      "234 - 완료\n",
      "235 - 완료\n",
      "236 - 완료\n",
      "237 - 완료\n",
      "238 - 완료\n",
      "239 - 완료\n"
     ]
    },
    {
     "ename": "JSONDecodeError",
     "evalue": "Expecting value: line 1 column 1 (char 0)",
     "output_type": "error",
     "traceback": [
      "\u001b[1;31m---------------------------------------------------------------------------\u001b[0m",
      "\u001b[1;31mJSONDecodeError\u001b[0m                           Traceback (most recent call last)",
      "\u001b[1;32m<ipython-input-14-44bbd3f8d2e1>\u001b[0m in \u001b[0;36m<module>\u001b[1;34m\u001b[0m\n\u001b[0;32m     12\u001b[0m \u001b[1;31m#     print(i, ' 중복단어 제거')\u001b[0m\u001b[1;33m\u001b[0m\u001b[1;33m\u001b[0m\u001b[1;33m\u001b[0m\u001b[0m\n\u001b[0;32m     13\u001b[0m     \u001b[1;32mfor\u001b[0m \u001b[0mcheck\u001b[0m \u001b[1;32min\u001b[0m \u001b[0mtemp\u001b[0m\u001b[1;33m:\u001b[0m\u001b[1;33m\u001b[0m\u001b[1;33m\u001b[0m\u001b[0m\n\u001b[1;32m---> 14\u001b[1;33m         \u001b[0maa\u001b[0m \u001b[1;33m=\u001b[0m \u001b[0mspell_checker\u001b[0m\u001b[1;33m.\u001b[0m\u001b[0mcheck\u001b[0m\u001b[1;33m(\u001b[0m\u001b[0mcheck\u001b[0m\u001b[1;33m)\u001b[0m\u001b[1;33m.\u001b[0m\u001b[0mchecked\u001b[0m\u001b[1;33m\u001b[0m\u001b[1;33m\u001b[0m\u001b[0m\n\u001b[0m\u001b[0;32m     15\u001b[0m         \u001b[0mchecked\u001b[0m\u001b[1;33m.\u001b[0m\u001b[0mappend\u001b[0m\u001b[1;33m(\u001b[0m\u001b[0maa\u001b[0m\u001b[1;33m)\u001b[0m\u001b[1;33m\u001b[0m\u001b[1;33m\u001b[0m\u001b[0m\n\u001b[0;32m     16\u001b[0m \u001b[1;31m#     print(i,'- spell check')\u001b[0m\u001b[1;33m\u001b[0m\u001b[1;33m\u001b[0m\u001b[1;33m\u001b[0m\u001b[0m\n",
      "\u001b[1;32m~\\anaconda3\\envs\\multi\\lib\\site-packages\\py_hanspell-1.1-py3.7.egg\\hanspell\\spell_checker.py\u001b[0m in \u001b[0;36mcheck\u001b[1;34m(text)\u001b[0m\n\u001b[0;32m     61\u001b[0m     \u001b[0mr\u001b[0m \u001b[1;33m=\u001b[0m \u001b[0mr\u001b[0m\u001b[1;33m.\u001b[0m\u001b[0mtext\u001b[0m\u001b[1;33m[\u001b[0m\u001b[1;36m42\u001b[0m\u001b[1;33m:\u001b[0m\u001b[1;33m-\u001b[0m\u001b[1;36m2\u001b[0m\u001b[1;33m]\u001b[0m\u001b[1;33m\u001b[0m\u001b[1;33m\u001b[0m\u001b[0m\n\u001b[0;32m     62\u001b[0m \u001b[1;33m\u001b[0m\u001b[0m\n\u001b[1;32m---> 63\u001b[1;33m     \u001b[0mdata\u001b[0m \u001b[1;33m=\u001b[0m \u001b[0mjson\u001b[0m\u001b[1;33m.\u001b[0m\u001b[0mloads\u001b[0m\u001b[1;33m(\u001b[0m\u001b[0mr\u001b[0m\u001b[1;33m)\u001b[0m\u001b[1;33m\u001b[0m\u001b[1;33m\u001b[0m\u001b[0m\n\u001b[0m\u001b[0;32m     64\u001b[0m     \u001b[0mhtml\u001b[0m \u001b[1;33m=\u001b[0m \u001b[0mdata\u001b[0m\u001b[1;33m[\u001b[0m\u001b[1;34m'message'\u001b[0m\u001b[1;33m]\u001b[0m\u001b[1;33m[\u001b[0m\u001b[1;34m'result'\u001b[0m\u001b[1;33m]\u001b[0m\u001b[1;33m[\u001b[0m\u001b[1;34m'html'\u001b[0m\u001b[1;33m]\u001b[0m\u001b[1;33m\u001b[0m\u001b[1;33m\u001b[0m\u001b[0m\n\u001b[0;32m     65\u001b[0m     result = {\n",
      "\u001b[1;32m~\\anaconda3\\envs\\multi\\lib\\json\\__init__.py\u001b[0m in \u001b[0;36mloads\u001b[1;34m(s, encoding, cls, object_hook, parse_float, parse_int, parse_constant, object_pairs_hook, **kw)\u001b[0m\n\u001b[0;32m    346\u001b[0m             \u001b[0mparse_int\u001b[0m \u001b[1;32mis\u001b[0m \u001b[1;32mNone\u001b[0m \u001b[1;32mand\u001b[0m \u001b[0mparse_float\u001b[0m \u001b[1;32mis\u001b[0m \u001b[1;32mNone\u001b[0m \u001b[1;32mand\u001b[0m\u001b[1;33m\u001b[0m\u001b[1;33m\u001b[0m\u001b[0m\n\u001b[0;32m    347\u001b[0m             parse_constant is None and object_pairs_hook is None and not kw):\n\u001b[1;32m--> 348\u001b[1;33m         \u001b[1;32mreturn\u001b[0m \u001b[0m_default_decoder\u001b[0m\u001b[1;33m.\u001b[0m\u001b[0mdecode\u001b[0m\u001b[1;33m(\u001b[0m\u001b[0ms\u001b[0m\u001b[1;33m)\u001b[0m\u001b[1;33m\u001b[0m\u001b[1;33m\u001b[0m\u001b[0m\n\u001b[0m\u001b[0;32m    349\u001b[0m     \u001b[1;32mif\u001b[0m \u001b[0mcls\u001b[0m \u001b[1;32mis\u001b[0m \u001b[1;32mNone\u001b[0m\u001b[1;33m:\u001b[0m\u001b[1;33m\u001b[0m\u001b[1;33m\u001b[0m\u001b[0m\n\u001b[0;32m    350\u001b[0m         \u001b[0mcls\u001b[0m \u001b[1;33m=\u001b[0m \u001b[0mJSONDecoder\u001b[0m\u001b[1;33m\u001b[0m\u001b[1;33m\u001b[0m\u001b[0m\n",
      "\u001b[1;32m~\\anaconda3\\envs\\multi\\lib\\json\\decoder.py\u001b[0m in \u001b[0;36mdecode\u001b[1;34m(self, s, _w)\u001b[0m\n\u001b[0;32m    335\u001b[0m \u001b[1;33m\u001b[0m\u001b[0m\n\u001b[0;32m    336\u001b[0m         \"\"\"\n\u001b[1;32m--> 337\u001b[1;33m         \u001b[0mobj\u001b[0m\u001b[1;33m,\u001b[0m \u001b[0mend\u001b[0m \u001b[1;33m=\u001b[0m \u001b[0mself\u001b[0m\u001b[1;33m.\u001b[0m\u001b[0mraw_decode\u001b[0m\u001b[1;33m(\u001b[0m\u001b[0ms\u001b[0m\u001b[1;33m,\u001b[0m \u001b[0midx\u001b[0m\u001b[1;33m=\u001b[0m\u001b[0m_w\u001b[0m\u001b[1;33m(\u001b[0m\u001b[0ms\u001b[0m\u001b[1;33m,\u001b[0m \u001b[1;36m0\u001b[0m\u001b[1;33m)\u001b[0m\u001b[1;33m.\u001b[0m\u001b[0mend\u001b[0m\u001b[1;33m(\u001b[0m\u001b[1;33m)\u001b[0m\u001b[1;33m)\u001b[0m\u001b[1;33m\u001b[0m\u001b[1;33m\u001b[0m\u001b[0m\n\u001b[0m\u001b[0;32m    338\u001b[0m         \u001b[0mend\u001b[0m \u001b[1;33m=\u001b[0m \u001b[0m_w\u001b[0m\u001b[1;33m(\u001b[0m\u001b[0ms\u001b[0m\u001b[1;33m,\u001b[0m \u001b[0mend\u001b[0m\u001b[1;33m)\u001b[0m\u001b[1;33m.\u001b[0m\u001b[0mend\u001b[0m\u001b[1;33m(\u001b[0m\u001b[1;33m)\u001b[0m\u001b[1;33m\u001b[0m\u001b[1;33m\u001b[0m\u001b[0m\n\u001b[0;32m    339\u001b[0m         \u001b[1;32mif\u001b[0m \u001b[0mend\u001b[0m \u001b[1;33m!=\u001b[0m \u001b[0mlen\u001b[0m\u001b[1;33m(\u001b[0m\u001b[0ms\u001b[0m\u001b[1;33m)\u001b[0m\u001b[1;33m:\u001b[0m\u001b[1;33m\u001b[0m\u001b[1;33m\u001b[0m\u001b[0m\n",
      "\u001b[1;32m~\\anaconda3\\envs\\multi\\lib\\json\\decoder.py\u001b[0m in \u001b[0;36mraw_decode\u001b[1;34m(self, s, idx)\u001b[0m\n\u001b[0;32m    353\u001b[0m             \u001b[0mobj\u001b[0m\u001b[1;33m,\u001b[0m \u001b[0mend\u001b[0m \u001b[1;33m=\u001b[0m \u001b[0mself\u001b[0m\u001b[1;33m.\u001b[0m\u001b[0mscan_once\u001b[0m\u001b[1;33m(\u001b[0m\u001b[0ms\u001b[0m\u001b[1;33m,\u001b[0m \u001b[0midx\u001b[0m\u001b[1;33m)\u001b[0m\u001b[1;33m\u001b[0m\u001b[1;33m\u001b[0m\u001b[0m\n\u001b[0;32m    354\u001b[0m         \u001b[1;32mexcept\u001b[0m \u001b[0mStopIteration\u001b[0m \u001b[1;32mas\u001b[0m \u001b[0merr\u001b[0m\u001b[1;33m:\u001b[0m\u001b[1;33m\u001b[0m\u001b[1;33m\u001b[0m\u001b[0m\n\u001b[1;32m--> 355\u001b[1;33m             \u001b[1;32mraise\u001b[0m \u001b[0mJSONDecodeError\u001b[0m\u001b[1;33m(\u001b[0m\u001b[1;34m\"Expecting value\"\u001b[0m\u001b[1;33m,\u001b[0m \u001b[0ms\u001b[0m\u001b[1;33m,\u001b[0m \u001b[0merr\u001b[0m\u001b[1;33m.\u001b[0m\u001b[0mvalue\u001b[0m\u001b[1;33m)\u001b[0m \u001b[1;32mfrom\u001b[0m \u001b[1;32mNone\u001b[0m\u001b[1;33m\u001b[0m\u001b[1;33m\u001b[0m\u001b[0m\n\u001b[0m\u001b[0;32m    356\u001b[0m         \u001b[1;32mreturn\u001b[0m \u001b[0mobj\u001b[0m\u001b[1;33m,\u001b[0m \u001b[0mend\u001b[0m\u001b[1;33m\u001b[0m\u001b[1;33m\u001b[0m\u001b[0m\n",
      "\u001b[1;31mJSONDecodeError\u001b[0m: Expecting value: line 1 column 1 (char 0)"
     ]
    }
   ],
   "source": [
    "# 토큰화\n",
    "for i in range(len(df2)):\n",
    "    temp = []\n",
    "    checked = []\n",
    "    \n",
    "    temp = okt.nouns(df2['text'].iloc[i])\n",
    "    temp = [word for word in temp if not word in stopwords] # 불용어 제거\n",
    "    temp = [word for word in temp if len(word) > 1] # 불용어 제거\n",
    "#     print(i,'번 토큰화, 불용어 제거 완료')\n",
    "    \n",
    "    temp = list(set(temp))\n",
    "#     print(i, ' 중복단어 제거')\n",
    "    for check in temp:\n",
    "        aa = spell_checker.check(check).checked\n",
    "        checked.append(aa)\n",
    "#     print(i,'- spell check')\n",
    "    \n",
    "    df2['token'].iloc[i] = checked\n",
    "    print(i,'- 완료')"
   ]
  },
  {
   "cell_type": "code",
   "execution_count": 16,
   "id": "b0155e20-68eb-43a7-9414-c08ee5366568",
   "metadata": {},
   "outputs": [
    {
     "data": {
      "text/plain": [
       "6385"
      ]
     },
     "execution_count": 16,
     "metadata": {},
     "output_type": "execute_result"
    }
   ],
   "source": [
    "len(df2)"
   ]
  },
  {
   "cell_type": "code",
   "execution_count": null,
   "id": "11a8b4cb-a06e-4b2e-a272-d49d128fafd7",
   "metadata": {},
   "outputs": [],
   "source": [
    "j = 0\n",
    "label = [0] * len(df2)\n",
    "\n",
    "my_dic = {\"text\":[], \"label\":label}\n",
    "texts = df2.token\n",
    "\n",
    "\n",
    "for df in range(len(df2)):    \n",
    "    txt_data = ','.join(texts[df]).replace(',', ' ')\n",
    "    \n",
    "    my_dic['text'].append(txt_data) \n",
    "\n",
    "    for i in range(len(posneg)): \n",
    "        posflag = False \n",
    "        negflag = False \n",
    "\n",
    "        if i < (len(positive)-1): \n",
    "            if txt_data.find(posneg[i]) != -1: \n",
    "                posflag = True \n",
    "                print(i, \"positive?\",\"테스트 : \",txt_data.find(posneg[i]),\"비교단어 : \", posneg[i], \"인덱스 : \", i) \n",
    "                break\n",
    "\n",
    "        if i > (len(positive)-2): \n",
    "            if txt_data.find(posneg[i]) != -1: \n",
    "                negflag = True \n",
    "                print(i, \"negative?\",\"테스트 : \",txt_data.find(posneg[i]),\"비교단어 : \", posneg[i], \"인덱스 : \", i) \n",
    "                break\n",
    "\n",
    "    if posflag == True: \n",
    "        label[j] = 1 \n",
    "        # print(\"positive\", j) \n",
    "\n",
    "    elif negflag == True: \n",
    "        label[j] = -1 \n",
    "        # print(\"negative\", j) \n",
    "\n",
    "    elif negflag == False and posflag == False: \n",
    "        label[j] = 0 \n",
    "        # print(\"objective\", j) \n",
    "\n",
    "    j = j + 1\n",
    "                \n",
    "my_dic['label'] = label\n",
    "my_df = pd.DataFrame(my_dic)"
   ]
  },
  {
   "cell_type": "code",
   "execution_count": null,
   "id": "3e243bbe-617a-466b-b448-c20607ed544c",
   "metadata": {},
   "outputs": [],
   "source": [
    "my_df"
   ]
  },
  {
   "cell_type": "code",
   "execution_count": null,
   "id": "e34650a7-ac8e-47db-aa14-10e2779b74f7",
   "metadata": {},
   "outputs": [],
   "source": [
    "my_df.label.value_counts()"
   ]
  },
  {
   "cell_type": "code",
   "execution_count": null,
   "id": "096fddd7-b1c5-465a-b58f-fce75c0ce8a4",
   "metadata": {},
   "outputs": [],
   "source": []
  }
 ],
 "metadata": {
  "kernelspec": {
   "display_name": "Python Multi",
   "language": "python",
   "name": "multi"
  },
  "language_info": {
   "codemirror_mode": {
    "name": "ipython",
    "version": 3
   },
   "file_extension": ".py",
   "mimetype": "text/x-python",
   "name": "python",
   "nbconvert_exporter": "python",
   "pygments_lexer": "ipython3",
   "version": "3.7.6"
  }
 },
 "nbformat": 4,
 "nbformat_minor": 5
}
