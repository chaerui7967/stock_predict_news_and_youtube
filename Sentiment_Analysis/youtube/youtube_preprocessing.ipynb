{
 "cells": [
  {
   "cell_type": "markdown",
   "id": "b20ac017-58d5-44a4-b25e-82662a087f12",
   "metadata": {},
   "source": [
    "## Youtube 스크립트 텍스트 전처리"
   ]
  },
  {
   "cell_type": "code",
   "execution_count": 41,
   "id": "703f3e51-79bc-43ad-b300-522dacbade73",
   "metadata": {},
   "outputs": [],
   "source": [
    "import pandas as pd\n",
    "import numpy as np\n",
    "from hanspell import spell_checker # 500글자 이상의 문장은 검사 불가\n",
    "import re\n",
    "import warnings \n",
    "warnings.filterwarnings('ignore')\n",
    "\n",
    "from konlpy.tag import Okt\n",
    "okt = Okt()"
   ]
  },
  {
   "cell_type": "code",
   "execution_count": 2,
   "id": "54af42a4-cfeb-4f53-9e5c-6e784bee317b",
   "metadata": {},
   "outputs": [
    {
     "name": "stdin",
     "output_type": "stream",
     "text": [
      "절대 경로 입력 :  C:\\Users\\j\\stock_predict\\Sentiment_Analysis\\data\\전처리 전 데이터\\df_youtube_삼프로LG화학.csv\n"
     ]
    }
   ],
   "source": [
    "path = input('절대 경로 입력 : ')"
   ]
  },
  {
   "cell_type": "code",
   "execution_count": 110,
   "id": "59c3b4ae-ac55-4485-b5d6-026356a34545",
   "metadata": {},
   "outputs": [],
   "source": [
    "df1 = pd.read_csv(path)"
   ]
  },
  {
   "cell_type": "code",
   "execution_count": 111,
   "id": "5bae547e-1c40-4f03-8852-ac5449dc4269",
   "metadata": {},
   "outputs": [
    {
     "data": {
      "text/plain": [
       "0      으[음악]tera term[음악]으 으 으 으 으[음악]이름은 하나인데 직업은 서먹...\n",
       "1      구독과 좋아요는 사람입니다자 염치 염치 영차 차 우리 염성 안 차장에 보시겠습니다 ...\n",
       "2      좋아요 구독 눌러주세요자 그럼 오늘 첫 번째 뉴스 부터 시작을 해 봐야죠먼저 뭐 미...\n",
       "3      자 그러면 오늘 노려 일이니까요 발칙하게 한번 가보겠습니다뭐 리토의 방송에 건수를 ...\n",
       "4      산업을 이해하고 기업을 이해해야 돈의 흐름이 보입니다리서치 명과 메리츠 증권과 3%...\n",
       "                             ...                        \n",
       "502    자 그러면 시간이 달했습니다 우리염불 이염 20 이상이면 경우 아침개장 상황 살펴보...\n",
       "503    자 그러면 오늘 금요일 아침 9월10일 아침 증시 개장 은 어떻게 될것인지 우리 염...\n",
       "504    4자 오늘 9월 9일 목요일 전혀아유진 자산운용의 김 타기 산이 모시고실제 에 돈을...\n",
       "505    자 오늘 저희가 함께 이야기 나눌 분은 요 예 gs 자산운용예전에 그런 노래가 하나...\n",
       "506    으[음악]으 으[음악]on으[박수][음악]기피하는 경제의 컨텐츠 오나 10나이브 져...\n",
       "Name: text, Length: 507, dtype: object"
      ]
     },
     "execution_count": 111,
     "metadata": {},
     "output_type": "execute_result"
    }
   ],
   "source": [
    "df1.text"
   ]
  },
  {
   "cell_type": "code",
   "execution_count": 112,
   "id": "1020e098-dbde-451c-b708-d3699a1499e0",
   "metadata": {},
   "outputs": [
    {
     "data": {
      "text/plain": [
       "0      이름은하나인데직업은서먹이라는말들어봤어화직업이소노계란이크게가능해본절본섬불운박극혐부부지...\n",
       "1      과는사람입니다염치염치영차차우리염성안차장에보시겠습니다어서오십시오어서오세예어제밤새리포트...\n",
       "2      눌러주세그럼오늘첫번째뉴스부터시작을해봐야죠먼저뭐미연준얘기근데뭐당연히매실얘기를먼저해야할...\n",
       "3      그러면오늘노려일이니까발칙하게한번가보겠습니다뭐리토의방송에건수를기님어서오십시오이안녕하세...\n",
       "4      산업을이해하고기업을이해해야돈의흐름이보입니다리서치명과메리츠증권과3%가함께야심차게준비한...\n",
       "                             ...                        \n",
       "502    그러면시간이달했습니다우리염불이염20이상이면경우침개장상황살펴보겠습니다베스트투증권의염승...\n",
       "503    그러면오늘금일침9월10일침증시개장은어떻게될것인지우리염불베스트투증권의염승환이사님과함께...\n",
       "504    4오늘9월9일목일전혀유진산운용의김타기산이모시고실제에돈을본편이좀그런가에는굴리는문들은어...\n",
       "505    오늘저희가함께이야기나눌분은예산운용예전에그런노래가하나있었죠성은김이름은뒤했어그리고누가불...\n",
       "506    박수기피하는경제의컨텐츠오나10나이브져용지힘도원입니다4장4예언하신라이브9월12일금일입...\n",
       "Name: text, Length: 507, dtype: object"
      ]
     },
     "execution_count": 112,
     "metadata": {},
     "output_type": "execute_result"
    }
   ],
   "source": [
    "# 데이터 전처리\n",
    "\n",
    "df1.text = df1.text.str.replace('[으*]','')\n",
    "df1.text = df1.text.str.replace('[\\[\\]]','')\n",
    "df1.text = df1.text.str.replace('음악','')\n",
    "df1.text = df1.text.str.replace('자','')\n",
    "df1.text = df1.text.str.replace('[a-zA-Z]','')\n",
    "df1.text = df1.text.str.replace('[구독*]','')\n",
    "df1.text = df1.text.str.replace('[좋아요]','')\n",
    "df1.text = df1.text.str.replace('[\\s]','')\n",
    "df1.text = df1.text.str.strip() # 앞뒤 공백 제거\n",
    "\n",
    "df1.text "
   ]
  },
  {
   "cell_type": "code",
   "execution_count": 113,
   "id": "7399d40c-527a-425a-b71e-3ce43a53acc2",
   "metadata": {},
   "outputs": [],
   "source": [
    "# 불용어\n",
    "url = 'https://raw.githubusercontent.com/chaerui7967/stock_predict_news_and_youtube/master/Sentiment_Analysis/data/stopwords_ver1.txt'\n",
    "stopwords = list(pd.read_csv(url, header=None)[0])"
   ]
  },
  {
   "cell_type": "code",
   "execution_count": 114,
   "id": "f7b74175-5b06-4a45-ac83-afc3c9416f28",
   "metadata": {},
   "outputs": [],
   "source": [
    "df1['token'] = ''"
   ]
  },
  {
   "cell_type": "code",
   "execution_count": 115,
   "id": "660bf6e2-19d2-4616-8eb8-4515b635d484",
   "metadata": {},
   "outputs": [],
   "source": [
    "# test 10개만 빠르게 수행\n",
    "df2 = df1[:10]"
   ]
  },
  {
   "cell_type": "code",
   "execution_count": 116,
   "id": "325420d8-d2eb-4351-b9c5-21dde6424ce3",
   "metadata": {
    "tags": []
   },
   "outputs": [
    {
     "name": "stdout",
     "output_type": "stream",
     "text": [
      "0 번 토큰화, 불용어 제거 완료\n",
      "0  중복단어 제거\n",
      "0 - spell check\n",
      "0 - 완료\n",
      "1 번 토큰화, 불용어 제거 완료\n",
      "1  중복단어 제거\n",
      "1 - spell check\n",
      "1 - 완료\n",
      "2 번 토큰화, 불용어 제거 완료\n",
      "2  중복단어 제거\n",
      "2 - spell check\n",
      "2 - 완료\n",
      "3 번 토큰화, 불용어 제거 완료\n",
      "3  중복단어 제거\n",
      "3 - spell check\n",
      "3 - 완료\n",
      "4 번 토큰화, 불용어 제거 완료\n",
      "4  중복단어 제거\n",
      "4 - spell check\n",
      "4 - 완료\n",
      "5 번 토큰화, 불용어 제거 완료\n",
      "5  중복단어 제거\n",
      "5 - spell check\n",
      "5 - 완료\n",
      "6 번 토큰화, 불용어 제거 완료\n",
      "6  중복단어 제거\n",
      "6 - spell check\n",
      "6 - 완료\n",
      "7 번 토큰화, 불용어 제거 완료\n",
      "7  중복단어 제거\n",
      "7 - spell check\n",
      "7 - 완료\n",
      "8 번 토큰화, 불용어 제거 완료\n",
      "8  중복단어 제거\n",
      "8 - spell check\n",
      "8 - 완료\n",
      "9 번 토큰화, 불용어 제거 완료\n",
      "9  중복단어 제거\n",
      "9 - spell check\n",
      "9 - 완료\n"
     ]
    }
   ],
   "source": [
    "# 토큰화\n",
    "for i in range(len(df2)):\n",
    "    temp = []\n",
    "    temp = okt.nouns(df2['text'].iloc[i])\n",
    "    temp = [word for word in temp if not word in stopwords] # 불용어 제거\n",
    "    temp = [word for word in temp if len(word) > 1] # 불용어 제거\n",
    "    print(i,'번 토큰화, 불용어 제거 완료')\n",
    "    \n",
    "    temp = list(set(temp))\n",
    "    print(i, ' 중복단어 제거')\n",
    "    \n",
    "    temp = [spell_checker.check(word).checked for word in temp]\n",
    "    print(i,'- spell check')\n",
    "    \n",
    "    df2['token'].iloc[i] = temp\n",
    "    print(i,'- 완료')"
   ]
  },
  {
   "cell_type": "code",
   "execution_count": 117,
   "id": "4ff88fc5-98af-485a-8fe5-d247cef929f9",
   "metadata": {},
   "outputs": [
    {
     "data": {
      "text/plain": [
       "0    [비상, 주가, 생도, 집단, 피카, 도안, 과속, 야만, 에디션, 발표, 이만, ...\n",
       "1    [비상, 제안, 주가, 이태, 조성, 이사회, 건가, 을해, 반응, 면지, 반사, ...\n",
       "2    [주가, 건가, 이사회, 을해, 리가, 언어, 장사, 통화정책, 가야, 짜리, 도우...\n",
       "3    [물어, 은폐, 건가, 을해, 리가, 게리, 리나, 중고차, 안전성, 노력, 어려움...\n",
       "4    [주가, 제안, 출발, 을해, 리가, 제조업, 금융, 가야, 중생, 증권사, 금오,...\n",
       "5    [주가, 서일본, 안성, 을해, 부락, 우의, 가야, 로비, 우이, 진작, 에어, ...\n",
       "6    [주가, 출발, 을해, 사망, 이파리, 장사, 금융, 증권사, 양물, 을 것, 날짜...\n",
       "7    [주가, 제안, 비상, 상상, 을해, 외출, 별미, 언어, 금융, 증권사, 노력, ...\n",
       "8    [출발, 을해, 반응, 언어, 금융, 차장, 증권사, 힐링, 팬덤, 현금, 신속, ...\n",
       "9    [주가, 출발, 을해, 대표이사, 정원, 언어, 차장, 유엔, 증권사, 리나, 도안...\n",
       "Name: token, dtype: object"
      ]
     },
     "execution_count": 117,
     "metadata": {},
     "output_type": "execute_result"
    }
   ],
   "source": [
    "df2['token']"
   ]
  },
  {
   "cell_type": "code",
   "execution_count": null,
   "id": "0dc6361f-99f1-43ed-bfc8-04dbe2d77e7f",
   "metadata": {},
   "outputs": [],
   "source": [
    "import codecs\n",
    "\n",
    "positive = [] \n",
    "negative = []\n",
    "posneg = []\n",
    "dic = [('./KOSELF_pos.txt', './KOSELF_neg.txt'),\n",
    "       (\"./data/positive_words_self.txt\",\"./data/negative_words_self.txt\"),\n",
    "      ('./data/sum_pos.txt','./data/sum_neg.txt')]\n",
    "\n",
    "i = int(input('koself : 1, blog : 2, sum : 3'))-1\n",
    "\n",
    "\n",
    "pos = codecs.open(dic[i][0], 'rb', encoding='UTF-8') \n",
    "\n",
    "while True: \n",
    "    line = pos.readline() \n",
    "    line = line.replace('\\n', '')\n",
    "    line = line.replace('\\r', '')\n",
    "    \n",
    "    if not line: break\n",
    "        \n",
    "    positive.append(line) \n",
    "    posneg.append(line) \n",
    "        \n",
    "pos.close() \n",
    "\n",
    "neg = codecs.open(dic[i][1], 'rb', encoding='UTF-8') \n",
    "while True: \n",
    "    line = neg.readline() \n",
    "    line = line.replace('\\n', '')\n",
    "    line = line.replace('\\r', '')\n",
    "    \n",
    "    if not line: break\n",
    "    \n",
    "    negative.append(line) \n",
    "    posneg.append(line) \n",
    "    \n",
    "neg.close()"
   ]
  },
  {
   "cell_type": "code",
   "execution_count": null,
   "id": "11a8b4cb-a06e-4b2e-a272-d49d128fafd7",
   "metadata": {},
   "outputs": [],
   "source": []
  }
 ],
 "metadata": {
  "kernelspec": {
   "display_name": "Python Multi",
   "language": "python",
   "name": "multi"
  },
  "language_info": {
   "codemirror_mode": {
    "name": "ipython",
    "version": 3
   },
   "file_extension": ".py",
   "mimetype": "text/x-python",
   "name": "python",
   "nbconvert_exporter": "python",
   "pygments_lexer": "ipython3",
   "version": "3.7.6"
  }
 },
 "nbformat": 4,
 "nbformat_minor": 5
}
