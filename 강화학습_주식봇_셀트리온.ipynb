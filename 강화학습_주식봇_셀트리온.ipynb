{
  "nbformat": 4,
  "nbformat_minor": 0,
  "metadata": {
    "colab": {
      "name": "강화학습_주식봇_셀트리온.ipynb",
      "provenance": [],
      "collapsed_sections": [],
      "authorship_tag": "ABX9TyPFR9J++ic1T21URTNb1sEQ",
      "include_colab_link": true
    },
    "kernelspec": {
      "name": "python3",
      "display_name": "Python 3"
    },
    "language_info": {
      "name": "python"
    },
    "accelerator": "GPU"
  },
  "cells": [
    {
      "cell_type": "markdown",
      "metadata": {
        "id": "view-in-github",
        "colab_type": "text"
      },
      "source": [
        "<a href=\"https://colab.research.google.com/github/chaerui7967/stock_predict_news_and_youtube/blob/master/%EA%B0%95%ED%99%94%ED%95%99%EC%8A%B5_%EC%A3%BC%EC%8B%9D%EB%B4%87_%EC%85%80%ED%8A%B8%EB%A6%AC%EC%98%A8.ipynb\" target=\"_parent\"><img src=\"https://colab.research.google.com/assets/colab-badge.svg\" alt=\"Open In Colab\"/></a>"
      ]
    },
    {
      "cell_type": "markdown",
      "metadata": {
        "id": "9Ipg1Txf8jUd"
      },
      "source": [
        "# 주식_봇__강화학습"
      ]
    },
    {
      "cell_type": "code",
      "metadata": {
        "id": "HjmwNJpA8uvr"
      },
      "source": [
        "!pip install pykrx\n",
        "!pip install finance-datareader"
      ],
      "execution_count": null,
      "outputs": []
    },
    {
      "cell_type": "code",
      "metadata": {
        "colab": {
          "base_uri": "https://localhost:8080/",
          "height": 1000
        },
        "id": "AbAgyxQj8fEQ",
        "outputId": "72a5f289-7352-4931-ff6c-1ac9c589ad4f"
      },
      "source": [
        "import time\n",
        "import copy\n",
        "import numpy as np\n",
        "import pandas as pd\n",
        "import torch\n",
        "import torch.nn as nn\n",
        "from torch.autograd import Variable\n",
        "import torch.optim as optim\n",
        "import torch.nn.functional as F\n",
        "# import pandas_datareader as pdr\n",
        "# from pykrx import stock\n",
        "import matplotlib.pyplot as plt\n",
        "\n",
        "# 금융정보 조회하기\n",
        "def dataset_loaderKR(stock_name, start, end, train_ratio=0.8):\n",
        "  start_date = start\n",
        "  end_date = end\n",
        "  sample_code = stock_name\n",
        "  dataset = fdr.DataReader( sample_code, start = start_date, end = end_date )\n",
        "  dataset['Close'] = dataset['Close']\n",
        "  date_split = str(dataset.index[int(train_ratio*len(dataset))])\n",
        "\n",
        "  return dataset[:date_split], dataset[date_split:], date_split\n",
        "\n",
        "# 데이터 불러오기\n",
        "# 주식가격 로딩\n",
        "import FinanceDataReader as fdr\n",
        "import datetime\n",
        "start_date = '20180101'\n",
        "end_date = datetime.datetime.now().strftime(\"%Y%m%d\")\n",
        "sample_code = '068270'\n",
        "\n",
        "(train, test, date_split) = dataset_loaderKR(sample_code, start = start_date, end = end_date)\n",
        "\n",
        "\n",
        "# ENV 설정\n",
        "class Environment1:\n",
        "    def __init__(self, data, history_t=90):\n",
        "        self.data = data\n",
        "        self.history_t = history_t\n",
        "        self.reset()\n",
        "        \n",
        "    def reset(self):\n",
        "        self.t = 0\n",
        "        self.done = False\n",
        "        self.profits = 0\n",
        "        self.positions = []\n",
        "        self.position_value = 0\n",
        "        self.history = [0 for _ in range(self.history_t)]\n",
        "        return [self.position_value] + self.history # obs\n",
        "\n",
        "    def step(self, act):\n",
        "        reward = 0\n",
        "        \n",
        "        # action\n",
        "        # 0: Idle\n",
        "        # 1: 매수\n",
        "        # 2: 매도\n",
        "        if act == 1: #매수\n",
        "            self.positions.append(self.data.iloc[self.t, :]['Close'])\n",
        "        elif act == 2: # 매도\n",
        "            if len(self.positions) == 0:\n",
        "                reward = -1\n",
        "            else:\n",
        "                profits = 0\n",
        "                for p in self.positions:\n",
        "                    profits += (self.data.iloc[self.t, :]['Close'] - p)\n",
        "                reward += profits\n",
        "                self.profits += profits\n",
        "                self.positions = []\n",
        "        \n",
        "        # set next time\n",
        "        self.t += 1\n",
        "        \n",
        "        self.position_value = 0\n",
        "        for p in self.positions:\n",
        "            self.position_value += (self.data.iloc[self.t, :]['Close'] - p)\n",
        "        self.history.pop(0)\n",
        "        self.history.append(self.data.iloc[self.t, :]['Close'] - self.data.iloc[(self.t-1), :]['Close'])\n",
        "        if (self.t==len(self.data)-1):\n",
        "            self.done=True\n",
        "        # clipping reward\n",
        "        if reward > 0:\n",
        "            reward = 1\n",
        "        elif reward < 0:\n",
        "            reward = -1\n",
        "        #print (\"t={%d}, done={%str}\"%(self.t,self.done))\n",
        "        return [self.position_value] + self.history, reward, self.done # obs, reward, done\n",
        "\n",
        "# MODEL\n",
        "class Q_Network(nn.Module):\n",
        "    def __init__(self,obs_len,hidden_size,actions_n):\n",
        "        super(Q_Network,self).__init__()\n",
        "        self.fc_val = nn.Sequential(\n",
        "            nn.Linear(obs_len, hidden_size),\n",
        "            nn.ReLU(),\n",
        "            nn.Linear(hidden_size, hidden_size),\n",
        "            nn.ReLU(),\n",
        "            nn.Linear(hidden_size, actions_n)\n",
        "        )\n",
        "    def forward(self,x):\n",
        "        h = self.fc_val(x)\n",
        "        return (h)\n",
        "\n",
        "# 학습 시키기\n",
        "env = Environment1(train)\n",
        "env.reset()\n",
        "\n",
        "hidden_size = 100\n",
        "input_size = env.history_t+1\n",
        "output_size = 3\n",
        "USE_CUDA = False\n",
        "LR = 0.001\n",
        "\n",
        "Q = Q_Network(input_size, hidden_size, output_size)\n",
        "Q_ast = copy.deepcopy(Q)\n",
        "\n",
        "if USE_CUDA:\n",
        "    Q = Q.cuda()\n",
        "loss_function = nn.MSELoss()\n",
        "optimizer = optim.Adam(list(Q.parameters()), lr=LR)\n",
        "\n",
        "epoch_num = 50\n",
        "step_max = len(env.data)-1\n",
        "memory_size = 200\n",
        "batch_size = 50\n",
        "gamma = 0.97\n",
        "\n",
        "obs, reward, done = env.step(5)\n",
        "\n",
        "memory = []\n",
        "total_step = 0\n",
        "total_rewards = []\n",
        "total_losses = []\n",
        "epsilon = 1.0\n",
        "epsilon_decrease = 1e-3\n",
        "epsilon_min = 0.1\n",
        "start_reduce_epsilon = 200\n",
        "train_freq = 10\n",
        "update_q_freq = 20\n",
        "show_log_freq = 5\n",
        "\n",
        "start = time.time()\n",
        "for epoch in range(epoch_num):\n",
        "    pobs = env.reset()\n",
        "    step = 0\n",
        "    done = False\n",
        "    total_reward = 0\n",
        "    total_loss = 0\n",
        "\n",
        "    while not done and step < step_max:\n",
        "        # select act\n",
        "        pact = np.random.randint(3)\n",
        "        if np.random.rand() > epsilon:\n",
        "            pact = Q(torch.from_numpy(np.array(pobs, dtype=np.float32).reshape(1, -1)))\n",
        "            pact = np.argmax(pact.data)\n",
        "            pact = pact.numpy()\n",
        "\n",
        "        # act\n",
        "        obs, reward, done = env.step(pact)\n",
        "\n",
        "        # add memory\n",
        "        memory.append((pobs, pact, reward, obs, done))\n",
        "        if len(memory) > memory_size:\n",
        "            memory.pop(0)\n",
        "\n",
        "        # train or update q\n",
        "        if len(memory) == memory_size:\n",
        "            if total_step % train_freq == 0:\n",
        "                shuffled_memory = np.random.permutation(memory)\n",
        "                memory_idx = range(len(shuffled_memory))\n",
        "                for i in memory_idx[::batch_size]:\n",
        "                    batch = np.array(shuffled_memory[i:i+batch_size])\n",
        "                    b_pobs = np.array(batch[:, 0].tolist(), dtype=np.float32).reshape(batch_size, -1)\n",
        "                    b_pact = np.array(batch[:, 1].tolist(), dtype=np.int32)\n",
        "                    b_reward = np.array(batch[:, 2].tolist(), dtype=np.int32)\n",
        "                    b_obs = np.array(batch[:, 3].tolist(), dtype=np.float32).reshape(batch_size, -1)\n",
        "                    b_done = np.array(batch[:, 4].tolist(), dtype=np.bool)\n",
        "\n",
        "                    q = Q(torch.from_numpy(b_pobs))\n",
        "                    q_ = Q_ast(torch.from_numpy(b_obs))\n",
        "                    maxq = np.max(q_.data.numpy(),axis=1)\n",
        "                    target = copy.deepcopy(q.data)\n",
        "                    for j in range(batch_size):\n",
        "                        target[j, b_pact[j]] = b_reward[j]+gamma*maxq[j]*(not b_done[j])\n",
        "                    Q.zero_grad()\n",
        "                    loss = loss_function(q, target)\n",
        "                    total_loss += loss.data.item()\n",
        "                    loss.backward()\n",
        "                    optimizer.step()\n",
        "                    \n",
        "            if total_step % update_q_freq == 0:\n",
        "                Q_ast = copy.deepcopy(Q)\n",
        "                \n",
        "            # epsilon\n",
        "            if epsilon > epsilon_min and total_step > start_reduce_epsilon:\n",
        "                epsilon -= epsilon_decrease\n",
        "\n",
        "            # next step\n",
        "            total_reward += reward\n",
        "            pobs = obs\n",
        "            step += 1\n",
        "            total_step += 1\n",
        "\n",
        "        total_rewards.append(total_reward)\n",
        "        total_losses.append(total_loss)\n",
        "\n",
        "        if (epoch+1) % show_log_freq == 0:\n",
        "            log_reward = sum(total_rewards[((epoch+1)-show_log_freq):])/show_log_freq\n",
        "            log_loss = sum(total_losses[((epoch+1)-show_log_freq):])/show_log_freq\n",
        "            elapsed_time = time.time()-start\n",
        "            #print('\\t'.join(map(str, [epoch+1, epsilon, total_step, log_reward, log_loss, elapsed_time])))\n",
        "            start = time.time()\n",
        "    print(\"Epoch %d\" % (epoch+1))\n",
        "\n",
        "# TEST\n",
        "test_env = Environment1(test)\n",
        "pobs = test_env.reset()\n",
        "test_acts = []\n",
        "test_rewards = []\n",
        "\n",
        "for _ in range(len(test_env.data)-1):\n",
        "    pact = Q(torch.from_numpy(np.array(pobs, dtype=np.float32).reshape(1, -1)))\n",
        "    pact = np.argmax(pact.data)\n",
        "    test_acts.append(pact.item())\n",
        "            \n",
        "    obs, reward, done = test_env.step(pact.numpy())\n",
        "    test_rewards.append(reward)\n",
        "\n",
        "    pobs = obs\n",
        "\n",
        "# sell remaining stocks\n",
        "profits = 0\n",
        "for p in test_env.positions:\n",
        "\tprofits += (test_env.data.iloc[test_env.t, :]['Close'] - p)\n",
        "\n",
        "test_env.profits += profits\n",
        "test_env.positions = []\n",
        "\n",
        "test_profits = test_env.profits\n",
        "pact = Q(torch.from_numpy(np.array(pobs, dtype=np.float32).reshape(1, -1)))\n",
        "pact = np.argmax(pact.data)\n",
        "next_action = pact.item()\n",
        "test['Action'] = test_acts + [next_action]\n",
        "\n",
        "\n",
        "print( )\n",
        "print( test )\n",
        "print( )\n",
        "print( sample_code, \"결과\")\n",
        "print( \"손익결과 $%.2f\" % round(test_profits,2) )\n",
        "\n",
        "if next_action == 2:\n",
        "\tprint('하락!')\n",
        "elif next_action == 1:\n",
        "\tprint('증가!')\n",
        "else:\n",
        "\tprint('유지 - 확률 반반!')\n",
        "\n",
        "buy_dates = test.loc[test['Action'] ==1].index.values\n",
        "sell_dates = test.loc[test['Action'] ==2].index.values\n",
        "\n",
        "buy_close = test.loc[test['Action'] ==1, 'Close'].values\n",
        "sell_close = test.loc[test['Action'] ==2, 'Close'].values\n",
        "\n",
        "fig = plt.figure(figsize=(15,9))\n",
        "\n",
        "plt.plot(test['Close'])\n",
        "plt.scatter(buy_dates, buy_close, label='skitscat', color='red', s=50, marker=\"^\")\n",
        "plt.scatter(sell_dates, sell_close, label='skitscat', color='blue', s=50, marker=\"v\")\n",
        "plt.show()"
      ],
      "execution_count": 3,
      "outputs": [
        {
          "output_type": "stream",
          "name": "stderr",
          "text": [
            "/usr/local/lib/python3.7/dist-packages/numpy/core/_asarray.py:83: VisibleDeprecationWarning: Creating an ndarray from ragged nested sequences (which is a list-or-tuple of lists-or-tuples-or ndarrays with different lengths or shapes) is deprecated. If you meant to do this, you must specify 'dtype=object' when creating the ndarray\n",
            "  return array(a, dtype, copy=False, order=order)\n"
          ]
        },
        {
          "output_type": "stream",
          "name": "stdout",
          "text": [
            "Epoch 1\n",
            "Epoch 2\n",
            "Epoch 3\n",
            "Epoch 4\n",
            "Epoch 5\n",
            "Epoch 6\n",
            "Epoch 7\n",
            "Epoch 8\n",
            "Epoch 9\n",
            "Epoch 10\n",
            "Epoch 11\n",
            "Epoch 12\n",
            "Epoch 13\n",
            "Epoch 14\n",
            "Epoch 15\n",
            "Epoch 16\n",
            "Epoch 17\n",
            "Epoch 18\n",
            "Epoch 19\n",
            "Epoch 20\n",
            "Epoch 21\n",
            "Epoch 22\n",
            "Epoch 23\n",
            "Epoch 24\n",
            "Epoch 25\n",
            "Epoch 26\n",
            "Epoch 27\n",
            "Epoch 28\n",
            "Epoch 29\n",
            "Epoch 30\n",
            "Epoch 31\n",
            "Epoch 32\n",
            "Epoch 33\n",
            "Epoch 34\n",
            "Epoch 35\n",
            "Epoch 36\n",
            "Epoch 37\n",
            "Epoch 38\n",
            "Epoch 39\n",
            "Epoch 40\n",
            "Epoch 41\n",
            "Epoch 42\n",
            "Epoch 43\n",
            "Epoch 44\n",
            "Epoch 45\n",
            "Epoch 46\n",
            "Epoch 47\n",
            "Epoch 48\n",
            "Epoch 49\n",
            "Epoch 50\n",
            "\n",
            "              Open    High     Low   Close   Volume    Change  Action\n",
            "Date                                                                 \n",
            "2020-12-22  361379  364325  352541  352541  1358477 -0.021798       2\n",
            "2020-12-23  357451  359415  347631  348613  1425317 -0.011142       2\n",
            "2020-12-24  349104  351559  337320  341248  2076258 -0.021127       2\n",
            "2020-12-28  343212  353523  318170  327500  7295632 -0.040287       2\n",
            "2020-12-29  360500  365000  347000  360500  5725005  0.100763       1\n",
            "...            ...     ...     ...     ...      ...       ...     ...\n",
            "2021-09-09  272000  275500  267000  269000   595228 -0.016453       2\n",
            "2021-09-10  269500  271000  265500  267500   394088 -0.005576       2\n",
            "2021-09-13  266500  267000  260500  262000   505510 -0.020561       2\n",
            "2021-09-14  261500  265000  260500  263000   416684  0.003817       2\n",
            "2021-09-15  266000  275500  265500  273000   489847  0.038023       2\n",
            "\n",
            "[183 rows x 7 columns]\n",
            "\n",
            "068270 결과\n",
            "손익결과 $-30500.00\n",
            "하락!\n"
          ]
        },
        {
          "output_type": "display_data",
          "data": {
            "image/png": "[encoded data removed]",
            "text/plain": [
              "<Figure size 1080x648 with 1 Axes>"
            ]
          },
          "metadata": {
            "needs_background": "light"
          }
        }
      ]
    },
    {
      "cell_type": "code",
      "metadata": {
        "colab": {
          "base_uri": "https://localhost:8080/"
        },
        "id": "Z4b5pEwdc8ok",
        "outputId": "9c082b1d-24c8-4b16-8492-43534450a200"
      },
      "source": [
        "Q.forward"
      ],
      "execution_count": null,
      "outputs": [
        {
          "output_type": "execute_result",
          "data": {
            "text/plain": [
              "<bound method Q_Network.forward of Q_Network(\n",
              "  (fc_val): Sequential(\n",
              "    (0): Linear(in_features=91, out_features=100, bias=True)\n",
              "    (1): ReLU()\n",
              "    (2): Linear(in_features=100, out_features=100, bias=True)\n",
              "    (3): ReLU()\n",
              "    (4): Linear(in_features=100, out_features=3, bias=True)\n",
              "  )\n",
              ")>"
            ]
          },
          "metadata": {},
          "execution_count": 67
        }
      ]
    },
    {
      "cell_type": "code",
      "metadata": {
        "colab": {
          "base_uri": "https://localhost:8080/",
          "height": 447
        },
        "id": "jIS9K-YU5P6J",
        "outputId": "3ab3b134-2d55-4629-a99c-3d85e1cc3377"
      },
      "source": [
        "test"
      ],
      "execution_count": 4,
      "outputs": [
        {
          "output_type": "execute_result",
          "data": {
            "text/html": [
              "<div>\n",
              "<style scoped>\n",
              "    .dataframe tbody tr th:only-of-type {\n",
              "        vertical-align: middle;\n",
              "    }\n",
              "\n",
              "    .dataframe tbody tr th {\n",
              "        vertical-align: top;\n",
              "    }\n",
              "\n",
              "    .dataframe thead th {\n",
              "        text-align: right;\n",
              "    }\n",
              "</style>\n",
              "<table border=\"1\" class=\"dataframe\">\n",
              "  <thead>\n",
              "    <tr style=\"text-align: right;\">\n",
              "      <th></th>\n",
              "      <th>Open</th>\n",
              "      <th>High</th>\n",
              "      <th>Low</th>\n",
              "      <th>Close</th>\n",
              "      <th>Volume</th>\n",
              "      <th>Change</th>\n",
              "      <th>Action</th>\n",
              "    </tr>\n",
              "    <tr>\n",
              "      <th>Date</th>\n",
              "      <th></th>\n",
              "      <th></th>\n",
              "      <th></th>\n",
              "      <th></th>\n",
              "      <th></th>\n",
              "      <th></th>\n",
              "      <th></th>\n",
              "    </tr>\n",
              "  </thead>\n",
              "  <tbody>\n",
              "    <tr>\n",
              "      <th>2020-12-22</th>\n",
              "      <td>361379</td>\n",
              "      <td>364325</td>\n",
              "      <td>352541</td>\n",
              "      <td>352541</td>\n",
              "      <td>1358477</td>\n",
              "      <td>-0.021798</td>\n",
              "      <td>2</td>\n",
              "    </tr>\n",
              "    <tr>\n",
              "      <th>2020-12-23</th>\n",
              "      <td>357451</td>\n",
              "      <td>359415</td>\n",
              "      <td>347631</td>\n",
              "      <td>348613</td>\n",
              "      <td>1425317</td>\n",
              "      <td>-0.011142</td>\n",
              "      <td>2</td>\n",
              "    </tr>\n",
              "    <tr>\n",
              "      <th>2020-12-24</th>\n",
              "      <td>349104</td>\n",
              "      <td>351559</td>\n",
              "      <td>337320</td>\n",
              "      <td>341248</td>\n",
              "      <td>2076258</td>\n",
              "      <td>-0.021127</td>\n",
              "      <td>2</td>\n",
              "    </tr>\n",
              "    <tr>\n",
              "      <th>2020-12-28</th>\n",
              "      <td>343212</td>\n",
              "      <td>353523</td>\n",
              "      <td>318170</td>\n",
              "      <td>327500</td>\n",
              "      <td>7295632</td>\n",
              "      <td>-0.040287</td>\n",
              "      <td>2</td>\n",
              "    </tr>\n",
              "    <tr>\n",
              "      <th>2020-12-29</th>\n",
              "      <td>360500</td>\n",
              "      <td>365000</td>\n",
              "      <td>347000</td>\n",
              "      <td>360500</td>\n",
              "      <td>5725005</td>\n",
              "      <td>0.100763</td>\n",
              "      <td>1</td>\n",
              "    </tr>\n",
              "    <tr>\n",
              "      <th>...</th>\n",
              "      <td>...</td>\n",
              "      <td>...</td>\n",
              "      <td>...</td>\n",
              "      <td>...</td>\n",
              "      <td>...</td>\n",
              "      <td>...</td>\n",
              "      <td>...</td>\n",
              "    </tr>\n",
              "    <tr>\n",
              "      <th>2021-09-09</th>\n",
              "      <td>272000</td>\n",
              "      <td>275500</td>\n",
              "      <td>267000</td>\n",
              "      <td>269000</td>\n",
              "      <td>595228</td>\n",
              "      <td>-0.016453</td>\n",
              "      <td>2</td>\n",
              "    </tr>\n",
              "    <tr>\n",
              "      <th>2021-09-10</th>\n",
              "      <td>269500</td>\n",
              "      <td>271000</td>\n",
              "      <td>265500</td>\n",
              "      <td>267500</td>\n",
              "      <td>394088</td>\n",
              "      <td>-0.005576</td>\n",
              "      <td>2</td>\n",
              "    </tr>\n",
              "    <tr>\n",
              "      <th>2021-09-13</th>\n",
              "      <td>266500</td>\n",
              "      <td>267000</td>\n",
              "      <td>260500</td>\n",
              "      <td>262000</td>\n",
              "      <td>505510</td>\n",
              "      <td>-0.020561</td>\n",
              "      <td>2</td>\n",
              "    </tr>\n",
              "    <tr>\n",
              "      <th>2021-09-14</th>\n",
              "      <td>261500</td>\n",
              "      <td>265000</td>\n",
              "      <td>260500</td>\n",
              "      <td>263000</td>\n",
              "      <td>416684</td>\n",
              "      <td>0.003817</td>\n",
              "      <td>2</td>\n",
              "    </tr>\n",
              "    <tr>\n",
              "      <th>2021-09-15</th>\n",
              "      <td>266000</td>\n",
              "      <td>275500</td>\n",
              "      <td>265500</td>\n",
              "      <td>273000</td>\n",
              "      <td>489847</td>\n",
              "      <td>0.038023</td>\n",
              "      <td>2</td>\n",
              "    </tr>\n",
              "  </tbody>\n",
              "</table>\n",
              "<p>183 rows × 7 columns</p>\n",
              "</div>"
            ],
            "text/plain": [
              "              Open    High     Low   Close   Volume    Change  Action\n",
              "Date                                                                 \n",
              "2020-12-22  361379  364325  352541  352541  1358477 -0.021798       2\n",
              "2020-12-23  357451  359415  347631  348613  1425317 -0.011142       2\n",
              "2020-12-24  349104  351559  337320  341248  2076258 -0.021127       2\n",
              "2020-12-28  343212  353523  318170  327500  7295632 -0.040287       2\n",
              "2020-12-29  360500  365000  347000  360500  5725005  0.100763       1\n",
              "...            ...     ...     ...     ...      ...       ...     ...\n",
              "2021-09-09  272000  275500  267000  269000   595228 -0.016453       2\n",
              "2021-09-10  269500  271000  265500  267500   394088 -0.005576       2\n",
              "2021-09-13  266500  267000  260500  262000   505510 -0.020561       2\n",
              "2021-09-14  261500  265000  260500  263000   416684  0.003817       2\n",
              "2021-09-15  266000  275500  265500  273000   489847  0.038023       2\n",
              "\n",
              "[183 rows x 7 columns]"
            ]
          },
          "metadata": {},
          "execution_count": 4
        }
      ]
    },
    {
      "cell_type": "code",
      "metadata": {
        "id": "OYAmjhpGSIiN"
      },
      "source": [
        "test['act'] = np.where((test['Change'] * test['Close']) > (0.1 * test['Close']),1,\n",
        "                       np.where((test['Change'] * test['Close']) < (0.1 * test['Close']), 2,0)) # 상승, 하락, 보합"
      ],
      "execution_count": 5,
      "outputs": []
    },
    {
      "cell_type": "code",
      "metadata": {
        "colab": {
          "base_uri": "https://localhost:8080/"
        },
        "id": "cazp99OKtYyz",
        "outputId": "a51d2b72-6388-4ac3-9eba-ce4145c5b16d"
      },
      "source": [
        "test.Action.value_counts()"
      ],
      "execution_count": 6,
      "outputs": [
        {
          "output_type": "execute_result",
          "data": {
            "text/plain": [
              "2    118\n",
              "0     49\n",
              "1     16\n",
              "Name: Action, dtype: int64"
            ]
          },
          "metadata": {},
          "execution_count": 6
        }
      ]
    },
    {
      "cell_type": "code",
      "metadata": {
        "colab": {
          "base_uri": "https://localhost:8080/"
        },
        "id": "oBUQLeLBSIft",
        "outputId": "e6e198bc-a424-4de1-88fd-ef204e7dce01"
      },
      "source": [
        "len(test[test.Action == test.act])/len(test)"
      ],
      "execution_count": 7,
      "outputs": [
        {
          "output_type": "execute_result",
          "data": {
            "text/plain": [
              "0.644808743169399"
            ]
          },
          "metadata": {},
          "execution_count": 7
        }
      ]
    },
    {
      "cell_type": "code",
      "metadata": {
        "colab": {
          "base_uri": "https://localhost:8080/",
          "height": 447
        },
        "id": "IuqlM-QMSIcf",
        "outputId": "723a2804-98f5-4e96-dda4-53232ceadc4f"
      },
      "source": [
        "test"
      ],
      "execution_count": 8,
      "outputs": [
        {
          "output_type": "execute_result",
          "data": {
            "text/html": [
              "<div>\n",
              "<style scoped>\n",
              "    .dataframe tbody tr th:only-of-type {\n",
              "        vertical-align: middle;\n",
              "    }\n",
              "\n",
              "    .dataframe tbody tr th {\n",
              "        vertical-align: top;\n",
              "    }\n",
              "\n",
              "    .dataframe thead th {\n",
              "        text-align: right;\n",
              "    }\n",
              "</style>\n",
              "<table border=\"1\" class=\"dataframe\">\n",
              "  <thead>\n",
              "    <tr style=\"text-align: right;\">\n",
              "      <th></th>\n",
              "      <th>Open</th>\n",
              "      <th>High</th>\n",
              "      <th>Low</th>\n",
              "      <th>Close</th>\n",
              "      <th>Volume</th>\n",
              "      <th>Change</th>\n",
              "      <th>Action</th>\n",
              "      <th>act</th>\n",
              "    </tr>\n",
              "    <tr>\n",
              "      <th>Date</th>\n",
              "      <th></th>\n",
              "      <th></th>\n",
              "      <th></th>\n",
              "      <th></th>\n",
              "      <th></th>\n",
              "      <th></th>\n",
              "      <th></th>\n",
              "      <th></th>\n",
              "    </tr>\n",
              "  </thead>\n",
              "  <tbody>\n",
              "    <tr>\n",
              "      <th>2020-12-22</th>\n",
              "      <td>361379</td>\n",
              "      <td>364325</td>\n",
              "      <td>352541</td>\n",
              "      <td>352541</td>\n",
              "      <td>1358477</td>\n",
              "      <td>-0.021798</td>\n",
              "      <td>2</td>\n",
              "      <td>2</td>\n",
              "    </tr>\n",
              "    <tr>\n",
              "      <th>2020-12-23</th>\n",
              "      <td>357451</td>\n",
              "      <td>359415</td>\n",
              "      <td>347631</td>\n",
              "      <td>348613</td>\n",
              "      <td>1425317</td>\n",
              "      <td>-0.011142</td>\n",
              "      <td>2</td>\n",
              "      <td>2</td>\n",
              "    </tr>\n",
              "    <tr>\n",
              "      <th>2020-12-24</th>\n",
              "      <td>349104</td>\n",
              "      <td>351559</td>\n",
              "      <td>337320</td>\n",
              "      <td>341248</td>\n",
              "      <td>2076258</td>\n",
              "      <td>-0.021127</td>\n",
              "      <td>2</td>\n",
              "      <td>2</td>\n",
              "    </tr>\n",
              "    <tr>\n",
              "      <th>2020-12-28</th>\n",
              "      <td>343212</td>\n",
              "      <td>353523</td>\n",
              "      <td>318170</td>\n",
              "      <td>327500</td>\n",
              "      <td>7295632</td>\n",
              "      <td>-0.040287</td>\n",
              "      <td>2</td>\n",
              "      <td>2</td>\n",
              "    </tr>\n",
              "    <tr>\n",
              "      <th>2020-12-29</th>\n",
              "      <td>360500</td>\n",
              "      <td>365000</td>\n",
              "      <td>347000</td>\n",
              "      <td>360500</td>\n",
              "      <td>5725005</td>\n",
              "      <td>0.100763</td>\n",
              "      <td>1</td>\n",
              "      <td>1</td>\n",
              "    </tr>\n",
              "    <tr>\n",
              "      <th>...</th>\n",
              "      <td>...</td>\n",
              "      <td>...</td>\n",
              "      <td>...</td>\n",
              "      <td>...</td>\n",
              "      <td>...</td>\n",
              "      <td>...</td>\n",
              "      <td>...</td>\n",
              "      <td>...</td>\n",
              "    </tr>\n",
              "    <tr>\n",
              "      <th>2021-09-09</th>\n",
              "      <td>272000</td>\n",
              "      <td>275500</td>\n",
              "      <td>267000</td>\n",
              "      <td>269000</td>\n",
              "      <td>595228</td>\n",
              "      <td>-0.016453</td>\n",
              "      <td>2</td>\n",
              "      <td>2</td>\n",
              "    </tr>\n",
              "    <tr>\n",
              "      <th>2021-09-10</th>\n",
              "      <td>269500</td>\n",
              "      <td>271000</td>\n",
              "      <td>265500</td>\n",
              "      <td>267500</td>\n",
              "      <td>394088</td>\n",
              "      <td>-0.005576</td>\n",
              "      <td>2</td>\n",
              "      <td>2</td>\n",
              "    </tr>\n",
              "    <tr>\n",
              "      <th>2021-09-13</th>\n",
              "      <td>266500</td>\n",
              "      <td>267000</td>\n",
              "      <td>260500</td>\n",
              "      <td>262000</td>\n",
              "      <td>505510</td>\n",
              "      <td>-0.020561</td>\n",
              "      <td>2</td>\n",
              "      <td>2</td>\n",
              "    </tr>\n",
              "    <tr>\n",
              "      <th>2021-09-14</th>\n",
              "      <td>261500</td>\n",
              "      <td>265000</td>\n",
              "      <td>260500</td>\n",
              "      <td>263000</td>\n",
              "      <td>416684</td>\n",
              "      <td>0.003817</td>\n",
              "      <td>2</td>\n",
              "      <td>2</td>\n",
              "    </tr>\n",
              "    <tr>\n",
              "      <th>2021-09-15</th>\n",
              "      <td>266000</td>\n",
              "      <td>275500</td>\n",
              "      <td>265500</td>\n",
              "      <td>273000</td>\n",
              "      <td>489847</td>\n",
              "      <td>0.038023</td>\n",
              "      <td>2</td>\n",
              "      <td>2</td>\n",
              "    </tr>\n",
              "  </tbody>\n",
              "</table>\n",
              "<p>183 rows × 8 columns</p>\n",
              "</div>"
            ],
            "text/plain": [
              "              Open    High     Low   Close   Volume    Change  Action  act\n",
              "Date                                                                      \n",
              "2020-12-22  361379  364325  352541  352541  1358477 -0.021798       2    2\n",
              "2020-12-23  357451  359415  347631  348613  1425317 -0.011142       2    2\n",
              "2020-12-24  349104  351559  337320  341248  2076258 -0.021127       2    2\n",
              "2020-12-28  343212  353523  318170  327500  7295632 -0.040287       2    2\n",
              "2020-12-29  360500  365000  347000  360500  5725005  0.100763       1    1\n",
              "...            ...     ...     ...     ...      ...       ...     ...  ...\n",
              "2021-09-09  272000  275500  267000  269000   595228 -0.016453       2    2\n",
              "2021-09-10  269500  271000  265500  267500   394088 -0.005576       2    2\n",
              "2021-09-13  266500  267000  260500  262000   505510 -0.020561       2    2\n",
              "2021-09-14  261500  265000  260500  263000   416684  0.003817       2    2\n",
              "2021-09-15  266000  275500  265500  273000   489847  0.038023       2    2\n",
              "\n",
              "[183 rows x 8 columns]"
            ]
          },
          "metadata": {},
          "execution_count": 8
        }
      ]
    },
    {
      "cell_type": "code",
      "metadata": {
        "id": "h3vCycSF5P0K"
      },
      "source": [
        "test.to_csv('셀트리온_RL.csv', index=False)"
      ],
      "execution_count": 9,
      "outputs": []
    },
    {
      "cell_type": "code",
      "metadata": {
        "id": "MtN3Ptq4SITM"
      },
      "source": [
        "# 모델저장\n",
        "torch.save(Q,'celltrion_rl.h5')"
      ],
      "execution_count": 11,
      "outputs": []
    },
    {
      "cell_type": "code",
      "metadata": {
        "id": "5exzk5n9W9T-"
      },
      "source": [
        "(train, test, date_split) = dataset_loaderKR(sample_code, start = start_date, end = end_date)"
      ],
      "execution_count": 12,
      "outputs": []
    },
    {
      "cell_type": "code",
      "metadata": {
        "id": "kghasUJxW9Rd",
        "colab": {
          "base_uri": "https://localhost:8080/"
        },
        "outputId": "2b2c5d54-d226-4983-9c54-3cb3ebb5a21a"
      },
      "source": [
        "# 모델 로딩\n",
        "model = torch.load('celltrion_rl.h5')\n",
        "\n",
        "test_env = Environment1(test)\n",
        "pobs = test_env.reset()\n",
        "test_acts = []\n",
        "test_rewards = []\n",
        "\n",
        "for _ in range(len(test_env.data)-1):\n",
        "    pact = model(torch.from_numpy(np.array(pobs, dtype=np.float32).reshape(1, -1)))\n",
        "    pact = np.argmax(pact.data)\n",
        "    test_acts.append(pact.item())\n",
        "            \n",
        "    obs, reward, done = test_env.step(pact.numpy())\n",
        "    test_rewards.append(reward)\n",
        "\n",
        "    pobs = obs\n",
        "\n",
        "# sell remaining stocks\n",
        "profits = 0\n",
        "for p in test_env.positions:\n",
        "\tprofits += (test_env.data.iloc[test_env.t, :]['Close'] - p)\n",
        "\n",
        "test_env.profits += profits\n",
        "test_env.positions = []\n",
        "\n",
        "test_profits = test_env.profits\n",
        "pact = model(torch.from_numpy(np.array(pobs, dtype=np.float32).reshape(1, -1)))\n",
        "pact = np.argmax(pact.data)\n",
        "next_action = pact.item()\n",
        "test['Action'] = test_acts + [next_action]\n",
        "\n",
        "\n",
        "print( )\n",
        "print( test )\n",
        "print( )\n",
        "print( sample_code, \"결과\")\n",
        "print( \"손익결과 $%.2f\" % round(test_profits,2) )"
      ],
      "execution_count": 13,
      "outputs": [
        {
          "output_type": "stream",
          "name": "stdout",
          "text": [
            "\n",
            "              Open    High     Low   Close   Volume    Change  Action\n",
            "Date                                                                 \n",
            "2020-12-22  361379  364325  352541  352541  1358477 -0.021798       2\n",
            "2020-12-23  357451  359415  347631  348613  1425317 -0.011142       2\n",
            "2020-12-24  349104  351559  337320  341248  2076258 -0.021127       2\n",
            "2020-12-28  343212  353523  318170  327500  7295632 -0.040287       2\n",
            "2020-12-29  360500  365000  347000  360500  5725005  0.100763       1\n",
            "...            ...     ...     ...     ...      ...       ...     ...\n",
            "2021-09-09  272000  275500  267000  269000   595228 -0.016453       2\n",
            "2021-09-10  269500  271000  265500  267500   394088 -0.005576       2\n",
            "2021-09-13  266500  267000  260500  262000   505510 -0.020561       2\n",
            "2021-09-14  261500  265000  260500  263000   416684  0.003817       2\n",
            "2021-09-15  266000  275500  265500  273500   492836  0.039924       2\n",
            "\n",
            "[183 rows x 7 columns]\n",
            "\n",
            "068270 결과\n",
            "손익결과 $-30500.00\n"
          ]
        }
      ]
    },
    {
      "cell_type": "code",
      "metadata": {
        "id": "rPt4c7Gu6bed"
      },
      "source": [
        "test['act'] = np.where((test['Change'] * test['Close']) > (0.1 * test['Close']),1,\n",
        "                       np.where((test['Change'] * test['Close']) < (0.1 * test['Close']), 2,0)) # 상승, 하락, 보합"
      ],
      "execution_count": 15,
      "outputs": []
    },
    {
      "cell_type": "code",
      "metadata": {
        "id": "X4MtLLrUW9O8",
        "colab": {
          "base_uri": "https://localhost:8080/"
        },
        "outputId": "7f80028d-c9ae-4731-e004-39ee90226f50"
      },
      "source": [
        "len(test[test.Action == test.act])/len(test)"
      ],
      "execution_count": 16,
      "outputs": [
        {
          "output_type": "execute_result",
          "data": {
            "text/plain": [
              "0.644808743169399"
            ]
          },
          "metadata": {},
          "execution_count": 16
        }
      ]
    },
    {
      "cell_type": "markdown",
      "metadata": {
        "id": "MOXAfpgZW97U"
      },
      "source": [
        "### ============ 연습 ============="
      ]
    },
    {
      "cell_type": "code",
      "metadata": {
        "colab": {
          "base_uri": "https://localhost:8080/"
        },
        "id": "qo1Sf1er8jyL",
        "outputId": "e1ef96b5-fd81-489e-a7c5-ecb5fef30938"
      },
      "source": [
        "(len(test[(test['Action']==1) & (test['Change']>0)]) + len(test[(test['Action']==2) & (test['Change']<0)]))"
      ],
      "execution_count": null,
      "outputs": [
        {
          "output_type": "execute_result",
          "data": {
            "text/plain": [
              "88"
            ]
          },
          "metadata": {},
          "execution_count": 17
        }
      ]
    },
    {
      "cell_type": "code",
      "metadata": {
        "colab": {
          "base_uri": "https://localhost:8080/"
        },
        "id": "Slv5n9Ha-yLH",
        "outputId": "92433f2d-3b60-491e-943a-85120176a62d"
      },
      "source": [
        "len(test)"
      ],
      "execution_count": null,
      "outputs": [
        {
          "output_type": "execute_result",
          "data": {
            "text/plain": [
              "273"
            ]
          },
          "metadata": {},
          "execution_count": 15
        }
      ]
    },
    {
      "cell_type": "code",
      "metadata": {
        "colab": {
          "base_uri": "https://localhost:8080/"
        },
        "id": "vkdzd7ZC-jmQ",
        "outputId": "0b1fa9cd-ad43-42f8-f09b-9bbdbd4940b4"
      },
      "source": [
        "len(test[test['Change']!=0])"
      ],
      "execution_count": null,
      "outputs": [
        {
          "output_type": "execute_result",
          "data": {
            "text/plain": [
              "256"
            ]
          },
          "metadata": {},
          "execution_count": 14
        }
      ]
    },
    {
      "cell_type": "code",
      "metadata": {
        "colab": {
          "base_uri": "https://localhost:8080/"
        },
        "id": "9cwFaaj89c-H",
        "outputId": "78b1a3c8-72db-4e8b-be89-aa800a04c684"
      },
      "source": [
        "len(test[test['Action']==0])"
      ],
      "execution_count": null,
      "outputs": [
        {
          "output_type": "execute_result",
          "data": {
            "text/plain": [
              "110"
            ]
          },
          "metadata": {},
          "execution_count": 12
        }
      ]
    },
    {
      "cell_type": "code",
      "metadata": {
        "colab": {
          "base_uri": "https://localhost:8080/"
        },
        "id": "BvVCgybk_SSS",
        "outputId": "96fbb353-8476-46bf-dd93-1c4f6da92420"
      },
      "source": [
        "len(test[(test['Change']>0.01)])"
      ],
      "execution_count": null,
      "outputs": [
        {
          "output_type": "execute_result",
          "data": {
            "text/plain": [
              "57"
            ]
          },
          "metadata": {},
          "execution_count": 24
        }
      ]
    },
    {
      "cell_type": "code",
      "metadata": {
        "colab": {
          "base_uri": "https://localhost:8080/"
        },
        "id": "vgcyGGYQ-7rt",
        "outputId": "accb7853-2c22-4919-cce1-84a5671c6a45"
      },
      "source": [
        "(len(test[(test['Action']==1) & (test['Change']>0.01)]) + len(test[(test['Action']==2) & (test['Change']<-0.01)]))/ len(test[(test['Change']>0.01) | (test['Change']<-0.01)])"
      ],
      "execution_count": null,
      "outputs": [
        {
          "output_type": "execute_result",
          "data": {
            "text/plain": [
              "0.33636363636363636"
            ]
          },
          "metadata": {},
          "execution_count": 26
        }
      ]
    },
    {
      "cell_type": "markdown",
      "metadata": {
        "id": "4m8K1i_RFzxr"
      },
      "source": [
        "==================연습"
      ]
    },
    {
      "cell_type": "code",
      "metadata": {
        "id": "Bvvu1xaAFAXk"
      },
      "source": [
        "def dataset_loaderKR(stock_name, start, end, train_ratio=0.7):\n",
        "  start_date = start\n",
        "  end_date = end\n",
        "  sample_code = stock_name\n",
        "  dataset = fdr.DataReader( sample_code, start = start_date, end = end_date )\n",
        "  dataset['Close'] = dataset['Close']\n",
        "  date_split = str(dataset.index[int(train_ratio*len(dataset))])\n",
        "\n",
        "  return dataset[:date_split], dataset[date_split:], date_split"
      ],
      "execution_count": null,
      "outputs": []
    },
    {
      "cell_type": "code",
      "metadata": {
        "id": "L77CVKpWE-JW"
      },
      "source": [
        "import FinanceDataReader as fdr\n",
        "import datetime\n",
        "start_date = '20180101'\n",
        "end_date = datetime.datetime.now().strftime(\"%Y%m%d\")\n",
        "sample_code = '005930'\n",
        "\n",
        "(train, test, date_split) = dataset_loaderKR(sample_code, start_date, end_date)"
      ],
      "execution_count": null,
      "outputs": []
    }
  ]
}