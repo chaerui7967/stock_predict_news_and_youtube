{
  "nbformat": 4,
  "nbformat_minor": 0,
  "metadata": {
    "colab": {
      "name": "강화학습_주식봇_삼성전자_재무정보.ipynb",
      "provenance": [],
      "collapsed_sections": [
        "kde6Jwq-hfIK"
      ],
      "include_colab_link": true
    },
    "kernelspec": {
      "name": "python3",
      "display_name": "Python 3"
    },
    "language_info": {
      "name": "python"
    },
    "accelerator": "GPU"
  },
  "cells": [
    {
      "cell_type": "markdown",
      "metadata": {
        "id": "view-in-github",
        "colab_type": "text"
      },
      "source": [
        "<a href=\"https://colab.research.google.com/github/chaerui7967/stock_predict_news_and_youtube/blob/master/%EA%B0%95%ED%99%94%ED%95%99%EC%8A%B5_%EC%A3%BC%EC%8B%9D%EB%B4%87_%EC%82%BC%EC%84%B1%EC%A0%84%EC%9E%90_%EC%9E%AC%EB%AC%B4%EC%A0%95%EB%B3%B4.ipynb\" target=\"_parent\"><img src=\"https://colab.research.google.com/assets/colab-badge.svg\" alt=\"Open In Colab\"/></a>"
      ]
    },
    {
      "cell_type": "markdown",
      "metadata": {
        "id": "9Ipg1Txf8jUd"
      },
      "source": [
        "# 주식_봇__강화학습"
      ]
    },
    {
      "cell_type": "code",
      "metadata": {
        "id": "HjmwNJpA8uvr",
        "colab": {
          "base_uri": "https://localhost:8080/"
        },
        "outputId": "7f40b09b-7f33-4fd4-8f4f-f8cb02fd23ac"
      },
      "source": [
        "!pip install pykrx\n",
        "!pip install finance-datareader"
      ],
      "execution_count": 1,
      "outputs": [
        {
          "output_type": "stream",
          "name": "stdout",
          "text": [
            "Collecting pykrx\n",
            "  Downloading pykrx-1.0.19-py3-none-any.whl (81 kB)\n",
            "\u001b[?25l\r\u001b[K     |████                            | 10 kB 23.5 MB/s eta 0:00:01\r\u001b[K     |████████                        | 20 kB 24.6 MB/s eta 0:00:01\r\u001b[K     |████████████                    | 30 kB 12.3 MB/s eta 0:00:01\r\u001b[K     |████████████████                | 40 kB 9.5 MB/s eta 0:00:01\r\u001b[K     |████████████████████            | 51 kB 5.4 MB/s eta 0:00:01\r\u001b[K     |████████████████████████        | 61 kB 5.9 MB/s eta 0:00:01\r\u001b[K     |████████████████████████████    | 71 kB 5.7 MB/s eta 0:00:01\r\u001b[K     |████████████████████████████████| 81 kB 4.0 MB/s \n",
            "\u001b[?25hRequirement already satisfied: xlrd in /usr/local/lib/python3.7/dist-packages (from pykrx) (1.1.0)\n",
            "Requirement already satisfied: pandas in /usr/local/lib/python3.7/dist-packages (from pykrx) (1.1.5)\n",
            "Collecting datetime\n",
            "  Downloading DateTime-4.3-py2.py3-none-any.whl (60 kB)\n",
            "\u001b[K     |████████████████████████████████| 60 kB 6.9 MB/s \n",
            "\u001b[?25hRequirement already satisfied: requests in /usr/local/lib/python3.7/dist-packages (from pykrx) (2.23.0)\n",
            "Requirement already satisfied: numpy in /usr/local/lib/python3.7/dist-packages (from pykrx) (1.19.5)\n",
            "Collecting deprecated\n",
            "  Downloading Deprecated-1.2.13-py2.py3-none-any.whl (9.6 kB)\n",
            "Requirement already satisfied: pytz in /usr/local/lib/python3.7/dist-packages (from datetime->pykrx) (2018.9)\n",
            "Collecting zope.interface\n",
            "  Downloading zope.interface-5.4.0-cp37-cp37m-manylinux2010_x86_64.whl (251 kB)\n",
            "\u001b[K     |████████████████████████████████| 251 kB 39.1 MB/s \n",
            "\u001b[?25hRequirement already satisfied: wrapt<2,>=1.10 in /usr/local/lib/python3.7/dist-packages (from deprecated->pykrx) (1.12.1)\n",
            "Requirement already satisfied: python-dateutil>=2.7.3 in /usr/local/lib/python3.7/dist-packages (from pandas->pykrx) (2.8.2)\n",
            "Requirement already satisfied: six>=1.5 in /usr/local/lib/python3.7/dist-packages (from python-dateutil>=2.7.3->pandas->pykrx) (1.15.0)\n",
            "Requirement already satisfied: idna<3,>=2.5 in /usr/local/lib/python3.7/dist-packages (from requests->pykrx) (2.10)\n",
            "Requirement already satisfied: chardet<4,>=3.0.2 in /usr/local/lib/python3.7/dist-packages (from requests->pykrx) (3.0.4)\n",
            "Requirement already satisfied: certifi>=2017.4.17 in /usr/local/lib/python3.7/dist-packages (from requests->pykrx) (2021.5.30)\n",
            "Requirement already satisfied: urllib3!=1.25.0,!=1.25.1,<1.26,>=1.21.1 in /usr/local/lib/python3.7/dist-packages (from requests->pykrx) (1.24.3)\n",
            "Requirement already satisfied: setuptools in /usr/local/lib/python3.7/dist-packages (from zope.interface->datetime->pykrx) (57.4.0)\n",
            "Installing collected packages: zope.interface, deprecated, datetime, pykrx\n",
            "Successfully installed datetime-4.3 deprecated-1.2.13 pykrx-1.0.19 zope.interface-5.4.0\n",
            "Collecting finance-datareader\n",
            "  Downloading finance_datareader-0.9.31-py3-none-any.whl (17 kB)\n",
            "Requirement already satisfied: tqdm in /usr/local/lib/python3.7/dist-packages (from finance-datareader) (4.62.0)\n",
            "Collecting requests-file\n",
            "  Downloading requests_file-1.5.1-py2.py3-none-any.whl (3.7 kB)\n",
            "Requirement already satisfied: lxml in /usr/local/lib/python3.7/dist-packages (from finance-datareader) (4.2.6)\n",
            "Requirement already satisfied: pandas>=0.19.2 in /usr/local/lib/python3.7/dist-packages (from finance-datareader) (1.1.5)\n",
            "Requirement already satisfied: requests>=2.3.0 in /usr/local/lib/python3.7/dist-packages (from finance-datareader) (2.23.0)\n",
            "Requirement already satisfied: python-dateutil>=2.7.3 in /usr/local/lib/python3.7/dist-packages (from pandas>=0.19.2->finance-datareader) (2.8.2)\n",
            "Requirement already satisfied: pytz>=2017.2 in /usr/local/lib/python3.7/dist-packages (from pandas>=0.19.2->finance-datareader) (2018.9)\n",
            "Requirement already satisfied: numpy>=1.15.4 in /usr/local/lib/python3.7/dist-packages (from pandas>=0.19.2->finance-datareader) (1.19.5)\n",
            "Requirement already satisfied: six>=1.5 in /usr/local/lib/python3.7/dist-packages (from python-dateutil>=2.7.3->pandas>=0.19.2->finance-datareader) (1.15.0)\n",
            "Requirement already satisfied: chardet<4,>=3.0.2 in /usr/local/lib/python3.7/dist-packages (from requests>=2.3.0->finance-datareader) (3.0.4)\n",
            "Requirement already satisfied: idna<3,>=2.5 in /usr/local/lib/python3.7/dist-packages (from requests>=2.3.0->finance-datareader) (2.10)\n",
            "Requirement already satisfied: urllib3!=1.25.0,!=1.25.1,<1.26,>=1.21.1 in /usr/local/lib/python3.7/dist-packages (from requests>=2.3.0->finance-datareader) (1.24.3)\n",
            "Requirement already satisfied: certifi>=2017.4.17 in /usr/local/lib/python3.7/dist-packages (from requests>=2.3.0->finance-datareader) (2021.5.30)\n",
            "Installing collected packages: requests-file, finance-datareader\n",
            "Successfully installed finance-datareader-0.9.31 requests-file-1.5.1\n"
          ]
        }
      ]
    },
    {
      "cell_type": "markdown",
      "metadata": {
        "id": "Y9iFdSm6hjwN"
      },
      "source": [
        "## 모델 실습"
      ]
    },
    {
      "cell_type": "code",
      "metadata": {
        "colab": {
          "base_uri": "https://localhost:8080/",
          "height": 0
        },
        "id": "AbAgyxQj8fEQ",
        "outputId": "915b4b18-bae4-4f44-d0c7-d4b606c7fe0c"
      },
      "source": [
        "import time\n",
        "import copy\n",
        "import numpy as np\n",
        "import pandas as pd\n",
        "import torch\n",
        "import torch.nn as nn\n",
        "from torch.autograd import Variable\n",
        "import torch.optim as optim\n",
        "import torch.nn.functional as F\n",
        "# import pandas_datareader as pdr\n",
        "from pykrx import stock\n",
        "import matplotlib.pyplot as plt\n",
        "\n",
        "# 금융정보 조회하기\n",
        "def dataset_loaderKR(stock_name, start, end, train_ratio=0.8):\n",
        "    start_date = start\n",
        "    end_date = end\n",
        "    sample_code = stock_name\n",
        "\n",
        "    dataset = fdr.DataReader(sample_code, start = start_date, end = end_date )\n",
        "    dataset = dataset.reset_index()\n",
        "    df = stock.get_market_fundamental_by_date(fromdate=start_date, todate=end_date, ticker=sample_code)\n",
        "    df = df.reset_index()\n",
        "    df.columns = ['Date','BPS', 'PER', 'PBR', 'EPS', 'DIV', 'DPS']\n",
        "    data = pd.merge(dataset, df, on='Date')\n",
        "    date_split = data.index[int(train_ratio*len(data))] \n",
        "\n",
        "    return data[:date_split], data[date_split:], date_split\n",
        "\n",
        "# 데이터 불러오기\n",
        "# 주식가격 로딩\n",
        "import FinanceDataReader as fdr\n",
        "import datetime\n",
        "\n",
        "start_date = '20180101'\n",
        "end_date = datetime.datetime.now().strftime(\"%Y%m%d\")\n",
        "sample_code = '005930'\n",
        "\n",
        "(train, test, date_split) = dataset_loaderKR(sample_code, start = start_date, end = end_date)\n",
        "\n",
        "\n",
        "# ENV 설정\n",
        "class Environment1:\n",
        "    def __init__(self, data, history_t=90):\n",
        "        self.data = data\n",
        "        self.history_t = history_t\n",
        "        self.reset()\n",
        "        \n",
        "    def reset(self):\n",
        "        self.t = 0\n",
        "        self.done = False\n",
        "        self.profits = 0\n",
        "        self.positions = []\n",
        "        self.position_value = 0\n",
        "        self.history = [0 for _ in range(self.history_t)]\n",
        "        return [self.position_value] + self.history # obs\n",
        "\n",
        "    def step(self, act):\n",
        "        reward = 0\n",
        "        \n",
        "        # action\n",
        "        # 0: Idle\n",
        "        # 1: 매수\n",
        "        # 2: 매도\n",
        "        if act == 1: #매수\n",
        "            self.positions.append(self.data.iloc[self.t, :]['Close'])\n",
        "        elif act == 2: # 매도\n",
        "            if len(self.positions) == 0:\n",
        "                reward = -1\n",
        "            else:\n",
        "                profits = 0\n",
        "                for p in self.positions:\n",
        "                    profits += (self.data.iloc[self.t, :]['Close'] - p)\n",
        "                reward += profits\n",
        "                self.profits += profits\n",
        "                self.positions = []\n",
        "        \n",
        "        # set next time\n",
        "        self.t += 1\n",
        "        \n",
        "        self.position_value = 0\n",
        "        for p in self.positions:\n",
        "            self.position_value += (self.data.iloc[self.t, :]['Close'] - p)\n",
        "        self.history.pop(0)\n",
        "        self.history.append(self.data.iloc[self.t, :]['Close'] - self.data.iloc[(self.t-1), :]['Close'])\n",
        "        if (self.t==len(self.data)-1):\n",
        "            self.done=True\n",
        "        # clipping reward\n",
        "        if reward > 0:\n",
        "            reward = 1\n",
        "        elif reward < 0:\n",
        "            reward = -1\n",
        "        #print (\"t={%d}, done={%str}\"%(self.t,self.done))\n",
        "        return [self.position_value] + self.history, reward, self.done # obs, reward, done\n",
        "\n",
        "# MODEL\n",
        "class Q_Network(nn.Module):\n",
        "    def __init__(self,obs_len,hidden_size,actions_n):\n",
        "        super(Q_Network,self).__init__()\n",
        "        self.fc_val = nn.Sequential(\n",
        "            nn.Linear(obs_len, hidden_size),\n",
        "            nn.ReLU(),\n",
        "            nn.Linear(hidden_size, hidden_size),\n",
        "            nn.ReLU(),\n",
        "            nn.Linear(hidden_size, actions_n)\n",
        "        )\n",
        "    def forward(self,x):\n",
        "        h = self.fc_val(x)\n",
        "        return (h)\n",
        "\n",
        "# 학습 시키기\n",
        "env = Environment1(train)\n",
        "env.reset()\n",
        "\n",
        "hidden_size = 100\n",
        "input_size = env.history_t+1\n",
        "output_size = 3\n",
        "USE_CUDA = False\n",
        "LR = 0.001\n",
        "\n",
        "Q = Q_Network(input_size, hidden_size, output_size)\n",
        "Q_ast = copy.deepcopy(Q)\n",
        "\n",
        "if USE_CUDA:\n",
        "    Q = Q.cuda()\n",
        "loss_function = nn.MSELoss()\n",
        "optimizer = optim.Adam(list(Q.parameters()), lr=LR)\n",
        "\n",
        "epoch_num = 50\n",
        "step_max = len(env.data)-1\n",
        "memory_size = 200\n",
        "batch_size = 50\n",
        "gamma = 0.97\n",
        "\n",
        "obs, reward, done = env.step(5)\n",
        "\n",
        "memory = []\n",
        "total_step = 0\n",
        "total_rewards = []\n",
        "total_losses = []\n",
        "epsilon = 1.0\n",
        "epsilon_decrease = 1e-3\n",
        "epsilon_min = 0.1\n",
        "start_reduce_epsilon = 200\n",
        "train_freq = 10\n",
        "update_q_freq = 20\n",
        "show_log_freq = 5\n",
        "\n",
        "start = time.time()\n",
        "for epoch in range(epoch_num):\n",
        "    pobs = env.reset()\n",
        "    step = 0\n",
        "    done = False\n",
        "    total_reward = 0\n",
        "    total_loss = 0\n",
        "\n",
        "    while not done and step < step_max:\n",
        "        # select act\n",
        "        pact = np.random.randint(3)\n",
        "        if np.random.rand() > epsilon:\n",
        "            pact = Q(torch.from_numpy(np.array(pobs, dtype=np.float32).reshape(1, -1)))\n",
        "            pact = np.argmax(pact.data)\n",
        "            pact = pact.numpy()\n",
        "\n",
        "        # act\n",
        "        obs, reward, done = env.step(pact)\n",
        "\n",
        "        # add memory\n",
        "        memory.append((pobs, pact, reward, obs, done))\n",
        "        if len(memory) > memory_size:\n",
        "            memory.pop(0)\n",
        "\n",
        "        # train or update q\n",
        "        if len(memory) == memory_size:\n",
        "            if total_step % train_freq == 0:\n",
        "                shuffled_memory = np.random.permutation(memory)\n",
        "                memory_idx = range(len(shuffled_memory))\n",
        "                for i in memory_idx[::batch_size]:\n",
        "                    batch = np.array(shuffled_memory[i:i+batch_size])\n",
        "                    b_pobs = np.array(batch[:, 0].tolist(), dtype=np.float32).reshape(batch_size, -1)\n",
        "                    b_pact = np.array(batch[:, 1].tolist(), dtype=np.int32)\n",
        "                    b_reward = np.array(batch[:, 2].tolist(), dtype=np.int32)\n",
        "                    b_obs = np.array(batch[:, 3].tolist(), dtype=np.float32).reshape(batch_size, -1)\n",
        "                    b_done = np.array(batch[:, 4].tolist(), dtype=np.bool)\n",
        "\n",
        "                    q = Q(torch.from_numpy(b_pobs))\n",
        "                    q_ = Q_ast(torch.from_numpy(b_obs))\n",
        "                    maxq = np.max(q_.data.numpy(),axis=1)\n",
        "                    target = copy.deepcopy(q.data)\n",
        "                    for j in range(batch_size):\n",
        "                        target[j, b_pact[j]] = b_reward[j]+gamma*maxq[j]*(not b_done[j])\n",
        "                    Q.zero_grad()\n",
        "                    loss = loss_function(q, target)\n",
        "                    total_loss += loss.data.item()\n",
        "                    loss.backward()\n",
        "                    optimizer.step()\n",
        "                    \n",
        "            if total_step % update_q_freq == 0:\n",
        "                Q_ast = copy.deepcopy(Q)\n",
        "                \n",
        "            # epsilon\n",
        "            if epsilon > epsilon_min and total_step > start_reduce_epsilon:\n",
        "                epsilon -= epsilon_decrease\n",
        "\n",
        "            # next step\n",
        "            total_reward += reward\n",
        "            pobs = obs\n",
        "            step += 1\n",
        "            total_step += 1\n",
        "\n",
        "        total_rewards.append(total_reward)\n",
        "        total_losses.append(total_loss)\n",
        "\n",
        "        if (epoch+1) % show_log_freq == 0:\n",
        "            log_reward = sum(total_rewards[((epoch+1)-show_log_freq):])/show_log_freq\n",
        "            log_loss = sum(total_losses[((epoch+1)-show_log_freq):])/show_log_freq\n",
        "            elapsed_time = time.time()-start\n",
        "            #print('\\t'.join(map(str, [epoch+1, epsilon, total_step, log_reward, log_loss, elapsed_time])))\n",
        "            start = time.time()\n",
        "    print(\"Epoch %d\" % (epoch+1))\n",
        "\n",
        "# TEST\n",
        "test_env = Environment1(test)\n",
        "pobs = test_env.reset()\n",
        "test_acts = []\n",
        "test_rewards = []\n",
        "\n",
        "for _ in range(len(test_env.data)-1):\n",
        "    pact = Q(torch.from_numpy(np.array(pobs, dtype=np.float32).reshape(1, -1)))\n",
        "    pact = np.argmax(pact.data)\n",
        "    test_acts.append(pact.item())\n",
        "            \n",
        "    obs, reward, done = test_env.step(pact.numpy())\n",
        "    test_rewards.append(reward)\n",
        "\n",
        "    pobs = obs\n",
        "\n",
        "# sell remaining stocks\n",
        "profits = 0\n",
        "for p in test_env.positions:\n",
        "\tprofits += (test_env.data.iloc[test_env.t, :]['Close'] - p)\n",
        "\n",
        "test_env.profits += profits\n",
        "test_env.positions = []\n",
        "\n",
        "test_profits = test_env.profits\n",
        "pact = Q(torch.from_numpy(np.array(pobs, dtype=np.float32).reshape(1, -1)))\n",
        "pact = np.argmax(pact.data)\n",
        "next_action = pact.item()\n",
        "test['Action'] = test_acts + [next_action]\n",
        "\n",
        "\n",
        "print( )\n",
        "print( test )\n",
        "print( )\n",
        "print( sample_code, \"결과\")\n",
        "print( \"손익결과 $%.2f\" % round(test_profits,2) )\n",
        "\n",
        "if next_action == 2:\n",
        "\tprint('하락!')\n",
        "elif next_action == 1:\n",
        "\tprint('증가!')\n",
        "else:\n",
        "\tprint('유지 - 확률 반반!')\n",
        "\n",
        "buy_dates = test.loc[test['Action'] ==1].index.values\n",
        "sell_dates = test.loc[test['Action'] ==2].index.values\n",
        "\n",
        "buy_close = test.loc[test['Action'] ==1, 'Close'].values\n",
        "sell_close = test.loc[test['Action'] ==2, 'Close'].values\n",
        "\n",
        "fig = plt.figure(figsize=(15,9))\n",
        "\n",
        "plt.plot(test['Close'])\n",
        "plt.scatter(buy_dates, buy_close, label='skitscat', color='red', s=50, marker=\"^\")\n",
        "plt.scatter(sell_dates, sell_close, label='skitscat', color='blue', s=50, marker=\"v\")\n",
        "plt.show()"
      ],
      "execution_count": 8,
      "outputs": [
        {
          "output_type": "stream",
          "name": "stderr",
          "text": [
            "/usr/local/lib/python3.7/dist-packages/numpy/core/_asarray.py:83: VisibleDeprecationWarning: Creating an ndarray from ragged nested sequences (which is a list-or-tuple of lists-or-tuples-or ndarrays with different lengths or shapes) is deprecated. If you meant to do this, you must specify 'dtype=object' when creating the ndarray\n",
            "  return array(a, dtype, copy=False, order=order)\n"
          ]
        },
        {
          "output_type": "stream",
          "name": "stdout",
          "text": [
            "Epoch 1\n",
            "Epoch 2\n",
            "Epoch 3\n",
            "Epoch 4\n",
            "Epoch 5\n",
            "Epoch 6\n",
            "Epoch 7\n",
            "Epoch 8\n",
            "Epoch 9\n",
            "Epoch 10\n",
            "Epoch 11\n",
            "Epoch 12\n",
            "Epoch 13\n",
            "Epoch 14\n",
            "Epoch 15\n",
            "Epoch 16\n",
            "Epoch 17\n",
            "Epoch 18\n",
            "Epoch 19\n",
            "Epoch 20\n",
            "Epoch 21\n",
            "Epoch 22\n",
            "Epoch 23\n",
            "Epoch 24\n",
            "Epoch 25\n",
            "Epoch 26\n",
            "Epoch 27\n",
            "Epoch 28\n",
            "Epoch 29\n",
            "Epoch 30\n",
            "Epoch 31\n",
            "Epoch 32\n",
            "Epoch 33\n",
            "Epoch 34\n",
            "Epoch 35\n",
            "Epoch 36\n",
            "Epoch 37\n",
            "Epoch 38\n",
            "Epoch 39\n",
            "Epoch 40\n",
            "Epoch 41\n",
            "Epoch 42\n",
            "Epoch 43\n",
            "Epoch 44\n",
            "Epoch 45\n",
            "Epoch 46\n",
            "Epoch 47\n",
            "Epoch 48\n",
            "Epoch 49\n",
            "Epoch 50\n",
            "\n",
            "          Date   Open   High    Low  Close  ...   PBR   EPS   DIV   DPS  Action\n",
            "732 2020-12-22  72500  73200  72100  72300  ...  1.93  3166  1.96  1416       1\n",
            "733 2020-12-23  72400  74000  72300  73900  ...  1.97  3166  1.92  1416       2\n",
            "734 2020-12-24  74100  78800  74000  77800  ...  2.07  3166  1.82  1416       2\n",
            "735 2020-12-28  79000  80100  78200  78700  ...  2.10  3166  1.80  1416       2\n",
            "736 2020-12-29  78800  78900  77300  78300  ...  2.09  3166  1.81  1416       2\n",
            "..         ...    ...    ...    ...    ...  ...   ...   ...   ...   ...     ...\n",
            "910 2021-09-09  76400  76600  75000  75300  ...  1.91  3841  3.98  2994       1\n",
            "911 2021-09-10  75300  75600  74800  75300  ...  1.91  3841  3.98  2994       0\n",
            "912 2021-09-13  75200  76300  75100  76300  ...  1.94  3841  3.92  2994       2\n",
            "913 2021-09-14  77100  77700  76600  76600  ...  1.94  3841  3.91  2994       1\n",
            "914 2021-09-15  77400  77400  76400  77000  ...  1.95  3841  3.89  2994       2\n",
            "\n",
            "[183 rows x 14 columns]\n",
            "\n",
            "005930 결과\n",
            "손익결과 $10800.00\n",
            "하락!\n"
          ]
        },
        {
          "output_type": "display_data",
          "data": {
            "image/png": "[encoded data removed]",
            "text/plain": [
              "<Figure size 1080x648 with 1 Axes>"
            ]
          },
          "metadata": {
            "needs_background": "light"
          }
        }
      ]
    },
    {
      "cell_type": "markdown",
      "metadata": {
        "id": "kde6Jwq-hfIK"
      },
      "source": [
        "## 결과 확인"
      ]
    },
    {
      "cell_type": "code",
      "metadata": {
        "colab": {
          "base_uri": "https://localhost:8080/"
        },
        "id": "Z4b5pEwdc8ok",
        "outputId": "942fac2e-e22e-40b2-9fbe-597c2ca63296"
      },
      "source": [
        "Q.forward"
      ],
      "execution_count": 9,
      "outputs": [
        {
          "output_type": "execute_result",
          "data": {
            "text/plain": [
              "<bound method Q_Network.forward of Q_Network(\n",
              "  (fc_val): Sequential(\n",
              "    (0): Linear(in_features=91, out_features=100, bias=True)\n",
              "    (1): ReLU()\n",
              "    (2): Linear(in_features=100, out_features=100, bias=True)\n",
              "    (3): ReLU()\n",
              "    (4): Linear(in_features=100, out_features=3, bias=True)\n",
              "  )\n",
              ")>"
            ]
          },
          "metadata": {},
          "execution_count": 9
        }
      ]
    },
    {
      "cell_type": "code",
      "metadata": {
        "colab": {
          "base_uri": "https://localhost:8080/",
          "height": 417
        },
        "id": "2E-m_79d1bRd",
        "outputId": "4d90ac73-fdd2-4f2f-f393-a59a3d703b4a"
      },
      "source": [
        "test"
      ],
      "execution_count": 10,
      "outputs": [
        {
          "output_type": "execute_result",
          "data": {
            "text/html": [
              "<div>\n",
              "<style scoped>\n",
              "    .dataframe tbody tr th:only-of-type {\n",
              "        vertical-align: middle;\n",
              "    }\n",
              "\n",
              "    .dataframe tbody tr th {\n",
              "        vertical-align: top;\n",
              "    }\n",
              "\n",
              "    .dataframe thead th {\n",
              "        text-align: right;\n",
              "    }\n",
              "</style>\n",
              "<table border=\"1\" class=\"dataframe\">\n",
              "  <thead>\n",
              "    <tr style=\"text-align: right;\">\n",
              "      <th></th>\n",
              "      <th>Date</th>\n",
              "      <th>Open</th>\n",
              "      <th>High</th>\n",
              "      <th>Low</th>\n",
              "      <th>Close</th>\n",
              "      <th>Volume</th>\n",
              "      <th>Change</th>\n",
              "      <th>BPS</th>\n",
              "      <th>PER</th>\n",
              "      <th>PBR</th>\n",
              "      <th>EPS</th>\n",
              "      <th>DIV</th>\n",
              "      <th>DPS</th>\n",
              "      <th>Action</th>\n",
              "    </tr>\n",
              "  </thead>\n",
              "  <tbody>\n",
              "    <tr>\n",
              "      <th>732</th>\n",
              "      <td>2020-12-22</td>\n",
              "      <td>72500</td>\n",
              "      <td>73200</td>\n",
              "      <td>72100</td>\n",
              "      <td>72300</td>\n",
              "      <td>16304910</td>\n",
              "      <td>-0.009589</td>\n",
              "      <td>37528</td>\n",
              "      <td>22.84</td>\n",
              "      <td>1.93</td>\n",
              "      <td>3166</td>\n",
              "      <td>1.96</td>\n",
              "      <td>1416</td>\n",
              "      <td>1</td>\n",
              "    </tr>\n",
              "    <tr>\n",
              "      <th>733</th>\n",
              "      <td>2020-12-23</td>\n",
              "      <td>72400</td>\n",
              "      <td>74000</td>\n",
              "      <td>72300</td>\n",
              "      <td>73900</td>\n",
              "      <td>19411326</td>\n",
              "      <td>0.022130</td>\n",
              "      <td>37528</td>\n",
              "      <td>23.34</td>\n",
              "      <td>1.97</td>\n",
              "      <td>3166</td>\n",
              "      <td>1.92</td>\n",
              "      <td>1416</td>\n",
              "      <td>2</td>\n",
              "    </tr>\n",
              "    <tr>\n",
              "      <th>734</th>\n",
              "      <td>2020-12-24</td>\n",
              "      <td>74100</td>\n",
              "      <td>78800</td>\n",
              "      <td>74000</td>\n",
              "      <td>77800</td>\n",
              "      <td>32502870</td>\n",
              "      <td>0.052774</td>\n",
              "      <td>37528</td>\n",
              "      <td>24.57</td>\n",
              "      <td>2.07</td>\n",
              "      <td>3166</td>\n",
              "      <td>1.82</td>\n",
              "      <td>1416</td>\n",
              "      <td>2</td>\n",
              "    </tr>\n",
              "    <tr>\n",
              "      <th>735</th>\n",
              "      <td>2020-12-28</td>\n",
              "      <td>79000</td>\n",
              "      <td>80100</td>\n",
              "      <td>78200</td>\n",
              "      <td>78700</td>\n",
              "      <td>40085044</td>\n",
              "      <td>0.011568</td>\n",
              "      <td>37528</td>\n",
              "      <td>24.86</td>\n",
              "      <td>2.10</td>\n",
              "      <td>3166</td>\n",
              "      <td>1.80</td>\n",
              "      <td>1416</td>\n",
              "      <td>2</td>\n",
              "    </tr>\n",
              "    <tr>\n",
              "      <th>736</th>\n",
              "      <td>2020-12-29</td>\n",
              "      <td>78800</td>\n",
              "      <td>78900</td>\n",
              "      <td>77300</td>\n",
              "      <td>78300</td>\n",
              "      <td>30339449</td>\n",
              "      <td>-0.005083</td>\n",
              "      <td>37528</td>\n",
              "      <td>24.73</td>\n",
              "      <td>2.09</td>\n",
              "      <td>3166</td>\n",
              "      <td>1.81</td>\n",
              "      <td>1416</td>\n",
              "      <td>2</td>\n",
              "    </tr>\n",
              "    <tr>\n",
              "      <th>...</th>\n",
              "      <td>...</td>\n",
              "      <td>...</td>\n",
              "      <td>...</td>\n",
              "      <td>...</td>\n",
              "      <td>...</td>\n",
              "      <td>...</td>\n",
              "      <td>...</td>\n",
              "      <td>...</td>\n",
              "      <td>...</td>\n",
              "      <td>...</td>\n",
              "      <td>...</td>\n",
              "      <td>...</td>\n",
              "      <td>...</td>\n",
              "      <td>...</td>\n",
              "    </tr>\n",
              "    <tr>\n",
              "      <th>910</th>\n",
              "      <td>2021-09-09</td>\n",
              "      <td>76400</td>\n",
              "      <td>76600</td>\n",
              "      <td>75000</td>\n",
              "      <td>75300</td>\n",
              "      <td>17600770</td>\n",
              "      <td>-0.013106</td>\n",
              "      <td>39406</td>\n",
              "      <td>19.60</td>\n",
              "      <td>1.91</td>\n",
              "      <td>3841</td>\n",
              "      <td>3.98</td>\n",
              "      <td>2994</td>\n",
              "      <td>1</td>\n",
              "    </tr>\n",
              "    <tr>\n",
              "      <th>911</th>\n",
              "      <td>2021-09-10</td>\n",
              "      <td>75300</td>\n",
              "      <td>75600</td>\n",
              "      <td>74800</td>\n",
              "      <td>75300</td>\n",
              "      <td>10103212</td>\n",
              "      <td>0.000000</td>\n",
              "      <td>39406</td>\n",
              "      <td>19.60</td>\n",
              "      <td>1.91</td>\n",
              "      <td>3841</td>\n",
              "      <td>3.98</td>\n",
              "      <td>2994</td>\n",
              "      <td>0</td>\n",
              "    </tr>\n",
              "    <tr>\n",
              "      <th>912</th>\n",
              "      <td>2021-09-13</td>\n",
              "      <td>75200</td>\n",
              "      <td>76300</td>\n",
              "      <td>75100</td>\n",
              "      <td>76300</td>\n",
              "      <td>11397775</td>\n",
              "      <td>0.013280</td>\n",
              "      <td>39406</td>\n",
              "      <td>19.86</td>\n",
              "      <td>1.94</td>\n",
              "      <td>3841</td>\n",
              "      <td>3.92</td>\n",
              "      <td>2994</td>\n",
              "      <td>2</td>\n",
              "    </tr>\n",
              "    <tr>\n",
              "      <th>913</th>\n",
              "      <td>2021-09-14</td>\n",
              "      <td>77100</td>\n",
              "      <td>77700</td>\n",
              "      <td>76600</td>\n",
              "      <td>76600</td>\n",
              "      <td>18167057</td>\n",
              "      <td>0.003932</td>\n",
              "      <td>39406</td>\n",
              "      <td>19.94</td>\n",
              "      <td>1.94</td>\n",
              "      <td>3841</td>\n",
              "      <td>3.91</td>\n",
              "      <td>2994</td>\n",
              "      <td>1</td>\n",
              "    </tr>\n",
              "    <tr>\n",
              "      <th>914</th>\n",
              "      <td>2021-09-15</td>\n",
              "      <td>77400</td>\n",
              "      <td>77400</td>\n",
              "      <td>76400</td>\n",
              "      <td>77000</td>\n",
              "      <td>12500473</td>\n",
              "      <td>0.005222</td>\n",
              "      <td>39406</td>\n",
              "      <td>20.05</td>\n",
              "      <td>1.95</td>\n",
              "      <td>3841</td>\n",
              "      <td>3.89</td>\n",
              "      <td>2994</td>\n",
              "      <td>2</td>\n",
              "    </tr>\n",
              "  </tbody>\n",
              "</table>\n",
              "<p>183 rows × 14 columns</p>\n",
              "</div>"
            ],
            "text/plain": [
              "          Date   Open   High    Low  Close  ...   PBR   EPS   DIV   DPS  Action\n",
              "732 2020-12-22  72500  73200  72100  72300  ...  1.93  3166  1.96  1416       1\n",
              "733 2020-12-23  72400  74000  72300  73900  ...  1.97  3166  1.92  1416       2\n",
              "734 2020-12-24  74100  78800  74000  77800  ...  2.07  3166  1.82  1416       2\n",
              "735 2020-12-28  79000  80100  78200  78700  ...  2.10  3166  1.80  1416       2\n",
              "736 2020-12-29  78800  78900  77300  78300  ...  2.09  3166  1.81  1416       2\n",
              "..         ...    ...    ...    ...    ...  ...   ...   ...   ...   ...     ...\n",
              "910 2021-09-09  76400  76600  75000  75300  ...  1.91  3841  3.98  2994       1\n",
              "911 2021-09-10  75300  75600  74800  75300  ...  1.91  3841  3.98  2994       0\n",
              "912 2021-09-13  75200  76300  75100  76300  ...  1.94  3841  3.92  2994       2\n",
              "913 2021-09-14  77100  77700  76600  76600  ...  1.94  3841  3.91  2994       1\n",
              "914 2021-09-15  77400  77400  76400  77000  ...  1.95  3841  3.89  2994       2\n",
              "\n",
              "[183 rows x 14 columns]"
            ]
          },
          "metadata": {},
          "execution_count": 10
        }
      ]
    },
    {
      "cell_type": "code",
      "metadata": {
        "id": "OYAmjhpGSIiN"
      },
      "source": [
        "test['act'] = np.where((test['Change'] * test['Close']) > (0.1 * test['Close']),1,\n",
        "                       np.where((test['Change'] * test['Close']) < (0.1 * test['Close']), 2,0)) # 상승, 하락, 보합"
      ],
      "execution_count": 11,
      "outputs": []
    },
    {
      "cell_type": "code",
      "metadata": {
        "colab": {
          "base_uri": "https://localhost:8080/"
        },
        "id": "cazp99OKtYyz",
        "outputId": "881ec206-3ac9-44ce-c33a-5d4adbd42822"
      },
      "source": [
        "test.Action.value_counts()"
      ],
      "execution_count": 12,
      "outputs": [
        {
          "output_type": "execute_result",
          "data": {
            "text/plain": [
              "2    114\n",
              "0     43\n",
              "1     26\n",
              "Name: Action, dtype: int64"
            ]
          },
          "metadata": {},
          "execution_count": 12
        }
      ]
    },
    {
      "cell_type": "code",
      "metadata": {
        "colab": {
          "base_uri": "https://localhost:8080/"
        },
        "id": "oBUQLeLBSIft",
        "outputId": "df9781f0-a8c4-4a14-dbe0-2d6739505677"
      },
      "source": [
        "len(test[test.Action == test.act])/len(test)"
      ],
      "execution_count": 13,
      "outputs": [
        {
          "output_type": "execute_result",
          "data": {
            "text/plain": [
              "0.6229508196721312"
            ]
          },
          "metadata": {},
          "execution_count": 13
        }
      ]
    },
    {
      "cell_type": "markdown",
      "metadata": {
        "id": "tn9AkWORiUNo"
      },
      "source": [
        "## 결과 저장"
      ]
    },
    {
      "cell_type": "code",
      "metadata": {
        "id": "GBwywzEEupk8"
      },
      "source": [
        "test.to_csv('삼성전자_RL_재무.csv', index=False)"
      ],
      "execution_count": 14,
      "outputs": []
    },
    {
      "cell_type": "code",
      "metadata": {
        "id": "Vy7U2IVp0v22"
      },
      "source": [
        "# 모델저장\n",
        "torch.save(Q,'samsung_rl_재무.h5')"
      ],
      "execution_count": 15,
      "outputs": []
    },
    {
      "cell_type": "code",
      "metadata": {
        "id": "4LOCrtiL3Mae"
      },
      "source": [
        "(train, test, date_split) = dataset_loaderKR(sample_code, start = start_date, end = end_date)"
      ],
      "execution_count": 16,
      "outputs": []
    },
    {
      "cell_type": "code",
      "metadata": {
        "colab": {
          "base_uri": "https://localhost:8080/"
        },
        "id": "GKHh2dj_1C2T",
        "outputId": "a39ad05d-9e93-4c83-ea0d-c4cc40a26ed6"
      },
      "source": [
        "# 모델 로딩\n",
        "model = torch.load('samsung_rl_재무.h5')\n",
        "\n",
        "test_env = Environment1(test)\n",
        "pobs = test_env.reset()\n",
        "test_acts = []\n",
        "test_rewards = []\n",
        "\n",
        "for _ in range(len(test_env.data)-1):\n",
        "    pact = model(torch.from_numpy(np.array(pobs, dtype=np.float32).reshape(1, -1)))\n",
        "    pact = np.argmax(pact.data)\n",
        "    test_acts.append(pact.item())\n",
        "            \n",
        "    obs, reward, done = test_env.step(pact.numpy())\n",
        "    test_rewards.append(reward)\n",
        "\n",
        "    pobs = obs\n",
        "\n",
        "# sell remaining stocks\n",
        "profits = 0\n",
        "for p in test_env.positions:\n",
        "\tprofits += (test_env.data.iloc[test_env.t, :]['Close'] - p)\n",
        "\n",
        "test_env.profits += profits\n",
        "test_env.positions = []\n",
        "\n",
        "test_profits = test_env.profits\n",
        "pact = model(torch.from_numpy(np.array(pobs, dtype=np.float32).reshape(1, -1)))\n",
        "pact = np.argmax(pact.data)\n",
        "next_action = pact.item()\n",
        "test['Action'] = test_acts + [next_action]\n",
        "\n",
        "\n",
        "print( )\n",
        "print( test )\n",
        "print( )\n",
        "print( sample_code, \"결과\")\n",
        "print( \"손익결과 $%.2f\" % round(test_profits,2) )"
      ],
      "execution_count": 17,
      "outputs": [
        {
          "output_type": "stream",
          "name": "stdout",
          "text": [
            "\n",
            "          Date   Open   High    Low  Close  ...   PBR   EPS   DIV   DPS  Action\n",
            "732 2020-12-22  72500  73200  72100  72300  ...  1.93  3166  1.96  1416       1\n",
            "733 2020-12-23  72400  74000  72300  73900  ...  1.97  3166  1.92  1416       2\n",
            "734 2020-12-24  74100  78800  74000  77800  ...  2.07  3166  1.82  1416       2\n",
            "735 2020-12-28  79000  80100  78200  78700  ...  2.10  3166  1.80  1416       2\n",
            "736 2020-12-29  78800  78900  77300  78300  ...  2.09  3166  1.81  1416       2\n",
            "..         ...    ...    ...    ...    ...  ...   ...   ...   ...   ...     ...\n",
            "910 2021-09-09  76400  76600  75000  75300  ...  1.91  3841  3.98  2994       1\n",
            "911 2021-09-10  75300  75600  74800  75300  ...  1.91  3841  3.98  2994       0\n",
            "912 2021-09-13  75200  76300  75100  76300  ...  1.94  3841  3.92  2994       2\n",
            "913 2021-09-14  77100  77700  76600  76600  ...  1.94  3841  3.91  2994       1\n",
            "914 2021-09-15  77400  77400  76400  77000  ...  1.95  3841  3.89  2994       2\n",
            "\n",
            "[183 rows x 14 columns]\n",
            "\n",
            "005930 결과\n",
            "손익결과 $10800.00\n"
          ]
        }
      ]
    },
    {
      "cell_type": "code",
      "metadata": {
        "id": "ouvouI8_iiXy"
      },
      "source": [
        "test['act'] = np.where((test['Change'] * test['Close']) > (0.1 * test['Close']),1,\n",
        "                       np.where((test['Change'] * test['Close']) < (0.1 * test['Close']), 2,0)) # 상승, 하락, 보합"
      ],
      "execution_count": 18,
      "outputs": []
    },
    {
      "cell_type": "code",
      "metadata": {
        "colab": {
          "base_uri": "https://localhost:8080/"
        },
        "id": "zcLLlj-nii9b",
        "outputId": "babcb541-c0da-4417-8a9d-796d4cfb3190"
      },
      "source": [
        "len(test[test.Action == test.act])/len(test)"
      ],
      "execution_count": 19,
      "outputs": [
        {
          "output_type": "execute_result",
          "data": {
            "text/plain": [
              "0.6229508196721312"
            ]
          },
          "metadata": {},
          "execution_count": 19
        }
      ]
    }
  ]
}