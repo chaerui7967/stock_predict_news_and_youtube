{
  "nbformat": 4,
  "nbformat_minor": 0,
  "metadata": {
    "colab": {
      "name": "pytoch_lstm.ipynb",
      "provenance": [],
      "collapsed_sections": [],
      "authorship_tag": "ABX9TyPIyYgaXB5yvjSkFEzM/yj8",
      "include_colab_link": true
    },
    "kernelspec": {
      "name": "python3",
      "display_name": "Python 3"
    },
    "language_info": {
      "name": "python"
    },
    "accelerator": "GPU"
  },
  "cells": [
    {
      "cell_type": "markdown",
      "metadata": {
        "id": "view-in-github",
        "colab_type": "text"
      },
      "source": [
        "<a href=\"https://colab.research.google.com/github/chaerui7967/stock_predict_news_and_youtube/blob/master/pytoch_lstm.ipynb\" target=\"_parent\"><img src=\"https://colab.research.google.com/assets/colab-badge.svg\" alt=\"Open In Colab\"/></a>"
      ]
    },
    {
      "cell_type": "markdown",
      "metadata": {
        "id": "hojeWytvCUFe"
      },
      "source": [
        "# pytoch_lstm__삼성전자 주가예측"
      ]
    },
    {
      "cell_type": "markdown",
      "metadata": {
        "id": "1HT6qU8uCZ05"
      },
      "source": [
        "## 데이터 로드"
      ]
    },
    {
      "cell_type": "code",
      "metadata": {
        "id": "EOqlh4arD5mY"
      },
      "source": [
        "!pip install pandas_datareader"
      ],
      "execution_count": null,
      "outputs": []
    },
    {
      "cell_type": "code",
      "metadata": {
        "id": "r80Q7OWTCT2b"
      },
      "source": [
        "!pip install finance-datareader"
      ],
      "execution_count": null,
      "outputs": []
    },
    {
      "cell_type": "code",
      "metadata": {
        "id": "ru8ixUbTDs0R"
      },
      "source": [
        "import numpy as np \n",
        "import pandas as pd \n",
        "# import pandas_datareader.data as pdr \n",
        "import matplotlib.pyplot as plt \n",
        "import datetime \n",
        "import torch \n",
        "import torch.nn as nn \n",
        "from torch.autograd import Variable \n",
        "import torch.optim as optim \n",
        "from torch.utils.data import Dataset, DataLoader\n"
      ],
      "execution_count": 8,
      "outputs": []
    },
    {
      "cell_type": "code",
      "metadata": {
        "colab": {
          "base_uri": "https://localhost:8080/",
          "height": 234
        },
        "id": "YN00pO8xEp8f",
        "outputId": "284a6648-6ebf-4a3b-fcfd-b2f3217c888d"
      },
      "source": [
        "# 주식가격 로딩\n",
        "import FinanceDataReader as fdr\n",
        "\n",
        "start_date = '20180101'\n",
        "end_date = datetime.datetime.now().strftime(\"%Y%m%d\")\n",
        "sample_code = '005930'\n",
        "stock = fdr.DataReader( sample_code, start = start_date, end = end_date )\n",
        "stock.head()"
      ],
      "execution_count": 9,
      "outputs": [
        {
          "output_type": "execute_result",
          "data": {
            "text/html": [
              "<div>\n",
              "<style scoped>\n",
              "    .dataframe tbody tr th:only-of-type {\n",
              "        vertical-align: middle;\n",
              "    }\n",
              "\n",
              "    .dataframe tbody tr th {\n",
              "        vertical-align: top;\n",
              "    }\n",
              "\n",
              "    .dataframe thead th {\n",
              "        text-align: right;\n",
              "    }\n",
              "</style>\n",
              "<table border=\"1\" class=\"dataframe\">\n",
              "  <thead>\n",
              "    <tr style=\"text-align: right;\">\n",
              "      <th></th>\n",
              "      <th>Open</th>\n",
              "      <th>High</th>\n",
              "      <th>Low</th>\n",
              "      <th>Close</th>\n",
              "      <th>Volume</th>\n",
              "      <th>Change</th>\n",
              "    </tr>\n",
              "    <tr>\n",
              "      <th>Date</th>\n",
              "      <th></th>\n",
              "      <th></th>\n",
              "      <th></th>\n",
              "      <th></th>\n",
              "      <th></th>\n",
              "      <th></th>\n",
              "    </tr>\n",
              "  </thead>\n",
              "  <tbody>\n",
              "    <tr>\n",
              "      <th>2018-01-02</th>\n",
              "      <td>51380</td>\n",
              "      <td>51400</td>\n",
              "      <td>50780</td>\n",
              "      <td>51020</td>\n",
              "      <td>169485</td>\n",
              "      <td>0.001177</td>\n",
              "    </tr>\n",
              "    <tr>\n",
              "      <th>2018-01-03</th>\n",
              "      <td>52540</td>\n",
              "      <td>52560</td>\n",
              "      <td>51420</td>\n",
              "      <td>51620</td>\n",
              "      <td>200270</td>\n",
              "      <td>0.011760</td>\n",
              "    </tr>\n",
              "    <tr>\n",
              "      <th>2018-01-04</th>\n",
              "      <td>52120</td>\n",
              "      <td>52180</td>\n",
              "      <td>50640</td>\n",
              "      <td>51080</td>\n",
              "      <td>233909</td>\n",
              "      <td>-0.010461</td>\n",
              "    </tr>\n",
              "    <tr>\n",
              "      <th>2018-01-05</th>\n",
              "      <td>51300</td>\n",
              "      <td>52120</td>\n",
              "      <td>51200</td>\n",
              "      <td>52120</td>\n",
              "      <td>189623</td>\n",
              "      <td>0.020360</td>\n",
              "    </tr>\n",
              "    <tr>\n",
              "      <th>2018-01-08</th>\n",
              "      <td>52400</td>\n",
              "      <td>52520</td>\n",
              "      <td>51500</td>\n",
              "      <td>52020</td>\n",
              "      <td>167673</td>\n",
              "      <td>-0.001919</td>\n",
              "    </tr>\n",
              "  </tbody>\n",
              "</table>\n",
              "</div>"
            ],
            "text/plain": [
              "             Open   High    Low  Close  Volume    Change\n",
              "Date                                                    \n",
              "2018-01-02  51380  51400  50780  51020  169485  0.001177\n",
              "2018-01-03  52540  52560  51420  51620  200270  0.011760\n",
              "2018-01-04  52120  52180  50640  51080  233909 -0.010461\n",
              "2018-01-05  51300  52120  51200  52120  189623  0.020360\n",
              "2018-01-08  52400  52520  51500  52020  167673 -0.001919"
            ]
          },
          "metadata": {},
          "execution_count": 9
        }
      ]
    },
    {
      "cell_type": "code",
      "metadata": {
        "colab": {
          "base_uri": "https://localhost:8080/",
          "height": 234
        },
        "id": "DhRn6wGaEzx9",
        "outputId": "029b67db-acaa-4da6-d3af-9aa473029da4"
      },
      "source": [
        "stock.tail()"
      ],
      "execution_count": 12,
      "outputs": [
        {
          "output_type": "execute_result",
          "data": {
            "text/html": [
              "<div>\n",
              "<style scoped>\n",
              "    .dataframe tbody tr th:only-of-type {\n",
              "        vertical-align: middle;\n",
              "    }\n",
              "\n",
              "    .dataframe tbody tr th {\n",
              "        vertical-align: top;\n",
              "    }\n",
              "\n",
              "    .dataframe thead th {\n",
              "        text-align: right;\n",
              "    }\n",
              "</style>\n",
              "<table border=\"1\" class=\"dataframe\">\n",
              "  <thead>\n",
              "    <tr style=\"text-align: right;\">\n",
              "      <th></th>\n",
              "      <th>Open</th>\n",
              "      <th>High</th>\n",
              "      <th>Low</th>\n",
              "      <th>Close</th>\n",
              "      <th>Volume</th>\n",
              "      <th>Change</th>\n",
              "    </tr>\n",
              "    <tr>\n",
              "      <th>Date</th>\n",
              "      <th></th>\n",
              "      <th></th>\n",
              "      <th></th>\n",
              "      <th></th>\n",
              "      <th></th>\n",
              "      <th></th>\n",
              "    </tr>\n",
              "  </thead>\n",
              "  <tbody>\n",
              "    <tr>\n",
              "      <th>2021-09-01</th>\n",
              "      <td>76700</td>\n",
              "      <td>77100</td>\n",
              "      <td>75900</td>\n",
              "      <td>76800</td>\n",
              "      <td>16114775</td>\n",
              "      <td>0.001304</td>\n",
              "    </tr>\n",
              "    <tr>\n",
              "      <th>2021-09-02</th>\n",
              "      <td>76800</td>\n",
              "      <td>76800</td>\n",
              "      <td>75700</td>\n",
              "      <td>76000</td>\n",
              "      <td>15347486</td>\n",
              "      <td>-0.010417</td>\n",
              "    </tr>\n",
              "    <tr>\n",
              "      <th>2021-09-03</th>\n",
              "      <td>76400</td>\n",
              "      <td>76700</td>\n",
              "      <td>76000</td>\n",
              "      <td>76600</td>\n",
              "      <td>12096419</td>\n",
              "      <td>0.007895</td>\n",
              "    </tr>\n",
              "    <tr>\n",
              "      <th>2021-09-06</th>\n",
              "      <td>76800</td>\n",
              "      <td>77600</td>\n",
              "      <td>76600</td>\n",
              "      <td>77300</td>\n",
              "      <td>12861180</td>\n",
              "      <td>0.009138</td>\n",
              "    </tr>\n",
              "    <tr>\n",
              "      <th>2021-09-07</th>\n",
              "      <td>77100</td>\n",
              "      <td>77100</td>\n",
              "      <td>76000</td>\n",
              "      <td>76200</td>\n",
              "      <td>6908876</td>\n",
              "      <td>-0.014230</td>\n",
              "    </tr>\n",
              "  </tbody>\n",
              "</table>\n",
              "</div>"
            ],
            "text/plain": [
              "             Open   High    Low  Close    Volume    Change\n",
              "Date                                                      \n",
              "2021-09-01  76700  77100  75900  76800  16114775  0.001304\n",
              "2021-09-02  76800  76800  75700  76000  15347486 -0.010417\n",
              "2021-09-03  76400  76700  76000  76600  12096419  0.007895\n",
              "2021-09-06  76800  77600  76600  77300  12861180  0.009138\n",
              "2021-09-07  77100  77100  76000  76200   6908876 -0.014230"
            ]
          },
          "metadata": {},
          "execution_count": 12
        }
      ]
    },
    {
      "cell_type": "code",
      "metadata": {
        "colab": {
          "base_uri": "https://localhost:8080/",
          "height": 294
        },
        "id": "31JDya2-EByA",
        "outputId": "0fdd0025-ce13-40b0-8696-2a4de833808f"
      },
      "source": [
        "stock.Close.plot(grid=True)"
      ],
      "execution_count": 11,
      "outputs": [
        {
          "output_type": "execute_result",
          "data": {
            "text/plain": [
              "<matplotlib.axes._subplots.AxesSubplot at 0x7f7fbc137390>"
            ]
          },
          "metadata": {},
          "execution_count": 11
        },
        {
          "output_type": "display_data",
          "data": {
            "image/png": "[encoded data removed]",
            "text/plain": [
              "<Figure size 432x288 with 1 Axes>"
            ]
          },
          "metadata": {
            "needs_background": "light"
          }
        }
      ]
    },
    {
      "cell_type": "markdown",
      "metadata": {
        "id": "hPbn5r1DFgH_"
      },
      "source": [
        "## 데이터 전처리"
      ]
    },
    {
      "cell_type": "code",
      "metadata": {
        "colab": {
          "base_uri": "https://localhost:8080/"
        },
        "id": "m1O60hjVEBtw",
        "outputId": "3793ce80-0066-4698-fc62-8264ca2e01f4"
      },
      "source": [
        "# 거래량 제외\n",
        "X = stock.drop(columns='Volume') \n",
        "y = stock.iloc[:, 4:5] \n",
        "print(X) \n",
        "print(y)"
      ],
      "execution_count": 15,
      "outputs": [
        {
          "output_type": "stream",
          "name": "stdout",
          "text": [
            "             Open   High    Low  Close    Change\n",
            "Date                                            \n",
            "2018-01-02  51380  51400  50780  51020  0.001177\n",
            "2018-01-03  52540  52560  51420  51620  0.011760\n",
            "2018-01-04  52120  52180  50640  51080 -0.010461\n",
            "2018-01-05  51300  52120  51200  52120  0.020360\n",
            "2018-01-08  52400  52520  51500  52020 -0.001919\n",
            "...           ...    ...    ...    ...       ...\n",
            "2021-09-01  76700  77100  75900  76800  0.001304\n",
            "2021-09-02  76800  76800  75700  76000 -0.010417\n",
            "2021-09-03  76400  76700  76000  76600  0.007895\n",
            "2021-09-06  76800  77600  76600  77300  0.009138\n",
            "2021-09-07  77100  77100  76000  76200 -0.014230\n",
            "\n",
            "[909 rows x 5 columns]\n",
            "              Volume\n",
            "Date                \n",
            "2018-01-02    169485\n",
            "2018-01-03    200270\n",
            "2018-01-04    233909\n",
            "2018-01-05    189623\n",
            "2018-01-08    167673\n",
            "...              ...\n",
            "2021-09-01  16114775\n",
            "2021-09-02  15347486\n",
            "2021-09-03  12096419\n",
            "2021-09-06  12861180\n",
            "2021-09-07   6908876\n",
            "\n",
            "[909 rows x 1 columns]\n"
          ]
        }
      ]
    },
    {
      "cell_type": "code",
      "metadata": {
        "colab": {
          "base_uri": "https://localhost:8080/"
        },
        "id": "SMqWlcidEBqj",
        "outputId": "79bb9c0f-fccd-4fc3-a2cc-fefa9e26172f"
      },
      "source": [
        "from sklearn.preprocessing import StandardScaler, MinMaxScaler \n",
        "mm = MinMaxScaler() \n",
        "ss = StandardScaler() \n",
        "X_ss = ss.fit_transform(X) \n",
        "y_mm = mm.fit_transform(y) \n",
        "\n",
        "# Train Data \n",
        "X_train = X_ss[:800, :] \n",
        "X_test = X_ss[800:, :]\n",
        " \n",
        "# Test Data \n",
        "y_train = y_mm[:800, :] \n",
        "y_test = y_mm[800:, :] \n",
        "\n",
        "print(\"Training Shape\", X_train.shape, y_train.shape) \n",
        "print(\"Testing Shape\", X_test.shape, y_test.shape)\n"
      ],
      "execution_count": 18,
      "outputs": [
        {
          "output_type": "stream",
          "name": "stdout",
          "text": [
            "Training Shape (800, 5) (800, 1)\n",
            "Testing Shape (109, 5) (109, 1)\n"
          ]
        }
      ]
    },
    {
      "cell_type": "code",
      "metadata": {
        "colab": {
          "base_uri": "https://localhost:8080/"
        },
        "id": "qMy1uHcVF8J9",
        "outputId": "48f56ee7-ecf9-4d95-c981-cffdca34e072"
      },
      "source": [
        "# 학습할수 있는 형태로 변환 bath\n",
        "X_train_tensors = Variable(torch.Tensor(X_train)) \n",
        "X_test_tensors = Variable(torch.Tensor(X_test)) \n",
        "y_train_tensors = Variable(torch.Tensor(y_train)) \n",
        "y_test_tensors = Variable(torch.Tensor(y_test)) \n",
        "X_train_tensors_final = torch.reshape(X_train_tensors, (X_train_tensors.shape[0], 1, X_train_tensors.shape[1])) \n",
        "X_test_tensors_final = torch.reshape(X_test_tensors, (X_test_tensors.shape[0], 1, X_test_tensors.shape[1])) \n",
        "\n",
        "\n",
        "print(\"Training Shape\", X_train_tensors_final.shape, y_train_tensors.shape) \n",
        "print(\"Testing Shape\", X_test_tensors_final.shape, y_test_tensors.shape)\n"
      ],
      "execution_count": 19,
      "outputs": [
        {
          "output_type": "stream",
          "name": "stdout",
          "text": [
            "Training Shape torch.Size([800, 1, 5]) torch.Size([800, 1])\n",
            "Testing Shape torch.Size([109, 1, 5]) torch.Size([109, 1])\n"
          ]
        }
      ]
    },
    {
      "cell_type": "code",
      "metadata": {
        "colab": {
          "base_uri": "https://localhost:8080/"
        },
        "id": "Q1ulS3jEGeAq",
        "outputId": "128fd9fb-537a-4022-f456-e62f2903a423"
      },
      "source": [
        "# gpu확인\n",
        "device = torch.device(\"cuda:0\" if torch.cuda.is_available() else \"cpu\") # device \n",
        "print(torch.cuda.get_device_name(0))"
      ],
      "execution_count": 20,
      "outputs": [
        {
          "output_type": "stream",
          "name": "stdout",
          "text": [
            "Tesla K80\n"
          ]
        }
      ]
    },
    {
      "cell_type": "markdown",
      "metadata": {
        "id": "udsuVi6IGwR7"
      },
      "source": [
        "## lstm_layer 구성"
      ]
    },
    {
      "cell_type": "code",
      "metadata": {
        "id": "QxoEGv5yF8HN"
      },
      "source": [
        "class LSTM1(nn.Module): \n",
        "  def __init__(self, num_classes, input_size, hidden_size, num_layers, seq_length): \n",
        "    super(LSTM1, self).__init__() \n",
        "    self.num_classes = num_classes #number of classes \n",
        "    self.num_layers = num_layers #number of layers \n",
        "    self.input_size = input_size #input size \n",
        "    self.hidden_size = hidden_size #hidden state \n",
        "    self.seq_length = seq_length #sequence length \n",
        "    self.lstm = nn.LSTM(input_size=input_size, hidden_size=hidden_size, num_layers=num_layers, batch_first=True) #lstm \n",
        "    self.fc_1 = nn.Linear(hidden_size, 128) #fully connected 1 \n",
        "    self.fc = nn.Linear(128, num_classes) #fully connected last layer \n",
        "    self.relu = nn.ReLU() \n",
        "  \n",
        "  def forward(self,x): \n",
        "    h_0 = Variable(torch.zeros(self.num_layers, x.size(0), self.hidden_size)).to(device) #hidden state \n",
        "    c_0 = Variable(torch.zeros(self.num_layers, x.size(0), self.hidden_size)).to(device) #internal state \n",
        "    \n",
        "    # Propagate input through LSTM \n",
        "    output, (hn, cn) = self.lstm(x, (h_0, c_0)) #lstm with input, hidden, and internal state \n",
        "    hn = hn.view(-1, self.hidden_size) #reshaping the data for Dense layer next \n",
        "    out = self.relu(hn) \n",
        "    out = self.fc_1(out) #first Dense \n",
        "    out = self.relu(out) #relu \n",
        "    out = self.fc(out) #Final Output return out\n",
        "\n",
        "    return out"
      ],
      "execution_count": 21,
      "outputs": []
    },
    {
      "cell_type": "code",
      "metadata": {
        "id": "7qqlhlxfF8Ew"
      },
      "source": [
        "num_epochs = 30000 #1000 epochs\n",
        "learning_rate = 0.00001 #0.001 lr\n",
        "\n",
        "input_size = 5 #number of features\n",
        "hidden_size = 2 #number of features in hidden state\n",
        "num_layers = 1 #number of stacked lstm layers\n",
        "\n",
        "num_classes = 1 #number of output classes \n",
        "lstm1 = LSTM1(num_classes, input_size, hidden_size, num_layers, X_train_tensors_final.shape[1]).to(device)\n",
        "\n",
        "loss_function = torch.nn.MSELoss()    # mean-squared error for regression\n",
        "optimizer = torch.optim.Adam(lstm1.parameters(), lr=learning_rate)  # adam optimizer\n"
      ],
      "execution_count": 22,
      "outputs": []
    },
    {
      "cell_type": "code",
      "metadata": {
        "id": "sHPX2WAJHl3F"
      },
      "source": [
        "for epoch in range(num_epochs): \n",
        "  outputs = lstm1.forward(X_train_tensors_final.to(device)) #forward pass \n",
        "  optimizer.zero_grad() #caluclate the gradient, manually setting to 0 \n",
        "  \n",
        "  # obtain the loss function \n",
        "  loss = loss_function(outputs, y_train_tensors.to(device)) \n",
        "  \n",
        "  loss.backward() #calculates the loss of the loss function \n",
        "  \n",
        "  optimizer.step() #improve from loss, i.e backprop \n",
        "  \n",
        "  if epoch % 100 == 0: \n",
        "    print(\"Epoch: %d, loss: %1.5f\" % (epoch, loss.item()))\n"
      ],
      "execution_count": null,
      "outputs": []
    },
    {
      "cell_type": "code",
      "metadata": {
        "colab": {
          "base_uri": "https://localhost:8080/",
          "height": 390
        },
        "id": "bnRwcw8qHl0i",
        "outputId": "240e34d6-1efd-4ec5-d5e6-9e5ff7426b51"
      },
      "source": [
        "df_X_ss = ss.transform(stock.drop(columns='Volume'))\n",
        "df_y_mm = mm.transform(stock.iloc[:, 4:5])\n",
        "\n",
        "df_X_ss = Variable(torch.Tensor(df_X_ss)) #converting to Tensors\n",
        "df_y_mm = Variable(torch.Tensor(df_y_mm))\n",
        "\n",
        "#reshaping the dataset\n",
        "df_X_ss = torch.reshape(df_X_ss, (df_X_ss.shape[0], 1, df_X_ss.shape[1]))\n",
        "train_predict = lstm1(df_X_ss.to(device))#forward pass\n",
        "data_predict = train_predict.data.detach().cpu().numpy() #numpy conversion\n",
        "dataY_plot = df_y_mm.data.numpy()\n",
        "\n",
        "data_predict = mm.inverse_transform(data_predict) #reverse transformation\n",
        "dataY_plot = mm.inverse_transform(dataY_plot)\n",
        "plt.figure(figsize=(10,6)) #plotting\n",
        "plt.axvline(x=800, c='r', linestyle='--') #size of the training set\n",
        "\n",
        "plt.plot(dataY_plot, label='Actuall Data') #actual plot\n",
        "plt.plot(data_predict, label='Predicted Data') #predicted plot\n",
        "plt.title('Time-Series Prediction')\n",
        "plt.legend()\n",
        "plt.show() "
      ],
      "execution_count": 25,
      "outputs": [
        {
          "output_type": "display_data",
          "data": {
            "image/png": "[encoded data removed]",
            "text/plain": [
              "<Figure size 720x432 with 1 Axes>"
            ]
          },
          "metadata": {
            "needs_background": "light"
          }
        }
      ]
    },
    {
      "cell_type": "code",
      "metadata": {
        "id": "S6iKVLNzHkrL"
      },
      "source": [
        ""
      ],
      "execution_count": null,
      "outputs": []
    },
    {
      "cell_type": "code",
      "metadata": {
        "id": "OdKwTcztHkoF"
      },
      "source": [
        ""
      ],
      "execution_count": null,
      "outputs": []
    },
    {
      "cell_type": "code",
      "metadata": {
        "id": "K_DIwUEPCTr-"
      },
      "source": [
        ""
      ],
      "execution_count": null,
      "outputs": []
    },
    {
      "cell_type": "code",
      "metadata": {
        "id": "kAPJXxPoB3ez"
      },
      "source": [
        "from tensorflow.keras import models\n",
        "from tensorflow.keras.models import Sequential\n",
        "from tensorflow.keras.layers import Dropout, Dense, SimpleRNN\n",
        "from tensorflow.keras.layers import LSTM\n",
        "import matplotlib.pyplot as plt"
      ],
      "execution_count": null,
      "outputs": []
    }
  ]
}