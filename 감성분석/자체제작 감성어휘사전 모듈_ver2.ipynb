{
 "cells": [
  {
   "cell_type": "code",
   "execution_count": null,
   "id": "d55f5f2d",
   "metadata": {
    "tags": []
   },
   "outputs": [],
   "source": [
    "# 유사도 관련 패키지\n",
    "# !pip install fasttext"
   ]
  },
  {
   "cell_type": "code",
   "execution_count": 1,
   "id": "c4ffde99",
   "metadata": {},
   "outputs": [],
   "source": [
    "import pandas as pd\n",
    "import datetime\n",
    "import numpy as np\n",
    "import warnings\n",
    "warnings.filterwarnings('ignore')\n",
    "\n",
    "# db 연동\n",
    "import pymysql\n",
    "\n",
    "# 주식 데이터\n",
    "import FinanceDataReader as fdr\n",
    "\n",
    "# nlp\n",
    "from konlpy.tag import Okt\n",
    "\n",
    "# 유사도 계산\n",
    "from gensim import models"
   ]
  },
  {
   "cell_type": "code",
   "execution_count": 2,
   "id": "deb2e37b",
   "metadata": {},
   "outputs": [],
   "source": [
    "def set_data(df,com_num = 0):  # panda, numpy, datetime, FinanceDataReader, konlpy, Counter\n",
    "    # 일, 시간 나누기\n",
    "    df['date'] = df['date'].astype(str)\n",
    "    df['date_d'] = df['date'].str[:-2]\n",
    "    df['date_h'] = df['date'].str[-2:]\n",
    "    # 타입을 데이트 타입으로 만듬\n",
    "    df['date_d'] = pd.to_datetime(df['date_d'])\n",
    "    \n",
    "    df = df.sort_values(by='date_d') # 일기준으로 오름차순 정렬\n",
    "    \n",
    "    if com_num != 0:\n",
    "    #     통합 데이터 활용시 업종코드 지정\n",
    "        df = df[df['st_cd'] == com_num] # 해당 회사만 추출\n",
    "        num = str(com_num).zfill(6) # 종목코드를 6자리로 만들어줌\n",
    "        \n",
    "    else:\n",
    "        # 특정 업종만 할 때\n",
    "        num = str(df['st_cd'].iloc[0]).zfill(6)\n",
    "    \n",
    "    # 널값 제거\n",
    "    df = df.dropna()\n",
    "    \n",
    "    # ============== 날짜 조정\n",
    "    ## 전일 15시 ~ 금일 15시로 날짜 조정\n",
    "    after_market = ['15', '16', '17', '18', '19', '20', '21', '22', '23']\n",
    "    \n",
    "    for i in range(len(df)):\n",
    "        if df['date_h'].iloc[i] in after_market:\n",
    "            df['date_d'].iloc[i] += datetime.timedelta(1)\n",
    "    \n",
    "    # 주말 및 공휴일 데이터\n",
    "    ### Holidays\n",
    "    try:\n",
    "        # 서버가 열려있을 때\n",
    "        db = pymysql.connect(user='root',\n",
    "                             passwd='1234',\n",
    "                             host='3.35.70.166',\n",
    "                             db='proj',\n",
    "                             charset='utf8')\n",
    "\n",
    "        cursor = db.cursor(pymysql.cursors.DictCursor)\n",
    "\n",
    "        sql = \"select * from holidays\"\n",
    "        cursor.execute(sql)\n",
    "        result = cursor.fetchall()\n",
    "    \n",
    "        # DataFrame으로 변경\n",
    "        holi = pd.DataFrame(result)\n",
    "        # db 닫기 --> 안하면 메모리 잡아먹음\n",
    "        db.close()\n",
    "    except:\n",
    "        # 서버 없을 때 깃허브에서 바로 가져옴\n",
    "        db_holi = 'https://raw.githubusercontent.com/chaerui7967/stock_predict_news_and_youtube/master/%EA%B0%90%EC%84%B1%EB%B6%84%EC%84%9D/data/holidays.csv'\n",
    "        holi = pd.read_csv(db_holi)\n",
    "    \n",
    "    # date 컬럼을 날짜 형식으로 변경\n",
    "    holi['date'] = pd.to_datetime(holi['date'])\n",
    "    \n",
    "    \n",
    "    ### ===================주말 및 공휴일 제외\n",
    "    \n",
    "    ## 주말 및 공휴일만 추출\n",
    "    market_closed = holi[holi['holiday']==\"O\"].reset_index(drop=True)\n",
    "    \n",
    "    ## 휴장일 List 생성\n",
    "    market_closed_list = list(market_closed['date'])\n",
    "    \n",
    "    # 주말 및 공휴일 제외\n",
    "    while len(df[df['date_d'].isin(market_closed_list)]['date_d']) !=0:\n",
    "        for i in df[df['date_d'].isin(market_closed_list)]['date_d'].index:\n",
    "            df['date_d'][i] += datetime.timedelta(1)\n",
    "     \n",
    "    \n",
    "    \n",
    "    # 주식 데이터 가져오기\n",
    "    start_date = str(df['date_d'].iloc[0])[:10].replace('-', '')\n",
    "    end_date = str(df['date_d'].iloc[-1])[:10].replace('-', '')  # 뉴스 데이터 기준 최근 값까지의 주식 데이터\n",
    "    \n",
    "    stock = fdr.DataReader(num, start = start_date, end = end_date)\n",
    "    \n",
    "    # change 컬럼 판단 기준 close에서 수수료 보다 많은 비율이 올랐으면 1, 떨어졌으면 -1, 그 사이 0\n",
    "    point = stock['Close'] * stock['Change']\n",
    "    spli = stock['Close'] * 0.001  # 수수료가 0.1 % 라고 할 때\n",
    "    \n",
    "    stock['ud'] = np.where( point > spli, 1,\n",
    "                          np.where(point < spli, -1, 0))\n",
    "    \n",
    "    stock = stock.reset_index() # 날짜 컬럼 가져오기\n",
    "    \n",
    "    s_1 = stock[['Date','ud']] # 필요한 컬럼만 가져오기\n",
    "    \n",
    "    s_1.columns = ['date_d','ud'] # 컬럼 명 초기화\n",
    "    \n",
    "    # 뉴스데이터와 주식데이터 merge\n",
    "    df_1 = pd.merge(df,s_1,on='date_d')  # 영향받는 컬럼 기준으로 inner 조인 \n",
    "    \n",
    "    return df_1"
   ]
  },
  {
   "cell_type": "code",
   "execution_count": 3,
   "id": "eb07ba3a",
   "metadata": {},
   "outputs": [],
   "source": [
    "def giro_dic(df,num = 0):\n",
    "    \n",
    "    df = set_data(df, num)\n",
    "    print('데이터 셋 구성 완료')\n",
    "    \n",
    "    okt = Okt()\n",
    "    print('okt 모듈 활성')\n",
    "    \n",
    "    \n",
    "    # 데이터 전처리\n",
    "    # =================== nlp\n",
    "    # 1. 제목, 텍스트 --> 명사, 형용사 추출\n",
    "    # 태그 삭제        \n",
    "    # \\n \\t 삭제\n",
    "    df['text'] = df['text'].str.replace('[\\n|\\t|\\r]','')\n",
    "    df['text'] = df['text'].str.replace('[^a-zA-Z0-9가-힣]','')\n",
    "    \n",
    "    # 토큰화 및 품사 태깅\n",
    "    df['Contents_input'] = df['text'].apply(lambda x: okt.pos(x, norm=True, stem=True))\n",
    "    print('태그 삭제 및 품사 태깅 완료')\n",
    "    \n",
    "    # 명사, 형용사 추출\n",
    "    for i in range(len(df['Contents_input'])):\n",
    "        wordList = []\n",
    "        for j in range(len(df['Contents_input'][i])):\n",
    "            if df['Contents_input'][i][j][1] == 'Noun' or df['Contents_input'][i][j][1] == 'Adjective':\n",
    "                wordList.append(df['Contents_input'][i][j][0])         \n",
    "        df['Contents_input'][i] = wordList\n",
    "    print('명사, 형용사 추출')\n",
    "    \n",
    "    # 2. 불용어 처리\n",
    "    # 불용어 사전 로딩\n",
    "    url = 'https://raw.githubusercontent.com/chaerui7967/stock_predict_news_and_youtube/master/%EA%B0%90%EC%84%B1%EB%B6%84%EC%84%9D/data/stopwords_ver1.txt'\n",
    "    stopwords = list(pd.read_csv(url, header=None)[0])\n",
    "    media = ['매일경제','mkcokr','무단전재및재배포금지','무단전재','재배포금지']\n",
    "    print('불용어 사전 로딩..')\n",
    "    \n",
    "    \n",
    "    for i in range(len(df['Contents_input'])):\n",
    "        for word in df['Contents_input'][i]:\n",
    "            if word in stopwords:\n",
    "                df['Contents_input'][i].remove(word)\n",
    "            if word in media:\n",
    "                df['Contents_input'][i].remove(word) \n",
    "    print('불용어 처리 완료')\n",
    "    \n",
    "    # 단어길이가 1이하인 단어 제거\n",
    "    for index, wordList in enumerate(df['Contents_input']):\n",
    "        if len(df['Contents_input'][index]) == 0:\n",
    "            continue\n",
    "        for word in wordList:\n",
    "            if len(word) <= 1:\n",
    "                df['Contents_input'][index].remove(word)\n",
    "    print('단어 길이 1이하인 단어 제거..')\n",
    "    \n",
    "    \n",
    "    # 주식 감성 사전 로딩 : koself\n",
    "    koself_pro = 'https://raw.githubusercontent.com/chaerui7967/stock_predict_news_and_youtube/master/%EA%B0%90%EC%84%B1%EB%B6%84%EC%84%9D/data/KOSELF_pos.txt'\n",
    "    koself_neg = 'https://raw.githubusercontent.com/chaerui7967/stock_predict_news_and_youtube/master/%EA%B0%90%EC%84%B1%EB%B6%84%EC%84%9D/data/KOSELF_neg.txt'\n",
    "    \n",
    "    positive = list(pd.read_csv(koself_pro, header=None)[0])\n",
    "    negative = list(pd.read_csv(koself_neg, header=None)[0])\n",
    "    print('koself 사전 로딩...')\n",
    "    \n",
    "    # koself 만 쓴 감성점수\n",
    "    df['koself'] = 0\n",
    "    for index, wordList in enumerate(df['Contents_input']):\n",
    "        for word in wordList:\n",
    "            if word in positive:\n",
    "                df['koself'][index] += 1\n",
    "            if word in negative:\n",
    "                df['koself'][index] -= 1\n",
    "    print('koself 점수 계산 완료')\n",
    "    \n",
    "    # 사전 구축\n",
    "    # 유사도 계산으로 긍부정 단어 추가\n",
    "    # 유사도 계산으로 애매한 단어 긍부정 판단--> 긍부정 단어에 다포함되어있는\n",
    "    # 사용 모델 -->  fastText의 이미 학습된 한국어 모델 사용\n",
    "#     try:\n",
    "#         print(ko_model, '모델 로딩 안해도 됨')\n",
    "#     except:\n",
    "#         ko_model = models.fasttext.load_facebook_model('cc.ko.300.bin')\n",
    "    print(ko_model, '모델 로딩 안해도 됨')\n",
    "    \n",
    "    # 단어 수를 늘리기 위해서 유사도 50%이상인 단어를 추가\n",
    "    for i in positive:\n",
    "        pos_si = [j[0] for j in ko_model.wv.similar_by_word(i, 10) if j[1] >= 0.5]\n",
    "    for i in negative:\n",
    "        neg_si = [j[0] for j in ko_model.wv.similar_by_word(i, 10) if j[1] >= 0.5]\n",
    "    print('koself 유사도 계산 및 추가 완료...')\n",
    "    \n",
    "    pos_gi = positive + pos_si\n",
    "    neg_gi = negative + neg_si\n",
    "    \n",
    "    \n",
    "    for index, ud in enumerate(df['ud']):\n",
    "        if ud == 1: # positive?\n",
    "            for i in df['Contents_input'][index]:\n",
    "                if (i in pos_gi) and (i in neg_gi):\n",
    "                    # 10개의 유사한 단어에서 positive가 5 이상이면 positive로 판단\n",
    "                    S_word = [j[0] for j in ko_model.wv.similar_by_word(i, 10)]\n",
    "                    word_num = 0\n",
    "                    for word in S_word:\n",
    "                        if word in pos_gi:\n",
    "                            word_num += 1\n",
    "                        if word_num >= 5:\n",
    "                            pos_gi.append(i)\n",
    "                            break\n",
    "                else:\n",
    "                    pos_gi.append(i)\n",
    "                    \n",
    "        elif ud == -1:\n",
    "            for i in df['Contents_input'][index]:\n",
    "                if (i in pos_gi) and (i in neg_gi):\n",
    "                    # 10개의 유사한 단어에서 negative가 5 이상이면 negative로 판단\n",
    "                    S_word = [j[0] for j in ko_model.wv.similar_by_word(i, 10)]\n",
    "                    word_num = 0\n",
    "                    for word in S_word:\n",
    "                        if word in neg_gi:\n",
    "                            word_num += 1\n",
    "                        if word_num >= 5:\n",
    "                            neg_gi.append(i)\n",
    "                            break\n",
    "                else:\n",
    "                    neg_gi.append(i)      \n",
    "        else:\n",
    "            continue\n",
    "            \n",
    "    print('사전 구축 완료..')\n",
    "    \n",
    "    # 사전 중복 제거\n",
    "    pos_gi = list(set(pos_gi))\n",
    "    neg_gi = list(set(neg_gi))\n",
    "    \n",
    "    # 만들어진 사전으로 점수 도출\n",
    "    df['giro'] = 0\n",
    "    for index, wordList in enumerate(df['Contents_input']):\n",
    "        for word in wordList:\n",
    "            if word in pos_gi:\n",
    "                df['giro'][index] += 1\n",
    "            if word in neg_gi:\n",
    "                df['giro'][index] -= 1\n",
    "    print('새로만든 사전으로 점수 계산 완료')\n",
    "    \n",
    "    return df, pos_gi, neg_gi"
   ]
  },
  {
   "cell_type": "code",
   "execution_count": 41,
   "id": "5cf279a8",
   "metadata": {},
   "outputs": [],
   "source": [
    "def giro_test(df,num = 0):\n",
    "    \n",
    "    df = set_data(df, num)\n",
    "    okt = Okt()\n",
    "    print('okt 실행 완료')\n",
    "    \n",
    "    # 데이터 전처리\n",
    "    # =================== nlp\n",
    "    # 1. 제목, 텍스트 --> 명사, 형용사 추출\n",
    "    # 태그 삭제        \n",
    "    # \\n \\t 삭제\n",
    "    df['text'] = df['text'].str.replace('[\\n|\\t|\\r]','')\n",
    "    df['text'] = df['text'].str.replace('[^a-zA-Z0-9가-힣]','')\n",
    "    print('태그 삭제 완료')\n",
    "    \n",
    "    # 토큰화 및 품사 태깅\n",
    "    df['Contents_input'] = df['text'].apply(lambda x: okt.pos(x, norm=True, stem=True))\n",
    "    print('품사태깅 완료')\n",
    "    \n",
    "    # 명사, 형용사 추출\n",
    "    for i in range(len(df['Contents_input'])):\n",
    "        wordList = []\n",
    "        for j in range(len(df['Contents_input'][i])):\n",
    "            if df['Contents_input'][i][j][1] == 'Noun' or df['Contents_input'][i][j][1] == 'Adjective':\n",
    "                wordList.append(df['Contents_input'][i][j][0])         \n",
    "        df['Contents_input'][i] = wordList\n",
    "    print('명사, 형용사 추출 완료')\n",
    "    \n",
    "    # 2. 불용어 처리\n",
    "    # 불용어 사전 로딩\n",
    "    url = 'https://raw.githubusercontent.com/chaerui7967/stock_predict_news_and_youtube/master/%EA%B0%90%EC%84%B1%EB%B6%84%EC%84%9D/data/stopwords_ver1.txt'\n",
    "    stopwords = list(pd.read_csv(url, header=None)[0])\n",
    "    media = ['매일경제','mkcokr','무단전재및재배포금지','무단전재','재배포금지']\n",
    "    print('불용어 사전 로딩 완료')\n",
    "    \n",
    "    for i in range(len(df['Contents_input'])):\n",
    "        for word in df['Contents_input'][i]:\n",
    "            if word in stopwords:\n",
    "                df['Contents_input'][i].remove(word)\n",
    "            if word in media:\n",
    "                df['Contents_input'][i].remove(word) \n",
    "    print('불용어 처리 완료')\n",
    "    \n",
    "    # 단어길이가 1이하인 단어 제거\n",
    "    for index, wordList in enumerate(df['Contents_input']):\n",
    "        if len(df['Contents_input'][index]) == 0:\n",
    "            continue\n",
    "        for word in wordList:\n",
    "            if len(word) <= 1:\n",
    "                df['Contents_input'][index].remove(word)\n",
    "    print('단어 길이 1이하 단어 제거')\n",
    "    print('test 데이터 전처리 완료')\n",
    "    return df"
   ]
  },
  {
   "cell_type": "code",
   "execution_count": 4,
   "id": "80ea45f9",
   "metadata": {},
   "outputs": [],
   "source": [
    "df = pd.read_csv('./df_매일경제_삼성전자.csv')"
   ]
  },
  {
   "cell_type": "code",
   "execution_count": 5,
   "id": "36e2f420-4167-4c49-9a3d-d0f73f4b6073",
   "metadata": {
    "tags": []
   },
   "outputs": [
    {
     "name": "stdout",
     "output_type": "stream",
     "text": [
      "<class 'pandas.core.frame.DataFrame'>\n",
      "RangeIndex: 15411 entries, 0 to 15410\n",
      "Data columns (total 7 columns):\n",
      " #   Column  Non-Null Count  Dtype \n",
      "---  ------  --------------  ----- \n",
      " 0   st_n    15411 non-null  object\n",
      " 1   st_cd   15411 non-null  int64 \n",
      " 2   news    15411 non-null  object\n",
      " 3   date    15411 non-null  int64 \n",
      " 4   title   15411 non-null  object\n",
      " 5   url     15411 non-null  object\n",
      " 6   text    15411 non-null  object\n",
      "dtypes: int64(2), object(5)\n",
      "memory usage: 842.9+ KB\n"
     ]
    }
   ],
   "source": [
    "df.info()"
   ]
  },
  {
   "cell_type": "code",
   "execution_count": 6,
   "id": "ac42a1f6",
   "metadata": {},
   "outputs": [
    {
     "data": {
      "text/plain": [
       "'\"반도체 핵심소재 日의존도 90%\"…삼성·하이닉스 대형 악재'"
      ]
     },
     "execution_count": 6,
     "metadata": {},
     "output_type": "execute_result"
    }
   ],
   "source": [
    "df['title'][0]"
   ]
  },
  {
   "cell_type": "code",
   "execution_count": 7,
   "id": "2f095f0b-b25e-4064-b904-5c00d7c7aad1",
   "metadata": {},
   "outputs": [
    {
     "data": {
      "text/html": [
       "<div>\n",
       "<style scoped>\n",
       "    .dataframe tbody tr th:only-of-type {\n",
       "        vertical-align: middle;\n",
       "    }\n",
       "\n",
       "    .dataframe tbody tr th {\n",
       "        vertical-align: top;\n",
       "    }\n",
       "\n",
       "    .dataframe thead th {\n",
       "        text-align: right;\n",
       "    }\n",
       "</style>\n",
       "<table border=\"1\" class=\"dataframe\">\n",
       "  <thead>\n",
       "    <tr style=\"text-align: right;\">\n",
       "      <th></th>\n",
       "      <th>st_n</th>\n",
       "      <th>st_cd</th>\n",
       "      <th>news</th>\n",
       "      <th>date</th>\n",
       "      <th>title</th>\n",
       "      <th>url</th>\n",
       "      <th>text</th>\n",
       "    </tr>\n",
       "  </thead>\n",
       "  <tbody>\n",
       "    <tr>\n",
       "      <th>0</th>\n",
       "      <td>삼성전자</td>\n",
       "      <td>5930</td>\n",
       "      <td>매일경제</td>\n",
       "      <td>2019063018</td>\n",
       "      <td>\"반도체 핵심소재 日의존도 90%\"…삼성·하이닉스 대형 악재</td>\n",
       "      <td>http://news.mk.co.kr/newsRead.php?year=2019&amp;no...</td>\n",
       "      <td>\\n\\n\\n\\n▶ 여기를 누르시면 크게 보실 수 있습니다\\n 일본 정부가 반도체와 ...</td>\n",
       "    </tr>\n",
       "    <tr>\n",
       "      <th>1</th>\n",
       "      <td>삼성전자</td>\n",
       "      <td>5930</td>\n",
       "      <td>매일경제</td>\n",
       "      <td>2019063018</td>\n",
       "      <td>화학물질 투명성 높인 삼성전자</td>\n",
       "      <td>http://news.mk.co.kr/newsRead.php?year=2019&amp;no...</td>\n",
       "      <td>삼성전자가 생산 현장에서 사용되는 소재와 화학물질에 대한 투명성을 대폭 강화한 것으...</td>\n",
       "    </tr>\n",
       "    <tr>\n",
       "      <th>2</th>\n",
       "      <td>삼성전자</td>\n",
       "      <td>5930</td>\n",
       "      <td>매일경제</td>\n",
       "      <td>2019062608</td>\n",
       "      <td>삼성전자, 버블워시 탄생 11주년 기념 세탁기 보상판매</td>\n",
       "      <td>http://news.mk.co.kr/newsRead.php?year=2019&amp;no...</td>\n",
       "      <td>\\n\\n\\n[사진 제공 : 삼성전자]\\n삼성전자는 '버블워시' 탄생 11주년을 기념...</td>\n",
       "    </tr>\n",
       "    <tr>\n",
       "      <th>3</th>\n",
       "      <td>삼성전자</td>\n",
       "      <td>5930</td>\n",
       "      <td>매일경제</td>\n",
       "      <td>2019062508</td>\n",
       "      <td>삼성전자, `셰프컬렉션 인덕션` 쿠킹클래스 열어</td>\n",
       "      <td>http://news.mk.co.kr/newsRead.php?year=2019&amp;no...</td>\n",
       "      <td>\\n\\n\\n지난 24일 샘표 우리맛 공간에서 열린 삼성전자 셰프컬렉션 인덕션 쿠킹클...</td>\n",
       "    </tr>\n",
       "    <tr>\n",
       "      <th>4</th>\n",
       "      <td>삼성전자</td>\n",
       "      <td>5930</td>\n",
       "      <td>매일경제</td>\n",
       "      <td>2019062717</td>\n",
       "      <td>삼성전자·기아차 등 31곳…동반성장지수 `최우수`</td>\n",
       "      <td>http://news.mk.co.kr/newsRead.php?year=2019&amp;no...</td>\n",
       "      <td>삼성전자, 기아자동차 등 31개사가 2018년도 동반성장지수 평가에서 '최우수' 등...</td>\n",
       "    </tr>\n",
       "  </tbody>\n",
       "</table>\n",
       "</div>"
      ],
      "text/plain": [
       "   st_n  st_cd  news        date                              title  \\\n",
       "0  삼성전자   5930  매일경제  2019063018  \"반도체 핵심소재 日의존도 90%\"…삼성·하이닉스 대형 악재   \n",
       "1  삼성전자   5930  매일경제  2019063018                   화학물질 투명성 높인 삼성전자   \n",
       "2  삼성전자   5930  매일경제  2019062608     삼성전자, 버블워시 탄생 11주년 기념 세탁기 보상판매   \n",
       "3  삼성전자   5930  매일경제  2019062508         삼성전자, `셰프컬렉션 인덕션` 쿠킹클래스 열어   \n",
       "4  삼성전자   5930  매일경제  2019062717        삼성전자·기아차 등 31곳…동반성장지수 `최우수`   \n",
       "\n",
       "                                                 url  \\\n",
       "0  http://news.mk.co.kr/newsRead.php?year=2019&no...   \n",
       "1  http://news.mk.co.kr/newsRead.php?year=2019&no...   \n",
       "2  http://news.mk.co.kr/newsRead.php?year=2019&no...   \n",
       "3  http://news.mk.co.kr/newsRead.php?year=2019&no...   \n",
       "4  http://news.mk.co.kr/newsRead.php?year=2019&no...   \n",
       "\n",
       "                                                text  \n",
       "0  \\n\\n\\n\\n▶ 여기를 누르시면 크게 보실 수 있습니다\\n 일본 정부가 반도체와 ...  \n",
       "1  삼성전자가 생산 현장에서 사용되는 소재와 화학물질에 대한 투명성을 대폭 강화한 것으...  \n",
       "2  \\n\\n\\n[사진 제공 : 삼성전자]\\n삼성전자는 '버블워시' 탄생 11주년을 기념...  \n",
       "3  \\n\\n\\n지난 24일 샘표 우리맛 공간에서 열린 삼성전자 셰프컬렉션 인덕션 쿠킹클...  \n",
       "4  삼성전자, 기아자동차 등 31개사가 2018년도 동반성장지수 평가에서 '최우수' 등...  "
      ]
     },
     "execution_count": 7,
     "metadata": {},
     "output_type": "execute_result"
    }
   ],
   "source": [
    "df.head()"
   ]
  },
  {
   "cell_type": "code",
   "execution_count": 8,
   "id": "6125502a",
   "metadata": {},
   "outputs": [],
   "source": [
    "# train set\n",
    "prt=df[:100]"
   ]
  },
  {
   "cell_type": "code",
   "execution_count": 9,
   "id": "81bd01a0-2f53-41ee-b994-5603ddcd37ae",
   "metadata": {},
   "outputs": [
    {
     "name": "stdout",
     "output_type": "stream",
     "text": [
      "현재 위치 :  C:\\Users\\j\\stock_predict\\감성분석\n",
      "이동 위치 :  C:\\Users\\j\\stock_predict\\.git\\비공개\n"
     ]
    }
   ],
   "source": [
    "# 로컬에서 할 때\n",
    "# import os\n",
    "# # 모델 크기가 크기 때문에 다른 곳에 저장__git에 커밋되지 않게\n",
    "# print('현재 위치 : ', os.getcwd()) # 현재 디렉토리 위치\n",
    "# os.chdir(\"../.git/비공개\")\n",
    "# print('이동 위치 : ',os.getcwd())"
   ]
  },
  {
   "cell_type": "code",
   "execution_count": 9,
   "id": "fa90e124-d9e1-4a48-8b46-a5dd1838dfb4",
   "metadata": {},
   "outputs": [
    {
     "data": {
      "text/plain": [
       "'cc.ko.300.bin'"
      ]
     },
     "execution_count": 9,
     "metadata": {},
     "output_type": "execute_result"
    }
   ],
   "source": [
    "# 페이스북 한국어 임베딩 모델 다운 --> 1번만 하면 됨\n",
    "import fasttext\n",
    "import fasttext.util\n",
    "fasttext.util.download_model('ko', if_exists='ignore')"
   ]
  },
  {
   "cell_type": "code",
   "execution_count": 10,
   "id": "78f34363-5a26-434e-befc-cfb8decfcb3e",
   "metadata": {},
   "outputs": [],
   "source": [
    "# 미리 모델 로드\n",
    "ko_model = models.fasttext.load_facebook_model('cc.ko.300.bin')"
   ]
  },
  {
   "cell_type": "code",
   "execution_count": 11,
   "id": "8c5b2b2b",
   "metadata": {
    "tags": []
   },
   "outputs": [
    {
     "name": "stdout",
     "output_type": "stream",
     "text": [
      "FastText(vocab=2000000, vector_size=300, alpha=0.025) 모델 로딩 안해도 됨\n"
     ]
    },
    {
     "data": {
      "text/html": [
       "<div>\n",
       "<style scoped>\n",
       "    .dataframe tbody tr th:only-of-type {\n",
       "        vertical-align: middle;\n",
       "    }\n",
       "\n",
       "    .dataframe tbody tr th {\n",
       "        vertical-align: top;\n",
       "    }\n",
       "\n",
       "    .dataframe thead th {\n",
       "        text-align: right;\n",
       "    }\n",
       "</style>\n",
       "<table border=\"1\" class=\"dataframe\">\n",
       "  <thead>\n",
       "    <tr style=\"text-align: right;\">\n",
       "      <th></th>\n",
       "      <th>st_n</th>\n",
       "      <th>st_cd</th>\n",
       "      <th>news</th>\n",
       "      <th>date</th>\n",
       "      <th>title</th>\n",
       "      <th>url</th>\n",
       "      <th>text</th>\n",
       "      <th>date_d</th>\n",
       "      <th>date_h</th>\n",
       "      <th>ud</th>\n",
       "      <th>Contents_input</th>\n",
       "      <th>koself</th>\n",
       "      <th>giro</th>\n",
       "    </tr>\n",
       "  </thead>\n",
       "  <tbody>\n",
       "    <tr>\n",
       "      <th>0</th>\n",
       "      <td>삼성전자</td>\n",
       "      <td>5930</td>\n",
       "      <td>매일경제</td>\n",
       "      <td>2019053114</td>\n",
       "      <td>`장송곡 시위` 삼성일반노조위원장 대법서 집행유예 확정</td>\n",
       "      <td>http://news.mk.co.kr/newsRead.php?year=2019&amp;no...</td>\n",
       "      <td>삼성전자서초사옥앞에서수년간장송곡을트는등집회를열어업무를방해한혐의로재판에넘겨진삼성일반노...</td>\n",
       "      <td>2019-05-31</td>\n",
       "      <td>14</td>\n",
       "      <td>-1</td>\n",
       "      <td>[서초, 사옥, 수년, 장송곡, 집회, 업무, 방해, 혐의, 재판, 삼성, 일반, ...</td>\n",
       "      <td>0</td>\n",
       "      <td>-38</td>\n",
       "    </tr>\n",
       "    <tr>\n",
       "      <th>1</th>\n",
       "      <td>삼성전자</td>\n",
       "      <td>5930</td>\n",
       "      <td>매일경제</td>\n",
       "      <td>2019053108</td>\n",
       "      <td>호암상 시상식 31일 개최…삼성 총수일가 불참할 듯</td>\n",
       "      <td>http://news.mk.co.kr/newsRead.php?year=2019&amp;no...</td>\n",
       "      <td>2013년호암상시상식정홍원당시국무총리이건희삼성회장과부인홍라희여사등이박수치고있다뒤쪽에...</td>\n",
       "      <td>2019-05-31</td>\n",
       "      <td>08</td>\n",
       "      <td>-1</td>\n",
       "      <td>[샌디에이고, 교수, 공학, 오우택, 한국, 과학기술, 연구원, 과학, 연구소장, ...</td>\n",
       "      <td>0</td>\n",
       "      <td>-43</td>\n",
       "    </tr>\n",
       "    <tr>\n",
       "      <th>2</th>\n",
       "      <td>삼성전자</td>\n",
       "      <td>5930</td>\n",
       "      <td>매일경제</td>\n",
       "      <td>2019053109</td>\n",
       "      <td>삼성전자, 런던 랜드마크 `QLED 8K `로 밝히다</td>\n",
       "      <td>http://news.mk.co.kr/newsRead.php?year=2019&amp;no...</td>\n",
       "      <td>사진제공삼성전자삼성전자는최근영국런던의랜드마크로유명한피카딜리서커스전광판에QLED8KT...</td>\n",
       "      <td>2019-05-31</td>\n",
       "      <td>09</td>\n",
       "      <td>-1</td>\n",
       "      <td>[사진, 성전, 성전, 최근, 영국, 런던, 랜드마크, 유명하다, 피카딜리, 서커스...</td>\n",
       "      <td>0</td>\n",
       "      <td>-16</td>\n",
       "    </tr>\n",
       "    <tr>\n",
       "      <th>3</th>\n",
       "      <td>삼성전자</td>\n",
       "      <td>5930</td>\n",
       "      <td>매일경제</td>\n",
       "      <td>2019060214</td>\n",
       "      <td>삼성전자 이재용 \"`180조원 투자·4만명 채용` 흔들림 없이 추진\"</td>\n",
       "      <td>http://news.mk.co.kr/newsRead.php?year=2019&amp;no...</td>\n",
       "      <td>온라인팀삼성전자이재용180조원투자4만명채용흔들림없이추진사진출처연합뉴스삼성전자는이재용...</td>\n",
       "      <td>2019-06-03</td>\n",
       "      <td>14</td>\n",
       "      <td>1</td>\n",
       "      <td>[온라인, 삼성, 이재용, 부회장, 최근, 글로벌, 경제, 상황, 불확실, 성전, ...</td>\n",
       "      <td>1</td>\n",
       "      <td>20</td>\n",
       "    </tr>\n",
       "    <tr>\n",
       "      <th>4</th>\n",
       "      <td>삼성전자</td>\n",
       "      <td>5930</td>\n",
       "      <td>매일경제</td>\n",
       "      <td>2019060309</td>\n",
       "      <td>\"라이프스타일에 최적\"…삼성전자, 新 디자인 PC 3종 출시</td>\n",
       "      <td>http://news.mk.co.kr/newsRead.php?year=2019&amp;no...</td>\n",
       "      <td>삼성노트북7사진제공삼성전자삼성전자가라이프스타일에최적화한새로운디자인PC신제품3종을10...</td>\n",
       "      <td>2019-06-03</td>\n",
       "      <td>09</td>\n",
       "      <td>1</td>\n",
       "      <td>[삼성, 노트북, 사진, 성전, 성전, 라이프스타일, 최적화, 한새, 디자인, 신제...</td>\n",
       "      <td>1</td>\n",
       "      <td>69</td>\n",
       "    </tr>\n",
       "  </tbody>\n",
       "</table>\n",
       "</div>"
      ],
      "text/plain": [
       "   st_n  st_cd  news        date                                   title  \\\n",
       "0  삼성전자   5930  매일경제  2019053114          `장송곡 시위` 삼성일반노조위원장 대법서 집행유예 확정   \n",
       "1  삼성전자   5930  매일경제  2019053108            호암상 시상식 31일 개최…삼성 총수일가 불참할 듯   \n",
       "2  삼성전자   5930  매일경제  2019053109           삼성전자, 런던 랜드마크 `QLED 8K `로 밝히다   \n",
       "3  삼성전자   5930  매일경제  2019060214  삼성전자 이재용 \"`180조원 투자·4만명 채용` 흔들림 없이 추진\"   \n",
       "4  삼성전자   5930  매일경제  2019060309       \"라이프스타일에 최적\"…삼성전자, 新 디자인 PC 3종 출시   \n",
       "\n",
       "                                                 url  \\\n",
       "0  http://news.mk.co.kr/newsRead.php?year=2019&no...   \n",
       "1  http://news.mk.co.kr/newsRead.php?year=2019&no...   \n",
       "2  http://news.mk.co.kr/newsRead.php?year=2019&no...   \n",
       "3  http://news.mk.co.kr/newsRead.php?year=2019&no...   \n",
       "4  http://news.mk.co.kr/newsRead.php?year=2019&no...   \n",
       "\n",
       "                                                text     date_d date_h  ud  \\\n",
       "0  삼성전자서초사옥앞에서수년간장송곡을트는등집회를열어업무를방해한혐의로재판에넘겨진삼성일반노... 2019-05-31     14  -1   \n",
       "1  2013년호암상시상식정홍원당시국무총리이건희삼성회장과부인홍라희여사등이박수치고있다뒤쪽에... 2019-05-31     08  -1   \n",
       "2  사진제공삼성전자삼성전자는최근영국런던의랜드마크로유명한피카딜리서커스전광판에QLED8KT... 2019-05-31     09  -1   \n",
       "3  온라인팀삼성전자이재용180조원투자4만명채용흔들림없이추진사진출처연합뉴스삼성전자는이재용... 2019-06-03     14   1   \n",
       "4  삼성노트북7사진제공삼성전자삼성전자가라이프스타일에최적화한새로운디자인PC신제품3종을10... 2019-06-03     09   1   \n",
       "\n",
       "                                      Contents_input  koself  giro  \n",
       "0  [서초, 사옥, 수년, 장송곡, 집회, 업무, 방해, 혐의, 재판, 삼성, 일반, ...       0   -38  \n",
       "1  [샌디에이고, 교수, 공학, 오우택, 한국, 과학기술, 연구원, 과학, 연구소장, ...       0   -43  \n",
       "2  [사진, 성전, 성전, 최근, 영국, 런던, 랜드마크, 유명하다, 피카딜리, 서커스...       0   -16  \n",
       "3  [온라인, 삼성, 이재용, 부회장, 최근, 글로벌, 경제, 상황, 불확실, 성전, ...       1    20  \n",
       "4  [삼성, 노트북, 사진, 성전, 성전, 라이프스타일, 최적화, 한새, 디자인, 신제...       1    69  "
      ]
     },
     "execution_count": 11,
     "metadata": {},
     "output_type": "execute_result"
    }
   ],
   "source": [
    "pred, pos_gi, neg_gi = giro_dic(prt)\n",
    "pred.head()"
   ]
  },
  {
   "cell_type": "code",
   "execution_count": 12,
   "id": "2f4840d8-5e01-4f0b-a678-d180fa225e65",
   "metadata": {},
   "outputs": [],
   "source": [
    "# os.chdir(\"C:/Users/j/stock_predict/감성분석\")\n",
    "# print('이동 위치 : ',os.getcwd())"
   ]
  },
  {
   "cell_type": "code",
   "execution_count": 18,
   "id": "dde85dcd",
   "metadata": {},
   "outputs": [],
   "source": [
    "pos_txt = ','.join(pos_gi).replace(',','\\n')\n",
    "neg_txt = ','.join(neg_gi).replace(',','\\n')"
   ]
  },
  {
   "cell_type": "code",
   "execution_count": 20,
   "id": "03e7e5a9-f371-4d51-9008-0478eb89d606",
   "metadata": {},
   "outputs": [],
   "source": [
    "# 결과 저장\n",
    "\n",
    "pred.to_csv('pred.csv', index=False)\n",
    "\n",
    "with open('./pos.txt','w') as f:\n",
    "    f.write(pos_txt)\n",
    "with open('./neg.txt', 'w') as f:\n",
    "    f.write(neg_txt)"
   ]
  },
  {
   "cell_type": "markdown",
   "id": "532ab715",
   "metadata": {},
   "source": [
    "#### train --> ud 정확도 판단"
   ]
  },
  {
   "cell_type": "code",
   "execution_count": 21,
   "id": "fcc50707",
   "metadata": {},
   "outputs": [
    {
     "data": {
      "text/plain": [
       "(2868, 1755)"
      ]
     },
     "execution_count": 21,
     "metadata": {},
     "output_type": "execute_result"
    }
   ],
   "source": [
    "# 구축된 사전 단어 수\n",
    "len(pos_gi), len(neg_gi)"
   ]
  },
  {
   "cell_type": "code",
   "execution_count": 22,
   "id": "ca9fb5c3",
   "metadata": {},
   "outputs": [
    {
     "data": {
      "text/plain": [
       "0.3"
      ]
     },
     "execution_count": 22,
     "metadata": {},
     "output_type": "execute_result"
    }
   ],
   "source": [
    "(len(pred[(pred.koself > 0) & (pred.ud > 0)])+len(pred[(pred.koself < 0) & (pred.ud < 0)])) / (len(pred[pred.ud > 0])+len(pred[pred.ud < 0]))"
   ]
  },
  {
   "cell_type": "code",
   "execution_count": 25,
   "id": "07141d2d",
   "metadata": {},
   "outputs": [
    {
     "data": {
      "text/plain": [
       "1.0"
      ]
     },
     "execution_count": 25,
     "metadata": {},
     "output_type": "execute_result"
    }
   ],
   "source": [
    "(len(pred[(pred.giro > 0) & (pred.ud > 0)]) + len(pred[(pred.giro < 0) & (pred.ud <0)])) / (len(pred[pred.ud > 0])+len(pred[pred.ud < 0]))"
   ]
  },
  {
   "cell_type": "markdown",
   "id": "469c8d51-e0e9-42f6-a853-8f0da2cbd47c",
   "metadata": {},
   "source": [
    "#### test --> 정확도 판단"
   ]
  },
  {
   "cell_type": "code",
   "execution_count": 42,
   "id": "f5d14d42",
   "metadata": {},
   "outputs": [],
   "source": [
    "test = df[12000:]"
   ]
  },
  {
   "cell_type": "code",
   "execution_count": 43,
   "id": "fd8e9d39",
   "metadata": {},
   "outputs": [
    {
     "name": "stdout",
     "output_type": "stream",
     "text": [
      "okt 실행 완료\n",
      "태그 삭제 완료\n",
      "품사태깅 완료\n",
      "명사, 형용사 추출 완료\n",
      "불용어 사전 로딩 완료\n",
      "불용어 처리 완료\n",
      "단어 길이 1이하 단어 제거\n",
      "test 데이터 전처리 완료\n"
     ]
    },
    {
     "data": {
      "text/html": [
       "<div>\n",
       "<style scoped>\n",
       "    .dataframe tbody tr th:only-of-type {\n",
       "        vertical-align: middle;\n",
       "    }\n",
       "\n",
       "    .dataframe tbody tr th {\n",
       "        vertical-align: top;\n",
       "    }\n",
       "\n",
       "    .dataframe thead th {\n",
       "        text-align: right;\n",
       "    }\n",
       "</style>\n",
       "<table border=\"1\" class=\"dataframe\">\n",
       "  <thead>\n",
       "    <tr style=\"text-align: right;\">\n",
       "      <th></th>\n",
       "      <th>st_n</th>\n",
       "      <th>st_cd</th>\n",
       "      <th>news</th>\n",
       "      <th>date</th>\n",
       "      <th>title</th>\n",
       "      <th>url</th>\n",
       "      <th>text</th>\n",
       "      <th>date_d</th>\n",
       "      <th>date_h</th>\n",
       "      <th>ud</th>\n",
       "      <th>Contents_input</th>\n",
       "    </tr>\n",
       "  </thead>\n",
       "  <tbody>\n",
       "    <tr>\n",
       "      <th>0</th>\n",
       "      <td>삼성전자</td>\n",
       "      <td>5930</td>\n",
       "      <td>매일경제</td>\n",
       "      <td>2018010106</td>\n",
       "      <td>미디어 세상을 접수한 유튜브를 파헤치다</td>\n",
       "      <td>http://premium.mk.co.kr/view.php?no=21031</td>\n",
       "      <td>경제경영BookCafe블루오션시프트김위찬르네마보안비즈니스북스블루오션전략이후12년4차...</td>\n",
       "      <td>2018-01-02</td>\n",
       "      <td>06</td>\n",
       "      <td>1</td>\n",
       "      <td>[경제, 경영, 블루, 오션, 시프트, 김위찬, 네마, 보안, 비즈니스, 북스, 블...</td>\n",
       "    </tr>\n",
       "    <tr>\n",
       "      <th>1</th>\n",
       "      <td>삼성전자</td>\n",
       "      <td>5930</td>\n",
       "      <td>매일경제</td>\n",
       "      <td>2018010117</td>\n",
       "      <td>기반산업 따라 희비 갈린 부동산</td>\n",
       "      <td>http://news.mk.co.kr/newsRead.php?year=2018&amp;no...</td>\n",
       "      <td>한때미분양의늪으로통하던경기도파주시부동산시장이달라지고있다지난해6월분양한파주문산역동문굿...</td>\n",
       "      <td>2018-01-02</td>\n",
       "      <td>17</td>\n",
       "      <td>1</td>\n",
       "      <td>[미분, 통, 경기도, 파주시, 부동산, 시장, 지난해, 여명, 수도권, 광역급행,...</td>\n",
       "    </tr>\n",
       "    <tr>\n",
       "      <th>2</th>\n",
       "      <td>삼성전자</td>\n",
       "      <td>5930</td>\n",
       "      <td>매일경제</td>\n",
       "      <td>2018010100</td>\n",
       "      <td>동원산업·휠라코리아 \"생큐 트럼프\"</td>\n",
       "      <td>http://news.mk.co.kr/newsRead.php?year=2018&amp;no=30</td>\n",
       "      <td>2018법인세인하수혜올해1월부터법인세인하를골자로한미국세제개혁법안이현실화하면서국내증시...</td>\n",
       "      <td>2018-01-02</td>\n",
       "      <td>00</td>\n",
       "      <td>1</td>\n",
       "      <td>[법인세, 인하, 수혜, 올해, 법인, 세율, 대폭, 핵심, 국외, 자금, 자국, ...</td>\n",
       "    </tr>\n",
       "    <tr>\n",
       "      <th>3</th>\n",
       "      <td>삼성전자</td>\n",
       "      <td>5930</td>\n",
       "      <td>매일경제</td>\n",
       "      <td>2018010104</td>\n",
       "      <td>[2018 국내 업종별 전망] 반도체, D램 독주 계속…`반도체 정점론` 부담</td>\n",
       "      <td>http://news.mk.co.kr/newsRead.php?year=2018&amp;no...</td>\n",
       "      <td>인공지능AI사물인터넷IoT등4차산업혁명수요폭발에따른슈퍼사이클로한국경제의효자역할을톡톡...</td>\n",
       "      <td>2018-01-02</td>\n",
       "      <td>04</td>\n",
       "      <td>1</td>\n",
       "      <td>[인공, 지능, 사물인터넷, 산업혁명, 수요, 폭발, 슈퍼, 사이클, 국경, 제의,...</td>\n",
       "    </tr>\n",
       "    <tr>\n",
       "      <th>4</th>\n",
       "      <td>삼성전자</td>\n",
       "      <td>5930</td>\n",
       "      <td>매일경제</td>\n",
       "      <td>2018010104</td>\n",
       "      <td>[2018 경제기상도] `1월효과` 기대 커진 증시…반도체·바이오株 계속 달릴듯</td>\n",
       "      <td>http://news.mk.co.kr/newsRead.php?year=2018&amp;no...</td>\n",
       "      <td>지난해연말조정장세는올해초코스피와코스닥시장1월효과의기폭제가될전망이다상장사들의탄탄한실적...</td>\n",
       "      <td>2018-01-02</td>\n",
       "      <td>04</td>\n",
       "      <td>1</td>\n",
       "      <td>[지난해, 연말, 정장, 해초, 코스피, 코스닥시장, 돌파, 코스닥, 하이닉스, 정...</td>\n",
       "    </tr>\n",
       "    <tr>\n",
       "      <th>...</th>\n",
       "      <td>...</td>\n",
       "      <td>...</td>\n",
       "      <td>...</td>\n",
       "      <td>...</td>\n",
       "      <td>...</td>\n",
       "      <td>...</td>\n",
       "      <td>...</td>\n",
       "      <td>...</td>\n",
       "      <td>...</td>\n",
       "      <td>...</td>\n",
       "      <td>...</td>\n",
       "    </tr>\n",
       "    <tr>\n",
       "      <th>3406</th>\n",
       "      <td>삼성전자</td>\n",
       "      <td>5930</td>\n",
       "      <td>매일경제</td>\n",
       "      <td>2021091216</td>\n",
       "      <td>세계 최대 삼성전자 프리미엄 가전 매장 통했다…10년만에 신규 백화점 갤러리아 광교...</td>\n",
       "      <td>http://news.mk.co.kr/newsRead.php?no=879535&amp;ye...</td>\n",
       "      <td>갤러리아광교에자리잡은삼성프리미엄스토어내부모습사진제공갤러리아지난해3월갤러리아가10년만...</td>\n",
       "      <td>2021-09-13</td>\n",
       "      <td>16</td>\n",
       "      <td>1</td>\n",
       "      <td>[갤러리아, 광교, 자리, 삼성, 프리미엄, 스토어, 내부, 모습, 사진, 제공, ...</td>\n",
       "    </tr>\n",
       "    <tr>\n",
       "      <th>3407</th>\n",
       "      <td>삼성전자</td>\n",
       "      <td>5930</td>\n",
       "      <td>매일경제</td>\n",
       "      <td>2021091214</td>\n",
       "      <td>\"10만원에 페이스북 아마존 애플 넷플릭스 구글 다 살 수 있다?\"</td>\n",
       "      <td>http://news.mk.co.kr/newsRead.php?no=878988&amp;ye...</td>\n",
       "      <td>고가주식쪼개서매매아마존알파벳LG생활건강등주당100만원이훌쩍넘는고가우량주를커피한잔값에...</td>\n",
       "      <td>2021-09-13</td>\n",
       "      <td>14</td>\n",
       "      <td>1</td>\n",
       "      <td>[가주, 매매, 아마존, 알파벳, 생활, 건강, 등주, 대의, 주식시장, 참여, 대...</td>\n",
       "    </tr>\n",
       "    <tr>\n",
       "      <th>3408</th>\n",
       "      <td>삼성전자</td>\n",
       "      <td>5930</td>\n",
       "      <td>매일경제</td>\n",
       "      <td>2021091206</td>\n",
       "      <td>펜트하우스 천서진 물로 씻은 그 폰, 갤Z플립3 수심 3m 수영장에 빠트렸더니…</td>\n",
       "      <td>http://news.mk.co.kr/newsRead.php?no=878229&amp;ye...</td>\n",
       "      <td>천서진이피묻은갤럭시Z플립3를물로씻고작동하는모습사진출처유튜브캡처드라마펜트하우스3주인공...</td>\n",
       "      <td>2021-09-13</td>\n",
       "      <td>06</td>\n",
       "      <td>1</td>\n",
       "      <td>[서진, 갤럭시, 플립, 를물, 작동, 모습, 사진, 출처, 유튜브, 캡처, 드라마...</td>\n",
       "    </tr>\n",
       "    <tr>\n",
       "      <th>3409</th>\n",
       "      <td>삼성전자</td>\n",
       "      <td>5930</td>\n",
       "      <td>매일경제</td>\n",
       "      <td>2021091217</td>\n",
       "      <td>[부음] 최영자씨 별세 외</td>\n",
       "      <td>http://news.mk.co.kr/newsRead.php?no=879709&amp;ye...</td>\n",
       "      <td>최영자씨별세윤종덕삼성전자커뮤니케이션팀전무윤종수LG생활건강HDBSCM팀장윤은주씨모친상...</td>\n",
       "      <td>2021-09-13</td>\n",
       "      <td>17</td>\n",
       "      <td>1</td>\n",
       "      <td>[최영자, 윤종덕, 성전, 커뮤니케이션, 전무, 윤종수, 생활, 건강, 윤은주, 모...</td>\n",
       "    </tr>\n",
       "    <tr>\n",
       "      <th>3410</th>\n",
       "      <td>삼성전자</td>\n",
       "      <td>5930</td>\n",
       "      <td>매일경제</td>\n",
       "      <td>2021091210</td>\n",
       "      <td>600만 삼성전자 주주 속앓이…한달째 '7만전자' 언제 오를까?</td>\n",
       "      <td>http://news.mk.co.kr/newsRead.php?no=878521&amp;ye...</td>\n",
       "      <td>10일서울중구하나은행본점딜링룸사진출처연합뉴스한달째7만원선을유지중인삼성전자주가에600...</td>\n",
       "      <td>2021-09-13</td>\n",
       "      <td>10</td>\n",
       "      <td>1</td>\n",
       "      <td>[거래, 거래, 일간, 성전, 기관, 투자자, 이이, 매수, 외국인, 도세, 외국인...</td>\n",
       "    </tr>\n",
       "  </tbody>\n",
       "</table>\n",
       "<p>3411 rows × 11 columns</p>\n",
       "</div>"
      ],
      "text/plain": [
       "      st_n  st_cd  news        date  \\\n",
       "0     삼성전자   5930  매일경제  2018010106   \n",
       "1     삼성전자   5930  매일경제  2018010117   \n",
       "2     삼성전자   5930  매일경제  2018010100   \n",
       "3     삼성전자   5930  매일경제  2018010104   \n",
       "4     삼성전자   5930  매일경제  2018010104   \n",
       "...    ...    ...   ...         ...   \n",
       "3406  삼성전자   5930  매일경제  2021091216   \n",
       "3407  삼성전자   5930  매일경제  2021091214   \n",
       "3408  삼성전자   5930  매일경제  2021091206   \n",
       "3409  삼성전자   5930  매일경제  2021091217   \n",
       "3410  삼성전자   5930  매일경제  2021091210   \n",
       "\n",
       "                                                  title  \\\n",
       "0                                 미디어 세상을 접수한 유튜브를 파헤치다   \n",
       "1                                     기반산업 따라 희비 갈린 부동산   \n",
       "2                                   동원산업·휠라코리아 \"생큐 트럼프\"   \n",
       "3           [2018 국내 업종별 전망] 반도체, D램 독주 계속…`반도체 정점론` 부담   \n",
       "4          [2018 경제기상도] `1월효과` 기대 커진 증시…반도체·바이오株 계속 달릴듯   \n",
       "...                                                 ...   \n",
       "3406  세계 최대 삼성전자 프리미엄 가전 매장 통했다…10년만에 신규 백화점 갤러리아 광교...   \n",
       "3407              \"10만원에 페이스북 아마존 애플 넷플릭스 구글 다 살 수 있다?\"   \n",
       "3408       펜트하우스 천서진 물로 씻은 그 폰, 갤Z플립3 수심 3m 수영장에 빠트렸더니…   \n",
       "3409                                     [부음] 최영자씨 별세 외   \n",
       "3410                600만 삼성전자 주주 속앓이…한달째 '7만전자' 언제 오를까?   \n",
       "\n",
       "                                                    url  \\\n",
       "0             http://premium.mk.co.kr/view.php?no=21031   \n",
       "1     http://news.mk.co.kr/newsRead.php?year=2018&no...   \n",
       "2     http://news.mk.co.kr/newsRead.php?year=2018&no=30   \n",
       "3     http://news.mk.co.kr/newsRead.php?year=2018&no...   \n",
       "4     http://news.mk.co.kr/newsRead.php?year=2018&no...   \n",
       "...                                                 ...   \n",
       "3406  http://news.mk.co.kr/newsRead.php?no=879535&ye...   \n",
       "3407  http://news.mk.co.kr/newsRead.php?no=878988&ye...   \n",
       "3408  http://news.mk.co.kr/newsRead.php?no=878229&ye...   \n",
       "3409  http://news.mk.co.kr/newsRead.php?no=879709&ye...   \n",
       "3410  http://news.mk.co.kr/newsRead.php?no=878521&ye...   \n",
       "\n",
       "                                                   text     date_d date_h  ud  \\\n",
       "0     경제경영BookCafe블루오션시프트김위찬르네마보안비즈니스북스블루오션전략이후12년4차... 2018-01-02     06   1   \n",
       "1     한때미분양의늪으로통하던경기도파주시부동산시장이달라지고있다지난해6월분양한파주문산역동문굿... 2018-01-02     17   1   \n",
       "2     2018법인세인하수혜올해1월부터법인세인하를골자로한미국세제개혁법안이현실화하면서국내증시... 2018-01-02     00   1   \n",
       "3     인공지능AI사물인터넷IoT등4차산업혁명수요폭발에따른슈퍼사이클로한국경제의효자역할을톡톡... 2018-01-02     04   1   \n",
       "4     지난해연말조정장세는올해초코스피와코스닥시장1월효과의기폭제가될전망이다상장사들의탄탄한실적... 2018-01-02     04   1   \n",
       "...                                                 ...        ...    ...  ..   \n",
       "3406  갤러리아광교에자리잡은삼성프리미엄스토어내부모습사진제공갤러리아지난해3월갤러리아가10년만... 2021-09-13     16   1   \n",
       "3407  고가주식쪼개서매매아마존알파벳LG생활건강등주당100만원이훌쩍넘는고가우량주를커피한잔값에... 2021-09-13     14   1   \n",
       "3408  천서진이피묻은갤럭시Z플립3를물로씻고작동하는모습사진출처유튜브캡처드라마펜트하우스3주인공... 2021-09-13     06   1   \n",
       "3409  최영자씨별세윤종덕삼성전자커뮤니케이션팀전무윤종수LG생활건강HDBSCM팀장윤은주씨모친상... 2021-09-13     17   1   \n",
       "3410  10일서울중구하나은행본점딜링룸사진출처연합뉴스한달째7만원선을유지중인삼성전자주가에600... 2021-09-13     10   1   \n",
       "\n",
       "                                         Contents_input  \n",
       "0     [경제, 경영, 블루, 오션, 시프트, 김위찬, 네마, 보안, 비즈니스, 북스, 블...  \n",
       "1     [미분, 통, 경기도, 파주시, 부동산, 시장, 지난해, 여명, 수도권, 광역급행,...  \n",
       "2     [법인세, 인하, 수혜, 올해, 법인, 세율, 대폭, 핵심, 국외, 자금, 자국, ...  \n",
       "3     [인공, 지능, 사물인터넷, 산업혁명, 수요, 폭발, 슈퍼, 사이클, 국경, 제의,...  \n",
       "4     [지난해, 연말, 정장, 해초, 코스피, 코스닥시장, 돌파, 코스닥, 하이닉스, 정...  \n",
       "...                                                 ...  \n",
       "3406  [갤러리아, 광교, 자리, 삼성, 프리미엄, 스토어, 내부, 모습, 사진, 제공, ...  \n",
       "3407  [가주, 매매, 아마존, 알파벳, 생활, 건강, 등주, 대의, 주식시장, 참여, 대...  \n",
       "3408  [서진, 갤럭시, 플립, 를물, 작동, 모습, 사진, 출처, 유튜브, 캡처, 드라마...  \n",
       "3409  [최영자, 윤종덕, 성전, 커뮤니케이션, 전무, 윤종수, 생활, 건강, 윤은주, 모...  \n",
       "3410  [거래, 거래, 일간, 성전, 기관, 투자자, 이이, 매수, 외국인, 도세, 외국인...  \n",
       "\n",
       "[3411 rows x 11 columns]"
      ]
     },
     "execution_count": 43,
     "metadata": {},
     "output_type": "execute_result"
    }
   ],
   "source": [
    "giro_test(test)"
   ]
  },
  {
   "cell_type": "code",
   "execution_count": null,
   "id": "12cf4e81",
   "metadata": {},
   "outputs": [
    {
     "name": "stdout",
     "output_type": "stream",
     "text": [
      "okt 실행 완료\n",
      "태그 삭제 완료\n"
     ]
    }
   ],
   "source": [
    "test = giro_test(test)"
   ]
  },
  {
   "cell_type": "code",
   "execution_count": null,
   "id": "81dfa7e3-a5af-4f72-99a6-39f7314bee1a",
   "metadata": {},
   "outputs": [],
   "source": [
    "test['giro'] = 0\n",
    "for index, wordList in enumerate(df['Contents_input']):\n",
    "    for word in wordList:\n",
    "        if word in pos_gi:\n",
    "            test['giro'][index] += 1\n",
    "        if word in neg_gi:\n",
    "            test['giro'][index] -= 1"
   ]
  },
  {
   "cell_type": "code",
   "execution_count": null,
   "id": "2b74889e",
   "metadata": {},
   "outputs": [],
   "source": [
    "test"
   ]
  },
  {
   "cell_type": "code",
   "execution_count": null,
   "id": "7eb3c106-6f4d-466c-90ae-13b0be7837b4",
   "metadata": {},
   "outputs": [],
   "source": [
    "len(test[(test.giro > 0) & (test.ud > 0)])/len(test[test.ud > 0])"
   ]
  },
  {
   "cell_type": "code",
   "execution_count": null,
   "id": "fa95f22d-2904-4759-bf75-e42d4ca8d4e0",
   "metadata": {},
   "outputs": [],
   "source": []
  },
  {
   "cell_type": "markdown",
   "id": "49ff568d",
   "metadata": {},
   "source": [
    "## ---------------- db----------------"
   ]
  },
  {
   "cell_type": "code",
   "execution_count": null,
   "id": "3d91b695",
   "metadata": {},
   "outputs": [],
   "source": [
    "import pymysql\n",
    "import pandas\n",
    "\n",
    "db = pymysql.connect(\n",
    "    user='root', \n",
    "    passwd='1234', \n",
    "    host='3.35.70.166', \n",
    "    db='proj', \n",
    "    charset = 'utf8'\n",
    ")\n",
    "\n",
    "cursor = db.cursor(pymysql.cursors.DictCursor)\n",
    "\n",
    "sql = \"select * from news_craw_005930 where length(date) = 10\"  # date 널값 제외\n",
    "cursor.execute(sql)\n",
    "\n",
    "result = cursor.fetchall()\n",
    "\n",
    "# 데이터 프레임으로 변경\n",
    "df = pandas.DataFrame(result)"
   ]
  },
  {
   "cell_type": "markdown",
   "id": "df1c6c3a",
   "metadata": {},
   "source": [
    "### ------------- ver2 실습 -----------------"
   ]
  },
  {
   "cell_type": "code",
   "execution_count": null,
   "id": "3ef255c0",
   "metadata": {},
   "outputs": [],
   "source": []
  },
  {
   "cell_type": "code",
   "execution_count": null,
   "id": "60cbda07",
   "metadata": {},
   "outputs": [],
   "source": []
  },
  {
   "cell_type": "code",
   "execution_count": null,
   "id": "e85f7f16",
   "metadata": {},
   "outputs": [],
   "source": []
  },
  {
   "cell_type": "markdown",
   "id": "b0b93e48",
   "metadata": {},
   "source": [
    "## --------------------실습 ----------------------"
   ]
  },
  {
   "cell_type": "markdown",
   "id": "c13c51e3",
   "metadata": {},
   "source": [
    "## 함수 실습 _ ver1"
   ]
  },
  {
   "cell_type": "code",
   "execution_count": null,
   "id": "d8f0979d",
   "metadata": {
    "scrolled": true
   },
   "outputs": [],
   "source": [
    "df_a, pos_cnt, nega_cnt, positive_r, negative_r =  giro_dic(df, 5930)"
   ]
  },
  {
   "cell_type": "code",
   "execution_count": null,
   "id": "0a317413",
   "metadata": {},
   "outputs": [],
   "source": [
    "df_a"
   ]
  },
  {
   "cell_type": "markdown",
   "id": "6229378b",
   "metadata": {},
   "source": [
    "## 실습 1"
   ]
  },
  {
   "cell_type": "code",
   "execution_count": null,
   "id": "13f5123c",
   "metadata": {
    "scrolled": true
   },
   "outputs": [],
   "source": [
    "df.head(1)"
   ]
  },
  {
   "cell_type": "code",
   "execution_count": null,
   "id": "d9a19647",
   "metadata": {},
   "outputs": [],
   "source": [
    "df['text'].str.replace('[\\n|\\t]','')"
   ]
  },
  {
   "cell_type": "code",
   "execution_count": null,
   "id": "5bd704a7",
   "metadata": {},
   "outputs": [],
   "source": []
  },
  {
   "cell_type": "code",
   "execution_count": null,
   "id": "a6e1f1f1",
   "metadata": {},
   "outputs": [],
   "source": []
  },
  {
   "cell_type": "code",
   "execution_count": null,
   "id": "3d22402f",
   "metadata": {},
   "outputs": [],
   "source": []
  },
  {
   "cell_type": "code",
   "execution_count": null,
   "id": "9a5d23e9",
   "metadata": {},
   "outputs": [],
   "source": [
    "# pip install xlrd\n",
    "# !pip install openpyxl"
   ]
  },
  {
   "cell_type": "code",
   "execution_count": null,
   "id": "1c464859",
   "metadata": {
    "scrolled": true
   },
   "outputs": [],
   "source": [
    "df_hundai = pd.read_excel('./news_craw_hyundai.xlsx', engine = 'openpyxl')"
   ]
  },
  {
   "cell_type": "code",
   "execution_count": null,
   "id": "37875b87",
   "metadata": {},
   "outputs": [],
   "source": [
    "df_hundai = df_hundai.dropna()"
   ]
  },
  {
   "cell_type": "code",
   "execution_count": null,
   "id": "9abc0563",
   "metadata": {},
   "outputs": [],
   "source": [
    "df_hundai['date'] = df_hundai['date'].astype(int)"
   ]
  },
  {
   "cell_type": "code",
   "execution_count": null,
   "id": "3e8c4f6b",
   "metadata": {},
   "outputs": [],
   "source": [
    "df_hundai.head()"
   ]
  },
  {
   "cell_type": "code",
   "execution_count": null,
   "id": "c32b3c56",
   "metadata": {},
   "outputs": [],
   "source": [
    "df_hundai.drop('Unnamed: 0',1, inplace= True)"
   ]
  },
  {
   "cell_type": "code",
   "execution_count": null,
   "id": "77d292ab",
   "metadata": {},
   "outputs": [],
   "source": [
    "df_hundai.columns = ['st_n', 'st_cd', 'news', 'n_date', 'title', 'url', 'text']"
   ]
  },
  {
   "cell_type": "code",
   "execution_count": null,
   "id": "a4ea95a1",
   "metadata": {},
   "outputs": [],
   "source": [
    "df_hundai.head(1)"
   ]
  },
  {
   "cell_type": "code",
   "execution_count": null,
   "id": "fa8f8fcc",
   "metadata": {},
   "outputs": [],
   "source": []
  },
  {
   "cell_type": "code",
   "execution_count": null,
   "id": "ccc5af11",
   "metadata": {},
   "outputs": [],
   "source": [
    "df_a.head()"
   ]
  },
  {
   "cell_type": "code",
   "execution_count": null,
   "id": "d5526740",
   "metadata": {},
   "outputs": [],
   "source": [
    "pos_cnt"
   ]
  },
  {
   "cell_type": "code",
   "execution_count": null,
   "id": "8029cd8b",
   "metadata": {},
   "outputs": [],
   "source": [
    "nega_cnt"
   ]
  },
  {
   "cell_type": "code",
   "execution_count": null,
   "id": "1899248f",
   "metadata": {},
   "outputs": [],
   "source": [
    "positive_r"
   ]
  },
  {
   "cell_type": "code",
   "execution_count": null,
   "id": "2ac8fefd",
   "metadata": {},
   "outputs": [],
   "source": [
    "negative_r"
   ]
  },
  {
   "cell_type": "code",
   "execution_count": null,
   "id": "fe81085d",
   "metadata": {},
   "outputs": [],
   "source": []
  }
 ],
 "metadata": {
  "kernelspec": {
   "display_name": "Python 3",
   "language": "python",
   "name": "python3"
  },
  "language_info": {
   "codemirror_mode": {
    "name": "ipython",
    "version": 3
   },
   "file_extension": ".py",
   "mimetype": "text/x-python",
   "name": "python",
   "nbconvert_exporter": "python",
   "pygments_lexer": "ipython3",
   "version": "3.6.9"
  }
 },
 "nbformat": 4,
 "nbformat_minor": 5
}
