{
 "cells": [
  {
   "cell_type": "code",
   "execution_count": 1,
   "id": "65185a59-d8a9-4eb6-8461-536f5b6abfde",
   "metadata": {},
   "outputs": [
    {
     "name": "stdout",
     "output_type": "stream",
     "text": [
      "C:\\Users\\j\\stock_predict\\감성분석\n"
     ]
    }
   ],
   "source": [
    "import os\n",
    "# 모델 크기가 크기 때문에 다른 곳에 저장__git에 커밋되지 않게\n",
    "print(os.getcwd()) # 현재 디렉토리 위치"
   ]
  },
  {
   "cell_type": "code",
   "execution_count": 2,
   "id": "7ab70bfb-eade-4d8f-8b1b-4fc2460c896e",
   "metadata": {},
   "outputs": [],
   "source": [
    "os.chdir(\"../.git/비공개\") # 상대경로로 이동"
   ]
  },
  {
   "cell_type": "code",
   "execution_count": 3,
   "id": "6c34f9a1-e4de-4c6e-86f7-879d74cd99fb",
   "metadata": {},
   "outputs": [
    {
     "name": "stdout",
     "output_type": "stream",
     "text": [
      "C:\\Users\\j\\stock_predict\\.git\\비공개\n"
     ]
    }
   ],
   "source": [
    "print(os.getcwd())"
   ]
  },
  {
   "cell_type": "code",
   "execution_count": 4,
   "id": "0bb731cf-7bd4-435f-b09b-42ff4313db0c",
   "metadata": {},
   "outputs": [],
   "source": [
    "os.chdir(\"C:/Users/j/stock_predict/감성분석\") # 절대 경로로 이동"
   ]
  },
  {
   "cell_type": "code",
   "execution_count": 5,
   "id": "da0de5f5-ad0c-4957-91f7-938b6b26082d",
   "metadata": {},
   "outputs": [
    {
     "name": "stdout",
     "output_type": "stream",
     "text": [
      "C:\\Users\\j\\stock_predict\\감성분석\n"
     ]
    }
   ],
   "source": [
    "print(os.getcwd())"
   ]
  },
  {
   "cell_type": "code",
   "execution_count": null,
   "id": "7ff58afe-72ee-4a92-b887-a2e3fa39645a",
   "metadata": {},
   "outputs": [],
   "source": []
  }
 ],
 "metadata": {
  "kernelspec": {
   "display_name": "Python Multi",
   "language": "python",
   "name": "multi"
  },
  "language_info": {
   "codemirror_mode": {
    "name": "ipython",
    "version": 3
   },
   "file_extension": ".py",
   "mimetype": "text/x-python",
   "name": "python",
   "nbconvert_exporter": "python",
   "pygments_lexer": "ipython3",
   "version": "3.7.6"
  }
 },
 "nbformat": 4,
 "nbformat_minor": 5
}
