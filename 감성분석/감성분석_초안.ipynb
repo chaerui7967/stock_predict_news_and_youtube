{
 "cells": [
  {
   "cell_type": "markdown",
   "metadata": {
    "colab_type": "text",
    "id": "view-in-github"
   },
   "source": [
    "<a href=\"https://colab.research.google.com/github/chaerui7967/stock_predict_news_and_youtube/blob/master/%EA%B0%90%EC%84%B1%EB%B6%84%EC%84%9D_%EC%B4%88%EC%95%88.ipynb\" target=\"_parent\"><img src=\"https://colab.research.google.com/assets/colab-badge.svg\" alt=\"Open In Colab\"/></a>"
   ]
  },
  {
   "cell_type": "markdown",
   "metadata": {
    "id": "J3kbDyPjuaBG"
   },
   "source": [
    "# youtube 감성분석"
   ]
  },
  {
   "cell_type": "markdown",
   "metadata": {
    "id": "tCZdV9e6ufdk"
   },
   "source": [
    "## 파일 로드"
   ]
  },
  {
   "cell_type": "code",
   "execution_count": 1,
   "metadata": {
    "colab": {
     "base_uri": "https://localhost:8080/"
    },
    "id": "UIOI4XYsslbB",
    "outputId": "84d4a972-a74b-499b-e63d-63eec22fbd7f",
    "scrolled": true
   },
   "outputs": [
    {
     "name": "stdout",
     "output_type": "stream",
     "text": [
      "아[음악]wr여러분들 혹시 유튜버 나 스트림 하고싶으십니까유튜브에 스트리머 뭐 아니면 하이트뭐 등등 등등 뭐 웹툰작가 던 모던회사 때로 치고 나와서 뭘 해야지제가 얼마전에 건강검진을 받았는데요지금 차두리 형의 나오더라구요 거기에그 간 때문이야 간 때문이야 너 지금ct 촬영 받고 있습니다 건강조심하시고요 회사 다닐때는 나와서혼자 이런거 하면 되게 편하고 그럴거라고 생각하지만 나오시면 일이 2배줘 ep 2 두 배 벽 왠 차가 이세 배 입니다 3배에 운 없으면 은그 주 80시간 뭐 이렇게 일할 수있어요 조심하셔야 됩니다 조심하세요건강이 나라로 가고 있기 때문에 야이렇게 살면 안 되겠다 그래서안되겠다 고 대학생 들한테 좀물어봤어요 스퀄 도 나 혼자 춤의 팬드니까 너희들은 마이 디어 없냐 고대학생들이 라 그러면은 주무 살에서25 사이죠 물어봤어요 뜬 박스를통해서 혹시 마인이 없냐 모종 내나바라 그랬더니 우리 대학생들이자기들은 얘기하고 싶다 직접 와서모셔놓고 할 수 없으니까 자기들은얘기하고 싶다 라는 주제를보내줬습니다 저 20대의 20살25살 생각은 모르니까 걔들은 이얘기를 처음 봤거든요 보면서 문득해야 했는데 음 여러분도 한번 공감이되던지 벗어 이에게 공감이 되면여러분들의 마음은 대학생 거고요공감이 안 되면 마음이 슈카 인겁니다 자 m 제트 세대의세계관이라는 것이 존재한 야 이게무슨 소리냐 하면 램제트 세대가 늘린2월 제 3 알아 그러잖아요 이게축대 후반 거의 한 16세 에서마우스 투자를 사이인데 왜 뭉뚱그려서한 세대 라고 얘기를 하냐 너희들은md 트 세대의 세계관이 라는게자기가 보기엔 별로 없는데 공통점이없는데 아파트 안아파 아빠다 삼촌인데 40대에서 10 때까지 있는걸왜 이렇게 뭉뚱그려 얘기 아냐 란이런 얘길 하더라구요 그래서 그런가밖에 그런거라 생각이 들어서찾아봤더니 mgx 한 편의 시 탈은게 오늘 거에요 직접적으로 태그 바쓰알겠어 알겠어 비아 델 미안해 내가부르고 난 이집 아이템이 하단 데서봤는데 이 세대를 좀 본거죠 유명한폰 데어 페이 부머 그러면 연령별로짜르면 1 어려우니까 그냥 간단하게들이 러프하게 연령별로 잘라보면60대 70대 줘 네이버 부모들 얘기많이 했던 그 시절 분당 값은 아55년생 형님들이 고 x 3 대해그리며 는 모 43 에서 54 하지만대충 40대 50대 중간 값은 안7인 한새 70년대 초 중반이 중간값이라고 할 수 있구요 밀레니엄세대는 26 에서 42세 니까 30대30에서 애와 딱딱 탈 7년 생을기준으로 다니기 미래엔 유리 라고 할수 있고 제트 세대는 10대의중반에서 20대 03 년생 와 봄3년새 축하 노래 축하 해야되지 해트보트 카 드립니다 18살 정도가 이제중 값이라고 할 수 있는데 알파 3들이 있어요 여기는 뭐 안 3왜냐하면 2010년 이후 태생이 니까예 몇몇 분들은 아직 기저귀를 차고있을 것 같고 몇몇 분들은 책가방105 초등학교 하고 있는 그러나이제 유치원에 그러나 알파 3 인데아직 본격 개 오리 새끼 어느새나니까 조금 더 클라라 조금 더 크며는 평이 달아 줄게 아직은 빼구요 좀더 크면 다루어 주고 그 중간에보면은 열두 살에서 42살 까지 니까이거 갭이 너무 넓은 거 아니냐 게30년 차이가 남 들어 여기 보면세대가 두 개의 6대 70대 아쉽 또입 때문에 우리는 도매 끔 이냐 이거죠 비슷한 끊고 쉽게 자로 빼야지이게 모두 매 꿈을 같이 먹는 건말이 안된다 라는 건데 대학생들의주장입니다 왜 우리를 한 묶음으로분야 기분이 가 놓다 냄새에 대해충분 7살 해서 42살 제트 3대열두 살에서 26살 대학생 분들이니까자기들은 여기죠 아이들은 제트 3텐데 음 제대하고 같이 부르게 기분이안 좋다 이거죠그쵸 야음 세대가 및 열에 대해저어지 아저씨들 하고 나하고 엮어 뭐이런 불만이 왔습니다 쳐다보지 그렇네뭐 그런거 같긴 해요 내가 뭐 20살고 이런데 40 사라고 세대가 같다그러면 좀 이상한거 아니냐 물건 푸마였는데 그래서 요즘엔 인터넷에서도짤로 이거 많이 돌아다니고 요 보면은너의 밀레니엄 3 대해 27세 마운트살 홍림 들의 아이돌은 누구 했냐면87년생 기준으로 10대 당시아이돌이 god 저는 처음 보지만어머님은 짜장면이 싫다고 하셨어 할것 같은 거미 너무 바싹 만들계시네요맞서 밴드 계시고 그 답에 소여시대에도 이런 분들이 줘 소녀시대의요즘 감은 이제 원로 아이돌 취급을받는지 그런 분들인데 나이는 점자워낙 빠르게 대비해서 그렇지 이스트당시 아이돌인데 밀레니엄 세대의기준으론 제트 3대 미수금 이제저한테 요 자료를 보내주신 분이 줘제트 3대 우리한테는 아이들이 그런분이 아니다 우리 10대 때아이돌들은 nct 하십니까 nct형님들의 그 않아 모르는알아보겠습니다 연령대 날 수 있죠맨시티 역시 무릎에 뜨죠 그렇지않았어요 역시 맨시티 아니구요 맨시티나오든 분들은 그 최소한 제트 생은아닙니다 맨시티는 는 애니 흐리거나엑셀 되고 모르죠 역시 역시 역시형들이 야 놀릴 줄 알았어요 즉시 절마지막 88g 모리조 개체 습니다저도 몰랐으니까 그리고 어떻게 아로진짜 솔직한 말로 오직 이거라도 안되지 2분들 물러 훌륭한 분들이고엄청 잘나가는 아이들이고 세계적인그룹이고 우리나라 최고의 인기를 꺾고지금 앨범 250만 장이 팔렸어요마셔야 됩니다 정말 잘 팔려요 예저도 공부하고 아까 얻은 되게 잘팔리는데 우리 모르잖아요 제트 3대해 아이들이랑 거지 s 파의 스파하십니까 그 뭐라 그러지 자기 아이도량으로 안 되고 자기 뭐냐 이거이거 즐길 게 아닌가요 팔찌 그거갖고 나오신 뭐 요즘엔 2010년대비 했고 역시 폭발적인 인기를캐릭터라 그래야 되나 괜히 캐릭터왔고 등장을 하신분들이 조 파괴적인인기를 끌고 있는데 테크로 며 s파고 lct 흔들 좋아하는 우리 제트세대와 지 우리 소녀시대를 좋아하는우리 m 세대를 묶었을 때 즉 4대가기분이 가 나쁘다는 거죠 형님들이 그하시는건 안전 이유를 알 수 있어요왜냐하면 형님들 같은 경우에는 x세대 게시자 x 세대 누구야 물음표말 느껴 온 거 보니까 형님들의아이디어를 죄라도 가보았습니다 아까보여 드렸지만 제트 3대 위해 m 3되고 m 세대 위해 xd 인데 액 3대형 님들이 많이 계시기 때문에형님들의 아이돌1972년생 기준으로 10대 당지어려서 17살에 닿았던 아이돌은 박람지금 선생님들께 박남현 선생님 다아시죠 역시 다 아시네 우리 표를없잖아요 와 크크 하는거 보니까 다시조 그룹 소방차 불거나 질문은아니구요 이 계속 뒤에 백 덤블링하시던 분이 있죠 손 자꾸 뒤로 하며는 2분이 뒤로 쿄 캐서 딱 한개하시던 분이 있고 그래서 다시 자크그 올라가는 겁니까 아떼 스파 웬cts 때는 물음표 지만 박남정선생님 소방차 선생님의 때는 다 왜이렇게 하니까 를 남자 없는 생 님뭐 이거 했던 선생님 아 죄송합니다더 9 자유 화면으로 봤습니다자료화면으로 형님들의 아이돌은 이런분들이 얻는데 자 문제는 저렇게보면은 방 남자선생님 소방차는 되게오래 된거 같고 이 애시 티나의스파는 굉장히 최근 거 같지만 사실은소방차와 god 가 12년 이구요차이가 얼마 안 나요 god 와lgt 가 대비 년도 기준으로17년차 에요 그러면 안 1 여긴 x대로 그러고 역이나 하나로 묶어버리면 당연한 하는 거죠 예이건 이 책에도 뭔데 여기는 뭐그렇고 여기 드냐 c 보엠 제트 3애니까 뭐가 어떻고 처가 좋고 뭐 그최근에 웬디스 에 뭐가 안 됐고 저게안 되고 요즘 젊은 놈들은 말이야그렇게 얘기를 하니까 이게 좀 그렇다는 불만이 접수 했죠 저한테 캐서말씀드리는 건데 책의 17년 27 여훨씬 더 어딜 이다 한마디로 그래서그 미드레이어 그건 뭐냐 그랬더니 딱요렇게 정리해봤습니다 벤 제대와 제트3대 우리글 공감대가 없고 공통점도우리가 보기엔 별로 없는거 같다 둔채 틀을 얘기하는 겁니다 제 얘기하는게 아니라 제트 세대가 이렇게얘기하는 거죠 우리는 공감대가 없고곰 토끼 별로 없는거 같은데 왜하나로 묶어서 어둠의 꿀의 게 아냐하나로 묶지 마라 md 트 3 4 란단어 맘에 들지 않는다 라고 전달 해오셨습니다 저위에 합니다 이해합니다5 소방차 아저씨와 그 지우지차이보다 지오디 시체 차이가 넓다는걸 보면 추미애 됐는데 자 그러면 그왜 mg 3 을 자꾸 묶어서 얘기하는거 아냐 뜬 이렇게 얘기를하시더라구요 아저씨 라고 해야지아저씨들이 왜 묶어서 얘기하는지 우린알 것 같아요 왜 보면 지금우리나라를 이끌어 가고 있는 세대가가장 중심되는 기성세대가 40대50대 nx 되는데 액세스 기준으로형님들 기준으로 보면 유이는 그냥자의 모르겠다 베이브 부모 시대 아빠엄마 시대 아래에는 에이 모르겠다어린애들 같으니까 md 트 3대이렇게 간단하게 나눠서 2분법 하는거아니냐 지금 딱 나눠서 자기는기준으로 위는 그 아빠 엄마 아내는애들 뭐 이렇게 나누다 보니까 그40대 초반에서 10대 열두 살까지무료 내려가는 인물의 30년을커버하는 것을 1세대 로 부르면서이렇게 자기들을 평가하고 있다 이거죠넥센 입장에서는 이렇게 나서서도매금으로 평가 하니까 묶이는 것같은데 굉장히 뭐 다르다 뭐 이런얘기를 하는 것 같습니다 중심적인40도 이 아저씨들이바셀 그냥 리차드 직각 5의 10대거일 때고 비스무리 보이고 자기들이모기의 그러니까 뭉뚱그려서 그냥 그래이제 타고 합세 뭐 이렇게 하는게아니냐 라는 의견을 보내주셨습니다그렇다 십니까 점을 보면서 좀웃었는데 그리고 이런 얘기를하더라구요 조금더 모금 들은 얘기에물 캡 더 솔직히 그렇게 와 닫자지마 각 세대가 겪은 공동의 사건이베이비부머 세대는 새마을운동 렉스세대는 자랑하는 길이 50대 40대말고 50대 아저씨 들의 50대님들은 민주 온도 m 세대 는 imf안좋은건 에요 월드컵 pc 통신 이거익숙하며 는 mz 내재 셀 되는스마트폰 금융위기 r8 되는 5배뭐가 있지 그저 아직은 기적이 #있을수도 있으니까 조금 더 크면 향해다뤄 줄게요 자 그래서 한마디로 젊은세대 제트 3대 10대에서 20대초반 분들이 얘기 하시는 것은 이런얘기를 하더라구요 미래의 셋째는 이제미디어 소비 서다 개인화되고 다 자기뿐만 보는데 저런 공동의 사건이 없을수도 있다 이제는 세대 라는 개념으로묻지 말아달라 라고 얘기를 하는데어제 가제트 3대 분들한테 감히예언을 드리자면 그 여러분들이 자식때가 되면은 확실하게 자기들 아래세대를 무슨 세대라고 할 거에요이렇게 됐어요 사람은 그렇게 돼있어요 샤라 하더라고 달걀 그때 내보면 자기도 그 아래에 이제 그 때는20대 10대 가 있을 거 아니에요그럼 빠이 고철 c 머리 피도 안마른얘기를 들어 야 니들이 말이야 낮게든 마리아 분명히 얘기합니다 그럼서무슨 세대 라고 분명히 엮을 거에요말 파스 되건 o 메가젯 모르겠지만그 세대 라는 개념이 약해지는 건저도 알겠는데 그 때가 되면 언뜻약하게 또 그런 말 합니다 이게 뭐이집트 타경 문자로 도 이 때문에요즘 어린 것들을 흥부 이러면서 그게아마 여러분들도 그때가 되면 은그렇게 되지 않았다 마음에 들지않는다는 거죠 그 아빠들 입장에서보면은 애들도 맘에 안들고 또 자기아빠 할아버지 들도 맘에 안들고의해서 보통 무슨 3대 무슨 3대 예부르고 합니다 그래서 이걸 보면서 그생각을 했어요 여기까지가 제 그분들이제트 세대가 저한테 전해준 되게불만이 얻고 이런 얘기를 해달라스컬지로 그래서 분석을 해봤습니다잠깐만 제가 진행하는 스퀄 d 는구성비가 어떻게 돼 있지 어느 세대가나를 주로 봐줄까 분석을 해 봤어요철저히 무사 김연아 유튜브를 통해서분석을 해 봤는데요 제일 많은게이렇게 치면 은 계산이 잘 안되죠쑥을 뜯어 해봤어요 나이별로 잡 에입어 부머 세대 커컬드 의 분석입니다7% 배합초 할아버지의 분들은 좀보시기 힘든 할아버지보다 아빠 저의아버지 세대는 보기 힘들고 그 앰세대가 65%네 그렇죠저랑 비슷한 냄새 내가 비춰보고 우리말하는게 그 거니까 한마디로 제말하는 기준이 여기 어디서 왓다갓다한다는거죠 아예 밀레니엄 세대좋습니다 그 형이 보 나이에 비해서젊게 산다 이런 얘긴 여러분들 할수있어요 여러분 젊게 살려고 어떻게하면 되냐면 사회로부터 격리된 채로자기만의 세계에 1 10 인형도 빠져있으면 사회에 다시 나왔을 때 젊게나올 수 있습니다 내가 그 여러분되겠지만 게임 하느라고 사회와 격리돼있었잖아요 거의 태 관 수련을했거든요 스토어 같은데 들어 가셨죠치아로 들어가는 수도원 지하 2층pc 방에서 12년 경희 생활을 하고나오니까 신비 장기로 왔어요생각이시면 뒤로 가수 테이는 상황이기때문에 이제 좀 앞으로 나가야 되는데보면은 밀레니엄 세대가 65% 20대중반에서 30대 까지를 65% 라면위에 제트 3대 했어 재치를훌륭합니다 13% 여러 부자 될거에요 정말 감사드립니다 제트 제트세대가 보기에 정말 쉽지 않은 내용이거든요 내용 자체가 재치 3 되면은10대 중반에서 20대 중반 야그런데 20대가 있겠죠 10대 1당연히 거의 없을 거고 개 10대가이런 주제에 관심을 가짐 이상하잖아요10대가 웃음 뭐 경제가 어떻고 웨지소프트웨어들 주가가 빠졌다 는 도무슨 또 기준금리가 인생 했다는 둥일에 관심이 상황 거니까 잭 3대대학교 초년생 들 정말 훌륭한 분이되지 않을까 생각하구요 엑셀밴 임도감사드립니다 감사드리고 조금 더분석을 해 봤어요 혹시 옛날에 제가말씀드렸지만 슈퍼를 내 남성 성비가한창때 99.7% 없거든요 영상으로도있을걸요 내가 인증 한거 믿기지 않는숫자 99.7% 가 남성 비중이없거든요 제가 이거 보면서 진짜 술한잔 하면서 한탄 할 뻔 했는데요즘에는 제가 항상 얘기하지만 은 그엄마 아이들을 해달라 사모님 아이들이좀 해 낼 와이프 id 여친구 id여동생 id 열심히 얘기한 끝에 많이늘었습니다 어 야 근데 87.8%여성이 무려 12.2% 했어요 자 이정도 배는 거의 번 할까옛날 얘기죠 남초 이고 옛날 얘기구요 그 여성들이 좋아하는 그런채널이 됐다 이렇게 충분히 얘기할 수있고요 뭐 12% 나 등장을 한 거조금 정리해 보면 45 세계사형님들에게 는 않았 않는 말이고25세 미만 동생들에게 도별 않았않는 말이고 그 중 단 이 경우 많은뭐 그런건데 이걸 보면 은 이 코미디채널이 이긴한데 금융경제 얘기가 많이나오니까 저 세대가 금일 경제적으로좀 급한 거죠 느낌의 느낌의 금융경제길도 많이 하니까 급하거나 m 세다라고 되어 있는데 이제 막 사회에들어와서 본가 따라가려 보니까 마음이급한 3 대구나 그 급한 분마다 했고달기 등 어 그런데 그랬습니다 올그쵸 급한 번만 아마 있기 때문에이제 급한 채널이 달아 생각이 잠깐들고요 앞으로 더 빨리 빨리 하게따라 생각을 했고 자 그리고 보면은요건은 설문조사가 있더라고 딜로이트에서 글로벌 m 제트 3 애써 베이라는게 있었는데 여기는 내용을 조금갖고 오면 글로벌로 mdt 세대는 세라 글만 되죠 죄송합니다 아트 큰아 여기서 얘기하는 그런 세대는 보며4 향후 2년 내에 경제 상황이 악화될 것인데 서버 인데 글로 버립니다글로벌 전체가 이렇게 올라갔어요2018년에 2021 년 사이에 거의두배가 되었습니다 24% 에서 43%니까 특히 제트 세대보다 밀레니엄세대가 요 1년 2년 3년 간 사이에경제 상황에 대해서 무려 2배가인식이 내려갔어요 스쿨드 의 65%를 차지한 이후 이 거겠죠 딜로이트에서 글로벌하게 설문조사 라콘테 몇만 명을 했다 그럽니다 몇 만 명을여기 밀레니엄 세대 30대가 대충24% 44% 경제 상황이 2배로악화됐고 매매 2 10대 20대 같은경우 낳고 되긴 했는데 그보다 쪼끄만아 되게 악화가 됐죠 자 근데 다행히인건 이글로 버리니까 한국도 있습니다1 년 내에 경제 상의 개선 될까글로벌 전문 분들이 20대 30대들은 그렇게 안 생각한 되요 개선이될 것 같다는게 2019년 된 이렇게높았는데 지금은 이렇게 내려가고앞으로 더 어려워질 것 같은게오르는데 우리 대한민국의 여러분들은아닙니다 개선될 것 같다 가 거의비슷하긴 하지만 조금 올라 같구요악화될 것 같다가 떨었다고 합니다왜 1억여 건 낳은 지 모르겠지만설문조사 라고 하니까 딜을 태양이전화 하시구요 화이트 뭐 앞으로악화될 것 같다는게 내려가고 더좋아질 것 같다는게 올라 갔다고하니까 역시 대한민국의 기상을 널리떨치는 여러분이 다 라고 생각이들고요 그저 당연한 거겠죠 여러분들이해 내심은 되니까 들어온 질문도있습니다 요즘이 경제 상황이 어디가그렇게 안 좋아진게 아무리 자산 때오르고 이런게 공평하게 분배되어 고있지 않은 게 아니냐 이런 질문 제때어 q 의 나라에서 부가 공평하지않게 분배 들고 있냐 당연히 높겠죠이 스 트 3 재들은 당연히 자살 말못 갖고 있으니까 당연히 높은데안타깝게도 그건 은 글로벌 평균이 166 에 즉시 군대 우리나라는 똑높아요 78 했을 때 조금 높은데재미있는건 지금 30대 이제마 뭔가뛰어드는 분들보다 10대 20대가 더크게 느끼고 있어 d 세대가 아 형들고생하는 건 어디가 척의 내 일인가싶은 거죠 쉽게 중반에서 20대 중반이니까 형태 캐 거잖아요 야 나 때는이라는 이제 나 때는 이 아니라 내가전화 2가 되면 나는 어떻게 하나라는 걱정을 이 어린 나이에 벌써 를하고 있는거구요 파이팅입니다 잭스를할 수 있죠 내가 10대 입대로돌아가며 는 우리 하고 싶은 게 많죠자 그래 질문이 또 있었어요 그러면너희들 이렇게 어려운 불평등의 원인이무엇이냐에 재미있는게 우리나라 분들은젊은 분들은 정책이다 어떤 기업과부유층에 구어 적인 정책이다 라는게글로벌 보다 훨씬 없더라구 다만 이제잘나가는 사람과 일방 크고 의 경영적1박 근로자의 임금 차이다 라고생각하는 사람들은 글로벌 둑으로 꾸린알아도록 그 별로 없는것 같아요 자기번 능력대로 받는 건 당연하다 능력주 에 대해서는 굉장히 우호적 인데정책이 좀 불합리 하다 라는 게굉장히 좀 높게 나오고 있는것 같고다만 해소하려면 뭘 해야 되냐 그랬을때 글로벌 분들은 굉장히 뭐가 높아이걸 해야 되고 저걸 해야되고 저걸해야되고 이거 높은데 우리나라 분들은전체적으로 좀 낮아요 예 낫죠 그리고남들에 비해서 대체에 관한 오더라그래야 될까 선호 돌아가게 될까 그게상당히 나 떨어 볼까 제 생각에는 이두 저도 뭐 하는 꼴을 보니 다 맘에든다는 거죠 j 생각한 그렇게모르겠어요 해석을 어떻게 될지모르겠는데 법률 뭐 세금 인상 모브재정지원 뭐 이런거 봐도 그냥 다무엇이 그 나물에 그 밥 인도와 꺼라생각을 하는게 아닌가 생각하는데 패튼우리나라에서 저렇게 일단 딜로이트결과는 나오고 있고 자 그런데 젝스세대에 대한 변명을 조금만 들여보자면 우리가 지금 기성 세대 라고불리는 우리 x 세대 형님들1972년생 인데 2년생 기준으로플러스 - 1 6 7년 정도 들어가는거에요 2분들이 좀 이해를 해 드려야되는게 저는 이런 생각을 합니다 이현모든 세대 중에 너무 지나치게 많은변화를 짧은 시간에 압축적으로겪었어요 저분들이 무슨 소리냐 하면좀 x 대에 이제 저같은 경우에팀장입니다 분명히 믿었죠 보면 x1972년생 들이 어렸을 때는 이래요강남 경찰서 집 땅 파고 있는거죠미국회사 다이어 여기서 여의도 패킷을그때 그 여기서 편지 9 아 살펴봐살꺼 여기가 지금 우리가 지금 여의도얼 이제 다니는 금융의 중심지 열리던데이 분들 어렸을 때 일했고1970년에 분들이 10대 때 강남은그랬죠습득 때 시트 때 ive 한살 두살때 그 10대 때 개구리 하고 잠자리잡으러 다니던 시대 72년생 드리니까뭐한 10살 때 물때는 강남이이랬어요 말이되냐 싶지만 많이 됩니다그 때는 강남 개발 개성이 좀돌았다고 있는거고 혹시 자 아파트세우고 일해야 될 때 기 때문에 그어렸을 때 그 형님들은 주변이 다이래 쓰니까 어디 만나 가면은잠자리채 들고 이거 기억나시죠 영웅들요거 들고 다니는게 형님들의 일이었죠어렸을 땐 거의 약간 걸 농촌에 사는그런 느낌이 서울인데 도 있었어요웃음 뭐 장수 잠자리 잡으러 다니고그것도 않고 그 다각 숙제가 이런거거다 뭐 오는거 뭐 그랬어요 열고있지 그 탐구생활 물은 불과해 튼2분들이 10대가 조금 이제 넘어갈만 하니까 굉장히 했던게 컬러 tv옛날에는 컬러 티비가 없었 쪼 저희아버지가 뭐더라 무슨 월드컵 보다가이 지껄여 써요 흑백 이었는데 20개아버지의 아버지가 이 곡은 내려치다가 월드컵 와중에 칩이 가 나갔어그래서 우리 집이 컬러 tv 가들어왔습니다예 제 집에 컬러 트리가 그래서들어왔죠 아버지가 이거 못 올리고특대 못 그때 어떤 월드컵 하면 나라비쳐져 때 벋은 최초의 한 골을 넣어냐고 최초의 쓰긴 야 하는데 이건두드리다가 나갔어 지식 터진 알아서아버지가 열받아서 바로 나가서 컬러집을 바로 들어온 우리쪽 체험 컬렉터생겼는데 10대 때 요 그 분들의집게 때 한마디로 농촌 시대와 현대적만남이 겹쳐 된 한강에 기억하던시대죠 2분들이 이제 10대 후반에서20대 초반의 들어서니까 5성일 집에 자동차가 생기네 집에스마트폰이 생긴 애가 아니라 집에자동차가 드디어 생기는거죠 옛날에는더 동차 있는 분이 별로 없었어요부자 말곤 그분들이 현대 스텔라이런거 다 mom 아 으주택 탄탄 이곳도 2분들이 지 그랬던시키니까 올려 그렇게 오래 전 옛날얘기 하고 있지 아마 건너 뛰도록하겠습니다 그래서 2분들이 이제20대가 되면 은 히피아 오구요imf 격구 요 2002년 월드컵4강을 쌀이 익어 큽니까 이거 30살30살이 4 30살 27세 에서30세에 월드컵 4강을 입고 나가서잠자리채 들고 있던 분들이 나가서풀이를 치죠 멀더 4강 들어오면굉장히 요즘 내 얘기 같고 잠자리채그럼 굉장히 옛날 얘기 같지만 결국한 세대가 겪은 일이죠 투여를않습니까 이렇게 드립니다 2분들이3p 눈 데에는 드디어 촉 오의인터넷이랑 게 등장하더니 즉 10년되니까 스마트폰 이라는 게 등장을하고 무 디지털 시대가 오더니 40대디지털시대 저것들 게요 2분들이50세가 되던 2010년 되니까드디어 ai 라는 동 자유 중이라선동 이 분들의 열 살 때에는 들어야했거든요 이게 총 시신을 돌아온모습이에요 찾아왔습니다 에테 있어서이렇게 모습 해서 50살 되니까 이런걸로 바뀌는 거 잖아요 아 쉽지 않다정말 쉽지 않다 정말 라떼는 이라는말을 할 수밖에 없는 세대 줘 야경법을 가뜩이나 때 늘리게 할 때는이기 때문에 모르면서도 이런것도적응해야 되니까 스마트 토 못하고그럴 수 없잖아요 그러나 때 능과 그얼리어덥터 적인 면을 다 가져야 에살아볼 수 있는 그런거죠 어려운세대였다 물론 뭐 경 개발 다니거나빨리 됐기 때문에 몸은 힘들어도 좀요즘 표현으로는 경쟁을 좀 들었다고해야 되나 뭐 오늘 벗길 더 쉽게춥게 라고 또 편의 사라져 괴로운귄터 만약 한마디로 하여튼 그 닷핵구요 잡다 는 때로 치고 리그 제트3대 대학생들은 외국인은 아까말했듯이 뱀 세대와 제트 세대를 묻지말아달라 알겠습니다 알겠습니다있습니다 앞으로는 따로 보도록하겠습니다 제 3세대의 말이 제 3형들과 이 아저씨들과 삼촌과 나 를묻지 말아 달라 라는 그 요청을 해왔으니까 앞으로는 묶지 않고 따로부르겠습니다 바로으으\n"
     ]
    }
   ],
   "source": [
    "with open('./data/0901_suka.txt', 'r') as f:\n",
    "  a = f.read()\n",
    "  print(a)"
   ]
  },
  {
   "cell_type": "markdown",
   "metadata": {
    "id": "HyvCPA66wnE5"
   },
   "source": [
    "## 문장 토큰화"
   ]
  },
  {
   "cell_type": "code",
   "execution_count": 2,
   "metadata": {
    "colab": {
     "base_uri": "https://localhost:8080/"
    },
    "collapsed": true,
    "id": "GBd9IEb5wSzq",
    "outputId": "7a64ed74-faa3-4f68-b059-eae33116de68"
   },
   "outputs": [
    {
     "name": "stdout",
     "output_type": "stream",
     "text": [
      "Defaulting to user installation because normal site-packages is not writeable\n",
      "Collecting kss\n",
      "  Downloading kss-3.1.0.4.tar.gz (42.3 MB)\n",
      "\u001b[K     |████████████████████████████████| 42.3 MB 403 kB/s eta 0:00:01\n",
      "\u001b[?25hCollecting emoji\n",
      "  Downloading emoji-1.4.2.tar.gz (184 kB)\n",
      "\u001b[K     |████████████████████████████████| 184 kB 66.9 MB/s eta 0:00:01\n",
      "\u001b[?25hBuilding wheels for collected packages: kss, emoji\n",
      "  Building wheel for kss (setup.py) ... \u001b[?25ldone\n",
      "\u001b[?25h  Created wheel for kss: filename=kss-3.1.0.4-py3-none-any.whl size=42336592 sha256=384bb6c359b357a3952cf8589e5b8b159564c2d334e1899fb1cf221e6d9ea0ba\n",
      "  Stored in directory: /home/lab21/.cache/pip/wheels/5d/6a/a0/e9efa10abf68593b74d1603ed5a9578adb6a6b4dfa41fc2f78\n",
      "  Building wheel for emoji (setup.py) ... \u001b[?25ldone\n",
      "\u001b[?25h  Created wheel for emoji: filename=emoji-1.4.2-py3-none-any.whl size=186469 sha256=38b6cf757a1fdb32f1b45d442bc4e9ed2cc179db65e9b497ffa524e9c4fcb513\n",
      "  Stored in directory: /home/lab21/.cache/pip/wheels/95/47/72/f881795ffd9e18eb43fddf72b498f768ecfe6e0c8b80015198\n",
      "Successfully built kss emoji\n",
      "Installing collected packages: emoji, kss\n",
      "Successfully installed emoji-1.4.2 kss-3.1.0.4\n"
     ]
    }
   ],
   "source": [
    "!pip install kss"
   ]
  },
  {
   "cell_type": "code",
   "execution_count": 4,
   "metadata": {},
   "outputs": [
    {
     "name": "stdout",
     "output_type": "stream",
     "text": [
      "Defaulting to user installation because normal site-packages is not writeable\n",
      "Collecting regex\n",
      "  Downloading regex-2021.8.28-cp36-cp36m-manylinux_2_17_x86_64.manylinux2014_x86_64.whl (745 kB)\n",
      "\u001b[K     |████████████████████████████████| 745 kB 1.6 MB/s eta 0:00:01\n",
      "\u001b[?25hInstalling collected packages: regex\n",
      "Successfully installed regex-2021.8.28\n",
      "Note: you may need to restart the kernel to use updated packages.\n"
     ]
    }
   ],
   "source": [
    "pip install regex"
   ]
  },
  {
   "cell_type": "code",
   "execution_count": 6,
   "metadata": {
    "colab": {
     "base_uri": "https://localhost:8080/"
    },
    "id": "3XZeeTM1uPFU",
    "outputId": "4b53d3dd-2b41-4566-8fcb-21f15d7657e5"
   },
   "outputs": [
    {
     "name": "stderr",
     "output_type": "stream",
     "text": [
      "[Korean Sentence Splitter]: Initializing Kss...\n"
     ]
    }
   ],
   "source": [
    "import kss"
   ]
  },
  {
   "cell_type": "code",
   "execution_count": 8,
   "metadata": {
    "colab": {
     "base_uri": "https://localhost:8080/"
    },
    "id": "Xy9m-H4SuX0V",
    "outputId": "981c828c-425a-457c-9dea-5ec967a69d63"
   },
   "outputs": [
    {
     "name": "stdout",
     "output_type": "stream",
     "text": [
      "['너무 길면 하기 힘드나 보네.', '어우']\n"
     ]
    }
   ],
   "source": [
    "print(kss.split_sentences('너무 길면 하기 힘드나 보네.어우'))"
   ]
  },
  {
   "cell_type": "markdown",
   "metadata": {
    "id": "lNfRcIBLzccu"
   },
   "source": [
    "## konlpy 사용"
   ]
  },
  {
   "cell_type": "code",
   "execution_count": 9,
   "metadata": {
    "colab": {
     "base_uri": "https://localhost:8080/"
    },
    "collapsed": true,
    "id": "10umi5W7wkih",
    "outputId": "b3f89fb1-4ab4-4221-ac89-9630214f5a4d"
   },
   "outputs": [
    {
     "name": "stdout",
     "output_type": "stream",
     "text": [
      "Defaulting to user installation because normal site-packages is not writeable\n",
      "Collecting konlpy\n",
      "  Downloading konlpy-0.5.2-py2.py3-none-any.whl (19.4 MB)\n",
      "\u001b[K     |████████████████████████████████| 19.4 MB 1.6 MB/s eta 0:00:01\n",
      "\u001b[?25hCollecting beautifulsoup4==4.6.0\n",
      "  Downloading beautifulsoup4-4.6.0-py3-none-any.whl (86 kB)\n",
      "\u001b[K     |████████████████████████████████| 86 kB 9.3 MB/s  eta 0:00:01\n",
      "\u001b[?25hCollecting tweepy>=3.7.0\n",
      "  Downloading tweepy-3.10.0-py2.py3-none-any.whl (30 kB)\n",
      "Requirement already satisfied: colorama in /usr/local/lib/python3.6/dist-packages (from konlpy) (0.4.3)\n",
      "Requirement already satisfied: numpy>=1.6 in /usr/local/lib/python3.6/dist-packages (from konlpy) (1.19.5)\n",
      "Collecting JPype1>=0.7.0\n",
      "  Downloading JPype1-1.3.0-cp36-cp36m-manylinux_2_5_x86_64.manylinux1_x86_64.whl (448 kB)\n",
      "\u001b[K     |████████████████████████████████| 448 kB 54.1 MB/s eta 0:00:01\n",
      "\u001b[?25hCollecting lxml>=4.1.0\n",
      "  Downloading lxml-4.6.3-cp36-cp36m-manylinux2014_x86_64.whl (6.3 MB)\n",
      "\u001b[K     |████████████████████████████████| 6.3 MB 27.0 MB/s eta 0:00:01\n",
      "\u001b[?25hRequirement already satisfied: typing-extensions in /usr/local/lib/python3.6/dist-packages (from JPype1>=0.7.0->konlpy) (3.10.0.0)\n",
      "Collecting requests-oauthlib>=0.7.0\n",
      "  Downloading requests_oauthlib-1.3.0-py2.py3-none-any.whl (23 kB)\n",
      "Requirement already satisfied: six>=1.10.0 in /usr/local/lib/python3.6/dist-packages (from tweepy>=3.7.0->konlpy) (1.16.0)\n",
      "Requirement already satisfied: requests[socks]>=2.11.1 in /usr/local/lib/python3.6/dist-packages (from tweepy>=3.7.0->konlpy) (2.26.0)\n",
      "Collecting oauthlib>=3.0.0\n",
      "  Downloading oauthlib-3.1.1-py2.py3-none-any.whl (146 kB)\n",
      "\u001b[K     |████████████████████████████████| 146 kB 50.0 MB/s eta 0:00:01\n",
      "\u001b[?25hRequirement already satisfied: idna<4,>=2.5 in /usr/local/lib/python3.6/dist-packages (from requests[socks]>=2.11.1->tweepy>=3.7.0->konlpy) (3.2)\n",
      "Requirement already satisfied: charset-normalizer~=2.0.0 in /usr/local/lib/python3.6/dist-packages (from requests[socks]>=2.11.1->tweepy>=3.7.0->konlpy) (2.0.3)\n",
      "Requirement already satisfied: urllib3<1.27,>=1.21.1 in /usr/local/lib/python3.6/dist-packages (from requests[socks]>=2.11.1->tweepy>=3.7.0->konlpy) (1.26.6)\n",
      "Requirement already satisfied: certifi>=2017.4.17 in /usr/local/lib/python3.6/dist-packages (from requests[socks]>=2.11.1->tweepy>=3.7.0->konlpy) (2021.5.30)\n",
      "Collecting PySocks!=1.5.7,>=1.5.6\n",
      "  Downloading PySocks-1.7.1-py3-none-any.whl (16 kB)\n",
      "Installing collected packages: PySocks, oauthlib, requests-oauthlib, tweepy, lxml, JPype1, beautifulsoup4, konlpy\n",
      "\u001b[33m  WARNING: The scripts stream_daum, stream_dcinside, stream_google, stream_naver and stream_twitter are installed in '/home/lab21/.local/bin' which is not on PATH.\n",
      "  Consider adding this directory to PATH or, if you prefer to suppress this warning, use --no-warn-script-location.\u001b[0m\n",
      "Successfully installed JPype1-1.3.0 PySocks-1.7.1 beautifulsoup4-4.6.0 konlpy-0.5.2 lxml-4.6.3 oauthlib-3.1.1 requests-oauthlib-1.3.0 tweepy-3.10.0\n"
     ]
    }
   ],
   "source": [
    "!pip install konlpy"
   ]
  },
  {
   "cell_type": "code",
   "execution_count": 16,
   "metadata": {
    "collapsed": true
   },
   "outputs": [
    {
     "name": "stdout",
     "output_type": "stream",
     "text": [
      "Defaulting to user installation because normal site-packages is not writeable\n",
      "Collecting nltk\n",
      "  Downloading nltk-3.6.2-py3-none-any.whl (1.5 MB)\n",
      "\u001b[K     |████████████████████████████████| 1.5 MB 1.6 MB/s eta 0:00:01\n",
      "\u001b[?25hRequirement already satisfied: joblib in /usr/local/lib/python3.6/dist-packages (from nltk) (1.0.1)\n",
      "Requirement already satisfied: click in /usr/lib/python3/dist-packages (from nltk) (6.7)\n",
      "Requirement already satisfied: tqdm in /usr/local/lib/python3.6/dist-packages (from nltk) (4.61.2)\n",
      "Requirement already satisfied: regex in ./.local/lib/python3.6/site-packages (from nltk) (2021.8.28)\n",
      "Installing collected packages: nltk\n",
      "\u001b[33m  WARNING: The script nltk is installed in '/home/lab21/.local/bin' which is not on PATH.\n",
      "  Consider adding this directory to PATH or, if you prefer to suppress this warning, use --no-warn-script-location.\u001b[0m\n",
      "Successfully installed nltk-3.6.2\n",
      "Note: you may need to restart the kernel to use updated packages.\n"
     ]
    }
   ],
   "source": [
    "pip install nltk"
   ]
  },
  {
   "cell_type": "code",
   "execution_count": 10,
   "metadata": {
    "id": "FknCfgRAzfxf"
   },
   "outputs": [],
   "source": [
    "from konlpy.tag import Okt\n",
    "\n",
    "okt = Okt()"
   ]
  },
  {
   "cell_type": "code",
   "execution_count": 11,
   "metadata": {
    "id": "hMSzhkpWz1Zd"
   },
   "outputs": [],
   "source": [
    "from collections import Counter\n",
    "# 명사 토큰화\n",
    "noun = okt.nouns(a)\n",
    "\n",
    "for i, v in enumerate(noun):\n",
    "  if len(v)<2:\n",
    "    noun.pop(i)"
   ]
  },
  {
   "cell_type": "code",
   "execution_count": 12,
   "metadata": {
    "id": "NrjetVtk0vGC"
   },
   "outputs": [],
   "source": [
    "cnt = Counter(noun)"
   ]
  },
  {
   "cell_type": "code",
   "execution_count": 13,
   "metadata": {
    "id": "tXpE90XI05TK"
   },
   "outputs": [],
   "source": [
    "noun_list = cnt.most_common(100) # 빈도수 기준 상위 100개\n",
    "# for i in noun_list:  # 확인\n",
    "#   print(i)"
   ]
  },
  {
   "cell_type": "code",
   "execution_count": 14,
   "metadata": {
    "id": "oefUOt357g1j"
   },
   "outputs": [
    {
     "name": "stdout",
     "output_type": "stream",
     "text": [
      "E: Could not open lock file /var/lib/apt/lists/lock - open (13: Permission denied)\n",
      "E: Unable to lock directory /var/lib/apt/lists/\n",
      "W: Problem unlinking the file /var/cache/apt/pkgcache.bin - RemoveCaches (13: Permission denied)\n",
      "W: Problem unlinking the file /var/cache/apt/srcpkgcache.bin - RemoveCaches (13: Permission denied)\n",
      "E: Could not open lock file /var/lib/dpkg/lock-frontend - open (13: Permission denied)\n",
      "E: Unable to acquire the dpkg frontend lock (/var/lib/dpkg/lock-frontend), are you root?\n"
     ]
    }
   ],
   "source": [
    "# 한글 폰트 다운\n",
    "!apt-get update -qq\n",
    "!apt-get install fonts-nanum* -qq"
   ]
  },
  {
   "cell_type": "code",
   "execution_count": 27,
   "metadata": {
    "collapsed": true
   },
   "outputs": [
    {
     "data": {
      "text/plain": [
       "['/usr/share/fonts/truetype/dejavu/DejaVuSerif-Bold.ttf',\n",
       " '/usr/share/fonts/truetype/droid/DroidSansFallbackFull.ttf',\n",
       " '/usr/share/fonts/truetype/dejavu/DejaVuSansCondensed-Oblique.ttf',\n",
       " '/usr/share/fonts/truetype/dejavu/DejaVuSans-Oblique.ttf',\n",
       " '/usr/share/fonts/truetype/liberation/LiberationMono-Italic.ttf',\n",
       " '/usr/share/fonts/truetype/liberation/LiberationSerif-Regular.ttf',\n",
       " '/usr/share/fonts/truetype/NanumGothic.ttf',\n",
       " '/usr/share/fonts/truetype/dejavu/DejaVuSansMono.ttf',\n",
       " '/usr/share/fonts/truetype/liberation/LiberationSerif-Bold.ttf',\n",
       " '/usr/share/fonts/truetype/dejavu/DejaVuSansMono-BoldOblique.ttf',\n",
       " '/usr/share/fonts/truetype/liberation/LiberationSansNarrow-Italic.ttf',\n",
       " '/usr/share/fonts/truetype/liberation/LiberationSansNarrow-Bold.ttf',\n",
       " '/usr/share/fonts/truetype/liberation/LiberationMono-BoldItalic.ttf',\n",
       " '/usr/share/fonts/truetype/liberation/LiberationSans-Italic.ttf',\n",
       " '/usr/share/fonts/truetype/dejavu/DejaVuSans-BoldOblique.ttf',\n",
       " '/usr/share/fonts/truetype/dejavu/DejaVuSansCondensed-Bold.ttf',\n",
       " '/usr/share/fonts/truetype/dejavu/DejaVuSansCondensed.ttf',\n",
       " '/usr/share/fonts/truetype/dejavu/DejaVuSerifCondensed-BoldItalic.ttf',\n",
       " '/usr/share/fonts/truetype/dejavu/DejaVuSans-Bold.ttf',\n",
       " '/usr/share/fonts/truetype/dejavu/DejaVuSansCondensed-BoldOblique.ttf',\n",
       " '/usr/share/fonts/truetype/dejavu/DejaVuMathTeXGyre.ttf',\n",
       " '/usr/share/fonts/truetype/liberation/LiberationSans-Bold.ttf',\n",
       " '/usr/share/fonts/truetype/dejavu/DejaVuSans.ttf',\n",
       " '/usr/share/fonts/truetype/liberation/LiberationSerif-BoldItalic.ttf',\n",
       " '/usr/share/fonts/truetype/liberation/LiberationSansNarrow-Regular.ttf',\n",
       " '/usr/share/fonts/truetype/dejavu/DejaVuSerif.ttf',\n",
       " '/usr/share/fonts/truetype/liberation/LiberationSans-BoldItalic.ttf',\n",
       " '/usr/share/fonts/truetype/liberation/LiberationSansNarrow-BoldItalic.ttf',\n",
       " '/usr/share/fonts/truetype/dejavu/DejaVuSerifCondensed-Italic.ttf',\n",
       " '/usr/share/fonts/truetype/dejavu/DejaVuSerif-Italic.ttf',\n",
       " '/usr/share/fonts/truetype/dejavu/DejaVuSansMono-Oblique.ttf',\n",
       " '/usr/share/fonts/truetype/liberation/LiberationSerif-Italic.ttf',\n",
       " '/usr/share/fonts/truetype/dejavu/DejaVuSerifCondensed.ttf',\n",
       " '/usr/share/fonts/truetype/noto/NotoMono-Regular.ttf',\n",
       " '/usr/share/fonts/truetype/dejavu/DejaVuSans-ExtraLight.ttf',\n",
       " '/usr/share/fonts/truetype/malgun.ttf',\n",
       " '/usr/share/fonts/truetype/liberation/LiberationMono-Regular.ttf',\n",
       " '/usr/share/fonts/truetype/dejavu/DejaVuSerif-BoldItalic.ttf',\n",
       " '/usr/share/fonts/truetype/dejavu/DejaVuSansMono-Bold.ttf',\n",
       " '/usr/share/fonts/truetype/liberation/LiberationMono-Bold.ttf',\n",
       " '/usr/share/fonts/truetype/liberation/LiberationSans-Regular.ttf',\n",
       " '/usr/share/fonts/truetype/dejavu/DejaVuSerifCondensed-Bold.ttf']"
      ]
     },
     "execution_count": 27,
     "metadata": {},
     "output_type": "execute_result"
    }
   ],
   "source": [
    "font_list = fm.findSystemFonts(fontpaths = None, fontext = 'ttf')\n",
    "font_list # 폰트 위치 찾기"
   ]
  },
  {
   "cell_type": "code",
   "execution_count": 28,
   "metadata": {
    "colab": {
     "base_uri": "https://localhost:8080/",
     "height": 392
    },
    "collapsed": true,
    "id": "sP1JpJOe3kE-",
    "outputId": "91865064-772d-42e0-9df7-a24cf5cc79ee"
   },
   "outputs": [
    {
     "data": {
      "image/png": "[encoded data removed]",
      "text/plain": [
       "<Figure size 720x360 with 1 Axes>"
      ]
     },
     "metadata": {
      "needs_background": "light"
     },
     "output_type": "display_data"
    },
    {
     "data": {
      "text/plain": [
       "<function matplotlib.pyplot.show(close=None, block=None)>"
      ]
     },
     "execution_count": 28,
     "metadata": {},
     "output_type": "execute_result"
    }
   ],
   "source": [
    "import nltk\n",
    "import matplotlib.pyplot as plt\n",
    "import matplotlib.font_manager as fm\n",
    "import warnings\n",
    "warnings.filterwarnings('ignore')\n",
    "path = '/usr/share/fonts/truetype/NanumGothic.ttf'\n",
    "font_name = fm.FontProperties(fname=path, size=10).get_name()\n",
    "plt.rc('font', family=font_name)\n",
    "fm._rebuild()"
   ]
  },
  {
   "cell_type": "code",
   "execution_count": 37,
   "metadata": {},
   "outputs": [],
   "source": [
    "import pandas as pd"
   ]
  },
  {
   "cell_type": "code",
   "execution_count": 39,
   "metadata": {},
   "outputs": [],
   "source": [
    "aa = pd.DataFrame(noun_list)"
   ]
  },
  {
   "cell_type": "code",
   "execution_count": 42,
   "metadata": {
    "scrolled": true
   },
   "outputs": [],
   "source": [
    "aa.columns = ['단어', '빈도']"
   ]
  },
  {
   "cell_type": "code",
   "execution_count": 44,
   "metadata": {},
   "outputs": [
    {
     "data": {
      "image/png": "[encoded data removed]",
      "text/plain": [
       "<Figure size 1440x360 with 1 Axes>"
      ]
     },
     "metadata": {
      "needs_background": "light"
     },
     "output_type": "display_data"
    }
   ],
   "source": [
    "plt.figure(figsize=(20,5))\n",
    "plt.title('단어 빈도')\n",
    "plt.plot(aa['단어'],aa['빈도'])\n",
    "plt.show()"
   ]
  },
  {
   "cell_type": "code",
   "execution_count": null,
   "metadata": {},
   "outputs": [],
   "source": []
  },
  {
   "cell_type": "code",
   "execution_count": 23,
   "metadata": {
    "collapsed": true
   },
   "outputs": [
    {
     "name": "stdout",
     "output_type": "stream",
     "text": [
      "Defaulting to user installation because normal site-packages is not writeable\n",
      "Collecting wordcloud\n",
      "  Downloading wordcloud-1.8.1-cp36-cp36m-manylinux1_x86_64.whl (366 kB)\n",
      "\u001b[K     |████████████████████████████████| 366 kB 1.6 MB/s eta 0:00:01\n",
      "\u001b[?25hRequirement already satisfied: numpy>=1.6.1 in /usr/local/lib/python3.6/dist-packages (from wordcloud) (1.19.5)\n",
      "Requirement already satisfied: matplotlib in /usr/local/lib/python3.6/dist-packages (from wordcloud) (3.3.4)\n",
      "Requirement already satisfied: pillow in /usr/local/lib/python3.6/dist-packages (from wordcloud) (8.3.1)\n",
      "Requirement already satisfied: cycler>=0.10 in /usr/local/lib/python3.6/dist-packages (from matplotlib->wordcloud) (0.10.0)\n",
      "Requirement already satisfied: kiwisolver>=1.0.1 in /usr/local/lib/python3.6/dist-packages (from matplotlib->wordcloud) (1.3.1)\n",
      "Requirement already satisfied: python-dateutil>=2.1 in /usr/local/lib/python3.6/dist-packages (from matplotlib->wordcloud) (2.8.2)\n",
      "Requirement already satisfied: pyparsing!=2.0.4,!=2.1.2,!=2.1.6,>=2.0.3 in /usr/local/lib/python3.6/dist-packages (from matplotlib->wordcloud) (2.4.7)\n",
      "Requirement already satisfied: six in /usr/local/lib/python3.6/dist-packages (from cycler>=0.10->matplotlib->wordcloud) (1.16.0)\n",
      "Installing collected packages: wordcloud\n",
      "\u001b[33m  WARNING: The script wordcloud_cli is installed in '/home/lab21/.local/bin' which is not on PATH.\n",
      "  Consider adding this directory to PATH or, if you prefer to suppress this warning, use --no-warn-script-location.\u001b[0m\n",
      "Successfully installed wordcloud-1.8.1\n",
      "Note: you may need to restart the kernel to use updated packages.\n"
     ]
    }
   ],
   "source": [
    "pip install wordcloud"
   ]
  },
  {
   "cell_type": "markdown",
   "metadata": {
    "id": "B_Qnfl3d1O_2"
   },
   "source": [
    "## 시각화- 워드클라우드"
   ]
  },
  {
   "cell_type": "code",
   "execution_count": 29,
   "metadata": {
    "id": "xWwnfi7C1OzC"
   },
   "outputs": [],
   "source": [
    "from wordcloud import WordCloud\n",
    "\n",
    "wc = WordCloud(font_path = path,\n",
    "               background_color='white',\n",
    "               width = 150,\n",
    "               height = 150,\n",
    "               max_words = 100)"
   ]
  },
  {
   "cell_type": "code",
   "execution_count": 30,
   "metadata": {
    "colab": {
     "base_uri": "https://localhost:8080/",
     "height": 466
    },
    "id": "8i5oGDtT1FGt",
    "outputId": "7f21c83c-3db0-476b-f8a7-e35cf1aa6852"
   },
   "outputs": [
    {
     "data": {
      "image/png": "[encoded data removed]",
      "text/plain": [
       "<Figure size 720x576 with 1 Axes>"
      ]
     },
     "metadata": {
      "needs_background": "light"
     },
     "output_type": "display_data"
    }
   ],
   "source": [
    "wc.generate_from_frequencies(dict(noun_list))\n",
    "plt.figure(figsize=(10, 8))\n",
    "plt.axis('off')\n",
    "plt.imshow(wc)\n",
    "plt.show()"
   ]
  },
  {
   "cell_type": "code",
   "execution_count": null,
   "metadata": {
    "id": "SldP43GT2BjN"
   },
   "outputs": [],
   "source": []
  },
  {
   "cell_type": "markdown",
   "metadata": {
    "id": "Cxpc9IZL-P_e"
   },
   "source": [
    "## VADER 감성 어휘사전을 기반으로 한 감성분석"
   ]
  },
  {
   "cell_type": "code",
   "execution_count": 45,
   "metadata": {
    "colab": {
     "base_uri": "https://localhost:8080/"
    },
    "id": "-li46I9A-UPR",
    "outputId": "3623fb5e-1bb6-4e2c-f0eb-7258788ff68d"
   },
   "outputs": [
    {
     "name": "stderr",
     "output_type": "stream",
     "text": [
      "[nltk_data] Downloading package vader_lexicon to\n",
      "[nltk_data]     /home/lab21/nltk_data...\n"
     ]
    },
    {
     "name": "stdout",
     "output_type": "stream",
     "text": [
      "{'neg': 0.0, 'neu': 0.996, 'pos': 0.004, 'compound': 0.8442}\n"
     ]
    }
   ],
   "source": [
    "import nltk\n",
    "nltk.download('vader_lexicon')\n",
    "from nltk.sentiment.vader import SentimentIntensityAnalyzer\n",
    "\n",
    "senti_analyzer = SentimentIntensityAnalyzer()\n",
    "# polarity_score로 하나의 텍스트에 대해 각 부정/객관/긍정 그리고 총 합한 감성지수 출력(-1~1)\n",
    "senti_score = senti_analyzer.polarity_scores(a)\n",
    "print(senti_score)"
   ]
  },
  {
   "cell_type": "markdown",
   "metadata": {
    "id": "ri2byCn__wrb"
   },
   "source": [
    "compound의 value값이 총 감성 지수"
   ]
  },
  {
   "cell_type": "markdown",
   "metadata": {
    "id": "3T9IQUyOAh3u"
   },
   "source": [
    "- 뉴스 데이터로 연습"
   ]
  },
  {
   "cell_type": "code",
   "execution_count": 86,
   "metadata": {},
   "outputs": [],
   "source": [
    "import pymysql\n",
    "import pandas\n",
    "\n",
    "db = pymysql.connect(\n",
    "    user='root', \n",
    "    passwd='1234', \n",
    "    host='3.35.70.166', \n",
    "    db='proj', \n",
    "    charset = 'utf8'\n",
    ")\n",
    "\n",
    "cursor = db.cursor(pymysql.cursors.DictCursor)\n",
    "\n",
    "sql = \"select * from news_craw where n_date\"\n",
    "cursor.execute(sql)\n",
    "\n",
    "result = cursor.fetchall()\n",
    "\n",
    "# 데이터 프레임으로 변경\n",
    "df = pandas.DataFrame(result)"
   ]
  },
  {
   "cell_type": "code",
   "execution_count": 87,
   "metadata": {},
   "outputs": [
    {
     "data": {
      "text/html": [
       "<div>\n",
       "<style scoped>\n",
       "    .dataframe tbody tr th:only-of-type {\n",
       "        vertical-align: middle;\n",
       "    }\n",
       "\n",
       "    .dataframe tbody tr th {\n",
       "        vertical-align: top;\n",
       "    }\n",
       "\n",
       "    .dataframe thead th {\n",
       "        text-align: right;\n",
       "    }\n",
       "</style>\n",
       "<table border=\"1\" class=\"dataframe\">\n",
       "  <thead>\n",
       "    <tr style=\"text-align: right;\">\n",
       "      <th></th>\n",
       "      <th>st_n</th>\n",
       "      <th>st_cd</th>\n",
       "      <th>news</th>\n",
       "      <th>n_date</th>\n",
       "      <th>title</th>\n",
       "      <th>url</th>\n",
       "      <th>text</th>\n",
       "    </tr>\n",
       "  </thead>\n",
       "  <tbody>\n",
       "    <tr>\n",
       "      <th>0</th>\n",
       "      <td>삼성전자</td>\n",
       "      <td>5930</td>\n",
       "      <td>매일경제</td>\n",
       "      <td>2021083115</td>\n",
       "      <td>삼성전자-구찌 협업</td>\n",
       "      <td>http://news.mk.co.kr/newsRead.php?no=841058&amp;ye...</td>\n",
       "      <td>삼성전자가 이탈리아 명품 브랜드 구찌와 함께 전용 디지털 애플리케이션(앱) '가옥 ...</td>\n",
       "    </tr>\n",
       "    <tr>\n",
       "      <th>1</th>\n",
       "      <td>삼성전자</td>\n",
       "      <td>5930</td>\n",
       "      <td>매일경제</td>\n",
       "      <td>2021083110</td>\n",
       "      <td>\"이정도일 줄 몰랐다\"…플립·폴드 3 '역대급 돌풍'에 삼성전자 결단 내리나</td>\n",
       "      <td>http://news.mk.co.kr/newsRead.php?no=839245&amp;ye...</td>\n",
       "      <td>[사진 제공 = 삼성전자] 갤럭시Z플립3와 Z폴드3 등 3세대 폴더블 스마트폰이 돌...</td>\n",
       "    </tr>\n",
       "    <tr>\n",
       "      <th>2</th>\n",
       "      <td>삼성전자</td>\n",
       "      <td>5930</td>\n",
       "      <td>매일경제</td>\n",
       "      <td>2021083017</td>\n",
       "      <td>삼성전자, 3GPP 의장단 2석 추가 확보</td>\n",
       "      <td>http://news.mk.co.kr/newsRead.php?no=837909&amp;ye...</td>\n",
       "      <td>5G(5세대) 이동통신 표준을 개발하는 3GPP(3rd Generation Par...</td>\n",
       "    </tr>\n",
       "    <tr>\n",
       "      <th>3</th>\n",
       "      <td>삼성전자</td>\n",
       "      <td>5930</td>\n",
       "      <td>매일경제</td>\n",
       "      <td>2021083122</td>\n",
       "      <td>\"떨어질 만큼 떨어졌나\"…올해 삼성전자 20조 판 외국인 하루 3600억 사들였다</td>\n",
       "      <td>http://news.mk.co.kr/newsRead.php?no=842336&amp;ye...</td>\n",
       "      <td>[사진 = 이충우 기자] 한동안 국내 증시 투톱인 삼성전자와 SK하이닉스를 '패닉셀...</td>\n",
       "    </tr>\n",
       "    <tr>\n",
       "      <th>4</th>\n",
       "      <td>삼성전자</td>\n",
       "      <td>5930</td>\n",
       "      <td>매일경제</td>\n",
       "      <td>2021083109</td>\n",
       "      <td>\"점유율 0.5% 굴욕 벗어나나\"…삼성 폴더블 中 100만명 줄섰다</td>\n",
       "      <td>http://news.mk.co.kr/newsRead.php?no=839050&amp;ye...</td>\n",
       "      <td>갤럭시Z 플립3. [사진 제공=삼성전자] 삼성전자가 중국에서 폴더블폰 신작을 내놓자...</td>\n",
       "    </tr>\n",
       "  </tbody>\n",
       "</table>\n",
       "</div>"
      ],
      "text/plain": [
       "   st_n st_cd  news      n_date  \\\n",
       "0  삼성전자  5930  매일경제  2021083115   \n",
       "1  삼성전자  5930  매일경제  2021083110   \n",
       "2  삼성전자  5930  매일경제  2021083017   \n",
       "3  삼성전자  5930  매일경제  2021083122   \n",
       "4  삼성전자  5930  매일경제  2021083109   \n",
       "\n",
       "                                           title  \\\n",
       "0                                     삼성전자-구찌 협업   \n",
       "1     \"이정도일 줄 몰랐다\"…플립·폴드 3 '역대급 돌풍'에 삼성전자 결단 내리나   \n",
       "2                        삼성전자, 3GPP 의장단 2석 추가 확보   \n",
       "3  \"떨어질 만큼 떨어졌나\"…올해 삼성전자 20조 판 외국인 하루 3600억 사들였다   \n",
       "4          \"점유율 0.5% 굴욕 벗어나나\"…삼성 폴더블 中 100만명 줄섰다   \n",
       "\n",
       "                                                 url  \\\n",
       "0  http://news.mk.co.kr/newsRead.php?no=841058&ye...   \n",
       "1  http://news.mk.co.kr/newsRead.php?no=839245&ye...   \n",
       "2  http://news.mk.co.kr/newsRead.php?no=837909&ye...   \n",
       "3  http://news.mk.co.kr/newsRead.php?no=842336&ye...   \n",
       "4  http://news.mk.co.kr/newsRead.php?no=839050&ye...   \n",
       "\n",
       "                                                text  \n",
       "0  삼성전자가 이탈리아 명품 브랜드 구찌와 함께 전용 디지털 애플리케이션(앱) '가옥 ...  \n",
       "1  [사진 제공 = 삼성전자] 갤럭시Z플립3와 Z폴드3 등 3세대 폴더블 스마트폰이 돌...  \n",
       "2   5G(5세대) 이동통신 표준을 개발하는 3GPP(3rd Generation Par...  \n",
       "3  [사진 = 이충우 기자] 한동안 국내 증시 투톱인 삼성전자와 SK하이닉스를 '패닉셀...  \n",
       "4  갤럭시Z 플립3. [사진 제공=삼성전자] 삼성전자가 중국에서 폴더블폰 신작을 내놓자...  "
      ]
     },
     "execution_count": 87,
     "metadata": {},
     "output_type": "execute_result"
    }
   ],
   "source": [
    "df.head()"
   ]
  },
  {
   "cell_type": "code",
   "execution_count": 49,
   "metadata": {
    "id": "Qi5hwPFLBrOs"
   },
   "outputs": [
    {
     "name": "stdout",
     "output_type": "stream",
     "text": [
      "{'neg': 0.0, 'neu': 1.0, 'pos': 0.0, 'compound': 0.0}\n"
     ]
    }
   ],
   "source": [
    "senti_analyzer = SentimentIntensityAnalyzer()\n",
    "# polarity_score로 하나의 텍스트에 대해 각 부정/객관/긍정 그리고 총 합한 감성지수 출력(-1~1)\n",
    "senti_score = senti_analyzer.polarity_scores(df['text'][0])\n",
    "print(senti_score)"
   ]
  },
  {
   "cell_type": "code",
   "execution_count": 50,
   "metadata": {
    "id": "ZEpBax9c_f2t"
   },
   "outputs": [],
   "source": [
    "from sklearn.metrics import accuracy_score, confusion_matrix, precision_score\n",
    "from sklearn.metrics import recall_score, f1_score\n",
    "\n",
    "# 임계치설정(보통 0.1)을 통해 compound(총 감성지수)가 임계치값보다 높으면 긍정, 낮으면 부정으로 분석\n",
    "def get_sentiment(review, threshold):\n",
    "    analyzer = SentimentIntensityAnalyzer()\n",
    "    scores = analyzer.polarity_scores(review)\n",
    "    \n",
    "    compound_score = scores['compound']\n",
    "    final_sentiment = 1 if compound_score >= threshold else 0\n",
    "    return final_sentiment\n",
    "\n",
    " # 각 텍스트 데이터에 위에서 설정한 감성 label 얻는 함수 적용하기\n",
    "# 임계값은 0.1로 설정\n",
    "df['vader_pred'] = df['text'].apply(lambda x : get_sentiment(x, 0.1))\n",
    "\n",
    "# 원본 데이터에서 주어진 정답 label과 VADER로 예측한 label 비교\n",
    "# y_target = review_df['sentiment']\n",
    "# y_pred = review_df['vader_pred']\n",
    "\n",
    "# print(confusion_matrix(y_target, y_pred))\n",
    "# print(\"정확도 :\", accuracy_score(y_target, y_pred))\n",
    "# print(\"정밀도 :\", precision_score(y_target, y_pred))\n",
    "# print(\"재현율 :\", recall_score(y_target, y_pred))\n",
    "# print(\"F1 score :\", f1_score(y_target, y_pred))"
   ]
  },
  {
   "cell_type": "code",
   "execution_count": 53,
   "metadata": {
    "colab": {
     "base_uri": "https://localhost:8080/",
     "height": 49
    },
    "id": "qmXjjVkdALy7",
    "outputId": "d56d3e9d-2b6f-4680-fd9d-da0edd1ea0f2",
    "scrolled": true
   },
   "outputs": [
    {
     "data": {
      "text/plain": [
       "0    1621\n",
       "1      31\n",
       "Name: vader_pred, dtype: int64"
      ]
     },
     "execution_count": 53,
     "metadata": {},
     "output_type": "execute_result"
    }
   ],
   "source": [
    "df['vader_pred'].value_counts() "
   ]
  },
  {
   "cell_type": "markdown",
   "metadata": {},
   "source": [
    "- 대부분 부정의 결과가 나옴\n",
    "- 주식용어가 부정인 점수가 많은것 같다... 다른 감성어휘 사전을 사용하거나 새롭게 만드는게 좋을 듯 싶다.."
   ]
  },
  {
   "cell_type": "code",
   "execution_count": 55,
   "metadata": {
    "scrolled": true
   },
   "outputs": [
    {
     "data": {
      "text/html": [
       "<div>\n",
       "<style scoped>\n",
       "    .dataframe tbody tr th:only-of-type {\n",
       "        vertical-align: middle;\n",
       "    }\n",
       "\n",
       "    .dataframe tbody tr th {\n",
       "        vertical-align: top;\n",
       "    }\n",
       "\n",
       "    .dataframe thead th {\n",
       "        text-align: right;\n",
       "    }\n",
       "</style>\n",
       "<table border=\"1\" class=\"dataframe\">\n",
       "  <thead>\n",
       "    <tr style=\"text-align: right;\">\n",
       "      <th></th>\n",
       "      <th>st_n</th>\n",
       "      <th>st_cd</th>\n",
       "      <th>news</th>\n",
       "      <th>n_date</th>\n",
       "      <th>title</th>\n",
       "      <th>url</th>\n",
       "      <th>text</th>\n",
       "      <th>vader_pred</th>\n",
       "    </tr>\n",
       "  </thead>\n",
       "  <tbody>\n",
       "    <tr>\n",
       "      <th>0</th>\n",
       "      <td>삼성전자</td>\n",
       "      <td>5930</td>\n",
       "      <td>매일경제</td>\n",
       "      <td>2021083115</td>\n",
       "      <td>삼성전자-구찌 협업</td>\n",
       "      <td>http://news.mk.co.kr/newsRead.php?no=841058&amp;ye...</td>\n",
       "      <td>삼성전자가 이탈리아 명품 브랜드 구찌와 함께 전용 디지털 애플리케이션(앱) '가옥 ...</td>\n",
       "      <td>0</td>\n",
       "    </tr>\n",
       "    <tr>\n",
       "      <th>1</th>\n",
       "      <td>삼성전자</td>\n",
       "      <td>5930</td>\n",
       "      <td>매일경제</td>\n",
       "      <td>2021083110</td>\n",
       "      <td>\"이정도일 줄 몰랐다\"…플립·폴드 3 '역대급 돌풍'에 삼성전자 결단 내리나</td>\n",
       "      <td>http://news.mk.co.kr/newsRead.php?no=839245&amp;ye...</td>\n",
       "      <td>[사진 제공 = 삼성전자] 갤럭시Z플립3와 Z폴드3 등 3세대 폴더블 스마트폰이 돌...</td>\n",
       "      <td>0</td>\n",
       "    </tr>\n",
       "    <tr>\n",
       "      <th>2</th>\n",
       "      <td>삼성전자</td>\n",
       "      <td>5930</td>\n",
       "      <td>매일경제</td>\n",
       "      <td>2021083017</td>\n",
       "      <td>삼성전자, 3GPP 의장단 2석 추가 확보</td>\n",
       "      <td>http://news.mk.co.kr/newsRead.php?no=837909&amp;ye...</td>\n",
       "      <td>5G(5세대) 이동통신 표준을 개발하는 3GPP(3rd Generation Par...</td>\n",
       "      <td>0</td>\n",
       "    </tr>\n",
       "    <tr>\n",
       "      <th>3</th>\n",
       "      <td>삼성전자</td>\n",
       "      <td>5930</td>\n",
       "      <td>매일경제</td>\n",
       "      <td>2021083122</td>\n",
       "      <td>\"떨어질 만큼 떨어졌나\"…올해 삼성전자 20조 판 외국인 하루 3600억 사들였다</td>\n",
       "      <td>http://news.mk.co.kr/newsRead.php?no=842336&amp;ye...</td>\n",
       "      <td>[사진 = 이충우 기자] 한동안 국내 증시 투톱인 삼성전자와 SK하이닉스를 '패닉셀...</td>\n",
       "      <td>0</td>\n",
       "    </tr>\n",
       "    <tr>\n",
       "      <th>4</th>\n",
       "      <td>삼성전자</td>\n",
       "      <td>5930</td>\n",
       "      <td>매일경제</td>\n",
       "      <td>2021083109</td>\n",
       "      <td>\"점유율 0.5% 굴욕 벗어나나\"…삼성 폴더블 中 100만명 줄섰다</td>\n",
       "      <td>http://news.mk.co.kr/newsRead.php?no=839050&amp;ye...</td>\n",
       "      <td>갤럭시Z 플립3. [사진 제공=삼성전자] 삼성전자가 중국에서 폴더블폰 신작을 내놓자...</td>\n",
       "      <td>0</td>\n",
       "    </tr>\n",
       "  </tbody>\n",
       "</table>\n",
       "</div>"
      ],
      "text/plain": [
       "   st_n st_cd  news      n_date  \\\n",
       "0  삼성전자  5930  매일경제  2021083115   \n",
       "1  삼성전자  5930  매일경제  2021083110   \n",
       "2  삼성전자  5930  매일경제  2021083017   \n",
       "3  삼성전자  5930  매일경제  2021083122   \n",
       "4  삼성전자  5930  매일경제  2021083109   \n",
       "\n",
       "                                           title  \\\n",
       "0                                     삼성전자-구찌 협업   \n",
       "1     \"이정도일 줄 몰랐다\"…플립·폴드 3 '역대급 돌풍'에 삼성전자 결단 내리나   \n",
       "2                        삼성전자, 3GPP 의장단 2석 추가 확보   \n",
       "3  \"떨어질 만큼 떨어졌나\"…올해 삼성전자 20조 판 외국인 하루 3600억 사들였다   \n",
       "4          \"점유율 0.5% 굴욕 벗어나나\"…삼성 폴더블 中 100만명 줄섰다   \n",
       "\n",
       "                                                 url  \\\n",
       "0  http://news.mk.co.kr/newsRead.php?no=841058&ye...   \n",
       "1  http://news.mk.co.kr/newsRead.php?no=839245&ye...   \n",
       "2  http://news.mk.co.kr/newsRead.php?no=837909&ye...   \n",
       "3  http://news.mk.co.kr/newsRead.php?no=842336&ye...   \n",
       "4  http://news.mk.co.kr/newsRead.php?no=839050&ye...   \n",
       "\n",
       "                                                text  vader_pred  \n",
       "0  삼성전자가 이탈리아 명품 브랜드 구찌와 함께 전용 디지털 애플리케이션(앱) '가옥 ...           0  \n",
       "1  [사진 제공 = 삼성전자] 갤럭시Z플립3와 Z폴드3 등 3세대 폴더블 스마트폰이 돌...           0  \n",
       "2   5G(5세대) 이동통신 표준을 개발하는 3GPP(3rd Generation Par...           0  \n",
       "3  [사진 = 이충우 기자] 한동안 국내 증시 투톱인 삼성전자와 SK하이닉스를 '패닉셀...           0  \n",
       "4  갤럭시Z 플립3. [사진 제공=삼성전자] 삼성전자가 중국에서 폴더블폰 신작을 내놓자...           0  "
      ]
     },
     "execution_count": 55,
     "metadata": {},
     "output_type": "execute_result"
    }
   ],
   "source": [
    "df.head()"
   ]
  },
  {
   "cell_type": "code",
   "execution_count": 54,
   "metadata": {
    "colab": {
     "base_uri": "https://localhost:8080/"
    },
    "id": "f5lFDWpjCIQR",
    "outputId": "963a64f9-add2-467d-940d-1470212e08a5"
   },
   "outputs": [
    {
     "name": "stdout",
     "output_type": "stream",
     "text": [
      "{'neg': 0.0, 'neu': 0.996, 'pos': 0.004, 'compound': 0.8442}\n"
     ]
    },
    {
     "data": {
      "text/plain": [
       "1"
      ]
     },
     "execution_count": 54,
     "metadata": {},
     "output_type": "execute_result"
    }
   ],
   "source": [
    "# 유튜브 스크립트 감성 분석 결과 \n",
    "senti_score = senti_analyzer.polarity_scores(a)\n",
    "print(senti_score)\n",
    "\n",
    "get_sentiment(a, 0.1)"
   ]
  },
  {
   "cell_type": "markdown",
   "metadata": {
    "id": "8jNc03CwCzqi"
   },
   "source": [
    "## 자체 주식 감성어휘 사전으로 감성분석"
   ]
  },
  {
   "cell_type": "code",
   "execution_count": 72,
   "metadata": {},
   "outputs": [],
   "source": [
    "# 간단한 긍부정 텍스트 모음 -- 기존 블로그에서 가져옴\n",
    "\n",
    "with open(\"./negative_words_self.txt\", encoding='utf-8') as neg:\n",
    "    negative = neg.readlines()\n",
    "negative = [neg.replace(\"\\n\", \"\") for neg in negative] \n",
    "\n",
    "with open(\"./positive_words_self.txt\", encoding='utf-8') as pos:\n",
    "    positive = pos.readlines()\n",
    "positive = [pos.replace(\"\\n\", \"\") for pos in positive]\n"
   ]
  },
  {
   "cell_type": "markdown",
   "metadata": {},
   "source": [
    "### 주식변동을 통해서 단어리스트를 가져옴"
   ]
  },
  {
   "cell_type": "code",
   "execution_count": 73,
   "metadata": {
    "collapsed": true
   },
   "outputs": [
    {
     "name": "stdout",
     "output_type": "stream",
     "text": [
      "Defaulting to user installation because normal site-packages is not writeable\n",
      "Collecting finance-datareader\n",
      "  Downloading finance_datareader-0.9.31-py3-none-any.whl (17 kB)\n",
      "Requirement already satisfied: lxml in ./.local/lib/python3.6/site-packages (from finance-datareader) (4.6.3)\n",
      "Requirement already satisfied: tqdm in /usr/local/lib/python3.6/dist-packages (from finance-datareader) (4.61.2)\n",
      "Collecting requests-file\n",
      "  Downloading requests_file-1.5.1-py2.py3-none-any.whl (3.7 kB)\n",
      "Requirement already satisfied: requests>=2.3.0 in /usr/local/lib/python3.6/dist-packages (from finance-datareader) (2.26.0)\n",
      "Requirement already satisfied: pandas>=0.19.2 in /usr/local/lib/python3.6/dist-packages (from finance-datareader) (1.1.5)\n",
      "Requirement already satisfied: pytz>=2017.2 in /usr/local/lib/python3.6/dist-packages (from pandas>=0.19.2->finance-datareader) (2021.1)\n",
      "Requirement already satisfied: python-dateutil>=2.7.3 in /usr/local/lib/python3.6/dist-packages (from pandas>=0.19.2->finance-datareader) (2.8.2)\n",
      "Requirement already satisfied: numpy>=1.15.4 in /usr/local/lib/python3.6/dist-packages (from pandas>=0.19.2->finance-datareader) (1.19.5)\n",
      "Requirement already satisfied: six>=1.5 in /usr/local/lib/python3.6/dist-packages (from python-dateutil>=2.7.3->pandas>=0.19.2->finance-datareader) (1.16.0)\n",
      "Requirement already satisfied: idna<4,>=2.5 in /usr/local/lib/python3.6/dist-packages (from requests>=2.3.0->finance-datareader) (3.2)\n",
      "Requirement already satisfied: charset-normalizer~=2.0.0 in /usr/local/lib/python3.6/dist-packages (from requests>=2.3.0->finance-datareader) (2.0.3)\n",
      "Requirement already satisfied: urllib3<1.27,>=1.21.1 in /usr/local/lib/python3.6/dist-packages (from requests>=2.3.0->finance-datareader) (1.26.6)\n",
      "Requirement already satisfied: certifi>=2017.4.17 in /usr/local/lib/python3.6/dist-packages (from requests>=2.3.0->finance-datareader) (2021.5.30)\n",
      "Installing collected packages: requests-file, finance-datareader\n",
      "Successfully installed finance-datareader-0.9.31 requests-file-1.5.1\n"
     ]
    }
   ],
   "source": [
    "!pip install finance-datareader"
   ]
  },
  {
   "cell_type": "code",
   "execution_count": 77,
   "metadata": {},
   "outputs": [],
   "source": [
    "df_1 = df.copy()"
   ]
  },
  {
   "cell_type": "code",
   "execution_count": 109,
   "metadata": {},
   "outputs": [],
   "source": [
    "df_1['date_d'] = df['n_date'].str[:-2]\n",
    "df_1['date_h'] = df['n_date'].str[-2:]"
   ]
  },
  {
   "cell_type": "code",
   "execution_count": 110,
   "metadata": {
    "scrolled": true
   },
   "outputs": [
    {
     "data": {
      "text/html": [
       "<div>\n",
       "<style scoped>\n",
       "    .dataframe tbody tr th:only-of-type {\n",
       "        vertical-align: middle;\n",
       "    }\n",
       "\n",
       "    .dataframe tbody tr th {\n",
       "        vertical-align: top;\n",
       "    }\n",
       "\n",
       "    .dataframe thead th {\n",
       "        text-align: right;\n",
       "    }\n",
       "</style>\n",
       "<table border=\"1\" class=\"dataframe\">\n",
       "  <thead>\n",
       "    <tr style=\"text-align: right;\">\n",
       "      <th></th>\n",
       "      <th>st_n</th>\n",
       "      <th>st_cd</th>\n",
       "      <th>news</th>\n",
       "      <th>n_date</th>\n",
       "      <th>title</th>\n",
       "      <th>url</th>\n",
       "      <th>text</th>\n",
       "      <th>vader_pred</th>\n",
       "      <th>date_d</th>\n",
       "      <th>date_h</th>\n",
       "    </tr>\n",
       "  </thead>\n",
       "  <tbody>\n",
       "    <tr>\n",
       "      <th>0</th>\n",
       "      <td>삼성전자</td>\n",
       "      <td>5930</td>\n",
       "      <td>매일경제</td>\n",
       "      <td>2021083115</td>\n",
       "      <td>삼성전자-구찌 협업</td>\n",
       "      <td>http://news.mk.co.kr/newsRead.php?no=841058&amp;ye...</td>\n",
       "      <td>삼성전자가 이탈리아 명품 브랜드 구찌와 함께 전용 디지털 애플리케이션(앱) '가옥 ...</td>\n",
       "      <td>0</td>\n",
       "      <td>20210831</td>\n",
       "      <td>15</td>\n",
       "    </tr>\n",
       "    <tr>\n",
       "      <th>1</th>\n",
       "      <td>삼성전자</td>\n",
       "      <td>5930</td>\n",
       "      <td>매일경제</td>\n",
       "      <td>2021083110</td>\n",
       "      <td>\"이정도일 줄 몰랐다\"…플립·폴드 3 '역대급 돌풍'에 삼성전자 결단 내리나</td>\n",
       "      <td>http://news.mk.co.kr/newsRead.php?no=839245&amp;ye...</td>\n",
       "      <td>[사진 제공 = 삼성전자] 갤럭시Z플립3와 Z폴드3 등 3세대 폴더블 스마트폰이 돌...</td>\n",
       "      <td>0</td>\n",
       "      <td>20210831</td>\n",
       "      <td>10</td>\n",
       "    </tr>\n",
       "    <tr>\n",
       "      <th>2</th>\n",
       "      <td>삼성전자</td>\n",
       "      <td>5930</td>\n",
       "      <td>매일경제</td>\n",
       "      <td>2021083017</td>\n",
       "      <td>삼성전자, 3GPP 의장단 2석 추가 확보</td>\n",
       "      <td>http://news.mk.co.kr/newsRead.php?no=837909&amp;ye...</td>\n",
       "      <td>5G(5세대) 이동통신 표준을 개발하는 3GPP(3rd Generation Par...</td>\n",
       "      <td>0</td>\n",
       "      <td>20210830</td>\n",
       "      <td>17</td>\n",
       "    </tr>\n",
       "    <tr>\n",
       "      <th>3</th>\n",
       "      <td>삼성전자</td>\n",
       "      <td>5930</td>\n",
       "      <td>매일경제</td>\n",
       "      <td>2021083122</td>\n",
       "      <td>\"떨어질 만큼 떨어졌나\"…올해 삼성전자 20조 판 외국인 하루 3600억 사들였다</td>\n",
       "      <td>http://news.mk.co.kr/newsRead.php?no=842336&amp;ye...</td>\n",
       "      <td>[사진 = 이충우 기자] 한동안 국내 증시 투톱인 삼성전자와 SK하이닉스를 '패닉셀...</td>\n",
       "      <td>0</td>\n",
       "      <td>20210831</td>\n",
       "      <td>22</td>\n",
       "    </tr>\n",
       "    <tr>\n",
       "      <th>4</th>\n",
       "      <td>삼성전자</td>\n",
       "      <td>5930</td>\n",
       "      <td>매일경제</td>\n",
       "      <td>2021083109</td>\n",
       "      <td>\"점유율 0.5% 굴욕 벗어나나\"…삼성 폴더블 中 100만명 줄섰다</td>\n",
       "      <td>http://news.mk.co.kr/newsRead.php?no=839050&amp;ye...</td>\n",
       "      <td>갤럭시Z 플립3. [사진 제공=삼성전자] 삼성전자가 중국에서 폴더블폰 신작을 내놓자...</td>\n",
       "      <td>0</td>\n",
       "      <td>20210831</td>\n",
       "      <td>09</td>\n",
       "    </tr>\n",
       "  </tbody>\n",
       "</table>\n",
       "</div>"
      ],
      "text/plain": [
       "   st_n st_cd  news      n_date  \\\n",
       "0  삼성전자  5930  매일경제  2021083115   \n",
       "1  삼성전자  5930  매일경제  2021083110   \n",
       "2  삼성전자  5930  매일경제  2021083017   \n",
       "3  삼성전자  5930  매일경제  2021083122   \n",
       "4  삼성전자  5930  매일경제  2021083109   \n",
       "\n",
       "                                           title  \\\n",
       "0                                     삼성전자-구찌 협업   \n",
       "1     \"이정도일 줄 몰랐다\"…플립·폴드 3 '역대급 돌풍'에 삼성전자 결단 내리나   \n",
       "2                        삼성전자, 3GPP 의장단 2석 추가 확보   \n",
       "3  \"떨어질 만큼 떨어졌나\"…올해 삼성전자 20조 판 외국인 하루 3600억 사들였다   \n",
       "4          \"점유율 0.5% 굴욕 벗어나나\"…삼성 폴더블 中 100만명 줄섰다   \n",
       "\n",
       "                                                 url  \\\n",
       "0  http://news.mk.co.kr/newsRead.php?no=841058&ye...   \n",
       "1  http://news.mk.co.kr/newsRead.php?no=839245&ye...   \n",
       "2  http://news.mk.co.kr/newsRead.php?no=837909&ye...   \n",
       "3  http://news.mk.co.kr/newsRead.php?no=842336&ye...   \n",
       "4  http://news.mk.co.kr/newsRead.php?no=839050&ye...   \n",
       "\n",
       "                                                text  vader_pred    date_d  \\\n",
       "0  삼성전자가 이탈리아 명품 브랜드 구찌와 함께 전용 디지털 애플리케이션(앱) '가옥 ...           0  20210831   \n",
       "1  [사진 제공 = 삼성전자] 갤럭시Z플립3와 Z폴드3 등 3세대 폴더블 스마트폰이 돌...           0  20210831   \n",
       "2   5G(5세대) 이동통신 표준을 개발하는 3GPP(3rd Generation Par...           0  20210830   \n",
       "3  [사진 = 이충우 기자] 한동안 국내 증시 투톱인 삼성전자와 SK하이닉스를 '패닉셀...           0  20210831   \n",
       "4  갤럭시Z 플립3. [사진 제공=삼성전자] 삼성전자가 중국에서 폴더블폰 신작을 내놓자...           0  20210831   \n",
       "\n",
       "  date_h  \n",
       "0     15  \n",
       "1     10  \n",
       "2     17  \n",
       "3     22  \n",
       "4     09  "
      ]
     },
     "execution_count": 110,
     "metadata": {},
     "output_type": "execute_result"
    }
   ],
   "source": [
    "df_1.head()"
   ]
  },
  {
   "cell_type": "code",
   "execution_count": 111,
   "metadata": {
    "scrolled": true
   },
   "outputs": [],
   "source": [
    "df_1['date_d'] = pd.to_datetime(df_1['date_d'])"
   ]
  },
  {
   "cell_type": "code",
   "execution_count": 112,
   "metadata": {
    "scrolled": true
   },
   "outputs": [
    {
     "data": {
      "text/html": [
       "<div>\n",
       "<style scoped>\n",
       "    .dataframe tbody tr th:only-of-type {\n",
       "        vertical-align: middle;\n",
       "    }\n",
       "\n",
       "    .dataframe tbody tr th {\n",
       "        vertical-align: top;\n",
       "    }\n",
       "\n",
       "    .dataframe thead th {\n",
       "        text-align: right;\n",
       "    }\n",
       "</style>\n",
       "<table border=\"1\" class=\"dataframe\">\n",
       "  <thead>\n",
       "    <tr style=\"text-align: right;\">\n",
       "      <th></th>\n",
       "      <th>st_n</th>\n",
       "      <th>st_cd</th>\n",
       "      <th>news</th>\n",
       "      <th>n_date</th>\n",
       "      <th>title</th>\n",
       "      <th>url</th>\n",
       "      <th>text</th>\n",
       "      <th>vader_pred</th>\n",
       "      <th>date_d</th>\n",
       "      <th>date_h</th>\n",
       "    </tr>\n",
       "  </thead>\n",
       "  <tbody>\n",
       "    <tr>\n",
       "      <th>1251</th>\n",
       "      <td>카카오</td>\n",
       "      <td>35720</td>\n",
       "      <td>매일경제</td>\n",
       "      <td>2021080117</td>\n",
       "      <td>'디지털 매경'에 1309만 독자 꽂혔다</td>\n",
       "      <td>http://news.mk.co.kr/newsRead.php?no=743050&amp;ye...</td>\n",
       "      <td>◆ 미디어 플랫폼 리더 매경 ◆ 매경미디어그룹은 신문·종합편성채널·경제방송·주간지·...</td>\n",
       "      <td>0</td>\n",
       "      <td>2021-08-01</td>\n",
       "      <td>17</td>\n",
       "    </tr>\n",
       "    <tr>\n",
       "      <th>291</th>\n",
       "      <td>삼성전자</td>\n",
       "      <td>5930</td>\n",
       "      <td>매일경제</td>\n",
       "      <td>2021080121</td>\n",
       "      <td>\"외국인 기관 9조 매물 받아냈다\"…'사긴 사는데 꺼림칙' 개미 돌파구는…</td>\n",
       "      <td>http://news.mk.co.kr/newsRead.php?no=743682&amp;ye...</td>\n",
       "      <td>29일 서울 중구 을지로 하나은행 본점 딜링룸 현황판에 코스피 3,242.65포인트...</td>\n",
       "      <td>0</td>\n",
       "      <td>2021-08-01</td>\n",
       "      <td>21</td>\n",
       "    </tr>\n",
       "    <tr>\n",
       "      <th>1588</th>\n",
       "      <td>현대차</td>\n",
       "      <td>5380</td>\n",
       "      <td>매일경제</td>\n",
       "      <td>2021080117</td>\n",
       "      <td>지난달 개미 9조 샀지만…수익은 지지부진</td>\n",
       "      <td>http://news.mk.co.kr/newsRead.php?no=742856&amp;ye...</td>\n",
       "      <td>개인투자자가 지난달 반도체와 전기차 관련주에 집중 투자했지만 손실을 봤던 것으로 ...</td>\n",
       "      <td>0</td>\n",
       "      <td>2021-08-01</td>\n",
       "      <td>17</td>\n",
       "    </tr>\n",
       "    <tr>\n",
       "      <th>1354</th>\n",
       "      <td>삼성바이오로직스</td>\n",
       "      <td>207940</td>\n",
       "      <td>매일경제</td>\n",
       "      <td>2021080111</td>\n",
       "      <td>\"그때 내가 왜 샀지\" 동학개미…지난달 9조 순매수, 줄줄이 마이너스</td>\n",
       "      <td>http://news.mk.co.kr/newsRead.php?no=742016&amp;ye...</td>\n",
       "      <td>지난달 30일 오후 서울 중구 하나은행 본점 딜링룸에 이날 마감된 코스피가 표시돼 ...</td>\n",
       "      <td>0</td>\n",
       "      <td>2021-08-01</td>\n",
       "      <td>11</td>\n",
       "    </tr>\n",
       "    <tr>\n",
       "      <th>457</th>\n",
       "      <td>하이닉스</td>\n",
       "      <td>660</td>\n",
       "      <td>매일경제</td>\n",
       "      <td>2021080111</td>\n",
       "      <td>\"그때 내가 왜 샀지\" 동학개미…지난달 9조 순매수, 줄줄이 마이너스</td>\n",
       "      <td>http://news.mk.co.kr/newsRead.php?no=742016&amp;ye...</td>\n",
       "      <td>지난달 30일 오후 서울 중구 하나은행 본점 딜링룸에 이날 마감된 코스피가 표시돼 ...</td>\n",
       "      <td>0</td>\n",
       "      <td>2021-08-01</td>\n",
       "      <td>11</td>\n",
       "    </tr>\n",
       "    <tr>\n",
       "      <th>...</th>\n",
       "      <td>...</td>\n",
       "      <td>...</td>\n",
       "      <td>...</td>\n",
       "      <td>...</td>\n",
       "      <td>...</td>\n",
       "      <td>...</td>\n",
       "      <td>...</td>\n",
       "      <td>...</td>\n",
       "      <td>...</td>\n",
       "      <td>...</td>\n",
       "    </tr>\n",
       "    <tr>\n",
       "      <th>1263</th>\n",
       "      <td>카카오</td>\n",
       "      <td>35720</td>\n",
       "      <td>매일경제</td>\n",
       "      <td>n</td>\n",
       "      <td>샤이니 민호 “12월 9일 생일이라 ‘머선129’ 출연”</td>\n",
       "      <td>http://star.mk.co.kr/new/view.php?mc=ST&amp;year=2...</td>\n",
       "      <td>None</td>\n",
       "      <td>0</td>\n",
       "      <td>NaT</td>\n",
       "      <td>n</td>\n",
       "    </tr>\n",
       "    <tr>\n",
       "      <th>1265</th>\n",
       "      <td>카카오</td>\n",
       "      <td>35720</td>\n",
       "      <td>매일경제</td>\n",
       "      <td>n</td>\n",
       "      <td>글로벌 웹툰 스튜디오 '엠젯패밀리' 40억 규모 시리즈A 투자 유치</td>\n",
       "      <td>http://mirakle.mk.co.kr/view.php?year=2021&amp;no=...</td>\n",
       "      <td>웹툰과 웹소설 등 다양한 콘텐츠를 유통·제작하는 스타트...</td>\n",
       "      <td>0</td>\n",
       "      <td>NaT</td>\n",
       "      <td>n</td>\n",
       "    </tr>\n",
       "    <tr>\n",
       "      <th>1273</th>\n",
       "      <td>카카오</td>\n",
       "      <td>35720</td>\n",
       "      <td>매일경제</td>\n",
       "      <td>n</td>\n",
       "      <td>'거침마당' 박명수 “설운도 돌 수집 반대한 형수...2억짜리 돌에 박수\"</td>\n",
       "      <td>http://star.mk.co.kr/new/view.php?mc=ST&amp;year=2...</td>\n",
       "      <td>None</td>\n",
       "      <td>0</td>\n",
       "      <td>NaT</td>\n",
       "      <td>n</td>\n",
       "    </tr>\n",
       "    <tr>\n",
       "      <th>1278</th>\n",
       "      <td>카카오</td>\n",
       "      <td>35720</td>\n",
       "      <td>매일경제</td>\n",
       "      <td>n</td>\n",
       "      <td>'라디오쇼' 이말년 “삼국지 되고 싶은 인물 없어...전쟁시대라 다 힘들어\"</td>\n",
       "      <td>http://star.mk.co.kr/new/view.php?mc=ST&amp;year=2...</td>\n",
       "      <td>None</td>\n",
       "      <td>0</td>\n",
       "      <td>NaT</td>\n",
       "      <td>n</td>\n",
       "    </tr>\n",
       "    <tr>\n",
       "      <th>1615</th>\n",
       "      <td>셀트리온</td>\n",
       "      <td>68270</td>\n",
       "      <td>매일경제</td>\n",
       "      <td>n</td>\n",
       "      <td>'음주사고' 애프터스쿨 리지, 9월 27일 첫 재판</td>\n",
       "      <td>http://star.mk.co.kr/new/view.php?mc=ST&amp;year=2...</td>\n",
       "      <td>None</td>\n",
       "      <td>0</td>\n",
       "      <td>NaT</td>\n",
       "      <td>n</td>\n",
       "    </tr>\n",
       "  </tbody>\n",
       "</table>\n",
       "<p>1652 rows × 10 columns</p>\n",
       "</div>"
      ],
      "text/plain": [
       "          st_n   st_cd  news      n_date  \\\n",
       "1251       카카오   35720  매일경제  2021080117   \n",
       "291       삼성전자    5930  매일경제  2021080121   \n",
       "1588       현대차    5380  매일경제  2021080117   \n",
       "1354  삼성바이오로직스  207940  매일경제  2021080111   \n",
       "457       하이닉스     660  매일경제  2021080111   \n",
       "...        ...     ...   ...         ...   \n",
       "1263       카카오   35720  매일경제           n   \n",
       "1265       카카오   35720  매일경제           n   \n",
       "1273       카카오   35720  매일경제           n   \n",
       "1278       카카오   35720  매일경제           n   \n",
       "1615      셀트리온   68270  매일경제           n   \n",
       "\n",
       "                                           title  \\\n",
       "1251                      '디지털 매경'에 1309만 독자 꽂혔다   \n",
       "291    \"외국인 기관 9조 매물 받아냈다\"…'사긴 사는데 꺼림칙' 개미 돌파구는…   \n",
       "1588                      지난달 개미 9조 샀지만…수익은 지지부진   \n",
       "1354      \"그때 내가 왜 샀지\" 동학개미…지난달 9조 순매수, 줄줄이 마이너스   \n",
       "457       \"그때 내가 왜 샀지\" 동학개미…지난달 9조 순매수, 줄줄이 마이너스   \n",
       "...                                          ...   \n",
       "1263             샤이니 민호 “12월 9일 생일이라 ‘머선129’ 출연”   \n",
       "1265       글로벌 웹툰 스튜디오 '엠젯패밀리' 40억 규모 시리즈A 투자 유치   \n",
       "1273   '거침마당' 박명수 “설운도 돌 수집 반대한 형수...2억짜리 돌에 박수\"   \n",
       "1278  '라디오쇼' 이말년 “삼국지 되고 싶은 인물 없어...전쟁시대라 다 힘들어\"   \n",
       "1615                '음주사고' 애프터스쿨 리지, 9월 27일 첫 재판   \n",
       "\n",
       "                                                    url  \\\n",
       "1251  http://news.mk.co.kr/newsRead.php?no=743050&ye...   \n",
       "291   http://news.mk.co.kr/newsRead.php?no=743682&ye...   \n",
       "1588  http://news.mk.co.kr/newsRead.php?no=742856&ye...   \n",
       "1354  http://news.mk.co.kr/newsRead.php?no=742016&ye...   \n",
       "457   http://news.mk.co.kr/newsRead.php?no=742016&ye...   \n",
       "...                                                 ...   \n",
       "1263  http://star.mk.co.kr/new/view.php?mc=ST&year=2...   \n",
       "1265  http://mirakle.mk.co.kr/view.php?year=2021&no=...   \n",
       "1273  http://star.mk.co.kr/new/view.php?mc=ST&year=2...   \n",
       "1278  http://star.mk.co.kr/new/view.php?mc=ST&year=2...   \n",
       "1615  http://star.mk.co.kr/new/view.php?mc=ST&year=2...   \n",
       "\n",
       "                                                   text  vader_pred  \\\n",
       "1251  ◆ 미디어 플랫폼 리더 매경 ◆ 매경미디어그룹은 신문·종합편성채널·경제방송·주간지·...           0   \n",
       "291   29일 서울 중구 을지로 하나은행 본점 딜링룸 현황판에 코스피 3,242.65포인트...           0   \n",
       "1588   개인투자자가 지난달 반도체와 전기차 관련주에 집중 투자했지만 손실을 봤던 것으로 ...           0   \n",
       "1354  지난달 30일 오후 서울 중구 하나은행 본점 딜링룸에 이날 마감된 코스피가 표시돼 ...           0   \n",
       "457   지난달 30일 오후 서울 중구 하나은행 본점 딜링룸에 이날 마감된 코스피가 표시돼 ...           0   \n",
       "...                                                 ...         ...   \n",
       "1263                                               None           0   \n",
       "1265                  웹툰과 웹소설 등 다양한 콘텐츠를 유통·제작하는 스타트...           0   \n",
       "1273                                               None           0   \n",
       "1278                                               None           0   \n",
       "1615                                               None           0   \n",
       "\n",
       "         date_d date_h  \n",
       "1251 2021-08-01     17  \n",
       "291  2021-08-01     21  \n",
       "1588 2021-08-01     17  \n",
       "1354 2021-08-01     11  \n",
       "457  2021-08-01     11  \n",
       "...         ...    ...  \n",
       "1263        NaT      n  \n",
       "1265        NaT      n  \n",
       "1273        NaT      n  \n",
       "1278        NaT      n  \n",
       "1615        NaT      n  \n",
       "\n",
       "[1652 rows x 10 columns]"
      ]
     },
     "execution_count": 112,
     "metadata": {},
     "output_type": "execute_result"
    }
   ],
   "source": [
    "df_1.sort_values(by='date_d')"
   ]
  },
  {
   "cell_type": "code",
   "execution_count": 117,
   "metadata": {},
   "outputs": [],
   "source": [
    "df_2 = df_1[df_1['st_n'] == '삼성전자']"
   ]
  },
  {
   "cell_type": "code",
   "execution_count": 118,
   "metadata": {},
   "outputs": [],
   "source": [
    "df_2 = df_2.dropna()"
   ]
  },
  {
   "cell_type": "code",
   "execution_count": 119,
   "metadata": {},
   "outputs": [],
   "source": [
    "df_2.drop(columns = ['st_n', 'news','n_date', 'url'], inplace=True)"
   ]
  },
  {
   "cell_type": "code",
   "execution_count": 122,
   "metadata": {},
   "outputs": [],
   "source": [
    "df_2 = df_2.sort_values(by='date_d')"
   ]
  },
  {
   "cell_type": "code",
   "execution_count": 123,
   "metadata": {
    "scrolled": true
   },
   "outputs": [
    {
     "data": {
      "text/html": [
       "<div>\n",
       "<style scoped>\n",
       "    .dataframe tbody tr th:only-of-type {\n",
       "        vertical-align: middle;\n",
       "    }\n",
       "\n",
       "    .dataframe tbody tr th {\n",
       "        vertical-align: top;\n",
       "    }\n",
       "\n",
       "    .dataframe thead th {\n",
       "        text-align: right;\n",
       "    }\n",
       "</style>\n",
       "<table border=\"1\" class=\"dataframe\">\n",
       "  <thead>\n",
       "    <tr style=\"text-align: right;\">\n",
       "      <th></th>\n",
       "      <th>st_cd</th>\n",
       "      <th>title</th>\n",
       "      <th>text</th>\n",
       "      <th>vader_pred</th>\n",
       "      <th>date_d</th>\n",
       "      <th>date_h</th>\n",
       "    </tr>\n",
       "  </thead>\n",
       "  <tbody>\n",
       "    <tr>\n",
       "      <th>301</th>\n",
       "      <td>5930</td>\n",
       "      <td>지난달 개미 9조 샀지만…수익은 지지부진</td>\n",
       "      <td>개인투자자가 지난달 반도체와 전기차 관련주에 집중 투자했지만 손실을 봤던 것으로 ...</td>\n",
       "      <td>0</td>\n",
       "      <td>2021-08-01</td>\n",
       "      <td>17</td>\n",
       "    </tr>\n",
       "    <tr>\n",
       "      <th>328</th>\n",
       "      <td>5930</td>\n",
       "      <td>\"재테크하려면 지금 당장 가입하라\"…증권사 전화 불나게 만든 상품은?</td>\n",
       "      <td>[사진 = 이승환 기자] 다양한 금융상품에 투자할 수 있고 세제 혜택도 있어 '만능...</td>\n",
       "      <td>0</td>\n",
       "      <td>2021-08-01</td>\n",
       "      <td>06</td>\n",
       "    </tr>\n",
       "    <tr>\n",
       "      <th>255</th>\n",
       "      <td>5930</td>\n",
       "      <td>\"가전제품이 20초에 한대씩 팔리다니\"…50년의 기다림 끝에 대세됐다</td>\n",
       "      <td>LG전자가 1968년 국내 가전업계에서 처음 선보인 창문형 에어컨 `GA-111`....</td>\n",
       "      <td>0</td>\n",
       "      <td>2021-08-01</td>\n",
       "      <td>06</td>\n",
       "    </tr>\n",
       "    <tr>\n",
       "      <th>128</th>\n",
       "      <td>5930</td>\n",
       "      <td>[단독] 삼성 현대차 SK 또 발등에 불…\"제2사드보복 될라\"</td>\n",
       "      <td>◆ 美 베이징올림픽 때리기 ◆미 백악관 [사진 출처 = 연합뉴스] 미국 의회와 인권...</td>\n",
       "      <td>0</td>\n",
       "      <td>2021-08-01</td>\n",
       "      <td>17</td>\n",
       "    </tr>\n",
       "    <tr>\n",
       "      <th>119</th>\n",
       "      <td>5930</td>\n",
       "      <td>'7만전자' 늪 빠진 '최고실적' 삼성전자…의미있는 점프 하려면</td>\n",
       "      <td>[출처 : 매일경제DB] 2분기 실적도 좋았고 3분기 전망도 좋은 삼성전자의 주가가...</td>\n",
       "      <td>0</td>\n",
       "      <td>2021-08-01</td>\n",
       "      <td>21</td>\n",
       "    </tr>\n",
       "  </tbody>\n",
       "</table>\n",
       "</div>"
      ],
      "text/plain": [
       "    st_cd                                   title  \\\n",
       "301  5930                  지난달 개미 9조 샀지만…수익은 지지부진   \n",
       "328  5930  \"재테크하려면 지금 당장 가입하라\"…증권사 전화 불나게 만든 상품은?   \n",
       "255  5930  \"가전제품이 20초에 한대씩 팔리다니\"…50년의 기다림 끝에 대세됐다   \n",
       "128  5930      [단독] 삼성 현대차 SK 또 발등에 불…\"제2사드보복 될라\"   \n",
       "119  5930     '7만전자' 늪 빠진 '최고실적' 삼성전자…의미있는 점프 하려면   \n",
       "\n",
       "                                                  text  vader_pred     date_d  \\\n",
       "301   개인투자자가 지난달 반도체와 전기차 관련주에 집중 투자했지만 손실을 봤던 것으로 ...           0 2021-08-01   \n",
       "328  [사진 = 이승환 기자] 다양한 금융상품에 투자할 수 있고 세제 혜택도 있어 '만능...           0 2021-08-01   \n",
       "255  LG전자가 1968년 국내 가전업계에서 처음 선보인 창문형 에어컨 `GA-111`....           0 2021-08-01   \n",
       "128  ◆ 美 베이징올림픽 때리기 ◆미 백악관 [사진 출처 = 연합뉴스] 미국 의회와 인권...           0 2021-08-01   \n",
       "119  [출처 : 매일경제DB] 2분기 실적도 좋았고 3분기 전망도 좋은 삼성전자의 주가가...           0 2021-08-01   \n",
       "\n",
       "    date_h  \n",
       "301     17  \n",
       "328     06  \n",
       "255     06  \n",
       "128     17  \n",
       "119     21  "
      ]
     },
     "execution_count": 123,
     "metadata": {},
     "output_type": "execute_result"
    }
   ],
   "source": [
    "df_2.head()"
   ]
  },
  {
   "cell_type": "code",
   "execution_count": 163,
   "metadata": {},
   "outputs": [],
   "source": [
    "import datetime"
   ]
  },
  {
   "cell_type": "code",
   "execution_count": 165,
   "metadata": {},
   "outputs": [],
   "source": [
    "df_2['date_i'] = df_2['date_d'] + datetime.timedelta(1)"
   ]
  },
  {
   "cell_type": "code",
   "execution_count": 166,
   "metadata": {},
   "outputs": [],
   "source": [
    "import numpy as np"
   ]
  },
  {
   "cell_type": "code",
   "execution_count": 167,
   "metadata": {},
   "outputs": [],
   "source": [
    "import FinanceDataReader as fdr"
   ]
  },
  {
   "cell_type": "code",
   "execution_count": 168,
   "metadata": {},
   "outputs": [
    {
     "data": {
      "text/html": [
       "<div>\n",
       "<style scoped>\n",
       "    .dataframe tbody tr th:only-of-type {\n",
       "        vertical-align: middle;\n",
       "    }\n",
       "\n",
       "    .dataframe tbody tr th {\n",
       "        vertical-align: top;\n",
       "    }\n",
       "\n",
       "    .dataframe thead th {\n",
       "        text-align: right;\n",
       "    }\n",
       "</style>\n",
       "<table border=\"1\" class=\"dataframe\">\n",
       "  <thead>\n",
       "    <tr style=\"text-align: right;\">\n",
       "      <th></th>\n",
       "      <th>Open</th>\n",
       "      <th>High</th>\n",
       "      <th>Low</th>\n",
       "      <th>Close</th>\n",
       "      <th>Volume</th>\n",
       "      <th>Change</th>\n",
       "    </tr>\n",
       "    <tr>\n",
       "      <th>Date</th>\n",
       "      <th></th>\n",
       "      <th></th>\n",
       "      <th></th>\n",
       "      <th></th>\n",
       "      <th></th>\n",
       "      <th></th>\n",
       "    </tr>\n",
       "  </thead>\n",
       "  <tbody>\n",
       "    <tr>\n",
       "      <th>2021-08-02</th>\n",
       "      <td>79200</td>\n",
       "      <td>79500</td>\n",
       "      <td>78700</td>\n",
       "      <td>79300</td>\n",
       "      <td>11739124</td>\n",
       "      <td>0.010191</td>\n",
       "    </tr>\n",
       "  </tbody>\n",
       "</table>\n",
       "</div>"
      ],
      "text/plain": [
       "             Open   High    Low  Close    Volume    Change\n",
       "Date                                                      \n",
       "2021-08-02  79200  79500  78700  79300  11739124  0.010191"
      ]
     },
     "execution_count": 168,
     "metadata": {},
     "output_type": "execute_result"
    }
   ],
   "source": [
    "start_date = '20210731'  # 2011년 부터 10간의 데이터를 추출\n",
    "end_date = '20210831'\n",
    "sample_code = '005930'\n",
    "stock = fdr.DataReader( sample_code, start = start_date, end = end_date )\n",
    "stock.head(1)"
   ]
  },
  {
   "cell_type": "code",
   "execution_count": 169,
   "metadata": {},
   "outputs": [],
   "source": [
    "stock = stock.reset_index()"
   ]
  },
  {
   "cell_type": "code",
   "execution_count": 170,
   "metadata": {},
   "outputs": [
    {
     "data": {
      "text/html": [
       "<div>\n",
       "<style scoped>\n",
       "    .dataframe tbody tr th:only-of-type {\n",
       "        vertical-align: middle;\n",
       "    }\n",
       "\n",
       "    .dataframe tbody tr th {\n",
       "        vertical-align: top;\n",
       "    }\n",
       "\n",
       "    .dataframe thead th {\n",
       "        text-align: right;\n",
       "    }\n",
       "</style>\n",
       "<table border=\"1\" class=\"dataframe\">\n",
       "  <thead>\n",
       "    <tr style=\"text-align: right;\">\n",
       "      <th></th>\n",
       "      <th>Date</th>\n",
       "      <th>Open</th>\n",
       "      <th>High</th>\n",
       "      <th>Low</th>\n",
       "      <th>Close</th>\n",
       "      <th>Volume</th>\n",
       "      <th>Change</th>\n",
       "    </tr>\n",
       "  </thead>\n",
       "  <tbody>\n",
       "    <tr>\n",
       "      <th>0</th>\n",
       "      <td>2021-08-02</td>\n",
       "      <td>79200</td>\n",
       "      <td>79500</td>\n",
       "      <td>78700</td>\n",
       "      <td>79300</td>\n",
       "      <td>11739124</td>\n",
       "      <td>0.010191</td>\n",
       "    </tr>\n",
       "    <tr>\n",
       "      <th>1</th>\n",
       "      <td>2021-08-03</td>\n",
       "      <td>79400</td>\n",
       "      <td>81400</td>\n",
       "      <td>79300</td>\n",
       "      <td>81400</td>\n",
       "      <td>24339360</td>\n",
       "      <td>0.026482</td>\n",
       "    </tr>\n",
       "    <tr>\n",
       "      <th>2</th>\n",
       "      <td>2021-08-04</td>\n",
       "      <td>82200</td>\n",
       "      <td>83100</td>\n",
       "      <td>81800</td>\n",
       "      <td>82900</td>\n",
       "      <td>25642368</td>\n",
       "      <td>0.018428</td>\n",
       "    </tr>\n",
       "    <tr>\n",
       "      <th>3</th>\n",
       "      <td>2021-08-05</td>\n",
       "      <td>83300</td>\n",
       "      <td>83300</td>\n",
       "      <td>82000</td>\n",
       "      <td>82100</td>\n",
       "      <td>18485469</td>\n",
       "      <td>-0.009650</td>\n",
       "    </tr>\n",
       "    <tr>\n",
       "      <th>4</th>\n",
       "      <td>2021-08-06</td>\n",
       "      <td>81900</td>\n",
       "      <td>82500</td>\n",
       "      <td>81300</td>\n",
       "      <td>81500</td>\n",
       "      <td>13342623</td>\n",
       "      <td>-0.007308</td>\n",
       "    </tr>\n",
       "  </tbody>\n",
       "</table>\n",
       "</div>"
      ],
      "text/plain": [
       "        Date   Open   High    Low  Close    Volume    Change\n",
       "0 2021-08-02  79200  79500  78700  79300  11739124  0.010191\n",
       "1 2021-08-03  79400  81400  79300  81400  24339360  0.026482\n",
       "2 2021-08-04  82200  83100  81800  82900  25642368  0.018428\n",
       "3 2021-08-05  83300  83300  82000  82100  18485469 -0.009650\n",
       "4 2021-08-06  81900  82500  81300  81500  13342623 -0.007308"
      ]
     },
     "execution_count": 170,
     "metadata": {},
     "output_type": "execute_result"
    }
   ],
   "source": [
    "stock.head()"
   ]
  },
  {
   "cell_type": "code",
   "execution_count": 171,
   "metadata": {},
   "outputs": [],
   "source": [
    "s_1 = stock[['Date','Change']]"
   ]
  },
  {
   "cell_type": "code",
   "execution_count": 176,
   "metadata": {},
   "outputs": [],
   "source": [
    "s_1.columns = ['date_i','change']"
   ]
  },
  {
   "cell_type": "code",
   "execution_count": 177,
   "metadata": {},
   "outputs": [
    {
     "data": {
      "text/html": [
       "<div>\n",
       "<style scoped>\n",
       "    .dataframe tbody tr th:only-of-type {\n",
       "        vertical-align: middle;\n",
       "    }\n",
       "\n",
       "    .dataframe tbody tr th {\n",
       "        vertical-align: top;\n",
       "    }\n",
       "\n",
       "    .dataframe thead th {\n",
       "        text-align: right;\n",
       "    }\n",
       "</style>\n",
       "<table border=\"1\" class=\"dataframe\">\n",
       "  <thead>\n",
       "    <tr style=\"text-align: right;\">\n",
       "      <th></th>\n",
       "      <th>date_i</th>\n",
       "      <th>change</th>\n",
       "    </tr>\n",
       "  </thead>\n",
       "  <tbody>\n",
       "    <tr>\n",
       "      <th>0</th>\n",
       "      <td>2021-08-02</td>\n",
       "      <td>0.010191</td>\n",
       "    </tr>\n",
       "  </tbody>\n",
       "</table>\n",
       "</div>"
      ],
      "text/plain": [
       "      date_i    change\n",
       "0 2021-08-02  0.010191"
      ]
     },
     "execution_count": 177,
     "metadata": {},
     "output_type": "execute_result"
    }
   ],
   "source": [
    "s_1.head(1)"
   ]
  },
  {
   "cell_type": "code",
   "execution_count": 178,
   "metadata": {},
   "outputs": [
    {
     "data": {
      "text/html": [
       "<div>\n",
       "<style scoped>\n",
       "    .dataframe tbody tr th:only-of-type {\n",
       "        vertical-align: middle;\n",
       "    }\n",
       "\n",
       "    .dataframe tbody tr th {\n",
       "        vertical-align: top;\n",
       "    }\n",
       "\n",
       "    .dataframe thead th {\n",
       "        text-align: right;\n",
       "    }\n",
       "</style>\n",
       "<table border=\"1\" class=\"dataframe\">\n",
       "  <thead>\n",
       "    <tr style=\"text-align: right;\">\n",
       "      <th></th>\n",
       "      <th>st_cd</th>\n",
       "      <th>title</th>\n",
       "      <th>text</th>\n",
       "      <th>vader_pred</th>\n",
       "      <th>date_d</th>\n",
       "      <th>date_h</th>\n",
       "      <th>date_i</th>\n",
       "    </tr>\n",
       "  </thead>\n",
       "  <tbody>\n",
       "    <tr>\n",
       "      <th>301</th>\n",
       "      <td>5930</td>\n",
       "      <td>지난달 개미 9조 샀지만…수익은 지지부진</td>\n",
       "      <td>개인투자자가 지난달 반도체와 전기차 관련주에 집중 투자했지만 손실을 봤던 것으로 ...</td>\n",
       "      <td>0</td>\n",
       "      <td>2021-08-01</td>\n",
       "      <td>17</td>\n",
       "      <td>2021-08-02</td>\n",
       "    </tr>\n",
       "  </tbody>\n",
       "</table>\n",
       "</div>"
      ],
      "text/plain": [
       "    st_cd                   title  \\\n",
       "301  5930  지난달 개미 9조 샀지만…수익은 지지부진   \n",
       "\n",
       "                                                  text  vader_pred     date_d  \\\n",
       "301   개인투자자가 지난달 반도체와 전기차 관련주에 집중 투자했지만 손실을 봤던 것으로 ...           0 2021-08-01   \n",
       "\n",
       "    date_h     date_i  \n",
       "301     17 2021-08-02  "
      ]
     },
     "execution_count": 178,
     "metadata": {},
     "output_type": "execute_result"
    }
   ],
   "source": [
    "df_2.head(1)"
   ]
  },
  {
   "cell_type": "code",
   "execution_count": 179,
   "metadata": {},
   "outputs": [],
   "source": [
    "df_3 = pd.merge(df_2,s_1,on='date_i')"
   ]
  },
  {
   "cell_type": "code",
   "execution_count": 180,
   "metadata": {},
   "outputs": [
    {
     "data": {
      "text/html": [
       "<div>\n",
       "<style scoped>\n",
       "    .dataframe tbody tr th:only-of-type {\n",
       "        vertical-align: middle;\n",
       "    }\n",
       "\n",
       "    .dataframe tbody tr th {\n",
       "        vertical-align: top;\n",
       "    }\n",
       "\n",
       "    .dataframe thead th {\n",
       "        text-align: right;\n",
       "    }\n",
       "</style>\n",
       "<table border=\"1\" class=\"dataframe\">\n",
       "  <thead>\n",
       "    <tr style=\"text-align: right;\">\n",
       "      <th></th>\n",
       "      <th>st_cd</th>\n",
       "      <th>title</th>\n",
       "      <th>text</th>\n",
       "      <th>vader_pred</th>\n",
       "      <th>date_d</th>\n",
       "      <th>date_h</th>\n",
       "      <th>date_i</th>\n",
       "      <th>change</th>\n",
       "    </tr>\n",
       "  </thead>\n",
       "  <tbody>\n",
       "    <tr>\n",
       "      <th>0</th>\n",
       "      <td>5930</td>\n",
       "      <td>지난달 개미 9조 샀지만…수익은 지지부진</td>\n",
       "      <td>개인투자자가 지난달 반도체와 전기차 관련주에 집중 투자했지만 손실을 봤던 것으로 ...</td>\n",
       "      <td>0</td>\n",
       "      <td>2021-08-01</td>\n",
       "      <td>17</td>\n",
       "      <td>2021-08-02</td>\n",
       "      <td>0.010191</td>\n",
       "    </tr>\n",
       "    <tr>\n",
       "      <th>1</th>\n",
       "      <td>5930</td>\n",
       "      <td>\"재테크하려면 지금 당장 가입하라\"…증권사 전화 불나게 만든 상품은?</td>\n",
       "      <td>[사진 = 이승환 기자] 다양한 금융상품에 투자할 수 있고 세제 혜택도 있어 '만능...</td>\n",
       "      <td>0</td>\n",
       "      <td>2021-08-01</td>\n",
       "      <td>06</td>\n",
       "      <td>2021-08-02</td>\n",
       "      <td>0.010191</td>\n",
       "    </tr>\n",
       "    <tr>\n",
       "      <th>2</th>\n",
       "      <td>5930</td>\n",
       "      <td>\"가전제품이 20초에 한대씩 팔리다니\"…50년의 기다림 끝에 대세됐다</td>\n",
       "      <td>LG전자가 1968년 국내 가전업계에서 처음 선보인 창문형 에어컨 `GA-111`....</td>\n",
       "      <td>0</td>\n",
       "      <td>2021-08-01</td>\n",
       "      <td>06</td>\n",
       "      <td>2021-08-02</td>\n",
       "      <td>0.010191</td>\n",
       "    </tr>\n",
       "    <tr>\n",
       "      <th>3</th>\n",
       "      <td>5930</td>\n",
       "      <td>[단독] 삼성 현대차 SK 또 발등에 불…\"제2사드보복 될라\"</td>\n",
       "      <td>◆ 美 베이징올림픽 때리기 ◆미 백악관 [사진 출처 = 연합뉴스] 미국 의회와 인권...</td>\n",
       "      <td>0</td>\n",
       "      <td>2021-08-01</td>\n",
       "      <td>17</td>\n",
       "      <td>2021-08-02</td>\n",
       "      <td>0.010191</td>\n",
       "    </tr>\n",
       "    <tr>\n",
       "      <th>4</th>\n",
       "      <td>5930</td>\n",
       "      <td>'7만전자' 늪 빠진 '최고실적' 삼성전자…의미있는 점프 하려면</td>\n",
       "      <td>[출처 : 매일경제DB] 2분기 실적도 좋았고 3분기 전망도 좋은 삼성전자의 주가가...</td>\n",
       "      <td>0</td>\n",
       "      <td>2021-08-01</td>\n",
       "      <td>21</td>\n",
       "      <td>2021-08-02</td>\n",
       "      <td>0.010191</td>\n",
       "    </tr>\n",
       "  </tbody>\n",
       "</table>\n",
       "</div>"
      ],
      "text/plain": [
       "  st_cd                                   title  \\\n",
       "0  5930                  지난달 개미 9조 샀지만…수익은 지지부진   \n",
       "1  5930  \"재테크하려면 지금 당장 가입하라\"…증권사 전화 불나게 만든 상품은?   \n",
       "2  5930  \"가전제품이 20초에 한대씩 팔리다니\"…50년의 기다림 끝에 대세됐다   \n",
       "3  5930      [단독] 삼성 현대차 SK 또 발등에 불…\"제2사드보복 될라\"   \n",
       "4  5930     '7만전자' 늪 빠진 '최고실적' 삼성전자…의미있는 점프 하려면   \n",
       "\n",
       "                                                text  vader_pred     date_d  \\\n",
       "0   개인투자자가 지난달 반도체와 전기차 관련주에 집중 투자했지만 손실을 봤던 것으로 ...           0 2021-08-01   \n",
       "1  [사진 = 이승환 기자] 다양한 금융상품에 투자할 수 있고 세제 혜택도 있어 '만능...           0 2021-08-01   \n",
       "2  LG전자가 1968년 국내 가전업계에서 처음 선보인 창문형 에어컨 `GA-111`....           0 2021-08-01   \n",
       "3  ◆ 美 베이징올림픽 때리기 ◆미 백악관 [사진 출처 = 연합뉴스] 미국 의회와 인권...           0 2021-08-01   \n",
       "4  [출처 : 매일경제DB] 2분기 실적도 좋았고 3분기 전망도 좋은 삼성전자의 주가가...           0 2021-08-01   \n",
       "\n",
       "  date_h     date_i    change  \n",
       "0     17 2021-08-02  0.010191  \n",
       "1     06 2021-08-02  0.010191  \n",
       "2     06 2021-08-02  0.010191  \n",
       "3     17 2021-08-02  0.010191  \n",
       "4     21 2021-08-02  0.010191  "
      ]
     },
     "execution_count": 180,
     "metadata": {},
     "output_type": "execute_result"
    }
   ],
   "source": [
    "df_3.head()"
   ]
  },
  {
   "cell_type": "code",
   "execution_count": 181,
   "metadata": {},
   "outputs": [],
   "source": [
    "df_3['change'] = np.where(df_3['change'] > 0, 1,\n",
    "                         np.where(df_3['change'] == 0, 0, -1))"
   ]
  },
  {
   "cell_type": "code",
   "execution_count": 182,
   "metadata": {},
   "outputs": [
    {
     "data": {
      "text/plain": [
       "Index(['st_cd', 'title', 'text', 'vader_pred', 'date_d', 'date_h', 'date_i',\n",
       "       'change'],\n",
       "      dtype='object')"
      ]
     },
     "execution_count": 182,
     "metadata": {},
     "output_type": "execute_result"
    }
   ],
   "source": [
    "df_3.columns"
   ]
  },
  {
   "cell_type": "code",
   "execution_count": 183,
   "metadata": {},
   "outputs": [],
   "source": [
    "df_4 = df_3.drop(columns = ['st_cd', 'date_h'])"
   ]
  },
  {
   "cell_type": "code",
   "execution_count": 184,
   "metadata": {},
   "outputs": [
    {
     "data": {
      "text/html": [
       "<div>\n",
       "<style scoped>\n",
       "    .dataframe tbody tr th:only-of-type {\n",
       "        vertical-align: middle;\n",
       "    }\n",
       "\n",
       "    .dataframe tbody tr th {\n",
       "        vertical-align: top;\n",
       "    }\n",
       "\n",
       "    .dataframe thead th {\n",
       "        text-align: right;\n",
       "    }\n",
       "</style>\n",
       "<table border=\"1\" class=\"dataframe\">\n",
       "  <thead>\n",
       "    <tr style=\"text-align: right;\">\n",
       "      <th></th>\n",
       "      <th>title</th>\n",
       "      <th>text</th>\n",
       "      <th>vader_pred</th>\n",
       "      <th>date_d</th>\n",
       "      <th>date_i</th>\n",
       "      <th>change</th>\n",
       "    </tr>\n",
       "  </thead>\n",
       "  <tbody>\n",
       "    <tr>\n",
       "      <th>0</th>\n",
       "      <td>지난달 개미 9조 샀지만…수익은 지지부진</td>\n",
       "      <td>개인투자자가 지난달 반도체와 전기차 관련주에 집중 투자했지만 손실을 봤던 것으로 ...</td>\n",
       "      <td>0</td>\n",
       "      <td>2021-08-01</td>\n",
       "      <td>2021-08-02</td>\n",
       "      <td>1</td>\n",
       "    </tr>\n",
       "    <tr>\n",
       "      <th>1</th>\n",
       "      <td>\"재테크하려면 지금 당장 가입하라\"…증권사 전화 불나게 만든 상품은?</td>\n",
       "      <td>[사진 = 이승환 기자] 다양한 금융상품에 투자할 수 있고 세제 혜택도 있어 '만능...</td>\n",
       "      <td>0</td>\n",
       "      <td>2021-08-01</td>\n",
       "      <td>2021-08-02</td>\n",
       "      <td>1</td>\n",
       "    </tr>\n",
       "    <tr>\n",
       "      <th>2</th>\n",
       "      <td>\"가전제품이 20초에 한대씩 팔리다니\"…50년의 기다림 끝에 대세됐다</td>\n",
       "      <td>LG전자가 1968년 국내 가전업계에서 처음 선보인 창문형 에어컨 `GA-111`....</td>\n",
       "      <td>0</td>\n",
       "      <td>2021-08-01</td>\n",
       "      <td>2021-08-02</td>\n",
       "      <td>1</td>\n",
       "    </tr>\n",
       "    <tr>\n",
       "      <th>3</th>\n",
       "      <td>[단독] 삼성 현대차 SK 또 발등에 불…\"제2사드보복 될라\"</td>\n",
       "      <td>◆ 美 베이징올림픽 때리기 ◆미 백악관 [사진 출처 = 연합뉴스] 미국 의회와 인권...</td>\n",
       "      <td>0</td>\n",
       "      <td>2021-08-01</td>\n",
       "      <td>2021-08-02</td>\n",
       "      <td>1</td>\n",
       "    </tr>\n",
       "    <tr>\n",
       "      <th>4</th>\n",
       "      <td>'7만전자' 늪 빠진 '최고실적' 삼성전자…의미있는 점프 하려면</td>\n",
       "      <td>[출처 : 매일경제DB] 2분기 실적도 좋았고 3분기 전망도 좋은 삼성전자의 주가가...</td>\n",
       "      <td>0</td>\n",
       "      <td>2021-08-01</td>\n",
       "      <td>2021-08-02</td>\n",
       "      <td>1</td>\n",
       "    </tr>\n",
       "  </tbody>\n",
       "</table>\n",
       "</div>"
      ],
      "text/plain": [
       "                                    title  \\\n",
       "0                  지난달 개미 9조 샀지만…수익은 지지부진   \n",
       "1  \"재테크하려면 지금 당장 가입하라\"…증권사 전화 불나게 만든 상품은?   \n",
       "2  \"가전제품이 20초에 한대씩 팔리다니\"…50년의 기다림 끝에 대세됐다   \n",
       "3      [단독] 삼성 현대차 SK 또 발등에 불…\"제2사드보복 될라\"   \n",
       "4     '7만전자' 늪 빠진 '최고실적' 삼성전자…의미있는 점프 하려면   \n",
       "\n",
       "                                                text  vader_pred     date_d  \\\n",
       "0   개인투자자가 지난달 반도체와 전기차 관련주에 집중 투자했지만 손실을 봤던 것으로 ...           0 2021-08-01   \n",
       "1  [사진 = 이승환 기자] 다양한 금융상품에 투자할 수 있고 세제 혜택도 있어 '만능...           0 2021-08-01   \n",
       "2  LG전자가 1968년 국내 가전업계에서 처음 선보인 창문형 에어컨 `GA-111`....           0 2021-08-01   \n",
       "3  ◆ 美 베이징올림픽 때리기 ◆미 백악관 [사진 출처 = 연합뉴스] 미국 의회와 인권...           0 2021-08-01   \n",
       "4  [출처 : 매일경제DB] 2분기 실적도 좋았고 3분기 전망도 좋은 삼성전자의 주가가...           0 2021-08-01   \n",
       "\n",
       "      date_i  change  \n",
       "0 2021-08-02       1  \n",
       "1 2021-08-02       1  \n",
       "2 2021-08-02       1  \n",
       "3 2021-08-02       1  \n",
       "4 2021-08-02       1  "
      ]
     },
     "execution_count": 184,
     "metadata": {},
     "output_type": "execute_result"
    }
   ],
   "source": [
    "df_4.head()"
   ]
  },
  {
   "cell_type": "code",
   "execution_count": 185,
   "metadata": {},
   "outputs": [],
   "source": [
    "# 제목 토크나이징을 통해서 감성어휘 추가\n",
    "\n",
    "# positive --> change == 1\n",
    "\n",
    "df_pos = df_4[df_4['change'] == 1]['title']"
   ]
  },
  {
   "cell_type": "code",
   "execution_count": 186,
   "metadata": {},
   "outputs": [],
   "source": [
    "for i in df_pos:\n",
    "    ppp = okt.nouns(i)\n",
    "    positive = positive + ppp"
   ]
  },
  {
   "cell_type": "code",
   "execution_count": 189,
   "metadata": {},
   "outputs": [
    {
     "data": {
      "text/plain": [
       "1622"
      ]
     },
     "execution_count": 189,
     "metadata": {},
     "output_type": "execute_result"
    }
   ],
   "source": [
    "len(positive)"
   ]
  },
  {
   "cell_type": "code",
   "execution_count": 192,
   "metadata": {},
   "outputs": [],
   "source": [
    "df_na = df_4[df_4['change'] == -1]['title']\n",
    "\n",
    "for i in df_na:\n",
    "    ppp = okt.nouns(i)\n",
    "    negative = negative + ppp"
   ]
  },
  {
   "cell_type": "code",
   "execution_count": 195,
   "metadata": {},
   "outputs": [
    {
     "data": {
      "text/plain": [
       "1436"
      ]
     },
     "execution_count": 195,
     "metadata": {},
     "output_type": "execute_result"
    }
   ],
   "source": [
    "len(negative)"
   ]
  },
  {
   "cell_type": "code",
   "execution_count": 194,
   "metadata": {
    "collapsed": true
   },
   "outputs": [
    {
     "data": {
      "text/plain": [
       "Counter({'갑질': 1,\n",
       "         '논란': 3,\n",
       "         '폭리': 2,\n",
       "         '허위': 1,\n",
       "         '과징금': 2,\n",
       "         '눈물': 1,\n",
       "         '피해': 1,\n",
       "         '포화': 1,\n",
       "         '우롱': 1,\n",
       "         '위반': 1,\n",
       "         '리스크': 1,\n",
       "         '사퇴': 1,\n",
       "         '급락': 3,\n",
       "         '하락': 5,\n",
       "         '폐업': 1,\n",
       "         '불만': 2,\n",
       "         '산재': 1,\n",
       "         '닫아': 1,\n",
       "         '손배소': 1,\n",
       "         '구설수': 1,\n",
       "         '폐점': 1,\n",
       "         '적발': 3,\n",
       "         '침해': 1,\n",
       "         '빨간불': 1,\n",
       "         '취약': 1,\n",
       "         '불명예': 1,\n",
       "         '분신': 1,\n",
       "         '구형': 1,\n",
       "         '기소': 1,\n",
       "         '반토막': 3,\n",
       "         '호소': 1,\n",
       "         '불매': 2,\n",
       "         '냉담': 1,\n",
       "         '문제': 2,\n",
       "         '직격탄': 1,\n",
       "         '한숨': 1,\n",
       "         '불똥': 1,\n",
       "         '항의': 2,\n",
       "         '묵묵부담': 1,\n",
       "         '싸늘': 1,\n",
       "         '일탈': 1,\n",
       "         '파문': 1,\n",
       "         '게이트': 1,\n",
       "         '횡령': 1,\n",
       "         '사과문': 1,\n",
       "         '여파': 1,\n",
       "         '울상': 1,\n",
       "         '초토화': 1,\n",
       "         '급감': 1,\n",
       "         '우려': 2,\n",
       "         '중단': 1,\n",
       "         '퇴출': 1,\n",
       "         '해지': 1,\n",
       "         '일베': 1,\n",
       "         '이물질': 1,\n",
       "         '벌레': 1,\n",
       "         '엉망': 1,\n",
       "         '위생불량': 1,\n",
       "         '위생엉망': 1,\n",
       "         '소송': 1,\n",
       "         '매출하락': 1,\n",
       "         '혐의': 2,\n",
       "         '부채': 1,\n",
       "         '오너리스크': 1,\n",
       "         '매각': 1,\n",
       "         '포기': 1,\n",
       "         '삼성': 79,\n",
       "         '전자': 41,\n",
       "         '갤럭시': 18,\n",
       "         '노트': 1,\n",
       "         '출시': 2,\n",
       "         '팩': 5,\n",
       "         '행사': 1,\n",
       "         '때': 2,\n",
       "         '제품': 2,\n",
       "         '추세': 1,\n",
       "         '반등': 2,\n",
       "         '달': 2,\n",
       "         '회복': 1,\n",
       "         '대학생': 2,\n",
       "         '가장': 1,\n",
       "         '취업': 6,\n",
       "         '회사': 1,\n",
       "         '위': 10,\n",
       "         '하루': 2,\n",
       "         '평균': 1,\n",
       "         '가입자': 2,\n",
       "         '배': 5,\n",
       "         '비': 2,\n",
       "         '과세': 1,\n",
       "         '뭉칫돈': 1,\n",
       "         '국민': 1,\n",
       "         '통장': 1,\n",
       "         '하이닉스': 11,\n",
       "         '집중': 1,\n",
       "         '매수': 1,\n",
       "         '외국인': 8,\n",
       "         '장기': 2,\n",
       "         '금리': 2,\n",
       "         '주춤': 3,\n",
       "         '장주': 2,\n",
       "         '다시': 4,\n",
       "         '힘': 2,\n",
       "         '증권': 2,\n",
       "         '어디': 1,\n",
       "         '투자': 10,\n",
       "         '인재': 1,\n",
       "         '입': 2,\n",
       "         '조직': 2,\n",
       "         '정비': 1,\n",
       "         '진출': 1,\n",
       "         '본격': 2,\n",
       "         '채비': 1,\n",
       "         '넷마블': 1,\n",
       "         '선호': 1,\n",
       "         '게임': 3,\n",
       "         '기업': 7,\n",
       "         '구글': 4,\n",
       "         '제재': 3,\n",
       "         '공정위': 3,\n",
       "         '내달': 4,\n",
       "         '결론': 3,\n",
       "         '공식': 1,\n",
       "         '트레일러': 1,\n",
       "         '영상': 2,\n",
       "         '회수': 1,\n",
       "         '뷰': 1,\n",
       "         '돌파': 2,\n",
       "         '최종': 1,\n",
       "         '최재형': 1,\n",
       "         '이재용': 25,\n",
       "         '가석방': 14,\n",
       "         '이명박': 1,\n",
       "         '박근혜': 1,\n",
       "         '사면': 4,\n",
       "         '바람': 1,\n",
       "         '직': 1,\n",
       "         '베트남': 2,\n",
       "         '코로나': 4,\n",
       "         '봉쇄': 1,\n",
       "         '생산': 2,\n",
       "         '차질': 2,\n",
       "         '어찌': 2,\n",
       "         '할꼬': 1,\n",
       "         '아이폰': 1,\n",
       "         '개': 3,\n",
       "         '월간': 2,\n",
       "         '얼마나': 2,\n",
       "         '관심': 1,\n",
       "         '광고': 3,\n",
       "         '주일': 2,\n",
       "         '새': 3,\n",
       "         '대박': 2,\n",
       "         '예감': 1,\n",
       "         '장가': 1,\n",
       "         '가전제품': 1,\n",
       "         '방': 1,\n",
       "         '확산': 1,\n",
       "         '차량': 1,\n",
       "         '통제': 1,\n",
       "         '공장': 1,\n",
       "         '부품': 2,\n",
       "         '조달': 1,\n",
       "         '철강업': 1,\n",
       "         '정부': 4,\n",
       "         '전기차': 2,\n",
       "         '용광로': 1,\n",
       "         '강판': 1,\n",
       "         '만드': 1,\n",
       "         '이': 5,\n",
       "         '뜻': 1,\n",
       "         '생명': 1,\n",
       "         '우주': 1,\n",
       "         '보험': 1,\n",
       "         '속': 1,\n",
       "         '깨알': 1,\n",
       "         '암호': 1,\n",
       "         '부회장': 6,\n",
       "         '대구': 2,\n",
       "         '이건희': 3,\n",
       "         '생가': 2,\n",
       "         '주민': 2,\n",
       "         '청원': 2,\n",
       "         '광복절': 2,\n",
       "         '여부': 1,\n",
       "         '오늘': 2,\n",
       "         '심사': 3,\n",
       "         '법무부': 4,\n",
       "         '오후': 1,\n",
       "         '개최': 2,\n",
       "         '사령탑': 1,\n",
       "         '시계': 2,\n",
       "         '돌': 2,\n",
       "         '정상': 1,\n",
       "         '경영': 6,\n",
       "         '험로': 1,\n",
       "         '결단': 1,\n",
       "         '은': 1,\n",
       "         '언제': 2,\n",
       "         '기자': 3,\n",
       "         '재수감': 3,\n",
       "         '현금': 1,\n",
       "         '수송': 1,\n",
       "         '보안요원': 1,\n",
       "         '줄': 1,\n",
       "         '명품': 1,\n",
       "         '주문': 1,\n",
       "         '이틀': 1,\n",
       "         '복귀': 1,\n",
       "         '대선': 2,\n",
       "         '주자': 2,\n",
       "         '경제': 3,\n",
       "         '역할': 3,\n",
       "         '론': 1,\n",
       "         '강조': 1,\n",
       "         '급': 2,\n",
       "         '상': 1,\n",
       "         '과욕': 1,\n",
       "         '모주': 2,\n",
       "         '전문가': 2,\n",
       "         '조언': 1,\n",
       "         '판단': 1,\n",
       "         '존중': 2,\n",
       "         '백신': 3,\n",
       "         '확보': 5,\n",
       "         '속보': 2,\n",
       "         '국정': 1,\n",
       "         '농단': 1,\n",
       "         '애플': 3,\n",
       "         '친': 1,\n",
       "         '샤오미': 7,\n",
       "         '전날': 1,\n",
       "         '신제품': 1,\n",
       "         '기습': 1,\n",
       "         '공개': 4,\n",
       "         '롯데': 4,\n",
       "         '렌탈': 1,\n",
       "         '청약': 1,\n",
       "         '기관': 2,\n",
       "         '투자자': 1,\n",
       "         '상승': 1,\n",
       "         '베팅': 1,\n",
       "         '개미': 6,\n",
       "         '곱': 1,\n",
       "         '버스': 1,\n",
       "         '사설': 2,\n",
       "         '전념': 1,\n",
       "         '활동': 2,\n",
       "         '투입': 1,\n",
       "         '준비': 1,\n",
       "         '파운드리': 2,\n",
       "         '메모리': 1,\n",
       "         '신화': 2,\n",
       "         '시동': 1,\n",
       "         '크래프톤': 1,\n",
       "         '상장': 3,\n",
       "         '첫날': 3,\n",
       "         '공모': 1,\n",
       "         '밑': 2,\n",
       "         '여론': 1,\n",
       "         '반도체': 15,\n",
       "         '물꼬': 1,\n",
       "         '기대': 2,\n",
       "         '영진전문대': 1,\n",
       "         '고용': 3,\n",
       "         '한파': 1,\n",
       "         '대기업': 3,\n",
       "         '눈': 1,\n",
       "         '중기': 1,\n",
       "         '국내': 2,\n",
       "         '시장': 5,\n",
       "         '정': 1,\n",
       "         '조준': 1,\n",
       "         '워치': 2,\n",
       "         '용': 1,\n",
       "         '도': 4,\n",
       "         '나노': 1,\n",
       "         '로': 3,\n",
       "         '비상': 3,\n",
       "         '중국': 2,\n",
       "         '차세대': 3,\n",
       "         '폰': 7,\n",
       "         '위로': 3,\n",
       "         '털썩': 2,\n",
       "         '결정': 4,\n",
       "         '다음': 1,\n",
       "         '날': 2,\n",
       "         '사회': 1,\n",
       "         '공헌': 1,\n",
       "         '한국인': 1,\n",
       "         '팬심': 1,\n",
       "         '통': 1,\n",
       "         '제일': 1,\n",
       "         '이중근': 1,\n",
       "         '부영': 1,\n",
       "         '회장': 1,\n",
       "         '성남': 1,\n",
       "         '센터': 2,\n",
       "         '서비스': 2,\n",
       "         '직원': 3,\n",
       "         '흉기': 1,\n",
       "         '삼바': 3,\n",
       "         '더': 6,\n",
       "         '위탁': 2,\n",
       "         '물량': 3,\n",
       "         '일부': 1,\n",
       "         '숨통': 1,\n",
       "         '세상': 3,\n",
       "         '폴': 3,\n",
       "         '더블': 3,\n",
       "         '무슨': 3,\n",
       "         '기능': 2,\n",
       "         '아이엠': 1,\n",
       "         '최대': 3,\n",
       "         '주주': 6,\n",
       "         '금성': 1,\n",
       "         '축산': 1,\n",
       "         '진흥': 1,\n",
       "         '변경': 1,\n",
       "         '분': 1,\n",
       "         '이번': 3,\n",
       "         '주': 1,\n",
       "         '방문': 3,\n",
       "         '미래에셋': 1,\n",
       "         '자산운용': 1,\n",
       "         '테마': 1,\n",
       "         '등': 3,\n",
       "         '신규': 1,\n",
       "         '이벤트': 3,\n",
       "         '대권': 1,\n",
       "         '반응': 1,\n",
       "         '특혜': 1,\n",
       "         '불법': 1,\n",
       "         '집회': 1,\n",
       "         '민노총': 1,\n",
       "         '위원장': 1,\n",
       "         '구속': 1,\n",
       "         '거부': 1,\n",
       "         '기자회견': 1,\n",
       "         '보호관찰': 2,\n",
       "         '네이버': 4,\n",
       "         '라인': 1,\n",
       "         '발행': 2,\n",
       "         '링크': 1,\n",
       "         '빗썸': 1,\n",
       "         '전격': 1,\n",
       "         '카카오': 3,\n",
       "         '클레이': 1,\n",
       "         '대결': 1,\n",
       "         '억대': 1,\n",
       "         '연봉': 3,\n",
       "         '세': 3,\n",
       "         '이상': 1,\n",
       "         '임': 2,\n",
       "         '채': 1,\n",
       "         '삼성맨': 1,\n",
       "         '출퇴근': 1,\n",
       "         '단지': 1,\n",
       "         '하반기': 2,\n",
       "         '수원': 1,\n",
       "         '굿락': 1,\n",
       "         '만난': 1,\n",
       "         '내': 3,\n",
       "         '취향': 1,\n",
       "         '저격': 1,\n",
       "         '디자인': 1,\n",
       "         '여기': 1,\n",
       "         '가성': 1,\n",
       "         '갑': 1,\n",
       "         '탭': 1,\n",
       "         '에디': 1,\n",
       "         '션': 1,\n",
       "         '그린': 1,\n",
       "         '컬러': 1,\n",
       "         '상콤': 1,\n",
       "         '후': 1,\n",
       "         '선전포고': 1,\n",
       "         '제': 3,\n",
       "         '세계': 3,\n",
       "         '스마트폰': 4,\n",
       "         '것': 1,\n",
       "         '왕좌': 1,\n",
       "         '차지': 1,\n",
       "         '추락': 1,\n",
       "         '단체': 4,\n",
       "         '감사': 1,\n",
       "         '재계': 1,\n",
       "         '폭': 1,\n",
       "         '지원': 2,\n",
       "         '부탁': 1,\n",
       "         '잠': 1,\n",
       "         '램값': 1,\n",
       "         '전망': 2,\n",
       "         '구글지도': 1,\n",
       "         '플랫폼': 1,\n",
       "         '코딩': 1,\n",
       "         '초등': 1,\n",
       "         '생도': 1,\n",
       "         '기선': 1,\n",
       "         '뚝딱': 1,\n",
       "         '급식': 3,\n",
       "         '외부': 3,\n",
       "         '개방': 3,\n",
       "         '확대': 2,\n",
       "         '입찰': 1,\n",
       "         '공고': 1,\n",
       "         '사내': 2,\n",
       "         '사업': 4,\n",
       "         '동행': 2,\n",
       "         '실천': 2,\n",
       "         '마이크론': 1,\n",
       "         '충격': 3,\n",
       "         '올해': 3,\n",
       "         '최저': 3,\n",
       "         '가로': 1,\n",
       "         '경영학자': 1,\n",
       "         '필요': 1,\n",
       "         '작정': 1,\n",
       "         '펜': 2,\n",
       "         '방수': 1,\n",
       "         '장착': 1,\n",
       "         '카메라': 3,\n",
       "         '구멍': 1,\n",
       "         '갤폴드': 5,\n",
       "         '자신감': 1,\n",
       "         '도발': 1,\n",
       "         '준법': 2,\n",
       "         '강화': 1,\n",
       "         '속도': 1,\n",
       "         '노사': 2,\n",
       "         '상생': 1,\n",
       "         '출발': 1,\n",
       "         '선': 3,\n",
       "         '지구': 2,\n",
       "         '생태계': 1,\n",
       "         '친환경': 1,\n",
       "         '발표': 2,\n",
       "         '지금': 1,\n",
       "         '가지': 1,\n",
       "         '최초': 1,\n",
       "         '탑재': 1,\n",
       "         '원화': 1,\n",
       "         '값': 1,\n",
       "         '개월': 1,\n",
       "         '산업': 2,\n",
       "         '대전': 2,\n",
       "         '환기': 1,\n",
       "         '규제': 2,\n",
       "         '신음': 1,\n",
       "         '대체': 1,\n",
       "         '폴드': 4,\n",
       "         '혀': 1,\n",
       "         '이유': 1,\n",
       "         '시가총액': 1,\n",
       "         '하나': 1,\n",
       "         '차이': 1,\n",
       "         '녹색': 1,\n",
       "         '상품': 2,\n",
       "         '수상': 3,\n",
       "         '의미': 1,\n",
       "         '노동조합': 1,\n",
       "         '교섭': 1,\n",
       "         '단': 1,\n",
       "         '첫': 3,\n",
       "         '협약': 2,\n",
       "         '웃돈': 2,\n",
       "         '또': 1,\n",
       "         '로또': 2,\n",
       "         '웁니': 1,\n",
       "         '수요': 1,\n",
       "         '감소': 1,\n",
       "         '닷새': 1,\n",
       "         '겨울': 4,\n",
       "         '목표': 1,\n",
       "         '주가': 4,\n",
       "         '폭탄': 2,\n",
       "         '종목': 1,\n",
       "         '명': 2,\n",
       "         '예상': 1,\n",
       "         '시간': 1,\n",
       "         '사이트': 1,\n",
       "         '마비': 2,\n",
       "         '코리아': 1,\n",
       "         '소사이어티': 1,\n",
       "         '리트': 2,\n",
       "         '공동': 2,\n",
       "         '구광모': 2,\n",
       "         '메리': 1,\n",
       "         '직접': 1,\n",
       "         '인식': 1,\n",
       "         '매우': 1,\n",
       "         '목요일': 1,\n",
       "         '사흘': 1,\n",
       "         '팔': 1,\n",
       "         '그때': 1,\n",
       "         '연중': 1,\n",
       "         '치': 1,\n",
       "         '동학': 4,\n",
       "         '트렌드': 1,\n",
       "         '하이마트': 1,\n",
       "         '집콕': 1,\n",
       "         '생활': 1,\n",
       "         '올인': 1,\n",
       "         '홈': 1,\n",
       "         '가전': 1,\n",
       "         '시작': 3,\n",
       "         '뿐': 3,\n",
       "         '매물': 2,\n",
       "         '창사': 1,\n",
       "         '결실': 1,\n",
       "         '외산폰': 1,\n",
       "         '무덤': 1,\n",
       "         '한국': 3,\n",
       "         '규모': 1,\n",
       "         '경품': 1,\n",
       "         '이통': 1,\n",
       "         '사': 2,\n",
       "         '갤플': 1,\n",
       "         '립': 1,\n",
       "         '역대': 2,\n",
       "         '개통': 2,\n",
       "         '직후': 2,\n",
       "         '서초': 1,\n",
       "         '샌드위치': 1,\n",
       "         '파격': 1,\n",
       "         '돌파구': 1,\n",
       "         '연휴': 1,\n",
       "         '공급': 2,\n",
       "         '인수합병': 1,\n",
       "         '논의': 1,\n",
       "         '스타트업': 1,\n",
       "         '해시': 1,\n",
       "         '스냅': 1,\n",
       "         '벤츠': 1,\n",
       "         '선택': 1,\n",
       "         '해시태그': 1,\n",
       "         '활용': 1,\n",
       "         '마케팅': 2,\n",
       "         '이전': 1,\n",
       "         '차원': 1,\n",
       "         '야심작': 1,\n",
       "         '내일': 1,\n",
       "         '사전예약': 2,\n",
       "         '물리': 1,\n",
       "         '칠': 1,\n",
       "         '비장': 1,\n",
       "         '무기': 1,\n",
       "         '탄생': 1,\n",
       "         '뒤': 1,\n",
       "         '기술': 4,\n",
       "         '매도': 2,\n",
       "         '사라': 1,\n",
       "         '기본': 1,\n",
       "         '앱': 1,\n",
       "         '보안': 1,\n",
       "         '포럼': 1,\n",
       "         '온라인': 1,\n",
       "         '개인': 1,\n",
       "         '달새': 1,\n",
       "         '미누스': 1,\n",
       "         '베': 1,\n",
       "         '휴대폰': 2,\n",
       "         '이랜텍': 1,\n",
       "         '거래': 2,\n",
       "         '일': 2,\n",
       "         '시도': 1,\n",
       "         '바닥': 2,\n",
       "         '룰': 1,\n",
       "         '추격자': 1,\n",
       "         '전략': 1,\n",
       "         '못': 1,\n",
       "         '혁신': 2,\n",
       "         '각축': 1,\n",
       "         '우주전쟁': 1,\n",
       "         '당장': 1,\n",
       "         '도전': 1,\n",
       "         '모델': 1,\n",
       "         '새벽': 1,\n",
       "         '배송': 1,\n",
       "         '마켓': 1,\n",
       "         '컬리': 1,\n",
       "         '사전': 1,\n",
       "         '예약': 3,\n",
       "         '돌입': 1,\n",
       "         '홈페이지': 1,\n",
       "         '김기남': 1,\n",
       "         '상반기': 3,\n",
       "         '급여': 1,\n",
       "         '무보수': 2,\n",
       "         '방도': 1,\n",
       "         '투톱': 1,\n",
       "         '다지': 1,\n",
       "         '아파트': 1,\n",
       "         '지식': 2,\n",
       "         '아산': 3,\n",
       "         '탕정': 3,\n",
       "         '효과': 1,\n",
       "         '콜럼버스': 1,\n",
       "         '분양': 2,\n",
       "         '구체': 1,\n",
       "         '확답': 1,\n",
       "         '환율': 1,\n",
       "         '코스피': 4,\n",
       "         '지급': 1,\n",
       "         '택진': 1,\n",
       "         '이형': 1,\n",
       "         '톱': 1,\n",
       "         '기업가': 1,\n",
       "         '정신': 1,\n",
       "         '국가': 1,\n",
       "         '시대': 2,\n",
       "         '젬백스': 1,\n",
       "         '반기': 1,\n",
       "         '실적': 1,\n",
       "         '흑자': 1,\n",
       "         '납품': 1,\n",
       "         '거래처': 1,\n",
       "         '대군': 1,\n",
       "         '소액': 1,\n",
       "         '화면': 1,\n",
       "         '쏙': 1,\n",
       "         '공채': 2,\n",
       "         '시즌': 1,\n",
       "         '막': 1,\n",
       "         '유럽': 1,\n",
       "         '서도': 1,\n",
       "         '듯': 1,\n",
       "         '박': 1,\n",
       "         '방법': 1,\n",
       "         '신동빈': 1,\n",
       "         '최태원': 1,\n",
       "         '현대차': 1,\n",
       "         '정의선': 1,\n",
       "         '순': 1,\n",
       "         '달말': 1,\n",
       "         '원서': 1,\n",
       "         '접수': 1,\n",
       "         '샘': 1,\n",
       "         '가을': 1,\n",
       "         '결혼': 1,\n",
       "         '이사철': 1,\n",
       "         '맞이': 1,\n",
       "         '폭풍': 1,\n",
       "         '헬': 1,\n",
       "         '스케': 1,\n",
       "         '지주': 1,\n",
       "         '출신': 1,\n",
       "         '임원': 2,\n",
       "         '랭킹': 1,\n",
       "         '쇼': 1,\n",
       "         '탈': 1,\n",
       "         '중대': 1,\n",
       "         '정의당': 1,\n",
       "         '합당': 1,\n",
       "         '결렬': 1,\n",
       "         '국민의당': 1,\n",
       "         '변수': 2,\n",
       "         '컬렉션': 1,\n",
       "         '전시': 1,\n",
       "         '암표': 1,\n",
       "         '박범계': 1,\n",
       "         '등기': 1,\n",
       "         '수익': 1,\n",
       "         '곤두박질': 1,\n",
       "         '일주일': 1,\n",
       "         '마이너스': 1,\n",
       "         '성공': 1,\n",
       "         '등락': 1,\n",
       "         '롤러코스터': 1,\n",
       "         '증시': 3,\n",
       "         '쥐락펴락': 1,\n",
       "         '핵심': 1,\n",
       "         '유동성': 1,\n",
       "         '장세': 1,\n",
       "         '간다': 1,\n",
       "         '코스닥': 1,\n",
       "         '붕괴': 2,\n",
       "         '테이퍼링': 1,\n",
       "         '국민연금': 1,\n",
       "         '미국': 1,\n",
       "         '살': 1,\n",
       "         '국선': 1,\n",
       "         '한도': 1,\n",
       "         '상황': 1,\n",
       "         '외국': 1,\n",
       "         '리포트': 2,\n",
       "         '돈': 1,\n",
       "         '풀기': 1,\n",
       "         '곧': 1,\n",
       "         '팔자': 1,\n",
       "         '약세': 1,\n",
       "         '포토': 1,\n",
       "         '법정': 1,\n",
       "         '출석': 1,\n",
       "         '유승민': 1,\n",
       "         '왜': 1,\n",
       "         '전화': 1,\n",
       "         '가격': 2,\n",
       "         '이면': 1,\n",
       "         '이재명': 2,\n",
       "         '제한': 2,\n",
       "         '출근': 2,\n",
       "         '제지': 2,\n",
       "         '경찰': 1,\n",
       "         '환불': 1,\n",
       "         '대란': 1,\n",
       "         '머': 1,\n",
       "         '플러스': 2,\n",
       "         '본사': 1,\n",
       "         '압수수색': 1,\n",
       "         '대표': 1,\n",
       "         '출국금지': 1,\n",
       "         '매경': 1,\n",
       "         '전하': 1,\n",
       "         '매': 1,\n",
       "         '회사채': 1,\n",
       "         '단독': 2,\n",
       "         '법인세': 1,\n",
       "         '한선': 1,\n",
       "         '족쇄': 1,\n",
       "         '빛바랜': 1,\n",
       "         '세액': 2,\n",
       "         '공제': 2,\n",
       "         '혜주': 1,\n",
       "         '연구': 2,\n",
       "         '학술지': 2,\n",
       "         '게재': 2,\n",
       "         '곳': 2,\n",
       "         '혜택': 1,\n",
       "         '크게': 1,\n",
       "         '의욕': 1,\n",
       "         '발열': 1,\n",
       "         '해소': 1,\n",
       "         '소재': 1,\n",
       "         '성과': 1,\n",
       "         '시리즈': 1,\n",
       "         '흥행': 1,\n",
       "         '행진': 1,\n",
       "         '상업': 1,\n",
       "         '지역': 1,\n",
       "         '비율': 1,\n",
       "         '천안': 1,\n",
       "         '상가': 1,\n",
       "         '젤존': 1,\n",
       "         '트윈': 1,\n",
       "         '시티': 1,\n",
       "         '진격': 1,\n",
       "         '클라우드': 1,\n",
       "         '아마존': 1,\n",
       "         '드루': 1,\n",
       "         '방송': 1,\n",
       "         '요즘': 1,\n",
       "         '채널': 1,\n",
       "         '글': 1,\n",
       "         '방송인': 1,\n",
       "         '이성민': 1,\n",
       "         '아나운서': 1,\n",
       "         '화법': 1,\n",
       "         '시크릿': 1,\n",
       "         '대규모': 2,\n",
       "         '채용': 2,\n",
       "         '실리콘밸리': 1,\n",
       "         '바로': 1,\n",
       "         '놈': 1,\n",
       "         '배터리': 1,\n",
       "         '진짜': 1,\n",
       "         '일자리': 1,\n",
       "         '학회': 1,\n",
       "         '융합': 1,\n",
       "         '학술': 1,\n",
       "         '대회': 1,\n",
       "         '미술품': 1,\n",
       "         '계땐': 1,\n",
       "         '기회': 1,\n",
       "         '더니': 1,\n",
       "         '법원': 1,\n",
       "         '그룹': 1,\n",
       "         '설립': 1,\n",
       "         '에버랜드': 1,\n",
       "         '노조': 1,\n",
       "         '무효': 1,\n",
       "         '초대형': 1,\n",
       "         '대형': 1,\n",
       "         '악재': 1,\n",
       "         '등장': 1,\n",
       "         '동시': 1,\n",
       "         '출격': 1,\n",
       "         '미니': 1,\n",
       "         '하량': 1,\n",
       "         '작년': 2,\n",
       "         '위원': 1,\n",
       "         '빈소': 1,\n",
       "         '이제': 1,\n",
       "         '수': 1,\n",
       "         '라이프스타일': 1,\n",
       "         '프레임': 1,\n",
       "         '신혼부부': 1,\n",
       "         '필수': 1,\n",
       "         '템': 1,\n",
       "         '플립': 1,\n",
       "         '구매': 1,\n",
       "         '고객': 1,\n",
       "         '대상': 1,\n",
       "         '케어': 1,\n",
       "         '케이스': 1,\n",
       "         '구독': 1,\n",
       "         '보복': 1,\n",
       "         '대응': 1,\n",
       "         '경기도': 1,\n",
       "         '역수출': 1,\n",
       "         '부장': 1})"
      ]
     },
     "execution_count": 194,
     "metadata": {},
     "output_type": "execute_result"
    }
   ],
   "source": [
    "Counter(negative)"
   ]
  },
  {
   "cell_type": "code",
   "execution_count": null,
   "metadata": {},
   "outputs": [],
   "source": []
  }
 ],
 "metadata": {
  "colab": {
   "authorship_tag": "ABX9TyNTrYWVCyBT/KWs85fLESWH",
   "collapsed_sections": [
    "HyvCPA66wnE5"
   ],
   "include_colab_link": true,
   "name": "감성분석_초안.ipynb",
   "provenance": []
  },
  "kernelspec": {
   "display_name": "Python 3",
   "language": "python",
   "name": "python3"
  },
  "language_info": {
   "codemirror_mode": {
    "name": "ipython",
    "version": 3
   },
   "file_extension": ".py",
   "mimetype": "text/x-python",
   "name": "python",
   "nbconvert_exporter": "python",
   "pygments_lexer": "ipython3",
   "version": "3.6.9"
  }
 },
 "nbformat": 4,
 "nbformat_minor": 1
}
