{
  "nbformat": 4,
  "nbformat_minor": 0,
  "metadata": {
    "colab": {
      "name": "강화학습_주식봇_삼성전자.ipynb",
      "provenance": [],
      "collapsed_sections": [
        "Y9iFdSm6hjwN"
      ],
      "include_colab_link": true
    },
    "kernelspec": {
      "name": "python3",
      "display_name": "Python 3"
    },
    "language_info": {
      "name": "python"
    },
    "accelerator": "GPU"
  },
  "cells": [
    {
      "cell_type": "markdown",
      "metadata": {
        "id": "view-in-github",
        "colab_type": "text"
      },
      "source": [
        "<a href=\"https://colab.research.google.com/github/chaerui7967/stock_predict_news_and_youtube/blob/master/%EA%B0%95%ED%99%94%ED%95%99%EC%8A%B5_%EC%A3%BC%EC%8B%9D%EB%B4%87_%EC%82%BC%EC%84%B1%EC%A0%84%EC%9E%90.ipynb\" target=\"_parent\"><img src=\"https://colab.research.google.com/assets/colab-badge.svg\" alt=\"Open In Colab\"/></a>"
      ]
    },
    {
      "cell_type": "markdown",
      "metadata": {
        "id": "9Ipg1Txf8jUd"
      },
      "source": [
        "# 주식_봇__강화학습"
      ]
    },
    {
      "cell_type": "code",
      "metadata": {
        "id": "HjmwNJpA8uvr"
      },
      "source": [
        "!pip install pykrx\n",
        "!pip install finance-datareader\n",
        "!pip install opendartreader\n",
        "!pip install --upgrade opendartreader"
      ],
      "execution_count": null,
      "outputs": []
    },
    {
      "cell_type": "code",
      "metadata": {
        "id": "uUerB1afftmL"
      },
      "source": [
        "def pro_equ(code, start, end):\n",
        "    # OpenDartReader 사용\n",
        "    api_key = '9b9157d4313a84f3141d73f879c5d239d49bb0ce'\n",
        "    dart = OpenDartReader(api_key)\n",
        "    arr = [] # 재무 정보\n",
        "    index = [] # 계산지표\n",
        "    \n",
        "    # 주식정보\n",
        "    if type(code) != str:\n",
        "        code = str(code).zfill(6)       \n",
        "    \n",
        "    if type(start) != str:\n",
        "        start = str(start)\n",
        "    \n",
        "    if type(end) != str:\n",
        "        end = str(end)\n",
        "        \n",
        "    stock = fdr.DataReader(code, start = str(int(start)+1), end = end)  # 2021 지표 <- 2020,2019 데이터로 만듬\n",
        "    stock = stock.reset_index()\n",
        "    stock['year'] = stock['Date'].dt.year\n",
        "    stock['PER'] = 0.1\n",
        "    stock['PBR'] = 0.1\n",
        "    stock['ROE'] = 0.1\n",
        "    stock['ROA'] = 0.1\n",
        "#     print(stock.info())\n",
        "    #         ------------------------\n",
        "    \n",
        "    small = dart.report('005930', '소액주주', int(datetime.datetime.now().strftime(\"%Y\"))-1, reprt_code=11014)\n",
        "    stock_tot_co = int(small['stock_tot_co'].str.replace(',', '')) # 총 발행 주식 수\n",
        "    \n",
        "    for i in range(int(start[:4]), int(end[:4])):\n",
        "        # https://opendart.fss.or.kr/guide/detail.do?apiGrpCd=DS003&apiId=2019016 --> 입력변수 명 참고\n",
        "        # corp: 종목코드, bsns_year: 사업연도, reprt_code: 보고서코드\n",
        "        # (1분기보고서 : 11013, 반기보고서 : 11012, 3분기보고서 : 11014, 사업보고서 : 11011)\n",
        "        fs_before = dart.finstate_all(corp = code, bsns_year= str(i-1), fs_div='CFS', reprt_code=11011) \n",
        "        fs_present = dart.finstate_all(corp = code, bsns_year= i, fs_div='CFS', reprt_code=11014)\n",
        "\n",
        "        # 자본, 부채는 당기 금액('thstrm_amount') 값을 통해서 구함\n",
        "#         equity = int(fs_present.loc[fs_present['sj_div'].isin(['BS']) & fs_present['account_id'].isin(['ifrs-full_Equity']), 'thstrm_amount'].replace(\",\", \"\")) # 당기자본(자본총계)\n",
        "        equity = int(fs_present.loc[fs_present['sj_div'].isin(['BS']) & fs_present['account_nm'].isin(['자본총계']), 'thstrm_amount'])\n",
        "#         print(equity)\n",
        "#         liability = int(fs_present.loc[fs_present['sj_div'].isin(['BS']) & fs_present['account_id'].isin(['ifrs-full_Liabilities']), 'thstrm_amount'].replace(\",\", \"\")) # 당기부채(부채총계)\n",
        "        liability = int(fs_present.loc[fs_present['sj_div'].isin(['BS']) & fs_present['account_nm'].isin(['부채총계']), 'thstrm_amount'].replace(\",\", \"\"))\n",
        "#         print(liability)\n",
        "        # 자산 총계\n",
        "        assets = equity + liability\n",
        "        \n",
        "        # <예시>\n",
        "        # 2019 4분기 ~ 2020 3분기까지의 당기순이익의 합을 구하려면 2019년 4분기 당기순이익과 2020년 1분기 ~ 3분기 당기순이익의 합을 알아여함\n",
        "        # 2020년 1분기 ~ 3분기 당기순이익의 합은 2020년 3분기 손익계산서에서 'thstrm_add_amount' 값을 가져오면 되고\n",
        "        # 2019년 4분기 당기순이익은 2019년 전체 당기순이익에서 2019년 1분기 ~ 3분기 당기순이익의 합을 빼서 구할 수 있음\n",
        "        \n",
        "        # frmtrm_add_amount --> 전기 금액, thstrm_amount ---> 당기 금액, thstrm_add_amount --> 당기 누적금액\n",
        "#         profit_before_3Q = int(fs_present.loc[fs_present['sj_div'].isin(['IS']) & fs_present['account_id'].isin(['ifrs-full_ProfitLossAttributableToOwnersOfParent']), 'frmtrm_add_amount'].replace(\",\", \"\")) # 당기순이익\n",
        "        \n",
        "    \n",
        "        sj_l = ['IS','CIS']\n",
        "        sj = []\n",
        "        sj_b =[]\n",
        "        for re in range(len(sj_l)):\n",
        "            if sj_l[re] in list(fs_present['sj_div'].unique()):\n",
        "                sj.append(sj_l[re])\n",
        "            if sj_l[re] in list(fs_before['sj_div'].unique()):\n",
        "                sj_b.append(sj_l[re])\n",
        "        \n",
        "        \n",
        "        pf_l = ['지배기업의 소유주에게 귀속되는 당기순이익(손실)','당기순이익','당기순이익(손실)','분기순이익','분(반)기순이익(손실)','순이익(손실)','분기순이익(손실)','연결분기순이익','연결당기순이익', '연결분기순이익(손실)']\n",
        "        for k in range(len(pf_l)):\n",
        "            if pf_l[k] in list(fs_present.loc[fs_present['sj_div'].isin(sj),'account_nm'].unique()):\n",
        "                pf = pf_l[k]\n",
        "            if pf_l[k] in list(fs_before['account_nm'].unique()):\n",
        "                pf_b = pf_l[k]     \n",
        "        \n",
        "        \n",
        "#         print(pf)\n",
        "        profit_before_3Q = int(fs_present.loc[fs_present['sj_div'].isin(sj) & fs_present['account_nm'].isin([pf]), 'frmtrm_add_amount'].iloc[0].replace(\",\", \"\"))\n",
        "#         print(profit_before_3Q)\n",
        "#         profit_before = int(fs_before.loc[fs_before['sj_div'].isin(['IS']) & fs_before['account_id'].isin(['ifrs-full_ProfitLossAttributableToOwnersOfParent']), 'thstrm_amount'].replace(\",\", \"\")) # 당기순이익\n",
        "        profit_before = int(fs_before.loc[fs_before['sj_div'].isin(sj_b) & fs_before['account_nm'].isin([pf_b]), 'thstrm_amount'].iloc[0].replace(\",\", \"\"))\n",
        "#         print(profit_before)\n",
        "#         profit_present = int(fs_present.loc[fs_present['sj_div'].isin(['IS']) & fs_present['account_id'].isin(['ifrs-full_ProfitLossAttributableToOwnersOfParent']), 'thstrm_add_amount'].replace(\",\", \"\")) # 당기순이익\n",
        "        profit_present = int(fs_present.loc[fs_present['sj_div'].isin(sj) & fs_present['account_nm'].isin([pf]), 'thstrm_add_amount'].iloc[0].replace(\",\", \"\")) # 당기순이익\n",
        "#         print(profit_present)\n",
        "        profit = (profit_before-profit_before_3Q) + profit_present\n",
        "        \n",
        "        a = (equity, liability, assets, profit, stock_tot_co) \n",
        "        # 자본총계(당기자본), 부채총계(당기부채), 자산총계, 당기 순이익, 총 발행 주식수\n",
        "        arr.append(a)\n",
        "        \n",
        "#         - PER(주가 수익률) : 주가를 1주당 순이익(EPS)로 나눈 값\n",
        "#         - PBR(주가 순자산 비율) : 주가를 1주당 순자산가치로 나눈 값\n",
        "#         - ROE(자기자본이익률) : 당기순이익을 순자산(자기자본)으로 나눈 값\n",
        "#         - ROA(총자산수익률) : 당기순이익을 자산총액으로 나눈 값\n",
        "        \n",
        "    \n",
        "        ROA = profit/assets\n",
        "        stock['ROA'][stock[stock.year == i+1].index] = ROA\n",
        "        \n",
        "        \n",
        "        EPS = profit/stock_tot_co\n",
        "        PER = stock['Close'][stock[stock.year == i+1].index]/EPS\n",
        "        stock['PER'][stock[stock.year == i+1].index] = PER\n",
        "\n",
        "#         stock['PER'][stock[stock['Date'].dt.year == i+1].index] = PER\n",
        "#         PER = stock[stock['Date'].dt.year == i+1]['Close']/EPS\n",
        "        \n",
        "        BPS = equity/stock_tot_co\n",
        "        PBR = stock['Close'][stock[stock.year == i+1].index]/BPS\n",
        "#         PBR = stock[stock['Date'].dt.year == i+1]['Close']/BPS\n",
        "        stock['PBR'][stock[stock.year == i+1].index] = PBR\n",
        "    \n",
        "    \n",
        "    \n",
        "#         for i in PER.index:\n",
        "#             stock['PER'][i] = PER[i]\n",
        "#             stock['PBR'][i] = PBR[i]\n",
        "        \n",
        "        b = (EPS,BPS)\n",
        "        # EPS: 순이익/총발행주식수 --> 주당 수익?\n",
        "        # BPS: 순자산/총발행 주식수 --> 주당 자산가치?\n",
        "        \n",
        "        index.append(b)\n",
        "        \n",
        "    stock['ROE'] = stock['PBR']/stock['PER']\n",
        "    \n",
        "    return stock"
      ],
      "execution_count": 2,
      "outputs": []
    },
    {
      "cell_type": "markdown",
      "metadata": {
        "id": "Y9iFdSm6hjwN"
      },
      "source": [
        "## 모델 실습"
      ]
    },
    {
      "cell_type": "code",
      "metadata": {
        "colab": {
          "base_uri": "https://localhost:8080/",
          "height": 0
        },
        "id": "AbAgyxQj8fEQ",
        "outputId": "cf2d8167-6d47-4ee7-ab79-e1279fc43610"
      },
      "source": [
        "import time\n",
        "import copy\n",
        "import numpy as np\n",
        "import pandas as pd\n",
        "import torch\n",
        "import torch.nn as nn\n",
        "from torch.autograd import Variable\n",
        "import torch.optim as optim\n",
        "import torch.nn.functional as F\n",
        "# import pandas_datareader as pdr\n",
        "# from pykrx import stock\n",
        "import matplotlib.pyplot as plt\n",
        "\n",
        "# 금융정보 조회하기\n",
        "def dataset_loaderKR(stock_name, start, end, train_ratio=0.8):\n",
        "  start_date = start\n",
        "  end_date = end\n",
        "  sample_code = stock_name\n",
        "  dataset = fdr.DataReader( sample_code, start = start_date, end = end_date )\n",
        "  dataset['Close'] = dataset['Close']\n",
        "  date_split = str(dataset.index[int(train_ratio*len(dataset))])\n",
        "\n",
        "  return dataset[:date_split], dataset[date_split:], date_split\n",
        "\n",
        "# 데이터 불러오기\n",
        "# 주식가격 로딩\n",
        "import FinanceDataReader as fdr\n",
        "import datetime\n",
        "start_date = '20180101'\n",
        "end_date = datetime.datetime.now().strftime(\"%Y%m%d\")\n",
        "sample_code = '005930'\n",
        "\n",
        "(train, test, date_split) = dataset_loaderKR(sample_code, start = start_date, end = end_date)\n",
        "\n",
        "\n",
        "# ENV 설정\n",
        "class Environment1:\n",
        "    def __init__(self, data, history_t=90):\n",
        "        self.data = data\n",
        "        self.history_t = history_t\n",
        "        self.reset()\n",
        "        \n",
        "    def reset(self):\n",
        "        self.t = 0\n",
        "        self.done = False\n",
        "        self.profits = 0\n",
        "        self.positions = []\n",
        "        self.position_value = 0\n",
        "        self.history = [0 for _ in range(self.history_t)]\n",
        "        return [self.position_value] + self.history # obs\n",
        "\n",
        "    def step(self, act):\n",
        "        reward = 0\n",
        "        \n",
        "        # action\n",
        "        # 0: Idle\n",
        "        # 1: 매수\n",
        "        # 2: 매도\n",
        "        if act == 1: #매수\n",
        "            self.positions.append(self.data.iloc[self.t, :]['Close'])\n",
        "        elif act == 2: # 매도\n",
        "            if len(self.positions) == 0:\n",
        "                reward = -1\n",
        "            else:\n",
        "                profits = 0\n",
        "                for p in self.positions:\n",
        "                    profits += (self.data.iloc[self.t, :]['Close'] - p)\n",
        "                reward += profits\n",
        "                self.profits += profits\n",
        "                self.positions = []\n",
        "        \n",
        "        # set next time\n",
        "        self.t += 1\n",
        "        \n",
        "        self.position_value = 0\n",
        "        for p in self.positions:\n",
        "            self.position_value += (self.data.iloc[self.t, :]['Close'] - p)\n",
        "        self.history.pop(0)\n",
        "        self.history.append(self.data.iloc[self.t, :]['Close'] - self.data.iloc[(self.t-1), :]['Close'])\n",
        "        if (self.t==len(self.data)-1):\n",
        "            self.done=True\n",
        "        # clipping reward\n",
        "        if reward > 0:\n",
        "            reward = 1\n",
        "        elif reward < 0:\n",
        "            reward = -1\n",
        "        #print (\"t={%d}, done={%str}\"%(self.t,self.done))\n",
        "        return [self.position_value] + self.history, reward, self.done # obs, reward, done\n",
        "\n",
        "# MODEL\n",
        "class Q_Network(nn.Module):\n",
        "    def __init__(self,obs_len,hidden_size,actions_n):\n",
        "        super(Q_Network,self).__init__()\n",
        "        self.fc_val = nn.Sequential(\n",
        "            nn.Linear(obs_len, hidden_size),\n",
        "            nn.ReLU(),\n",
        "            nn.Linear(hidden_size, hidden_size),\n",
        "            nn.ReLU(),\n",
        "            nn.Linear(hidden_size, actions_n)\n",
        "        )\n",
        "    def forward(self,x):\n",
        "        h = self.fc_val(x)\n",
        "        return (h)\n",
        "\n",
        "# 학습 시키기\n",
        "env = Environment1(train)\n",
        "env.reset()\n",
        "\n",
        "hidden_size = 100\n",
        "input_size = env.history_t+1\n",
        "output_size = 3\n",
        "USE_CUDA = False\n",
        "LR = 0.001\n",
        "\n",
        "Q = Q_Network(input_size, hidden_size, output_size)\n",
        "Q_ast = copy.deepcopy(Q)\n",
        "\n",
        "if USE_CUDA:\n",
        "    Q = Q.cuda()\n",
        "loss_function = nn.MSELoss()\n",
        "optimizer = optim.Adam(list(Q.parameters()), lr=LR)\n",
        "\n",
        "epoch_num = 50\n",
        "step_max = len(env.data)-1\n",
        "memory_size = 200\n",
        "batch_size = 50\n",
        "gamma = 0.97\n",
        "\n",
        "obs, reward, done = env.step(5)\n",
        "\n",
        "memory = []\n",
        "total_step = 0\n",
        "total_rewards = []\n",
        "total_losses = []\n",
        "epsilon = 1.0\n",
        "epsilon_decrease = 1e-3\n",
        "epsilon_min = 0.1\n",
        "start_reduce_epsilon = 200\n",
        "train_freq = 10\n",
        "update_q_freq = 20\n",
        "show_log_freq = 5\n",
        "\n",
        "start = time.time()\n",
        "for epoch in range(epoch_num):\n",
        "    pobs = env.reset()\n",
        "    step = 0\n",
        "    done = False\n",
        "    total_reward = 0\n",
        "    total_loss = 0\n",
        "\n",
        "    while not done and step < step_max:\n",
        "        # select act\n",
        "        pact = np.random.randint(3)\n",
        "        if np.random.rand() > epsilon:\n",
        "            pact = Q(torch.from_numpy(np.array(pobs, dtype=np.float32).reshape(1, -1)))\n",
        "            pact = np.argmax(pact.data)\n",
        "            pact = pact.numpy()\n",
        "\n",
        "        # act\n",
        "        obs, reward, done = env.step(pact)\n",
        "\n",
        "        # add memory\n",
        "        memory.append((pobs, pact, reward, obs, done))\n",
        "        if len(memory) > memory_size:\n",
        "            memory.pop(0)\n",
        "\n",
        "        # train or update q\n",
        "        if len(memory) == memory_size:\n",
        "            if total_step % train_freq == 0:\n",
        "                shuffled_memory = np.random.permutation(memory)\n",
        "                memory_idx = range(len(shuffled_memory))\n",
        "                for i in memory_idx[::batch_size]:\n",
        "                    batch = np.array(shuffled_memory[i:i+batch_size])\n",
        "                    b_pobs = np.array(batch[:, 0].tolist(), dtype=np.float32).reshape(batch_size, -1)\n",
        "                    b_pact = np.array(batch[:, 1].tolist(), dtype=np.int32)\n",
        "                    b_reward = np.array(batch[:, 2].tolist(), dtype=np.int32)\n",
        "                    b_obs = np.array(batch[:, 3].tolist(), dtype=np.float32).reshape(batch_size, -1)\n",
        "                    b_done = np.array(batch[:, 4].tolist(), dtype=np.bool)\n",
        "\n",
        "                    q = Q(torch.from_numpy(b_pobs))\n",
        "                    q_ = Q_ast(torch.from_numpy(b_obs))\n",
        "                    maxq = np.max(q_.data.numpy(),axis=1)\n",
        "                    target = copy.deepcopy(q.data)\n",
        "                    for j in range(batch_size):\n",
        "                        target[j, b_pact[j]] = b_reward[j]+gamma*maxq[j]*(not b_done[j])\n",
        "                    Q.zero_grad()\n",
        "                    loss = loss_function(q, target)\n",
        "                    total_loss += loss.data.item()\n",
        "                    loss.backward()\n",
        "                    optimizer.step()\n",
        "                    \n",
        "            if total_step % update_q_freq == 0:\n",
        "                Q_ast = copy.deepcopy(Q)\n",
        "                \n",
        "            # epsilon\n",
        "            if epsilon > epsilon_min and total_step > start_reduce_epsilon:\n",
        "                epsilon -= epsilon_decrease\n",
        "\n",
        "            # next step\n",
        "            total_reward += reward\n",
        "            pobs = obs\n",
        "            step += 1\n",
        "            total_step += 1\n",
        "\n",
        "        total_rewards.append(total_reward)\n",
        "        total_losses.append(total_loss)\n",
        "\n",
        "        if (epoch+1) % show_log_freq == 0:\n",
        "            log_reward = sum(total_rewards[((epoch+1)-show_log_freq):])/show_log_freq\n",
        "            log_loss = sum(total_losses[((epoch+1)-show_log_freq):])/show_log_freq\n",
        "            elapsed_time = time.time()-start\n",
        "            #print('\\t'.join(map(str, [epoch+1, epsilon, total_step, log_reward, log_loss, elapsed_time])))\n",
        "            start = time.time()\n",
        "    print(\"Epoch %d\" % (epoch+1))\n",
        "\n",
        "# TEST\n",
        "test_env = Environment1(test)\n",
        "pobs = test_env.reset()\n",
        "test_acts = []\n",
        "test_rewards = []\n",
        "\n",
        "for _ in range(len(test_env.data)-1):\n",
        "    pact = Q(torch.from_numpy(np.array(pobs, dtype=np.float32).reshape(1, -1)))\n",
        "    pact = np.argmax(pact.data)\n",
        "    test_acts.append(pact.item())\n",
        "            \n",
        "    obs, reward, done = test_env.step(pact.numpy())\n",
        "    test_rewards.append(reward)\n",
        "\n",
        "    pobs = obs\n",
        "\n",
        "# sell remaining stocks\n",
        "profits = 0\n",
        "for p in test_env.positions:\n",
        "\tprofits += (test_env.data.iloc[test_env.t, :]['Close'] - p)\n",
        "\n",
        "test_env.profits += profits\n",
        "test_env.positions = []\n",
        "\n",
        "test_profits = test_env.profits\n",
        "pact = Q(torch.from_numpy(np.array(pobs, dtype=np.float32).reshape(1, -1)))\n",
        "pact = np.argmax(pact.data)\n",
        "next_action = pact.item()\n",
        "test['Action'] = test_acts + [next_action]\n",
        "\n",
        "\n",
        "print( )\n",
        "print( test )\n",
        "print( )\n",
        "print( sample_code, \"결과\")\n",
        "print( \"손익결과 $%.2f\" % round(test_profits,2) )\n",
        "\n",
        "if next_action == 2:\n",
        "\tprint('하락!')\n",
        "elif next_action == 1:\n",
        "\tprint('증가!')\n",
        "else:\n",
        "\tprint('유지 - 확률 반반!')\n",
        "\n",
        "buy_dates = test.loc[test['Action'] ==1].index.values\n",
        "sell_dates = test.loc[test['Action'] ==2].index.values\n",
        "\n",
        "buy_close = test.loc[test['Action'] ==1, 'Close'].values\n",
        "sell_close = test.loc[test['Action'] ==2, 'Close'].values\n",
        "\n",
        "fig = plt.figure(figsize=(15,9))\n",
        "\n",
        "plt.plot(test['Close'])\n",
        "plt.scatter(buy_dates, buy_close, label='skitscat', color='red', s=50, marker=\"^\")\n",
        "plt.scatter(sell_dates, sell_close, label='skitscat', color='blue', s=50, marker=\"v\")\n",
        "plt.show()"
      ],
      "execution_count": 22,
      "outputs": [
        {
          "output_type": "stream",
          "name": "stderr",
          "text": [
            "/usr/local/lib/python3.7/dist-packages/numpy/core/_asarray.py:83: VisibleDeprecationWarning: Creating an ndarray from ragged nested sequences (which is a list-or-tuple of lists-or-tuples-or ndarrays with different lengths or shapes) is deprecated. If you meant to do this, you must specify 'dtype=object' when creating the ndarray\n",
            "  return array(a, dtype, copy=False, order=order)\n"
          ]
        },
        {
          "output_type": "stream",
          "name": "stdout",
          "text": [
            "Epoch 1\n",
            "Epoch 2\n",
            "Epoch 3\n",
            "Epoch 4\n",
            "Epoch 5\n",
            "Epoch 6\n",
            "Epoch 7\n",
            "Epoch 8\n",
            "Epoch 9\n",
            "Epoch 10\n",
            "Epoch 11\n",
            "Epoch 12\n",
            "Epoch 13\n",
            "Epoch 14\n",
            "Epoch 15\n",
            "Epoch 16\n",
            "Epoch 17\n",
            "Epoch 18\n",
            "Epoch 19\n",
            "Epoch 20\n",
            "Epoch 21\n",
            "Epoch 22\n",
            "Epoch 23\n",
            "Epoch 24\n",
            "Epoch 25\n",
            "Epoch 26\n",
            "Epoch 27\n",
            "Epoch 28\n",
            "Epoch 29\n",
            "Epoch 30\n",
            "Epoch 31\n",
            "Epoch 32\n",
            "Epoch 33\n",
            "Epoch 34\n",
            "Epoch 35\n",
            "Epoch 36\n",
            "Epoch 37\n",
            "Epoch 38\n",
            "Epoch 39\n",
            "Epoch 40\n",
            "Epoch 41\n",
            "Epoch 42\n",
            "Epoch 43\n",
            "Epoch 44\n",
            "Epoch 45\n",
            "Epoch 46\n",
            "Epoch 47\n",
            "Epoch 48\n",
            "Epoch 49\n",
            "Epoch 50\n",
            "\n",
            "             Open   High    Low  Close    Volume    Change  Action\n",
            "Date                                                              \n",
            "2020-12-22  72500  73200  72100  72300  16304910 -0.009589       1\n",
            "2020-12-23  72400  74000  72300  73900  19411326  0.022130       1\n",
            "2020-12-24  74100  78800  74000  77800  32502870  0.052774       1\n",
            "2020-12-28  79000  80100  78200  78700  40085044  0.011568       2\n",
            "2020-12-29  78800  78900  77300  78300  30339449 -0.005083       2\n",
            "...           ...    ...    ...    ...       ...       ...     ...\n",
            "2021-09-09  76400  76600  75000  75300  17600770 -0.013106       0\n",
            "2021-09-10  75300  75600  74800  75300  10103212  0.000000       0\n",
            "2021-09-13  75200  76300  75100  76300  11397775  0.013280       0\n",
            "2021-09-14  77100  77700  76600  76600  18167057  0.003932       0\n",
            "2021-09-15  77400  77400  76400  77000  12500473  0.005222       2\n",
            "\n",
            "[183 rows x 7 columns]\n",
            "\n",
            "005930 결과\n",
            "손익결과 $14300.00\n",
            "하락!\n"
          ]
        },
        {
          "output_type": "display_data",
          "data": {
            "image/png": "[encoded data removed]",
            "text/plain": [
              "<Figure size 1080x648 with 1 Axes>"
            ]
          },
          "metadata": {
            "needs_background": "light"
          }
        }
      ]
    },
    {
      "cell_type": "markdown",
      "metadata": {
        "id": "kde6Jwq-hfIK"
      },
      "source": [
        "## 결과 확인"
      ]
    },
    {
      "cell_type": "code",
      "metadata": {
        "colab": {
          "base_uri": "https://localhost:8080/"
        },
        "id": "Z4b5pEwdc8ok",
        "outputId": "2022a2c7-4523-405c-9457-5adb4995ca89"
      },
      "source": [
        "Q.forward"
      ],
      "execution_count": 23,
      "outputs": [
        {
          "output_type": "execute_result",
          "data": {
            "text/plain": [
              "<bound method Q_Network.forward of Q_Network(\n",
              "  (fc_val): Sequential(\n",
              "    (0): Linear(in_features=91, out_features=100, bias=True)\n",
              "    (1): ReLU()\n",
              "    (2): Linear(in_features=100, out_features=100, bias=True)\n",
              "    (3): ReLU()\n",
              "    (4): Linear(in_features=100, out_features=3, bias=True)\n",
              "  )\n",
              ")>"
            ]
          },
          "metadata": {},
          "execution_count": 23
        }
      ]
    },
    {
      "cell_type": "code",
      "metadata": {
        "colab": {
          "base_uri": "https://localhost:8080/",
          "height": 447
        },
        "id": "2E-m_79d1bRd",
        "outputId": "f3846b5b-d44a-4728-e815-5498dd1edb35"
      },
      "source": [
        "test"
      ],
      "execution_count": 24,
      "outputs": [
        {
          "output_type": "execute_result",
          "data": {
            "text/html": [
              "<div>\n",
              "<style scoped>\n",
              "    .dataframe tbody tr th:only-of-type {\n",
              "        vertical-align: middle;\n",
              "    }\n",
              "\n",
              "    .dataframe tbody tr th {\n",
              "        vertical-align: top;\n",
              "    }\n",
              "\n",
              "    .dataframe thead th {\n",
              "        text-align: right;\n",
              "    }\n",
              "</style>\n",
              "<table border=\"1\" class=\"dataframe\">\n",
              "  <thead>\n",
              "    <tr style=\"text-align: right;\">\n",
              "      <th></th>\n",
              "      <th>Open</th>\n",
              "      <th>High</th>\n",
              "      <th>Low</th>\n",
              "      <th>Close</th>\n",
              "      <th>Volume</th>\n",
              "      <th>Change</th>\n",
              "      <th>Action</th>\n",
              "    </tr>\n",
              "    <tr>\n",
              "      <th>Date</th>\n",
              "      <th></th>\n",
              "      <th></th>\n",
              "      <th></th>\n",
              "      <th></th>\n",
              "      <th></th>\n",
              "      <th></th>\n",
              "      <th></th>\n",
              "    </tr>\n",
              "  </thead>\n",
              "  <tbody>\n",
              "    <tr>\n",
              "      <th>2020-12-22</th>\n",
              "      <td>72500</td>\n",
              "      <td>73200</td>\n",
              "      <td>72100</td>\n",
              "      <td>72300</td>\n",
              "      <td>16304910</td>\n",
              "      <td>-0.009589</td>\n",
              "      <td>1</td>\n",
              "    </tr>\n",
              "    <tr>\n",
              "      <th>2020-12-23</th>\n",
              "      <td>72400</td>\n",
              "      <td>74000</td>\n",
              "      <td>72300</td>\n",
              "      <td>73900</td>\n",
              "      <td>19411326</td>\n",
              "      <td>0.022130</td>\n",
              "      <td>1</td>\n",
              "    </tr>\n",
              "    <tr>\n",
              "      <th>2020-12-24</th>\n",
              "      <td>74100</td>\n",
              "      <td>78800</td>\n",
              "      <td>74000</td>\n",
              "      <td>77800</td>\n",
              "      <td>32502870</td>\n",
              "      <td>0.052774</td>\n",
              "      <td>1</td>\n",
              "    </tr>\n",
              "    <tr>\n",
              "      <th>2020-12-28</th>\n",
              "      <td>79000</td>\n",
              "      <td>80100</td>\n",
              "      <td>78200</td>\n",
              "      <td>78700</td>\n",
              "      <td>40085044</td>\n",
              "      <td>0.011568</td>\n",
              "      <td>2</td>\n",
              "    </tr>\n",
              "    <tr>\n",
              "      <th>2020-12-29</th>\n",
              "      <td>78800</td>\n",
              "      <td>78900</td>\n",
              "      <td>77300</td>\n",
              "      <td>78300</td>\n",
              "      <td>30339449</td>\n",
              "      <td>-0.005083</td>\n",
              "      <td>2</td>\n",
              "    </tr>\n",
              "    <tr>\n",
              "      <th>...</th>\n",
              "      <td>...</td>\n",
              "      <td>...</td>\n",
              "      <td>...</td>\n",
              "      <td>...</td>\n",
              "      <td>...</td>\n",
              "      <td>...</td>\n",
              "      <td>...</td>\n",
              "    </tr>\n",
              "    <tr>\n",
              "      <th>2021-09-09</th>\n",
              "      <td>76400</td>\n",
              "      <td>76600</td>\n",
              "      <td>75000</td>\n",
              "      <td>75300</td>\n",
              "      <td>17600770</td>\n",
              "      <td>-0.013106</td>\n",
              "      <td>0</td>\n",
              "    </tr>\n",
              "    <tr>\n",
              "      <th>2021-09-10</th>\n",
              "      <td>75300</td>\n",
              "      <td>75600</td>\n",
              "      <td>74800</td>\n",
              "      <td>75300</td>\n",
              "      <td>10103212</td>\n",
              "      <td>0.000000</td>\n",
              "      <td>0</td>\n",
              "    </tr>\n",
              "    <tr>\n",
              "      <th>2021-09-13</th>\n",
              "      <td>75200</td>\n",
              "      <td>76300</td>\n",
              "      <td>75100</td>\n",
              "      <td>76300</td>\n",
              "      <td>11397775</td>\n",
              "      <td>0.013280</td>\n",
              "      <td>0</td>\n",
              "    </tr>\n",
              "    <tr>\n",
              "      <th>2021-09-14</th>\n",
              "      <td>77100</td>\n",
              "      <td>77700</td>\n",
              "      <td>76600</td>\n",
              "      <td>76600</td>\n",
              "      <td>18167057</td>\n",
              "      <td>0.003932</td>\n",
              "      <td>0</td>\n",
              "    </tr>\n",
              "    <tr>\n",
              "      <th>2021-09-15</th>\n",
              "      <td>77400</td>\n",
              "      <td>77400</td>\n",
              "      <td>76400</td>\n",
              "      <td>77000</td>\n",
              "      <td>12500473</td>\n",
              "      <td>0.005222</td>\n",
              "      <td>2</td>\n",
              "    </tr>\n",
              "  </tbody>\n",
              "</table>\n",
              "<p>183 rows × 7 columns</p>\n",
              "</div>"
            ],
            "text/plain": [
              "             Open   High    Low  Close    Volume    Change  Action\n",
              "Date                                                              \n",
              "2020-12-22  72500  73200  72100  72300  16304910 -0.009589       1\n",
              "2020-12-23  72400  74000  72300  73900  19411326  0.022130       1\n",
              "2020-12-24  74100  78800  74000  77800  32502870  0.052774       1\n",
              "2020-12-28  79000  80100  78200  78700  40085044  0.011568       2\n",
              "2020-12-29  78800  78900  77300  78300  30339449 -0.005083       2\n",
              "...           ...    ...    ...    ...       ...       ...     ...\n",
              "2021-09-09  76400  76600  75000  75300  17600770 -0.013106       0\n",
              "2021-09-10  75300  75600  74800  75300  10103212  0.000000       0\n",
              "2021-09-13  75200  76300  75100  76300  11397775  0.013280       0\n",
              "2021-09-14  77100  77700  76600  76600  18167057  0.003932       0\n",
              "2021-09-15  77400  77400  76400  77000  12500473  0.005222       2\n",
              "\n",
              "[183 rows x 7 columns]"
            ]
          },
          "metadata": {},
          "execution_count": 24
        }
      ]
    },
    {
      "cell_type": "code",
      "metadata": {
        "id": "OYAmjhpGSIiN"
      },
      "source": [
        "test['act'] = np.where((test['Change'] * test['Close']) > (0.1 * test['Close']),1,\n",
        "                       np.where((test['Change'] * test['Close']) < (0.1 * test['Close']), 2,0)) # 상승, 하락, 보합"
      ],
      "execution_count": 25,
      "outputs": []
    },
    {
      "cell_type": "code",
      "metadata": {
        "colab": {
          "base_uri": "https://localhost:8080/"
        },
        "id": "cazp99OKtYyz",
        "outputId": "25020578-8da2-412c-e02f-55c031e49bba"
      },
      "source": [
        "test.Action.value_counts()"
      ],
      "execution_count": 26,
      "outputs": [
        {
          "output_type": "execute_result",
          "data": {
            "text/plain": [
              "2    102\n",
              "0     77\n",
              "1      4\n",
              "Name: Action, dtype: int64"
            ]
          },
          "metadata": {},
          "execution_count": 26
        }
      ]
    },
    {
      "cell_type": "code",
      "metadata": {
        "colab": {
          "base_uri": "https://localhost:8080/"
        },
        "id": "oBUQLeLBSIft",
        "outputId": "d2771a91-1e06-41fc-8cab-28cbcdb23329"
      },
      "source": [
        "len(test[test.Action == test.act])/len(test)"
      ],
      "execution_count": 27,
      "outputs": [
        {
          "output_type": "execute_result",
          "data": {
            "text/plain": [
              "0.5573770491803278"
            ]
          },
          "metadata": {},
          "execution_count": 27
        }
      ]
    },
    {
      "cell_type": "markdown",
      "metadata": {
        "id": "tn9AkWORiUNo"
      },
      "source": [
        "## 결과 저장"
      ]
    },
    {
      "cell_type": "code",
      "metadata": {
        "id": "GBwywzEEupk8"
      },
      "source": [
        "test.to_csv('삼성전자_RL_재무.csv', index=False)"
      ],
      "execution_count": 28,
      "outputs": []
    },
    {
      "cell_type": "code",
      "metadata": {
        "id": "Vy7U2IVp0v22"
      },
      "source": [
        "# 모델저장\n",
        "torch.save(Q,'samsung_rl_재무.h5')"
      ],
      "execution_count": 29,
      "outputs": []
    },
    {
      "cell_type": "code",
      "metadata": {
        "id": "4LOCrtiL3Mae"
      },
      "source": [
        "(train, test, date_split) = dataset_loaderKR(sample_code, start = start_date, end = end_date)"
      ],
      "execution_count": 30,
      "outputs": []
    },
    {
      "cell_type": "code",
      "metadata": {
        "colab": {
          "base_uri": "https://localhost:8080/"
        },
        "id": "GKHh2dj_1C2T",
        "outputId": "293dfa6e-4bf5-4037-b1ee-9566d3fdff52"
      },
      "source": [
        "# 모델 로딩\n",
        "model = torch.load('samsung_rl_재무.h5')\n",
        "\n",
        "test_env = Environment1(test)\n",
        "pobs = test_env.reset()\n",
        "test_acts = []\n",
        "test_rewards = []\n",
        "\n",
        "for _ in range(len(test_env.data)-1):\n",
        "    pact = model(torch.from_numpy(np.array(pobs, dtype=np.float32).reshape(1, -1)))\n",
        "    pact = np.argmax(pact.data)\n",
        "    test_acts.append(pact.item())\n",
        "            \n",
        "    obs, reward, done = test_env.step(pact.numpy())\n",
        "    test_rewards.append(reward)\n",
        "\n",
        "    pobs = obs\n",
        "\n",
        "# sell remaining stocks\n",
        "profits = 0\n",
        "for p in test_env.positions:\n",
        "\tprofits += (test_env.data.iloc[test_env.t, :]['Close'] - p)\n",
        "\n",
        "test_env.profits += profits\n",
        "test_env.positions = []\n",
        "\n",
        "test_profits = test_env.profits\n",
        "pact = model(torch.from_numpy(np.array(pobs, dtype=np.float32).reshape(1, -1)))\n",
        "pact = np.argmax(pact.data)\n",
        "next_action = pact.item()\n",
        "test['Action'] = test_acts + [next_action]\n",
        "\n",
        "\n",
        "print( )\n",
        "print( test )\n",
        "print( )\n",
        "print( sample_code, \"결과\")\n",
        "print( \"손익결과 $%.2f\" % round(test_profits,2) )"
      ],
      "execution_count": 31,
      "outputs": [
        {
          "output_type": "stream",
          "name": "stdout",
          "text": [
            "\n",
            "             Open   High    Low  Close    Volume    Change  Action\n",
            "Date                                                              \n",
            "2020-12-22  72500  73200  72100  72300  16304910 -0.009589       1\n",
            "2020-12-23  72400  74000  72300  73900  19411326  0.022130       1\n",
            "2020-12-24  74100  78800  74000  77800  32502870  0.052774       1\n",
            "2020-12-28  79000  80100  78200  78700  40085044  0.011568       2\n",
            "2020-12-29  78800  78900  77300  78300  30339449 -0.005083       2\n",
            "...           ...    ...    ...    ...       ...       ...     ...\n",
            "2021-09-09  76400  76600  75000  75300  17600770 -0.013106       0\n",
            "2021-09-10  75300  75600  74800  75300  10103212  0.000000       0\n",
            "2021-09-13  75200  76300  75100  76300  11397775  0.013280       0\n",
            "2021-09-14  77100  77700  76600  76600  18167057  0.003932       0\n",
            "2021-09-15  77400  77400  76400  77000  12500473  0.005222       2\n",
            "\n",
            "[183 rows x 7 columns]\n",
            "\n",
            "005930 결과\n",
            "손익결과 $14300.00\n"
          ]
        }
      ]
    },
    {
      "cell_type": "code",
      "metadata": {
        "id": "ouvouI8_iiXy"
      },
      "source": [
        "test['act'] = np.where((test['Change'] * test['Close']) > (0.1 * test['Close']),1,\n",
        "                       np.where((test['Change'] * test['Close']) < (0.1 * test['Close']), 2,0)) # 상승, 하락, 보합"
      ],
      "execution_count": 32,
      "outputs": []
    },
    {
      "cell_type": "code",
      "metadata": {
        "colab": {
          "base_uri": "https://localhost:8080/"
        },
        "id": "zcLLlj-nii9b",
        "outputId": "515211e4-5999-4d87-e835-def1d2d5dff2"
      },
      "source": [
        "len(test[test.Action == test.act])/len(test)"
      ],
      "execution_count": 33,
      "outputs": [
        {
          "output_type": "execute_result",
          "data": {
            "text/plain": [
              "0.5573770491803278"
            ]
          },
          "metadata": {},
          "execution_count": 33
        }
      ]
    }
  ]
}