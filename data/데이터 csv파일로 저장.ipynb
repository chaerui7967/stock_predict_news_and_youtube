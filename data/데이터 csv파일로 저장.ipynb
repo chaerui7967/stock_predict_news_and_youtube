{
 "cells": [
  {
   "cell_type": "markdown",
   "id": "9f12b805",
   "metadata": {},
   "source": [
    "## 데이터 로드\n",
    "- 000660 : 하이닉스\n",
    "- 005380 : 현대차\n",
    "- 005930 : 삼성전자\n",
    "- 051910 : LG화학"
   ]
  },
  {
   "cell_type": "code",
   "execution_count": 18,
   "id": "8dcad3a0",
   "metadata": {},
   "outputs": [],
   "source": [
    "import pymysql\n",
    "import pandas\n",
    "\n",
    "com_list = {'하이닉스' : '000660',\n",
    "           '현대차' : '005380',\n",
    "           '삼성전자' : '005930',\n",
    "           'LG화학' : '051910'}\n",
    "\n",
    "for i,j in com_list.items():\n",
    "    \n",
    "    db = pymysql.connect(\n",
    "        user='root', \n",
    "        passwd='1234', \n",
    "        host='3.35.70.166', \n",
    "        db='proj', \n",
    "        charset = 'utf8'\n",
    "    )\n",
    "\n",
    "    cursor = db.cursor(pymysql.cursors.DictCursor)\n",
    "\n",
    "    sql = \"select * from news_craw_\" + j +\" where length(date) = 10\"  # date 널값 제외\n",
    "    cursor.execute(sql)\n",
    "\n",
    "    result = cursor.fetchall()\n",
    "\n",
    "    # 데이터 프레임으로 변경\n",
    "    df = pandas.DataFrame(result)\n",
    "    \n",
    "    # csv 저장\n",
    "    df.to_csv('df_'+i+'.csv', index=False)"
   ]
  },
  {
   "cell_type": "code",
   "execution_count": 20,
   "id": "13333e01",
   "metadata": {},
   "outputs": [
    {
     "name": "stdout",
     "output_type": "stream",
     "text": [
      "<class 'pandas.core.frame.DataFrame'>\n",
      "RangeIndex: 3936 entries, 0 to 3935\n",
      "Data columns (total 7 columns):\n",
      " #   Column  Non-Null Count  Dtype \n",
      "---  ------  --------------  ----- \n",
      " 0   st_n    3936 non-null   object\n",
      " 1   st_cd   3936 non-null   int64 \n",
      " 2   news    3936 non-null   object\n",
      " 3   date    3936 non-null   int64 \n",
      " 4   title   3936 non-null   object\n",
      " 5   url     3936 non-null   object\n",
      " 6   text    3936 non-null   object\n",
      "dtypes: int64(2), object(5)\n",
      "memory usage: 215.4+ KB\n"
     ]
    }
   ],
   "source": [
    "pandas.read_csv('df_현대차.csv').info()"
   ]
  },
  {
   "cell_type": "code",
   "execution_count": null,
   "id": "b3b55f92",
   "metadata": {},
   "outputs": [],
   "source": []
  }
 ],
 "metadata": {
  "kernelspec": {
   "display_name": "Python 3",
   "language": "python",
   "name": "python3"
  },
  "language_info": {
   "codemirror_mode": {
    "name": "ipython",
    "version": 3
   },
   "file_extension": ".py",
   "mimetype": "text/x-python",
   "name": "python",
   "nbconvert_exporter": "python",
   "pygments_lexer": "ipython3",
   "version": "3.6.9"
  }
 },
 "nbformat": 4,
 "nbformat_minor": 5
}
