{
  "nbformat": 4,
  "nbformat_minor": 0,
  "metadata": {
    "colab": {
      "name": "삼성전자 주식 lstm.ipynb",
      "provenance": [],
      "collapsed_sections": [],
      "toc_visible": true,
      "authorship_tag": "ABX9TyP2S6DGigxy7qlvFiGc8cg7",
      "include_colab_link": true
    },
    "kernelspec": {
      "name": "python3",
      "display_name": "Python 3"
    },
    "language_info": {
      "name": "python"
    }
  },
  "cells": [
    {
      "cell_type": "markdown",
      "metadata": {
        "id": "view-in-github",
        "colab_type": "text"
      },
      "source": [
        "<a href=\"https://colab.research.google.com/github/chaerui7967/stock_predict_news_and_youtube/blob/master/%EC%82%BC%EC%84%B1%EC%A0%84%EC%9E%90_%EC%A3%BC%EC%8B%9D_lstm.ipynb\" target=\"_parent\"><img src=\"https://colab.research.google.com/assets/colab-badge.svg\" alt=\"Open In Colab\"/></a>"
      ]
    },
    {
      "cell_type": "markdown",
      "metadata": {
        "id": "6gVpEXQ_khnG"
      },
      "source": [
        "# 삼성전자 주식 예측"
      ]
    },
    {
      "cell_type": "markdown",
      "metadata": {
        "id": "gq2IWehXkmPi"
      },
      "source": [
        "### 데이터 불러오기"
      ]
    },
    {
      "cell_type": "code",
      "metadata": {
        "id": "NBMVNL9_kbhF"
      },
      "source": [
        "# 필요 모듈 설치\n",
        "!pip install finance-datareader\n",
        "!pip install opendartreader\n",
        "!pip install --upgrade opendartreader"
      ],
      "execution_count": null,
      "outputs": []
    },
    {
      "cell_type": "code",
      "metadata": {
        "id": "_4FpGf_Rk9dz"
      },
      "source": [
        "import pandas as pd\n",
        "import os\n",
        "import matplotlib.pyplot as plt\n",
        "import seaborn as sns\n",
        "\n",
        "# 주식가격 로딩\n",
        "import FinanceDataReader as fdr\n",
        "\n",
        "# 재무재표 로딩\n",
        "import OpenDartReader"
      ],
      "execution_count": null,
      "outputs": []
    },
    {
      "cell_type": "markdown",
      "metadata": {
        "id": "N-NzJPY5lkWK"
      },
      "source": [
        "## EDA"
      ]
    },
    {
      "cell_type": "markdown",
      "metadata": {
        "id": "V1_R6BDdmXQ9"
      },
      "source": [
        "### 주식 EDA"
      ]
    },
    {
      "cell_type": "code",
      "metadata": {
        "colab": {
          "base_uri": "https://localhost:8080/",
          "height": 447
        },
        "id": "Z2mu0zuflYS8",
        "outputId": "8a36f444-818c-4e51-a590-631f2e86f2dc"
      },
      "source": [
        "start_date = '20110101'  # 2011년 부터 10간의 데이터를 추출\n",
        "end_date = '20210826'\n",
        "sample_code = '005930'\n",
        "stock = fdr.DataReader( sample_code, start = start_date, end = end_date )\n",
        "stock"
      ],
      "execution_count": null,
      "outputs": [
        {
          "output_type": "execute_result",
          "data": {
            "text/html": [
              "<div>\n",
              "<style scoped>\n",
              "    .dataframe tbody tr th:only-of-type {\n",
              "        vertical-align: middle;\n",
              "    }\n",
              "\n",
              "    .dataframe tbody tr th {\n",
              "        vertical-align: top;\n",
              "    }\n",
              "\n",
              "    .dataframe thead th {\n",
              "        text-align: right;\n",
              "    }\n",
              "</style>\n",
              "<table border=\"1\" class=\"dataframe\">\n",
              "  <thead>\n",
              "    <tr style=\"text-align: right;\">\n",
              "      <th></th>\n",
              "      <th>Open</th>\n",
              "      <th>High</th>\n",
              "      <th>Low</th>\n",
              "      <th>Close</th>\n",
              "      <th>Volume</th>\n",
              "      <th>Change</th>\n",
              "    </tr>\n",
              "    <tr>\n",
              "      <th>Date</th>\n",
              "      <th></th>\n",
              "      <th></th>\n",
              "      <th></th>\n",
              "      <th></th>\n",
              "      <th></th>\n",
              "      <th></th>\n",
              "    </tr>\n",
              "  </thead>\n",
              "  <tbody>\n",
              "    <tr>\n",
              "      <th>2011-01-03</th>\n",
              "      <td>19100</td>\n",
              "      <td>19320</td>\n",
              "      <td>19000</td>\n",
              "      <td>19160</td>\n",
              "      <td>265562</td>\n",
              "      <td>0.009484</td>\n",
              "    </tr>\n",
              "    <tr>\n",
              "      <th>2011-01-04</th>\n",
              "      <td>19120</td>\n",
              "      <td>19219</td>\n",
              "      <td>18980</td>\n",
              "      <td>19160</td>\n",
              "      <td>274488</td>\n",
              "      <td>0.000000</td>\n",
              "    </tr>\n",
              "    <tr>\n",
              "      <th>2011-01-05</th>\n",
              "      <td>19100</td>\n",
              "      <td>19100</td>\n",
              "      <td>18840</td>\n",
              "      <td>18840</td>\n",
              "      <td>336224</td>\n",
              "      <td>-0.016701</td>\n",
              "    </tr>\n",
              "    <tr>\n",
              "      <th>2011-01-06</th>\n",
              "      <td>18840</td>\n",
              "      <td>18980</td>\n",
              "      <td>18460</td>\n",
              "      <td>18600</td>\n",
              "      <td>387488</td>\n",
              "      <td>-0.012739</td>\n",
              "    </tr>\n",
              "    <tr>\n",
              "      <th>2011-01-07</th>\n",
              "      <td>18300</td>\n",
              "      <td>18580</td>\n",
              "      <td>18280</td>\n",
              "      <td>18420</td>\n",
              "      <td>463447</td>\n",
              "      <td>-0.009677</td>\n",
              "    </tr>\n",
              "    <tr>\n",
              "      <th>...</th>\n",
              "      <td>...</td>\n",
              "      <td>...</td>\n",
              "      <td>...</td>\n",
              "      <td>...</td>\n",
              "      <td>...</td>\n",
              "      <td>...</td>\n",
              "    </tr>\n",
              "    <tr>\n",
              "      <th>2021-08-20</th>\n",
              "      <td>73500</td>\n",
              "      <td>73900</td>\n",
              "      <td>72500</td>\n",
              "      <td>72700</td>\n",
              "      <td>22364803</td>\n",
              "      <td>-0.005472</td>\n",
              "    </tr>\n",
              "    <tr>\n",
              "      <th>2021-08-23</th>\n",
              "      <td>73300</td>\n",
              "      <td>74000</td>\n",
              "      <td>73000</td>\n",
              "      <td>73300</td>\n",
              "      <td>19384648</td>\n",
              "      <td>0.008253</td>\n",
              "    </tr>\n",
              "    <tr>\n",
              "      <th>2021-08-24</th>\n",
              "      <td>73900</td>\n",
              "      <td>75700</td>\n",
              "      <td>73900</td>\n",
              "      <td>75600</td>\n",
              "      <td>21016913</td>\n",
              "      <td>0.031378</td>\n",
              "    </tr>\n",
              "    <tr>\n",
              "      <th>2021-08-25</th>\n",
              "      <td>76200</td>\n",
              "      <td>76600</td>\n",
              "      <td>74900</td>\n",
              "      <td>75700</td>\n",
              "      <td>22319664</td>\n",
              "      <td>0.001323</td>\n",
              "    </tr>\n",
              "    <tr>\n",
              "      <th>2021-08-26</th>\n",
              "      <td>76100</td>\n",
              "      <td>76200</td>\n",
              "      <td>74600</td>\n",
              "      <td>74600</td>\n",
              "      <td>16671494</td>\n",
              "      <td>-0.014531</td>\n",
              "    </tr>\n",
              "  </tbody>\n",
              "</table>\n",
              "<p>2626 rows × 6 columns</p>\n",
              "</div>"
            ],
            "text/plain": [
              "             Open   High    Low  Close    Volume    Change\n",
              "Date                                                      \n",
              "2011-01-03  19100  19320  19000  19160    265562  0.009484\n",
              "2011-01-04  19120  19219  18980  19160    274488  0.000000\n",
              "2011-01-05  19100  19100  18840  18840    336224 -0.016701\n",
              "2011-01-06  18840  18980  18460  18600    387488 -0.012739\n",
              "2011-01-07  18300  18580  18280  18420    463447 -0.009677\n",
              "...           ...    ...    ...    ...       ...       ...\n",
              "2021-08-20  73500  73900  72500  72700  22364803 -0.005472\n",
              "2021-08-23  73300  74000  73000  73300  19384648  0.008253\n",
              "2021-08-24  73900  75700  73900  75600  21016913  0.031378\n",
              "2021-08-25  76200  76600  74900  75700  22319664  0.001323\n",
              "2021-08-26  76100  76200  74600  74600  16671494 -0.014531\n",
              "\n",
              "[2626 rows x 6 columns]"
            ]
          },
          "metadata": {},
          "execution_count": 3
        }
      ]
    },
    {
      "cell_type": "code",
      "metadata": {
        "colab": {
          "base_uri": "https://localhost:8080/",
          "height": 297
        },
        "id": "703chCkBmGlk",
        "outputId": "d438e85f-7b91-442f-9a37-e33bd8581a8c"
      },
      "source": [
        "plt.figure(figsize=(8, 4))\n",
        "sns.lineplot(y=stock['Close'], x=stock.index)\n",
        "plt.xlabel('time')\n",
        "plt.ylabel('price')"
      ],
      "execution_count": null,
      "outputs": [
        {
          "output_type": "execute_result",
          "data": {
            "text/plain": [
              "Text(0, 0.5, 'price')"
            ]
          },
          "metadata": {},
          "execution_count": 4
        },
        {
          "output_type": "display_data",
          "data": {
            "image/png": "[encoded data removed]",
            "text/plain": [
              "<Figure size 576x288 with 1 Axes>"
            ]
          },
          "metadata": {
            "needs_background": "light"
          }
        }
      ]
    },
    {
      "cell_type": "markdown",
      "metadata": {
        "id": "aZOKEKz3CM9L"
      },
      "source": [
        "### 거래량과 종가 간의 관계 확인"
      ]
    },
    {
      "cell_type": "code",
      "metadata": {
        "colab": {
          "base_uri": "https://localhost:8080/",
          "height": 234
        },
        "id": "GHX7OeyHCJKB",
        "outputId": "2aa1e581-554d-4f33-deb4-3e9c12d57a6c"
      },
      "source": [
        "stock.head()"
      ],
      "execution_count": null,
      "outputs": [
        {
          "output_type": "execute_result",
          "data": {
            "text/html": [
              "<div>\n",
              "<style scoped>\n",
              "    .dataframe tbody tr th:only-of-type {\n",
              "        vertical-align: middle;\n",
              "    }\n",
              "\n",
              "    .dataframe tbody tr th {\n",
              "        vertical-align: top;\n",
              "    }\n",
              "\n",
              "    .dataframe thead th {\n",
              "        text-align: right;\n",
              "    }\n",
              "</style>\n",
              "<table border=\"1\" class=\"dataframe\">\n",
              "  <thead>\n",
              "    <tr style=\"text-align: right;\">\n",
              "      <th></th>\n",
              "      <th>Open</th>\n",
              "      <th>High</th>\n",
              "      <th>Low</th>\n",
              "      <th>Close</th>\n",
              "      <th>Volume</th>\n",
              "      <th>Change</th>\n",
              "    </tr>\n",
              "    <tr>\n",
              "      <th>Date</th>\n",
              "      <th></th>\n",
              "      <th></th>\n",
              "      <th></th>\n",
              "      <th></th>\n",
              "      <th></th>\n",
              "      <th></th>\n",
              "    </tr>\n",
              "  </thead>\n",
              "  <tbody>\n",
              "    <tr>\n",
              "      <th>2011-01-03</th>\n",
              "      <td>19100</td>\n",
              "      <td>19320</td>\n",
              "      <td>19000</td>\n",
              "      <td>19160</td>\n",
              "      <td>265562</td>\n",
              "      <td>0.009484</td>\n",
              "    </tr>\n",
              "    <tr>\n",
              "      <th>2011-01-04</th>\n",
              "      <td>19120</td>\n",
              "      <td>19219</td>\n",
              "      <td>18980</td>\n",
              "      <td>19160</td>\n",
              "      <td>274488</td>\n",
              "      <td>0.000000</td>\n",
              "    </tr>\n",
              "    <tr>\n",
              "      <th>2011-01-05</th>\n",
              "      <td>19100</td>\n",
              "      <td>19100</td>\n",
              "      <td>18840</td>\n",
              "      <td>18840</td>\n",
              "      <td>336224</td>\n",
              "      <td>-0.016701</td>\n",
              "    </tr>\n",
              "    <tr>\n",
              "      <th>2011-01-06</th>\n",
              "      <td>18840</td>\n",
              "      <td>18980</td>\n",
              "      <td>18460</td>\n",
              "      <td>18600</td>\n",
              "      <td>387488</td>\n",
              "      <td>-0.012739</td>\n",
              "    </tr>\n",
              "    <tr>\n",
              "      <th>2011-01-07</th>\n",
              "      <td>18300</td>\n",
              "      <td>18580</td>\n",
              "      <td>18280</td>\n",
              "      <td>18420</td>\n",
              "      <td>463447</td>\n",
              "      <td>-0.009677</td>\n",
              "    </tr>\n",
              "  </tbody>\n",
              "</table>\n",
              "</div>"
            ],
            "text/plain": [
              "             Open   High    Low  Close  Volume    Change\n",
              "Date                                                    \n",
              "2011-01-03  19100  19320  19000  19160  265562  0.009484\n",
              "2011-01-04  19120  19219  18980  19160  274488  0.000000\n",
              "2011-01-05  19100  19100  18840  18840  336224 -0.016701\n",
              "2011-01-06  18840  18980  18460  18600  387488 -0.012739\n",
              "2011-01-07  18300  18580  18280  18420  463447 -0.009677"
            ]
          },
          "metadata": {},
          "execution_count": 5
        }
      ]
    },
    {
      "cell_type": "code",
      "metadata": {
        "colab": {
          "base_uri": "https://localhost:8080/",
          "height": 552
        },
        "id": "7Mczl1sXCntf",
        "outputId": "579811e7-fe21-4cbb-d467-0d8021d7a85c"
      },
      "source": [
        "plt.figure(figsize=(15, 4))\n",
        "sns.lineplot(y=stock['Close'], x=stock.index)\n",
        "plt.xlabel('time')\n",
        "plt.ylabel('price')\n",
        "\n",
        "plt.figure(figsize=(15, 4))\n",
        "sns.lineplot(y=stock['Volume'], x=stock.index)\n",
        "plt.xlabel('time')\n",
        "plt.ylabel('Volume')\n",
        "plt.show()"
      ],
      "execution_count": null,
      "outputs": [
        {
          "output_type": "display_data",
          "data": {
            "image/png": "[encoded data removed]",
            "text/plain": [
              "<Figure size 1080x288 with 1 Axes>"
            ]
          },
          "metadata": {
            "needs_background": "light"
          }
        },
        {
          "output_type": "display_data",
          "data": {
            "image/png": "[encoded data removed]",
            "text/plain": [
              "<Figure size 1080x288 with 1 Axes>"
            ]
          },
          "metadata": {
            "needs_background": "light"
          }
        }
      ]
    },
    {
      "cell_type": "markdown",
      "metadata": {
        "id": "rNKam6J2FutU"
      },
      "source": [
        "#### 2018년 거래량 증폭\n",
        "- https://www.yna.co.kr/view/AKR20180504037752008\n",
        "![image.png](data:image/png;base64,iVBORw0KGgoAAAANSUhEUgAABA8AAACXCAYAAAB6OnLmAAAgAElEQVR4Ae2d668+V1XH+w/4xhcmvDC+IsYXxhhCbDBGGoiSSLAkoBCjtgIqIDQETLmIrRrUooihpsWGEBGlplUC2li1GBVEwqWCgXiBtEoBEVBBESsRfMz3yDqus85ae/aemef6+0xyzjwzs2fvtT577duaPXuu2rBBAAIQgAAEIAABCEAAAhCAAAQgAIEGgasa17gEAQhAAAIQgAAEIAABCEAAAhCAAAQ2OA8wAghAAAIQgAAEIAABCEAAAhCAAASaBHAeNPFwEQIQgAAEIAABCEAAAhCAAAQgAAGcB9gABCAAAQhAAAIQgAAEIAABCEAAAk0COA+aeLgIAQhAAAIQgAAEIAABCEAAAhCAAM4DbAACEIAABCAAAQhAAAIQgAAEIACBJgGcB008XIQABCAAAQhAAAIQgAAEIAABCEAA5wE2AAEIQAACEIAABCAAAQhAAAIQgECTAM6DJh4uQgACEIAABCAAAQhAAAIQgAAEIIDzABuAAAQgAAEIQAACEIAABCAAAQhAoEkA50ETDxchAAEIQAACEIAABCAAAQhAAAIQwHmADUAAAhCAAAQgAAEIQAACEIAABCDQJIDzoImHixCAAAQgAAEIQAACEIAABCAAAQjgPMAGIAABCEAAAhCAAAQgAAEIQAACEGgSOCjnwT//8z9vvvM7v3Nz1VVXXfj7jd/4jaYSXNw+gb/927/dfNM3fdOFfFE+/fmf//n2Ez+CFH76p3/6Epsf+ZEf2fznf/7nwUmvPItlTOVO5e9QtkOuCw5ZtjXyL7MPlX3VAYe0qV04RDs+dfs4JBtAFghUBKpyuI0+i9p5tfexPjrUPkDFjPO7IXBM/cXdECGVYyPQ7TxQ5fiHf/iHm+uuu27zzd/8zeeV5NVXX715/vOffzaI/O///u+m/llnz1euVWV/SM6DrGN9aAOvZibMvLiW8+CQ8jizx7l5ua3GILO3pQO5LM65es80p8nbDslOorCHLFuUdc5xZh9LbW5Ujqy+iTKsWX5H5WuFP3X7aOl+pV0jrw83x6u8Uf229obzoI9o1rZEh8u2jreR731aXw61Vn8xayfF75B0vaw9Z06BwKTz4Mtf/vLmvvvu2zz60Y8+dxhUhfvbvu3bNu985zs3//M//5OyyTp7V5rzoGpkVJks2aqGci3Hy1qV1LblHGGY2ePcQfRajUGUP2ts4yAq3jN1nMXZ0jvjVNUBo+erRu6Q7CTyPGTZoqxzjjP7WGpzo3Jk9U2UIbPLyo6renfUXn34qm49dfsYzctjDV/ZjG+ryeu+3M3Ksy9L8bfqoKx8x3B2nJXFKm+qNqdPkzxUZSu+f5vfeWWdzdoWy8Nt77eR73Nzb63+YlWuDknXuYy477AJNJ0HqhBvvvnmSaeBL/Rf9VVftbn11ls32SyErDHwlWtV2WcNw76wZpVf1WHNZKwaGd8hye6bOrdtdmtVUtuWc4qTv57Z40he+rjWagx8nPqd2VscRMV7po6zOFt6Z5x8mV/yu2rkDslOIs9Dli3KOuc4s4+lNjcqR1bfRBkyu6zsuKp3l9hu1S6dun2M5uWxhq9sxrfV5HVf7mbluVX2VAdl5bu6JyuLVd5UbU6fJnmoylZ8/za/88o6m7UtVZ6ufX4b+T4399bqL1bl6pB0ncuI+w6bQOk80OD/53/+54ccB1bY5UB45StfecmBkDUGvnKtKvusYTCsWSE0OebsW2kpzazyqzqsJqPfV42M75D48L2/57BT3Jk+c7hN3WP6zZWzl8NIuMweR/LSp5XZobdtH3bkd5Y/cRA1Ep/CZnG29M44TeV373XJkm0jdlKVqV4ZpsLFfByRLdNt5FyV1pTMretRnyhPZh8tm6s6MC0Z4jWrH0yWLM4oQ2aXlR1vw0aqtqLKsyq86cx+GYGsDo52ZSlU9uDzqArj4ySvjWh7n5XnWAfY8SMe8YjN+973vr06D7I60OTb9r5qE9uEj+PqIXOtyvKS/K7ao6yummqXsxyuytUp21DGgXO7J5A6D/TawW/+5m9u5ASYW3C+7uu+bvOnf/qnFzTKOnu+wFSF1zfoFyLcbDZZIZwrs+5rpaW0s8qvqiCirDru6ZBk902dm8NOcWb6LOFX3WsdrrlyTuk/53pmjyN56dPM7NDbtg878jvLnziIGolPYbM4W3pnnKp8Hj0vWbJtxE6qMjUqSxU+5uOIbJluI+eqtCpZe85HfaI8mX20bK7qwPTIYmGsfjBZsjijDJldVna8DRup2ooqz6rwpjP7ZQSyOjjalaVQ2YPPoyqMj3NpXmc2bGViG/uqvjUu29pn5bnSz8r5CJs/+7M/uyR6lTc9DLI6sJJ37fM98l1S9khOHDLXyl6W5G/V1mZ1VRW2lbVVuTplG2rx4NruCKTOg49//OOba6655pLjQM6EG2+8cfPQQw9ttBaC/j784Q9vfuAHfuBSWBW4pz71qZt//dd/Pdcmawx8gakKr2/QzyP7yo+sEC4p7K20lGRW+VUd1iirjqsOyRKZW/fO0acV39xr1uGak8cZxzXOZfY4kpdehswOvW37sCO/M3uzztVIPD5sFmdL74zTXDuI91WN3IidbLtMxXwckc1zn/O7SityHDm+6aabynVpJGNmHy2bqzowIzJZ/WCMsjijDJldVna8DRup6tbRPKtkNhZL9p/+9Kc3z3nOcy60z5F1K3618X/913+9efWrX7259tprN1//9V9/HtdXf/VXn/UTfuInfmLznve859JMw1a8dk0PKv7+7//+LP4nPelJGz10MLvRwsySXQs1K/+mtqwOrnSt7MHnaRXGx1nltY+nJXdmw6b/NvZVfduSsXXt3//93zff//3ff55nJnNMJyvPFjbuH//4x29kt71s1C9917vedUnMKm+ibJduLOrAKOe2jlvy/dEf/dEl1rF9yvQ51nMq+9lDTM1Oefe7372qWpW9LMnnqq3N6qo5+ViVq5YNrQptxcjUFnzyk5/cvPWtb938+I//+Eb1gG8PZAdaV09twj333LP5t3/7t67UNYtePLSwf1zs/2d+5mfO2p9qnb4qAYW/4447LpRFyXqM3Csdp86nzoPXve51F6Co8Cjj3vjGN545DGKk//Vf/7X52Z/92fSet73tbefBs8bAF5iq8LYa4qwQLinsrbSkiIwjxj/S+as6JDHOtY7n6LNW2j4e63DNyeNzA1r5R2aPcYDSm2Rmh962e+OJ4TJ7s2mdMayOM518PlS/R2w4S3dt/UfsZNtlKubjiGwZq5FzVVpVPvac/6Vf+qWmCJnNtcpF1YHpkcXCWP1ggmVxRhkyW19qx5a+31d5UNWtVXjTNe63IXNroePI2utqv+1+ddaivNXxN37jN27uvPPObieCnAbVg4eYhhZs1sLNkqvasjqo0rWqM3yeVmF8nFVe+3gqeXU+s+Go+5rHa3duM0aPfOQjN3/1V3/VUvv8WjYYfuYzn7n5whe+cB7G//jIRz6yedSjHnXBJnWs83Gr8qaHQVYHrpkPrbha8mVyveQlL9l86Utfiuof/bEePOoBZMXqhS984UZjj7W2yl6q9HvOv/a1r03Fy+qq2M9Ibwwns3ZScrVsKESx98P/+I//OJvpPtLWSEc5r9WX0f3V9g//8A+bJz/5yaUNKR6NbV/zmtcM2ZIc6uqPeBvQa/7ZWn+VbKPno31uo98wItMl50HWGAjQlGF/6lOf2ujJgYep3/LsmFcnayh9vBGOxdVqiLNCaPftaj+SiRXfbcnaYidDyRqjbchiHa45eTxi0L1hZZPyCkddVZHMqXgzO/S23StXDPeGN7zhkoySWd7ZbMvKWNQxOx6x4SzdtfUfsZNtl6mYjyOyZaxGzlVpZXnYe66yHZMrqxPiwN3Cal91YHrlUTirHyzeLM4oQ2brS+3Y0vf7Kg+qurUKX/FYU2bVaw888EBzUB5Ze13t9y233JLWO5UO/vzznve8jZ5IV5tk/JM/+ZMLsxj8/dVv1c3ZWkqWTlYHVbpWdYbP0yqMj7PKax+PyZftMxuu9F/j/Jy2LZPbzmWMYjm1sNk+e+ikc9Ump4ScE57Fd33Xd12Y4Wr3VnnTwyCrA32a2/zdki+Ty9uj6X7s+54111Qf6PVqG18s1bmylyV5nb1OIzmzuir2M3r0ydpJyduyoZ54dxlmaR2o8i8nQdzE5lu/9Vsv1BWtvOwd/MtZ8axnPetCvJJBsya2uUX7XLPfMEfuS84DTRfTdJEIWR7iqU1eoHifprRZRyIzEl9gIhyLq9UQZ4WwpzLNGj1Lb3Q/kolrptsjZ4vdVH5u4/qcPN6GHJ/73Oc2T3nKUy7Zq5i+6lWvGm6QMjv0tj1Hhy9+8YubF7zgBamMOq/rccvKWI+djNhwTFPHa+u/DTvJ2MzJo23IljFdek4N6mMe85gL9tOatWLpZR3UkQGBxZPtq/ov1tlZpyjKkOXnUjvOZB7N7yp8VQ7XkFlP5D/4wQ9urr/++nSar087ss50zsqzj2Pqd+upoNZC8tNRp+Ly11sDhkzmStfKDn17WYXxcVZ57ePJ+Nq5zIa9vmv/3sagInKvZgKYzrav2uBWX1OOz6VM1mbwN3/zN5vv+I7vKOXSAOb+++83tRfts3qx5WxZlNieblZdplnOKutTea16JK6ttg+x5SSIsrbKQSwzundOXySzB8W1to1vk+kadeB3f/d3b/7pn/7pXMxsgB/zJx6rb1Q5eyxiOarieoC674//+I8tyNb2sa1Zo9+wRNhLzoPMGDUdURXk1JYVIK9gZiS+wEQ4lrmthjgrhL5xr2SuOgaW5sje61ilZ+fXTLdHxhY7k6naS1ZVQuIpz5p/31Vpq+KWo0nvJ6lR1+yTqW1OHk/FOee63pdToc8YSqd//Md/HIo2s8MsbjvXU7k/+OCDm2/5lm9JZYwDKRM2K2OWZms/YsOWlu01ZVJTJ2P8remndm+134adZGx8/VPJEs9vQ7aYxhrHeg84dsAe+9jHbj7xiU80o5dtxrys7K0ZUXKxqv9inZ21Q1GGLD8rO67SjXqOHFd1a2UfVdyVzAm+S6c+85nPbG677bazd0Gr+OP5yPpSpIUzMMbTOpbd6X3luFXrKbXiite+4Ru+IZ0Wn9XBla6VPfg8rcL4OKu89vFEBrs4zsqPOPa0O6PyRe699py1wXJ2Zk8RJZPamZe//OWX6qZoH1PHazHQO9d6YKbp01NpKoxmzfT0kVr8s3zdt6215B29ptcQNIU8tlvi+7KXvezSE1+dVz/0rrvuar7SNCrHaPipB6cxvlhmpMecvkhmD4prLRuPcm/jWPYrmZf+yYlmr+/odXlvQ/r9kz/5k+flTw/e7r333kuvHmhdhNarMFrjL/bJX/rSl271dQVjHtua3nrW7l973+U86OlwSrCs0+m9b3ONpFU5ZoXQN+4VsKpjMMeARzKxSrdH5koXnY+GZXq02FXxafaJXjfpaRQtHe1VQPUO6wc+8IHyyf2aclbyT53XlDgVeC97/K3FUEamw2V2GOP0xz2Ve7b2iI8jq7TmlrERG458q0Wz5ISRLWVb1eh5/bLfc+zZ0s/YzGmwD8GGTafWXu9bRoY9+mb1eBy4t9JtXeut/zL7iDJk+VnZcZVu5DNyXNniLu0jy6spHXraGqvP9ODgl3/5lzdyZNpMJ9WLeh/593//9zfiXaUXO2Lq2GXT1HW/2prbb7/9fPr51MAsxi2bM5m9PJWulT34PK3C+Dh3mdetchWvZeVHXHranRjX1HEcOFVl0MdTOQKyfLX75NDPZsX6/O75vYSBnmjqlZvnPve5w/0jyWZ9JMWhmRejWzabzNvsaHyHFF5roDz96U9P6xN7sqyny/od81lctZj7v/zLv+xcpWoGjcpFtWV1VU/bHOOrynnks9bxHBmjzPHYt+NqB2644YazekptjPXB1WeXffzcz/1cWe40qLd2Ks7YrWbCxQU5W85LtQc/9mM/dsH29GEBOcR3scW2pqee3aZcOA9W8HiNZGJPh2ROhkfDsspipGFRQZ3zLqqlZXtVAHoali0eUslp98b9Niqr9773vZPTZjVQ0aIovVvWGERd/PFUB6bnCd3c6VLZgGPEhiOTaoZEa+GsuY3eiD1HOX0jZXkxx74qG14iW5R16XFVz1QLOPn0MvuIA3cffuR3JZcfkCm+zD6iDFl+VnZcpWt2MGdf5fcu7SPLqyldIuss//SUVFOHxa21yXGoGUZZmvGhQ5anuk8d/+zdZbVHcYqopaPZBx/60IcuiJbVwZWulT34PK3C+Dh3mdcXlJ04qFhPtTsT0aaXYznsmXFWyddajyU+TTRbGN33MPj85z9/9kDm/e9//+bNb37z2VPvb//2b0/tPKavJ+QqP7LreC0ea/V3zdxUGkpL9qS0qy2zt6mp1lVch3JeOolX9bAqvtOufll8+mtc5ex805ve1Hx6vLbe73vf+y7NYlXet+wsq6vm9EWqcmQ81t7PkXGKt+oP5b2cLVNfUFCboC8tVLOGVX/EV+9beZGFzb7cIh3e8pa3XCjTijebXTel79zrsexXfZ258Y/e1+U8iJ22KpE5ry30GLdv0GPaWSH0jXsMb8dVx6CVlu7NOmsjmVil2yOzyZ7to2EZ1yl9fFxL3kW19GyvgpV1CCs57b64X7uyUuXUu8K3ebs9o+p3ZodRF3/caljkdNHMDx+++q1GdMTJIfmX2nBk8Du/8zulrNVgdW6jN2LPUc7sSbxfkyWGr44rG14iW5XW3PMaWGmA5e2m5czx6WT20dsG+Hiy3731X2YfUQbx9vrpd1UXV+nG+0eOq/zepX1keSUd9J71s5/97Et8dK2nrbFZBlkexnPZ9HOlE/MrK38KVz0VUjqt+jrWLVkdXOla2YPP0yqMj3OXeR25t46z8iPWrXanFV/rWiyHU212NfNPq6L7T3v7NPXE/7rrrkvtWXqN/FUM4uBgJE6F1Wudd99999n0eQ1y9B60vhIyGo+FVxnW01a/ZfZW6ePvO7TfWtdA/Zaf+qmfKp0G4hAdB6aH7Lu1GJ6cCJq5ufQ1EUuv2iuftUaW5Zntn/CEJ2z0Slm1ZXXVVLnJ4qrKucmx9n6OjJnc/pzKSc9r8XaPXivQDKVMN81si0xiO2TxaJ/V8Vl5UjmM9tZqt3waa/2OZb/q66yV3lQ8l5wH0RNjGdRaxMYSyToHvnMeGxmLe2rvG3RLy/ZZIfSNu4WL+8xoJEcrLcUhw4ryjmRilW6Mc63jKX2My9RncebIkz0digVgKt41Kyt1WrSiapZmXFjOwsh+q6n3xk77zA4tjmyfVVCKp/W0Td9Zl1MmxqdKTRVm77bUhn06rc695NQXWLIGPFbwUafquNeevYz2O8ujkbJr8VQ2vEQ2i3utffbKizrf6oRPbZl9tBrgqfj89ar+i3V2Zh9RBvGOdlLlZ5VuvH/kuMrvXdpHzCsNYH7lV37lLJ8zPtIvsvb5M+e31tDQLIPIzudX9WqTniBNfa+90iM+4c7Kd5Rp6tjnaWUznt/SvK50m5Jz7vWq3ZmT73ZPtMFqMV8Lr8FC9uTQs7ewtq9mHbRmKlR5UzGYs8ia8kHv3P/iL/7i2awBk9f2ilPlMa4X1ZN/2auT0SbFUU++D33TbIqPfexjZ++Za32kHh7Pec5zmq8h6BWOns/wqd/067/+6+dT2tdkVb1KM7XodlZXzenrZu1kj23NDTNHxjV5W1zVV8jENTLx7ZDdb/tYnsQl1g9yVshR4Jlljj2Lc1v7WJ9VfZ1tpR/jveQ8yGAK2pTRaIAw51ONPkOq361GJSuEvnGPCttxpWcrLd0bG0rJPJKJVbqV7kvPT+ljPLKpV0pbnnNVvKr4JbvfNBiXd1WvOlTvqsWnQ7EATOk3ZXdentbv1gq+monwd3/3d+m7dJJPKylPeUYzO5wjezX7Q42k8iBWYsZPFaRsU86HqW2pDfv4e57WZJ2gWMGbHlP7Xnv2Muq3vhueTa/2a7LEe6rjyobnylalM/d81aGRQ6Fny+yj1QDPzUuf17HOzuKMMoi3j0O/q7q4qndjuj18psJU9hFlteNK5ql0dF15dfXVV58tWPqOd7zjfF0CXcv4KM21da709e+PZvkpWaae0EkP1b16kmi8bO/jV7isDrawvXtfhntsptLdxyPZqq3Ko155R8PJXtbeYn3Rsq/qdTy1b5WTvnqwUTmmTb8qb1oMel5pNOb6Lr1mV05NtZY8ciIobO+37Cvdok3GOtF0P6S9eMvBYtym9gorVupfTm3iKnvLHqpU6ajO0cJ3a2yZkz57aBbTyuqqOf3Fql6tdF96fo6MUfc1jqt6U1wjk1YZieVJfGL9ENdFkK3deeeda6gxFEesz5b0G4YSLgJfch4oXFYgBEzvQGoQFjd5ZrKFkHSPPMa2ZRnujTHCMUNvNcRZIdS5qS0zGktvdD+SiWum2yNni51n9Fu/9VuXKndNc/7Lv/xLH6z8rUVjvu/7vu9SHDEvqjyudPH2USY+cUGNkGw6a2BUsdi0/1YjpwZN9l+txJrZ4ajseu0n88grbfscUbVgkPhJv1/4hV+Y7MxIz8h7xIYNd9URjHGrMdX3uUe2yk567TmmVa3LIFl7ZlX5+NaWzce9xu+snh3xlGf20WqAY2Md87/nONYTWZxRhkzPyo6rejemuwb/yj4qDpXMS2XJ+EiGtXXOFnFTOn7WocpYpv/UU2ox0OBR05fj/fGpa1YHx3umjn390mMzVV77eFr5WOXRlJxzr8eOcUu2ta/JOSCbiLKr3areHZYzXM7neI+Op5yhVd60GKiv0FpMWeseaAFR2XzWF55iJn0eeuihszhaayj02s9UeodwXYtjak2DLA/jOT3Iia9qTOkgpu985zu7XxHJHmZMpZFdr/o/rUU/LZ6srhrtL1pcV+K+NfMgtket2W1x1pyc1P5BYZbHWjRRbcOut1ifbavf0KtX6jzIgKmQq5LXiqaq/FRx6k8evOod8qc+9akX3mHLGkpfYCIcq1haFWlWCHs6R1XHwNIc2Y9k4prp9sjYYueNZN/Og145vcw9v1ueadmzX5dBjZDe3295yTUTI3vakNmht+2WrCpH+tRQlm6UUfG0FgySTcgBoc8dZa8L6P5scDhiw4pDXDWtsMcGFUbrR6he6d3m1AWtuDOHqMne09j7uCvZLL64j4NeH9fav6u6W9MoswF5lLU6bumwJF5LL9bZWZxRhqw9qey4qndjulV+qIxqEKu8158WN9OMK9mVFjzTE8W/+Iu/OLt91D4qmStZes9nfMS7V+el6fjVxrNXGiVLnJmWpfnwww+XdY2ftp7VwWZfvXvfDvXYTJXXPp5MJztX5VGvvKPhWgNnk2kbe62C/6xnPSttL7S+T/WUuZqJVz2Z97JXeTPFwN5v1oyepz3taWdtqRZRm/N1BC9P9ltxSh699qC0tIBi7Ddn9x3bOTmOWq8YqP687777ZjlkjIUe7GixxGyWkpWTtdiqrygnksVr+9ZA1eTUfrSu6q1PfBqn+lv5XK15IKdC9opc9mUy8YkzZ5/ylKecl3PVSXHtMa0xttasldH8ifXZtvoNvXKlzgMVDA2QNHCxQjG6909LTZisofQDrAjH0mwVnKwQ9nSOqo6BpTmyH8nENdPtkbHFzvJF+32/ttArp5e59Vs2fP/992+e+MQnpjYs285m0ug+TUmqVv415rr+9re//VyEzA69bZ8HDD/UqMohV5U1rdGQdayUX9WKwyaj9tIxbkudB5KnWjtCjXM1y2PEgTCnLoh62rEGfa2Oy+jMiEo2z93/joNek2vtfZUvNusgG5B7OVu/WzosidfSjHX23DirungX9a7VYaP2Ucm81D4kj/H1+8h6bjqqK1WXyDZ8/PptNqe4Fe6mm266FEbh/OC/JUdWv+p+Y657qzBRttaxj2+Jzfh4WnpVedSSccm1qYFzS9a51/QkT6/+ZXK3FiX+4Ac/mLZxaivV6Z/aqnK4DwZTsl4J18U9PiBR/0yzk7M+zlwmKrf6jGzs+ynttfJeMynVb4g23buI3mhd1VufzGV2TPdVrxb5mWjxYZHqDM3KVV9Qm2xEDwrjTF/dZ1tcm0Vx+IeNFm5X+1ifbavf0KtP6jzQzVVHNBaW7FiQNU0pVghZQ+kHWBGOxd0qOKOF0OJcc7/vTOzN7FY4FSoN/Nbkkg045uRxS+7s2kc/+tHNi170onJALvu89dZbL9mnxaXO7r333nupYvFs4qA+s0Nv2xa37VV5aWAfKy+fhl4Fql6TUDzygFadMsWjmQGaIRA3NaA+Hf3utWGVabETwxiHOQxbdYcGFXLqTG1r2YnyUpyjrPG4t9GX3JVsMU47zsrBlP5zrldP6Wya5twBufRo6bAkXmOk8uO3uXFWdrxkIGgyTu3tSfuofVQyex5zfmftrXSIrEfi1gwM6adZFz/6oz/arAcs3hb73s58NXPB65LVwf66yaN9JZPva1RhpuxA1308Pt34O8ujbdlDTHtXxw888EDqvK2+FNRySolt77ThqhxmNpfZTk8+7yJMZcO7yr+10tHrC5phoTUHfvVXf3XzyU9+smuNpiXpa/alBnzq22ZjkjlxV33lkYcQo/bWW5/M0eeY7mm9tusXhLbZQyPlU6/GySa1Zelo5lTWn94Vv1if7budKJ0HAqLG8+abb57sePsMag3MsobSD7AiHIu3VXBGC6HFueZ+35m4lvFWg485rGQHmZduTh6P6Nca3EoPySXvYnRsZWlUnZ5s6ltmh962ffzqgGsRymwAbqynHAcWn6aDZq8P+Cd/Ftb2c50Hmg724he/OK0PYn6rkr3hhhvSsJq18frXv77pGFnLTqZe8TDekr9679a42b6SzeKK+9bA2+Jcuq9eV/ALkc0dkEuflg5VvFknvVfPKs7INh5XdfGSgWBMozrW03UNfCr7aLVjvQKfoFoAACAASURBVFxGwmXtrWQfGYxUcVQMZCd6kigOtlWLlarMVd/UtnttX8nhdcnqYH/d4tK+sgefR1WYSnd/3sfj042/M70qG473HtOxnOBy4tqTZznNtcZPtql91BT27DOH11xzTffrb1U5zOqlzHZ8fu7zd2XDGTvObZdA68GInBNykPRso/amp+aqW/dph1Xarb5BD4veMOrjVA84Nesg1icj4xlfH2VrdEhHWxutV961w8X6bN/tRNN5IOVbFXk0Jr23pIVLfMfBA8waSj/AinAs/lZDPFoILc5q30pLuswdeHkOh/p7yuNfMYvnNTj8tV/7tXSAPiePR3mpgs+mzqvjoqlKlX1m6ajTo08t2WsM1dOSzA69bce4Va7UmYoOBB23ZkXEeHSsuO65557zWQw2AyALq3OjNixerVdAlP9xJobSaTkQdI86h5JbnfS4rWEn1WcklZdf+7Vfe6khrvK2V7ZYDux4242rOGcOJDWomnpn29wBufRo6VDFm3XSTZapfRWnMa32VYO6ZCBYpRXPW3lfw3an+PRcz9pbyTwyGKniiLrrPePbbrstXay14tGyqahfJYfXJauD/XUfZ2UPvv2vwkTds2Mfj083/s70qmw43nuMx3oiqJkDtj5ISwfVa5rNYw6HqXYtxlXZXVYvZbaT5es+zlU2HPXleLsE1A+qXuduvX6TSTVqb1ey80Dc9aqCHohV5S/rf+o+ObLVzlT36XycDav6weocu89mb2Z5uatzsT7bdzsx6TwwMGpI9WROU0O0qItB1aIyWrxCwKee5mYNpXW4lE6EY2m0GuLRQmhxVvtWWpJResZ7s0xc0vGI8W/juKWn3sPXQiE2YO5NXwPf66+/vrla7pw8Nhsc2UcHQqwgRuJSWH3+Tt8n1sKS2ZbZobft7B5Vbn6BRnk/9bqEzs/ZNFhWZ0t/LQ94rw1LhqlXQGQbmp0ke882nZctRSeJtymtwK0ZFH5baidy+mRfgFG6Oq9p17GB0LWeTsBS2byeS3+LbzU7LGtQe9LL7KM10KsG+opn7lbF6e0m+53VxZJhSX0sO3n84x9/9oqQXhPSwmaveMUrzt6hlPNLemqa4xe/+MUzdQ/FPrL2VsxGBiNVHJ69+KhuFIvss3UVj5ZNRbup5PC6ZHWwv+7jrOzBt4tVGK979dvH49ONvzO9KhuO914px+qPvPzlLx9uGyu7y+qlzHaqvN31+cqGjyH/T4Wr+mRyxGd9Bp3LbKqVPxmXVn9xbnu4C1sdqcdbTLJr6sfrQWRrLFK9nmvxqU3Sw0StgWHxKM9+8Ad/8GxMq3retuyVFH0QwLdr6lvq60EaC9trx+rfPu5xj9vccsstZ31mi2/NfazP9t1OdDsP1oCQNZS+wEQ4ZvithjgrhHbfnH0rLTFQJRHjzTJxSccjxr+N4yk9pas8/9JXjPU+kBUUk0cFUJ1qrTaujqMtRtKylTl53IqvdU0Vj6bHq2MbB6et++Zcy+zQ23YVpxolLe6j96lGP1FUxTl1vteGP/vZz26kg+V33KvCVGWpyrS1aWbE3Xfffcl+FF81WF9iJ8p3DZyjvD69VphnP/vZZyv2Vjotka2Kc875lg7+dYXRuDP7aHUQqo6N4pm7ZXFGGbL2JKuL58ow975DsY+Mj8qA6qrerYojK1s6p86ZnJdqO2yreMT8tPDZvpLD65LVwf66j7dqn5WObVUYH2elm4/H4sv2lV4V3zXO98qWyXtM56q8yeqlzHbWYL1GHN7ejom/ZD0Fri3HgfpA2eu5U/mUcWn1F7P2cA3bWiOOkXp8iou/3npN1uTWgyc5F9fYlM/xCxpxHQst/hoX4jRZbK82ULPw1D9bc4v12b77OkfvPFgzc3riyjrWWSZWHQ8zsH3vr5QORE+eXmlhem1YXKpPbKmCVKMpx0DvJueI/6yrHFL6Jm+2xYrSysuU3arcVU/i5ezSe3C2ZYviWDpqlGzxHAtv+7my2f1r7FszK3pfv6jkyOyj1UGoOjZZJ71KM57P4owyZAOvrC6OcW/7+BDsQzpmfGTfI4ORKg4rJ9Ve76aqfGmreMRvarfypZLD65J1yP11H3/VPisd26owPs5KNx+PxZftK70qrmuc75Utk3cf5/RQQrNetaaI2gw/89V46JyuvexlLzv7gscuFuPzLCpbaQ0I/f2n+jsrk5Zn+977clzx14DSzw6NMvcu3hnjz7i0bCVrD6Ms+zqO7XLUdc6x+oWtL2RJV62/JQfDWlv2BQ05E2QD2nrXz7J8GFkDo0eH2Nbsu6+zU+dBD6BDD5N1rLNMrBoTM6x973s6EJmu25K7R55Dt41dyievphoUTcfStC3NANHgOOaPXiu69tprz6ZZqwPWMzsk6qEKWk/jLW5N3dZ37udscjZoMSx9T7e1AE2sKC3tlp2ow/hDP/RD53LaPdpXTwhaDYJeddG7dtZ4mL5zZLN719jrqa6+W+z1s9/RQTInvazctzoIVcfmmJ0HKl9ydslBpplVsvk480rMdU7XVAZVFsVi7ScOc/JQ96ismF34fU+nuZWm2raPfexjmze/+c3NpzA23VP1h5xxXgb73Wsj1dcWdN62rENe6Vq1z75+qcL4OJfWBVUeGZ9t7L2Oxu7Q9nKO6hW+qad8LT5ag0vl18+C2Zaela20BoTbkuWQ4s3KZCvPdnnNl+OMmerxbO0sk3FqunwWp53LuFzptmJspj5DrgdX1ZpqFsfoXq8l+AdbymO/MLpmN0w5M8wubK++mPqPa22xrcnGnWul1RMPzoMeSi5M1rHOMrFqTMyw9r3v6UBkum5L7h55XDbM/rnLfNlGY6A1CNTwZI6C3rxRh0wds6nXDTxkDQD0OUMtHrmLzlisKE23zE6khwYy2eDO7mu9/99alVdOhxtvvPFszQvjMSKb3bPWXg6SaiAmm9ArMNHZMZp2Vu6vFOeB1jbRegZLypfuVRlVWd3nprJi9u/3U53mEZltsdaKl2Ro1blxhewq7ayzLZ18fZCFqXStZPLxVWF8nEvrgiqPfH6t/dvrWPHe53k5ppc4DSIvLcyr99WX1ovGRPGoHn7rW9965lisHPcmh8qGvd4pZ4aeqo7M2LN0j3GflUnjsu+9L8eRrWZc6nPflYzV65Yxnuo447KN/mKV/qGeV3vQ6sctXbss01vlOX7OW2XWO7blRPK2IAfG7bfffr4WgpwPWtRS/UUfTmu1tNYfy+SpzsW2Jht3Vvdu4/ws50Fm+B7Y2r/nNHZZB1hyeYOYAzSLd1uZGI3FuLYqvTk6VfdkupoMa+/n5HEld+t81SFcWx/Ft2ZjoAG73iVWpbWWrOqgzZ1BYIwrG1lazirbj3aip8N68ttiMvWEQI3HnXfe2WSrRsvWpOiVzRitsVdnU4v0aBCf6arGbvRLIpVcWZ6u7TyQPpoFI4/+e97znrMnhJrdctddd52Jlc1miDLIFiKLuXWx6oW1y5c6Eqqrd+Fsy/Iy4yNea7cfWefL8kWOLnWsNOXczvl9LM+ZHg8//HD6NRHF4+uZNfolXp6qrfD8ltYFVR55Rmv/9jpmvPd1TnbUmiK+hIPKogYAS2YFqRxr8K8ZDUtk0b16ZUdfVZL9sNUEqjK4Zt/Kpy4b1JelWn2KpY4DpZfVVdvSyet3yL/VD6j6Nyoz6settb6B56DZpzFd/8pBNnMu+/qC6hYtDu7rBr1KNWe2r5fPfse2Zm5fx+Jbusd5MEgw61hvKxOjsZhR+s7LoPhDwTNdTYa197vq0FSN0dr6KL61GgNVmNXT5qVyLx10VjbiO/VDRveVwJXtRzuZGviLW0+D0+q4quMp54JtvbJZ+KV7PcF+wQtecKFR8vmuPFzzyVqWp3Hg7nXKBvpevpHf+hKGtizOKEM28JpTF2+zfEl3//6/57bt3xkfybON9kNPUx/zmMdcslGd07XqtQM5FVT2Wps6X+qERTt61KMetfnIRz5yfmvWIY/3TB37+qVqKzy/XdYFWbmUPkvr2nOAe/7RmgE2lW8911WPa/A/ZW8Rg8KrftUMhp50RsLoKasWE75SZiJEtlPHVRlcq2/l0+95QNPbn/DxZr+zumobOmVpH+K51vpTKrcalMsW1t6U51qs3JfZuNi02hi1NRYm9kO8TFo34ZGPfGRXWH9fz+/Y1szp6/Sk0xsG50Evqa+EyxrwbWViNBYzXt95GRR/KHimq8mw9t532oaEHAxcNUZr66P41mgMVLnJ47oN+SxODT79QoIjSCsbWdqhrWw/sxN17tQpVCNjOmmvRmHkKxuKR69zxGlz8ZWHEdlGWMawmkI/9cnUbUzjy/K01WBmA32fDyO/bTCZxRllyAbHo3XxLsqX2aLS2uWW8ZEs22g/qjJheaZZM5kdqDOuJzutTStc60ltvF/rpnzuc587vzXrkMd7po59/VK1FZ5fpbeP51zAhT+ycil9lta1C8Va5fZPfepTmyc96UmX8lj6qV5/+tOffvZq2oMPPrj5/Oc/fylNndM6HKq/n/vc55azyMweL0VQnJh6733KnnquSz/NQlgyK6IQ/+hPV2Vwjb6VwZHjRuswTTmHnve8503WVRbn1D6rq+bolNUJozY+Jeu2r2dP7K3cqGwsnTFUyZ/1G7O+8Lve9a4LfctWH0MPIvSKksn/iEc8YqM1HNbYYlvTkmON9KbiwHkwRShczwrrSCZGAzAjyzobVVjfeQniHfxhpVOm/zaUqRojy4c193Mag6izuFQyqUOtTyWqchJX+868xaHKUZ1rdbi0JoA6YHGAbXGr46YO3OiWlQfFubRDO2onaoD85xmXrMSraYsalEsPOSDioG9UtlGmCq/XSbJVxS2/tNfAS+/err1ledrqkGQDfS/nyG8rM1mcUYasbIzUxeL2lre8pSwTVr7UeVCnQHVH3FTmZA8qg69+9aubU5p3VceZjBkf5cU22o9q5oHlWZafkkWfwvrQhz5kIqf7Sg851lTH2ZZ1yEdsT2F9HlVthee3i7rA9MvKpWReWtda/Pvc63WFLK80fVz1sc/nHjn1ipnauyzOV73qVd3xaZHhqs3M4p57TmkoLbaLBKoyaO3ExdDzjlpPvZWfypvXvOY1Q2tETUmS1VVzdMrqBKtzp2Q4lOtaVFCD9lh2xF2vD2zLqfbhD394oy9T+XTVpsT0IuNWPmXtwVr1c4x7tK+zdn7jPFib6ER80QDMcH2nxaKowvrOi4Xdxj4WGpN1G/tM/23oVDVGS5mu1Rh4nbN3rcRe6x68/vWvn9WYPfDAA+WqsVoAanSrbGStCnNEHi2cqPfW3/SmN11qAEbiUVgNyrVAZPZFiKpcrm3D1arDyn8tXDmy4OWI/lmetjok1cBwTj1hT6KzOKMM4h3TGGlQq7pgSWdReaKyma1NYrqN5MWSsBkf8WrVdRqkzZlCXaVl+SEH3HXXXXcpvySPXlWpFpXSKwt67SPms/Io1jFZHRzvmzr2ZbiyD89vV3WB7CArl9InclhiM/u4V3n/kpe85FIeq7xn9W+vjKrDs9ddesuh1ur43u/93ktyibnKtwYRcsrLOS87zcqNzumaOfB1T1Y3KE6lpTTZ/p9AVQZbA7j/v7v/V/XqmmzwbW97W7ezqTfFrK6ao1NWJ8R2slemfYRT2deiglm9PLVW1RJ5ZVf6zKZPV3VF9jAmMm6tYxBnHszNC/X9nvnMZ24+8IEPnNtebGusbRUH1TNysj7jGc/YvP3tb1+CpvveWc6D7tgHA0Y4lrG+Qe+NMma4xbXvhnZExyqs77z08pgTrmJoLNfcz8njOTpVjdFSpms1Bl6n+K6V8R55cuLjs9/qyESPq+Kew6CykX2XM9N1G/uqXG7DhjWItlkQyiMtcqlp3NvcsjxtNYLZQN9sNdtrRoWeKOpPn0HUKsX33HPP2UBB5VNbFmeUQbxj/L5BnWJU5ePzn//8RY6ZqkNk7/9PybXW9YyPeLXKufjr6yLKjx7nlJwNshflTcwLHWutDpsRFVestvDZVFExUNxxFWy7x39Gay1eMZ6etqKyoW3UBVm5FI9jr2srzt52Yt70HmdrbfTWEfH9ZbM9LZj38Y9/vFeES+F0r+Kw+Gyvd6WV5tJNT041k8MWdlRbrzV74hNVn47KmmZY6bPOcszp1T194z7OuvP36PdDDz10NjtPDhH93XDDDWfnYri5x5VtzBloT8mgVxz9++/6dJ/028a2Vn8xqxNiO7kN+deKs5qx1jMjbYkMccahbL6a+RPrgVY7HsM+9rGP3XziE58YElXtrvogqhckl9pjOSViW2P1mGZZ+c9Mykk/VW6HBCoC4zwowGzrdDQAaziyzkYVttX5W1PurGIyedfeZ/qvqYvFVTVGS5mu1RiYnNpnAyhxX9pZXJNBZSNLZfQcDu13VS63ZcNqYNU49A7olvLK8nTXHZLM9qMM4h3rIWtQexhUzrmldYHSzmSL8vfIuCRMJoN4tfTzdYO9tqGnIPHJqt4xf/e733329EYdnJgPOtZ5PbWzTZ0c7wjz92iwIkeBdXqUXvbpK4tXnb9tb56Fl9Xz660LMnv2ce7z967tMuZbxVmzEaoZKTGO6niJ8yCrB2XTa7RtiiMrN0vjlhMgW/9H9uVXkI+8qsUq9XRW+ZNtVXnWgElt1hpbZRvbcB5IXtU/sjsx7HGeztVxrf5iZqP7Ls8jTPRpxqzu01P3L3zhCyNRdYfN7PalL31p6VzT4F827eVUW6Wy5jfVVZpF58PNeRChdlVrJfh41G7+wR/8wUb9GzuvtRXe8IY3XFqjK7a7XsY1f+M8WJNmR1y9nY2OqLYeJKuYzHDX3m9r4BUhVY2R7xDGe3qO12oMfFrV4IaZB57S7n8fUxmeQycr97vukGSDrShDNjgecR5U+bjUc68nfOqMxDqy9cRiTj5N3ZPxkUytuq6qH6MuPcd67cd3wFszCXriszDbnM7qmVYsPL/KhmJ7ltmz6bPvfSxXnsEufqvTvY3XFqp32eNCm5WOWT146M6Dz3zmM5snPOEJl+oe2VhV/1R2rnukr2YkZJteEaxsV06bNbZKtm05D9aQuSeOtfqLmY3uuzz36G9hNPitbGjO+VjvWjq2z9rma665pjmTKJtJqNly3tmt141uv/32C68kqezMcXLL5hV3XLj7a77ma1KHo+eke/TapDnhTe9t7HEebINqI87ezkYjip1dyiomb6hr/p4q9GspXTVGvkM4J621GgOf9jbWPJDXtVpI6tjXPPDstvn7mMrwHA5Zud91hyQbbEUZssHxiPNA0+mzT2Cq0Vd5ntMAa7Cs6fmKI9aPS50So3mZ8ZFMrbquqh+jLlPH1ecpxXTJ12M0BXvJe/AjDCsWnl9vXZDZ8xTDXV2P5WqE0Vphd7lgYlxos9IhTkG2/NA7z1o7aO6me7O1GNZ4baFlZ5UjoLJh07fqm2V9HrvHl5G5nHRfVQZxHvwf1UNoq5fkb8uGzJZG9pWtmoxxAdTeAb7qAr1KMSKLZosuWcNEryqMtJXbWkDb2MU9zoNIZMvHVUU9ZfRbFiuN/tgrpkypqjFa2thlleAaDVw1AFAl5qcVy67s3WLTW0/69LUFfcJKjoHW1xY0BUqfBhzdMhuRbDp/qtsxleE5eZDl6a4HGFknOMqQlY0R54HYxM6E7xxY+Zr62oIaeYXRl0+ytUQsTg2QdrllfCRLq66r6kfToWf/ohe9qPmJ1PhucU+cCqOpm7KLXW0VC8+vty7I7LlX722Hi+VqV3x9OiOfalSbFqcM+081Xn/99ReeAHp+GgBoINCzydFVLfKp9/vVWfcLJmZrCuicXzBR92xzwURmHvTk7P7DrNVfPIS2egnNjIMvr6O/W+OobAHVODuu0kX1TfU6UCbjWk5utUE333zzpNNCa43MedhR6dtz/opzHmQZvca53k5r1dlYQ4YqjrkDuaxiqtJY43yr4PcYc0+YqkO4hvwxjjWcB0uf1EWZsuNe72vGd9c2sgbTTI+Rc1UZ3oX9jsg5N2yWp7seYGSDrShDNjjurYeNjeqDuOpyVkaWntvVVHvTS/uMj/Twg18fXr8ffvjhs0XP5uj75Cc/efOOd7wjXXU+piPumvZcDaR8+qqfbNGoGM82j6u2wvPrrQsye/Y67vN3LFfbZNqKu3rvfi02siMNAKLjoSVTy7m4llyKR7JVC7a15IvXWoOcOWsetOqt7N1x6XLMax5Ents6zgbNc/o2h9BWL2GUcVhSrqo+mJx4mnHk49YAX59r7N30RYO777770usEPk79Vju41pofkm1qDNAqo726zQmH8+Cqqy4YVDSE3uPeTmvV2ehNZ044VTBztqximpN+7z1VwZ8je3VP1SHslXEk3JzGIJNb725mnysbkaUKq867OlTZZ6YyWeK5XdvIWkyjHiPHVRnehf2OyDk3bJanux5gZIOtKEM2OO6thz2buU/CqzIVz1dT+L0M2/id8ZFsfvCbpasBiJ7SaLaSvoahr2LoCxleLw12tJq7Oi5ayV3hRwZllq6mdd51111nT3h9Gnqn9Hu+53vOXgHRU+l9bFVb4fmdel2wS+6yH83Oyb757m1vzm/Z66233louilbpqUGH7tP9c9LtuWeubJXMast/93d/98LXFvT5Yr/+SLxX7PWpN9VVkmfO1xaUb3oNbM0vFFRl8BD6AZHhyHE2aJ6jU9ZW99jc3DBz2tcWl4zDXNl0X9UHi45J2bjarTmb6nzVCY973OPO6wWVFy3yqPzIZiDNScffoy+0aG2GyGbUAeLjXPob5wHOg9KGdl0xVQW/FHDGhaoxioVyjeM5jUGlkryPqmjX7MRoGvB73/veWZ1+k3PXNrImU9NhdH/qA4YsT+PAfZTZaPhdOg8km+qF3ifhvXWDHHOKc9fTCUdZEz4nULUVOA9yXmudff/733/2SdrecjYV7tGPfvTmvvvum+0g12Bc9yueqbRGr2vQoaeZc533azE/1HiqMngI/YAlzLJB8xydsrZ61AZHwq/tPFjC8Eq7N3sYcMcddyzqvy9hiPMA50FpP7uumHAelFlxfuGjH/3o2crUS57OyGO61mf/dm0jcxrYc3gr/cB5sBLIRjS7dh6YKFr34xWveMWip58qm+ocqqyyHS+BauCC82D7eaqn5Pfee+8iJ4JmxmhW3VrOO8Wj+BTvyIArC6snhrfddtuiBdW2nwv7T6Eqg4fQD1hCB+fBEnpX5r3qm2htMqtPVIc8+OCDe4OB8wDnQWl8ux4Y4jwos+LSBS2OqFXHtbK7FnVSpZI5FK6++urNtddeezYg0juVGvjOmV58SYCvnNi1jRxCpwHnQWUN653fl/PANNDUQ8mgwYJN3ddTQmu4ba9zmtav6fsqi7pnG9MWTS72uyNQDVxwHuwuD9RW6ZUYORJuuumms68U+NdbYjlUWdXrNvo2+7ae5ksmtQFqT7VI6tOe9rSzKcXZ+h06p+nG1gZLj7mv+OyO+uGkVJXBQ+gHLKGE82AJvSvz3vhJW/U5tEbRvraTdR7sCyjpQgACp00A58Fh5G82jY9plYeRN6cgRTVwwXlwCrmLDsdAoCqDOA/+L/d2/fCG9nW/pea1r33t+QMM3w7tQ6qDch7sAwBpQgACEIAABCAAgVECp+5IHOVBeAhAAAIQOH0COA9OP4/REAIQgAAEIAABCEAAAhCAAAQgsIgAzoNF+LgZAhCAAAQgAAEIQAACEIAABCBw+gRwHpx+HqMhBCAAAQhAAAIQgAAEIAABCEBgEQGcB4vwcTMEIAABCEAAAhCAAAQgAAEIQOD0CeA8OP08RkMIQAACEIAABCAAAQhAAAIQgMAiAjgPFuHjZghAAAIQgAAEIAABCEAAAhCAwOkTwHlw+nmMhhCAAAQgAAEIQAACEIAABCAAgUUEcB4swsfNEIAABCAAAQhAAAIQgAAEIACB0yeA8+D08xgNIQABCEAAAhCAAAQgAAEIQAACiwjgPFiEj5shAAEIQAACEIAABCAAAQhAAAKnTwDnwennMRpCAAIQgAAEIAABCEAAAhCAAAQWEcB5sAgfN0MAAhCAAAQgAAEIQAACEIAABE6fAM6D089jNIQABCAAAQhAAAIQgAAEIAABCCwigPNgET5uhgAEIAABCEAAAhCAAAQgAAEInD4BnAenn8doCAEIQAACEIAABCAAAQhAAAIQWEQA58EifNwMAQhAAAIQgAAEIAABCEAAAhA4fQI4D04/j9EQAhCAAAQgAAEIQAACEIAABCCwiADOg0X4uBkCEIAABCAAAQhAAAIQgAAEIHD6BHAenH4eoyEEIAABCEAAAhCAAAQgAAEIQGARAZwHi/BxMwQgAAEIQAACEIAABCAAAQhA4PQJ4Dw4/TxGQwhAAAIQgAAEIAABCEAAAhCAwCICOA8W4eNmCEAAAhCAAAQgAAEIQAACEIDA6RPAeXD6eYyGEIAABCAAAQhAAAIQgAAEIACBRQRwHizCx80QgAAEIAABCEAAAhCAAAQgAIHTJ4Dz4PTzGA0hAAEIQAACEIAABCAAAQhAAAKLCOA8WISPmyEAAQhAAAIQgAAEIAABCEAAAqdPAOfB6ecxGkIAAhCAAAQgAAEIQAACEIAABBYRwHmwCB83QwACEIAABCAAAQhAAAIQgAAETp8AzoPTz2M0hAAEIAABCEAAAhCAAAQgAAEILCKA82ARPm6GAAQgAAEIQAACEIAABCAAAQicPgGcB6efx2gIAQhAAAIQgAAEIAABCEAAAhBYRADnwSJ83AwBCEAAAhCAAAQgAAEIQAACEDh9AjgPTj+P0RACEIAABCAAAQhAAAIQgAAEILCIAM6DRfi4GQIQgAAEIAABCEAAAhCAAAQgcPoEcB6cfh6jIQQgAAEIQAACEIAABCAAAQhAYBEBnAeL8HEzBCAAAQhAAAIQgAAEIAABCEDg9AngPDj9PEZDCEAAAhCAAAQgirA9CQAACxBJREFUAAEIQAACEIDAIgI4Dxbh42YIQAACEIAABCAAAQhAAAIQgMDpE8B5cPp5jIYQgAAEIAABCEAAAhCAAAQgAIFFBHAeLMLHzRCAAAQgAAEIQAACEIAABCAAgdMngPPg9PMYDSEAAQhAAAIQgAAEIAABCEAAAosI4DxYhI+bIQABCEAAAhCAAAQgAAEIQAACp08A58Hp5zEaQgACEIAABCAAAQhAAAIQgAAEFhHAebAIHzdDAAIQgAAEIAABCEAAAhCAAAROnwDOg9PPYzSEAAQgAAEIQAACEIAABCAAAQgsIoDzYBE+boYABCAAAQhAAAIQgAAEIAABCJw+AZwHp5/HaAgBCEAAAhCAAAQgAAEIQAACEFhEAOfBInzcDAEIQAACEIAABCAAAQhAAAIQOH0COA9OP4/REAIQgAAEIAABCEAAAhCAAAQgsIgAzoNF+LgZAhCAAAQgAAEIQAACEIAABCBw+gRwHpx+HqMhBCAAAQhAAAIQgAAEIAABCEBgEQGcB4vwcTMEIAABCEAAAhCAAAQgAAEIQOD0CeA8OP08RkMIQAACEIAABCAAAQhAAAIQgMAiAjgPFuHjZghAAAIQgAAEIAABCEAAAhCAwOkT6HIe3HHHHZvf+73f2zuNhx9+eHPLLbds7r///mFZJL/0YIMABCAAAQhAAAIQgAAEIAABCEBgjMCk8+DBBx/c3HDDDWeDdg3eW5uF/eEf/uFN6681iFccN95440b7uGXOg89+9rObF7/4xWl6Pp0R54HJHtP3x4rPwmkvGSRL3Hw4ccz00j2ZbhaXXbP05ECZygu7V/vIyHPxaVv8tpfsvVuvnl6eKMdUWmJ38803p5x1r66Lsck/5WSakjlyG+U+pQ/XIQABCEAAAhCAAAQgAAEIHAuBpvPABmMaNGlwvMbgSQPG1qBRaY44DzLQNtj2g0cNFFvp+nhs8OnP+d+K/+67774wgFfc0YGgNP25eGxx6l5L08us66aLl12/e/PCBsBKW1s89mnEtM9u6PgX9YrHMQpdl75epxjGH5vMusfz9GEku66bDlke+fBRxnissL/92799wVExwt2nxW8IQAACEIAABCAAAQhAAALHTiB1HvjBmg3GpKgGTyODvgyO4mgNGtdwHiiO+IRag8NWul5W6ai/kc2YGa94rLjMESBZbNNvOQIUXnu7365nurQY2X22t/iVtm1Kww/ClbZ4Kd7RrVdPi9fSkoOoJz88s4yF4s1ksPSyfRbep5Pdo3NV+lV4zkMAAhCAAAQgAAEIQAACEDgVAhecBxpU2sA5DmK9whr0KZwfgPrrrd+61w+eY9jWwNgGeC3ZLExMQ8c9g1XJYwyibK1jS9dkqwaa2WBe8cb7La0snhYju8/2Ge84eLYBveId3TL5FEelp8mjfW9+mExVWmI+YotVPJXMU+nbdfYQgAAEIAABCEAAAhCAAAROlcAF50GlpA34qusj56fi0gBOg3cbhPu4qwG2D6P4syn9Fm+P02OO8yAOwCV/Jkd1vqWbdNKfbfHYzsd9FWc8H2WP8bSOK32y8zpng/xeHXza1aC/Jy6FsfzIZFM61XldM4eL7IgNAhCAAAQgAAEIQAACEIDAlUZgq86DbFCnc9UAzAa1fqDnM8Sua5AXN7tmA8R4XWkq3p5tjvMgyqz0Mln8ANrLYvJnuimc4je5evWwAW+M09KyfNCg3C80qHTsmpcx+92rZ5RFOvTqYem2nAeSQ3/GyJwUdq/SsvwYlVlxtha7tDTYQwACEIAABCAAAQhAAAIQOFUC586DbABpA7HW3gZkGaBsgKhzGrxlmw3qNNBUvNWgN57XsWSs4lVautY7WDV9Mxmzc4o3DlZNFw3U/SZZY1hdtwF91M0G3V63Km6fjn7bvTFOS8vH6e81W6iu+7CVLF7PLL3MNny82e/MeWBxx/yXXBlnxdsjc0zf0mnZe7yHYwhAAAIQgAAEIAABCEAAAqdC4Nx5sA2F4gDRBmBxMKu0NTD0X1loDRTtfouvGiR6nTRgXNt5YIPzbEDZGqBm4U0X081kz+S2sLqmTfeYw0N742HyxTjt/nje0rQ4LR4L79OwtHv0zMJE2/BpV79bNhHzttJdcWfymM5Z3pg8xqHFzcKyhwAEIAABCEAAAhCAAAQgcEoESudBHJDawNEGlD0QegeIGhRqWngclOnYp7dk8KYBYxxgVjqYrtV1nTeZFW+2RdktTCVHpZtkztLoYWtxxvs1sJ76ukI2UDcd/H5KTxvEG9O4H3kdoJIpY1HpLtmnZPb6xd9VfsRwHEMAAhCAAAQgAAEIQAACEDglAqnzQAOk6gmsDZo1AJvaskFdvMcGl1V8fqBnA8IsbDUot/Smrls47W2A68/53yZHHJT7MJlerfvsWtQtY2hhW+mbLAoT89IztXBxn90Xw+h4VE+LI9PLrlX7ynkgfaKOmVwWb3ath6mFiXlk8bKHAAQgAAEIQAACEIAABCBwqgQuOQ80sJp6Kq2BpQZ/tplDwQbdvfs44LP4qn1r8BZlquLoOW/yV2GrQWwMHwfgOvYzKXz4Sjdj6wesrXh8nPodB8p2rDhsU9w+/ixNC5vtR/S0+9d0Hhg7r5Pi9/YVj6dkFoM3vvGNJu7ZPsZx4SIHEIAABCAAAQhAAAIQgAAETpjAJeeBdNUgqRrkapCpwbUfbO6Kjw0Ss7Q1GJTca2xTzgNjYOH8PsqgY7teMZXMLd1sMN8TT6Z/vN8Psn3aFv/IqwSWXq+ePnxkZdeqvfSQY0sOkLiZU8R08I4DhVVa2TkLn+WNONl17UfljTJyDAEIQAACEIAABCAAAQhA4FgJpM4DKVMNkLNB1q6Ubw2w40DPD/rsd++g2MLvSi/SgQAEIAABCEAAAhCAAAQgAAEIHDKB0nlwiEK3nAdryovzYE2axAUBCEAAAhCAAAQgAAEIQAACx07gqJwHu4KN82BXpEkHAhCAAAQgAAEIQAACEIAABI6BAM6DY8glZIQABCAAAQhAAAIQgAAEIAABCOyRAM6DPcInaQhAAAIQgAAEIAABCEAAAhCAwDEQwHlwDLmEjBCAAAQgAAEIQAACEIAABCAAgT0SwHmwR/gkDQEIQAACEIAABCAAAQhAAAIQOAYCOA+OIZeQEQIQgAAEIAABCEAAAhCAAAQgsEcCOA/2CJ+kIQABCEAAAhCAAAQgAAEIQAACx0AA58Ex5BIyQgACEIAABCAAAQhAAAIQgAAE9kgA58Ee4ZM0BCAAAQhAAAIQgAAEIAABCEDgGAjgPDiGXEJGCEAAAhCAAAQgAAEIQAACEIDAHgngPNgjfJKGAAQgAAEIQAACEIAABCAAAQgcAwGcB8eQS8gIAQhAAAIQgAAEIAABCEAAAhDYIwGcB3uET9IQgAAEIAABCEAAAhCAAAQgAIFjIIDz4BhyCRkhAAEIQAACEIAABCAAAQhAAAJ7JIDzYI/wSRoCEIAABCAAAQhAAAIQgAAEIHAMBHAeHEMuISMEIAABCEAAAhCAAAQgAAEIQGCPBHAe7BE+SUMAAhCAAAQgAAEIQAACEIAABI6BAM6DY8glZIQABCAAAQhAAAIQgAAEIAABCOyRAM6DPcInaQhAAAIQgAAEIAABCEAAAhCAwDEQwHlwDLmEjBCAAAQgAAEIQAACEIAABCAAgT0SwHmwR/gkDQEIQAACEIAABCAAAQhAAAIQOAYCOA+OIZeQEQIQgAAEIAABCEAAAhCAAAQgsEcCOA/2CJ+kIQABCEAAAhCAAAQgAAEIQAACx0DgfwFK5eeqi7spJwAAAABJRU5ErkJggg==)"
      ]
    },
    {
      "cell_type": "code",
      "metadata": {
        "colab": {
          "base_uri": "https://localhost:8080/",
          "height": 388
        },
        "id": "Ycw102NAEv_1",
        "outputId": "13954b18-ef97-470c-b8ab-c730b7b9ee9e"
      },
      "source": [
        "# 2018이후 거래량이 증가 \n",
        "stock[stock.index >= '2018-04-25'].head(10)"
      ],
      "execution_count": null,
      "outputs": [
        {
          "output_type": "execute_result",
          "data": {
            "text/html": [
              "<div>\n",
              "<style scoped>\n",
              "    .dataframe tbody tr th:only-of-type {\n",
              "        vertical-align: middle;\n",
              "    }\n",
              "\n",
              "    .dataframe tbody tr th {\n",
              "        vertical-align: top;\n",
              "    }\n",
              "\n",
              "    .dataframe thead th {\n",
              "        text-align: right;\n",
              "    }\n",
              "</style>\n",
              "<table border=\"1\" class=\"dataframe\">\n",
              "  <thead>\n",
              "    <tr style=\"text-align: right;\">\n",
              "      <th></th>\n",
              "      <th>Open</th>\n",
              "      <th>High</th>\n",
              "      <th>Low</th>\n",
              "      <th>Close</th>\n",
              "      <th>Volume</th>\n",
              "      <th>Change</th>\n",
              "    </tr>\n",
              "    <tr>\n",
              "      <th>Date</th>\n",
              "      <th></th>\n",
              "      <th></th>\n",
              "      <th></th>\n",
              "      <th></th>\n",
              "      <th></th>\n",
              "      <th></th>\n",
              "    </tr>\n",
              "  </thead>\n",
              "  <tbody>\n",
              "    <tr>\n",
              "      <th>2018-04-25</th>\n",
              "      <td>49220</td>\n",
              "      <td>50500</td>\n",
              "      <td>49220</td>\n",
              "      <td>50400</td>\n",
              "      <td>332292</td>\n",
              "      <td>-0.001189</td>\n",
              "    </tr>\n",
              "    <tr>\n",
              "      <th>2018-04-26</th>\n",
              "      <td>50420</td>\n",
              "      <td>52160</td>\n",
              "      <td>50400</td>\n",
              "      <td>52140</td>\n",
              "      <td>360931</td>\n",
              "      <td>0.034524</td>\n",
              "    </tr>\n",
              "    <tr>\n",
              "      <th>2018-04-27</th>\n",
              "      <td>53380</td>\n",
              "      <td>53639</td>\n",
              "      <td>52440</td>\n",
              "      <td>53000</td>\n",
              "      <td>606216</td>\n",
              "      <td>0.016494</td>\n",
              "    </tr>\n",
              "    <tr>\n",
              "      <th>2018-04-30</th>\n",
              "      <td>0</td>\n",
              "      <td>0</td>\n",
              "      <td>0</td>\n",
              "      <td>53000</td>\n",
              "      <td>0</td>\n",
              "      <td>0.000000</td>\n",
              "    </tr>\n",
              "    <tr>\n",
              "      <th>2018-05-02</th>\n",
              "      <td>0</td>\n",
              "      <td>0</td>\n",
              "      <td>0</td>\n",
              "      <td>53000</td>\n",
              "      <td>0</td>\n",
              "      <td>0.000000</td>\n",
              "    </tr>\n",
              "    <tr>\n",
              "      <th>2018-05-03</th>\n",
              "      <td>0</td>\n",
              "      <td>0</td>\n",
              "      <td>0</td>\n",
              "      <td>53000</td>\n",
              "      <td>0</td>\n",
              "      <td>0.000000</td>\n",
              "    </tr>\n",
              "    <tr>\n",
              "      <th>2018-05-04</th>\n",
              "      <td>53000</td>\n",
              "      <td>53900</td>\n",
              "      <td>51800</td>\n",
              "      <td>51900</td>\n",
              "      <td>39565391</td>\n",
              "      <td>-0.020755</td>\n",
              "    </tr>\n",
              "    <tr>\n",
              "      <th>2018-05-08</th>\n",
              "      <td>52600</td>\n",
              "      <td>53200</td>\n",
              "      <td>51900</td>\n",
              "      <td>52600</td>\n",
              "      <td>23104720</td>\n",
              "      <td>0.013487</td>\n",
              "    </tr>\n",
              "    <tr>\n",
              "      <th>2018-05-09</th>\n",
              "      <td>52600</td>\n",
              "      <td>52800</td>\n",
              "      <td>50900</td>\n",
              "      <td>50900</td>\n",
              "      <td>16128305</td>\n",
              "      <td>-0.032319</td>\n",
              "    </tr>\n",
              "    <tr>\n",
              "      <th>2018-05-10</th>\n",
              "      <td>51700</td>\n",
              "      <td>51700</td>\n",
              "      <td>50600</td>\n",
              "      <td>51600</td>\n",
              "      <td>13905263</td>\n",
              "      <td>0.013752</td>\n",
              "    </tr>\n",
              "  </tbody>\n",
              "</table>\n",
              "</div>"
            ],
            "text/plain": [
              "             Open   High    Low  Close    Volume    Change\n",
              "Date                                                      \n",
              "2018-04-25  49220  50500  49220  50400    332292 -0.001189\n",
              "2018-04-26  50420  52160  50400  52140    360931  0.034524\n",
              "2018-04-27  53380  53639  52440  53000    606216  0.016494\n",
              "2018-04-30      0      0      0  53000         0  0.000000\n",
              "2018-05-02      0      0      0  53000         0  0.000000\n",
              "2018-05-03      0      0      0  53000         0  0.000000\n",
              "2018-05-04  53000  53900  51800  51900  39565391 -0.020755\n",
              "2018-05-08  52600  53200  51900  52600  23104720  0.013487\n",
              "2018-05-09  52600  52800  50900  50900  16128305 -0.032319\n",
              "2018-05-10  51700  51700  50600  51600  13905263  0.013752"
            ]
          },
          "metadata": {},
          "execution_count": 24
        }
      ]
    },
    {
      "cell_type": "markdown",
      "metadata": {
        "id": "etFTEWHAGZHs"
      },
      "source": [
        " - 거래량의 차이가 있어 분석에 영향을 줄수 있으므로 분석기간을 2018년 5월 4일 이후 데이터를 사용하여 분석을 진행\n",
        "\n",
        " - 두 연속형변수간의 상관성을 파악하기 위해서 피어슨 상관계수를 활용"
      ]
    },
    {
      "cell_type": "code",
      "metadata": {
        "id": "xLPjdze7FrqT"
      },
      "source": [
        "stock_re = stock[stock.index >= '2018-05-04']"
      ],
      "execution_count": null,
      "outputs": []
    },
    {
      "cell_type": "code",
      "metadata": {
        "colab": {
          "base_uri": "https://localhost:8080/"
        },
        "id": "kfT-mbPYGzYa",
        "outputId": "396b6a5e-7966-410a-9554-f09554238f11"
      },
      "source": [
        "stock_re.corr()['Close'].sort_values(ascending = False)[1:]"
      ],
      "execution_count": null,
      "outputs": [
        {
          "output_type": "execute_result",
          "data": {
            "text/plain": [
              "High      0.999281\n",
              "Low       0.999211\n",
              "Open      0.998409\n",
              "Volume    0.374137\n",
              "Change    0.042913\n",
              "Name: Close, dtype: float64"
            ]
          },
          "metadata": {},
          "execution_count": 28
        }
      ]
    },
    {
      "cell_type": "markdown",
      "metadata": {
        "id": "9CKdew_tHnsv"
      },
      "source": [
        "- Close - Volume 의 피어슨 상관계수는 0.374137 로 약한 양의 상관성이 있는 것으로 보인다. 하지만 이것만으로 Close를 예측하는 것은 무리가 있어 보인다."
      ]
    },
    {
      "cell_type": "markdown",
      "metadata": {
        "id": "6_11PeyPj6Uy"
      },
      "source": [
        "#### 주식 가격의 변동율을 통해서 가격등락 예측\n",
        "- 시계열 정상성을 성립을 위해서"
      ]
    },
    {
      "cell_type": "code",
      "metadata": {
        "colab": {
          "base_uri": "https://localhost:8080/",
          "height": 279
        },
        "id": "XXyj3iook281",
        "outputId": "9bd76d44-4002-4b63-ff19-78bd156b2ac6"
      },
      "source": [
        "plt.figure(figsize=(15, 4))\n",
        "sns.lineplot(y=stock_re['Change'], x=stock_re.index)\n",
        "plt.xlabel('time')\n",
        "plt.ylabel('Change')\n",
        "plt.show()"
      ],
      "execution_count": null,
      "outputs": [
        {
          "output_type": "display_data",
          "data": {
            "image/png": "[encoded data removed]",
            "text/plain": [
              "<Figure size 1080x288 with 1 Axes>"
            ]
          },
          "metadata": {
            "needs_background": "light"
          }
        }
      ]
    },
    {
      "cell_type": "code",
      "metadata": {
        "id": "B_W4fsdtka5-"
      },
      "source": [
        "import numpy as np"
      ],
      "execution_count": null,
      "outputs": []
    },
    {
      "cell_type": "code",
      "metadata": {
        "colab": {
          "base_uri": "https://localhost:8080/"
        },
        "id": "XMLOPKszibU7",
        "outputId": "a054fc90-2cd2-4d97-a6b1-3acd1caebfff"
      },
      "source": [
        "stock_re['UD'] = np.where(stock_re['Change'] > 0, 1, np.where(stock_re['Change'] == 0, 0, -1))"
      ],
      "execution_count": null,
      "outputs": [
        {
          "output_type": "stream",
          "name": "stderr",
          "text": [
            "/usr/local/lib/python3.7/dist-packages/ipykernel_launcher.py:1: SettingWithCopyWarning: \n",
            "A value is trying to be set on a copy of a slice from a DataFrame.\n",
            "Try using .loc[row_indexer,col_indexer] = value instead\n",
            "\n",
            "See the caveats in the documentation: https://pandas.pydata.org/pandas-docs/stable/user_guide/indexing.html#returning-a-view-versus-a-copy\n",
            "  \"\"\"Entry point for launching an IPython kernel.\n"
          ]
        }
      ]
    },
    {
      "cell_type": "code",
      "metadata": {
        "colab": {
          "base_uri": "https://localhost:8080/"
        },
        "id": "NXnOsgvvibSI",
        "outputId": "806a0f94-03d1-41fb-ca6e-2f3b215067f8"
      },
      "source": [
        "stock_re.UD.value_counts()"
      ],
      "execution_count": null,
      "outputs": [
        {
          "output_type": "execute_result",
          "data": {
            "text/plain": [
              " 1    400\n",
              "-1    377\n",
              " 0     40\n",
              "Name: UD, dtype: int64"
            ]
          },
          "metadata": {},
          "execution_count": 45
        }
      ]
    },
    {
      "cell_type": "code",
      "metadata": {
        "colab": {
          "base_uri": "https://localhost:8080/",
          "height": 234
        },
        "id": "lTqtejL4mazA",
        "outputId": "399737a8-0520-4024-da8f-acf20f70115e"
      },
      "source": [
        "stock_re.head()"
      ],
      "execution_count": null,
      "outputs": [
        {
          "output_type": "execute_result",
          "data": {
            "text/html": [
              "<div>\n",
              "<style scoped>\n",
              "    .dataframe tbody tr th:only-of-type {\n",
              "        vertical-align: middle;\n",
              "    }\n",
              "\n",
              "    .dataframe tbody tr th {\n",
              "        vertical-align: top;\n",
              "    }\n",
              "\n",
              "    .dataframe thead th {\n",
              "        text-align: right;\n",
              "    }\n",
              "</style>\n",
              "<table border=\"1\" class=\"dataframe\">\n",
              "  <thead>\n",
              "    <tr style=\"text-align: right;\">\n",
              "      <th></th>\n",
              "      <th>Open</th>\n",
              "      <th>High</th>\n",
              "      <th>Low</th>\n",
              "      <th>Close</th>\n",
              "      <th>Volume</th>\n",
              "      <th>Change</th>\n",
              "      <th>UD</th>\n",
              "    </tr>\n",
              "    <tr>\n",
              "      <th>Date</th>\n",
              "      <th></th>\n",
              "      <th></th>\n",
              "      <th></th>\n",
              "      <th></th>\n",
              "      <th></th>\n",
              "      <th></th>\n",
              "      <th></th>\n",
              "    </tr>\n",
              "  </thead>\n",
              "  <tbody>\n",
              "    <tr>\n",
              "      <th>2018-05-04</th>\n",
              "      <td>53000</td>\n",
              "      <td>53900</td>\n",
              "      <td>51800</td>\n",
              "      <td>51900</td>\n",
              "      <td>39565391</td>\n",
              "      <td>-0.020755</td>\n",
              "      <td>-1</td>\n",
              "    </tr>\n",
              "    <tr>\n",
              "      <th>2018-05-08</th>\n",
              "      <td>52600</td>\n",
              "      <td>53200</td>\n",
              "      <td>51900</td>\n",
              "      <td>52600</td>\n",
              "      <td>23104720</td>\n",
              "      <td>0.013487</td>\n",
              "      <td>1</td>\n",
              "    </tr>\n",
              "    <tr>\n",
              "      <th>2018-05-09</th>\n",
              "      <td>52600</td>\n",
              "      <td>52800</td>\n",
              "      <td>50900</td>\n",
              "      <td>50900</td>\n",
              "      <td>16128305</td>\n",
              "      <td>-0.032319</td>\n",
              "      <td>-1</td>\n",
              "    </tr>\n",
              "    <tr>\n",
              "      <th>2018-05-10</th>\n",
              "      <td>51700</td>\n",
              "      <td>51700</td>\n",
              "      <td>50600</td>\n",
              "      <td>51600</td>\n",
              "      <td>13905263</td>\n",
              "      <td>0.013752</td>\n",
              "      <td>1</td>\n",
              "    </tr>\n",
              "    <tr>\n",
              "      <th>2018-05-11</th>\n",
              "      <td>52000</td>\n",
              "      <td>52200</td>\n",
              "      <td>51200</td>\n",
              "      <td>51300</td>\n",
              "      <td>10314997</td>\n",
              "      <td>-0.005814</td>\n",
              "      <td>-1</td>\n",
              "    </tr>\n",
              "  </tbody>\n",
              "</table>\n",
              "</div>"
            ],
            "text/plain": [
              "             Open   High    Low  Close    Volume    Change  UD\n",
              "Date                                                          \n",
              "2018-05-04  53000  53900  51800  51900  39565391 -0.020755  -1\n",
              "2018-05-08  52600  53200  51900  52600  23104720  0.013487   1\n",
              "2018-05-09  52600  52800  50900  50900  16128305 -0.032319  -1\n",
              "2018-05-10  51700  51700  50600  51600  13905263  0.013752   1\n",
              "2018-05-11  52000  52200  51200  51300  10314997 -0.005814  -1"
            ]
          },
          "metadata": {},
          "execution_count": 49
        }
      ]
    },
    {
      "cell_type": "markdown",
      "metadata": {
        "id": "Ea0u-a30OZBu"
      },
      "source": [
        "## LSTM - Classification"
      ]
    },
    {
      "cell_type": "markdown",
      "metadata": {
        "id": "0t9r661wmN4B"
      },
      "source": [
        "### 데이터 전처리"
      ]
    },
    {
      "cell_type": "code",
      "metadata": {
        "colab": {
          "base_uri": "https://localhost:8080/"
        },
        "id": "O_3T6GjHmNtI",
        "outputId": "1b9db716-9055-4cf1-d88f-0cbcc31c083a"
      },
      "source": [
        "from sklearn.preprocessing import MinMaxScaler\n",
        "\n",
        "scaler = MinMaxScaler()\n",
        "# 스케일을 적용할 column을 정의합니다.\n",
        "scale_cols = ['Open', 'High', 'Low', 'Close', 'Volume', 'Change', 'UD']\n",
        "# 스케일 후 columns\n",
        "scaled = scaler.fit_transform(stock_re[scale_cols])\n",
        "scaled"
      ],
      "execution_count": null,
      "outputs": [
        {
          "output_type": "execute_result",
          "data": {
            "text/plain": [
              "array([[0.29422895, 0.27533784, 0.28395062, ..., 0.40930157, 0.25579124,\n",
              "        0.        ],\n",
              "       [0.28666036, 0.26351351, 0.28584995, ..., 0.21767481, 0.45890951,\n",
              "        1.        ],\n",
              "       [0.28666036, 0.25675676, 0.2668566 , ..., 0.13645893, 0.18719175,\n",
              "        0.        ],\n",
              "       ...,\n",
              "       [0.6896878 , 0.64358108, 0.7037037 , ..., 0.19336962, 0.56503215,\n",
              "        1.        ],\n",
              "       [0.73320719, 0.65878378, 0.72269706, ..., 0.20853559, 0.38675064,\n",
              "        1.        ],\n",
              "       [0.73131504, 0.65202703, 0.71699905, ..., 0.14278246, 0.2927089 ,\n",
              "        0.        ]])"
            ]
          },
          "metadata": {},
          "execution_count": 50
        }
      ]
    },
    {
      "cell_type": "code",
      "metadata": {
        "id": "zTfu7hGImiMY"
      },
      "source": [
        "df = pd.DataFrame(scaled, columns=scale_cols)"
      ],
      "execution_count": null,
      "outputs": []
    },
    {
      "cell_type": "code",
      "metadata": {
        "colab": {
          "base_uri": "https://localhost:8080/",
          "height": 203
        },
        "id": "7nGoQEg1mkrm",
        "outputId": "9a768c72-bdf3-450c-c845-2bf53890c2f6"
      },
      "source": [
        "df.head()"
      ],
      "execution_count": null,
      "outputs": [
        {
          "output_type": "execute_result",
          "data": {
            "text/html": [
              "<div>\n",
              "<style scoped>\n",
              "    .dataframe tbody tr th:only-of-type {\n",
              "        vertical-align: middle;\n",
              "    }\n",
              "\n",
              "    .dataframe tbody tr th {\n",
              "        vertical-align: top;\n",
              "    }\n",
              "\n",
              "    .dataframe thead th {\n",
              "        text-align: right;\n",
              "    }\n",
              "</style>\n",
              "<table border=\"1\" class=\"dataframe\">\n",
              "  <thead>\n",
              "    <tr style=\"text-align: right;\">\n",
              "      <th></th>\n",
              "      <th>Open</th>\n",
              "      <th>High</th>\n",
              "      <th>Low</th>\n",
              "      <th>Close</th>\n",
              "      <th>Volume</th>\n",
              "      <th>Change</th>\n",
              "      <th>UD</th>\n",
              "    </tr>\n",
              "  </thead>\n",
              "  <tbody>\n",
              "    <tr>\n",
              "      <th>0</th>\n",
              "      <td>0.294229</td>\n",
              "      <td>0.275338</td>\n",
              "      <td>0.283951</td>\n",
              "      <td>0.269841</td>\n",
              "      <td>0.409302</td>\n",
              "      <td>0.255791</td>\n",
              "      <td>0.0</td>\n",
              "    </tr>\n",
              "    <tr>\n",
              "      <th>1</th>\n",
              "      <td>0.286660</td>\n",
              "      <td>0.263514</td>\n",
              "      <td>0.285850</td>\n",
              "      <td>0.282913</td>\n",
              "      <td>0.217675</td>\n",
              "      <td>0.458910</td>\n",
              "      <td>1.0</td>\n",
              "    </tr>\n",
              "    <tr>\n",
              "      <th>2</th>\n",
              "      <td>0.286660</td>\n",
              "      <td>0.256757</td>\n",
              "      <td>0.266857</td>\n",
              "      <td>0.251167</td>\n",
              "      <td>0.136459</td>\n",
              "      <td>0.187192</td>\n",
              "      <td>0.0</td>\n",
              "    </tr>\n",
              "    <tr>\n",
              "      <th>3</th>\n",
              "      <td>0.269631</td>\n",
              "      <td>0.238176</td>\n",
              "      <td>0.261159</td>\n",
              "      <td>0.264239</td>\n",
              "      <td>0.110579</td>\n",
              "      <td>0.460481</td>\n",
              "      <td>1.0</td>\n",
              "    </tr>\n",
              "    <tr>\n",
              "      <th>4</th>\n",
              "      <td>0.275307</td>\n",
              "      <td>0.246622</td>\n",
              "      <td>0.272555</td>\n",
              "      <td>0.258637</td>\n",
              "      <td>0.068783</td>\n",
              "      <td>0.344417</td>\n",
              "      <td>0.0</td>\n",
              "    </tr>\n",
              "  </tbody>\n",
              "</table>\n",
              "</div>"
            ],
            "text/plain": [
              "       Open      High       Low     Close    Volume    Change   UD\n",
              "0  0.294229  0.275338  0.283951  0.269841  0.409302  0.255791  0.0\n",
              "1  0.286660  0.263514  0.285850  0.282913  0.217675  0.458910  1.0\n",
              "2  0.286660  0.256757  0.266857  0.251167  0.136459  0.187192  0.0\n",
              "3  0.269631  0.238176  0.261159  0.264239  0.110579  0.460481  1.0\n",
              "4  0.275307  0.246622  0.272555  0.258637  0.068783  0.344417  0.0"
            ]
          },
          "metadata": {},
          "execution_count": 52
        }
      ]
    },
    {
      "cell_type": "markdown",
      "metadata": {
        "id": "Om0kYeDZmH1H"
      },
      "source": [
        "### train / test 분할"
      ]
    },
    {
      "cell_type": "code",
      "metadata": {
        "id": "IarjqGUOmHeM"
      },
      "source": [
        "from sklearn.model_selection import train_test_split"
      ],
      "execution_count": null,
      "outputs": []
    },
    {
      "cell_type": "code",
      "metadata": {
        "id": "RlhIVwKzmHbP"
      },
      "source": [
        "x_train, x_test, y_train, y_test = train_test_split(df.drop('UD', 1), df['UD'], test_size=0.2, random_state=0, shuffle=False)"
      ],
      "execution_count": null,
      "outputs": []
    },
    {
      "cell_type": "code",
      "metadata": {
        "colab": {
          "base_uri": "https://localhost:8080/"
        },
        "id": "DQP1zwVgmHWr",
        "outputId": "71a399e6-7078-4a2e-a199-1ead539fe489"
      },
      "source": [
        "x_train.shape, y_train.shape"
      ],
      "execution_count": null,
      "outputs": [
        {
          "output_type": "execute_result",
          "data": {
            "text/plain": [
              "((653, 6), (653,))"
            ]
          },
          "metadata": {},
          "execution_count": 55
        }
      ]
    },
    {
      "cell_type": "code",
      "metadata": {
        "colab": {
          "base_uri": "https://localhost:8080/"
        },
        "id": "qvuXqfN2mHR8",
        "outputId": "f86a2569-86ed-4a61-bda6-0852f68f37a3"
      },
      "source": [
        "x_test.shape, y_test.shape"
      ],
      "execution_count": null,
      "outputs": [
        {
          "output_type": "execute_result",
          "data": {
            "text/plain": [
              "((164, 6), (164,))"
            ]
          },
          "metadata": {},
          "execution_count": 56
        }
      ]
    },
    {
      "cell_type": "code",
      "metadata": {
        "id": "QhK-O9JRFq_G"
      },
      "source": [
        "import tensorflow as tf"
      ],
      "execution_count": null,
      "outputs": []
    },
    {
      "cell_type": "code",
      "metadata": {
        "id": "O9FjqdO8Fs0_"
      },
      "source": [
        "def windowed_dataset(series, window_size, batch_size, shuffle):\n",
        "    series = tf.expand_dims(series, axis=-1)\n",
        "    ds = tf.data.Dataset.from_tensor_slices(series)\n",
        "    ds = ds.window(window_size + 1, shift=1, drop_remainder=True)\n",
        "    ds = ds.flat_map(lambda w: w.batch(window_size + 1))\n",
        "    if shuffle:\n",
        "        ds = ds.shuffle(1000)\n",
        "    ds = ds.map(lambda w: (w[:-1], w[-1]))\n",
        "    return ds.batch(batch_size).prefetch(1)\n",
        "\n",
        "WINDOW_SIZE=20\n",
        "BATCH_SIZE=32"
      ],
      "execution_count": null,
      "outputs": []
    },
    {
      "cell_type": "code",
      "metadata": {
        "id": "xpUE-eYtFxqm"
      },
      "source": [
        "# trian_data는 학습용 데이터셋, test_data는 검증용 데이터셋 입니다.\n",
        "train_data = windowed_dataset(y_train, WINDOW_SIZE, BATCH_SIZE, True)\n",
        "test_data = windowed_dataset(y_test, WINDOW_SIZE, BATCH_SIZE, False)"
      ],
      "execution_count": null,
      "outputs": []
    },
    {
      "cell_type": "code",
      "metadata": {
        "colab": {
          "base_uri": "https://localhost:8080/"
        },
        "id": "soZnh27vFzob",
        "outputId": "a73f38a4-836c-4d47-9e4f-2e4b28be2ada"
      },
      "source": [
        "# 아래의 코드로 데이터셋의 구성을 확인해 볼 수 있습니다.\n",
        "# X: (batch_size, window_size, feature)\n",
        "# Y: (batch_size, feature)\n",
        "for data in train_data.take(1):\n",
        "    print(f'데이터셋(X) 구성(batch_size, window_size, feature갯수): {data[0].shape}')\n",
        "    print(f'데이터셋(Y) 구성(batch_size, feature갯수): {data[1].shape}')"
      ],
      "execution_count": null,
      "outputs": [
        {
          "output_type": "stream",
          "name": "stdout",
          "text": [
            "데이터셋(X) 구성(batch_size, window_size, feature갯수): (32, 20, 1)\n",
            "데이터셋(Y) 구성(batch_size, feature갯수): (32, 1)\n"
          ]
        }
      ]
    },
    {
      "cell_type": "markdown",
      "metadata": {
        "id": "XRARD6S-l1wa"
      },
      "source": [
        "#### 모델"
      ]
    },
    {
      "cell_type": "code",
      "metadata": {
        "id": "Q9-vjobFlytg"
      },
      "source": [
        "from tensorflow.keras.models import Sequential\n",
        "from tensorflow.keras.layers import Dense, LSTM, Conv1D, Lambda\n",
        "from tensorflow.keras.losses import Huber\n",
        "from tensorflow.keras.optimizers import Adam\n",
        "from tensorflow.keras.callbacks import EarlyStopping, ModelCheckpoint\n",
        "\n",
        "\n",
        "model = Sequential()\n",
        "\n",
        "model.add(LSTM(64,\n",
        "               input_shape = (None, 1),\n",
        "               return_sequences= True))\n",
        "model.add(LSTM(64,\n",
        "               input_shape = (None, 1),\n",
        "               return_sequences = False))\n",
        "model.add(Dense(32, activation = 'tanh'))\n",
        "model.add(Dense(1, activation = 'softmax'))\n"
      ],
      "execution_count": null,
      "outputs": []
    },
    {
      "cell_type": "code",
      "metadata": {
        "colab": {
          "base_uri": "https://localhost:8080/"
        },
        "id": "9P3eqRejEy4y",
        "outputId": "202c79d4-e0aa-43b0-a27a-a375908515f3"
      },
      "source": [
        "model.summary()"
      ],
      "execution_count": null,
      "outputs": [
        {
          "output_type": "stream",
          "name": "stdout",
          "text": [
            "Model: \"sequential_6\"\n",
            "_________________________________________________________________\n",
            "Layer (type)                 Output Shape              Param #   \n",
            "=================================================================\n",
            "lstm_9 (LSTM)                (None, None, 64)          16896     \n",
            "_________________________________________________________________\n",
            "lstm_10 (LSTM)               (None, 64)                33024     \n",
            "_________________________________________________________________\n",
            "dense_11 (Dense)             (None, 32)                2080      \n",
            "_________________________________________________________________\n",
            "dense_12 (Dense)             (None, 1)                 33        \n",
            "=================================================================\n",
            "Total params: 52,033\n",
            "Trainable params: 52,033\n",
            "Non-trainable params: 0\n",
            "_________________________________________________________________\n"
          ]
        }
      ]
    },
    {
      "cell_type": "code",
      "metadata": {
        "id": "Mmzbi_1rlyrD"
      },
      "source": [
        "optimizer = Adam(0.0005)\n",
        "model.compile(loss='categorical_crossentropy', optimizer=optimizer, metrics=['accuracy'])"
      ],
      "execution_count": null,
      "outputs": []
    },
    {
      "cell_type": "code",
      "metadata": {
        "id": "SuLiQcvFlyoT"
      },
      "source": [
        "# earlystopping은 10번 epoch동안 개선이 없다면 학습을 멈춥니다.\n",
        "earlystopping = EarlyStopping(monitor = 'val_accuracy',\n",
        "                              mode = 'max',\n",
        "                              patience = 50,\n",
        "                              verbose = 1)\n",
        "# 체크포인터도 생성합니다.\n",
        "checkpoint = ModelCheckpoint('best.h5',\n",
        "                             monitor='val_accuracy',\n",
        "                             mode = 'max',\n",
        "                             save_best_only = True, \n",
        "                             verbose=1)"
      ],
      "execution_count": null,
      "outputs": []
    },
    {
      "cell_type": "code",
      "metadata": {
        "colab": {
          "base_uri": "https://localhost:8080/"
        },
        "id": "urGgEaR0lyhj",
        "outputId": "e5f113c2-b91c-4e6b-b9fa-8e85a48004eb"
      },
      "source": [
        "history = model.fit(train_data,\n",
        "                    epochs=1000, \n",
        "                    batch_size = 1,\n",
        "                    validation_data=(test_data), \n",
        "                    callbacks=[checkpoint, earlystopping],\n",
        "                    verbose=1)"
      ],
      "execution_count": null,
      "outputs": [
        {
          "output_type": "stream",
          "name": "stdout",
          "text": [
            "Epoch 1/1000\n",
            "20/20 [==============================] - 1s 24ms/step - loss: 0.0000e+00 - accuracy: 0.5087 - val_loss: 0.0000e+00 - val_accuracy: 0.4097\n",
            "\n",
            "Epoch 00001: val_accuracy improved from -inf to 0.40972, saving model to best.h5\n",
            "Epoch 2/1000\n",
            "20/20 [==============================] - 1s 23ms/step - loss: 0.0000e+00 - accuracy: 0.5087 - val_loss: 0.0000e+00 - val_accuracy: 0.4097\n",
            "\n",
            "Epoch 00002: val_accuracy did not improve from 0.40972\n",
            "Epoch 3/1000\n",
            "20/20 [==============================] - 1s 23ms/step - loss: 0.0000e+00 - accuracy: 0.5087 - val_loss: 0.0000e+00 - val_accuracy: 0.4097\n",
            "\n",
            "Epoch 00003: val_accuracy did not improve from 0.40972\n",
            "Epoch 4/1000\n",
            "20/20 [==============================] - 1s 22ms/step - loss: 0.0000e+00 - accuracy: 0.5087 - val_loss: 0.0000e+00 - val_accuracy: 0.4097\n",
            "\n",
            "Epoch 00004: val_accuracy did not improve from 0.40972\n",
            "Epoch 5/1000\n",
            "20/20 [==============================] - 1s 22ms/step - loss: 0.0000e+00 - accuracy: 0.5087 - val_loss: 0.0000e+00 - val_accuracy: 0.4097\n",
            "\n",
            "Epoch 00005: val_accuracy did not improve from 0.40972\n",
            "Epoch 6/1000\n",
            "20/20 [==============================] - 1s 23ms/step - loss: 0.0000e+00 - accuracy: 0.5087 - val_loss: 0.0000e+00 - val_accuracy: 0.4097\n",
            "\n",
            "Epoch 00006: val_accuracy did not improve from 0.40972\n",
            "Epoch 7/1000\n",
            "20/20 [==============================] - 0s 22ms/step - loss: 0.0000e+00 - accuracy: 0.5087 - val_loss: 0.0000e+00 - val_accuracy: 0.4097\n",
            "\n",
            "Epoch 00007: val_accuracy did not improve from 0.40972\n",
            "Epoch 8/1000\n",
            "20/20 [==============================] - 1s 23ms/step - loss: 0.0000e+00 - accuracy: 0.5087 - val_loss: 0.0000e+00 - val_accuracy: 0.4097\n",
            "\n",
            "Epoch 00008: val_accuracy did not improve from 0.40972\n",
            "Epoch 9/1000\n",
            "20/20 [==============================] - 1s 22ms/step - loss: 0.0000e+00 - accuracy: 0.5087 - val_loss: 0.0000e+00 - val_accuracy: 0.4097\n",
            "\n",
            "Epoch 00009: val_accuracy did not improve from 0.40972\n",
            "Epoch 10/1000\n",
            "20/20 [==============================] - 1s 23ms/step - loss: 0.0000e+00 - accuracy: 0.5087 - val_loss: 0.0000e+00 - val_accuracy: 0.4097\n",
            "\n",
            "Epoch 00010: val_accuracy did not improve from 0.40972\n",
            "Epoch 11/1000\n",
            "20/20 [==============================] - 1s 23ms/step - loss: 0.0000e+00 - accuracy: 0.5087 - val_loss: 0.0000e+00 - val_accuracy: 0.4097\n",
            "\n",
            "Epoch 00011: val_accuracy did not improve from 0.40972\n",
            "Epoch 12/1000\n",
            "20/20 [==============================] - 1s 23ms/step - loss: 0.0000e+00 - accuracy: 0.5087 - val_loss: 0.0000e+00 - val_accuracy: 0.4097\n",
            "\n",
            "Epoch 00012: val_accuracy did not improve from 0.40972\n",
            "Epoch 13/1000\n",
            "20/20 [==============================] - 1s 22ms/step - loss: 0.0000e+00 - accuracy: 0.5087 - val_loss: 0.0000e+00 - val_accuracy: 0.4097\n",
            "\n",
            "Epoch 00013: val_accuracy did not improve from 0.40972\n",
            "Epoch 14/1000\n",
            "20/20 [==============================] - 1s 23ms/step - loss: 0.0000e+00 - accuracy: 0.5087 - val_loss: 0.0000e+00 - val_accuracy: 0.4097\n",
            "\n",
            "Epoch 00014: val_accuracy did not improve from 0.40972\n",
            "Epoch 15/1000\n",
            "20/20 [==============================] - 1s 23ms/step - loss: 0.0000e+00 - accuracy: 0.5087 - val_loss: 0.0000e+00 - val_accuracy: 0.4097\n",
            "\n",
            "Epoch 00015: val_accuracy did not improve from 0.40972\n",
            "Epoch 16/1000\n",
            "20/20 [==============================] - 1s 23ms/step - loss: 0.0000e+00 - accuracy: 0.5087 - val_loss: 0.0000e+00 - val_accuracy: 0.4097\n",
            "\n",
            "Epoch 00016: val_accuracy did not improve from 0.40972\n",
            "Epoch 17/1000\n",
            "20/20 [==============================] - 1s 23ms/step - loss: 0.0000e+00 - accuracy: 0.5087 - val_loss: 0.0000e+00 - val_accuracy: 0.4097\n",
            "\n",
            "Epoch 00017: val_accuracy did not improve from 0.40972\n",
            "Epoch 18/1000\n",
            "20/20 [==============================] - 1s 34ms/step - loss: 0.0000e+00 - accuracy: 0.5087 - val_loss: 0.0000e+00 - val_accuracy: 0.4097\n",
            "\n",
            "Epoch 00018: val_accuracy did not improve from 0.40972\n",
            "Epoch 19/1000\n",
            "20/20 [==============================] - 1s 29ms/step - loss: 0.0000e+00 - accuracy: 0.5087 - val_loss: 0.0000e+00 - val_accuracy: 0.4097\n",
            "\n",
            "Epoch 00019: val_accuracy did not improve from 0.40972\n",
            "Epoch 20/1000\n",
            "20/20 [==============================] - 1s 23ms/step - loss: 0.0000e+00 - accuracy: 0.5087 - val_loss: 0.0000e+00 - val_accuracy: 0.4097\n",
            "\n",
            "Epoch 00020: val_accuracy did not improve from 0.40972\n",
            "Epoch 21/1000\n",
            "20/20 [==============================] - 1s 23ms/step - loss: 0.0000e+00 - accuracy: 0.5087 - val_loss: 0.0000e+00 - val_accuracy: 0.4097\n",
            "\n",
            "Epoch 00021: val_accuracy did not improve from 0.40972\n",
            "Epoch 22/1000\n",
            "20/20 [==============================] - 1s 22ms/step - loss: 0.0000e+00 - accuracy: 0.5087 - val_loss: 0.0000e+00 - val_accuracy: 0.4097\n",
            "\n",
            "Epoch 00022: val_accuracy did not improve from 0.40972\n",
            "Epoch 23/1000\n",
            "20/20 [==============================] - 1s 48ms/step - loss: 0.0000e+00 - accuracy: 0.5087 - val_loss: 0.0000e+00 - val_accuracy: 0.4097\n",
            "\n",
            "Epoch 00023: val_accuracy did not improve from 0.40972\n",
            "Epoch 24/1000\n",
            "20/20 [==============================] - 1s 26ms/step - loss: 0.0000e+00 - accuracy: 0.5087 - val_loss: 0.0000e+00 - val_accuracy: 0.4097\n",
            "\n",
            "Epoch 00024: val_accuracy did not improve from 0.40972\n",
            "Epoch 25/1000\n",
            "20/20 [==============================] - 1s 24ms/step - loss: 0.0000e+00 - accuracy: 0.5087 - val_loss: 0.0000e+00 - val_accuracy: 0.4097\n",
            "\n",
            "Epoch 00025: val_accuracy did not improve from 0.40972\n",
            "Epoch 26/1000\n",
            "20/20 [==============================] - 1s 24ms/step - loss: 0.0000e+00 - accuracy: 0.5087 - val_loss: 0.0000e+00 - val_accuracy: 0.4097\n",
            "\n",
            "Epoch 00026: val_accuracy did not improve from 0.40972\n",
            "Epoch 27/1000\n",
            "20/20 [==============================] - 1s 24ms/step - loss: 0.0000e+00 - accuracy: 0.5087 - val_loss: 0.0000e+00 - val_accuracy: 0.4097\n",
            "\n",
            "Epoch 00027: val_accuracy did not improve from 0.40972\n",
            "Epoch 28/1000\n",
            "20/20 [==============================] - 1s 24ms/step - loss: 0.0000e+00 - accuracy: 0.5087 - val_loss: 0.0000e+00 - val_accuracy: 0.4097\n",
            "\n",
            "Epoch 00028: val_accuracy did not improve from 0.40972\n",
            "Epoch 29/1000\n",
            "20/20 [==============================] - 1s 23ms/step - loss: 0.0000e+00 - accuracy: 0.5087 - val_loss: 0.0000e+00 - val_accuracy: 0.4097\n",
            "\n",
            "Epoch 00029: val_accuracy did not improve from 0.40972\n",
            "Epoch 30/1000\n",
            "20/20 [==============================] - 1s 27ms/step - loss: 0.0000e+00 - accuracy: 0.5087 - val_loss: 0.0000e+00 - val_accuracy: 0.4097\n",
            "\n",
            "Epoch 00030: val_accuracy did not improve from 0.40972\n",
            "Epoch 31/1000\n",
            "20/20 [==============================] - 1s 39ms/step - loss: 0.0000e+00 - accuracy: 0.5087 - val_loss: 0.0000e+00 - val_accuracy: 0.4097\n",
            "\n",
            "Epoch 00031: val_accuracy did not improve from 0.40972\n",
            "Epoch 32/1000\n",
            "20/20 [==============================] - 1s 29ms/step - loss: 0.0000e+00 - accuracy: 0.5087 - val_loss: 0.0000e+00 - val_accuracy: 0.4097\n",
            "\n",
            "Epoch 00032: val_accuracy did not improve from 0.40972\n",
            "Epoch 33/1000\n",
            "20/20 [==============================] - 1s 28ms/step - loss: 0.0000e+00 - accuracy: 0.5087 - val_loss: 0.0000e+00 - val_accuracy: 0.4097\n",
            "\n",
            "Epoch 00033: val_accuracy did not improve from 0.40972\n",
            "Epoch 34/1000\n",
            "20/20 [==============================] - 1s 31ms/step - loss: 0.0000e+00 - accuracy: 0.5087 - val_loss: 0.0000e+00 - val_accuracy: 0.4097\n",
            "\n",
            "Epoch 00034: val_accuracy did not improve from 0.40972\n",
            "Epoch 35/1000\n",
            "20/20 [==============================] - 1s 27ms/step - loss: 0.0000e+00 - accuracy: 0.5087 - val_loss: 0.0000e+00 - val_accuracy: 0.4097\n",
            "\n",
            "Epoch 00035: val_accuracy did not improve from 0.40972\n",
            "Epoch 36/1000\n",
            "20/20 [==============================] - 1s 29ms/step - loss: 0.0000e+00 - accuracy: 0.5087 - val_loss: 0.0000e+00 - val_accuracy: 0.4097\n",
            "\n",
            "Epoch 00036: val_accuracy did not improve from 0.40972\n",
            "Epoch 37/1000\n",
            "20/20 [==============================] - 1s 37ms/step - loss: 0.0000e+00 - accuracy: 0.5087 - val_loss: 0.0000e+00 - val_accuracy: 0.4097\n",
            "\n",
            "Epoch 00037: val_accuracy did not improve from 0.40972\n",
            "Epoch 38/1000\n",
            "20/20 [==============================] - 1s 37ms/step - loss: 0.0000e+00 - accuracy: 0.5087 - val_loss: 0.0000e+00 - val_accuracy: 0.4097\n",
            "\n",
            "Epoch 00038: val_accuracy did not improve from 0.40972\n",
            "Epoch 39/1000\n",
            "20/20 [==============================] - 1s 39ms/step - loss: 0.0000e+00 - accuracy: 0.5087 - val_loss: 0.0000e+00 - val_accuracy: 0.4097\n",
            "\n",
            "Epoch 00039: val_accuracy did not improve from 0.40972\n",
            "Epoch 40/1000\n",
            "20/20 [==============================] - 1s 50ms/step - loss: 0.0000e+00 - accuracy: 0.5087 - val_loss: 0.0000e+00 - val_accuracy: 0.4097\n",
            "\n",
            "Epoch 00040: val_accuracy did not improve from 0.40972\n",
            "Epoch 41/1000\n",
            "20/20 [==============================] - 1s 22ms/step - loss: 0.0000e+00 - accuracy: 0.5087 - val_loss: 0.0000e+00 - val_accuracy: 0.4097\n",
            "\n",
            "Epoch 00041: val_accuracy did not improve from 0.40972\n",
            "Epoch 42/1000\n",
            "20/20 [==============================] - 1s 23ms/step - loss: 0.0000e+00 - accuracy: 0.5087 - val_loss: 0.0000e+00 - val_accuracy: 0.4097\n",
            "\n",
            "Epoch 00042: val_accuracy did not improve from 0.40972\n",
            "Epoch 43/1000\n",
            "20/20 [==============================] - 1s 22ms/step - loss: 0.0000e+00 - accuracy: 0.5087 - val_loss: 0.0000e+00 - val_accuracy: 0.4097\n",
            "\n",
            "Epoch 00043: val_accuracy did not improve from 0.40972\n",
            "Epoch 44/1000\n",
            "20/20 [==============================] - 1s 23ms/step - loss: 0.0000e+00 - accuracy: 0.5087 - val_loss: 0.0000e+00 - val_accuracy: 0.4097\n",
            "\n",
            "Epoch 00044: val_accuracy did not improve from 0.40972\n",
            "Epoch 45/1000\n",
            "20/20 [==============================] - 1s 22ms/step - loss: 0.0000e+00 - accuracy: 0.5087 - val_loss: 0.0000e+00 - val_accuracy: 0.4097\n",
            "\n",
            "Epoch 00045: val_accuracy did not improve from 0.40972\n",
            "Epoch 46/1000\n",
            "20/20 [==============================] - 1s 23ms/step - loss: 0.0000e+00 - accuracy: 0.5087 - val_loss: 0.0000e+00 - val_accuracy: 0.4097\n",
            "\n",
            "Epoch 00046: val_accuracy did not improve from 0.40972\n",
            "Epoch 47/1000\n",
            "20/20 [==============================] - 1s 22ms/step - loss: 0.0000e+00 - accuracy: 0.5087 - val_loss: 0.0000e+00 - val_accuracy: 0.4097\n",
            "\n",
            "Epoch 00047: val_accuracy did not improve from 0.40972\n",
            "Epoch 48/1000\n",
            "20/20 [==============================] - 1s 23ms/step - loss: 0.0000e+00 - accuracy: 0.5087 - val_loss: 0.0000e+00 - val_accuracy: 0.4097\n",
            "\n",
            "Epoch 00048: val_accuracy did not improve from 0.40972\n",
            "Epoch 49/1000\n",
            "20/20 [==============================] - 1s 23ms/step - loss: 0.0000e+00 - accuracy: 0.5087 - val_loss: 0.0000e+00 - val_accuracy: 0.4097\n",
            "\n",
            "Epoch 00049: val_accuracy did not improve from 0.40972\n",
            "Epoch 50/1000\n",
            "20/20 [==============================] - 1s 23ms/step - loss: 0.0000e+00 - accuracy: 0.5087 - val_loss: 0.0000e+00 - val_accuracy: 0.4097\n",
            "\n",
            "Epoch 00050: val_accuracy did not improve from 0.40972\n",
            "Epoch 51/1000\n",
            "20/20 [==============================] - 1s 23ms/step - loss: 0.0000e+00 - accuracy: 0.5087 - val_loss: 0.0000e+00 - val_accuracy: 0.4097\n",
            "\n",
            "Epoch 00051: val_accuracy did not improve from 0.40972\n",
            "Epoch 00051: early stopping\n"
          ]
        }
      ]
    },
    {
      "cell_type": "code",
      "metadata": {
        "id": "rUvq52LNl7m0"
      },
      "source": [
        "model.load_weights('best.h5')"
      ],
      "execution_count": null,
      "outputs": []
    },
    {
      "cell_type": "code",
      "metadata": {
        "id": "ZTAZB9Wjl7kE"
      },
      "source": [
        "pred = model.predict(test_data)"
      ],
      "execution_count": null,
      "outputs": []
    },
    {
      "cell_type": "code",
      "metadata": {
        "colab": {
          "base_uri": "https://localhost:8080/"
        },
        "id": "iyxLChGlIzrc",
        "outputId": "5dd8e34b-c705-4875-9e85-eb6668b2ff66"
      },
      "source": [
        "print(test_data.take(1))"
      ],
      "execution_count": null,
      "outputs": [
        {
          "output_type": "stream",
          "name": "stdout",
          "text": [
            "<TakeDataset shapes: ((None, None, 1), (None, 1)), types: (tf.float64, tf.float64)>\n"
          ]
        }
      ]
    },
    {
      "cell_type": "code",
      "metadata": {
        "colab": {
          "base_uri": "https://localhost:8080/"
        },
        "id": "fzv9nmbJIDqK",
        "outputId": "74876469-1054-4343-9394-7a86a5d5ec3b"
      },
      "source": [
        "pred.shape"
      ],
      "execution_count": null,
      "outputs": [
        {
          "output_type": "execute_result",
          "data": {
            "text/plain": [
              "(144, 1)"
            ]
          },
          "metadata": {},
          "execution_count": 140
        }
      ]
    },
    {
      "cell_type": "code",
      "metadata": {
        "colab": {
          "base_uri": "https://localhost:8080/",
          "height": 404
        },
        "id": "lkcHiMNLl7g4",
        "outputId": "d46d31b8-08a0-49e9-8cdd-f9ab73fdbe83"
      },
      "source": [
        "epochs = range(1, len(history.history['loss']) + 1)\n",
        "plt.figure(figsize = (9, 6))\n",
        "plt.plot(epochs, history.history['accuracy'])\n",
        "plt.plot(epochs, history.history['val_accuracy'])\n",
        "plt.title('Training & Validation Accuracy With Augmentation')\n",
        "plt.xlabel('Epochs')\n",
        "plt.ylabel('Accuracy')\n",
        "plt.legend(['Training Accuracy', 'Validation Accuracy'])\n",
        "plt.grid()\n",
        "plt.show()"
      ],
      "execution_count": null,
      "outputs": [
        {
          "output_type": "display_data",
          "data": {
            "image/png": "[encoded data removed]",
            "text/plain": [
              "<Figure size 648x432 with 1 Axes>"
            ]
          },
          "metadata": {
            "needs_background": "light"
          }
        }
      ]
    },
    {
      "cell_type": "code",
      "metadata": {
        "id": "oSmbMTSyl7bg",
        "colab": {
          "base_uri": "https://localhost:8080/"
        },
        "outputId": "74e4f21a-e91f-4a09-cf42-6f17cc4651c2"
      },
      "source": [
        "model.evaluate(test_data, batch_size=20)"
      ],
      "execution_count": null,
      "outputs": [
        {
          "output_type": "stream",
          "name": "stdout",
          "text": [
            "5/5 [==============================] - 0s 19ms/step - loss: 0.0000e+00 - accuracy: 0.4097\n"
          ]
        },
        {
          "output_type": "execute_result",
          "data": {
            "text/plain": [
              "[0.0, 0.4097222089767456]"
            ]
          },
          "metadata": {},
          "execution_count": 136
        }
      ]
    },
    {
      "cell_type": "code",
      "metadata": {
        "id": "5mHAqUr4l7ZB"
      },
      "source": [
        ""
      ],
      "execution_count": null,
      "outputs": []
    },
    {
      "cell_type": "markdown",
      "metadata": {
        "id": "5SDqszNnOk9J"
      },
      "source": [
        "## 재무정보 추가"
      ]
    },
    {
      "cell_type": "markdown",
      "metadata": {
        "id": "eo7eh0AlnDc3"
      },
      "source": [
        "### 재무정보\n",
        "\n",
        "- PER : 주가를 1주당 순이익(EPS)로 나눈 값\n",
        "- PBR : 주가를 1주당 순자산가치로 나눈 값\n",
        "- ROE : 당기순이익을 순자산(자기자본)으로 나눈 값\n",
        "- ROA : 당기순이익을 자산총액으로 나눈 값\n",
        "\n",
        "- 주가, 당기 순이익, 총발행 주식수, 자복, 부채"
      ]
    },
    {
      "cell_type": "code",
      "metadata": {
        "id": "hjHdadiomSQj"
      },
      "source": [
        "api_key = '9b9157d4313a84f3141d73f879c5d239d49bb0ce'\n",
        "dart = OpenDartReader(api_key)"
      ],
      "execution_count": null,
      "outputs": []
    },
    {
      "cell_type": "markdown",
      "metadata": {
        "id": "RymeBQ7ShQib"
      },
      "source": [
        "#### 자본, 자산, 당기순이익 조회\n",
        "corp: 종목코드, bsns_year: 사업연도, reprt_code: 보고서코드\n",
        "- (1분기보고서 : 11013, 반기보고서 : 11012, 3분기보고서 : 11014, 사업보고서 : 11011)"
      ]
    },
    {
      "cell_type": "markdown",
      "metadata": {
        "id": "qsNBZnbnrDTc"
      },
      "source": [
        "자본과 자산(자본+부채)은 재무상태표(sj_vis='BIS'), 당기순이익은 포괄손익계산서(sj_div='CIS')에서 확인할 수 있다."
      ]
    },
    {
      "cell_type": "code",
      "metadata": {
        "colab": {
          "base_uri": "https://localhost:8080/",
          "height": 134
        },
        "id": "k0YjsXYZn57J",
        "outputId": "58d1a426-a324-43cb-cef1-fb4e79b6d437"
      },
      "source": [
        "fs_2019 = dart.finstate_all(corp='005930', bsns_year='2019', fs_div='CFS', reprt_code=11011) \n",
        "fs_2020_3Q = dart.finstate_all(corp='005930', bsns_year='2020', fs_div='CFS', reprt_code=11014)\n",
        "\n",
        "fs_2020_3Q.loc[fs_2020_3Q['sj_div'].isin(['BS']) & fs_2020_3Q['account_id'].isin(['ifrs-full_Equity']), ]"
      ],
      "execution_count": null,
      "outputs": [
        {
          "output_type": "execute_result",
          "data": {
            "text/html": [
              "<div>\n",
              "<style scoped>\n",
              "    .dataframe tbody tr th:only-of-type {\n",
              "        vertical-align: middle;\n",
              "    }\n",
              "\n",
              "    .dataframe tbody tr th {\n",
              "        vertical-align: top;\n",
              "    }\n",
              "\n",
              "    .dataframe thead th {\n",
              "        text-align: right;\n",
              "    }\n",
              "</style>\n",
              "<table border=\"1\" class=\"dataframe\">\n",
              "  <thead>\n",
              "    <tr style=\"text-align: right;\">\n",
              "      <th></th>\n",
              "      <th>rcept_no</th>\n",
              "      <th>reprt_code</th>\n",
              "      <th>bsns_year</th>\n",
              "      <th>corp_code</th>\n",
              "      <th>sj_div</th>\n",
              "      <th>sj_nm</th>\n",
              "      <th>account_id</th>\n",
              "      <th>account_nm</th>\n",
              "      <th>account_detail</th>\n",
              "      <th>thstrm_nm</th>\n",
              "      <th>thstrm_amount</th>\n",
              "      <th>frmtrm_nm</th>\n",
              "      <th>frmtrm_amount</th>\n",
              "      <th>ord</th>\n",
              "      <th>thstrm_add_amount</th>\n",
              "      <th>frmtrm_q_nm</th>\n",
              "      <th>frmtrm_q_amount</th>\n",
              "      <th>frmtrm_add_amount</th>\n",
              "    </tr>\n",
              "  </thead>\n",
              "  <tbody>\n",
              "    <tr>\n",
              "      <th>52</th>\n",
              "      <td>20201116001248</td>\n",
              "      <td>11014</td>\n",
              "      <td>2020</td>\n",
              "      <td>00126380</td>\n",
              "      <td>BS</td>\n",
              "      <td>재무상태표</td>\n",
              "      <td>ifrs-full_Equity</td>\n",
              "      <td>자본총계</td>\n",
              "      <td>-</td>\n",
              "      <td>제 52 기 3분기말</td>\n",
              "      <td>276136188000000</td>\n",
              "      <td>제 51 기말</td>\n",
              "      <td>262880421000000</td>\n",
              "      <td>55</td>\n",
              "      <td>NaN</td>\n",
              "      <td>NaN</td>\n",
              "      <td>NaN</td>\n",
              "      <td>NaN</td>\n",
              "    </tr>\n",
              "  </tbody>\n",
              "</table>\n",
              "</div>"
            ],
            "text/plain": [
              "          rcept_no reprt_code  ... frmtrm_q_amount frmtrm_add_amount\n",
              "52  20201116001248      11014  ...             NaN               NaN\n",
              "\n",
              "[1 rows x 18 columns]"
            ]
          },
          "metadata": {},
          "execution_count": 31
        }
      ]
    },
    {
      "cell_type": "code",
      "metadata": {
        "colab": {
          "base_uri": "https://localhost:8080/",
          "height": 134
        },
        "id": "TWfjcjD7h9LK",
        "outputId": "09a41c6a-553d-4934-e829-50125aadee3c"
      },
      "source": [
        "fs_2020_3Q.loc[fs_2020_3Q['sj_div'].isin(['BS']) & fs_2020_3Q['account_id'].isin(['ifrs-full_Liabilities']), ]"
      ],
      "execution_count": null,
      "outputs": [
        {
          "output_type": "execute_result",
          "data": {
            "text/html": [
              "<div>\n",
              "<style scoped>\n",
              "    .dataframe tbody tr th:only-of-type {\n",
              "        vertical-align: middle;\n",
              "    }\n",
              "\n",
              "    .dataframe tbody tr th {\n",
              "        vertical-align: top;\n",
              "    }\n",
              "\n",
              "    .dataframe thead th {\n",
              "        text-align: right;\n",
              "    }\n",
              "</style>\n",
              "<table border=\"1\" class=\"dataframe\">\n",
              "  <thead>\n",
              "    <tr style=\"text-align: right;\">\n",
              "      <th></th>\n",
              "      <th>rcept_no</th>\n",
              "      <th>reprt_code</th>\n",
              "      <th>bsns_year</th>\n",
              "      <th>corp_code</th>\n",
              "      <th>sj_div</th>\n",
              "      <th>sj_nm</th>\n",
              "      <th>account_id</th>\n",
              "      <th>account_nm</th>\n",
              "      <th>account_detail</th>\n",
              "      <th>thstrm_nm</th>\n",
              "      <th>thstrm_amount</th>\n",
              "      <th>frmtrm_nm</th>\n",
              "      <th>frmtrm_amount</th>\n",
              "      <th>ord</th>\n",
              "      <th>thstrm_add_amount</th>\n",
              "      <th>frmtrm_q_nm</th>\n",
              "      <th>frmtrm_q_amount</th>\n",
              "      <th>frmtrm_add_amount</th>\n",
              "    </tr>\n",
              "  </thead>\n",
              "  <tbody>\n",
              "    <tr>\n",
              "      <th>42</th>\n",
              "      <td>20201116001248</td>\n",
              "      <td>11014</td>\n",
              "      <td>2020</td>\n",
              "      <td>00126380</td>\n",
              "      <td>BS</td>\n",
              "      <td>재무상태표</td>\n",
              "      <td>ifrs-full_Liabilities</td>\n",
              "      <td>부채총계</td>\n",
              "      <td>-</td>\n",
              "      <td>제 52 기 3분기말</td>\n",
              "      <td>99652554000000</td>\n",
              "      <td>제 51 기말</td>\n",
              "      <td>89684076000000</td>\n",
              "      <td>44</td>\n",
              "      <td>NaN</td>\n",
              "      <td>NaN</td>\n",
              "      <td>NaN</td>\n",
              "      <td>NaN</td>\n",
              "    </tr>\n",
              "  </tbody>\n",
              "</table>\n",
              "</div>"
            ],
            "text/plain": [
              "          rcept_no reprt_code  ... frmtrm_q_amount frmtrm_add_amount\n",
              "42  20201116001248      11014  ...             NaN               NaN\n",
              "\n",
              "[1 rows x 18 columns]"
            ]
          },
          "metadata": {},
          "execution_count": 40
        }
      ]
    },
    {
      "cell_type": "code",
      "metadata": {
        "id": "0K5TA9tGiMzG"
      },
      "source": [
        ""
      ],
      "execution_count": null,
      "outputs": []
    },
    {
      "cell_type": "code",
      "metadata": {
        "id": "xKIjnQD6iMu3"
      },
      "source": [
        ""
      ],
      "execution_count": null,
      "outputs": []
    },
    {
      "cell_type": "code",
      "metadata": {
        "id": "Wuc_rj22iMrf"
      },
      "source": [
        ""
      ],
      "execution_count": null,
      "outputs": []
    },
    {
      "cell_type": "code",
      "metadata": {
        "id": "ZRL_IKhWiMnn"
      },
      "source": [
        ""
      ],
      "execution_count": null,
      "outputs": []
    },
    {
      "cell_type": "code",
      "metadata": {
        "id": "BBRodyhTiMko"
      },
      "source": [
        ""
      ],
      "execution_count": null,
      "outputs": []
    },
    {
      "cell_type": "code",
      "metadata": {
        "id": "2erC8_ten9S1"
      },
      "source": [
        "fs = dart.finstate_all(corp='005930', bsns_year = '2019')"
      ],
      "execution_count": null,
      "outputs": []
    },
    {
      "cell_type": "code",
      "metadata": {
        "colab": {
          "base_uri": "https://localhost:8080/"
        },
        "id": "VXa0F0KRgaez",
        "outputId": "e19e4124-b65f-4911-f0f5-619934c94755"
      },
      "source": [
        "len(fs[fs.bsns_year == '2020'])"
      ],
      "execution_count": null,
      "outputs": [
        {
          "output_type": "execute_result",
          "data": {
            "text/plain": [
              "0"
            ]
          },
          "metadata": {},
          "execution_count": 39
        }
      ]
    },
    {
      "cell_type": "code",
      "metadata": {
        "colab": {
          "base_uri": "https://localhost:8080/",
          "height": 134
        },
        "id": "PrzjTblwgBkz",
        "outputId": "6024a5b0-96c8-42a1-db2a-9c8180aba9a9"
      },
      "source": [
        "fs.loc[fs['sj_div'].isin(['BS']) & fs['account_id'].isin(['ifrs-full_Equity']), ]"
      ],
      "execution_count": null,
      "outputs": [
        {
          "output_type": "execute_result",
          "data": {
            "text/html": [
              "<div>\n",
              "<style scoped>\n",
              "    .dataframe tbody tr th:only-of-type {\n",
              "        vertical-align: middle;\n",
              "    }\n",
              "\n",
              "    .dataframe tbody tr th {\n",
              "        vertical-align: top;\n",
              "    }\n",
              "\n",
              "    .dataframe thead th {\n",
              "        text-align: right;\n",
              "    }\n",
              "</style>\n",
              "<table border=\"1\" class=\"dataframe\">\n",
              "  <thead>\n",
              "    <tr style=\"text-align: right;\">\n",
              "      <th></th>\n",
              "      <th>rcept_no</th>\n",
              "      <th>reprt_code</th>\n",
              "      <th>bsns_year</th>\n",
              "      <th>corp_code</th>\n",
              "      <th>sj_div</th>\n",
              "      <th>sj_nm</th>\n",
              "      <th>account_id</th>\n",
              "      <th>account_nm</th>\n",
              "      <th>account_detail</th>\n",
              "      <th>thstrm_nm</th>\n",
              "      <th>thstrm_amount</th>\n",
              "      <th>frmtrm_nm</th>\n",
              "      <th>frmtrm_amount</th>\n",
              "      <th>bfefrmtrm_nm</th>\n",
              "      <th>bfefrmtrm_amount</th>\n",
              "      <th>ord</th>\n",
              "      <th>thstrm_add_amount</th>\n",
              "    </tr>\n",
              "  </thead>\n",
              "  <tbody>\n",
              "    <tr>\n",
              "      <th>53</th>\n",
              "      <td>20200330003851</td>\n",
              "      <td>11011</td>\n",
              "      <td>2019</td>\n",
              "      <td>00126380</td>\n",
              "      <td>BS</td>\n",
              "      <td>재무상태표</td>\n",
              "      <td>ifrs-full_Equity</td>\n",
              "      <td>자본총계</td>\n",
              "      <td>-</td>\n",
              "      <td>제 51 기</td>\n",
              "      <td>262880421000000</td>\n",
              "      <td>제 50 기</td>\n",
              "      <td>247753177000000</td>\n",
              "      <td>제 49 기</td>\n",
              "      <td>214491428000000</td>\n",
              "      <td>56</td>\n",
              "      <td>NaN</td>\n",
              "    </tr>\n",
              "  </tbody>\n",
              "</table>\n",
              "</div>"
            ],
            "text/plain": [
              "          rcept_no reprt_code bsns_year  ... bfefrmtrm_amount ord thstrm_add_amount\n",
              "53  20200330003851      11011      2019  ...  214491428000000  56               NaN\n",
              "\n",
              "[1 rows x 17 columns]"
            ]
          },
          "metadata": {},
          "execution_count": 35
        }
      ]
    },
    {
      "cell_type": "code",
      "metadata": {
        "id": "vuBykmnGgNPw"
      },
      "source": [
        ""
      ],
      "execution_count": null,
      "outputs": []
    },
    {
      "cell_type": "markdown",
      "metadata": {
        "id": "meu08K36Ofat"
      },
      "source": [
        "## LSTM - Regression"
      ]
    },
    {
      "cell_type": "markdown",
      "metadata": {
        "id": "BMtvrLoAPTuv"
      },
      "source": [
        "### 전처리"
      ]
    },
    {
      "cell_type": "code",
      "metadata": {
        "colab": {
          "base_uri": "https://localhost:8080/"
        },
        "id": "YhkRpue3OiTT",
        "outputId": "c4077e7c-ce14-4661-b8e5-eb9ed6d54d7f"
      },
      "source": [
        "# 전처리\n",
        "\n",
        "scaler = MinMaxScaler()\n",
        "# 스케일을 적용할 column을 정의합니다.\n",
        "scale_cols_2 = ['Open', 'High', 'Low', 'Close', 'Volume', 'Change']\n",
        "# 스케일 후 columns\n",
        "scaled_2 = scaler.fit_transform(stock_re[scale_cols_2])\n",
        "scaled_2"
      ],
      "execution_count": 163,
      "outputs": [
        {
          "output_type": "execute_result",
          "data": {
            "text/plain": [
              "array([[0.29422895, 0.27533784, 0.28395062, 0.26984127, 0.40930157,\n",
              "        0.25579124],\n",
              "       [0.28666036, 0.26351351, 0.28584995, 0.28291317, 0.21767481,\n",
              "        0.45890951],\n",
              "       [0.28666036, 0.25675676, 0.2668566 , 0.25116713, 0.13645893,\n",
              "        0.18719175],\n",
              "       ...,\n",
              "       [0.6896878 , 0.64358108, 0.7037037 , 0.7124183 , 0.19336962,\n",
              "        0.56503215],\n",
              "       [0.73320719, 0.65878378, 0.72269706, 0.71428571, 0.20853559,\n",
              "        0.38675064],\n",
              "       [0.73131504, 0.65202703, 0.71699905, 0.69374416, 0.14278246,\n",
              "        0.2927089 ]])"
            ]
          },
          "metadata": {},
          "execution_count": 163
        }
      ]
    },
    {
      "cell_type": "code",
      "metadata": {
        "colab": {
          "base_uri": "https://localhost:8080/",
          "height": 417
        },
        "id": "CfHZxSgnOwme",
        "outputId": "b2e1c8d7-448d-4852-cbad-f66754ffbc0b"
      },
      "source": [
        "df_2 = pd.DataFrame(scaled_2, columns=scale_cols)\n",
        "df_2"
      ],
      "execution_count": 165,
      "outputs": [
        {
          "output_type": "execute_result",
          "data": {
            "text/html": [
              "<div>\n",
              "<style scoped>\n",
              "    .dataframe tbody tr th:only-of-type {\n",
              "        vertical-align: middle;\n",
              "    }\n",
              "\n",
              "    .dataframe tbody tr th {\n",
              "        vertical-align: top;\n",
              "    }\n",
              "\n",
              "    .dataframe thead th {\n",
              "        text-align: right;\n",
              "    }\n",
              "</style>\n",
              "<table border=\"1\" class=\"dataframe\">\n",
              "  <thead>\n",
              "    <tr style=\"text-align: right;\">\n",
              "      <th></th>\n",
              "      <th>Open</th>\n",
              "      <th>High</th>\n",
              "      <th>Low</th>\n",
              "      <th>Close</th>\n",
              "      <th>Volume</th>\n",
              "      <th>Change</th>\n",
              "    </tr>\n",
              "  </thead>\n",
              "  <tbody>\n",
              "    <tr>\n",
              "      <th>0</th>\n",
              "      <td>0.294229</td>\n",
              "      <td>0.275338</td>\n",
              "      <td>0.283951</td>\n",
              "      <td>0.269841</td>\n",
              "      <td>0.409302</td>\n",
              "      <td>0.255791</td>\n",
              "    </tr>\n",
              "    <tr>\n",
              "      <th>1</th>\n",
              "      <td>0.286660</td>\n",
              "      <td>0.263514</td>\n",
              "      <td>0.285850</td>\n",
              "      <td>0.282913</td>\n",
              "      <td>0.217675</td>\n",
              "      <td>0.458910</td>\n",
              "    </tr>\n",
              "    <tr>\n",
              "      <th>2</th>\n",
              "      <td>0.286660</td>\n",
              "      <td>0.256757</td>\n",
              "      <td>0.266857</td>\n",
              "      <td>0.251167</td>\n",
              "      <td>0.136459</td>\n",
              "      <td>0.187192</td>\n",
              "    </tr>\n",
              "    <tr>\n",
              "      <th>3</th>\n",
              "      <td>0.269631</td>\n",
              "      <td>0.238176</td>\n",
              "      <td>0.261159</td>\n",
              "      <td>0.264239</td>\n",
              "      <td>0.110579</td>\n",
              "      <td>0.460481</td>\n",
              "    </tr>\n",
              "    <tr>\n",
              "      <th>4</th>\n",
              "      <td>0.275307</td>\n",
              "      <td>0.246622</td>\n",
              "      <td>0.272555</td>\n",
              "      <td>0.258637</td>\n",
              "      <td>0.068783</td>\n",
              "      <td>0.344417</td>\n",
              "    </tr>\n",
              "    <tr>\n",
              "      <th>...</th>\n",
              "      <td>...</td>\n",
              "      <td>...</td>\n",
              "      <td>...</td>\n",
              "      <td>...</td>\n",
              "      <td>...</td>\n",
              "      <td>...</td>\n",
              "    </tr>\n",
              "    <tr>\n",
              "      <th>812</th>\n",
              "      <td>0.682119</td>\n",
              "      <td>0.613176</td>\n",
              "      <td>0.677113</td>\n",
              "      <td>0.658263</td>\n",
              "      <td>0.209061</td>\n",
              "      <td>0.346446</td>\n",
              "    </tr>\n",
              "    <tr>\n",
              "      <th>813</th>\n",
              "      <td>0.678335</td>\n",
              "      <td>0.614865</td>\n",
              "      <td>0.686610</td>\n",
              "      <td>0.669468</td>\n",
              "      <td>0.174368</td>\n",
              "      <td>0.427860</td>\n",
              "    </tr>\n",
              "    <tr>\n",
              "      <th>814</th>\n",
              "      <td>0.689688</td>\n",
              "      <td>0.643581</td>\n",
              "      <td>0.703704</td>\n",
              "      <td>0.712418</td>\n",
              "      <td>0.193370</td>\n",
              "      <td>0.565032</td>\n",
              "    </tr>\n",
              "    <tr>\n",
              "      <th>815</th>\n",
              "      <td>0.733207</td>\n",
              "      <td>0.658784</td>\n",
              "      <td>0.722697</td>\n",
              "      <td>0.714286</td>\n",
              "      <td>0.208536</td>\n",
              "      <td>0.386751</td>\n",
              "    </tr>\n",
              "    <tr>\n",
              "      <th>816</th>\n",
              "      <td>0.731315</td>\n",
              "      <td>0.652027</td>\n",
              "      <td>0.716999</td>\n",
              "      <td>0.693744</td>\n",
              "      <td>0.142782</td>\n",
              "      <td>0.292709</td>\n",
              "    </tr>\n",
              "  </tbody>\n",
              "</table>\n",
              "<p>817 rows × 6 columns</p>\n",
              "</div>"
            ],
            "text/plain": [
              "         Open      High       Low     Close    Volume    Change\n",
              "0    0.294229  0.275338  0.283951  0.269841  0.409302  0.255791\n",
              "1    0.286660  0.263514  0.285850  0.282913  0.217675  0.458910\n",
              "2    0.286660  0.256757  0.266857  0.251167  0.136459  0.187192\n",
              "3    0.269631  0.238176  0.261159  0.264239  0.110579  0.460481\n",
              "4    0.275307  0.246622  0.272555  0.258637  0.068783  0.344417\n",
              "..        ...       ...       ...       ...       ...       ...\n",
              "812  0.682119  0.613176  0.677113  0.658263  0.209061  0.346446\n",
              "813  0.678335  0.614865  0.686610  0.669468  0.174368  0.427860\n",
              "814  0.689688  0.643581  0.703704  0.712418  0.193370  0.565032\n",
              "815  0.733207  0.658784  0.722697  0.714286  0.208536  0.386751\n",
              "816  0.731315  0.652027  0.716999  0.693744  0.142782  0.292709\n",
              "\n",
              "[817 rows x 6 columns]"
            ]
          },
          "metadata": {},
          "execution_count": 165
        }
      ]
    },
    {
      "cell_type": "markdown",
      "metadata": {
        "id": "BhOo9CTnPW7K"
      },
      "source": [
        "### train / test 분할"
      ]
    },
    {
      "cell_type": "code",
      "metadata": {
        "id": "LZ7mw_tLPAVY"
      },
      "source": [
        "x_train, x_test, y_train, y_test = train_test_split(df_2.drop('Change', 1), df['Change'], test_size=0.2, random_state=0, shuffle=False)"
      ],
      "execution_count": 166,
      "outputs": []
    },
    {
      "cell_type": "code",
      "metadata": {
        "colab": {
          "base_uri": "https://localhost:8080/"
        },
        "id": "JTif1aNIPRSf",
        "outputId": "7d95c9cf-ac26-46cd-af85-3707dd3b65e3"
      },
      "source": [
        "x_train.shape, y_train.shape"
      ],
      "execution_count": 167,
      "outputs": [
        {
          "output_type": "execute_result",
          "data": {
            "text/plain": [
              "((653, 5), (653,))"
            ]
          },
          "metadata": {},
          "execution_count": 167
        }
      ]
    },
    {
      "cell_type": "code",
      "metadata": {
        "id": "xt1UiL9DX69s"
      },
      "source": [
        "def windowed_dataset(series, window_size, batch_size, shuffle):\n",
        "    series = tf.expand_dims(series, axis=-1)\n",
        "    ds = tf.data.Dataset.from_tensor_slices(series)\n",
        "    ds = ds.window(window_size + 1, shift=1, drop_remainder=True)\n",
        "    ds = ds.flat_map(lambda w: w.batch(window_size + 1))\n",
        "    if shuffle:\n",
        "        ds = ds.shuffle(1000)\n",
        "    ds = ds.map(lambda w: (w[:-1], w[-1]))\n",
        "    return ds.batch(batch_size).prefetch(1)"
      ],
      "execution_count": 175,
      "outputs": []
    },
    {
      "cell_type": "code",
      "metadata": {
        "id": "VpjJWuh5X-Jp"
      },
      "source": [
        "WINDOW_SIZE=20\n",
        "BATCH_SIZE=32\n",
        "\n",
        "# trian_data는 학습용 데이터셋, test_data는 검증용 데이터셋 입니다.\n",
        "train_data = windowed_dataset(y_train, WINDOW_SIZE, BATCH_SIZE, True)\n",
        "test_data = windowed_dataset(y_test, WINDOW_SIZE, BATCH_SIZE, False)"
      ],
      "execution_count": 176,
      "outputs": []
    },
    {
      "cell_type": "markdown",
      "metadata": {
        "id": "BtwUnu9ZPqQo"
      },
      "source": [
        "### 모델"
      ]
    },
    {
      "cell_type": "code",
      "metadata": {
        "id": "JmuKaglePfxa"
      },
      "source": [
        "model = Sequential([\n",
        "    # 1차원 feature map 생성\n",
        "    Conv1D(filters=32, kernel_size=5,\n",
        "           padding=\"causal\",\n",
        "           activation=\"relu\",\n",
        "           input_shape=[WINDOW_SIZE, 1]),\n",
        "    # LSTM\n",
        "    LSTM(16, activation='tanh'),\n",
        "    Dense(16, activation=\"relu\"),\n",
        "    Dense(1),\n",
        "])"
      ],
      "execution_count": 177,
      "outputs": []
    },
    {
      "cell_type": "code",
      "metadata": {
        "id": "pCViQt5qYND5"
      },
      "source": [
        "# Sequence 학습에 비교적 좋은 퍼포먼스를 내는 Huber()를 사용합니다.\n",
        "loss = Huber()\n",
        "optimizer = Adam(0.0005)\n",
        "model.compile(loss=Huber(), optimizer=optimizer, metrics=['mse'])"
      ],
      "execution_count": 178,
      "outputs": []
    },
    {
      "cell_type": "code",
      "metadata": {
        "colab": {
          "base_uri": "https://localhost:8080/"
        },
        "id": "05_adl1uRzrk",
        "outputId": "9d20e0f6-74f2-42a3-e186-0a9f36741993"
      },
      "source": [
        "model.summary()"
      ],
      "execution_count": 179,
      "outputs": [
        {
          "output_type": "stream",
          "name": "stdout",
          "text": [
            "Model: \"sequential_11\"\n",
            "_________________________________________________________________\n",
            "Layer (type)                 Output Shape              Param #   \n",
            "=================================================================\n",
            "conv1d_3 (Conv1D)            (None, 20, 32)            192       \n",
            "_________________________________________________________________\n",
            "lstm_16 (LSTM)               (None, 16)                3136      \n",
            "_________________________________________________________________\n",
            "dense_17 (Dense)             (None, 16)                272       \n",
            "_________________________________________________________________\n",
            "dense_18 (Dense)             (None, 1)                 17        \n",
            "=================================================================\n",
            "Total params: 3,617\n",
            "Trainable params: 3,617\n",
            "Non-trainable params: 0\n",
            "_________________________________________________________________\n"
          ]
        }
      ]
    },
    {
      "cell_type": "code",
      "metadata": {
        "id": "NXV_wnCVP1C5"
      },
      "source": [
        "# earlystopping은 10번 epoch통안 val_loss 개선이 없다면 학습을 멈춥니다.\n",
        "earlystopping = EarlyStopping(monitor='val_loss', patience=10)\n",
        "# val_loss 기준 체크포인터도 생성합니다.\n",
        "filename = 'best5_re.h5'\n",
        "checkpoint = ModelCheckpoint(filename, \n",
        "                             save_weights_only=True, \n",
        "                             save_best_only=True, \n",
        "                             monitor='val_loss', \n",
        "                             verbose=1)"
      ],
      "execution_count": 180,
      "outputs": []
    },
    {
      "cell_type": "code",
      "metadata": {
        "colab": {
          "base_uri": "https://localhost:8080/"
        },
        "id": "y7hyteA-P79j",
        "outputId": "138ddccb-7894-4259-c2b0-ee6a91a83224"
      },
      "source": [
        "history = model.fit(train_data, \n",
        "                    validation_data=(test_data), \n",
        "                    epochs=50, \n",
        "                    callbacks=[checkpoint, earlystopping])"
      ],
      "execution_count": 181,
      "outputs": [
        {
          "output_type": "stream",
          "name": "stdout",
          "text": [
            "Epoch 1/50\n",
            "20/20 [==============================] - 4s 39ms/step - loss: 0.0418 - mse: 0.0836 - val_loss: 0.0181 - val_mse: 0.0361\n",
            "\n",
            "Epoch 00001: val_loss improved from inf to 0.01807, saving model to best5_re.h5\n",
            "Epoch 2/50\n",
            "20/20 [==============================] - 0s 12ms/step - loss: 0.0118 - mse: 0.0236 - val_loss: 0.0026 - val_mse: 0.0052\n",
            "\n",
            "Epoch 00002: val_loss improved from 0.01807 to 0.00262, saving model to best5_re.h5\n",
            "Epoch 3/50\n",
            "20/20 [==============================] - 0s 14ms/step - loss: 0.0059 - mse: 0.0117 - val_loss: 0.0027 - val_mse: 0.0054\n",
            "\n",
            "Epoch 00003: val_loss did not improve from 0.00262\n",
            "Epoch 4/50\n",
            "20/20 [==============================] - 0s 12ms/step - loss: 0.0056 - mse: 0.0112 - val_loss: 0.0026 - val_mse: 0.0052\n",
            "\n",
            "Epoch 00004: val_loss improved from 0.00262 to 0.00260, saving model to best5_re.h5\n",
            "Epoch 5/50\n",
            "20/20 [==============================] - 0s 12ms/step - loss: 0.0055 - mse: 0.0111 - val_loss: 0.0026 - val_mse: 0.0052\n",
            "\n",
            "Epoch 00005: val_loss did not improve from 0.00260\n",
            "Epoch 6/50\n",
            "20/20 [==============================] - 0s 11ms/step - loss: 0.0055 - mse: 0.0111 - val_loss: 0.0026 - val_mse: 0.0052\n",
            "\n",
            "Epoch 00006: val_loss did not improve from 0.00260\n",
            "Epoch 7/50\n",
            "20/20 [==============================] - 0s 12ms/step - loss: 0.0055 - mse: 0.0111 - val_loss: 0.0026 - val_mse: 0.0052\n",
            "\n",
            "Epoch 00007: val_loss improved from 0.00260 to 0.00259, saving model to best5_re.h5\n",
            "Epoch 8/50\n",
            "20/20 [==============================] - 0s 12ms/step - loss: 0.0055 - mse: 0.0111 - val_loss: 0.0026 - val_mse: 0.0052\n",
            "\n",
            "Epoch 00008: val_loss did not improve from 0.00259\n",
            "Epoch 9/50\n",
            "20/20 [==============================] - 0s 14ms/step - loss: 0.0055 - mse: 0.0111 - val_loss: 0.0026 - val_mse: 0.0052\n",
            "\n",
            "Epoch 00009: val_loss did not improve from 0.00259\n",
            "Epoch 10/50\n",
            "20/20 [==============================] - 0s 14ms/step - loss: 0.0055 - mse: 0.0110 - val_loss: 0.0026 - val_mse: 0.0052\n",
            "\n",
            "Epoch 00010: val_loss improved from 0.00259 to 0.00259, saving model to best5_re.h5\n",
            "Epoch 11/50\n",
            "20/20 [==============================] - 0s 13ms/step - loss: 0.0056 - mse: 0.0111 - val_loss: 0.0027 - val_mse: 0.0054\n",
            "\n",
            "Epoch 00011: val_loss did not improve from 0.00259\n",
            "Epoch 12/50\n",
            "20/20 [==============================] - 0s 12ms/step - loss: 0.0056 - mse: 0.0112 - val_loss: 0.0026 - val_mse: 0.0052\n",
            "\n",
            "Epoch 00012: val_loss improved from 0.00259 to 0.00258, saving model to best5_re.h5\n",
            "Epoch 13/50\n",
            "20/20 [==============================] - 0s 12ms/step - loss: 0.0055 - mse: 0.0110 - val_loss: 0.0026 - val_mse: 0.0052\n",
            "\n",
            "Epoch 00013: val_loss did not improve from 0.00258\n",
            "Epoch 14/50\n",
            "20/20 [==============================] - 0s 14ms/step - loss: 0.0055 - mse: 0.0110 - val_loss: 0.0026 - val_mse: 0.0052\n",
            "\n",
            "Epoch 00014: val_loss improved from 0.00258 to 0.00258, saving model to best5_re.h5\n",
            "Epoch 15/50\n",
            "20/20 [==============================] - 0s 13ms/step - loss: 0.0055 - mse: 0.0110 - val_loss: 0.0026 - val_mse: 0.0052\n",
            "\n",
            "Epoch 00015: val_loss did not improve from 0.00258\n",
            "Epoch 16/50\n",
            "20/20 [==============================] - 0s 12ms/step - loss: 0.0055 - mse: 0.0111 - val_loss: 0.0026 - val_mse: 0.0052\n",
            "\n",
            "Epoch 00016: val_loss did not improve from 0.00258\n",
            "Epoch 17/50\n",
            "20/20 [==============================] - 0s 12ms/step - loss: 0.0055 - mse: 0.0110 - val_loss: 0.0026 - val_mse: 0.0052\n",
            "\n",
            "Epoch 00017: val_loss did not improve from 0.00258\n",
            "Epoch 18/50\n",
            "20/20 [==============================] - 0s 12ms/step - loss: 0.0055 - mse: 0.0110 - val_loss: 0.0026 - val_mse: 0.0053\n",
            "\n",
            "Epoch 00018: val_loss did not improve from 0.00258\n",
            "Epoch 19/50\n",
            "20/20 [==============================] - 0s 12ms/step - loss: 0.0055 - mse: 0.0110 - val_loss: 0.0026 - val_mse: 0.0051\n",
            "\n",
            "Epoch 00019: val_loss improved from 0.00258 to 0.00256, saving model to best5_re.h5\n",
            "Epoch 20/50\n",
            "20/20 [==============================] - 0s 12ms/step - loss: 0.0055 - mse: 0.0110 - val_loss: 0.0026 - val_mse: 0.0051\n",
            "\n",
            "Epoch 00020: val_loss improved from 0.00256 to 0.00256, saving model to best5_re.h5\n",
            "Epoch 21/50\n",
            "20/20 [==============================] - 0s 12ms/step - loss: 0.0055 - mse: 0.0110 - val_loss: 0.0026 - val_mse: 0.0053\n",
            "\n",
            "Epoch 00021: val_loss did not improve from 0.00256\n",
            "Epoch 22/50\n",
            "20/20 [==============================] - 0s 12ms/step - loss: 0.0055 - mse: 0.0110 - val_loss: 0.0026 - val_mse: 0.0051\n",
            "\n",
            "Epoch 00022: val_loss improved from 0.00256 to 0.00256, saving model to best5_re.h5\n",
            "Epoch 23/50\n",
            "20/20 [==============================] - 0s 12ms/step - loss: 0.0055 - mse: 0.0110 - val_loss: 0.0026 - val_mse: 0.0051\n",
            "\n",
            "Epoch 00023: val_loss did not improve from 0.00256\n",
            "Epoch 24/50\n",
            "20/20 [==============================] - 0s 14ms/step - loss: 0.0055 - mse: 0.0110 - val_loss: 0.0026 - val_mse: 0.0053\n",
            "\n",
            "Epoch 00024: val_loss did not improve from 0.00256\n",
            "Epoch 25/50\n",
            "20/20 [==============================] - 0s 15ms/step - loss: 0.0054 - mse: 0.0109 - val_loss: 0.0026 - val_mse: 0.0052\n",
            "\n",
            "Epoch 00025: val_loss did not improve from 0.00256\n",
            "Epoch 26/50\n",
            "20/20 [==============================] - 0s 12ms/step - loss: 0.0055 - mse: 0.0110 - val_loss: 0.0026 - val_mse: 0.0053\n",
            "\n",
            "Epoch 00026: val_loss did not improve from 0.00256\n",
            "Epoch 27/50\n",
            "20/20 [==============================] - 0s 14ms/step - loss: 0.0055 - mse: 0.0109 - val_loss: 0.0025 - val_mse: 0.0051\n",
            "\n",
            "Epoch 00027: val_loss improved from 0.00256 to 0.00254, saving model to best5_re.h5\n",
            "Epoch 28/50\n",
            "20/20 [==============================] - 0s 12ms/step - loss: 0.0054 - mse: 0.0109 - val_loss: 0.0026 - val_mse: 0.0051\n",
            "\n",
            "Epoch 00028: val_loss did not improve from 0.00254\n",
            "Epoch 29/50\n",
            "20/20 [==============================] - 0s 12ms/step - loss: 0.0054 - mse: 0.0109 - val_loss: 0.0026 - val_mse: 0.0051\n",
            "\n",
            "Epoch 00029: val_loss did not improve from 0.00254\n",
            "Epoch 30/50\n",
            "20/20 [==============================] - 0s 14ms/step - loss: 0.0055 - mse: 0.0109 - val_loss: 0.0025 - val_mse: 0.0051\n",
            "\n",
            "Epoch 00030: val_loss did not improve from 0.00254\n",
            "Epoch 31/50\n",
            "20/20 [==============================] - 0s 12ms/step - loss: 0.0055 - mse: 0.0110 - val_loss: 0.0026 - val_mse: 0.0052\n",
            "\n",
            "Epoch 00031: val_loss did not improve from 0.00254\n",
            "Epoch 32/50\n",
            "20/20 [==============================] - 0s 12ms/step - loss: 0.0055 - mse: 0.0109 - val_loss: 0.0026 - val_mse: 0.0051\n",
            "\n",
            "Epoch 00032: val_loss did not improve from 0.00254\n",
            "Epoch 33/50\n",
            "20/20 [==============================] - 0s 12ms/step - loss: 0.0055 - mse: 0.0109 - val_loss: 0.0025 - val_mse: 0.0051\n",
            "\n",
            "Epoch 00033: val_loss did not improve from 0.00254\n",
            "Epoch 34/50\n",
            "20/20 [==============================] - 0s 12ms/step - loss: 0.0055 - mse: 0.0109 - val_loss: 0.0026 - val_mse: 0.0051\n",
            "\n",
            "Epoch 00034: val_loss did not improve from 0.00254\n",
            "Epoch 35/50\n",
            "20/20 [==============================] - 0s 11ms/step - loss: 0.0055 - mse: 0.0109 - val_loss: 0.0025 - val_mse: 0.0051\n",
            "\n",
            "Epoch 00035: val_loss did not improve from 0.00254\n",
            "Epoch 36/50\n",
            "20/20 [==============================] - 0s 11ms/step - loss: 0.0055 - mse: 0.0109 - val_loss: 0.0025 - val_mse: 0.0051\n",
            "\n",
            "Epoch 00036: val_loss improved from 0.00254 to 0.00253, saving model to best5_re.h5\n",
            "Epoch 37/50\n",
            "20/20 [==============================] - 0s 12ms/step - loss: 0.0054 - mse: 0.0109 - val_loss: 0.0026 - val_mse: 0.0053\n",
            "\n",
            "Epoch 00037: val_loss did not improve from 0.00253\n",
            "Epoch 38/50\n",
            "20/20 [==============================] - 0s 19ms/step - loss: 0.0054 - mse: 0.0109 - val_loss: 0.0025 - val_mse: 0.0050\n",
            "\n",
            "Epoch 00038: val_loss improved from 0.00253 to 0.00251, saving model to best5_re.h5\n",
            "Epoch 39/50\n",
            "20/20 [==============================] - 1s 20ms/step - loss: 0.0054 - mse: 0.0108 - val_loss: 0.0026 - val_mse: 0.0052\n",
            "\n",
            "Epoch 00039: val_loss did not improve from 0.00251\n",
            "Epoch 40/50\n",
            "20/20 [==============================] - 0s 19ms/step - loss: 0.0054 - mse: 0.0108 - val_loss: 0.0025 - val_mse: 0.0050\n",
            "\n",
            "Epoch 00040: val_loss improved from 0.00251 to 0.00251, saving model to best5_re.h5\n",
            "Epoch 41/50\n",
            "20/20 [==============================] - 0s 11ms/step - loss: 0.0054 - mse: 0.0109 - val_loss: 0.0026 - val_mse: 0.0052\n",
            "\n",
            "Epoch 00041: val_loss did not improve from 0.00251\n",
            "Epoch 42/50\n",
            "20/20 [==============================] - 1s 21ms/step - loss: 0.0054 - mse: 0.0109 - val_loss: 0.0026 - val_mse: 0.0051\n",
            "\n",
            "Epoch 00042: val_loss did not improve from 0.00251\n",
            "Epoch 43/50\n",
            "20/20 [==============================] - 1s 21ms/step - loss: 0.0055 - mse: 0.0109 - val_loss: 0.0026 - val_mse: 0.0051\n",
            "\n",
            "Epoch 00043: val_loss did not improve from 0.00251\n",
            "Epoch 44/50\n",
            "20/20 [==============================] - 0s 18ms/step - loss: 0.0054 - mse: 0.0109 - val_loss: 0.0025 - val_mse: 0.0050\n",
            "\n",
            "Epoch 00044: val_loss did not improve from 0.00251\n",
            "Epoch 45/50\n",
            "20/20 [==============================] - 0s 19ms/step - loss: 0.0054 - mse: 0.0107 - val_loss: 0.0026 - val_mse: 0.0052\n",
            "\n",
            "Epoch 00045: val_loss did not improve from 0.00251\n",
            "Epoch 46/50\n",
            "20/20 [==============================] - 1s 19ms/step - loss: 0.0055 - mse: 0.0109 - val_loss: 0.0025 - val_mse: 0.0051\n",
            "\n",
            "Epoch 00046: val_loss did not improve from 0.00251\n",
            "Epoch 47/50\n",
            "20/20 [==============================] - 1s 21ms/step - loss: 0.0056 - mse: 0.0113 - val_loss: 0.0029 - val_mse: 0.0058\n",
            "\n",
            "Epoch 00047: val_loss did not improve from 0.00251\n",
            "Epoch 48/50\n",
            "20/20 [==============================] - 1s 33ms/step - loss: 0.0055 - mse: 0.0110 - val_loss: 0.0027 - val_mse: 0.0054\n",
            "\n",
            "Epoch 00048: val_loss did not improve from 0.00251\n",
            "Epoch 49/50\n",
            "20/20 [==============================] - 1s 28ms/step - loss: 0.0054 - mse: 0.0109 - val_loss: 0.0025 - val_mse: 0.0051\n",
            "\n",
            "Epoch 00049: val_loss did not improve from 0.00251\n",
            "Epoch 50/50\n",
            "20/20 [==============================] - 0s 15ms/step - loss: 0.0054 - mse: 0.0108 - val_loss: 0.0025 - val_mse: 0.0050\n",
            "\n",
            "Epoch 00050: val_loss improved from 0.00251 to 0.00250, saving model to best5_re.h5\n"
          ]
        }
      ]
    },
    {
      "cell_type": "code",
      "metadata": {
        "id": "dqT4e63-Rs39"
      },
      "source": [
        "model.load_weights(filename)"
      ],
      "execution_count": 182,
      "outputs": []
    },
    {
      "cell_type": "code",
      "metadata": {
        "colab": {
          "base_uri": "https://localhost:8080/"
        },
        "id": "ggxl06ntYgs1",
        "outputId": "eca00729-f235-4ffc-d10b-5d5c26744ba2"
      },
      "source": [
        "pred = model.predict(test_data)\n",
        "pred.shape"
      ],
      "execution_count": 183,
      "outputs": [
        {
          "output_type": "execute_result",
          "data": {
            "text/plain": [
              "(144, 1)"
            ]
          },
          "metadata": {},
          "execution_count": 183
        }
      ]
    },
    {
      "cell_type": "code",
      "metadata": {
        "colab": {
          "base_uri": "https://localhost:8080/",
          "height": 507
        },
        "id": "O9QmBw9iYj_j",
        "outputId": "433e8732-89d3-47cd-a321-ee30cd13a881"
      },
      "source": [
        "plt.figure(figsize=(12, 9))\n",
        "plt.plot(np.asarray(y_test)[20:], label='actual')\n",
        "plt.plot(pred, label='prediction')\n",
        "plt.legend()\n",
        "plt.show()"
      ],
      "execution_count": 184,
      "outputs": [
        {
          "output_type": "display_data",
          "data": {
            "image/png": "[encoded data removed]",
            "text/plain": [
              "<Figure size 864x648 with 1 Axes>"
            ]
          },
          "metadata": {
            "needs_background": "light"
          }
        }
      ]
    },
    {
      "cell_type": "code",
      "metadata": {
        "id": "xlrKbd1NZCbK"
      },
      "source": [
        "aa = pd.DataFrame(pred)"
      ],
      "execution_count": 187,
      "outputs": []
    },
    {
      "cell_type": "code",
      "metadata": {
        "id": "ecahGyQzZKal"
      },
      "source": [
        "aa.columns = ['change']"
      ],
      "execution_count": 191,
      "outputs": []
    },
    {
      "cell_type": "code",
      "metadata": {
        "id": "txU6kr2QaPnH"
      },
      "source": [
        "aa['change'] = np.where(aa['change'] > 0,1,np.where(aa['change']==0,0,-1))"
      ],
      "execution_count": 192,
      "outputs": []
    },
    {
      "cell_type": "code",
      "metadata": {
        "colab": {
          "base_uri": "https://localhost:8080/"
        },
        "id": "g499ZrSua8Qw",
        "outputId": "d62e30fa-15d9-4958-bc52-ddcb5c8f1b98"
      },
      "source": [
        "aa.change.value_counts()"
      ],
      "execution_count": 201,
      "outputs": [
        {
          "output_type": "execute_result",
          "data": {
            "text/plain": [
              "1    144\n",
              "Name: change, dtype: int64"
            ]
          },
          "metadata": {},
          "execution_count": 201
        }
      ]
    },
    {
      "cell_type": "code",
      "metadata": {
        "id": "aR2rMIL0bA2a"
      },
      "source": [
        ""
      ],
      "execution_count": null,
      "outputs": []
    }
  ]
}