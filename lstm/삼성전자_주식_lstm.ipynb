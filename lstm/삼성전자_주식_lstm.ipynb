{
  "nbformat": 4,
  "nbformat_minor": 0,
  "metadata": {
    "colab": {
      "name": "삼성전자 주식 lstm.ipynb",
      "provenance": [],
      "collapsed_sections": [],
      "toc_visible": true,
      "authorship_tag": "ABX9TyN1qmbwi2DKH8ikX3hfUZCG",
      "include_colab_link": true
    },
    "kernelspec": {
      "name": "python3",
      "display_name": "Python 3"
    },
    "language_info": {
      "name": "python"
    },
    "accelerator": "GPU"
  },
  "cells": [
    {
      "cell_type": "markdown",
      "metadata": {
        "id": "view-in-github",
        "colab_type": "text"
      },
      "source": [
        "<a href=\"https://colab.research.google.com/github/chaerui7967/stock_predict_news_and_youtube/blob/master/%EC%82%BC%EC%84%B1%EC%A0%84%EC%9E%90_%EC%A3%BC%EC%8B%9D_lstm.ipynb\" target=\"_parent\"><img src=\"https://colab.research.google.com/assets/colab-badge.svg\" alt=\"Open In Colab\"/></a>"
      ]
    },
    {
      "cell_type": "markdown",
      "metadata": {
        "id": "6gVpEXQ_khnG"
      },
      "source": [
        "# 삼성전자 주식 예측"
      ]
    },
    {
      "cell_type": "markdown",
      "metadata": {
        "id": "gq2IWehXkmPi"
      },
      "source": [
        "### 데이터 불러오기"
      ]
    },
    {
      "cell_type": "code",
      "metadata": {
        "id": "NBMVNL9_kbhF",
        "colab": {
          "base_uri": "https://localhost:8080/"
        },
        "outputId": "e49b68f6-25aa-41cd-bc17-93c06f57e4ff"
      },
      "source": [
        "# 필요 모듈 설치\n",
        "!pip install finance-datareader\n",
        "!pip install opendartreader\n",
        "!pip install --upgrade opendartreader"
      ],
      "execution_count": 119,
      "outputs": [
        {
          "output_type": "stream",
          "name": "stdout",
          "text": [
            "Requirement already satisfied: finance-datareader in /usr/local/lib/python3.7/dist-packages (0.9.31)\n",
            "Requirement already satisfied: requests-file in /usr/local/lib/python3.7/dist-packages (from finance-datareader) (1.5.1)\n",
            "Requirement already satisfied: pandas>=0.19.2 in /usr/local/lib/python3.7/dist-packages (from finance-datareader) (1.1.5)\n",
            "Requirement already satisfied: tqdm in /usr/local/lib/python3.7/dist-packages (from finance-datareader) (4.62.0)\n",
            "Requirement already satisfied: lxml in /usr/local/lib/python3.7/dist-packages (from finance-datareader) (4.2.6)\n",
            "Requirement already satisfied: requests>=2.3.0 in /usr/local/lib/python3.7/dist-packages (from finance-datareader) (2.23.0)\n",
            "Requirement already satisfied: python-dateutil>=2.7.3 in /usr/local/lib/python3.7/dist-packages (from pandas>=0.19.2->finance-datareader) (2.8.2)\n",
            "Requirement already satisfied: pytz>=2017.2 in /usr/local/lib/python3.7/dist-packages (from pandas>=0.19.2->finance-datareader) (2018.9)\n",
            "Requirement already satisfied: numpy>=1.15.4 in /usr/local/lib/python3.7/dist-packages (from pandas>=0.19.2->finance-datareader) (1.19.5)\n",
            "Requirement already satisfied: six>=1.5 in /usr/local/lib/python3.7/dist-packages (from python-dateutil>=2.7.3->pandas>=0.19.2->finance-datareader) (1.15.0)\n",
            "Requirement already satisfied: certifi>=2017.4.17 in /usr/local/lib/python3.7/dist-packages (from requests>=2.3.0->finance-datareader) (2021.5.30)\n",
            "Requirement already satisfied: chardet<4,>=3.0.2 in /usr/local/lib/python3.7/dist-packages (from requests>=2.3.0->finance-datareader) (3.0.4)\n",
            "Requirement already satisfied: urllib3!=1.25.0,!=1.25.1,<1.26,>=1.21.1 in /usr/local/lib/python3.7/dist-packages (from requests>=2.3.0->finance-datareader) (1.24.3)\n",
            "Requirement already satisfied: idna<3,>=2.5 in /usr/local/lib/python3.7/dist-packages (from requests>=2.3.0->finance-datareader) (2.10)\n",
            "Requirement already satisfied: opendartreader in /usr/local/lib/python3.7/dist-packages (0.1.6)\n",
            "Requirement already satisfied: requests>=2.3.0 in /usr/local/lib/python3.7/dist-packages (from opendartreader) (2.23.0)\n",
            "Requirement already satisfied: lxml in /usr/local/lib/python3.7/dist-packages (from opendartreader) (4.2.6)\n",
            "Requirement already satisfied: pandas>=0.19.2 in /usr/local/lib/python3.7/dist-packages (from opendartreader) (1.1.5)\n",
            "Requirement already satisfied: requests-file in /usr/local/lib/python3.7/dist-packages (from opendartreader) (1.5.1)\n",
            "Requirement already satisfied: python-dateutil>=2.7.3 in /usr/local/lib/python3.7/dist-packages (from pandas>=0.19.2->opendartreader) (2.8.2)\n",
            "Requirement already satisfied: numpy>=1.15.4 in /usr/local/lib/python3.7/dist-packages (from pandas>=0.19.2->opendartreader) (1.19.5)\n",
            "Requirement already satisfied: pytz>=2017.2 in /usr/local/lib/python3.7/dist-packages (from pandas>=0.19.2->opendartreader) (2018.9)\n",
            "Requirement already satisfied: six>=1.5 in /usr/local/lib/python3.7/dist-packages (from python-dateutil>=2.7.3->pandas>=0.19.2->opendartreader) (1.15.0)\n",
            "Requirement already satisfied: chardet<4,>=3.0.2 in /usr/local/lib/python3.7/dist-packages (from requests>=2.3.0->opendartreader) (3.0.4)\n",
            "Requirement already satisfied: idna<3,>=2.5 in /usr/local/lib/python3.7/dist-packages (from requests>=2.3.0->opendartreader) (2.10)\n",
            "Requirement already satisfied: urllib3!=1.25.0,!=1.25.1,<1.26,>=1.21.1 in /usr/local/lib/python3.7/dist-packages (from requests>=2.3.0->opendartreader) (1.24.3)\n",
            "Requirement already satisfied: certifi>=2017.4.17 in /usr/local/lib/python3.7/dist-packages (from requests>=2.3.0->opendartreader) (2021.5.30)\n",
            "Requirement already satisfied: opendartreader in /usr/local/lib/python3.7/dist-packages (0.1.6)\n",
            "Requirement already satisfied: pandas>=0.19.2 in /usr/local/lib/python3.7/dist-packages (from opendartreader) (1.1.5)\n",
            "Requirement already satisfied: requests-file in /usr/local/lib/python3.7/dist-packages (from opendartreader) (1.5.1)\n",
            "Requirement already satisfied: lxml in /usr/local/lib/python3.7/dist-packages (from opendartreader) (4.2.6)\n",
            "Requirement already satisfied: requests>=2.3.0 in /usr/local/lib/python3.7/dist-packages (from opendartreader) (2.23.0)\n",
            "Requirement already satisfied: numpy>=1.15.4 in /usr/local/lib/python3.7/dist-packages (from pandas>=0.19.2->opendartreader) (1.19.5)\n",
            "Requirement already satisfied: python-dateutil>=2.7.3 in /usr/local/lib/python3.7/dist-packages (from pandas>=0.19.2->opendartreader) (2.8.2)\n",
            "Requirement already satisfied: pytz>=2017.2 in /usr/local/lib/python3.7/dist-packages (from pandas>=0.19.2->opendartreader) (2018.9)\n",
            "Requirement already satisfied: six>=1.5 in /usr/local/lib/python3.7/dist-packages (from python-dateutil>=2.7.3->pandas>=0.19.2->opendartreader) (1.15.0)\n",
            "Requirement already satisfied: certifi>=2017.4.17 in /usr/local/lib/python3.7/dist-packages (from requests>=2.3.0->opendartreader) (2021.5.30)\n",
            "Requirement already satisfied: chardet<4,>=3.0.2 in /usr/local/lib/python3.7/dist-packages (from requests>=2.3.0->opendartreader) (3.0.4)\n",
            "Requirement already satisfied: idna<3,>=2.5 in /usr/local/lib/python3.7/dist-packages (from requests>=2.3.0->opendartreader) (2.10)\n",
            "Requirement already satisfied: urllib3!=1.25.0,!=1.25.1,<1.26,>=1.21.1 in /usr/local/lib/python3.7/dist-packages (from requests>=2.3.0->opendartreader) (1.24.3)\n"
          ]
        }
      ]
    },
    {
      "cell_type": "code",
      "metadata": {
        "id": "_4FpGf_Rk9dz"
      },
      "source": [
        "import pandas as pd\n",
        "import os\n",
        "import matplotlib.pyplot as plt\n",
        "import seaborn as sns\n",
        "\n",
        "# 주식가격 로딩\n",
        "import FinanceDataReader as fdr\n",
        "\n",
        "# 재무재표 로딩\n",
        "import OpenDartReader"
      ],
      "execution_count": 120,
      "outputs": []
    },
    {
      "cell_type": "markdown",
      "metadata": {
        "id": "N-NzJPY5lkWK"
      },
      "source": [
        "## EDA"
      ]
    },
    {
      "cell_type": "markdown",
      "metadata": {
        "id": "V1_R6BDdmXQ9"
      },
      "source": [
        "### 주식 EDA"
      ]
    },
    {
      "cell_type": "code",
      "metadata": {
        "id": "lA_uIVTLnxvt"
      },
      "source": [
        "import datetime"
      ],
      "execution_count": 121,
      "outputs": []
    },
    {
      "cell_type": "code",
      "metadata": {
        "colab": {
          "base_uri": "https://localhost:8080/",
          "height": 447
        },
        "id": "Z2mu0zuflYS8",
        "outputId": "324f0eda-3a67-4635-99ea-b532e57413b5"
      },
      "source": [
        "start_date = '20180101'\n",
        "end_date = datetime.datetime.now().strftime(\"%Y%m%d\")\n",
        "sample_code = '005930'\n",
        "stock = fdr.DataReader( sample_code, start = start_date, end = end_date )\n",
        "stock"
      ],
      "execution_count": 122,
      "outputs": [
        {
          "output_type": "execute_result",
          "data": {
            "text/html": [
              "<div>\n",
              "<style scoped>\n",
              "    .dataframe tbody tr th:only-of-type {\n",
              "        vertical-align: middle;\n",
              "    }\n",
              "\n",
              "    .dataframe tbody tr th {\n",
              "        vertical-align: top;\n",
              "    }\n",
              "\n",
              "    .dataframe thead th {\n",
              "        text-align: right;\n",
              "    }\n",
              "</style>\n",
              "<table border=\"1\" class=\"dataframe\">\n",
              "  <thead>\n",
              "    <tr style=\"text-align: right;\">\n",
              "      <th></th>\n",
              "      <th>Open</th>\n",
              "      <th>High</th>\n",
              "      <th>Low</th>\n",
              "      <th>Close</th>\n",
              "      <th>Volume</th>\n",
              "      <th>Change</th>\n",
              "    </tr>\n",
              "    <tr>\n",
              "      <th>Date</th>\n",
              "      <th></th>\n",
              "      <th></th>\n",
              "      <th></th>\n",
              "      <th></th>\n",
              "      <th></th>\n",
              "      <th></th>\n",
              "    </tr>\n",
              "  </thead>\n",
              "  <tbody>\n",
              "    <tr>\n",
              "      <th>2018-01-02</th>\n",
              "      <td>51380</td>\n",
              "      <td>51400</td>\n",
              "      <td>50780</td>\n",
              "      <td>51020</td>\n",
              "      <td>169485</td>\n",
              "      <td>0.001177</td>\n",
              "    </tr>\n",
              "    <tr>\n",
              "      <th>2018-01-03</th>\n",
              "      <td>52540</td>\n",
              "      <td>52560</td>\n",
              "      <td>51420</td>\n",
              "      <td>51620</td>\n",
              "      <td>200270</td>\n",
              "      <td>0.011760</td>\n",
              "    </tr>\n",
              "    <tr>\n",
              "      <th>2018-01-04</th>\n",
              "      <td>52120</td>\n",
              "      <td>52180</td>\n",
              "      <td>50640</td>\n",
              "      <td>51080</td>\n",
              "      <td>233909</td>\n",
              "      <td>-0.010461</td>\n",
              "    </tr>\n",
              "    <tr>\n",
              "      <th>2018-01-05</th>\n",
              "      <td>51300</td>\n",
              "      <td>52120</td>\n",
              "      <td>51200</td>\n",
              "      <td>52120</td>\n",
              "      <td>189623</td>\n",
              "      <td>0.020360</td>\n",
              "    </tr>\n",
              "    <tr>\n",
              "      <th>2018-01-08</th>\n",
              "      <td>52400</td>\n",
              "      <td>52520</td>\n",
              "      <td>51500</td>\n",
              "      <td>52020</td>\n",
              "      <td>167673</td>\n",
              "      <td>-0.001919</td>\n",
              "    </tr>\n",
              "    <tr>\n",
              "      <th>...</th>\n",
              "      <td>...</td>\n",
              "      <td>...</td>\n",
              "      <td>...</td>\n",
              "      <td>...</td>\n",
              "      <td>...</td>\n",
              "      <td>...</td>\n",
              "    </tr>\n",
              "    <tr>\n",
              "      <th>2021-09-01</th>\n",
              "      <td>76700</td>\n",
              "      <td>77100</td>\n",
              "      <td>75900</td>\n",
              "      <td>76800</td>\n",
              "      <td>16114775</td>\n",
              "      <td>0.001304</td>\n",
              "    </tr>\n",
              "    <tr>\n",
              "      <th>2021-09-02</th>\n",
              "      <td>76800</td>\n",
              "      <td>76800</td>\n",
              "      <td>75700</td>\n",
              "      <td>76000</td>\n",
              "      <td>15347486</td>\n",
              "      <td>-0.010417</td>\n",
              "    </tr>\n",
              "    <tr>\n",
              "      <th>2021-09-03</th>\n",
              "      <td>76400</td>\n",
              "      <td>76700</td>\n",
              "      <td>76000</td>\n",
              "      <td>76600</td>\n",
              "      <td>12096419</td>\n",
              "      <td>0.007895</td>\n",
              "    </tr>\n",
              "    <tr>\n",
              "      <th>2021-09-06</th>\n",
              "      <td>76800</td>\n",
              "      <td>77600</td>\n",
              "      <td>76600</td>\n",
              "      <td>77300</td>\n",
              "      <td>12861180</td>\n",
              "      <td>0.009138</td>\n",
              "    </tr>\n",
              "    <tr>\n",
              "      <th>2021-09-07</th>\n",
              "      <td>77100</td>\n",
              "      <td>77100</td>\n",
              "      <td>76000</td>\n",
              "      <td>76100</td>\n",
              "      <td>5796105</td>\n",
              "      <td>-0.015524</td>\n",
              "    </tr>\n",
              "  </tbody>\n",
              "</table>\n",
              "<p>909 rows × 6 columns</p>\n",
              "</div>"
            ],
            "text/plain": [
              "             Open   High    Low  Close    Volume    Change\n",
              "Date                                                      \n",
              "2018-01-02  51380  51400  50780  51020    169485  0.001177\n",
              "2018-01-03  52540  52560  51420  51620    200270  0.011760\n",
              "2018-01-04  52120  52180  50640  51080    233909 -0.010461\n",
              "2018-01-05  51300  52120  51200  52120    189623  0.020360\n",
              "2018-01-08  52400  52520  51500  52020    167673 -0.001919\n",
              "...           ...    ...    ...    ...       ...       ...\n",
              "2021-09-01  76700  77100  75900  76800  16114775  0.001304\n",
              "2021-09-02  76800  76800  75700  76000  15347486 -0.010417\n",
              "2021-09-03  76400  76700  76000  76600  12096419  0.007895\n",
              "2021-09-06  76800  77600  76600  77300  12861180  0.009138\n",
              "2021-09-07  77100  77100  76000  76100   5796105 -0.015524\n",
              "\n",
              "[909 rows x 6 columns]"
            ]
          },
          "metadata": {},
          "execution_count": 122
        }
      ]
    },
    {
      "cell_type": "code",
      "metadata": {
        "colab": {
          "base_uri": "https://localhost:8080/",
          "height": 297
        },
        "id": "703chCkBmGlk",
        "outputId": "1f21515c-6b2a-46e7-ad87-f2fbe8c74c09"
      },
      "source": [
        "plt.figure(figsize=(8, 4))\n",
        "sns.lineplot(y=stock['Close'], x=stock.index)\n",
        "plt.xlabel('time')\n",
        "plt.ylabel('price')"
      ],
      "execution_count": 123,
      "outputs": [
        {
          "output_type": "execute_result",
          "data": {
            "text/plain": [
              "Text(0, 0.5, 'price')"
            ]
          },
          "metadata": {},
          "execution_count": 123
        },
        {
          "output_type": "display_data",
          "data": {
            "image/png": "[encoded data removed]",
            "text/plain": [
              "<Figure size 576x288 with 1 Axes>"
            ]
          },
          "metadata": {
            "needs_background": "light"
          }
        }
      ]
    },
    {
      "cell_type": "markdown",
      "metadata": {
        "id": "aZOKEKz3CM9L"
      },
      "source": [
        "### 거래량과 종가 간의 관계 확인"
      ]
    },
    {
      "cell_type": "code",
      "metadata": {
        "colab": {
          "base_uri": "https://localhost:8080/",
          "height": 234
        },
        "id": "GHX7OeyHCJKB",
        "outputId": "054ede3f-8ef4-4e86-d209-3141bbb67e1b"
      },
      "source": [
        "stock.head()"
      ],
      "execution_count": 124,
      "outputs": [
        {
          "output_type": "execute_result",
          "data": {
            "text/html": [
              "<div>\n",
              "<style scoped>\n",
              "    .dataframe tbody tr th:only-of-type {\n",
              "        vertical-align: middle;\n",
              "    }\n",
              "\n",
              "    .dataframe tbody tr th {\n",
              "        vertical-align: top;\n",
              "    }\n",
              "\n",
              "    .dataframe thead th {\n",
              "        text-align: right;\n",
              "    }\n",
              "</style>\n",
              "<table border=\"1\" class=\"dataframe\">\n",
              "  <thead>\n",
              "    <tr style=\"text-align: right;\">\n",
              "      <th></th>\n",
              "      <th>Open</th>\n",
              "      <th>High</th>\n",
              "      <th>Low</th>\n",
              "      <th>Close</th>\n",
              "      <th>Volume</th>\n",
              "      <th>Change</th>\n",
              "    </tr>\n",
              "    <tr>\n",
              "      <th>Date</th>\n",
              "      <th></th>\n",
              "      <th></th>\n",
              "      <th></th>\n",
              "      <th></th>\n",
              "      <th></th>\n",
              "      <th></th>\n",
              "    </tr>\n",
              "  </thead>\n",
              "  <tbody>\n",
              "    <tr>\n",
              "      <th>2018-01-02</th>\n",
              "      <td>51380</td>\n",
              "      <td>51400</td>\n",
              "      <td>50780</td>\n",
              "      <td>51020</td>\n",
              "      <td>169485</td>\n",
              "      <td>0.001177</td>\n",
              "    </tr>\n",
              "    <tr>\n",
              "      <th>2018-01-03</th>\n",
              "      <td>52540</td>\n",
              "      <td>52560</td>\n",
              "      <td>51420</td>\n",
              "      <td>51620</td>\n",
              "      <td>200270</td>\n",
              "      <td>0.011760</td>\n",
              "    </tr>\n",
              "    <tr>\n",
              "      <th>2018-01-04</th>\n",
              "      <td>52120</td>\n",
              "      <td>52180</td>\n",
              "      <td>50640</td>\n",
              "      <td>51080</td>\n",
              "      <td>233909</td>\n",
              "      <td>-0.010461</td>\n",
              "    </tr>\n",
              "    <tr>\n",
              "      <th>2018-01-05</th>\n",
              "      <td>51300</td>\n",
              "      <td>52120</td>\n",
              "      <td>51200</td>\n",
              "      <td>52120</td>\n",
              "      <td>189623</td>\n",
              "      <td>0.020360</td>\n",
              "    </tr>\n",
              "    <tr>\n",
              "      <th>2018-01-08</th>\n",
              "      <td>52400</td>\n",
              "      <td>52520</td>\n",
              "      <td>51500</td>\n",
              "      <td>52020</td>\n",
              "      <td>167673</td>\n",
              "      <td>-0.001919</td>\n",
              "    </tr>\n",
              "  </tbody>\n",
              "</table>\n",
              "</div>"
            ],
            "text/plain": [
              "             Open   High    Low  Close  Volume    Change\n",
              "Date                                                    \n",
              "2018-01-02  51380  51400  50780  51020  169485  0.001177\n",
              "2018-01-03  52540  52560  51420  51620  200270  0.011760\n",
              "2018-01-04  52120  52180  50640  51080  233909 -0.010461\n",
              "2018-01-05  51300  52120  51200  52120  189623  0.020360\n",
              "2018-01-08  52400  52520  51500  52020  167673 -0.001919"
            ]
          },
          "metadata": {},
          "execution_count": 124
        }
      ]
    },
    {
      "cell_type": "code",
      "metadata": {
        "colab": {
          "base_uri": "https://localhost:8080/",
          "height": 498
        },
        "id": "7Mczl1sXCntf",
        "outputId": "9a1c4a6f-3225-4001-f4f7-58ded0639033"
      },
      "source": [
        "plt.figure(figsize=(15, 4))\n",
        "sns.lineplot(y=stock['Close'], x=stock.index) # 시간에 따른 종가 변화\n",
        "plt.xlabel('time')\n",
        "plt.ylabel('price')\n",
        "\n",
        "plt.figure(figsize=(15, 4))\n",
        "sns.lineplot(y=stock['Volume'], x=stock.index)  # 시간에 따른 거래량 변화\n",
        "plt.xlabel('time')\n",
        "plt.ylabel('Volume')\n",
        "plt.show()"
      ],
      "execution_count": 125,
      "outputs": [
        {
          "output_type": "display_data",
          "data": {
            "image/png": "[encoded data removed]",
            "text/plain": [
              "<Figure size 1080x288 with 1 Axes>"
            ]
          },
          "metadata": {
            "needs_background": "light"
          }
        },
        {
          "output_type": "display_data",
          "data": {
            "image/png": "[encoded data removed]",
            "text/plain": [
              "<Figure size 1080x288 with 1 Axes>"
            ]
          },
          "metadata": {
            "needs_background": "light"
          }
        }
      ]
    },
    {
      "cell_type": "code",
      "metadata": {
        "id": "xFta4o_0px0B"
      },
      "source": [
        "from sklearn.preprocessing import MinMaxScaler\n",
        "\n",
        "df = pd.DataFrame(MinMaxScaler().fit_transform(stock))\n",
        "df.columns = list(stock.columns)"
      ],
      "execution_count": 126,
      "outputs": []
    },
    {
      "cell_type": "code",
      "metadata": {
        "colab": {
          "base_uri": "https://localhost:8080/",
          "height": 239
        },
        "id": "QywfX5MIoNpf",
        "outputId": "0fc8334e-88e9-46f2-b75b-b8add6ea6e59"
      },
      "source": [
        "plt.figure(figsize=(20, 5))\n",
        "sns.scatterplot(data=df, x='Close', y='Volume') # 상관성은 거의 없어보임..\n",
        "plt.xticks(rotation=45)\n",
        "plt.show()"
      ],
      "execution_count": 127,
      "outputs": [
        {
          "output_type": "display_data",
          "data": {
            "image/png": "[encoded data removed]",
            "text/plain": [
              "<Figure size 1440x360 with 1 Axes>"
            ]
          },
          "metadata": {
            "needs_background": "light"
          }
        }
      ]
    },
    {
      "cell_type": "markdown",
      "metadata": {
        "id": "rNKam6J2FutU"
      },
      "source": [
        "#### 2018년 거래량 증폭\n",
        "- https://www.yna.co.kr/view/AKR20180504037752008\n",
        "![image.png](data:image/png;base64,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)"
      ]
    },
    {
      "cell_type": "code",
      "metadata": {
        "colab": {
          "base_uri": "https://localhost:8080/",
          "height": 388
        },
        "id": "Ycw102NAEv_1",
        "outputId": "812d8d53-a0bf-4a7b-97ba-b957a48e8626"
      },
      "source": [
        "# 2018이후 거래량이 증가 \n",
        "stock[stock.index >= '2018-04-25'].head(10)"
      ],
      "execution_count": 128,
      "outputs": [
        {
          "output_type": "execute_result",
          "data": {
            "text/html": [
              "<div>\n",
              "<style scoped>\n",
              "    .dataframe tbody tr th:only-of-type {\n",
              "        vertical-align: middle;\n",
              "    }\n",
              "\n",
              "    .dataframe tbody tr th {\n",
              "        vertical-align: top;\n",
              "    }\n",
              "\n",
              "    .dataframe thead th {\n",
              "        text-align: right;\n",
              "    }\n",
              "</style>\n",
              "<table border=\"1\" class=\"dataframe\">\n",
              "  <thead>\n",
              "    <tr style=\"text-align: right;\">\n",
              "      <th></th>\n",
              "      <th>Open</th>\n",
              "      <th>High</th>\n",
              "      <th>Low</th>\n",
              "      <th>Close</th>\n",
              "      <th>Volume</th>\n",
              "      <th>Change</th>\n",
              "    </tr>\n",
              "    <tr>\n",
              "      <th>Date</th>\n",
              "      <th></th>\n",
              "      <th></th>\n",
              "      <th></th>\n",
              "      <th></th>\n",
              "      <th></th>\n",
              "      <th></th>\n",
              "    </tr>\n",
              "  </thead>\n",
              "  <tbody>\n",
              "    <tr>\n",
              "      <th>2018-04-25</th>\n",
              "      <td>49220</td>\n",
              "      <td>50500</td>\n",
              "      <td>49220</td>\n",
              "      <td>50400</td>\n",
              "      <td>332292</td>\n",
              "      <td>-0.001189</td>\n",
              "    </tr>\n",
              "    <tr>\n",
              "      <th>2018-04-26</th>\n",
              "      <td>50420</td>\n",
              "      <td>52160</td>\n",
              "      <td>50400</td>\n",
              "      <td>52140</td>\n",
              "      <td>360931</td>\n",
              "      <td>0.034524</td>\n",
              "    </tr>\n",
              "    <tr>\n",
              "      <th>2018-04-27</th>\n",
              "      <td>53380</td>\n",
              "      <td>53639</td>\n",
              "      <td>52440</td>\n",
              "      <td>53000</td>\n",
              "      <td>606216</td>\n",
              "      <td>0.016494</td>\n",
              "    </tr>\n",
              "    <tr>\n",
              "      <th>2018-04-30</th>\n",
              "      <td>0</td>\n",
              "      <td>0</td>\n",
              "      <td>0</td>\n",
              "      <td>53000</td>\n",
              "      <td>0</td>\n",
              "      <td>0.000000</td>\n",
              "    </tr>\n",
              "    <tr>\n",
              "      <th>2018-05-02</th>\n",
              "      <td>0</td>\n",
              "      <td>0</td>\n",
              "      <td>0</td>\n",
              "      <td>53000</td>\n",
              "      <td>0</td>\n",
              "      <td>0.000000</td>\n",
              "    </tr>\n",
              "    <tr>\n",
              "      <th>2018-05-03</th>\n",
              "      <td>0</td>\n",
              "      <td>0</td>\n",
              "      <td>0</td>\n",
              "      <td>53000</td>\n",
              "      <td>0</td>\n",
              "      <td>0.000000</td>\n",
              "    </tr>\n",
              "    <tr>\n",
              "      <th>2018-05-04</th>\n",
              "      <td>53000</td>\n",
              "      <td>53900</td>\n",
              "      <td>51800</td>\n",
              "      <td>51900</td>\n",
              "      <td>39565391</td>\n",
              "      <td>-0.020755</td>\n",
              "    </tr>\n",
              "    <tr>\n",
              "      <th>2018-05-08</th>\n",
              "      <td>52600</td>\n",
              "      <td>53200</td>\n",
              "      <td>51900</td>\n",
              "      <td>52600</td>\n",
              "      <td>23104720</td>\n",
              "      <td>0.013487</td>\n",
              "    </tr>\n",
              "    <tr>\n",
              "      <th>2018-05-09</th>\n",
              "      <td>52600</td>\n",
              "      <td>52800</td>\n",
              "      <td>50900</td>\n",
              "      <td>50900</td>\n",
              "      <td>16128305</td>\n",
              "      <td>-0.032319</td>\n",
              "    </tr>\n",
              "    <tr>\n",
              "      <th>2018-05-10</th>\n",
              "      <td>51700</td>\n",
              "      <td>51700</td>\n",
              "      <td>50600</td>\n",
              "      <td>51600</td>\n",
              "      <td>13905263</td>\n",
              "      <td>0.013752</td>\n",
              "    </tr>\n",
              "  </tbody>\n",
              "</table>\n",
              "</div>"
            ],
            "text/plain": [
              "             Open   High    Low  Close    Volume    Change\n",
              "Date                                                      \n",
              "2018-04-25  49220  50500  49220  50400    332292 -0.001189\n",
              "2018-04-26  50420  52160  50400  52140    360931  0.034524\n",
              "2018-04-27  53380  53639  52440  53000    606216  0.016494\n",
              "2018-04-30      0      0      0  53000         0  0.000000\n",
              "2018-05-02      0      0      0  53000         0  0.000000\n",
              "2018-05-03      0      0      0  53000         0  0.000000\n",
              "2018-05-04  53000  53900  51800  51900  39565391 -0.020755\n",
              "2018-05-08  52600  53200  51900  52600  23104720  0.013487\n",
              "2018-05-09  52600  52800  50900  50900  16128305 -0.032319\n",
              "2018-05-10  51700  51700  50600  51600  13905263  0.013752"
            ]
          },
          "metadata": {},
          "execution_count": 128
        }
      ]
    },
    {
      "cell_type": "markdown",
      "metadata": {
        "id": "etFTEWHAGZHs"
      },
      "source": [
        " - 거래량의 차이가 있어 분석에 영향을 줄수 있으므로 분석기간을 2018년 5월 4일 이후 데이터를 사용하여 분석을 진행\n",
        "\n",
        " - 두 연속형변수간의 상관성을 파악하기 위해서 피어슨 상관계수를 활용"
      ]
    },
    {
      "cell_type": "code",
      "metadata": {
        "id": "xLPjdze7FrqT"
      },
      "source": [
        "stock_re = stock[stock.index >= '2018-05-04']"
      ],
      "execution_count": 129,
      "outputs": []
    },
    {
      "cell_type": "code",
      "metadata": {
        "colab": {
          "base_uri": "https://localhost:8080/"
        },
        "id": "kfT-mbPYGzYa",
        "outputId": "29659a8d-669a-443d-fe32-acd530d9465e"
      },
      "source": [
        "stock_re.corr()['Close'].sort_values(ascending = False)[1:]"
      ],
      "execution_count": 130,
      "outputs": [
        {
          "output_type": "execute_result",
          "data": {
            "text/plain": [
              "High      0.999289\n",
              "Low       0.999214\n",
              "Open      0.998420\n",
              "Volume    0.367400\n",
              "Change    0.044145\n",
              "Name: Close, dtype: float64"
            ]
          },
          "metadata": {},
          "execution_count": 130
        }
      ]
    },
    {
      "cell_type": "markdown",
      "metadata": {
        "id": "9CKdew_tHnsv"
      },
      "source": [
        "- Close - Volume 의 피어슨 상관계수는 0.374137 로 약한 양의 상관성이 있는 것으로 보인다. 하지만 이것만으로 Close를 예측하는 것은 무리가 있어 보인다."
      ]
    },
    {
      "cell_type": "markdown",
      "metadata": {
        "id": "6_11PeyPj6Uy"
      },
      "source": [
        "#### 주식 가격의 변동율을 통해서 가격등락 예측\n",
        "- 시계열 정상성을 성립을 위해서"
      ]
    },
    {
      "cell_type": "code",
      "metadata": {
        "colab": {
          "base_uri": "https://localhost:8080/",
          "height": 247
        },
        "id": "XXyj3iook281",
        "outputId": "22ae760b-79ea-42a3-f39f-291a90a8eaed"
      },
      "source": [
        "plt.figure(figsize=(15, 4))\n",
        "sns.lineplot(y=stock_re['Change'], x=stock_re.index)\n",
        "plt.xlabel('time')\n",
        "plt.ylabel('Change')\n",
        "plt.show()"
      ],
      "execution_count": 131,
      "outputs": [
        {
          "output_type": "display_data",
          "data": {
            "image/png": "[encoded data removed]",
            "text/plain": [
              "<Figure size 1080x288 with 1 Axes>"
            ]
          },
          "metadata": {
            "needs_background": "light"
          }
        }
      ]
    },
    {
      "cell_type": "code",
      "metadata": {
        "id": "B_W4fsdtka5-"
      },
      "source": [
        "import numpy as np"
      ],
      "execution_count": 132,
      "outputs": []
    },
    {
      "cell_type": "code",
      "metadata": {
        "colab": {
          "base_uri": "https://localhost:8080/"
        },
        "id": "9WJ0GrI6rEFp",
        "outputId": "fc176297-6df8-4847-de6b-ac63f4d1c953"
      },
      "source": [
        "stock_re['Change'].quantile(0.75)"
      ],
      "execution_count": 133,
      "outputs": [
        {
          "output_type": "execute_result",
          "data": {
            "text/plain": [
              "0.009977827050997812"
            ]
          },
          "metadata": {},
          "execution_count": 133
        }
      ]
    },
    {
      "cell_type": "code",
      "metadata": {
        "colab": {
          "base_uri": "https://localhost:8080/"
        },
        "id": "XMLOPKszibU7",
        "outputId": "467e0ee1-bfb6-4d86-b356-efe474376201"
      },
      "source": [
        "stock_re['UD'] = np.where(stock_re['Change'] > stock_re['Change'].quantile(0.75), 1, np.where(stock_re['Change'] < stock_re['Change'].quantile(0.25), -1, 0))"
      ],
      "execution_count": 134,
      "outputs": [
        {
          "output_type": "stream",
          "name": "stderr",
          "text": [
            "/usr/local/lib/python3.7/dist-packages/ipykernel_launcher.py:1: SettingWithCopyWarning: \n",
            "A value is trying to be set on a copy of a slice from a DataFrame.\n",
            "Try using .loc[row_indexer,col_indexer] = value instead\n",
            "\n",
            "See the caveats in the documentation: https://pandas.pydata.org/pandas-docs/stable/user_guide/indexing.html#returning-a-view-versus-a-copy\n",
            "  \"\"\"Entry point for launching an IPython kernel.\n"
          ]
        }
      ]
    },
    {
      "cell_type": "code",
      "metadata": {
        "colab": {
          "base_uri": "https://localhost:8080/"
        },
        "id": "NXnOsgvvibSI",
        "outputId": "3bf702b7-cd0c-486c-e5d1-f162b5e90c98"
      },
      "source": [
        "stock_re.UD.value_counts()"
      ],
      "execution_count": 135,
      "outputs": [
        {
          "output_type": "execute_result",
          "data": {
            "text/plain": [
              " 0    413\n",
              " 1    206\n",
              "-1    206\n",
              "Name: UD, dtype: int64"
            ]
          },
          "metadata": {},
          "execution_count": 135
        }
      ]
    },
    {
      "cell_type": "code",
      "metadata": {
        "colab": {
          "base_uri": "https://localhost:8080/",
          "height": 234
        },
        "id": "lTqtejL4mazA",
        "outputId": "d1a0e849-68ac-4e5c-852c-2530ebf4ac1f"
      },
      "source": [
        "stock_re.head()"
      ],
      "execution_count": 136,
      "outputs": [
        {
          "output_type": "execute_result",
          "data": {
            "text/html": [
              "<div>\n",
              "<style scoped>\n",
              "    .dataframe tbody tr th:only-of-type {\n",
              "        vertical-align: middle;\n",
              "    }\n",
              "\n",
              "    .dataframe tbody tr th {\n",
              "        vertical-align: top;\n",
              "    }\n",
              "\n",
              "    .dataframe thead th {\n",
              "        text-align: right;\n",
              "    }\n",
              "</style>\n",
              "<table border=\"1\" class=\"dataframe\">\n",
              "  <thead>\n",
              "    <tr style=\"text-align: right;\">\n",
              "      <th></th>\n",
              "      <th>Open</th>\n",
              "      <th>High</th>\n",
              "      <th>Low</th>\n",
              "      <th>Close</th>\n",
              "      <th>Volume</th>\n",
              "      <th>Change</th>\n",
              "      <th>UD</th>\n",
              "    </tr>\n",
              "    <tr>\n",
              "      <th>Date</th>\n",
              "      <th></th>\n",
              "      <th></th>\n",
              "      <th></th>\n",
              "      <th></th>\n",
              "      <th></th>\n",
              "      <th></th>\n",
              "      <th></th>\n",
              "    </tr>\n",
              "  </thead>\n",
              "  <tbody>\n",
              "    <tr>\n",
              "      <th>2018-05-04</th>\n",
              "      <td>53000</td>\n",
              "      <td>53900</td>\n",
              "      <td>51800</td>\n",
              "      <td>51900</td>\n",
              "      <td>39565391</td>\n",
              "      <td>-0.020755</td>\n",
              "      <td>-1</td>\n",
              "    </tr>\n",
              "    <tr>\n",
              "      <th>2018-05-08</th>\n",
              "      <td>52600</td>\n",
              "      <td>53200</td>\n",
              "      <td>51900</td>\n",
              "      <td>52600</td>\n",
              "      <td>23104720</td>\n",
              "      <td>0.013487</td>\n",
              "      <td>1</td>\n",
              "    </tr>\n",
              "    <tr>\n",
              "      <th>2018-05-09</th>\n",
              "      <td>52600</td>\n",
              "      <td>52800</td>\n",
              "      <td>50900</td>\n",
              "      <td>50900</td>\n",
              "      <td>16128305</td>\n",
              "      <td>-0.032319</td>\n",
              "      <td>-1</td>\n",
              "    </tr>\n",
              "    <tr>\n",
              "      <th>2018-05-10</th>\n",
              "      <td>51700</td>\n",
              "      <td>51700</td>\n",
              "      <td>50600</td>\n",
              "      <td>51600</td>\n",
              "      <td>13905263</td>\n",
              "      <td>0.013752</td>\n",
              "      <td>1</td>\n",
              "    </tr>\n",
              "    <tr>\n",
              "      <th>2018-05-11</th>\n",
              "      <td>52000</td>\n",
              "      <td>52200</td>\n",
              "      <td>51200</td>\n",
              "      <td>51300</td>\n",
              "      <td>10314997</td>\n",
              "      <td>-0.005814</td>\n",
              "      <td>0</td>\n",
              "    </tr>\n",
              "  </tbody>\n",
              "</table>\n",
              "</div>"
            ],
            "text/plain": [
              "             Open   High    Low  Close    Volume    Change  UD\n",
              "Date                                                          \n",
              "2018-05-04  53000  53900  51800  51900  39565391 -0.020755  -1\n",
              "2018-05-08  52600  53200  51900  52600  23104720  0.013487   1\n",
              "2018-05-09  52600  52800  50900  50900  16128305 -0.032319  -1\n",
              "2018-05-10  51700  51700  50600  51600  13905263  0.013752   1\n",
              "2018-05-11  52000  52200  51200  51300  10314997 -0.005814   0"
            ]
          },
          "metadata": {},
          "execution_count": 136
        }
      ]
    },
    {
      "cell_type": "markdown",
      "metadata": {
        "id": "Ea0u-a30OZBu"
      },
      "source": [
        "## LSTM - Classification"
      ]
    },
    {
      "cell_type": "markdown",
      "metadata": {
        "id": "0t9r661wmN4B"
      },
      "source": [
        "### 데이터 전처리"
      ]
    },
    {
      "cell_type": "code",
      "metadata": {
        "colab": {
          "base_uri": "https://localhost:8080/"
        },
        "id": "O_3T6GjHmNtI",
        "outputId": "19c3a074-64ef-4f67-995c-542fe69c8fb2"
      },
      "source": [
        "from sklearn.preprocessing import MinMaxScaler\n",
        "\n",
        "scaler = MinMaxScaler()\n",
        "# 스케일을 적용할 column을 정의합니다.\n",
        "scale_cols = ['Open', 'High', 'Low', 'Close', 'Volume', 'Change', 'UD']\n",
        "# 스케일 후 columns\n",
        "scaled = scaler.fit_transform(stock_re[scale_cols])\n",
        "scaled"
      ],
      "execution_count": 137,
      "outputs": [
        {
          "output_type": "execute_result",
          "data": {
            "text/plain": [
              "array([[0.29422895, 0.27533784, 0.28395062, ..., 0.40930157, 0.25579124,\n",
              "        0.        ],\n",
              "       [0.28666036, 0.26351351, 0.28584995, ..., 0.21767481, 0.45890951,\n",
              "        1.        ],\n",
              "       [0.28666036, 0.25675676, 0.2668566 , ..., 0.13645893, 0.18719175,\n",
              "        0.        ],\n",
              "       ...,\n",
              "       [0.73699149, 0.66047297, 0.74358974, ..., 0.08952177, 0.42573443,\n",
              "        0.5       ],\n",
              "       [0.74456008, 0.67567568, 0.75498575, ..., 0.09842472, 0.43311149,\n",
              "        0.5       ],\n",
              "       [0.75023652, 0.66722973, 0.74358974, ..., 0.01617671, 0.28681927,\n",
              "        0.        ]])"
            ]
          },
          "metadata": {},
          "execution_count": 137
        }
      ]
    },
    {
      "cell_type": "code",
      "metadata": {
        "id": "zTfu7hGImiMY"
      },
      "source": [
        "df = pd.DataFrame(scaled, columns=scale_cols)"
      ],
      "execution_count": 138,
      "outputs": []
    },
    {
      "cell_type": "code",
      "metadata": {
        "colab": {
          "base_uri": "https://localhost:8080/",
          "height": 203
        },
        "id": "7nGoQEg1mkrm",
        "outputId": "82ef1687-afbf-4551-80c4-a885c07bd26f"
      },
      "source": [
        "df.head()"
      ],
      "execution_count": 139,
      "outputs": [
        {
          "output_type": "execute_result",
          "data": {
            "text/html": [
              "<div>\n",
              "<style scoped>\n",
              "    .dataframe tbody tr th:only-of-type {\n",
              "        vertical-align: middle;\n",
              "    }\n",
              "\n",
              "    .dataframe tbody tr th {\n",
              "        vertical-align: top;\n",
              "    }\n",
              "\n",
              "    .dataframe thead th {\n",
              "        text-align: right;\n",
              "    }\n",
              "</style>\n",
              "<table border=\"1\" class=\"dataframe\">\n",
              "  <thead>\n",
              "    <tr style=\"text-align: right;\">\n",
              "      <th></th>\n",
              "      <th>Open</th>\n",
              "      <th>High</th>\n",
              "      <th>Low</th>\n",
              "      <th>Close</th>\n",
              "      <th>Volume</th>\n",
              "      <th>Change</th>\n",
              "      <th>UD</th>\n",
              "    </tr>\n",
              "  </thead>\n",
              "  <tbody>\n",
              "    <tr>\n",
              "      <th>0</th>\n",
              "      <td>0.294229</td>\n",
              "      <td>0.275338</td>\n",
              "      <td>0.283951</td>\n",
              "      <td>0.269841</td>\n",
              "      <td>0.409302</td>\n",
              "      <td>0.255791</td>\n",
              "      <td>0.0</td>\n",
              "    </tr>\n",
              "    <tr>\n",
              "      <th>1</th>\n",
              "      <td>0.286660</td>\n",
              "      <td>0.263514</td>\n",
              "      <td>0.285850</td>\n",
              "      <td>0.282913</td>\n",
              "      <td>0.217675</td>\n",
              "      <td>0.458910</td>\n",
              "      <td>1.0</td>\n",
              "    </tr>\n",
              "    <tr>\n",
              "      <th>2</th>\n",
              "      <td>0.286660</td>\n",
              "      <td>0.256757</td>\n",
              "      <td>0.266857</td>\n",
              "      <td>0.251167</td>\n",
              "      <td>0.136459</td>\n",
              "      <td>0.187192</td>\n",
              "      <td>0.0</td>\n",
              "    </tr>\n",
              "    <tr>\n",
              "      <th>3</th>\n",
              "      <td>0.269631</td>\n",
              "      <td>0.238176</td>\n",
              "      <td>0.261159</td>\n",
              "      <td>0.264239</td>\n",
              "      <td>0.110579</td>\n",
              "      <td>0.460481</td>\n",
              "      <td>1.0</td>\n",
              "    </tr>\n",
              "    <tr>\n",
              "      <th>4</th>\n",
              "      <td>0.275307</td>\n",
              "      <td>0.246622</td>\n",
              "      <td>0.272555</td>\n",
              "      <td>0.258637</td>\n",
              "      <td>0.068783</td>\n",
              "      <td>0.344417</td>\n",
              "      <td>0.5</td>\n",
              "    </tr>\n",
              "  </tbody>\n",
              "</table>\n",
              "</div>"
            ],
            "text/plain": [
              "       Open      High       Low     Close    Volume    Change   UD\n",
              "0  0.294229  0.275338  0.283951  0.269841  0.409302  0.255791  0.0\n",
              "1  0.286660  0.263514  0.285850  0.282913  0.217675  0.458910  1.0\n",
              "2  0.286660  0.256757  0.266857  0.251167  0.136459  0.187192  0.0\n",
              "3  0.269631  0.238176  0.261159  0.264239  0.110579  0.460481  1.0\n",
              "4  0.275307  0.246622  0.272555  0.258637  0.068783  0.344417  0.5"
            ]
          },
          "metadata": {},
          "execution_count": 139
        }
      ]
    },
    {
      "cell_type": "markdown",
      "metadata": {
        "id": "Om0kYeDZmH1H"
      },
      "source": [
        "### train / test 분할"
      ]
    },
    {
      "cell_type": "code",
      "metadata": {
        "id": "IarjqGUOmHeM"
      },
      "source": [
        "from sklearn.model_selection import train_test_split"
      ],
      "execution_count": 140,
      "outputs": []
    },
    {
      "cell_type": "code",
      "metadata": {
        "id": "RlhIVwKzmHbP"
      },
      "source": [
        "x_train, x_test, y_train, y_test = train_test_split(df.drop('UD', 1), df['UD'], test_size=0.2, random_state=0, shuffle=False)"
      ],
      "execution_count": 141,
      "outputs": []
    },
    {
      "cell_type": "code",
      "metadata": {
        "colab": {
          "base_uri": "https://localhost:8080/"
        },
        "id": "DQP1zwVgmHWr",
        "outputId": "8355bbf8-87e3-44ee-8f0b-1398b85fb1a5"
      },
      "source": [
        "x_train.shape, y_train.shape"
      ],
      "execution_count": 142,
      "outputs": [
        {
          "output_type": "execute_result",
          "data": {
            "text/plain": [
              "((660, 6), (660,))"
            ]
          },
          "metadata": {},
          "execution_count": 142
        }
      ]
    },
    {
      "cell_type": "code",
      "metadata": {
        "colab": {
          "base_uri": "https://localhost:8080/"
        },
        "id": "qvuXqfN2mHR8",
        "outputId": "47b4b540-ec38-441f-cab6-574150441547"
      },
      "source": [
        "x_test.shape, y_test.shape"
      ],
      "execution_count": 143,
      "outputs": [
        {
          "output_type": "execute_result",
          "data": {
            "text/plain": [
              "((165, 6), (165,))"
            ]
          },
          "metadata": {},
          "execution_count": 143
        }
      ]
    },
    {
      "cell_type": "code",
      "metadata": {
        "id": "QhK-O9JRFq_G"
      },
      "source": [
        "import tensorflow as tf"
      ],
      "execution_count": 144,
      "outputs": []
    },
    {
      "cell_type": "code",
      "metadata": {
        "id": "O9FjqdO8Fs0_"
      },
      "source": [
        "def windowed_dataset(series, window_size, batch_size, shuffle):\n",
        "    series = tf.expand_dims(series, axis=-1)\n",
        "    ds = tf.data.Dataset.from_tensor_slices(series)\n",
        "    ds = ds.window(window_size + 1, shift=1, drop_remainder=True)\n",
        "    ds = ds.flat_map(lambda w: w.batch(window_size + 1))\n",
        "    if shuffle:\n",
        "        ds = ds.shuffle(1000)\n",
        "    ds = ds.map(lambda w: (w[:-1], w[-1]))\n",
        "    return ds.batch(batch_size).prefetch(1)\n",
        "\n",
        "WINDOW_SIZE=20\n",
        "BATCH_SIZE=32"
      ],
      "execution_count": 145,
      "outputs": []
    },
    {
      "cell_type": "code",
      "metadata": {
        "id": "xpUE-eYtFxqm"
      },
      "source": [
        "# trian_data는 학습용 데이터셋, test_data는 검증용 데이터셋 입니다.\n",
        "train_data = windowed_dataset(y_train, WINDOW_SIZE, BATCH_SIZE, True)\n",
        "test_data = windowed_dataset(y_test, WINDOW_SIZE, BATCH_SIZE, False)"
      ],
      "execution_count": 146,
      "outputs": []
    },
    {
      "cell_type": "code",
      "metadata": {
        "colab": {
          "base_uri": "https://localhost:8080/"
        },
        "id": "soZnh27vFzob",
        "outputId": "98ad1ab7-bb10-4168-e492-161e2f97aeed"
      },
      "source": [
        "# 아래의 코드로 데이터셋의 구성을 확인해 볼 수 있습니다.\n",
        "# X: (batch_size, window_size, feature)\n",
        "# Y: (batch_size, feature)\n",
        "for data in train_data.take(1):\n",
        "    print(f'데이터셋(X) 구성(batch_size, window_size, feature갯수): {data[0].shape}')\n",
        "    print(f'데이터셋(Y) 구성(batch_size, feature갯수): {data[1].shape}')"
      ],
      "execution_count": 147,
      "outputs": [
        {
          "output_type": "stream",
          "name": "stdout",
          "text": [
            "데이터셋(X) 구성(batch_size, window_size, feature갯수): (32, 20, 1)\n",
            "데이터셋(Y) 구성(batch_size, feature갯수): (32, 1)\n"
          ]
        }
      ]
    },
    {
      "cell_type": "markdown",
      "metadata": {
        "id": "XRARD6S-l1wa"
      },
      "source": [
        "#### 모델"
      ]
    },
    {
      "cell_type": "code",
      "metadata": {
        "id": "Q9-vjobFlytg"
      },
      "source": [
        "from tensorflow.keras.models import Sequential\n",
        "from tensorflow.keras.layers import Dense, LSTM, Conv1D, Lambda\n",
        "from tensorflow.keras.losses import Huber\n",
        "from tensorflow.keras.optimizers import Adam\n",
        "from tensorflow.keras.callbacks import EarlyStopping, ModelCheckpoint\n",
        "\n",
        "\n",
        "model = model = Sequential([\n",
        "    # 1차원 feature map 생성\n",
        "    Conv1D(filters=32, kernel_size=5,\n",
        "           padding=\"causal\",\n",
        "           activation=\"relu\",\n",
        "           input_shape=[WINDOW_SIZE, 1]),\n",
        "    # LSTM\n",
        "    LSTM(16, activation='tanh'),\n",
        "    Dense(16, activation='softmax'),\n",
        "    Dense(1),\n",
        "])\n",
        "\n",
        "# model.add(LSTM(64,\n",
        "#                input_shape = (None, 1),\n",
        "#                return_sequences= True))\n",
        "# model.add(LSTM(64,\n",
        "#                input_shape = (None, 1),\n",
        "#                return_sequences = False))\n",
        "# model.add(Dense(32, activation = 'tanh'))\n",
        "# model.add(Dense(1, activation = 'softmax'))\n"
      ],
      "execution_count": 148,
      "outputs": []
    },
    {
      "cell_type": "code",
      "metadata": {
        "colab": {
          "base_uri": "https://localhost:8080/"
        },
        "id": "9P3eqRejEy4y",
        "outputId": "650c00f3-b2c7-4f75-eb61-e896bddbe7c4"
      },
      "source": [
        "model.summary()"
      ],
      "execution_count": 149,
      "outputs": [
        {
          "output_type": "stream",
          "name": "stdout",
          "text": [
            "Model: \"sequential_6\"\n",
            "_________________________________________________________________\n",
            "Layer (type)                 Output Shape              Param #   \n",
            "=================================================================\n",
            "conv1d_3 (Conv1D)            (None, 20, 32)            192       \n",
            "_________________________________________________________________\n",
            "lstm_7 (LSTM)                (None, 16)                3136      \n",
            "_________________________________________________________________\n",
            "dense_10 (Dense)             (None, 16)                272       \n",
            "_________________________________________________________________\n",
            "dense_11 (Dense)             (None, 1)                 17        \n",
            "=================================================================\n",
            "Total params: 3,617\n",
            "Trainable params: 3,617\n",
            "Non-trainable params: 0\n",
            "_________________________________________________________________\n"
          ]
        }
      ]
    },
    {
      "cell_type": "code",
      "metadata": {
        "id": "Mmzbi_1rlyrD"
      },
      "source": [
        "optimizer = Adam(0.0005)\n",
        "model.compile(loss='categorical_crossentropy', optimizer=optimizer, metrics=['accuracy'])"
      ],
      "execution_count": 150,
      "outputs": []
    },
    {
      "cell_type": "code",
      "metadata": {
        "id": "SuLiQcvFlyoT"
      },
      "source": [
        "# earlystopping은 10번 epoch동안 개선이 없다면 학습을 멈춥니다.\n",
        "earlystopping = EarlyStopping(monitor = 'val_accuracy',\n",
        "                              mode = 'max',\n",
        "                              patience = 50,\n",
        "                              verbose = 1)\n",
        "# 체크포인터도 생성합니다.\n",
        "checkpoint = ModelCheckpoint('best.h5',\n",
        "                             monitor='val_accuracy',\n",
        "                             mode = 'max',\n",
        "                             save_best_only = True, \n",
        "                             verbose=1)"
      ],
      "execution_count": 151,
      "outputs": []
    },
    {
      "cell_type": "code",
      "metadata": {
        "colab": {
          "base_uri": "https://localhost:8080/"
        },
        "id": "urGgEaR0lyhj",
        "outputId": "559cb736-efca-46a8-d57e-d460380a448f"
      },
      "source": [
        "history = model.fit(train_data,\n",
        "                    epochs=1000, \n",
        "                    batch_size = 1,\n",
        "                    validation_data=(test_data), \n",
        "                    callbacks=[checkpoint, earlystopping],\n",
        "                    verbose=1)"
      ],
      "execution_count": 152,
      "outputs": [
        {
          "output_type": "stream",
          "name": "stdout",
          "text": [
            "Epoch 1/1000\n",
            "20/20 [==============================] - 3s 42ms/step - loss: 6.0443e-08 - accuracy: 0.2547 - val_loss: 5.6316e-08 - val_accuracy: 0.1931\n",
            "\n",
            "Epoch 00001: val_accuracy improved from -inf to 0.19310, saving model to best.h5\n",
            "Epoch 2/1000\n",
            "20/20 [==============================] - 0s 12ms/step - loss: 6.0443e-08 - accuracy: 0.2547 - val_loss: 5.6316e-08 - val_accuracy: 0.1931\n",
            "\n",
            "Epoch 00002: val_accuracy did not improve from 0.19310\n",
            "Epoch 3/1000\n",
            "20/20 [==============================] - 0s 12ms/step - loss: 6.0443e-08 - accuracy: 0.2547 - val_loss: 5.6316e-08 - val_accuracy: 0.1931\n",
            "\n",
            "Epoch 00003: val_accuracy did not improve from 0.19310\n",
            "Epoch 4/1000\n",
            "20/20 [==============================] - 0s 12ms/step - loss: 6.0443e-08 - accuracy: 0.2547 - val_loss: 5.6316e-08 - val_accuracy: 0.1931\n",
            "\n",
            "Epoch 00004: val_accuracy did not improve from 0.19310\n",
            "Epoch 5/1000\n",
            "20/20 [==============================] - 0s 12ms/step - loss: 6.0443e-08 - accuracy: 0.2547 - val_loss: 5.6316e-08 - val_accuracy: 0.1931\n",
            "\n",
            "Epoch 00005: val_accuracy did not improve from 0.19310\n",
            "Epoch 6/1000\n",
            "20/20 [==============================] - 0s 12ms/step - loss: 6.0443e-08 - accuracy: 0.2547 - val_loss: 5.6316e-08 - val_accuracy: 0.1931\n",
            "\n",
            "Epoch 00006: val_accuracy did not improve from 0.19310\n",
            "Epoch 7/1000\n",
            "20/20 [==============================] - 0s 12ms/step - loss: 6.0443e-08 - accuracy: 0.2547 - val_loss: 5.6316e-08 - val_accuracy: 0.1931\n",
            "\n",
            "Epoch 00007: val_accuracy did not improve from 0.19310\n",
            "Epoch 8/1000\n",
            "20/20 [==============================] - 0s 12ms/step - loss: 6.0443e-08 - accuracy: 0.2547 - val_loss: 5.6316e-08 - val_accuracy: 0.1931\n",
            "\n",
            "Epoch 00008: val_accuracy did not improve from 0.19310\n",
            "Epoch 9/1000\n",
            "20/20 [==============================] - 0s 12ms/step - loss: 6.0443e-08 - accuracy: 0.2547 - val_loss: 5.6316e-08 - val_accuracy: 0.1931\n",
            "\n",
            "Epoch 00009: val_accuracy did not improve from 0.19310\n",
            "Epoch 10/1000\n",
            "20/20 [==============================] - 0s 12ms/step - loss: 6.0443e-08 - accuracy: 0.2547 - val_loss: 5.6316e-08 - val_accuracy: 0.1931\n",
            "\n",
            "Epoch 00010: val_accuracy did not improve from 0.19310\n",
            "Epoch 11/1000\n",
            "20/20 [==============================] - 0s 13ms/step - loss: 6.0443e-08 - accuracy: 0.2547 - val_loss: 5.6316e-08 - val_accuracy: 0.1931\n",
            "\n",
            "Epoch 00011: val_accuracy did not improve from 0.19310\n",
            "Epoch 12/1000\n",
            "20/20 [==============================] - 0s 12ms/step - loss: 6.0443e-08 - accuracy: 0.2547 - val_loss: 5.6316e-08 - val_accuracy: 0.1931\n",
            "\n",
            "Epoch 00012: val_accuracy did not improve from 0.19310\n",
            "Epoch 13/1000\n",
            "20/20 [==============================] - 0s 11ms/step - loss: 6.0443e-08 - accuracy: 0.2547 - val_loss: 5.6316e-08 - val_accuracy: 0.1931\n",
            "\n",
            "Epoch 00013: val_accuracy did not improve from 0.19310\n",
            "Epoch 14/1000\n",
            "20/20 [==============================] - 0s 13ms/step - loss: 6.0443e-08 - accuracy: 0.2547 - val_loss: 5.6316e-08 - val_accuracy: 0.1931\n",
            "\n",
            "Epoch 00014: val_accuracy did not improve from 0.19310\n",
            "Epoch 15/1000\n",
            "20/20 [==============================] - 0s 12ms/step - loss: 6.0443e-08 - accuracy: 0.2547 - val_loss: 5.6316e-08 - val_accuracy: 0.1931\n",
            "\n",
            "Epoch 00015: val_accuracy did not improve from 0.19310\n",
            "Epoch 16/1000\n",
            "20/20 [==============================] - 0s 11ms/step - loss: 6.0443e-08 - accuracy: 0.2547 - val_loss: 5.6316e-08 - val_accuracy: 0.1931\n",
            "\n",
            "Epoch 00016: val_accuracy did not improve from 0.19310\n",
            "Epoch 17/1000\n",
            "20/20 [==============================] - 0s 12ms/step - loss: 6.0443e-08 - accuracy: 0.2547 - val_loss: 5.6316e-08 - val_accuracy: 0.1931\n",
            "\n",
            "Epoch 00017: val_accuracy did not improve from 0.19310\n",
            "Epoch 18/1000\n",
            "20/20 [==============================] - 0s 12ms/step - loss: 6.0443e-08 - accuracy: 0.2547 - val_loss: 5.6316e-08 - val_accuracy: 0.1931\n",
            "\n",
            "Epoch 00018: val_accuracy did not improve from 0.19310\n",
            "Epoch 19/1000\n",
            "20/20 [==============================] - 0s 13ms/step - loss: 6.0443e-08 - accuracy: 0.2547 - val_loss: 5.6316e-08 - val_accuracy: 0.1931\n",
            "\n",
            "Epoch 00019: val_accuracy did not improve from 0.19310\n",
            "Epoch 20/1000\n",
            "20/20 [==============================] - 0s 11ms/step - loss: 6.0443e-08 - accuracy: 0.2547 - val_loss: 5.6316e-08 - val_accuracy: 0.1931\n",
            "\n",
            "Epoch 00020: val_accuracy did not improve from 0.19310\n",
            "Epoch 21/1000\n",
            "20/20 [==============================] - 0s 13ms/step - loss: 6.0443e-08 - accuracy: 0.2547 - val_loss: 5.6316e-08 - val_accuracy: 0.1931\n",
            "\n",
            "Epoch 00021: val_accuracy did not improve from 0.19310\n",
            "Epoch 22/1000\n",
            "20/20 [==============================] - 0s 13ms/step - loss: 6.0443e-08 - accuracy: 0.2547 - val_loss: 5.6316e-08 - val_accuracy: 0.1931\n",
            "\n",
            "Epoch 00022: val_accuracy did not improve from 0.19310\n",
            "Epoch 23/1000\n",
            "20/20 [==============================] - 0s 11ms/step - loss: 6.0443e-08 - accuracy: 0.2547 - val_loss: 5.6316e-08 - val_accuracy: 0.1931\n",
            "\n",
            "Epoch 00023: val_accuracy did not improve from 0.19310\n",
            "Epoch 24/1000\n",
            "20/20 [==============================] - 0s 13ms/step - loss: 6.0443e-08 - accuracy: 0.2547 - val_loss: 5.6316e-08 - val_accuracy: 0.1931\n",
            "\n",
            "Epoch 00024: val_accuracy did not improve from 0.19310\n",
            "Epoch 25/1000\n",
            "20/20 [==============================] - 0s 11ms/step - loss: 6.0443e-08 - accuracy: 0.2547 - val_loss: 5.6316e-08 - val_accuracy: 0.1931\n",
            "\n",
            "Epoch 00025: val_accuracy did not improve from 0.19310\n",
            "Epoch 26/1000\n",
            "20/20 [==============================] - 0s 12ms/step - loss: 6.0443e-08 - accuracy: 0.2547 - val_loss: 5.6316e-08 - val_accuracy: 0.1931\n",
            "\n",
            "Epoch 00026: val_accuracy did not improve from 0.19310\n",
            "Epoch 27/1000\n",
            "20/20 [==============================] - 0s 12ms/step - loss: 6.0443e-08 - accuracy: 0.2547 - val_loss: 5.6316e-08 - val_accuracy: 0.1931\n",
            "\n",
            "Epoch 00027: val_accuracy did not improve from 0.19310\n",
            "Epoch 28/1000\n",
            "20/20 [==============================] - 0s 11ms/step - loss: 6.0443e-08 - accuracy: 0.2547 - val_loss: 5.6316e-08 - val_accuracy: 0.1931\n",
            "\n",
            "Epoch 00028: val_accuracy did not improve from 0.19310\n",
            "Epoch 29/1000\n",
            "20/20 [==============================] - 0s 11ms/step - loss: 6.0443e-08 - accuracy: 0.2547 - val_loss: 5.6316e-08 - val_accuracy: 0.1931\n",
            "\n",
            "Epoch 00029: val_accuracy did not improve from 0.19310\n",
            "Epoch 30/1000\n",
            "20/20 [==============================] - 0s 13ms/step - loss: 6.0443e-08 - accuracy: 0.2547 - val_loss: 5.6316e-08 - val_accuracy: 0.1931\n",
            "\n",
            "Epoch 00030: val_accuracy did not improve from 0.19310\n",
            "Epoch 31/1000\n",
            "20/20 [==============================] - 0s 12ms/step - loss: 6.0443e-08 - accuracy: 0.2547 - val_loss: 5.6316e-08 - val_accuracy: 0.1931\n",
            "\n",
            "Epoch 00031: val_accuracy did not improve from 0.19310\n",
            "Epoch 32/1000\n",
            "20/20 [==============================] - 0s 13ms/step - loss: 6.0443e-08 - accuracy: 0.2547 - val_loss: 5.6316e-08 - val_accuracy: 0.1931\n",
            "\n",
            "Epoch 00032: val_accuracy did not improve from 0.19310\n",
            "Epoch 33/1000\n",
            "20/20 [==============================] - 0s 12ms/step - loss: 6.0443e-08 - accuracy: 0.2547 - val_loss: 5.6316e-08 - val_accuracy: 0.1931\n",
            "\n",
            "Epoch 00033: val_accuracy did not improve from 0.19310\n",
            "Epoch 34/1000\n",
            "20/20 [==============================] - 0s 12ms/step - loss: 6.0443e-08 - accuracy: 0.2547 - val_loss: 5.6316e-08 - val_accuracy: 0.1931\n",
            "\n",
            "Epoch 00034: val_accuracy did not improve from 0.19310\n",
            "Epoch 35/1000\n",
            "20/20 [==============================] - 0s 11ms/step - loss: 6.0443e-08 - accuracy: 0.2547 - val_loss: 5.6316e-08 - val_accuracy: 0.1931\n",
            "\n",
            "Epoch 00035: val_accuracy did not improve from 0.19310\n",
            "Epoch 36/1000\n",
            "20/20 [==============================] - 0s 12ms/step - loss: 6.0443e-08 - accuracy: 0.2547 - val_loss: 5.6316e-08 - val_accuracy: 0.1931\n",
            "\n",
            "Epoch 00036: val_accuracy did not improve from 0.19310\n",
            "Epoch 37/1000\n",
            "20/20 [==============================] - 0s 12ms/step - loss: 6.0443e-08 - accuracy: 0.2547 - val_loss: 5.6316e-08 - val_accuracy: 0.1931\n",
            "\n",
            "Epoch 00037: val_accuracy did not improve from 0.19310\n",
            "Epoch 38/1000\n",
            "20/20 [==============================] - 0s 12ms/step - loss: 6.0443e-08 - accuracy: 0.2547 - val_loss: 5.6316e-08 - val_accuracy: 0.1931\n",
            "\n",
            "Epoch 00038: val_accuracy did not improve from 0.19310\n",
            "Epoch 39/1000\n",
            "20/20 [==============================] - 0s 12ms/step - loss: 6.0443e-08 - accuracy: 0.2547 - val_loss: 5.6316e-08 - val_accuracy: 0.1931\n",
            "\n",
            "Epoch 00039: val_accuracy did not improve from 0.19310\n",
            "Epoch 40/1000\n",
            "20/20 [==============================] - 0s 12ms/step - loss: 6.0443e-08 - accuracy: 0.2547 - val_loss: 5.6316e-08 - val_accuracy: 0.1931\n",
            "\n",
            "Epoch 00040: val_accuracy did not improve from 0.19310\n",
            "Epoch 41/1000\n",
            "20/20 [==============================] - 0s 11ms/step - loss: 6.0443e-08 - accuracy: 0.2547 - val_loss: 5.6316e-08 - val_accuracy: 0.1931\n",
            "\n",
            "Epoch 00041: val_accuracy did not improve from 0.19310\n",
            "Epoch 42/1000\n",
            "20/20 [==============================] - 0s 12ms/step - loss: 6.0443e-08 - accuracy: 0.2547 - val_loss: 5.6316e-08 - val_accuracy: 0.1931\n",
            "\n",
            "Epoch 00042: val_accuracy did not improve from 0.19310\n",
            "Epoch 43/1000\n",
            "20/20 [==============================] - 0s 12ms/step - loss: 6.0443e-08 - accuracy: 0.2547 - val_loss: 5.6316e-08 - val_accuracy: 0.1931\n",
            "\n",
            "Epoch 00043: val_accuracy did not improve from 0.19310\n",
            "Epoch 44/1000\n",
            "20/20 [==============================] - 0s 12ms/step - loss: 6.0443e-08 - accuracy: 0.2547 - val_loss: 5.6316e-08 - val_accuracy: 0.1931\n",
            "\n",
            "Epoch 00044: val_accuracy did not improve from 0.19310\n",
            "Epoch 45/1000\n",
            "20/20 [==============================] - 0s 12ms/step - loss: 6.0443e-08 - accuracy: 0.2547 - val_loss: 5.6316e-08 - val_accuracy: 0.1931\n",
            "\n",
            "Epoch 00045: val_accuracy did not improve from 0.19310\n",
            "Epoch 46/1000\n",
            "20/20 [==============================] - 0s 12ms/step - loss: 6.0443e-08 - accuracy: 0.2547 - val_loss: 5.6316e-08 - val_accuracy: 0.1931\n",
            "\n",
            "Epoch 00046: val_accuracy did not improve from 0.19310\n",
            "Epoch 47/1000\n",
            "20/20 [==============================] - 0s 12ms/step - loss: 6.0443e-08 - accuracy: 0.2547 - val_loss: 5.6316e-08 - val_accuracy: 0.1931\n",
            "\n",
            "Epoch 00047: val_accuracy did not improve from 0.19310\n",
            "Epoch 48/1000\n",
            "20/20 [==============================] - 0s 12ms/step - loss: 6.0443e-08 - accuracy: 0.2547 - val_loss: 5.6316e-08 - val_accuracy: 0.1931\n",
            "\n",
            "Epoch 00048: val_accuracy did not improve from 0.19310\n",
            "Epoch 49/1000\n",
            "20/20 [==============================] - 0s 13ms/step - loss: 6.0443e-08 - accuracy: 0.2547 - val_loss: 5.6316e-08 - val_accuracy: 0.1931\n",
            "\n",
            "Epoch 00049: val_accuracy did not improve from 0.19310\n",
            "Epoch 50/1000\n",
            "20/20 [==============================] - 0s 13ms/step - loss: 6.0443e-08 - accuracy: 0.2547 - val_loss: 5.6316e-08 - val_accuracy: 0.1931\n",
            "\n",
            "Epoch 00050: val_accuracy did not improve from 0.19310\n",
            "Epoch 51/1000\n",
            "20/20 [==============================] - 0s 13ms/step - loss: 6.0443e-08 - accuracy: 0.2547 - val_loss: 5.6316e-08 - val_accuracy: 0.1931\n",
            "\n",
            "Epoch 00051: val_accuracy did not improve from 0.19310\n",
            "Epoch 00051: early stopping\n"
          ]
        }
      ]
    },
    {
      "cell_type": "code",
      "metadata": {
        "id": "rUvq52LNl7m0"
      },
      "source": [
        "model.load_weights('best.h5')"
      ],
      "execution_count": 153,
      "outputs": []
    },
    {
      "cell_type": "code",
      "metadata": {
        "id": "ZTAZB9Wjl7kE"
      },
      "source": [
        "pred = model.predict(test_data)"
      ],
      "execution_count": 154,
      "outputs": []
    },
    {
      "cell_type": "code",
      "metadata": {
        "colab": {
          "base_uri": "https://localhost:8080/"
        },
        "id": "iyxLChGlIzrc",
        "outputId": "bd363870-d7ed-4cc2-e0ba-d755e60d207f"
      },
      "source": [
        "print(test_data.take(1))"
      ],
      "execution_count": 155,
      "outputs": [
        {
          "output_type": "stream",
          "name": "stdout",
          "text": [
            "<TakeDataset shapes: ((None, None, 1), (None, 1)), types: (tf.float64, tf.float64)>\n"
          ]
        }
      ]
    },
    {
      "cell_type": "code",
      "metadata": {
        "colab": {
          "base_uri": "https://localhost:8080/"
        },
        "id": "fzv9nmbJIDqK",
        "outputId": "00687a23-2aa1-410c-f0e3-1549dd078f76"
      },
      "source": [
        "pred.shape"
      ],
      "execution_count": 156,
      "outputs": [
        {
          "output_type": "execute_result",
          "data": {
            "text/plain": [
              "(145, 1)"
            ]
          },
          "metadata": {},
          "execution_count": 156
        }
      ]
    },
    {
      "cell_type": "code",
      "metadata": {
        "colab": {
          "base_uri": "https://localhost:8080/",
          "height": 404
        },
        "id": "lkcHiMNLl7g4",
        "outputId": "b40a2bb3-a92e-449a-fc5a-bea57e05720d"
      },
      "source": [
        "epochs = range(1, len(history.history['loss']) + 1)\n",
        "plt.figure(figsize = (9, 6))\n",
        "plt.plot(epochs, history.history['accuracy'])\n",
        "plt.plot(epochs, history.history['val_accuracy'])\n",
        "plt.title('Training & Validation Accuracy With Augmentation')\n",
        "plt.xlabel('Epochs')\n",
        "plt.ylabel('Accuracy')\n",
        "plt.legend(['Training Accuracy', 'Validation Accuracy'])\n",
        "plt.grid()\n",
        "plt.show()"
      ],
      "execution_count": 157,
      "outputs": [
        {
          "output_type": "display_data",
          "data": {
            "image/png": "[encoded data removed]",
            "text/plain": [
              "<Figure size 648x432 with 1 Axes>"
            ]
          },
          "metadata": {
            "needs_background": "light"
          }
        }
      ]
    },
    {
      "cell_type": "code",
      "metadata": {
        "id": "5mHAqUr4l7ZB"
      },
      "source": [
        ""
      ],
      "execution_count": 157,
      "outputs": []
    },
    {
      "cell_type": "markdown",
      "metadata": {
        "id": "LPB0I96GxUhB"
      },
      "source": [
        "## 종가 예측\n",
        "- 데이터의 정상성 가정.."
      ]
    },
    {
      "cell_type": "code",
      "metadata": {
        "colab": {
          "base_uri": "https://localhost:8080/",
          "height": 203
        },
        "id": "lEfb_y8Mxn6A",
        "outputId": "db0b97c9-ff01-45ac-b2fc-82e5aefdb65a"
      },
      "source": [
        "df.head()"
      ],
      "execution_count": 158,
      "outputs": [
        {
          "output_type": "execute_result",
          "data": {
            "text/html": [
              "<div>\n",
              "<style scoped>\n",
              "    .dataframe tbody tr th:only-of-type {\n",
              "        vertical-align: middle;\n",
              "    }\n",
              "\n",
              "    .dataframe tbody tr th {\n",
              "        vertical-align: top;\n",
              "    }\n",
              "\n",
              "    .dataframe thead th {\n",
              "        text-align: right;\n",
              "    }\n",
              "</style>\n",
              "<table border=\"1\" class=\"dataframe\">\n",
              "  <thead>\n",
              "    <tr style=\"text-align: right;\">\n",
              "      <th></th>\n",
              "      <th>Open</th>\n",
              "      <th>High</th>\n",
              "      <th>Low</th>\n",
              "      <th>Close</th>\n",
              "      <th>Volume</th>\n",
              "      <th>Change</th>\n",
              "      <th>UD</th>\n",
              "    </tr>\n",
              "  </thead>\n",
              "  <tbody>\n",
              "    <tr>\n",
              "      <th>0</th>\n",
              "      <td>0.294229</td>\n",
              "      <td>0.275338</td>\n",
              "      <td>0.283951</td>\n",
              "      <td>0.269841</td>\n",
              "      <td>0.409302</td>\n",
              "      <td>0.255791</td>\n",
              "      <td>0.0</td>\n",
              "    </tr>\n",
              "    <tr>\n",
              "      <th>1</th>\n",
              "      <td>0.286660</td>\n",
              "      <td>0.263514</td>\n",
              "      <td>0.285850</td>\n",
              "      <td>0.282913</td>\n",
              "      <td>0.217675</td>\n",
              "      <td>0.458910</td>\n",
              "      <td>1.0</td>\n",
              "    </tr>\n",
              "    <tr>\n",
              "      <th>2</th>\n",
              "      <td>0.286660</td>\n",
              "      <td>0.256757</td>\n",
              "      <td>0.266857</td>\n",
              "      <td>0.251167</td>\n",
              "      <td>0.136459</td>\n",
              "      <td>0.187192</td>\n",
              "      <td>0.0</td>\n",
              "    </tr>\n",
              "    <tr>\n",
              "      <th>3</th>\n",
              "      <td>0.269631</td>\n",
              "      <td>0.238176</td>\n",
              "      <td>0.261159</td>\n",
              "      <td>0.264239</td>\n",
              "      <td>0.110579</td>\n",
              "      <td>0.460481</td>\n",
              "      <td>1.0</td>\n",
              "    </tr>\n",
              "    <tr>\n",
              "      <th>4</th>\n",
              "      <td>0.275307</td>\n",
              "      <td>0.246622</td>\n",
              "      <td>0.272555</td>\n",
              "      <td>0.258637</td>\n",
              "      <td>0.068783</td>\n",
              "      <td>0.344417</td>\n",
              "      <td>0.5</td>\n",
              "    </tr>\n",
              "  </tbody>\n",
              "</table>\n",
              "</div>"
            ],
            "text/plain": [
              "       Open      High       Low     Close    Volume    Change   UD\n",
              "0  0.294229  0.275338  0.283951  0.269841  0.409302  0.255791  0.0\n",
              "1  0.286660  0.263514  0.285850  0.282913  0.217675  0.458910  1.0\n",
              "2  0.286660  0.256757  0.266857  0.251167  0.136459  0.187192  0.0\n",
              "3  0.269631  0.238176  0.261159  0.264239  0.110579  0.460481  1.0\n",
              "4  0.275307  0.246622  0.272555  0.258637  0.068783  0.344417  0.5"
            ]
          },
          "metadata": {},
          "execution_count": 158
        }
      ]
    },
    {
      "cell_type": "code",
      "metadata": {
        "id": "Ug5qJdGtxUEs"
      },
      "source": [
        "x_train, x_test, y_train, y_test = train_test_split(df.drop(['Close','UD'], 1), df['Close'], test_size=0.2, random_state=0, shuffle=False)"
      ],
      "execution_count": 159,
      "outputs": []
    },
    {
      "cell_type": "code",
      "metadata": {
        "id": "x1KVmAMQx3Uc"
      },
      "source": [
        "def windowed_dataset(series, window_size, batch_size, shuffle):\n",
        "    series = tf.expand_dims(series, axis=-1)\n",
        "    ds = tf.data.Dataset.from_tensor_slices(series)\n",
        "    ds = ds.window(window_size + 1, shift=1, drop_remainder=True)\n",
        "    ds = ds.flat_map(lambda w: w.batch(window_size + 1))\n",
        "    if shuffle:\n",
        "        ds = ds.shuffle(1000)\n",
        "    ds = ds.map(lambda w: (w[:-1], w[-1]))\n",
        "    return ds.batch(batch_size).prefetch(1)\n",
        "\n",
        "WINDOW_SIZE=20\n",
        "BATCH_SIZE=32\n",
        "train_data = windowed_dataset(y_train, WINDOW_SIZE, BATCH_SIZE, True)\n",
        "test_data = windowed_dataset(y_test, WINDOW_SIZE, BATCH_SIZE, False)"
      ],
      "execution_count": 160,
      "outputs": []
    },
    {
      "cell_type": "markdown",
      "metadata": {
        "id": "-Bpm-n630HSt"
      },
      "source": [
        "### 모델"
      ]
    },
    {
      "cell_type": "code",
      "metadata": {
        "id": "88ADSiNMx3N3"
      },
      "source": [
        "model = Sequential([\n",
        "    # 1차원 feature map 생성\n",
        "    Conv1D(filters=32, kernel_size=5,\n",
        "           padding=\"causal\",\n",
        "           activation=\"relu\",\n",
        "           input_shape=[WINDOW_SIZE, 1]),\n",
        "    # LSTM\n",
        "    LSTM(16, activation='tanh'),\n",
        "    Dense(16, activation=\"relu\"),\n",
        "    Dense(1),\n",
        "])"
      ],
      "execution_count": 161,
      "outputs": []
    },
    {
      "cell_type": "code",
      "metadata": {
        "id": "LaxsWwxAx3Kn"
      },
      "source": [
        "loss = Huber()\n",
        "optimizer = Adam(0.0005)\n",
        "model.compile(loss=Huber(), optimizer=optimizer, metrics=['mse'])"
      ],
      "execution_count": 162,
      "outputs": []
    },
    {
      "cell_type": "code",
      "metadata": {
        "id": "9QL56sD1x3BR"
      },
      "source": [
        "# earlystopping은 10번 epoch통안 val_loss 개선이 없다면 학습을 멈춥니다.\n",
        "earlystopping = EarlyStopping(monitor='val_loss', patience=10)\n",
        "# val_loss 기준 체크포인터도 생성합니다.\n",
        "filename = os.path.join('tmp', 'ckeckpointer.ckpt')\n",
        "checkpoint = ModelCheckpoint(filename, \n",
        "                             save_weights_only=True, \n",
        "                             save_best_only=True, \n",
        "                             monitor='val_loss', \n",
        "                             verbose=1)"
      ],
      "execution_count": 163,
      "outputs": []
    },
    {
      "cell_type": "code",
      "metadata": {
        "colab": {
          "base_uri": "https://localhost:8080/"
        },
        "id": "E4qyBSJlyS4W",
        "outputId": "a3ab1ca9-fc3c-4aab-d2be-fbad6078b40b"
      },
      "source": [
        "history = model.fit(train_data, \n",
        "                    validation_data=(test_data), \n",
        "                    epochs=50, \n",
        "                    callbacks=[checkpoint, earlystopping])"
      ],
      "execution_count": 164,
      "outputs": [
        {
          "output_type": "stream",
          "name": "stdout",
          "text": [
            "Epoch 1/50\n",
            "20/20 [==============================] - 3s 38ms/step - loss: 0.0389 - mse: 0.0778 - val_loss: 0.2761 - val_mse: 0.5523\n",
            "\n",
            "Epoch 00001: val_loss improved from inf to 0.27613, saving model to tmp/ckeckpointer.ckpt\n",
            "Epoch 2/50\n",
            "20/20 [==============================] - 0s 11ms/step - loss: 0.0217 - mse: 0.0433 - val_loss: 0.1167 - val_mse: 0.2334\n",
            "\n",
            "Epoch 00002: val_loss improved from 0.27613 to 0.11672, saving model to tmp/ckeckpointer.ckpt\n",
            "Epoch 3/50\n",
            "20/20 [==============================] - 0s 12ms/step - loss: 0.0049 - mse: 0.0099 - val_loss: 0.0150 - val_mse: 0.0299\n",
            "\n",
            "Epoch 00003: val_loss improved from 0.11672 to 0.01495, saving model to tmp/ckeckpointer.ckpt\n",
            "Epoch 4/50\n",
            "20/20 [==============================] - 0s 13ms/step - loss: 0.0028 - mse: 0.0057 - val_loss: 0.0135 - val_mse: 0.0269\n",
            "\n",
            "Epoch 00004: val_loss improved from 0.01495 to 0.01345, saving model to tmp/ckeckpointer.ckpt\n",
            "Epoch 5/50\n",
            "20/20 [==============================] - 0s 12ms/step - loss: 0.0018 - mse: 0.0036 - val_loss: 0.0034 - val_mse: 0.0068\n",
            "\n",
            "Epoch 00005: val_loss improved from 0.01345 to 0.00340, saving model to tmp/ckeckpointer.ckpt\n",
            "Epoch 6/50\n",
            "20/20 [==============================] - 0s 11ms/step - loss: 0.0011 - mse: 0.0022 - val_loss: 5.3746e-04 - val_mse: 0.0011\n",
            "\n",
            "Epoch 00006: val_loss improved from 0.00340 to 0.00054, saving model to tmp/ckeckpointer.ckpt\n",
            "Epoch 7/50\n",
            "20/20 [==============================] - 0s 13ms/step - loss: 7.4728e-04 - mse: 0.0015 - val_loss: 0.0018 - val_mse: 0.0035\n",
            "\n",
            "Epoch 00007: val_loss did not improve from 0.00054\n",
            "Epoch 8/50\n",
            "20/20 [==============================] - 0s 12ms/step - loss: 6.7147e-04 - mse: 0.0013 - val_loss: 0.0024 - val_mse: 0.0047\n",
            "\n",
            "Epoch 00008: val_loss did not improve from 0.00054\n",
            "Epoch 9/50\n",
            "20/20 [==============================] - 0s 12ms/step - loss: 6.3414e-04 - mse: 0.0013 - val_loss: 0.0038 - val_mse: 0.0076\n",
            "\n",
            "Epoch 00009: val_loss did not improve from 0.00054\n",
            "Epoch 10/50\n",
            "20/20 [==============================] - 0s 12ms/step - loss: 6.3203e-04 - mse: 0.0013 - val_loss: 0.0036 - val_mse: 0.0072\n",
            "\n",
            "Epoch 00010: val_loss did not improve from 0.00054\n",
            "Epoch 11/50\n",
            "20/20 [==============================] - 0s 12ms/step - loss: 6.1925e-04 - mse: 0.0012 - val_loss: 0.0041 - val_mse: 0.0081\n",
            "\n",
            "Epoch 00011: val_loss did not improve from 0.00054\n",
            "Epoch 12/50\n",
            "20/20 [==============================] - 0s 12ms/step - loss: 5.9819e-04 - mse: 0.0012 - val_loss: 0.0053 - val_mse: 0.0107\n",
            "\n",
            "Epoch 00012: val_loss did not improve from 0.00054\n",
            "Epoch 13/50\n",
            "20/20 [==============================] - 0s 13ms/step - loss: 5.9499e-04 - mse: 0.0012 - val_loss: 0.0052 - val_mse: 0.0103\n",
            "\n",
            "Epoch 00013: val_loss did not improve from 0.00054\n",
            "Epoch 14/50\n",
            "20/20 [==============================] - 0s 13ms/step - loss: 5.7775e-04 - mse: 0.0012 - val_loss: 0.0044 - val_mse: 0.0088\n",
            "\n",
            "Epoch 00014: val_loss did not improve from 0.00054\n",
            "Epoch 15/50\n",
            "20/20 [==============================] - 0s 12ms/step - loss: 5.7231e-04 - mse: 0.0011 - val_loss: 0.0056 - val_mse: 0.0112\n",
            "\n",
            "Epoch 00015: val_loss did not improve from 0.00054\n",
            "Epoch 16/50\n",
            "20/20 [==============================] - 0s 12ms/step - loss: 5.6031e-04 - mse: 0.0011 - val_loss: 0.0047 - val_mse: 0.0094\n",
            "\n",
            "Epoch 00016: val_loss did not improve from 0.00054\n"
          ]
        }
      ]
    },
    {
      "cell_type": "code",
      "metadata": {
        "colab": {
          "base_uri": "https://localhost:8080/"
        },
        "id": "YNJzx9sEyfHw",
        "outputId": "e0302040-ed9e-4d69-8b7c-a7d252911247"
      },
      "source": [
        "model.load_weights(filename)"
      ],
      "execution_count": 165,
      "outputs": [
        {
          "output_type": "execute_result",
          "data": {
            "text/plain": [
              "<tensorflow.python.training.tracking.util.CheckpointLoadStatus at 0x7ff2ec2995d0>"
            ]
          },
          "metadata": {},
          "execution_count": 165
        }
      ]
    },
    {
      "cell_type": "code",
      "metadata": {
        "id": "Vki0ccLpyfE8"
      },
      "source": [
        "pred = model.predict(test_data)"
      ],
      "execution_count": 166,
      "outputs": []
    },
    {
      "cell_type": "code",
      "metadata": {
        "colab": {
          "base_uri": "https://localhost:8080/"
        },
        "id": "Lb3HzulSye87",
        "outputId": "691c57b0-0e68-433a-bb6b-ad4077dd0969"
      },
      "source": [
        "pred.shape"
      ],
      "execution_count": 167,
      "outputs": [
        {
          "output_type": "execute_result",
          "data": {
            "text/plain": [
              "(145, 1)"
            ]
          },
          "metadata": {},
          "execution_count": 167
        }
      ]
    },
    {
      "cell_type": "code",
      "metadata": {
        "colab": {
          "base_uri": "https://localhost:8080/"
        },
        "id": "EqqWdII9yvmz",
        "outputId": "bfec53ea-7583-4aa9-8cde-d285a6d0c935"
      },
      "source": [
        "pred"
      ],
      "execution_count": 168,
      "outputs": [
        {
          "output_type": "execute_result",
          "data": {
            "text/plain": [
              "array([[0.8510066 ],\n",
              "       [0.84753346],\n",
              "       [0.84313506],\n",
              "       [0.8416809 ],\n",
              "       [0.83985895],\n",
              "       [0.83738977],\n",
              "       [0.8359474 ],\n",
              "       [0.8366544 ],\n",
              "       [0.8356201 ],\n",
              "       [0.8329971 ],\n",
              "       [0.8300946 ],\n",
              "       [0.8301911 ],\n",
              "       [0.8279363 ],\n",
              "       [0.8286131 ],\n",
              "       [0.83006155],\n",
              "       [0.8314931 ],\n",
              "       [0.8308367 ],\n",
              "       [0.8307743 ],\n",
              "       [0.82964593],\n",
              "       [0.8268838 ],\n",
              "       [0.82494384],\n",
              "       [0.82318944],\n",
              "       [0.82098776],\n",
              "       [0.8204115 ],\n",
              "       [0.8203518 ],\n",
              "       [0.82122016],\n",
              "       [0.82080746],\n",
              "       [0.8213869 ],\n",
              "       [0.8211122 ],\n",
              "       [0.82036895],\n",
              "       [0.81905454],\n",
              "       [0.81755376],\n",
              "       [0.81609   ],\n",
              "       [0.8148648 ],\n",
              "       [0.8137576 ],\n",
              "       [0.8145685 ],\n",
              "       [0.81637394],\n",
              "       [0.818828  ],\n",
              "       [0.82238966],\n",
              "       [0.82767737],\n",
              "       [0.8332542 ],\n",
              "       [0.83749276],\n",
              "       [0.8405454 ],\n",
              "       [0.84210956],\n",
              "       [0.84197533],\n",
              "       [0.8414156 ],\n",
              "       [0.8412813 ],\n",
              "       [0.8415325 ],\n",
              "       [0.8420359 ],\n",
              "       [0.8413149 ],\n",
              "       [0.84029233],\n",
              "       [0.8392484 ],\n",
              "       [0.8382712 ],\n",
              "       [0.83604556],\n",
              "       [0.8342792 ],\n",
              "       [0.8329824 ],\n",
              "       [0.8313667 ],\n",
              "       [0.82903194],\n",
              "       [0.8267084 ],\n",
              "       [0.8243035 ],\n",
              "       [0.8226212 ],\n",
              "       [0.82271886],\n",
              "       [0.82173836],\n",
              "       [0.82027376],\n",
              "       [0.8176345 ],\n",
              "       [0.81572306],\n",
              "       [0.81063265],\n",
              "       [0.80566174],\n",
              "       [0.801136  ],\n",
              "       [0.79900277],\n",
              "       [0.7963303 ],\n",
              "       [0.79448503],\n",
              "       [0.7928745 ],\n",
              "       [0.79177564],\n",
              "       [0.79093796],\n",
              "       [0.7905303 ],\n",
              "       [0.79030955],\n",
              "       [0.7906105 ],\n",
              "       [0.7928311 ],\n",
              "       [0.79466695],\n",
              "       [0.797254  ],\n",
              "       [0.80034536],\n",
              "       [0.803525  ],\n",
              "       [0.8053622 ],\n",
              "       [0.80640954],\n",
              "       [0.8063529 ],\n",
              "       [0.8059868 ],\n",
              "       [0.8060423 ],\n",
              "       [0.8054025 ],\n",
              "       [0.8049355 ],\n",
              "       [0.80464023],\n",
              "       [0.8043547 ],\n",
              "       [0.80280536],\n",
              "       [0.8017178 ],\n",
              "       [0.8006894 ],\n",
              "       [0.8007535 ],\n",
              "       [0.8011393 ],\n",
              "       [0.8025053 ],\n",
              "       [0.8029627 ],\n",
              "       [0.8028188 ],\n",
              "       [0.8017637 ],\n",
              "       [0.80087084],\n",
              "       [0.7996519 ],\n",
              "       [0.79873204],\n",
              "       [0.79827577],\n",
              "       [0.7980246 ],\n",
              "       [0.79660463],\n",
              "       [0.7943295 ],\n",
              "       [0.7932254 ],\n",
              "       [0.7919651 ],\n",
              "       [0.79088926],\n",
              "       [0.78999215],\n",
              "       [0.7888613 ],\n",
              "       [0.78741986],\n",
              "       [0.7850438 ],\n",
              "       [0.78316784],\n",
              "       [0.7816326 ],\n",
              "       [0.7813286 ],\n",
              "       [0.7800452 ],\n",
              "       [0.778458  ],\n",
              "       [0.7778571 ],\n",
              "       [0.7789325 ],\n",
              "       [0.78070927],\n",
              "       [0.7828706 ],\n",
              "       [0.7870902 ],\n",
              "       [0.79259765],\n",
              "       [0.79637885],\n",
              "       [0.7972551 ],\n",
              "       [0.79588   ],\n",
              "       [0.79150856],\n",
              "       [0.7849955 ],\n",
              "       [0.7756914 ],\n",
              "       [0.7644958 ],\n",
              "       [0.75164485],\n",
              "       [0.740752  ],\n",
              "       [0.7327862 ],\n",
              "       [0.72603637],\n",
              "       [0.7209952 ],\n",
              "       [0.7185506 ],\n",
              "       [0.71780115],\n",
              "       [0.7177959 ],\n",
              "       [0.7165357 ],\n",
              "       [0.7159657 ],\n",
              "       [0.717834  ],\n",
              "       [0.7214276 ]], dtype=float32)"
            ]
          },
          "metadata": {},
          "execution_count": 168
        }
      ]
    },
    {
      "cell_type": "markdown",
      "metadata": {
        "id": "3z5_4pfE0Ldk"
      },
      "source": [
        "### 결과 그래프"
      ]
    },
    {
      "cell_type": "code",
      "metadata": {
        "colab": {
          "base_uri": "https://localhost:8080/",
          "height": 537
        },
        "id": "kXvUFnnVyeqo",
        "outputId": "4caec512-7b98-4674-d095-d0e6f7ebf626"
      },
      "source": [
        "plt.figure(figsize=(12, 9))\n",
        "plt.plot(np.asarray(y_test)[20:], label='actual')\n",
        "plt.plot(pred, label='prediction')\n",
        "plt.legend()\n",
        "plt.show()"
      ],
      "execution_count": 169,
      "outputs": [
        {
          "output_type": "display_data",
          "data": {
            "image/png": "[encoded data removed]",
            "text/plain": [
              "<Figure size 864x648 with 1 Axes>"
            ]
          },
          "metadata": {
            "needs_background": "light"
          }
        }
      ]
    },
    {
      "cell_type": "markdown",
      "metadata": {
        "id": "5SDqszNnOk9J"
      },
      "source": [
        "## 재무정보 추가"
      ]
    },
    {
      "cell_type": "markdown",
      "metadata": {
        "id": "eo7eh0AlnDc3"
      },
      "source": [
        "### 재무정보\n",
        "\n",
        "- PER : 주가를 1주당 순이익(EPS)로 나눈 값\n",
        "- PBR : 주가를 1주당 순자산가치로 나눈 값\n",
        "- ROE : 당기순이익을 순자산(자기자본)으로 나눈 값\n",
        "- ROA : 당기순이익을 자산총액으로 나눈 값\n",
        "\n",
        "- 주가, 당기 순이익, 총발행 주식수, 자복, 부채"
      ]
    },
    {
      "cell_type": "code",
      "metadata": {
        "id": "hjHdadiomSQj"
      },
      "source": [
        "api_key = '9b9157d4313a84f3141d73f879c5d239d49bb0ce'\n",
        "dart = OpenDartReader(api_key)"
      ],
      "execution_count": 170,
      "outputs": []
    },
    {
      "cell_type": "markdown",
      "metadata": {
        "id": "RymeBQ7ShQib"
      },
      "source": [
        "#### 자본, 자산, 당기순이익 조회\n",
        "corp: 종목코드, bsns_year: 사업연도, reprt_code: 보고서코드\n",
        "- (1분기보고서 : 11013, 반기보고서 : 11012, 3분기보고서 : 11014, 사업보고서 : 11011)"
      ]
    },
    {
      "cell_type": "markdown",
      "metadata": {
        "id": "qsNBZnbnrDTc"
      },
      "source": [
        "자본과 자산(자본+부채)은 재무상태표(sj_vis='BIS'), 당기순이익은 포괄손익계산서(sj_div='CIS')에서 확인할 수 있다."
      ]
    },
    {
      "cell_type": "code",
      "metadata": {
        "colab": {
          "base_uri": "https://localhost:8080/",
          "height": 134
        },
        "id": "k0YjsXYZn57J",
        "outputId": "a96ed662-a7ad-4c78-d605-15446a05426d"
      },
      "source": [
        "fs_2019 = dart.finstate_all(corp='005930', bsns_year='2019', fs_div='CFS', reprt_code=11011) \n",
        "fs_2020_3Q = dart.finstate_all(corp='005930', bsns_year='2020', fs_div='CFS', reprt_code=11014)\n",
        "\n",
        "fs_2020_3Q.loc[fs_2020_3Q['sj_div'].isin(['BS']) & fs_2020_3Q['account_id'].isin(['ifrs-full_Equity']), ]"
      ],
      "execution_count": 171,
      "outputs": [
        {
          "output_type": "execute_result",
          "data": {
            "text/html": [
              "<div>\n",
              "<style scoped>\n",
              "    .dataframe tbody tr th:only-of-type {\n",
              "        vertical-align: middle;\n",
              "    }\n",
              "\n",
              "    .dataframe tbody tr th {\n",
              "        vertical-align: top;\n",
              "    }\n",
              "\n",
              "    .dataframe thead th {\n",
              "        text-align: right;\n",
              "    }\n",
              "</style>\n",
              "<table border=\"1\" class=\"dataframe\">\n",
              "  <thead>\n",
              "    <tr style=\"text-align: right;\">\n",
              "      <th></th>\n",
              "      <th>rcept_no</th>\n",
              "      <th>reprt_code</th>\n",
              "      <th>bsns_year</th>\n",
              "      <th>corp_code</th>\n",
              "      <th>sj_div</th>\n",
              "      <th>sj_nm</th>\n",
              "      <th>account_id</th>\n",
              "      <th>account_nm</th>\n",
              "      <th>account_detail</th>\n",
              "      <th>thstrm_nm</th>\n",
              "      <th>thstrm_amount</th>\n",
              "      <th>frmtrm_nm</th>\n",
              "      <th>frmtrm_amount</th>\n",
              "      <th>ord</th>\n",
              "      <th>thstrm_add_amount</th>\n",
              "      <th>frmtrm_q_nm</th>\n",
              "      <th>frmtrm_q_amount</th>\n",
              "      <th>frmtrm_add_amount</th>\n",
              "    </tr>\n",
              "  </thead>\n",
              "  <tbody>\n",
              "    <tr>\n",
              "      <th>52</th>\n",
              "      <td>20201116001248</td>\n",
              "      <td>11014</td>\n",
              "      <td>2020</td>\n",
              "      <td>00126380</td>\n",
              "      <td>BS</td>\n",
              "      <td>재무상태표</td>\n",
              "      <td>ifrs-full_Equity</td>\n",
              "      <td>자본총계</td>\n",
              "      <td>-</td>\n",
              "      <td>제 52 기 3분기말</td>\n",
              "      <td>276136188000000</td>\n",
              "      <td>제 51 기말</td>\n",
              "      <td>262880421000000</td>\n",
              "      <td>55</td>\n",
              "      <td>NaN</td>\n",
              "      <td>NaN</td>\n",
              "      <td>NaN</td>\n",
              "      <td>NaN</td>\n",
              "    </tr>\n",
              "  </tbody>\n",
              "</table>\n",
              "</div>"
            ],
            "text/plain": [
              "          rcept_no reprt_code  ... frmtrm_q_amount frmtrm_add_amount\n",
              "52  20201116001248      11014  ...             NaN               NaN\n",
              "\n",
              "[1 rows x 18 columns]"
            ]
          },
          "metadata": {},
          "execution_count": 171
        }
      ]
    },
    {
      "cell_type": "code",
      "metadata": {
        "colab": {
          "base_uri": "https://localhost:8080/",
          "height": 134
        },
        "id": "TWfjcjD7h9LK",
        "outputId": "4770421c-0f37-4327-97aa-73d954d9cae1"
      },
      "source": [
        "fs_2020_3Q.loc[fs_2020_3Q['sj_div'].isin(['BS']) & fs_2020_3Q['account_id'].isin(['ifrs-full_Liabilities']), ]"
      ],
      "execution_count": 172,
      "outputs": [
        {
          "output_type": "execute_result",
          "data": {
            "text/html": [
              "<div>\n",
              "<style scoped>\n",
              "    .dataframe tbody tr th:only-of-type {\n",
              "        vertical-align: middle;\n",
              "    }\n",
              "\n",
              "    .dataframe tbody tr th {\n",
              "        vertical-align: top;\n",
              "    }\n",
              "\n",
              "    .dataframe thead th {\n",
              "        text-align: right;\n",
              "    }\n",
              "</style>\n",
              "<table border=\"1\" class=\"dataframe\">\n",
              "  <thead>\n",
              "    <tr style=\"text-align: right;\">\n",
              "      <th></th>\n",
              "      <th>rcept_no</th>\n",
              "      <th>reprt_code</th>\n",
              "      <th>bsns_year</th>\n",
              "      <th>corp_code</th>\n",
              "      <th>sj_div</th>\n",
              "      <th>sj_nm</th>\n",
              "      <th>account_id</th>\n",
              "      <th>account_nm</th>\n",
              "      <th>account_detail</th>\n",
              "      <th>thstrm_nm</th>\n",
              "      <th>thstrm_amount</th>\n",
              "      <th>frmtrm_nm</th>\n",
              "      <th>frmtrm_amount</th>\n",
              "      <th>ord</th>\n",
              "      <th>thstrm_add_amount</th>\n",
              "      <th>frmtrm_q_nm</th>\n",
              "      <th>frmtrm_q_amount</th>\n",
              "      <th>frmtrm_add_amount</th>\n",
              "    </tr>\n",
              "  </thead>\n",
              "  <tbody>\n",
              "    <tr>\n",
              "      <th>42</th>\n",
              "      <td>20201116001248</td>\n",
              "      <td>11014</td>\n",
              "      <td>2020</td>\n",
              "      <td>00126380</td>\n",
              "      <td>BS</td>\n",
              "      <td>재무상태표</td>\n",
              "      <td>ifrs-full_Liabilities</td>\n",
              "      <td>부채총계</td>\n",
              "      <td>-</td>\n",
              "      <td>제 52 기 3분기말</td>\n",
              "      <td>99652554000000</td>\n",
              "      <td>제 51 기말</td>\n",
              "      <td>89684076000000</td>\n",
              "      <td>44</td>\n",
              "      <td>NaN</td>\n",
              "      <td>NaN</td>\n",
              "      <td>NaN</td>\n",
              "      <td>NaN</td>\n",
              "    </tr>\n",
              "  </tbody>\n",
              "</table>\n",
              "</div>"
            ],
            "text/plain": [
              "          rcept_no reprt_code  ... frmtrm_q_amount frmtrm_add_amount\n",
              "42  20201116001248      11014  ...             NaN               NaN\n",
              "\n",
              "[1 rows x 18 columns]"
            ]
          },
          "metadata": {},
          "execution_count": 172
        }
      ]
    },
    {
      "cell_type": "code",
      "metadata": {
        "id": "xKIjnQD6iMu3"
      },
      "source": [
        ""
      ],
      "execution_count": 172,
      "outputs": []
    },
    {
      "cell_type": "code",
      "metadata": {
        "id": "Wuc_rj22iMrf"
      },
      "source": [
        ""
      ],
      "execution_count": 172,
      "outputs": []
    },
    {
      "cell_type": "code",
      "metadata": {
        "id": "ZRL_IKhWiMnn"
      },
      "source": [
        ""
      ],
      "execution_count": 172,
      "outputs": []
    },
    {
      "cell_type": "code",
      "metadata": {
        "id": "BBRodyhTiMko"
      },
      "source": [
        ""
      ],
      "execution_count": 172,
      "outputs": []
    },
    {
      "cell_type": "code",
      "metadata": {
        "id": "2erC8_ten9S1"
      },
      "source": [
        "fs = dart.finstate_all(corp='005930', bsns_year = '2019')"
      ],
      "execution_count": 173,
      "outputs": []
    },
    {
      "cell_type": "code",
      "metadata": {
        "colab": {
          "base_uri": "https://localhost:8080/"
        },
        "id": "VXa0F0KRgaez",
        "outputId": "de330c60-aeed-45e1-a0ce-f5e3d66ed567"
      },
      "source": [
        "len(fs[fs.bsns_year == '2020'])"
      ],
      "execution_count": 174,
      "outputs": [
        {
          "output_type": "execute_result",
          "data": {
            "text/plain": [
              "0"
            ]
          },
          "metadata": {},
          "execution_count": 174
        }
      ]
    },
    {
      "cell_type": "code",
      "metadata": {
        "colab": {
          "base_uri": "https://localhost:8080/",
          "height": 134
        },
        "id": "PrzjTblwgBkz",
        "outputId": "d08e21d7-8000-498c-b671-e07d07f1f51a"
      },
      "source": [
        "fs.loc[fs['sj_div'].isin(['BS']) & fs['account_id'].isin(['ifrs-full_Equity']), ]"
      ],
      "execution_count": 175,
      "outputs": [
        {
          "output_type": "execute_result",
          "data": {
            "text/html": [
              "<div>\n",
              "<style scoped>\n",
              "    .dataframe tbody tr th:only-of-type {\n",
              "        vertical-align: middle;\n",
              "    }\n",
              "\n",
              "    .dataframe tbody tr th {\n",
              "        vertical-align: top;\n",
              "    }\n",
              "\n",
              "    .dataframe thead th {\n",
              "        text-align: right;\n",
              "    }\n",
              "</style>\n",
              "<table border=\"1\" class=\"dataframe\">\n",
              "  <thead>\n",
              "    <tr style=\"text-align: right;\">\n",
              "      <th></th>\n",
              "      <th>rcept_no</th>\n",
              "      <th>reprt_code</th>\n",
              "      <th>bsns_year</th>\n",
              "      <th>corp_code</th>\n",
              "      <th>sj_div</th>\n",
              "      <th>sj_nm</th>\n",
              "      <th>account_id</th>\n",
              "      <th>account_nm</th>\n",
              "      <th>account_detail</th>\n",
              "      <th>thstrm_nm</th>\n",
              "      <th>thstrm_amount</th>\n",
              "      <th>frmtrm_nm</th>\n",
              "      <th>frmtrm_amount</th>\n",
              "      <th>bfefrmtrm_nm</th>\n",
              "      <th>bfefrmtrm_amount</th>\n",
              "      <th>ord</th>\n",
              "      <th>thstrm_add_amount</th>\n",
              "    </tr>\n",
              "  </thead>\n",
              "  <tbody>\n",
              "    <tr>\n",
              "      <th>53</th>\n",
              "      <td>20200330003851</td>\n",
              "      <td>11011</td>\n",
              "      <td>2019</td>\n",
              "      <td>00126380</td>\n",
              "      <td>BS</td>\n",
              "      <td>재무상태표</td>\n",
              "      <td>ifrs-full_Equity</td>\n",
              "      <td>자본총계</td>\n",
              "      <td>-</td>\n",
              "      <td>제 51 기</td>\n",
              "      <td>262880421000000</td>\n",
              "      <td>제 50 기</td>\n",
              "      <td>247753177000000</td>\n",
              "      <td>제 49 기</td>\n",
              "      <td>214491428000000</td>\n",
              "      <td>56</td>\n",
              "      <td>NaN</td>\n",
              "    </tr>\n",
              "  </tbody>\n",
              "</table>\n",
              "</div>"
            ],
            "text/plain": [
              "          rcept_no reprt_code bsns_year  ... bfefrmtrm_amount ord thstrm_add_amount\n",
              "53  20200330003851      11011      2019  ...  214491428000000  56               NaN\n",
              "\n",
              "[1 rows x 17 columns]"
            ]
          },
          "metadata": {},
          "execution_count": 175
        }
      ]
    },
    {
      "cell_type": "code",
      "metadata": {
        "id": "vuBykmnGgNPw"
      },
      "source": [
        ""
      ],
      "execution_count": 175,
      "outputs": []
    },
    {
      "cell_type": "markdown",
      "metadata": {
        "id": "meu08K36Ofat"
      },
      "source": [
        "## LSTM - Regression"
      ]
    },
    {
      "cell_type": "markdown",
      "metadata": {
        "id": "BMtvrLoAPTuv"
      },
      "source": [
        "### 전처리"
      ]
    },
    {
      "cell_type": "code",
      "metadata": {
        "colab": {
          "base_uri": "https://localhost:8080/"
        },
        "id": "YhkRpue3OiTT",
        "outputId": "632236f2-621c-4c6c-9825-82d8311d6020"
      },
      "source": [
        "# 전처리\n",
        "\n",
        "scaler = MinMaxScaler()\n",
        "# 스케일을 적용할 column을 정의합니다.\n",
        "scale_cols_2 = ['Open', 'High', 'Low', 'Close', 'Volume', 'Change']\n",
        "# 스케일 후 columns\n",
        "scaled_2 = scaler.fit_transform(stock_re[scale_cols_2])\n",
        "scaled_2"
      ],
      "execution_count": 176,
      "outputs": [
        {
          "output_type": "execute_result",
          "data": {
            "text/plain": [
              "array([[0.29422895, 0.27533784, 0.28395062, 0.26984127, 0.40930157,\n",
              "        0.25579124],\n",
              "       [0.28666036, 0.26351351, 0.28584995, 0.28291317, 0.21767481,\n",
              "        0.45890951],\n",
              "       [0.28666036, 0.25675676, 0.2668566 , 0.25116713, 0.13645893,\n",
              "        0.18719175],\n",
              "       ...,\n",
              "       [0.73699149, 0.66047297, 0.74358974, 0.73109244, 0.08952177,\n",
              "        0.42573443],\n",
              "       [0.74456008, 0.67567568, 0.75498575, 0.74416433, 0.09842472,\n",
              "        0.43311149],\n",
              "       [0.75023652, 0.66722973, 0.74358974, 0.72175537, 0.01617671,\n",
              "        0.28681927]])"
            ]
          },
          "metadata": {},
          "execution_count": 176
        }
      ]
    },
    {
      "cell_type": "code",
      "metadata": {
        "colab": {
          "base_uri": "https://localhost:8080/",
          "height": 417
        },
        "id": "CfHZxSgnOwme",
        "outputId": "a35296f9-ddc0-4489-8a29-9ce67823e9f0"
      },
      "source": [
        "df_2 = pd.DataFrame(scaled_2, columns=scale_cols_2)\n",
        "df_2"
      ],
      "execution_count": 177,
      "outputs": [
        {
          "output_type": "execute_result",
          "data": {
            "text/html": [
              "<div>\n",
              "<style scoped>\n",
              "    .dataframe tbody tr th:only-of-type {\n",
              "        vertical-align: middle;\n",
              "    }\n",
              "\n",
              "    .dataframe tbody tr th {\n",
              "        vertical-align: top;\n",
              "    }\n",
              "\n",
              "    .dataframe thead th {\n",
              "        text-align: right;\n",
              "    }\n",
              "</style>\n",
              "<table border=\"1\" class=\"dataframe\">\n",
              "  <thead>\n",
              "    <tr style=\"text-align: right;\">\n",
              "      <th></th>\n",
              "      <th>Open</th>\n",
              "      <th>High</th>\n",
              "      <th>Low</th>\n",
              "      <th>Close</th>\n",
              "      <th>Volume</th>\n",
              "      <th>Change</th>\n",
              "    </tr>\n",
              "  </thead>\n",
              "  <tbody>\n",
              "    <tr>\n",
              "      <th>0</th>\n",
              "      <td>0.294229</td>\n",
              "      <td>0.275338</td>\n",
              "      <td>0.283951</td>\n",
              "      <td>0.269841</td>\n",
              "      <td>0.409302</td>\n",
              "      <td>0.255791</td>\n",
              "    </tr>\n",
              "    <tr>\n",
              "      <th>1</th>\n",
              "      <td>0.286660</td>\n",
              "      <td>0.263514</td>\n",
              "      <td>0.285850</td>\n",
              "      <td>0.282913</td>\n",
              "      <td>0.217675</td>\n",
              "      <td>0.458910</td>\n",
              "    </tr>\n",
              "    <tr>\n",
              "      <th>2</th>\n",
              "      <td>0.286660</td>\n",
              "      <td>0.256757</td>\n",
              "      <td>0.266857</td>\n",
              "      <td>0.251167</td>\n",
              "      <td>0.136459</td>\n",
              "      <td>0.187192</td>\n",
              "    </tr>\n",
              "    <tr>\n",
              "      <th>3</th>\n",
              "      <td>0.269631</td>\n",
              "      <td>0.238176</td>\n",
              "      <td>0.261159</td>\n",
              "      <td>0.264239</td>\n",
              "      <td>0.110579</td>\n",
              "      <td>0.460481</td>\n",
              "    </tr>\n",
              "    <tr>\n",
              "      <th>4</th>\n",
              "      <td>0.275307</td>\n",
              "      <td>0.246622</td>\n",
              "      <td>0.272555</td>\n",
              "      <td>0.258637</td>\n",
              "      <td>0.068783</td>\n",
              "      <td>0.344417</td>\n",
              "    </tr>\n",
              "    <tr>\n",
              "      <th>...</th>\n",
              "      <td>...</td>\n",
              "      <td>...</td>\n",
              "      <td>...</td>\n",
              "      <td>...</td>\n",
              "      <td>...</td>\n",
              "      <td>...</td>\n",
              "    </tr>\n",
              "    <tr>\n",
              "      <th>820</th>\n",
              "      <td>0.742668</td>\n",
              "      <td>0.667230</td>\n",
              "      <td>0.741690</td>\n",
              "      <td>0.734827</td>\n",
              "      <td>0.136301</td>\n",
              "      <td>0.386638</td>\n",
              "    </tr>\n",
              "    <tr>\n",
              "      <th>821</th>\n",
              "      <td>0.744560</td>\n",
              "      <td>0.662162</td>\n",
              "      <td>0.737892</td>\n",
              "      <td>0.719888</td>\n",
              "      <td>0.127369</td>\n",
              "      <td>0.317115</td>\n",
              "    </tr>\n",
              "    <tr>\n",
              "      <th>822</th>\n",
              "      <td>0.736991</td>\n",
              "      <td>0.660473</td>\n",
              "      <td>0.743590</td>\n",
              "      <td>0.731092</td>\n",
              "      <td>0.089522</td>\n",
              "      <td>0.425734</td>\n",
              "    </tr>\n",
              "    <tr>\n",
              "      <th>823</th>\n",
              "      <td>0.744560</td>\n",
              "      <td>0.675676</td>\n",
              "      <td>0.754986</td>\n",
              "      <td>0.744164</td>\n",
              "      <td>0.098425</td>\n",
              "      <td>0.433111</td>\n",
              "    </tr>\n",
              "    <tr>\n",
              "      <th>824</th>\n",
              "      <td>0.750237</td>\n",
              "      <td>0.667230</td>\n",
              "      <td>0.743590</td>\n",
              "      <td>0.721755</td>\n",
              "      <td>0.016177</td>\n",
              "      <td>0.286819</td>\n",
              "    </tr>\n",
              "  </tbody>\n",
              "</table>\n",
              "<p>825 rows × 6 columns</p>\n",
              "</div>"
            ],
            "text/plain": [
              "         Open      High       Low     Close    Volume    Change\n",
              "0    0.294229  0.275338  0.283951  0.269841  0.409302  0.255791\n",
              "1    0.286660  0.263514  0.285850  0.282913  0.217675  0.458910\n",
              "2    0.286660  0.256757  0.266857  0.251167  0.136459  0.187192\n",
              "3    0.269631  0.238176  0.261159  0.264239  0.110579  0.460481\n",
              "4    0.275307  0.246622  0.272555  0.258637  0.068783  0.344417\n",
              "..        ...       ...       ...       ...       ...       ...\n",
              "820  0.742668  0.667230  0.741690  0.734827  0.136301  0.386638\n",
              "821  0.744560  0.662162  0.737892  0.719888  0.127369  0.317115\n",
              "822  0.736991  0.660473  0.743590  0.731092  0.089522  0.425734\n",
              "823  0.744560  0.675676  0.754986  0.744164  0.098425  0.433111\n",
              "824  0.750237  0.667230  0.743590  0.721755  0.016177  0.286819\n",
              "\n",
              "[825 rows x 6 columns]"
            ]
          },
          "metadata": {},
          "execution_count": 177
        }
      ]
    },
    {
      "cell_type": "markdown",
      "metadata": {
        "id": "BhOo9CTnPW7K"
      },
      "source": [
        "### train / test 분할"
      ]
    },
    {
      "cell_type": "code",
      "metadata": {
        "id": "LZ7mw_tLPAVY"
      },
      "source": [
        "x_train, x_test, y_train, y_test = train_test_split(df_2.drop('Change', 1), df['Change'], test_size=0.2, random_state=0, shuffle=False)"
      ],
      "execution_count": 178,
      "outputs": []
    },
    {
      "cell_type": "code",
      "metadata": {
        "colab": {
          "base_uri": "https://localhost:8080/"
        },
        "id": "JTif1aNIPRSf",
        "outputId": "25c24e37-3061-4804-bfb7-63c432fdebcb"
      },
      "source": [
        "x_train.shape, y_train.shape"
      ],
      "execution_count": 179,
      "outputs": [
        {
          "output_type": "execute_result",
          "data": {
            "text/plain": [
              "((660, 5), (660,))"
            ]
          },
          "metadata": {},
          "execution_count": 179
        }
      ]
    },
    {
      "cell_type": "code",
      "metadata": {
        "id": "xt1UiL9DX69s"
      },
      "source": [
        "def windowed_dataset(series, window_size, batch_size, shuffle):\n",
        "    series = tf.expand_dims(series, axis=-1)\n",
        "    ds = tf.data.Dataset.from_tensor_slices(series)\n",
        "    ds = ds.window(window_size + 1, shift=1, drop_remainder=True)\n",
        "    ds = ds.flat_map(lambda w: w.batch(window_size + 1))\n",
        "    if shuffle:\n",
        "        ds = ds.shuffle(1000)\n",
        "    ds = ds.map(lambda w: (w[:-1], w[-1]))\n",
        "    return ds.batch(batch_size).prefetch(1)"
      ],
      "execution_count": 180,
      "outputs": []
    },
    {
      "cell_type": "code",
      "metadata": {
        "id": "VpjJWuh5X-Jp"
      },
      "source": [
        "WINDOW_SIZE=20\n",
        "BATCH_SIZE=32\n",
        "\n",
        "# trian_data는 학습용 데이터셋, test_data는 검증용 데이터셋 입니다.\n",
        "train_data = windowed_dataset(y_train, WINDOW_SIZE, BATCH_SIZE, True)\n",
        "test_data = windowed_dataset(y_test, WINDOW_SIZE, BATCH_SIZE, False)"
      ],
      "execution_count": 181,
      "outputs": []
    },
    {
      "cell_type": "markdown",
      "metadata": {
        "id": "BtwUnu9ZPqQo"
      },
      "source": [
        "### 모델"
      ]
    },
    {
      "cell_type": "code",
      "metadata": {
        "id": "JmuKaglePfxa"
      },
      "source": [
        "model = Sequential([\n",
        "    # 1차원 feature map 생성\n",
        "    Conv1D(filters=32, kernel_size=5,\n",
        "           padding=\"causal\",\n",
        "           activation=\"relu\",\n",
        "           input_shape=[WINDOW_SIZE, 1]),\n",
        "    # LSTM\n",
        "    LSTM(16, activation='tanh'),\n",
        "    Dense(16, activation=\"relu\"),\n",
        "    Dense(1),\n",
        "])"
      ],
      "execution_count": 182,
      "outputs": []
    },
    {
      "cell_type": "code",
      "metadata": {
        "id": "pCViQt5qYND5"
      },
      "source": [
        "# Sequence 학습에 비교적 좋은 퍼포먼스를 내는 Huber()를 사용합니다.\n",
        "loss = Huber()\n",
        "optimizer = Adam(0.0005)\n",
        "model.compile(loss=Huber(), optimizer=optimizer, metrics=['mse'])"
      ],
      "execution_count": 183,
      "outputs": []
    },
    {
      "cell_type": "code",
      "metadata": {
        "colab": {
          "base_uri": "https://localhost:8080/"
        },
        "id": "05_adl1uRzrk",
        "outputId": "b840b8d8-2313-4b91-8bda-20cd5f81e3bb"
      },
      "source": [
        "model.summary()"
      ],
      "execution_count": 184,
      "outputs": [
        {
          "output_type": "stream",
          "name": "stdout",
          "text": [
            "Model: \"sequential_8\"\n",
            "_________________________________________________________________\n",
            "Layer (type)                 Output Shape              Param #   \n",
            "=================================================================\n",
            "conv1d_5 (Conv1D)            (None, 20, 32)            192       \n",
            "_________________________________________________________________\n",
            "lstm_9 (LSTM)                (None, 16)                3136      \n",
            "_________________________________________________________________\n",
            "dense_14 (Dense)             (None, 16)                272       \n",
            "_________________________________________________________________\n",
            "dense_15 (Dense)             (None, 1)                 17        \n",
            "=================================================================\n",
            "Total params: 3,617\n",
            "Trainable params: 3,617\n",
            "Non-trainable params: 0\n",
            "_________________________________________________________________\n"
          ]
        }
      ]
    },
    {
      "cell_type": "code",
      "metadata": {
        "id": "NXV_wnCVP1C5"
      },
      "source": [
        "# earlystopping은 10번 epoch통안 val_loss 개선이 없다면 학습을 멈춥니다.\n",
        "earlystopping = EarlyStopping(monitor='val_loss', patience=10)\n",
        "# val_loss 기준 체크포인터도 생성합니다.\n",
        "filename = 'best5_re.h5'\n",
        "checkpoint = ModelCheckpoint(filename, \n",
        "                             save_weights_only=True, \n",
        "                             save_best_only=True, \n",
        "                             monitor='val_loss', \n",
        "                             verbose=1)"
      ],
      "execution_count": 185,
      "outputs": []
    },
    {
      "cell_type": "code",
      "metadata": {
        "colab": {
          "base_uri": "https://localhost:8080/"
        },
        "id": "y7hyteA-P79j",
        "outputId": "292c65b3-d793-497a-f929-88c48b649db4"
      },
      "source": [
        "history = model.fit(train_data, \n",
        "                    validation_data=(test_data), \n",
        "                    epochs=50, \n",
        "                    callbacks=[checkpoint, earlystopping])"
      ],
      "execution_count": 186,
      "outputs": [
        {
          "output_type": "stream",
          "name": "stdout",
          "text": [
            "Epoch 1/50\n",
            "20/20 [==============================] - 3s 43ms/step - loss: 0.0658 - mse: 0.1317 - val_loss: 0.0378 - val_mse: 0.0755\n",
            "\n",
            "Epoch 00001: val_loss improved from inf to 0.03777, saving model to best5_re.h5\n",
            "Epoch 2/50\n",
            "20/20 [==============================] - 0s 12ms/step - loss: 0.0230 - mse: 0.0460 - val_loss: 0.0032 - val_mse: 0.0063\n",
            "\n",
            "Epoch 00002: val_loss improved from 0.03777 to 0.00316, saving model to best5_re.h5\n",
            "Epoch 3/50\n",
            "20/20 [==============================] - 0s 11ms/step - loss: 0.0064 - mse: 0.0127 - val_loss: 0.0028 - val_mse: 0.0056\n",
            "\n",
            "Epoch 00003: val_loss improved from 0.00316 to 0.00281, saving model to best5_re.h5\n",
            "Epoch 4/50\n",
            "20/20 [==============================] - 0s 12ms/step - loss: 0.0056 - mse: 0.0113 - val_loss: 0.0025 - val_mse: 0.0050\n",
            "\n",
            "Epoch 00004: val_loss improved from 0.00281 to 0.00251, saving model to best5_re.h5\n",
            "Epoch 5/50\n",
            "20/20 [==============================] - 0s 13ms/step - loss: 0.0056 - mse: 0.0112 - val_loss: 0.0025 - val_mse: 0.0051\n",
            "\n",
            "Epoch 00005: val_loss did not improve from 0.00251\n",
            "Epoch 6/50\n",
            "20/20 [==============================] - 0s 12ms/step - loss: 0.0056 - mse: 0.0112 - val_loss: 0.0025 - val_mse: 0.0050\n",
            "\n",
            "Epoch 00006: val_loss improved from 0.00251 to 0.00250, saving model to best5_re.h5\n",
            "Epoch 7/50\n",
            "20/20 [==============================] - 0s 13ms/step - loss: 0.0056 - mse: 0.0113 - val_loss: 0.0025 - val_mse: 0.0050\n",
            "\n",
            "Epoch 00007: val_loss improved from 0.00250 to 0.00250, saving model to best5_re.h5\n",
            "Epoch 8/50\n",
            "20/20 [==============================] - 0s 12ms/step - loss: 0.0056 - mse: 0.0112 - val_loss: 0.0025 - val_mse: 0.0050\n",
            "\n",
            "Epoch 00008: val_loss improved from 0.00250 to 0.00250, saving model to best5_re.h5\n",
            "Epoch 9/50\n",
            "20/20 [==============================] - 0s 13ms/step - loss: 0.0056 - mse: 0.0112 - val_loss: 0.0025 - val_mse: 0.0050\n",
            "\n",
            "Epoch 00009: val_loss improved from 0.00250 to 0.00249, saving model to best5_re.h5\n",
            "Epoch 10/50\n",
            "20/20 [==============================] - 0s 12ms/step - loss: 0.0056 - mse: 0.0112 - val_loss: 0.0025 - val_mse: 0.0050\n",
            "\n",
            "Epoch 00010: val_loss did not improve from 0.00249\n",
            "Epoch 11/50\n",
            "20/20 [==============================] - 0s 12ms/step - loss: 0.0056 - mse: 0.0112 - val_loss: 0.0025 - val_mse: 0.0050\n",
            "\n",
            "Epoch 00011: val_loss did not improve from 0.00249\n",
            "Epoch 12/50\n",
            "20/20 [==============================] - 0s 12ms/step - loss: 0.0056 - mse: 0.0112 - val_loss: 0.0025 - val_mse: 0.0050\n",
            "\n",
            "Epoch 00012: val_loss did not improve from 0.00249\n",
            "Epoch 13/50\n",
            "20/20 [==============================] - 0s 11ms/step - loss: 0.0056 - mse: 0.0112 - val_loss: 0.0025 - val_mse: 0.0050\n",
            "\n",
            "Epoch 00013: val_loss did not improve from 0.00249\n",
            "Epoch 14/50\n",
            "20/20 [==============================] - 0s 12ms/step - loss: 0.0056 - mse: 0.0113 - val_loss: 0.0026 - val_mse: 0.0052\n",
            "\n",
            "Epoch 00014: val_loss did not improve from 0.00249\n",
            "Epoch 15/50\n",
            "20/20 [==============================] - 0s 12ms/step - loss: 0.0056 - mse: 0.0112 - val_loss: 0.0025 - val_mse: 0.0050\n",
            "\n",
            "Epoch 00015: val_loss did not improve from 0.00249\n",
            "Epoch 16/50\n",
            "20/20 [==============================] - 0s 12ms/step - loss: 0.0056 - mse: 0.0111 - val_loss: 0.0025 - val_mse: 0.0050\n",
            "\n",
            "Epoch 00016: val_loss did not improve from 0.00249\n",
            "Epoch 17/50\n",
            "20/20 [==============================] - 0s 12ms/step - loss: 0.0056 - mse: 0.0111 - val_loss: 0.0025 - val_mse: 0.0050\n",
            "\n",
            "Epoch 00017: val_loss did not improve from 0.00249\n",
            "Epoch 18/50\n",
            "20/20 [==============================] - 0s 12ms/step - loss: 0.0056 - mse: 0.0111 - val_loss: 0.0025 - val_mse: 0.0050\n",
            "\n",
            "Epoch 00018: val_loss did not improve from 0.00249\n",
            "Epoch 19/50\n",
            "20/20 [==============================] - 0s 12ms/step - loss: 0.0055 - mse: 0.0111 - val_loss: 0.0025 - val_mse: 0.0049\n",
            "\n",
            "Epoch 00019: val_loss improved from 0.00249 to 0.00247, saving model to best5_re.h5\n",
            "Epoch 20/50\n",
            "20/20 [==============================] - 0s 14ms/step - loss: 0.0056 - mse: 0.0111 - val_loss: 0.0025 - val_mse: 0.0050\n",
            "\n",
            "Epoch 00020: val_loss did not improve from 0.00247\n",
            "Epoch 21/50\n",
            "20/20 [==============================] - 0s 12ms/step - loss: 0.0055 - mse: 0.0111 - val_loss: 0.0025 - val_mse: 0.0050\n",
            "\n",
            "Epoch 00021: val_loss did not improve from 0.00247\n",
            "Epoch 22/50\n",
            "20/20 [==============================] - 0s 12ms/step - loss: 0.0056 - mse: 0.0112 - val_loss: 0.0025 - val_mse: 0.0050\n",
            "\n",
            "Epoch 00022: val_loss did not improve from 0.00247\n",
            "Epoch 23/50\n",
            "20/20 [==============================] - 0s 12ms/step - loss: 0.0055 - mse: 0.0111 - val_loss: 0.0025 - val_mse: 0.0049\n",
            "\n",
            "Epoch 00023: val_loss improved from 0.00247 to 0.00247, saving model to best5_re.h5\n",
            "Epoch 24/50\n",
            "20/20 [==============================] - 0s 12ms/step - loss: 0.0055 - mse: 0.0111 - val_loss: 0.0026 - val_mse: 0.0052\n",
            "\n",
            "Epoch 00024: val_loss did not improve from 0.00247\n",
            "Epoch 25/50\n",
            "20/20 [==============================] - 0s 12ms/step - loss: 0.0055 - mse: 0.0111 - val_loss: 0.0025 - val_mse: 0.0050\n",
            "\n",
            "Epoch 00025: val_loss did not improve from 0.00247\n",
            "Epoch 26/50\n",
            "20/20 [==============================] - 0s 14ms/step - loss: 0.0056 - mse: 0.0111 - val_loss: 0.0025 - val_mse: 0.0049\n",
            "\n",
            "Epoch 00026: val_loss improved from 0.00247 to 0.00246, saving model to best5_re.h5\n",
            "Epoch 27/50\n",
            "20/20 [==============================] - 0s 12ms/step - loss: 0.0055 - mse: 0.0111 - val_loss: 0.0025 - val_mse: 0.0051\n",
            "\n",
            "Epoch 00027: val_loss did not improve from 0.00246\n",
            "Epoch 28/50\n",
            "20/20 [==============================] - 0s 13ms/step - loss: 0.0056 - mse: 0.0111 - val_loss: 0.0025 - val_mse: 0.0049\n",
            "\n",
            "Epoch 00028: val_loss did not improve from 0.00246\n",
            "Epoch 29/50\n",
            "20/20 [==============================] - 0s 12ms/step - loss: 0.0055 - mse: 0.0110 - val_loss: 0.0025 - val_mse: 0.0049\n",
            "\n",
            "Epoch 00029: val_loss improved from 0.00246 to 0.00246, saving model to best5_re.h5\n",
            "Epoch 30/50\n",
            "20/20 [==============================] - 0s 13ms/step - loss: 0.0055 - mse: 0.0110 - val_loss: 0.0025 - val_mse: 0.0049\n",
            "\n",
            "Epoch 00030: val_loss did not improve from 0.00246\n",
            "Epoch 31/50\n",
            "20/20 [==============================] - 0s 11ms/step - loss: 0.0055 - mse: 0.0110 - val_loss: 0.0026 - val_mse: 0.0052\n",
            "\n",
            "Epoch 00031: val_loss did not improve from 0.00246\n",
            "Epoch 32/50\n",
            "20/20 [==============================] - 0s 14ms/step - loss: 0.0055 - mse: 0.0111 - val_loss: 0.0025 - val_mse: 0.0049\n",
            "\n",
            "Epoch 00032: val_loss did not improve from 0.00246\n",
            "Epoch 33/50\n",
            "20/20 [==============================] - 0s 12ms/step - loss: 0.0055 - mse: 0.0111 - val_loss: 0.0025 - val_mse: 0.0049\n",
            "\n",
            "Epoch 00033: val_loss improved from 0.00246 to 0.00245, saving model to best5_re.h5\n",
            "Epoch 34/50\n",
            "20/20 [==============================] - 0s 11ms/step - loss: 0.0055 - mse: 0.0110 - val_loss: 0.0025 - val_mse: 0.0050\n",
            "\n",
            "Epoch 00034: val_loss did not improve from 0.00245\n",
            "Epoch 35/50\n",
            "20/20 [==============================] - 0s 11ms/step - loss: 0.0055 - mse: 0.0110 - val_loss: 0.0025 - val_mse: 0.0050\n",
            "\n",
            "Epoch 00035: val_loss did not improve from 0.00245\n",
            "Epoch 36/50\n",
            "20/20 [==============================] - 0s 12ms/step - loss: 0.0055 - mse: 0.0111 - val_loss: 0.0025 - val_mse: 0.0049\n",
            "\n",
            "Epoch 00036: val_loss did not improve from 0.00245\n",
            "Epoch 37/50\n",
            "20/20 [==============================] - 0s 12ms/step - loss: 0.0055 - mse: 0.0110 - val_loss: 0.0025 - val_mse: 0.0050\n",
            "\n",
            "Epoch 00037: val_loss did not improve from 0.00245\n",
            "Epoch 38/50\n",
            "20/20 [==============================] - 0s 12ms/step - loss: 0.0055 - mse: 0.0110 - val_loss: 0.0025 - val_mse: 0.0050\n",
            "\n",
            "Epoch 00038: val_loss did not improve from 0.00245\n",
            "Epoch 39/50\n",
            "20/20 [==============================] - 0s 12ms/step - loss: 0.0055 - mse: 0.0110 - val_loss: 0.0025 - val_mse: 0.0049\n",
            "\n",
            "Epoch 00039: val_loss did not improve from 0.00245\n",
            "Epoch 40/50\n",
            "20/20 [==============================] - 0s 12ms/step - loss: 0.0055 - mse: 0.0110 - val_loss: 0.0025 - val_mse: 0.0050\n",
            "\n",
            "Epoch 00040: val_loss did not improve from 0.00245\n",
            "Epoch 41/50\n",
            "20/20 [==============================] - 0s 12ms/step - loss: 0.0055 - mse: 0.0110 - val_loss: 0.0025 - val_mse: 0.0049\n",
            "\n",
            "Epoch 00041: val_loss improved from 0.00245 to 0.00245, saving model to best5_re.h5\n",
            "Epoch 42/50\n",
            "20/20 [==============================] - 0s 12ms/step - loss: 0.0055 - mse: 0.0109 - val_loss: 0.0024 - val_mse: 0.0049\n",
            "\n",
            "Epoch 00042: val_loss improved from 0.00245 to 0.00245, saving model to best5_re.h5\n",
            "Epoch 43/50\n",
            "20/20 [==============================] - 0s 13ms/step - loss: 0.0055 - mse: 0.0110 - val_loss: 0.0025 - val_mse: 0.0051\n",
            "\n",
            "Epoch 00043: val_loss did not improve from 0.00245\n",
            "Epoch 44/50\n",
            "20/20 [==============================] - 0s 13ms/step - loss: 0.0055 - mse: 0.0110 - val_loss: 0.0025 - val_mse: 0.0049\n",
            "\n",
            "Epoch 00044: val_loss did not improve from 0.00245\n",
            "Epoch 45/50\n",
            "20/20 [==============================] - 0s 12ms/step - loss: 0.0055 - mse: 0.0110 - val_loss: 0.0025 - val_mse: 0.0049\n",
            "\n",
            "Epoch 00045: val_loss did not improve from 0.00245\n",
            "Epoch 46/50\n",
            "20/20 [==============================] - 0s 13ms/step - loss: 0.0055 - mse: 0.0110 - val_loss: 0.0026 - val_mse: 0.0051\n",
            "\n",
            "Epoch 00046: val_loss did not improve from 0.00245\n",
            "Epoch 47/50\n",
            "20/20 [==============================] - 0s 13ms/step - loss: 0.0055 - mse: 0.0110 - val_loss: 0.0024 - val_mse: 0.0049\n",
            "\n",
            "Epoch 00047: val_loss did not improve from 0.00245\n",
            "Epoch 48/50\n",
            "20/20 [==============================] - 0s 11ms/step - loss: 0.0055 - mse: 0.0109 - val_loss: 0.0025 - val_mse: 0.0049\n",
            "\n",
            "Epoch 00048: val_loss did not improve from 0.00245\n",
            "Epoch 49/50\n",
            "20/20 [==============================] - 0s 13ms/step - loss: 0.0055 - mse: 0.0109 - val_loss: 0.0024 - val_mse: 0.0049\n",
            "\n",
            "Epoch 00049: val_loss improved from 0.00245 to 0.00244, saving model to best5_re.h5\n",
            "Epoch 50/50\n",
            "20/20 [==============================] - 0s 13ms/step - loss: 0.0054 - mse: 0.0109 - val_loss: 0.0025 - val_mse: 0.0050\n",
            "\n",
            "Epoch 00050: val_loss did not improve from 0.00244\n"
          ]
        }
      ]
    },
    {
      "cell_type": "code",
      "metadata": {
        "id": "dqT4e63-Rs39"
      },
      "source": [
        "model.load_weights(filename)"
      ],
      "execution_count": 187,
      "outputs": []
    },
    {
      "cell_type": "code",
      "metadata": {
        "colab": {
          "base_uri": "https://localhost:8080/"
        },
        "id": "ggxl06ntYgs1",
        "outputId": "25e88618-9519-4cf1-c0e0-cf00e2d7a52b"
      },
      "source": [
        "pred = model.predict(test_data)\n",
        "pred.shape"
      ],
      "execution_count": 188,
      "outputs": [
        {
          "output_type": "execute_result",
          "data": {
            "text/plain": [
              "(145, 1)"
            ]
          },
          "metadata": {},
          "execution_count": 188
        }
      ]
    },
    {
      "cell_type": "code",
      "metadata": {
        "colab": {
          "base_uri": "https://localhost:8080/",
          "height": 537
        },
        "id": "O9QmBw9iYj_j",
        "outputId": "76d1d3a3-d275-4ff8-fdbf-159d39293f9c"
      },
      "source": [
        "plt.figure(figsize=(12, 9))\n",
        "plt.plot(np.asarray(y_test)[20:], label='actual')\n",
        "plt.plot(pred, label='prediction')\n",
        "plt.legend()\n",
        "plt.show()"
      ],
      "execution_count": 189,
      "outputs": [
        {
          "output_type": "display_data",
          "data": {
            "image/png": "[encoded data removed]",
            "text/plain": [
              "<Figure size 864x648 with 1 Axes>"
            ]
          },
          "metadata": {
            "needs_background": "light"
          }
        }
      ]
    },
    {
      "cell_type": "code",
      "metadata": {
        "id": "xlrKbd1NZCbK"
      },
      "source": [
        "aa = pd.DataFrame(pred)"
      ],
      "execution_count": 190,
      "outputs": []
    },
    {
      "cell_type": "code",
      "metadata": {
        "id": "ecahGyQzZKal"
      },
      "source": [
        "aa.columns = ['change']"
      ],
      "execution_count": 191,
      "outputs": []
    },
    {
      "cell_type": "code",
      "metadata": {
        "id": "txU6kr2QaPnH"
      },
      "source": [
        "aa['change'] = np.where(aa['change'] > 0,1,np.where(aa['change']==0,0,-1))"
      ],
      "execution_count": 192,
      "outputs": []
    },
    {
      "cell_type": "code",
      "metadata": {
        "colab": {
          "base_uri": "https://localhost:8080/"
        },
        "id": "g499ZrSua8Qw",
        "outputId": "7f703e2e-e975-4a7f-ec12-b88e0567fe57"
      },
      "source": [
        "aa.change.value_counts()"
      ],
      "execution_count": 193,
      "outputs": [
        {
          "output_type": "execute_result",
          "data": {
            "text/plain": [
              "1    145\n",
              "Name: change, dtype: int64"
            ]
          },
          "metadata": {},
          "execution_count": 193
        }
      ]
    },
    {
      "cell_type": "code",
      "metadata": {
        "id": "aR2rMIL0bA2a"
      },
      "source": [
        ""
      ],
      "execution_count": 193,
      "outputs": []
    }
  ]
}