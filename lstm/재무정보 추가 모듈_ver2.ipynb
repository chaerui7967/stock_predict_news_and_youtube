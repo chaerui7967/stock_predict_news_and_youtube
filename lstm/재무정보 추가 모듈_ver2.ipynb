{
 "cells": [
  {
   "cell_type": "code",
   "execution_count": null,
   "id": "e1a99245",
   "metadata": {},
   "outputs": [],
   "source": [
    "!pip install finance-datareader\n",
    "!pip install opendartreader\n",
    "!pip install --upgrade opendartreader"
   ]
  },
  {
   "cell_type": "markdown",
   "id": "7b82ebc9",
   "metadata": {},
   "source": [
    "=========== 오류 코드 수정 9.15 ========   2017~2021 실행 가능 확인[ 업종 코드 = 5380 5930 51910,660,68270] "
   ]
  },
  {
   "cell_type": "code",
   "execution_count": 1,
   "id": "1cefa3e5",
   "metadata": {},
   "outputs": [],
   "source": [
    "import pandas as pd\n",
    "import os\n",
    "import matplotlib.pyplot as plt\n",
    "import seaborn as sns\n",
    "import warnings\n",
    "warnings.filterwarnings('ignore')\n",
    "\n",
    "# 주식가격 로딩\n",
    "import FinanceDataReader as fdr\n",
    "\n",
    "# 재무재표 로딩\n",
    "import OpenDartReader\n",
    "\n",
    "import datetime"
   ]
  },
  {
   "cell_type": "code",
   "execution_count": 2,
   "id": "ad4e8199",
   "metadata": {},
   "outputs": [],
   "source": [
    "def pro_equ(code, start, end):\n",
    "    # OpenDartReader 사용\n",
    "    api_key = '9b9157d4313a84f3141d73f879c5d239d49bb0ce'\n",
    "    dart = OpenDartReader(api_key)\n",
    "    arr = [] # 재무 정보\n",
    "    index = [] # 계산지표\n",
    "    \n",
    "    # 주식정보\n",
    "    if type(code) != str:\n",
    "        code = str(code).zfill(6)       \n",
    "    \n",
    "    if type(start) != str:\n",
    "        start = str(start)\n",
    "    \n",
    "    if type(end) != str:\n",
    "        end = str(end)\n",
    "        \n",
    "    stock = fdr.DataReader(code, start = str(int(start)+1), end = end)  # 2021 지표 <- 2020,2019 데이터로 만듬\n",
    "    stock = stock.reset_index()\n",
    "    stock['year'] = stock['Date'].dt.year\n",
    "    stock['PER'] = 0.1\n",
    "    stock['PBR'] = 0.1\n",
    "    stock['ROE'] = 0.1\n",
    "    stock['ROA'] = 0.1\n",
    "#     print(stock.info())\n",
    "    #         ------------------------\n",
    "    \n",
    "    small = dart.report('005930', '소액주주', int(datetime.datetime.now().strftime(\"%Y\"))-1, reprt_code=11014)\n",
    "    stock_tot_co = int(small['stock_tot_co'].str.replace(',', '')) # 총 발행 주식 수\n",
    "    \n",
    "    for i in range(int(start[:4]), int(end[:4])):\n",
    "        # https://opendart.fss.or.kr/guide/detail.do?apiGrpCd=DS003&apiId=2019016 --> 입력변수 명 참고\n",
    "        # corp: 종목코드, bsns_year: 사업연도, reprt_code: 보고서코드\n",
    "        # (1분기보고서 : 11013, 반기보고서 : 11012, 3분기보고서 : 11014, 사업보고서 : 11011)\n",
    "        fs_before = dart.finstate_all(corp = code, bsns_year= str(i-1), fs_div='CFS', reprt_code=11011) \n",
    "        fs_present = dart.finstate_all(corp = code, bsns_year= i, fs_div='CFS', reprt_code=11014)\n",
    "\n",
    "        # 자본, 부채는 당기 금액('thstrm_amount') 값을 통해서 구함\n",
    "#         equity = int(fs_present.loc[fs_present['sj_div'].isin(['BS']) & fs_present['account_id'].isin(['ifrs-full_Equity']), 'thstrm_amount'].replace(\",\", \"\")) # 당기자본(자본총계)\n",
    "        equity = int(fs_present.loc[fs_present['sj_div'].isin(['BS']) & fs_present['account_nm'].isin(['자본총계']), 'thstrm_amount'])\n",
    "#         print(equity)\n",
    "#         liability = int(fs_present.loc[fs_present['sj_div'].isin(['BS']) & fs_present['account_id'].isin(['ifrs-full_Liabilities']), 'thstrm_amount'].replace(\",\", \"\")) # 당기부채(부채총계)\n",
    "        liability = int(fs_present.loc[fs_present['sj_div'].isin(['BS']) & fs_present['account_nm'].isin(['부채총계']), 'thstrm_amount'].replace(\",\", \"\"))\n",
    "#         print(liability)\n",
    "        # 자산 총계\n",
    "        assets = equity + liability\n",
    "        \n",
    "        # <예시>\n",
    "        # 2019 4분기 ~ 2020 3분기까지의 당기순이익의 합을 구하려면 2019년 4분기 당기순이익과 2020년 1분기 ~ 3분기 당기순이익의 합을 알아여함\n",
    "        # 2020년 1분기 ~ 3분기 당기순이익의 합은 2020년 3분기 손익계산서에서 'thstrm_add_amount' 값을 가져오면 되고\n",
    "        # 2019년 4분기 당기순이익은 2019년 전체 당기순이익에서 2019년 1분기 ~ 3분기 당기순이익의 합을 빼서 구할 수 있음\n",
    "        \n",
    "        # frmtrm_add_amount --> 전기 금액, thstrm_amount ---> 당기 금액, thstrm_add_amount --> 당기 누적금액\n",
    "#         profit_before_3Q = int(fs_present.loc[fs_present['sj_div'].isin(['IS']) & fs_present['account_id'].isin(['ifrs-full_ProfitLossAttributableToOwnersOfParent']), 'frmtrm_add_amount'].replace(\",\", \"\")) # 당기순이익\n",
    "        \n",
    "    \n",
    "        sj_l = ['IS','CIS']\n",
    "        sj = []\n",
    "        sj_b =[]\n",
    "        for re in range(len(sj_l)):\n",
    "            if sj_l[re] in list(fs_present['sj_div'].unique()):\n",
    "                sj.append(sj_l[re])\n",
    "            if sj_l[re] in list(fs_before['sj_div'].unique()):\n",
    "                sj_b.append(sj_l[re])\n",
    "        \n",
    "        \n",
    "        pf_l = ['지배기업의 소유주에게 귀속되는 당기순이익(손실)','당기순이익','당기순이익(손실)','분기순이익','분(반)기순이익(손실)','순이익(손실)','분기순이익(손실)','연결분기순이익','연결당기순이익', '연결분기순이익(손실)']\n",
    "        for k in range(len(pf_l)):\n",
    "            if pf_l[k] in list(fs_present.loc[fs_present['sj_div'].isin(sj),'account_nm'].unique()):\n",
    "                pf = pf_l[k]\n",
    "            if pf_l[k] in list(fs_before['account_nm'].unique()):\n",
    "                pf_b = pf_l[k]     \n",
    "        \n",
    "        \n",
    "#         print(pf)\n",
    "        profit_before_3Q = int(fs_present.loc[fs_present['sj_div'].isin(sj) & fs_present['account_nm'].isin([pf]), 'frmtrm_add_amount'].iloc[0].replace(\",\", \"\"))\n",
    "#         print(profit_before_3Q)\n",
    "#         profit_before = int(fs_before.loc[fs_before['sj_div'].isin(['IS']) & fs_before['account_id'].isin(['ifrs-full_ProfitLossAttributableToOwnersOfParent']), 'thstrm_amount'].replace(\",\", \"\")) # 당기순이익\n",
    "        profit_before = int(fs_before.loc[fs_before['sj_div'].isin(sj_b) & fs_before['account_nm'].isin([pf_b]), 'thstrm_amount'].iloc[0].replace(\",\", \"\"))\n",
    "#         print(profit_before)\n",
    "#         profit_present = int(fs_present.loc[fs_present['sj_div'].isin(['IS']) & fs_present['account_id'].isin(['ifrs-full_ProfitLossAttributableToOwnersOfParent']), 'thstrm_add_amount'].replace(\",\", \"\")) # 당기순이익\n",
    "        profit_present = int(fs_present.loc[fs_present['sj_div'].isin(sj) & fs_present['account_nm'].isin([pf]), 'thstrm_add_amount'].iloc[0].replace(\",\", \"\")) # 당기순이익\n",
    "#         print(profit_present)\n",
    "        profit = (profit_before-profit_before_3Q) + profit_present\n",
    "        \n",
    "        a = (equity, liability, assets, profit, stock_tot_co) \n",
    "        # 자본총계(당기자본), 부채총계(당기부채), 자산총계, 당기 순이익, 총 발행 주식수\n",
    "        arr.append(a)\n",
    "        \n",
    "#         - PER(주가 수익률) : 주가를 1주당 순이익(EPS)로 나눈 값\n",
    "#         - PBR(주가 순자산 비율) : 주가를 1주당 순자산가치로 나눈 값\n",
    "#         - ROE(자기자본이익률) : 당기순이익을 순자산(자기자본)으로 나눈 값\n",
    "#         - ROA(총자산수익률) : 당기순이익을 자산총액으로 나눈 값\n",
    "        \n",
    "    \n",
    "        ROA = profit/assets\n",
    "        stock['ROA'][stock[stock.year == i+1].index] = ROA\n",
    "        \n",
    "        \n",
    "        EPS = profit/stock_tot_co\n",
    "        PER = stock['Close'][stock[stock.year == i+1].index]/EPS\n",
    "        stock['PER'][stock[stock.year == i+1].index] = PER\n",
    "\n",
    "#         stock['PER'][stock[stock['Date'].dt.year == i+1].index] = PER\n",
    "#         PER = stock[stock['Date'].dt.year == i+1]['Close']/EPS\n",
    "        \n",
    "        BPS = equity/stock_tot_co\n",
    "        PBR = stock['Close'][stock[stock.year == i+1].index]/BPS\n",
    "#         PBR = stock[stock['Date'].dt.year == i+1]['Close']/BPS\n",
    "        stock['PBR'][stock[stock.year == i+1].index] = PBR\n",
    "    \n",
    "    \n",
    "    \n",
    "#         for i in PER.index:\n",
    "#             stock['PER'][i] = PER[i]\n",
    "#             stock['PBR'][i] = PBR[i]\n",
    "        \n",
    "        b = (EPS,BPS)\n",
    "        # EPS: 순이익/총발행주식수 --> 주당 수익?\n",
    "        # BPS: 순자산/총발행 주식수 --> 주당 자산가치?\n",
    "        \n",
    "        index.append(b)\n",
    "        \n",
    "    stock['ROE'] = stock['PBR']/stock['PER']\n",
    "    \n",
    "    return arr,index, stock"
   ]
  },
  {
   "cell_type": "code",
   "execution_count": 3,
   "id": "67fc681a",
   "metadata": {},
   "outputs": [],
   "source": [
    "end_date = datetime.datetime.now().strftime(\"%Y%m%d\")"
   ]
  },
  {
   "cell_type": "code",
   "execution_count": 4,
   "id": "148df364",
   "metadata": {},
   "outputs": [
    {
     "name": "stdout",
     "output_type": "stream",
     "text": [
      "pf 미확인\n",
      "pf 미확인\n",
      "pf 미확인\n",
      "pf 미확인\n",
      "pf 미확인\n",
      "pf 미확인\n",
      "pf 미확인\n",
      "pf 미확인\n",
      "pf 미확인\n",
      "pf 미확인\n",
      "pf 미확인\n",
      "pf 미확인\n",
      "pf 미확인\n",
      "pf 미확인\n",
      "pf 미확인\n",
      "pf 미확인\n",
      "pf 미확인\n",
      "pf 미확인\n",
      "pf 미확인\n",
      "pf 미확인\n",
      "pf 미확인\n",
      "pf 미확인\n",
      "pf 미확인\n",
      "pf 미확인\n",
      "pf 미확인\n",
      "pf 미확인\n",
      "pf 미확인\n",
      "pf 미확인\n",
      "pf 미확인\n",
      "pf 미확인\n",
      "pf 미확인\n"
     ]
    }
   ],
   "source": [
    "arr, indexs, df = pro_equ(68270,2017,end_date)  # 2018의 경우 2019,2020,2021까지의 결과 도출"
   ]
  },
  {
   "cell_type": "code",
   "execution_count": 5,
   "id": "4124ebf8",
   "metadata": {},
   "outputs": [
    {
     "data": {
      "text/html": [
       "<div>\n",
       "<style scoped>\n",
       "    .dataframe tbody tr th:only-of-type {\n",
       "        vertical-align: middle;\n",
       "    }\n",
       "\n",
       "    .dataframe tbody tr th {\n",
       "        vertical-align: top;\n",
       "    }\n",
       "\n",
       "    .dataframe thead th {\n",
       "        text-align: right;\n",
       "    }\n",
       "</style>\n",
       "<table border=\"1\" class=\"dataframe\">\n",
       "  <thead>\n",
       "    <tr style=\"text-align: right;\">\n",
       "      <th></th>\n",
       "      <th>Date</th>\n",
       "      <th>Open</th>\n",
       "      <th>High</th>\n",
       "      <th>Low</th>\n",
       "      <th>Close</th>\n",
       "      <th>Volume</th>\n",
       "      <th>Change</th>\n",
       "      <th>year</th>\n",
       "      <th>PER</th>\n",
       "      <th>PBR</th>\n",
       "      <th>ROE</th>\n",
       "      <th>ROA</th>\n",
       "    </tr>\n",
       "  </thead>\n",
       "  <tbody>\n",
       "    <tr>\n",
       "      <th>0</th>\n",
       "      <td>2018-01-02</td>\n",
       "      <td>206047</td>\n",
       "      <td>209825</td>\n",
       "      <td>204757</td>\n",
       "      <td>208167</td>\n",
       "      <td>1176443</td>\n",
       "      <td>0.021709</td>\n",
       "      <td>2018</td>\n",
       "      <td>3583.888333</td>\n",
       "      <td>504.641965</td>\n",
       "      <td>0.140809</td>\n",
       "      <td>0.105425</td>\n",
       "    </tr>\n",
       "    <tr>\n",
       "      <th>1</th>\n",
       "      <td>2018-01-03</td>\n",
       "      <td>210931</td>\n",
       "      <td>227794</td>\n",
       "      <td>209272</td>\n",
       "      <td>227334</td>\n",
       "      <td>2411162</td>\n",
       "      <td>0.092075</td>\n",
       "      <td>2018</td>\n",
       "      <td>3913.875256</td>\n",
       "      <td>551.106931</td>\n",
       "      <td>0.140809</td>\n",
       "      <td>0.105425</td>\n",
       "    </tr>\n",
       "    <tr>\n",
       "      <th>2</th>\n",
       "      <td>2018-01-04</td>\n",
       "      <td>230007</td>\n",
       "      <td>240696</td>\n",
       "      <td>226044</td>\n",
       "      <td>230376</td>\n",
       "      <td>3265527</td>\n",
       "      <td>0.013381</td>\n",
       "      <td>2018</td>\n",
       "      <td>3966.247574</td>\n",
       "      <td>558.481399</td>\n",
       "      <td>0.140809</td>\n",
       "      <td>0.105425</td>\n",
       "    </tr>\n",
       "    <tr>\n",
       "      <th>3</th>\n",
       "      <td>2018-01-05</td>\n",
       "      <td>234890</td>\n",
       "      <td>246041</td>\n",
       "      <td>234061</td>\n",
       "      <td>245949</td>\n",
       "      <td>1920918</td>\n",
       "      <td>0.067598</td>\n",
       "      <td>2018</td>\n",
       "      <td>4234.358720</td>\n",
       "      <td>596.233729</td>\n",
       "      <td>0.140809</td>\n",
       "      <td>0.105425</td>\n",
       "    </tr>\n",
       "    <tr>\n",
       "      <th>4</th>\n",
       "      <td>2018-01-08</td>\n",
       "      <td>256637</td>\n",
       "      <td>279399</td>\n",
       "      <td>255440</td>\n",
       "      <td>278754</td>\n",
       "      <td>4298770</td>\n",
       "      <td>0.133381</td>\n",
       "      <td>2018</td>\n",
       "      <td>4799.143036</td>\n",
       "      <td>675.760166</td>\n",
       "      <td>0.140809</td>\n",
       "      <td>0.105425</td>\n",
       "    </tr>\n",
       "    <tr>\n",
       "      <th>...</th>\n",
       "      <td>...</td>\n",
       "      <td>...</td>\n",
       "      <td>...</td>\n",
       "      <td>...</td>\n",
       "      <td>...</td>\n",
       "      <td>...</td>\n",
       "      <td>...</td>\n",
       "      <td>...</td>\n",
       "      <td>...</td>\n",
       "      <td>...</td>\n",
       "      <td>...</td>\n",
       "      <td>...</td>\n",
       "    </tr>\n",
       "    <tr>\n",
       "      <th>910</th>\n",
       "      <td>2021-09-09</td>\n",
       "      <td>272000</td>\n",
       "      <td>275500</td>\n",
       "      <td>267000</td>\n",
       "      <td>269000</td>\n",
       "      <td>595228</td>\n",
       "      <td>-0.016453</td>\n",
       "      <td>2021</td>\n",
       "      <td>3119.522460</td>\n",
       "      <td>478.721765</td>\n",
       "      <td>0.153460</td>\n",
       "      <td>0.110985</td>\n",
       "    </tr>\n",
       "    <tr>\n",
       "      <th>911</th>\n",
       "      <td>2021-09-10</td>\n",
       "      <td>269500</td>\n",
       "      <td>271000</td>\n",
       "      <td>265500</td>\n",
       "      <td>267500</td>\n",
       "      <td>394088</td>\n",
       "      <td>-0.005576</td>\n",
       "      <td>2021</td>\n",
       "      <td>3102.127354</td>\n",
       "      <td>476.052313</td>\n",
       "      <td>0.153460</td>\n",
       "      <td>0.110985</td>\n",
       "    </tr>\n",
       "    <tr>\n",
       "      <th>912</th>\n",
       "      <td>2021-09-13</td>\n",
       "      <td>266500</td>\n",
       "      <td>267000</td>\n",
       "      <td>260500</td>\n",
       "      <td>262000</td>\n",
       "      <td>505510</td>\n",
       "      <td>-0.020561</td>\n",
       "      <td>2021</td>\n",
       "      <td>3038.345296</td>\n",
       "      <td>466.264321</td>\n",
       "      <td>0.153460</td>\n",
       "      <td>0.110985</td>\n",
       "    </tr>\n",
       "    <tr>\n",
       "      <th>913</th>\n",
       "      <td>2021-09-14</td>\n",
       "      <td>261500</td>\n",
       "      <td>265000</td>\n",
       "      <td>260500</td>\n",
       "      <td>263000</td>\n",
       "      <td>416684</td>\n",
       "      <td>0.003817</td>\n",
       "      <td>2021</td>\n",
       "      <td>3049.942034</td>\n",
       "      <td>468.043956</td>\n",
       "      <td>0.153460</td>\n",
       "      <td>0.110985</td>\n",
       "    </tr>\n",
       "    <tr>\n",
       "      <th>914</th>\n",
       "      <td>2021-09-15</td>\n",
       "      <td>266000</td>\n",
       "      <td>275500</td>\n",
       "      <td>265500</td>\n",
       "      <td>272500</td>\n",
       "      <td>570117</td>\n",
       "      <td>0.036122</td>\n",
       "      <td>2021</td>\n",
       "      <td>3160.111043</td>\n",
       "      <td>484.950487</td>\n",
       "      <td>0.153460</td>\n",
       "      <td>0.110985</td>\n",
       "    </tr>\n",
       "  </tbody>\n",
       "</table>\n",
       "<p>915 rows × 12 columns</p>\n",
       "</div>"
      ],
      "text/plain": [
       "          Date    Open    High     Low   Close   Volume    Change  year  \\\n",
       "0   2018-01-02  206047  209825  204757  208167  1176443  0.021709  2018   \n",
       "1   2018-01-03  210931  227794  209272  227334  2411162  0.092075  2018   \n",
       "2   2018-01-04  230007  240696  226044  230376  3265527  0.013381  2018   \n",
       "3   2018-01-05  234890  246041  234061  245949  1920918  0.067598  2018   \n",
       "4   2018-01-08  256637  279399  255440  278754  4298770  0.133381  2018   \n",
       "..         ...     ...     ...     ...     ...      ...       ...   ...   \n",
       "910 2021-09-09  272000  275500  267000  269000   595228 -0.016453  2021   \n",
       "911 2021-09-10  269500  271000  265500  267500   394088 -0.005576  2021   \n",
       "912 2021-09-13  266500  267000  260500  262000   505510 -0.020561  2021   \n",
       "913 2021-09-14  261500  265000  260500  263000   416684  0.003817  2021   \n",
       "914 2021-09-15  266000  275500  265500  272500   570117  0.036122  2021   \n",
       "\n",
       "             PER         PBR       ROE       ROA  \n",
       "0    3583.888333  504.641965  0.140809  0.105425  \n",
       "1    3913.875256  551.106931  0.140809  0.105425  \n",
       "2    3966.247574  558.481399  0.140809  0.105425  \n",
       "3    4234.358720  596.233729  0.140809  0.105425  \n",
       "4    4799.143036  675.760166  0.140809  0.105425  \n",
       "..           ...         ...       ...       ...  \n",
       "910  3119.522460  478.721765  0.153460  0.110985  \n",
       "911  3102.127354  476.052313  0.153460  0.110985  \n",
       "912  3038.345296  466.264321  0.153460  0.110985  \n",
       "913  3049.942034  468.043956  0.153460  0.110985  \n",
       "914  3160.111043  484.950487  0.153460  0.110985  \n",
       "\n",
       "[915 rows x 12 columns]"
      ]
     },
     "execution_count": 5,
     "metadata": {},
     "output_type": "execute_result"
    }
   ],
   "source": [
    "df"
   ]
  },
  {
   "cell_type": "code",
   "execution_count": null,
   "id": "96ab1861",
   "metadata": {},
   "outputs": [],
   "source": []
  },
  {
   "cell_type": "code",
   "execution_count": null,
   "id": "4ccae5db",
   "metadata": {},
   "outputs": [],
   "source": []
  },
  {
   "cell_type": "code",
   "execution_count": null,
   "id": "7b57a655",
   "metadata": {},
   "outputs": [],
   "source": []
  },
  {
   "cell_type": "code",
   "execution_count": null,
   "id": "59936f8b",
   "metadata": {},
   "outputs": [],
   "source": []
  },
  {
   "cell_type": "code",
   "execution_count": null,
   "id": "bbc4c6b3",
   "metadata": {},
   "outputs": [],
   "source": []
  },
  {
   "cell_type": "code",
   "execution_count": null,
   "id": "891cf409",
   "metadata": {},
   "outputs": [],
   "source": []
  },
  {
   "cell_type": "code",
   "execution_count": null,
   "id": "eefbbd94",
   "metadata": {},
   "outputs": [],
   "source": []
  },
  {
   "cell_type": "code",
   "execution_count": null,
   "id": "18f6b82b",
   "metadata": {},
   "outputs": [],
   "source": []
  },
  {
   "cell_type": "code",
   "execution_count": null,
   "id": "9e382286",
   "metadata": {},
   "outputs": [],
   "source": []
  },
  {
   "cell_type": "code",
   "execution_count": null,
   "id": "72962f18",
   "metadata": {},
   "outputs": [],
   "source": []
  },
  {
   "cell_type": "code",
   "execution_count": null,
   "id": "f710c85a",
   "metadata": {},
   "outputs": [],
   "source": []
  },
  {
   "cell_type": "markdown",
   "id": "c6b6c68a",
   "metadata": {},
   "source": [
    "/////////////////"
   ]
  },
  {
   "cell_type": "code",
   "execution_count": null,
   "id": "7e3bf066",
   "metadata": {},
   "outputs": [],
   "source": [
    "api_key = '9b9157d4313a84f3141d73f879c5d239d49bb0ce'\n",
    "dart = OpenDartReader(api_key)"
   ]
  },
  {
   "cell_type": "code",
   "execution_count": null,
   "id": "c729de2d",
   "metadata": {},
   "outputs": [],
   "source": [
    "stock = fdr.DataReader('068270', start = '20180101', end = end_date)"
   ]
  },
  {
   "cell_type": "code",
   "execution_count": null,
   "id": "b2b84ea8",
   "metadata": {},
   "outputs": [],
   "source": [
    "fs_present3 = dart.finstate_all(corp = '005380', bsns_year= '2017', fs_div='CFS', reprt_code=11011)"
   ]
  },
  {
   "cell_type": "code",
   "execution_count": null,
   "id": "2f490edc",
   "metadata": {},
   "outputs": [],
   "source": [
    "fs_present2 = dart.finstate_all(corp = '005380', bsns_year= '2016', fs_div='CFS', reprt_code=11011)"
   ]
  },
  {
   "cell_type": "code",
   "execution_count": null,
   "id": "ecd359c0",
   "metadata": {},
   "outputs": [],
   "source": [
    "fs_present2 = dart.finstate_all(corp = '068270', bsns_year= '2017', fs_div='CFS', reprt_code=11014)"
   ]
  },
  {
   "cell_type": "code",
   "execution_count": null,
   "id": "e3c7dd62",
   "metadata": {},
   "outputs": [],
   "source": [
    "fs_present3[fs_present3['sj_div'].isin(['IS','CIS']) & fs_present3['account_nm'].isin(['지배기업의 소유주에게 귀속되는 당기순이익(손실)','당기순이익','당기순이익(손실)','분기순이익','분(반)기순이익(손실)'])]"
   ]
  },
  {
   "cell_type": "code",
   "execution_count": null,
   "id": "5afc70c1",
   "metadata": {},
   "outputs": [],
   "source": [
    "fs_present2[fs_present2['sj_div'].isin(['IS','CIS']) & fs_present2['account_nm'].isin(['지배기업의 소유주에게 귀속되는 당기순이익(손실)','당기순이익','당기순이익(손실)','분기순이익','분(반)기순이익(손실)'])]"
   ]
  },
  {
   "cell_type": "code",
   "execution_count": null,
   "id": "f4aa6c03",
   "metadata": {},
   "outputs": [],
   "source": [
    "fs_present2.loc[fs_present2['sj_div'].isin(['IS','CIS']),'account_nm'].unique()"
   ]
  },
  {
   "cell_type": "code",
   "execution_count": null,
   "id": "f5cce24e",
   "metadata": {},
   "outputs": [],
   "source": [
    "fs_present2[fs_present2['sj_div'].isin(['IS','CIS'])]"
   ]
  },
  {
   "cell_type": "code",
   "execution_count": null,
   "id": "bc14ae80",
   "metadata": {},
   "outputs": [],
   "source": [
    "fs_present2[fs_present2['account_nm'].isin(['지배기업의 소유주에게 귀속되는 당기순이익(손실)','당기순이익','당기순이익(손실)','분기순이익'])]"
   ]
  },
  {
   "cell_type": "code",
   "execution_count": null,
   "id": "1843acce",
   "metadata": {},
   "outputs": [],
   "source": [
    "fs_present2.loc[fs_present2['sj_div'].isin(['IS','CIS']) & fs_present2['account_nm'].isin(['지배기업의 소유주에게 귀속되는 당기순이익(손실)','당기순이익','당기순이익(손실)','분기순이익']), 'frmtrm_add_amount'].replace(\",\", \"\")"
   ]
  },
  {
   "cell_type": "code",
   "execution_count": null,
   "id": "b8e36d63",
   "metadata": {},
   "outputs": [],
   "source": [
    "fs_present.loc[fs_present['sj_div'].isin(['IS','CIS']) & fs_present['account_nm'].isin(['지배기업의 소유주에게 귀속되는 당기순이익(손실)','당기순이익','당기순이익(손실)','분기순이익']), 'frmtrm_add_amount'].replace(\",\", \"\")"
   ]
  },
  {
   "cell_type": "code",
   "execution_count": null,
   "id": "9efd8849",
   "metadata": {},
   "outputs": [],
   "source": [
    "fs_present = dart.finstate_all(corp = '000660', bsns_year= '2019', fs_div='CFS', reprt_code=11014)"
   ]
  },
  {
   "cell_type": "code",
   "execution_count": null,
   "id": "973ab48e",
   "metadata": {},
   "outputs": [],
   "source": [
    "fs_present2[fs_present2['sj_div'].isin(['IS','CIS'])]"
   ]
  },
  {
   "cell_type": "code",
   "execution_count": null,
   "id": "da378d54",
   "metadata": {},
   "outputs": [],
   "source": [
    "16629519000000- 4487454000000 == 12142065000000"
   ]
  },
  {
   "cell_type": "code",
   "execution_count": null,
   "id": "ec39e7ca",
   "metadata": {},
   "outputs": [],
   "source": [
    "fs_present[fs_present['sj_div'].isin(['IS','CIS'])]"
   ]
  },
  {
   "cell_type": "code",
   "execution_count": null,
   "id": "8d6327cd",
   "metadata": {},
   "outputs": [],
   "source": [
    "fs_present.loc[fs_present['sj_div'].isin(['IS','CIS']) & fs_present['account_nm'].isin(['지배기업의 소유주에게 귀속되는 당기순이익(손실)','당기순이익']), 'thstrm_amount'].replace(\",\", \"\")"
   ]
  },
  {
   "cell_type": "code",
   "execution_count": null,
   "id": "c40b17fd",
   "metadata": {},
   "outputs": [],
   "source": [
    "fs_present.loc[fs_present['sj_div'].isin(['IS','CIS']) & fs_present['account_nm'].isin(['지배기업의 소유주에게 귀속되는 당기순이익(손실)','당기순이익']), 'frmtrm_add_amount']"
   ]
  },
  {
   "cell_type": "code",
   "execution_count": null,
   "id": "246b31de",
   "metadata": {},
   "outputs": [],
   "source": [
    "fs_present2[fs_present2['account_nm'].isin(['지배기업의 소유주에게 귀속되는 당기순이익(손실)'])]"
   ]
  },
  {
   "cell_type": "code",
   "execution_count": null,
   "id": "a0e1b87e",
   "metadata": {},
   "outputs": [],
   "source": [
    "fs_present.sj_div.value_counts()"
   ]
  },
  {
   "cell_type": "code",
   "execution_count": null,
   "id": "8dc0b42b",
   "metadata": {},
   "outputs": [],
   "source": [
    "fs_present[fs_present['account_nm'].isin(['지배기업의 소유주에게 귀속되는 당기순이익(손실)'])]"
   ]
  },
  {
   "cell_type": "code",
   "execution_count": null,
   "id": "c98e0a92",
   "metadata": {},
   "outputs": [],
   "source": [
    "fs_present[fs_present['sj_div'].isin(['BS']) & fs_present['account_id'].isin(['ifrs-full_Equity'])]"
   ]
  },
  {
   "cell_type": "code",
   "execution_count": null,
   "id": "b9eef517",
   "metadata": {},
   "outputs": [],
   "source": [
    "fs_present[fs_present['sj_div'].isin(['BS'])]"
   ]
  },
  {
   "cell_type": "code",
   "execution_count": null,
   "id": "9ec17eac",
   "metadata": {},
   "outputs": [],
   "source": [
    "fs_present['account_nm'].value_counts()"
   ]
  },
  {
   "cell_type": "code",
   "execution_count": null,
   "id": "04e94233",
   "metadata": {},
   "outputs": [],
   "source": []
  },
  {
   "cell_type": "code",
   "execution_count": null,
   "id": "4f2805ae",
   "metadata": {},
   "outputs": [],
   "source": [
    "df"
   ]
  },
  {
   "cell_type": "code",
   "execution_count": null,
   "id": "b630e67c",
   "metadata": {},
   "outputs": [],
   "source": [
    "arr"
   ]
  },
  {
   "cell_type": "code",
   "execution_count": null,
   "id": "6b5317fc",
   "metadata": {
    "scrolled": true
   },
   "outputs": [],
   "source": [
    "indexs"
   ]
  },
  {
   "cell_type": "code",
   "execution_count": null,
   "id": "f2db9bc5",
   "metadata": {},
   "outputs": [],
   "source": []
  },
  {
   "cell_type": "code",
   "execution_count": null,
   "id": "7a41bd3d",
   "metadata": {},
   "outputs": [],
   "source": []
  },
  {
   "cell_type": "markdown",
   "id": "163db159",
   "metadata": {},
   "source": [
    "### ============= 연습 ============="
   ]
  },
  {
   "cell_type": "code",
   "execution_count": null,
   "id": "65ef73d8",
   "metadata": {},
   "outputs": [],
   "source": []
  },
  {
   "cell_type": "code",
   "execution_count": null,
   "id": "f2ed8d4e",
   "metadata": {},
   "outputs": [],
   "source": []
  },
  {
   "cell_type": "code",
   "execution_count": null,
   "id": "2066d4f6",
   "metadata": {},
   "outputs": [],
   "source": []
  },
  {
   "cell_type": "code",
   "execution_count": null,
   "id": "8e8e8621",
   "metadata": {},
   "outputs": [],
   "source": []
  },
  {
   "cell_type": "code",
   "execution_count": null,
   "id": "0dc20d4b",
   "metadata": {},
   "outputs": [],
   "source": []
  },
  {
   "cell_type": "code",
   "execution_count": null,
   "id": "e2d344a1",
   "metadata": {},
   "outputs": [],
   "source": []
  },
  {
   "cell_type": "code",
   "execution_count": null,
   "id": "c286260b",
   "metadata": {},
   "outputs": [],
   "source": []
  },
  {
   "cell_type": "code",
   "execution_count": null,
   "id": "0ac7781f",
   "metadata": {},
   "outputs": [],
   "source": []
  },
  {
   "cell_type": "code",
   "execution_count": null,
   "id": "166381d2",
   "metadata": {},
   "outputs": [],
   "source": []
  },
  {
   "cell_type": "code",
   "execution_count": null,
   "id": "3c70286a",
   "metadata": {},
   "outputs": [],
   "source": []
  },
  {
   "cell_type": "code",
   "execution_count": null,
   "id": "04063db2",
   "metadata": {},
   "outputs": [],
   "source": []
  },
  {
   "cell_type": "code",
   "execution_count": null,
   "id": "88959f6d",
   "metadata": {},
   "outputs": [],
   "source": []
  },
  {
   "cell_type": "code",
   "execution_count": null,
   "id": "7c6bf774",
   "metadata": {},
   "outputs": [],
   "source": [
    "stock.info()"
   ]
  },
  {
   "cell_type": "code",
   "execution_count": null,
   "id": "9097fa1d",
   "metadata": {},
   "outputs": [],
   "source": [
    "stock = stock.reset_index()"
   ]
  },
  {
   "cell_type": "code",
   "execution_count": null,
   "id": "d3fb61c4",
   "metadata": {},
   "outputs": [],
   "source": [
    "pd.merge(stock,PER)"
   ]
  },
  {
   "cell_type": "code",
   "execution_count": null,
   "id": "278731ba",
   "metadata": {},
   "outputs": [],
   "source": [
    "PER = stock[stock['Date'].dt.year == 2021]['Close']/10\n",
    "for i in PER.index:\n",
    "    stock['PER'][i] = PER[i]"
   ]
  },
  {
   "cell_type": "code",
   "execution_count": null,
   "id": "099f2877",
   "metadata": {},
   "outputs": [],
   "source": [
    "stock['per'] = 0.1"
   ]
  },
  {
   "cell_type": "code",
   "execution_count": null,
   "id": "8345941d",
   "metadata": {},
   "outputs": [],
   "source": [
    "a,b = 15,10"
   ]
  },
  {
   "cell_type": "code",
   "execution_count": null,
   "id": "0f65cc12",
   "metadata": {},
   "outputs": [],
   "source": [
    "stock.info()"
   ]
  },
  {
   "cell_type": "code",
   "execution_count": null,
   "id": "0347167a",
   "metadata": {},
   "outputs": [],
   "source": [
    "stock.loc[stock['Date'].dt.year == 2020,'per'] = b"
   ]
  },
  {
   "cell_type": "code",
   "execution_count": null,
   "id": "97e7d1c9",
   "metadata": {},
   "outputs": [],
   "source": [
    "stock"
   ]
  },
  {
   "cell_type": "code",
   "execution_count": null,
   "id": "0bb3d4fe",
   "metadata": {},
   "outputs": [],
   "source": [
    "stock[stock['Date'].dt.year == 2020]"
   ]
  },
  {
   "cell_type": "code",
   "execution_count": null,
   "id": "e78abad7",
   "metadata": {},
   "outputs": [],
   "source": [
    "PER[738]"
   ]
  },
  {
   "cell_type": "code",
   "execution_count": null,
   "id": "0a143712",
   "metadata": {},
   "outputs": [],
   "source": [
    "stock['PER'][738]"
   ]
  },
  {
   "cell_type": "code",
   "execution_count": null,
   "id": "d2ced1da",
   "metadata": {},
   "outputs": [],
   "source": [
    "stock['PER'][738] = PER[738]"
   ]
  },
  {
   "cell_type": "code",
   "execution_count": null,
   "id": "d7260d82",
   "metadata": {},
   "outputs": [],
   "source": [
    "stock['PER'][738]"
   ]
  },
  {
   "cell_type": "code",
   "execution_count": null,
   "id": "da2bb95d",
   "metadata": {},
   "outputs": [],
   "source": [
    "PER.index"
   ]
  },
  {
   "cell_type": "code",
   "execution_count": null,
   "id": "8386ea3d",
   "metadata": {
    "scrolled": true
   },
   "outputs": [],
   "source": [
    "stock[stock['Date'].dt.year == 2021]['PER'] = PER"
   ]
  },
  {
   "cell_type": "code",
   "execution_count": null,
   "id": "fd323bed",
   "metadata": {},
   "outputs": [],
   "source": [
    "stock[stock['Date'].dt.year == 2021]['PER']"
   ]
  },
  {
   "cell_type": "code",
   "execution_count": null,
   "id": "d3987b9b",
   "metadata": {},
   "outputs": [],
   "source": [
    "stock"
   ]
  },
  {
   "cell_type": "code",
   "execution_count": null,
   "id": "f8ef8393",
   "metadata": {},
   "outputs": [],
   "source": [
    "a =stock.copy()\n",
    "a=a.reset_index()"
   ]
  },
  {
   "cell_type": "code",
   "execution_count": null,
   "id": "f9328641",
   "metadata": {},
   "outputs": [],
   "source": [
    "s = a[a['Date'].dt.year == 2018]['Close']"
   ]
  },
  {
   "cell_type": "code",
   "execution_count": null,
   "id": "9f4b5575",
   "metadata": {},
   "outputs": [],
   "source": [
    "a['aaaa'] = 0.1"
   ]
  },
  {
   "cell_type": "code",
   "execution_count": null,
   "id": "e17adb54",
   "metadata": {
    "scrolled": true
   },
   "outputs": [],
   "source": [
    "a.head()"
   ]
  },
  {
   "cell_type": "code",
   "execution_count": null,
   "id": "ea7fe705",
   "metadata": {},
   "outputs": [],
   "source": [
    "a['aaaa'] = s"
   ]
  },
  {
   "cell_type": "code",
   "execution_count": null,
   "id": "1780592a",
   "metadata": {},
   "outputs": [],
   "source": [
    "a.loc[a['Date'].dt.year == 2018,'Close']/1"
   ]
  },
  {
   "cell_type": "code",
   "execution_count": null,
   "id": "db36a287",
   "metadata": {},
   "outputs": [],
   "source": []
  },
  {
   "cell_type": "code",
   "execution_count": null,
   "id": "0ba70569",
   "metadata": {},
   "outputs": [],
   "source": [
    "a.loc[a['sj_div'].isin(['BS']) & a['account_nm'].isin(['부채총계']),'thstrm_amount']"
   ]
  },
  {
   "cell_type": "code",
   "execution_count": null,
   "id": "a541107f",
   "metadata": {},
   "outputs": [],
   "source": [
    "dart.report('005930', '소액주주', 2020, reprt_code=11014)"
   ]
  },
  {
   "cell_type": "code",
   "execution_count": null,
   "id": "3df392da",
   "metadata": {},
   "outputs": [],
   "source": []
  },
  {
   "cell_type": "code",
   "execution_count": null,
   "id": "8fb9f847",
   "metadata": {},
   "outputs": [],
   "source": [
    "fs_present.loc[fs_present['sj_div'].isin(['BS']) & fs_present['account_id'].isin(['ifrs-full_Liabilities']), 'thstrm_amount']"
   ]
  },
  {
   "cell_type": "code",
   "execution_count": null,
   "id": "8b40f664",
   "metadata": {},
   "outputs": [],
   "source": [
    "int(fs_present.loc[fs_present['sj_div'].isin(['BS']) & fs_present['account_nm'].isin(['부채총계']), 'thstrm_amount'].replace(\",\", \"\"))"
   ]
  },
  {
   "cell_type": "code",
   "execution_count": null,
   "id": "e0b8be92",
   "metadata": {},
   "outputs": [],
   "source": [
    "int(fs_present.loc[fs_present['sj_div'].isin(['BS']) & fs_present['account_id'].isin(['ifrs-full_Liabilities']), 'thstrm_amount'].replace(\",\", \"\"))"
   ]
  },
  {
   "cell_type": "code",
   "execution_count": null,
   "id": "b0aa7ade",
   "metadata": {},
   "outputs": [],
   "source": []
  },
  {
   "cell_type": "code",
   "execution_count": null,
   "id": "c01f9992",
   "metadata": {},
   "outputs": [],
   "source": [
    "fs_present.loc[fs_present['sj_div'].isin(['BS']) & fs_present['account_nm'].isin(['자본총계']), 'thstrm_amount']"
   ]
  },
  {
   "cell_type": "code",
   "execution_count": null,
   "id": "0a0b153c",
   "metadata": {},
   "outputs": [],
   "source": []
  },
  {
   "cell_type": "code",
   "execution_count": null,
   "id": "079189be",
   "metadata": {},
   "outputs": [],
   "source": []
  },
  {
   "cell_type": "code",
   "execution_count": null,
   "id": "7b595c0b",
   "metadata": {},
   "outputs": [],
   "source": []
  },
  {
   "cell_type": "markdown",
   "id": "e9982654",
   "metadata": {},
   "source": [
    "=============코드 수정=======오류 파악============"
   ]
  },
  {
   "cell_type": "code",
   "execution_count": null,
   "id": "2096ddc4",
   "metadata": {},
   "outputs": [],
   "source": [
    "api_key = '9b9157d4313a84f3141d73f879c5d239d49bb0ce'\n",
    "dart = OpenDartReader(api_key)"
   ]
  },
  {
   "cell_type": "code",
   "execution_count": null,
   "id": "08035942",
   "metadata": {},
   "outputs": [],
   "source": [
    "fs_before = dart.finstate_all(corp = '005930', bsns_year= '2020', fs_div='CFS', reprt_code=11011) \n",
    "fs_present = dart.finstate_all(corp = '005930', bsns_year= '2020',fs_div='CFS', reprt_code=11014)"
   ]
  },
  {
   "cell_type": "code",
   "execution_count": null,
   "id": "594cb3eb",
   "metadata": {},
   "outputs": [],
   "source": [
    "fs_present.loc[fs_present['sj_div'].isin(['BS']) & fs_present['account_id'].isin(['ifrs-full_Equity']), 'thstrm_amount']"
   ]
  },
  {
   "cell_type": "code",
   "execution_count": null,
   "id": "4e6a182b",
   "metadata": {},
   "outputs": [],
   "source": [
    "fs_present.iloc[52]"
   ]
  },
  {
   "cell_type": "code",
   "execution_count": null,
   "id": "ae8d2367",
   "metadata": {},
   "outputs": [],
   "source": []
  },
  {
   "cell_type": "code",
   "execution_count": null,
   "id": "5b57adae",
   "metadata": {},
   "outputs": [],
   "source": [
    "fs_present.loc[fs_present['sj_div'].isin(['BS']) & fs_present['account_id'].isin(['ifrs-full_Liabilities']), 'thstrm_amount']"
   ]
  },
  {
   "cell_type": "code",
   "execution_count": null,
   "id": "8dd2c7cd",
   "metadata": {
    "scrolled": false
   },
   "outputs": [],
   "source": [
    "fs_present.iloc[42]"
   ]
  },
  {
   "cell_type": "code",
   "execution_count": null,
   "id": "a0314823",
   "metadata": {},
   "outputs": [],
   "source": [
    "a = dart.finstate_all(corp = '005930', bsns_year= '2019')"
   ]
  },
  {
   "cell_type": "code",
   "execution_count": null,
   "id": "b1be15af",
   "metadata": {},
   "outputs": [],
   "source": [
    "a.loc[a['sj_div'].isin(['BS']) & a['account_nm'].isin(['부채총계']),'thstrm_amount']"
   ]
  },
  {
   "cell_type": "code",
   "execution_count": null,
   "id": "c1e96bcf",
   "metadata": {},
   "outputs": [],
   "source": []
  },
  {
   "cell_type": "code",
   "execution_count": null,
   "id": "f5d726bd",
   "metadata": {},
   "outputs": [],
   "source": [
    "frmtrm_add_amount"
   ]
  },
  {
   "cell_type": "code",
   "execution_count": null,
   "id": "1d199f8a",
   "metadata": {},
   "outputs": [],
   "source": []
  },
  {
   "cell_type": "code",
   "execution_count": null,
   "id": "43e7ef26",
   "metadata": {},
   "outputs": [],
   "source": [
    "fs_before.loc[fs_before['sj_div'].isin(['IS']) & fs_before['account_nm'].isin(['지배기업의 소유주에게 귀속되는 당기순이익(손실)']), 'thstrm_amount'].replace(\",\", \"\")"
   ]
  },
  {
   "cell_type": "code",
   "execution_count": null,
   "id": "ee7b035e",
   "metadata": {},
   "outputs": [],
   "source": [
    "fs_before.loc[fs_before['sj_div'].isin(['IS']) & fs_before['account_id'].isin(['ifrs-full_ProfitLossAttributableToOwnersOfParent']), 'thstrm_amount'].replace(\",\", \"\")"
   ]
  },
  {
   "cell_type": "code",
   "execution_count": null,
   "id": "07c164e3",
   "metadata": {},
   "outputs": [],
   "source": [
    "fs_before.iloc[68]"
   ]
  },
  {
   "cell_type": "code",
   "execution_count": null,
   "id": "b82d8b6d",
   "metadata": {},
   "outputs": [],
   "source": [
    "a = dart.finstate_all(corp = '005930', bsns_year= '2018',fs_div='CFS', reprt_code=11011)"
   ]
  },
  {
   "cell_type": "code",
   "execution_count": null,
   "id": "b1bf02b0",
   "metadata": {},
   "outputs": [],
   "source": [
    "a.loc[a['sj_div'].isin(['IS']) & a['account_nm'].isin(['지배기업의 소유주에게 귀속되는 당기순이익(손실)']), 'thstrm_amount'].replace(\",\", \"\")"
   ]
  },
  {
   "cell_type": "code",
   "execution_count": null,
   "id": "2d6a1e06",
   "metadata": {},
   "outputs": [],
   "source": []
  },
  {
   "cell_type": "code",
   "execution_count": null,
   "id": "e223bea5",
   "metadata": {},
   "outputs": [],
   "source": []
  },
  {
   "cell_type": "code",
   "execution_count": null,
   "id": "5336b57f",
   "metadata": {},
   "outputs": [],
   "source": [
    "a = dart.finstate_all(corp = '005930', bsns_year= '2020',fs_div='CFS', reprt_code=11011)"
   ]
  },
  {
   "cell_type": "code",
   "execution_count": null,
   "id": "41b8975b",
   "metadata": {},
   "outputs": [],
   "source": [
    "fs_present.columns"
   ]
  },
  {
   "cell_type": "code",
   "execution_count": null,
   "id": "404e75b6",
   "metadata": {},
   "outputs": [],
   "source": [
    "fs_present.loc[fs_present['sj_div'].isin(['IS']) & fs_present['account_id'].isin(['ifrs-full_ProfitLossAttributableToOwnersOfParent']), 'frmtrm_add_amount'].replace(\",\", \"\") # 당기순이익"
   ]
  },
  {
   "cell_type": "code",
   "execution_count": null,
   "id": "055108bb",
   "metadata": {},
   "outputs": [],
   "source": [
    "fs_present.iloc[68]"
   ]
  },
  {
   "cell_type": "code",
   "execution_count": null,
   "id": "c0c7e334",
   "metadata": {},
   "outputs": [],
   "source": []
  },
  {
   "cell_type": "code",
   "execution_count": null,
   "id": "530fa7ef",
   "metadata": {},
   "outputs": [],
   "source": [
    "fs_present.loc[fs_present['sj_div'].isin(['IS']) & fs_present['account_id'].isin(['ifrs-full_ProfitLossAttributableToOwnersOfParent']), 'thstrm_add_amount'].replace(\",\", \"\")"
   ]
  },
  {
   "cell_type": "code",
   "execution_count": null,
   "id": "0e92c00c",
   "metadata": {},
   "outputs": [],
   "source": []
  },
  {
   "cell_type": "code",
   "execution_count": null,
   "id": "e869e1c8",
   "metadata": {},
   "outputs": [],
   "source": []
  },
  {
   "cell_type": "code",
   "execution_count": null,
   "id": "4709804b",
   "metadata": {},
   "outputs": [],
   "source": [
    "fs_present['sj_div'].isin(['BS']).index"
   ]
  },
  {
   "cell_type": "code",
   "execution_count": null,
   "id": "177e44ed",
   "metadata": {},
   "outputs": [],
   "source": [
    "fs_present['account_id'].isin(['기말자본']).index"
   ]
  },
  {
   "cell_type": "code",
   "execution_count": null,
   "id": "cabe24f3",
   "metadata": {},
   "outputs": [],
   "source": [
    "int(fs_present.loc[fs_present['sj_div'].isin(['BS']) & fs_present['account_id'].isin(['ifrs-full_Liabilities']), 'thstrm_amount'].replace(\",\", \"\"))"
   ]
  },
  {
   "cell_type": "code",
   "execution_count": null,
   "id": "46190be7",
   "metadata": {
    "scrolled": true
   },
   "outputs": [],
   "source": [
    "fs_present.loc[fs_present['sj_div'].isin(['BS']) & fs_present['account_id'].isin(['ifrs-full_Equity'])]"
   ]
  },
  {
   "cell_type": "code",
   "execution_count": null,
   "id": "d36f80e7",
   "metadata": {},
   "outputs": [],
   "source": [
    "fs_2019 = dart.finstate_all(corp='005930', bsns_year='2019', fs_div='CFS', reprt_code=11011) \n",
    "fs_2020_3Q = dart.finstate_all(corp='005930', bsns_year='2020', fs_div='CFS', reprt_code=11014) \n",
    "\n"
   ]
  },
  {
   "cell_type": "code",
   "execution_count": null,
   "id": "15fc23bc",
   "metadata": {},
   "outputs": [],
   "source": [
    "int(fs_2020_3Q.loc[fs_2020_3Q['sj_div'].isin(['IS']) & fs_2020_3Q['account_id'].isin(['ifrs-full_ProfitLossAttributableToOwnersOfParent']), 'frmtrm_add_amount'].replace(\",\", \"\"))\n"
   ]
  },
  {
   "cell_type": "code",
   "execution_count": null,
   "id": "3661d24a",
   "metadata": {},
   "outputs": [],
   "source": [
    "int(fs_2020_3Q.loc[fs_2020_3Q['sj_div'].isin(['IS']) & fs_2020_3Q['account_id'].isin(['ifrs-full_ProfitLossAttributableToOwnersOfParent']), 'thstrm_add_amount'].replace(\",\", \"\"))\n"
   ]
  },
  {
   "cell_type": "code",
   "execution_count": null,
   "id": "76cfd277",
   "metadata": {},
   "outputs": [],
   "source": []
  },
  {
   "cell_type": "code",
   "execution_count": null,
   "id": "0b12cb90",
   "metadata": {},
   "outputs": [],
   "source": [
    "fs_present['account_id'].isin(['ifrs-full_Equity'])"
   ]
  },
  {
   "cell_type": "code",
   "execution_count": null,
   "id": "b4f44fb8",
   "metadata": {},
   "outputs": [],
   "source": []
  }
 ],
 "metadata": {
  "kernelspec": {
   "display_name": "Python 3",
   "language": "python",
   "name": "python3"
  },
  "language_info": {
   "codemirror_mode": {
    "name": "ipython",
    "version": 3
   },
   "file_extension": ".py",
   "mimetype": "text/x-python",
   "name": "python",
   "nbconvert_exporter": "python",
   "pygments_lexer": "ipython3",
   "version": "3.6.9"
  }
 },
 "nbformat": 4,
 "nbformat_minor": 5
}
