{
 "cells": [
  {
   "cell_type": "code",
   "execution_count": 1,
   "id": "e1a99245",
   "metadata": {
    "collapsed": true
   },
   "outputs": [
    {
     "name": "stdout",
     "output_type": "stream",
     "text": [
      "Defaulting to user installation because normal site-packages is not writeable\n",
      "Requirement already satisfied: finance-datareader in ./.local/lib/python3.6/site-packages (0.9.31)\n",
      "Requirement already satisfied: requests>=2.3.0 in /usr/local/lib/python3.6/dist-packages (from finance-datareader) (2.26.0)\n",
      "Requirement already satisfied: lxml in ./.local/lib/python3.6/site-packages (from finance-datareader) (4.6.3)\n",
      "Requirement already satisfied: pandas>=0.19.2 in /usr/local/lib/python3.6/dist-packages (from finance-datareader) (1.1.5)\n",
      "Requirement already satisfied: tqdm in /usr/local/lib/python3.6/dist-packages (from finance-datareader) (4.61.2)\n",
      "Requirement already satisfied: requests-file in ./.local/lib/python3.6/site-packages (from finance-datareader) (1.5.1)\n",
      "Requirement already satisfied: numpy>=1.15.4 in /usr/local/lib/python3.6/dist-packages (from pandas>=0.19.2->finance-datareader) (1.19.5)\n",
      "Requirement already satisfied: python-dateutil>=2.7.3 in /usr/local/lib/python3.6/dist-packages (from pandas>=0.19.2->finance-datareader) (2.8.2)\n",
      "Requirement already satisfied: pytz>=2017.2 in /usr/local/lib/python3.6/dist-packages (from pandas>=0.19.2->finance-datareader) (2021.1)\n",
      "Requirement already satisfied: six>=1.5 in ./.local/lib/python3.6/site-packages (from python-dateutil>=2.7.3->pandas>=0.19.2->finance-datareader) (1.15.0)\n",
      "Requirement already satisfied: certifi>=2017.4.17 in /usr/local/lib/python3.6/dist-packages (from requests>=2.3.0->finance-datareader) (2021.5.30)\n",
      "Requirement already satisfied: idna<4,>=2.5 in /usr/local/lib/python3.6/dist-packages (from requests>=2.3.0->finance-datareader) (3.2)\n",
      "Requirement already satisfied: urllib3<1.27,>=1.21.1 in /usr/local/lib/python3.6/dist-packages (from requests>=2.3.0->finance-datareader) (1.26.6)\n",
      "Requirement already satisfied: charset-normalizer~=2.0.0 in /usr/local/lib/python3.6/dist-packages (from requests>=2.3.0->finance-datareader) (2.0.3)\n",
      "Defaulting to user installation because normal site-packages is not writeable\n",
      "Requirement already satisfied: opendartreader in ./.local/lib/python3.6/site-packages (0.1.6)\n",
      "Requirement already satisfied: requests>=2.3.0 in /usr/local/lib/python3.6/dist-packages (from opendartreader) (2.26.0)\n",
      "Requirement already satisfied: lxml in ./.local/lib/python3.6/site-packages (from opendartreader) (4.6.3)\n",
      "Requirement already satisfied: pandas>=0.19.2 in /usr/local/lib/python3.6/dist-packages (from opendartreader) (1.1.5)\n",
      "Requirement already satisfied: requests-file in ./.local/lib/python3.6/site-packages (from opendartreader) (1.5.1)\n",
      "Requirement already satisfied: numpy>=1.15.4 in /usr/local/lib/python3.6/dist-packages (from pandas>=0.19.2->opendartreader) (1.19.5)\n",
      "Requirement already satisfied: pytz>=2017.2 in /usr/local/lib/python3.6/dist-packages (from pandas>=0.19.2->opendartreader) (2021.1)\n",
      "Requirement already satisfied: python-dateutil>=2.7.3 in /usr/local/lib/python3.6/dist-packages (from pandas>=0.19.2->opendartreader) (2.8.2)\n",
      "Requirement already satisfied: six>=1.5 in ./.local/lib/python3.6/site-packages (from python-dateutil>=2.7.3->pandas>=0.19.2->opendartreader) (1.15.0)\n",
      "Requirement already satisfied: idna<4,>=2.5 in /usr/local/lib/python3.6/dist-packages (from requests>=2.3.0->opendartreader) (3.2)\n",
      "Requirement already satisfied: charset-normalizer~=2.0.0 in /usr/local/lib/python3.6/dist-packages (from requests>=2.3.0->opendartreader) (2.0.3)\n",
      "Requirement already satisfied: urllib3<1.27,>=1.21.1 in /usr/local/lib/python3.6/dist-packages (from requests>=2.3.0->opendartreader) (1.26.6)\n",
      "Requirement already satisfied: certifi>=2017.4.17 in /usr/local/lib/python3.6/dist-packages (from requests>=2.3.0->opendartreader) (2021.5.30)\n",
      "Defaulting to user installation because normal site-packages is not writeable\n",
      "Requirement already satisfied: opendartreader in ./.local/lib/python3.6/site-packages (0.1.6)\n",
      "Requirement already satisfied: pandas>=0.19.2 in /usr/local/lib/python3.6/dist-packages (from opendartreader) (1.1.5)\n",
      "Requirement already satisfied: requests-file in ./.local/lib/python3.6/site-packages (from opendartreader) (1.5.1)\n",
      "Requirement already satisfied: lxml in ./.local/lib/python3.6/site-packages (from opendartreader) (4.6.3)\n",
      "Requirement already satisfied: requests>=2.3.0 in /usr/local/lib/python3.6/dist-packages (from opendartreader) (2.26.0)\n",
      "Requirement already satisfied: python-dateutil>=2.7.3 in /usr/local/lib/python3.6/dist-packages (from pandas>=0.19.2->opendartreader) (2.8.2)\n",
      "Requirement already satisfied: pytz>=2017.2 in /usr/local/lib/python3.6/dist-packages (from pandas>=0.19.2->opendartreader) (2021.1)\n",
      "Requirement already satisfied: numpy>=1.15.4 in /usr/local/lib/python3.6/dist-packages (from pandas>=0.19.2->opendartreader) (1.19.5)\n",
      "Requirement already satisfied: six>=1.5 in ./.local/lib/python3.6/site-packages (from python-dateutil>=2.7.3->pandas>=0.19.2->opendartreader) (1.15.0)\n",
      "Requirement already satisfied: idna<4,>=2.5 in /usr/local/lib/python3.6/dist-packages (from requests>=2.3.0->opendartreader) (3.2)\n",
      "Requirement already satisfied: certifi>=2017.4.17 in /usr/local/lib/python3.6/dist-packages (from requests>=2.3.0->opendartreader) (2021.5.30)\n",
      "Requirement already satisfied: urllib3<1.27,>=1.21.1 in /usr/local/lib/python3.6/dist-packages (from requests>=2.3.0->opendartreader) (1.26.6)\n",
      "Requirement already satisfied: charset-normalizer~=2.0.0 in /usr/local/lib/python3.6/dist-packages (from requests>=2.3.0->opendartreader) (2.0.3)\n"
     ]
    }
   ],
   "source": [
    "!pip install finance-datareader\n",
    "!pip install opendartreader\n",
    "!pip install --upgrade opendartreader"
   ]
  },
  {
   "cell_type": "code",
   "execution_count": 3,
   "id": "1cefa3e5",
   "metadata": {},
   "outputs": [],
   "source": [
    "import pandas as pd\n",
    "import os\n",
    "import matplotlib.pyplot as plt\n",
    "import seaborn as sns\n",
    "import warnings\n",
    "warnings.filterwarnings('ignore')\n",
    "\n",
    "# 주식가격 로딩\n",
    "import FinanceDataReader as fdr\n",
    "\n",
    "# 재무재표 로딩\n",
    "import OpenDartReader\n",
    "\n",
    "import datetime"
   ]
  },
  {
   "cell_type": "code",
   "execution_count": 4,
   "id": "ad4e8199",
   "metadata": {},
   "outputs": [],
   "source": [
    "def pro_equ(code, start, end):\n",
    "    # OpenDartReader 사용\n",
    "    api_key = '9b9157d4313a84f3141d73f879c5d239d49bb0ce'\n",
    "    dart = OpenDartReader(api_key)\n",
    "    arr = [] # 재무 정보\n",
    "    index = [] # 계산지표\n",
    "    \n",
    "    # 주식정보\n",
    "    if type(code) != str:\n",
    "        code = str(code).zfill(6)       \n",
    "    \n",
    "    if type(start) != str:\n",
    "        start = str(start)\n",
    "    \n",
    "    if type(end) != str:\n",
    "        end = str(end)\n",
    "        \n",
    "    stock = fdr.DataReader(code, start = str(int(start)+1), end = end)  # 2021 지표 <- 2020,2019 데이터로 만듬\n",
    "    stock = stock.reset_index()\n",
    "    stock['PER'] = 0.1\n",
    "    stock['PBR'] = 0.1\n",
    "    stock['ROE'] = 0.1\n",
    "    stock['ROA'] = 0.1\n",
    "    \n",
    "    #         ------------------------\n",
    "    \n",
    "    small = dart.report('005930', '소액주주', int(datetime.datetime.now().strftime(\"%Y\"))-1, reprt_code=11014)\n",
    "    stock_tot_co = int(small['stock_tot_co'].str.replace(',', '')) # 총 발행 주식 수\n",
    "    \n",
    "    for i in range(int(start[:4]), int(end[:4])):\n",
    "        # https://opendart.fss.or.kr/guide/detail.do?apiGrpCd=DS003&apiId=2019016 --> 입력변수 명 참고\n",
    "        # corp: 종목코드, bsns_year: 사업연도, reprt_code: 보고서코드\n",
    "        # (1분기보고서 : 11013, 반기보고서 : 11012, 3분기보고서 : 11014, 사업보고서 : 11011)\n",
    "        fs_before = dart.finstate_all(corp = code, bsns_year= str(i-1), fs_div='CFS', reprt_code=11011) \n",
    "        fs_present = dart.finstate_all(corp = code, bsns_year= i, fs_div='CFS', reprt_code=11014)\n",
    "\n",
    "        # 자본, 부채는 당기 금액('thstrm_amount') 값을 통해서 구함\n",
    "#         equity = int(fs_present.loc[fs_present['sj_div'].isin(['BS']) & fs_present['account_id'].isin(['ifrs-full_Equity']), 'thstrm_amount'].replace(\",\", \"\")) # 당기자본(자본총계)\n",
    "        equity = int(fs_present.loc[fs_present['sj_div'].isin(['BS']) & fs_present['account_nm'].isin(['자본총계']), 'thstrm_amount'])\n",
    "    \n",
    "#         liability = int(fs_present.loc[fs_present['sj_div'].isin(['BS']) & fs_present['account_id'].isin(['ifrs-full_Liabilities']), 'thstrm_amount'].replace(\",\", \"\")) # 당기부채(부채총계)\n",
    "        liability = int(fs_present.loc[fs_present['sj_div'].isin(['BS']) & fs_present['account_nm'].isin(['부채총계']), 'thstrm_amount'].replace(\",\", \"\"))\n",
    "        # 자산 총계\n",
    "        assets = equity + liability\n",
    "        \n",
    "        # <예시>\n",
    "        # 2019 4분기 ~ 2020 3분기까지의 당기순이익의 합을 구하려면 2019년 4분기 당기순이익과 2020년 1분기 ~ 3분기 당기순이익의 합을 알아여함\n",
    "        # 2020년 1분기 ~ 3분기 당기순이익의 합은 2020년 3분기 손익계산서에서 'thstrm_add_amount' 값을 가져오면 되고\n",
    "        # 2019년 4분기 당기순이익은 2019년 전체 당기순이익에서 2019년 1분기 ~ 3분기 당기순이익의 합을 빼서 구할 수 있음\n",
    "        \n",
    "        # frmtrm_add_amount --> 전기 금액, thstrm_amount ---> 당기 금액, thstrm_add_amount --> 당기 누적금액\n",
    "#         profit_before_3Q = int(fs_present.loc[fs_present['sj_div'].isin(['IS']) & fs_present['account_id'].isin(['ifrs-full_ProfitLossAttributableToOwnersOfParent']), 'frmtrm_add_amount'].replace(\",\", \"\")) # 당기순이익\n",
    "        profit_before_3Q = int(fs_present.loc[fs_present['sj_div'].isin(['IS']) & fs_present['account_nm'].isin(['지배기업의 소유주에게 귀속되는 당기순이익(손실)']), 'frmtrm_add_amount'].replace(\",\", \"\"))\n",
    "        \n",
    "#         profit_before = int(fs_before.loc[fs_before['sj_div'].isin(['IS']) & fs_before['account_id'].isin(['ifrs-full_ProfitLossAttributableToOwnersOfParent']), 'thstrm_amount'].replace(\",\", \"\")) # 당기순이익\n",
    "        profit_before = int(fs_before.loc[fs_before['sj_div'].isin(['IS']) & fs_before['account_nm'].isin(['지배기업의 소유주에게 귀속되는 당기순이익(손실)']), 'thstrm_amount'].replace(\",\", \"\"))\n",
    "        \n",
    "#         profit_present = int(fs_present.loc[fs_present['sj_div'].isin(['IS']) & fs_present['account_id'].isin(['ifrs-full_ProfitLossAttributableToOwnersOfParent']), 'thstrm_add_amount'].replace(\",\", \"\")) # 당기순이익\n",
    "        profit_present = int(fs_present.loc[fs_present['sj_div'].isin(['IS']) & fs_present['account_nm'].isin(['지배기업의 소유주에게 귀속되는 당기순이익(손실)']), 'thstrm_add_amount'].replace(\",\", \"\")) # 당기순이익\n",
    "        \n",
    "        profit = (profit_before-profit_before_3Q) + profit_present\n",
    "        \n",
    "        a = (equity, liability, assets, profit, stock_tot_co) \n",
    "        # 자본총계(당기자본), 부채총계(당기부채), 자산총계, 당기 순이익, 총 발행 주식수\n",
    "        arr.append(a)\n",
    "        \n",
    "#         - PER : 주가를 1주당 순이익(EPS)로 나눈 값\n",
    "#         - PBR : 주가를 1주당 순자산가치로 나눈 값\n",
    "#         - ROE : 당기순이익을 순자산(자기자본)으로 나눈 값\n",
    "#         - ROA : 당기순이익을 자산총액으로 나눈 값\n",
    "        \n",
    "#         print(stock[stock['Date'].dt.year == i]['Close'])\n",
    "            \n",
    "        \n",
    "        ROA = profit/assets\n",
    "        stock.loc[stock['Date'].dt.year == i+1,'ROA'] = ROA\n",
    "        \n",
    "        EPS = profit/stock_tot_co\n",
    "        PER = stock.loc[stock['Date'].dt.year == i+1,'Close']/EPS\n",
    "        \n",
    "#         PER = stock[stock['Date'].dt.year == i+1]['Close']/EPS\n",
    "        \n",
    "        BPS = equity/stock_tot_co\n",
    "        PBR = stock.loc[stock['Date'].dt.year == i+1, 'Close']/BPS\n",
    "#         PBR = stock[stock['Date'].dt.year == i+1]['Close']/BPS\n",
    "        \n",
    "        for i in PER.index:\n",
    "            stock['PER'][i] = PER[i]\n",
    "            stock['PBR'][i] = PBR[i]\n",
    "        \n",
    "        b = (EPS,BPS)\n",
    "        # EPS,BPS\n",
    "        \n",
    "        index.append(b)\n",
    "        \n",
    "    stock['ROE'] = stock['PBR']/stock['PER']\n",
    "    \n",
    "    return arr,index, stock"
   ]
  },
  {
   "cell_type": "code",
   "execution_count": 5,
   "id": "c076ac74",
   "metadata": {},
   "outputs": [],
   "source": [
    "end_date = datetime.datetime.now().strftime(\"%Y%m%d\")"
   ]
  },
  {
   "cell_type": "code",
   "execution_count": 10,
   "id": "a0e1b87e",
   "metadata": {},
   "outputs": [],
   "source": [
    "arr, indexs, df = pro_equ(5930,2017,end_date)  # 2018의 경우 2019,2020,2021까지의 결과 도출"
   ]
  },
  {
   "cell_type": "code",
   "execution_count": 11,
   "id": "84d4f553",
   "metadata": {},
   "outputs": [
    {
     "data": {
      "text/html": [
       "<div>\n",
       "<style scoped>\n",
       "    .dataframe tbody tr th:only-of-type {\n",
       "        vertical-align: middle;\n",
       "    }\n",
       "\n",
       "    .dataframe tbody tr th {\n",
       "        vertical-align: top;\n",
       "    }\n",
       "\n",
       "    .dataframe thead th {\n",
       "        text-align: right;\n",
       "    }\n",
       "</style>\n",
       "<table border=\"1\" class=\"dataframe\">\n",
       "  <thead>\n",
       "    <tr style=\"text-align: right;\">\n",
       "      <th></th>\n",
       "      <th>Date</th>\n",
       "      <th>Open</th>\n",
       "      <th>High</th>\n",
       "      <th>Low</th>\n",
       "      <th>Close</th>\n",
       "      <th>Volume</th>\n",
       "      <th>Change</th>\n",
       "      <th>PER</th>\n",
       "      <th>PBR</th>\n",
       "      <th>ROE</th>\n",
       "      <th>ROA</th>\n",
       "    </tr>\n",
       "  </thead>\n",
       "  <tbody>\n",
       "    <tr>\n",
       "      <th>0</th>\n",
       "      <td>2018-01-02</td>\n",
       "      <td>51380</td>\n",
       "      <td>51400</td>\n",
       "      <td>50780</td>\n",
       "      <td>51020</td>\n",
       "      <td>169485</td>\n",
       "      <td>0.001177</td>\n",
       "      <td>8.403220</td>\n",
       "      <td>1.445614</td>\n",
       "      <td>0.172031</td>\n",
       "      <td>0.122212</td>\n",
       "    </tr>\n",
       "    <tr>\n",
       "      <th>1</th>\n",
       "      <td>2018-01-03</td>\n",
       "      <td>52540</td>\n",
       "      <td>52560</td>\n",
       "      <td>51420</td>\n",
       "      <td>51620</td>\n",
       "      <td>200270</td>\n",
       "      <td>0.011760</td>\n",
       "      <td>8.502043</td>\n",
       "      <td>1.462615</td>\n",
       "      <td>0.172031</td>\n",
       "      <td>0.122212</td>\n",
       "    </tr>\n",
       "    <tr>\n",
       "      <th>2</th>\n",
       "      <td>2018-01-04</td>\n",
       "      <td>52120</td>\n",
       "      <td>52180</td>\n",
       "      <td>50640</td>\n",
       "      <td>51080</td>\n",
       "      <td>233909</td>\n",
       "      <td>-0.010461</td>\n",
       "      <td>8.413103</td>\n",
       "      <td>1.447314</td>\n",
       "      <td>0.172031</td>\n",
       "      <td>0.122212</td>\n",
       "    </tr>\n",
       "    <tr>\n",
       "      <th>3</th>\n",
       "      <td>2018-01-05</td>\n",
       "      <td>51300</td>\n",
       "      <td>52120</td>\n",
       "      <td>51200</td>\n",
       "      <td>52120</td>\n",
       "      <td>189623</td>\n",
       "      <td>0.020360</td>\n",
       "      <td>8.584395</td>\n",
       "      <td>1.476782</td>\n",
       "      <td>0.172031</td>\n",
       "      <td>0.122212</td>\n",
       "    </tr>\n",
       "    <tr>\n",
       "      <th>4</th>\n",
       "      <td>2018-01-08</td>\n",
       "      <td>52400</td>\n",
       "      <td>52520</td>\n",
       "      <td>51500</td>\n",
       "      <td>52020</td>\n",
       "      <td>167673</td>\n",
       "      <td>-0.001919</td>\n",
       "      <td>8.567925</td>\n",
       "      <td>1.473949</td>\n",
       "      <td>0.172031</td>\n",
       "      <td>0.122212</td>\n",
       "    </tr>\n",
       "    <tr>\n",
       "      <th>...</th>\n",
       "      <td>...</td>\n",
       "      <td>...</td>\n",
       "      <td>...</td>\n",
       "      <td>...</td>\n",
       "      <td>...</td>\n",
       "      <td>...</td>\n",
       "      <td>...</td>\n",
       "      <td>...</td>\n",
       "      <td>...</td>\n",
       "      <td>...</td>\n",
       "      <td>...</td>\n",
       "    </tr>\n",
       "    <tr>\n",
       "      <th>907</th>\n",
       "      <td>2021-09-06</td>\n",
       "      <td>76800</td>\n",
       "      <td>77600</td>\n",
       "      <td>76600</td>\n",
       "      <td>77300</td>\n",
       "      <td>12861180</td>\n",
       "      <td>0.009138</td>\n",
       "      <td>18.552538</td>\n",
       "      <td>1.671147</td>\n",
       "      <td>0.090076</td>\n",
       "      <td>0.066190</td>\n",
       "    </tr>\n",
       "    <tr>\n",
       "      <th>908</th>\n",
       "      <td>2021-09-07</td>\n",
       "      <td>77100</td>\n",
       "      <td>77100</td>\n",
       "      <td>75900</td>\n",
       "      <td>76100</td>\n",
       "      <td>13239401</td>\n",
       "      <td>-0.015524</td>\n",
       "      <td>18.264530</td>\n",
       "      <td>1.645204</td>\n",
       "      <td>0.090076</td>\n",
       "      <td>0.066190</td>\n",
       "    </tr>\n",
       "    <tr>\n",
       "      <th>909</th>\n",
       "      <td>2021-09-08</td>\n",
       "      <td>76000</td>\n",
       "      <td>76400</td>\n",
       "      <td>75600</td>\n",
       "      <td>76300</td>\n",
       "      <td>11798147</td>\n",
       "      <td>0.002628</td>\n",
       "      <td>18.312532</td>\n",
       "      <td>1.649528</td>\n",
       "      <td>0.090076</td>\n",
       "      <td>0.066190</td>\n",
       "    </tr>\n",
       "    <tr>\n",
       "      <th>910</th>\n",
       "      <td>2021-09-09</td>\n",
       "      <td>76400</td>\n",
       "      <td>76600</td>\n",
       "      <td>75000</td>\n",
       "      <td>75300</td>\n",
       "      <td>17600770</td>\n",
       "      <td>-0.013106</td>\n",
       "      <td>18.072525</td>\n",
       "      <td>1.627909</td>\n",
       "      <td>0.090076</td>\n",
       "      <td>0.066190</td>\n",
       "    </tr>\n",
       "    <tr>\n",
       "      <th>911</th>\n",
       "      <td>2021-09-10</td>\n",
       "      <td>75300</td>\n",
       "      <td>75600</td>\n",
       "      <td>74800</td>\n",
       "      <td>75300</td>\n",
       "      <td>7991395</td>\n",
       "      <td>0.000000</td>\n",
       "      <td>18.072525</td>\n",
       "      <td>1.627909</td>\n",
       "      <td>0.090076</td>\n",
       "      <td>0.066190</td>\n",
       "    </tr>\n",
       "  </tbody>\n",
       "</table>\n",
       "<p>912 rows × 11 columns</p>\n",
       "</div>"
      ],
      "text/plain": [
       "          Date   Open   High    Low  Close    Volume    Change        PER  \\\n",
       "0   2018-01-02  51380  51400  50780  51020    169485  0.001177   8.403220   \n",
       "1   2018-01-03  52540  52560  51420  51620    200270  0.011760   8.502043   \n",
       "2   2018-01-04  52120  52180  50640  51080    233909 -0.010461   8.413103   \n",
       "3   2018-01-05  51300  52120  51200  52120    189623  0.020360   8.584395   \n",
       "4   2018-01-08  52400  52520  51500  52020    167673 -0.001919   8.567925   \n",
       "..         ...    ...    ...    ...    ...       ...       ...        ...   \n",
       "907 2021-09-06  76800  77600  76600  77300  12861180  0.009138  18.552538   \n",
       "908 2021-09-07  77100  77100  75900  76100  13239401 -0.015524  18.264530   \n",
       "909 2021-09-08  76000  76400  75600  76300  11798147  0.002628  18.312532   \n",
       "910 2021-09-09  76400  76600  75000  75300  17600770 -0.013106  18.072525   \n",
       "911 2021-09-10  75300  75600  74800  75300   7991395  0.000000  18.072525   \n",
       "\n",
       "          PBR       ROE       ROA  \n",
       "0    1.445614  0.172031  0.122212  \n",
       "1    1.462615  0.172031  0.122212  \n",
       "2    1.447314  0.172031  0.122212  \n",
       "3    1.476782  0.172031  0.122212  \n",
       "4    1.473949  0.172031  0.122212  \n",
       "..        ...       ...       ...  \n",
       "907  1.671147  0.090076  0.066190  \n",
       "908  1.645204  0.090076  0.066190  \n",
       "909  1.649528  0.090076  0.066190  \n",
       "910  1.627909  0.090076  0.066190  \n",
       "911  1.627909  0.090076  0.066190  \n",
       "\n",
       "[912 rows x 11 columns]"
      ]
     },
     "execution_count": 11,
     "metadata": {},
     "output_type": "execute_result"
    }
   ],
   "source": [
    "df"
   ]
  },
  {
   "cell_type": "code",
   "execution_count": 14,
   "id": "de6ade08",
   "metadata": {},
   "outputs": [
    {
     "data": {
      "text/plain": [
       "[(210691251000000,\n",
       "  85887328000000,\n",
       "  296578579000000,\n",
       "  36245426000000,\n",
       "  5969782550),\n",
       " (242103160000000,\n",
       "  95092626000000,\n",
       "  337195786000000,\n",
       "  47577132000000,\n",
       "  5969782550),\n",
       " (263442244000000,\n",
       "  89943741000000,\n",
       "  353385985000000,\n",
       "  24607128000000,\n",
       "  5969782550),\n",
       " (276136188000000,\n",
       "  99652554000000,\n",
       "  375788742000000,\n",
       "  24873372000000,\n",
       "  5969782550)]"
      ]
     },
     "execution_count": 14,
     "metadata": {},
     "output_type": "execute_result"
    }
   ],
   "source": [
    "arr"
   ]
  },
  {
   "cell_type": "code",
   "execution_count": 13,
   "id": "feb4526e",
   "metadata": {
    "scrolled": true
   },
   "outputs": [
    {
     "data": {
      "text/plain": [
       "[(6071.481782866614, 35292.952337099785),\n",
       " (7969.659129376496, 40554.77029058621),\n",
       " (4121.947121842822, 44129.28641764347),\n",
       " (4166.54573121763, 46255.65264517047)]"
      ]
     },
     "execution_count": 13,
     "metadata": {},
     "output_type": "execute_result"
    }
   ],
   "source": [
    "indexs"
   ]
  },
  {
   "cell_type": "code",
   "execution_count": null,
   "id": "1f37e116",
   "metadata": {},
   "outputs": [],
   "source": []
  },
  {
   "cell_type": "code",
   "execution_count": null,
   "id": "06477536",
   "metadata": {},
   "outputs": [],
   "source": []
  },
  {
   "cell_type": "markdown",
   "id": "5ba91b02",
   "metadata": {},
   "source": [
    "### ============= 연습 ============="
   ]
  },
  {
   "cell_type": "code",
   "execution_count": null,
   "id": "bb1f6e3e",
   "metadata": {},
   "outputs": [],
   "source": []
  },
  {
   "cell_type": "code",
   "execution_count": null,
   "id": "5561a4ce",
   "metadata": {},
   "outputs": [],
   "source": []
  },
  {
   "cell_type": "code",
   "execution_count": null,
   "id": "616bf430",
   "metadata": {},
   "outputs": [],
   "source": []
  },
  {
   "cell_type": "code",
   "execution_count": null,
   "id": "6a8bd2f6",
   "metadata": {},
   "outputs": [],
   "source": []
  },
  {
   "cell_type": "code",
   "execution_count": null,
   "id": "edfba4cc",
   "metadata": {},
   "outputs": [],
   "source": []
  },
  {
   "cell_type": "code",
   "execution_count": null,
   "id": "68e7306b",
   "metadata": {},
   "outputs": [],
   "source": []
  },
  {
   "cell_type": "code",
   "execution_count": null,
   "id": "60e450e1",
   "metadata": {},
   "outputs": [],
   "source": []
  },
  {
   "cell_type": "code",
   "execution_count": null,
   "id": "8e2b5d15",
   "metadata": {},
   "outputs": [],
   "source": []
  },
  {
   "cell_type": "code",
   "execution_count": null,
   "id": "839aba29",
   "metadata": {},
   "outputs": [],
   "source": []
  },
  {
   "cell_type": "code",
   "execution_count": null,
   "id": "5a30003a",
   "metadata": {},
   "outputs": [],
   "source": []
  },
  {
   "cell_type": "code",
   "execution_count": null,
   "id": "da598deb",
   "metadata": {},
   "outputs": [],
   "source": []
  },
  {
   "cell_type": "code",
   "execution_count": null,
   "id": "0d55f206",
   "metadata": {},
   "outputs": [],
   "source": []
  },
  {
   "cell_type": "code",
   "execution_count": 270,
   "id": "e39d195f",
   "metadata": {},
   "outputs": [
    {
     "name": "stdout",
     "output_type": "stream",
     "text": [
      "<class 'pandas.core.frame.DataFrame'>\n",
      "DatetimeIndex: 912 entries, 2018-01-02 to 2021-09-10\n",
      "Data columns (total 6 columns):\n",
      " #   Column  Non-Null Count  Dtype  \n",
      "---  ------  --------------  -----  \n",
      " 0   Open    912 non-null    int64  \n",
      " 1   High    912 non-null    int64  \n",
      " 2   Low     912 non-null    int64  \n",
      " 3   Close   912 non-null    int64  \n",
      " 4   Volume  912 non-null    int64  \n",
      " 5   Change  912 non-null    float64\n",
      "dtypes: float64(1), int64(5)\n",
      "memory usage: 49.9 KB\n"
     ]
    }
   ],
   "source": [
    "stock.info()"
   ]
  },
  {
   "cell_type": "code",
   "execution_count": 445,
   "id": "b10fe7cf",
   "metadata": {},
   "outputs": [],
   "source": [
    "stock = stock.reset_index()"
   ]
  },
  {
   "cell_type": "code",
   "execution_count": 351,
   "id": "428ec96d",
   "metadata": {},
   "outputs": [
    {
     "data": {
      "text/html": [
       "<div>\n",
       "<style scoped>\n",
       "    .dataframe tbody tr th:only-of-type {\n",
       "        vertical-align: middle;\n",
       "    }\n",
       "\n",
       "    .dataframe tbody tr th {\n",
       "        vertical-align: top;\n",
       "    }\n",
       "\n",
       "    .dataframe thead th {\n",
       "        text-align: right;\n",
       "    }\n",
       "</style>\n",
       "<table border=\"1\" class=\"dataframe\">\n",
       "  <thead>\n",
       "    <tr style=\"text-align: right;\">\n",
       "      <th></th>\n",
       "      <th>Date</th>\n",
       "      <th>Open</th>\n",
       "      <th>High</th>\n",
       "      <th>Low</th>\n",
       "      <th>Close</th>\n",
       "      <th>Volume</th>\n",
       "      <th>Change</th>\n",
       "    </tr>\n",
       "  </thead>\n",
       "  <tbody>\n",
       "    <tr>\n",
       "      <th>0</th>\n",
       "      <td>2020-12-09</td>\n",
       "      <td>72100</td>\n",
       "      <td>73900</td>\n",
       "      <td>72000</td>\n",
       "      <td>73900</td>\n",
       "      <td>24077996</td>\n",
       "      <td>0.030683</td>\n",
       "    </tr>\n",
       "    <tr>\n",
       "      <th>1</th>\n",
       "      <td>2020-12-23</td>\n",
       "      <td>72400</td>\n",
       "      <td>74000</td>\n",
       "      <td>72300</td>\n",
       "      <td>73900</td>\n",
       "      <td>19411326</td>\n",
       "      <td>0.022130</td>\n",
       "    </tr>\n",
       "    <tr>\n",
       "      <th>2</th>\n",
       "      <td>2021-08-18</td>\n",
       "      <td>73900</td>\n",
       "      <td>74600</td>\n",
       "      <td>73100</td>\n",
       "      <td>73900</td>\n",
       "      <td>29192631</td>\n",
       "      <td>-0.004043</td>\n",
       "    </tr>\n",
       "    <tr>\n",
       "      <th>3</th>\n",
       "      <td>2020-12-17</td>\n",
       "      <td>73400</td>\n",
       "      <td>73700</td>\n",
       "      <td>72600</td>\n",
       "      <td>73300</td>\n",
       "      <td>24293214</td>\n",
       "      <td>-0.006775</td>\n",
       "    </tr>\n",
       "    <tr>\n",
       "      <th>4</th>\n",
       "      <td>2021-08-23</td>\n",
       "      <td>73300</td>\n",
       "      <td>74000</td>\n",
       "      <td>73000</td>\n",
       "      <td>73300</td>\n",
       "      <td>19384648</td>\n",
       "      <td>0.008253</td>\n",
       "    </tr>\n",
       "    <tr>\n",
       "      <th>...</th>\n",
       "      <td>...</td>\n",
       "      <td>...</td>\n",
       "      <td>...</td>\n",
       "      <td>...</td>\n",
       "      <td>...</td>\n",
       "      <td>...</td>\n",
       "      <td>...</td>\n",
       "    </tr>\n",
       "    <tr>\n",
       "      <th>479</th>\n",
       "      <td>2021-09-03</td>\n",
       "      <td>76400</td>\n",
       "      <td>76700</td>\n",
       "      <td>76000</td>\n",
       "      <td>76600</td>\n",
       "      <td>12096419</td>\n",
       "      <td>0.007895</td>\n",
       "    </tr>\n",
       "    <tr>\n",
       "      <th>480</th>\n",
       "      <td>2021-09-06</td>\n",
       "      <td>76800</td>\n",
       "      <td>77600</td>\n",
       "      <td>76600</td>\n",
       "      <td>77300</td>\n",
       "      <td>12861180</td>\n",
       "      <td>0.009138</td>\n",
       "    </tr>\n",
       "    <tr>\n",
       "      <th>481</th>\n",
       "      <td>2021-09-07</td>\n",
       "      <td>77100</td>\n",
       "      <td>77100</td>\n",
       "      <td>75900</td>\n",
       "      <td>76100</td>\n",
       "      <td>13239401</td>\n",
       "      <td>-0.015524</td>\n",
       "    </tr>\n",
       "    <tr>\n",
       "      <th>482</th>\n",
       "      <td>2021-09-08</td>\n",
       "      <td>76000</td>\n",
       "      <td>76400</td>\n",
       "      <td>75600</td>\n",
       "      <td>76300</td>\n",
       "      <td>11798147</td>\n",
       "      <td>0.002628</td>\n",
       "    </tr>\n",
       "    <tr>\n",
       "      <th>483</th>\n",
       "      <td>2021-09-09</td>\n",
       "      <td>76400</td>\n",
       "      <td>76600</td>\n",
       "      <td>75000</td>\n",
       "      <td>75300</td>\n",
       "      <td>17600770</td>\n",
       "      <td>-0.013106</td>\n",
       "    </tr>\n",
       "  </tbody>\n",
       "</table>\n",
       "<p>484 rows × 7 columns</p>\n",
       "</div>"
      ],
      "text/plain": [
       "          Date   Open   High    Low  Close    Volume    Change\n",
       "0   2020-12-09  72100  73900  72000  73900  24077996  0.030683\n",
       "1   2020-12-23  72400  74000  72300  73900  19411326  0.022130\n",
       "2   2021-08-18  73900  74600  73100  73900  29192631 -0.004043\n",
       "3   2020-12-17  73400  73700  72600  73300  24293214 -0.006775\n",
       "4   2021-08-23  73300  74000  73000  73300  19384648  0.008253\n",
       "..         ...    ...    ...    ...    ...       ...       ...\n",
       "479 2021-09-03  76400  76700  76000  76600  12096419  0.007895\n",
       "480 2021-09-06  76800  77600  76600  77300  12861180  0.009138\n",
       "481 2021-09-07  77100  77100  75900  76100  13239401 -0.015524\n",
       "482 2021-09-08  76000  76400  75600  76300  11798147  0.002628\n",
       "483 2021-09-09  76400  76600  75000  75300  17600770 -0.013106\n",
       "\n",
       "[484 rows x 7 columns]"
      ]
     },
     "execution_count": 351,
     "metadata": {},
     "output_type": "execute_result"
    }
   ],
   "source": [
    "pd.merge(stock,PER)"
   ]
  },
  {
   "cell_type": "code",
   "execution_count": 367,
   "id": "5d33b252",
   "metadata": {},
   "outputs": [
    {
     "name": "stderr",
     "output_type": "stream",
     "text": [
      "/usr/local/lib/python3.6/dist-packages/ipykernel_launcher.py:3: SettingWithCopyWarning: \n",
      "A value is trying to be set on a copy of a slice from a DataFrame\n",
      "\n",
      "See the caveats in the documentation: https://pandas.pydata.org/pandas-docs/stable/user_guide/indexing.html#returning-a-view-versus-a-copy\n",
      "  This is separate from the ipykernel package so we can avoid doing imports until\n"
     ]
    }
   ],
   "source": [
    "PER = stock[stock['Date'].dt.year == 2021]['Close']/10\n",
    "for i in PER.index:\n",
    "    stock['PER'][i] = PER[i]"
   ]
  },
  {
   "cell_type": "code",
   "execution_count": 440,
   "id": "d07f1f12",
   "metadata": {},
   "outputs": [],
   "source": [
    "stock['per'] = 0.1"
   ]
  },
  {
   "cell_type": "code",
   "execution_count": 431,
   "id": "c22e2535",
   "metadata": {},
   "outputs": [],
   "source": [
    "a,b = 15,10"
   ]
  },
  {
   "cell_type": "code",
   "execution_count": 448,
   "id": "54097970",
   "metadata": {},
   "outputs": [
    {
     "name": "stdout",
     "output_type": "stream",
     "text": [
      "<class 'pandas.core.frame.DataFrame'>\n",
      "RangeIndex: 668 entries, 0 to 667\n",
      "Data columns (total 8 columns):\n",
      " #   Column  Non-Null Count  Dtype         \n",
      "---  ------  --------------  -----         \n",
      " 0   Date    668 non-null    datetime64[ns]\n",
      " 1   Open    668 non-null    int64         \n",
      " 2   High    668 non-null    int64         \n",
      " 3   Low     668 non-null    int64         \n",
      " 4   Close   668 non-null    int64         \n",
      " 5   Volume  668 non-null    int64         \n",
      " 6   Change  668 non-null    float64       \n",
      " 7   per     668 non-null    float64       \n",
      "dtypes: datetime64[ns](1), float64(2), int64(5)\n",
      "memory usage: 41.9 KB\n"
     ]
    }
   ],
   "source": [
    "stock.info()"
   ]
  },
  {
   "cell_type": "code",
   "execution_count": 456,
   "id": "a7032edc",
   "metadata": {},
   "outputs": [],
   "source": [
    "stock.loc[stock['Date'].dt.year == 2020,'per'] = b"
   ]
  },
  {
   "cell_type": "code",
   "execution_count": 457,
   "id": "0f62ebff",
   "metadata": {},
   "outputs": [
    {
     "data": {
      "text/html": [
       "<div>\n",
       "<style scoped>\n",
       "    .dataframe tbody tr th:only-of-type {\n",
       "        vertical-align: middle;\n",
       "    }\n",
       "\n",
       "    .dataframe tbody tr th {\n",
       "        vertical-align: top;\n",
       "    }\n",
       "\n",
       "    .dataframe thead th {\n",
       "        text-align: right;\n",
       "    }\n",
       "</style>\n",
       "<table border=\"1\" class=\"dataframe\">\n",
       "  <thead>\n",
       "    <tr style=\"text-align: right;\">\n",
       "      <th></th>\n",
       "      <th>Date</th>\n",
       "      <th>Open</th>\n",
       "      <th>High</th>\n",
       "      <th>Low</th>\n",
       "      <th>Close</th>\n",
       "      <th>Volume</th>\n",
       "      <th>Change</th>\n",
       "      <th>per</th>\n",
       "    </tr>\n",
       "  </thead>\n",
       "  <tbody>\n",
       "    <tr>\n",
       "      <th>0</th>\n",
       "      <td>2019-01-02</td>\n",
       "      <td>39400</td>\n",
       "      <td>39400</td>\n",
       "      <td>38550</td>\n",
       "      <td>38750</td>\n",
       "      <td>7847664</td>\n",
       "      <td>0.001292</td>\n",
       "      <td>0.1</td>\n",
       "    </tr>\n",
       "    <tr>\n",
       "      <th>1</th>\n",
       "      <td>2019-01-03</td>\n",
       "      <td>38300</td>\n",
       "      <td>38550</td>\n",
       "      <td>37450</td>\n",
       "      <td>37600</td>\n",
       "      <td>12471493</td>\n",
       "      <td>-0.029677</td>\n",
       "      <td>0.1</td>\n",
       "    </tr>\n",
       "    <tr>\n",
       "      <th>2</th>\n",
       "      <td>2019-01-04</td>\n",
       "      <td>37450</td>\n",
       "      <td>37600</td>\n",
       "      <td>36850</td>\n",
       "      <td>37450</td>\n",
       "      <td>14108958</td>\n",
       "      <td>-0.003989</td>\n",
       "      <td>0.1</td>\n",
       "    </tr>\n",
       "    <tr>\n",
       "      <th>3</th>\n",
       "      <td>2019-01-07</td>\n",
       "      <td>38000</td>\n",
       "      <td>38900</td>\n",
       "      <td>37800</td>\n",
       "      <td>38750</td>\n",
       "      <td>12748997</td>\n",
       "      <td>0.034713</td>\n",
       "      <td>0.1</td>\n",
       "    </tr>\n",
       "    <tr>\n",
       "      <th>4</th>\n",
       "      <td>2019-01-08</td>\n",
       "      <td>38000</td>\n",
       "      <td>39200</td>\n",
       "      <td>37950</td>\n",
       "      <td>38100</td>\n",
       "      <td>12756554</td>\n",
       "      <td>-0.016774</td>\n",
       "      <td>0.1</td>\n",
       "    </tr>\n",
       "    <tr>\n",
       "      <th>...</th>\n",
       "      <td>...</td>\n",
       "      <td>...</td>\n",
       "      <td>...</td>\n",
       "      <td>...</td>\n",
       "      <td>...</td>\n",
       "      <td>...</td>\n",
       "      <td>...</td>\n",
       "      <td>...</td>\n",
       "    </tr>\n",
       "    <tr>\n",
       "      <th>663</th>\n",
       "      <td>2021-09-06</td>\n",
       "      <td>76800</td>\n",
       "      <td>77600</td>\n",
       "      <td>76600</td>\n",
       "      <td>77300</td>\n",
       "      <td>12861180</td>\n",
       "      <td>0.009138</td>\n",
       "      <td>15.0</td>\n",
       "    </tr>\n",
       "    <tr>\n",
       "      <th>664</th>\n",
       "      <td>2021-09-07</td>\n",
       "      <td>77100</td>\n",
       "      <td>77100</td>\n",
       "      <td>75900</td>\n",
       "      <td>76100</td>\n",
       "      <td>13239401</td>\n",
       "      <td>-0.015524</td>\n",
       "      <td>15.0</td>\n",
       "    </tr>\n",
       "    <tr>\n",
       "      <th>665</th>\n",
       "      <td>2021-09-08</td>\n",
       "      <td>76000</td>\n",
       "      <td>76400</td>\n",
       "      <td>75600</td>\n",
       "      <td>76300</td>\n",
       "      <td>11798147</td>\n",
       "      <td>0.002628</td>\n",
       "      <td>15.0</td>\n",
       "    </tr>\n",
       "    <tr>\n",
       "      <th>666</th>\n",
       "      <td>2021-09-09</td>\n",
       "      <td>76400</td>\n",
       "      <td>76600</td>\n",
       "      <td>75000</td>\n",
       "      <td>75300</td>\n",
       "      <td>17600770</td>\n",
       "      <td>-0.013106</td>\n",
       "      <td>15.0</td>\n",
       "    </tr>\n",
       "    <tr>\n",
       "      <th>667</th>\n",
       "      <td>2021-09-10</td>\n",
       "      <td>75300</td>\n",
       "      <td>75600</td>\n",
       "      <td>74800</td>\n",
       "      <td>75300</td>\n",
       "      <td>7774605</td>\n",
       "      <td>0.000000</td>\n",
       "      <td>15.0</td>\n",
       "    </tr>\n",
       "  </tbody>\n",
       "</table>\n",
       "<p>668 rows × 8 columns</p>\n",
       "</div>"
      ],
      "text/plain": [
       "          Date   Open   High    Low  Close    Volume    Change   per\n",
       "0   2019-01-02  39400  39400  38550  38750   7847664  0.001292   0.1\n",
       "1   2019-01-03  38300  38550  37450  37600  12471493 -0.029677   0.1\n",
       "2   2019-01-04  37450  37600  36850  37450  14108958 -0.003989   0.1\n",
       "3   2019-01-07  38000  38900  37800  38750  12748997  0.034713   0.1\n",
       "4   2019-01-08  38000  39200  37950  38100  12756554 -0.016774   0.1\n",
       "..         ...    ...    ...    ...    ...       ...       ...   ...\n",
       "663 2021-09-06  76800  77600  76600  77300  12861180  0.009138  15.0\n",
       "664 2021-09-07  77100  77100  75900  76100  13239401 -0.015524  15.0\n",
       "665 2021-09-08  76000  76400  75600  76300  11798147  0.002628  15.0\n",
       "666 2021-09-09  76400  76600  75000  75300  17600770 -0.013106  15.0\n",
       "667 2021-09-10  75300  75600  74800  75300   7774605  0.000000  15.0\n",
       "\n",
       "[668 rows x 8 columns]"
      ]
     },
     "execution_count": 457,
     "metadata": {},
     "output_type": "execute_result"
    }
   ],
   "source": [
    "stock"
   ]
  },
  {
   "cell_type": "code",
   "execution_count": 458,
   "id": "cf147c02",
   "metadata": {},
   "outputs": [
    {
     "data": {
      "text/html": [
       "<div>\n",
       "<style scoped>\n",
       "    .dataframe tbody tr th:only-of-type {\n",
       "        vertical-align: middle;\n",
       "    }\n",
       "\n",
       "    .dataframe tbody tr th {\n",
       "        vertical-align: top;\n",
       "    }\n",
       "\n",
       "    .dataframe thead th {\n",
       "        text-align: right;\n",
       "    }\n",
       "</style>\n",
       "<table border=\"1\" class=\"dataframe\">\n",
       "  <thead>\n",
       "    <tr style=\"text-align: right;\">\n",
       "      <th></th>\n",
       "      <th>Date</th>\n",
       "      <th>Open</th>\n",
       "      <th>High</th>\n",
       "      <th>Low</th>\n",
       "      <th>Close</th>\n",
       "      <th>Volume</th>\n",
       "      <th>Change</th>\n",
       "      <th>per</th>\n",
       "    </tr>\n",
       "  </thead>\n",
       "  <tbody>\n",
       "    <tr>\n",
       "      <th>246</th>\n",
       "      <td>2020-01-02</td>\n",
       "      <td>55500</td>\n",
       "      <td>56000</td>\n",
       "      <td>55000</td>\n",
       "      <td>55200</td>\n",
       "      <td>12993228</td>\n",
       "      <td>-0.010753</td>\n",
       "      <td>10.0</td>\n",
       "    </tr>\n",
       "    <tr>\n",
       "      <th>247</th>\n",
       "      <td>2020-01-03</td>\n",
       "      <td>56000</td>\n",
       "      <td>56600</td>\n",
       "      <td>54900</td>\n",
       "      <td>55500</td>\n",
       "      <td>15422255</td>\n",
       "      <td>0.005435</td>\n",
       "      <td>10.0</td>\n",
       "    </tr>\n",
       "    <tr>\n",
       "      <th>248</th>\n",
       "      <td>2020-01-06</td>\n",
       "      <td>54900</td>\n",
       "      <td>55600</td>\n",
       "      <td>54600</td>\n",
       "      <td>55500</td>\n",
       "      <td>10278951</td>\n",
       "      <td>0.000000</td>\n",
       "      <td>10.0</td>\n",
       "    </tr>\n",
       "    <tr>\n",
       "      <th>249</th>\n",
       "      <td>2020-01-07</td>\n",
       "      <td>55700</td>\n",
       "      <td>56400</td>\n",
       "      <td>55600</td>\n",
       "      <td>55800</td>\n",
       "      <td>10009778</td>\n",
       "      <td>0.005405</td>\n",
       "      <td>10.0</td>\n",
       "    </tr>\n",
       "    <tr>\n",
       "      <th>250</th>\n",
       "      <td>2020-01-08</td>\n",
       "      <td>56200</td>\n",
       "      <td>57400</td>\n",
       "      <td>55900</td>\n",
       "      <td>56800</td>\n",
       "      <td>23501171</td>\n",
       "      <td>0.017921</td>\n",
       "      <td>10.0</td>\n",
       "    </tr>\n",
       "    <tr>\n",
       "      <th>...</th>\n",
       "      <td>...</td>\n",
       "      <td>...</td>\n",
       "      <td>...</td>\n",
       "      <td>...</td>\n",
       "      <td>...</td>\n",
       "      <td>...</td>\n",
       "      <td>...</td>\n",
       "      <td>...</td>\n",
       "    </tr>\n",
       "    <tr>\n",
       "      <th>489</th>\n",
       "      <td>2020-12-23</td>\n",
       "      <td>72400</td>\n",
       "      <td>74000</td>\n",
       "      <td>72300</td>\n",
       "      <td>73900</td>\n",
       "      <td>19411326</td>\n",
       "      <td>0.022130</td>\n",
       "      <td>10.0</td>\n",
       "    </tr>\n",
       "    <tr>\n",
       "      <th>490</th>\n",
       "      <td>2020-12-24</td>\n",
       "      <td>74100</td>\n",
       "      <td>78800</td>\n",
       "      <td>74000</td>\n",
       "      <td>77800</td>\n",
       "      <td>32502870</td>\n",
       "      <td>0.052774</td>\n",
       "      <td>10.0</td>\n",
       "    </tr>\n",
       "    <tr>\n",
       "      <th>491</th>\n",
       "      <td>2020-12-28</td>\n",
       "      <td>79000</td>\n",
       "      <td>80100</td>\n",
       "      <td>78200</td>\n",
       "      <td>78700</td>\n",
       "      <td>40085044</td>\n",
       "      <td>0.011568</td>\n",
       "      <td>10.0</td>\n",
       "    </tr>\n",
       "    <tr>\n",
       "      <th>492</th>\n",
       "      <td>2020-12-29</td>\n",
       "      <td>78800</td>\n",
       "      <td>78900</td>\n",
       "      <td>77300</td>\n",
       "      <td>78300</td>\n",
       "      <td>30339449</td>\n",
       "      <td>-0.005083</td>\n",
       "      <td>10.0</td>\n",
       "    </tr>\n",
       "    <tr>\n",
       "      <th>493</th>\n",
       "      <td>2020-12-30</td>\n",
       "      <td>77400</td>\n",
       "      <td>81300</td>\n",
       "      <td>77300</td>\n",
       "      <td>81000</td>\n",
       "      <td>29417421</td>\n",
       "      <td>0.034483</td>\n",
       "      <td>10.0</td>\n",
       "    </tr>\n",
       "  </tbody>\n",
       "</table>\n",
       "<p>248 rows × 8 columns</p>\n",
       "</div>"
      ],
      "text/plain": [
       "          Date   Open   High    Low  Close    Volume    Change   per\n",
       "246 2020-01-02  55500  56000  55000  55200  12993228 -0.010753  10.0\n",
       "247 2020-01-03  56000  56600  54900  55500  15422255  0.005435  10.0\n",
       "248 2020-01-06  54900  55600  54600  55500  10278951  0.000000  10.0\n",
       "249 2020-01-07  55700  56400  55600  55800  10009778  0.005405  10.0\n",
       "250 2020-01-08  56200  57400  55900  56800  23501171  0.017921  10.0\n",
       "..         ...    ...    ...    ...    ...       ...       ...   ...\n",
       "489 2020-12-23  72400  74000  72300  73900  19411326  0.022130  10.0\n",
       "490 2020-12-24  74100  78800  74000  77800  32502870  0.052774  10.0\n",
       "491 2020-12-28  79000  80100  78200  78700  40085044  0.011568  10.0\n",
       "492 2020-12-29  78800  78900  77300  78300  30339449 -0.005083  10.0\n",
       "493 2020-12-30  77400  81300  77300  81000  29417421  0.034483  10.0\n",
       "\n",
       "[248 rows x 8 columns]"
      ]
     },
     "execution_count": 458,
     "metadata": {},
     "output_type": "execute_result"
    }
   ],
   "source": [
    "stock[stock['Date'].dt.year == 2020]"
   ]
  },
  {
   "cell_type": "code",
   "execution_count": 363,
   "id": "eebccdea",
   "metadata": {},
   "outputs": [
    {
     "data": {
      "text/plain": [
       "8300.0"
      ]
     },
     "execution_count": 363,
     "metadata": {},
     "output_type": "execute_result"
    }
   ],
   "source": [
    "PER[738]"
   ]
  },
  {
   "cell_type": "code",
   "execution_count": 364,
   "id": "5b74deec",
   "metadata": {},
   "outputs": [
    {
     "data": {
      "text/plain": [
       "83000.0"
      ]
     },
     "execution_count": 364,
     "metadata": {},
     "output_type": "execute_result"
    }
   ],
   "source": [
    "stock['PER'][738]"
   ]
  },
  {
   "cell_type": "code",
   "execution_count": 365,
   "id": "bacb6cd1",
   "metadata": {},
   "outputs": [
    {
     "name": "stderr",
     "output_type": "stream",
     "text": [
      "/usr/local/lib/python3.6/dist-packages/ipykernel_launcher.py:1: SettingWithCopyWarning: \n",
      "A value is trying to be set on a copy of a slice from a DataFrame\n",
      "\n",
      "See the caveats in the documentation: https://pandas.pydata.org/pandas-docs/stable/user_guide/indexing.html#returning-a-view-versus-a-copy\n",
      "  \"\"\"Entry point for launching an IPython kernel.\n"
     ]
    }
   ],
   "source": [
    "stock['PER'][738] = PER[738]"
   ]
  },
  {
   "cell_type": "code",
   "execution_count": 366,
   "id": "a126f942",
   "metadata": {},
   "outputs": [
    {
     "data": {
      "text/plain": [
       "8300.0"
      ]
     },
     "execution_count": 366,
     "metadata": {},
     "output_type": "execute_result"
    }
   ],
   "source": [
    "stock['PER'][738]"
   ]
  },
  {
   "cell_type": "code",
   "execution_count": 343,
   "id": "cfaf166f",
   "metadata": {},
   "outputs": [
    {
     "data": {
      "text/plain": [
       "738"
      ]
     },
     "execution_count": 343,
     "metadata": {},
     "output_type": "execute_result"
    }
   ],
   "source": [
    "PER.index"
   ]
  },
  {
   "cell_type": "code",
   "execution_count": 321,
   "id": "c07fd798",
   "metadata": {
    "scrolled": true
   },
   "outputs": [
    {
     "name": "stderr",
     "output_type": "stream",
     "text": [
      "/usr/local/lib/python3.6/dist-packages/ipykernel_launcher.py:1: SettingWithCopyWarning: \n",
      "A value is trying to be set on a copy of a slice from a DataFrame.\n",
      "Try using .loc[row_indexer,col_indexer] = value instead\n",
      "\n",
      "See the caveats in the documentation: https://pandas.pydata.org/pandas-docs/stable/user_guide/indexing.html#returning-a-view-versus-a-copy\n",
      "  \"\"\"Entry point for launching an IPython kernel.\n"
     ]
    }
   ],
   "source": [
    "stock[stock['Date'].dt.year == 2021]['PER'] = PER"
   ]
  },
  {
   "cell_type": "code",
   "execution_count": 322,
   "id": "50109206",
   "metadata": {},
   "outputs": [
    {
     "data": {
      "text/plain": [
       "738   NaN\n",
       "739   NaN\n",
       "740   NaN\n",
       "741   NaN\n",
       "742   NaN\n",
       "       ..\n",
       "907   NaN\n",
       "908   NaN\n",
       "909   NaN\n",
       "910   NaN\n",
       "911   NaN\n",
       "Name: PER, Length: 174, dtype: float64"
      ]
     },
     "execution_count": 322,
     "metadata": {},
     "output_type": "execute_result"
    }
   ],
   "source": [
    "stock[stock['Date'].dt.year == 2021]['PER']"
   ]
  },
  {
   "cell_type": "code",
   "execution_count": 313,
   "id": "47ff1f99",
   "metadata": {},
   "outputs": [
    {
     "data": {
      "text/html": [
       "<div>\n",
       "<style scoped>\n",
       "    .dataframe tbody tr th:only-of-type {\n",
       "        vertical-align: middle;\n",
       "    }\n",
       "\n",
       "    .dataframe tbody tr th {\n",
       "        vertical-align: top;\n",
       "    }\n",
       "\n",
       "    .dataframe thead th {\n",
       "        text-align: right;\n",
       "    }\n",
       "</style>\n",
       "<table border=\"1\" class=\"dataframe\">\n",
       "  <thead>\n",
       "    <tr style=\"text-align: right;\">\n",
       "      <th></th>\n",
       "      <th>Date</th>\n",
       "      <th>Open</th>\n",
       "      <th>High</th>\n",
       "      <th>Low</th>\n",
       "      <th>Close</th>\n",
       "      <th>Volume</th>\n",
       "      <th>Change</th>\n",
       "      <th>PER</th>\n",
       "    </tr>\n",
       "  </thead>\n",
       "  <tbody>\n",
       "    <tr>\n",
       "      <th>0</th>\n",
       "      <td>2018-01-02</td>\n",
       "      <td>51380</td>\n",
       "      <td>51400</td>\n",
       "      <td>50780</td>\n",
       "      <td>51020</td>\n",
       "      <td>169485</td>\n",
       "      <td>0.001177</td>\n",
       "      <td>51020.0</td>\n",
       "    </tr>\n",
       "    <tr>\n",
       "      <th>1</th>\n",
       "      <td>2018-01-03</td>\n",
       "      <td>52540</td>\n",
       "      <td>52560</td>\n",
       "      <td>51420</td>\n",
       "      <td>51620</td>\n",
       "      <td>200270</td>\n",
       "      <td>0.011760</td>\n",
       "      <td>51620.0</td>\n",
       "    </tr>\n",
       "    <tr>\n",
       "      <th>2</th>\n",
       "      <td>2018-01-04</td>\n",
       "      <td>52120</td>\n",
       "      <td>52180</td>\n",
       "      <td>50640</td>\n",
       "      <td>51080</td>\n",
       "      <td>233909</td>\n",
       "      <td>-0.010461</td>\n",
       "      <td>51080.0</td>\n",
       "    </tr>\n",
       "    <tr>\n",
       "      <th>3</th>\n",
       "      <td>2018-01-05</td>\n",
       "      <td>51300</td>\n",
       "      <td>52120</td>\n",
       "      <td>51200</td>\n",
       "      <td>52120</td>\n",
       "      <td>189623</td>\n",
       "      <td>0.020360</td>\n",
       "      <td>52120.0</td>\n",
       "    </tr>\n",
       "    <tr>\n",
       "      <th>4</th>\n",
       "      <td>2018-01-08</td>\n",
       "      <td>52400</td>\n",
       "      <td>52520</td>\n",
       "      <td>51500</td>\n",
       "      <td>52020</td>\n",
       "      <td>167673</td>\n",
       "      <td>-0.001919</td>\n",
       "      <td>52020.0</td>\n",
       "    </tr>\n",
       "    <tr>\n",
       "      <th>...</th>\n",
       "      <td>...</td>\n",
       "      <td>...</td>\n",
       "      <td>...</td>\n",
       "      <td>...</td>\n",
       "      <td>...</td>\n",
       "      <td>...</td>\n",
       "      <td>...</td>\n",
       "      <td>...</td>\n",
       "    </tr>\n",
       "    <tr>\n",
       "      <th>907</th>\n",
       "      <td>2021-09-06</td>\n",
       "      <td>76800</td>\n",
       "      <td>77600</td>\n",
       "      <td>76600</td>\n",
       "      <td>77300</td>\n",
       "      <td>12861180</td>\n",
       "      <td>0.009138</td>\n",
       "      <td>NaN</td>\n",
       "    </tr>\n",
       "    <tr>\n",
       "      <th>908</th>\n",
       "      <td>2021-09-07</td>\n",
       "      <td>77100</td>\n",
       "      <td>77100</td>\n",
       "      <td>75900</td>\n",
       "      <td>76100</td>\n",
       "      <td>13239401</td>\n",
       "      <td>-0.015524</td>\n",
       "      <td>NaN</td>\n",
       "    </tr>\n",
       "    <tr>\n",
       "      <th>909</th>\n",
       "      <td>2021-09-08</td>\n",
       "      <td>76000</td>\n",
       "      <td>76400</td>\n",
       "      <td>75600</td>\n",
       "      <td>76300</td>\n",
       "      <td>11798147</td>\n",
       "      <td>0.002628</td>\n",
       "      <td>NaN</td>\n",
       "    </tr>\n",
       "    <tr>\n",
       "      <th>910</th>\n",
       "      <td>2021-09-09</td>\n",
       "      <td>76400</td>\n",
       "      <td>76600</td>\n",
       "      <td>75000</td>\n",
       "      <td>75300</td>\n",
       "      <td>17600770</td>\n",
       "      <td>-0.013106</td>\n",
       "      <td>NaN</td>\n",
       "    </tr>\n",
       "    <tr>\n",
       "      <th>911</th>\n",
       "      <td>2021-09-10</td>\n",
       "      <td>75300</td>\n",
       "      <td>75600</td>\n",
       "      <td>75000</td>\n",
       "      <td>75200</td>\n",
       "      <td>1337225</td>\n",
       "      <td>-0.001328</td>\n",
       "      <td>NaN</td>\n",
       "    </tr>\n",
       "  </tbody>\n",
       "</table>\n",
       "<p>912 rows × 8 columns</p>\n",
       "</div>"
      ],
      "text/plain": [
       "          Date   Open   High    Low  Close    Volume    Change      PER\n",
       "0   2018-01-02  51380  51400  50780  51020    169485  0.001177  51020.0\n",
       "1   2018-01-03  52540  52560  51420  51620    200270  0.011760  51620.0\n",
       "2   2018-01-04  52120  52180  50640  51080    233909 -0.010461  51080.0\n",
       "3   2018-01-05  51300  52120  51200  52120    189623  0.020360  52120.0\n",
       "4   2018-01-08  52400  52520  51500  52020    167673 -0.001919  52020.0\n",
       "..         ...    ...    ...    ...    ...       ...       ...      ...\n",
       "907 2021-09-06  76800  77600  76600  77300  12861180  0.009138      NaN\n",
       "908 2021-09-07  77100  77100  75900  76100  13239401 -0.015524      NaN\n",
       "909 2021-09-08  76000  76400  75600  76300  11798147  0.002628      NaN\n",
       "910 2021-09-09  76400  76600  75000  75300  17600770 -0.013106      NaN\n",
       "911 2021-09-10  75300  75600  75000  75200   1337225 -0.001328      NaN\n",
       "\n",
       "[912 rows x 8 columns]"
      ]
     },
     "execution_count": 313,
     "metadata": {},
     "output_type": "execute_result"
    }
   ],
   "source": [
    "stock"
   ]
  },
  {
   "cell_type": "code",
   "execution_count": 227,
   "id": "9fbe970c",
   "metadata": {},
   "outputs": [],
   "source": [
    "a =stock.copy()\n",
    "a=a.reset_index()"
   ]
  },
  {
   "cell_type": "code",
   "execution_count": 290,
   "id": "50e8c3a6",
   "metadata": {},
   "outputs": [],
   "source": [
    "s = a[a['Date'].dt.year == 2018]['Close']"
   ]
  },
  {
   "cell_type": "code",
   "execution_count": 292,
   "id": "f94712dd",
   "metadata": {},
   "outputs": [],
   "source": [
    "a['aaaa'] = 0.1"
   ]
  },
  {
   "cell_type": "code",
   "execution_count": 295,
   "id": "5e86b722",
   "metadata": {
    "scrolled": true
   },
   "outputs": [
    {
     "data": {
      "text/html": [
       "<div>\n",
       "<style scoped>\n",
       "    .dataframe tbody tr th:only-of-type {\n",
       "        vertical-align: middle;\n",
       "    }\n",
       "\n",
       "    .dataframe tbody tr th {\n",
       "        vertical-align: top;\n",
       "    }\n",
       "\n",
       "    .dataframe thead th {\n",
       "        text-align: right;\n",
       "    }\n",
       "</style>\n",
       "<table border=\"1\" class=\"dataframe\">\n",
       "  <thead>\n",
       "    <tr style=\"text-align: right;\">\n",
       "      <th></th>\n",
       "      <th>Date</th>\n",
       "      <th>Open</th>\n",
       "      <th>High</th>\n",
       "      <th>Low</th>\n",
       "      <th>Close</th>\n",
       "      <th>Volume</th>\n",
       "      <th>Change</th>\n",
       "      <th>aaaa</th>\n",
       "    </tr>\n",
       "  </thead>\n",
       "  <tbody>\n",
       "    <tr>\n",
       "      <th>0</th>\n",
       "      <td>2018-01-02</td>\n",
       "      <td>51380</td>\n",
       "      <td>51400</td>\n",
       "      <td>50780</td>\n",
       "      <td>51020</td>\n",
       "      <td>169485</td>\n",
       "      <td>0.001177</td>\n",
       "      <td>51020.0</td>\n",
       "    </tr>\n",
       "    <tr>\n",
       "      <th>1</th>\n",
       "      <td>2018-01-03</td>\n",
       "      <td>52540</td>\n",
       "      <td>52560</td>\n",
       "      <td>51420</td>\n",
       "      <td>51620</td>\n",
       "      <td>200270</td>\n",
       "      <td>0.011760</td>\n",
       "      <td>51620.0</td>\n",
       "    </tr>\n",
       "    <tr>\n",
       "      <th>2</th>\n",
       "      <td>2018-01-04</td>\n",
       "      <td>52120</td>\n",
       "      <td>52180</td>\n",
       "      <td>50640</td>\n",
       "      <td>51080</td>\n",
       "      <td>233909</td>\n",
       "      <td>-0.010461</td>\n",
       "      <td>51080.0</td>\n",
       "    </tr>\n",
       "    <tr>\n",
       "      <th>3</th>\n",
       "      <td>2018-01-05</td>\n",
       "      <td>51300</td>\n",
       "      <td>52120</td>\n",
       "      <td>51200</td>\n",
       "      <td>52120</td>\n",
       "      <td>189623</td>\n",
       "      <td>0.020360</td>\n",
       "      <td>52120.0</td>\n",
       "    </tr>\n",
       "    <tr>\n",
       "      <th>4</th>\n",
       "      <td>2018-01-08</td>\n",
       "      <td>52400</td>\n",
       "      <td>52520</td>\n",
       "      <td>51500</td>\n",
       "      <td>52020</td>\n",
       "      <td>167673</td>\n",
       "      <td>-0.001919</td>\n",
       "      <td>52020.0</td>\n",
       "    </tr>\n",
       "  </tbody>\n",
       "</table>\n",
       "</div>"
      ],
      "text/plain": [
       "        Date   Open   High    Low  Close  Volume    Change     aaaa\n",
       "0 2018-01-02  51380  51400  50780  51020  169485  0.001177  51020.0\n",
       "1 2018-01-03  52540  52560  51420  51620  200270  0.011760  51620.0\n",
       "2 2018-01-04  52120  52180  50640  51080  233909 -0.010461  51080.0\n",
       "3 2018-01-05  51300  52120  51200  52120  189623  0.020360  52120.0\n",
       "4 2018-01-08  52400  52520  51500  52020  167673 -0.001919  52020.0"
      ]
     },
     "execution_count": 295,
     "metadata": {},
     "output_type": "execute_result"
    }
   ],
   "source": [
    "a.head()"
   ]
  },
  {
   "cell_type": "code",
   "execution_count": 294,
   "id": "5b826b2e",
   "metadata": {},
   "outputs": [],
   "source": [
    "a['aaaa'] = s"
   ]
  },
  {
   "cell_type": "code",
   "execution_count": 247,
   "id": "52fe230b",
   "metadata": {},
   "outputs": [
    {
     "data": {
      "text/plain": [
       "0      51020.0\n",
       "1      51620.0\n",
       "2      51080.0\n",
       "3      52120.0\n",
       "4      52020.0\n",
       "        ...   \n",
       "239    38650.0\n",
       "240    38800.0\n",
       "241    38350.0\n",
       "242    38250.0\n",
       "243    38700.0\n",
       "Name: Close, Length: 244, dtype: float64"
      ]
     },
     "execution_count": 247,
     "metadata": {},
     "output_type": "execute_result"
    }
   ],
   "source": [
    "a.loc[a['Date'].dt.year == 2018,'Close']/1"
   ]
  },
  {
   "cell_type": "code",
   "execution_count": null,
   "id": "4bc442a0",
   "metadata": {},
   "outputs": [],
   "source": []
  },
  {
   "cell_type": "code",
   "execution_count": null,
   "id": "15b3f384",
   "metadata": {},
   "outputs": [],
   "source": [
    "a.loc[a['sj_div'].isin(['BS']) & a['account_nm'].isin(['부채총계']),'thstrm_amount']"
   ]
  },
  {
   "cell_type": "code",
   "execution_count": 183,
   "id": "5ea61dc7",
   "metadata": {},
   "outputs": [
    {
     "data": {
      "text/html": [
       "<div>\n",
       "<style scoped>\n",
       "    .dataframe tbody tr th:only-of-type {\n",
       "        vertical-align: middle;\n",
       "    }\n",
       "\n",
       "    .dataframe tbody tr th {\n",
       "        vertical-align: top;\n",
       "    }\n",
       "\n",
       "    .dataframe thead th {\n",
       "        text-align: right;\n",
       "    }\n",
       "</style>\n",
       "<table border=\"1\" class=\"dataframe\">\n",
       "  <thead>\n",
       "    <tr style=\"text-align: right;\">\n",
       "      <th></th>\n",
       "      <th>rcept_no</th>\n",
       "      <th>corp_cls</th>\n",
       "      <th>corp_code</th>\n",
       "      <th>corp_name</th>\n",
       "      <th>se</th>\n",
       "      <th>shrholdr_co</th>\n",
       "      <th>shrholdr_tot_co</th>\n",
       "      <th>shrholdr_rate</th>\n",
       "      <th>hold_stock_co</th>\n",
       "      <th>stock_tot_co</th>\n",
       "      <th>hold_stock_rate</th>\n",
       "    </tr>\n",
       "  </thead>\n",
       "  <tbody>\n",
       "    <tr>\n",
       "      <th>0</th>\n",
       "      <td>20201116001248</td>\n",
       "      <td>Y</td>\n",
       "      <td>00126380</td>\n",
       "      <td>삼성전자</td>\n",
       "      <td>소액주주</td>\n",
       "      <td>1,754,623</td>\n",
       "      <td>1,754,776</td>\n",
       "      <td>99.99%</td>\n",
       "      <td>3,711,273,219</td>\n",
       "      <td>5,969,782,550</td>\n",
       "      <td>62.17%</td>\n",
       "    </tr>\n",
       "  </tbody>\n",
       "</table>\n",
       "</div>"
      ],
      "text/plain": [
       "         rcept_no corp_cls corp_code corp_name    se shrholdr_co  \\\n",
       "0  20201116001248        Y  00126380      삼성전자  소액주주   1,754,623   \n",
       "\n",
       "  shrholdr_tot_co shrholdr_rate  hold_stock_co   stock_tot_co hold_stock_rate  \n",
       "0       1,754,776        99.99%  3,711,273,219  5,969,782,550          62.17%  "
      ]
     },
     "execution_count": 183,
     "metadata": {},
     "output_type": "execute_result"
    }
   ],
   "source": [
    "dart.report('005930', '소액주주', 2020, reprt_code=11014)"
   ]
  },
  {
   "cell_type": "code",
   "execution_count": null,
   "id": "e1473573",
   "metadata": {},
   "outputs": [],
   "source": []
  },
  {
   "cell_type": "code",
   "execution_count": null,
   "id": "64bbae48",
   "metadata": {},
   "outputs": [],
   "source": [
    "fs_present.loc[fs_present['sj_div'].isin(['BS']) & fs_present['account_id'].isin(['ifrs-full_Liabilities']), 'thstrm_amount']"
   ]
  },
  {
   "cell_type": "code",
   "execution_count": null,
   "id": "1c17158a",
   "metadata": {},
   "outputs": [],
   "source": [
    "int(fs_present.loc[fs_present['sj_div'].isin(['BS']) & fs_present['account_nm'].isin(['부채총계']), 'thstrm_amount'].replace(\",\", \"\"))"
   ]
  },
  {
   "cell_type": "code",
   "execution_count": null,
   "id": "6b207a1f",
   "metadata": {},
   "outputs": [],
   "source": [
    "int(fs_present.loc[fs_present['sj_div'].isin(['BS']) & fs_present['account_id'].isin(['ifrs-full_Liabilities']), 'thstrm_amount'].replace(\",\", \"\"))"
   ]
  },
  {
   "cell_type": "code",
   "execution_count": null,
   "id": "aa3ebc29",
   "metadata": {},
   "outputs": [],
   "source": []
  },
  {
   "cell_type": "code",
   "execution_count": 87,
   "id": "5edf6e42",
   "metadata": {},
   "outputs": [
    {
     "data": {
      "text/plain": [
       "52    275948016000000\n",
       "Name: thstrm_amount, dtype: object"
      ]
     },
     "execution_count": 87,
     "metadata": {},
     "output_type": "execute_result"
    }
   ],
   "source": [
    "fs_present.loc[fs_present['sj_div'].isin(['BS']) & fs_present['account_nm'].isin(['자본총계']), 'thstrm_amount']"
   ]
  },
  {
   "cell_type": "code",
   "execution_count": null,
   "id": "8fab896b",
   "metadata": {},
   "outputs": [],
   "source": []
  },
  {
   "cell_type": "code",
   "execution_count": null,
   "id": "b556604c",
   "metadata": {},
   "outputs": [],
   "source": []
  },
  {
   "cell_type": "code",
   "execution_count": null,
   "id": "2273a432",
   "metadata": {},
   "outputs": [],
   "source": []
  },
  {
   "cell_type": "markdown",
   "id": "2cc669f5",
   "metadata": {},
   "source": [
    "=============코드 수정=======오류 파악============"
   ]
  },
  {
   "cell_type": "code",
   "execution_count": 6,
   "id": "7eb41e73",
   "metadata": {},
   "outputs": [],
   "source": [
    "api_key = '9b9157d4313a84f3141d73f879c5d239d49bb0ce'\n",
    "dart = OpenDartReader(api_key)"
   ]
  },
  {
   "cell_type": "code",
   "execution_count": 121,
   "id": "08035942",
   "metadata": {},
   "outputs": [],
   "source": [
    "fs_before = dart.finstate_all(corp = '005930', bsns_year= '2020', fs_div='CFS', reprt_code=11011) \n",
    "fs_present = dart.finstate_all(corp = '005930', bsns_year= '2020',fs_div='CFS', reprt_code=11014)"
   ]
  },
  {
   "cell_type": "code",
   "execution_count": 122,
   "id": "036504d3",
   "metadata": {},
   "outputs": [
    {
     "data": {
      "text/plain": [
       "52    276136188000000\n",
       "Name: thstrm_amount, dtype: object"
      ]
     },
     "execution_count": 122,
     "metadata": {},
     "output_type": "execute_result"
    }
   ],
   "source": [
    "fs_present.loc[fs_present['sj_div'].isin(['BS']) & fs_present['account_id'].isin(['ifrs-full_Equity']), 'thstrm_amount']"
   ]
  },
  {
   "cell_type": "code",
   "execution_count": 123,
   "id": "81243e4b",
   "metadata": {},
   "outputs": [
    {
     "data": {
      "text/plain": [
       "rcept_no               20201116001248\n",
       "reprt_code                      11014\n",
       "bsns_year                        2020\n",
       "corp_code                    00126380\n",
       "sj_div                             BS\n",
       "sj_nm                           재무상태표\n",
       "account_id           ifrs-full_Equity\n",
       "account_nm                       자본총계\n",
       "account_detail                      -\n",
       "thstrm_nm                 제 52 기 3분기말\n",
       "thstrm_amount         276136188000000\n",
       "frmtrm_nm                     제 51 기말\n",
       "frmtrm_amount         262880421000000\n",
       "ord                                55\n",
       "thstrm_add_amount                 NaN\n",
       "frmtrm_q_nm                       NaN\n",
       "frmtrm_q_amount                   NaN\n",
       "frmtrm_add_amount                 NaN\n",
       "Name: 52, dtype: object"
      ]
     },
     "execution_count": 123,
     "metadata": {},
     "output_type": "execute_result"
    }
   ],
   "source": [
    "fs_present.iloc[52]"
   ]
  },
  {
   "cell_type": "code",
   "execution_count": null,
   "id": "2643fe52",
   "metadata": {},
   "outputs": [],
   "source": []
  },
  {
   "cell_type": "code",
   "execution_count": 124,
   "id": "1c0a7973",
   "metadata": {},
   "outputs": [
    {
     "data": {
      "text/plain": [
       "42    99652554000000\n",
       "Name: thstrm_amount, dtype: object"
      ]
     },
     "execution_count": 124,
     "metadata": {},
     "output_type": "execute_result"
    }
   ],
   "source": [
    "fs_present.loc[fs_present['sj_div'].isin(['BS']) & fs_present['account_id'].isin(['ifrs-full_Liabilities']), 'thstrm_amount']"
   ]
  },
  {
   "cell_type": "code",
   "execution_count": 125,
   "id": "8dd2c7cd",
   "metadata": {
    "scrolled": false
   },
   "outputs": [
    {
     "data": {
      "text/plain": [
       "rcept_no                    20201116001248\n",
       "reprt_code                           11014\n",
       "bsns_year                             2020\n",
       "corp_code                         00126380\n",
       "sj_div                                  BS\n",
       "sj_nm                                재무상태표\n",
       "account_id           ifrs-full_Liabilities\n",
       "account_nm                            부채총계\n",
       "account_detail                           -\n",
       "thstrm_nm                      제 52 기 3분기말\n",
       "thstrm_amount               99652554000000\n",
       "frmtrm_nm                          제 51 기말\n",
       "frmtrm_amount               89684076000000\n",
       "ord                                     44\n",
       "thstrm_add_amount                      NaN\n",
       "frmtrm_q_nm                            NaN\n",
       "frmtrm_q_amount                        NaN\n",
       "frmtrm_add_amount                      NaN\n",
       "Name: 42, dtype: object"
      ]
     },
     "execution_count": 125,
     "metadata": {},
     "output_type": "execute_result"
    }
   ],
   "source": [
    "fs_present.iloc[42]"
   ]
  },
  {
   "cell_type": "code",
   "execution_count": 73,
   "id": "cbc00c4d",
   "metadata": {},
   "outputs": [],
   "source": [
    "a = dart.finstate_all(corp = '005930', bsns_year= '2019')"
   ]
  },
  {
   "cell_type": "code",
   "execution_count": 77,
   "id": "770e607f",
   "metadata": {},
   "outputs": [
    {
     "data": {
      "text/plain": [
       "44    89684076000000\n",
       "Name: thstrm_amount, dtype: object"
      ]
     },
     "execution_count": 77,
     "metadata": {},
     "output_type": "execute_result"
    }
   ],
   "source": [
    "a.loc[a['sj_div'].isin(['BS']) & a['account_nm'].isin(['부채총계']),'thstrm_amount']"
   ]
  },
  {
   "cell_type": "code",
   "execution_count": null,
   "id": "dd4e9071",
   "metadata": {},
   "outputs": [],
   "source": []
  },
  {
   "cell_type": "code",
   "execution_count": null,
   "id": "a571b927",
   "metadata": {},
   "outputs": [],
   "source": [
    "frmtrm_add_amount"
   ]
  },
  {
   "cell_type": "code",
   "execution_count": null,
   "id": "b2ae8fa8",
   "metadata": {},
   "outputs": [],
   "source": []
  },
  {
   "cell_type": "code",
   "execution_count": 98,
   "id": "ba6661d5",
   "metadata": {},
   "outputs": [
    {
     "data": {
      "text/plain": [
       "68    26090846000000\n",
       "Name: thstrm_amount, dtype: object"
      ]
     },
     "execution_count": 98,
     "metadata": {},
     "output_type": "execute_result"
    }
   ],
   "source": [
    "fs_before.loc[fs_before['sj_div'].isin(['IS']) & fs_before['account_nm'].isin(['지배기업의 소유주에게 귀속되는 당기순이익(손실)']), 'thstrm_amount'].replace(\",\", \"\")"
   ]
  },
  {
   "cell_type": "code",
   "execution_count": 95,
   "id": "80975aec",
   "metadata": {},
   "outputs": [
    {
     "data": {
      "text/plain": [
       "68    26090846000000\n",
       "Name: thstrm_amount, dtype: object"
      ]
     },
     "execution_count": 95,
     "metadata": {},
     "output_type": "execute_result"
    }
   ],
   "source": [
    "fs_before.loc[fs_before['sj_div'].isin(['IS']) & fs_before['account_id'].isin(['ifrs-full_ProfitLossAttributableToOwnersOfParent']), 'thstrm_amount'].replace(\",\", \"\")"
   ]
  },
  {
   "cell_type": "code",
   "execution_count": 96,
   "id": "7b85a615",
   "metadata": {},
   "outputs": [
    {
     "data": {
      "text/plain": [
       "rcept_no                                               20210309000744\n",
       "reprt_code                                                      11011\n",
       "bsns_year                                                        2020\n",
       "corp_code                                                    00126380\n",
       "sj_div                                                             IS\n",
       "sj_nm                                                           손익계산서\n",
       "account_id           ifrs-full_ProfitLossAttributableToOwnersOfParent\n",
       "account_nm                                 지배기업의 소유주에게 귀속되는 당기순이익(손실)\n",
       "account_detail                                                      -\n",
       "thstrm_nm                                                      제 52 기\n",
       "thstrm_amount                                          26090846000000\n",
       "frmtrm_nm                                                      제 51 기\n",
       "frmtrm_amount                                          21505054000000\n",
       "bfefrmtrm_nm                                                   제 50 기\n",
       "bfefrmtrm_amount                                       43890877000000\n",
       "ord                                                                15\n",
       "thstrm_add_amount                                                    \n",
       "Name: 68, dtype: object"
      ]
     },
     "execution_count": 96,
     "metadata": {},
     "output_type": "execute_result"
    }
   ],
   "source": [
    "fs_before.iloc[68]"
   ]
  },
  {
   "cell_type": "code",
   "execution_count": 126,
   "id": "110f53ff",
   "metadata": {},
   "outputs": [],
   "source": [
    "a = dart.finstate_all(corp = '005930', bsns_year= '2018',fs_div='CFS', reprt_code=11011)"
   ]
  },
  {
   "cell_type": "code",
   "execution_count": 127,
   "id": "1b9af505",
   "metadata": {},
   "outputs": [
    {
     "data": {
      "text/plain": [
       "73    43890877000000\n",
       "Name: thstrm_amount, dtype: object"
      ]
     },
     "execution_count": 127,
     "metadata": {},
     "output_type": "execute_result"
    }
   ],
   "source": [
    "a.loc[a['sj_div'].isin(['IS']) & a['account_nm'].isin(['지배기업의 소유주에게 귀속되는 당기순이익(손실)']), 'thstrm_amount'].replace(\",\", \"\")"
   ]
  },
  {
   "cell_type": "code",
   "execution_count": null,
   "id": "bb60b97d",
   "metadata": {},
   "outputs": [],
   "source": []
  },
  {
   "cell_type": "code",
   "execution_count": null,
   "id": "6d762f80",
   "metadata": {},
   "outputs": [],
   "source": []
  },
  {
   "cell_type": "code",
   "execution_count": 128,
   "id": "64da3d87",
   "metadata": {},
   "outputs": [],
   "source": [
    "a = dart.finstate_all(corp = '005930', bsns_year= '2020',fs_div='CFS', reprt_code=11011)"
   ]
  },
  {
   "cell_type": "code",
   "execution_count": 129,
   "id": "fb7ec99f",
   "metadata": {},
   "outputs": [
    {
     "data": {
      "text/plain": [
       "Index(['rcept_no', 'reprt_code', 'bsns_year', 'corp_code', 'sj_div', 'sj_nm',\n",
       "       'account_id', 'account_nm', 'account_detail', 'thstrm_nm',\n",
       "       'thstrm_amount', 'frmtrm_nm', 'frmtrm_amount', 'ord',\n",
       "       'thstrm_add_amount', 'frmtrm_q_nm', 'frmtrm_q_amount',\n",
       "       'frmtrm_add_amount'],\n",
       "      dtype='object')"
      ]
     },
     "execution_count": 129,
     "metadata": {},
     "output_type": "execute_result"
    }
   ],
   "source": [
    "fs_present.columns"
   ]
  },
  {
   "cell_type": "code",
   "execution_count": 131,
   "id": "a682ed45",
   "metadata": {},
   "outputs": [
    {
     "data": {
      "text/plain": [
       "68    16277059000000\n",
       "Name: frmtrm_add_amount, dtype: object"
      ]
     },
     "execution_count": 131,
     "metadata": {},
     "output_type": "execute_result"
    }
   ],
   "source": [
    "fs_present.loc[fs_present['sj_div'].isin(['IS']) & fs_present['account_id'].isin(['ifrs-full_ProfitLossAttributableToOwnersOfParent']), 'frmtrm_add_amount'].replace(\",\", \"\") # 당기순이익"
   ]
  },
  {
   "cell_type": "code",
   "execution_count": 132,
   "id": "5caf136c",
   "metadata": {},
   "outputs": [
    {
     "data": {
      "text/plain": [
       "rcept_no                                               20201116001248\n",
       "reprt_code                                                      11014\n",
       "bsns_year                                                        2020\n",
       "corp_code                                                    00126380\n",
       "sj_div                                                             IS\n",
       "sj_nm                                                           손익계산서\n",
       "account_id           ifrs-full_ProfitLossAttributableToOwnersOfParent\n",
       "account_nm                                 지배기업의 소유주에게 귀속되는 당기순이익(손실)\n",
       "account_detail                                                      -\n",
       "thstrm_nm                                                  제 52 기 3분기\n",
       "thstrm_amount                                           9266814000000\n",
       "frmtrm_nm                                                         NaN\n",
       "frmtrm_amount                                                     NaN\n",
       "ord                                                                15\n",
       "thstrm_add_amount                                      19645377000000\n",
       "frmtrm_q_nm                                                제 51 기 3분기\n",
       "frmtrm_q_amount                                         6105039000000\n",
       "frmtrm_add_amount                                      16277059000000\n",
       "Name: 68, dtype: object"
      ]
     },
     "execution_count": 132,
     "metadata": {},
     "output_type": "execute_result"
    }
   ],
   "source": [
    "fs_present.iloc[68]"
   ]
  },
  {
   "cell_type": "code",
   "execution_count": null,
   "id": "d18e5b36",
   "metadata": {},
   "outputs": [],
   "source": []
  },
  {
   "cell_type": "code",
   "execution_count": 134,
   "id": "83c381c6",
   "metadata": {},
   "outputs": [
    {
     "data": {
      "text/plain": [
       "68    19645377000000\n",
       "Name: thstrm_add_amount, dtype: object"
      ]
     },
     "execution_count": 134,
     "metadata": {},
     "output_type": "execute_result"
    }
   ],
   "source": [
    "fs_present.loc[fs_present['sj_div'].isin(['IS']) & fs_present['account_id'].isin(['ifrs-full_ProfitLossAttributableToOwnersOfParent']), 'thstrm_add_amount'].replace(\",\", \"\")"
   ]
  },
  {
   "cell_type": "code",
   "execution_count": null,
   "id": "ba40e623",
   "metadata": {},
   "outputs": [],
   "source": []
  },
  {
   "cell_type": "code",
   "execution_count": null,
   "id": "f59de46d",
   "metadata": {},
   "outputs": [],
   "source": []
  },
  {
   "cell_type": "code",
   "execution_count": 39,
   "id": "c6ffe1ab",
   "metadata": {},
   "outputs": [
    {
     "data": {
      "text/plain": [
       "RangeIndex(start=0, stop=205, step=1)"
      ]
     },
     "execution_count": 39,
     "metadata": {},
     "output_type": "execute_result"
    }
   ],
   "source": [
    "fs_present['sj_div'].isin(['BS']).index"
   ]
  },
  {
   "cell_type": "code",
   "execution_count": 37,
   "id": "58070f29",
   "metadata": {},
   "outputs": [
    {
     "data": {
      "text/plain": [
       "RangeIndex(start=0, stop=205, step=1)"
      ]
     },
     "execution_count": 37,
     "metadata": {},
     "output_type": "execute_result"
    }
   ],
   "source": [
    "fs_present['account_id'].isin(['기말자본']).index"
   ]
  },
  {
   "cell_type": "code",
   "execution_count": 80,
   "id": "cabe24f3",
   "metadata": {},
   "outputs": [
    {
     "data": {
      "text/plain": [
       "102287702000000"
      ]
     },
     "execution_count": 80,
     "metadata": {},
     "output_type": "execute_result"
    }
   ],
   "source": [
    "int(fs_present.loc[fs_present['sj_div'].isin(['BS']) & fs_present['account_id'].isin(['ifrs-full_Liabilities']), 'thstrm_amount'].replace(\",\", \"\"))"
   ]
  },
  {
   "cell_type": "code",
   "execution_count": 45,
   "id": "46190be7",
   "metadata": {
    "scrolled": true
   },
   "outputs": [
    {
     "data": {
      "text/html": [
       "<div>\n",
       "<style scoped>\n",
       "    .dataframe tbody tr th:only-of-type {\n",
       "        vertical-align: middle;\n",
       "    }\n",
       "\n",
       "    .dataframe tbody tr th {\n",
       "        vertical-align: top;\n",
       "    }\n",
       "\n",
       "    .dataframe thead th {\n",
       "        text-align: right;\n",
       "    }\n",
       "</style>\n",
       "<table border=\"1\" class=\"dataframe\">\n",
       "  <thead>\n",
       "    <tr style=\"text-align: right;\">\n",
       "      <th></th>\n",
       "      <th>rcept_no</th>\n",
       "      <th>reprt_code</th>\n",
       "      <th>bsns_year</th>\n",
       "      <th>corp_code</th>\n",
       "      <th>sj_div</th>\n",
       "      <th>sj_nm</th>\n",
       "      <th>account_id</th>\n",
       "      <th>account_nm</th>\n",
       "      <th>account_detail</th>\n",
       "      <th>thstrm_nm</th>\n",
       "      <th>thstrm_amount</th>\n",
       "      <th>frmtrm_nm</th>\n",
       "      <th>frmtrm_amount</th>\n",
       "      <th>ord</th>\n",
       "      <th>thstrm_add_amount</th>\n",
       "      <th>frmtrm_q_nm</th>\n",
       "      <th>frmtrm_q_amount</th>\n",
       "      <th>frmtrm_add_amount</th>\n",
       "    </tr>\n",
       "  </thead>\n",
       "  <tbody>\n",
       "    <tr>\n",
       "      <th>52</th>\n",
       "      <td>20201116001248</td>\n",
       "      <td>11014</td>\n",
       "      <td>2020</td>\n",
       "      <td>00126380</td>\n",
       "      <td>BS</td>\n",
       "      <td>재무상태표</td>\n",
       "      <td>ifrs-full_Equity</td>\n",
       "      <td>자본총계</td>\n",
       "      <td>-</td>\n",
       "      <td>제 52 기 3분기말</td>\n",
       "      <td>276136188000000</td>\n",
       "      <td>제 51 기말</td>\n",
       "      <td>262880421000000</td>\n",
       "      <td>55</td>\n",
       "      <td>NaN</td>\n",
       "      <td>NaN</td>\n",
       "      <td>NaN</td>\n",
       "      <td>NaN</td>\n",
       "    </tr>\n",
       "  </tbody>\n",
       "</table>\n",
       "</div>"
      ],
      "text/plain": [
       "          rcept_no reprt_code bsns_year corp_code sj_div  sj_nm  \\\n",
       "52  20201116001248      11014      2020  00126380     BS  재무상태표   \n",
       "\n",
       "          account_id account_nm account_detail    thstrm_nm    thstrm_amount  \\\n",
       "52  ifrs-full_Equity       자본총계              -  제 52 기 3분기말  276136188000000   \n",
       "\n",
       "   frmtrm_nm    frmtrm_amount ord thstrm_add_amount frmtrm_q_nm  \\\n",
       "52   제 51 기말  262880421000000  55               NaN         NaN   \n",
       "\n",
       "   frmtrm_q_amount frmtrm_add_amount  \n",
       "52             NaN               NaN  "
      ]
     },
     "execution_count": 45,
     "metadata": {},
     "output_type": "execute_result"
    }
   ],
   "source": [
    "fs_present.loc[fs_present['sj_div'].isin(['BS']) & fs_present['account_id'].isin(['ifrs-full_Equity'])]"
   ]
  },
  {
   "cell_type": "code",
   "execution_count": 47,
   "id": "480bd6d2",
   "metadata": {},
   "outputs": [],
   "source": [
    "fs_2019 = dart.finstate_all(corp='005930', bsns_year='2019', fs_div='CFS', reprt_code=11011) \n",
    "fs_2020_3Q = dart.finstate_all(corp='005930', bsns_year='2020', fs_div='CFS', reprt_code=11014) \n",
    "\n"
   ]
  },
  {
   "cell_type": "code",
   "execution_count": 50,
   "id": "8c7a1633",
   "metadata": {},
   "outputs": [
    {
     "data": {
      "text/plain": [
       "16277059000000"
      ]
     },
     "execution_count": 50,
     "metadata": {},
     "output_type": "execute_result"
    }
   ],
   "source": [
    "int(fs_2020_3Q.loc[fs_2020_3Q['sj_div'].isin(['IS']) & fs_2020_3Q['account_id'].isin(['ifrs-full_ProfitLossAttributableToOwnersOfParent']), 'frmtrm_add_amount'].replace(\",\", \"\"))\n"
   ]
  },
  {
   "cell_type": "code",
   "execution_count": 49,
   "id": "508b7f26",
   "metadata": {},
   "outputs": [
    {
     "data": {
      "text/plain": [
       "19645377000000"
      ]
     },
     "execution_count": 49,
     "metadata": {},
     "output_type": "execute_result"
    }
   ],
   "source": [
    "int(fs_2020_3Q.loc[fs_2020_3Q['sj_div'].isin(['IS']) & fs_2020_3Q['account_id'].isin(['ifrs-full_ProfitLossAttributableToOwnersOfParent']), 'thstrm_add_amount'].replace(\",\", \"\"))\n"
   ]
  },
  {
   "cell_type": "code",
   "execution_count": null,
   "id": "45a85bcb",
   "metadata": {},
   "outputs": [],
   "source": []
  },
  {
   "cell_type": "code",
   "execution_count": 41,
   "id": "0b12cb90",
   "metadata": {},
   "outputs": [
    {
     "data": {
      "text/plain": [
       "0      False\n",
       "1      False\n",
       "2      False\n",
       "3      False\n",
       "4      False\n",
       "       ...  \n",
       "200    False\n",
       "201    False\n",
       "202    False\n",
       "203    False\n",
       "204    False\n",
       "Name: account_id, Length: 205, dtype: bool"
      ]
     },
     "execution_count": 41,
     "metadata": {},
     "output_type": "execute_result"
    }
   ],
   "source": [
    "fs_present['account_id'].isin(['ifrs-full_Equity'])"
   ]
  },
  {
   "cell_type": "code",
   "execution_count": null,
   "id": "b4f44fb8",
   "metadata": {},
   "outputs": [],
   "source": []
  }
 ],
 "metadata": {
  "kernelspec": {
   "display_name": "Python 3",
   "language": "python",
   "name": "python3"
  },
  "language_info": {
   "codemirror_mode": {
    "name": "ipython",
    "version": 3
   },
   "file_extension": ".py",
   "mimetype": "text/x-python",
   "name": "python",
   "nbconvert_exporter": "python",
   "pygments_lexer": "ipython3",
   "version": "3.6.9"
  }
 },
 "nbformat": 4,
 "nbformat_minor": 5
}
