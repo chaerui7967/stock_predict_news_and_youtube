{
  "nbformat": 4,
  "nbformat_minor": 5,
  "metadata": {
    "kernelspec": {
      "display_name": "Python Multi",
      "language": "python",
      "name": "multi"
    },
    "language_info": {
      "codemirror_mode": {
        "name": "ipython",
        "version": 3
      },
      "file_extension": ".py",
      "mimetype": "text/x-python",
      "name": "python",
      "nbconvert_exporter": "python",
      "pygments_lexer": "ipython3",
      "version": "3.9.5"
    },
    "colab": {
      "name": "05-2) TF-IDF & Logistic(모델 학습)-사본.ipynb",
      "provenance": [],
      "collapsed_sections": [],
      "include_colab_link": true
    }
  },
  "cells": [
    {
      "cell_type": "markdown",
      "metadata": {
        "id": "view-in-github",
        "colab_type": "text"
      },
      "source": [
        "<a href=\"https://colab.research.google.com/github/chaerui7967/stock_predict_news_and_youtube/blob/master/05_2)_TF_IDF_%26_Logistic(%EB%AA%A8%EB%8D%B8_%ED%95%99%EC%8A%B5)_%EC%82%AC%EB%B3%B8.ipynb\" target=\"_parent\"><img src=\"https://colab.research.google.com/assets/colab-badge.svg\" alt=\"Open In Colab\"/></a>"
      ]
    },
    {
      "cell_type": "markdown",
      "metadata": {
        "id": "bf7164be-053e-414b-a5fe-e661137f6623"
      },
      "source": [
        "# **TF-IDF & Logistic**"
      ],
      "id": "bf7164be-053e-414b-a5fe-e661137f6623"
    },
    {
      "cell_type": "code",
      "metadata": {
        "id": "PWR4SEdQbRgP"
      },
      "source": [
        "# !pip install pymysql\n",
        "# !pip install finance-datareader\n",
        "# !pip install konlpy"
      ],
      "id": "PWR4SEdQbRgP",
      "execution_count": null,
      "outputs": []
    },
    {
      "cell_type": "code",
      "metadata": {
        "id": "a1c46893-4ae6-44a4-9e58-5bc8210e61f6"
      },
      "source": [
        "import numpy as np\n",
        "import pandas as pd\n",
        "\n",
        "# Visualization\n",
        "import matplotlib.pyplot as plt\n",
        "import seaborn as sns\n",
        "%matplotlib inline\n",
        "\n",
        "# DB 연결\n",
        "# !pip install pymysql\n",
        "import pymysql\n",
        "\n",
        "# 실시간 주식가격 데이터\n",
        "# !pip install finance-datareader\n",
        "import FinanceDataReader as fdr\n",
        "\n",
        "# 텍스트 분석\n",
        "# 1) JAVA 설치, 2) Python 버전과 맞는 JPype1-py3 설치, 3) !pip install konlpy, 4) 설치 경로에서 jvm.py 파일 코드 67번 줄 주석 처리 \n",
        "from konlpy.tag import Okt\n",
        "import nltk\n",
        "from nltk.sentiment.vader import SentimentIntensityAnalyzer\n",
        "from sklearn.feature_extraction.text import CountVectorizer, TfidfVectorizer\n",
        "\n",
        "# 모델 학습 및 평가\n",
        "from sklearn.model_selection import train_test_split\n",
        "from sklearn.pipeline import Pipeline\n",
        "from sklearn.model_selection import GridSearchCV\n",
        "from sklearn.linear_model import LogisticRegression\n",
        "from sklearn.metrics import accuracy_score, roc_auc_score, confusion_matrix, f1_score\n",
        "from sklearn.metrics import precision_score, recall_score\n",
        "\n",
        "# 모델 저장 및 로드\n",
        "import joblib\n",
        "\n",
        "# 기타\n",
        "import datetime\n",
        "from collections import Counter\n",
        "import sys\n",
        "import warnings\n",
        "warnings.filterwarnings('ignore')"
      ],
      "id": "a1c46893-4ae6-44a4-9e58-5bc8210e61f6",
      "execution_count": null,
      "outputs": []
    },
    {
      "cell_type": "markdown",
      "metadata": {
        "id": "374a970e-c930-4975-b6c9-0d8252d7990d"
      },
      "source": [
        "## **Read Data**"
      ],
      "id": "374a970e-c930-4975-b6c9-0d8252d7990d"
    },
    {
      "cell_type": "code",
      "metadata": {
        "colab": {
          "base_uri": "https://localhost:8080/"
        },
        "id": "uYCwym4RckGp",
        "outputId": "01edcab7-6ac9-4a5a-ee7b-2c15b99c64e9"
      },
      "source": [
        "# 구글 드라이브 마운트\n",
        "from google.colab import drive\n",
        "drive.mount('/content/drive')"
      ],
      "id": "uYCwym4RckGp",
      "execution_count": null,
      "outputs": [
        {
          "output_type": "stream",
          "name": "stdout",
          "text": [
            "Mounted at /content/drive\n"
          ]
        }
      ]
    },
    {
      "cell_type": "code",
      "metadata": {
        "colab": {
          "base_uri": "https://localhost:8080/"
        },
        "id": "b1e77775-eaba-4d75-98f1-02f787a7c5ba",
        "outputId": "6f969a35-afa8-429e-fa1c-6fed6eb72aa4"
      },
      "source": [
        "path = '/content/drive/MyDrive/[KD1]D1,2_최종 프로젝트_팀별 산출물관리/6조/Code/텍스트 분석/Data/'\n",
        "news_18to20 = pd.read_csv(path + 'news_18to20.csv')\n",
        "news_2021 = pd.read_csv(path + '/news_2021.csv')\n",
        "\n",
        "news_18to20.shape, news_2021.shape"
      ],
      "id": "b1e77775-eaba-4d75-98f1-02f787a7c5ba",
      "execution_count": null,
      "outputs": [
        {
          "output_type": "execute_result",
          "data": {
            "text/plain": [
              "((52490, 18), (12668, 18))"
            ]
          },
          "metadata": {},
          "execution_count": 3
        }
      ]
    },
    {
      "cell_type": "code",
      "metadata": {
        "id": "ZILda_rIetTe"
      },
      "source": [
        "df_train = news_18to20.copy()\n",
        "df_test = news_2021.copy()"
      ],
      "id": "ZILda_rIetTe",
      "execution_count": null,
      "outputs": []
    },
    {
      "cell_type": "markdown",
      "metadata": {
        "id": "pTkr5F5HgduR"
      },
      "source": [
        "![image.png](data:image/png;base64,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)"
      ],
      "id": "pTkr5F5HgduR"
    },
    {
      "cell_type": "code",
      "metadata": {
        "id": "nKqAguLkfEJ0"
      },
      "source": [
        "# 주식 매매 수수료 평균 0.1% 정도? 0을 추가해도 1,-1밖에 안나옴\n",
        "\n",
        "df_train['soft'] = np.where((df_train.Close * df_train.Change) > (df_train.Close * 0.001), 1,\n",
        "                            np.where((df_train.Close * df_train.Change) < (df_train.Close * 0.001), -1,1))\n",
        "df_test['soft'] = np.where((df_test.Close * df_test.Change) > (df_test.Close * 0.001), 1,\n",
        "                            np.where((df_test.Close * df_test.Change) < (df_test.Close * 0.001), -1,1))"
      ],
      "id": "nKqAguLkfEJ0",
      "execution_count": null,
      "outputs": []
    },
    {
      "cell_type": "code",
      "metadata": {
        "colab": {
          "base_uri": "https://localhost:8080/"
        },
        "id": "xVsB9Tsxg-4e",
        "outputId": "f54e0ccf-54ff-49f8-a049-de96b6d0d843"
      },
      "source": [
        "df_train.soft.value_counts()"
      ],
      "id": "xVsB9Tsxg-4e",
      "execution_count": null,
      "outputs": [
        {
          "output_type": "execute_result",
          "data": {
            "text/plain": [
              "-1    26854\n",
              " 1    25636\n",
              "Name: soft, dtype: int64"
            ]
          },
          "metadata": {},
          "execution_count": 31
        }
      ]
    },
    {
      "cell_type": "code",
      "metadata": {
        "id": "efa9c59a-1c9b-4d85-a6b5-5f6500a11d02"
      },
      "source": [
        "# https://gist.github.com/spikeekips/40eea22ef4a89f629abd87eed535ac6a#file-stopwords-ko-txt\n",
        "with open(path+'stopwords-ko.txt', encoding='utf-8') as sw:\n",
        "    stop_words = sw.readlines()\n",
        "stop_words = [sw.replace('\\n', '') for sw in stop_words]"
      ],
      "id": "efa9c59a-1c9b-4d85-a6b5-5f6500a11d02",
      "execution_count": null,
      "outputs": []
    },
    {
      "cell_type": "markdown",
      "metadata": {
        "id": "78d0bc5e-bf4a-4be2-a93b-1ddf9a4568f3"
      },
      "source": [
        "## **Sentiment Analysis**"
      ],
      "id": "78d0bc5e-bf4a-4be2-a93b-1ddf9a4568f3"
    },
    {
      "cell_type": "markdown",
      "metadata": {
        "id": "89826983-ccf9-47d4-bb33-2874c4057aff"
      },
      "source": [
        "### **TF-IDF 기반 벡터화 및 모델 학습**"
      ],
      "id": "89826983-ccf9-47d4-bb33-2874c4057aff"
    },
    {
      "cell_type": "code",
      "metadata": {
        "colab": {
          "base_uri": "https://localhost:8080/"
        },
        "id": "aed75cf3-77c0-4479-b38c-2d71fa76477a",
        "outputId": "bd8c13bd-cb57-4104-e1d8-caa341a16e68"
      },
      "source": [
        "df_train.shape"
      ],
      "id": "aed75cf3-77c0-4479-b38c-2d71fa76477a",
      "execution_count": null,
      "outputs": [
        {
          "output_type": "execute_result",
          "data": {
            "text/plain": [
              "(52490, 19)"
            ]
          },
          "metadata": {},
          "execution_count": 33
        }
      ]
    },
    {
      "cell_type": "code",
      "metadata": {
        "colab": {
          "base_uri": "https://localhost:8080/"
        },
        "id": "463d7b0c-065c-48cc-bf54-f062e55ec95a",
        "outputId": "b0e667ce-28b4-4e99-8591-3e2ae4a00823"
      },
      "source": [
        "df_train.isna().sum()"
      ],
      "id": "463d7b0c-065c-48cc-bf54-f062e55ec95a",
      "execution_count": null,
      "outputs": [
        {
          "output_type": "execute_result",
          "data": {
            "text/plain": [
              "st_n                 0\n",
              "st_cd                0\n",
              "news                 0\n",
              "datetime             0\n",
              "title                0\n",
              "url                  0\n",
              "text                 6\n",
              "date                 0\n",
              "time                 0\n",
              "score                0\n",
              "Open                 0\n",
              "High                 0\n",
              "Low                  0\n",
              "Close                0\n",
              "Volume               0\n",
              "Change               0\n",
              "UpDown               0\n",
              "Extremely_Changed    0\n",
              "soft                 0\n",
              "dtype: int64"
            ]
          },
          "metadata": {},
          "execution_count": 34
        }
      ]
    },
    {
      "cell_type": "code",
      "metadata": {
        "colab": {
          "base_uri": "https://localhost:8080/"
        },
        "id": "56630692-2502-4fdc-a326-b7b02f34a4ad",
        "outputId": "42f6583e-95c8-463f-aae6-814895316b49"
      },
      "source": [
        "df_train[df_train['Change'].isna()]['date'].value_counts()"
      ],
      "id": "56630692-2502-4fdc-a326-b7b02f34a4ad",
      "execution_count": null,
      "outputs": [
        {
          "output_type": "execute_result",
          "data": {
            "text/plain": [
              "Series([], Name: date, dtype: int64)"
            ]
          },
          "metadata": {},
          "execution_count": 35
        }
      ]
    },
    {
      "cell_type": "code",
      "metadata": {
        "colab": {
          "base_uri": "https://localhost:8080/",
          "height": 858
        },
        "id": "a9126ad9-8d76-4475-ae7c-7e4a0b42160b",
        "outputId": "cbe29bf0-907f-4bd5-b766-a01aa2304544"
      },
      "source": [
        "df_train[df_train['text'].isna()]"
      ],
      "id": "a9126ad9-8d76-4475-ae7c-7e4a0b42160b",
      "execution_count": null,
      "outputs": [
        {
          "output_type": "execute_result",
          "data": {
            "text/html": [
              "<div>\n",
              "<style scoped>\n",
              "    .dataframe tbody tr th:only-of-type {\n",
              "        vertical-align: middle;\n",
              "    }\n",
              "\n",
              "    .dataframe tbody tr th {\n",
              "        vertical-align: top;\n",
              "    }\n",
              "\n",
              "    .dataframe thead th {\n",
              "        text-align: right;\n",
              "    }\n",
              "</style>\n",
              "<table border=\"1\" class=\"dataframe\">\n",
              "  <thead>\n",
              "    <tr style=\"text-align: right;\">\n",
              "      <th></th>\n",
              "      <th>st_n</th>\n",
              "      <th>st_cd</th>\n",
              "      <th>news</th>\n",
              "      <th>datetime</th>\n",
              "      <th>title</th>\n",
              "      <th>url</th>\n",
              "      <th>text</th>\n",
              "      <th>date</th>\n",
              "      <th>time</th>\n",
              "      <th>score</th>\n",
              "      <th>Open</th>\n",
              "      <th>High</th>\n",
              "      <th>Low</th>\n",
              "      <th>Close</th>\n",
              "      <th>Volume</th>\n",
              "      <th>Change</th>\n",
              "      <th>UpDown</th>\n",
              "      <th>Extremely_Changed</th>\n",
              "      <th>soft</th>\n",
              "    </tr>\n",
              "  </thead>\n",
              "  <tbody>\n",
              "    <tr>\n",
              "      <th>22853</th>\n",
              "      <td>현대차</td>\n",
              "      <td>5380</td>\n",
              "      <td>매일경제</td>\n",
              "      <td>2019021914</td>\n",
              "      <td>이시한, 취업계 2년 연속 트렌드 예측 경향성 소름 돋는 적중, ‘문어시한’이 떴다...</td>\n",
              "      <td>http://edu.mk.co.kr/edunews/news_view.php?sc=5...</td>\n",
              "      <td>NaN</td>\n",
              "      <td>2019-02-19</td>\n",
              "      <td>14</td>\n",
              "      <td>0</td>\n",
              "      <td>119500</td>\n",
              "      <td>120500</td>\n",
              "      <td>119000</td>\n",
              "      <td>119500</td>\n",
              "      <td>470357</td>\n",
              "      <td>-0.008299</td>\n",
              "      <td>-1</td>\n",
              "      <td>0</td>\n",
              "      <td>-1</td>\n",
              "    </tr>\n",
              "    <tr>\n",
              "      <th>22860</th>\n",
              "      <td>현대차</td>\n",
              "      <td>5380</td>\n",
              "      <td>매일경제</td>\n",
              "      <td>2019022011</td>\n",
              "      <td>이시한이 말하는, 100:1이 일반화된 채용시장에서 살아남는 방법 - 인터뷰 #2</td>\n",
              "      <td>http://edu.mk.co.kr/edunews/news_view.php?sc=5...</td>\n",
              "      <td>NaN</td>\n",
              "      <td>2019-02-20</td>\n",
              "      <td>11</td>\n",
              "      <td>0</td>\n",
              "      <td>119500</td>\n",
              "      <td>121500</td>\n",
              "      <td>119000</td>\n",
              "      <td>119000</td>\n",
              "      <td>735087</td>\n",
              "      <td>-0.004184</td>\n",
              "      <td>-1</td>\n",
              "      <td>0</td>\n",
              "      <td>-1</td>\n",
              "    </tr>\n",
              "    <tr>\n",
              "      <th>26962</th>\n",
              "      <td>sk하이닉스</td>\n",
              "      <td>660</td>\n",
              "      <td>매일경제</td>\n",
              "      <td>2019112017</td>\n",
              "      <td>이시한의 2020년 취업트렌드코리아 #2 : Implement AI</td>\n",
              "      <td>http://edu.mk.co.kr/edunews/news_view.php?sc=5...</td>\n",
              "      <td>NaN</td>\n",
              "      <td>2019-11-21</td>\n",
              "      <td>17</td>\n",
              "      <td>0</td>\n",
              "      <td>81700</td>\n",
              "      <td>82500</td>\n",
              "      <td>80500</td>\n",
              "      <td>80900</td>\n",
              "      <td>3346746</td>\n",
              "      <td>-0.021765</td>\n",
              "      <td>-1</td>\n",
              "      <td>0</td>\n",
              "      <td>-1</td>\n",
              "    </tr>\n",
              "    <tr>\n",
              "      <th>50391</th>\n",
              "      <td>LG화학</td>\n",
              "      <td>51910</td>\n",
              "      <td>아시아경제</td>\n",
              "      <td>2020052013</td>\n",
              "      <td>[속보]구광모 LG 회장, LG화학 대산공장 긴급 방문</td>\n",
              "      <td>https://view.asiae.co.kr/article/2020052013340...</td>\n",
              "      <td>NaN</td>\n",
              "      <td>2020-05-20</td>\n",
              "      <td>13</td>\n",
              "      <td>0</td>\n",
              "      <td>352500</td>\n",
              "      <td>362500</td>\n",
              "      <td>351500</td>\n",
              "      <td>362500</td>\n",
              "      <td>358098</td>\n",
              "      <td>0.015406</td>\n",
              "      <td>1</td>\n",
              "      <td>0</td>\n",
              "      <td>1</td>\n",
              "    </tr>\n",
              "    <tr>\n",
              "      <th>50449</th>\n",
              "      <td>LG화학</td>\n",
              "      <td>51910</td>\n",
              "      <td>아시아경제</td>\n",
              "      <td>2020062309</td>\n",
              "      <td>코로나 재확산 우려에 국내기업 비상 대응 \"할 수 있는 건 다한다\"</td>\n",
              "      <td>https://view.asiae.co.kr/article/2020062211370...</td>\n",
              "      <td>NaN</td>\n",
              "      <td>2020-06-23</td>\n",
              "      <td>9</td>\n",
              "      <td>0</td>\n",
              "      <td>512000</td>\n",
              "      <td>518000</td>\n",
              "      <td>500000</td>\n",
              "      <td>504000</td>\n",
              "      <td>516968</td>\n",
              "      <td>-0.003953</td>\n",
              "      <td>-1</td>\n",
              "      <td>0</td>\n",
              "      <td>-1</td>\n",
              "    </tr>\n",
              "    <tr>\n",
              "      <th>52175</th>\n",
              "      <td>sk하이닉스</td>\n",
              "      <td>660</td>\n",
              "      <td>아시아경제</td>\n",
              "      <td>2020102008</td>\n",
              "      <td>[속보]SK하이닉스, 인텔 낸드 사업 10조3000억원에 인수</td>\n",
              "      <td>https://view.asiae.co.kr/article/2020102008583...</td>\n",
              "      <td>NaN</td>\n",
              "      <td>2020-10-20</td>\n",
              "      <td>8</td>\n",
              "      <td>0</td>\n",
              "      <td>85300</td>\n",
              "      <td>90900</td>\n",
              "      <td>83700</td>\n",
              "      <td>85200</td>\n",
              "      <td>6622637</td>\n",
              "      <td>-0.017301</td>\n",
              "      <td>-1</td>\n",
              "      <td>0</td>\n",
              "      <td>-1</td>\n",
              "    </tr>\n",
              "  </tbody>\n",
              "</table>\n",
              "</div>"
            ],
            "text/plain": [
              "         st_n  st_cd   news  ...  UpDown Extremely_Changed soft\n",
              "22853     현대차   5380   매일경제  ...      -1                 0   -1\n",
              "22860     현대차   5380   매일경제  ...      -1                 0   -1\n",
              "26962  sk하이닉스    660   매일경제  ...      -1                 0   -1\n",
              "50391    LG화학  51910  아시아경제  ...       1                 0    1\n",
              "50449    LG화학  51910  아시아경제  ...      -1                 0   -1\n",
              "52175  sk하이닉스    660  아시아경제  ...      -1                 0   -1\n",
              "\n",
              "[6 rows x 19 columns]"
            ]
          },
          "metadata": {},
          "execution_count": 36
        }
      ]
    },
    {
      "cell_type": "code",
      "metadata": {
        "id": "3851a13b-6d52-4fa2-aeb9-1cf0cba59a8a"
      },
      "source": [
        "df_train.dropna(axis=0, inplace=True)"
      ],
      "id": "3851a13b-6d52-4fa2-aeb9-1cf0cba59a8a",
      "execution_count": null,
      "outputs": []
    },
    {
      "cell_type": "code",
      "metadata": {
        "colab": {
          "base_uri": "https://localhost:8080/"
        },
        "id": "848ce752-1d55-4836-ab13-5afa860a73ed",
        "outputId": "37c0f048-4420-4013-b299-7a1d21c0b90d"
      },
      "source": [
        "# Train-Test Set 분리\n",
        "X_train, X_test, y_train, y_test = train_test_split(df_train['text'], df_train['soft'], test_size=0.2, random_state=0)\n",
        "\n",
        "X_train.shape, y_train.shape, X_test.shape, y_test.shape"
      ],
      "id": "848ce752-1d55-4836-ab13-5afa860a73ed",
      "execution_count": null,
      "outputs": [
        {
          "output_type": "execute_result",
          "data": {
            "text/plain": [
              "((41987,), (41987,), (10497,), (10497,))"
            ]
          },
          "metadata": {},
          "execution_count": 39
        }
      ]
    },
    {
      "cell_type": "code",
      "metadata": {
        "id": "ad96860d-b042-4f22-b78a-17145fc19545"
      },
      "source": [
        "pipeline = Pipeline([\n",
        "    ('tfidf_vect', TfidfVectorizer(stop_words=stop_words)),\n",
        "    ('lr_clf', LogisticRegression())\n",
        "])\n",
        "\n",
        "# Pipeline에 기술된 각각의 객체 변수에 언더바(_) 2개를 연달아 붙여 GridSearchCV에 사용될 파라미터/하이퍼파라미터 이름과 값을 설정\n",
        "params = {\n",
        "    'tfidf_vect__ngram_range': [(1, 1), (1, 2), (1, 3)],\n",
        "    'tfidf_vect__max_df': [100, 300, 700],\n",
        "    'lr_clf__C': [1, 5, 10]\n",
        "}"
      ],
      "id": "ad96860d-b042-4f22-b78a-17145fc19545",
      "execution_count": null,
      "outputs": []
    },
    {
      "cell_type": "code",
      "metadata": {
        "colab": {
          "base_uri": "https://localhost:8080/"
        },
        "id": "OUdh7cqImQqI",
        "outputId": "072a5572-f73a-4e6f-b70c-b3cf43b90a78"
      },
      "source": [
        "# GridSearchCV의 생성자에 Estimator가 아닌 Pipeline 객체 입력\n",
        "grid_cv_pipe = GridSearchCV(pipeline, param_grid=params, cv=3, scoring='accuracy', verbose=1)\n",
        "grid_cv_pipe.fit(X_train, y_train)\n",
        "print(' <1> parameters :', grid_cv_pipe.best_params_, '\\n', '<2> best score :', grid_cv_pipe.best_score_)\n",
        "\n",
        "pred = grid_cv_pipe.predict(X_test)\n",
        "print('Pipeline을 통한 Logistic Regression의 예측 정확도 : {0:.3f}'.format(accuracy_score(y_test, pred)))\n",
        "confusion = confusion_matrix(y_test, pred)\n",
        "print('Confusion Matrix')\n",
        "print(confusion)"
      ],
      "id": "OUdh7cqImQqI",
      "execution_count": null,
      "outputs": [
        {
          "output_type": "stream",
          "name": "stdout",
          "text": [
            "Fitting 3 folds for each of 27 candidates, totalling 81 fits\n"
          ]
        },
        {
          "output_type": "stream",
          "name": "stderr",
          "text": [
            "[Parallel(n_jobs=1)]: Using backend SequentialBackend with 1 concurrent workers.\n",
            "[Parallel(n_jobs=1)]: Done  81 out of  81 | elapsed: 255.0min finished\n"
          ]
        },
        {
          "output_type": "stream",
          "name": "stdout",
          "text": [
            " <1> parameters : {'lr_clf__C': 10, 'tfidf_vect__max_df': 100, 'tfidf_vect__ngram_range': (1, 3)} \n",
            " <2> best score : 0.6407936301778732\n",
            "Pipeline을 통한 Logistic Regression의 예측 정확도 : 0.661\n",
            "Confusion Matrix\n",
            "[[3730 1596]\n",
            " [1964 3207]]\n"
          ]
        }
      ]
    },
    {
      "cell_type": "code",
      "metadata": {
        "colab": {
          "base_uri": "https://localhost:8080/"
        },
        "id": "6Fp-JNPwmoXE",
        "outputId": "f5623a0e-d992-4f0b-c874-879531fd22cb"
      },
      "source": [
        "# GridSearchCV의 생성자에 Estimator가 아닌 Pipeline 객체 입력\n",
        "grid_cv_pipe_1 = GridSearchCV(pipeline, param_grid=params, cv=3, scoring='f1', verbose=1)\n",
        "grid_cv_pipe_1.fit(X_train, y_train)\n",
        "print(' <1> parameters :', grid_cv_pipe_1.best_params_, '\\n', '<2> best score :', grid_cv_pipe_1.best_score_)\n",
        "\n",
        "pred_1 = grid_cv_pipe_1.predict(X_test)\n",
        "print('Pipeline을 통한 Logistic Regression의 예측 f1 : {0:.3f}'.format(f1_score(y_test, pred_1)))\n",
        "confusion_1 = confusion_matrix(y_test, pred_1)\n",
        "print('Confusion Matrix')\n",
        "print(confusion_1)"
      ],
      "id": "6Fp-JNPwmoXE",
      "execution_count": null,
      "outputs": [
        {
          "output_type": "stream",
          "name": "stdout",
          "text": [
            "Fitting 3 folds for each of 27 candidates, totalling 81 fits\n"
          ]
        },
        {
          "output_type": "stream",
          "name": "stderr",
          "text": [
            "[Parallel(n_jobs=1)]: Using backend SequentialBackend with 1 concurrent workers.\n",
            "[Parallel(n_jobs=1)]: Done  81 out of  81 | elapsed: 270.6min finished\n"
          ]
        },
        {
          "output_type": "stream",
          "name": "stdout",
          "text": [
            " <1> parameters : {'lr_clf__C': 10, 'tfidf_vect__max_df': 700, 'tfidf_vect__ngram_range': (1, 3)} \n",
            " <2> best score : 0.621446170724916\n",
            "Pipeline을 통한 Logistic Regression의 예측 f1 : 0.647\n",
            "Confusion Matrix\n",
            "[[3636 1690]\n",
            " [1893 3278]]\n"
          ]
        }
      ]
    },
    {
      "cell_type": "code",
      "metadata": {
        "id": "fd9bb79e-a32e-4ca9-9abf-547b7a06e633"
      },
      "source": [
        "# 모델 저장\n",
        "joblib.dump(grid_cv_pipe_1, './TF-IDF_f1(18to20).h5')\n",
        "# joblib.dump(grid_cv_pipe, './TF-IDF_ac(18to20).pkl')\n",
        "joblib.dump(grid_cv_pipe, './TF-IDF_ac(18to20).h5')"
      ],
      "id": "fd9bb79e-a32e-4ca9-9abf-547b7a06e633",
      "execution_count": null,
      "outputs": []
    },
    {
      "cell_type": "code",
      "metadata": {
        "id": "xWk-lSaRm7mx"
      },
      "source": [
        ""
      ],
      "id": "xWk-lSaRm7mx",
      "execution_count": null,
      "outputs": []
    },
    {
      "cell_type": "code",
      "metadata": {
        "id": "95d5b651-7ac3-40a8-9568-eb3316fa04b2"
      },
      "source": [
        "# 5시간 동안 돌아감...;;"
      ],
      "id": "95d5b651-7ac3-40a8-9568-eb3316fa04b2",
      "execution_count": null,
      "outputs": []
    },
    {
      "cell_type": "code",
      "metadata": {
        "id": "9185d6c7-e872-4628-aa53-ee384d9d8208"
      },
      "source": [
        "df_test.dropna(axis=0, inplace=True)"
      ],
      "id": "9185d6c7-e872-4628-aa53-ee384d9d8208",
      "execution_count": null,
      "outputs": []
    },
    {
      "cell_type": "code",
      "metadata": {
        "id": "adc48f8e-44e5-4077-9b50-cdc8e0007cbf",
        "outputId": "b437ac1a-2edc-41bf-8492-4cc100b0472c"
      },
      "source": [
        "# 모델 로드\n",
        "grid_cv_pipe = joblib.load('./TF-IDF(18to20).h5')\n",
        "pred = grid_cv_pipe.predict(df_test['text'])\n",
        "\n",
        "# Accuracy 확인\n",
        "print('Pipeline을 통한 Logistic Regression의 예측 정확도 : {0:.3f}'.format(accuracy_score(test['soft'], pred)))"
      ],
      "id": "adc48f8e-44e5-4077-9b50-cdc8e0007cbf",
      "execution_count": null,
      "outputs": [
        {
          "name": "stdout",
          "output_type": "stream",
          "text": [
            "Pipeline을 통한 Logistic Regression의 예측 정확도 : 0.500\n"
          ]
        }
      ]
    },
    {
      "cell_type": "code",
      "metadata": {
        "id": "5393b399-46e8-4908-b18c-b9e4320cd4dc",
        "outputId": "e9fc075f-ed3d-40ff-ec1f-4f19a268197a"
      },
      "source": [
        "pred"
      ],
      "id": "5393b399-46e8-4908-b18c-b9e4320cd4dc",
      "execution_count": null,
      "outputs": [
        {
          "data": {
            "text/plain": [
              "array([ 1,  1,  1, ..., -1, -1,  1], dtype=int64)"
            ]
          },
          "execution_count": 16,
          "metadata": {},
          "output_type": "execute_result"
        }
      ]
    },
    {
      "cell_type": "code",
      "metadata": {
        "id": "0a2eecc6-76cd-49e3-ade8-3027e5ecb65a",
        "outputId": "d090d81b-816e-4ffc-c5f8-b16b30260f2b"
      },
      "source": [
        "Counter(pred)"
      ],
      "id": "0a2eecc6-76cd-49e3-ade8-3027e5ecb65a",
      "execution_count": null,
      "outputs": [
        {
          "data": {
            "text/plain": [
              "Counter({1: 9464, -1: 3202})"
            ]
          },
          "execution_count": 17,
          "metadata": {},
          "output_type": "execute_result"
        }
      ]
    },
    {
      "cell_type": "code",
      "metadata": {
        "id": "7e51942b-0197-4d95-993a-0a835e6020dd"
      },
      "source": [
        ""
      ],
      "id": "7e51942b-0197-4d95-993a-0a835e6020dd",
      "execution_count": null,
      "outputs": []
    }
  ]
}