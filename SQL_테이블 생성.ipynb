{
 "cells": [
  {
   "cell_type": "code",
   "execution_count": null,
   "id": "c416477b",
   "metadata": {},
   "outputs": [],
   "source": [
    "# sql 테이블 생성"
   ]
  },
  {
   "cell_type": "code",
   "execution_count": null,
   "id": "ac709b56",
   "metadata": {},
   "outputs": [],
   "source": [
    "### globals 변수\n",
    "###\n",
    "mysqldb = pymysql.connect(user='root',password='1234',host='localhost', db='proj',charset='utf8')\n",
    "curs = mysqldb.cursor()\n",
    "########### DB에서 칼럼만 뽑기 ###################\n",
    "for cd in ['000660']:\n",
    "# for cd in ['005930','000660','051910','005380']:\n",
    "    sql = '''CREATE TABLE youtube_sampro_{} ( \n",
    "    st_n varchar(10),\n",
    "    st_cd varchar(10),\n",
    "    ch_nm varchar(30),\n",
    "    date varchar(20),\n",
    "    title TEXT,\n",
    "    text MEDIUMTEXT,\n",
    "    views INT,\n",
    "    length INT,\n",
    "    description TEXT,\n",
    "    url TEXT\n",
    "    );\n",
    "    '''.format(cd)\n",
    "    curs.execute(sql) \n",
    "\n",
    "    mysqldb.commit() \n",
    "mysqldb.close()\n"
   ]
  }
 ],
 "metadata": {
  "kernelspec": {
   "display_name": "Python 3",
   "language": "python",
   "name": "python3"
  },
  "language_info": {
   "codemirror_mode": {
    "name": "ipython",
    "version": 3
   },
   "file_extension": ".py",
   "mimetype": "text/x-python",
   "name": "python",
   "nbconvert_exporter": "python",
   "pygments_lexer": "ipython3",
   "version": "3.6.9"
  }
 },
 "nbformat": 4,
 "nbformat_minor": 5
}
