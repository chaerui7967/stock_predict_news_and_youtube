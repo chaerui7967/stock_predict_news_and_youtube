{
  "nbformat": 4,
  "nbformat_minor": 5,
  "metadata": {
    "kernelspec": {
      "display_name": "Python 3",
      "language": "python",
      "name": "python3"
    },
    "language_info": {
      "codemirror_mode": {
        "name": "ipython",
        "version": 3
      },
      "file_extension": ".py",
      "mimetype": "text/x-python",
      "name": "python",
      "nbconvert_exporter": "python",
      "pygments_lexer": "ipython3",
      "version": "3.6.9"
    },
    "colab": {
      "name": "기사 감성사전 모델링.ipynb",
      "provenance": [],
      "collapsed_sections": [],
      "include_colab_link": true
    },
    "accelerator": "GPU"
  },
  "cells": [
    {
      "cell_type": "markdown",
      "metadata": {
        "id": "view-in-github",
        "colab_type": "text"
      },
      "source": [
        "<a href=\"https://colab.research.google.com/github/chaerui7967/stock_predict_news_and_youtube/blob/master/%EA%B8%B0%EC%82%AC_%EA%B0%90%EC%84%B1%EC%82%AC%EC%A0%84_%EB%AA%A8%EB%8D%B8%EB%A7%81.ipynb\" target=\"_parent\"><img src=\"https://colab.research.google.com/assets/colab-badge.svg\" alt=\"Open In Colab\"/></a>"
      ]
    },
    {
      "cell_type": "code",
      "metadata": {
        "colab": {
          "base_uri": "https://localhost:8080/"
        },
        "id": "FaIwZsXAJgJo",
        "outputId": "df090bb7-e177-41d8-e994-542851160384"
      },
      "source": [
        "!pip install konlpy"
      ],
      "id": "FaIwZsXAJgJo",
      "execution_count": 1,
      "outputs": [
        {
          "output_type": "stream",
          "name": "stdout",
          "text": [
            "Requirement already satisfied: konlpy in /usr/local/lib/python3.7/dist-packages (0.5.2)\n",
            "Requirement already satisfied: beautifulsoup4==4.6.0 in /usr/local/lib/python3.7/dist-packages (from konlpy) (4.6.0)\n",
            "Requirement already satisfied: lxml>=4.1.0 in /usr/local/lib/python3.7/dist-packages (from konlpy) (4.2.6)\n",
            "Requirement already satisfied: JPype1>=0.7.0 in /usr/local/lib/python3.7/dist-packages (from konlpy) (1.3.0)\n",
            "Requirement already satisfied: numpy>=1.6 in /usr/local/lib/python3.7/dist-packages (from konlpy) (1.19.5)\n",
            "Requirement already satisfied: tweepy>=3.7.0 in /usr/local/lib/python3.7/dist-packages (from konlpy) (3.10.0)\n",
            "Requirement already satisfied: colorama in /usr/local/lib/python3.7/dist-packages (from konlpy) (0.4.4)\n",
            "Requirement already satisfied: typing-extensions in /usr/local/lib/python3.7/dist-packages (from JPype1>=0.7.0->konlpy) (3.7.4.3)\n",
            "Requirement already satisfied: requests-oauthlib>=0.7.0 in /usr/local/lib/python3.7/dist-packages (from tweepy>=3.7.0->konlpy) (1.3.0)\n",
            "Requirement already satisfied: requests[socks]>=2.11.1 in /usr/local/lib/python3.7/dist-packages (from tweepy>=3.7.0->konlpy) (2.23.0)\n",
            "Requirement already satisfied: six>=1.10.0 in /usr/local/lib/python3.7/dist-packages (from tweepy>=3.7.0->konlpy) (1.15.0)\n",
            "Requirement already satisfied: oauthlib>=3.0.0 in /usr/local/lib/python3.7/dist-packages (from requests-oauthlib>=0.7.0->tweepy>=3.7.0->konlpy) (3.1.1)\n",
            "Requirement already satisfied: chardet<4,>=3.0.2 in /usr/local/lib/python3.7/dist-packages (from requests[socks]>=2.11.1->tweepy>=3.7.0->konlpy) (3.0.4)\n",
            "Requirement already satisfied: idna<3,>=2.5 in /usr/local/lib/python3.7/dist-packages (from requests[socks]>=2.11.1->tweepy>=3.7.0->konlpy) (2.10)\n",
            "Requirement already satisfied: certifi>=2017.4.17 in /usr/local/lib/python3.7/dist-packages (from requests[socks]>=2.11.1->tweepy>=3.7.0->konlpy) (2021.5.30)\n",
            "Requirement already satisfied: urllib3!=1.25.0,!=1.25.1,<1.26,>=1.21.1 in /usr/local/lib/python3.7/dist-packages (from requests[socks]>=2.11.1->tweepy>=3.7.0->konlpy) (1.24.3)\n",
            "Requirement already satisfied: PySocks!=1.5.7,>=1.5.6 in /usr/local/lib/python3.7/dist-packages (from requests[socks]>=2.11.1->tweepy>=3.7.0->konlpy) (1.7.1)\n"
          ]
        }
      ]
    },
    {
      "cell_type": "code",
      "metadata": {
        "colab": {
          "base_uri": "https://localhost:8080/"
        },
        "id": "68bb4169",
        "outputId": "52d01151-195b-4ab8-b763-7d00b83d286d"
      },
      "source": [
        "import pandas as pd \n",
        "\n",
        "df = pd.read_csv('./labeling.csv')\n",
        "df = df.dropna()\n",
        "\n",
        "train = df[:-1500]\n",
        "test = df[-1500:]\n",
        "\n",
        "len(train), len(test)"
      ],
      "id": "68bb4169",
      "execution_count": 2,
      "outputs": [
        {
          "output_type": "execute_result",
          "data": {
            "text/plain": [
              "(8008, 1500)"
            ]
          },
          "metadata": {},
          "execution_count": 2
        }
      ]
    },
    {
      "cell_type": "code",
      "metadata": {
        "colab": {
          "base_uri": "https://localhost:8080/",
          "height": 202
        },
        "id": "LAGVXgdSLjLi",
        "outputId": "4ca8d55e-b892-4f71-c062-4fdc8e30f128"
      },
      "source": [
        "train.head()"
      ],
      "id": "LAGVXgdSLjLi",
      "execution_count": 3,
      "outputs": [
        {
          "output_type": "execute_result",
          "data": {
            "text/html": [
              "<div>\n",
              "<style scoped>\n",
              "    .dataframe tbody tr th:only-of-type {\n",
              "        vertical-align: middle;\n",
              "    }\n",
              "\n",
              "    .dataframe tbody tr th {\n",
              "        vertical-align: top;\n",
              "    }\n",
              "\n",
              "    .dataframe thead th {\n",
              "        text-align: right;\n",
              "    }\n",
              "</style>\n",
              "<table border=\"1\" class=\"dataframe\">\n",
              "  <thead>\n",
              "    <tr style=\"text-align: right;\">\n",
              "      <th></th>\n",
              "      <th>text</th>\n",
              "      <th>label</th>\n",
              "    </tr>\n",
              "  </thead>\n",
              "  <tbody>\n",
              "    <tr>\n",
              "      <th>0</th>\n",
              "      <td>2020년에는 상대평가제도도 폐지소통강화 위해 호칭도 TL로 통일 아시아경제 안하늘...</td>\n",
              "      <td>1</td>\n",
              "    </tr>\n",
              "    <tr>\n",
              "      <th>1</th>\n",
              "      <td>아시아경제 오주연 기자 오션브릿지오션브릿지241790코스닥증권정보현재가15150전일...</td>\n",
              "      <td>1</td>\n",
              "    </tr>\n",
              "    <tr>\n",
              "      <th>2</th>\n",
              "      <td>인사제도 파격적 개편최태원 회장의 딥체인지 실현 아시아경제 안하늘 기자 SK하이닉스...</td>\n",
              "      <td>0</td>\n",
              "    </tr>\n",
              "    <tr>\n",
              "      <th>3</th>\n",
              "      <td>아시아경제 송화정 기자신한금융투자는 26일 SK하이닉스SK하이닉스000660코스피증...</td>\n",
              "      <td>1</td>\n",
              "    </tr>\n",
              "    <tr>\n",
              "      <th>4</th>\n",
              "      <td>아시아경제 오주연 기자 하나금융투자가 27일 SK하이닉스SK하이닉스000660코스피...</td>\n",
              "      <td>0</td>\n",
              "    </tr>\n",
              "  </tbody>\n",
              "</table>\n",
              "</div>"
            ],
            "text/plain": [
              "                                                text  label\n",
              "0  2020년에는 상대평가제도도 폐지소통강화 위해 호칭도 TL로 통일 아시아경제 안하늘...      1\n",
              "1  아시아경제 오주연 기자 오션브릿지오션브릿지241790코스닥증권정보현재가15150전일...      1\n",
              "2  인사제도 파격적 개편최태원 회장의 딥체인지 실현 아시아경제 안하늘 기자 SK하이닉스...      0\n",
              "3  아시아경제 송화정 기자신한금융투자는 26일 SK하이닉스SK하이닉스000660코스피증...      1\n",
              "4  아시아경제 오주연 기자 하나금융투자가 27일 SK하이닉스SK하이닉스000660코스피...      0"
            ]
          },
          "metadata": {},
          "execution_count": 3
        }
      ]
    },
    {
      "cell_type": "code",
      "metadata": {
        "colab": {
          "base_uri": "https://localhost:8080/",
          "height": 334
        },
        "id": "8d6ae52b",
        "outputId": "1c88a64d-1592-4de6-9d42-369317dd1cca"
      },
      "source": [
        "%matplotlib inline \n",
        "import matplotlib.pyplot as plt\n",
        "\n",
        "train['label'].value_counts().plot(kind='bar')\n",
        "print(train.groupby('label').size().reset_index(name='count'))"
      ],
      "id": "8d6ae52b",
      "execution_count": 4,
      "outputs": [
        {
          "output_type": "stream",
          "name": "stdout",
          "text": [
            "   label  count\n",
            "0     -1   2133\n",
            "1      0    967\n",
            "2      1   4908\n"
          ]
        },
        {
          "output_type": "display_data",
          "data": {
            "image/png": "[encoded data removed]",
            "text/plain": [
              "<Figure size 432x288 with 1 Axes>"
            ]
          },
          "metadata": {
            "needs_background": "light"
          }
        }
      ]
    },
    {
      "cell_type": "code",
      "metadata": {
        "colab": {
          "base_uri": "https://localhost:8080/",
          "height": 334
        },
        "id": "5269209e",
        "outputId": "ec400832-461b-48d9-ea21-a3266122c45f"
      },
      "source": [
        "test['label'].value_counts().plot(kind='bar')\n",
        "print(test.groupby('label').size().reset_index(name='count'))"
      ],
      "id": "5269209e",
      "execution_count": 5,
      "outputs": [
        {
          "output_type": "stream",
          "name": "stdout",
          "text": [
            "   label  count\n",
            "0     -1    293\n",
            "1      0    131\n",
            "2      1   1076\n"
          ]
        },
        {
          "output_type": "display_data",
          "data": {
            "image/png": "[encoded data removed]",
            "text/plain": [
              "<Figure size 432x288 with 1 Axes>"
            ]
          },
          "metadata": {
            "needs_background": "light"
          }
        }
      ]
    },
    {
      "cell_type": "code",
      "metadata": {
        "id": "b0b2cf43"
      },
      "source": [
        "# 불용어 로드\n",
        "url = 'https://raw.githubusercontent.com/chaerui7967/stock_predict_news_and_youtube/master/Sentiment_Analysis/data/stopwords_ver1.txt'\n",
        "stopwords = list(pd.read_csv(url, header=None)[0])"
      ],
      "id": "b0b2cf43",
      "execution_count": 6,
      "outputs": []
    },
    {
      "cell_type": "code",
      "metadata": {
        "id": "e74d96c9"
      },
      "source": [
        "import konlpy\n",
        "from konlpy.tag import Okt\n",
        "okt = Okt()\n",
        "X_train = [] \n",
        "for sentence in train['text']: \n",
        "    temp_X = [] \n",
        "    temp_X = okt.morphs(sentence, stem=True) # 토큰화 \n",
        "    temp_X = [word for word in temp_X if not word in stopwords] # 불용어 제거\n",
        "    temp_X = [word for word in temp_X if len(word) > 1] # 불용어 제거 \n",
        "    X_train.append(temp_X) \n",
        "\n",
        "X_test = [] \n",
        "for sentence in test['text']:\n",
        "    temp_X = [] \n",
        "    temp_X = okt.morphs(sentence, stem=True) # 토큰화 \n",
        "    temp_X = [word for word in temp_X if not word in stopwords]\n",
        "    temp_X = [word for word in temp_X if len(word) > 1] # 불용어 제거 \n",
        "    X_test.append(temp_X)"
      ],
      "id": "e74d96c9",
      "execution_count": 7,
      "outputs": []
    },
    {
      "cell_type": "code",
      "metadata": {
        "colab": {
          "base_uri": "https://localhost:8080/"
        },
        "id": "9d7b4466",
        "outputId": "4740ca24-9c6e-4f6b-d51c-0545141ffe9f"
      },
      "source": [
        "print('train', X_train[:3])\n",
        "print('test', X_test[:3])"
      ],
      "id": "9d7b4466",
      "execution_count": 8,
      "outputs": [
        {
          "output_type": "stream",
          "name": "stdout",
          "text": [
            "train [['2020년', '에는', '상대평가', '제도', '폐지', '소통', '강화', '위해', '호칭', 'TL', '통일', '아시아', '경제', '하늘', '기자', 'SK', '하이닉스', '기술', '높다', '엔지니어', '경우', '정년', '60', '관계', '없이', '새롭다', '제도', '도입', '전문성', '갖추다', '우수하다', '엔지니어', '정년', '이후', '에도', '활발하다', '연구개발', '제조', '분석', '업무', '매진', '되다', 'SK', '하이닉스', '27일', '캠퍼스', '이석희', '사장', 'CEO', '직원', '400', '여명', '참석', '가운데', '왁자지껄', '콘서트', '열다', '엔지니어', '정년', '이후', '근무', '가능하다', '제도', '도입', '협업', '강화', '평가', '제도', '개선', '골자', 'CEO', '공감', '경영', '선언', '발표', '선언', '해외', '혁신', '기업', '문화', '체험', '위해', '모집', '되다', '직원', '지난', '9월', '현장', '방문', '내놓다', '목소리', '바탕', '구성', '돼다', '먼저', 'SK', '하이닉스', '우수', '엔지니어', '정년', '지나다', '전문성', '따르다', '계속', '근무', '제도', '도입', 'SK', '하이닉스', '제도', '도입', '오랫동안', '회사', '성장', '기여', '우수하다', '기술', '인력', '정년', '넘어서다', '회사', '실력', '발휘', '되어다', '개개인', '회사', '기술', '역량', '한층', '높이다', '기대하다', '만석', 'SK', '하이닉스', 'HR', '담당', '전무', '반도체', '개발', '제조', '분야', '숙련', '되다', '인력', '대한', '수요', '지속', '새롭다', '도입', '보다', '제도', '내년', '정년', '대상자', '시행', '예정', '이라고', '밝히다', '협업', '통해', '경쟁력', '강화하다', '동료', '불필요하다', '경쟁', '부추기다', '상대평가', '제도', '2020년', '폐지', '연초', '목표', '세우다', '반기', '연말', '평가', '받다', '정기', '평가', '급격하다', '경영', '환경', '변화', '대응', '위해', '프로젝트', '상시', '업무', '평가', '대체', '되다', '이르다', '통해', '리더', '업무', '수행', '과정', '지속', '소통', '다양하다', '성과', '적기', '인정받다', '되다', '기대', '되다', 'SK', '하이닉스', '발표', '공감', '경영', '선언', '대한', '직원', '다양하다', '의견', '수렴', '빠르다', '세부', '기준', '시행', '시기', '확정', '한다는', '방침', '이다', '밖에', 'SK', '하이닉스', '세대', '직위', '소통', '강화하다', '직원', '자발', '의견', '개진', '활성화', '위해', '201'], ['아시아', '경제', '오주연', '기자', '오션', '브릿지', '오션', '브릿지', '241790', '코스닥', '증권', '정보', '현재', '15150', '전일', '대비', '50등', '락률', '033', '거래', '32166', '전일', '1520020210906', '1530', '장마', '관련', '기사', '오션', '브릿지', '5000만원', '규모', '사주', '처분', '결정', '오션', '브릿지', 'SK', '하이닉스', '출신', '반도체', '전문가', '이석규', '사장', '공시', '띄다', '코스닥', '16일', 'close', '가다', 'SK', '하이닉스', '12억', '5800만원', '규모', '반도체', '장비', '제조', '공급', '계약', '체결', '31일', '공시', '이다', '최근', '매출', '대비', '225', '규모', 'functiondable', 'ifdbdbqreturn', 'dbfunction', 'dbqdbqpusharguments', '};', 'eacreateElementl', 'easync', 'echarsetutf', 'esrcstaticdableiodistpluginminjs', 'agetElementsByTagNamel', ';_', 'parentNodeinsertBeforee', '_;', 'windowdocumentdablescript', 'dablesetService', 'asiaecokr', 'dablesendLogOnce', 'dablerenderWidget', 'dablewidget', '37', 'nBXN', '오주연', '기자', 'moon', '170', 'asiaecokr', 'functiondable', 'ifdbdbqreturn', 'dbfunction', 'dbqdbqpusharguments', '};', 'eacreateElementl', 'easync', 'echarsetutf', 'esrcstaticdableiodistpluginminjs', 'agetElementsByTagNamel', ';_', 'parentNodeinsertBeforee', '_;', 'windowdocumentdablescript', 'dablesetService', 'asiaecokr', 'dablesendLogOnce', 'dablerenderWidget', 'dablewidget', 'Gokmjelv', 'facebooktwittershare', '카카오', '카카오', '네이버', '블로그', '네이버', '블로그', '주소', '복사', '이미지', '주소', '복사', '스크랩', '댓글', 'windowlivereHooks', 'created', 'functiondata', 'alertdatatota'], ['인사', '제도', '파격', '개편', '최태원', '회장', '체인지', '실현', '아시아', '경제', '하늘', '기자', 'SK', '하이닉스', '우수', '반도체', '엔지니어', '대상', '60', '정년', '폐지', '직원', '불필요하다', '경쟁', '부추기다', '않다', '위해', '기존', '상대평가', '제도', '절대평가', '바꾸다', '직원', '호칭', '테크니컬', '리더', 'TL', '통일', '최태원', 'SK', '그룹', '회장', '강조', '체인지', '실현', '위해', 'SK', '하이닉스', '파격', '인사', '제도', '개편', '도입', '이석희', 'SK', '하이닉스', '사장', '27일', '캠퍼스', '직원', '400', '여명', '참석', '가운데', '왁자지껄', '콘서트', '열다', '장기간', '회사', '기여', '우수', '엔지니어', '정년', '지나다', '계속', '근무', '기술', '경쟁력', '끌다', '올리다', '밝히다', '따르다', '내년', '정년', '대상자', '일정', '자격', '갖추다', '우수', '엔지니어', '근속', '가능하다', 'SK', '하이닉스', '업종', '융합', '빠르다', '진행', '되다', '산업혁명', '대응', '협업', '더욱', '중요하다', '보고', '절대평가', '도입', '동시', '프로젝트', '상시', '업무', '평가', '제도', '시행', '내년', '부터는', '기술', '사무직', '직원', '호칭', 'TL', '통일', '회장', '그룹', '전반', '전파', '하고', '체인지', '일환', '풀이', '되다', '회장', '올해', '신년사', '20년', '그룹', '이익', '200', '성장하다', '괄목', '성과', '올리다', '냉정하다', '성찰', '필요하다', '기존', '껍질', '깨다', '파격', '수준', '비즈니스', '모델', 'BM', '혁신', '체인지', '핵심', '이라고', '강조', 'SK', 'CC', '늘다', '지난', '5월', '성남시', '분당', '사옥', '공유', '오피스', '전환', '조직', '고정', '좌석', '없애다', 'SK', '그룹', '본사', '서울', '종로', 'SK', '서린', '빌딩', '9월', '준공', '되다', '지다', '19년', '만에', '전면', '모델링', '사무', '공간', '공유', '오피스', '개념', '도입', 'SK', '텔레콤', '오다', '직원', '스스로', '근무시간', '설계', '자율', '선택', '무제', '운영', '중이', 'functiondable', 'ifdbdbqreturn', 'dbfunction', 'dbqdbqpusharguments', '};', 'eacreateElementl', 'easync', 'echarsetutf', 'esrcstaticdableiodistpluginminjs']]\n",
            "test [['창간', '54', '다시', '뛰다', '기업', 'SK', '바이오', '사이언스', '연구원', '백신', '생산', '위해', '연구', '하고', '사진', '제공', 'SK', 'SK', '늘다', '경영', '불확실', '높아지다', '어렵다', '환경', '에서도', '비즈니스', '모델', '혁신', '수종', '사업', '적극', '발굴', '하고', '글로벌', '시장', '성과', '추다', '국내외', '경영', '환경', '변화', '따르다', '경영', '전략', '실행', '하고', '이르다', '통해', '일류', '기업', '입지', '굳히다', '한편', '모든', '이해관계자', '행복', '실천', '한다는', '전략', '이다', 'SK', '늘다', '새롭다', '사업', '기회', '모색', '위해', '연초', '부지런하다', '글로벌', '현장', '비다', 'SK', '이노베이션', 'SK', '텔레콤', 'SK', '하이닉스', 'SKC', '주요', '관계', '살다', '지난', '1월', '미국', '라스베이거스', '열리다', '세계', '최대', '소비자', '가전', '박람회', 'CES', '2020', '부스', '설치', '호평', '받다', 'CES', '참가', '국내', '유일', '이동통신', '사인', 'SK', '텔레콤', '기반', '모빌리티', '미디어', '서비스', '관람객', '선보이다', '특히', '스마트', '디바이스', '진화', '중인', '자동차', '탑재', '되다', '차량', '인포테인먼트', 'IVI', 'InVehicle', 'Infotainment', '차세대', '라이', 'LiDAR', '인공', '지능', 'AI', '기반', 'HD', '라이브', '업데이트', '기술', '모바일', '컴퓨팅', 'MEC', '기반', '고화질', 'TV', '미국', 'ATSC', '30', '실시간', '방송', '다양하다', '미디어', '서비스', '공개', 'googletagdisplaygoogle', 'dfp', 'MC', 'fluid', 'SK', '하이닉스', '메모리', '중심', '세상', 'Memory', 'Centric', 'World', '주제', '미래', '일상', '모습', '변화', '가져오다', 'AI', '증강현실', 'AR', '가상현실', 'VR', '오토', '모티브', '사물인터넷', 'IoT', '빅데이터', '사업', '분야', '사용', '되다', '낸드', '플래시', '이미지', '센서', '반도체', '솔루션', '전시', '방대하다', '데이터', '사용', '되다', '미래', '도시', '모습', '모형', '만들다', '관객', '반도체', '역할', '체험', '기회', '제공', '지난해', '11월', 'SK', '바이오', '파다', '독자', '개발', '혁신', '신약', '엑스코', '프리', '노바', '메이트', '성인', '대상', '부분', '발작', '치료', '제로', '미국', '식품', '약국', 'FDA', '시판', '허가', '받다', '혁신', '신약', '신약', '후보', '물질', '발굴', '개발', '판매', '허가', '신청', 'NDA'], ['13', '거래', '일만', '8만원', '회복하다', '가운데', '증권', '정보', '회사', '모니터', '표시', '되다', '삼성', '주가', '표시', '되다', '모니터', '직원', '지나가다', '202183', '이충', '우기', '누르다', '크게', '보다', 'SK', '하이닉스', '주가', '외국인', '매수', '입다', '동반', '상승', '마감', '13', '거래', '일만', '8만원', '회복하다', 'SK', '하이닉스', '보름', '만에', '12만원', '대로', '올라서다', '3일', '유가', '증권', '시장', '전일', '대비', '2100원', '265', '오른', '8만', '1400원', '거래', '마치다', 'SK', '하이닉스', '4000원', '345', '오른', '12만원', '거래', '마치다', '성전', '8만원', '대에서', '마감', '지난', '7월', '15일', '8만', '600원', '이후', '13', '거래', '만이', '종가', '6월', '28일', '8만', '1900원', '이후', '달이다', '만의', '최고', '이기도', 'SK', '하이닉스', '지난달', '16일', '12만', '1500원', '이후', '12', '거래', '만에', '종가', '12만원', '대를', '회복하다', 'googletagdisplaygoogle', 'dfp', 'MC', 'fluid', '그간', '매도', '일변도', '이다', '외국인', '반도체', '장주', '매수', '세로', '전환', '주가', '받다', '외국인', '기관', '주식', '6260억원', '1299억원', '매수', '외국인', '지난달', '16일', '12', '거래', '연속', '도세', '이다', '매수', '우위', '전환', 'SK', '하이닉스', '대해', '서도', '636억원', '640억원', '외국인', '기관', '매다', '유입', '돼다', '외국인', '스탠스', '전환', '간밤', '뉴욕증시', '반도체', '주가', '강세', '나타내다', '7월', '반도체', '수출', '호조', '나타내다', '투자', '심리', '개선', '되다', '영향', '풀이', '되다', '서상영', '미래에셋', '증권', '연구원', '전날', '미국', '증시', '세미', '컨덕터', 'NXP', '호실', '발표', '인하다', '주가', '상승', '세계', '반도체', '매출', '탈환', '파운드리', '생산', '가격', '인상', '주요', '기업', '호재', '이어지다', '반도체', '업종', '호황', '대감', '반영', '되다', '보이다', '설명', '실제', '미국', '월스트리트저널', 'WSJ', '지난', '1일', '현지시각', '반도체', '분기', '매출', '인텔', '치다', '보도', '반도체', '매출', '오른', '2017년', '2018년', '이후', '처음', '이다', 'googletagdisplay'], ['코로나', '19', '영향', '증시', '조정', '받다', '가운데', 'SK', '그룹', '계열', '사오다', '대표이사', '잇다', '사주', '매입', '나서다', '장사', '주가', '하락', '방어', '이익', '주주', '환원', '하고', '대표이사', '책임', '경영', '강화하다', '차원', '서다', 'SK', '그룹', 'SK', '하이닉스', '제외', '실적', '부진', '겪다', '가장', '띄다', '계열', '살다', 'SK', '네트웍', 'SK', '네트웍', '지난', '1년', '사이', '주가', '197', '폭락', '상태', '그만큼', '주주', '불만', '누적', '되다', '밖에', '없다', '이르다', '반영', 'SK', '네트웍', '보통주', '2200만', '주와', '우선주', '1만', '500', '매입', '4일', '밝히다', '매입', '비용', '992억', '2000만원', '7억', '7000만원', '이다', 'SK', '네트웍', '보통주', '307', '자사', '주로', '보유', '하고', '매입', '분율', '119', '급등', 'SK', '네트웍', '사주', '매입', '더불다', '자산', '유동화', '실시', '자산', '유동화', '가장', '적극', '주주', '환원', '정책', '가운데', '하나로', '꼽히다', 'SK', '네트웍', '뱅크', '주유소', '사업', '넘기다', '1조', '3321억원', '자금', '유입', '돼다', 'SK', '네트웍', '배당', '여력', '상승', '밖에', '없다', '유재선', '금융투자', '연구원', '주유소', '매각', '따르다', '대규모', '현금', '유입', '가운데', '일부', '주주', '환원', '정책', '사용', '라며', '주주', '가치', '향후', '인수', '자금', '필요하다', '경우', '활용', '밝히다', 'googletagdisplaygoogle', 'dfp', 'MC', 'fluid', 'SK', '이노베이션', '사주', '매입', '진행', '하고', 'SK', '이노베이션', '주가', '지난', '1년', '사이', '374', '떨어지다', '문제', '정유', '사업', '자체', '업황', '때문', '당분간', '주가', '전망', '밝다', '않다', '이다', 'SK', '이노베이션', '지난', '1월', '보통주', '배당금', '주다', '1400원', '우선주', '1450원', '책정', '2018년', '배당금', '6400원', '대폭', '삭감', '이다', '배당', '주로', '유명하다', 'SK', '이노베이션', '배당금', '삭감', '시장', '충격', '다가오다', '원유', '정제', '마진', '반등', '않다', '실적', '개선', '어렵다', '당분간', '배당금', '상승', '힘들다', '전망', '이다', '이르다', '타개', '위해', '지난', '1월', 'SK', '이노베이션', '공격', '사주', '매입', '발표', '당시', '발표', '사주', '매입', '규모', '5785억']]\n"
          ]
        }
      ]
    },
    {
      "cell_type": "code",
      "metadata": {
        "id": "1c2ac32b"
      },
      "source": [
        "from keras.preprocessing.text import Tokenizer \n",
        "max_words = 35000\n",
        "tokenizer = Tokenizer(num_words = max_words)\n",
        "tokenizer.fit_on_texts(X_train)\n",
        "X_train = tokenizer.texts_to_sequences(X_train)\n",
        "X_test = tokenizer.texts_to_sequences(X_test)"
      ],
      "id": "1c2ac32b",
      "execution_count": 9,
      "outputs": []
    },
    {
      "cell_type": "code",
      "metadata": {
        "colab": {
          "base_uri": "https://localhost:8080/",
          "height": 611
        },
        "id": "c754db8a",
        "outputId": "bbbd8dd9-ce6d-43a1-b59e-bcd64c8d50c3"
      },
      "source": [
        "print(\"최대 길이 : \", max(len(l) for l in X_train))\n",
        "print(\"평균 길이 : \", sum(map(len, X_train))/ len(X_train))\n",
        "plt.hist([len(s) for s in X_train], bins=50) \n",
        "plt.xlabel('length of Data') \n",
        "plt.ylabel('number of Data') \n",
        "plt.show()\n",
        "\n",
        "\n",
        "print(\"최대 길이 : \", max(len(l) for l in X_test)) \n",
        "print(\"평균 길이 : \", sum(map(len, X_test))/ len(X_test)) \n",
        "plt.hist([len(s) for s in X_test], bins=50) \n",
        "plt.xlabel('length of Data') \n",
        "plt.ylabel('number of Data') \n",
        "plt.show()"
      ],
      "id": "c754db8a",
      "execution_count": 10,
      "outputs": [
        {
          "output_type": "stream",
          "name": "stdout",
          "text": [
            "최대 길이 :  294\n",
            "평균 길이 :  219.1851898101898\n"
          ]
        },
        {
          "output_type": "display_data",
          "data": {
            "image/png": "[encoded data removed]",
            "text/plain": [
              "<Figure size 432x288 with 1 Axes>"
            ]
          },
          "metadata": {
            "needs_background": "light"
          }
        },
        {
          "output_type": "stream",
          "name": "stdout",
          "text": [
            "최대 길이 :  263\n",
            "평균 길이 :  215.19933333333333\n"
          ]
        },
        {
          "output_type": "display_data",
          "data": {
            "image/png": "[encoded data removed]",
            "text/plain": [
              "<Figure size 432x288 with 1 Axes>"
            ]
          },
          "metadata": {
            "needs_background": "light"
          }
        }
      ]
    },
    {
      "cell_type": "code",
      "metadata": {
        "id": "73ce8a90"
      },
      "source": [
        "import numpy as np \n",
        "y_train = [] \n",
        "y_test = [] \n",
        "\n",
        "for i in range(len(train['label'])): \n",
        "    if train['label'].iloc[i] == 1: \n",
        "        y_train.append([0, 0, 1]) \n",
        "    elif train['label'].iloc[i] == 0:\n",
        "        y_train.append([0, 1, 0]) \n",
        "    elif train['label'].iloc[i] == -1: \n",
        "        y_train.append([1, 0, 0]) \n",
        "\n",
        "for i in range(len(test['label'])): \n",
        "    if test['label'].iloc[i] == 1: \n",
        "        y_test.append([0, 0, 1]) \n",
        "    elif test['label'].iloc[i] == 0: \n",
        "        y_test.append([0, 1, 0]) \n",
        "    elif test['label'].iloc[i] == -1: \n",
        "        y_test.append([1, 0, 0]) \n",
        "\n",
        "y_train = np.array(y_train) \n",
        "y_test = np.array(y_test)"
      ],
      "id": "73ce8a90",
      "execution_count": 11,
      "outputs": []
    },
    {
      "cell_type": "code",
      "metadata": {
        "id": "e6b14b9a"
      },
      "source": [
        "from keras.layers import Embedding, Dense, LSTM \n",
        "from keras.models import Sequential \n",
        "from keras.preprocessing.sequence import pad_sequences \n",
        "\n",
        "max_len = 300 \n",
        "\n",
        "X_train = pad_sequences(X_train, maxlen=max_len)\n",
        "X_test = pad_sequences(X_test, maxlen=max_len)"
      ],
      "id": "e6b14b9a",
      "execution_count": 12,
      "outputs": []
    },
    {
      "cell_type": "code",
      "metadata": {
        "id": "30a3c307"
      },
      "source": [
        "model = Sequential() \n",
        "model.add(Embedding(max_words, 100)) \n",
        "model.add(LSTM(128)) \n",
        "model.add(Dense(3, activation='softmax')) \n",
        "\n",
        "# model.compile(optimizer='rmsprop', loss='categorical_crossentropy', metrics=['accuracy'])\n",
        "model.compile(optimizer='adam', loss='categorical_crossentropy', metrics=['accuracy']) "
      ],
      "id": "30a3c307",
      "execution_count": 22,
      "outputs": []
    },
    {
      "cell_type": "code",
      "metadata": {
        "id": "Q2bkid7oS57Q"
      },
      "source": [
        "from tensorflow.keras.callbacks import EarlyStopping, ModelCheckpoint\n",
        "\n",
        "earlystopping = EarlyStopping(monitor='val_accuracy', patience=50)\n",
        "# val_loss 기준 체크포인터도 생성\n",
        "filename = 'Sentiment_Analysis.h5'\n",
        "checkpoint = ModelCheckpoint(filename, \n",
        "                             save_weights_only=True, \n",
        "                             save_best_only=True, \n",
        "                             monitor='val_accuracy', \n",
        "                             verbose=1)"
      ],
      "id": "Q2bkid7oS57Q",
      "execution_count": 23,
      "outputs": []
    },
    {
      "cell_type": "code",
      "metadata": {
        "colab": {
          "base_uri": "https://localhost:8080/"
        },
        "id": "2998cb31",
        "outputId": "c4dd193f-c3cd-4155-a54e-635a7cb7ab90"
      },
      "source": [
        "model.summary()"
      ],
      "id": "2998cb31",
      "execution_count": 24,
      "outputs": [
        {
          "output_type": "stream",
          "name": "stdout",
          "text": [
            "Model: \"sequential_2\"\n",
            "_________________________________________________________________\n",
            "Layer (type)                 Output Shape              Param #   \n",
            "=================================================================\n",
            "embedding_2 (Embedding)      (None, None, 100)         3500000   \n",
            "_________________________________________________________________\n",
            "lstm_2 (LSTM)                (None, 128)               117248    \n",
            "_________________________________________________________________\n",
            "dense_2 (Dense)              (None, 3)                 387       \n",
            "=================================================================\n",
            "Total params: 3,617,635\n",
            "Trainable params: 3,617,635\n",
            "Non-trainable params: 0\n",
            "_________________________________________________________________\n"
          ]
        }
      ]
    },
    {
      "cell_type": "code",
      "metadata": {
        "colab": {
          "base_uri": "https://localhost:8080/"
        },
        "id": "88c52de2",
        "outputId": "631cadf0-0453-4171-9de8-c37dd8c4c56f"
      },
      "source": [
        "history = model.fit(X_train, y_train,\n",
        "                    epochs=1000, batch_size=10, validation_split=0.1,\n",
        "                    callbacks=[checkpoint, earlystopping])"
      ],
      "id": "88c52de2",
      "execution_count": 25,
      "outputs": [
        {
          "output_type": "stream",
          "name": "stdout",
          "text": [
            "Epoch 1/1000\n",
            "721/721 [==============================] - 49s 63ms/step - loss: 0.8848 - accuracy: 0.6104 - val_loss: 0.7897 - val_accuracy: 0.6667\n",
            "\n",
            "Epoch 00001: val_accuracy improved from -inf to 0.66667, saving model to Sentiment_Analysis.h5\n",
            "Epoch 2/1000\n",
            "721/721 [==============================] - 43s 60ms/step - loss: 0.7020 - accuracy: 0.7008 - val_loss: 0.7188 - val_accuracy: 0.6991\n",
            "\n",
            "Epoch 00002: val_accuracy improved from 0.66667 to 0.69913, saving model to Sentiment_Analysis.h5\n",
            "Epoch 3/1000\n",
            "721/721 [==============================] - 43s 60ms/step - loss: 0.4759 - accuracy: 0.8110 - val_loss: 0.5851 - val_accuracy: 0.7441\n",
            "\n",
            "Epoch 00003: val_accuracy improved from 0.69913 to 0.74407, saving model to Sentiment_Analysis.h5\n",
            "Epoch 4/1000\n",
            "721/721 [==============================] - 43s 59ms/step - loss: 0.2348 - accuracy: 0.9084 - val_loss: 0.6030 - val_accuracy: 0.7815\n",
            "\n",
            "Epoch 00004: val_accuracy improved from 0.74407 to 0.78152, saving model to Sentiment_Analysis.h5\n",
            "Epoch 5/1000\n",
            "721/721 [==============================] - 42s 58ms/step - loss: 0.1777 - accuracy: 0.9321 - val_loss: 0.4710 - val_accuracy: 0.8302\n",
            "\n",
            "Epoch 00005: val_accuracy improved from 0.78152 to 0.83021, saving model to Sentiment_Analysis.h5\n",
            "Epoch 6/1000\n",
            "721/721 [==============================] - 41s 57ms/step - loss: 0.0955 - accuracy: 0.9663 - val_loss: 0.6349 - val_accuracy: 0.8240\n",
            "\n",
            "Epoch 00006: val_accuracy did not improve from 0.83021\n",
            "Epoch 7/1000\n",
            "721/721 [==============================] - 41s 57ms/step - loss: 0.0602 - accuracy: 0.9778 - val_loss: 0.6014 - val_accuracy: 0.8102\n",
            "\n",
            "Epoch 00007: val_accuracy did not improve from 0.83021\n",
            "Epoch 8/1000\n",
            "721/721 [==============================] - 41s 57ms/step - loss: 0.0395 - accuracy: 0.9854 - val_loss: 0.6769 - val_accuracy: 0.8452\n",
            "\n",
            "Epoch 00008: val_accuracy improved from 0.83021 to 0.84519, saving model to Sentiment_Analysis.h5\n",
            "Epoch 9/1000\n",
            "721/721 [==============================] - 41s 57ms/step - loss: 0.0200 - accuracy: 0.9933 - val_loss: 0.8395 - val_accuracy: 0.8240\n",
            "\n",
            "Epoch 00009: val_accuracy did not improve from 0.84519\n",
            "Epoch 10/1000\n",
            "721/721 [==============================] - 41s 57ms/step - loss: 0.0082 - accuracy: 0.9972 - val_loss: 1.0198 - val_accuracy: 0.8015\n",
            "\n",
            "Epoch 00010: val_accuracy did not improve from 0.84519\n",
            "Epoch 11/1000\n",
            "721/721 [==============================] - 41s 57ms/step - loss: 0.0115 - accuracy: 0.9972 - val_loss: 0.6514 - val_accuracy: 0.8427\n",
            "\n",
            "Epoch 00011: val_accuracy did not improve from 0.84519\n",
            "Epoch 12/1000\n",
            "721/721 [==============================] - 41s 57ms/step - loss: 0.0100 - accuracy: 0.9974 - val_loss: 0.6756 - val_accuracy: 0.8552\n",
            "\n",
            "Epoch 00012: val_accuracy improved from 0.84519 to 0.85518, saving model to Sentiment_Analysis.h5\n",
            "Epoch 13/1000\n",
            "721/721 [==============================] - 41s 57ms/step - loss: 0.0090 - accuracy: 0.9974 - val_loss: 0.8125 - val_accuracy: 0.8390\n",
            "\n",
            "Epoch 00013: val_accuracy did not improve from 0.85518\n",
            "Epoch 14/1000\n",
            "721/721 [==============================] - 41s 57ms/step - loss: 0.0051 - accuracy: 0.9985 - val_loss: 0.7565 - val_accuracy: 0.8627\n",
            "\n",
            "Epoch 00014: val_accuracy improved from 0.85518 to 0.86267, saving model to Sentiment_Analysis.h5\n",
            "Epoch 15/1000\n",
            "721/721 [==============================] - 41s 57ms/step - loss: 7.3570e-04 - accuracy: 0.9997 - val_loss: 0.8164 - val_accuracy: 0.8639\n",
            "\n",
            "Epoch 00015: val_accuracy improved from 0.86267 to 0.86392, saving model to Sentiment_Analysis.h5\n",
            "Epoch 16/1000\n",
            "721/721 [==============================] - 41s 57ms/step - loss: 0.0025 - accuracy: 0.9990 - val_loss: 0.6601 - val_accuracy: 0.8552\n",
            "\n",
            "Epoch 00016: val_accuracy did not improve from 0.86392\n",
            "Epoch 17/1000\n",
            "721/721 [==============================] - 41s 57ms/step - loss: 0.0084 - accuracy: 0.9967 - val_loss: 0.6577 - val_accuracy: 0.8702\n",
            "\n",
            "Epoch 00017: val_accuracy improved from 0.86392 to 0.87016, saving model to Sentiment_Analysis.h5\n",
            "Epoch 18/1000\n",
            "721/721 [==============================] - 41s 57ms/step - loss: 0.0058 - accuracy: 0.9981 - val_loss: 0.6784 - val_accuracy: 0.8564\n",
            "\n",
            "Epoch 00018: val_accuracy did not improve from 0.87016\n",
            "Epoch 19/1000\n",
            "721/721 [==============================] - 41s 57ms/step - loss: 0.0027 - accuracy: 0.9990 - val_loss: 0.7829 - val_accuracy: 0.8290\n",
            "\n",
            "Epoch 00019: val_accuracy did not improve from 0.87016\n",
            "Epoch 20/1000\n",
            "721/721 [==============================] - 41s 57ms/step - loss: 5.6102e-04 - accuracy: 0.9999 - val_loss: 0.8331 - val_accuracy: 0.8539\n",
            "\n",
            "Epoch 00020: val_accuracy did not improve from 0.87016\n",
            "Epoch 21/1000\n",
            "721/721 [==============================] - 40s 55ms/step - loss: 1.1230e-04 - accuracy: 1.0000 - val_loss: 0.9287 - val_accuracy: 0.8452\n",
            "\n",
            "Epoch 00021: val_accuracy did not improve from 0.87016\n",
            "Epoch 22/1000\n",
            "721/721 [==============================] - 39s 54ms/step - loss: 2.9976e-05 - accuracy: 1.0000 - val_loss: 0.9647 - val_accuracy: 0.8477\n",
            "\n",
            "Epoch 00022: val_accuracy did not improve from 0.87016\n",
            "Epoch 23/1000\n",
            "721/721 [==============================] - 39s 54ms/step - loss: 1.6388e-05 - accuracy: 1.0000 - val_loss: 1.0141 - val_accuracy: 0.8477\n",
            "\n",
            "Epoch 00023: val_accuracy did not improve from 0.87016\n",
            "Epoch 24/1000\n",
            "721/721 [==============================] - 39s 55ms/step - loss: 9.5907e-06 - accuracy: 1.0000 - val_loss: 1.0591 - val_accuracy: 0.8439\n",
            "\n",
            "Epoch 00024: val_accuracy did not improve from 0.87016\n",
            "Epoch 25/1000\n",
            "721/721 [==============================] - 39s 54ms/step - loss: 5.6872e-06 - accuracy: 1.0000 - val_loss: 1.1061 - val_accuracy: 0.8452\n",
            "\n",
            "Epoch 00025: val_accuracy did not improve from 0.87016\n",
            "Epoch 26/1000\n",
            "721/721 [==============================] - 39s 54ms/step - loss: 3.5484e-06 - accuracy: 1.0000 - val_loss: 1.1496 - val_accuracy: 0.8452\n",
            "\n",
            "Epoch 00026: val_accuracy did not improve from 0.87016\n",
            "Epoch 27/1000\n",
            "721/721 [==============================] - 39s 55ms/step - loss: 2.3074e-06 - accuracy: 1.0000 - val_loss: 1.1967 - val_accuracy: 0.8489\n",
            "\n",
            "Epoch 00027: val_accuracy did not improve from 0.87016\n",
            "Epoch 28/1000\n",
            "721/721 [==============================] - 39s 55ms/step - loss: 1.5084e-06 - accuracy: 1.0000 - val_loss: 1.2456 - val_accuracy: 0.8464\n",
            "\n",
            "Epoch 00028: val_accuracy did not improve from 0.87016\n",
            "Epoch 29/1000\n",
            "721/721 [==============================] - 39s 54ms/step - loss: 9.9363e-07 - accuracy: 1.0000 - val_loss: 1.2955 - val_accuracy: 0.8452\n",
            "\n",
            "Epoch 00029: val_accuracy did not improve from 0.87016\n",
            "Epoch 30/1000\n",
            "721/721 [==============================] - 39s 54ms/step - loss: 6.4935e-07 - accuracy: 1.0000 - val_loss: 1.3524 - val_accuracy: 0.8464\n",
            "\n",
            "Epoch 00030: val_accuracy did not improve from 0.87016\n",
            "Epoch 31/1000\n",
            "721/721 [==============================] - 40s 55ms/step - loss: 4.2555e-07 - accuracy: 1.0000 - val_loss: 1.4009 - val_accuracy: 0.8452\n",
            "\n",
            "Epoch 00031: val_accuracy did not improve from 0.87016\n",
            "Epoch 32/1000\n",
            "721/721 [==============================] - 40s 55ms/step - loss: 2.7975e-07 - accuracy: 1.0000 - val_loss: 1.4510 - val_accuracy: 0.8439\n",
            "\n",
            "Epoch 00032: val_accuracy did not improve from 0.87016\n",
            "Epoch 33/1000\n",
            "721/721 [==============================] - 39s 55ms/step - loss: 1.8259e-07 - accuracy: 1.0000 - val_loss: 1.4990 - val_accuracy: 0.8427\n",
            "\n",
            "Epoch 00033: val_accuracy did not improve from 0.87016\n",
            "Epoch 34/1000\n",
            "721/721 [==============================] - 39s 54ms/step - loss: 1.1966e-07 - accuracy: 1.0000 - val_loss: 1.5468 - val_accuracy: 0.8427\n",
            "\n",
            "Epoch 00034: val_accuracy did not improve from 0.87016\n",
            "Epoch 35/1000\n",
            "721/721 [==============================] - 39s 55ms/step - loss: 7.6402e-08 - accuracy: 1.0000 - val_loss: 1.5897 - val_accuracy: 0.8427\n",
            "\n",
            "Epoch 00035: val_accuracy did not improve from 0.87016\n",
            "Epoch 36/1000\n",
            "721/721 [==============================] - 39s 54ms/step - loss: 4.9159e-08 - accuracy: 1.0000 - val_loss: 1.6329 - val_accuracy: 0.8427\n",
            "\n",
            "Epoch 00036: val_accuracy did not improve from 0.87016\n",
            "Epoch 37/1000\n",
            "721/721 [==============================] - 39s 54ms/step - loss: 3.2073e-08 - accuracy: 1.0000 - val_loss: 1.6739 - val_accuracy: 0.8439\n",
            "\n",
            "Epoch 00037: val_accuracy did not improve from 0.87016\n",
            "Epoch 38/1000\n",
            "721/721 [==============================] - 39s 54ms/step - loss: 2.1520e-08 - accuracy: 1.0000 - val_loss: 1.7150 - val_accuracy: 0.8452\n",
            "\n",
            "Epoch 00038: val_accuracy did not improve from 0.87016\n",
            "Epoch 39/1000\n",
            "721/721 [==============================] - 39s 55ms/step - loss: 1.4787e-08 - accuracy: 1.0000 - val_loss: 1.7472 - val_accuracy: 0.8464\n",
            "\n",
            "Epoch 00039: val_accuracy did not improve from 0.87016\n",
            "Epoch 40/1000\n",
            "721/721 [==============================] - 39s 55ms/step - loss: 9.8748e-09 - accuracy: 1.0000 - val_loss: 1.7819 - val_accuracy: 0.8452\n",
            "\n",
            "Epoch 00040: val_accuracy did not improve from 0.87016\n",
            "Epoch 41/1000\n",
            "721/721 [==============================] - 40s 55ms/step - loss: 6.9471e-09 - accuracy: 1.0000 - val_loss: 1.8183 - val_accuracy: 0.8452\n",
            "\n",
            "Epoch 00041: val_accuracy did not improve from 0.87016\n",
            "Epoch 42/1000\n",
            "721/721 [==============================] - 40s 55ms/step - loss: 4.9126e-09 - accuracy: 1.0000 - val_loss: 1.8498 - val_accuracy: 0.8452\n",
            "\n",
            "Epoch 00042: val_accuracy did not improve from 0.87016\n",
            "Epoch 43/1000\n",
            "721/721 [==============================] - 40s 55ms/step - loss: 3.5893e-09 - accuracy: 1.0000 - val_loss: 1.8750 - val_accuracy: 0.8452\n",
            "\n",
            "Epoch 00043: val_accuracy did not improve from 0.87016\n",
            "Epoch 44/1000\n",
            "721/721 [==============================] - 39s 55ms/step - loss: 2.6796e-09 - accuracy: 1.0000 - val_loss: 1.9054 - val_accuracy: 0.8452\n",
            "\n",
            "Epoch 00044: val_accuracy did not improve from 0.87016\n",
            "Epoch 45/1000\n",
            "721/721 [==============================] - 40s 55ms/step - loss: 2.0511e-09 - accuracy: 1.0000 - val_loss: 1.9351 - val_accuracy: 0.8439\n",
            "\n",
            "Epoch 00045: val_accuracy did not improve from 0.87016\n",
            "Epoch 46/1000\n",
            "721/721 [==============================] - 40s 55ms/step - loss: 1.4060e-09 - accuracy: 1.0000 - val_loss: 1.9440 - val_accuracy: 0.8452\n",
            "\n",
            "Epoch 00046: val_accuracy did not improve from 0.87016\n",
            "Epoch 47/1000\n",
            "721/721 [==============================] - 40s 55ms/step - loss: 1.1248e-09 - accuracy: 1.0000 - val_loss: 1.9632 - val_accuracy: 0.8427\n",
            "\n",
            "Epoch 00047: val_accuracy did not improve from 0.87016\n",
            "Epoch 48/1000\n",
            "721/721 [==============================] - 39s 55ms/step - loss: 8.1050e-10 - accuracy: 1.0000 - val_loss: 1.9898 - val_accuracy: 0.8427\n",
            "\n",
            "Epoch 00048: val_accuracy did not improve from 0.87016\n",
            "Epoch 49/1000\n",
            "721/721 [==============================] - 39s 54ms/step - loss: 5.7893e-10 - accuracy: 1.0000 - val_loss: 2.0095 - val_accuracy: 0.8439\n",
            "\n",
            "Epoch 00049: val_accuracy did not improve from 0.87016\n",
            "Epoch 50/1000\n",
            "721/721 [==============================] - 39s 55ms/step - loss: 4.9622e-10 - accuracy: 1.0000 - val_loss: 2.0312 - val_accuracy: 0.8439\n",
            "\n",
            "Epoch 00050: val_accuracy did not improve from 0.87016\n",
            "Epoch 51/1000\n",
            "721/721 [==============================] - 39s 55ms/step - loss: 3.6390e-10 - accuracy: 1.0000 - val_loss: 2.0491 - val_accuracy: 0.8427\n",
            "\n",
            "Epoch 00051: val_accuracy did not improve from 0.87016\n",
            "Epoch 52/1000\n",
            "721/721 [==============================] - 39s 55ms/step - loss: 3.9698e-10 - accuracy: 1.0000 - val_loss: 1.9852 - val_accuracy: 0.8477\n",
            "\n",
            "Epoch 00052: val_accuracy did not improve from 0.87016\n",
            "Epoch 53/1000\n",
            "721/721 [==============================] - 39s 55ms/step - loss: 2.8119e-10 - accuracy: 1.0000 - val_loss: 2.0350 - val_accuracy: 0.8464\n",
            "\n",
            "Epoch 00053: val_accuracy did not improve from 0.87016\n",
            "Epoch 54/1000\n",
            "721/721 [==============================] - 39s 55ms/step - loss: 1.9849e-10 - accuracy: 1.0000 - val_loss: 2.0608 - val_accuracy: 0.8452\n",
            "\n",
            "Epoch 00054: val_accuracy did not improve from 0.87016\n",
            "Epoch 55/1000\n",
            "721/721 [==============================] - 39s 55ms/step - loss: 1.4887e-10 - accuracy: 1.0000 - val_loss: 2.0720 - val_accuracy: 0.8477\n",
            "\n",
            "Epoch 00055: val_accuracy did not improve from 0.87016\n",
            "Epoch 56/1000\n",
            "721/721 [==============================] - 39s 55ms/step - loss: 1.4887e-10 - accuracy: 1.0000 - val_loss: 2.0853 - val_accuracy: 0.8477\n",
            "\n",
            "Epoch 00056: val_accuracy did not improve from 0.87016\n",
            "Epoch 57/1000\n",
            "721/721 [==============================] - 40s 55ms/step - loss: 1.1579e-10 - accuracy: 1.0000 - val_loss: 2.1043 - val_accuracy: 0.8439\n",
            "\n",
            "Epoch 00057: val_accuracy did not improve from 0.87016\n",
            "Epoch 58/1000\n",
            "721/721 [==============================] - 40s 55ms/step - loss: 1.1579e-10 - accuracy: 1.0000 - val_loss: 2.1147 - val_accuracy: 0.8477\n",
            "\n",
            "Epoch 00058: val_accuracy did not improve from 0.87016\n",
            "Epoch 59/1000\n",
            "721/721 [==============================] - 40s 55ms/step - loss: 1.1579e-10 - accuracy: 1.0000 - val_loss: 2.1292 - val_accuracy: 0.8464\n",
            "\n",
            "Epoch 00059: val_accuracy did not improve from 0.87016\n",
            "Epoch 60/1000\n",
            "721/721 [==============================] - 40s 55ms/step - loss: 1.1579e-10 - accuracy: 1.0000 - val_loss: 2.1383 - val_accuracy: 0.8489\n",
            "\n",
            "Epoch 00060: val_accuracy did not improve from 0.87016\n",
            "Epoch 61/1000\n",
            "721/721 [==============================] - 40s 55ms/step - loss: 9.9245e-11 - accuracy: 1.0000 - val_loss: 2.1525 - val_accuracy: 0.8464\n",
            "\n",
            "Epoch 00061: val_accuracy did not improve from 0.87016\n",
            "Epoch 62/1000\n",
            "721/721 [==============================] - 40s 55ms/step - loss: 9.9245e-11 - accuracy: 1.0000 - val_loss: 2.1574 - val_accuracy: 0.8502\n",
            "\n",
            "Epoch 00062: val_accuracy did not improve from 0.87016\n",
            "Epoch 63/1000\n",
            "721/721 [==============================] - 40s 55ms/step - loss: 4.9622e-11 - accuracy: 1.0000 - val_loss: 2.1637 - val_accuracy: 0.8502\n",
            "\n",
            "Epoch 00063: val_accuracy did not improve from 0.87016\n",
            "Epoch 64/1000\n",
            "721/721 [==============================] - 40s 55ms/step - loss: 4.9622e-11 - accuracy: 1.0000 - val_loss: 2.1687 - val_accuracy: 0.8502\n",
            "\n",
            "Epoch 00064: val_accuracy did not improve from 0.87016\n",
            "Epoch 65/1000\n",
            "721/721 [==============================] - 40s 55ms/step - loss: 4.9622e-11 - accuracy: 1.0000 - val_loss: 2.1770 - val_accuracy: 0.8489\n",
            "\n",
            "Epoch 00065: val_accuracy did not improve from 0.87016\n",
            "Epoch 66/1000\n",
            "721/721 [==============================] - 40s 55ms/step - loss: 4.9622e-11 - accuracy: 1.0000 - val_loss: 2.1778 - val_accuracy: 0.8514\n",
            "\n",
            "Epoch 00066: val_accuracy did not improve from 0.87016\n",
            "Epoch 67/1000\n",
            "721/721 [==============================] - 40s 55ms/step - loss: 4.9622e-11 - accuracy: 1.0000 - val_loss: 2.1844 - val_accuracy: 0.8514\n",
            "\n",
            "Epoch 00067: val_accuracy did not improve from 0.87016\n"
          ]
        }
      ]
    },
    {
      "cell_type": "code",
      "metadata": {
        "colab": {
          "base_uri": "https://localhost:8080/"
        },
        "id": "5f3d516c",
        "outputId": "fb649568-aa6b-4d2a-8a6b-83f2ae875b68"
      },
      "source": [
        "model.evaluate(X_test,y_test)"
      ],
      "id": "5f3d516c",
      "execution_count": 26,
      "outputs": [
        {
          "output_type": "stream",
          "name": "stdout",
          "text": [
            "47/47 [==============================] - 1s 19ms/step - loss: 2.1051 - accuracy: 0.8507\n"
          ]
        },
        {
          "output_type": "execute_result",
          "data": {
            "text/plain": [
              "[2.105069398880005, 0.8506666421890259]"
            ]
          },
          "metadata": {},
          "execution_count": 26
        }
      ]
    }
  ]
}