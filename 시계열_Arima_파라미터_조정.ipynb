{
  "nbformat": 4,
  "nbformat_minor": 0,
  "metadata": {
    "colab": {
      "name": "시계열 Arima 파라미터 조정.ipynb",
      "provenance": [],
      "collapsed_sections": [],
      "authorship_tag": "ABX9TyPYCd44IEwxldxrTxDlSgH/",
      "include_colab_link": true
    },
    "kernelspec": {
      "name": "python3",
      "display_name": "Python 3"
    },
    "language_info": {
      "name": "python"
    }
  },
  "cells": [
    {
      "cell_type": "markdown",
      "metadata": {
        "id": "view-in-github",
        "colab_type": "text"
      },
      "source": [
        "<a href=\"https://colab.research.google.com/github/chaerui7967/stock_predict_news_and_youtube/blob/master/%EC%8B%9C%EA%B3%84%EC%97%B4_Arima_%ED%8C%8C%EB%9D%BC%EB%AF%B8%ED%84%B0_%EC%A1%B0%EC%A0%95.ipynb\" target=\"_parent\"><img src=\"https://colab.research.google.com/assets/colab-badge.svg\" alt=\"Open In Colab\"/></a>"
      ]
    },
    {
      "cell_type": "markdown",
      "metadata": {
        "id": "IHPvJApZ62P_"
      },
      "source": [
        "# ARIMA 차분 파라미터 조정"
      ]
    },
    {
      "cell_type": "markdown",
      "metadata": {
        "id": "rzqZggD467oa"
      },
      "source": [
        "## 데이터 로드"
      ]
    },
    {
      "cell_type": "code",
      "metadata": {
        "id": "Se7bLOGA6q8n",
        "colab": {
          "base_uri": "https://localhost:8080/"
        },
        "outputId": "2ec81165-f915-44b4-fc14-6b4d3c98d147"
      },
      "source": [
        "!pip install finance-datareader"
      ],
      "execution_count": 2,
      "outputs": [
        {
          "output_type": "stream",
          "name": "stdout",
          "text": [
            "Collecting finance-datareader\n",
            "  Downloading finance_datareader-0.9.31-py3-none-any.whl (17 kB)\n",
            "Requirement already satisfied: tqdm in /usr/local/lib/python3.7/dist-packages (from finance-datareader) (4.62.0)\n",
            "Requirement already satisfied: requests>=2.3.0 in /usr/local/lib/python3.7/dist-packages (from finance-datareader) (2.23.0)\n",
            "Requirement already satisfied: pandas>=0.19.2 in /usr/local/lib/python3.7/dist-packages (from finance-datareader) (1.1.5)\n",
            "Collecting requests-file\n",
            "  Downloading requests_file-1.5.1-py2.py3-none-any.whl (3.7 kB)\n",
            "Requirement already satisfied: lxml in /usr/local/lib/python3.7/dist-packages (from finance-datareader) (4.2.6)\n",
            "Requirement already satisfied: pytz>=2017.2 in /usr/local/lib/python3.7/dist-packages (from pandas>=0.19.2->finance-datareader) (2018.9)\n",
            "Requirement already satisfied: numpy>=1.15.4 in /usr/local/lib/python3.7/dist-packages (from pandas>=0.19.2->finance-datareader) (1.19.5)\n",
            "Requirement already satisfied: python-dateutil>=2.7.3 in /usr/local/lib/python3.7/dist-packages (from pandas>=0.19.2->finance-datareader) (2.8.2)\n",
            "Requirement already satisfied: six>=1.5 in /usr/local/lib/python3.7/dist-packages (from python-dateutil>=2.7.3->pandas>=0.19.2->finance-datareader) (1.15.0)\n",
            "Requirement already satisfied: certifi>=2017.4.17 in /usr/local/lib/python3.7/dist-packages (from requests>=2.3.0->finance-datareader) (2021.5.30)\n",
            "Requirement already satisfied: chardet<4,>=3.0.2 in /usr/local/lib/python3.7/dist-packages (from requests>=2.3.0->finance-datareader) (3.0.4)\n",
            "Requirement already satisfied: urllib3!=1.25.0,!=1.25.1,<1.26,>=1.21.1 in /usr/local/lib/python3.7/dist-packages (from requests>=2.3.0->finance-datareader) (1.24.3)\n",
            "Requirement already satisfied: idna<3,>=2.5 in /usr/local/lib/python3.7/dist-packages (from requests>=2.3.0->finance-datareader) (2.10)\n",
            "Installing collected packages: requests-file, finance-datareader\n",
            "Successfully installed finance-datareader-0.9.31 requests-file-1.5.1\n"
          ]
        }
      ]
    },
    {
      "cell_type": "code",
      "metadata": {
        "colab": {
          "base_uri": "https://localhost:8080/",
          "height": 447
        },
        "id": "oMkxs7Ki6-Dj",
        "outputId": "cbe02ca1-f04e-4bc3-b690-22ad7422f34d"
      },
      "source": [
        "%matplotlib inline\n",
        "import pandas as pd\n",
        "import numpy as np\n",
        "import matplotlib.pyplot as plt\n",
        "import seaborn as sns\n",
        "import datetime\n",
        "# 주식가격 로딩\n",
        "import FinanceDataReader as fdr\n",
        "\n",
        "# 삼성전자 2018년 이후\n",
        "end_date = datetime.datetime.now().strftime(\"%Y%m%d\")\n",
        "samsung_df = fdr.DataReader('005930', start = '20180101', end = end_date)\n",
        "\n",
        "samsung_df"
      ],
      "execution_count": 3,
      "outputs": [
        {
          "output_type": "execute_result",
          "data": {
            "text/html": [
              "<div>\n",
              "<style scoped>\n",
              "    .dataframe tbody tr th:only-of-type {\n",
              "        vertical-align: middle;\n",
              "    }\n",
              "\n",
              "    .dataframe tbody tr th {\n",
              "        vertical-align: top;\n",
              "    }\n",
              "\n",
              "    .dataframe thead th {\n",
              "        text-align: right;\n",
              "    }\n",
              "</style>\n",
              "<table border=\"1\" class=\"dataframe\">\n",
              "  <thead>\n",
              "    <tr style=\"text-align: right;\">\n",
              "      <th></th>\n",
              "      <th>Open</th>\n",
              "      <th>High</th>\n",
              "      <th>Low</th>\n",
              "      <th>Close</th>\n",
              "      <th>Volume</th>\n",
              "      <th>Change</th>\n",
              "    </tr>\n",
              "    <tr>\n",
              "      <th>Date</th>\n",
              "      <th></th>\n",
              "      <th></th>\n",
              "      <th></th>\n",
              "      <th></th>\n",
              "      <th></th>\n",
              "      <th></th>\n",
              "    </tr>\n",
              "  </thead>\n",
              "  <tbody>\n",
              "    <tr>\n",
              "      <th>2018-01-02</th>\n",
              "      <td>51380</td>\n",
              "      <td>51400</td>\n",
              "      <td>50780</td>\n",
              "      <td>51020</td>\n",
              "      <td>169485</td>\n",
              "      <td>0.001177</td>\n",
              "    </tr>\n",
              "    <tr>\n",
              "      <th>2018-01-03</th>\n",
              "      <td>52540</td>\n",
              "      <td>52560</td>\n",
              "      <td>51420</td>\n",
              "      <td>51620</td>\n",
              "      <td>200270</td>\n",
              "      <td>0.011760</td>\n",
              "    </tr>\n",
              "    <tr>\n",
              "      <th>2018-01-04</th>\n",
              "      <td>52120</td>\n",
              "      <td>52180</td>\n",
              "      <td>50640</td>\n",
              "      <td>51080</td>\n",
              "      <td>233909</td>\n",
              "      <td>-0.010461</td>\n",
              "    </tr>\n",
              "    <tr>\n",
              "      <th>2018-01-05</th>\n",
              "      <td>51300</td>\n",
              "      <td>52120</td>\n",
              "      <td>51200</td>\n",
              "      <td>52120</td>\n",
              "      <td>189623</td>\n",
              "      <td>0.020360</td>\n",
              "    </tr>\n",
              "    <tr>\n",
              "      <th>2018-01-08</th>\n",
              "      <td>52400</td>\n",
              "      <td>52520</td>\n",
              "      <td>51500</td>\n",
              "      <td>52020</td>\n",
              "      <td>167673</td>\n",
              "      <td>-0.001919</td>\n",
              "    </tr>\n",
              "    <tr>\n",
              "      <th>...</th>\n",
              "      <td>...</td>\n",
              "      <td>...</td>\n",
              "      <td>...</td>\n",
              "      <td>...</td>\n",
              "      <td>...</td>\n",
              "      <td>...</td>\n",
              "    </tr>\n",
              "    <tr>\n",
              "      <th>2021-09-07</th>\n",
              "      <td>77100</td>\n",
              "      <td>77100</td>\n",
              "      <td>75900</td>\n",
              "      <td>76100</td>\n",
              "      <td>13239401</td>\n",
              "      <td>-0.015524</td>\n",
              "    </tr>\n",
              "    <tr>\n",
              "      <th>2021-09-08</th>\n",
              "      <td>76000</td>\n",
              "      <td>76400</td>\n",
              "      <td>75600</td>\n",
              "      <td>76300</td>\n",
              "      <td>11798147</td>\n",
              "      <td>0.002628</td>\n",
              "    </tr>\n",
              "    <tr>\n",
              "      <th>2021-09-09</th>\n",
              "      <td>76400</td>\n",
              "      <td>76600</td>\n",
              "      <td>75000</td>\n",
              "      <td>75300</td>\n",
              "      <td>17600770</td>\n",
              "      <td>-0.013106</td>\n",
              "    </tr>\n",
              "    <tr>\n",
              "      <th>2021-09-10</th>\n",
              "      <td>75300</td>\n",
              "      <td>75600</td>\n",
              "      <td>74800</td>\n",
              "      <td>75300</td>\n",
              "      <td>10103212</td>\n",
              "      <td>0.000000</td>\n",
              "    </tr>\n",
              "    <tr>\n",
              "      <th>2021-09-13</th>\n",
              "      <td>75200</td>\n",
              "      <td>76300</td>\n",
              "      <td>75100</td>\n",
              "      <td>76300</td>\n",
              "      <td>11372449</td>\n",
              "      <td>0.013280</td>\n",
              "    </tr>\n",
              "  </tbody>\n",
              "</table>\n",
              "<p>913 rows × 6 columns</p>\n",
              "</div>"
            ],
            "text/plain": [
              "             Open   High    Low  Close    Volume    Change\n",
              "Date                                                      \n",
              "2018-01-02  51380  51400  50780  51020    169485  0.001177\n",
              "2018-01-03  52540  52560  51420  51620    200270  0.011760\n",
              "2018-01-04  52120  52180  50640  51080    233909 -0.010461\n",
              "2018-01-05  51300  52120  51200  52120    189623  0.020360\n",
              "2018-01-08  52400  52520  51500  52020    167673 -0.001919\n",
              "...           ...    ...    ...    ...       ...       ...\n",
              "2021-09-07  77100  77100  75900  76100  13239401 -0.015524\n",
              "2021-09-08  76000  76400  75600  76300  11798147  0.002628\n",
              "2021-09-09  76400  76600  75000  75300  17600770 -0.013106\n",
              "2021-09-10  75300  75600  74800  75300  10103212  0.000000\n",
              "2021-09-13  75200  76300  75100  76300  11372449  0.013280\n",
              "\n",
              "[913 rows x 6 columns]"
            ]
          },
          "metadata": {},
          "execution_count": 3
        }
      ]
    },
    {
      "cell_type": "code",
      "metadata": {
        "id": "F_Ooajgz7Lhh",
        "colab": {
          "base_uri": "https://localhost:8080/",
          "height": 417
        },
        "outputId": "20dbf711-c174-4746-cd02-2ff7a6f3ce60"
      },
      "source": [
        "df1 = samsung_df[['Close']]\n",
        "df1 = df1.reset_index()\n",
        "df1"
      ],
      "execution_count": 4,
      "outputs": [
        {
          "output_type": "execute_result",
          "data": {
            "text/html": [
              "<div>\n",
              "<style scoped>\n",
              "    .dataframe tbody tr th:only-of-type {\n",
              "        vertical-align: middle;\n",
              "    }\n",
              "\n",
              "    .dataframe tbody tr th {\n",
              "        vertical-align: top;\n",
              "    }\n",
              "\n",
              "    .dataframe thead th {\n",
              "        text-align: right;\n",
              "    }\n",
              "</style>\n",
              "<table border=\"1\" class=\"dataframe\">\n",
              "  <thead>\n",
              "    <tr style=\"text-align: right;\">\n",
              "      <th></th>\n",
              "      <th>Date</th>\n",
              "      <th>Close</th>\n",
              "    </tr>\n",
              "  </thead>\n",
              "  <tbody>\n",
              "    <tr>\n",
              "      <th>0</th>\n",
              "      <td>2018-01-02</td>\n",
              "      <td>51020</td>\n",
              "    </tr>\n",
              "    <tr>\n",
              "      <th>1</th>\n",
              "      <td>2018-01-03</td>\n",
              "      <td>51620</td>\n",
              "    </tr>\n",
              "    <tr>\n",
              "      <th>2</th>\n",
              "      <td>2018-01-04</td>\n",
              "      <td>51080</td>\n",
              "    </tr>\n",
              "    <tr>\n",
              "      <th>3</th>\n",
              "      <td>2018-01-05</td>\n",
              "      <td>52120</td>\n",
              "    </tr>\n",
              "    <tr>\n",
              "      <th>4</th>\n",
              "      <td>2018-01-08</td>\n",
              "      <td>52020</td>\n",
              "    </tr>\n",
              "    <tr>\n",
              "      <th>...</th>\n",
              "      <td>...</td>\n",
              "      <td>...</td>\n",
              "    </tr>\n",
              "    <tr>\n",
              "      <th>908</th>\n",
              "      <td>2021-09-07</td>\n",
              "      <td>76100</td>\n",
              "    </tr>\n",
              "    <tr>\n",
              "      <th>909</th>\n",
              "      <td>2021-09-08</td>\n",
              "      <td>76300</td>\n",
              "    </tr>\n",
              "    <tr>\n",
              "      <th>910</th>\n",
              "      <td>2021-09-09</td>\n",
              "      <td>75300</td>\n",
              "    </tr>\n",
              "    <tr>\n",
              "      <th>911</th>\n",
              "      <td>2021-09-10</td>\n",
              "      <td>75300</td>\n",
              "    </tr>\n",
              "    <tr>\n",
              "      <th>912</th>\n",
              "      <td>2021-09-13</td>\n",
              "      <td>76300</td>\n",
              "    </tr>\n",
              "  </tbody>\n",
              "</table>\n",
              "<p>913 rows × 2 columns</p>\n",
              "</div>"
            ],
            "text/plain": [
              "          Date  Close\n",
              "0   2018-01-02  51020\n",
              "1   2018-01-03  51620\n",
              "2   2018-01-04  51080\n",
              "3   2018-01-05  52120\n",
              "4   2018-01-08  52020\n",
              "..         ...    ...\n",
              "908 2021-09-07  76100\n",
              "909 2021-09-08  76300\n",
              "910 2021-09-09  75300\n",
              "911 2021-09-10  75300\n",
              "912 2021-09-13  76300\n",
              "\n",
              "[913 rows x 2 columns]"
            ]
          },
          "metadata": {},
          "execution_count": 4
        }
      ]
    },
    {
      "cell_type": "code",
      "metadata": {
        "colab": {
          "base_uri": "https://localhost:8080/",
          "height": 294
        },
        "id": "NTkQRXwe7gcr",
        "outputId": "c42678d2-9e10-406c-82d5-6ded8d3b803e"
      },
      "source": [
        "df1.plot('Date','Close')"
      ],
      "execution_count": 5,
      "outputs": [
        {
          "output_type": "execute_result",
          "data": {
            "text/plain": [
              "<matplotlib.axes._subplots.AxesSubplot at 0x7f3c27b41250>"
            ]
          },
          "metadata": {},
          "execution_count": 5
        },
        {
          "output_type": "display_data",
          "data": {
            "image/png": "[encoded data removed]",
            "text/plain": [
              "<Figure size 432x288 with 1 Axes>"
            ]
          },
          "metadata": {
            "needs_background": "light"
          }
        }
      ]
    },
    {
      "cell_type": "markdown",
      "metadata": {
        "id": "q6cOt51K7zUr"
      },
      "source": [
        "## ARIMA 모수 설정"
      ]
    },
    {
      "cell_type": "code",
      "metadata": {
        "id": "EVTusgs18LHP"
      },
      "source": [
        "df1.columns = ['Date', 'Price']"
      ],
      "execution_count": 6,
      "outputs": []
    },
    {
      "cell_type": "code",
      "metadata": {
        "colab": {
          "base_uri": "https://localhost:8080/",
          "height": 545
        },
        "id": "TQkt6CMj7h5P",
        "outputId": "07d36c0c-a186-4d27-aa7e-c2f1eb3028bf"
      },
      "source": [
        "from statsmodels.graphics.tsaplots import plot_acf, plot_pacf\n",
        "\n",
        "plot_acf(df1.Price)\n",
        "plot_pacf(df1.Price)\n",
        "plt.show()"
      ],
      "execution_count": 7,
      "outputs": [
        {
          "output_type": "display_data",
          "data": {
            "image/png": "[encoded data removed]",
            "text/plain": [
              "<Figure size 432x288 with 1 Axes>"
            ]
          },
          "metadata": {
            "needs_background": "light"
          }
        },
        {
          "output_type": "display_data",
          "data": {
            "image/png": "[encoded data removed]",
            "text/plain": [
              "<Figure size 432x288 with 1 Axes>"
            ]
          },
          "metadata": {
            "needs_background": "light"
          }
        }
      ]
    },
    {
      "cell_type": "markdown",
      "metadata": {
        "id": "Y9RDQBjm-rGX"
      },
      "source": [
        "ACF를 보면 완만하지만 꾸준히 줄어드는 것으로 보인다. 또한 PACF는 1의 Time lag에서 약 0.99를 보이고 이후에 급격히 감소한다."
      ]
    },
    {
      "cell_type": "code",
      "metadata": {
        "colab": {
          "base_uri": "https://localhost:8080/"
        },
        "id": "bTw38QTN8hHg",
        "outputId": "7a54e152-36d8-4e6c-9f16-19c70d1bb8b3"
      },
      "source": [
        "# 시계열 정상성 검정 Augmented Dickey-Fuller Test\n",
        "# 비정상성 확인\n",
        "\n",
        "from statsmodels.tsa.stattools import adfuller\n",
        "result = adfuller(df1['Price'])\n",
        "\n",
        "print(f'ADF statistic: {result[0]}')\n",
        "print(f'p-value: {result[1]}')"
      ],
      "execution_count": 8,
      "outputs": [
        {
          "output_type": "stream",
          "name": "stdout",
          "text": [
            "ADF statistic: -0.5569406214310959\n",
            "p-value: 0.880417913118139\n"
          ]
        }
      ]
    },
    {
      "cell_type": "markdown",
      "metadata": {
        "id": "cUyjR3RC_klv"
      },
      "source": [
        "1차 차분 및 로그변환"
      ]
    },
    {
      "cell_type": "code",
      "metadata": {
        "id": "xkCZbQnC_Z-0"
      },
      "source": [
        "x = df1['Price'].values\n",
        "x = np.log(x)\n",
        "\n",
        "diff = x[1:] - x[:-1] # 차분"
      ],
      "execution_count": 9,
      "outputs": []
    },
    {
      "cell_type": "code",
      "metadata": {
        "colab": {
          "base_uri": "https://localhost:8080/",
          "height": 352
        },
        "id": "RP39-zTfANum",
        "outputId": "dd5d75b7-a3bf-4737-e2fb-21200575312f"
      },
      "source": [
        "sns.lineplot(df1.iloc[1:, 0], diff)"
      ],
      "execution_count": 10,
      "outputs": [
        {
          "output_type": "stream",
          "name": "stderr",
          "text": [
            "/usr/local/lib/python3.7/dist-packages/seaborn/_decorators.py:43: FutureWarning: Pass the following variables as keyword args: x, y. From version 0.12, the only valid positional argument will be `data`, and passing other arguments without an explicit keyword will result in an error or misinterpretation.\n",
            "  FutureWarning\n"
          ]
        },
        {
          "output_type": "execute_result",
          "data": {
            "text/plain": [
              "<matplotlib.axes._subplots.AxesSubplot at 0x7f3c1ead3d90>"
            ]
          },
          "metadata": {},
          "execution_count": 10
        },
        {
          "output_type": "display_data",
          "data": {
            "image/png": "[encoded data removed]",
            "text/plain": [
              "<Figure size 432x288 with 1 Axes>"
            ]
          },
          "metadata": {
            "needs_background": "light"
          }
        }
      ]
    },
    {
      "cell_type": "code",
      "metadata": {
        "colab": {
          "base_uri": "https://localhost:8080/",
          "height": 281
        },
        "id": "wFQbzrcAAvPM",
        "outputId": "63849a13-09b0-4fed-90f1-30fe0c657d1e"
      },
      "source": [
        "fig = plot_acf(diff)"
      ],
      "execution_count": 11,
      "outputs": [
        {
          "output_type": "display_data",
          "data": {
            "image/png": "[encoded data removed]",
            "text/plain": [
              "<Figure size 432x288 with 1 Axes>"
            ]
          },
          "metadata": {
            "needs_background": "light"
          }
        }
      ]
    },
    {
      "cell_type": "code",
      "metadata": {
        "colab": {
          "base_uri": "https://localhost:8080/",
          "height": 281
        },
        "id": "8rNNU0NjBLVK",
        "outputId": "683a4a5e-a320-4f4b-ea44-49d515cc55cd"
      },
      "source": [
        "fig = plot_pacf(diff)"
      ],
      "execution_count": 12,
      "outputs": [
        {
          "output_type": "display_data",
          "data": {
            "image/png": "[encoded data removed]",
            "text/plain": [
              "<Figure size 432x288 with 1 Axes>"
            ]
          },
          "metadata": {
            "needs_background": "light"
          }
        }
      ]
    },
    {
      "cell_type": "code",
      "metadata": {
        "colab": {
          "base_uri": "https://localhost:8080/"
        },
        "id": "BFOhZHfwBSQW",
        "outputId": "d691bd42-17ce-4441-cf12-e924db821ba7"
      },
      "source": [
        "result_r = adfuller(diff)\n",
        "\n",
        "print(f'ADF statistic: {result_r[0]}')\n",
        "print(f'p-value: {result_r[1]}')  # 1차 차분만으로도 유효한 결과가 나옴"
      ],
      "execution_count": 13,
      "outputs": [
        {
          "output_type": "stream",
          "name": "stdout",
          "text": [
            "ADF statistic: -30.033008581502763\n",
            "p-value: 0.0\n"
          ]
        }
      ]
    },
    {
      "cell_type": "code",
      "metadata": {
        "colab": {
          "base_uri": "https://localhost:8080/"
        },
        "id": "5oxx0VJUBaBI",
        "outputId": "78a1c061-ae0d-487b-e381-3833a90533ff"
      },
      "source": [
        "from statsmodels.tsa.arima_model import ARIMA\n",
        "import statsmodels.api as sm\n",
        "# 1,0,1 // 1,1,1 // 1,2,1 // 1,2,2 // 2,2,2 // .... 여러가지 차수를 지정해봤을 때 2,1,2가 최적임\n",
        "# (AR = 2, 차분 =1, MA=2) 파라미터로 ARIMA 모델을 학습한다.\n",
        "model = ARIMA(df1.Price.values, order = (2,1,2))\n",
        "model_fit = model.fit(trend = 'c', full_output = True, disp = True)\n",
        "print(model_fit.summary())"
      ],
      "execution_count": 27,
      "outputs": [
        {
          "output_type": "stream",
          "name": "stdout",
          "text": [
            "                             ARIMA Model Results                              \n",
            "==============================================================================\n",
            "Dep. Variable:                    D.y   No. Observations:                  912\n",
            "Model:                 ARIMA(2, 1, 2)   Log Likelihood               -7538.858\n",
            "Method:                       css-mle   S.D. of innovations            938.892\n",
            "Date:                Mon, 13 Sep 2021   AIC                          15089.716\n",
            "Time:                        08:45:47   BIC                          15118.609\n",
            "Sample:                             1   HQIC                         15100.746\n",
            "                                                                              \n",
            "==============================================================================\n",
            "                 coef    std err          z      P>|z|      [0.025      0.975]\n",
            "------------------------------------------------------------------------------\n",
            "const         13.7394     31.285      0.439      0.661     -47.577      75.056\n",
            "ar.L1.D.y     -1.5979      0.012   -138.725      0.000      -1.620      -1.575\n",
            "ar.L2.D.y     -0.9802      0.009   -113.114      0.000      -0.997      -0.963\n",
            "ma.L1.D.y      1.5998      0.008    207.644      0.000       1.585       1.615\n",
            "ma.L2.D.y      0.9999      0.008    132.669      0.000       0.985       1.015\n",
            "                                    Roots                                    \n",
            "=============================================================================\n",
            "                  Real          Imaginary           Modulus         Frequency\n",
            "-----------------------------------------------------------------------------\n",
            "AR.1           -0.8151           -0.5965j            1.0101           -0.3995\n",
            "AR.2           -0.8151           +0.5965j            1.0101            0.3995\n",
            "MA.1           -0.8000           -0.6001j            1.0001           -0.3976\n",
            "MA.2           -0.8000           +0.6001j            1.0001            0.3976\n",
            "-----------------------------------------------------------------------------\n"
          ]
        }
      ]
    },
    {
      "cell_type": "code",
      "metadata": {
        "colab": {
          "base_uri": "https://localhost:8080/"
        },
        "id": "4DEqNE8nXowA",
        "outputId": "338f0f4b-c50d-445e-faf3-f6ca3be52fae"
      },
      "source": [
        "# const 가 유의하지 않으므로 trend를 nc로해서 다시 모델 적합\n",
        "model = ARIMA(df1.Price.values, order = (2,1,2))\n",
        "model_fit = model.fit(trend = 'nc', full_output = True, disp = True)\n",
        "print(model_fit.summary())"
      ],
      "execution_count": 28,
      "outputs": [
        {
          "output_type": "stream",
          "name": "stdout",
          "text": [
            "                             ARIMA Model Results                              \n",
            "==============================================================================\n",
            "Dep. Variable:                    D.y   No. Observations:                  912\n",
            "Model:                 ARIMA(2, 1, 2)   Log Likelihood               -7539.154\n",
            "Method:                       css-mle   S.D. of innovations            939.200\n",
            "Date:                Mon, 13 Sep 2021   AIC                          15088.309\n",
            "Time:                        08:45:53   BIC                          15112.387\n",
            "Sample:                             1   HQIC                         15097.501\n",
            "                                                                              \n",
            "==============================================================================\n",
            "                 coef    std err          z      P>|z|      [0.025      0.975]\n",
            "------------------------------------------------------------------------------\n",
            "ar.L1.D.y     -1.5978      0.011   -139.518      0.000      -1.620      -1.575\n",
            "ar.L2.D.y     -0.9801      0.009   -113.423      0.000      -0.997      -0.963\n",
            "ma.L1.D.y      1.5997      0.008    208.092      0.000       1.585       1.615\n",
            "ma.L2.D.y      0.9999      0.008    132.236      0.000       0.985       1.015\n",
            "                                    Roots                                    \n",
            "=============================================================================\n",
            "                  Real          Imaginary           Modulus         Frequency\n",
            "-----------------------------------------------------------------------------\n",
            "AR.1           -0.8151           -0.5965j            1.0101           -0.3995\n",
            "AR.2           -0.8151           +0.5965j            1.0101            0.3995\n",
            "MA.1           -0.8000           -0.6001j            1.0001           -0.3976\n",
            "MA.2           -0.8000           +0.6001j            1.0001            0.3976\n",
            "-----------------------------------------------------------------------------\n"
          ]
        }
      ]
    },
    {
      "cell_type": "code",
      "metadata": {
        "id": "sArU8P6pXapk"
      },
      "source": [
        "# 학습, 테스트 데이터 분리\n",
        "train = df1[:-10]\n",
        "test = df1[-10:-1]"
      ],
      "execution_count": 29,
      "outputs": []
    },
    {
      "cell_type": "code",
      "metadata": {
        "colab": {
          "base_uri": "https://localhost:8080/"
        },
        "id": "z_ZFStfcDh4T",
        "outputId": "a3be452c-8246-41c2-c959-11d489c441d5"
      },
      "source": [
        "model = ARIMA(train.Price.values, order = (2,1,2))\n",
        "model_fit = model.fit(trend = 'nc', full_output = True, disp = True)\n",
        "print(model_fit.summary())"
      ],
      "execution_count": 30,
      "outputs": [
        {
          "output_type": "stream",
          "name": "stdout",
          "text": [
            "                             ARIMA Model Results                              \n",
            "==============================================================================\n",
            "Dep. Variable:                    D.y   No. Observations:                  902\n",
            "Model:                 ARIMA(2, 1, 2)   Log Likelihood               -7455.896\n",
            "Method:                       css-mle   S.D. of innovations            938.511\n",
            "Date:                Mon, 13 Sep 2021   AIC                          14921.792\n",
            "Time:                        08:45:56   BIC                          14945.815\n",
            "Sample:                             1   HQIC                         14930.968\n",
            "                                                                              \n",
            "==============================================================================\n",
            "                 coef    std err          z      P>|z|      [0.025      0.975]\n",
            "------------------------------------------------------------------------------\n",
            "ar.L1.D.y     -1.5984      0.011   -142.002      0.000      -1.620      -1.576\n",
            "ar.L2.D.y     -0.9798      0.009   -111.293      0.000      -0.997      -0.963\n",
            "ma.L1.D.y      1.6004      0.007    225.638      0.000       1.586       1.614\n",
            "ma.L2.D.y      0.9999      0.006    154.762      0.000       0.987       1.013\n",
            "                                    Roots                                    \n",
            "=============================================================================\n",
            "                  Real          Imaginary           Modulus         Frequency\n",
            "-----------------------------------------------------------------------------\n",
            "AR.1           -0.8157           -0.5960j            1.0102           -0.3996\n",
            "AR.2           -0.8157           +0.5960j            1.0102            0.3996\n",
            "MA.1           -0.8002           -0.5997j            1.0000           -0.3976\n",
            "MA.2           -0.8002           +0.5997j            1.0000            0.3976\n",
            "-----------------------------------------------------------------------------\n"
          ]
        }
      ]
    },
    {
      "cell_type": "code",
      "metadata": {
        "colab": {
          "base_uri": "https://localhost:8080/",
          "height": 513
        },
        "id": "HhZmwV0JX-Me",
        "outputId": "557e5484-de2d-4e48-d871-ef5d313dc35b"
      },
      "source": [
        "model_fit.plot_predict()"
      ],
      "execution_count": 31,
      "outputs": [
        {
          "output_type": "execute_result",
          "data": {
            "image/png": "[encoded data removed]",
            "text/plain": [
              "<Figure size 432x288 with 1 Axes>"
            ]
          },
          "metadata": {},
          "execution_count": 31
        },
        {
          "output_type": "display_data",
          "data": {
            "image/png": "[encoded data removed]",
            "text/plain": [
              "<Figure size 432x288 with 1 Axes>"
            ]
          },
          "metadata": {
            "needs_background": "light"
          }
        }
      ]
    },
    {
      "cell_type": "code",
      "metadata": {
        "colab": {
          "base_uri": "https://localhost:8080/"
        },
        "id": "41W3qVSSYHik",
        "outputId": "f45399e8-79e1-4bbe-fb67-0aa3a32122d2"
      },
      "source": [
        "fore = model_fit.forecast(steps=1)\n",
        "print(fore)"
      ],
      "execution_count": 32,
      "outputs": [
        {
          "output_type": "stream",
          "name": "stdout",
          "text": [
            "(array([74816.33979261]), array([938.51116082]), array([[72976.89171831, 76655.78786691]]))\n"
          ]
        }
      ]
    },
    {
      "cell_type": "code",
      "metadata": {
        "colab": {
          "base_uri": "https://localhost:8080/",
          "height": 80
        },
        "id": "rsgbJxfHYNou",
        "outputId": "5ed5799d-dfd4-484a-be4c-9fda72bb2a31"
      },
      "source": [
        "df1[-1:]"
      ],
      "execution_count": 33,
      "outputs": [
        {
          "output_type": "execute_result",
          "data": {
            "text/html": [
              "<div>\n",
              "<style scoped>\n",
              "    .dataframe tbody tr th:only-of-type {\n",
              "        vertical-align: middle;\n",
              "    }\n",
              "\n",
              "    .dataframe tbody tr th {\n",
              "        vertical-align: top;\n",
              "    }\n",
              "\n",
              "    .dataframe thead th {\n",
              "        text-align: right;\n",
              "    }\n",
              "</style>\n",
              "<table border=\"1\" class=\"dataframe\">\n",
              "  <thead>\n",
              "    <tr style=\"text-align: right;\">\n",
              "      <th></th>\n",
              "      <th>Date</th>\n",
              "      <th>Price</th>\n",
              "    </tr>\n",
              "  </thead>\n",
              "  <tbody>\n",
              "    <tr>\n",
              "      <th>912</th>\n",
              "      <td>2021-09-13</td>\n",
              "      <td>76300</td>\n",
              "    </tr>\n",
              "  </tbody>\n",
              "</table>\n",
              "</div>"
            ],
            "text/plain": [
              "          Date  Price\n",
              "912 2021-09-13  76300"
            ]
          },
          "metadata": {},
          "execution_count": 33
        }
      ]
    },
    {
      "cell_type": "markdown",
      "metadata": {
        "id": "7WLv58_EVcj2"
      },
      "source": [
        "예측값 --> 74816.3 // 실제값 76300 "
      ]
    },
    {
      "cell_type": "code",
      "metadata": {
        "id": "A_4-7AmyYxXb"
      },
      "source": [
        ""
      ],
      "execution_count": null,
      "outputs": []
    }
  ]
}