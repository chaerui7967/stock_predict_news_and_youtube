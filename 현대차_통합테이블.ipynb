{
  "nbformat": 4,
  "nbformat_minor": 0,
  "metadata": {
    "colab": {
      "name": "현대차_통합테이블.ipynb",
      "provenance": [],
      "collapsed_sections": [
        "oSo1anUuB7qh",
        "uIWZWJXzB-zq",
        "Q1eczyQmCgIL",
        "oaz_uBnvBFVu",
        "B6UZxVH1E7TY",
        "8NsrjY_-J-T7",
        "xFQPPn7-WNKQ",
        "3l7cxNXufjIK",
        "kCrQV9WP7thp",
        "BC3-x9cM8vl5",
        "E1l4IJFZ9hr6",
        "bQwsiyCykm7V",
        "qL9BEkRMsWmG",
        "L2tLDSc3CW9i",
        "1qPPl_OSCUwi",
        "C7-cBTuFCFQh",
        "u1_Yhs556KXY",
        "k4R-6utuIb2M",
        "8DffU1BXCIJG",
        "gGSiy6-TCLBt",
        "iGhpLdmtCM-A",
        "6ALlQRzNN9DJ"
      ],
      "include_colab_link": true
    },
    "kernelspec": {
      "name": "python3",
      "display_name": "Python 3"
    },
    "language_info": {
      "name": "python"
    },
    "accelerator": "GPU"
  },
  "cells": [
    {
      "cell_type": "markdown",
      "metadata": {
        "id": "view-in-github",
        "colab_type": "text"
      },
      "source": [
        "<a href=\"https://colab.research.google.com/github/chaerui7967/stock_predict_news_and_youtube/blob/master/%ED%98%84%EB%8C%80%EC%B0%A8_%ED%86%B5%ED%95%A9%ED%85%8C%EC%9D%B4%EB%B8%94.ipynb\" target=\"_parent\"><img src=\"https://colab.research.google.com/assets/colab-badge.svg\" alt=\"Open In Colab\"/></a>"
      ]
    },
    {
      "cell_type": "markdown",
      "metadata": {
        "id": "9p_El-emZ2CH"
      },
      "source": [
        "# 오늘 시작"
      ]
    },
    {
      "cell_type": "markdown",
      "metadata": {
        "id": "oSo1anUuB7qh"
      },
      "source": [
        "## 라이브러리 설치"
      ]
    },
    {
      "cell_type": "code",
      "metadata": {
        "colab": {
          "base_uri": "https://localhost:8080/"
        },
        "id": "JDGcQamKBkEK",
        "outputId": "79656982-7429-4b29-84ae-8ef4ba93a188"
      },
      "source": [
        "!pip install finance-datareader\n",
        "!pip install pykrx\n",
        "!pip install pymysql\n",
        "!pip install konlpy\n",
        "from konlpy.tag import Okt\n",
        "okt = Okt()"
      ],
      "execution_count": 1,
      "outputs": [
        {
          "output_type": "stream",
          "name": "stdout",
          "text": [
            "Collecting finance-datareader\n",
            "  Downloading finance_datareader-0.9.31-py3-none-any.whl (17 kB)\n",
            "Requirement already satisfied: pandas>=0.19.2 in /usr/local/lib/python3.7/dist-packages (from finance-datareader) (1.1.5)\n",
            "Collecting requests-file\n",
            "  Downloading requests_file-1.5.1-py2.py3-none-any.whl (3.7 kB)\n",
            "Requirement already satisfied: tqdm in /usr/local/lib/python3.7/dist-packages (from finance-datareader) (4.62.3)\n",
            "Requirement already satisfied: lxml in /usr/local/lib/python3.7/dist-packages (from finance-datareader) (4.2.6)\n",
            "Requirement already satisfied: requests>=2.3.0 in /usr/local/lib/python3.7/dist-packages (from finance-datareader) (2.23.0)\n",
            "Requirement already satisfied: numpy>=1.15.4 in /usr/local/lib/python3.7/dist-packages (from pandas>=0.19.2->finance-datareader) (1.19.5)\n",
            "Requirement already satisfied: pytz>=2017.2 in /usr/local/lib/python3.7/dist-packages (from pandas>=0.19.2->finance-datareader) (2018.9)\n",
            "Requirement already satisfied: python-dateutil>=2.7.3 in /usr/local/lib/python3.7/dist-packages (from pandas>=0.19.2->finance-datareader) (2.8.2)\n",
            "Requirement already satisfied: six>=1.5 in /usr/local/lib/python3.7/dist-packages (from python-dateutil>=2.7.3->pandas>=0.19.2->finance-datareader) (1.15.0)\n",
            "Requirement already satisfied: idna<3,>=2.5 in /usr/local/lib/python3.7/dist-packages (from requests>=2.3.0->finance-datareader) (2.10)\n",
            "Requirement already satisfied: certifi>=2017.4.17 in /usr/local/lib/python3.7/dist-packages (from requests>=2.3.0->finance-datareader) (2021.5.30)\n",
            "Requirement already satisfied: urllib3!=1.25.0,!=1.25.1,<1.26,>=1.21.1 in /usr/local/lib/python3.7/dist-packages (from requests>=2.3.0->finance-datareader) (1.24.3)\n",
            "Requirement already satisfied: chardet<4,>=3.0.2 in /usr/local/lib/python3.7/dist-packages (from requests>=2.3.0->finance-datareader) (3.0.4)\n",
            "Installing collected packages: requests-file, finance-datareader\n",
            "Successfully installed finance-datareader-0.9.31 requests-file-1.5.1\n",
            "Collecting pykrx\n",
            "  Downloading pykrx-1.0.22-py3-none-any.whl (70 kB)\n",
            "\u001b[K     |████████████████████████████████| 70 kB 3.7 MB/s \n",
            "\u001b[?25hRequirement already satisfied: xlrd in /usr/local/lib/python3.7/dist-packages (from pykrx) (1.1.0)\n",
            "Requirement already satisfied: numpy in /usr/local/lib/python3.7/dist-packages (from pykrx) (1.19.5)\n",
            "Collecting deprecated\n",
            "  Downloading Deprecated-1.2.13-py2.py3-none-any.whl (9.6 kB)\n",
            "Requirement already satisfied: pandas in /usr/local/lib/python3.7/dist-packages (from pykrx) (1.1.5)\n",
            "Requirement already satisfied: requests in /usr/local/lib/python3.7/dist-packages (from pykrx) (2.23.0)\n",
            "Collecting datetime\n",
            "  Downloading DateTime-4.3-py2.py3-none-any.whl (60 kB)\n",
            "\u001b[K     |████████████████████████████████| 60 kB 5.2 MB/s \n",
            "\u001b[?25hRequirement already satisfied: pytz in /usr/local/lib/python3.7/dist-packages (from datetime->pykrx) (2018.9)\n",
            "Collecting zope.interface\n",
            "  Downloading zope.interface-5.4.0-cp37-cp37m-manylinux2010_x86_64.whl (251 kB)\n",
            "\u001b[K     |████████████████████████████████| 251 kB 19.6 MB/s \n",
            "\u001b[?25hRequirement already satisfied: wrapt<2,>=1.10 in /usr/local/lib/python3.7/dist-packages (from deprecated->pykrx) (1.12.1)\n",
            "Requirement already satisfied: python-dateutil>=2.7.3 in /usr/local/lib/python3.7/dist-packages (from pandas->pykrx) (2.8.2)\n",
            "Requirement already satisfied: six>=1.5 in /usr/local/lib/python3.7/dist-packages (from python-dateutil>=2.7.3->pandas->pykrx) (1.15.0)\n",
            "Requirement already satisfied: idna<3,>=2.5 in /usr/local/lib/python3.7/dist-packages (from requests->pykrx) (2.10)\n",
            "Requirement already satisfied: urllib3!=1.25.0,!=1.25.1,<1.26,>=1.21.1 in /usr/local/lib/python3.7/dist-packages (from requests->pykrx) (1.24.3)\n",
            "Requirement already satisfied: chardet<4,>=3.0.2 in /usr/local/lib/python3.7/dist-packages (from requests->pykrx) (3.0.4)\n",
            "Requirement already satisfied: certifi>=2017.4.17 in /usr/local/lib/python3.7/dist-packages (from requests->pykrx) (2021.5.30)\n",
            "Requirement already satisfied: setuptools in /usr/local/lib/python3.7/dist-packages (from zope.interface->datetime->pykrx) (57.4.0)\n",
            "Installing collected packages: zope.interface, deprecated, datetime, pykrx\n",
            "Successfully installed datetime-4.3 deprecated-1.2.13 pykrx-1.0.22 zope.interface-5.4.0\n",
            "Collecting pymysql\n",
            "  Downloading PyMySQL-1.0.2-py3-none-any.whl (43 kB)\n",
            "\u001b[K     |████████████████████████████████| 43 kB 1.1 MB/s \n",
            "\u001b[?25hInstalling collected packages: pymysql\n",
            "Successfully installed pymysql-1.0.2\n",
            "Collecting konlpy\n",
            "  Downloading konlpy-0.5.2-py2.py3-none-any.whl (19.4 MB)\n",
            "\u001b[K     |████████████████████████████████| 19.4 MB 1.3 MB/s \n",
            "\u001b[?25hRequirement already satisfied: tweepy>=3.7.0 in /usr/local/lib/python3.7/dist-packages (from konlpy) (3.10.0)\n",
            "Collecting beautifulsoup4==4.6.0\n",
            "  Downloading beautifulsoup4-4.6.0-py3-none-any.whl (86 kB)\n",
            "\u001b[K     |████████████████████████████████| 86 kB 5.7 MB/s \n",
            "\u001b[?25hRequirement already satisfied: numpy>=1.6 in /usr/local/lib/python3.7/dist-packages (from konlpy) (1.19.5)\n",
            "Collecting colorama\n",
            "  Downloading colorama-0.4.4-py2.py3-none-any.whl (16 kB)\n",
            "Requirement already satisfied: lxml>=4.1.0 in /usr/local/lib/python3.7/dist-packages (from konlpy) (4.2.6)\n",
            "Collecting JPype1>=0.7.0\n",
            "  Downloading JPype1-1.3.0-cp37-cp37m-manylinux_2_5_x86_64.manylinux1_x86_64.whl (448 kB)\n",
            "\u001b[K     |████████████████████████████████| 448 kB 44.6 MB/s \n",
            "\u001b[?25hRequirement already satisfied: typing-extensions in /usr/local/lib/python3.7/dist-packages (from JPype1>=0.7.0->konlpy) (3.7.4.3)\n",
            "Requirement already satisfied: six>=1.10.0 in /usr/local/lib/python3.7/dist-packages (from tweepy>=3.7.0->konlpy) (1.15.0)\n",
            "Requirement already satisfied: requests-oauthlib>=0.7.0 in /usr/local/lib/python3.7/dist-packages (from tweepy>=3.7.0->konlpy) (1.3.0)\n",
            "Requirement already satisfied: requests[socks]>=2.11.1 in /usr/local/lib/python3.7/dist-packages (from tweepy>=3.7.0->konlpy) (2.23.0)\n",
            "Requirement already satisfied: oauthlib>=3.0.0 in /usr/local/lib/python3.7/dist-packages (from requests-oauthlib>=0.7.0->tweepy>=3.7.0->konlpy) (3.1.1)\n",
            "Requirement already satisfied: urllib3!=1.25.0,!=1.25.1,<1.26,>=1.21.1 in /usr/local/lib/python3.7/dist-packages (from requests[socks]>=2.11.1->tweepy>=3.7.0->konlpy) (1.24.3)\n",
            "Requirement already satisfied: idna<3,>=2.5 in /usr/local/lib/python3.7/dist-packages (from requests[socks]>=2.11.1->tweepy>=3.7.0->konlpy) (2.10)\n",
            "Requirement already satisfied: chardet<4,>=3.0.2 in /usr/local/lib/python3.7/dist-packages (from requests[socks]>=2.11.1->tweepy>=3.7.0->konlpy) (3.0.4)\n",
            "Requirement already satisfied: certifi>=2017.4.17 in /usr/local/lib/python3.7/dist-packages (from requests[socks]>=2.11.1->tweepy>=3.7.0->konlpy) (2021.5.30)\n",
            "Requirement already satisfied: PySocks!=1.5.7,>=1.5.6 in /usr/local/lib/python3.7/dist-packages (from requests[socks]>=2.11.1->tweepy>=3.7.0->konlpy) (1.7.1)\n",
            "Installing collected packages: JPype1, colorama, beautifulsoup4, konlpy\n",
            "  Attempting uninstall: beautifulsoup4\n",
            "    Found existing installation: beautifulsoup4 4.6.3\n",
            "    Uninstalling beautifulsoup4-4.6.3:\n",
            "      Successfully uninstalled beautifulsoup4-4.6.3\n",
            "Successfully installed JPype1-1.3.0 beautifulsoup4-4.6.0 colorama-0.4.4 konlpy-0.5.2\n"
          ]
        }
      ]
    },
    {
      "cell_type": "markdown",
      "metadata": {
        "id": "uIWZWJXzB-zq"
      },
      "source": [
        "## 패키지 & 함수 로딩"
      ]
    },
    {
      "cell_type": "code",
      "metadata": {
        "id": "nRyE6eTUB-Ip"
      },
      "source": [
        "# 필요 라이브러리\n",
        "import pandas as pd\n",
        "import numpy as np\n",
        "import os\n",
        "import matplotlib.pyplot as plt\n",
        "import seaborn as sns\n",
        "import warnings\n",
        "warnings.filterwarnings('ignore')\n",
        "\n",
        "# 주식가격 로딩\n",
        "import FinanceDataReader as fdr\n",
        "from pykrx import stock\n",
        "\n",
        "import datetime"
      ],
      "execution_count": 2,
      "outputs": []
    },
    {
      "cell_type": "code",
      "metadata": {
        "id": "U6N9-X47FHEB"
      },
      "source": [
        "def money_sur(stock_name, start, end):\n",
        "\n",
        "    start_date = start\n",
        "    end_date = end\n",
        "    sample_code = stock_name\n",
        "\n",
        "    dataset = fdr.DataReader(sample_code, start = start_date, end = end_date )\n",
        "    dataset = dataset.reset_index()\n",
        "    df = stock.get_market_fundamental_by_date(fromdate=start_date, todate=end_date, ticker=sample_code)\n",
        "    df = df.reset_index()\n",
        "    df.columns = ['Date','BPS', 'PER', 'PBR', 'EPS', 'DIV', 'DPS']\n",
        "    data = pd.merge(dataset, df, on='Date')\n",
        "\n",
        "    return data"
      ],
      "execution_count": 3,
      "outputs": []
    },
    {
      "cell_type": "code",
      "metadata": {
        "id": "GyA36zqmJi_8"
      },
      "source": [
        "def reverse_min_max_scaling(org_x, x): #종가 예측값\n",
        "    org_x_np = np.asarray(org_x) \n",
        "    x_np = np.asarray(x)\n",
        "    return (x_np * (org_x_np.max() - org_x_np.min())) + org_x_np.min()"
      ],
      "execution_count": 4,
      "outputs": []
    },
    {
      "cell_type": "markdown",
      "metadata": {
        "id": "Q1eczyQmCgIL"
      },
      "source": [
        "## 통합테이블 생성"
      ]
    },
    {
      "cell_type": "code",
      "metadata": {
        "colab": {
          "base_uri": "https://localhost:8080/"
        },
        "id": "zo30BUrFBYst",
        "outputId": "47f5ca66-e3a2-4620-f712-3cc4dcd397ae"
      },
      "source": [
        "from google.colab import drive\n",
        "\n",
        "drive.mount('/content/drive')"
      ],
      "execution_count": 81,
      "outputs": [
        {
          "output_type": "stream",
          "name": "stdout",
          "text": [
            "Drive already mounted at /content/drive; to attempt to forcibly remount, call drive.mount(\"/content/drive\", force_remount=True).\n"
          ]
        }
      ]
    },
    {
      "cell_type": "code",
      "metadata": {
        "id": "kNTgvJ-DBajc"
      },
      "source": [
        "# total_table = pd.read_csv('/content/drive/My Drive/Final PJT - 업빛투/total_table.csv') # 기존 테이블"
      ],
      "execution_count": 82,
      "outputs": []
    },
    {
      "cell_type": "code",
      "metadata": {
        "id": "g-z94lw_Ci2L"
      },
      "source": [
        "# 구성\n",
        "dic = {'code' : [],\n",
        "       'date' : [],\n",
        "       'lstm' : [],\n",
        "       'arima' : [],\n",
        "       'fbprophet' : [],\n",
        "       'RL' : [],\n",
        "    #    'mail_news' : [],\n",
        "    #    'mail_news_nsi' : [],\n",
        "    #    'asia_news' : [],\n",
        "    #    'asia_news_nsi': [],\n",
        "    #    'youtube_sam' : [],\n",
        "    #    'youtube_su' : [],\n",
        "    #    'youtube_han' : [],\n",
        "       'close' : []}\n",
        "\n",
        "total_table = pd.DataFrame(dic)"
      ],
      "execution_count": 83,
      "outputs": []
    },
    {
      "cell_type": "code",
      "metadata": {
        "colab": {
          "base_uri": "https://localhost:8080/"
        },
        "id": "MHgYFD59RBNq",
        "outputId": "d4492d11-70f9-4397-b92f-7c1ad8b63ea3"
      },
      "source": [
        "total_table.columns"
      ],
      "execution_count": 84,
      "outputs": [
        {
          "output_type": "execute_result",
          "data": {
            "text/plain": [
              "Index(['code', 'date', 'lstm', 'arima', 'fbprophet', 'RL', 'close'], dtype='object')"
            ]
          },
          "metadata": {},
          "execution_count": 84
        }
      ]
    },
    {
      "cell_type": "code",
      "metadata": {
        "colab": {
          "base_uri": "https://localhost:8080/",
          "height": 0
        },
        "id": "EeQzTcqTR3Up",
        "outputId": "65eb87b6-4827-4dc9-c2a1-272486b07201"
      },
      "source": [
        "total_table"
      ],
      "execution_count": 85,
      "outputs": [
        {
          "output_type": "execute_result",
          "data": {
            "text/html": [
              "<div>\n",
              "<style scoped>\n",
              "    .dataframe tbody tr th:only-of-type {\n",
              "        vertical-align: middle;\n",
              "    }\n",
              "\n",
              "    .dataframe tbody tr th {\n",
              "        vertical-align: top;\n",
              "    }\n",
              "\n",
              "    .dataframe thead th {\n",
              "        text-align: right;\n",
              "    }\n",
              "</style>\n",
              "<table border=\"1\" class=\"dataframe\">\n",
              "  <thead>\n",
              "    <tr style=\"text-align: right;\">\n",
              "      <th></th>\n",
              "      <th>code</th>\n",
              "      <th>date</th>\n",
              "      <th>lstm</th>\n",
              "      <th>arima</th>\n",
              "      <th>fbprophet</th>\n",
              "      <th>RL</th>\n",
              "      <th>close</th>\n",
              "    </tr>\n",
              "  </thead>\n",
              "  <tbody>\n",
              "  </tbody>\n",
              "</table>\n",
              "</div>"
            ],
            "text/plain": [
              "Empty DataFrame\n",
              "Columns: [code, date, lstm, arima, fbprophet, RL, close]\n",
              "Index: []"
            ]
          },
          "metadata": {},
          "execution_count": 85
        }
      ]
    },
    {
      "cell_type": "markdown",
      "metadata": {
        "id": "oaz_uBnvBFVu"
      },
      "source": [
        "## LSTM 예측결과"
      ]
    },
    {
      "cell_type": "markdown",
      "metadata": {
        "id": "B6UZxVH1E7TY"
      },
      "source": [
        "### 사용 데이터 로드 및 전처리"
      ]
    },
    {
      "cell_type": "code",
      "metadata": {
        "id": "tEj2-NijBFFS"
      },
      "source": [
        "end_date = datetime.datetime.now().strftime(\"%Y%m%d\")\n",
        "lstm = money_sur('005380', '2018', end_date)"
      ],
      "execution_count": 86,
      "outputs": []
    },
    {
      "cell_type": "code",
      "metadata": {
        "id": "p3_PEPgnA-8K"
      },
      "source": [
        "lstm = lstm.set_index('Date')"
      ],
      "execution_count": 87,
      "outputs": []
    },
    {
      "cell_type": "code",
      "metadata": {
        "colab": {
          "base_uri": "https://localhost:8080/",
          "height": 0
        },
        "id": "TdwqufgvGH3Z",
        "outputId": "453c49f1-a1f2-4402-d1bc-85ca88793b38"
      },
      "source": [
        "lstm.head()"
      ],
      "execution_count": 88,
      "outputs": [
        {
          "output_type": "execute_result",
          "data": {
            "text/html": [
              "<div>\n",
              "<style scoped>\n",
              "    .dataframe tbody tr th:only-of-type {\n",
              "        vertical-align: middle;\n",
              "    }\n",
              "\n",
              "    .dataframe tbody tr th {\n",
              "        vertical-align: top;\n",
              "    }\n",
              "\n",
              "    .dataframe thead th {\n",
              "        text-align: right;\n",
              "    }\n",
              "</style>\n",
              "<table border=\"1\" class=\"dataframe\">\n",
              "  <thead>\n",
              "    <tr style=\"text-align: right;\">\n",
              "      <th></th>\n",
              "      <th>Open</th>\n",
              "      <th>High</th>\n",
              "      <th>Low</th>\n",
              "      <th>Close</th>\n",
              "      <th>Volume</th>\n",
              "      <th>Change</th>\n",
              "      <th>BPS</th>\n",
              "      <th>PER</th>\n",
              "      <th>PBR</th>\n",
              "      <th>EPS</th>\n",
              "      <th>DIV</th>\n",
              "      <th>DPS</th>\n",
              "    </tr>\n",
              "    <tr>\n",
              "      <th>Date</th>\n",
              "      <th></th>\n",
              "      <th></th>\n",
              "      <th></th>\n",
              "      <th></th>\n",
              "      <th></th>\n",
              "      <th></th>\n",
              "      <th></th>\n",
              "      <th></th>\n",
              "      <th></th>\n",
              "      <th></th>\n",
              "      <th></th>\n",
              "      <th></th>\n",
              "    </tr>\n",
              "  </thead>\n",
              "  <tbody>\n",
              "    <tr>\n",
              "      <th>2018-01-02</th>\n",
              "      <td>150500</td>\n",
              "      <td>153000</td>\n",
              "      <td>149000</td>\n",
              "      <td>149500</td>\n",
              "      <td>731763</td>\n",
              "      <td>-0.041667</td>\n",
              "      <td>235358</td>\n",
              "      <td>7.43</td>\n",
              "      <td>0.64</td>\n",
              "      <td>20118</td>\n",
              "      <td>2.68</td>\n",
              "      <td>4000</td>\n",
              "    </tr>\n",
              "    <tr>\n",
              "      <th>2018-01-03</th>\n",
              "      <td>149000</td>\n",
              "      <td>151000</td>\n",
              "      <td>149000</td>\n",
              "      <td>150500</td>\n",
              "      <td>450874</td>\n",
              "      <td>0.006689</td>\n",
              "      <td>235358</td>\n",
              "      <td>7.48</td>\n",
              "      <td>0.64</td>\n",
              "      <td>20118</td>\n",
              "      <td>2.66</td>\n",
              "      <td>4000</td>\n",
              "    </tr>\n",
              "    <tr>\n",
              "      <th>2018-01-04</th>\n",
              "      <td>150500</td>\n",
              "      <td>151000</td>\n",
              "      <td>146000</td>\n",
              "      <td>146500</td>\n",
              "      <td>931558</td>\n",
              "      <td>-0.026578</td>\n",
              "      <td>235358</td>\n",
              "      <td>7.28</td>\n",
              "      <td>0.62</td>\n",
              "      <td>20118</td>\n",
              "      <td>2.73</td>\n",
              "      <td>4000</td>\n",
              "    </tr>\n",
              "    <tr>\n",
              "      <th>2018-01-05</th>\n",
              "      <td>146000</td>\n",
              "      <td>149000</td>\n",
              "      <td>145500</td>\n",
              "      <td>149000</td>\n",
              "      <td>463695</td>\n",
              "      <td>0.017065</td>\n",
              "      <td>235358</td>\n",
              "      <td>7.41</td>\n",
              "      <td>0.63</td>\n",
              "      <td>20118</td>\n",
              "      <td>2.68</td>\n",
              "      <td>4000</td>\n",
              "    </tr>\n",
              "    <tr>\n",
              "      <th>2018-01-08</th>\n",
              "      <td>148500</td>\n",
              "      <td>151000</td>\n",
              "      <td>147500</td>\n",
              "      <td>151000</td>\n",
              "      <td>482619</td>\n",
              "      <td>0.013423</td>\n",
              "      <td>235358</td>\n",
              "      <td>7.51</td>\n",
              "      <td>0.64</td>\n",
              "      <td>20118</td>\n",
              "      <td>2.65</td>\n",
              "      <td>4000</td>\n",
              "    </tr>\n",
              "  </tbody>\n",
              "</table>\n",
              "</div>"
            ],
            "text/plain": [
              "              Open    High     Low   Close  ...   PBR    EPS   DIV   DPS\n",
              "Date                                        ...                         \n",
              "2018-01-02  150500  153000  149000  149500  ...  0.64  20118  2.68  4000\n",
              "2018-01-03  149000  151000  149000  150500  ...  0.64  20118  2.66  4000\n",
              "2018-01-04  150500  151000  146000  146500  ...  0.62  20118  2.73  4000\n",
              "2018-01-05  146000  149000  145500  149000  ...  0.63  20118  2.68  4000\n",
              "2018-01-08  148500  151000  147500  151000  ...  0.64  20118  2.65  4000\n",
              "\n",
              "[5 rows x 12 columns]"
            ]
          },
          "metadata": {},
          "execution_count": 88
        }
      ]
    },
    {
      "cell_type": "code",
      "metadata": {
        "id": "QOJW2w31GeLT"
      },
      "source": [
        "# 스케일링\n",
        "from sklearn.preprocessing import MinMaxScaler\n",
        "\n",
        "sc = MinMaxScaler()\n",
        "lstm_sc = sc.fit_transform(lstm)"
      ],
      "execution_count": 89,
      "outputs": []
    },
    {
      "cell_type": "code",
      "metadata": {
        "id": "ttVPZrWlHymj"
      },
      "source": [
        "scale_cols = lstm.columns\n",
        "lstm_sc_df = pd.DataFrame(lstm_sc, columns=[scale_cols], index=lstm.index)"
      ],
      "execution_count": 90,
      "outputs": []
    },
    {
      "cell_type": "code",
      "metadata": {
        "colab": {
          "base_uri": "https://localhost:8080/",
          "height": 0
        },
        "id": "rKBqQj-OIN_e",
        "outputId": "6bebec54-4a1a-43fd-8560-c88ba67a2744"
      },
      "source": [
        "lstm_sc_df.head()"
      ],
      "execution_count": 91,
      "outputs": [
        {
          "output_type": "execute_result",
          "data": {
            "text/html": [
              "<div>\n",
              "<style scoped>\n",
              "    .dataframe tbody tr th:only-of-type {\n",
              "        vertical-align: middle;\n",
              "    }\n",
              "\n",
              "    .dataframe tbody tr th {\n",
              "        vertical-align: top;\n",
              "    }\n",
              "\n",
              "    .dataframe thead tr th {\n",
              "        text-align: left;\n",
              "    }\n",
              "\n",
              "    .dataframe thead tr:last-of-type th {\n",
              "        text-align: right;\n",
              "    }\n",
              "</style>\n",
              "<table border=\"1\" class=\"dataframe\">\n",
              "  <thead>\n",
              "    <tr>\n",
              "      <th></th>\n",
              "      <th>Open</th>\n",
              "      <th>High</th>\n",
              "      <th>Low</th>\n",
              "      <th>Close</th>\n",
              "      <th>Volume</th>\n",
              "      <th>Change</th>\n",
              "      <th>BPS</th>\n",
              "      <th>PER</th>\n",
              "      <th>PBR</th>\n",
              "      <th>EPS</th>\n",
              "      <th>DIV</th>\n",
              "      <th>DPS</th>\n",
              "    </tr>\n",
              "    <tr>\n",
              "      <th>Date</th>\n",
              "      <th></th>\n",
              "      <th></th>\n",
              "      <th></th>\n",
              "      <th></th>\n",
              "      <th></th>\n",
              "      <th></th>\n",
              "      <th></th>\n",
              "      <th></th>\n",
              "      <th></th>\n",
              "      <th></th>\n",
              "      <th></th>\n",
              "      <th></th>\n",
              "    </tr>\n",
              "  </thead>\n",
              "  <tbody>\n",
              "    <tr>\n",
              "      <th>2018-01-02</th>\n",
              "      <td>0.408734</td>\n",
              "      <td>0.376147</td>\n",
              "      <td>0.431877</td>\n",
              "      <td>0.414683</td>\n",
              "      <td>0.027945</td>\n",
              "      <td>0.207458</td>\n",
              "      <td>0.0</td>\n",
              "      <td>0.032241</td>\n",
              "      <td>0.468354</td>\n",
              "      <td>1.0</td>\n",
              "      <td>0.299587</td>\n",
              "      <td>1.0</td>\n",
              "    </tr>\n",
              "    <tr>\n",
              "      <th>2018-01-03</th>\n",
              "      <td>0.401374</td>\n",
              "      <td>0.366972</td>\n",
              "      <td>0.431877</td>\n",
              "      <td>0.419643</td>\n",
              "      <td>0.013725</td>\n",
              "      <td>0.369957</td>\n",
              "      <td>0.0</td>\n",
              "      <td>0.033541</td>\n",
              "      <td>0.468354</td>\n",
              "      <td>1.0</td>\n",
              "      <td>0.295455</td>\n",
              "      <td>1.0</td>\n",
              "    </tr>\n",
              "    <tr>\n",
              "      <th>2018-01-04</th>\n",
              "      <td>0.408734</td>\n",
              "      <td>0.366972</td>\n",
              "      <td>0.416452</td>\n",
              "      <td>0.399802</td>\n",
              "      <td>0.038059</td>\n",
              "      <td>0.258163</td>\n",
              "      <td>0.0</td>\n",
              "      <td>0.028341</td>\n",
              "      <td>0.443038</td>\n",
              "      <td>1.0</td>\n",
              "      <td>0.309917</td>\n",
              "      <td>1.0</td>\n",
              "    </tr>\n",
              "    <tr>\n",
              "      <th>2018-01-05</th>\n",
              "      <td>0.386654</td>\n",
              "      <td>0.357798</td>\n",
              "      <td>0.413882</td>\n",
              "      <td>0.412202</td>\n",
              "      <td>0.014374</td>\n",
              "      <td>0.404825</td>\n",
              "      <td>0.0</td>\n",
              "      <td>0.031721</td>\n",
              "      <td>0.455696</td>\n",
              "      <td>1.0</td>\n",
              "      <td>0.299587</td>\n",
              "      <td>1.0</td>\n",
              "    </tr>\n",
              "    <tr>\n",
              "      <th>2018-01-08</th>\n",
              "      <td>0.398921</td>\n",
              "      <td>0.366972</td>\n",
              "      <td>0.424165</td>\n",
              "      <td>0.422123</td>\n",
              "      <td>0.015332</td>\n",
              "      <td>0.392586</td>\n",
              "      <td>0.0</td>\n",
              "      <td>0.034321</td>\n",
              "      <td>0.468354</td>\n",
              "      <td>1.0</td>\n",
              "      <td>0.293388</td>\n",
              "      <td>1.0</td>\n",
              "    </tr>\n",
              "  </tbody>\n",
              "</table>\n",
              "</div>"
            ],
            "text/plain": [
              "                Open      High       Low  ...  EPS       DIV  DPS\n",
              "Date                                      ...                    \n",
              "2018-01-02  0.408734  0.376147  0.431877  ...  1.0  0.299587  1.0\n",
              "2018-01-03  0.401374  0.366972  0.431877  ...  1.0  0.295455  1.0\n",
              "2018-01-04  0.408734  0.366972  0.416452  ...  1.0  0.309917  1.0\n",
              "2018-01-05  0.386654  0.357798  0.413882  ...  1.0  0.299587  1.0\n",
              "2018-01-08  0.398921  0.366972  0.424165  ...  1.0  0.293388  1.0\n",
              "\n",
              "[5 rows x 12 columns]"
            ]
          },
          "metadata": {},
          "execution_count": 91
        }
      ]
    },
    {
      "cell_type": "code",
      "metadata": {
        "id": "RnM8B5FTIPOG"
      },
      "source": [
        "for i in scale_cols:\n",
        "  for s in range(1, 11):  \n",
        "    lstm_sc_df[(i+'shift_{}'.format(s),)] = lstm_sc_df[(i,)].shift(s)"
      ],
      "execution_count": 92,
      "outputs": []
    },
    {
      "cell_type": "code",
      "metadata": {
        "colab": {
          "base_uri": "https://localhost:8080/",
          "height": 0
        },
        "id": "yobHfrosTr5Y",
        "outputId": "963b5ca5-37e1-4989-b76e-3347f0ef4abc"
      },
      "source": [
        "lstm_sc_df.dropna()"
      ],
      "execution_count": 93,
      "outputs": [
        {
          "output_type": "execute_result",
          "data": {
            "text/html": [
              "<div>\n",
              "<style scoped>\n",
              "    .dataframe tbody tr th:only-of-type {\n",
              "        vertical-align: middle;\n",
              "    }\n",
              "\n",
              "    .dataframe tbody tr th {\n",
              "        vertical-align: top;\n",
              "    }\n",
              "\n",
              "    .dataframe thead tr th {\n",
              "        text-align: left;\n",
              "    }\n",
              "\n",
              "    .dataframe thead tr:last-of-type th {\n",
              "        text-align: right;\n",
              "    }\n",
              "</style>\n",
              "<table border=\"1\" class=\"dataframe\">\n",
              "  <thead>\n",
              "    <tr>\n",
              "      <th></th>\n",
              "      <th>Open</th>\n",
              "      <th>High</th>\n",
              "      <th>Low</th>\n",
              "      <th>Close</th>\n",
              "      <th>Volume</th>\n",
              "      <th>Change</th>\n",
              "      <th>BPS</th>\n",
              "      <th>PER</th>\n",
              "      <th>PBR</th>\n",
              "      <th>EPS</th>\n",
              "      <th>DIV</th>\n",
              "      <th>DPS</th>\n",
              "      <th>Openshift_1</th>\n",
              "      <th>Openshift_2</th>\n",
              "      <th>Openshift_3</th>\n",
              "      <th>Openshift_4</th>\n",
              "      <th>Openshift_5</th>\n",
              "      <th>Openshift_6</th>\n",
              "      <th>Openshift_7</th>\n",
              "      <th>Openshift_8</th>\n",
              "      <th>Openshift_9</th>\n",
              "      <th>Openshift_10</th>\n",
              "      <th>Highshift_1</th>\n",
              "      <th>Highshift_2</th>\n",
              "      <th>Highshift_3</th>\n",
              "      <th>Highshift_4</th>\n",
              "      <th>Highshift_5</th>\n",
              "      <th>Highshift_6</th>\n",
              "      <th>Highshift_7</th>\n",
              "      <th>Highshift_8</th>\n",
              "      <th>Highshift_9</th>\n",
              "      <th>Highshift_10</th>\n",
              "      <th>Lowshift_1</th>\n",
              "      <th>Lowshift_2</th>\n",
              "      <th>Lowshift_3</th>\n",
              "      <th>Lowshift_4</th>\n",
              "      <th>Lowshift_5</th>\n",
              "      <th>Lowshift_6</th>\n",
              "      <th>Lowshift_7</th>\n",
              "      <th>Lowshift_8</th>\n",
              "      <th>...</th>\n",
              "      <th>PBRshift_1</th>\n",
              "      <th>PBRshift_2</th>\n",
              "      <th>PBRshift_3</th>\n",
              "      <th>PBRshift_4</th>\n",
              "      <th>PBRshift_5</th>\n",
              "      <th>PBRshift_6</th>\n",
              "      <th>PBRshift_7</th>\n",
              "      <th>PBRshift_8</th>\n",
              "      <th>PBRshift_9</th>\n",
              "      <th>PBRshift_10</th>\n",
              "      <th>EPSshift_1</th>\n",
              "      <th>EPSshift_2</th>\n",
              "      <th>EPSshift_3</th>\n",
              "      <th>EPSshift_4</th>\n",
              "      <th>EPSshift_5</th>\n",
              "      <th>EPSshift_6</th>\n",
              "      <th>EPSshift_7</th>\n",
              "      <th>EPSshift_8</th>\n",
              "      <th>EPSshift_9</th>\n",
              "      <th>EPSshift_10</th>\n",
              "      <th>DIVshift_1</th>\n",
              "      <th>DIVshift_2</th>\n",
              "      <th>DIVshift_3</th>\n",
              "      <th>DIVshift_4</th>\n",
              "      <th>DIVshift_5</th>\n",
              "      <th>DIVshift_6</th>\n",
              "      <th>DIVshift_7</th>\n",
              "      <th>DIVshift_8</th>\n",
              "      <th>DIVshift_9</th>\n",
              "      <th>DIVshift_10</th>\n",
              "      <th>DPSshift_1</th>\n",
              "      <th>DPSshift_2</th>\n",
              "      <th>DPSshift_3</th>\n",
              "      <th>DPSshift_4</th>\n",
              "      <th>DPSshift_5</th>\n",
              "      <th>DPSshift_6</th>\n",
              "      <th>DPSshift_7</th>\n",
              "      <th>DPSshift_8</th>\n",
              "      <th>DPSshift_9</th>\n",
              "      <th>DPSshift_10</th>\n",
              "    </tr>\n",
              "    <tr>\n",
              "      <th>Date</th>\n",
              "      <th></th>\n",
              "      <th></th>\n",
              "      <th></th>\n",
              "      <th></th>\n",
              "      <th></th>\n",
              "      <th></th>\n",
              "      <th></th>\n",
              "      <th></th>\n",
              "      <th></th>\n",
              "      <th></th>\n",
              "      <th></th>\n",
              "      <th></th>\n",
              "      <th></th>\n",
              "      <th></th>\n",
              "      <th></th>\n",
              "      <th></th>\n",
              "      <th></th>\n",
              "      <th></th>\n",
              "      <th></th>\n",
              "      <th></th>\n",
              "      <th></th>\n",
              "      <th></th>\n",
              "      <th></th>\n",
              "      <th></th>\n",
              "      <th></th>\n",
              "      <th></th>\n",
              "      <th></th>\n",
              "      <th></th>\n",
              "      <th></th>\n",
              "      <th></th>\n",
              "      <th></th>\n",
              "      <th></th>\n",
              "      <th></th>\n",
              "      <th></th>\n",
              "      <th></th>\n",
              "      <th></th>\n",
              "      <th></th>\n",
              "      <th></th>\n",
              "      <th></th>\n",
              "      <th></th>\n",
              "      <th></th>\n",
              "      <th></th>\n",
              "      <th></th>\n",
              "      <th></th>\n",
              "      <th></th>\n",
              "      <th></th>\n",
              "      <th></th>\n",
              "      <th></th>\n",
              "      <th></th>\n",
              "      <th></th>\n",
              "      <th></th>\n",
              "      <th></th>\n",
              "      <th></th>\n",
              "      <th></th>\n",
              "      <th></th>\n",
              "      <th></th>\n",
              "      <th></th>\n",
              "      <th></th>\n",
              "      <th></th>\n",
              "      <th></th>\n",
              "      <th></th>\n",
              "      <th></th>\n",
              "      <th></th>\n",
              "      <th></th>\n",
              "      <th></th>\n",
              "      <th></th>\n",
              "      <th></th>\n",
              "      <th></th>\n",
              "      <th></th>\n",
              "      <th></th>\n",
              "      <th></th>\n",
              "      <th></th>\n",
              "      <th></th>\n",
              "      <th></th>\n",
              "      <th></th>\n",
              "      <th></th>\n",
              "      <th></th>\n",
              "      <th></th>\n",
              "      <th></th>\n",
              "      <th></th>\n",
              "      <th></th>\n",
              "    </tr>\n",
              "  </thead>\n",
              "  <tbody>\n",
              "    <tr>\n",
              "      <th>2018-01-16</th>\n",
              "      <td>0.423454</td>\n",
              "      <td>0.399083</td>\n",
              "      <td>0.452442</td>\n",
              "      <td>0.456845</td>\n",
              "      <td>0.013202</td>\n",
              "      <td>0.412520</td>\n",
              "      <td>0.000000</td>\n",
              "      <td>0.043162</td>\n",
              "      <td>0.506329</td>\n",
              "      <td>1.0</td>\n",
              "      <td>0.268595</td>\n",
              "      <td>1.0</td>\n",
              "      <td>0.425908</td>\n",
              "      <td>0.423454</td>\n",
              "      <td>0.435721</td>\n",
              "      <td>0.418548</td>\n",
              "      <td>0.411187</td>\n",
              "      <td>0.398921</td>\n",
              "      <td>0.386654</td>\n",
              "      <td>0.408734</td>\n",
              "      <td>0.401374</td>\n",
              "      <td>0.408734</td>\n",
              "      <td>0.385321</td>\n",
              "      <td>0.389908</td>\n",
              "      <td>0.392202</td>\n",
              "      <td>0.399083</td>\n",
              "      <td>0.373853</td>\n",
              "      <td>0.366972</td>\n",
              "      <td>0.357798</td>\n",
              "      <td>0.366972</td>\n",
              "      <td>0.366972</td>\n",
              "      <td>0.376147</td>\n",
              "      <td>0.442159</td>\n",
              "      <td>0.455013</td>\n",
              "      <td>0.449871</td>\n",
              "      <td>0.447301</td>\n",
              "      <td>0.434447</td>\n",
              "      <td>0.424165</td>\n",
              "      <td>0.413882</td>\n",
              "      <td>0.416452</td>\n",
              "      <td>...</td>\n",
              "      <td>0.493671</td>\n",
              "      <td>0.481013</td>\n",
              "      <td>0.493671</td>\n",
              "      <td>0.493671</td>\n",
              "      <td>0.481013</td>\n",
              "      <td>0.468354</td>\n",
              "      <td>0.455696</td>\n",
              "      <td>0.443038</td>\n",
              "      <td>0.468354</td>\n",
              "      <td>0.468354</td>\n",
              "      <td>1.0</td>\n",
              "      <td>1.0</td>\n",
              "      <td>1.0</td>\n",
              "      <td>1.0</td>\n",
              "      <td>1.0</td>\n",
              "      <td>1.0</td>\n",
              "      <td>1.0</td>\n",
              "      <td>1.0</td>\n",
              "      <td>1.0</td>\n",
              "      <td>1.0</td>\n",
              "      <td>0.278926</td>\n",
              "      <td>0.283058</td>\n",
              "      <td>0.278926</td>\n",
              "      <td>0.276859</td>\n",
              "      <td>0.287190</td>\n",
              "      <td>0.293388</td>\n",
              "      <td>0.299587</td>\n",
              "      <td>0.309917</td>\n",
              "      <td>0.295455</td>\n",
              "      <td>0.299587</td>\n",
              "      <td>1.0</td>\n",
              "      <td>1.0</td>\n",
              "      <td>1.0</td>\n",
              "      <td>1.0</td>\n",
              "      <td>1.0</td>\n",
              "      <td>1.0</td>\n",
              "      <td>1.0</td>\n",
              "      <td>1.0</td>\n",
              "      <td>1.0</td>\n",
              "      <td>1.0</td>\n",
              "    </tr>\n",
              "    <tr>\n",
              "      <th>2018-01-17</th>\n",
              "      <td>0.440628</td>\n",
              "      <td>0.403670</td>\n",
              "      <td>0.467866</td>\n",
              "      <td>0.454365</td>\n",
              "      <td>0.009278</td>\n",
              "      <td>0.336844</td>\n",
              "      <td>0.000000</td>\n",
              "      <td>0.042642</td>\n",
              "      <td>0.506329</td>\n",
              "      <td>1.0</td>\n",
              "      <td>0.270661</td>\n",
              "      <td>1.0</td>\n",
              "      <td>0.423454</td>\n",
              "      <td>0.425908</td>\n",
              "      <td>0.423454</td>\n",
              "      <td>0.435721</td>\n",
              "      <td>0.418548</td>\n",
              "      <td>0.411187</td>\n",
              "      <td>0.398921</td>\n",
              "      <td>0.386654</td>\n",
              "      <td>0.408734</td>\n",
              "      <td>0.401374</td>\n",
              "      <td>0.399083</td>\n",
              "      <td>0.385321</td>\n",
              "      <td>0.389908</td>\n",
              "      <td>0.392202</td>\n",
              "      <td>0.399083</td>\n",
              "      <td>0.373853</td>\n",
              "      <td>0.366972</td>\n",
              "      <td>0.357798</td>\n",
              "      <td>0.366972</td>\n",
              "      <td>0.366972</td>\n",
              "      <td>0.452442</td>\n",
              "      <td>0.442159</td>\n",
              "      <td>0.455013</td>\n",
              "      <td>0.449871</td>\n",
              "      <td>0.447301</td>\n",
              "      <td>0.434447</td>\n",
              "      <td>0.424165</td>\n",
              "      <td>0.413882</td>\n",
              "      <td>...</td>\n",
              "      <td>0.506329</td>\n",
              "      <td>0.493671</td>\n",
              "      <td>0.481013</td>\n",
              "      <td>0.493671</td>\n",
              "      <td>0.493671</td>\n",
              "      <td>0.481013</td>\n",
              "      <td>0.468354</td>\n",
              "      <td>0.455696</td>\n",
              "      <td>0.443038</td>\n",
              "      <td>0.468354</td>\n",
              "      <td>1.0</td>\n",
              "      <td>1.0</td>\n",
              "      <td>1.0</td>\n",
              "      <td>1.0</td>\n",
              "      <td>1.0</td>\n",
              "      <td>1.0</td>\n",
              "      <td>1.0</td>\n",
              "      <td>1.0</td>\n",
              "      <td>1.0</td>\n",
              "      <td>1.0</td>\n",
              "      <td>0.268595</td>\n",
              "      <td>0.278926</td>\n",
              "      <td>0.283058</td>\n",
              "      <td>0.278926</td>\n",
              "      <td>0.276859</td>\n",
              "      <td>0.287190</td>\n",
              "      <td>0.293388</td>\n",
              "      <td>0.299587</td>\n",
              "      <td>0.309917</td>\n",
              "      <td>0.295455</td>\n",
              "      <td>1.0</td>\n",
              "      <td>1.0</td>\n",
              "      <td>1.0</td>\n",
              "      <td>1.0</td>\n",
              "      <td>1.0</td>\n",
              "      <td>1.0</td>\n",
              "      <td>1.0</td>\n",
              "      <td>1.0</td>\n",
              "      <td>1.0</td>\n",
              "      <td>1.0</td>\n",
              "    </tr>\n",
              "    <tr>\n",
              "      <th>2018-01-18</th>\n",
              "      <td>0.443081</td>\n",
              "      <td>0.399083</td>\n",
              "      <td>0.457584</td>\n",
              "      <td>0.441964</td>\n",
              "      <td>0.007337</td>\n",
              "      <td>0.294138</td>\n",
              "      <td>0.000000</td>\n",
              "      <td>0.039262</td>\n",
              "      <td>0.493671</td>\n",
              "      <td>1.0</td>\n",
              "      <td>0.278926</td>\n",
              "      <td>1.0</td>\n",
              "      <td>0.440628</td>\n",
              "      <td>0.423454</td>\n",
              "      <td>0.425908</td>\n",
              "      <td>0.423454</td>\n",
              "      <td>0.435721</td>\n",
              "      <td>0.418548</td>\n",
              "      <td>0.411187</td>\n",
              "      <td>0.398921</td>\n",
              "      <td>0.386654</td>\n",
              "      <td>0.408734</td>\n",
              "      <td>0.403670</td>\n",
              "      <td>0.399083</td>\n",
              "      <td>0.385321</td>\n",
              "      <td>0.389908</td>\n",
              "      <td>0.392202</td>\n",
              "      <td>0.399083</td>\n",
              "      <td>0.373853</td>\n",
              "      <td>0.366972</td>\n",
              "      <td>0.357798</td>\n",
              "      <td>0.366972</td>\n",
              "      <td>0.467866</td>\n",
              "      <td>0.452442</td>\n",
              "      <td>0.442159</td>\n",
              "      <td>0.455013</td>\n",
              "      <td>0.449871</td>\n",
              "      <td>0.447301</td>\n",
              "      <td>0.434447</td>\n",
              "      <td>0.424165</td>\n",
              "      <td>...</td>\n",
              "      <td>0.506329</td>\n",
              "      <td>0.506329</td>\n",
              "      <td>0.493671</td>\n",
              "      <td>0.481013</td>\n",
              "      <td>0.493671</td>\n",
              "      <td>0.493671</td>\n",
              "      <td>0.481013</td>\n",
              "      <td>0.468354</td>\n",
              "      <td>0.455696</td>\n",
              "      <td>0.443038</td>\n",
              "      <td>1.0</td>\n",
              "      <td>1.0</td>\n",
              "      <td>1.0</td>\n",
              "      <td>1.0</td>\n",
              "      <td>1.0</td>\n",
              "      <td>1.0</td>\n",
              "      <td>1.0</td>\n",
              "      <td>1.0</td>\n",
              "      <td>1.0</td>\n",
              "      <td>1.0</td>\n",
              "      <td>0.270661</td>\n",
              "      <td>0.268595</td>\n",
              "      <td>0.278926</td>\n",
              "      <td>0.283058</td>\n",
              "      <td>0.278926</td>\n",
              "      <td>0.276859</td>\n",
              "      <td>0.287190</td>\n",
              "      <td>0.293388</td>\n",
              "      <td>0.299587</td>\n",
              "      <td>0.309917</td>\n",
              "      <td>1.0</td>\n",
              "      <td>1.0</td>\n",
              "      <td>1.0</td>\n",
              "      <td>1.0</td>\n",
              "      <td>1.0</td>\n",
              "      <td>1.0</td>\n",
              "      <td>1.0</td>\n",
              "      <td>1.0</td>\n",
              "      <td>1.0</td>\n",
              "      <td>1.0</td>\n",
              "    </tr>\n",
              "    <tr>\n",
              "      <th>2018-01-19</th>\n",
              "      <td>0.430815</td>\n",
              "      <td>0.417431</td>\n",
              "      <td>0.460154</td>\n",
              "      <td>0.476687</td>\n",
              "      <td>0.023160</td>\n",
              "      <td>0.499243</td>\n",
              "      <td>0.000000</td>\n",
              "      <td>0.048362</td>\n",
              "      <td>0.531646</td>\n",
              "      <td>1.0</td>\n",
              "      <td>0.256198</td>\n",
              "      <td>1.0</td>\n",
              "      <td>0.443081</td>\n",
              "      <td>0.440628</td>\n",
              "      <td>0.423454</td>\n",
              "      <td>0.425908</td>\n",
              "      <td>0.423454</td>\n",
              "      <td>0.435721</td>\n",
              "      <td>0.418548</td>\n",
              "      <td>0.411187</td>\n",
              "      <td>0.398921</td>\n",
              "      <td>0.386654</td>\n",
              "      <td>0.399083</td>\n",
              "      <td>0.403670</td>\n",
              "      <td>0.399083</td>\n",
              "      <td>0.385321</td>\n",
              "      <td>0.389908</td>\n",
              "      <td>0.392202</td>\n",
              "      <td>0.399083</td>\n",
              "      <td>0.373853</td>\n",
              "      <td>0.366972</td>\n",
              "      <td>0.357798</td>\n",
              "      <td>0.457584</td>\n",
              "      <td>0.467866</td>\n",
              "      <td>0.452442</td>\n",
              "      <td>0.442159</td>\n",
              "      <td>0.455013</td>\n",
              "      <td>0.449871</td>\n",
              "      <td>0.447301</td>\n",
              "      <td>0.434447</td>\n",
              "      <td>...</td>\n",
              "      <td>0.493671</td>\n",
              "      <td>0.506329</td>\n",
              "      <td>0.506329</td>\n",
              "      <td>0.493671</td>\n",
              "      <td>0.481013</td>\n",
              "      <td>0.493671</td>\n",
              "      <td>0.493671</td>\n",
              "      <td>0.481013</td>\n",
              "      <td>0.468354</td>\n",
              "      <td>0.455696</td>\n",
              "      <td>1.0</td>\n",
              "      <td>1.0</td>\n",
              "      <td>1.0</td>\n",
              "      <td>1.0</td>\n",
              "      <td>1.0</td>\n",
              "      <td>1.0</td>\n",
              "      <td>1.0</td>\n",
              "      <td>1.0</td>\n",
              "      <td>1.0</td>\n",
              "      <td>1.0</td>\n",
              "      <td>0.278926</td>\n",
              "      <td>0.270661</td>\n",
              "      <td>0.268595</td>\n",
              "      <td>0.278926</td>\n",
              "      <td>0.283058</td>\n",
              "      <td>0.278926</td>\n",
              "      <td>0.276859</td>\n",
              "      <td>0.287190</td>\n",
              "      <td>0.293388</td>\n",
              "      <td>0.299587</td>\n",
              "      <td>1.0</td>\n",
              "      <td>1.0</td>\n",
              "      <td>1.0</td>\n",
              "      <td>1.0</td>\n",
              "      <td>1.0</td>\n",
              "      <td>1.0</td>\n",
              "      <td>1.0</td>\n",
              "      <td>1.0</td>\n",
              "      <td>1.0</td>\n",
              "      <td>1.0</td>\n",
              "    </tr>\n",
              "    <tr>\n",
              "      <th>2018-01-22</th>\n",
              "      <td>0.467615</td>\n",
              "      <td>0.426606</td>\n",
              "      <td>0.480720</td>\n",
              "      <td>0.479167</td>\n",
              "      <td>0.020389</td>\n",
              "      <td>0.357851</td>\n",
              "      <td>0.000000</td>\n",
              "      <td>0.049142</td>\n",
              "      <td>0.531646</td>\n",
              "      <td>1.0</td>\n",
              "      <td>0.254132</td>\n",
              "      <td>1.0</td>\n",
              "      <td>0.430815</td>\n",
              "      <td>0.443081</td>\n",
              "      <td>0.440628</td>\n",
              "      <td>0.423454</td>\n",
              "      <td>0.425908</td>\n",
              "      <td>0.423454</td>\n",
              "      <td>0.435721</td>\n",
              "      <td>0.418548</td>\n",
              "      <td>0.411187</td>\n",
              "      <td>0.398921</td>\n",
              "      <td>0.417431</td>\n",
              "      <td>0.399083</td>\n",
              "      <td>0.403670</td>\n",
              "      <td>0.399083</td>\n",
              "      <td>0.385321</td>\n",
              "      <td>0.389908</td>\n",
              "      <td>0.392202</td>\n",
              "      <td>0.399083</td>\n",
              "      <td>0.373853</td>\n",
              "      <td>0.366972</td>\n",
              "      <td>0.460154</td>\n",
              "      <td>0.457584</td>\n",
              "      <td>0.467866</td>\n",
              "      <td>0.452442</td>\n",
              "      <td>0.442159</td>\n",
              "      <td>0.455013</td>\n",
              "      <td>0.449871</td>\n",
              "      <td>0.447301</td>\n",
              "      <td>...</td>\n",
              "      <td>0.531646</td>\n",
              "      <td>0.493671</td>\n",
              "      <td>0.506329</td>\n",
              "      <td>0.506329</td>\n",
              "      <td>0.493671</td>\n",
              "      <td>0.481013</td>\n",
              "      <td>0.493671</td>\n",
              "      <td>0.493671</td>\n",
              "      <td>0.481013</td>\n",
              "      <td>0.468354</td>\n",
              "      <td>1.0</td>\n",
              "      <td>1.0</td>\n",
              "      <td>1.0</td>\n",
              "      <td>1.0</td>\n",
              "      <td>1.0</td>\n",
              "      <td>1.0</td>\n",
              "      <td>1.0</td>\n",
              "      <td>1.0</td>\n",
              "      <td>1.0</td>\n",
              "      <td>1.0</td>\n",
              "      <td>0.256198</td>\n",
              "      <td>0.278926</td>\n",
              "      <td>0.270661</td>\n",
              "      <td>0.268595</td>\n",
              "      <td>0.278926</td>\n",
              "      <td>0.283058</td>\n",
              "      <td>0.278926</td>\n",
              "      <td>0.276859</td>\n",
              "      <td>0.287190</td>\n",
              "      <td>0.293388</td>\n",
              "      <td>1.0</td>\n",
              "      <td>1.0</td>\n",
              "      <td>1.0</td>\n",
              "      <td>1.0</td>\n",
              "      <td>1.0</td>\n",
              "      <td>1.0</td>\n",
              "      <td>1.0</td>\n",
              "      <td>1.0</td>\n",
              "      <td>1.0</td>\n",
              "      <td>1.0</td>\n",
              "    </tr>\n",
              "    <tr>\n",
              "      <th>...</th>\n",
              "      <td>...</td>\n",
              "      <td>...</td>\n",
              "      <td>...</td>\n",
              "      <td>...</td>\n",
              "      <td>...</td>\n",
              "      <td>...</td>\n",
              "      <td>...</td>\n",
              "      <td>...</td>\n",
              "      <td>...</td>\n",
              "      <td>...</td>\n",
              "      <td>...</td>\n",
              "      <td>...</td>\n",
              "      <td>...</td>\n",
              "      <td>...</td>\n",
              "      <td>...</td>\n",
              "      <td>...</td>\n",
              "      <td>...</td>\n",
              "      <td>...</td>\n",
              "      <td>...</td>\n",
              "      <td>...</td>\n",
              "      <td>...</td>\n",
              "      <td>...</td>\n",
              "      <td>...</td>\n",
              "      <td>...</td>\n",
              "      <td>...</td>\n",
              "      <td>...</td>\n",
              "      <td>...</td>\n",
              "      <td>...</td>\n",
              "      <td>...</td>\n",
              "      <td>...</td>\n",
              "      <td>...</td>\n",
              "      <td>...</td>\n",
              "      <td>...</td>\n",
              "      <td>...</td>\n",
              "      <td>...</td>\n",
              "      <td>...</td>\n",
              "      <td>...</td>\n",
              "      <td>...</td>\n",
              "      <td>...</td>\n",
              "      <td>...</td>\n",
              "      <td>...</td>\n",
              "      <td>...</td>\n",
              "      <td>...</td>\n",
              "      <td>...</td>\n",
              "      <td>...</td>\n",
              "      <td>...</td>\n",
              "      <td>...</td>\n",
              "      <td>...</td>\n",
              "      <td>...</td>\n",
              "      <td>...</td>\n",
              "      <td>...</td>\n",
              "      <td>...</td>\n",
              "      <td>...</td>\n",
              "      <td>...</td>\n",
              "      <td>...</td>\n",
              "      <td>...</td>\n",
              "      <td>...</td>\n",
              "      <td>...</td>\n",
              "      <td>...</td>\n",
              "      <td>...</td>\n",
              "      <td>...</td>\n",
              "      <td>...</td>\n",
              "      <td>...</td>\n",
              "      <td>...</td>\n",
              "      <td>...</td>\n",
              "      <td>...</td>\n",
              "      <td>...</td>\n",
              "      <td>...</td>\n",
              "      <td>...</td>\n",
              "      <td>...</td>\n",
              "      <td>...</td>\n",
              "      <td>...</td>\n",
              "      <td>...</td>\n",
              "      <td>...</td>\n",
              "      <td>...</td>\n",
              "      <td>...</td>\n",
              "      <td>...</td>\n",
              "      <td>...</td>\n",
              "      <td>...</td>\n",
              "      <td>...</td>\n",
              "      <td>...</td>\n",
              "    </tr>\n",
              "    <tr>\n",
              "      <th>2021-09-28</th>\n",
              "      <td>0.671246</td>\n",
              "      <td>0.610092</td>\n",
              "      <td>0.696658</td>\n",
              "      <td>0.672619</td>\n",
              "      <td>0.027330</td>\n",
              "      <td>0.306296</td>\n",
              "      <td>0.880236</td>\n",
              "      <td>0.799792</td>\n",
              "      <td>0.670886</td>\n",
              "      <td>0.0</td>\n",
              "      <td>0.053719</td>\n",
              "      <td>0.0</td>\n",
              "      <td>0.676153</td>\n",
              "      <td>0.698234</td>\n",
              "      <td>0.676153</td>\n",
              "      <td>0.690873</td>\n",
              "      <td>0.700687</td>\n",
              "      <td>0.690873</td>\n",
              "      <td>0.683513</td>\n",
              "      <td>0.683513</td>\n",
              "      <td>0.693327</td>\n",
              "      <td>0.712954</td>\n",
              "      <td>0.619266</td>\n",
              "      <td>0.639908</td>\n",
              "      <td>0.633028</td>\n",
              "      <td>0.637615</td>\n",
              "      <td>0.642202</td>\n",
              "      <td>0.644495</td>\n",
              "      <td>0.644495</td>\n",
              "      <td>0.621560</td>\n",
              "      <td>0.635321</td>\n",
              "      <td>0.649083</td>\n",
              "      <td>0.712082</td>\n",
              "      <td>0.724936</td>\n",
              "      <td>0.717224</td>\n",
              "      <td>0.730077</td>\n",
              "      <td>0.727506</td>\n",
              "      <td>0.735219</td>\n",
              "      <td>0.724936</td>\n",
              "      <td>0.714653</td>\n",
              "      <td>...</td>\n",
              "      <td>0.683544</td>\n",
              "      <td>0.708861</td>\n",
              "      <td>0.708861</td>\n",
              "      <td>0.708861</td>\n",
              "      <td>0.708861</td>\n",
              "      <td>0.721519</td>\n",
              "      <td>0.708861</td>\n",
              "      <td>0.696203</td>\n",
              "      <td>0.696203</td>\n",
              "      <td>0.708861</td>\n",
              "      <td>0.0</td>\n",
              "      <td>0.0</td>\n",
              "      <td>0.0</td>\n",
              "      <td>0.0</td>\n",
              "      <td>0.0</td>\n",
              "      <td>0.0</td>\n",
              "      <td>0.0</td>\n",
              "      <td>0.0</td>\n",
              "      <td>0.0</td>\n",
              "      <td>0.0</td>\n",
              "      <td>0.049587</td>\n",
              "      <td>0.045455</td>\n",
              "      <td>0.043388</td>\n",
              "      <td>0.043388</td>\n",
              "      <td>0.043388</td>\n",
              "      <td>0.041322</td>\n",
              "      <td>0.043388</td>\n",
              "      <td>0.047521</td>\n",
              "      <td>0.045455</td>\n",
              "      <td>0.043388</td>\n",
              "      <td>0.0</td>\n",
              "      <td>0.0</td>\n",
              "      <td>0.0</td>\n",
              "      <td>0.0</td>\n",
              "      <td>0.0</td>\n",
              "      <td>0.0</td>\n",
              "      <td>0.0</td>\n",
              "      <td>0.0</td>\n",
              "      <td>0.0</td>\n",
              "      <td>0.0</td>\n",
              "    </tr>\n",
              "    <tr>\n",
              "      <th>2021-09-29</th>\n",
              "      <td>0.639352</td>\n",
              "      <td>0.600917</td>\n",
              "      <td>0.681234</td>\n",
              "      <td>0.672619</td>\n",
              "      <td>0.038206</td>\n",
              "      <td>0.347479</td>\n",
              "      <td>0.880236</td>\n",
              "      <td>0.799792</td>\n",
              "      <td>0.670886</td>\n",
              "      <td>0.0</td>\n",
              "      <td>0.053719</td>\n",
              "      <td>0.0</td>\n",
              "      <td>0.671246</td>\n",
              "      <td>0.676153</td>\n",
              "      <td>0.698234</td>\n",
              "      <td>0.676153</td>\n",
              "      <td>0.690873</td>\n",
              "      <td>0.700687</td>\n",
              "      <td>0.690873</td>\n",
              "      <td>0.683513</td>\n",
              "      <td>0.683513</td>\n",
              "      <td>0.693327</td>\n",
              "      <td>0.610092</td>\n",
              "      <td>0.619266</td>\n",
              "      <td>0.639908</td>\n",
              "      <td>0.633028</td>\n",
              "      <td>0.637615</td>\n",
              "      <td>0.642202</td>\n",
              "      <td>0.644495</td>\n",
              "      <td>0.644495</td>\n",
              "      <td>0.621560</td>\n",
              "      <td>0.635321</td>\n",
              "      <td>0.696658</td>\n",
              "      <td>0.712082</td>\n",
              "      <td>0.724936</td>\n",
              "      <td>0.717224</td>\n",
              "      <td>0.730077</td>\n",
              "      <td>0.727506</td>\n",
              "      <td>0.735219</td>\n",
              "      <td>0.724936</td>\n",
              "      <td>...</td>\n",
              "      <td>0.670886</td>\n",
              "      <td>0.683544</td>\n",
              "      <td>0.708861</td>\n",
              "      <td>0.708861</td>\n",
              "      <td>0.708861</td>\n",
              "      <td>0.708861</td>\n",
              "      <td>0.721519</td>\n",
              "      <td>0.708861</td>\n",
              "      <td>0.696203</td>\n",
              "      <td>0.696203</td>\n",
              "      <td>0.0</td>\n",
              "      <td>0.0</td>\n",
              "      <td>0.0</td>\n",
              "      <td>0.0</td>\n",
              "      <td>0.0</td>\n",
              "      <td>0.0</td>\n",
              "      <td>0.0</td>\n",
              "      <td>0.0</td>\n",
              "      <td>0.0</td>\n",
              "      <td>0.0</td>\n",
              "      <td>0.053719</td>\n",
              "      <td>0.049587</td>\n",
              "      <td>0.045455</td>\n",
              "      <td>0.043388</td>\n",
              "      <td>0.043388</td>\n",
              "      <td>0.043388</td>\n",
              "      <td>0.041322</td>\n",
              "      <td>0.043388</td>\n",
              "      <td>0.047521</td>\n",
              "      <td>0.045455</td>\n",
              "      <td>0.0</td>\n",
              "      <td>0.0</td>\n",
              "      <td>0.0</td>\n",
              "      <td>0.0</td>\n",
              "      <td>0.0</td>\n",
              "      <td>0.0</td>\n",
              "      <td>0.0</td>\n",
              "      <td>0.0</td>\n",
              "      <td>0.0</td>\n",
              "      <td>0.0</td>\n",
              "    </tr>\n",
              "    <tr>\n",
              "      <th>2021-09-30</th>\n",
              "      <td>0.651619</td>\n",
              "      <td>0.596330</td>\n",
              "      <td>0.688946</td>\n",
              "      <td>0.665179</td>\n",
              "      <td>0.021004</td>\n",
              "      <td>0.322463</td>\n",
              "      <td>0.880236</td>\n",
              "      <td>0.792512</td>\n",
              "      <td>0.670886</td>\n",
              "      <td>0.0</td>\n",
              "      <td>0.055785</td>\n",
              "      <td>0.0</td>\n",
              "      <td>0.639352</td>\n",
              "      <td>0.671246</td>\n",
              "      <td>0.676153</td>\n",
              "      <td>0.698234</td>\n",
              "      <td>0.676153</td>\n",
              "      <td>0.690873</td>\n",
              "      <td>0.700687</td>\n",
              "      <td>0.690873</td>\n",
              "      <td>0.683513</td>\n",
              "      <td>0.683513</td>\n",
              "      <td>0.600917</td>\n",
              "      <td>0.610092</td>\n",
              "      <td>0.619266</td>\n",
              "      <td>0.639908</td>\n",
              "      <td>0.633028</td>\n",
              "      <td>0.637615</td>\n",
              "      <td>0.642202</td>\n",
              "      <td>0.644495</td>\n",
              "      <td>0.644495</td>\n",
              "      <td>0.621560</td>\n",
              "      <td>0.681234</td>\n",
              "      <td>0.696658</td>\n",
              "      <td>0.712082</td>\n",
              "      <td>0.724936</td>\n",
              "      <td>0.717224</td>\n",
              "      <td>0.730077</td>\n",
              "      <td>0.727506</td>\n",
              "      <td>0.735219</td>\n",
              "      <td>...</td>\n",
              "      <td>0.670886</td>\n",
              "      <td>0.670886</td>\n",
              "      <td>0.683544</td>\n",
              "      <td>0.708861</td>\n",
              "      <td>0.708861</td>\n",
              "      <td>0.708861</td>\n",
              "      <td>0.708861</td>\n",
              "      <td>0.721519</td>\n",
              "      <td>0.708861</td>\n",
              "      <td>0.696203</td>\n",
              "      <td>0.0</td>\n",
              "      <td>0.0</td>\n",
              "      <td>0.0</td>\n",
              "      <td>0.0</td>\n",
              "      <td>0.0</td>\n",
              "      <td>0.0</td>\n",
              "      <td>0.0</td>\n",
              "      <td>0.0</td>\n",
              "      <td>0.0</td>\n",
              "      <td>0.0</td>\n",
              "      <td>0.053719</td>\n",
              "      <td>0.053719</td>\n",
              "      <td>0.049587</td>\n",
              "      <td>0.045455</td>\n",
              "      <td>0.043388</td>\n",
              "      <td>0.043388</td>\n",
              "      <td>0.043388</td>\n",
              "      <td>0.041322</td>\n",
              "      <td>0.043388</td>\n",
              "      <td>0.047521</td>\n",
              "      <td>0.0</td>\n",
              "      <td>0.0</td>\n",
              "      <td>0.0</td>\n",
              "      <td>0.0</td>\n",
              "      <td>0.0</td>\n",
              "      <td>0.0</td>\n",
              "      <td>0.0</td>\n",
              "      <td>0.0</td>\n",
              "      <td>0.0</td>\n",
              "      <td>0.0</td>\n",
              "    </tr>\n",
              "    <tr>\n",
              "      <th>2021-10-01</th>\n",
              "      <td>0.641806</td>\n",
              "      <td>0.587156</td>\n",
              "      <td>0.652956</td>\n",
              "      <td>0.632937</td>\n",
              "      <td>0.050758</td>\n",
              "      <td>0.238263</td>\n",
              "      <td>0.880236</td>\n",
              "      <td>0.761570</td>\n",
              "      <td>0.632911</td>\n",
              "      <td>0.0</td>\n",
              "      <td>0.066116</td>\n",
              "      <td>0.0</td>\n",
              "      <td>0.651619</td>\n",
              "      <td>0.639352</td>\n",
              "      <td>0.671246</td>\n",
              "      <td>0.676153</td>\n",
              "      <td>0.698234</td>\n",
              "      <td>0.676153</td>\n",
              "      <td>0.690873</td>\n",
              "      <td>0.700687</td>\n",
              "      <td>0.690873</td>\n",
              "      <td>0.683513</td>\n",
              "      <td>0.596330</td>\n",
              "      <td>0.600917</td>\n",
              "      <td>0.610092</td>\n",
              "      <td>0.619266</td>\n",
              "      <td>0.639908</td>\n",
              "      <td>0.633028</td>\n",
              "      <td>0.637615</td>\n",
              "      <td>0.642202</td>\n",
              "      <td>0.644495</td>\n",
              "      <td>0.644495</td>\n",
              "      <td>0.688946</td>\n",
              "      <td>0.681234</td>\n",
              "      <td>0.696658</td>\n",
              "      <td>0.712082</td>\n",
              "      <td>0.724936</td>\n",
              "      <td>0.717224</td>\n",
              "      <td>0.730077</td>\n",
              "      <td>0.727506</td>\n",
              "      <td>...</td>\n",
              "      <td>0.670886</td>\n",
              "      <td>0.670886</td>\n",
              "      <td>0.670886</td>\n",
              "      <td>0.683544</td>\n",
              "      <td>0.708861</td>\n",
              "      <td>0.708861</td>\n",
              "      <td>0.708861</td>\n",
              "      <td>0.708861</td>\n",
              "      <td>0.721519</td>\n",
              "      <td>0.708861</td>\n",
              "      <td>0.0</td>\n",
              "      <td>0.0</td>\n",
              "      <td>0.0</td>\n",
              "      <td>0.0</td>\n",
              "      <td>0.0</td>\n",
              "      <td>0.0</td>\n",
              "      <td>0.0</td>\n",
              "      <td>0.0</td>\n",
              "      <td>0.0</td>\n",
              "      <td>0.0</td>\n",
              "      <td>0.055785</td>\n",
              "      <td>0.053719</td>\n",
              "      <td>0.053719</td>\n",
              "      <td>0.049587</td>\n",
              "      <td>0.045455</td>\n",
              "      <td>0.043388</td>\n",
              "      <td>0.043388</td>\n",
              "      <td>0.043388</td>\n",
              "      <td>0.041322</td>\n",
              "      <td>0.043388</td>\n",
              "      <td>0.0</td>\n",
              "      <td>0.0</td>\n",
              "      <td>0.0</td>\n",
              "      <td>0.0</td>\n",
              "      <td>0.0</td>\n",
              "      <td>0.0</td>\n",
              "      <td>0.0</td>\n",
              "      <td>0.0</td>\n",
              "      <td>0.0</td>\n",
              "      <td>0.0</td>\n",
              "    </tr>\n",
              "    <tr>\n",
              "      <th>2021-10-05</th>\n",
              "      <td>0.607458</td>\n",
              "      <td>0.566514</td>\n",
              "      <td>0.637532</td>\n",
              "      <td>0.635417</td>\n",
              "      <td>0.027770</td>\n",
              "      <td>0.356162</td>\n",
              "      <td>0.880236</td>\n",
              "      <td>0.761570</td>\n",
              "      <td>0.632911</td>\n",
              "      <td>0.0</td>\n",
              "      <td>0.066116</td>\n",
              "      <td>0.0</td>\n",
              "      <td>0.641806</td>\n",
              "      <td>0.651619</td>\n",
              "      <td>0.639352</td>\n",
              "      <td>0.671246</td>\n",
              "      <td>0.676153</td>\n",
              "      <td>0.698234</td>\n",
              "      <td>0.676153</td>\n",
              "      <td>0.690873</td>\n",
              "      <td>0.700687</td>\n",
              "      <td>0.690873</td>\n",
              "      <td>0.587156</td>\n",
              "      <td>0.596330</td>\n",
              "      <td>0.600917</td>\n",
              "      <td>0.610092</td>\n",
              "      <td>0.619266</td>\n",
              "      <td>0.639908</td>\n",
              "      <td>0.633028</td>\n",
              "      <td>0.637615</td>\n",
              "      <td>0.642202</td>\n",
              "      <td>0.644495</td>\n",
              "      <td>0.652956</td>\n",
              "      <td>0.688946</td>\n",
              "      <td>0.681234</td>\n",
              "      <td>0.696658</td>\n",
              "      <td>0.712082</td>\n",
              "      <td>0.724936</td>\n",
              "      <td>0.717224</td>\n",
              "      <td>0.730077</td>\n",
              "      <td>...</td>\n",
              "      <td>0.632911</td>\n",
              "      <td>0.670886</td>\n",
              "      <td>0.670886</td>\n",
              "      <td>0.670886</td>\n",
              "      <td>0.683544</td>\n",
              "      <td>0.708861</td>\n",
              "      <td>0.708861</td>\n",
              "      <td>0.708861</td>\n",
              "      <td>0.708861</td>\n",
              "      <td>0.721519</td>\n",
              "      <td>0.0</td>\n",
              "      <td>0.0</td>\n",
              "      <td>0.0</td>\n",
              "      <td>0.0</td>\n",
              "      <td>0.0</td>\n",
              "      <td>0.0</td>\n",
              "      <td>0.0</td>\n",
              "      <td>0.0</td>\n",
              "      <td>0.0</td>\n",
              "      <td>0.0</td>\n",
              "      <td>0.066116</td>\n",
              "      <td>0.055785</td>\n",
              "      <td>0.053719</td>\n",
              "      <td>0.053719</td>\n",
              "      <td>0.049587</td>\n",
              "      <td>0.045455</td>\n",
              "      <td>0.043388</td>\n",
              "      <td>0.043388</td>\n",
              "      <td>0.043388</td>\n",
              "      <td>0.041322</td>\n",
              "      <td>0.0</td>\n",
              "      <td>0.0</td>\n",
              "      <td>0.0</td>\n",
              "      <td>0.0</td>\n",
              "      <td>0.0</td>\n",
              "      <td>0.0</td>\n",
              "      <td>0.0</td>\n",
              "      <td>0.0</td>\n",
              "      <td>0.0</td>\n",
              "      <td>0.0</td>\n",
              "    </tr>\n",
              "  </tbody>\n",
              "</table>\n",
              "<p>915 rows × 132 columns</p>\n",
              "</div>"
            ],
            "text/plain": [
              "                Open      High       Low  ... DPSshift_8 DPSshift_9 DPSshift_10\n",
              "Date                                      ...                                  \n",
              "2018-01-16  0.423454  0.399083  0.452442  ...        1.0        1.0         1.0\n",
              "2018-01-17  0.440628  0.403670  0.467866  ...        1.0        1.0         1.0\n",
              "2018-01-18  0.443081  0.399083  0.457584  ...        1.0        1.0         1.0\n",
              "2018-01-19  0.430815  0.417431  0.460154  ...        1.0        1.0         1.0\n",
              "2018-01-22  0.467615  0.426606  0.480720  ...        1.0        1.0         1.0\n",
              "...              ...       ...       ...  ...        ...        ...         ...\n",
              "2021-09-28  0.671246  0.610092  0.696658  ...        0.0        0.0         0.0\n",
              "2021-09-29  0.639352  0.600917  0.681234  ...        0.0        0.0         0.0\n",
              "2021-09-30  0.651619  0.596330  0.688946  ...        0.0        0.0         0.0\n",
              "2021-10-01  0.641806  0.587156  0.652956  ...        0.0        0.0         0.0\n",
              "2021-10-05  0.607458  0.566514  0.637532  ...        0.0        0.0         0.0\n",
              "\n",
              "[915 rows x 132 columns]"
            ]
          },
          "metadata": {},
          "execution_count": 93
        }
      ]
    },
    {
      "cell_type": "code",
      "metadata": {
        "id": "fFR7O0ZZIucF"
      },
      "source": [
        "X_test = lstm_sc_df.dropna().drop(columns=scale_cols, axis=1)\n",
        "y_test = lstm_sc_df.dropna()[['Close']]\n",
        "\n",
        "X_test= X_test.values\n",
        "y_test = y_test.values"
      ],
      "execution_count": 94,
      "outputs": []
    },
    {
      "cell_type": "code",
      "metadata": {
        "id": "-Oihl75rTe6P",
        "colab": {
          "base_uri": "https://localhost:8080/"
        },
        "outputId": "a1889326-3685-4bf9-c6a7-ece621ea3381"
      },
      "source": [
        "X_test"
      ],
      "execution_count": 95,
      "outputs": [
        {
          "output_type": "execute_result",
          "data": {
            "text/plain": [
              "array([[0.42590775, 0.42345437, 0.4357213 , ..., 1.        , 1.        ,\n",
              "        1.        ],\n",
              "       [0.42345437, 0.42590775, 0.42345437, ..., 1.        , 1.        ,\n",
              "        1.        ],\n",
              "       [0.44062807, 0.42345437, 0.42590775, ..., 1.        , 1.        ,\n",
              "        1.        ],\n",
              "       ...,\n",
              "       [0.63935231, 0.67124632, 0.67615309, ..., 0.        , 0.        ,\n",
              "        0.        ],\n",
              "       [0.65161923, 0.63935231, 0.67124632, ..., 0.        , 0.        ,\n",
              "        0.        ],\n",
              "       [0.64180569, 0.65161923, 0.63935231, ..., 0.        , 0.        ,\n",
              "        0.        ]])"
            ]
          },
          "metadata": {},
          "execution_count": 95
        }
      ]
    },
    {
      "cell_type": "code",
      "metadata": {
        "id": "NQwrkFheIv-D"
      },
      "source": [
        "X_test_t = X_test.reshape(X_test.shape[0], 10, 12)"
      ],
      "execution_count": 96,
      "outputs": []
    },
    {
      "cell_type": "markdown",
      "metadata": {
        "id": "8NsrjY_-J-T7"
      },
      "source": [
        "### 모델 로드"
      ]
    },
    {
      "cell_type": "code",
      "metadata": {
        "id": "fffkGKBdKkuj"
      },
      "source": [
        "from tensorflow.keras.models import Sequential\n",
        "from tensorflow.keras.layers import Dense, LSTM, Conv1D, Lambda, Flatten, Dropout\n",
        "from tensorflow.keras.losses import Huber\n",
        "from tensorflow.keras.optimizers import Adam\n",
        "from tensorflow.keras.callbacks import EarlyStopping, ModelCheckpoint\n",
        "\n",
        "model = Sequential()\n",
        "\n",
        "model.add(LSTM(64,\n",
        "               input_shape = (10, 12),\n",
        "               return_sequences= True))\n",
        "model.add(Dropout(0.2))\n",
        "model.add(Dense(32, activation = 'relu'))\n",
        "model.add(LSTM(64,\n",
        "               input_shape = (10, 12),\n",
        "               return_sequences= True))\n",
        "model.add(Dropout(0.2))\n",
        "model.add(Dense(32, activation = 'tanh'))\n",
        "model.add(LSTM(64,\n",
        "               return_sequences = False))\n",
        "model.add(Dropout(0.2))\n",
        "model.add(Flatten())\n",
        "model.add(Dense(100, activation = 'relu'))\n",
        "model.add(Dense(32, activation = 'relu'))\n",
        "model.add(Dense(1))\n",
        "\n",
        "\n",
        "lstm_path = '/content/drive/My Drive/Final PJT - 업빛투/Regression/LSTM/'\n",
        "hun_lstm = 'lstm_hundai.h5'\n",
        "\n",
        "model.load_weights(lstm_path+hun_lstm)"
      ],
      "execution_count": 97,
      "outputs": []
    },
    {
      "cell_type": "markdown",
      "metadata": {
        "id": "xFQPPn7-WNKQ"
      },
      "source": [
        "### 모델 결과"
      ]
    },
    {
      "cell_type": "code",
      "metadata": {
        "id": "N6E0CjPrJNKy"
      },
      "source": [
        "pred = model.predict(X_test_t)"
      ],
      "execution_count": 98,
      "outputs": []
    },
    {
      "cell_type": "code",
      "metadata": {
        "colab": {
          "base_uri": "https://localhost:8080/"
        },
        "id": "NouIJTKYTQM_",
        "outputId": "6c796d2e-a4a5-4b1f-c1a2-8b841e814a51"
      },
      "source": [
        "pred.shape, y_test.shape"
      ],
      "execution_count": 99,
      "outputs": [
        {
          "output_type": "execute_result",
          "data": {
            "text/plain": [
              "((915, 1), (915, 1))"
            ]
          },
          "metadata": {},
          "execution_count": 99
        }
      ]
    },
    {
      "cell_type": "code",
      "metadata": {
        "id": "CgMZiVU8V5JE"
      },
      "source": [
        "pred_act = reverse_min_max_scaling(lstm['Close'], pred)"
      ],
      "execution_count": 100,
      "outputs": []
    },
    {
      "cell_type": "code",
      "metadata": {
        "id": "faMBmTMKV8fg"
      },
      "source": [
        "total_table['date'] = lstm.index[10:]\n",
        "total_table['lstm'] = pred_act[:]\n",
        "total_table['close'] = lstm.Close[10:].values.reshape(-1,1)\n",
        "total_table['code'] = '005380'\n",
        "total_table['change'] = lstm.Change[10:].values.reshape(-1,1)"
      ],
      "execution_count": 101,
      "outputs": []
    },
    {
      "cell_type": "code",
      "metadata": {
        "colab": {
          "base_uri": "https://localhost:8080/",
          "height": 0
        },
        "id": "w3H1gkfHWUvx",
        "outputId": "3f3ad26b-1a00-4afa-c8e3-8a30c54b462f"
      },
      "source": [
        "total_table"
      ],
      "execution_count": 102,
      "outputs": [
        {
          "output_type": "execute_result",
          "data": {
            "text/html": [
              "<div>\n",
              "<style scoped>\n",
              "    .dataframe tbody tr th:only-of-type {\n",
              "        vertical-align: middle;\n",
              "    }\n",
              "\n",
              "    .dataframe tbody tr th {\n",
              "        vertical-align: top;\n",
              "    }\n",
              "\n",
              "    .dataframe thead th {\n",
              "        text-align: right;\n",
              "    }\n",
              "</style>\n",
              "<table border=\"1\" class=\"dataframe\">\n",
              "  <thead>\n",
              "    <tr style=\"text-align: right;\">\n",
              "      <th></th>\n",
              "      <th>code</th>\n",
              "      <th>date</th>\n",
              "      <th>lstm</th>\n",
              "      <th>arima</th>\n",
              "      <th>fbprophet</th>\n",
              "      <th>RL</th>\n",
              "      <th>close</th>\n",
              "      <th>change</th>\n",
              "    </tr>\n",
              "  </thead>\n",
              "  <tbody>\n",
              "    <tr>\n",
              "      <th>0</th>\n",
              "      <td>005380</td>\n",
              "      <td>2018-01-16</td>\n",
              "      <td>135282.672119</td>\n",
              "      <td>NaN</td>\n",
              "      <td>NaN</td>\n",
              "      <td>NaN</td>\n",
              "      <td>158000</td>\n",
              "      <td>0.019355</td>\n",
              "    </tr>\n",
              "    <tr>\n",
              "      <th>1</th>\n",
              "      <td>005380</td>\n",
              "      <td>2018-01-17</td>\n",
              "      <td>137288.666630</td>\n",
              "      <td>NaN</td>\n",
              "      <td>NaN</td>\n",
              "      <td>NaN</td>\n",
              "      <td>157500</td>\n",
              "      <td>-0.003165</td>\n",
              "    </tr>\n",
              "    <tr>\n",
              "      <th>2</th>\n",
              "      <td>005380</td>\n",
              "      <td>2018-01-18</td>\n",
              "      <td>137463.437653</td>\n",
              "      <td>NaN</td>\n",
              "      <td>NaN</td>\n",
              "      <td>NaN</td>\n",
              "      <td>155000</td>\n",
              "      <td>-0.015873</td>\n",
              "    </tr>\n",
              "    <tr>\n",
              "      <th>3</th>\n",
              "      <td>005380</td>\n",
              "      <td>2018-01-19</td>\n",
              "      <td>137928.306103</td>\n",
              "      <td>NaN</td>\n",
              "      <td>NaN</td>\n",
              "      <td>NaN</td>\n",
              "      <td>162000</td>\n",
              "      <td>0.045161</td>\n",
              "    </tr>\n",
              "    <tr>\n",
              "      <th>4</th>\n",
              "      <td>005380</td>\n",
              "      <td>2018-01-22</td>\n",
              "      <td>138916.832733</td>\n",
              "      <td>NaN</td>\n",
              "      <td>NaN</td>\n",
              "      <td>NaN</td>\n",
              "      <td>162500</td>\n",
              "      <td>0.003086</td>\n",
              "    </tr>\n",
              "    <tr>\n",
              "      <th>...</th>\n",
              "      <td>...</td>\n",
              "      <td>...</td>\n",
              "      <td>...</td>\n",
              "      <td>...</td>\n",
              "      <td>...</td>\n",
              "      <td>...</td>\n",
              "      <td>...</td>\n",
              "      <td>...</td>\n",
              "    </tr>\n",
              "    <tr>\n",
              "      <th>910</th>\n",
              "      <td>005380</td>\n",
              "      <td>2021-09-28</td>\n",
              "      <td>198528.249168</td>\n",
              "      <td>NaN</td>\n",
              "      <td>NaN</td>\n",
              "      <td>NaN</td>\n",
              "      <td>201500</td>\n",
              "      <td>-0.012255</td>\n",
              "    </tr>\n",
              "    <tr>\n",
              "      <th>911</th>\n",
              "      <td>005380</td>\n",
              "      <td>2021-09-29</td>\n",
              "      <td>197831.760597</td>\n",
              "      <td>NaN</td>\n",
              "      <td>NaN</td>\n",
              "      <td>NaN</td>\n",
              "      <td>201500</td>\n",
              "      <td>0.000000</td>\n",
              "    </tr>\n",
              "    <tr>\n",
              "      <th>912</th>\n",
              "      <td>005380</td>\n",
              "      <td>2021-09-30</td>\n",
              "      <td>197023.460388</td>\n",
              "      <td>NaN</td>\n",
              "      <td>NaN</td>\n",
              "      <td>NaN</td>\n",
              "      <td>200000</td>\n",
              "      <td>-0.007444</td>\n",
              "    </tr>\n",
              "    <tr>\n",
              "      <th>913</th>\n",
              "      <td>005380</td>\n",
              "      <td>2021-10-01</td>\n",
              "      <td>196401.989555</td>\n",
              "      <td>NaN</td>\n",
              "      <td>NaN</td>\n",
              "      <td>NaN</td>\n",
              "      <td>193500</td>\n",
              "      <td>-0.032500</td>\n",
              "    </tr>\n",
              "    <tr>\n",
              "      <th>914</th>\n",
              "      <td>005380</td>\n",
              "      <td>2021-10-05</td>\n",
              "      <td>194057.489967</td>\n",
              "      <td>NaN</td>\n",
              "      <td>NaN</td>\n",
              "      <td>NaN</td>\n",
              "      <td>194000</td>\n",
              "      <td>0.002584</td>\n",
              "    </tr>\n",
              "  </tbody>\n",
              "</table>\n",
              "<p>915 rows × 8 columns</p>\n",
              "</div>"
            ],
            "text/plain": [
              "       code       date           lstm  arima  fbprophet  RL   close    change\n",
              "0    005380 2018-01-16  135282.672119    NaN        NaN NaN  158000  0.019355\n",
              "1    005380 2018-01-17  137288.666630    NaN        NaN NaN  157500 -0.003165\n",
              "2    005380 2018-01-18  137463.437653    NaN        NaN NaN  155000 -0.015873\n",
              "3    005380 2018-01-19  137928.306103    NaN        NaN NaN  162000  0.045161\n",
              "4    005380 2018-01-22  138916.832733    NaN        NaN NaN  162500  0.003086\n",
              "..      ...        ...            ...    ...        ...  ..     ...       ...\n",
              "910  005380 2021-09-28  198528.249168    NaN        NaN NaN  201500 -0.012255\n",
              "911  005380 2021-09-29  197831.760597    NaN        NaN NaN  201500  0.000000\n",
              "912  005380 2021-09-30  197023.460388    NaN        NaN NaN  200000 -0.007444\n",
              "913  005380 2021-10-01  196401.989555    NaN        NaN NaN  193500 -0.032500\n",
              "914  005380 2021-10-05  194057.489967    NaN        NaN NaN  194000  0.002584\n",
              "\n",
              "[915 rows x 8 columns]"
            ]
          },
          "metadata": {},
          "execution_count": 102
        }
      ]
    },
    {
      "cell_type": "markdown",
      "metadata": {
        "id": "6aFFB6afaI0J"
      },
      "source": [
        "## arima 예측결과"
      ]
    },
    {
      "cell_type": "code",
      "metadata": {
        "id": "1zqe-qX7bz6P"
      },
      "source": [
        "end_date = datetime.datetime.now().strftime(\"%Y%m%d\")\n",
        "samsung_df = money_sur('005380', '2015', end_date)"
      ],
      "execution_count": 103,
      "outputs": []
    },
    {
      "cell_type": "code",
      "metadata": {
        "id": "Ugpwn7L2Wpfl"
      },
      "source": [
        "df = samsung_df[['Date','Close']]\n",
        "df.columns = ['Date', 'Price']"
      ],
      "execution_count": 104,
      "outputs": []
    },
    {
      "cell_type": "code",
      "metadata": {
        "colab": {
          "base_uri": "https://localhost:8080/"
        },
        "id": "Hpmm_hD0kUw7",
        "outputId": "43135ba1-a8c9-4136-e593-dd9085bb5f1a"
      },
      "source": [
        "len(total_table['arima'])"
      ],
      "execution_count": 105,
      "outputs": [
        {
          "output_type": "execute_result",
          "data": {
            "text/plain": [
              "915"
            ]
          },
          "metadata": {},
          "execution_count": 105
        }
      ]
    },
    {
      "cell_type": "code",
      "metadata": {
        "colab": {
          "base_uri": "https://localhost:8080/",
          "height": 422
        },
        "id": "nYja3zDRcEFt",
        "outputId": "2262e161-89a6-4761-9f76-993917e43757"
      },
      "source": [
        "from statsmodels.tsa.arima_model import ARIMA\n",
        "import statsmodels.api as sm\n",
        "# 학습, 테스트 데이터 분리\n",
        "for ru in range(-len(total_table),0):\n",
        "    rus = ru+1\n",
        "    train = df[:ru]\n",
        "    test = df[ru:]\n",
        "\n",
        "    if ru >= -10:\n",
        "      model = ARIMA(train.Price.values, order = (2,1,2))\n",
        "      model_fit = model.fit(trend = 'nc', full_output = True, disp = True)\n",
        "    else:\n",
        "      model = ARIMA(train.Price.values, order = (3,2,0))\n",
        "      model_fit = model.fit(trend = 'nc', full_output = True, disp = True)\n",
        "\n",
        "    fore = model_fit.forecast(steps=1) # 오늘 예측\n",
        "\n",
        "    # 오늘 예측 데이터\n",
        "    pred_arima_y = fore[0].tolist()\n",
        "\n",
        "    # 실제 오늘 데이터 \n",
        "    test_y = test.Price.values\n",
        "\n",
        "    # # 신뢰구간\n",
        "    # # 예측 데이터 최소값\n",
        "    # pred_y_lower = []\n",
        "    # # 예측 데이터 최대값\n",
        "    # pred_y_upper = []\n",
        "\n",
        "    # for lower_upper in fore[2]:\n",
        "    #     lower = lower_upper[0]\n",
        "    #     upper = lower_upper[1]\n",
        "    #     pred_y_lower.append(lower)\n",
        "    #     pred_y_upper.append(upper)\n",
        "    if rus == 0:\n",
        "        total_table['arima'].iloc[ru:] = pred_arima_y\n",
        "    else:\n",
        "        total_table['arima'].iloc[ru:rus] = pred_arima_y\n",
        "\n",
        "print(model_fit.summary())"
      ],
      "execution_count": 106,
      "outputs": [
        {
          "output_type": "error",
          "ename": "ValueError",
          "evalue": "ignored",
          "traceback": [
            "\u001b[0;31m---------------------------------------------------------------------------\u001b[0m",
            "\u001b[0;31mValueError\u001b[0m                                Traceback (most recent call last)",
            "\u001b[0;32m<ipython-input-106-98a843473a7d>\u001b[0m in \u001b[0;36m<module>\u001b[0;34m()\u001b[0m\n\u001b[1;32m      8\u001b[0m \u001b[0;34m\u001b[0m\u001b[0m\n\u001b[1;32m      9\u001b[0m     \u001b[0mmodel\u001b[0m \u001b[0;34m=\u001b[0m \u001b[0mARIMA\u001b[0m\u001b[0;34m(\u001b[0m\u001b[0mtrain\u001b[0m\u001b[0;34m.\u001b[0m\u001b[0mPrice\u001b[0m\u001b[0;34m.\u001b[0m\u001b[0mvalues\u001b[0m\u001b[0;34m,\u001b[0m \u001b[0morder\u001b[0m \u001b[0;34m=\u001b[0m \u001b[0;34m(\u001b[0m\u001b[0;36m2\u001b[0m\u001b[0;34m,\u001b[0m\u001b[0;36m1\u001b[0m\u001b[0;34m,\u001b[0m\u001b[0;36m2\u001b[0m\u001b[0;34m)\u001b[0m\u001b[0;34m)\u001b[0m\u001b[0;34m\u001b[0m\u001b[0;34m\u001b[0m\u001b[0m\n\u001b[0;32m---> 10\u001b[0;31m     \u001b[0mmodel_fit\u001b[0m \u001b[0;34m=\u001b[0m \u001b[0mmodel\u001b[0m\u001b[0;34m.\u001b[0m\u001b[0mfit\u001b[0m\u001b[0;34m(\u001b[0m\u001b[0mtrend\u001b[0m \u001b[0;34m=\u001b[0m \u001b[0;34m'nc'\u001b[0m\u001b[0;34m,\u001b[0m \u001b[0mfull_output\u001b[0m \u001b[0;34m=\u001b[0m \u001b[0;32mTrue\u001b[0m\u001b[0;34m,\u001b[0m \u001b[0mdisp\u001b[0m \u001b[0;34m=\u001b[0m \u001b[0;32mTrue\u001b[0m\u001b[0;34m)\u001b[0m\u001b[0;34m\u001b[0m\u001b[0;34m\u001b[0m\u001b[0m\n\u001b[0m\u001b[1;32m     11\u001b[0m \u001b[0;34m\u001b[0m\u001b[0m\n\u001b[1;32m     12\u001b[0m     \u001b[0mfore\u001b[0m \u001b[0;34m=\u001b[0m \u001b[0mmodel_fit\u001b[0m\u001b[0;34m.\u001b[0m\u001b[0mforecast\u001b[0m\u001b[0;34m(\u001b[0m\u001b[0msteps\u001b[0m\u001b[0;34m=\u001b[0m\u001b[0;36m1\u001b[0m\u001b[0;34m)\u001b[0m \u001b[0;31m# 오늘 예측\u001b[0m\u001b[0;34m\u001b[0m\u001b[0;34m\u001b[0m\u001b[0m\n",
            "\u001b[0;32m/usr/local/lib/python3.7/dist-packages/statsmodels/tsa/arima_model.py\u001b[0m in \u001b[0;36mfit\u001b[0;34m(self, start_params, trend, method, transparams, solver, maxiter, full_output, disp, callback, start_ar_lags, **kwargs)\u001b[0m\n\u001b[1;32m   1147\u001b[0m                                            \u001b[0mmethod\u001b[0m\u001b[0;34m,\u001b[0m \u001b[0mtransparams\u001b[0m\u001b[0;34m,\u001b[0m \u001b[0msolver\u001b[0m\u001b[0;34m,\u001b[0m\u001b[0;34m\u001b[0m\u001b[0;34m\u001b[0m\u001b[0m\n\u001b[1;32m   1148\u001b[0m                                            \u001b[0mmaxiter\u001b[0m\u001b[0;34m,\u001b[0m \u001b[0mfull_output\u001b[0m\u001b[0;34m,\u001b[0m \u001b[0mdisp\u001b[0m\u001b[0;34m,\u001b[0m\u001b[0;34m\u001b[0m\u001b[0;34m\u001b[0m\u001b[0m\n\u001b[0;32m-> 1149\u001b[0;31m                                            callback, start_ar_lags, **kwargs)\n\u001b[0m\u001b[1;32m   1150\u001b[0m         \u001b[0mnormalized_cov_params\u001b[0m \u001b[0;34m=\u001b[0m \u001b[0;32mNone\u001b[0m  \u001b[0;31m# TODO: fix this?\u001b[0m\u001b[0;34m\u001b[0m\u001b[0;34m\u001b[0m\u001b[0m\n\u001b[1;32m   1151\u001b[0m         arima_fit = ARIMAResults(self, mlefit._results.params,\n",
            "\u001b[0;32m/usr/local/lib/python3.7/dist-packages/statsmodels/tsa/arima_model.py\u001b[0m in \u001b[0;36mfit\u001b[0;34m(self, start_params, trend, method, transparams, solver, maxiter, full_output, disp, callback, start_ar_lags, **kwargs)\u001b[0m\n\u001b[1;32m    936\u001b[0m         \u001b[0;32melse\u001b[0m\u001b[0;34m:\u001b[0m  \u001b[0;31m# estimate starting parameters\u001b[0m\u001b[0;34m\u001b[0m\u001b[0;34m\u001b[0m\u001b[0m\n\u001b[1;32m    937\u001b[0m             start_params = self._fit_start_params((k_ar, k_ma, k), method,\n\u001b[0;32m--> 938\u001b[0;31m                                                   start_ar_lags)\n\u001b[0m\u001b[1;32m    939\u001b[0m \u001b[0;34m\u001b[0m\u001b[0m\n\u001b[1;32m    940\u001b[0m         \u001b[0;32mif\u001b[0m \u001b[0mtransparams\u001b[0m\u001b[0;34m:\u001b[0m  \u001b[0;31m# transform initial parameters to ensure invertibility\u001b[0m\u001b[0;34m\u001b[0m\u001b[0;34m\u001b[0m\u001b[0m\n",
            "\u001b[0;32m/usr/local/lib/python3.7/dist-packages/statsmodels/tsa/arima_model.py\u001b[0m in \u001b[0;36m_fit_start_params\u001b[0;34m(self, order, method, start_ar_lags)\u001b[0m\n\u001b[1;32m    552\u001b[0m             \u001b[0mfunc\u001b[0m \u001b[0;34m=\u001b[0m \u001b[0;32mlambda\u001b[0m \u001b[0mparams\u001b[0m\u001b[0;34m:\u001b[0m \u001b[0;34m-\u001b[0m\u001b[0mself\u001b[0m\u001b[0;34m.\u001b[0m\u001b[0mloglike_css\u001b[0m\u001b[0;34m(\u001b[0m\u001b[0mparams\u001b[0m\u001b[0;34m)\u001b[0m\u001b[0;34m\u001b[0m\u001b[0;34m\u001b[0m\u001b[0m\n\u001b[1;32m    553\u001b[0m             \u001b[0;31m#start_params = [.1]*(k_ar+k_ma+k_exog) # different one for k?\u001b[0m\u001b[0;34m\u001b[0m\u001b[0;34m\u001b[0m\u001b[0;34m\u001b[0m\u001b[0m\n\u001b[0;32m--> 554\u001b[0;31m             \u001b[0mstart_params\u001b[0m \u001b[0;34m=\u001b[0m \u001b[0mself\u001b[0m\u001b[0;34m.\u001b[0m\u001b[0m_fit_start_params_hr\u001b[0m\u001b[0;34m(\u001b[0m\u001b[0morder\u001b[0m\u001b[0;34m,\u001b[0m \u001b[0mstart_ar_lags\u001b[0m\u001b[0;34m)\u001b[0m\u001b[0;34m\u001b[0m\u001b[0;34m\u001b[0m\u001b[0m\n\u001b[0m\u001b[1;32m    555\u001b[0m             \u001b[0;32mif\u001b[0m \u001b[0mself\u001b[0m\u001b[0;34m.\u001b[0m\u001b[0mtransparams\u001b[0m\u001b[0;34m:\u001b[0m\u001b[0;34m\u001b[0m\u001b[0;34m\u001b[0m\u001b[0m\n\u001b[1;32m    556\u001b[0m                 \u001b[0mstart_params\u001b[0m \u001b[0;34m=\u001b[0m \u001b[0mself\u001b[0m\u001b[0;34m.\u001b[0m\u001b[0m_invtransparams\u001b[0m\u001b[0;34m(\u001b[0m\u001b[0mstart_params\u001b[0m\u001b[0;34m)\u001b[0m\u001b[0;34m\u001b[0m\u001b[0;34m\u001b[0m\u001b[0m\n",
            "\u001b[0;32m/usr/local/lib/python3.7/dist-packages/statsmodels/tsa/arima_model.py\u001b[0m in \u001b[0;36m_fit_start_params_hr\u001b[0;34m(self, order, start_ar_lags)\u001b[0m\n\u001b[1;32m    531\u001b[0m         if p and not np.all(np.abs(np.roots(np.r_[1, -start_params[k:k + p]]\n\u001b[1;32m    532\u001b[0m                                             )) < 1):\n\u001b[0;32m--> 533\u001b[0;31m             raise ValueError(\"The computed initial AR coefficients are not \"\n\u001b[0m\u001b[1;32m    534\u001b[0m                              \u001b[0;34m\"stationary\\nYou should induce stationarity, \"\u001b[0m\u001b[0;34m\u001b[0m\u001b[0;34m\u001b[0m\u001b[0m\n\u001b[1;32m    535\u001b[0m                              \u001b[0;34m\"choose a different model order, or you can\\n\"\u001b[0m\u001b[0;34m\u001b[0m\u001b[0;34m\u001b[0m\u001b[0m\n",
            "\u001b[0;31mValueError\u001b[0m: The computed initial AR coefficients are not stationary\nYou should induce stationarity, choose a different model order, or you can\npass your own start_params."
          ]
        }
      ]
    },
    {
      "cell_type": "code",
      "metadata": {
        "colab": {
          "base_uri": "https://localhost:8080/",
          "height": 49
        },
        "id": "B7JGuYPFfZD9",
        "outputId": "19e7a8a6-782e-4dc6-e35f-07173ca6fe7f"
      },
      "source": [
        "total_table"
      ],
      "execution_count": 54,
      "outputs": [
        {
          "output_type": "execute_result",
          "data": {
            "text/html": [
              "<div>\n",
              "<style scoped>\n",
              "    .dataframe tbody tr th:only-of-type {\n",
              "        vertical-align: middle;\n",
              "    }\n",
              "\n",
              "    .dataframe tbody tr th {\n",
              "        vertical-align: top;\n",
              "    }\n",
              "\n",
              "    .dataframe thead th {\n",
              "        text-align: right;\n",
              "    }\n",
              "</style>\n",
              "<table border=\"1\" class=\"dataframe\">\n",
              "  <thead>\n",
              "    <tr style=\"text-align: right;\">\n",
              "      <th></th>\n",
              "      <th>code</th>\n",
              "      <th>date</th>\n",
              "      <th>lstm</th>\n",
              "      <th>arima</th>\n",
              "      <th>fbprophet</th>\n",
              "      <th>RL</th>\n",
              "      <th>close</th>\n",
              "    </tr>\n",
              "  </thead>\n",
              "  <tbody>\n",
              "  </tbody>\n",
              "</table>\n",
              "</div>"
            ],
            "text/plain": [
              "Empty DataFrame\n",
              "Columns: [code, date, lstm, arima, fbprophet, RL, close]\n",
              "Index: []"
            ]
          },
          "metadata": {},
          "execution_count": 54
        }
      ]
    },
    {
      "cell_type": "markdown",
      "metadata": {
        "id": "3l7cxNXufjIK"
      },
      "source": [
        "## fbprophet 예측"
      ]
    },
    {
      "cell_type": "code",
      "metadata": {
        "id": "oztOLhaNfa2N"
      },
      "source": [
        "end_date = datetime.datetime.now().strftime(\"%Y%m%d\")\n",
        "samsung_df = money_sur('005380', start = '20180101', end = end_date)\n",
        "df1 = samsung_df[['Date','Close']]\n",
        "df1.columns = ['ds', 'y']\n",
        "\n",
        "from fbprophet import Prophet\n",
        "\n",
        "prophet = Prophet(seasonality_mode = 'multiplicative',\n",
        "                 yearly_seasonality=True, \n",
        "                 weekly_seasonality=True,\n",
        "                 daily_seasonality=True,\n",
        "                 changepoint_prior_scale=0.6)\n",
        "\n",
        "prophet.fit(df1)\n",
        "\n",
        "# 10일단위로 예측값을 가져옴\n",
        "future_data = prophet.make_future_dataframe(periods = 10, freq = 'd')\n",
        "forecast_data = prophet.predict(future_data)"
      ],
      "execution_count": null,
      "outputs": []
    },
    {
      "cell_type": "code",
      "metadata": {
        "id": "EYGiRxyJj1bY"
      },
      "source": [
        "list(total_table.date.values)"
      ],
      "execution_count": null,
      "outputs": []
    },
    {
      "cell_type": "code",
      "metadata": {
        "id": "n0v2JpACfuj5"
      },
      "source": [
        "total_table['fbprophet'] = forecast_data[forecast_data['ds'].isin(list(total_table.date.values))]['yhat'].values"
      ],
      "execution_count": null,
      "outputs": []
    },
    {
      "cell_type": "code",
      "metadata": {
        "id": "bhDP7ewqg73G"
      },
      "source": [
        "total_table"
      ],
      "execution_count": null,
      "outputs": []
    },
    {
      "cell_type": "code",
      "metadata": {
        "id": "uIaTllEckcdY"
      },
      "source": [
        "# total_table.to_csv('./total_table.csv', index =False)"
      ],
      "execution_count": null,
      "outputs": []
    },
    {
      "cell_type": "markdown",
      "metadata": {
        "id": "kCrQV9WP7thp"
      },
      "source": [
        "## RL 결과"
      ]
    },
    {
      "cell_type": "markdown",
      "metadata": {
        "id": "BC3-x9cM8vl5"
      },
      "source": [
        "### 데이터 로딩 및 함수 로딩"
      ]
    },
    {
      "cell_type": "code",
      "metadata": {
        "id": "0QM29qkt7yWi"
      },
      "source": [
        "import time\n",
        "import copy\n",
        "import numpy as np\n",
        "import pandas as pd\n",
        "import torch\n",
        "import torch.nn as nn\n",
        "from torch.autograd import Variable\n",
        "import torch.optim as optim\n",
        "import torch.nn.functional as F\n",
        "\n",
        "# 금융정보 조회하기\n",
        "def dataset_loaderKR(stock_name, start, end, train_ratio=0.8):\n",
        "    start_date = start\n",
        "    end_date = end\n",
        "    sample_code = stock_name\n",
        "\n",
        "    dataset = fdr.DataReader(sample_code, start = start_date, end = end_date )\n",
        "    dataset = dataset.reset_index()\n",
        "    df = stock.get_market_fundamental_by_date(fromdate=start_date, todate=end_date, ticker=sample_code)\n",
        "    df = df.reset_index()\n",
        "    df.columns = ['Date','BPS', 'PER', 'PBR', 'EPS', 'DIV', 'DPS']\n",
        "    data = pd.merge(dataset, df, on='Date')\n",
        "    date_split = data.index[int(train_ratio*len(data))] \n",
        "\n",
        "    return data[:date_split], data[date_split:], date_split\n",
        "\n",
        "\n",
        "# ENV 설정\n",
        "class Environment1:\n",
        "    def __init__(self, data, history_t=90):\n",
        "        self.data = data\n",
        "        self.history_t = history_t\n",
        "        self.reset()\n",
        "        \n",
        "    def reset(self):\n",
        "        self.t = 0\n",
        "        self.done = False\n",
        "        self.profits = 0\n",
        "        self.positions = []\n",
        "        self.position_value = 0\n",
        "        self.history = [0 for _ in range(self.history_t)]\n",
        "        return [self.position_value] + self.history # obs\n",
        "\n",
        "    def step(self, act):\n",
        "        reward = 0\n",
        "        \n",
        "        # action\n",
        "        # 0: Idle\n",
        "        # 1: 매수\n",
        "        # 2: 매도\n",
        "        if act == 1: #매수\n",
        "            self.positions.append(self.data.iloc[self.t, :]['Close'])\n",
        "        elif act == 2: # 매도\n",
        "            if len(self.positions) == 0:\n",
        "                reward = -1\n",
        "            else:\n",
        "                profits = 0\n",
        "                for p in self.positions:\n",
        "                    profits += (self.data.iloc[self.t, :]['Close'] - p)\n",
        "                reward += profits\n",
        "                self.profits += profits\n",
        "                self.positions = []\n",
        "        \n",
        "        # set next time\n",
        "        self.t += 1\n",
        "        \n",
        "        self.position_value = 0\n",
        "        for p in self.positions:\n",
        "            self.position_value += (self.data.iloc[self.t, :]['Close'] - p)\n",
        "        self.history.pop(0)\n",
        "        self.history.append(self.data.iloc[self.t, :]['Close'] - self.data.iloc[(self.t-1), :]['Close'])\n",
        "        if (self.t==len(self.data)-1):\n",
        "            self.done=True\n",
        "        # clipping reward\n",
        "        if reward > 0:\n",
        "            reward = 1\n",
        "        elif reward < 0:\n",
        "            reward = -1\n",
        "        #print (\"t={%d}, done={%str}\"%(self.t,self.done))\n",
        "        return [self.position_value] + self.history, reward, self.done # obs, reward, done\n",
        "\n",
        "# MODEL\n",
        "class Q_Network(nn.Module):\n",
        "    def __init__(self,obs_len,hidden_size,actions_n):\n",
        "        super(Q_Network,self).__init__()\n",
        "        self.fc_val = nn.Sequential(\n",
        "            nn.Linear(obs_len, hidden_size),\n",
        "            nn.ReLU(),\n",
        "            nn.Linear(hidden_size, hidden_size),\n",
        "            nn.ReLU(),\n",
        "            nn.Linear(hidden_size, actions_n)\n",
        "        )\n",
        "    def forward(self,x):\n",
        "        h = self.fc_val(x)\n",
        "        return (h)"
      ],
      "execution_count": null,
      "outputs": []
    },
    {
      "cell_type": "code",
      "metadata": {
        "id": "loFwiE2Z83XE"
      },
      "source": [
        "(train, test, date_split) = dataset_loaderKR('005380', start = '2000', end = end_date)"
      ],
      "execution_count": null,
      "outputs": []
    },
    {
      "cell_type": "markdown",
      "metadata": {
        "id": "E1l4IJFZ9hr6"
      },
      "source": [
        "### 모델 로딩 및 결과"
      ]
    },
    {
      "cell_type": "code",
      "metadata": {
        "id": "bkuAbrM_8Swh"
      },
      "source": [
        "rl_path = '/content/drive/My Drive/Final PJT - 업빛투/Regression/RL/현대차_결과/'\n",
        "hun_rl = 'hyundai_rl_재무정보.h5'"
      ],
      "execution_count": null,
      "outputs": []
    },
    {
      "cell_type": "code",
      "metadata": {
        "id": "orABZC247w-b"
      },
      "source": [
        "# 모델 로딩\n",
        "model = torch.load(rl_path+hun_rl)\n",
        "\n",
        "test_env = Environment1(test)\n",
        "pobs = test_env.reset()\n",
        "test_acts = []\n",
        "test_rewards = []\n",
        "\n",
        "for _ in range(len(test_env.data)-1):\n",
        "    pact = model(torch.from_numpy(np.array(pobs, dtype=np.float32).reshape(1, -1)))\n",
        "    pact = np.argmax(pact.data)\n",
        "    test_acts.append(pact.item())\n",
        "            \n",
        "    obs, reward, done = test_env.step(pact.numpy())\n",
        "    test_rewards.append(reward)\n",
        "\n",
        "    pobs = obs\n",
        "\n",
        "# sell remaining stocks\n",
        "profits = 0\n",
        "for p in test_env.positions:\n",
        "\tprofits += (test_env.data.iloc[test_env.t, :]['Close'] - p)\n",
        "\n",
        "test_env.profits += profits\n",
        "test_env.positions = []\n",
        "\n",
        "test_profits = test_env.profits\n",
        "pact = model(torch.from_numpy(np.array(pobs, dtype=np.float32).reshape(1, -1)))\n",
        "pact = np.argmax(pact.data)\n",
        "next_action = pact.item()\n",
        "test['Action'] = test_acts + [next_action]\n",
        "\n",
        "\n",
        "print( )\n",
        "print( test )\n",
        "print( )\n",
        "print(\"결과\")\n",
        "print( \"손익결과 $%.2f\" % round(test_profits,2) )\n",
        "# 0: Idle\n",
        "# 1: 매수\n",
        "# 2: 매도"
      ],
      "execution_count": null,
      "outputs": []
    },
    {
      "cell_type": "code",
      "metadata": {
        "id": "GK95tu4o9gUe"
      },
      "source": [
        "test['Action'] = np.where(test['Action'] == 1,1,\n",
        "                          np.where(test['Action'] == 2,-1,0))"
      ],
      "execution_count": null,
      "outputs": []
    },
    {
      "cell_type": "code",
      "metadata": {
        "id": "ZmGaOBeV-47w"
      },
      "source": [
        "test['Action'][-10:]"
      ],
      "execution_count": null,
      "outputs": []
    },
    {
      "cell_type": "code",
      "metadata": {
        "id": "1IUswV5J-hFC"
      },
      "source": [
        "total_table['RL'] = test[test['Date'].isin(list(total_table.date.values))]['Action'].values"
      ],
      "execution_count": null,
      "outputs": []
    },
    {
      "cell_type": "code",
      "metadata": {
        "id": "wvjpGLDP-zng"
      },
      "source": [
        "total_table"
      ],
      "execution_count": null,
      "outputs": []
    },
    {
      "cell_type": "markdown",
      "metadata": {
        "id": "bQwsiyCykm7V"
      },
      "source": [
        "## News 긍부정 결과\n",
        "- '매일경제', '아시아경제'"
      ]
    },
    {
      "cell_type": "code",
      "metadata": {
        "id": "ksmIurS7UWVc"
      },
      "source": [
        "# corp_list = ['samsung', 'hyundai', 'lg', 'sk', 'celltrion'] 참고용\n",
        "stock_num_list = ['005930', '005380', '051910', '000660', '068270']\n",
        "news = ['maeil_news_craw', 'asia_news_craw']\n",
        "start = (datetime.datetime.now() - datetime.timedelta(20)).strftime(\"%Y-%m-%d\").replace('-','')\n",
        "end = datetime.datetime.now().strftime(\"%Y-%m-%d\").replace('-', '')"
      ],
      "execution_count": null,
      "outputs": []
    },
    {
      "cell_type": "code",
      "metadata": {
        "id": "VcRojrZzHby1"
      },
      "source": [
        "# news_df = pd.read_csv('/content/drive/My Drive/Final PJT - 업빛투/감성분석/Final Data/1. samsung_score.csv') # 연습용"
      ],
      "execution_count": null,
      "outputs": []
    },
    {
      "cell_type": "markdown",
      "metadata": {
        "id": "qL9BEkRMsWmG"
      },
      "source": [
        "### 관련 함수 및 패키지 로드"
      ]
    },
    {
      "cell_type": "code",
      "metadata": {
        "id": "vQLJY1vdUF14"
      },
      "source": [
        "import pymysql\n",
        "import sys\n",
        "import re"
      ],
      "execution_count": null,
      "outputs": []
    },
    {
      "cell_type": "code",
      "metadata": {
        "id": "dcR1dNR_rhwL"
      },
      "source": [
        "# 블로그에서 가져온 기본적인 한국어 긍부정 텍스트 목록\n",
        "with open('/content/drive/My Drive/Final PJT - 업빛투/감성분석/data/positive_words_self.txt', encoding='utf-8') as pos_blog:\n",
        "    positive_blog = pos_blog.readlines()\n",
        "positive_blog = [pos_blog.replace('\\n', '') for pos_blog in positive_blog]\n",
        "with open('/content/drive/My Drive/Final PJT - 업빛투/감성분석/data/negative_words_self.txt', encoding='utf-8') as neg_blog:\n",
        "    negative_blog = neg_blog.readlines()\n",
        "negative_blog = [neg_blog.replace('\\n', '') for neg_blog in negative_blog]\n",
        "\n",
        "# KOSELF 감성 어휘 사전\n",
        "with open('/content/drive/My Drive/Final PJT - 업빛투/감성분석/data/KOSELF_pos.txt', encoding='utf-8') as pos:\n",
        "    positive = pos.readlines()\n",
        "positive = [pos.replace('\\n', '') for pos in positive]\n",
        "with open('/content/drive/My Drive/Final PJT - 업빛투/감성분석/data/KOSELF_neg.txt', encoding='utf-8') as neg:\n",
        "    negative = neg.readlines()\n",
        "negative = [neg.replace('\\n', '') for neg in negative]"
      ],
      "execution_count": null,
      "outputs": []
    },
    {
      "cell_type": "code",
      "metadata": {
        "id": "dRYhrr4aSc7f"
      },
      "source": [
        "def news_db(news, stock):\n",
        "    db = pymysql.connect(\n",
        "            user='root', \n",
        "            passwd='1234', \n",
        "            host='3.35.70.166', \n",
        "            db='proj', \n",
        "            charset = 'utf8'\n",
        "        )\n",
        "\n",
        "    cursor = db.cursor(pymysql.cursors.DictCursor)\n",
        "    news1 = news + '_news_craw'\n",
        "\n",
        "    sql = \"select * from {0}_{1} where length(date)=10\".format(news1, stock)\n",
        "    cursor.execute(sql)\n",
        "    result = cursor.fetchall()\n",
        "\n",
        "    # DataFrame으로 변경\n",
        "    df = pd.DataFrame(result)\n",
        "\n",
        "    db.close()\n",
        "\n",
        "    df.rename(columns={'date': 'datetime'}, inplace=True)\n",
        "\n",
        "    # DataFrame 형태를 통일하기 위해 date 컬럼 추가\n",
        "    df['date'] = df['datetime'].str[0:4] + '-' + df['datetime'].str[4:6] + '-' + df['datetime'].str[6:8]\n",
        "    df['date'] = pd.to_datetime(df['date'])\n",
        "\n",
        "    # 결측치 제거 → 데이터 로드 시 완료했기 때문에 그다지 필요하지 않은 과정\n",
        "    df = df.dropna()\n",
        "\n",
        "    # 시간순으로 정렬\n",
        "    df.sort_values('datetime', inplace=True)\n",
        "    df.reset_index(inplace=True, drop=True)\n",
        "\n",
        "    ### 4) Holidays\n",
        "    db = pymysql.connect(user='root',\n",
        "                         passwd='1234', \n",
        "                         host='3.35.70.166', \n",
        "                         db='proj',\n",
        "                         charset='utf8')\n",
        "\n",
        "    cursor = db.cursor(pymysql.cursors.DictCursor)\n",
        "\n",
        "    # 4-1) 주말 및 공휴일 데이터\n",
        "    sql = \"select * from holidays\"\n",
        "    cursor.execute(sql)\n",
        "    result = cursor.fetchall()\n",
        "\n",
        "    holidays = pd.DataFrame(result)\n",
        "\n",
        "    db.close()\n",
        "\n",
        "    holidays['date'] = pd.to_datetime(holidays['date'])\n",
        "\n",
        "    url = 'https://raw.githubusercontent.com/chaerui7967/stock_predict_news_and_youtube/master/Sentiment_Analysis/data/stopwords_ver1.txt'\n",
        "    stopwords = list(pd.read_csv(url, header=None)[0])\n",
        "\n",
        "    # Stop Words List에 각 매체명 추가\n",
        "    except_media_list = ['매일경제', '매일', '경제', 'maeil', 'MK', 'mk',\n",
        "                         '아시아경제', '아시아', 'Asia', 'ASIA', 'asia',\n",
        "                         '삼프로TV', '삼프로', 'TV',\n",
        "                         '슈카월드', '슈카', '월드'\n",
        "                         '한국경제TV', '한국']\n",
        "    for word in except_media_list:\n",
        "        stopwords.append(word)\n",
        "    \n",
        "    #### 2. Preprocessing\n",
        "    '''감성 어휘 사전 : negative / positive\n",
        "       뉴스 데이터 : samsung / hyundai / lg / sk\n",
        "       주식 데이터 : stock_samsung / stock_hyundai / stock_lg / stock_sk\n",
        "       공휴일 데이터 : holidays'''\n",
        "    \n",
        "    \n",
        "    ### 1) 뉴스 데이터 날짜 조정\n",
        "    \n",
        "    ## 1-1)업로드 시각 컬럼 추가\n",
        "    df['time'] = df['datetime'].str[-2:]\n",
        "    \n",
        "    ## 1-2) 전일 15시 ~ 금일 15시로 날짜 조정\n",
        "    after_market = ['15', '16', '17', '18', '19', '20', '21', '22', '23']\n",
        "\n",
        "    for j in range(len(df['time'])):\n",
        "        if df['time'][j] in after_market:\n",
        "            df['date'][j] += datetime.timedelta(1)\n",
        "        else:\n",
        "            pass\n",
        "    \n",
        "    ## 1-3) 텍스트 전처리\n",
        "    # \\n, \\t, \\r 제거\n",
        "    df['text'] = df['text'].str.replace('[\\n|\\t|\\r]', '')\n",
        "    df['text'] = df['text'].str.replace('\\[|\\]', '')\n",
        "    df['text'] = df['text'].str.replace('\\<.*\\>', '')\n",
        "    df['text'] = df['text'].str.replace('\\\\', '')\n",
        "    df['text'] = df['text'].str.replace('이미지', '')\n",
        "\n",
        "\n",
        "    ### 2) 주말 및 공휴일 제외\n",
        "    \n",
        "    ## 2-1) 주말 및 공휴일만 추출\n",
        "    market_closed =holidays[holidays['holiday']==\"O\"].reset_index(drop=True)\n",
        "    \n",
        "    ## 2-3) 휴장일 List 생성\n",
        "    market_closed_list = list(market_closed['date'])\n",
        "    \n",
        "    ## 2-4) iteration limit 조정\n",
        "    limit_number = 15000\n",
        "    sys.setrecursionlimit(limit_number)\n",
        "    \n",
        "    \n",
        "    while len(df[df['date'].isin(market_closed_list)]['date']) != 0:\n",
        "        for hoil in df[df['date'].isin(market_closed_list)]['date'].index:\n",
        "            df['date'][hoil] += datetime.timedelta(1)\n",
        "    \n",
        "    ### 3) Tokenization 컬럼 추가\n",
        "    \n",
        "    df['Tokenization'] = 0\n",
        "    rows = df.shape[0]\n",
        "    for row in range(rows):\n",
        "        hangeul = re.compile('[^ ㄱ-ㅣ 가-힣]')                                    # 정규 표현식 → 한글 추출 규칙 : 띄어쓰기(1개)를 포함한 한글\n",
        "        result = hangeul.sub('', df['text'][row])   # 위에 설정한 hangeul 규칙을 text에 적용\n",
        "        okt = Okt()                                                               # 형태소 추출\n",
        "        nouns = okt.nouns(df['text'][row])\n",
        "        nouns = [x for x in nouns if len(x) > 1]                                  # 한 글자 키워드 제거\n",
        "        nouns = [x for x in nouns if x not in stopwords]                          # 불용어 제거\n",
        "        \n",
        "        corpus = \" \".join(nouns)                                                  # List를 String으로 변환\n",
        "        df['Tokenization'][row] = corpus\n",
        "\n",
        "\n",
        "    # 점수 산출\n",
        "\n",
        "    df['Positive_Score'] = 0\n",
        "    df['Negative_Score'] = 0\n",
        "    df['Ratio'] = 0.1\n",
        "    df['Pred'] = 0\n",
        "    df['NSI'] = 0.1\n",
        "    \n",
        "    for score in range(len(df)):\n",
        "        pos_score = 0 ; neg_score = 0\n",
        "        \n",
        "        for token in range(len(df['Tokenization'][score].split())):\n",
        "            if df['Tokenization'][score].split()[token] in positive:\n",
        "                pos_score += 1\n",
        "            elif df['Tokenization'][score].split()[token] in negative:\n",
        "                neg_score += 1\n",
        "            else:\n",
        "                pass\n",
        "        \n",
        "        df['Positive_Score'][score] = pos_score\n",
        "        df['Negative_Score'][score] = neg_score\n",
        "        \n",
        "        # 긍정과 부정의 비율\n",
        "        if (pos_score==0) and (neg_score==0):\n",
        "            df['Ratio'][score] = 0.5   # 둘 다 0일 경우에는 긍정으로 가정\n",
        "        else:\n",
        "            df['Ratio'][score] = pos_score / (pos_score + neg_score)\n",
        "        \n",
        "        # 예측 결과\n",
        "        if df['Ratio'][score]>=0.5:\n",
        "            df['Pred'][score] = 1\n",
        "        else:\n",
        "            df['Pred'][score] = -1\n",
        "        \n",
        "        # 뉴스심리지수(NSI) 계산\n",
        "        if (pos_score==0) and (neg_score==0):\n",
        "            df['NSI'][score] = 101\n",
        "        else:\n",
        "            df['NSI'][score] = (pos_score - neg_score) / (pos_score + neg_score) * 100 + 100\n",
        "    \n",
        "    return df"
      ],
      "execution_count": null,
      "outputs": []
    },
    {
      "cell_type": "markdown",
      "metadata": {
        "id": "L2tLDSc3CW9i"
      },
      "source": [
        "### 매일경제"
      ]
    },
    {
      "cell_type": "code",
      "metadata": {
        "id": "Arl70kZHH3Rp"
      },
      "source": [
        "# mail_df = news_df[(news_df['news'] == '매일경제') & (news_df['st_cd'] == 5930)]"
      ],
      "execution_count": null,
      "outputs": []
    },
    {
      "cell_type": "code",
      "metadata": {
        "id": "l0IAFuW8eSk6"
      },
      "source": [
        "mail_df = news_db('maeil', '005380')"
      ],
      "execution_count": null,
      "outputs": []
    },
    {
      "cell_type": "code",
      "metadata": {
        "id": "csx_bLdEICkL"
      },
      "source": [
        "mail_df.head()"
      ],
      "execution_count": null,
      "outputs": []
    },
    {
      "cell_type": "code",
      "metadata": {
        "id": "phLEOVw3Lnux"
      },
      "source": [
        "mail_ratio = mail_df[mail_df['date'].isin(list(total_table.date.values))][['date','Ratio']]\n",
        "mail_nsi = mail_df[mail_df['date'].isin(list(total_table.date.values))][['date','NSI']]"
      ],
      "execution_count": null,
      "outputs": []
    },
    {
      "cell_type": "code",
      "metadata": {
        "id": "q7O0-JlyM3GV"
      },
      "source": [
        "mail_ratio = mail_ratio.groupby(['date']).mean().reset_index()\n",
        "mail_nsi = mail_nsi.groupby(['date']).mean().reset_index()"
      ],
      "execution_count": null,
      "outputs": []
    },
    {
      "cell_type": "code",
      "metadata": {
        "id": "fBWTXJDJOelf"
      },
      "source": [
        "mail_ratio.columns = ['date', 'mail_news']\n",
        "mail_nsi.columns = ['date', 'mail_news_nsi']"
      ],
      "execution_count": null,
      "outputs": []
    },
    {
      "cell_type": "code",
      "metadata": {
        "id": "IfqYAjITOuwP"
      },
      "source": [
        "total_table = pd.merge(total_table, mail_ratio, on='date', how='left')\n",
        "total_table = pd.merge(total_table, mail_nsi, on='date', how='left')"
      ],
      "execution_count": null,
      "outputs": []
    },
    {
      "cell_type": "code",
      "metadata": {
        "id": "T5N1egp6uH58"
      },
      "source": [
        "total_table = total_table[['code', 'date', 'lstm', 'arima', 'fbprophet', 'RL', 'mail_news', 'mail_news_nsi', 'close', 'change']]"
      ],
      "execution_count": null,
      "outputs": []
    },
    {
      "cell_type": "code",
      "metadata": {
        "id": "ngMrDVRPRZ2R"
      },
      "source": [
        "total_table"
      ],
      "execution_count": null,
      "outputs": []
    },
    {
      "cell_type": "markdown",
      "metadata": {
        "id": "1qPPl_OSCUwi"
      },
      "source": [
        "### 아시아"
      ]
    },
    {
      "cell_type": "code",
      "metadata": {
        "id": "12iYKQwq_Y7h"
      },
      "source": [
        "# asia_df = news_df[(news_df['news'] == '아시아경제') & (news_df['st_cd'] == 5930)]"
      ],
      "execution_count": null,
      "outputs": []
    },
    {
      "cell_type": "code",
      "metadata": {
        "id": "itCIibLHuaaC"
      },
      "source": [
        "asia_df = news_db('asia', '005380')"
      ],
      "execution_count": null,
      "outputs": []
    },
    {
      "cell_type": "code",
      "metadata": {
        "id": "cq7L4vCYRrtS"
      },
      "source": [
        "asia_df.tail()"
      ],
      "execution_count": null,
      "outputs": []
    },
    {
      "cell_type": "code",
      "metadata": {
        "id": "oQ0V_3aHR0Iq"
      },
      "source": [
        "asia_ratio = asia_df[asia_df['date'].isin(list(total_table.date.values))][['date','Ratio']]\n",
        "asia_nsi = asia_df[asia_df['date'].isin(list(total_table.date.values))][['date','NSI']]\n",
        "\n",
        "asia_ratio = asia_ratio.groupby(['date']).mean().reset_index()\n",
        "asia_nsi = asia_nsi.groupby(['date']).mean().reset_index()\n",
        "\n",
        "asia_ratio.columns = ['date', 'asia_news']\n",
        "asia_nsi.columns = ['date', 'asia_news_nsi']"
      ],
      "execution_count": null,
      "outputs": []
    },
    {
      "cell_type": "code",
      "metadata": {
        "id": "d94QATPuSKgu"
      },
      "source": [
        "total_table = pd.merge(total_table, asia_ratio, on='date', how='left')\n",
        "total_table = pd.merge(total_table, asia_nsi, on='date', how='left')"
      ],
      "execution_count": null,
      "outputs": []
    },
    {
      "cell_type": "code",
      "metadata": {
        "id": "ov1b0y_oSWhT"
      },
      "source": [
        "# 컬럼 리셋\n",
        "total_table = total_table[['code', 'date', 'lstm', 'arima', 'fbprophet', 'RL', 'mail_news', 'mail_news_nsi', 'asia_news', 'asia_news_nsi', 'close', 'change']]"
      ],
      "execution_count": null,
      "outputs": []
    },
    {
      "cell_type": "code",
      "metadata": {
        "id": "ZLSHOiARSMnb"
      },
      "source": [
        "total_table"
      ],
      "execution_count": null,
      "outputs": []
    },
    {
      "cell_type": "code",
      "metadata": {
        "id": "h4ctQAB0kh8U"
      },
      "source": [
        "# total_table.to_csv('total_table.csv', index=False)"
      ],
      "execution_count": null,
      "outputs": []
    },
    {
      "cell_type": "markdown",
      "metadata": {
        "id": "C7-cBTuFCFQh"
      },
      "source": [
        "## youtube 긍부정 결과\n",
        "- ['한국경제TV', '슈카월드', '삼프로TV_경제의신과함께']"
      ]
    },
    {
      "cell_type": "code",
      "metadata": {
        "id": "gIXFdEJaT27S"
      },
      "source": [
        "# # 이전 라벨링 데이터\n",
        "# youtube_df = pd.read_csv('/content/drive/My Drive/Final PJT - 업빛투/감성분석/data/youtube_naver_labeling.csv')"
      ],
      "execution_count": null,
      "outputs": []
    },
    {
      "cell_type": "code",
      "metadata": {
        "id": "eYxoTFBWUBdL"
      },
      "source": [
        "# youtube_df.ch_nm.unique()"
      ],
      "execution_count": null,
      "outputs": []
    },
    {
      "cell_type": "markdown",
      "metadata": {
        "id": "u1_Yhs556KXY"
      },
      "source": [
        "### youtube 데이터 전체 로드"
      ]
    },
    {
      "cell_type": "code",
      "metadata": {
        "id": "JBqrwfrG5dJs"
      },
      "source": [
        "def youtube_db():\n",
        "\n",
        "    com_list = {'하이닉스' : '000660',\n",
        "            '현대차' : '005380',\n",
        "            '삼성전자' : '005930',\n",
        "            'LG화학' : '051910',\n",
        "            '셀트리온' : '068270'}\n",
        "    media_list = {'youtube_한국경제_':'hk_',\n",
        "                'youtube_삼프로_':'sampro_',\n",
        "                'youtube_슈카_':'suka_'}\n",
        "    df_list = []\n",
        "    for n,m in media_list.items():\n",
        "        for i,j in com_list.items():\n",
        "\n",
        "            db = pymysql.connect(\n",
        "                user='root', \n",
        "                passwd='1234', \n",
        "                host='3.35.70.166', \n",
        "                db='proj', \n",
        "                charset = 'utf8'\n",
        "            )\n",
        "\n",
        "            cursor = db.cursor(pymysql.cursors.DictCursor)\n",
        "            sql = \"select * from youtube_\"+ m + j +\" where length(date) = 10\"\n",
        "            \n",
        "            cursor.execute(sql)\n",
        "\n",
        "            result = cursor.fetchall()\n",
        "\n",
        "            # 데이터 프레임으로 변경\n",
        "            globals() ['df_'+ m + j ] = pd.DataFrame(result)\n",
        "            print('df_'+ m + j)\n",
        "            df_list.append(globals() ['df_'+ m + j ])\n",
        "            \n",
        "            db.close()\n",
        "    \n",
        "    # print(df_list)\n",
        "    df_total = pd.concat(df_list)\n",
        "    \n",
        "    df_total.rename(columns={'date': 'datetime'}, inplace=True)\n",
        "    # DataFrame 형태를 통일하기 위해 date 컬럼 추가\n",
        "    df_total['date'] = df_total['datetime'].str[0:4] + '-' + df_total['datetime'].str[4:6] + '-' + df_total['datetime'].str[6:8]\n",
        "    df_total['date'] = pd.to_datetime(df_total['date'])\n",
        "\n",
        "    # 시간순으로 정렬\n",
        "    df_total.reset_index(inplace=True, drop=True)\n",
        "\n",
        "    ### 4) Holidays\n",
        "    db = pymysql.connect(user='root',\n",
        "                         passwd='1234', \n",
        "                         host='3.35.70.166', \n",
        "                         db='proj',\n",
        "                         charset='utf8')\n",
        "\n",
        "    cursor = db.cursor(pymysql.cursors.DictCursor)\n",
        "\n",
        "    # 4-1) 주말 및 공휴일 데이터\n",
        "    sql = \"select * from holidays\"\n",
        "    cursor.execute(sql)\n",
        "    result = cursor.fetchall()\n",
        "\n",
        "    holidays = pd.DataFrame(result)\n",
        "    db.close()\n",
        "\n",
        "    holidays['date'] = pd.to_datetime(holidays['date'])\n",
        "\n",
        "    ## 2-1) 주말 및 공휴일만 추출\n",
        "    market_closed =holidays[holidays['holiday']==\"O\"].reset_index(drop=True)\n",
        "    \n",
        "    ## 2-3) 휴장일 List 생성\n",
        "    market_closed_list = list(market_closed['date'])\n",
        "    \n",
        "    ## 2-4) iteration limit 조정\n",
        "    limit_number = 15000\n",
        "    sys.setrecursionlimit(limit_number)\n",
        "    \n",
        "    \n",
        "    while len(df_total[df_total['date'].isin(market_closed_list)]['date']) != 0:\n",
        "        for hoil in df_total[df_total['date'].isin(market_closed_list)]['date'].index:\n",
        "            df_total['date'][hoil] += datetime.timedelta(1)\n",
        "\n",
        "    # 간단한 전처리\n",
        "    df_total['text'] = df_total['text'].str.replace('\\[|\\]','')\n",
        "    df_total['text'] = df_total['text'].str.replace('[a-z]','')\n",
        "    df_total['text'] = df_total['text'].str.replace('[A-Z]','')\n",
        "    df_total['text'] = df_total['text'].str.replace('으','')\n",
        "    df_total['text'] = df_total['text'].str.replace('음악','')\n",
        "    df_total['text'] = df_total['text'].str.replace(\"[^ㄱ-ㅎㅏ-ㅣ가-힣 ]\",\"\")\n",
        "    df_total['text'] = df_total['text'].str.replace('^ +', \"\")\n",
        "\n",
        "    return df_total"
      ],
      "execution_count": null,
      "outputs": []
    },
    {
      "cell_type": "code",
      "metadata": {
        "id": "aVCMPSRb6Ej_"
      },
      "source": [
        "df_total = youtube_db()"
      ],
      "execution_count": null,
      "outputs": []
    },
    {
      "cell_type": "markdown",
      "metadata": {
        "id": "k4R-6utuIb2M"
      },
      "source": [
        "### 라벨링 패키지 및 모델 로딩"
      ]
    },
    {
      "cell_type": "code",
      "metadata": {
        "id": "hRLWye9q1BAd"
      },
      "source": [
        "# 라벨 훈련 데이터\n",
        "X_train = []\n",
        "aa = pd.read_csv('/content/drive/My Drive/Final PJT - 업빛투/감성분석/youtube/train_label.csv').drop('Unnamed: 0',1)\n",
        "aa.x = aa.x.str.replace('\\[|\\]','')\n",
        "aa.x = aa.x.str.replace(\"'\",\"\")\n",
        "aa.x = aa.x.str.replace(\" \",\"\")\n",
        "\n",
        "for i in aa.x:\n",
        "    temp = i.split(',')\n",
        "    X_train.append(temp)"
      ],
      "execution_count": null,
      "outputs": []
    },
    {
      "cell_type": "code",
      "metadata": {
        "id": "5zetvUCv8twE"
      },
      "source": [
        "len(X_train)"
      ],
      "execution_count": null,
      "outputs": []
    },
    {
      "cell_type": "code",
      "metadata": {
        "id": "9bF5jtt1Ih9u"
      },
      "source": [
        "from tensorflow.keras.preprocessing.text import Tokenizer\n",
        "from tensorflow.keras.preprocessing.sequence import pad_sequences\n",
        "from tensorflow.keras.models import load_model\n",
        "tokenizer = Tokenizer(19196)\n",
        "tokenizer.fit_on_texts(X_train)\n",
        "url = 'https://raw.githubusercontent.com/chaerui7967/stock_predict_news_and_youtube/master/Sentiment_Analysis/data/stopwords_ver1.txt'\n",
        "stopwords = list(pd.read_csv(url, header=None)[0])"
      ],
      "execution_count": null,
      "outputs": []
    },
    {
      "cell_type": "code",
      "metadata": {
        "id": "Cho5m1PvdGXD"
      },
      "source": [
        "max_len = 200"
      ],
      "execution_count": null,
      "outputs": []
    },
    {
      "cell_type": "code",
      "metadata": {
        "id": "AshJNfA447V8"
      },
      "source": [
        "# loaded_model = load_model('./best_model.h5')"
      ],
      "execution_count": null,
      "outputs": []
    },
    {
      "cell_type": "code",
      "metadata": {
        "id": "NP_tLIX8ITie"
      },
      "source": [
        "loaded_model = load_model('/content/drive/My Drive/Final PJT - 업빛투/감성분석/youtube/best_model.h5')"
      ],
      "execution_count": null,
      "outputs": []
    },
    {
      "cell_type": "code",
      "metadata": {
        "id": "HwNC68hrIUZo"
      },
      "source": [
        "def sentiment_predict(new_sentence):\n",
        "    new_sentence = okt.morphs(new_sentence, stem=True) # 토큰화\n",
        "    new_sentence = [word for word in new_sentence if not word in stopwords] # 불용어 제거\n",
        "    encoded = tokenizer.texts_to_sequences([new_sentence]) # 정수 인코딩\n",
        "    pad_new = pad_sequences(encoded, maxlen = max_len) # 패딩\n",
        "    score = float(loaded_model.predict(pad_new)) # 예측\n",
        "\n",
        "    if (score > 0.5):\n",
        "        # print(\"{:.2f}% 확률로 긍정 리뷰\\n\".format(score * 100))\n",
        "        return score, 1\n",
        "    elif (score == 0.5):\n",
        "        return score, 0\n",
        "    else:\n",
        "        # print(\"{:.2f}% 확률로 부정 리뷰\\n\".format((1 - score) * 100))\n",
        "        return score, -1"
      ],
      "execution_count": null,
      "outputs": []
    },
    {
      "cell_type": "code",
      "metadata": {
        "id": "2OzezH5R4uqz"
      },
      "source": [
        "# sentiment_predict('꿀잼') 연습"
      ],
      "execution_count": null,
      "outputs": []
    },
    {
      "cell_type": "markdown",
      "metadata": {
        "id": "8DffU1BXCIJG"
      },
      "source": [
        "### 삼프로"
      ]
    },
    {
      "cell_type": "code",
      "metadata": {
        "id": "H3rO3jJ8CHT_"
      },
      "source": [
        "sampro_df = df_total[(df_total.ch_nm == '삼프로TV_경제의신과함께') & (df_total.st_cd == '005380')]"
      ],
      "execution_count": null,
      "outputs": []
    },
    {
      "cell_type": "code",
      "metadata": {
        "id": "Gb-yIciPgOM2"
      },
      "source": [
        "sampro_df = sampro_df[sampro_df.date.isin(total_table.date)]"
      ],
      "execution_count": null,
      "outputs": []
    },
    {
      "cell_type": "code",
      "metadata": {
        "id": "BWVG9hpZhl0r"
      },
      "source": [
        "s_text = sampro_df.text.values"
      ],
      "execution_count": null,
      "outputs": []
    },
    {
      "cell_type": "code",
      "metadata": {
        "id": "xuBzqcl-g1kS"
      },
      "source": [
        "scores = [] # 긍정 확률\n",
        "for i in s_text:\n",
        "    score, _ = sentiment_predict(i)\n",
        "    scores.append(score)"
      ],
      "execution_count": null,
      "outputs": []
    },
    {
      "cell_type": "code",
      "metadata": {
        "id": "03M8AGXTkTmf"
      },
      "source": [
        "len(sampro_df),len(scores)"
      ],
      "execution_count": null,
      "outputs": []
    },
    {
      "cell_type": "code",
      "metadata": {
        "id": "KsRwyHnWkNwq"
      },
      "source": [
        "sampro_df['sampro_youtube'] = np.array(scores).reshape(-1,1)\n",
        "sampro_score = sampro_df.groupby(['date']).mean().reset_index()[['date','sampro_youtube']]"
      ],
      "execution_count": null,
      "outputs": []
    },
    {
      "cell_type": "code",
      "metadata": {
        "id": "CVIlOKAPlC1X"
      },
      "source": [
        "total_table = pd.merge(total_table, sampro_score, on='date',how='left')"
      ],
      "execution_count": null,
      "outputs": []
    },
    {
      "cell_type": "code",
      "metadata": {
        "id": "x8htvGMPj70d"
      },
      "source": [
        "total_table"
      ],
      "execution_count": null,
      "outputs": []
    },
    {
      "cell_type": "markdown",
      "metadata": {
        "id": "gGSiy6-TCLBt"
      },
      "source": [
        "### 한국경제"
      ]
    },
    {
      "cell_type": "code",
      "metadata": {
        "id": "VsybINpBCMOz"
      },
      "source": [
        "hk_df = df_total[(df_total.ch_nm == '한국경제TV') & (df_total.st_cd == '005380')]"
      ],
      "execution_count": null,
      "outputs": []
    },
    {
      "cell_type": "code",
      "metadata": {
        "id": "1ADV-pfhuik8"
      },
      "source": [
        "hk_df = hk_df[hk_df.date.isin(total_table.date)]"
      ],
      "execution_count": null,
      "outputs": []
    },
    {
      "cell_type": "code",
      "metadata": {
        "id": "SnsbkMKqumK6"
      },
      "source": [
        "hk_text = hk_df.text.values\n",
        "\n",
        "scores = [] # 긍정 확률\n",
        "for i in hk_text:\n",
        "    score, _ = sentiment_predict(i)\n",
        "    scores.append(score)"
      ],
      "execution_count": null,
      "outputs": []
    },
    {
      "cell_type": "code",
      "metadata": {
        "id": "cp1ZiPAIu0Q8"
      },
      "source": [
        "len(scores), len(hk_df)"
      ],
      "execution_count": null,
      "outputs": []
    },
    {
      "cell_type": "code",
      "metadata": {
        "id": "ROu2jElmu3xe"
      },
      "source": [
        "hk_df['hk_youtube'] = np.array(scores).reshape(-1,1)\n",
        "hk_score = hk_df.groupby(['date']).mean().reset_index()[['date','hk_youtube']]\n",
        "\n",
        "total_table = pd.merge(total_table, hk_score, on='date',how='left')"
      ],
      "execution_count": null,
      "outputs": []
    },
    {
      "cell_type": "markdown",
      "metadata": {
        "id": "iGhpLdmtCM-A"
      },
      "source": [
        "### 슈카월드"
      ]
    },
    {
      "cell_type": "code",
      "metadata": {
        "id": "dZ2_0NtoCS3N"
      },
      "source": [
        "su_df = df_total[(df_total.ch_nm == '슈카월드') & (df_total.st_cd == '005380')]\n",
        "\n",
        "su_df = su_df[su_df.date.isin(total_table.date)]\n",
        "\n",
        "su_text = su_df.text.values\n",
        "\n",
        "scores = [] # 긍정 확률\n",
        "for i in su_text:\n",
        "    score, _ = sentiment_predict(i)\n",
        "    scores.append(score)"
      ],
      "execution_count": null,
      "outputs": []
    },
    {
      "cell_type": "code",
      "metadata": {
        "id": "50kyCv61vj_g"
      },
      "source": [
        "len(su_df),len(scores)"
      ],
      "execution_count": null,
      "outputs": []
    },
    {
      "cell_type": "code",
      "metadata": {
        "id": "HQDjjfU7voK5"
      },
      "source": [
        "su_df['suka_youtube'] = np.array(scores).reshape(-1,1)\n",
        "suka_score = su_df.groupby(['date']).mean().reset_index()[['date','suka_youtube']]\n",
        "\n",
        "total_table = pd.merge(total_table, suka_score, on='date',how='left')"
      ],
      "execution_count": null,
      "outputs": []
    },
    {
      "cell_type": "code",
      "metadata": {
        "id": "w7SAHmDd-Peh"
      },
      "source": [
        "total_table.columns"
      ],
      "execution_count": null,
      "outputs": []
    },
    {
      "cell_type": "code",
      "metadata": {
        "id": "LLVbjqfn-M0L"
      },
      "source": [
        "total_table = total_table[['code', 'date', 'lstm', 'arima', 'fbprophet', 'RL', 'mail_news',\n",
        "       'mail_news_nsi', 'asia_news', 'asia_news_nsi',\n",
        "       'sampro_youtube', 'hk_youtube', 'suka_youtube', 'close', 'change']]"
      ],
      "execution_count": null,
      "outputs": []
    },
    {
      "cell_type": "markdown",
      "metadata": {
        "id": "gfWJIjLS-eS_"
      },
      "source": [
        "# 최종결과"
      ]
    },
    {
      "cell_type": "code",
      "metadata": {
        "id": "vCcy6aGO-WMs"
      },
      "source": [
        "total_table"
      ],
      "execution_count": null,
      "outputs": []
    },
    {
      "cell_type": "code",
      "metadata": {
        "id": "Lft1l_kaB4-N"
      },
      "source": [
        "while total_table.iloc[-1:].isnull().sum().sum() != 0:\n",
        "    if total_table.iloc[:1].isnull().sum().sum() != 0:\n",
        "      for i in range(1, len(total_table)):\n",
        "        total_table = total_table.fillna(method='pad')\n",
        "      break\n",
        "    total_table = total_table.fillna(method='pad')"
      ],
      "execution_count": null,
      "outputs": []
    },
    {
      "cell_type": "code",
      "metadata": {
        "id": "BIOyBv3fClUM"
      },
      "source": [
        "total_table"
      ],
      "execution_count": null,
      "outputs": []
    },
    {
      "cell_type": "code",
      "metadata": {
        "id": "8xE1J3yN-X63"
      },
      "source": [
        "total_table.to_csv('./total_table.csv', index=False)"
      ],
      "execution_count": null,
      "outputs": []
    },
    {
      "cell_type": "code",
      "metadata": {
        "id": "zyBrivLSX_vD"
      },
      "source": [
        "total_table = pd.read_csv('./total_table.csv')"
      ],
      "execution_count": null,
      "outputs": []
    },
    {
      "cell_type": "markdown",
      "metadata": {
        "id": "6ALlQRzNN9DJ"
      },
      "source": [
        "# 하드보팅"
      ]
    },
    {
      "cell_type": "code",
      "metadata": {
        "id": "_d9OLdLD-0Be"
      },
      "source": [
        "total_table_ud = np.round(total_table,2)\n",
        "\n",
        "\n",
        "for i in range(len(total_table_ud)-1,0,-1):\n",
        "  if total_table_ud['lstm'].iloc[i] > total_table_ud['lstm'].iloc[i-1]:\n",
        "    total_table_ud['lstm'].iloc[i] = 1\n",
        "  else:\n",
        "    total_table_ud['lstm'].iloc[i] = -1\n",
        "  \n",
        "  if total_table_ud['arima'].iloc[i] > total_table_ud['close'].iloc[i-1]:\n",
        "    total_table_ud['arima'].iloc[i] = 1\n",
        "  else:\n",
        "    total_table_ud['arima'].iloc[i] = -1\n",
        "  \n",
        "  if total_table_ud['fbprophet'].iloc[i] > total_table_ud['fbprophet'].iloc[i-1]:\n",
        "    total_table_ud['fbprophet'].iloc[i] = 1\n",
        "  else:\n",
        "    total_table_ud['fbprophet'].iloc[i] = -1\n",
        "  \n",
        "total_table_ud['mail_news'] = np.where(total_table_ud['mail_news']>0.5,1,\n",
        "                                       np.where(total_table_ud['mail_news']<0.5,-1,0))\n",
        "\n",
        "total_table_ud['mail_news_nsi'] = np.where(total_table_ud['mail_news_nsi']>100,1,\n",
        "                                       np.where(total_table_ud['mail_news_nsi']<100,-1,0))\n",
        "\n",
        "total_table_ud['asia_news'] = np.where(total_table_ud['asia_news']>0.5,1,\n",
        "                                       np.where(total_table_ud['asia_news']<0.5,-1,0))\n",
        "\n",
        "total_table_ud['asia_news_nsi'] = np.where(total_table_ud['asia_news_nsi']>100,1,\n",
        "                                       np.where(total_table_ud['asia_news_nsi']<100,-1,0))\n",
        "\n",
        "total_table_ud['sampro_youtube'] = np.where(total_table_ud['sampro_youtube']>0.5,1,\n",
        "                                       np.where(total_table_ud['sampro_youtube']<0.5,-1,0))\n",
        "\n",
        "total_table_ud['hk_youtube'] = np.where(total_table_ud['hk_youtube']>0.5,1,\n",
        "                                       np.where(total_table_ud['hk_youtube']<0.5,-1,0))\n",
        "\n",
        "total_table_ud['suka_youtube'] = np.where(total_table_ud['suka_youtube']>0.5,1,\n",
        "                                       np.where(total_table_ud['suka_youtube']<0.5,-1,0))\n",
        "\n",
        "total_table_ud['change'] = np.where(total_table_ud['change']>0,1,\n",
        "                                       np.where(total_table_ud['change']<0,-1,0))\n",
        "total_table_ud.drop('close',1,inplace=True)"
      ],
      "execution_count": null,
      "outputs": []
    },
    {
      "cell_type": "code",
      "metadata": {
        "colab": {
          "base_uri": "https://localhost:8080/",
          "height": 545
        },
        "id": "fya9_HFOWSfk",
        "outputId": "06d8c22a-69b2-49b0-d6a4-d8cad5e62d73"
      },
      "source": [
        "total_table_ud"
      ],
      "execution_count": null,
      "outputs": [
        {
          "output_type": "execute_result",
          "data": {
            "text/html": [
              "<div>\n",
              "<style scoped>\n",
              "    .dataframe tbody tr th:only-of-type {\n",
              "        vertical-align: middle;\n",
              "    }\n",
              "\n",
              "    .dataframe tbody tr th {\n",
              "        vertical-align: top;\n",
              "    }\n",
              "\n",
              "    .dataframe thead th {\n",
              "        text-align: right;\n",
              "    }\n",
              "</style>\n",
              "<table border=\"1\" class=\"dataframe\">\n",
              "  <thead>\n",
              "    <tr style=\"text-align: right;\">\n",
              "      <th></th>\n",
              "      <th>code</th>\n",
              "      <th>date</th>\n",
              "      <th>lstm</th>\n",
              "      <th>arima</th>\n",
              "      <th>fbprophet</th>\n",
              "      <th>RL</th>\n",
              "      <th>mail_news</th>\n",
              "      <th>mail_news_nsi</th>\n",
              "      <th>asia_news</th>\n",
              "      <th>asia_news_nsi</th>\n",
              "      <th>sampro_youtube</th>\n",
              "      <th>hk_youtube</th>\n",
              "      <th>suka_youtube</th>\n",
              "      <th>change</th>\n",
              "    </tr>\n",
              "  </thead>\n",
              "  <tbody>\n",
              "    <tr>\n",
              "      <th>0</th>\n",
              "      <td>5380</td>\n",
              "      <td>2021-09-15</td>\n",
              "      <td>208400.87</td>\n",
              "      <td>209285.27</td>\n",
              "      <td>208127.22</td>\n",
              "      <td>-1</td>\n",
              "      <td>1</td>\n",
              "      <td>1</td>\n",
              "      <td>1</td>\n",
              "      <td>1</td>\n",
              "      <td>-1</td>\n",
              "      <td>1</td>\n",
              "      <td>1</td>\n",
              "      <td>0</td>\n",
              "    </tr>\n",
              "    <tr>\n",
              "      <th>1</th>\n",
              "      <td>5380</td>\n",
              "      <td>2021-09-16</td>\n",
              "      <td>-1.00</td>\n",
              "      <td>-1.00</td>\n",
              "      <td>-1.00</td>\n",
              "      <td>-1</td>\n",
              "      <td>1</td>\n",
              "      <td>1</td>\n",
              "      <td>1</td>\n",
              "      <td>1</td>\n",
              "      <td>-1</td>\n",
              "      <td>-1</td>\n",
              "      <td>1</td>\n",
              "      <td>-1</td>\n",
              "    </tr>\n",
              "    <tr>\n",
              "      <th>2</th>\n",
              "      <td>5380</td>\n",
              "      <td>2021-09-17</td>\n",
              "      <td>-1.00</td>\n",
              "      <td>1.00</td>\n",
              "      <td>-1.00</td>\n",
              "      <td>-1</td>\n",
              "      <td>1</td>\n",
              "      <td>1</td>\n",
              "      <td>1</td>\n",
              "      <td>1</td>\n",
              "      <td>-1</td>\n",
              "      <td>-1</td>\n",
              "      <td>1</td>\n",
              "      <td>0</td>\n",
              "    </tr>\n",
              "    <tr>\n",
              "      <th>3</th>\n",
              "      <td>5380</td>\n",
              "      <td>2021-09-23</td>\n",
              "      <td>-1.00</td>\n",
              "      <td>1.00</td>\n",
              "      <td>-1.00</td>\n",
              "      <td>-1</td>\n",
              "      <td>1</td>\n",
              "      <td>1</td>\n",
              "      <td>1</td>\n",
              "      <td>1</td>\n",
              "      <td>1</td>\n",
              "      <td>1</td>\n",
              "      <td>1</td>\n",
              "      <td>0</td>\n",
              "    </tr>\n",
              "    <tr>\n",
              "      <th>4</th>\n",
              "      <td>5380</td>\n",
              "      <td>2021-09-24</td>\n",
              "      <td>-1.00</td>\n",
              "      <td>-1.00</td>\n",
              "      <td>-1.00</td>\n",
              "      <td>1</td>\n",
              "      <td>-1</td>\n",
              "      <td>-1</td>\n",
              "      <td>-1</td>\n",
              "      <td>-1</td>\n",
              "      <td>-1</td>\n",
              "      <td>1</td>\n",
              "      <td>1</td>\n",
              "      <td>-1</td>\n",
              "    </tr>\n",
              "    <tr>\n",
              "      <th>5</th>\n",
              "      <td>5380</td>\n",
              "      <td>2021-09-27</td>\n",
              "      <td>1.00</td>\n",
              "      <td>-1.00</td>\n",
              "      <td>-1.00</td>\n",
              "      <td>-1</td>\n",
              "      <td>-1</td>\n",
              "      <td>-1</td>\n",
              "      <td>-1</td>\n",
              "      <td>-1</td>\n",
              "      <td>1</td>\n",
              "      <td>-1</td>\n",
              "      <td>1</td>\n",
              "      <td>-1</td>\n",
              "    </tr>\n",
              "    <tr>\n",
              "      <th>6</th>\n",
              "      <td>5380</td>\n",
              "      <td>2021-09-28</td>\n",
              "      <td>-1.00</td>\n",
              "      <td>1.00</td>\n",
              "      <td>-1.00</td>\n",
              "      <td>1</td>\n",
              "      <td>-1</td>\n",
              "      <td>-1</td>\n",
              "      <td>1</td>\n",
              "      <td>1</td>\n",
              "      <td>-1</td>\n",
              "      <td>-1</td>\n",
              "      <td>1</td>\n",
              "      <td>-1</td>\n",
              "    </tr>\n",
              "    <tr>\n",
              "      <th>7</th>\n",
              "      <td>5380</td>\n",
              "      <td>2021-09-29</td>\n",
              "      <td>-1.00</td>\n",
              "      <td>-1.00</td>\n",
              "      <td>-1.00</td>\n",
              "      <td>-1</td>\n",
              "      <td>1</td>\n",
              "      <td>1</td>\n",
              "      <td>-1</td>\n",
              "      <td>-1</td>\n",
              "      <td>-1</td>\n",
              "      <td>-1</td>\n",
              "      <td>1</td>\n",
              "      <td>0</td>\n",
              "    </tr>\n",
              "    <tr>\n",
              "      <th>8</th>\n",
              "      <td>5380</td>\n",
              "      <td>2021-09-30</td>\n",
              "      <td>-1.00</td>\n",
              "      <td>1.00</td>\n",
              "      <td>-1.00</td>\n",
              "      <td>1</td>\n",
              "      <td>1</td>\n",
              "      <td>1</td>\n",
              "      <td>1</td>\n",
              "      <td>1</td>\n",
              "      <td>1</td>\n",
              "      <td>-1</td>\n",
              "      <td>1</td>\n",
              "      <td>-1</td>\n",
              "    </tr>\n",
              "    <tr>\n",
              "      <th>9</th>\n",
              "      <td>5380</td>\n",
              "      <td>2021-10-01</td>\n",
              "      <td>-1.00</td>\n",
              "      <td>-1.00</td>\n",
              "      <td>-1.00</td>\n",
              "      <td>-1</td>\n",
              "      <td>-1</td>\n",
              "      <td>-1</td>\n",
              "      <td>1</td>\n",
              "      <td>1</td>\n",
              "      <td>-1</td>\n",
              "      <td>1</td>\n",
              "      <td>1</td>\n",
              "      <td>-1</td>\n",
              "    </tr>\n",
              "  </tbody>\n",
              "</table>\n",
              "</div>"
            ],
            "text/plain": [
              "   code        date       lstm  ...  hk_youtube  suka_youtube  change\n",
              "0  5380  2021-09-15  208400.87  ...           1             1       0\n",
              "1  5380  2021-09-16      -1.00  ...          -1             1      -1\n",
              "2  5380  2021-09-17      -1.00  ...          -1             1       0\n",
              "3  5380  2021-09-23      -1.00  ...           1             1       0\n",
              "4  5380  2021-09-24      -1.00  ...           1             1      -1\n",
              "5  5380  2021-09-27       1.00  ...          -1             1      -1\n",
              "6  5380  2021-09-28      -1.00  ...          -1             1      -1\n",
              "7  5380  2021-09-29      -1.00  ...          -1             1       0\n",
              "8  5380  2021-09-30      -1.00  ...          -1             1      -1\n",
              "9  5380  2021-10-01      -1.00  ...           1             1      -1\n",
              "\n",
              "[10 rows x 14 columns]"
            ]
          },
          "metadata": {},
          "execution_count": 101
        }
      ]
    },
    {
      "cell_type": "code",
      "metadata": {
        "id": "m6Ofx6AhXvkC"
      },
      "source": [
        "total_table_ud.to_csv('./hun_table_ud.csv', index=False)"
      ],
      "execution_count": null,
      "outputs": []
    },
    {
      "cell_type": "code",
      "metadata": {
        "id": "fNKWV0J_N_ZS"
      },
      "source": [
        ""
      ],
      "execution_count": null,
      "outputs": []
    },
    {
      "cell_type": "markdown",
      "metadata": {
        "id": "NJPUgwoWHckL"
      },
      "source": [
        "# 로지스틱"
      ]
    },
    {
      "cell_type": "code",
      "metadata": {
        "id": "fppxN9PkLrQc"
      },
      "source": [
        "total_table.isnull().sum()"
      ],
      "execution_count": null,
      "outputs": []
    },
    {
      "cell_type": "code",
      "metadata": {
        "colab": {
          "base_uri": "https://localhost:8080/",
          "height": 223
        },
        "id": "6Od6Mp1yHd9E",
        "outputId": "bc08970d-ae74-4200-99ff-93dd4e7235b5"
      },
      "source": [
        "from sklearn.linear_model import LogisticRegression\n",
        "from sklearn.model_selection import train_test_split\n",
        "from sklearn.metrics import confusion_matrix\n",
        "from sklearn.metrics import accuracy_score, roc_auc_score, roc_curve\n",
        "import statsmodels.api as sm\n",
        "import matplotlib.pyplot as plt\n",
        "import time\n",
        "import joblib\n",
        "\n",
        "logit = total_table.copy()\n",
        "logit.dropna(inplace=True)\n",
        "logit.drop('close',1,inplace=True)\n",
        "logit['change'] = np.where(logit['change']>0,1,\n",
        "                           np.where(logit['change']<0,-1,0))\n",
        "\n",
        "# 회귀모델에서 b0를 위한 상수항 추가\n",
        "\n",
        "logit = sm.add_constant(logit,has_constant = \"add\")\n",
        "a=logit[logit['change'] == 0].index\n",
        "logit = logit.drop(a)\n",
        "logit = logit.reset_index().drop(['index'],1)\n",
        "logit.head()"
      ],
      "execution_count": null,
      "outputs": [
        {
          "output_type": "execute_result",
          "data": {
            "text/html": [
              "<div>\n",
              "<style scoped>\n",
              "    .dataframe tbody tr th:only-of-type {\n",
              "        vertical-align: middle;\n",
              "    }\n",
              "\n",
              "    .dataframe tbody tr th {\n",
              "        vertical-align: top;\n",
              "    }\n",
              "\n",
              "    .dataframe thead th {\n",
              "        text-align: right;\n",
              "    }\n",
              "</style>\n",
              "<table border=\"1\" class=\"dataframe\">\n",
              "  <thead>\n",
              "    <tr style=\"text-align: right;\">\n",
              "      <th></th>\n",
              "      <th>const</th>\n",
              "      <th>lstm</th>\n",
              "      <th>arima</th>\n",
              "      <th>fbprophet</th>\n",
              "      <th>RL</th>\n",
              "      <th>mail_news</th>\n",
              "      <th>mail_news_nsi</th>\n",
              "      <th>asia_news</th>\n",
              "      <th>asia_news_nsi</th>\n",
              "      <th>sampro_youtube</th>\n",
              "      <th>hk_youtube</th>\n",
              "      <th>suka_youtube</th>\n",
              "      <th>change</th>\n",
              "    </tr>\n",
              "  </thead>\n",
              "  <tbody>\n",
              "    <tr>\n",
              "      <th>0</th>\n",
              "      <td>1.0</td>\n",
              "      <td>343767.652482</td>\n",
              "      <td>332938.327427</td>\n",
              "      <td>314083.372057</td>\n",
              "      <td>-1</td>\n",
              "      <td>0.416667</td>\n",
              "      <td>83.476190</td>\n",
              "      <td>0.275238</td>\n",
              "      <td>55.047619</td>\n",
              "      <td>0.800389</td>\n",
              "      <td>0.827457</td>\n",
              "      <td>0.072400</td>\n",
              "      <td>-1</td>\n",
              "    </tr>\n",
              "    <tr>\n",
              "      <th>1</th>\n",
              "      <td>1.0</td>\n",
              "      <td>342534.304827</td>\n",
              "      <td>320818.597249</td>\n",
              "      <td>312548.683984</td>\n",
              "      <td>1</td>\n",
              "      <td>0.314286</td>\n",
              "      <td>62.857143</td>\n",
              "      <td>0.555556</td>\n",
              "      <td>111.111111</td>\n",
              "      <td>0.238027</td>\n",
              "      <td>0.827457</td>\n",
              "      <td>0.072400</td>\n",
              "      <td>1</td>\n",
              "    </tr>\n",
              "    <tr>\n",
              "      <th>2</th>\n",
              "      <td>1.0</td>\n",
              "      <td>343214.869678</td>\n",
              "      <td>321044.547989</td>\n",
              "      <td>309544.925421</td>\n",
              "      <td>1</td>\n",
              "      <td>0.428571</td>\n",
              "      <td>85.914286</td>\n",
              "      <td>0.571429</td>\n",
              "      <td>114.285714</td>\n",
              "      <td>0.238027</td>\n",
              "      <td>0.114109</td>\n",
              "      <td>0.901804</td>\n",
              "      <td>-1</td>\n",
              "    </tr>\n",
              "    <tr>\n",
              "      <th>3</th>\n",
              "      <td>1.0</td>\n",
              "      <td>343985.949785</td>\n",
              "      <td>318394.128853</td>\n",
              "      <td>310515.449954</td>\n",
              "      <td>0</td>\n",
              "      <td>0.441667</td>\n",
              "      <td>88.333333</td>\n",
              "      <td>0.250000</td>\n",
              "      <td>50.000000</td>\n",
              "      <td>0.238027</td>\n",
              "      <td>0.381141</td>\n",
              "      <td>0.901804</td>\n",
              "      <td>1</td>\n",
              "    </tr>\n",
              "    <tr>\n",
              "      <th>4</th>\n",
              "      <td>1.0</td>\n",
              "      <td>342758.369327</td>\n",
              "      <td>326121.652877</td>\n",
              "      <td>309649.086750</td>\n",
              "      <td>-1</td>\n",
              "      <td>0.600000</td>\n",
              "      <td>120.000000</td>\n",
              "      <td>0.833333</td>\n",
              "      <td>166.666667</td>\n",
              "      <td>0.238027</td>\n",
              "      <td>0.381141</td>\n",
              "      <td>0.901804</td>\n",
              "      <td>1</td>\n",
              "    </tr>\n",
              "  </tbody>\n",
              "</table>\n",
              "</div>"
            ],
            "text/plain": [
              "   const           lstm          arima  ...  hk_youtube  suka_youtube  change\n",
              "0    1.0  343767.652482  332938.327427  ...    0.827457      0.072400      -1\n",
              "1    1.0  342534.304827  320818.597249  ...    0.827457      0.072400       1\n",
              "2    1.0  343214.869678  321044.547989  ...    0.114109      0.901804      -1\n",
              "3    1.0  343985.949785  318394.128853  ...    0.381141      0.901804       1\n",
              "4    1.0  342758.369327  326121.652877  ...    0.381141      0.901804       1\n",
              "\n",
              "[5 rows x 13 columns]"
            ]
          },
          "metadata": {},
          "execution_count": 392
        }
      ]
    },
    {
      "cell_type": "code",
      "metadata": {
        "colab": {
          "base_uri": "https://localhost:8080/"
        },
        "id": "QdbZcae-N6Vh",
        "outputId": "10cdc5ea-456e-4bf3-dcbd-4ff59d463a36"
      },
      "source": [
        "cols = logit.columns.difference([\"change\",'code','date'])\n",
        "X = logit[cols]\n",
        "y = logit[\"change\"]\n",
        "\n",
        "train_x, test_x ,train_y, test_y = train_test_split(X, y, stratify=y,test_size=0.3,random_state=1)\n",
        "print(train_x.shape, test_x.shape, train_y.shape, test_y.shape)"
      ],
      "execution_count": null,
      "outputs": [
        {
          "output_type": "stream",
          "name": "stdout",
          "text": [
            "(350, 12) (151, 12) (350,) (151,)\n"
          ]
        }
      ]
    },
    {
      "cell_type": "code",
      "metadata": {
        "id": "uy4z-N3OOz0_"
      },
      "source": [
        "model = LogisticRegression(random_state=1)\n",
        "results = model.fit(train_x, train_y) # 다변수함수에 뉴턴방법을 적용한 로지스틱 회귀모형"
      ],
      "execution_count": null,
      "outputs": []
    },
    {
      "cell_type": "code",
      "metadata": {
        "colab": {
          "base_uri": "https://localhost:8080/"
        },
        "id": "RBtUBq2WPt_h",
        "outputId": "d7d29188-88b4-4096-def9-f7f4f0a181df"
      },
      "source": [
        "results.coef_"
      ],
      "execution_count": null,
      "outputs": [
        {
          "output_type": "execute_result",
          "data": {
            "text/plain": [
              "array([[ 2.34942790e-05, -1.06778188e-05, -2.47077916e-06,\n",
              "        -4.59710381e-04,  5.55196646e-05,  1.79263872e-05,\n",
              "         3.42278167e-07, -8.06354913e-06,  3.32095899e-05,\n",
              "         6.65708875e-03, -4.17949363e-05,  3.55925958e-05]])"
            ]
          },
          "metadata": {},
          "execution_count": 396
        }
      ]
    },
    {
      "cell_type": "code",
      "metadata": {
        "colab": {
          "base_uri": "https://localhost:8080/"
        },
        "id": "rjoK_7MdPxaR",
        "outputId": "29a66338-0d05-46b0-8a72-3125550d5515"
      },
      "source": [
        "# 아직 로지스틱의 log형태가 취해진 결과이기에 바로 확률로 해석하면 안된다. \n",
        "# np.exp(results.params)의 결과를 확인 필요\n",
        "np.exp(results.coef_)"
      ],
      "execution_count": null,
      "outputs": [
        {
          "output_type": "execute_result",
          "data": {
            "text/plain": [
              "array([[1.00002349, 0.99998932, 0.99999753, 0.9995404 , 1.00005552,\n",
              "        1.00001793, 1.00000034, 0.99999194, 1.00003321, 1.0066793 ,\n",
              "        0.99995821, 1.00003559]])"
            ]
          },
          "metadata": {},
          "execution_count": 397
        }
      ]
    },
    {
      "cell_type": "code",
      "metadata": {
        "colab": {
          "base_uri": "https://localhost:8080/"
        },
        "id": "qnDeRTM1PxX4",
        "outputId": "0d4f0fb5-b1cb-47a3-dd35-2702501ad570"
      },
      "source": [
        "pred_y = results.predict_proba(test_x)\n",
        "pred_y"
      ],
      "execution_count": null,
      "outputs": [
        {
          "output_type": "execute_result",
          "data": {
            "text/plain": [
              "array([-1, -1, -1, -1, -1,  1,  1,  1,  1, -1, -1, -1,  1,  1, -1,  1, -1,\n",
              "        1,  1,  1, -1, -1,  1,  1,  1,  1, -1,  1,  1,  1, -1,  1,  1,  1,\n",
              "        1,  1, -1,  1,  1, -1,  1,  1,  1, -1,  1, -1, -1,  1, -1,  1, -1,\n",
              "       -1,  1,  1,  1,  1,  1,  1,  1,  1, -1,  1, -1,  1,  1,  1, -1, -1,\n",
              "       -1, -1,  1,  1,  1,  1,  1,  1,  1,  1,  1,  1, -1,  1, -1,  1,  1,\n",
              "        1, -1,  1,  1,  1,  1,  1,  1, -1, -1, -1,  1, -1,  1,  1, -1,  1,\n",
              "        1,  1,  1,  1, -1,  1,  1, -1,  1, -1,  1, -1, -1, -1,  1, -1,  1,\n",
              "       -1, -1, -1,  1, -1, -1, -1, -1,  1,  1,  1,  1,  1,  1, -1,  1, -1,\n",
              "       -1,  1, -1, -1,  1, -1,  1,  1,  1,  1, -1,  1, -1,  1, -1])"
            ]
          },
          "metadata": {},
          "execution_count": 398
        }
      ]
    },
    {
      "cell_type": "code",
      "metadata": {
        "colab": {
          "base_uri": "https://localhost:8080/"
        },
        "id": "lZnVY78-QE_s",
        "outputId": "6cba9193-a71e-4cb0-cb86-1c96092aa0d6"
      },
      "source": [
        "# 임계값 함수\n",
        "\n",
        "def cut_off(y, threshold) :\n",
        "    Y = []  # 대문자 Y를 새로운 변수로 하여 기존의 y값에 영향이 가지 않도록 한다.\n",
        "    for i in range(len(y)):\n",
        "      a = y[i][0]\n",
        "      if a > threshold:\n",
        "        Y.append(-1)\n",
        "      else:\n",
        "        Y.append(1)\n",
        "    \n",
        "    return np.array(Y)\n",
        "  \n",
        "\n",
        "pred_Y = cut_off(pred_y, 0.5)\n",
        "pred_Y"
      ],
      "execution_count": null,
      "outputs": [
        {
          "output_type": "execute_result",
          "data": {
            "text/plain": [
              "array([-1, -1, -1, -1, -1,  1,  1,  1,  1, -1, -1, -1,  1,  1, -1,  1, -1,\n",
              "        1,  1,  1, -1, -1,  1,  1,  1,  1, -1,  1,  1,  1, -1,  1,  1,  1,\n",
              "        1,  1, -1,  1,  1, -1,  1,  1,  1, -1,  1, -1, -1,  1, -1,  1, -1,\n",
              "       -1,  1,  1,  1,  1,  1,  1,  1,  1, -1,  1, -1,  1,  1,  1, -1, -1,\n",
              "       -1, -1,  1,  1,  1,  1,  1,  1,  1,  1,  1,  1, -1,  1, -1,  1,  1,\n",
              "        1, -1,  1,  1,  1,  1,  1,  1, -1, -1, -1,  1, -1,  1,  1, -1,  1,\n",
              "        1,  1,  1,  1, -1,  1,  1, -1,  1, -1,  1, -1, -1, -1,  1, -1,  1,\n",
              "       -1, -1, -1,  1, -1, -1, -1, -1,  1,  1,  1,  1,  1,  1, -1,  1, -1,\n",
              "       -1,  1, -1, -1,  1, -1,  1,  1,  1,  1, -1,  1, -1,  1, -1])"
            ]
          },
          "metadata": {},
          "execution_count": 413
        }
      ]
    },
    {
      "cell_type": "code",
      "metadata": {
        "colab": {
          "base_uri": "https://localhost:8080/"
        },
        "id": "KgGcITSVQLgv",
        "outputId": "1952290b-0832-4d1a-91ce-0624f3ae41b8"
      },
      "source": [
        "# confusion matrix (분류 표를 나타낸 행렬)\n",
        "\n",
        "cfmat = confusion_matrix(test_y,pred_Y)\n",
        "print(cfmat)"
      ],
      "execution_count": null,
      "outputs": [
        {
          "output_type": "stream",
          "name": "stdout",
          "text": [
            "[[37 34]\n",
            " [22 58]]\n"
          ]
        }
      ]
    },
    {
      "cell_type": "code",
      "metadata": {
        "colab": {
          "base_uri": "https://localhost:8080/"
        },
        "id": "A9sj3k56QPWc",
        "outputId": "f5d22c9f-8d33-471d-f1ee-69aebad73772"
      },
      "source": [
        "# confusion matrix accuracy(정확도) 계산함수\n",
        "\n",
        "def acc(cfmat):\n",
        "\treturn (cfmat[0,0] + cfmat[1,1])/(cfmat[0,0] + cfmat[1,1] + cfmat[0,1] + cfmat[1,0])\n",
        "acc(cfmat)"
      ],
      "execution_count": null,
      "outputs": [
        {
          "output_type": "execute_result",
          "data": {
            "text/plain": [
              "0.6291390728476821"
            ]
          },
          "metadata": {},
          "execution_count": 415
        }
      ]
    },
    {
      "cell_type": "code",
      "metadata": {
        "colab": {
          "base_uri": "https://localhost:8080/",
          "height": 388
        },
        "id": "WM5k59CUQVp6",
        "outputId": "09c44eee-579e-4da9-dca5-fa2a5787d385"
      },
      "source": [
        "# 임계값 0~1에 따른 정확도 확인\n",
        "\n",
        "threshold = np.arange(0,1,0.1)\n",
        "table = pd.DataFrame(columns = ['ACC'])\n",
        "for i in threshold :\n",
        "\tpred_Y = cut_off(pred_y,i)\n",
        "\tcfmat = confusion_matrix(test_y,pred_Y)\n",
        "\ttable.loc[i] = acc(cfmat)\n",
        "table.index.name = \"threshold\"\n",
        "table.columns.name = \"performance\"\n",
        "table"
      ],
      "execution_count": null,
      "outputs": [
        {
          "output_type": "execute_result",
          "data": {
            "text/html": [
              "<div>\n",
              "<style scoped>\n",
              "    .dataframe tbody tr th:only-of-type {\n",
              "        vertical-align: middle;\n",
              "    }\n",
              "\n",
              "    .dataframe tbody tr th {\n",
              "        vertical-align: top;\n",
              "    }\n",
              "\n",
              "    .dataframe thead th {\n",
              "        text-align: right;\n",
              "    }\n",
              "</style>\n",
              "<table border=\"1\" class=\"dataframe\">\n",
              "  <thead>\n",
              "    <tr style=\"text-align: right;\">\n",
              "      <th>performance</th>\n",
              "      <th>ACC</th>\n",
              "    </tr>\n",
              "    <tr>\n",
              "      <th>threshold</th>\n",
              "      <th></th>\n",
              "    </tr>\n",
              "  </thead>\n",
              "  <tbody>\n",
              "    <tr>\n",
              "      <th>0.0</th>\n",
              "      <td>0.629139</td>\n",
              "    </tr>\n",
              "    <tr>\n",
              "      <th>0.1</th>\n",
              "      <td>0.629139</td>\n",
              "    </tr>\n",
              "    <tr>\n",
              "      <th>0.2</th>\n",
              "      <td>0.629139</td>\n",
              "    </tr>\n",
              "    <tr>\n",
              "      <th>0.3</th>\n",
              "      <td>0.629139</td>\n",
              "    </tr>\n",
              "    <tr>\n",
              "      <th>0.4</th>\n",
              "      <td>0.629139</td>\n",
              "    </tr>\n",
              "    <tr>\n",
              "      <th>0.5</th>\n",
              "      <td>0.629139</td>\n",
              "    </tr>\n",
              "    <tr>\n",
              "      <th>0.6</th>\n",
              "      <td>0.629139</td>\n",
              "    </tr>\n",
              "    <tr>\n",
              "      <th>0.7</th>\n",
              "      <td>0.629139</td>\n",
              "    </tr>\n",
              "    <tr>\n",
              "      <th>0.8</th>\n",
              "      <td>0.629139</td>\n",
              "    </tr>\n",
              "    <tr>\n",
              "      <th>0.9</th>\n",
              "      <td>0.629139</td>\n",
              "    </tr>\n",
              "  </tbody>\n",
              "</table>\n",
              "</div>"
            ],
            "text/plain": [
              "performance       ACC\n",
              "threshold            \n",
              "0.0          0.629139\n",
              "0.1          0.629139\n",
              "0.2          0.629139\n",
              "0.3          0.629139\n",
              "0.4          0.629139\n",
              "0.5          0.629139\n",
              "0.6          0.629139\n",
              "0.7          0.629139\n",
              "0.8          0.629139\n",
              "0.9          0.629139"
            ]
          },
          "metadata": {},
          "execution_count": 416
        }
      ]
    },
    {
      "cell_type": "code",
      "metadata": {
        "id": "HurKHCv7ctjH"
      },
      "source": [
        "pred_y = results.predict(test_x) # [-1,1]\n",
        "pred_y"
      ],
      "execution_count": null,
      "outputs": []
    },
    {
      "cell_type": "code",
      "metadata": {
        "colab": {
          "base_uri": "https://localhost:8080/",
          "height": 300
        },
        "id": "_J59Zb4CQWar",
        "outputId": "fa94b7d2-852a-40c1-9729-7daa156aa8c2"
      },
      "source": [
        "# sklearn에서 ROC 패키지 활용\n",
        "fpr, tpr, thresholds = roc_curve(test_y,pred_y,pos_label = 1)\n",
        "\n",
        "# ROC curve\n",
        "plt.plot(fpr,tpr)\n",
        "\n",
        "# AUC\n",
        "auc = np.trapz(tpr,fpr)\n",
        "print(\"AUC:\",auc)"
      ],
      "execution_count": null,
      "outputs": [
        {
          "output_type": "stream",
          "name": "stderr",
          "text": [
            "WARNING:matplotlib.font_manager:findfont: Font family ['Malgun Gothic'] not found. Falling back to DejaVu Sans.\n"
          ]
        },
        {
          "output_type": "stream",
          "name": "stdout",
          "text": [
            "AUC: 0.6230633802816901\n"
          ]
        },
        {
          "output_type": "display_data",
          "data": {
            "image/png": "[encoded data removed]",
            "text/plain": [
              "<Figure size 432x288 with 1 Axes>"
            ]
          },
          "metadata": {
            "needs_background": "light"
          }
        }
      ]
    },
    {
      "cell_type": "code",
      "metadata": {
        "id": "r1GpXNPqcwmP"
      },
      "source": [
        "table_logit = logit[-10:]\n",
        "table_logit['logit'] = pred_y[-10:]\n",
        "ratio = results.predict_proba(test_x)[-10:] # [-1,1]\n",
        "table_logit['up_ratio'] = 0.1\n",
        "for i in range(10):\n",
        "  table_logit['up_ratio'].iloc[i] = ratio[i][1]"
      ],
      "execution_count": null,
      "outputs": []
    },
    {
      "cell_type": "code",
      "metadata": {
        "id": "plysLKwzI8_s"
      },
      "source": [
        "joblib.dump(results, 'logit_hun_model.pkl')"
      ],
      "execution_count": null,
      "outputs": []
    },
    {
      "cell_type": "code",
      "metadata": {
        "id": "_t5urzx8OBm4"
      },
      "source": [
        "table_logit.to_csv('hun_logit_table.csv', index=False)"
      ],
      "execution_count": null,
      "outputs": []
    }
  ]
}