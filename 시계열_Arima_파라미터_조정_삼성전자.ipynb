{
  "nbformat": 4,
  "nbformat_minor": 0,
  "metadata": {
    "colab": {
      "name": "시계열 Arima 파라미터 조정_삼성전자.ipynb",
      "provenance": [],
      "collapsed_sections": [
        "rzqZggD467oa",
        "NViKaagEfOO6"
      ],
      "authorship_tag": "ABX9TyOGL+vBU6bAyjC3eQKagsvs",
      "include_colab_link": true
    },
    "kernelspec": {
      "name": "python3",
      "display_name": "Python 3"
    },
    "language_info": {
      "name": "python"
    }
  },
  "cells": [
    {
      "cell_type": "markdown",
      "metadata": {
        "id": "view-in-github",
        "colab_type": "text"
      },
      "source": [
        "<a href=\"https://colab.research.google.com/github/chaerui7967/stock_predict_news_and_youtube/blob/master/%EC%8B%9C%EA%B3%84%EC%97%B4_Arima_%ED%8C%8C%EB%9D%BC%EB%AF%B8%ED%84%B0_%EC%A1%B0%EC%A0%95_%EC%82%BC%EC%84%B1%EC%A0%84%EC%9E%90.ipynb\" target=\"_parent\"><img src=\"https://colab.research.google.com/assets/colab-badge.svg\" alt=\"Open In Colab\"/></a>"
      ]
    },
    {
      "cell_type": "markdown",
      "metadata": {
        "id": "IHPvJApZ62P_"
      },
      "source": [
        "# ARIMA 차분 파라미터 조정"
      ]
    },
    {
      "cell_type": "markdown",
      "metadata": {
        "id": "rzqZggD467oa"
      },
      "source": [
        "## 라이브러리 설치"
      ]
    },
    {
      "cell_type": "code",
      "metadata": {
        "id": "Se7bLOGA6q8n",
        "colab": {
          "base_uri": "https://localhost:8080/"
        },
        "outputId": "d2a2160e-af1f-48a8-a022-baa5c27b83c1"
      },
      "source": [
        "!pip install finance-datareader\n",
        "!pip install pykrx"
      ],
      "execution_count": null,
      "outputs": [
        {
          "output_type": "stream",
          "name": "stdout",
          "text": [
            "Requirement already satisfied: finance-datareader in /usr/local/lib/python3.7/dist-packages (0.9.31)\n",
            "Requirement already satisfied: tqdm in /usr/local/lib/python3.7/dist-packages (from finance-datareader) (4.62.0)\n",
            "Requirement already satisfied: pandas>=0.19.2 in /usr/local/lib/python3.7/dist-packages (from finance-datareader) (1.1.5)\n",
            "Requirement already satisfied: requests-file in /usr/local/lib/python3.7/dist-packages (from finance-datareader) (1.5.1)\n",
            "Requirement already satisfied: requests>=2.3.0 in /usr/local/lib/python3.7/dist-packages (from finance-datareader) (2.23.0)\n",
            "Requirement already satisfied: lxml in /usr/local/lib/python3.7/dist-packages (from finance-datareader) (4.2.6)\n",
            "Requirement already satisfied: numpy>=1.15.4 in /usr/local/lib/python3.7/dist-packages (from pandas>=0.19.2->finance-datareader) (1.19.5)\n",
            "Requirement already satisfied: pytz>=2017.2 in /usr/local/lib/python3.7/dist-packages (from pandas>=0.19.2->finance-datareader) (2018.9)\n",
            "Requirement already satisfied: python-dateutil>=2.7.3 in /usr/local/lib/python3.7/dist-packages (from pandas>=0.19.2->finance-datareader) (2.8.2)\n",
            "Requirement already satisfied: six>=1.5 in /usr/local/lib/python3.7/dist-packages (from python-dateutil>=2.7.3->pandas>=0.19.2->finance-datareader) (1.15.0)\n",
            "Requirement already satisfied: idna<3,>=2.5 in /usr/local/lib/python3.7/dist-packages (from requests>=2.3.0->finance-datareader) (2.10)\n",
            "Requirement already satisfied: certifi>=2017.4.17 in /usr/local/lib/python3.7/dist-packages (from requests>=2.3.0->finance-datareader) (2021.5.30)\n",
            "Requirement already satisfied: chardet<4,>=3.0.2 in /usr/local/lib/python3.7/dist-packages (from requests>=2.3.0->finance-datareader) (3.0.4)\n",
            "Requirement already satisfied: urllib3!=1.25.0,!=1.25.1,<1.26,>=1.21.1 in /usr/local/lib/python3.7/dist-packages (from requests>=2.3.0->finance-datareader) (1.24.3)\n",
            "Requirement already satisfied: pykrx in /usr/local/lib/python3.7/dist-packages (1.0.19)\n",
            "Requirement already satisfied: datetime in /usr/local/lib/python3.7/dist-packages (from pykrx) (4.3)\n",
            "Requirement already satisfied: requests in /usr/local/lib/python3.7/dist-packages (from pykrx) (2.23.0)\n",
            "Requirement already satisfied: pandas in /usr/local/lib/python3.7/dist-packages (from pykrx) (1.1.5)\n",
            "Requirement already satisfied: xlrd in /usr/local/lib/python3.7/dist-packages (from pykrx) (1.1.0)\n",
            "Requirement already satisfied: deprecated in /usr/local/lib/python3.7/dist-packages (from pykrx) (1.2.13)\n",
            "Requirement already satisfied: numpy in /usr/local/lib/python3.7/dist-packages (from pykrx) (1.19.5)\n",
            "Requirement already satisfied: zope.interface in /usr/local/lib/python3.7/dist-packages (from datetime->pykrx) (5.4.0)\n",
            "Requirement already satisfied: pytz in /usr/local/lib/python3.7/dist-packages (from datetime->pykrx) (2018.9)\n",
            "Requirement already satisfied: wrapt<2,>=1.10 in /usr/local/lib/python3.7/dist-packages (from deprecated->pykrx) (1.12.1)\n",
            "Requirement already satisfied: python-dateutil>=2.7.3 in /usr/local/lib/python3.7/dist-packages (from pandas->pykrx) (2.8.2)\n",
            "Requirement already satisfied: six>=1.5 in /usr/local/lib/python3.7/dist-packages (from python-dateutil>=2.7.3->pandas->pykrx) (1.15.0)\n",
            "Requirement already satisfied: chardet<4,>=3.0.2 in /usr/local/lib/python3.7/dist-packages (from requests->pykrx) (3.0.4)\n",
            "Requirement already satisfied: certifi>=2017.4.17 in /usr/local/lib/python3.7/dist-packages (from requests->pykrx) (2021.5.30)\n",
            "Requirement already satisfied: urllib3!=1.25.0,!=1.25.1,<1.26,>=1.21.1 in /usr/local/lib/python3.7/dist-packages (from requests->pykrx) (1.24.3)\n",
            "Requirement already satisfied: idna<3,>=2.5 in /usr/local/lib/python3.7/dist-packages (from requests->pykrx) (2.10)\n",
            "Requirement already satisfied: setuptools in /usr/local/lib/python3.7/dist-packages (from zope.interface->datetime->pykrx) (57.4.0)\n"
          ]
        }
      ]
    },
    {
      "cell_type": "markdown",
      "metadata": {
        "id": "NViKaagEfOO6"
      },
      "source": [
        "## colab 이용 시 한글 폰트 설정"
      ]
    },
    {
      "cell_type": "code",
      "metadata": {
        "colab": {
          "base_uri": "https://localhost:8080/"
        },
        "id": "qxKL5SwNfNX-",
        "outputId": "a84fb19c-461d-45c8-abde-8e673abd757f"
      },
      "source": [
        "import matplotlib as mpl  # 기본 설정 만지는 용도\n",
        "import matplotlib.font_manager as fm  # 폰트 관련 용도\n",
        "\n",
        "# 버전과 위치정보\n",
        "print(mpl.__version__)\n",
        "print(mpl.__file__)\n",
        "print(mpl.get_configdir())\n",
        "print(mpl.get_cachedir())"
      ],
      "execution_count": null,
      "outputs": [
        {
          "output_type": "stream",
          "name": "stdout",
          "text": [
            "3.2.2\n",
            "/usr/local/lib/python3.7/dist-packages/matplotlib/__init__.py\n",
            "/root/.config/matplotlib\n",
            "/root/.cache/matplotlib\n"
          ]
        }
      ]
    },
    {
      "cell_type": "code",
      "metadata": {
        "colab": {
          "base_uri": "https://localhost:8080/"
        },
        "id": "tc1u2OyifUpU",
        "outputId": "526d3a01-1dca-4a30-b11d-3b6b8d2d3d79"
      },
      "source": [
        "# 설치된 폰트 확인\n",
        "sys_font=fm.findSystemFonts()\n",
        "print(f\"sys_font number: {len(sys_font)}\")\n",
        "print(sys_font)\n",
        "\n",
        "nanum_font = [f for f in sys_font if 'Nanum' in f]\n",
        "print(f\"nanum_font number: {len(nanum_font)}\") # 나눔고딕 없음"
      ],
      "execution_count": null,
      "outputs": [
        {
          "output_type": "stream",
          "name": "stdout",
          "text": [
            "sys_font number: 48\n",
            "['/usr/share/fonts/truetype/nanum/NanumGothicBold.ttf', '/usr/share/fonts/truetype/liberation/LiberationSansNarrow-Bold.ttf', '/usr/share/fonts/truetype/nanum/NanumPen.ttf', '/usr/share/fonts/truetype/nanum/NanumMyeongjoEco.ttf', '/usr/share/fonts/truetype/liberation/LiberationMono-Italic.ttf', '/usr/share/fonts/truetype/nanum/NanumMyeongjoEcoExtraBold.ttf', '/usr/share/fonts/truetype/nanum/NanumMyeongjo.ttf', '/usr/share/fonts/truetype/nanum/NanumSquareEB.ttf', '/usr/share/fonts/truetype/nanum/NanumGothicLight.ttf', '/usr/share/fonts/truetype/nanum/NanumSquareRoundEB.ttf', '/usr/share/fonts/truetype/nanum/NanumBarunpenR.ttf', '/usr/share/fonts/truetype/liberation/LiberationSerif-BoldItalic.ttf', '/usr/share/fonts/truetype/liberation/LiberationSans-BoldItalic.ttf', '/usr/share/fonts/truetype/liberation/LiberationSerif-Italic.ttf', '/usr/share/fonts/truetype/nanum/NanumBarunpenB.ttf', '/usr/share/fonts/truetype/nanum/NanumBrush.ttf', '/usr/share/fonts/truetype/nanum/NanumGothic.ttf', '/usr/share/fonts/truetype/nanum/NanumBarunGothic.ttf', '/usr/share/fonts/truetype/nanum/NanumGothicEco.ttf', '/usr/share/fonts/truetype/liberation/LiberationSans-Bold.ttf', '/usr/share/fonts/truetype/liberation/LiberationMono-Bold.ttf', '/usr/share/fonts/truetype/nanum/NanumSquareRoundR.ttf', '/usr/share/fonts/truetype/nanum/NanumSquareR.ttf', '/usr/share/fonts/truetype/nanum/NanumSquareRoundL.ttf', '/usr/share/fonts/truetype/nanum/NanumGothicCoding-Bold.ttf', '/usr/share/fonts/truetype/nanum/NanumSquareB.ttf', '/usr/share/fonts/truetype/liberation/LiberationSerif-Bold.ttf', '/usr/share/fonts/truetype/nanum/NanumGothicExtraBold.ttf', '/usr/share/fonts/truetype/liberation/LiberationSans-Regular.ttf', '/usr/share/fonts/truetype/liberation/LiberationSansNarrow-Regular.ttf', '/usr/share/fonts/truetype/nanum/NanumSquareRoundB.ttf', '/usr/share/fonts/truetype/nanum/NanumMyeongjoEcoBold.ttf', '/usr/share/fonts/truetype/liberation/LiberationSans-Italic.ttf', '/usr/share/fonts/truetype/nanum/NanumGothicEcoBold.ttf', '/usr/share/fonts/truetype/liberation/LiberationSansNarrow-Italic.ttf', '/usr/share/fonts/truetype/nanum/NanumGothicEcoExtraBold.ttf', '/usr/share/fonts/truetype/liberation/LiberationSerif-Regular.ttf', '/usr/share/fonts/truetype/nanum/NanumMyeongjoBold.ttf', '/usr/share/fonts/truetype/nanum/NanumMyeongjoExtraBold.ttf', '/usr/share/fonts/truetype/liberation/LiberationMono-Regular.ttf', '/usr/share/fonts/truetype/humor-sans/Humor-Sans.ttf', '/usr/share/fonts/truetype/nanum/NanumBarunGothicUltraLight.ttf', '/usr/share/fonts/truetype/nanum/NanumSquareL.ttf', '/usr/share/fonts/truetype/nanum/NanumBarunGothicBold.ttf', '/usr/share/fonts/truetype/nanum/NanumGothicCoding.ttf', '/usr/share/fonts/truetype/liberation/LiberationSansNarrow-BoldItalic.ttf', '/usr/share/fonts/truetype/nanum/NanumBarunGothicLight.ttf', '/usr/share/fonts/truetype/liberation/LiberationMono-BoldItalic.ttf']\n",
            "nanum_font number: 31\n"
          ]
        }
      ]
    },
    {
      "cell_type": "code",
      "metadata": {
        "id": "kzaqjdSnfWEZ"
      },
      "source": [
        "# 나눔고딕 설치\n",
        "!apt-get update -qq\n",
        "!apt-get install fonts-nanum* -qq"
      ],
      "execution_count": null,
      "outputs": []
    },
    {
      "cell_type": "code",
      "metadata": {
        "colab": {
          "base_uri": "https://localhost:8080/"
        },
        "id": "0q_GFcs7fZ-Q",
        "outputId": "a3a43890-0bf2-4112-a647-2a3334bc7d53"
      },
      "source": [
        "# 설치확인\n",
        "sys_font=fm.findSystemFonts()\n",
        "print(f\"sys_font number: {len(sys_font)}\")\n",
        "\n",
        "nanum_font = [f for f in sys_font if 'Nanum' in f]\n",
        "print(f\"nanum_font number: {len(nanum_font)}\")"
      ],
      "execution_count": null,
      "outputs": [
        {
          "output_type": "stream",
          "name": "stdout",
          "text": [
            "sys_font number: 48\n",
            "nanum_font number: 31\n"
          ]
        }
      ]
    },
    {
      "cell_type": "code",
      "metadata": {
        "colab": {
          "base_uri": "https://localhost:8080/"
        },
        "id": "ypR1GebWfeh4",
        "outputId": "f1a84745-c455-4989-cfd3-54c3df1c7732"
      },
      "source": [
        "# 나눔 폰트 설치경로\n",
        "nanum_font"
      ],
      "execution_count": null,
      "outputs": [
        {
          "output_type": "execute_result",
          "data": {
            "text/plain": [
              "['/usr/share/fonts/truetype/nanum/NanumGothicBold.ttf',\n",
              " '/usr/share/fonts/truetype/nanum/NanumPen.ttf',\n",
              " '/usr/share/fonts/truetype/nanum/NanumMyeongjoEco.ttf',\n",
              " '/usr/share/fonts/truetype/nanum/NanumMyeongjoEcoExtraBold.ttf',\n",
              " '/usr/share/fonts/truetype/nanum/NanumMyeongjo.ttf',\n",
              " '/usr/share/fonts/truetype/nanum/NanumSquareEB.ttf',\n",
              " '/usr/share/fonts/truetype/nanum/NanumGothicLight.ttf',\n",
              " '/usr/share/fonts/truetype/nanum/NanumSquareRoundEB.ttf',\n",
              " '/usr/share/fonts/truetype/nanum/NanumBarunpenR.ttf',\n",
              " '/usr/share/fonts/truetype/nanum/NanumBarunpenB.ttf',\n",
              " '/usr/share/fonts/truetype/nanum/NanumBrush.ttf',\n",
              " '/usr/share/fonts/truetype/nanum/NanumGothic.ttf',\n",
              " '/usr/share/fonts/truetype/nanum/NanumBarunGothic.ttf',\n",
              " '/usr/share/fonts/truetype/nanum/NanumGothicEco.ttf',\n",
              " '/usr/share/fonts/truetype/nanum/NanumSquareRoundR.ttf',\n",
              " '/usr/share/fonts/truetype/nanum/NanumSquareR.ttf',\n",
              " '/usr/share/fonts/truetype/nanum/NanumSquareRoundL.ttf',\n",
              " '/usr/share/fonts/truetype/nanum/NanumGothicCoding-Bold.ttf',\n",
              " '/usr/share/fonts/truetype/nanum/NanumSquareB.ttf',\n",
              " '/usr/share/fonts/truetype/nanum/NanumGothicExtraBold.ttf',\n",
              " '/usr/share/fonts/truetype/nanum/NanumSquareRoundB.ttf',\n",
              " '/usr/share/fonts/truetype/nanum/NanumMyeongjoEcoBold.ttf',\n",
              " '/usr/share/fonts/truetype/nanum/NanumGothicEcoBold.ttf',\n",
              " '/usr/share/fonts/truetype/nanum/NanumGothicEcoExtraBold.ttf',\n",
              " '/usr/share/fonts/truetype/nanum/NanumMyeongjoBold.ttf',\n",
              " '/usr/share/fonts/truetype/nanum/NanumMyeongjoExtraBold.ttf',\n",
              " '/usr/share/fonts/truetype/nanum/NanumBarunGothicUltraLight.ttf',\n",
              " '/usr/share/fonts/truetype/nanum/NanumSquareL.ttf',\n",
              " '/usr/share/fonts/truetype/nanum/NanumBarunGothicBold.ttf',\n",
              " '/usr/share/fonts/truetype/nanum/NanumGothicCoding.ttf',\n",
              " '/usr/share/fonts/truetype/nanum/NanumBarunGothicLight.ttf']"
            ]
          },
          "metadata": {},
          "execution_count": 7
        }
      ]
    },
    {
      "cell_type": "code",
      "metadata": {
        "colab": {
          "base_uri": "https://localhost:8080/"
        },
        "id": "sJgLE-zmffCE",
        "outputId": "3f788c72-94e7-44b9-93cc-5c97f71be4c1"
      },
      "source": [
        "# 현재 설정되어 있는 폰트 사이즈와 글꼴\n",
        "import matplotlib.pyplot as plt\n",
        "!python --version\n",
        "def current_font():\n",
        "  print(f\"설정 폰트 글꼴: {plt.rcParams['font.family']}, 설정 폰트 사이즈: {plt.rcParams['font.size']}\")  # 파이썬 3.6 이상 사용가능\n",
        "        \n",
        "current_font()"
      ],
      "execution_count": null,
      "outputs": [
        {
          "output_type": "stream",
          "name": "stdout",
          "text": [
            "Python 3.7.11\n",
            "설정 폰트 글꼴: ['Malgun Gothic'], 설정 폰트 사이즈: 10.0\n"
          ]
        }
      ]
    },
    {
      "cell_type": "code",
      "metadata": {
        "id": "1tbHzdQWfiwe"
      },
      "source": [
        "fm._rebuild()"
      ],
      "execution_count": null,
      "outputs": []
    },
    {
      "cell_type": "code",
      "metadata": {
        "id": "_IFgcjvDfp5-"
      },
      "source": [
        "import platform\n",
        "\n",
        "from matplotlib import font_manager, rc\n",
        "plt.rcParams['axes.unicode_minus'] = False\n",
        "\n",
        "if platform.system() == 'Darwin':\n",
        "    rc('font', family='AppleGothic')\n",
        "elif platform.system() == 'Windows':\n",
        "    path = \"c:/Windows/Fonts/malgun.ttf\"\n",
        "    font_name = font_manager.FontProperties(fname=path).get_name()\n",
        "    rc('font', family=font_name)\n",
        "elif platform.system() == 'Linux':\n",
        "    path = \"/usr/share/fonts/truetype/nanum/NanumGothic.ttf\"\n",
        "    font_name = font_manager.FontProperties(fname=path).get_name()\n",
        "    plt.rc('font', family=font_name)\n",
        "else:\n",
        "    print('Unknown system...')"
      ],
      "execution_count": null,
      "outputs": []
    },
    {
      "cell_type": "code",
      "metadata": {
        "colab": {
          "base_uri": "https://localhost:8080/"
        },
        "id": "egG7qOPNfiiR",
        "outputId": "cc57c7be-789b-4c0f-a6b5-e07b5885bac7"
      },
      "source": [
        "print('# 설정되어있는 폰트 사이즈')\n",
        "print (plt.rcParams['font.size'] ) \n",
        "print('# 설정되어있는 폰트 글꼴')\n",
        "print (plt.rcParams['font.family'] )\n",
        "# 커널 다시시작"
      ],
      "execution_count": null,
      "outputs": [
        {
          "output_type": "stream",
          "name": "stdout",
          "text": [
            "# 설정되어있는 폰트 사이즈\n",
            "10.0\n",
            "# 설정되어있는 폰트 글꼴\n",
            "['NanumGothic']\n"
          ]
        }
      ]
    },
    {
      "cell_type": "markdown",
      "metadata": {
        "id": "nU0VY4-Sgqtf"
      },
      "source": [
        "## 데이터 로드"
      ]
    },
    {
      "cell_type": "code",
      "metadata": {
        "id": "DLZ_uDlVd42s"
      },
      "source": [
        "def money_sur(stock_name, start, end):\n",
        "\n",
        "  # 라이브러리를 찾음... 한방에 나옴...\n",
        "    start_date = start\n",
        "    end_date = end\n",
        "    sample_code = stock_name\n",
        "\n",
        "    dataset = fdr.DataReader(sample_code, start = start_date, end = end_date )\n",
        "    dataset = dataset.reset_index()\n",
        "    df = stock.get_market_fundamental_by_date(fromdate=start_date, todate=end_date, ticker=sample_code)\n",
        "    df = df.reset_index()\n",
        "    df.columns = ['Date','BPS', 'PER', 'PBR', 'EPS', 'DIV', 'DPS']\n",
        "    data = pd.merge(dataset, df, on='Date')\n",
        "\n",
        "    return data"
      ],
      "execution_count": null,
      "outputs": []
    },
    {
      "cell_type": "code",
      "metadata": {
        "colab": {
          "base_uri": "https://localhost:8080/",
          "height": 417
        },
        "id": "oMkxs7Ki6-Dj",
        "outputId": "36022aec-5969-425c-bafa-071748808a5b"
      },
      "source": [
        "%matplotlib inline\n",
        "import pandas as pd\n",
        "import numpy as np\n",
        "import matplotlib.pyplot as plt\n",
        "import seaborn as sns\n",
        "import datetime\n",
        "# 주식가격 로딩\n",
        "import FinanceDataReader as fdr\n",
        "from pykrx import stock\n",
        "\n",
        "# 삼성전자 2018년 이후\n",
        "end_date = datetime.datetime.now().strftime(\"%Y%m%d\")\n",
        "samsung_df = money_sur('005930', start = '20180101', end = end_date)\n",
        "\n",
        "samsung_df"
      ],
      "execution_count": null,
      "outputs": [
        {
          "output_type": "execute_result",
          "data": {
            "text/html": [
              "<div>\n",
              "<style scoped>\n",
              "    .dataframe tbody tr th:only-of-type {\n",
              "        vertical-align: middle;\n",
              "    }\n",
              "\n",
              "    .dataframe tbody tr th {\n",
              "        vertical-align: top;\n",
              "    }\n",
              "\n",
              "    .dataframe thead th {\n",
              "        text-align: right;\n",
              "    }\n",
              "</style>\n",
              "<table border=\"1\" class=\"dataframe\">\n",
              "  <thead>\n",
              "    <tr style=\"text-align: right;\">\n",
              "      <th></th>\n",
              "      <th>Date</th>\n",
              "      <th>Open</th>\n",
              "      <th>High</th>\n",
              "      <th>Low</th>\n",
              "      <th>Close</th>\n",
              "      <th>Volume</th>\n",
              "      <th>Change</th>\n",
              "      <th>BPS</th>\n",
              "      <th>PER</th>\n",
              "      <th>PBR</th>\n",
              "      <th>EPS</th>\n",
              "      <th>DIV</th>\n",
              "      <th>DPS</th>\n",
              "    </tr>\n",
              "  </thead>\n",
              "  <tbody>\n",
              "    <tr>\n",
              "      <th>0</th>\n",
              "      <td>2018-01-02</td>\n",
              "      <td>51380</td>\n",
              "      <td>51400</td>\n",
              "      <td>50780</td>\n",
              "      <td>51020</td>\n",
              "      <td>169485</td>\n",
              "      <td>0.001177</td>\n",
              "      <td>1156530</td>\n",
              "      <td>16.15</td>\n",
              "      <td>2.21</td>\n",
              "      <td>157967</td>\n",
              "      <td>1.12</td>\n",
              "      <td>28500</td>\n",
              "    </tr>\n",
              "    <tr>\n",
              "      <th>1</th>\n",
              "      <td>2018-01-03</td>\n",
              "      <td>52540</td>\n",
              "      <td>52560</td>\n",
              "      <td>51420</td>\n",
              "      <td>51620</td>\n",
              "      <td>200270</td>\n",
              "      <td>0.011760</td>\n",
              "      <td>1156530</td>\n",
              "      <td>16.34</td>\n",
              "      <td>2.23</td>\n",
              "      <td>157967</td>\n",
              "      <td>1.10</td>\n",
              "      <td>28500</td>\n",
              "    </tr>\n",
              "    <tr>\n",
              "      <th>2</th>\n",
              "      <td>2018-01-04</td>\n",
              "      <td>52120</td>\n",
              "      <td>52180</td>\n",
              "      <td>50640</td>\n",
              "      <td>51080</td>\n",
              "      <td>233909</td>\n",
              "      <td>-0.010461</td>\n",
              "      <td>1156530</td>\n",
              "      <td>16.17</td>\n",
              "      <td>2.21</td>\n",
              "      <td>157967</td>\n",
              "      <td>1.12</td>\n",
              "      <td>28500</td>\n",
              "    </tr>\n",
              "    <tr>\n",
              "      <th>3</th>\n",
              "      <td>2018-01-05</td>\n",
              "      <td>51300</td>\n",
              "      <td>52120</td>\n",
              "      <td>51200</td>\n",
              "      <td>52120</td>\n",
              "      <td>189623</td>\n",
              "      <td>0.020360</td>\n",
              "      <td>1156530</td>\n",
              "      <td>16.50</td>\n",
              "      <td>2.25</td>\n",
              "      <td>157967</td>\n",
              "      <td>1.09</td>\n",
              "      <td>28500</td>\n",
              "    </tr>\n",
              "    <tr>\n",
              "      <th>4</th>\n",
              "      <td>2018-01-08</td>\n",
              "      <td>52400</td>\n",
              "      <td>52520</td>\n",
              "      <td>51500</td>\n",
              "      <td>52020</td>\n",
              "      <td>167673</td>\n",
              "      <td>-0.001919</td>\n",
              "      <td>1156530</td>\n",
              "      <td>16.47</td>\n",
              "      <td>2.25</td>\n",
              "      <td>157967</td>\n",
              "      <td>1.10</td>\n",
              "      <td>28500</td>\n",
              "    </tr>\n",
              "    <tr>\n",
              "      <th>...</th>\n",
              "      <td>...</td>\n",
              "      <td>...</td>\n",
              "      <td>...</td>\n",
              "      <td>...</td>\n",
              "      <td>...</td>\n",
              "      <td>...</td>\n",
              "      <td>...</td>\n",
              "      <td>...</td>\n",
              "      <td>...</td>\n",
              "      <td>...</td>\n",
              "      <td>...</td>\n",
              "      <td>...</td>\n",
              "      <td>...</td>\n",
              "    </tr>\n",
              "    <tr>\n",
              "      <th>911</th>\n",
              "      <td>2021-09-10</td>\n",
              "      <td>75300</td>\n",
              "      <td>75600</td>\n",
              "      <td>74800</td>\n",
              "      <td>75300</td>\n",
              "      <td>10103212</td>\n",
              "      <td>0.000000</td>\n",
              "      <td>39406</td>\n",
              "      <td>19.60</td>\n",
              "      <td>1.91</td>\n",
              "      <td>3841</td>\n",
              "      <td>3.98</td>\n",
              "      <td>2994</td>\n",
              "    </tr>\n",
              "    <tr>\n",
              "      <th>912</th>\n",
              "      <td>2021-09-13</td>\n",
              "      <td>75200</td>\n",
              "      <td>76300</td>\n",
              "      <td>75100</td>\n",
              "      <td>76300</td>\n",
              "      <td>11397775</td>\n",
              "      <td>0.013280</td>\n",
              "      <td>39406</td>\n",
              "      <td>19.86</td>\n",
              "      <td>1.94</td>\n",
              "      <td>3841</td>\n",
              "      <td>3.92</td>\n",
              "      <td>2994</td>\n",
              "    </tr>\n",
              "    <tr>\n",
              "      <th>913</th>\n",
              "      <td>2021-09-14</td>\n",
              "      <td>77100</td>\n",
              "      <td>77700</td>\n",
              "      <td>76600</td>\n",
              "      <td>76600</td>\n",
              "      <td>18167057</td>\n",
              "      <td>0.003932</td>\n",
              "      <td>39406</td>\n",
              "      <td>19.94</td>\n",
              "      <td>1.94</td>\n",
              "      <td>3841</td>\n",
              "      <td>3.91</td>\n",
              "      <td>2994</td>\n",
              "    </tr>\n",
              "    <tr>\n",
              "      <th>914</th>\n",
              "      <td>2021-09-15</td>\n",
              "      <td>77400</td>\n",
              "      <td>77400</td>\n",
              "      <td>76400</td>\n",
              "      <td>77000</td>\n",
              "      <td>12829128</td>\n",
              "      <td>0.005222</td>\n",
              "      <td>39406</td>\n",
              "      <td>20.05</td>\n",
              "      <td>1.95</td>\n",
              "      <td>3841</td>\n",
              "      <td>3.89</td>\n",
              "      <td>2994</td>\n",
              "    </tr>\n",
              "    <tr>\n",
              "      <th>915</th>\n",
              "      <td>2021-09-16</td>\n",
              "      <td>77300</td>\n",
              "      <td>77400</td>\n",
              "      <td>76200</td>\n",
              "      <td>76500</td>\n",
              "      <td>7175507</td>\n",
              "      <td>-0.006494</td>\n",
              "      <td>39406</td>\n",
              "      <td>19.89</td>\n",
              "      <td>1.94</td>\n",
              "      <td>3841</td>\n",
              "      <td>3.92</td>\n",
              "      <td>2994</td>\n",
              "    </tr>\n",
              "  </tbody>\n",
              "</table>\n",
              "<p>916 rows × 13 columns</p>\n",
              "</div>"
            ],
            "text/plain": [
              "          Date   Open   High    Low  Close  ...    PER   PBR     EPS   DIV    DPS\n",
              "0   2018-01-02  51380  51400  50780  51020  ...  16.15  2.21  157967  1.12  28500\n",
              "1   2018-01-03  52540  52560  51420  51620  ...  16.34  2.23  157967  1.10  28500\n",
              "2   2018-01-04  52120  52180  50640  51080  ...  16.17  2.21  157967  1.12  28500\n",
              "3   2018-01-05  51300  52120  51200  52120  ...  16.50  2.25  157967  1.09  28500\n",
              "4   2018-01-08  52400  52520  51500  52020  ...  16.47  2.25  157967  1.10  28500\n",
              "..         ...    ...    ...    ...    ...  ...    ...   ...     ...   ...    ...\n",
              "911 2021-09-10  75300  75600  74800  75300  ...  19.60  1.91    3841  3.98   2994\n",
              "912 2021-09-13  75200  76300  75100  76300  ...  19.86  1.94    3841  3.92   2994\n",
              "913 2021-09-14  77100  77700  76600  76600  ...  19.94  1.94    3841  3.91   2994\n",
              "914 2021-09-15  77400  77400  76400  77000  ...  20.05  1.95    3841  3.89   2994\n",
              "915 2021-09-16  77300  77400  76200  76500  ...  19.89  1.94    3841  3.92   2994\n",
              "\n",
              "[916 rows x 13 columns]"
            ]
          },
          "metadata": {},
          "execution_count": 15
        }
      ]
    },
    {
      "cell_type": "markdown",
      "metadata": {
        "id": "q6cOt51K7zUr"
      },
      "source": [
        "## ARIMA 모수 설정"
      ]
    },
    {
      "cell_type": "code",
      "metadata": {
        "id": "F_Ooajgz7Lhh",
        "colab": {
          "base_uri": "https://localhost:8080/",
          "height": 417
        },
        "outputId": "461485bb-053c-4b20-cdda-09c7d045e4bc"
      },
      "source": [
        "df1 = samsung_df[['Date','Close']]\n",
        "df1"
      ],
      "execution_count": null,
      "outputs": [
        {
          "output_type": "execute_result",
          "data": {
            "text/html": [
              "<div>\n",
              "<style scoped>\n",
              "    .dataframe tbody tr th:only-of-type {\n",
              "        vertical-align: middle;\n",
              "    }\n",
              "\n",
              "    .dataframe tbody tr th {\n",
              "        vertical-align: top;\n",
              "    }\n",
              "\n",
              "    .dataframe thead th {\n",
              "        text-align: right;\n",
              "    }\n",
              "</style>\n",
              "<table border=\"1\" class=\"dataframe\">\n",
              "  <thead>\n",
              "    <tr style=\"text-align: right;\">\n",
              "      <th></th>\n",
              "      <th>Date</th>\n",
              "      <th>Close</th>\n",
              "    </tr>\n",
              "  </thead>\n",
              "  <tbody>\n",
              "    <tr>\n",
              "      <th>0</th>\n",
              "      <td>2018-01-02</td>\n",
              "      <td>51020</td>\n",
              "    </tr>\n",
              "    <tr>\n",
              "      <th>1</th>\n",
              "      <td>2018-01-03</td>\n",
              "      <td>51620</td>\n",
              "    </tr>\n",
              "    <tr>\n",
              "      <th>2</th>\n",
              "      <td>2018-01-04</td>\n",
              "      <td>51080</td>\n",
              "    </tr>\n",
              "    <tr>\n",
              "      <th>3</th>\n",
              "      <td>2018-01-05</td>\n",
              "      <td>52120</td>\n",
              "    </tr>\n",
              "    <tr>\n",
              "      <th>4</th>\n",
              "      <td>2018-01-08</td>\n",
              "      <td>52020</td>\n",
              "    </tr>\n",
              "    <tr>\n",
              "      <th>...</th>\n",
              "      <td>...</td>\n",
              "      <td>...</td>\n",
              "    </tr>\n",
              "    <tr>\n",
              "      <th>911</th>\n",
              "      <td>2021-09-10</td>\n",
              "      <td>75300</td>\n",
              "    </tr>\n",
              "    <tr>\n",
              "      <th>912</th>\n",
              "      <td>2021-09-13</td>\n",
              "      <td>76300</td>\n",
              "    </tr>\n",
              "    <tr>\n",
              "      <th>913</th>\n",
              "      <td>2021-09-14</td>\n",
              "      <td>76600</td>\n",
              "    </tr>\n",
              "    <tr>\n",
              "      <th>914</th>\n",
              "      <td>2021-09-15</td>\n",
              "      <td>77000</td>\n",
              "    </tr>\n",
              "    <tr>\n",
              "      <th>915</th>\n",
              "      <td>2021-09-16</td>\n",
              "      <td>76500</td>\n",
              "    </tr>\n",
              "  </tbody>\n",
              "</table>\n",
              "<p>916 rows × 2 columns</p>\n",
              "</div>"
            ],
            "text/plain": [
              "          Date  Close\n",
              "0   2018-01-02  51020\n",
              "1   2018-01-03  51620\n",
              "2   2018-01-04  51080\n",
              "3   2018-01-05  52120\n",
              "4   2018-01-08  52020\n",
              "..         ...    ...\n",
              "911 2021-09-10  75300\n",
              "912 2021-09-13  76300\n",
              "913 2021-09-14  76600\n",
              "914 2021-09-15  77000\n",
              "915 2021-09-16  76500\n",
              "\n",
              "[916 rows x 2 columns]"
            ]
          },
          "metadata": {},
          "execution_count": 16
        }
      ]
    },
    {
      "cell_type": "code",
      "metadata": {
        "colab": {
          "base_uri": "https://localhost:8080/",
          "height": 293
        },
        "id": "NTkQRXwe7gcr",
        "outputId": "b3c4005a-b332-48ae-b4fe-754532dc1066"
      },
      "source": [
        "df1.plot('Date','Close')"
      ],
      "execution_count": null,
      "outputs": [
        {
          "output_type": "execute_result",
          "data": {
            "text/plain": [
              "<matplotlib.axes._subplots.AxesSubplot at 0x7f79f91b0710>"
            ]
          },
          "metadata": {},
          "execution_count": 18
        },
        {
          "output_type": "display_data",
          "data": {
            "image/png": "[encoded data removed]",
            "text/plain": [
              "<Figure size 432x288 with 1 Axes>"
            ]
          },
          "metadata": {
            "needs_background": "light"
          }
        }
      ]
    },
    {
      "cell_type": "code",
      "metadata": {
        "id": "EVTusgs18LHP"
      },
      "source": [
        "df1.columns = ['Date', 'Price']"
      ],
      "execution_count": null,
      "outputs": []
    },
    {
      "cell_type": "code",
      "metadata": {
        "colab": {
          "base_uri": "https://localhost:8080/",
          "height": 596
        },
        "id": "TQkt6CMj7h5P",
        "outputId": "5df6a9cd-120b-4de4-b0db-114c019b66e9"
      },
      "source": [
        "from statsmodels.graphics.tsaplots import plot_acf, plot_pacf\n",
        "\n",
        "plot_acf(df1.Price)\n",
        "plot_pacf(df1.Price)\n",
        "plt.show()"
      ],
      "execution_count": null,
      "outputs": [
        {
          "output_type": "stream",
          "name": "stderr",
          "text": [
            "/usr/local/lib/python3.7/dist-packages/statsmodels/tools/_testing.py:19: FutureWarning: pandas.util.testing is deprecated. Use the functions in the public API at pandas.testing instead.\n",
            "  import pandas.util.testing as tm\n"
          ]
        },
        {
          "output_type": "display_data",
          "data": {
            "image/png": "[encoded data removed]",
            "text/plain": [
              "<Figure size 432x288 with 1 Axes>"
            ]
          },
          "metadata": {
            "needs_background": "light"
          }
        },
        {
          "output_type": "display_data",
          "data": {
            "image/png": "[encoded data removed]",
            "text/plain": [
              "<Figure size 432x288 with 1 Axes>"
            ]
          },
          "metadata": {
            "needs_background": "light"
          }
        }
      ]
    },
    {
      "cell_type": "markdown",
      "metadata": {
        "id": "Y9RDQBjm-rGX"
      },
      "source": [
        "ACF를 보면 완만하지만 꾸준히 줄어드는 것으로 보인다. 또한 PACF는 1의 Time lag에서 약 0.99를 보이고 이후에 급격히 감소한다."
      ]
    },
    {
      "cell_type": "code",
      "metadata": {
        "colab": {
          "base_uri": "https://localhost:8080/"
        },
        "id": "bTw38QTN8hHg",
        "outputId": "eb781e3a-801f-4495-b3a0-3db8f5854246"
      },
      "source": [
        "# 시계열 정상성 검정 Augmented Dickey-Fuller Test\n",
        "# 비정상성 확인\n",
        "\n",
        "from statsmodels.tsa.stattools import adfuller\n",
        "result = adfuller(df1['Price'])\n",
        "\n",
        "print(f'ADF statistic: {result[0]}')\n",
        "print(f'p-value: {result[1]}')"
      ],
      "execution_count": null,
      "outputs": [
        {
          "output_type": "stream",
          "name": "stdout",
          "text": [
            "ADF statistic: -0.5504781209335097\n",
            "p-value: 0.8817840027444979\n"
          ]
        }
      ]
    },
    {
      "cell_type": "markdown",
      "metadata": {
        "id": "cUyjR3RC_klv"
      },
      "source": [
        "1차 차분 및 로그변환"
      ]
    },
    {
      "cell_type": "code",
      "metadata": {
        "id": "xkCZbQnC_Z-0"
      },
      "source": [
        "x = df1['Price'].values\n",
        "x = np.log(x)\n",
        "\n",
        "diff = x[1:] - x[:-1] # 차분"
      ],
      "execution_count": null,
      "outputs": []
    },
    {
      "cell_type": "code",
      "metadata": {
        "colab": {
          "base_uri": "https://localhost:8080/",
          "height": 350
        },
        "id": "RP39-zTfANum",
        "outputId": "09a8bae5-bdc9-4a07-c5ff-28cd22b82fa8"
      },
      "source": [
        "sns.lineplot(df1.iloc[1:, 0], diff)"
      ],
      "execution_count": null,
      "outputs": [
        {
          "output_type": "stream",
          "name": "stderr",
          "text": [
            "/usr/local/lib/python3.7/dist-packages/seaborn/_decorators.py:43: FutureWarning: Pass the following variables as keyword args: x, y. From version 0.12, the only valid positional argument will be `data`, and passing other arguments without an explicit keyword will result in an error or misinterpretation.\n",
            "  FutureWarning\n"
          ]
        },
        {
          "output_type": "execute_result",
          "data": {
            "text/plain": [
              "<matplotlib.axes._subplots.AxesSubplot at 0x7f79ee9fca90>"
            ]
          },
          "metadata": {},
          "execution_count": 23
        },
        {
          "output_type": "display_data",
          "data": {
            "image/png": "[encoded data removed]",
            "text/plain": [
              "<Figure size 432x288 with 1 Axes>"
            ]
          },
          "metadata": {
            "needs_background": "light"
          }
        }
      ]
    },
    {
      "cell_type": "code",
      "metadata": {
        "colab": {
          "base_uri": "https://localhost:8080/",
          "height": 279
        },
        "id": "wFQbzrcAAvPM",
        "outputId": "1952f394-1d51-4421-a7f6-22826c935b1a"
      },
      "source": [
        "fig = plot_acf(diff)"
      ],
      "execution_count": null,
      "outputs": [
        {
          "output_type": "display_data",
          "data": {
            "image/png": "[encoded data removed]",
            "text/plain": [
              "<Figure size 432x288 with 1 Axes>"
            ]
          },
          "metadata": {
            "needs_background": "light"
          }
        }
      ]
    },
    {
      "cell_type": "code",
      "metadata": {
        "colab": {
          "base_uri": "https://localhost:8080/",
          "height": 279
        },
        "id": "8rNNU0NjBLVK",
        "outputId": "9fb23250-e16b-443a-bbdb-9c551b904a06"
      },
      "source": [
        "fig = plot_pacf(diff)"
      ],
      "execution_count": null,
      "outputs": [
        {
          "output_type": "display_data",
          "data": {
            "image/png": "[encoded data removed]",
            "text/plain": [
              "<Figure size 432x288 with 1 Axes>"
            ]
          },
          "metadata": {
            "needs_background": "light"
          }
        }
      ]
    },
    {
      "cell_type": "code",
      "metadata": {
        "colab": {
          "base_uri": "https://localhost:8080/"
        },
        "id": "BFOhZHfwBSQW",
        "outputId": "a08bb4f6-30b9-4318-dde9-ff3e16bacc83"
      },
      "source": [
        "result_r = adfuller(diff)\n",
        "\n",
        "print(f'ADF statistic: {result_r[0]}')\n",
        "print(f'p-value: {result_r[1]}')  # 1차 차분만으로도 유효한 결과가 나옴"
      ],
      "execution_count": null,
      "outputs": [
        {
          "output_type": "stream",
          "name": "stdout",
          "text": [
            "ADF statistic: -30.085939187647455\n",
            "p-value: 0.0\n"
          ]
        }
      ]
    },
    {
      "cell_type": "code",
      "metadata": {
        "colab": {
          "base_uri": "https://localhost:8080/"
        },
        "id": "5oxx0VJUBaBI",
        "outputId": "3bbc3a4c-8efe-40d1-95cc-0d85336df2b9"
      },
      "source": [
        "from statsmodels.tsa.arima_model import ARIMA\n",
        "import statsmodels.api as sm\n",
        "# 1,0,1 // 1,1,1 // 1,2,1 // 1,2,2 // 2,2,2 // .... 여러가지 차수를 지정해봤을 때 2,1,2가 최적임\n",
        "# (AR = 2, 차분 =1, MA=2) 파라미터로 ARIMA 모델을 학습한다.\n",
        "model = ARIMA(df1.Price.values, order = (2,1,2))\n",
        "model_fit = model.fit(trend = 'c', full_output = True, disp = True)\n",
        "print(model_fit.summary())"
      ],
      "execution_count": null,
      "outputs": [
        {
          "output_type": "stream",
          "name": "stdout",
          "text": [
            "                             ARIMA Model Results                              \n",
            "==============================================================================\n",
            "Dep. Variable:                    D.y   No. Observations:                  915\n",
            "Model:                 ARIMA(2, 1, 2)   Log Likelihood               -7563.651\n",
            "Method:                       css-mle   S.D. of innovations            940.864\n",
            "Date:                Thu, 16 Sep 2021   AIC                          15139.302\n",
            "Time:                        02:51:13   BIC                          15168.216\n",
            "Sample:                             1   HQIC                         15150.339\n",
            "                                                                              \n",
            "==============================================================================\n",
            "                 coef    std err          z      P>|z|      [0.025      0.975]\n",
            "------------------------------------------------------------------------------\n",
            "const         26.2750     31.664      0.830      0.407     -35.785      88.335\n",
            "ar.L1.D.y     -1.4635      0.021    -70.060      0.000      -1.504      -1.423\n",
            "ar.L2.D.y     -0.9512      0.024    -38.842      0.000      -0.999      -0.903\n",
            "ma.L1.D.y      1.4878      0.013    117.899      0.000       1.463       1.513\n",
            "ma.L2.D.y      0.9885      0.015     65.051      0.000       0.959       1.018\n",
            "                                    Roots                                    \n",
            "=============================================================================\n",
            "                  Real          Imaginary           Modulus         Frequency\n",
            "-----------------------------------------------------------------------------\n",
            "AR.1           -0.7693           -0.6779j            1.0253           -0.3850\n",
            "AR.2           -0.7693           +0.6779j            1.0253            0.3850\n",
            "MA.1           -0.7526           -0.6673j            1.0058           -0.3845\n",
            "MA.2           -0.7526           +0.6673j            1.0058            0.3845\n",
            "-----------------------------------------------------------------------------\n"
          ]
        }
      ]
    },
    {
      "cell_type": "code",
      "metadata": {
        "colab": {
          "base_uri": "https://localhost:8080/"
        },
        "id": "4DEqNE8nXowA",
        "outputId": "0800df4b-8897-4b80-e057-9c2c23b06845"
      },
      "source": [
        "# const 가 유의하지 않으므로 trend를 nc로해서 다시 모델 적합\n",
        "model = ARIMA(df1.Price.values, order = (2,1,2))\n",
        "model_fit = model.fit(trend = 'nc', full_output = True, disp = True)\n",
        "print(model_fit.summary())"
      ],
      "execution_count": null,
      "outputs": [
        {
          "output_type": "stream",
          "name": "stdout",
          "text": [
            "                             ARIMA Model Results                              \n",
            "==============================================================================\n",
            "Dep. Variable:                    D.y   No. Observations:                  915\n",
            "Model:                 ARIMA(2, 1, 2)   Log Likelihood               -7562.703\n",
            "Method:                       css-mle   S.D. of innovations            937.884\n",
            "Date:                Thu, 16 Sep 2021   AIC                          15135.406\n",
            "Time:                        02:51:18   BIC                          15159.501\n",
            "Sample:                             1   HQIC                         15144.603\n",
            "                                                                              \n",
            "==============================================================================\n",
            "                 coef    std err          z      P>|z|      [0.025      0.975]\n",
            "------------------------------------------------------------------------------\n",
            "ar.L1.D.y     -1.5980      0.011   -146.507      0.000      -1.619      -1.577\n",
            "ar.L2.D.y     -0.9804      0.008   -116.575      0.000      -0.997      -0.964\n",
            "ma.L1.D.y      1.5997      0.007    213.810      0.000       1.585       1.614\n",
            "ma.L2.D.y      0.9999      0.008    130.707      0.000       0.985       1.015\n",
            "                                    Roots                                    \n",
            "=============================================================================\n",
            "                  Real          Imaginary           Modulus         Frequency\n",
            "-----------------------------------------------------------------------------\n",
            "AR.1           -0.8150           -0.5965j            1.0100           -0.3995\n",
            "AR.2           -0.8150           +0.5965j            1.0100            0.3995\n",
            "MA.1           -0.7999           -0.6002j            1.0000           -0.3975\n",
            "MA.2           -0.7999           +0.6002j            1.0000            0.3975\n",
            "-----------------------------------------------------------------------------\n"
          ]
        }
      ]
    },
    {
      "cell_type": "code",
      "metadata": {
        "id": "sArU8P6pXapk"
      },
      "source": [
        "# 학습, 테스트 데이터 분리\n",
        "train = df1[:-10]\n",
        "test = df1[-10:]"
      ],
      "execution_count": null,
      "outputs": []
    },
    {
      "cell_type": "code",
      "metadata": {
        "colab": {
          "base_uri": "https://localhost:8080/"
        },
        "id": "z_ZFStfcDh4T",
        "outputId": "928216f5-f20e-408c-b26e-ecdae0c214bb"
      },
      "source": [
        "model = ARIMA(train.Price.values, order = (2,1,2))\n",
        "model_fit = model.fit(trend = 'nc', full_output = True, disp = True)\n",
        "print(model_fit.summary())"
      ],
      "execution_count": null,
      "outputs": [
        {
          "output_type": "stream",
          "name": "stdout",
          "text": [
            "                             ARIMA Model Results                              \n",
            "==============================================================================\n",
            "Dep. Variable:                    D.y   No. Observations:                  905\n",
            "Model:                 ARIMA(2, 1, 2)   Log Likelihood               -7481.576\n",
            "Method:                       css-mle   S.D. of innovations            939.466\n",
            "Date:                Thu, 16 Sep 2021   AIC                          14973.153\n",
            "Time:                        05:20:21   BIC                          14997.193\n",
            "Sample:                             1   HQIC                         14982.334\n",
            "                                                                              \n",
            "==============================================================================\n",
            "                 coef    std err          z      P>|z|      [0.025      0.975]\n",
            "------------------------------------------------------------------------------\n",
            "ar.L1.D.y     -1.5979      0.011   -150.287      0.000      -1.619      -1.577\n",
            "ar.L2.D.y     -0.9791      0.009   -114.157      0.000      -0.996      -0.962\n",
            "ma.L1.D.y      1.6001      0.006    253.828      0.000       1.588       1.612\n",
            "ma.L2.D.y      0.9998      0.006    169.562      0.000       0.988       1.011\n",
            "                                    Roots                                    \n",
            "=============================================================================\n",
            "                  Real          Imaginary           Modulus         Frequency\n",
            "-----------------------------------------------------------------------------\n",
            "AR.1           -0.8161           -0.5962j            1.0106           -0.3996\n",
            "AR.2           -0.8161           +0.5962j            1.0106            0.3996\n",
            "MA.1           -0.8002           -0.5999j            1.0001           -0.3976\n",
            "MA.2           -0.8002           +0.5999j            1.0001            0.3976\n",
            "-----------------------------------------------------------------------------\n"
          ]
        }
      ]
    },
    {
      "cell_type": "code",
      "metadata": {
        "colab": {
          "base_uri": "https://localhost:8080/",
          "height": 511
        },
        "id": "HhZmwV0JX-Me",
        "outputId": "5abbc4ca-d76f-42d5-afa2-4beb2fce7118"
      },
      "source": [
        "model_fit.plot_predict()"
      ],
      "execution_count": null,
      "outputs": [
        {
          "output_type": "execute_result",
          "data": {
            "image/png": "[encoded data removed]",
            "text/plain": [
              "<Figure size 432x288 with 1 Axes>"
            ]
          },
          "metadata": {},
          "execution_count": 68
        },
        {
          "output_type": "display_data",
          "data": {
            "image/png": "[encoded data removed]",
            "text/plain": [
              "<Figure size 432x288 with 1 Axes>"
            ]
          },
          "metadata": {
            "needs_background": "light"
          }
        }
      ]
    },
    {
      "cell_type": "code",
      "metadata": {
        "colab": {
          "base_uri": "https://localhost:8080/",
          "height": 297
        },
        "id": "1wjOtaIY0R7t",
        "outputId": "91f48456-db89-4aa4-cdce-9491a63cc52e"
      },
      "source": [
        "residuals = pd.DataFrame(model_fit.resid)\n",
        "residuals.plot(title = \"실제값과 예측값의 잔차\")"
      ],
      "execution_count": null,
      "outputs": [
        {
          "output_type": "execute_result",
          "data": {
            "text/plain": [
              "<matplotlib.axes._subplots.AxesSubplot at 0x7f79de866950>"
            ]
          },
          "metadata": {},
          "execution_count": 69
        },
        {
          "output_type": "display_data",
          "data": {
            "image/png": "[encoded data removed]",
            "text/plain": [
              "<Figure size 432x288 with 1 Axes>"
            ]
          },
          "metadata": {
            "needs_background": "light"
          }
        }
      ]
    },
    {
      "cell_type": "code",
      "metadata": {
        "colab": {
          "base_uri": "https://localhost:8080/"
        },
        "id": "41W3qVSSYHik",
        "outputId": "eac7c5bd-5524-4176-c3d3-f8fc5f71d4f6"
      },
      "source": [
        "fore = model_fit.forecast(steps=10) # 10일 예측\n",
        "print(fore)"
      ],
      "execution_count": null,
      "outputs": [
        {
          "output_type": "stream",
          "name": "stdout",
          "text": [
            "(array([76118.13447892, 75916.90870358, 76122.79240151, 75990.81647751,\n",
            "       76000.13299935, 76114.45732424, 75922.65430604, 76117.21149139,\n",
            "       75994.10910168, 76000.33564103]), array([ 939.46569342, 1330.02983147, 1638.99357786, 1884.34840208,\n",
            "       2114.14555717, 2313.68662106, 2497.90948864, 2675.05132547,\n",
            "       2832.28828008, 2989.8499375 ]), array([[74276.81555512, 77959.45340273],\n",
            "       [73310.09813554, 78523.71927162],\n",
            "       [72910.42401801, 79335.16078501],\n",
            "       [72297.56147511, 79684.07147992],\n",
            "       [71856.48384923, 80143.78214947],\n",
            "       [71579.71487544, 80649.19977304],\n",
            "       [71026.84167166, 80818.46694043],\n",
            "       [70874.20723667, 81360.21574612],\n",
            "       [70442.9260789 , 81545.29212446],\n",
            "       [70140.33744434, 81860.33383771]]))\n"
          ]
        }
      ]
    },
    {
      "cell_type": "code",
      "metadata": {
        "id": "B3QY-yxr3hm4"
      },
      "source": [
        "# 마지막 10일의 예측 데이터\n",
        "pred_arima_y = fore[0].tolist()\n",
        "\n",
        "# 실제 10일의 데이터 \n",
        "test_y = test.Price.values\n",
        "\n",
        "# 신뢰구간\n",
        "# 마지막 10일의 예측 데이터 최소값\n",
        "pred_y_lower = []\n",
        "# 마지막 10일의 예측 데이터 최대값\n",
        "pred_y_upper = []\n",
        "\n",
        "for lower_upper in fore[2]:\n",
        "    lower = lower_upper[0]\n",
        "    upper = lower_upper[1]\n",
        "    pred_y_lower.append(lower)\n",
        "    pred_y_upper.append(upper)"
      ],
      "execution_count": null,
      "outputs": []
    },
    {
      "cell_type": "code",
      "metadata": {
        "colab": {
          "base_uri": "https://localhost:8080/",
          "height": 606
        },
        "id": "rsgbJxfHYNou",
        "outputId": "b88ad383-e401-4f01-b517-1ef3cce1a0ae"
      },
      "source": [
        "plt.figure(figsize=(15, 10))\n",
        "\n",
        "# 모델이 예측한 가격 그래프\n",
        "plt.plot(pred_arima_y, color = 'gold')\n",
        "\n",
        "# 모델이 예측한 최저 가격 그래프\n",
        "plt.plot(pred_y_lower, color = 'red')\n",
        "\n",
        "# 모델이 예측한 최고 가격 그래프\n",
        "plt.plot(pred_y_upper, color = 'blue')\n",
        "\n",
        "# 실제 가격 그래프\n",
        "plt.plot(test_y, color = 'green')\n",
        "\n",
        "plt.legend(['예측값', '최저값','최대값','실제값'])\n",
        "plt.title(\"값 비교\")\n",
        "plt.show()"
      ],
      "execution_count": null,
      "outputs": [
        {
          "output_type": "display_data",
          "data": {
            "image/png": "[encoded data removed]",
            "text/plain": [
              "<Figure size 1080x720 with 1 Axes>"
            ]
          },
          "metadata": {
            "needs_background": "light"
          }
        }
      ]
    },
    {
      "cell_type": "code",
      "metadata": {
        "id": "A_4-7AmyYxXb",
        "colab": {
          "base_uri": "https://localhost:8080/"
        },
        "outputId": "88eef487-ea72-420a-ab14-4ad2d43cc847"
      },
      "source": [
        "from sklearn.metrics import mean_squared_error, r2_score\n",
        "from math import sqrt\n",
        "\n",
        "rmse_arima = sqrt(mean_squared_error(pred_arima_y, test_y))\n",
        "print(rmse_arima)"
      ],
      "execution_count": null,
      "outputs": [
        {
          "output_type": "stream",
          "name": "stdout",
          "text": [
            "709.3470445626622\n"
          ]
        }
      ]
    },
    {
      "cell_type": "markdown",
      "metadata": {
        "id": "Zam6I5ZGDQEP"
      },
      "source": [
        "10일 예측이 제일 rmse가 적음\n",
        "- 5일 약 1100\n",
        "- 20일 약 2200"
      ]
    },
    {
      "cell_type": "code",
      "metadata": {
        "id": "raaGipreDOiN"
      },
      "source": [
        ""
      ],
      "execution_count": null,
      "outputs": []
    }
  ]
}