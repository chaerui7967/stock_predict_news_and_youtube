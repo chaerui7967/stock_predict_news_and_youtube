{
  "nbformat": 4,
  "nbformat_minor": 0,
  "metadata": {
    "colab": {
      "name": "youtube_전처리.ipynb",
      "provenance": [],
      "collapsed_sections": [],
      "authorship_tag": "ABX9TyMSL5cM+1tvjQtcLUODXaz1",
      "include_colab_link": true
    },
    "kernelspec": {
      "name": "python3",
      "display_name": "Python 3"
    },
    "language_info": {
      "name": "python"
    }
  },
  "cells": [
    {
      "cell_type": "markdown",
      "metadata": {
        "id": "view-in-github",
        "colab_type": "text"
      },
      "source": [
        "<a href=\"https://colab.research.google.com/github/chaerui7967/stock_predict_news_and_youtube/blob/master/youtube_%EC%A0%84%EC%B2%98%EB%A6%AC.ipynb\" target=\"_parent\"><img src=\"https://colab.research.google.com/assets/colab-badge.svg\" alt=\"Open In Colab\"/></a>"
      ]
    },
    {
      "cell_type": "code",
      "metadata": {
        "id": "ZrpzJB1kcHq9"
      },
      "source": [
        "import pandas as pd\n",
        "import numpy as np\n",
        "import datetime"
      ],
      "execution_count": 17,
      "outputs": []
    },
    {
      "cell_type": "code",
      "metadata": {
        "colab": {
          "base_uri": "https://localhost:8080/"
        },
        "id": "PA2ZBOE1bu1B",
        "outputId": "861bfd62-5850-4ddd-ca64-ad02752979cd"
      },
      "source": [
        "from google.colab import drive\n",
        "\n",
        "drive.mount('/content/drive')"
      ],
      "execution_count": 1,
      "outputs": [
        {
          "output_type": "stream",
          "name": "stdout",
          "text": [
            "Mounted at /content/drive\n"
          ]
        }
      ]
    },
    {
      "cell_type": "code",
      "metadata": {
        "id": "uNrfjZ7jdmE1"
      },
      "source": [
        "def set_data(df,com_num = 0):  # panda, numpy, datetime, FinanceDataReader, konlpy, Counter\n",
        "    # 일, 시간 나누기\n",
        "    df['date'] = df['date'].astype(str)\n",
        "    df['date_d'] = df['date'].str[:-2]\n",
        "    df['date_h'] = df['date'].str[-2:]\n",
        "    # 타입을 데이트 타입으로 만듬\n",
        "    df['date_d'] = pd.to_datetime(df['date_d'])\n",
        "    \n",
        "    df = df.sort_values(by='date_d') # 일기준으로 오름차순 정렬\n",
        "    \n",
        "    # 널값 제거\n",
        "    df = df.dropna()\n",
        "    \n",
        "    # 주말 및 공휴일 데이터\n",
        "    ### Holidays\n",
        "    try:\n",
        "        # 서버가 열려있을 때\n",
        "        db = pymysql.connect(user='root',\n",
        "                             passwd='1234',\n",
        "                             host='3.35.70.166',\n",
        "                             db='proj',\n",
        "                             charset='utf8')\n",
        "\n",
        "        cursor = db.cursor(pymysql.cursors.DictCursor)\n",
        "\n",
        "        sql = \"select * from holidays\"\n",
        "        cursor.execute(sql)\n",
        "        result = cursor.fetchall()\n",
        "    \n",
        "        # DataFrame으로 변경\n",
        "        holi = pd.DataFrame(result)\n",
        "        # db 닫기 --> 안하면 메모리 잡아먹음\n",
        "        db.close()\n",
        "    except:\n",
        "        # 서버 없을 때 깃허브에서 바로 가져옴\n",
        "        db_holi = 'https://raw.githubusercontent.com/chaerui7967/stock_predict_news_and_youtube/master/Sentiment_Analysis/data/holidays.csv'\n",
        "        holi = pd.read_csv(db_holi)\n",
        "    \n",
        "    # date 컬럼을 날짜 형식으로 변경\n",
        "    holi['date'] = pd.to_datetime(holi['date'])\n",
        "    \n",
        "    \n",
        "    ### ===================주말 및 공휴일 제외\n",
        "    \n",
        "    ## 주말 및 공휴일만 추출\n",
        "    market_closed = holi[holi['holiday']==\"O\"].reset_index(drop=True)\n",
        "    \n",
        "    ## 휴장일 List 생성\n",
        "    market_closed_list = list(market_closed['date'])\n",
        "    \n",
        "    # 주말 및 공휴일 제외\n",
        "    while len(df[df['date_d'].isin(market_closed_list)]['date_d']) !=0:\n",
        "        for date in df[df['date_d'].isin(market_closed_list)]['date_d'].index:\n",
        "            df['date_d'][date] += datetime.timedelta(1)\n",
        "    \n",
        "    return df"
      ],
      "execution_count": 25,
      "outputs": []
    },
    {
      "cell_type": "code",
      "metadata": {
        "id": "mspQelklb9Gf"
      },
      "source": [
        "youtube_df = pd.read_csv('/content/drive/My Drive/Final PJT - 업빛투/감성분석/data/youtube_total.csv')"
      ],
      "execution_count": 42,
      "outputs": []
    },
    {
      "cell_type": "code",
      "metadata": {
        "colab": {
          "base_uri": "https://localhost:8080/"
        },
        "id": "osNxCzq2e2PZ",
        "outputId": "525928d9-a7e5-45b2-9e71-82e66d407899"
      },
      "source": [
        "youtube_df = set_data(youtube_df)"
      ],
      "execution_count": 43,
      "outputs": [
        {
          "output_type": "stream",
          "name": "stderr",
          "text": [
            "/usr/local/lib/python3.7/dist-packages/ipykernel_launcher.py:54: SettingWithCopyWarning: \n",
            "A value is trying to be set on a copy of a slice from a DataFrame\n",
            "\n",
            "See the caveats in the documentation: https://pandas.pydata.org/pandas-docs/stable/user_guide/indexing.html#returning-a-view-versus-a-copy\n"
          ]
        }
      ]
    },
    {
      "cell_type": "code",
      "metadata": {
        "id": "8PWceOAyeVJ7"
      },
      "source": [
        "youtube_df.drop(['date','length', 'url', 'date_h','description'], 1, inplace=True)"
      ],
      "execution_count": 44,
      "outputs": []
    },
    {
      "cell_type": "code",
      "metadata": {
        "id": "ILX6Xw_cc879"
      },
      "source": [
        "youtube_df = youtube_df[['st_n', 'st_cd', 'ch_nm', 'date_d', 'title', 'text', 'views']]"
      ],
      "execution_count": 45,
      "outputs": []
    },
    {
      "cell_type": "code",
      "metadata": {
        "id": "YoF9w1H-fpa-"
      },
      "source": [
        "youtube_df.columns = ['st_n', 'st_cd', 'ch_nm', 'date', 'title', 'text', 'views']"
      ],
      "execution_count": 46,
      "outputs": []
    },
    {
      "cell_type": "code",
      "metadata": {
        "colab": {
          "base_uri": "https://localhost:8080/",
          "height": 286
        },
        "id": "UfDlWW1df6NM",
        "outputId": "283c2142-044b-4d6a-cafe-f6253843dbb2"
      },
      "source": [
        "youtube_df.head()"
      ],
      "execution_count": 47,
      "outputs": [
        {
          "output_type": "execute_result",
          "data": {
            "text/html": [
              "<div>\n",
              "<style scoped>\n",
              "    .dataframe tbody tr th:only-of-type {\n",
              "        vertical-align: middle;\n",
              "    }\n",
              "\n",
              "    .dataframe tbody tr th {\n",
              "        vertical-align: top;\n",
              "    }\n",
              "\n",
              "    .dataframe thead th {\n",
              "        text-align: right;\n",
              "    }\n",
              "</style>\n",
              "<table border=\"1\" class=\"dataframe\">\n",
              "  <thead>\n",
              "    <tr style=\"text-align: right;\">\n",
              "      <th></th>\n",
              "      <th>st_n</th>\n",
              "      <th>st_cd</th>\n",
              "      <th>ch_nm</th>\n",
              "      <th>date</th>\n",
              "      <th>title</th>\n",
              "      <th>text</th>\n",
              "      <th>views</th>\n",
              "    </tr>\n",
              "  </thead>\n",
              "  <tbody>\n",
              "    <tr>\n",
              "      <th>1362</th>\n",
              "      <td>삼성전자</td>\n",
              "      <td>5930</td>\n",
              "      <td>한국경제TV</td>\n",
              "      <td>2012-06-26</td>\n",
              "      <td>[마감시황] 삼성전자 `흔들` 코스피도 `휘청`‥1820선 하락마감</td>\n",
              "      <td>매우 늘 증시 마감 상황 정리 해보겠습니다 증권 팀 지수 이 기자나와있습니다네 오늘...</td>\n",
              "      <td>30</td>\n",
              "    </tr>\n",
              "    <tr>\n",
              "      <th>60</th>\n",
              "      <td>하이닉스</td>\n",
              "      <td>660</td>\n",
              "      <td>한국경제TV</td>\n",
              "      <td>2012-07-02</td>\n",
              "      <td>SK하이닉스, M12라인 가동  차세대 메모리 본격 강화</td>\n",
              "      <td>sk 하이닉스가 차세대 메모리 반도체 사업 확장에 본격적으로 돌입했습니다청주에 새로...</td>\n",
              "      <td>154</td>\n",
              "    </tr>\n",
              "    <tr>\n",
              "      <th>2016</th>\n",
              "      <td>LG화학</td>\n",
              "      <td>51910</td>\n",
              "      <td>한국경제TV</td>\n",
              "      <td>2012-07-14</td>\n",
              "      <td>6인의 마감전략   성공투자 오후증시2012년 07월 13일 방송</td>\n",
              "      <td>tweet4 7월 13일 금 일 장 마감 42분 전 이군요 자 6명의 전문가는어떤 ...</td>\n",
              "      <td>115</td>\n",
              "    </tr>\n",
              "    <tr>\n",
              "      <th>1283</th>\n",
              "      <td>삼성전자</td>\n",
              "      <td>5930</td>\n",
              "      <td>한국경제TV</td>\n",
              "      <td>2012-07-30</td>\n",
              "      <td>삼성전자 또 사상최대 실적  2분기 영업이익 6조7천억원</td>\n",
              "      <td>소식입니다 삼성전자가 또다시 사상 최대 실적을 경신했습니다 갤럭시 시리즈의 위력을 ...</td>\n",
              "      <td>36</td>\n",
              "    </tr>\n",
              "    <tr>\n",
              "      <th>1259</th>\n",
              "      <td>삼성전자</td>\n",
              "      <td>5930</td>\n",
              "      <td>한국경제TV</td>\n",
              "      <td>2012-09-13</td>\n",
              "      <td>삼성전자, 반도체 중국생산 시대 연다</td>\n",
              "      <td>삼성전자가 중국 산시성 시안 시에서 낸드플래시 반도체 공장 기공식을열었습니다삼성전자...</td>\n",
              "      <td>164</td>\n",
              "    </tr>\n",
              "  </tbody>\n",
              "</table>\n",
              "</div>"
            ],
            "text/plain": [
              "      st_n  st_cd  ...                                               text views\n",
              "1362  삼성전자   5930  ...  매우 늘 증시 마감 상황 정리 해보겠습니다 증권 팀 지수 이 기자나와있습니다네 오늘...    30\n",
              "60    하이닉스    660  ...  sk 하이닉스가 차세대 메모리 반도체 사업 확장에 본격적으로 돌입했습니다청주에 새로...   154\n",
              "2016  LG화학  51910  ...  tweet4 7월 13일 금 일 장 마감 42분 전 이군요 자 6명의 전문가는어떤 ...   115\n",
              "1283  삼성전자   5930  ...  소식입니다 삼성전자가 또다시 사상 최대 실적을 경신했습니다 갤럭시 시리즈의 위력을 ...    36\n",
              "1259  삼성전자   5930  ...  삼성전자가 중국 산시성 시안 시에서 낸드플래시 반도체 공장 기공식을열었습니다삼성전자...   164\n",
              "\n",
              "[5 rows x 7 columns]"
            ]
          },
          "metadata": {},
          "execution_count": 47
        }
      ]
    },
    {
      "cell_type": "code",
      "metadata": {
        "id": "6M3gHj6sf8PW"
      },
      "source": [
        "youtube_df.to_csv('./youtube_preprocessing.csv', index=False)"
      ],
      "execution_count": 48,
      "outputs": []
    },
    {
      "cell_type": "code",
      "metadata": {
        "id": "s_oYJ48dgkjI"
      },
      "source": [
        ""
      ],
      "execution_count": null,
      "outputs": []
    }
  ]
}